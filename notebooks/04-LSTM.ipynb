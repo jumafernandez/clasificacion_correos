{
  "nbformat": 4,
  "nbformat_minor": 0,
  "metadata": {
    "kernelspec": {
      "display_name": "Python 3",
      "language": "python",
      "name": "python3"
    },
    "language_info": {
      "codemirror_mode": {
        "name": "ipython",
        "version": 3
      },
      "file_extension": ".py",
      "mimetype": "text/x-python",
      "name": "python",
      "nbconvert_exporter": "python",
      "pygments_lexer": "ipython3",
      "version": "3.6.7"
    },
    "colab": {
      "name": "LSTM.ipynb",
      "provenance": [],
      "include_colab_link": true
    }
  },
  "cells": [
    {
      "cell_type": "markdown",
      "metadata": {
        "id": "view-in-github",
        "colab_type": "text"
      },
      "source": [
        "<a href=\"https://colab.research.google.com/github/jumafernandez/clasificacion_correos/blob/main/notebooks/LSTM.ipynb\" target=\"_parent\"><img src=\"https://colab.research.google.com/assets/colab-badge.svg\" alt=\"Open In Colab\"/></a>"
      ]
    },
    {
      "cell_type": "code",
      "metadata": {
        "colab": {
          "base_uri": "https://localhost:8080/",
          "height": 51
        },
        "id": "GGPlleDL5F1A",
        "outputId": "6b1f8428-22c5-46cb-ed95-73dabcef4ea5"
      },
      "source": [
        "import numpy as np \n",
        "import pandas as pd\n",
        "import matplotlib.pyplot as plt\n",
        "import seaborn as sns\n",
        "from keras.preprocessing.text import Tokenizer\n",
        "from keras.preprocessing.sequence import pad_sequences\n",
        "from keras.models import Sequential\n",
        "from keras.layers import Dense, Embedding, LSTM, SpatialDropout1D\n",
        "from sklearn.model_selection import train_test_split\n",
        "from keras.utils.np_utils import to_categorical\n",
        "from keras.callbacks import EarlyStopping\n",
        "from keras.layers import Dropout\n",
        "import re\n",
        "from nltk.corpus import stopwords\n",
        "from nltk import word_tokenize\n",
        "import nltk\n",
        "nltk.download('stopwords')\n",
        "STOPWORDS = set(stopwords.words('spanish'))\n",
        "from bs4 import BeautifulSoup\n",
        "import plotly.graph_objs as go\n",
        "import cufflinks\n",
        "from IPython.core.interactiveshell import InteractiveShell\n",
        "import plotly.figure_factory as ff\n",
        "InteractiveShell.ast_node_interactivity = 'all'\n",
        "from plotly.offline import iplot\n",
        "cufflinks.go_offline()\n",
        "cufflinks.set_config_file(world_readable=True, theme='pearl')"
      ],
      "execution_count": null,
      "outputs": [
        {
          "output_type": "stream",
          "text": [
            "[nltk_data] Downloading package stopwords to /root/nltk_data...\n",
            "[nltk_data]   Package stopwords is already up-to-date!\n"
          ],
          "name": "stdout"
        },
        {
          "output_type": "display_data",
          "data": {
            "text/html": [
              "        <script type=\"text/javascript\">\n",
              "        window.PlotlyConfig = {MathJaxConfig: 'local'};\n",
              "        if (window.MathJax) {MathJax.Hub.Config({SVG: {font: \"STIX-Web\"}});}\n",
              "        if (typeof require !== 'undefined') {\n",
              "        require.undef(\"plotly\");\n",
              "        requirejs.config({\n",
              "            paths: {\n",
              "                'plotly': ['https://cdn.plot.ly/plotly-latest.min']\n",
              "            }\n",
              "        });\n",
              "        require(['plotly'], function(Plotly) {\n",
              "            window._Plotly = Plotly;\n",
              "        });\n",
              "        }\n",
              "        </script>\n",
              "        "
            ]
          },
          "metadata": {
            "tags": []
          }
        }
      ]
    },
    {
      "cell_type": "code",
      "metadata": {
        "colab": {
          "base_uri": "https://localhost:8080/"
        },
        "id": "9W53eKvC61jL",
        "outputId": "00e44b0a-ac26-4a05-85e4-386d998281e6"
      },
      "source": [
        "# Levantamos los datos\r\n",
        "!rm Correos_Seleccionados_y_Etiquetados.csv\r\n",
        "!wget https://raw.githubusercontent.com/jumafernandez/UNLP/master/TFI/data/Correos_Seleccionados_y_Etiquetados.csv\r\n",
        "\r\n",
        "df = pd.read_csv('Correos_Seleccionados_y_Etiquetados.csv', delimiter=\"|\")\r\n",
        "\r\n",
        "# Transformamos todas las Clases minoritarias (Puedo ir variando la cantidad de clases que derivo a la Clase \"Otras Consultas\")\r\n",
        "cantidad_clases=3\r\n",
        "clases = df.Clase.value_counts()\r\n",
        "clases_minoritarias = clases.iloc[cantidad_clases:].keys().to_list()\r\n",
        "df.Clase[df['Clase'].isin(clases_minoritarias)] = \"Otras Consultas\"\r\n",
        "\r\n",
        "df.Clase.value_counts()"
      ],
      "execution_count": null,
      "outputs": [
        {
          "output_type": "stream",
          "text": [
            "--2020-12-13 11:47:36--  https://raw.githubusercontent.com/jumafernandez/UNLP/master/TFI/data/Correos_Seleccionados_y_Etiquetados.csv\n",
            "Resolving raw.githubusercontent.com (raw.githubusercontent.com)... 151.101.0.133, 151.101.64.133, 151.101.128.133, ...\n",
            "Connecting to raw.githubusercontent.com (raw.githubusercontent.com)|151.101.0.133|:443... connected.\n",
            "HTTP request sent, awaiting response... 200 OK\n",
            "Length: 448336 (438K) [text/plain]\n",
            "Saving to: ‘Correos_Seleccionados_y_Etiquetados.csv’\n",
            "\n",
            "Correos_Seleccionad 100%[===================>] 437.83K  --.-KB/s    in 0.02s   \n",
            "\n",
            "2020-12-13 11:47:37 (19.3 MB/s) - ‘Correos_Seleccionados_y_Etiquetados.csv’ saved [448336/448336]\n",
            "\n"
          ],
          "name": "stdout"
        },
        {
          "output_type": "execute_result",
          "data": {
            "text/plain": [
              "Otras Consultas             399\n",
              "Boleto Universitario        240\n",
              "Ingreso a la Universidad    232\n",
              "Requisitos de Ingreso       129\n",
              "Name: Clase, dtype: int64"
            ]
          },
          "metadata": {
            "tags": []
          },
          "execution_count": 5
        }
      ]
    },
    {
      "cell_type": "code",
      "metadata": {
        "scrolled": true,
        "colab": {
          "base_uri": "https://localhost:8080/",
          "height": 340
        },
        "id": "7Cj8FDTg5F1Q",
        "outputId": "9ab842f8-6949-4e5a-d2f1-3c98f3ce1f03"
      },
      "source": [
        "df.head()"
      ],
      "execution_count": null,
      "outputs": [
        {
          "output_type": "execute_result",
          "data": {
            "text/html": [
              "<div>\n",
              "<style scoped>\n",
              "    .dataframe tbody tr th:only-of-type {\n",
              "        vertical-align: middle;\n",
              "    }\n",
              "\n",
              "    .dataframe tbody tr th {\n",
              "        vertical-align: top;\n",
              "    }\n",
              "\n",
              "    .dataframe thead th {\n",
              "        text-align: right;\n",
              "    }\n",
              "</style>\n",
              "<table border=\"1\" class=\"dataframe\">\n",
              "  <thead>\n",
              "    <tr style=\"text-align: right;\">\n",
              "      <th></th>\n",
              "      <th>Fecha</th>\n",
              "      <th>Hora</th>\n",
              "      <th>Apellido y Nombre</th>\n",
              "      <th>Legajo</th>\n",
              "      <th>Documento</th>\n",
              "      <th>Carrera</th>\n",
              "      <th>Teléfono</th>\n",
              "      <th>E-mail</th>\n",
              "      <th>Consulta</th>\n",
              "      <th>Respuesta</th>\n",
              "      <th>Clase</th>\n",
              "    </tr>\n",
              "  </thead>\n",
              "  <tbody>\n",
              "    <tr>\n",
              "      <th>0</th>\n",
              "      <td>08-05-2019</td>\n",
              "      <td>10:49:26</td>\n",
              "      <td>florencia  roland</td>\n",
              "      <td>169336</td>\n",
              "      <td>33829069</td>\n",
              "      <td>licenciatura en enfermeria(52)</td>\n",
              "      <td>1121550750</td>\n",
              "      <td>rolandflorencia@gmail.com</td>\n",
              "      <td>hola quiero anotarme a las materias ,para el s...</td>\n",
              "      <td>te falta presentar alguna de las vacunas   sal...</td>\n",
              "      <td>Otras Consultas</td>\n",
              "    </tr>\n",
              "    <tr>\n",
              "      <th>1</th>\n",
              "      <td>08-08-2017</td>\n",
              "      <td>12:29:59</td>\n",
              "      <td>lourdes vanesa gómez</td>\n",
              "      <td>150786</td>\n",
              "      <td>33220121</td>\n",
              "      <td>licenciatura en enfermeria(52)</td>\n",
              "      <td>1131066251</td>\n",
              "      <td>vane_male@outlook.com</td>\n",
              "      <td>hola buenos días! quería saber cuando voy a po...</td>\n",
              "      <td>lo que falta es que la coordinación autorice l...</td>\n",
              "      <td>Otras Consultas</td>\n",
              "    </tr>\n",
              "    <tr>\n",
              "      <th>2</th>\n",
              "      <td>05-31-2017</td>\n",
              "      <td>01:30:49</td>\n",
              "      <td>karg solange</td>\n",
              "      <td>156535</td>\n",
              "      <td>43455018</td>\n",
              "      <td>contador publico(54)</td>\n",
              "      <td>NaN</td>\n",
              "      <td>solangekarg8@gmail.com</td>\n",
              "      <td>hola quisiera saber si en la consulta de situa...</td>\n",
              "      <td>no, las notas de parciales no aparecen en tu s...</td>\n",
              "      <td>Otras Consultas</td>\n",
              "    </tr>\n",
              "    <tr>\n",
              "      <th>3</th>\n",
              "      <td>02-05-2018</td>\n",
              "      <td>22:58:24</td>\n",
              "      <td>topa maria luz</td>\n",
              "      <td>155395</td>\n",
              "      <td>38859638</td>\n",
              "      <td>licenciatura en trabajo social(5)</td>\n",
              "      <td>1566431259</td>\n",
              "      <td>luztopa@hotmail.com</td>\n",
              "      <td>buenas noches. en mi situacion academica apare...</td>\n",
              "      <td>es que tenes que mirar por la opción finales l...</td>\n",
              "      <td>Otras Consultas</td>\n",
              "    </tr>\n",
              "    <tr>\n",
              "      <th>4</th>\n",
              "      <td>08-06-2016</td>\n",
              "      <td>13:16:16</td>\n",
              "      <td>yanet elizabeth marquez</td>\n",
              "      <td>115623</td>\n",
              "      <td>35756071</td>\n",
              "      <td>contador publico(54)</td>\n",
              "      <td>44556937</td>\n",
              "      <td>yanet868@hotmail.com</td>\n",
              "      <td>hola,  quisiera obtener mi promedio o saber co...</td>\n",
              "      <td>lo calculas sumando las calificaciones de la o...</td>\n",
              "      <td>Otras Consultas</td>\n",
              "    </tr>\n",
              "  </tbody>\n",
              "</table>\n",
              "</div>"
            ],
            "text/plain": [
              "        Fecha  ...            Clase\n",
              "0  08-05-2019  ...  Otras Consultas\n",
              "1  08-08-2017  ...  Otras Consultas\n",
              "2  05-31-2017  ...  Otras Consultas\n",
              "3  02-05-2018  ...  Otras Consultas\n",
              "4  08-06-2016  ...  Otras Consultas\n",
              "\n",
              "[5 rows x 11 columns]"
            ]
          },
          "metadata": {
            "tags": []
          },
          "execution_count": 6
        }
      ]
    },
    {
      "cell_type": "code",
      "metadata": {
        "colab": {
          "base_uri": "https://localhost:8080/"
        },
        "id": "YUbLn4r55F1R",
        "outputId": "6e92c8d6-b0b9-4b08-fd63-c78db33a2a07"
      },
      "source": [
        "df.info()"
      ],
      "execution_count": null,
      "outputs": [
        {
          "output_type": "stream",
          "text": [
            "<class 'pandas.core.frame.DataFrame'>\n",
            "RangeIndex: 1000 entries, 0 to 999\n",
            "Data columns (total 11 columns):\n",
            " #   Column             Non-Null Count  Dtype \n",
            "---  ------             --------------  ----- \n",
            " 0   Fecha              1000 non-null   object\n",
            " 1   Hora               1000 non-null   object\n",
            " 2   Apellido y Nombre  1000 non-null   object\n",
            " 3   Legajo             691 non-null    object\n",
            " 4   Documento          1000 non-null   int64 \n",
            " 5   Carrera            1000 non-null   object\n",
            " 6   Teléfono           851 non-null    object\n",
            " 7   E-mail             1000 non-null   object\n",
            " 8   Consulta           1000 non-null   object\n",
            " 9   Respuesta          1000 non-null   object\n",
            " 10  Clase              1000 non-null   object\n",
            "dtypes: int64(1), object(10)\n",
            "memory usage: 86.1+ KB\n"
          ],
          "name": "stdout"
        }
      ]
    },
    {
      "cell_type": "code",
      "metadata": {
        "id": "OPziagc_5F1Y"
      },
      "source": [
        "#df = df.reset_index(drop=True)\n",
        "REPLACE_BY_SPACE_RE = re.compile('[/(){}\\[\\]\\|@,;]')\n",
        "BAD_SYMBOLS_RE = re.compile('[^0-9a-z #+_]')\n",
        "STOPWORDS = set(stopwords.words('spanish'))\n",
        "\n",
        "def clean_text(text):\n",
        "    \"\"\"\n",
        "        text: a string\n",
        "        \n",
        "        return: modified initial string\n",
        "    \"\"\"\n",
        "    text = text.lower() # lowercase text\n",
        "    text = REPLACE_BY_SPACE_RE.sub(' ', text) # replace REPLACE_BY_SPACE_RE symbols by space in text. substitute the matched string in REPLACE_BY_SPACE_RE with space.\n",
        "    text = BAD_SYMBOLS_RE.sub('', text) # remove symbols which are in BAD_SYMBOLS_RE from text. substitute the matched string in BAD_SYMBOLS_RE with nothing. \n",
        "    text = text.replace('x', '')\n",
        "#    text = re.sub(r'\\W+', '', text)\n",
        "    text = ' '.join(word for word in text.split() if word not in STOPWORDS) # remove stopwors from text\n",
        "    return text\n",
        "df['Consulta'] = df['Consulta'].apply(clean_text)"
      ],
      "execution_count": null,
      "outputs": []
    },
    {
      "cell_type": "code",
      "metadata": {
        "id": "rwv_jm_B5F1Z"
      },
      "source": [
        "df['Consulta'] = df['Consulta'].str.replace('\\d+', '')"
      ],
      "execution_count": null,
      "outputs": []
    },
    {
      "cell_type": "code",
      "metadata": {
        "colab": {
          "base_uri": "https://localhost:8080/"
        },
        "id": "2z9QaQmQ5F1a",
        "outputId": "3331afb2-fdd9-4c9d-c84c-ef0ffd8a2d1f"
      },
      "source": [
        "# The maximum number of words to be used. (most frequent)\n",
        "MAX_NB_WORDS = 50000\n",
        "# Max number of words in each complaint.\n",
        "MAX_SEQUENCE_LENGTH = 250\n",
        "# This is fixed.\n",
        "EMBEDDING_DIM = 100\n",
        "\n",
        "tokenizer = Tokenizer(num_words=MAX_NB_WORDS, filters='!\"#$%&()*+,-./:;<=>?@[\\]^_`{|}~', lower=True)\n",
        "tokenizer.fit_on_texts(df['Consulta'].values)\n",
        "word_index = tokenizer.word_index\n",
        "print('Found %s unique tokens.' % len(word_index))"
      ],
      "execution_count": null,
      "outputs": [
        {
          "output_type": "stream",
          "text": [
            "Found 2495 unique tokens.\n"
          ],
          "name": "stdout"
        }
      ]
    },
    {
      "cell_type": "code",
      "metadata": {
        "colab": {
          "base_uri": "https://localhost:8080/"
        },
        "id": "M9092c0o5F1b",
        "outputId": "a98662bc-5b38-433a-d0a6-ac24a9250423"
      },
      "source": [
        "X = tokenizer.texts_to_sequences(df['Consulta'].values)\n",
        "X = pad_sequences(X, maxlen=MAX_SEQUENCE_LENGTH)\n",
        "print('Shape of data tensor:', X.shape)"
      ],
      "execution_count": null,
      "outputs": [
        {
          "output_type": "stream",
          "text": [
            "Shape of data tensor: (1000, 250)\n"
          ],
          "name": "stdout"
        }
      ]
    },
    {
      "cell_type": "code",
      "metadata": {
        "colab": {
          "base_uri": "https://localhost:8080/"
        },
        "id": "l78DpVH-5F1b",
        "outputId": "18fc2b3a-8e9f-4c22-b06a-098cef3db0b7"
      },
      "source": [
        "Y = pd.get_dummies(df['Clase']).values\n",
        "print('Shape of label tensor:', Y.shape)"
      ],
      "execution_count": null,
      "outputs": [
        {
          "output_type": "stream",
          "text": [
            "Shape of label tensor: (1000, 4)\n"
          ],
          "name": "stdout"
        }
      ]
    },
    {
      "cell_type": "code",
      "metadata": {
        "colab": {
          "base_uri": "https://localhost:8080/"
        },
        "id": "SPI6Zs405F1c",
        "outputId": "913f0094-11e9-4cc6-bdaa-fba36b540718"
      },
      "source": [
        "X_train, X_test, Y_train, Y_test = train_test_split(X,Y, test_size = 0.10, random_state = 42)\n",
        "print(X_train.shape,Y_train.shape)\n",
        "print(X_test.shape,Y_test.shape)"
      ],
      "execution_count": null,
      "outputs": [
        {
          "output_type": "stream",
          "text": [
            "(900, 250) (900, 4)\n",
            "(100, 250) (100, 4)\n"
          ],
          "name": "stdout"
        }
      ]
    },
    {
      "cell_type": "code",
      "metadata": {
        "colab": {
          "base_uri": "https://localhost:8080/"
        },
        "id": "Qpto581y5F1c",
        "outputId": "efb33e73-7945-4188-8a32-db10ed06ae15"
      },
      "source": [
        "model = Sequential()\n",
        "model.add(Embedding(MAX_NB_WORDS, EMBEDDING_DIM, input_length=X.shape[1]))\n",
        "model.add(SpatialDropout1D(0.2))\n",
        "model.add(LSTM(100, dropout=0.2, recurrent_dropout=0.2))\n",
        "model.add(Dense(4, activation='softmax'))\n",
        "model.compile(loss='categorical_crossentropy', optimizer='adam', metrics=['accuracy'])\n",
        "print(model.summary())"
      ],
      "execution_count": null,
      "outputs": [
        {
          "output_type": "stream",
          "text": [
            "Model: \"sequential_1\"\n",
            "_________________________________________________________________\n",
            "Layer (type)                 Output Shape              Param #   \n",
            "=================================================================\n",
            "embedding_1 (Embedding)      (None, 250, 100)          5000000   \n",
            "_________________________________________________________________\n",
            "spatial_dropout1d_1 (Spatial (None, 250, 100)          0         \n",
            "_________________________________________________________________\n",
            "lstm_1 (LSTM)                (None, 100)               80400     \n",
            "_________________________________________________________________\n",
            "dense_1 (Dense)              (None, 4)                 404       \n",
            "=================================================================\n",
            "Total params: 5,080,804\n",
            "Trainable params: 5,080,804\n",
            "Non-trainable params: 0\n",
            "_________________________________________________________________\n",
            "None\n"
          ],
          "name": "stdout"
        }
      ]
    },
    {
      "cell_type": "code",
      "metadata": {
        "colab": {
          "base_uri": "https://localhost:8080/"
        },
        "id": "OZ_x366-5F1c",
        "outputId": "b5da0378-7c69-4c68-eb65-4b1b46aa0b90"
      },
      "source": [
        "epochs = 5\n",
        "batch_size = 64\n",
        "\n",
        "history = model.fit(X_train, Y_train, epochs=epochs, batch_size=batch_size,validation_split=0.1,callbacks=[EarlyStopping(monitor='val_loss', patience=3, min_delta=0.0001)])"
      ],
      "execution_count": null,
      "outputs": [
        {
          "output_type": "stream",
          "text": [
            "Epoch 1/5\n",
            "13/13 [==============================] - 7s 569ms/step - loss: 1.3464 - accuracy: 0.3914 - val_loss: 1.3089 - val_accuracy: 0.3444\n",
            "Epoch 2/5\n",
            "13/13 [==============================] - 7s 533ms/step - loss: 1.2636 - accuracy: 0.4704 - val_loss: 1.2482 - val_accuracy: 0.4111\n",
            "Epoch 3/5\n",
            "13/13 [==============================] - 7s 529ms/step - loss: 1.0785 - accuracy: 0.5556 - val_loss: 1.0486 - val_accuracy: 0.5889\n",
            "Epoch 4/5\n",
            "13/13 [==============================] - 7s 544ms/step - loss: 0.7821 - accuracy: 0.7333 - val_loss: 0.8781 - val_accuracy: 0.5556\n",
            "Epoch 5/5\n",
            "13/13 [==============================] - 7s 537ms/step - loss: 0.5902 - accuracy: 0.7642 - val_loss: 0.7701 - val_accuracy: 0.7111\n"
          ],
          "name": "stdout"
        }
      ]
    },
    {
      "cell_type": "code",
      "metadata": {
        "colab": {
          "base_uri": "https://localhost:8080/"
        },
        "id": "3as7l99j5F1d",
        "outputId": "97a9fab9-1d84-4957-a1b7-c34f2fdebaf5"
      },
      "source": [
        "accr = model.evaluate(X_test,Y_test)\n",
        "print('Test set\\n  Loss: {:0.3f}\\n  Accuracy: {:0.3f}'.format(accr[0],accr[1]))"
      ],
      "execution_count": null,
      "outputs": [
        {
          "output_type": "stream",
          "text": [
            "4/4 [==============================] - 0s 29ms/step - loss: 0.7830 - accuracy: 0.6600\n",
            "Test set\n",
            "  Loss: 0.783\n",
            "  Accuracy: 0.660\n"
          ],
          "name": "stdout"
        }
      ]
    },
    {
      "cell_type": "code",
      "metadata": {
        "colab": {
          "base_uri": "https://localhost:8080/",
          "height": 281
        },
        "id": "VjBftcJ75F1d",
        "outputId": "a94a3f0e-d2de-465b-91a3-23de6037d93f"
      },
      "source": [
        "plt.title('Loss')\n",
        "plt.plot(history.history['loss'], label='train')\n",
        "plt.plot(history.history['val_loss'], label='test')\n",
        "plt.legend()\n",
        "plt.show();"
      ],
      "execution_count": null,
      "outputs": [
        {
          "output_type": "display_data",
          "data": {
            "image/png": "[encoded data removed]",
            "text/plain": [
              "<Figure size 432x288 with 1 Axes>"
            ]
          },
          "metadata": {
            "tags": [],
            "needs_background": "light"
          }
        }
      ]
    },
    {
      "cell_type": "code",
      "metadata": {
        "colab": {
          "base_uri": "https://localhost:8080/",
          "height": 281
        },
        "id": "uxyxihfZ5F1d",
        "outputId": "d60c7b2e-0146-48dd-bd00-870a1638085e"
      },
      "source": [
        "plt.title('Accuracy')\n",
        "plt.plot(history.history['accuracy'], label='train')\n",
        "plt.plot(history.history['val_accuracy'], label='test')\n",
        "plt.legend()\n",
        "plt.show();"
      ],
      "execution_count": null,
      "outputs": [
        {
          "output_type": "display_data",
          "data": {
            "image/png": "[encoded data removed]",
            "text/plain": [
              "<Figure size 432x288 with 1 Axes>"
            ]
          },
          "metadata": {
            "tags": [],
            "needs_background": "light"
          }
        }
      ]
    },
    {
      "cell_type": "markdown",
      "metadata": {
        "id": "PwKEFLhV5F1e"
      },
      "source": [
        "Clasifico un nuevo correo:"
      ]
    },
    {
      "cell_type": "code",
      "metadata": {
        "id": "MyDcbwQ55F1e"
      },
      "source": [
        "#new_complaint = ['Texto del nuevo correo electrónico']\n",
        "#seq = tokenizer.texts_to_sequences(new_complaint)\n",
        "#padded = pad_sequences(seq, maxlen=MAX_SEQUENCE_LENGTH)\n",
        "#pred = model.predict(padded)\n",
        "#labels = ['Clase1', 'Clase2', 'ClaseN']\n",
        "#print(pred, labels[np.argmax(pred)])"
      ],
      "execution_count": null,
      "outputs": []
    }
  ]
}