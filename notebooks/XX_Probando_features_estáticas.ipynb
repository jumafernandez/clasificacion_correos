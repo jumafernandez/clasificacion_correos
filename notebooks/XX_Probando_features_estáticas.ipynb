{
  "nbformat": 4,
  "nbformat_minor": 0,
  "metadata": {
    "colab": {
      "name": "XX-Probando features estáticas.ipynb",
      "provenance": [],
      "include_colab_link": true
    },
    "kernelspec": {
      "name": "python3",
      "display_name": "Python 3"
    }
  },
  "cells": [
    {
      "cell_type": "markdown",
      "metadata": {
        "id": "view-in-github",
        "colab_type": "text"
      },
      "source": [
        "<a href=\"https://colab.research.google.com/github/jumafernandez/clasificacion_correos/blob/main/notebooks/XX_Probando_features_est%C3%A1ticas.ipynb\" target=\"_parent\"><img src=\"https://colab.research.google.com/assets/colab-badge.svg\" alt=\"Open In Colab\"/></a>"
      ]
    },
    {
      "cell_type": "markdown",
      "metadata": {
        "id": "5DuUrVBgeUso"
      },
      "source": [
        "# Experimentos TFI-UNLP\n",
        "\n",
        "En esta notebook vamos a trabajar con experimentos para el TFI de la Especialización en Inteligencia de Datos con Orientación en Big Data de la Universidad Nacional de La Plata.\n",
        "\n",
        "Para ello vamos a preprocesar los correos y aplicar tres modelos:\n",
        "- Bayes,\n",
        "- Máquina Vector-Soporte,\n",
        "- Regresión Logística,\n",
        "- Árboles de clasificación (bonus track).\n",
        "\n",
        "Incorporamos el archivo al Collab:"
      ]
    },
    {
      "cell_type": "code",
      "metadata": {
        "id": "oQvZz035bSMf"
      },
      "source": [
        "# Descargo el archivo con las consultas que está en Github\n",
        "from os import path\n",
        "\n",
        "# En caso que no esté el archivo en Colab lo traigo\n",
        "if not(path.exists('03-Correos_variables_estaticas.csv')):\n",
        "  !wget https://raw.githubusercontent.com/jumafernandez/clasificacion_correos/main/data/03-Correos_variables_estaticas.csv"
      ],
      "execution_count": 22,
      "outputs": []
    },
    {
      "cell_type": "code",
      "metadata": {
        "id": "QB-MMYgBfpEA",
        "colab": {
          "base_uri": "https://localhost:8080/"
        },
        "outputId": "5b3f347c-3532-42f8-bb78-f3aa8c922502"
      },
      "source": [
        "# Leo el archivo en un dataframe\n",
        "import pandas as pd\n",
        "\n",
        "df = pd.read_csv('03-Correos_variables_estaticas.csv', delimiter=\"|\")\n",
        "df.info()"
      ],
      "execution_count": 23,
      "outputs": [
        {
          "output_type": "stream",
          "text": [
            "<class 'pandas.core.frame.DataFrame'>\n",
            "RangeIndex: 1000 entries, 0 to 999\n",
            "Data columns (total 24 columns):\n",
            " #   Column                         Non-Null Count  Dtype  \n",
            "---  ------                         --------------  -----  \n",
            " 0   Consulta                       1000 non-null   object \n",
            " 1   dia_semana                     1000 non-null   int64  \n",
            " 2   semana_del_mes                 1000 non-null   int64  \n",
            " 3   mes                            1000 non-null   int64  \n",
            " 4   cuatrimestre                   1000 non-null   int64  \n",
            " 5   anio                           1000 non-null   int64  \n",
            " 6   hora_discretizada              1000 non-null   int64  \n",
            " 7   dni_discretizado               1000 non-null   int64  \n",
            " 8   legajo_discretizado            1000 non-null   int64  \n",
            " 9   posee_legajo                   1000 non-null   int64  \n",
            " 10  posee_telefono                 1000 non-null   int64  \n",
            " 11  carrera_valor                  1000 non-null   int64  \n",
            " 12  proveedor_correo               1000 non-null   object \n",
            " 13  Clase                          1000 non-null   object \n",
            " 14  cantidad_caracteres            1000 non-null   int64  \n",
            " 15  proporcion_mayusculas          1000 non-null   float64\n",
            " 16  proporcion_letras              1000 non-null   float64\n",
            " 17  cantidad_tildes                1000 non-null   int64  \n",
            " 18  cantidad_palabras              1000 non-null   int64  \n",
            " 19  cantidad_palabras_cortas       1000 non-null   int64  \n",
            " 20  proporcion_palabras_distintas  1000 non-null   float64\n",
            " 21  frecuencia_signos_puntuacion   1000 non-null   float64\n",
            " 22  cantidad_oraciones             1000 non-null   int64  \n",
            " 23  utiliza_codigo_asignatura      1000 non-null   int64  \n",
            "dtypes: float64(4), int64(17), object(3)\n",
            "memory usage: 187.6+ KB\n"
          ],
          "name": "stdout"
        }
      ]
    },
    {
      "cell_type": "code",
      "metadata": {
        "id": "LCRgoWIVgb_Q",
        "colab": {
          "base_uri": "https://localhost:8080/"
        },
        "outputId": "108dd507-ec43-4914-9369-4bad371533ad"
      },
      "source": [
        "# Vemos la cantidad de Instancias por clase\n",
        "df.Clase.value_counts()"
      ],
      "execution_count": 24,
      "outputs": [
        {
          "output_type": "execute_result",
          "data": {
            "text/plain": [
              "Boleto Universitario                   240\n",
              "Ingreso a la Universidad               232\n",
              "Requisitos de Ingreso                  129\n",
              "Pedido de Certificados                  69\n",
              "Inscripción a Cursadas                  64\n",
              "Problemas con la Clave                  51\n",
              "Reincorporación                         47\n",
              "Cursadas                                23\n",
              "Exámenes                                19\n",
              "Carga de Notas                          17\n",
              "Consulta por Legajo                     16\n",
              "Consulta por Equivalencias              14\n",
              "Cambio de Carrera                       14\n",
              "Situación Académica                     12\n",
              "Cambio de Comisión                      11\n",
              "Vacunas Enfermería                      10\n",
              "Consulta sobre Título Universitario     10\n",
              "Datos Personales                        10\n",
              "Certificados Web                         6\n",
              "Simultaneidad de Carreras                6\n",
              "Name: Clase, dtype: int64"
            ]
          },
          "metadata": {
            "tags": []
          },
          "execution_count": 24
        }
      ]
    },
    {
      "cell_type": "code",
      "metadata": {
        "id": "5uf7Jdkagudf",
        "colab": {
          "base_uri": "https://localhost:8080/"
        },
        "outputId": "77917b79-91e4-4c4e-cffc-97696daf7589"
      },
      "source": [
        "# Transformamos todas las Clases minoritarias (Puedo ir variando la cantidad de clases que derivo a la Clase \"Otras Consultas\")\n",
        "cantidad_clases=3\n",
        "\n",
        "clases = df.Clase.value_counts()\n",
        "clases_minoritarias = clases.iloc[cantidad_clases:].keys().to_list()\n",
        "\n",
        "df.Clase[df['Clase'].isin(clases_minoritarias)] = \"Otras Consultas\"\n",
        "\n",
        "df.Clase.value_counts()"
      ],
      "execution_count": 25,
      "outputs": [
        {
          "output_type": "stream",
          "text": [
            "/usr/local/lib/python3.6/dist-packages/ipykernel_launcher.py:7: SettingWithCopyWarning: \n",
            "A value is trying to be set on a copy of a slice from a DataFrame\n",
            "\n",
            "See the caveats in the documentation: https://pandas.pydata.org/pandas-docs/stable/user_guide/indexing.html#returning-a-view-versus-a-copy\n",
            "  import sys\n"
          ],
          "name": "stderr"
        },
        {
          "output_type": "execute_result",
          "data": {
            "text/plain": [
              "Otras Consultas             399\n",
              "Boleto Universitario        240\n",
              "Ingreso a la Universidad    232\n",
              "Requisitos de Ingreso       129\n",
              "Name: Clase, dtype: int64"
            ]
          },
          "metadata": {
            "tags": []
          },
          "execution_count": 25
        }
      ]
    },
    {
      "cell_type": "code",
      "metadata": {
        "id": "XOIMX-UP13Gi"
      },
      "source": [
        "df.drop(columns=['Consulta'], inplace=True)"
      ],
      "execution_count": 26,
      "outputs": []
    },
    {
      "cell_type": "code",
      "metadata": {
        "id": "EMQlwGgdL_-p"
      },
      "source": [
        "# Separo en features y clase los atributos del DataFrame\n",
        "\n",
        "# Numerizo los proveedores de correo\n",
        "le_correo = preprocessing.LabelEncoder()\n",
        "df['proveedor_correo'] = le_correo.fit_transform(df['proveedor_correo'])\n",
        "\n",
        "# Features\n",
        "feature_names = list(df.columns)\n",
        "# Elimino type porque es la clase\n",
        "feature_names.remove('Clase')\n",
        "x = df[feature_names]\n",
        "\n",
        "# Class\n",
        "from sklearn import preprocessing\n",
        "le = preprocessing.LabelEncoder()\n",
        "y=le.fit_transform(df['Clase'])\n",
        "target_names=le.classes_"
      ],
      "execution_count": 27,
      "outputs": []
    },
    {
      "cell_type": "code",
      "metadata": {
        "id": "F7IG6gK9Ogeo"
      },
      "source": [
        "# Separo datos de entrenamiento y testing\n",
        "\n",
        "from sklearn.model_selection import train_test_split\n",
        "\n",
        "# Separo en 70-30 entrenamiento y testeo\n",
        "x_train, x_test, y_train, y_test = train_test_split(x, y, random_state=0, test_size=0.3)\n"
      ],
      "execution_count": 28,
      "outputs": []
    },
    {
      "cell_type": "markdown",
      "metadata": {
        "id": "QlIDkURiS7dg"
      },
      "source": [
        "## Naive Bayes\n",
        "\n",
        "Aquí probamos con Naive Bayes (Usamos ComplementNB que posee optimizaciones para datasets desbalanceados):"
      ]
    },
    {
      "cell_type": "code",
      "metadata": {
        "id": "n3qe6efhOX77"
      },
      "source": [
        "from sklearn.naive_bayes import GaussianNB, MultinomialNB, ComplementNB\n",
        "\n",
        "modelo_bayes = ComplementNB()\n",
        "\n",
        "modelo_bayes.fit(x_train, y_train)\n",
        "\n",
        "# Realizo la predicción de y con el x_test\n",
        "y_pred = modelo_bayes.predict(x_test)"
      ],
      "execution_count": 29,
      "outputs": []
    },
    {
      "cell_type": "code",
      "metadata": {
        "id": "PydThvluPBKT",
        "colab": {
          "base_uri": "https://localhost:8080/"
        },
        "outputId": "8017fe99-8512-4325-ff4b-b4d710e7e098"
      },
      "source": [
        "from sklearn import metrics\n",
        "\n",
        "print(\"Accuracy:\",metrics.accuracy_score(y_test, y_pred))"
      ],
      "execution_count": 30,
      "outputs": [
        {
          "output_type": "stream",
          "text": [
            "Accuracy: 0.3333333333333333\n"
          ],
          "name": "stdout"
        }
      ]
    },
    {
      "cell_type": "markdown",
      "metadata": {
        "id": "KZxl9KRmTXLS"
      },
      "source": [
        "## Máquina Vector-Soporte (SVM):\n",
        "\n",
        "Ahora corremos el segundo modelo:"
      ]
    },
    {
      "cell_type": "code",
      "metadata": {
        "id": "TuWE8b30Tr3E",
        "colab": {
          "base_uri": "https://localhost:8080/"
        },
        "outputId": "02855a24-3278-4028-eaa8-ff6371c187ac"
      },
      "source": [
        "from sklearn.svm import LinearSVC\n",
        "\n",
        "modelo_svc = LinearSVC(max_iter=1000000)\n",
        "modelo_svc.fit(x_train, y_train)\n",
        "\n",
        "# Realizo la predicción de y con el x_test\n",
        "y_pred = modelo_svc.predict(x_test)"
      ],
      "execution_count": 43,
      "outputs": [
        {
          "output_type": "stream",
          "text": [
            "/usr/local/lib/python3.6/dist-packages/sklearn/svm/_base.py:947: ConvergenceWarning: Liblinear failed to converge, increase the number of iterations.\n",
            "  \"the number of iterations.\", ConvergenceWarning)\n"
          ],
          "name": "stderr"
        }
      ]
    },
    {
      "cell_type": "code",
      "metadata": {
        "id": "FbKgBrp-TRvc",
        "colab": {
          "base_uri": "https://localhost:8080/"
        },
        "outputId": "f8157c21-665e-4c80-c702-5e19c83ea298"
      },
      "source": [
        "print(\"Accuracy:\",metrics.accuracy_score(y_test, y_pred))"
      ],
      "execution_count": 44,
      "outputs": [
        {
          "output_type": "stream",
          "text": [
            "Accuracy: 0.5066666666666667\n"
          ],
          "name": "stdout"
        }
      ]
    },
    {
      "cell_type": "markdown",
      "metadata": {
        "id": "17obw6uxVN21"
      },
      "source": [
        "## Regresión Logística\n",
        "\n",
        "Aquí corremos el tercer modelo:"
      ]
    },
    {
      "cell_type": "code",
      "metadata": {
        "id": "QDn39lMqVQhx"
      },
      "source": [
        "from sklearn.linear_model import LogisticRegression\n",
        "from sklearn import metrics\n",
        "\n",
        "modelo_regresion = LogisticRegression(max_iter=10000)\n",
        "modelo_regresion.fit(x_train, y_train)\n",
        "\n",
        "# Realizo la predicción de y con el x_test\n",
        "y_pred = modelo_regresion.predict(x_test)"
      ],
      "execution_count": 47,
      "outputs": []
    },
    {
      "cell_type": "code",
      "metadata": {
        "id": "PvmCshboVf2j",
        "colab": {
          "base_uri": "https://localhost:8080/"
        },
        "outputId": "0da9ef48-f701-44e4-eb56-b7771465dc5c"
      },
      "source": [
        "print(\"Accuracy:\",metrics.accuracy_score(y_test, y_pred))"
      ],
      "execution_count": 48,
      "outputs": [
        {
          "output_type": "stream",
          "text": [
            "Accuracy: 0.56\n"
          ],
          "name": "stdout"
        }
      ]
    },
    {
      "cell_type": "code",
      "metadata": {
        "id": "ZvUR3644nPLk",
        "colab": {
          "base_uri": "https://localhost:8080/",
          "height": 408
        },
        "outputId": "796bb771-397a-47fd-cbf3-e278b4b1ba66"
      },
      "source": [
        "from sklearn.metrics import confusion_matrix\n",
        "import matplotlib.pyplot as plt\n",
        "import seaborn as sns; sns.set()\n",
        "\n",
        "mat = confusion_matrix(y_test, y_pred)\n",
        "sns.heatmap(mat.T, square=True, annot=True, fmt='d', cbar=False,\n",
        "            xticklabels=target_names, yticklabels=target_names)\n",
        "plt.xlabel('etiqueta verdadera')\n",
        "plt.ylabel('etiqueta predicha');"
      ],
      "execution_count": 35,
      "outputs": [
        {
          "output_type": "display_data",
          "data": {
            "image/png": "[encoded data removed]",
            "text/plain": [
              "<Figure size 432x288 with 1 Axes>"
            ]
          },
          "metadata": {
            "tags": []
          }
        }
      ]
    },
    {
      "cell_type": "markdown",
      "metadata": {
        "id": "m12vL5BG87op"
      },
      "source": [
        "## Árboles de clasificación (Bonus track)"
      ]
    },
    {
      "cell_type": "code",
      "metadata": {
        "id": "nfGXEX8q83QV",
        "colab": {
          "base_uri": "https://localhost:8080/",
          "height": 953
        },
        "outputId": "9341185e-5063-49a1-e335-f79a159a7fb4"
      },
      "source": [
        "from sklearn import tree\n",
        "\n",
        "arbol = tree.DecisionTreeClassifier(criterion='entropy',  max_depth=5, min_samples_leaf=30)\n",
        "\n",
        "arbol = arbol.fit(x_train, y_train)\n",
        "\n",
        "#Importamos la librería\n",
        "import graphviz\n",
        "\n",
        "plt.figure(figsize=(16,8))\n",
        "\n",
        "dot_data = tree.export_graphviz(arbol, out_file=None,\n",
        "                                feature_names=feature_names,\n",
        "                                class_names=target_names,\n",
        "                                label='all',\n",
        "                                filled=True, rounded=True,\n",
        "                                special_characters=True)\n",
        "\n",
        "# Capturo el source\n",
        "graph = graphviz.Source(dot_data)\n",
        "\n",
        "# Muestro el contenido de graph\n",
        "graph"
      ],
      "execution_count": 36,
      "outputs": [
        {
          "output_type": "execute_result",
          "data": {
            "text/plain": [
              "<graphviz.files.Source at 0x7f843eea3ba8>"
            ],
            "image/svg+xml": "<?xml version=\"1.0\" encoding=\"UTF-8\" standalone=\"no\"?>\n<!DOCTYPE svg PUBLIC \"-//W3C//DTD SVG 1.1//EN\"\n \"http://www.w3.org/Graphics/SVG/1.1/DTD/svg11.dtd\">\n<!-- Generated by graphviz version 2.40.1 (20161225.0304)\n -->\n<!-- Title: Tree Pages: 1 -->\n<svg width=\"2112pt\" height=\"671pt\"\n viewBox=\"0.00 0.00 2112.00 671.00\" xmlns=\"http://www.w3.org/2000/svg\" xmlns:xlink=\"http://www.w3.org/1999/xlink\">\n<g id=\"graph0\" class=\"graph\" transform=\"scale(1 1) rotate(0) translate(4 667)\">\n<title>Tree</title>\n<polygon fill=\"#ffffff\" stroke=\"transparent\" points=\"-4,4 -4,-667 2108,-667 2108,4 -4,4\"/>\n<!-- 0 -->\n<g id=\"node1\" class=\"node\">\n<title>0</title>\n<path fill=\"#d9ecfa\" stroke=\"#000000\" d=\"M1336,-663C1336,-663 1163,-663 1163,-663 1157,-663 1151,-657 1151,-651 1151,-651 1151,-592 1151,-592 1151,-586 1157,-580 1163,-580 1163,-580 1336,-580 1336,-580 1342,-580 1348,-586 1348,-592 1348,-592 1348,-651 1348,-651 1348,-657 1342,-663 1336,-663\"/>\n<text text-anchor=\"start\" x=\"1169\" y=\"-647.8\" font-family=\"Helvetica,sans-Serif\" font-size=\"14.00\" fill=\"#000000\">legajo_discretizado ≤ 0.5</text>\n<text text-anchor=\"start\" x=\"1198.5\" y=\"-632.8\" font-family=\"Helvetica,sans-Serif\" font-size=\"14.00\" fill=\"#000000\">entropy = 1.914</text>\n<text text-anchor=\"start\" x=\"1201.5\" y=\"-617.8\" font-family=\"Helvetica,sans-Serif\" font-size=\"14.00\" fill=\"#000000\">samples = 700</text>\n<text text-anchor=\"start\" x=\"1159\" y=\"-602.8\" font-family=\"Helvetica,sans-Serif\" font-size=\"14.00\" fill=\"#000000\">value = [169, 161, 270, 100]</text>\n<text text-anchor=\"start\" x=\"1172.5\" y=\"-587.8\" font-family=\"Helvetica,sans-Serif\" font-size=\"14.00\" fill=\"#000000\">class = Otras Consultas</text>\n</g>\n<!-- 1 -->\n<g id=\"node2\" class=\"node\">\n<title>1</title>\n<path fill=\"#c9f7c4\" stroke=\"#000000\" d=\"M1133,-544C1133,-544 934,-544 934,-544 928,-544 922,-538 922,-532 922,-532 922,-473 922,-473 922,-467 928,-461 934,-461 934,-461 1133,-461 1133,-461 1139,-461 1145,-467 1145,-473 1145,-473 1145,-532 1145,-532 1145,-538 1139,-544 1133,-544\"/>\n<text text-anchor=\"start\" x=\"989.5\" y=\"-528.8\" font-family=\"Helvetica,sans-Serif\" font-size=\"14.00\" fill=\"#000000\">anio ≤ 2018.5</text>\n<text text-anchor=\"start\" x=\"982.5\" y=\"-513.8\" font-family=\"Helvetica,sans-Serif\" font-size=\"14.00\" fill=\"#000000\">entropy = 1.654</text>\n<text text-anchor=\"start\" x=\"985.5\" y=\"-498.8\" font-family=\"Helvetica,sans-Serif\" font-size=\"14.00\" fill=\"#000000\">samples = 229</text>\n<text text-anchor=\"start\" x=\"959.5\" y=\"-483.8\" font-family=\"Helvetica,sans-Serif\" font-size=\"14.00\" fill=\"#000000\">value = [7, 110, 60, 52]</text>\n<text text-anchor=\"start\" x=\"930\" y=\"-468.8\" font-family=\"Helvetica,sans-Serif\" font-size=\"14.00\" fill=\"#000000\">class = Ingreso a la Universidad</text>\n</g>\n<!-- 0&#45;&gt;1 -->\n<g id=\"edge1\" class=\"edge\">\n<title>0&#45;&gt;1</title>\n<path fill=\"none\" stroke=\"#000000\" d=\"M1173.9537,-579.8796C1155.8668,-569.915 1136.4411,-559.2129 1117.9793,-549.0418\"/>\n<polygon fill=\"#000000\" stroke=\"#000000\" points=\"1119.4513,-545.8568 1109.0037,-544.0969 1116.0735,-551.9879 1119.4513,-545.8568\"/>\n<text text-anchor=\"middle\" x=\"1115.9569\" y=\"-564.4105\" font-family=\"Helvetica,sans-Serif\" font-size=\"14.00\" fill=\"#000000\">True</text>\n</g>\n<!-- 14 -->\n<g id=\"node15\" class=\"node\">\n<title>14</title>\n<path fill=\"#e0f0fb\" stroke=\"#000000\" d=\"M1540.5,-544C1540.5,-544 1384.5,-544 1384.5,-544 1378.5,-544 1372.5,-538 1372.5,-532 1372.5,-532 1372.5,-473 1372.5,-473 1372.5,-467 1378.5,-461 1384.5,-461 1384.5,-461 1540.5,-461 1540.5,-461 1546.5,-461 1552.5,-467 1552.5,-473 1552.5,-473 1552.5,-532 1552.5,-532 1552.5,-538 1546.5,-544 1540.5,-544\"/>\n<text text-anchor=\"start\" x=\"1418.5\" y=\"-528.8\" font-family=\"Helvetica,sans-Serif\" font-size=\"14.00\" fill=\"#000000\">anio ≤ 2017.5</text>\n<text text-anchor=\"start\" x=\"1411.5\" y=\"-513.8\" font-family=\"Helvetica,sans-Serif\" font-size=\"14.00\" fill=\"#000000\">entropy = 1.732</text>\n<text text-anchor=\"start\" x=\"1414.5\" y=\"-498.8\" font-family=\"Helvetica,sans-Serif\" font-size=\"14.00\" fill=\"#000000\">samples = 471</text>\n<text text-anchor=\"start\" x=\"1380.5\" y=\"-483.8\" font-family=\"Helvetica,sans-Serif\" font-size=\"14.00\" fill=\"#000000\">value = [162, 51, 210, 48]</text>\n<text text-anchor=\"start\" x=\"1385.5\" y=\"-468.8\" font-family=\"Helvetica,sans-Serif\" font-size=\"14.00\" fill=\"#000000\">class = Otras Consultas</text>\n</g>\n<!-- 0&#45;&gt;14 -->\n<g id=\"edge14\" class=\"edge\">\n<title>0&#45;&gt;14</title>\n<path fill=\"none\" stroke=\"#000000\" d=\"M1323.9971,-579.8796C1341.8328,-569.915 1360.9886,-559.2129 1379.1941,-549.0418\"/>\n<polygon fill=\"#000000\" stroke=\"#000000\" points=\"1381.0221,-552.0298 1388.045,-544.0969 1377.608,-545.9188 1381.0221,-552.0298\"/>\n<text text-anchor=\"middle\" x=\"1381.2344\" y=\"-564.4514\" font-family=\"Helvetica,sans-Serif\" font-size=\"14.00\" fill=\"#000000\">False</text>\n</g>\n<!-- 2 -->\n<g id=\"node3\" class=\"node\">\n<title>2</title>\n<path fill=\"#b0f4aa\" stroke=\"#000000\" d=\"M791,-425C791,-425 592,-425 592,-425 586,-425 580,-419 580,-413 580,-413 580,-354 580,-354 580,-348 586,-342 592,-342 592,-342 791,-342 791,-342 797,-342 803,-348 803,-354 803,-354 803,-413 803,-413 803,-419 797,-425 791,-425\"/>\n<text text-anchor=\"start\" x=\"659.5\" y=\"-409.8\" font-family=\"Helvetica,sans-Serif\" font-size=\"14.00\" fill=\"#000000\">mes ≤ 9.5</text>\n<text text-anchor=\"start\" x=\"640.5\" y=\"-394.8\" font-family=\"Helvetica,sans-Serif\" font-size=\"14.00\" fill=\"#000000\">entropy = 1.323</text>\n<text text-anchor=\"start\" x=\"643.5\" y=\"-379.8\" font-family=\"Helvetica,sans-Serif\" font-size=\"14.00\" fill=\"#000000\">samples = 169</text>\n<text text-anchor=\"start\" x=\"617.5\" y=\"-364.8\" font-family=\"Helvetica,sans-Serif\" font-size=\"14.00\" fill=\"#000000\">value = [2, 102, 52, 13]</text>\n<text text-anchor=\"start\" x=\"588\" y=\"-349.8\" font-family=\"Helvetica,sans-Serif\" font-size=\"14.00\" fill=\"#000000\">class = Ingreso a la Universidad</text>\n</g>\n<!-- 1&#45;&gt;2 -->\n<g id=\"edge2\" class=\"edge\">\n<title>1&#45;&gt;2</title>\n<path fill=\"none\" stroke=\"#000000\" d=\"M921.9896,-463.6996C887.0076,-451.5275 848.231,-438.0351 812.6179,-425.6434\"/>\n<polygon fill=\"#000000\" stroke=\"#000000\" points=\"813.7461,-422.3302 803.1513,-422.3494 811.4456,-428.9414 813.7461,-422.3302\"/>\n</g>\n<!-- 11 -->\n<g id=\"node12\" class=\"node\">\n<title>11</title>\n<path fill=\"#e789f0\" stroke=\"#000000\" d=\"M1125,-425C1125,-425 942,-425 942,-425 936,-425 930,-419 930,-413 930,-413 930,-354 930,-354 930,-348 936,-342 942,-342 942,-342 1125,-342 1125,-342 1131,-342 1137,-348 1137,-354 1137,-354 1137,-413 1137,-413 1137,-419 1131,-425 1125,-425\"/>\n<text text-anchor=\"start\" x=\"951.5\" y=\"-409.8\" font-family=\"Helvetica,sans-Serif\" font-size=\"14.00\" fill=\"#000000\">cantidad_palabras ≤ 27.5</text>\n<text text-anchor=\"start\" x=\"982.5\" y=\"-394.8\" font-family=\"Helvetica,sans-Serif\" font-size=\"14.00\" fill=\"#000000\">entropy = 1.478</text>\n<text text-anchor=\"start\" x=\"989.5\" y=\"-379.8\" font-family=\"Helvetica,sans-Serif\" font-size=\"14.00\" fill=\"#000000\">samples = 60</text>\n<text text-anchor=\"start\" x=\"972\" y=\"-364.8\" font-family=\"Helvetica,sans-Serif\" font-size=\"14.00\" fill=\"#000000\">value = [5, 8, 8, 39]</text>\n<text text-anchor=\"start\" x=\"938\" y=\"-349.8\" font-family=\"Helvetica,sans-Serif\" font-size=\"14.00\" fill=\"#000000\">class = Requisitos de Ingreso</text>\n</g>\n<!-- 1&#45;&gt;11 -->\n<g id=\"edge11\" class=\"edge\">\n<title>1&#45;&gt;11</title>\n<path fill=\"none\" stroke=\"#000000\" d=\"M1033.5,-460.8796C1033.5,-452.6838 1033.5,-443.9891 1033.5,-435.5013\"/>\n<polygon fill=\"#000000\" stroke=\"#000000\" points=\"1037.0001,-435.298 1033.5,-425.2981 1030.0001,-435.2981 1037.0001,-435.298\"/>\n</g>\n<!-- 3 -->\n<g id=\"node4\" class=\"node\">\n<title>3</title>\n<path fill=\"#dffadc\" stroke=\"#000000\" d=\"M547,-306C547,-306 348,-306 348,-306 342,-306 336,-300 336,-294 336,-294 336,-235 336,-235 336,-229 342,-223 348,-223 348,-223 547,-223 547,-223 553,-223 559,-229 559,-235 559,-235 559,-294 559,-294 559,-300 553,-306 547,-306\"/>\n<text text-anchor=\"start\" x=\"376.5\" y=\"-290.8\" font-family=\"Helvetica,sans-Serif\" font-size=\"14.00\" fill=\"#000000\">dni_discretizado ≤ 6.5</text>\n<text text-anchor=\"start\" x=\"396.5\" y=\"-275.8\" font-family=\"Helvetica,sans-Serif\" font-size=\"14.00\" fill=\"#000000\">entropy = 1.508</text>\n<text text-anchor=\"start\" x=\"399.5\" y=\"-260.8\" font-family=\"Helvetica,sans-Serif\" font-size=\"14.00\" fill=\"#000000\">samples = 109</text>\n<text text-anchor=\"start\" x=\"378\" y=\"-245.8\" font-family=\"Helvetica,sans-Serif\" font-size=\"14.00\" fill=\"#000000\">value = [2, 53, 41, 13]</text>\n<text text-anchor=\"start\" x=\"344\" y=\"-230.8\" font-family=\"Helvetica,sans-Serif\" font-size=\"14.00\" fill=\"#000000\">class = Ingreso a la Universidad</text>\n</g>\n<!-- 2&#45;&gt;3 -->\n<g id=\"edge3\" class=\"edge\">\n<title>2&#45;&gt;3</title>\n<path fill=\"none\" stroke=\"#000000\" d=\"M606.1606,-341.8796C585.3577,-331.7339 562.9869,-320.8235 541.7938,-310.4876\"/>\n<polygon fill=\"#000000\" stroke=\"#000000\" points=\"543.3135,-307.3347 532.7912,-306.0969 540.245,-313.6263 543.3135,-307.3347\"/>\n</g>\n<!-- 8 -->\n<g id=\"node9\" class=\"node\">\n<title>8</title>\n<path fill=\"#70eb65\" stroke=\"#000000\" d=\"M793.5,-306C793.5,-306 589.5,-306 589.5,-306 583.5,-306 577.5,-300 577.5,-294 577.5,-294 577.5,-235 577.5,-235 577.5,-229 583.5,-223 589.5,-223 589.5,-223 793.5,-223 793.5,-223 799.5,-223 805.5,-229 805.5,-235 805.5,-235 805.5,-294 805.5,-294 805.5,-300 799.5,-306 793.5,-306\"/>\n<text text-anchor=\"start\" x=\"585.5\" y=\"-290.8\" font-family=\"Helvetica,sans-Serif\" font-size=\"14.00\" fill=\"#000000\">cantidad_palabras_cortas ≤ 15.5</text>\n<text text-anchor=\"start\" x=\"640.5\" y=\"-275.8\" font-family=\"Helvetica,sans-Serif\" font-size=\"14.00\" fill=\"#000000\">entropy = 0.687</text>\n<text text-anchor=\"start\" x=\"647.5\" y=\"-260.8\" font-family=\"Helvetica,sans-Serif\" font-size=\"14.00\" fill=\"#000000\">samples = 60</text>\n<text text-anchor=\"start\" x=\"626\" y=\"-245.8\" font-family=\"Helvetica,sans-Serif\" font-size=\"14.00\" fill=\"#000000\">value = [0, 49, 11, 0]</text>\n<text text-anchor=\"start\" x=\"588\" y=\"-230.8\" font-family=\"Helvetica,sans-Serif\" font-size=\"14.00\" fill=\"#000000\">class = Ingreso a la Universidad</text>\n</g>\n<!-- 2&#45;&gt;8 -->\n<g id=\"edge8\" class=\"edge\">\n<title>2&#45;&gt;8</title>\n<path fill=\"none\" stroke=\"#000000\" d=\"M691.5,-341.8796C691.5,-333.6838 691.5,-324.9891 691.5,-316.5013\"/>\n<polygon fill=\"#000000\" stroke=\"#000000\" points=\"695.0001,-316.298 691.5,-306.2981 688.0001,-316.2981 695.0001,-316.298\"/>\n</g>\n<!-- 4 -->\n<g id=\"node5\" class=\"node\">\n<title>4</title>\n<path fill=\"#f6fafe\" stroke=\"#000000\" d=\"M306.5,-187C306.5,-187 130.5,-187 130.5,-187 124.5,-187 118.5,-181 118.5,-175 118.5,-175 118.5,-116 118.5,-116 118.5,-110 124.5,-104 130.5,-104 130.5,-104 306.5,-104 306.5,-104 312.5,-104 318.5,-110 318.5,-116 318.5,-116 318.5,-175 318.5,-175 318.5,-181 312.5,-187 306.5,-187\"/>\n<text text-anchor=\"start\" x=\"126.5\" y=\"-171.8\" font-family=\"Helvetica,sans-Serif\" font-size=\"14.00\" fill=\"#000000\">cantidad_caracteres ≤ 130.0</text>\n<text text-anchor=\"start\" x=\"167.5\" y=\"-156.8\" font-family=\"Helvetica,sans-Serif\" font-size=\"14.00\" fill=\"#000000\">entropy = 1.322</text>\n<text text-anchor=\"start\" x=\"174.5\" y=\"-141.8\" font-family=\"Helvetica,sans-Serif\" font-size=\"14.00\" fill=\"#000000\">samples = 79</text>\n<text text-anchor=\"start\" x=\"153\" y=\"-126.8\" font-family=\"Helvetica,sans-Serif\" font-size=\"14.00\" fill=\"#000000\">value = [1, 36, 38, 4]</text>\n<text text-anchor=\"start\" x=\"141.5\" y=\"-111.8\" font-family=\"Helvetica,sans-Serif\" font-size=\"14.00\" fill=\"#000000\">class = Otras Consultas</text>\n</g>\n<!-- 3&#45;&gt;4 -->\n<g id=\"edge4\" class=\"edge\">\n<title>3&#45;&gt;4</title>\n<path fill=\"none\" stroke=\"#000000\" d=\"M367.4069,-222.8796C348.0571,-212.8244 327.2621,-202.0183 307.5301,-191.7645\"/>\n<polygon fill=\"#000000\" stroke=\"#000000\" points=\"309.0352,-188.6024 298.5479,-187.0969 305.8074,-194.8138 309.0352,-188.6024\"/>\n</g>\n<!-- 7 -->\n<g id=\"node8\" class=\"node\">\n<title>7</title>\n<path fill=\"#b9f5b4\" stroke=\"#000000\" d=\"M548,-179.5C548,-179.5 349,-179.5 349,-179.5 343,-179.5 337,-173.5 337,-167.5 337,-167.5 337,-123.5 337,-123.5 337,-117.5 343,-111.5 349,-111.5 349,-111.5 548,-111.5 548,-111.5 554,-111.5 560,-117.5 560,-123.5 560,-123.5 560,-167.5 560,-167.5 560,-173.5 554,-179.5 548,-179.5\"/>\n<text text-anchor=\"start\" x=\"397.5\" y=\"-164.3\" font-family=\"Helvetica,sans-Serif\" font-size=\"14.00\" fill=\"#000000\">entropy = 1.481</text>\n<text text-anchor=\"start\" x=\"404.5\" y=\"-149.3\" font-family=\"Helvetica,sans-Serif\" font-size=\"14.00\" fill=\"#000000\">samples = 30</text>\n<text text-anchor=\"start\" x=\"387\" y=\"-134.3\" font-family=\"Helvetica,sans-Serif\" font-size=\"14.00\" fill=\"#000000\">value = [1, 17, 3, 9]</text>\n<text text-anchor=\"start\" x=\"345\" y=\"-119.3\" font-family=\"Helvetica,sans-Serif\" font-size=\"14.00\" fill=\"#000000\">class = Ingreso a la Universidad</text>\n</g>\n<!-- 3&#45;&gt;7 -->\n<g id=\"edge7\" class=\"edge\">\n<title>3&#45;&gt;7</title>\n<path fill=\"none\" stroke=\"#000000\" d=\"M447.8498,-222.8796C447.9394,-212.2134 448.0361,-200.7021 448.1269,-189.9015\"/>\n<polygon fill=\"#000000\" stroke=\"#000000\" points=\"451.6274,-189.844 448.2116,-179.8149 444.6276,-189.7851 451.6274,-189.844\"/>\n</g>\n<!-- 5 -->\n<g id=\"node6\" class=\"node\">\n<title>5</title>\n<path fill=\"#f6fef6\" stroke=\"#000000\" d=\"M211,-68C211,-68 12,-68 12,-68 6,-68 0,-62 0,-56 0,-56 0,-12 0,-12 0,-6 6,0 12,0 12,0 211,0 211,0 217,0 223,-6 223,-12 223,-12 223,-56 223,-56 223,-62 217,-68 211,-68\"/>\n<text text-anchor=\"start\" x=\"69\" y=\"-52.8\" font-family=\"Helvetica,sans-Serif\" font-size=\"14.00\" fill=\"#000000\">entropy = 1.0</text>\n<text text-anchor=\"start\" x=\"67.5\" y=\"-37.8\" font-family=\"Helvetica,sans-Serif\" font-size=\"14.00\" fill=\"#000000\">samples = 41</text>\n<text text-anchor=\"start\" x=\"46\" y=\"-22.8\" font-family=\"Helvetica,sans-Serif\" font-size=\"14.00\" fill=\"#000000\">value = [0, 21, 20, 0]</text>\n<text text-anchor=\"start\" x=\"8\" y=\"-7.8\" font-family=\"Helvetica,sans-Serif\" font-size=\"14.00\" fill=\"#000000\">class = Ingreso a la Universidad</text>\n</g>\n<!-- 4&#45;&gt;5 -->\n<g id=\"edge5\" class=\"edge\">\n<title>4&#45;&gt;5</title>\n<path fill=\"none\" stroke=\"#000000\" d=\"M178.6571,-103.9815C169.7492,-94.6989 160.2999,-84.8522 151.3901,-75.5677\"/>\n<polygon fill=\"#000000\" stroke=\"#000000\" points=\"153.8302,-73.0555 144.3808,-68.2637 148.7795,-77.9023 153.8302,-73.0555\"/>\n</g>\n<!-- 6 -->\n<g id=\"node7\" class=\"node\">\n<title>6</title>\n<path fill=\"#e5f2fc\" stroke=\"#000000\" d=\"M399.5,-68C399.5,-68 253.5,-68 253.5,-68 247.5,-68 241.5,-62 241.5,-56 241.5,-56 241.5,-12 241.5,-12 241.5,-6 247.5,0 253.5,0 253.5,0 399.5,0 399.5,0 405.5,0 411.5,-6 411.5,-12 411.5,-12 411.5,-56 411.5,-56 411.5,-62 405.5,-68 399.5,-68\"/>\n<text text-anchor=\"start\" x=\"279.5\" y=\"-52.8\" font-family=\"Helvetica,sans-Serif\" font-size=\"14.00\" fill=\"#000000\">entropy = 1.52</text>\n<text text-anchor=\"start\" x=\"282.5\" y=\"-37.8\" font-family=\"Helvetica,sans-Serif\" font-size=\"14.00\" fill=\"#000000\">samples = 38</text>\n<text text-anchor=\"start\" x=\"261\" y=\"-22.8\" font-family=\"Helvetica,sans-Serif\" font-size=\"14.00\" fill=\"#000000\">value = [1, 15, 18, 4]</text>\n<text text-anchor=\"start\" x=\"249.5\" y=\"-7.8\" font-family=\"Helvetica,sans-Serif\" font-size=\"14.00\" fill=\"#000000\">class = Otras Consultas</text>\n</g>\n<!-- 4&#45;&gt;6 -->\n<g id=\"edge6\" class=\"edge\">\n<title>4&#45;&gt;6</title>\n<path fill=\"none\" stroke=\"#000000\" d=\"M258.7152,-103.9815C267.7064,-94.6989 277.244,-84.8522 286.2371,-75.5677\"/>\n<polygon fill=\"#000000\" stroke=\"#000000\" points=\"288.8684,-77.8817 293.3119,-68.2637 283.8404,-73.0115 288.8684,-77.8817\"/>\n</g>\n<!-- 9 -->\n<g id=\"node10\" class=\"node\">\n<title>9</title>\n<path fill=\"#5be84f\" stroke=\"#000000\" d=\"M790,-179.5C790,-179.5 591,-179.5 591,-179.5 585,-179.5 579,-173.5 579,-167.5 579,-167.5 579,-123.5 579,-123.5 579,-117.5 585,-111.5 591,-111.5 591,-111.5 790,-111.5 790,-111.5 796,-111.5 802,-117.5 802,-123.5 802,-123.5 802,-167.5 802,-167.5 802,-173.5 796,-179.5 790,-179.5\"/>\n<text text-anchor=\"start\" x=\"639.5\" y=\"-164.3\" font-family=\"Helvetica,sans-Serif\" font-size=\"14.00\" fill=\"#000000\">entropy = 0.469</text>\n<text text-anchor=\"start\" x=\"646.5\" y=\"-149.3\" font-family=\"Helvetica,sans-Serif\" font-size=\"14.00\" fill=\"#000000\">samples = 30</text>\n<text text-anchor=\"start\" x=\"629\" y=\"-134.3\" font-family=\"Helvetica,sans-Serif\" font-size=\"14.00\" fill=\"#000000\">value = [0, 27, 3, 0]</text>\n<text text-anchor=\"start\" x=\"587\" y=\"-119.3\" font-family=\"Helvetica,sans-Serif\" font-size=\"14.00\" fill=\"#000000\">class = Ingreso a la Universidad</text>\n</g>\n<!-- 8&#45;&gt;9 -->\n<g id=\"edge9\" class=\"edge\">\n<title>8&#45;&gt;9</title>\n<path fill=\"none\" stroke=\"#000000\" d=\"M691.1502,-222.8796C691.0606,-212.2134 690.9639,-200.7021 690.8731,-189.9015\"/>\n<polygon fill=\"#000000\" stroke=\"#000000\" points=\"694.3724,-189.7851 690.7884,-179.8149 687.3726,-189.844 694.3724,-189.7851\"/>\n</g>\n<!-- 10 -->\n<g id=\"node11\" class=\"node\">\n<title>10</title>\n<path fill=\"#8aee81\" stroke=\"#000000\" d=\"M1031,-179.5C1031,-179.5 832,-179.5 832,-179.5 826,-179.5 820,-173.5 820,-167.5 820,-167.5 820,-123.5 820,-123.5 820,-117.5 826,-111.5 832,-111.5 832,-111.5 1031,-111.5 1031,-111.5 1037,-111.5 1043,-117.5 1043,-123.5 1043,-123.5 1043,-167.5 1043,-167.5 1043,-173.5 1037,-179.5 1031,-179.5\"/>\n<text text-anchor=\"start\" x=\"880.5\" y=\"-164.3\" font-family=\"Helvetica,sans-Serif\" font-size=\"14.00\" fill=\"#000000\">entropy = 0.837</text>\n<text text-anchor=\"start\" x=\"887.5\" y=\"-149.3\" font-family=\"Helvetica,sans-Serif\" font-size=\"14.00\" fill=\"#000000\">samples = 30</text>\n<text text-anchor=\"start\" x=\"870\" y=\"-134.3\" font-family=\"Helvetica,sans-Serif\" font-size=\"14.00\" fill=\"#000000\">value = [0, 22, 8, 0]</text>\n<text text-anchor=\"start\" x=\"828\" y=\"-119.3\" font-family=\"Helvetica,sans-Serif\" font-size=\"14.00\" fill=\"#000000\">class = Ingreso a la Universidad</text>\n</g>\n<!-- 8&#45;&gt;10 -->\n<g id=\"edge10\" class=\"edge\">\n<title>8&#45;&gt;10</title>\n<path fill=\"none\" stroke=\"#000000\" d=\"M775.4404,-222.8796C800.8425,-210.2843 828.6212,-196.5107 853.6099,-184.1205\"/>\n<polygon fill=\"#000000\" stroke=\"#000000\" points=\"855.2761,-187.201 862.6804,-179.623 852.1665,-180.9296 855.2761,-187.201\"/>\n</g>\n<!-- 12 -->\n<g id=\"node13\" class=\"node\">\n<title>12</title>\n<path fill=\"#ea98f1\" stroke=\"#000000\" d=\"M1019,-298.5C1019,-298.5 836,-298.5 836,-298.5 830,-298.5 824,-292.5 824,-286.5 824,-286.5 824,-242.5 824,-242.5 824,-236.5 830,-230.5 836,-230.5 836,-230.5 1019,-230.5 1019,-230.5 1025,-230.5 1031,-236.5 1031,-242.5 1031,-242.5 1031,-286.5 1031,-286.5 1031,-292.5 1025,-298.5 1019,-298.5\"/>\n<text text-anchor=\"start\" x=\"876.5\" y=\"-283.3\" font-family=\"Helvetica,sans-Serif\" font-size=\"14.00\" fill=\"#000000\">entropy = 1.403</text>\n<text text-anchor=\"start\" x=\"883.5\" y=\"-268.3\" font-family=\"Helvetica,sans-Serif\" font-size=\"14.00\" fill=\"#000000\">samples = 30</text>\n<text text-anchor=\"start\" x=\"866\" y=\"-253.3\" font-family=\"Helvetica,sans-Serif\" font-size=\"14.00\" fill=\"#000000\">value = [1, 7, 3, 19]</text>\n<text text-anchor=\"start\" x=\"832\" y=\"-238.3\" font-family=\"Helvetica,sans-Serif\" font-size=\"14.00\" fill=\"#000000\">class = Requisitos de Ingreso</text>\n</g>\n<!-- 11&#45;&gt;12 -->\n<g id=\"edge12\" class=\"edge\">\n<title>11&#45;&gt;12</title>\n<path fill=\"none\" stroke=\"#000000\" d=\"M996.4263,-341.8796C986.2397,-330.4436 975.1878,-318.0363 964.9785,-306.575\"/>\n<polygon fill=\"#000000\" stroke=\"#000000\" points=\"967.3312,-303.9541 958.0662,-298.8149 962.1042,-308.6101 967.3312,-303.9541\"/>\n</g>\n<!-- 13 -->\n<g id=\"node14\" class=\"node\">\n<title>13</title>\n<path fill=\"#e788ef\" stroke=\"#000000\" d=\"M1244,-298.5C1244,-298.5 1061,-298.5 1061,-298.5 1055,-298.5 1049,-292.5 1049,-286.5 1049,-286.5 1049,-242.5 1049,-242.5 1049,-236.5 1055,-230.5 1061,-230.5 1061,-230.5 1244,-230.5 1244,-230.5 1250,-230.5 1256,-236.5 1256,-242.5 1256,-242.5 1256,-286.5 1256,-286.5 1256,-292.5 1250,-298.5 1244,-298.5\"/>\n<text text-anchor=\"start\" x=\"1101.5\" y=\"-283.3\" font-family=\"Helvetica,sans-Serif\" font-size=\"14.00\" fill=\"#000000\">entropy = 1.372</text>\n<text text-anchor=\"start\" x=\"1108.5\" y=\"-268.3\" font-family=\"Helvetica,sans-Serif\" font-size=\"14.00\" fill=\"#000000\">samples = 30</text>\n<text text-anchor=\"start\" x=\"1091\" y=\"-253.3\" font-family=\"Helvetica,sans-Serif\" font-size=\"14.00\" fill=\"#000000\">value = [4, 1, 5, 20]</text>\n<text text-anchor=\"start\" x=\"1057\" y=\"-238.3\" font-family=\"Helvetica,sans-Serif\" font-size=\"14.00\" fill=\"#000000\">class = Requisitos de Ingreso</text>\n</g>\n<!-- 11&#45;&gt;13 -->\n<g id=\"edge13\" class=\"edge\">\n<title>11&#45;&gt;13</title>\n<path fill=\"none\" stroke=\"#000000\" d=\"M1075.1204,-341.8796C1086.7763,-330.2237 1099.4413,-317.5587 1111.0852,-305.9148\"/>\n<polygon fill=\"#000000\" stroke=\"#000000\" points=\"1113.5889,-308.3609 1118.1851,-298.8149 1108.6391,-303.4111 1113.5889,-308.3609\"/>\n</g>\n<!-- 15 -->\n<g id=\"node16\" class=\"node\">\n<title>15</title>\n<path fill=\"#72b9ed\" stroke=\"#000000\" d=\"M1539,-425C1539,-425 1386,-425 1386,-425 1380,-425 1374,-419 1374,-413 1374,-413 1374,-354 1374,-354 1374,-348 1380,-342 1386,-342 1386,-342 1539,-342 1539,-342 1545,-342 1551,-348 1551,-354 1551,-354 1551,-413 1551,-413 1551,-419 1545,-425 1539,-425\"/>\n<text text-anchor=\"start\" x=\"1382\" y=\"-409.8\" font-family=\"Helvetica,sans-Serif\" font-size=\"14.00\" fill=\"#000000\">legajo_discretizado ≤ 2.5</text>\n<text text-anchor=\"start\" x=\"1411.5\" y=\"-394.8\" font-family=\"Helvetica,sans-Serif\" font-size=\"14.00\" fill=\"#000000\">entropy = 1.074</text>\n<text text-anchor=\"start\" x=\"1414.5\" y=\"-379.8\" font-family=\"Helvetica,sans-Serif\" font-size=\"14.00\" fill=\"#000000\">samples = 154</text>\n<text text-anchor=\"start\" x=\"1393\" y=\"-364.8\" font-family=\"Helvetica,sans-Serif\" font-size=\"14.00\" fill=\"#000000\">value = [4, 7, 117, 26]</text>\n<text text-anchor=\"start\" x=\"1385.5\" y=\"-349.8\" font-family=\"Helvetica,sans-Serif\" font-size=\"14.00\" fill=\"#000000\">class = Otras Consultas</text>\n</g>\n<!-- 14&#45;&gt;15 -->\n<g id=\"edge15\" class=\"edge\">\n<title>14&#45;&gt;15</title>\n<path fill=\"none\" stroke=\"#000000\" d=\"M1462.5,-460.8796C1462.5,-452.6838 1462.5,-443.9891 1462.5,-435.5013\"/>\n<polygon fill=\"#000000\" stroke=\"#000000\" points=\"1466.0001,-435.298 1462.5,-425.2981 1459.0001,-435.2981 1466.0001,-435.298\"/>\n</g>\n<!-- 20 -->\n<g id=\"node21\" class=\"node\">\n<title>20</title>\n<path fill=\"#f7dac6\" stroke=\"#000000\" d=\"M1867,-425C1867,-425 1700,-425 1700,-425 1694,-425 1688,-419 1688,-413 1688,-413 1688,-354 1688,-354 1688,-348 1694,-342 1700,-342 1700,-342 1867,-342 1867,-342 1873,-342 1879,-348 1879,-354 1879,-354 1879,-413 1879,-413 1879,-419 1873,-425 1867,-425\"/>\n<text text-anchor=\"start\" x=\"1751.5\" y=\"-409.8\" font-family=\"Helvetica,sans-Serif\" font-size=\"14.00\" fill=\"#000000\">mes ≤ 9.5</text>\n<text text-anchor=\"start\" x=\"1732.5\" y=\"-394.8\" font-family=\"Helvetica,sans-Serif\" font-size=\"14.00\" fill=\"#000000\">entropy = 1.682</text>\n<text text-anchor=\"start\" x=\"1735.5\" y=\"-379.8\" font-family=\"Helvetica,sans-Serif\" font-size=\"14.00\" fill=\"#000000\">samples = 317</text>\n<text text-anchor=\"start\" x=\"1705.5\" y=\"-364.8\" font-family=\"Helvetica,sans-Serif\" font-size=\"14.00\" fill=\"#000000\">value = [158, 44, 93, 22]</text>\n<text text-anchor=\"start\" x=\"1696\" y=\"-349.8\" font-family=\"Helvetica,sans-Serif\" font-size=\"14.00\" fill=\"#000000\">class = Boleto Universitario</text>\n</g>\n<!-- 14&#45;&gt;20 -->\n<g id=\"edge20\" class=\"edge\">\n<title>14&#45;&gt;20</title>\n<path fill=\"none\" stroke=\"#000000\" d=\"M1552.7706,-469.0352C1591.8229,-454.5579 1637.7849,-437.519 1678.3655,-422.4751\"/>\n<polygon fill=\"#000000\" stroke=\"#000000\" points=\"1679.5849,-425.7559 1687.7447,-418.9981 1677.1517,-419.1924 1679.5849,-425.7559\"/>\n</g>\n<!-- 16 -->\n<g id=\"node17\" class=\"node\">\n<title>16</title>\n<path fill=\"#4aa6e7\" stroke=\"#000000\" d=\"M1432.5,-306C1432.5,-306 1286.5,-306 1286.5,-306 1280.5,-306 1274.5,-300 1274.5,-294 1274.5,-294 1274.5,-235 1274.5,-235 1274.5,-229 1280.5,-223 1286.5,-223 1286.5,-223 1432.5,-223 1432.5,-223 1438.5,-223 1444.5,-229 1444.5,-235 1444.5,-235 1444.5,-294 1444.5,-294 1444.5,-300 1438.5,-306 1432.5,-306\"/>\n<text text-anchor=\"start\" x=\"1327.5\" y=\"-290.8\" font-family=\"Helvetica,sans-Serif\" font-size=\"14.00\" fill=\"#000000\">mes ≤ 7.5</text>\n<text text-anchor=\"start\" x=\"1308.5\" y=\"-275.8\" font-family=\"Helvetica,sans-Serif\" font-size=\"14.00\" fill=\"#000000\">entropy = 0.545</text>\n<text text-anchor=\"start\" x=\"1311.5\" y=\"-260.8\" font-family=\"Helvetica,sans-Serif\" font-size=\"14.00\" fill=\"#000000\">samples = 107</text>\n<text text-anchor=\"start\" x=\"1298\" y=\"-245.8\" font-family=\"Helvetica,sans-Serif\" font-size=\"14.00\" fill=\"#000000\">value = [2, 4, 98, 3]</text>\n<text text-anchor=\"start\" x=\"1282.5\" y=\"-230.8\" font-family=\"Helvetica,sans-Serif\" font-size=\"14.00\" fill=\"#000000\">class = Otras Consultas</text>\n</g>\n<!-- 15&#45;&gt;16 -->\n<g id=\"edge16\" class=\"edge\">\n<title>15&#45;&gt;16</title>\n<path fill=\"none\" stroke=\"#000000\" d=\"M1426.4756,-341.8796C1418.6802,-332.8733 1410.3633,-323.2644 1402.3356,-313.9897\"/>\n<polygon fill=\"#000000\" stroke=\"#000000\" points=\"1404.8691,-311.5686 1395.6782,-306.2981 1399.5763,-316.1498 1404.8691,-311.5686\"/>\n</g>\n<!-- 19 -->\n<g id=\"node20\" class=\"node\">\n<title>19</title>\n<path fill=\"#f9e3fb\" stroke=\"#000000\" d=\"M1658,-298.5C1658,-298.5 1475,-298.5 1475,-298.5 1469,-298.5 1463,-292.5 1463,-286.5 1463,-286.5 1463,-242.5 1463,-242.5 1463,-236.5 1469,-230.5 1475,-230.5 1475,-230.5 1658,-230.5 1658,-230.5 1664,-230.5 1670,-236.5 1670,-242.5 1670,-242.5 1670,-286.5 1670,-286.5 1670,-292.5 1664,-298.5 1658,-298.5\"/>\n<text text-anchor=\"start\" x=\"1519.5\" y=\"-283.3\" font-family=\"Helvetica,sans-Serif\" font-size=\"14.00\" fill=\"#000000\">entropy = 1.48</text>\n<text text-anchor=\"start\" x=\"1522.5\" y=\"-268.3\" font-family=\"Helvetica,sans-Serif\" font-size=\"14.00\" fill=\"#000000\">samples = 47</text>\n<text text-anchor=\"start\" x=\"1501\" y=\"-253.3\" font-family=\"Helvetica,sans-Serif\" font-size=\"14.00\" fill=\"#000000\">value = [2, 3, 19, 23]</text>\n<text text-anchor=\"start\" x=\"1471\" y=\"-238.3\" font-family=\"Helvetica,sans-Serif\" font-size=\"14.00\" fill=\"#000000\">class = Requisitos de Ingreso</text>\n</g>\n<!-- 15&#45;&gt;19 -->\n<g id=\"edge19\" class=\"edge\">\n<title>15&#45;&gt;19</title>\n<path fill=\"none\" stroke=\"#000000\" d=\"M1498.8742,-341.8796C1508.8686,-330.4436 1519.712,-318.0363 1529.7286,-306.575\"/>\n<polygon fill=\"#000000\" stroke=\"#000000\" points=\"1532.5653,-308.6479 1536.5105,-298.8149 1527.2945,-304.0414 1532.5653,-308.6479\"/>\n</g>\n<!-- 17 -->\n<g id=\"node18\" class=\"node\">\n<title>17</title>\n<path fill=\"#45a3e7\" stroke=\"#000000\" d=\"M1345.5,-179.5C1345.5,-179.5 1199.5,-179.5 1199.5,-179.5 1193.5,-179.5 1187.5,-173.5 1187.5,-167.5 1187.5,-167.5 1187.5,-123.5 1187.5,-123.5 1187.5,-117.5 1193.5,-111.5 1199.5,-111.5 1199.5,-111.5 1345.5,-111.5 1345.5,-111.5 1351.5,-111.5 1357.5,-117.5 1357.5,-123.5 1357.5,-123.5 1357.5,-167.5 1357.5,-167.5 1357.5,-173.5 1351.5,-179.5 1345.5,-179.5\"/>\n<text text-anchor=\"start\" x=\"1221.5\" y=\"-164.3\" font-family=\"Helvetica,sans-Serif\" font-size=\"14.00\" fill=\"#000000\">entropy = 0.323</text>\n<text text-anchor=\"start\" x=\"1228.5\" y=\"-149.3\" font-family=\"Helvetica,sans-Serif\" font-size=\"14.00\" fill=\"#000000\">samples = 51</text>\n<text text-anchor=\"start\" x=\"1211\" y=\"-134.3\" font-family=\"Helvetica,sans-Serif\" font-size=\"14.00\" fill=\"#000000\">value = [0, 0, 48, 3]</text>\n<text text-anchor=\"start\" x=\"1195.5\" y=\"-119.3\" font-family=\"Helvetica,sans-Serif\" font-size=\"14.00\" fill=\"#000000\">class = Otras Consultas</text>\n</g>\n<!-- 16&#45;&gt;17 -->\n<g id=\"edge17\" class=\"edge\">\n<title>16&#45;&gt;17</title>\n<path fill=\"none\" stroke=\"#000000\" d=\"M1329.0716,-222.8796C1320.7913,-211.5536 1311.8143,-199.2748 1303.5026,-187.9058\"/>\n<polygon fill=\"#000000\" stroke=\"#000000\" points=\"1306.3147,-185.822 1297.5874,-179.8149 1300.6639,-189.9533 1306.3147,-185.822\"/>\n</g>\n<!-- 18 -->\n<g id=\"node19\" class=\"node\">\n<title>18</title>\n<path fill=\"#50a8e8\" stroke=\"#000000\" d=\"M1533.5,-179.5C1533.5,-179.5 1387.5,-179.5 1387.5,-179.5 1381.5,-179.5 1375.5,-173.5 1375.5,-167.5 1375.5,-167.5 1375.5,-123.5 1375.5,-123.5 1375.5,-117.5 1381.5,-111.5 1387.5,-111.5 1387.5,-111.5 1533.5,-111.5 1533.5,-111.5 1539.5,-111.5 1545.5,-117.5 1545.5,-123.5 1545.5,-123.5 1545.5,-167.5 1545.5,-167.5 1545.5,-173.5 1539.5,-179.5 1533.5,-179.5\"/>\n<text text-anchor=\"start\" x=\"1413.5\" y=\"-164.3\" font-family=\"Helvetica,sans-Serif\" font-size=\"14.00\" fill=\"#000000\">entropy = 0.59</text>\n<text text-anchor=\"start\" x=\"1416.5\" y=\"-149.3\" font-family=\"Helvetica,sans-Serif\" font-size=\"14.00\" fill=\"#000000\">samples = 56</text>\n<text text-anchor=\"start\" x=\"1399\" y=\"-134.3\" font-family=\"Helvetica,sans-Serif\" font-size=\"14.00\" fill=\"#000000\">value = [2, 4, 50, 0]</text>\n<text text-anchor=\"start\" x=\"1383.5\" y=\"-119.3\" font-family=\"Helvetica,sans-Serif\" font-size=\"14.00\" fill=\"#000000\">class = Otras Consultas</text>\n</g>\n<!-- 16&#45;&gt;18 -->\n<g id=\"edge18\" class=\"edge\">\n<title>16&#45;&gt;18</title>\n<path fill=\"none\" stroke=\"#000000\" d=\"M1394.8249,-222.8796C1404.531,-211.4436 1415.0616,-199.0363 1424.7893,-187.575\"/>\n<polygon fill=\"#000000\" stroke=\"#000000\" points=\"1427.5731,-189.7039 1431.3756,-179.8149 1422.2362,-185.1743 1427.5731,-189.7039\"/>\n</g>\n<!-- 21 -->\n<g id=\"node22\" class=\"node\">\n<title>21</title>\n<path fill=\"#f6d5be\" stroke=\"#000000\" d=\"M1867,-306C1867,-306 1700,-306 1700,-306 1694,-306 1688,-300 1688,-294 1688,-294 1688,-235 1688,-235 1688,-229 1694,-223 1700,-223 1700,-223 1867,-223 1867,-223 1873,-223 1879,-229 1879,-235 1879,-235 1879,-294 1879,-294 1879,-300 1873,-306 1867,-306\"/>\n<text text-anchor=\"start\" x=\"1751.5\" y=\"-290.8\" font-family=\"Helvetica,sans-Serif\" font-size=\"14.00\" fill=\"#000000\">mes ≤ 2.5</text>\n<text text-anchor=\"start\" x=\"1732.5\" y=\"-275.8\" font-family=\"Helvetica,sans-Serif\" font-size=\"14.00\" fill=\"#000000\">entropy = 1.467</text>\n<text text-anchor=\"start\" x=\"1735.5\" y=\"-260.8\" font-family=\"Helvetica,sans-Serif\" font-size=\"14.00\" fill=\"#000000\">samples = 280</text>\n<text text-anchor=\"start\" x=\"1709.5\" y=\"-245.8\" font-family=\"Helvetica,sans-Serif\" font-size=\"14.00\" fill=\"#000000\">value = [150, 42, 86, 2]</text>\n<text text-anchor=\"start\" x=\"1696\" y=\"-230.8\" font-family=\"Helvetica,sans-Serif\" font-size=\"14.00\" fill=\"#000000\">class = Boleto Universitario</text>\n</g>\n<!-- 20&#45;&gt;21 -->\n<g id=\"edge21\" class=\"edge\">\n<title>20&#45;&gt;21</title>\n<path fill=\"none\" stroke=\"#000000\" d=\"M1783.5,-341.8796C1783.5,-333.6838 1783.5,-324.9891 1783.5,-316.5013\"/>\n<polygon fill=\"#000000\" stroke=\"#000000\" points=\"1787.0001,-316.298 1783.5,-306.2981 1780.0001,-316.2981 1787.0001,-316.298\"/>\n</g>\n<!-- 26 -->\n<g id=\"node27\" class=\"node\">\n<title>26</title>\n<path fill=\"#eeadf4\" stroke=\"#000000\" d=\"M2092,-298.5C2092,-298.5 1909,-298.5 1909,-298.5 1903,-298.5 1897,-292.5 1897,-286.5 1897,-286.5 1897,-242.5 1897,-242.5 1897,-236.5 1903,-230.5 1909,-230.5 1909,-230.5 2092,-230.5 2092,-230.5 2098,-230.5 2104,-236.5 2104,-242.5 2104,-242.5 2104,-286.5 2104,-286.5 2104,-292.5 2098,-298.5 2092,-298.5\"/>\n<text text-anchor=\"start\" x=\"1949.5\" y=\"-283.3\" font-family=\"Helvetica,sans-Serif\" font-size=\"14.00\" fill=\"#000000\">entropy = 1.639</text>\n<text text-anchor=\"start\" x=\"1956.5\" y=\"-268.3\" font-family=\"Helvetica,sans-Serif\" font-size=\"14.00\" fill=\"#000000\">samples = 37</text>\n<text text-anchor=\"start\" x=\"1939\" y=\"-253.3\" font-family=\"Helvetica,sans-Serif\" font-size=\"14.00\" fill=\"#000000\">value = [8, 2, 7, 20]</text>\n<text text-anchor=\"start\" x=\"1905\" y=\"-238.3\" font-family=\"Helvetica,sans-Serif\" font-size=\"14.00\" fill=\"#000000\">class = Requisitos de Ingreso</text>\n</g>\n<!-- 20&#45;&gt;26 -->\n<g id=\"edge26\" class=\"edge\">\n<title>20&#45;&gt;26</title>\n<path fill=\"none\" stroke=\"#000000\" d=\"M1859.3961,-341.8796C1882.1624,-329.3948 1907.0399,-315.7523 1929.4792,-303.4469\"/>\n<polygon fill=\"#000000\" stroke=\"#000000\" points=\"1931.1904,-306.5003 1938.2756,-298.623 1927.8246,-300.3626 1931.1904,-306.5003\"/>\n</g>\n<!-- 22 -->\n<g id=\"node23\" class=\"node\">\n<title>22</title>\n<path fill=\"#cce6f8\" stroke=\"#000000\" d=\"M1745.5,-179.5C1745.5,-179.5 1599.5,-179.5 1599.5,-179.5 1593.5,-179.5 1587.5,-173.5 1587.5,-167.5 1587.5,-167.5 1587.5,-123.5 1587.5,-123.5 1587.5,-117.5 1593.5,-111.5 1599.5,-111.5 1599.5,-111.5 1745.5,-111.5 1745.5,-111.5 1751.5,-111.5 1757.5,-117.5 1757.5,-123.5 1757.5,-123.5 1757.5,-167.5 1757.5,-167.5 1757.5,-173.5 1751.5,-179.5 1745.5,-179.5\"/>\n<text text-anchor=\"start\" x=\"1621.5\" y=\"-164.3\" font-family=\"Helvetica,sans-Serif\" font-size=\"14.00\" fill=\"#000000\">entropy = 1.334</text>\n<text text-anchor=\"start\" x=\"1628.5\" y=\"-149.3\" font-family=\"Helvetica,sans-Serif\" font-size=\"14.00\" fill=\"#000000\">samples = 44</text>\n<text text-anchor=\"start\" x=\"1607\" y=\"-134.3\" font-family=\"Helvetica,sans-Serif\" font-size=\"14.00\" fill=\"#000000\">value = [2, 17, 24, 1]</text>\n<text text-anchor=\"start\" x=\"1595.5\" y=\"-119.3\" font-family=\"Helvetica,sans-Serif\" font-size=\"14.00\" fill=\"#000000\">class = Otras Consultas</text>\n</g>\n<!-- 21&#45;&gt;22 -->\n<g id=\"edge22\" class=\"edge\">\n<title>21&#45;&gt;22</title>\n<path fill=\"none\" stroke=\"#000000\" d=\"M1744.6776,-222.8796C1733.9079,-211.3337 1722.2146,-198.7976 1711.4383,-187.2446\"/>\n<polygon fill=\"#000000\" stroke=\"#000000\" points=\"1713.8885,-184.7402 1704.508,-179.8149 1708.7697,-189.5149 1713.8885,-184.7402\"/>\n</g>\n<!-- 23 -->\n<g id=\"node24\" class=\"node\">\n<title>23</title>\n<path fill=\"#f2c19d\" stroke=\"#000000\" d=\"M1955,-187C1955,-187 1788,-187 1788,-187 1782,-187 1776,-181 1776,-175 1776,-175 1776,-116 1776,-116 1776,-110 1782,-104 1788,-104 1788,-104 1955,-104 1955,-104 1961,-104 1967,-110 1967,-116 1967,-116 1967,-175 1967,-175 1967,-181 1961,-187 1955,-187\"/>\n<text text-anchor=\"start\" x=\"1839.5\" y=\"-171.8\" font-family=\"Helvetica,sans-Serif\" font-size=\"14.00\" fill=\"#000000\">mes ≤ 5.5</text>\n<text text-anchor=\"start\" x=\"1820.5\" y=\"-156.8\" font-family=\"Helvetica,sans-Serif\" font-size=\"14.00\" fill=\"#000000\">entropy = 1.305</text>\n<text text-anchor=\"start\" x=\"1823.5\" y=\"-141.8\" font-family=\"Helvetica,sans-Serif\" font-size=\"14.00\" fill=\"#000000\">samples = 236</text>\n<text text-anchor=\"start\" x=\"1797.5\" y=\"-126.8\" font-family=\"Helvetica,sans-Serif\" font-size=\"14.00\" fill=\"#000000\">value = [148, 25, 62, 1]</text>\n<text text-anchor=\"start\" x=\"1784\" y=\"-111.8\" font-family=\"Helvetica,sans-Serif\" font-size=\"14.00\" fill=\"#000000\">class = Boleto Universitario</text>\n</g>\n<!-- 21&#45;&gt;23 -->\n<g id=\"edge23\" class=\"edge\">\n<title>21&#45;&gt;23</title>\n<path fill=\"none\" stroke=\"#000000\" d=\"M1814.2781,-222.8796C1820.8051,-214.0534 1827.7599,-204.6485 1834.4908,-195.5466\"/>\n<polygon fill=\"#000000\" stroke=\"#000000\" points=\"1837.4588,-197.4195 1840.5905,-187.2981 1831.8305,-193.2574 1837.4588,-197.4195\"/>\n</g>\n<!-- 24 -->\n<g id=\"node25\" class=\"node\">\n<title>24</title>\n<path fill=\"#eeab7b\" stroke=\"#000000\" d=\"M1850,-68C1850,-68 1683,-68 1683,-68 1677,-68 1671,-62 1671,-56 1671,-56 1671,-12 1671,-12 1671,-6 1677,0 1683,0 1683,0 1850,0 1850,0 1856,0 1862,-6 1862,-12 1862,-12 1862,-56 1862,-56 1862,-62 1856,-68 1850,-68\"/>\n<text text-anchor=\"start\" x=\"1719.5\" y=\"-52.8\" font-family=\"Helvetica,sans-Serif\" font-size=\"14.00\" fill=\"#000000\">entropy = 1.05</text>\n<text text-anchor=\"start\" x=\"1718.5\" y=\"-37.8\" font-family=\"Helvetica,sans-Serif\" font-size=\"14.00\" fill=\"#000000\">samples = 152</text>\n<text text-anchor=\"start\" x=\"1697\" y=\"-22.8\" font-family=\"Helvetica,sans-Serif\" font-size=\"14.00\" fill=\"#000000\">value = [112, 7, 32, 1]</text>\n<text text-anchor=\"start\" x=\"1679\" y=\"-7.8\" font-family=\"Helvetica,sans-Serif\" font-size=\"14.00\" fill=\"#000000\">class = Boleto Universitario</text>\n</g>\n<!-- 23&#45;&gt;24 -->\n<g id=\"edge24\" class=\"edge\">\n<title>23&#45;&gt;24</title>\n<path fill=\"none\" stroke=\"#000000\" d=\"M1832.4019,-103.9815C1823.6604,-94.6989 1814.3878,-84.8522 1805.6444,-75.5677\"/>\n<polygon fill=\"#000000\" stroke=\"#000000\" points=\"1808.17,-73.1443 1798.7662,-68.2637 1803.0739,-77.9433 1808.17,-73.1443\"/>\n</g>\n<!-- 25 -->\n<g id=\"node26\" class=\"node\">\n<title>25</title>\n<path fill=\"#fcf1e9\" stroke=\"#000000\" d=\"M2059,-68C2059,-68 1892,-68 1892,-68 1886,-68 1880,-62 1880,-56 1880,-56 1880,-12 1880,-12 1880,-6 1886,0 1892,0 1892,0 2059,0 2059,0 2065,0 2071,-6 2071,-12 2071,-12 2071,-56 2071,-56 2071,-62 2065,-68 2059,-68\"/>\n<text text-anchor=\"start\" x=\"1924.5\" y=\"-52.8\" font-family=\"Helvetica,sans-Serif\" font-size=\"14.00\" fill=\"#000000\">entropy = 1.531</text>\n<text text-anchor=\"start\" x=\"1931.5\" y=\"-37.8\" font-family=\"Helvetica,sans-Serif\" font-size=\"14.00\" fill=\"#000000\">samples = 84</text>\n<text text-anchor=\"start\" x=\"1906\" y=\"-22.8\" font-family=\"Helvetica,sans-Serif\" font-size=\"14.00\" fill=\"#000000\">value = [36, 18, 30, 0]</text>\n<text text-anchor=\"start\" x=\"1888\" y=\"-7.8\" font-family=\"Helvetica,sans-Serif\" font-size=\"14.00\" fill=\"#000000\">class = Boleto Universitario</text>\n</g>\n<!-- 23&#45;&gt;25 -->\n<g id=\"edge25\" class=\"edge\">\n<title>23&#45;&gt;25</title>\n<path fill=\"none\" stroke=\"#000000\" d=\"M1910.2258,-103.9815C1918.7982,-94.7908 1927.8865,-85.0472 1936.471,-75.8436\"/>\n<polygon fill=\"#000000\" stroke=\"#000000\" points=\"1939.2796,-77.9637 1943.5411,-68.2637 1934.1607,-73.1891 1939.2796,-77.9637\"/>\n</g>\n</g>\n</svg>\n"
          },
          "metadata": {
            "tags": []
          },
          "execution_count": 36
        },
        {
          "output_type": "display_data",
          "data": {
            "text/plain": [
              "<Figure size 1152x576 with 0 Axes>"
            ]
          },
          "metadata": {
            "tags": []
          }
        }
      ]
    },
    {
      "cell_type": "code",
      "metadata": {
        "id": "UoDmNbFK934D",
        "colab": {
          "base_uri": "https://localhost:8080/"
        },
        "outputId": "c60ca75e-836a-4c59-9647-9aeeb7443d16"
      },
      "source": [
        "#Predict the response for test dataset\n",
        "y_pred = arbol.predict(x_test)\n",
        "\n",
        "print(\"Accuracy:\",metrics.accuracy_score(y_test, y_pred))"
      ],
      "execution_count": 37,
      "outputs": [
        {
          "output_type": "stream",
          "text": [
            "Accuracy: 0.6533333333333333\n"
          ],
          "name": "stdout"
        }
      ]
    }
  ]
}