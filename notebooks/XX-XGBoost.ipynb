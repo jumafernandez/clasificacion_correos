{
  "nbformat": 4,
  "nbformat_minor": 0,
  "metadata": {
    "colab": {
      "name": "XX-XGBoost.ipynb",
      "provenance": [],
      "authorship_tag": "ABX9TyMHPLa20Sgx7kcDcRUrUvD1",
      "include_colab_link": true
    },
    "kernelspec": {
      "name": "python3",
      "display_name": "Python 3"
    }
  },
  "cells": [
    {
      "cell_type": "markdown",
      "metadata": {
        "id": "view-in-github",
        "colab_type": "text"
      },
      "source": [
        "<a href=\"https://colab.research.google.com/github/jumafernandez/clasificacion_correos/blob/main/notebooks/XX-XGBoost.ipynb\" target=\"_parent\"><img src=\"https://colab.research.google.com/assets/colab-badge.svg\" alt=\"Open In Colab\"/></a>"
      ]
    },
    {
      "cell_type": "code",
      "metadata": {
        "colab": {
          "base_uri": "https://localhost:8080/"
        },
        "id": "PEkenEe5z-C8",
        "outputId": "4afe18e0-a81e-492c-b2f4-4a6adad13bd0"
      },
      "source": [
        "# Descargo el archivo para el ejemplo de diabetes\r\n",
        "if not(path.exists(\"pima-indians-diabetes.xgb-example.csv\")):\r\n",
        "  !wget https://raw.githubusercontent.com/jumafernandez/clasificacion_correos/main/data/pima-indians-diabetes.xgb-example.csv"
      ],
      "execution_count": 23,
      "outputs": [
        {
          "output_type": "stream",
          "text": [
            "--2021-02-15 18:13:39--  https://raw.githubusercontent.com/jumafernandez/clasificacion_correos/main/data/pima-indians-diabetes.xgb-example.csv\n",
            "Resolving raw.githubusercontent.com (raw.githubusercontent.com)... 185.199.108.133, 185.199.109.133, 185.199.110.133, ...\n",
            "Connecting to raw.githubusercontent.com (raw.githubusercontent.com)|185.199.108.133|:443... connected.\n",
            "HTTP request sent, awaiting response... 200 OK\n",
            "Length: 23278 (23K) [text/plain]\n",
            "Saving to: ‘pima-indians-diabetes.xgb-example.csv’\n",
            "\n",
            "pima-indians-diabet 100%[===================>]  22.73K  --.-KB/s    in 0s      \n",
            "\n",
            "2021-02-15 18:13:39 (64.7 MB/s) - ‘pima-indians-diabetes.xgb-example.csv’ saved [23278/23278]\n",
            "\n"
          ],
          "name": "stdout"
        }
      ]
    },
    {
      "cell_type": "code",
      "metadata": {
        "id": "V-WuNgNB5XoB"
      },
      "source": [
        "# Importo las librerías necesarias\r\n",
        "from numpy import loadtxt\r\n",
        "from xgboost import XGBClassifier\r\n",
        "from sklearn.model_selection import train_test_split"
      ],
      "execution_count": 24,
      "outputs": []
    },
    {
      "cell_type": "code",
      "metadata": {
        "id": "5wm9xIjm4Rcd"
      },
      "source": [
        "# Cargo los datos\r\n",
        "dataset = loadtxt('pima-indians-diabetes.xgb-example.csv', delimiter=\",\")\r\n",
        "\r\n",
        "# Separo en vector de características y variable objetivo\r\n",
        "X = dataset[:,0:5]\r\n",
        "Y = dataset[:,5]\r\n",
        "\r\n",
        "# Separo en train y test\r\n",
        "test_size = 0.33\r\n",
        "X_train, X_test, y_train, y_test = train_test_split(X, Y, test_size=test_size)"
      ],
      "execution_count": 25,
      "outputs": []
    },
    {
      "cell_type": "code",
      "metadata": {
        "colab": {
          "base_uri": "https://localhost:8080/"
        },
        "id": "froeTDUz5smI",
        "outputId": "f207b627-ffc2-4d63-a468-58fa9743c0b9"
      },
      "source": [
        "# Inicializo el modelo y lo entreno\r\n",
        "model = XGBClassifier()\r\n",
        "model.fit(X_train, y_train)"
      ],
      "execution_count": 26,
      "outputs": [
        {
          "output_type": "execute_result",
          "data": {
            "text/plain": [
              "XGBClassifier(base_score=0.5, booster='gbtree', colsample_bylevel=1,\n",
              "              colsample_bynode=1, colsample_bytree=1, gamma=0,\n",
              "              learning_rate=0.1, max_delta_step=0, max_depth=3,\n",
              "              min_child_weight=1, missing=None, n_estimators=100, n_jobs=1,\n",
              "              nthread=None, objective='binary:logistic', random_state=0,\n",
              "              reg_alpha=0, reg_lambda=1, scale_pos_weight=1, seed=None,\n",
              "              silent=None, subsample=1, verbosity=1)"
            ]
          },
          "metadata": {
            "tags": []
          },
          "execution_count": 26
        }
      ]
    },
    {
      "cell_type": "code",
      "metadata": {
        "id": "E4MKDsWd50KA"
      },
      "source": [
        "# Hago las predicciones en función del modelo entrenado\r\n",
        "y_pred = model.predict(X_test)"
      ],
      "execution_count": 31,
      "outputs": []
    },
    {
      "cell_type": "code",
      "metadata": {
        "colab": {
          "base_uri": "https://localhost:8080/"
        },
        "id": "biK4p74462VY",
        "outputId": "496a6c84-c523-499c-cdec-f34c0df2114d"
      },
      "source": [
        "from sklearn import metrics\r\n",
        "\r\n",
        "print(\"Accuracy: \",metrics.accuracy_score(y_test, y_pred))"
      ],
      "execution_count": 30,
      "outputs": [
        {
          "output_type": "stream",
          "text": [
            "Accuracy:  0.7480314960629921\n"
          ],
          "name": "stdout"
        }
      ]
    }
  ]
}