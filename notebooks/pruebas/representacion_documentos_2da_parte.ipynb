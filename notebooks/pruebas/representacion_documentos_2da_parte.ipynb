{
  "nbformat": 4,
  "nbformat_minor": 0,
  "metadata": {
    "colab": {
      "name": "representacion_documentos_2da_parte.ipynb",
      "provenance": [],
      "collapsed_sections": []
    },
    "kernelspec": {
      "name": "python3",
      "display_name": "Python 3"
    }
  },
  "cells": [
    {
      "cell_type": "markdown",
      "metadata": {
        "id": "D9y1c9WSTe1q"
      },
      "source": [
        "# Notebook: representacion_documentos_2da_parte.ipynb\n",
        "\n",
        "En esta notebook se utilizan distintos modelos de representación de documentos con distintas colecciones de datos que son cargadas de diversas formas: \n",
        "\n",
        "**1. 20 News Group** \n",
        "\n",
        "En este caso se utiliza la colección *20 News Group*, cargándola mediante la facilidad \"fetch_20newsgroups\" provista por sci-kit learn. En este caso, además de la representación tf-idf clásica, se muestran dos ejemplos de reducción de dimensionalidad, uno mediante *selección de características* ($\\chi^2$) y el otro mediante *transformación de características* (LSA)\n",
        "\n",
        "**2. Colección oficialistas-opositores**\n",
        "\n",
        "Esta es una colección en español con documentos periodísticos argentinos. Para su análisis se utilizan dos representaciones de documentos. Una con características \"estáticas\" obtenidas de LIWC y otra con características dinámicas obtenidas con los vectorizadores de scikit-learn\n",
        "\n",
        "**3. Críticas de películas**\n",
        "\n",
        "Opiniones sobre películas obtenidas de NLTK\n",
        "\n",
        "**4. Transcripciones de monólogos**\n",
        "\n",
        "Esta colección se obtiene de las transcripciones de monólogos de 12 artistas de stand-up bajados directamente de la Web.\n",
        "\n",
        "\n",
        "\n",
        "\n"
      ]
    },
    {
      "cell_type": "markdown",
      "metadata": {
        "id": "JRlqaI8C6KrY"
      },
      "source": [
        "<img src=\"https://images.freeimages.com/images/small-previews/c8e/books-1478715.jpg\" alt=\"drawing\" width=\"350\"/> \n",
        "<img src=\"https://image.shutterstock.com/image-vector/shopping-bag-word-cloud-600w-137359802.jpg\" alt=\"drawing\" width=\"350\"/>\n"
      ]
    },
    {
      "cell_type": "markdown",
      "metadata": {
        "id": "HfAifJPQ66Vy"
      },
      "source": [
        "<a id='section2'></a>\n",
        "#1) 20 News Group"
      ]
    },
    {
      "cell_type": "markdown",
      "metadata": {
        "id": "deY7TRZ3Qt0k"
      },
      "source": [
        "### Simulamos con el diccionario \"opts\" las distintas opciones que se pueden especificar respecto al número de categorías, filtrado de encabezados, uso de técnicas de reducción de dimensionalidad y número de features seleccionadas (o transformadas)"
      ]
    },
    {
      "cell_type": "code",
      "metadata": {
        "id": "ZIoYRuy8cpFR"
      },
      "source": [
        "opts = {\"all_categories\" : False,\n",
        "        \"filtered\" : True,\n",
        "        \"select_chi2\" : True,\n",
        "        \"transform_LSA\": True\n",
        "        }\n",
        "\n",
        "if opts.get(\"select_chi2\"):\n",
        "  opts[\"num_feat\"] = 1000\n",
        "  \n",
        "if opts.get(\"transform_LSA\"):\n",
        "  opts[\"num_feat2\"] = 50  "
      ],
      "execution_count": null,
      "outputs": []
    },
    {
      "cell_type": "code",
      "metadata": {
        "id": "9IFtbCoSeIaL",
        "colab": {
          "base_uri": "https://localhost:8080/",
          "height": 54
        },
        "outputId": "c1a4a97c-db2d-4e7c-856b-0641f7a815aa"
      },
      "source": [
        "print(opts.keys())\n",
        "opts.get(\"all_categories\")"
      ],
      "execution_count": null,
      "outputs": [
        {
          "output_type": "stream",
          "text": [
            "dict_keys(['all_categories', 'filtered', 'select_chi2', 'transform_LSA', 'num_feat', 'num_feat2'])\n"
          ],
          "name": "stdout"
        },
        {
          "output_type": "execute_result",
          "data": {
            "text/plain": [
              "False"
            ]
          },
          "metadata": {
            "tags": []
          },
          "execution_count": 2
        }
      ]
    },
    {
      "cell_type": "code",
      "metadata": {
        "id": "Ku2CFm8neF3c"
      },
      "source": [
        "import logging\n",
        "import numpy as np\n",
        "from time import time\n",
        "import matplotlib.pyplot as plt\n",
        "\n",
        "from sklearn.datasets import fetch_20newsgroups\n",
        "from sklearn.decomposition import TruncatedSVD\n",
        "from sklearn.feature_extraction.text import CountVectorizer\n",
        "from sklearn.feature_extraction.text import TfidfVectorizer\n",
        "from sklearn.feature_selection import SelectFromModel\n",
        "from sklearn.feature_selection import SelectKBest, chi2\n",
        "from sklearn.pipeline import make_pipeline\n",
        "from sklearn.preprocessing import Normalizer\n",
        "\n",
        "from sklearn.pipeline import Pipeline\n"
      ],
      "execution_count": null,
      "outputs": []
    },
    {
      "cell_type": "code",
      "metadata": {
        "id": "j3_o5Cu6gO1q",
        "colab": {
          "base_uri": "https://localhost:8080/",
          "height": 35
        },
        "outputId": "065d3982-58b1-4a11-801f-7dc163596f69"
      },
      "source": [
        "# #############################################################################\n",
        "# Load some categories from the training set\n",
        "if opts.get(\"all_categories\"):\n",
        "    categories = None\n",
        "else:\n",
        "    categories = [\n",
        "        'alt.atheism',\n",
        "        'talk.religion.misc',\n",
        "        'comp.graphics',\n",
        "        'sci.space',\n",
        "    ]\n",
        "print(categories)"
      ],
      "execution_count": null,
      "outputs": [
        {
          "output_type": "stream",
          "text": [
            "['alt.atheism', 'talk.religion.misc', 'comp.graphics', 'sci.space']\n"
          ],
          "name": "stdout"
        }
      ]
    },
    {
      "cell_type": "code",
      "metadata": {
        "id": "SUMu0f8fgkM6",
        "colab": {
          "base_uri": "https://localhost:8080/",
          "height": 35
        },
        "outputId": "67f4f6bd-c731-4d43-d628-b3551688881a"
      },
      "source": [
        "if opts.get(\"filtered\"):\n",
        "    remove = ('headers', 'footers', 'quotes')\n",
        "else:\n",
        "    remove = ()\n",
        "\n",
        "print(remove)    "
      ],
      "execution_count": null,
      "outputs": [
        {
          "output_type": "stream",
          "text": [
            "('headers', 'footers', 'quotes')\n"
          ],
          "name": "stdout"
        }
      ]
    },
    {
      "cell_type": "code",
      "metadata": {
        "id": "c2qNTXtChdYb",
        "colab": {
          "base_uri": "https://localhost:8080/",
          "height": 217
        },
        "outputId": "00442d85-8bcf-454d-9060-45f63fead851"
      },
      "source": [
        "print(\"Cargando la colección 20 newsgroups (subconjunto de entrenamiento) para las categorías:\")\n",
        "print(categories if categories else \"all\")\n",
        "\n",
        "datos = fetch_20newsgroups(subset='train', categories=categories,\n",
        "                                shuffle=True, random_state=42,\n",
        "                                remove=remove)\n",
        "print('datos cargados \\n \\n ')\n",
        "print(\"El objeto retornado por la operación de carga es de tipo:\", type(datos))\n",
        "\n",
        "# order of labels in `target_names` can be different from `categories`\n",
        "target_names = datos.target_names\n",
        "\n",
        "\n",
        "def size_mb(docs):\n",
        "    return sum(len(s.encode('utf-8')) for s in docs) / 1e6\n",
        "\n",
        "\n",
        "datos_size_mb = size_mb(datos.data)\n",
        "\n",
        "print(\"%d documentos - %0.3fMB (en el conjunto cargado)\" % (\n",
        "    len(datos.data), datos_size_mb))\n",
        "print(\"%d categorías\" % len(target_names))\n",
        "print()\n"
      ],
      "execution_count": null,
      "outputs": [
        {
          "output_type": "stream",
          "text": [
            "Downloading 20news dataset. This may take a few minutes.\n",
            "Downloading dataset from https://ndownloader.figshare.com/files/5975967 (14 MB)\n"
          ],
          "name": "stderr"
        },
        {
          "output_type": "stream",
          "text": [
            "Cargando la colección 20 newsgroups (subconjunto de entrenamiento) para las categorías:\n",
            "['alt.atheism', 'talk.religion.misc', 'comp.graphics', 'sci.space']\n",
            "datos cargados \n",
            " \n",
            " \n",
            "El objeto retornado por la operación de carga es de tipo: <class 'sklearn.utils.Bunch'>\n",
            "2034 documentos - 2.428MB (en el conjunto cargado)\n",
            "4 categorías\n",
            "\n"
          ],
          "name": "stdout"
        }
      ]
    },
    {
      "cell_type": "code",
      "metadata": {
        "id": "YiCBved6iXYp",
        "colab": {
          "base_uri": "https://localhost:8080/",
          "height": 90
        },
        "outputId": "740ea8bc-290c-493f-8093-77eec4e270eb"
      },
      "source": [
        "y = datos.target\n",
        "\n",
        "print(\"Extrayendo las características de los datos cargados usando un vectorizador sparse\")\n",
        "t0 = time()\n",
        "\n",
        "vectorizador = TfidfVectorizer(sublinear_tf=True, max_df=0.5,\n",
        "                                 stop_words='english')\n",
        "X = vectorizador.fit_transform(datos.data)\n",
        "duration = time() - t0\n",
        "print(\"realizado en %fs a %0.3fMB/s\" % (duration, datos_size_mb / duration))\n",
        "print(\"n_muestras: %d, n_features: %d\" % X.shape)\n",
        "print()\n",
        "\n",
        "# mapping desde las features enteras al string del token original \n",
        "feature_names = vectorizador.get_feature_names()\n"
      ],
      "execution_count": null,
      "outputs": [
        {
          "output_type": "stream",
          "text": [
            "Extrayendo las características de los datos cargados usando un vectorizador sparse\n",
            "realizado en 0.335933s a 7.227MB/s\n",
            "n_muestras: 2034, n_features: 26576\n",
            "\n"
          ],
          "name": "stdout"
        }
      ]
    },
    {
      "cell_type": "code",
      "metadata": {
        "id": "-BGUqKUjfQt6",
        "colab": {
          "base_uri": "https://localhost:8080/",
          "height": 108
        },
        "outputId": "4f3d2a0c-81ba-44bf-9e2e-f4f726ae3753"
      },
      "source": [
        "print(\"Tipo de los datos vectorizados (Matriz X): \", type(X))\n",
        "print(\"Tipo del arreglo target (vector y): \", type(y))\n",
        "print(\"... y los tamaños de X e y\")\n",
        "print(X.shape)\n",
        "print(y.shape)"
      ],
      "execution_count": null,
      "outputs": [
        {
          "output_type": "stream",
          "text": [
            "Tipo de los datos vectorizados (Matriz X):  <class 'scipy.sparse.csr.csr_matrix'>\n",
            "Tipo del arreglo target (vector y):  <class 'numpy.ndarray'>\n",
            "... y los tamaños de X e y\n",
            "(2034, 26576)\n",
            "(2034,)\n"
          ],
          "name": "stdout"
        }
      ]
    },
    {
      "cell_type": "markdown",
      "metadata": {
        "id": "f23hRBRF70h2"
      },
      "source": [
        "##1.1) Selección de características (test $\\chi^2$)\n",
        "\n",
        "\n"
      ]
    },
    {
      "cell_type": "code",
      "metadata": {
        "id": "DS8N6da-fkjk",
        "colab": {
          "base_uri": "https://localhost:8080/",
          "height": 72
        },
        "outputId": "2841bb76-5e4b-4cf8-b99f-6174958b98c7"
      },
      "source": [
        "# Selección de características\n",
        "\n",
        "if opts.get(\"select_chi2\"):\n",
        "    print(\"Extrayendo las %d mejores features por un test chi-squared\" %\n",
        "          opts.get(\"num_feat\"))\n",
        "    t0 = time()\n",
        "    ch2 = SelectKBest(chi2, k=opts.get(\"num_feat\"))\n",
        "    X_chi2 = ch2.fit_transform(X, y)\n",
        "    if feature_names:\n",
        "        # keep selected feature names\n",
        "        feature_names = [feature_names[i] for i\n",
        "                         in ch2.get_support(indices=True)]\n",
        "    print(\"done in %fs\" % (time() - t0))\n",
        "    print()\n",
        "\n",
        "if feature_names:\n",
        "    feature_names = np.asarray(feature_names)\n",
        "\n",
        "\n",
        "def trim(s):\n",
        "    \"\"\"Trim string to fit on terminal (assuming 80-column display)\"\"\"\n",
        "    return s if len(s) <= 80 else s[:77] + \"...\"\n",
        "\n",
        "\n",
        "# #############################################################################\n"
      ],
      "execution_count": null,
      "outputs": [
        {
          "output_type": "stream",
          "text": [
            "Extrayendo las 1000 mejores features por un test chi-squared\n",
            "done in 0.030144s\n",
            "\n"
          ],
          "name": "stdout"
        }
      ]
    },
    {
      "cell_type": "code",
      "metadata": {
        "id": "_M-hJ9K1VrFH",
        "colab": {
          "base_uri": "https://localhost:8080/",
          "height": 308
        },
        "outputId": "472e56b3-777e-407c-d9e0-264795ca9d2f"
      },
      "source": [
        "print(\"100 primeras features seleccionadas (ordenadas alfabéticamente)\", feature_names[:100])\n",
        "print(\"\\n\")\n",
        "print(\"El tamaño de los datos reducidos (con las columnas seleccionadas):\", X_chi2.shape)\n",
        "\n"
      ],
      "execution_count": null,
      "outputs": [
        {
          "output_type": "stream",
          "text": [
            "100 primeras features seleccionadas (ordenadas alfabéticamente) ['18084tm' '1993' '1999' '2178' '23' '24' '24x' '256' '2d' '30' '32' '336'\n",
            " '355' '386' '3d' '3do' '3ds' '42' '486' '5000' '517' '640x480' '666'\n",
            " '68070' '713' '9591' 'abortion' 'absolute' 'accept' 'acm' 'act' 'action'\n",
            " 'actions' 'acts' 'address' 'adobe' 'advance' 'advertising' 'aerospace'\n",
            " 'agency' 'agent' 'agents' 'agree' 'agreed' 'air' 'aircraft' 'alaska'\n",
            " 'alexia' 'algorithm' 'algorithms' 'alive' 'allah' 'allen' 'alt'\n",
            " 'alternative' 'altitude' 'ames' 'amiga' 'amorc' 'amounts' 'angels'\n",
            " 'animal' 'animals' 'animated' 'animation' 'animations' 'answered'\n",
            " 'antenna' 'anti' 'anybody' 'apollo' 'apparent' 'appreciated' 'april'\n",
            " 'archie' 'area' 'argue' 'arguing' 'argument' 'arguments' 'ascii' 'assert'\n",
            " 'asteroids' 'astro' 'astronaut' 'astronomical' 'astronomy' 'atheism'\n",
            " 'atheist' 'atheists' 'ati' 'atmosphere' 'author' 'authority' 'available'\n",
            " 'away' 'bake' 'balloon' 'balls' 'barney']\n",
            "\n",
            "\n",
            "El tamaño de los datos reducidos (con las columnas seleccionadas): (2034, 1000)\n"
          ],
          "name": "stdout"
        }
      ]
    },
    {
      "cell_type": "markdown",
      "metadata": {
        "id": "f8pf0EJMiQQ7"
      },
      "source": [
        "### Graficando las features de mayor $\\chi^2$\n",
        "\n"
      ]
    },
    {
      "cell_type": "code",
      "metadata": {
        "id": "Gk4PXDItWT6A",
        "colab": {
          "base_uri": "https://localhost:8080/",
          "height": 503
        },
        "outputId": "1900e1be-ab40-4b3b-dcfe-1409f4b206eb"
      },
      "source": [
        "chi2score = chi2(X, y)[0]\n",
        "plt.figure(figsize=(16,8))\n",
        "scores = list(zip(vectorizador.get_feature_names(), chi2score))\n",
        "chi2 = sorted(scores, key=lambda x:x[1])\n",
        "topchi2 = list(zip(*chi2[-20:]))\n",
        "x = range(len(topchi2[1]))\n",
        "labels = topchi2[0]\n",
        "plt.barh(x,topchi2[1], align='center', alpha=0.5)\n",
        "plt.plot(topchi2[1], x, '-o', markersize=5, alpha=0.8)\n",
        "plt.yticks(x, labels)\n",
        "plt.xlabel('$\\chi^2$')\n",
        "plt.show();"
      ],
      "execution_count": null,
      "outputs": [
        {
          "output_type": "display_data",
          "data": {
            "image/png": "[encoded data removed]",
            "text/plain": [
              "<Figure size 1152x576 with 1 Axes>"
            ]
          },
          "metadata": {
            "tags": [],
            "needs_background": "light"
          }
        }
      ]
    },
    {
      "cell_type": "markdown",
      "metadata": {
        "id": "KfRPD2QZii30"
      },
      "source": [
        "##1.2) Transformación de características (LSA)"
      ]
    },
    {
      "cell_type": "code",
      "metadata": {
        "id": "md3xtH-Winh3",
        "colab": {
          "base_uri": "https://localhost:8080/",
          "height": 199
        },
        "outputId": "c34b67fe-1a8b-40b3-98d4-12af259f0fea"
      },
      "source": [
        "vectorizador2 = TfidfVectorizer(max_df=0.5, min_df=2, stop_words='english')\n",
        "X2 = vectorizador2.fit_transform(datos.data)\n",
        "\n",
        "print(\"hecho en %fs\" % (time() - t0))\n",
        "print(\"n_muestras: %d, n_features: %d\" % X.shape)\n",
        "print()\n",
        "\n",
        "if opts.get(\"transform_LSA\"):\n",
        "    print(\"Realizando reducción de la dimensionalidad con LSA\")\n",
        "    t0 = time()\n",
        "    # Los resultados del Vectorizer están normalizados. Dado que los resultados de LSA/SVD \n",
        "    # no son normalizados, rehacemos la normalización.\n",
        "    svd = TruncatedSVD(opts.get(\"num_feat2\"))\n",
        "    normalizer = Normalizer(copy=False) #El normalizador es opcional\n",
        "    lsa = make_pipeline(svd, normalizer)\n",
        "\n",
        "    X_lsa = lsa.fit_transform(X2)\n",
        "\n",
        "    print(\"done in %fs\" % (time() - t0))\n",
        "\n",
        "    explained_variance = svd.explained_variance_ratio_.sum()\n",
        "    print(\"Explained variance of the SVD step: {}%\".format(\n",
        "        int(explained_variance * 100)))\n",
        "\n",
        "    print()\n",
        "\n",
        "print(\"El tamaño de los datos reducidos (con las columnas transformadas):\\n\", X_lsa.shape)\n",
        "print(\"n_muestras: %d, n_features: %d\" % X_lsa.shape)"
      ],
      "execution_count": null,
      "outputs": [
        {
          "output_type": "stream",
          "text": [
            "hecho en 120.272196s\n",
            "n_muestras: 2034, n_features: 26576\n",
            "\n",
            "Realizando reducción de la dimensionalidad con LSA\n",
            "done in 0.379396s\n",
            "Explained variance of the SVD step: 11%\n",
            "\n",
            "El tamaño de los datos reducidos (con las columnas transformadas):\n",
            " (2034, 50)\n",
            "n_muestras: 2034, n_features: 50\n"
          ],
          "name": "stdout"
        }
      ]
    },
    {
      "cell_type": "markdown",
      "metadata": {
        "id": "SfmPHPYD7IQa"
      },
      "source": [
        ""
      ]
    },
    {
      "cell_type": "markdown",
      "metadata": {
        "id": "MVC5RSSxelMV"
      },
      "source": [
        "#2) Colección *oficialistas* y *opositores*\n",
        "\n",
        "Esta colección de documentos se describe [aqui], y consiste en 196 textos periodísticos escritos en el período de gobierno 201-2015, siendo la mitad de periodistas que adherian a las políticas del gobierno de aquellos años (oficialistas) y la otra mitad de periodistas opositores a dichas políticas. En este caso, se comienza primero con una representación con 90 features estáticas obtenidas mediante el sistema LIWC. Dicho datos se leen de un archivo en formato \"csv\" accesible en Github. La misma colección es accedida cargando los textos \"crudos\", desde un  directorio disponible en Google Drive. En este caso se monta el directorio donde se encuentra la colección de documentos y se cargan los documentos \"crudos\" con la facilidad *load_files* de sci-kit learn. \n",
        "\n",
        " \n"
      ]
    },
    {
      "cell_type": "markdown",
      "metadata": {
        "id": "BzUSUG6lakG4"
      },
      "source": [
        "## 2.1) Features estáticas (LIWC)"
      ]
    },
    {
      "cell_type": "code",
      "metadata": {
        "id": "KebhMHOCxdrN"
      },
      "source": [
        "import pandas as pd"
      ],
      "execution_count": null,
      "outputs": []
    },
    {
      "cell_type": "code",
      "metadata": {
        "id": "2itg60d0gAmj",
        "colab": {
          "base_uri": "https://localhost:8080/",
          "height": 617
        },
        "outputId": "18d0b098-859b-4360-875f-ea3eec8fc424"
      },
      "source": [
        "!wget \"https://raw.githubusercontent.com/merrecalde/curso_la_plata_2019/master/oficialistas_LIWC.csv\"\n",
        "!wget \"https://raw.githubusercontent.com/merrecalde/curso_la_plata_2019/master/opositores_LIWC.csv\"\n",
        "!wget \"https://raw.githubusercontent.com/merrecalde/curso_la_plata_2019/master/ofi_opo_LIWC.csv\""
      ],
      "execution_count": null,
      "outputs": [
        {
          "output_type": "stream",
          "text": [
            "--2020-06-08 20:51:39--  https://raw.githubusercontent.com/merrecalde/curso_la_plata_2019/master/oficialistas_LIWC.csv\n",
            "Resolving raw.githubusercontent.com (raw.githubusercontent.com)... 151.101.0.133, 151.101.64.133, 151.101.128.133, ...\n",
            "Connecting to raw.githubusercontent.com (raw.githubusercontent.com)|151.101.0.133|:443... connected.\n",
            "HTTP request sent, awaiting response... 200 OK\n",
            "Length: 64238 (63K) [text/plain]\n",
            "Saving to: ‘oficialistas_LIWC.csv’\n",
            "\n",
            "\roficialistas_LIWC.c   0%[                    ]       0  --.-KB/s               \roficialistas_LIWC.c 100%[===================>]  62.73K  --.-KB/s    in 0.02s   \n",
            "\n",
            "2020-06-08 20:51:39 (3.68 MB/s) - ‘oficialistas_LIWC.csv’ saved [64238/64238]\n",
            "\n",
            "--2020-06-08 20:51:40--  https://raw.githubusercontent.com/merrecalde/curso_la_plata_2019/master/opositores_LIWC.csv\n",
            "Resolving raw.githubusercontent.com (raw.githubusercontent.com)... 151.101.0.133, 151.101.64.133, 151.101.128.133, ...\n",
            "Connecting to raw.githubusercontent.com (raw.githubusercontent.com)|151.101.0.133|:443... connected.\n",
            "HTTP request sent, awaiting response... 200 OK\n",
            "Length: 64231 (63K) [text/plain]\n",
            "Saving to: ‘opositores_LIWC.csv’\n",
            "\n",
            "opositores_LIWC.csv 100%[===================>]  62.73K  --.-KB/s    in 0.02s   \n",
            "\n",
            "2020-06-08 20:51:40 (3.82 MB/s) - ‘opositores_LIWC.csv’ saved [64231/64231]\n",
            "\n",
            "--2020-06-08 20:51:42--  https://raw.githubusercontent.com/merrecalde/curso_la_plata_2019/master/ofi_opo_LIWC.csv\n",
            "Resolving raw.githubusercontent.com (raw.githubusercontent.com)... 151.101.0.133, 151.101.64.133, 151.101.128.133, ...\n",
            "Connecting to raw.githubusercontent.com (raw.githubusercontent.com)|151.101.0.133|:443... connected.\n",
            "HTTP request sent, awaiting response... 200 OK\n",
            "Length: 127822 (125K) [text/plain]\n",
            "Saving to: ‘ofi_opo_LIWC.csv’\n",
            "\n",
            "ofi_opo_LIWC.csv    100%[===================>] 124.83K  --.-KB/s    in 0.03s   \n",
            "\n",
            "2020-06-08 20:51:42 (4.78 MB/s) - ‘ofi_opo_LIWC.csv’ saved [127822/127822]\n",
            "\n"
          ],
          "name": "stdout"
        }
      ]
    },
    {
      "cell_type": "code",
      "metadata": {
        "id": "eNl1ATyKvQca"
      },
      "source": [
        "data_ofi = pd.read_csv('oficialistas_LIWC.csv',decimal=',')\n",
        "data_opo = pd.read_csv('opositores_LIWC.csv',decimal=',')\n",
        "data_ofi_opo = pd.read_csv('ofi_opo_LIWC.csv',decimal=',')"
      ],
      "execution_count": null,
      "outputs": []
    },
    {
      "cell_type": "markdown",
      "metadata": {
        "id": "cV6aMyU6vQce"
      },
      "source": [
        "### Número de palabras (opositor)"
      ]
    },
    {
      "cell_type": "code",
      "metadata": {
        "id": "VVeuK0fzvQcf",
        "colab": {
          "base_uri": "https://localhost:8080/",
          "height": 247
        },
        "outputId": "36506d29-0445-4a18-a6ed-58a1eafce537"
      },
      "source": [
        "data_opo.head()"
      ],
      "execution_count": null,
      "outputs": [
        {
          "output_type": "execute_result",
          "data": {
            "text/html": [
              "<div>\n",
              "<style scoped>\n",
              "    .dataframe tbody tr th:only-of-type {\n",
              "        vertical-align: middle;\n",
              "    }\n",
              "\n",
              "    .dataframe tbody tr th {\n",
              "        vertical-align: top;\n",
              "    }\n",
              "\n",
              "    .dataframe thead th {\n",
              "        text-align: right;\n",
              "    }\n",
              "</style>\n",
              "<table border=\"1\" class=\"dataframe\">\n",
              "  <thead>\n",
              "    <tr style=\"text-align: right;\">\n",
              "      <th></th>\n",
              "      <th>Filename</th>\n",
              "      <th>Segment</th>\n",
              "      <th>WC</th>\n",
              "      <th>WPS</th>\n",
              "      <th>Sixltr</th>\n",
              "      <th>Dic</th>\n",
              "      <th>Funct</th>\n",
              "      <th>TotPron</th>\n",
              "      <th>PronPer</th>\n",
              "      <th>Yo</th>\n",
              "      <th>Nosotro</th>\n",
              "      <th>TuUtd</th>\n",
              "      <th>ElElla</th>\n",
              "      <th>Ellos</th>\n",
              "      <th>PronImp</th>\n",
              "      <th>Articulo</th>\n",
              "      <th>Verbos</th>\n",
              "      <th>VerbAux</th>\n",
              "      <th>Pasado</th>\n",
              "      <th>Present</th>\n",
              "      <th>Futuro</th>\n",
              "      <th>Adverb</th>\n",
              "      <th>Prepos</th>\n",
              "      <th>Conjunc</th>\n",
              "      <th>Negacio</th>\n",
              "      <th>Cuantif</th>\n",
              "      <th>Numeros</th>\n",
              "      <th>Maldec</th>\n",
              "      <th>verbYO</th>\n",
              "      <th>verbTU</th>\n",
              "      <th>verbNOS</th>\n",
              "      <th>verbosEL</th>\n",
              "      <th>verbELLOS</th>\n",
              "      <th>Subjuntiv</th>\n",
              "      <th>VosUtds</th>\n",
              "      <th>formal</th>\n",
              "      <th>informal</th>\n",
              "      <th>verbVos</th>\n",
              "      <th>Social</th>\n",
              "      <th>Familia</th>\n",
              "      <th>...</th>\n",
              "      <th>Tentat</th>\n",
              "      <th>Certeza</th>\n",
              "      <th>Inhib</th>\n",
              "      <th>Incl</th>\n",
              "      <th>Excl</th>\n",
              "      <th>Percept</th>\n",
              "      <th>Ver</th>\n",
              "      <th>Oir</th>\n",
              "      <th>Sentir</th>\n",
              "      <th>Biolog</th>\n",
              "      <th>Cuerpo</th>\n",
              "      <th>Salud</th>\n",
              "      <th>Sexual</th>\n",
              "      <th>Ingerir</th>\n",
              "      <th>Relativ</th>\n",
              "      <th>Movim</th>\n",
              "      <th>Espacio</th>\n",
              "      <th>Tiempo</th>\n",
              "      <th>Trabajo</th>\n",
              "      <th>Logro</th>\n",
              "      <th>Placer</th>\n",
              "      <th>Hogar</th>\n",
              "      <th>Dinero</th>\n",
              "      <th>Relig</th>\n",
              "      <th>Muerte</th>\n",
              "      <th>Asentir</th>\n",
              "      <th>NoFluen</th>\n",
              "      <th>Relleno</th>\n",
              "      <th>AllPunc</th>\n",
              "      <th>Period</th>\n",
              "      <th>Comma</th>\n",
              "      <th>Colon</th>\n",
              "      <th>SemiC</th>\n",
              "      <th>QMark</th>\n",
              "      <th>Exclam</th>\n",
              "      <th>Dash</th>\n",
              "      <th>Quote</th>\n",
              "      <th>Apostro</th>\n",
              "      <th>Parenth</th>\n",
              "      <th>OtherP</th>\n",
              "    </tr>\n",
              "  </thead>\n",
              "  <tbody>\n",
              "    <tr>\n",
              "      <th>0</th>\n",
              "      <td>al01.txt</td>\n",
              "      <td>1</td>\n",
              "      <td>1156</td>\n",
              "      <td>23.59</td>\n",
              "      <td>23.53</td>\n",
              "      <td>68.86</td>\n",
              "      <td>46.11</td>\n",
              "      <td>13.15</td>\n",
              "      <td>8.48</td>\n",
              "      <td>0.09</td>\n",
              "      <td>0.00</td>\n",
              "      <td>0.17</td>\n",
              "      <td>8.30</td>\n",
              "      <td>3.37</td>\n",
              "      <td>4.67</td>\n",
              "      <td>12.37</td>\n",
              "      <td>8.48</td>\n",
              "      <td>0.26</td>\n",
              "      <td>2.51</td>\n",
              "      <td>4.67</td>\n",
              "      <td>0.0</td>\n",
              "      <td>3.03</td>\n",
              "      <td>15.05</td>\n",
              "      <td>6.57</td>\n",
              "      <td>1.56</td>\n",
              "      <td>0.95</td>\n",
              "      <td>1.38</td>\n",
              "      <td>0.0</td>\n",
              "      <td>0.43</td>\n",
              "      <td>0.17</td>\n",
              "      <td>0.00</td>\n",
              "      <td>2.16</td>\n",
              "      <td>0.87</td>\n",
              "      <td>0.95</td>\n",
              "      <td>0.17</td>\n",
              "      <td>0.00</td>\n",
              "      <td>0.00</td>\n",
              "      <td>0.0</td>\n",
              "      <td>8.74</td>\n",
              "      <td>0.52</td>\n",
              "      <td>...</td>\n",
              "      <td>1.47</td>\n",
              "      <td>1.56</td>\n",
              "      <td>0.35</td>\n",
              "      <td>6.57</td>\n",
              "      <td>1.47</td>\n",
              "      <td>1.90</td>\n",
              "      <td>0.35</td>\n",
              "      <td>0.26</td>\n",
              "      <td>0.61</td>\n",
              "      <td>1.82</td>\n",
              "      <td>0.78</td>\n",
              "      <td>0.26</td>\n",
              "      <td>0.26</td>\n",
              "      <td>0.87</td>\n",
              "      <td>7.09</td>\n",
              "      <td>2.08</td>\n",
              "      <td>3.37</td>\n",
              "      <td>2.34</td>\n",
              "      <td>2.51</td>\n",
              "      <td>1.30</td>\n",
              "      <td>1.04</td>\n",
              "      <td>0.43</td>\n",
              "      <td>1.04</td>\n",
              "      <td>0.61</td>\n",
              "      <td>0.61</td>\n",
              "      <td>0.35</td>\n",
              "      <td>0.0</td>\n",
              "      <td>0.0</td>\n",
              "      <td>8.91</td>\n",
              "      <td>4.15</td>\n",
              "      <td>3.46</td>\n",
              "      <td>0.26</td>\n",
              "      <td>0.0</td>\n",
              "      <td>0.09</td>\n",
              "      <td>0.0</td>\n",
              "      <td>0.26</td>\n",
              "      <td>0.0</td>\n",
              "      <td>0.0</td>\n",
              "      <td>0.69</td>\n",
              "      <td>0.00</td>\n",
              "    </tr>\n",
              "    <tr>\n",
              "      <th>1</th>\n",
              "      <td>al02.txt</td>\n",
              "      <td>1</td>\n",
              "      <td>1097</td>\n",
              "      <td>17.14</td>\n",
              "      <td>23.70</td>\n",
              "      <td>73.20</td>\n",
              "      <td>48.04</td>\n",
              "      <td>13.95</td>\n",
              "      <td>7.93</td>\n",
              "      <td>0.00</td>\n",
              "      <td>0.36</td>\n",
              "      <td>0.64</td>\n",
              "      <td>7.66</td>\n",
              "      <td>2.64</td>\n",
              "      <td>6.02</td>\n",
              "      <td>11.39</td>\n",
              "      <td>10.67</td>\n",
              "      <td>1.19</td>\n",
              "      <td>1.91</td>\n",
              "      <td>7.93</td>\n",
              "      <td>0.0</td>\n",
              "      <td>4.01</td>\n",
              "      <td>13.04</td>\n",
              "      <td>7.93</td>\n",
              "      <td>2.19</td>\n",
              "      <td>1.73</td>\n",
              "      <td>2.28</td>\n",
              "      <td>0.0</td>\n",
              "      <td>0.73</td>\n",
              "      <td>0.00</td>\n",
              "      <td>0.09</td>\n",
              "      <td>3.74</td>\n",
              "      <td>1.37</td>\n",
              "      <td>1.64</td>\n",
              "      <td>0.27</td>\n",
              "      <td>0.09</td>\n",
              "      <td>0.00</td>\n",
              "      <td>0.0</td>\n",
              "      <td>9.30</td>\n",
              "      <td>0.27</td>\n",
              "      <td>...</td>\n",
              "      <td>2.64</td>\n",
              "      <td>0.91</td>\n",
              "      <td>0.64</td>\n",
              "      <td>6.65</td>\n",
              "      <td>1.82</td>\n",
              "      <td>2.64</td>\n",
              "      <td>0.64</td>\n",
              "      <td>0.73</td>\n",
              "      <td>0.27</td>\n",
              "      <td>2.01</td>\n",
              "      <td>0.82</td>\n",
              "      <td>0.27</td>\n",
              "      <td>0.27</td>\n",
              "      <td>1.28</td>\n",
              "      <td>6.93</td>\n",
              "      <td>1.73</td>\n",
              "      <td>4.28</td>\n",
              "      <td>1.91</td>\n",
              "      <td>3.10</td>\n",
              "      <td>3.01</td>\n",
              "      <td>0.36</td>\n",
              "      <td>0.09</td>\n",
              "      <td>1.37</td>\n",
              "      <td>0.36</td>\n",
              "      <td>0.36</td>\n",
              "      <td>0.27</td>\n",
              "      <td>0.0</td>\n",
              "      <td>0.0</td>\n",
              "      <td>9.12</td>\n",
              "      <td>5.65</td>\n",
              "      <td>2.64</td>\n",
              "      <td>0.27</td>\n",
              "      <td>0.0</td>\n",
              "      <td>0.27</td>\n",
              "      <td>0.0</td>\n",
              "      <td>0.00</td>\n",
              "      <td>0.0</td>\n",
              "      <td>0.0</td>\n",
              "      <td>0.00</td>\n",
              "      <td>0.27</td>\n",
              "    </tr>\n",
              "    <tr>\n",
              "      <th>2</th>\n",
              "      <td>al03.txt</td>\n",
              "      <td>1</td>\n",
              "      <td>1104</td>\n",
              "      <td>20.83</td>\n",
              "      <td>23.10</td>\n",
              "      <td>72.46</td>\n",
              "      <td>46.83</td>\n",
              "      <td>11.68</td>\n",
              "      <td>6.52</td>\n",
              "      <td>0.09</td>\n",
              "      <td>0.91</td>\n",
              "      <td>0.27</td>\n",
              "      <td>6.25</td>\n",
              "      <td>2.36</td>\n",
              "      <td>5.16</td>\n",
              "      <td>12.59</td>\n",
              "      <td>8.15</td>\n",
              "      <td>0.63</td>\n",
              "      <td>1.54</td>\n",
              "      <td>5.80</td>\n",
              "      <td>0.0</td>\n",
              "      <td>2.81</td>\n",
              "      <td>15.85</td>\n",
              "      <td>6.34</td>\n",
              "      <td>1.54</td>\n",
              "      <td>1.36</td>\n",
              "      <td>1.27</td>\n",
              "      <td>0.0</td>\n",
              "      <td>0.18</td>\n",
              "      <td>0.00</td>\n",
              "      <td>0.09</td>\n",
              "      <td>2.72</td>\n",
              "      <td>0.18</td>\n",
              "      <td>1.09</td>\n",
              "      <td>0.18</td>\n",
              "      <td>0.00</td>\n",
              "      <td>0.00</td>\n",
              "      <td>0.0</td>\n",
              "      <td>9.33</td>\n",
              "      <td>0.54</td>\n",
              "      <td>...</td>\n",
              "      <td>1.72</td>\n",
              "      <td>1.09</td>\n",
              "      <td>0.72</td>\n",
              "      <td>7.79</td>\n",
              "      <td>2.17</td>\n",
              "      <td>3.62</td>\n",
              "      <td>0.63</td>\n",
              "      <td>1.72</td>\n",
              "      <td>0.36</td>\n",
              "      <td>1.63</td>\n",
              "      <td>0.63</td>\n",
              "      <td>0.09</td>\n",
              "      <td>0.18</td>\n",
              "      <td>0.82</td>\n",
              "      <td>8.15</td>\n",
              "      <td>1.36</td>\n",
              "      <td>5.25</td>\n",
              "      <td>1.99</td>\n",
              "      <td>2.36</td>\n",
              "      <td>2.26</td>\n",
              "      <td>0.82</td>\n",
              "      <td>0.54</td>\n",
              "      <td>0.91</td>\n",
              "      <td>0.45</td>\n",
              "      <td>0.09</td>\n",
              "      <td>0.18</td>\n",
              "      <td>0.0</td>\n",
              "      <td>0.0</td>\n",
              "      <td>8.61</td>\n",
              "      <td>4.53</td>\n",
              "      <td>3.17</td>\n",
              "      <td>0.45</td>\n",
              "      <td>0.0</td>\n",
              "      <td>0.36</td>\n",
              "      <td>0.0</td>\n",
              "      <td>0.00</td>\n",
              "      <td>0.0</td>\n",
              "      <td>0.0</td>\n",
              "      <td>0.00</td>\n",
              "      <td>0.09</td>\n",
              "    </tr>\n",
              "    <tr>\n",
              "      <th>3</th>\n",
              "      <td>al04.txt</td>\n",
              "      <td>1</td>\n",
              "      <td>863</td>\n",
              "      <td>16.28</td>\n",
              "      <td>22.71</td>\n",
              "      <td>70.57</td>\n",
              "      <td>47.51</td>\n",
              "      <td>14.14</td>\n",
              "      <td>7.76</td>\n",
              "      <td>0.35</td>\n",
              "      <td>0.23</td>\n",
              "      <td>1.04</td>\n",
              "      <td>7.18</td>\n",
              "      <td>1.74</td>\n",
              "      <td>6.37</td>\n",
              "      <td>10.89</td>\n",
              "      <td>8.34</td>\n",
              "      <td>0.23</td>\n",
              "      <td>1.51</td>\n",
              "      <td>5.68</td>\n",
              "      <td>0.0</td>\n",
              "      <td>3.59</td>\n",
              "      <td>16.34</td>\n",
              "      <td>5.33</td>\n",
              "      <td>1.62</td>\n",
              "      <td>1.62</td>\n",
              "      <td>1.97</td>\n",
              "      <td>0.0</td>\n",
              "      <td>1.16</td>\n",
              "      <td>0.12</td>\n",
              "      <td>0.23</td>\n",
              "      <td>2.78</td>\n",
              "      <td>0.23</td>\n",
              "      <td>1.51</td>\n",
              "      <td>0.12</td>\n",
              "      <td>0.00</td>\n",
              "      <td>0.23</td>\n",
              "      <td>0.0</td>\n",
              "      <td>8.46</td>\n",
              "      <td>0.23</td>\n",
              "      <td>...</td>\n",
              "      <td>2.90</td>\n",
              "      <td>0.93</td>\n",
              "      <td>0.35</td>\n",
              "      <td>4.87</td>\n",
              "      <td>2.67</td>\n",
              "      <td>1.74</td>\n",
              "      <td>0.46</td>\n",
              "      <td>0.58</td>\n",
              "      <td>0.00</td>\n",
              "      <td>1.27</td>\n",
              "      <td>0.46</td>\n",
              "      <td>0.00</td>\n",
              "      <td>0.00</td>\n",
              "      <td>1.04</td>\n",
              "      <td>8.81</td>\n",
              "      <td>1.51</td>\n",
              "      <td>5.79</td>\n",
              "      <td>2.20</td>\n",
              "      <td>3.59</td>\n",
              "      <td>2.20</td>\n",
              "      <td>0.58</td>\n",
              "      <td>0.58</td>\n",
              "      <td>1.39</td>\n",
              "      <td>0.00</td>\n",
              "      <td>0.12</td>\n",
              "      <td>0.23</td>\n",
              "      <td>0.0</td>\n",
              "      <td>0.0</td>\n",
              "      <td>9.62</td>\n",
              "      <td>4.98</td>\n",
              "      <td>2.90</td>\n",
              "      <td>0.46</td>\n",
              "      <td>0.0</td>\n",
              "      <td>1.27</td>\n",
              "      <td>0.0</td>\n",
              "      <td>0.00</td>\n",
              "      <td>0.0</td>\n",
              "      <td>0.0</td>\n",
              "      <td>0.00</td>\n",
              "      <td>0.00</td>\n",
              "    </tr>\n",
              "    <tr>\n",
              "      <th>4</th>\n",
              "      <td>al05.txt</td>\n",
              "      <td>1</td>\n",
              "      <td>1649</td>\n",
              "      <td>18.74</td>\n",
              "      <td>20.92</td>\n",
              "      <td>76.59</td>\n",
              "      <td>49.06</td>\n",
              "      <td>14.25</td>\n",
              "      <td>6.97</td>\n",
              "      <td>0.00</td>\n",
              "      <td>0.73</td>\n",
              "      <td>0.73</td>\n",
              "      <td>6.85</td>\n",
              "      <td>2.30</td>\n",
              "      <td>7.28</td>\n",
              "      <td>12.98</td>\n",
              "      <td>10.73</td>\n",
              "      <td>0.97</td>\n",
              "      <td>2.55</td>\n",
              "      <td>7.58</td>\n",
              "      <td>0.0</td>\n",
              "      <td>4.12</td>\n",
              "      <td>14.61</td>\n",
              "      <td>6.55</td>\n",
              "      <td>1.21</td>\n",
              "      <td>1.82</td>\n",
              "      <td>1.09</td>\n",
              "      <td>0.0</td>\n",
              "      <td>0.85</td>\n",
              "      <td>0.00</td>\n",
              "      <td>0.61</td>\n",
              "      <td>4.18</td>\n",
              "      <td>0.24</td>\n",
              "      <td>1.21</td>\n",
              "      <td>0.00</td>\n",
              "      <td>0.00</td>\n",
              "      <td>0.00</td>\n",
              "      <td>0.0</td>\n",
              "      <td>9.34</td>\n",
              "      <td>0.85</td>\n",
              "      <td>...</td>\n",
              "      <td>2.06</td>\n",
              "      <td>1.70</td>\n",
              "      <td>0.36</td>\n",
              "      <td>6.67</td>\n",
              "      <td>2.91</td>\n",
              "      <td>3.52</td>\n",
              "      <td>0.73</td>\n",
              "      <td>1.33</td>\n",
              "      <td>0.12</td>\n",
              "      <td>2.18</td>\n",
              "      <td>0.73</td>\n",
              "      <td>0.00</td>\n",
              "      <td>0.49</td>\n",
              "      <td>1.21</td>\n",
              "      <td>8.73</td>\n",
              "      <td>0.97</td>\n",
              "      <td>5.70</td>\n",
              "      <td>2.43</td>\n",
              "      <td>2.85</td>\n",
              "      <td>2.49</td>\n",
              "      <td>0.61</td>\n",
              "      <td>0.24</td>\n",
              "      <td>1.09</td>\n",
              "      <td>0.85</td>\n",
              "      <td>0.24</td>\n",
              "      <td>0.24</td>\n",
              "      <td>0.0</td>\n",
              "      <td>0.0</td>\n",
              "      <td>9.22</td>\n",
              "      <td>4.49</td>\n",
              "      <td>3.52</td>\n",
              "      <td>0.36</td>\n",
              "      <td>0.0</td>\n",
              "      <td>0.85</td>\n",
              "      <td>0.0</td>\n",
              "      <td>0.00</td>\n",
              "      <td>0.0</td>\n",
              "      <td>0.0</td>\n",
              "      <td>0.00</td>\n",
              "      <td>0.00</td>\n",
              "    </tr>\n",
              "  </tbody>\n",
              "</table>\n",
              "<p>5 rows × 92 columns</p>\n",
              "</div>"
            ],
            "text/plain": [
              "   Filename  Segment    WC    WPS  ...  Quote  Apostro  Parenth  OtherP\n",
              "0  al01.txt        1  1156  23.59  ...    0.0      0.0     0.69    0.00\n",
              "1  al02.txt        1  1097  17.14  ...    0.0      0.0     0.00    0.27\n",
              "2  al03.txt        1  1104  20.83  ...    0.0      0.0     0.00    0.09\n",
              "3  al04.txt        1   863  16.28  ...    0.0      0.0     0.00    0.00\n",
              "4  al05.txt        1  1649  18.74  ...    0.0      0.0     0.00    0.00\n",
              "\n",
              "[5 rows x 92 columns]"
            ]
          },
          "metadata": {
            "tags": []
          },
          "execution_count": 16
        }
      ]
    },
    {
      "cell_type": "code",
      "metadata": {
        "id": "Yhw5HTVYvQck",
        "colab": {
          "base_uri": "https://localhost:8080/",
          "height": 145
        },
        "outputId": "2db2eee7-abc1-4eda-f41d-035cad14986d"
      },
      "source": [
        "num_pals_opo = np.array(data_opo['WC'])\n",
        "print(num_pals_opo)"
      ],
      "execution_count": null,
      "outputs": [
        {
          "output_type": "stream",
          "text": [
            "[1156 1097 1104  863 1649  909  762  839 1161 1168 1078 1230  848 1103\n",
            "  871  928  749  923 1044 1090 2080 1412 1312 1091  786  931  971  750\n",
            "  728  648  414  760  610  572  670  583  236  278  459 1019 1002 1042\n",
            " 1215  895  949  963 1081 1277 1221 1219  931  950 1134  998 1187 1318\n",
            " 1184 1251 2808 2886 2953 2631 2806 2374  256 2739 3049 2675  648  387\n",
            "  361 1202  467 2682 2958 3234 3423 3176 1230 1178 1170 1171 1168 1152\n",
            " 1180 1136 1117 1126 1057 1078 1057 1062 1036 1079 1003  973  891  537]\n"
          ],
          "name": "stdout"
        }
      ]
    },
    {
      "cell_type": "code",
      "metadata": {
        "id": "knGTSW8gvQco",
        "colab": {
          "base_uri": "https://localhost:8080/",
          "height": 90
        },
        "outputId": "7a73468b-d38f-4bf4-9a23-3c8a5f0b185d"
      },
      "source": [
        "print(\"num_pal_opo: Mean: \", num_pals_opo.mean())\n",
        "print(\"num_pal_opo: standard deviation:\", num_pals_opo.std())\n",
        "print(\"num_pal_opo minimo: \", num_pals_opo.min())\n",
        "print(\"num_pal_opo: maximo: \", num_pals_opo.max())"
      ],
      "execution_count": null,
      "outputs": [
        {
          "output_type": "stream",
          "text": [
            "num_pal_opo: Mean:  1243.0102040816328\n",
            "num_pal_opo: standard deviation: 733.7139588186014\n",
            "num_pal_opo minimo:  236\n",
            "num_pal_opo: maximo:  3423\n"
          ],
          "name": "stdout"
        }
      ]
    },
    {
      "cell_type": "code",
      "metadata": {
        "id": "pCc2y5BCvQcs",
        "colab": {
          "base_uri": "https://localhost:8080/",
          "height": 72
        },
        "outputId": "a10f5e06-b87c-4f84-f35d-91d5a18cf772"
      },
      "source": [
        "print(\"25th percentile: \", np.percentile(num_pals_opo, 25))\n",
        "print(\"Median: \", np.median(num_pals_opo))\n",
        "print(\"75th percentile: \", np.percentile(num_pals_opo, 75))"
      ],
      "execution_count": null,
      "outputs": [
        {
          "output_type": "stream",
          "text": [
            "25th percentile:  876.0\n",
            "Median:  1078.5\n",
            "75th percentile:  1218.0\n"
          ],
          "name": "stdout"
        }
      ]
    },
    {
      "cell_type": "code",
      "metadata": {
        "id": "LUi5N7cMvQcw",
        "colab": {
          "base_uri": "https://localhost:8080/",
          "height": 35
        },
        "outputId": "a68caf4e-7a52-4164-ee3c-a1e37b4a682b"
      },
      "source": [
        "num_pals_opo.argmin()"
      ],
      "execution_count": null,
      "outputs": [
        {
          "output_type": "execute_result",
          "data": {
            "text/plain": [
              "36"
            ]
          },
          "metadata": {
            "tags": []
          },
          "execution_count": 20
        }
      ]
    },
    {
      "cell_type": "code",
      "metadata": {
        "id": "_iv8t8UtvQc4",
        "colab": {
          "base_uri": "https://localhost:8080/",
          "height": 305
        },
        "outputId": "ba46f1e1-c3ec-4dcd-8a1a-d18ccf452837"
      },
      "source": [
        "from pylab import * \n",
        "plt.figure(5,figsize=(6,3.5))\n",
        "xlabel('Article') \n",
        "ylabel('Word Count')\n",
        "title('Words per article: oppo')    \n",
        "ion() \n",
        "plt.plot(num_pals_opo, \"r\")\n",
        "axhline(mean(num_pals_opo), color='g',linestyle=\"--\", label='Mean')\n",
        "legend(loc='upper left')\n",
        "annotate('Min', xy=(num_pals_opo.argmin(), num_pals_opo.min()), xytext=(num_pals_opo.argmin() + 10, num_pals_opo.min() - 100),\n",
        "            arrowprops=dict(facecolor='black', shrink=0.02))\n",
        "annotate('Max', xy=(num_pals_opo.argmax(), num_pals_opo.max()), xytext=(num_pals_opo.argmax() + 10, num_pals_opo.max() - 100),\n",
        "            arrowprops=dict(facecolor='black', shrink=0.02))\n",
        "savefig(\"pal_opo_2.eps\", dpi=1500)\n",
        "show()"
      ],
      "execution_count": null,
      "outputs": [
        {
          "output_type": "stream",
          "text": [
            "The PostScript backend does not support transparency; partially transparent artists will be rendered opaque.\n",
            "The PostScript backend does not support transparency; partially transparent artists will be rendered opaque.\n"
          ],
          "name": "stderr"
        },
        {
          "output_type": "display_data",
          "data": {
            "image/png": "[encoded data removed]",
            "text/plain": [
              "<Figure size 432x252 with 1 Axes>"
            ]
          },
          "metadata": {
            "tags": [],
            "needs_background": "light"
          }
        }
      ]
    },
    {
      "cell_type": "markdown",
      "metadata": {
        "id": "kTuAD7uyvQdA"
      },
      "source": [
        "### Número de palabras (oficialista)"
      ]
    },
    {
      "cell_type": "code",
      "metadata": {
        "id": "3B96JNmUvQdB",
        "colab": {
          "base_uri": "https://localhost:8080/",
          "height": 247
        },
        "outputId": "0fa64281-1af3-4826-b483-4b3d10fe47b0"
      },
      "source": [
        "data_ofi.head()"
      ],
      "execution_count": null,
      "outputs": [
        {
          "output_type": "execute_result",
          "data": {
            "text/html": [
              "<div>\n",
              "<style scoped>\n",
              "    .dataframe tbody tr th:only-of-type {\n",
              "        vertical-align: middle;\n",
              "    }\n",
              "\n",
              "    .dataframe tbody tr th {\n",
              "        vertical-align: top;\n",
              "    }\n",
              "\n",
              "    .dataframe thead th {\n",
              "        text-align: right;\n",
              "    }\n",
              "</style>\n",
              "<table border=\"1\" class=\"dataframe\">\n",
              "  <thead>\n",
              "    <tr style=\"text-align: right;\">\n",
              "      <th></th>\n",
              "      <th>Filename</th>\n",
              "      <th>Segment</th>\n",
              "      <th>WC</th>\n",
              "      <th>WPS</th>\n",
              "      <th>Sixltr</th>\n",
              "      <th>Dic</th>\n",
              "      <th>Funct</th>\n",
              "      <th>TotPron</th>\n",
              "      <th>PronPer</th>\n",
              "      <th>Yo</th>\n",
              "      <th>Nosotro</th>\n",
              "      <th>TuUtd</th>\n",
              "      <th>ElElla</th>\n",
              "      <th>Ellos</th>\n",
              "      <th>PronImp</th>\n",
              "      <th>Articulo</th>\n",
              "      <th>Verbos</th>\n",
              "      <th>VerbAux</th>\n",
              "      <th>Pasado</th>\n",
              "      <th>Present</th>\n",
              "      <th>Futuro</th>\n",
              "      <th>Adverb</th>\n",
              "      <th>Prepos</th>\n",
              "      <th>Conjunc</th>\n",
              "      <th>Negacio</th>\n",
              "      <th>Cuantif</th>\n",
              "      <th>Numeros</th>\n",
              "      <th>Maldec</th>\n",
              "      <th>verbYO</th>\n",
              "      <th>verbTU</th>\n",
              "      <th>verbNOS</th>\n",
              "      <th>verbosEL</th>\n",
              "      <th>verbELLOS</th>\n",
              "      <th>Subjuntiv</th>\n",
              "      <th>VosUtds</th>\n",
              "      <th>formal</th>\n",
              "      <th>informal</th>\n",
              "      <th>verbVos</th>\n",
              "      <th>Social</th>\n",
              "      <th>Familia</th>\n",
              "      <th>...</th>\n",
              "      <th>Tentat</th>\n",
              "      <th>Certeza</th>\n",
              "      <th>Inhib</th>\n",
              "      <th>Incl</th>\n",
              "      <th>Excl</th>\n",
              "      <th>Percept</th>\n",
              "      <th>Ver</th>\n",
              "      <th>Oir</th>\n",
              "      <th>Sentir</th>\n",
              "      <th>Biolog</th>\n",
              "      <th>Cuerpo</th>\n",
              "      <th>Salud</th>\n",
              "      <th>Sexual</th>\n",
              "      <th>Ingerir</th>\n",
              "      <th>Relativ</th>\n",
              "      <th>Movim</th>\n",
              "      <th>Espacio</th>\n",
              "      <th>Tiempo</th>\n",
              "      <th>Trabajo</th>\n",
              "      <th>Logro</th>\n",
              "      <th>Placer</th>\n",
              "      <th>Hogar</th>\n",
              "      <th>Dinero</th>\n",
              "      <th>Relig</th>\n",
              "      <th>Muerte</th>\n",
              "      <th>Asentir</th>\n",
              "      <th>NoFluen</th>\n",
              "      <th>Relleno</th>\n",
              "      <th>AllPunc</th>\n",
              "      <th>Period</th>\n",
              "      <th>Comma</th>\n",
              "      <th>Colon</th>\n",
              "      <th>SemiC</th>\n",
              "      <th>QMark</th>\n",
              "      <th>Exclam</th>\n",
              "      <th>Dash</th>\n",
              "      <th>Quote</th>\n",
              "      <th>Apostro</th>\n",
              "      <th>Parenth</th>\n",
              "      <th>OtherP</th>\n",
              "    </tr>\n",
              "  </thead>\n",
              "  <tbody>\n",
              "    <tr>\n",
              "      <th>0</th>\n",
              "      <td>jf01.txt</td>\n",
              "      <td>1</td>\n",
              "      <td>1027</td>\n",
              "      <td>13.34</td>\n",
              "      <td>17.43</td>\n",
              "      <td>75.17</td>\n",
              "      <td>49.46</td>\n",
              "      <td>17.33</td>\n",
              "      <td>11.98</td>\n",
              "      <td>3.60</td>\n",
              "      <td>0.10</td>\n",
              "      <td>2.14</td>\n",
              "      <td>5.94</td>\n",
              "      <td>1.56</td>\n",
              "      <td>5.36</td>\n",
              "      <td>8.57</td>\n",
              "      <td>12.56</td>\n",
              "      <td>0.58</td>\n",
              "      <td>1.95</td>\n",
              "      <td>9.54</td>\n",
              "      <td>0.00</td>\n",
              "      <td>5.06</td>\n",
              "      <td>15.29</td>\n",
              "      <td>6.04</td>\n",
              "      <td>2.24</td>\n",
              "      <td>1.85</td>\n",
              "      <td>1.17</td>\n",
              "      <td>0.10</td>\n",
              "      <td>3.60</td>\n",
              "      <td>0.10</td>\n",
              "      <td>0.10</td>\n",
              "      <td>2.43</td>\n",
              "      <td>0.78</td>\n",
              "      <td>1.46</td>\n",
              "      <td>0.39</td>\n",
              "      <td>0.0</td>\n",
              "      <td>1.95</td>\n",
              "      <td>0.0</td>\n",
              "      <td>10.71</td>\n",
              "      <td>0.10</td>\n",
              "      <td>...</td>\n",
              "      <td>2.63</td>\n",
              "      <td>1.36</td>\n",
              "      <td>0.19</td>\n",
              "      <td>6.23</td>\n",
              "      <td>2.92</td>\n",
              "      <td>4.58</td>\n",
              "      <td>0.88</td>\n",
              "      <td>1.85</td>\n",
              "      <td>1.46</td>\n",
              "      <td>1.27</td>\n",
              "      <td>0.39</td>\n",
              "      <td>0.10</td>\n",
              "      <td>0.29</td>\n",
              "      <td>0.78</td>\n",
              "      <td>8.28</td>\n",
              "      <td>1.75</td>\n",
              "      <td>4.58</td>\n",
              "      <td>2.73</td>\n",
              "      <td>2.53</td>\n",
              "      <td>1.85</td>\n",
              "      <td>1.66</td>\n",
              "      <td>0.29</td>\n",
              "      <td>0.29</td>\n",
              "      <td>0.10</td>\n",
              "      <td>0.00</td>\n",
              "      <td>0.39</td>\n",
              "      <td>0.10</td>\n",
              "      <td>0.0</td>\n",
              "      <td>13.92</td>\n",
              "      <td>7.01</td>\n",
              "      <td>3.60</td>\n",
              "      <td>1.46</td>\n",
              "      <td>0.19</td>\n",
              "      <td>0.29</td>\n",
              "      <td>0.10</td>\n",
              "      <td>0.19</td>\n",
              "      <td>0.00</td>\n",
              "      <td>0.00</td>\n",
              "      <td>0.97</td>\n",
              "      <td>0.10</td>\n",
              "    </tr>\n",
              "    <tr>\n",
              "      <th>1</th>\n",
              "      <td>jf012.txt</td>\n",
              "      <td>1</td>\n",
              "      <td>4021</td>\n",
              "      <td>13.96</td>\n",
              "      <td>20.82</td>\n",
              "      <td>73.24</td>\n",
              "      <td>46.70</td>\n",
              "      <td>14.55</td>\n",
              "      <td>8.41</td>\n",
              "      <td>0.17</td>\n",
              "      <td>0.37</td>\n",
              "      <td>0.50</td>\n",
              "      <td>7.88</td>\n",
              "      <td>2.81</td>\n",
              "      <td>6.14</td>\n",
              "      <td>11.96</td>\n",
              "      <td>9.92</td>\n",
              "      <td>0.65</td>\n",
              "      <td>2.09</td>\n",
              "      <td>6.59</td>\n",
              "      <td>0.05</td>\n",
              "      <td>3.68</td>\n",
              "      <td>13.53</td>\n",
              "      <td>5.35</td>\n",
              "      <td>2.39</td>\n",
              "      <td>1.77</td>\n",
              "      <td>1.79</td>\n",
              "      <td>0.32</td>\n",
              "      <td>1.04</td>\n",
              "      <td>0.02</td>\n",
              "      <td>0.45</td>\n",
              "      <td>3.33</td>\n",
              "      <td>0.87</td>\n",
              "      <td>1.29</td>\n",
              "      <td>0.45</td>\n",
              "      <td>0.0</td>\n",
              "      <td>0.07</td>\n",
              "      <td>0.0</td>\n",
              "      <td>10.42</td>\n",
              "      <td>0.55</td>\n",
              "      <td>...</td>\n",
              "      <td>2.34</td>\n",
              "      <td>1.34</td>\n",
              "      <td>0.52</td>\n",
              "      <td>5.47</td>\n",
              "      <td>2.11</td>\n",
              "      <td>2.61</td>\n",
              "      <td>0.47</td>\n",
              "      <td>1.19</td>\n",
              "      <td>0.40</td>\n",
              "      <td>1.37</td>\n",
              "      <td>0.57</td>\n",
              "      <td>0.20</td>\n",
              "      <td>0.37</td>\n",
              "      <td>0.57</td>\n",
              "      <td>8.28</td>\n",
              "      <td>1.87</td>\n",
              "      <td>4.03</td>\n",
              "      <td>3.16</td>\n",
              "      <td>2.16</td>\n",
              "      <td>1.49</td>\n",
              "      <td>1.17</td>\n",
              "      <td>0.47</td>\n",
              "      <td>0.50</td>\n",
              "      <td>0.25</td>\n",
              "      <td>0.12</td>\n",
              "      <td>0.30</td>\n",
              "      <td>0.12</td>\n",
              "      <td>0.0</td>\n",
              "      <td>15.20</td>\n",
              "      <td>7.36</td>\n",
              "      <td>5.35</td>\n",
              "      <td>0.80</td>\n",
              "      <td>0.00</td>\n",
              "      <td>0.45</td>\n",
              "      <td>0.12</td>\n",
              "      <td>0.07</td>\n",
              "      <td>0.00</td>\n",
              "      <td>0.00</td>\n",
              "      <td>1.04</td>\n",
              "      <td>0.00</td>\n",
              "    </tr>\n",
              "    <tr>\n",
              "      <th>2</th>\n",
              "      <td>jf02.txt</td>\n",
              "      <td>1</td>\n",
              "      <td>4021</td>\n",
              "      <td>13.96</td>\n",
              "      <td>20.82</td>\n",
              "      <td>73.22</td>\n",
              "      <td>46.68</td>\n",
              "      <td>14.52</td>\n",
              "      <td>8.41</td>\n",
              "      <td>0.17</td>\n",
              "      <td>0.37</td>\n",
              "      <td>0.50</td>\n",
              "      <td>7.88</td>\n",
              "      <td>2.81</td>\n",
              "      <td>6.12</td>\n",
              "      <td>11.96</td>\n",
              "      <td>9.92</td>\n",
              "      <td>0.65</td>\n",
              "      <td>2.09</td>\n",
              "      <td>6.59</td>\n",
              "      <td>0.05</td>\n",
              "      <td>3.68</td>\n",
              "      <td>13.53</td>\n",
              "      <td>5.35</td>\n",
              "      <td>2.39</td>\n",
              "      <td>1.77</td>\n",
              "      <td>1.79</td>\n",
              "      <td>0.32</td>\n",
              "      <td>1.04</td>\n",
              "      <td>0.02</td>\n",
              "      <td>0.45</td>\n",
              "      <td>3.33</td>\n",
              "      <td>0.87</td>\n",
              "      <td>1.29</td>\n",
              "      <td>0.45</td>\n",
              "      <td>0.0</td>\n",
              "      <td>0.07</td>\n",
              "      <td>0.0</td>\n",
              "      <td>10.42</td>\n",
              "      <td>0.55</td>\n",
              "      <td>...</td>\n",
              "      <td>2.34</td>\n",
              "      <td>1.34</td>\n",
              "      <td>0.52</td>\n",
              "      <td>5.47</td>\n",
              "      <td>2.11</td>\n",
              "      <td>2.61</td>\n",
              "      <td>0.47</td>\n",
              "      <td>1.19</td>\n",
              "      <td>0.40</td>\n",
              "      <td>1.37</td>\n",
              "      <td>0.57</td>\n",
              "      <td>0.20</td>\n",
              "      <td>0.37</td>\n",
              "      <td>0.57</td>\n",
              "      <td>8.28</td>\n",
              "      <td>1.87</td>\n",
              "      <td>4.03</td>\n",
              "      <td>3.16</td>\n",
              "      <td>2.16</td>\n",
              "      <td>1.49</td>\n",
              "      <td>1.17</td>\n",
              "      <td>0.47</td>\n",
              "      <td>0.50</td>\n",
              "      <td>0.25</td>\n",
              "      <td>0.12</td>\n",
              "      <td>0.30</td>\n",
              "      <td>0.12</td>\n",
              "      <td>0.0</td>\n",
              "      <td>15.20</td>\n",
              "      <td>7.36</td>\n",
              "      <td>5.35</td>\n",
              "      <td>0.80</td>\n",
              "      <td>0.00</td>\n",
              "      <td>0.45</td>\n",
              "      <td>0.12</td>\n",
              "      <td>0.07</td>\n",
              "      <td>0.00</td>\n",
              "      <td>0.00</td>\n",
              "      <td>1.04</td>\n",
              "      <td>0.00</td>\n",
              "    </tr>\n",
              "    <tr>\n",
              "      <th>3</th>\n",
              "      <td>jf03.txt</td>\n",
              "      <td>1</td>\n",
              "      <td>3928</td>\n",
              "      <td>23.24</td>\n",
              "      <td>17.39</td>\n",
              "      <td>73.96</td>\n",
              "      <td>46.49</td>\n",
              "      <td>15.27</td>\n",
              "      <td>9.06</td>\n",
              "      <td>1.04</td>\n",
              "      <td>0.10</td>\n",
              "      <td>1.37</td>\n",
              "      <td>7.05</td>\n",
              "      <td>1.88</td>\n",
              "      <td>6.21</td>\n",
              "      <td>11.07</td>\n",
              "      <td>11.43</td>\n",
              "      <td>0.76</td>\n",
              "      <td>1.93</td>\n",
              "      <td>8.35</td>\n",
              "      <td>0.00</td>\n",
              "      <td>4.33</td>\n",
              "      <td>12.58</td>\n",
              "      <td>5.93</td>\n",
              "      <td>1.99</td>\n",
              "      <td>1.81</td>\n",
              "      <td>1.60</td>\n",
              "      <td>0.28</td>\n",
              "      <td>1.73</td>\n",
              "      <td>0.13</td>\n",
              "      <td>0.20</td>\n",
              "      <td>4.43</td>\n",
              "      <td>0.59</td>\n",
              "      <td>1.37</td>\n",
              "      <td>0.18</td>\n",
              "      <td>0.0</td>\n",
              "      <td>0.79</td>\n",
              "      <td>0.0</td>\n",
              "      <td>10.01</td>\n",
              "      <td>0.38</td>\n",
              "      <td>...</td>\n",
              "      <td>2.90</td>\n",
              "      <td>1.40</td>\n",
              "      <td>0.64</td>\n",
              "      <td>5.47</td>\n",
              "      <td>2.19</td>\n",
              "      <td>3.36</td>\n",
              "      <td>0.46</td>\n",
              "      <td>1.35</td>\n",
              "      <td>0.94</td>\n",
              "      <td>1.27</td>\n",
              "      <td>0.51</td>\n",
              "      <td>0.25</td>\n",
              "      <td>0.20</td>\n",
              "      <td>0.56</td>\n",
              "      <td>7.54</td>\n",
              "      <td>1.76</td>\n",
              "      <td>3.72</td>\n",
              "      <td>2.57</td>\n",
              "      <td>1.99</td>\n",
              "      <td>1.71</td>\n",
              "      <td>0.61</td>\n",
              "      <td>0.13</td>\n",
              "      <td>0.56</td>\n",
              "      <td>0.15</td>\n",
              "      <td>0.36</td>\n",
              "      <td>0.66</td>\n",
              "      <td>0.18</td>\n",
              "      <td>0.0</td>\n",
              "      <td>14.99</td>\n",
              "      <td>4.48</td>\n",
              "      <td>7.76</td>\n",
              "      <td>0.51</td>\n",
              "      <td>0.13</td>\n",
              "      <td>0.64</td>\n",
              "      <td>0.15</td>\n",
              "      <td>0.03</td>\n",
              "      <td>0.00</td>\n",
              "      <td>0.00</td>\n",
              "      <td>1.27</td>\n",
              "      <td>0.03</td>\n",
              "    </tr>\n",
              "    <tr>\n",
              "      <th>4</th>\n",
              "      <td>jf04.txt</td>\n",
              "      <td>1</td>\n",
              "      <td>891</td>\n",
              "      <td>27.00</td>\n",
              "      <td>17.06</td>\n",
              "      <td>80.02</td>\n",
              "      <td>45.79</td>\n",
              "      <td>16.05</td>\n",
              "      <td>8.08</td>\n",
              "      <td>0.79</td>\n",
              "      <td>0.34</td>\n",
              "      <td>0.45</td>\n",
              "      <td>7.07</td>\n",
              "      <td>2.58</td>\n",
              "      <td>7.97</td>\n",
              "      <td>9.65</td>\n",
              "      <td>12.91</td>\n",
              "      <td>1.01</td>\n",
              "      <td>0.90</td>\n",
              "      <td>10.77</td>\n",
              "      <td>0.00</td>\n",
              "      <td>5.39</td>\n",
              "      <td>11.22</td>\n",
              "      <td>6.06</td>\n",
              "      <td>2.81</td>\n",
              "      <td>1.57</td>\n",
              "      <td>3.03</td>\n",
              "      <td>0.00</td>\n",
              "      <td>1.57</td>\n",
              "      <td>0.00</td>\n",
              "      <td>0.56</td>\n",
              "      <td>5.61</td>\n",
              "      <td>0.90</td>\n",
              "      <td>1.46</td>\n",
              "      <td>0.34</td>\n",
              "      <td>0.0</td>\n",
              "      <td>0.00</td>\n",
              "      <td>0.0</td>\n",
              "      <td>13.02</td>\n",
              "      <td>1.23</td>\n",
              "      <td>...</td>\n",
              "      <td>3.37</td>\n",
              "      <td>1.57</td>\n",
              "      <td>0.00</td>\n",
              "      <td>4.15</td>\n",
              "      <td>1.80</td>\n",
              "      <td>2.58</td>\n",
              "      <td>1.46</td>\n",
              "      <td>0.56</td>\n",
              "      <td>0.22</td>\n",
              "      <td>1.01</td>\n",
              "      <td>0.11</td>\n",
              "      <td>0.22</td>\n",
              "      <td>0.34</td>\n",
              "      <td>0.45</td>\n",
              "      <td>6.40</td>\n",
              "      <td>2.24</td>\n",
              "      <td>3.59</td>\n",
              "      <td>2.02</td>\n",
              "      <td>1.23</td>\n",
              "      <td>0.90</td>\n",
              "      <td>0.22</td>\n",
              "      <td>0.11</td>\n",
              "      <td>1.12</td>\n",
              "      <td>0.00</td>\n",
              "      <td>0.00</td>\n",
              "      <td>0.00</td>\n",
              "      <td>0.11</td>\n",
              "      <td>0.0</td>\n",
              "      <td>19.53</td>\n",
              "      <td>6.29</td>\n",
              "      <td>7.97</td>\n",
              "      <td>0.67</td>\n",
              "      <td>0.00</td>\n",
              "      <td>0.45</td>\n",
              "      <td>0.11</td>\n",
              "      <td>0.00</td>\n",
              "      <td>3.37</td>\n",
              "      <td>0.22</td>\n",
              "      <td>0.45</td>\n",
              "      <td>0.00</td>\n",
              "    </tr>\n",
              "  </tbody>\n",
              "</table>\n",
              "<p>5 rows × 92 columns</p>\n",
              "</div>"
            ],
            "text/plain": [
              "    Filename  Segment    WC    WPS  ...  Quote  Apostro  Parenth  OtherP\n",
              "0   jf01.txt        1  1027  13.34  ...   0.00     0.00     0.97    0.10\n",
              "1  jf012.txt        1  4021  13.96  ...   0.00     0.00     1.04    0.00\n",
              "2   jf02.txt        1  4021  13.96  ...   0.00     0.00     1.04    0.00\n",
              "3   jf03.txt        1  3928  23.24  ...   0.00     0.00     1.27    0.03\n",
              "4   jf04.txt        1   891  27.00  ...   3.37     0.22     0.45    0.00\n",
              "\n",
              "[5 rows x 92 columns]"
            ]
          },
          "metadata": {
            "tags": []
          },
          "execution_count": 22
        }
      ]
    },
    {
      "cell_type": "code",
      "metadata": {
        "id": "To1xFYYSvQdF",
        "colab": {
          "base_uri": "https://localhost:8080/",
          "height": 181
        },
        "outputId": "e6e1f437-a498-4c58-a9ac-f1753bc50400"
      },
      "source": [
        "num_pals_ofi = np.array(data_ofi['WC'])\n",
        "print(num_pals_ofi)"
      ],
      "execution_count": null,
      "outputs": [
        {
          "output_type": "stream",
          "text": [
            "[ 1027  4021  4021  3928   891   199  1399  1326  1549   881  1915  4784\n",
            "   425  3380   626  4852  1647  1009  7150  1686   523   874   420   483\n",
            "   348   900   764   538   845   480   368   995   372   946   828   876\n",
            "   321   820   318   336   343   334   411   762   857   431   707   184\n",
            "   580  3459   689   592   184   374   644   653   594   977  1416   707\n",
            "   834  1623  1376   660  1112  1293  1126  1102   708  1305  1298  1331\n",
            "  1224  1061  4613  1216 34676 36619   358   923   274   139   511   166\n",
            "   227   615   335   432   325   429   236   364  2605   552  2993  3483\n",
            "   364   311]\n"
          ],
          "name": "stdout"
        }
      ]
    },
    {
      "cell_type": "code",
      "metadata": {
        "id": "eKPpISimvQdJ",
        "colab": {
          "base_uri": "https://localhost:8080/",
          "height": 90
        },
        "outputId": "f5bfd034-9df9-4006-a63e-9c99392a8cae"
      },
      "source": [
        "print(\"num_pal_ofi: Mean: \", num_pals_ofi.mean())\n",
        "print(\"num_pal_ofi: standard deviation:\", num_pals_ofi.std())\n",
        "print(\"num_pal_ofi minimo: \", num_pals_ofi.min())\n",
        "print(\"num_pal_ofi: maximo: \", num_pals_ofi.max())"
      ],
      "execution_count": null,
      "outputs": [
        {
          "output_type": "stream",
          "text": [
            "num_pal_ofi: Mean:  1865.1836734693877\n",
            "num_pal_ofi: standard deviation: 5031.564637461983\n",
            "num_pal_ofi minimo:  139\n",
            "num_pal_ofi: maximo:  36619\n"
          ],
          "name": "stdout"
        }
      ]
    },
    {
      "cell_type": "code",
      "metadata": {
        "id": "tQY3fEeyvQdM",
        "colab": {
          "base_uri": "https://localhost:8080/",
          "height": 72
        },
        "outputId": "891c0827-a7f7-4d79-fb7c-cc01846bc121"
      },
      "source": [
        "print(\"25th percentile: \", np.percentile(num_pals_ofi, 25))\n",
        "print(\"Median: \", np.median(num_pals_ofi))\n",
        "print(\"75th percentile: \", np.percentile(num_pals_ofi, 75))"
      ],
      "execution_count": null,
      "outputs": [
        {
          "output_type": "stream",
          "text": [
            "25th percentile:  421.25\n",
            "Median:  792.0\n",
            "75th percentile:  1303.25\n"
          ],
          "name": "stdout"
        }
      ]
    },
    {
      "cell_type": "code",
      "metadata": {
        "id": "aa-XmOtmvQdR",
        "colab": {
          "base_uri": "https://localhost:8080/",
          "height": 35
        },
        "outputId": "60e34f8a-8167-4421-d59f-1df18561067a"
      },
      "source": [
        "num_pals_ofi.argmin()"
      ],
      "execution_count": null,
      "outputs": [
        {
          "output_type": "execute_result",
          "data": {
            "text/plain": [
              "81"
            ]
          },
          "metadata": {
            "tags": []
          },
          "execution_count": 26
        }
      ]
    },
    {
      "cell_type": "code",
      "metadata": {
        "id": "9xjUQzMZvQde",
        "colab": {
          "base_uri": "https://localhost:8080/",
          "height": 305
        },
        "outputId": "0778c526-668f-41f1-fe29-7444eef05777"
      },
      "source": [
        "from pylab import * \n",
        "plt.figure(5,figsize=(6,3.5))\n",
        "xlabel('Article') \n",
        "ylabel('Word Count')\n",
        "title('Words per article: gov')    \n",
        "ion() \n",
        "plt.plot(num_pals_ofi, \"r\")\n",
        "axhline(mean(num_pals_ofi), color='g',linestyle=\"--\", label='Mean')\n",
        "legend(loc='upper left')\n",
        "annotate('Min', xy=(num_pals_ofi.argmin(), num_pals_ofi.min()), xytext=(num_pals_ofi.argmin() + 10, num_pals_ofi.min() + 5000),\n",
        "            arrowprops=dict(facecolor='black', shrink=0.02))\n",
        "annotate('Max', xy=(num_pals_ofi.argmax(), num_pals_ofi.max()), xytext=(num_pals_ofi.argmax() + 10, num_pals_ofi.max() - 5000),\n",
        "            arrowprops=dict(facecolor='black', shrink=0.02))\n",
        "savefig(\"pal_ofic_2.eps\", dpi=1500)\n",
        "show()"
      ],
      "execution_count": null,
      "outputs": [
        {
          "output_type": "stream",
          "text": [
            "The PostScript backend does not support transparency; partially transparent artists will be rendered opaque.\n",
            "The PostScript backend does not support transparency; partially transparent artists will be rendered opaque.\n"
          ],
          "name": "stderr"
        },
        {
          "output_type": "display_data",
          "data": {
            "image/png": "[encoded data removed]",
            "text/plain": [
              "<Figure size 432x252 with 1 Axes>"
            ]
          },
          "metadata": {
            "tags": [],
            "needs_background": "light"
          }
        }
      ]
    },
    {
      "cell_type": "markdown",
      "metadata": {
        "id": "L3GRtkrjvQdu"
      },
      "source": [
        "### Número de palabras (oficialista + opositor)"
      ]
    },
    {
      "cell_type": "code",
      "metadata": {
        "id": "c1P9FQJ3vQdv",
        "colab": {
          "base_uri": "https://localhost:8080/",
          "height": 247
        },
        "outputId": "6f451de0-f22d-49fc-d747-850d349ad666"
      },
      "source": [
        "data_ofi_opo.head()"
      ],
      "execution_count": null,
      "outputs": [
        {
          "output_type": "execute_result",
          "data": {
            "text/html": [
              "<div>\n",
              "<style scoped>\n",
              "    .dataframe tbody tr th:only-of-type {\n",
              "        vertical-align: middle;\n",
              "    }\n",
              "\n",
              "    .dataframe tbody tr th {\n",
              "        vertical-align: top;\n",
              "    }\n",
              "\n",
              "    .dataframe thead th {\n",
              "        text-align: right;\n",
              "    }\n",
              "</style>\n",
              "<table border=\"1\" class=\"dataframe\">\n",
              "  <thead>\n",
              "    <tr style=\"text-align: right;\">\n",
              "      <th></th>\n",
              "      <th>Filename</th>\n",
              "      <th>Segment</th>\n",
              "      <th>WC</th>\n",
              "      <th>WPS</th>\n",
              "      <th>Sixltr</th>\n",
              "      <th>Dic</th>\n",
              "      <th>Funct</th>\n",
              "      <th>TotPron</th>\n",
              "      <th>PronPer</th>\n",
              "      <th>Yo</th>\n",
              "      <th>Nosotro</th>\n",
              "      <th>TuUtd</th>\n",
              "      <th>ElElla</th>\n",
              "      <th>Ellos</th>\n",
              "      <th>PronImp</th>\n",
              "      <th>Articulo</th>\n",
              "      <th>Verbos</th>\n",
              "      <th>VerbAux</th>\n",
              "      <th>Pasado</th>\n",
              "      <th>Present</th>\n",
              "      <th>Futuro</th>\n",
              "      <th>Adverb</th>\n",
              "      <th>Prepos</th>\n",
              "      <th>Conjunc</th>\n",
              "      <th>Negacio</th>\n",
              "      <th>Cuantif</th>\n",
              "      <th>Numeros</th>\n",
              "      <th>Maldec</th>\n",
              "      <th>verbYO</th>\n",
              "      <th>verbTU</th>\n",
              "      <th>verbNOS</th>\n",
              "      <th>verbosEL</th>\n",
              "      <th>verbELLOS</th>\n",
              "      <th>Subjuntiv</th>\n",
              "      <th>VosUtds</th>\n",
              "      <th>formal</th>\n",
              "      <th>informal</th>\n",
              "      <th>verbVos</th>\n",
              "      <th>Social</th>\n",
              "      <th>Familia</th>\n",
              "      <th>...</th>\n",
              "      <th>Tentat</th>\n",
              "      <th>Certeza</th>\n",
              "      <th>Inhib</th>\n",
              "      <th>Incl</th>\n",
              "      <th>Excl</th>\n",
              "      <th>Percept</th>\n",
              "      <th>Ver</th>\n",
              "      <th>Oir</th>\n",
              "      <th>Sentir</th>\n",
              "      <th>Biolog</th>\n",
              "      <th>Cuerpo</th>\n",
              "      <th>Salud</th>\n",
              "      <th>Sexual</th>\n",
              "      <th>Ingerir</th>\n",
              "      <th>Relativ</th>\n",
              "      <th>Movim</th>\n",
              "      <th>Espacio</th>\n",
              "      <th>Tiempo</th>\n",
              "      <th>Trabajo</th>\n",
              "      <th>Logro</th>\n",
              "      <th>Placer</th>\n",
              "      <th>Hogar</th>\n",
              "      <th>Dinero</th>\n",
              "      <th>Relig</th>\n",
              "      <th>Muerte</th>\n",
              "      <th>Asentir</th>\n",
              "      <th>NoFluen</th>\n",
              "      <th>Relleno</th>\n",
              "      <th>AllPunc</th>\n",
              "      <th>Period</th>\n",
              "      <th>Comma</th>\n",
              "      <th>Colon</th>\n",
              "      <th>SemiC</th>\n",
              "      <th>QMark</th>\n",
              "      <th>Exclam</th>\n",
              "      <th>Dash</th>\n",
              "      <th>Quote</th>\n",
              "      <th>Apostro</th>\n",
              "      <th>Parenth</th>\n",
              "      <th>OtherP</th>\n",
              "    </tr>\n",
              "  </thead>\n",
              "  <tbody>\n",
              "    <tr>\n",
              "      <th>0</th>\n",
              "      <td>jf01.txt</td>\n",
              "      <td>1</td>\n",
              "      <td>1027</td>\n",
              "      <td>13.34</td>\n",
              "      <td>17.43</td>\n",
              "      <td>75.17</td>\n",
              "      <td>49.46</td>\n",
              "      <td>17.33</td>\n",
              "      <td>11.98</td>\n",
              "      <td>3.60</td>\n",
              "      <td>0.10</td>\n",
              "      <td>2.14</td>\n",
              "      <td>5.94</td>\n",
              "      <td>1.56</td>\n",
              "      <td>5.36</td>\n",
              "      <td>8.57</td>\n",
              "      <td>12.56</td>\n",
              "      <td>0.58</td>\n",
              "      <td>1.95</td>\n",
              "      <td>9.54</td>\n",
              "      <td>0.00</td>\n",
              "      <td>5.06</td>\n",
              "      <td>15.29</td>\n",
              "      <td>6.04</td>\n",
              "      <td>2.24</td>\n",
              "      <td>1.85</td>\n",
              "      <td>1.17</td>\n",
              "      <td>0.10</td>\n",
              "      <td>3.60</td>\n",
              "      <td>0.10</td>\n",
              "      <td>0.10</td>\n",
              "      <td>2.43</td>\n",
              "      <td>0.78</td>\n",
              "      <td>1.46</td>\n",
              "      <td>0.39</td>\n",
              "      <td>0.0</td>\n",
              "      <td>1.95</td>\n",
              "      <td>0.0</td>\n",
              "      <td>10.71</td>\n",
              "      <td>0.10</td>\n",
              "      <td>...</td>\n",
              "      <td>2.63</td>\n",
              "      <td>1.36</td>\n",
              "      <td>0.19</td>\n",
              "      <td>6.23</td>\n",
              "      <td>2.92</td>\n",
              "      <td>4.58</td>\n",
              "      <td>0.88</td>\n",
              "      <td>1.85</td>\n",
              "      <td>1.46</td>\n",
              "      <td>1.27</td>\n",
              "      <td>0.39</td>\n",
              "      <td>0.10</td>\n",
              "      <td>0.29</td>\n",
              "      <td>0.78</td>\n",
              "      <td>8.28</td>\n",
              "      <td>1.75</td>\n",
              "      <td>4.58</td>\n",
              "      <td>2.73</td>\n",
              "      <td>2.53</td>\n",
              "      <td>1.85</td>\n",
              "      <td>1.66</td>\n",
              "      <td>0.29</td>\n",
              "      <td>0.29</td>\n",
              "      <td>0.10</td>\n",
              "      <td>0.00</td>\n",
              "      <td>0.39</td>\n",
              "      <td>0.10</td>\n",
              "      <td>0.0</td>\n",
              "      <td>13.92</td>\n",
              "      <td>7.01</td>\n",
              "      <td>3.60</td>\n",
              "      <td>1.46</td>\n",
              "      <td>0.19</td>\n",
              "      <td>0.29</td>\n",
              "      <td>0.10</td>\n",
              "      <td>0.19</td>\n",
              "      <td>0.00</td>\n",
              "      <td>0.00</td>\n",
              "      <td>0.97</td>\n",
              "      <td>0.10</td>\n",
              "    </tr>\n",
              "    <tr>\n",
              "      <th>1</th>\n",
              "      <td>jf012.txt</td>\n",
              "      <td>1</td>\n",
              "      <td>4021</td>\n",
              "      <td>13.96</td>\n",
              "      <td>20.82</td>\n",
              "      <td>73.24</td>\n",
              "      <td>46.70</td>\n",
              "      <td>14.55</td>\n",
              "      <td>8.41</td>\n",
              "      <td>0.17</td>\n",
              "      <td>0.37</td>\n",
              "      <td>0.50</td>\n",
              "      <td>7.88</td>\n",
              "      <td>2.81</td>\n",
              "      <td>6.14</td>\n",
              "      <td>11.96</td>\n",
              "      <td>9.92</td>\n",
              "      <td>0.65</td>\n",
              "      <td>2.09</td>\n",
              "      <td>6.59</td>\n",
              "      <td>0.05</td>\n",
              "      <td>3.68</td>\n",
              "      <td>13.53</td>\n",
              "      <td>5.35</td>\n",
              "      <td>2.39</td>\n",
              "      <td>1.77</td>\n",
              "      <td>1.79</td>\n",
              "      <td>0.32</td>\n",
              "      <td>1.04</td>\n",
              "      <td>0.02</td>\n",
              "      <td>0.45</td>\n",
              "      <td>3.33</td>\n",
              "      <td>0.87</td>\n",
              "      <td>1.29</td>\n",
              "      <td>0.45</td>\n",
              "      <td>0.0</td>\n",
              "      <td>0.07</td>\n",
              "      <td>0.0</td>\n",
              "      <td>10.42</td>\n",
              "      <td>0.55</td>\n",
              "      <td>...</td>\n",
              "      <td>2.34</td>\n",
              "      <td>1.34</td>\n",
              "      <td>0.52</td>\n",
              "      <td>5.47</td>\n",
              "      <td>2.11</td>\n",
              "      <td>2.61</td>\n",
              "      <td>0.47</td>\n",
              "      <td>1.19</td>\n",
              "      <td>0.40</td>\n",
              "      <td>1.37</td>\n",
              "      <td>0.57</td>\n",
              "      <td>0.20</td>\n",
              "      <td>0.37</td>\n",
              "      <td>0.57</td>\n",
              "      <td>8.28</td>\n",
              "      <td>1.87</td>\n",
              "      <td>4.03</td>\n",
              "      <td>3.16</td>\n",
              "      <td>2.16</td>\n",
              "      <td>1.49</td>\n",
              "      <td>1.17</td>\n",
              "      <td>0.47</td>\n",
              "      <td>0.50</td>\n",
              "      <td>0.25</td>\n",
              "      <td>0.12</td>\n",
              "      <td>0.30</td>\n",
              "      <td>0.12</td>\n",
              "      <td>0.0</td>\n",
              "      <td>15.20</td>\n",
              "      <td>7.36</td>\n",
              "      <td>5.35</td>\n",
              "      <td>0.80</td>\n",
              "      <td>0.00</td>\n",
              "      <td>0.45</td>\n",
              "      <td>0.12</td>\n",
              "      <td>0.07</td>\n",
              "      <td>0.00</td>\n",
              "      <td>0.00</td>\n",
              "      <td>1.04</td>\n",
              "      <td>0.00</td>\n",
              "    </tr>\n",
              "    <tr>\n",
              "      <th>2</th>\n",
              "      <td>jf02.txt</td>\n",
              "      <td>1</td>\n",
              "      <td>4021</td>\n",
              "      <td>13.96</td>\n",
              "      <td>20.82</td>\n",
              "      <td>73.22</td>\n",
              "      <td>46.68</td>\n",
              "      <td>14.52</td>\n",
              "      <td>8.41</td>\n",
              "      <td>0.17</td>\n",
              "      <td>0.37</td>\n",
              "      <td>0.50</td>\n",
              "      <td>7.88</td>\n",
              "      <td>2.81</td>\n",
              "      <td>6.12</td>\n",
              "      <td>11.96</td>\n",
              "      <td>9.92</td>\n",
              "      <td>0.65</td>\n",
              "      <td>2.09</td>\n",
              "      <td>6.59</td>\n",
              "      <td>0.05</td>\n",
              "      <td>3.68</td>\n",
              "      <td>13.53</td>\n",
              "      <td>5.35</td>\n",
              "      <td>2.39</td>\n",
              "      <td>1.77</td>\n",
              "      <td>1.79</td>\n",
              "      <td>0.32</td>\n",
              "      <td>1.04</td>\n",
              "      <td>0.02</td>\n",
              "      <td>0.45</td>\n",
              "      <td>3.33</td>\n",
              "      <td>0.87</td>\n",
              "      <td>1.29</td>\n",
              "      <td>0.45</td>\n",
              "      <td>0.0</td>\n",
              "      <td>0.07</td>\n",
              "      <td>0.0</td>\n",
              "      <td>10.42</td>\n",
              "      <td>0.55</td>\n",
              "      <td>...</td>\n",
              "      <td>2.34</td>\n",
              "      <td>1.34</td>\n",
              "      <td>0.52</td>\n",
              "      <td>5.47</td>\n",
              "      <td>2.11</td>\n",
              "      <td>2.61</td>\n",
              "      <td>0.47</td>\n",
              "      <td>1.19</td>\n",
              "      <td>0.40</td>\n",
              "      <td>1.37</td>\n",
              "      <td>0.57</td>\n",
              "      <td>0.20</td>\n",
              "      <td>0.37</td>\n",
              "      <td>0.57</td>\n",
              "      <td>8.28</td>\n",
              "      <td>1.87</td>\n",
              "      <td>4.03</td>\n",
              "      <td>3.16</td>\n",
              "      <td>2.16</td>\n",
              "      <td>1.49</td>\n",
              "      <td>1.17</td>\n",
              "      <td>0.47</td>\n",
              "      <td>0.50</td>\n",
              "      <td>0.25</td>\n",
              "      <td>0.12</td>\n",
              "      <td>0.30</td>\n",
              "      <td>0.12</td>\n",
              "      <td>0.0</td>\n",
              "      <td>15.20</td>\n",
              "      <td>7.36</td>\n",
              "      <td>5.35</td>\n",
              "      <td>0.80</td>\n",
              "      <td>0.00</td>\n",
              "      <td>0.45</td>\n",
              "      <td>0.12</td>\n",
              "      <td>0.07</td>\n",
              "      <td>0.00</td>\n",
              "      <td>0.00</td>\n",
              "      <td>1.04</td>\n",
              "      <td>0.00</td>\n",
              "    </tr>\n",
              "    <tr>\n",
              "      <th>3</th>\n",
              "      <td>jf03.txt</td>\n",
              "      <td>1</td>\n",
              "      <td>3928</td>\n",
              "      <td>23.24</td>\n",
              "      <td>17.39</td>\n",
              "      <td>73.96</td>\n",
              "      <td>46.49</td>\n",
              "      <td>15.27</td>\n",
              "      <td>9.06</td>\n",
              "      <td>1.04</td>\n",
              "      <td>0.10</td>\n",
              "      <td>1.37</td>\n",
              "      <td>7.05</td>\n",
              "      <td>1.88</td>\n",
              "      <td>6.21</td>\n",
              "      <td>11.07</td>\n",
              "      <td>11.43</td>\n",
              "      <td>0.76</td>\n",
              "      <td>1.93</td>\n",
              "      <td>8.35</td>\n",
              "      <td>0.00</td>\n",
              "      <td>4.33</td>\n",
              "      <td>12.58</td>\n",
              "      <td>5.93</td>\n",
              "      <td>1.99</td>\n",
              "      <td>1.81</td>\n",
              "      <td>1.60</td>\n",
              "      <td>0.28</td>\n",
              "      <td>1.73</td>\n",
              "      <td>0.13</td>\n",
              "      <td>0.20</td>\n",
              "      <td>4.43</td>\n",
              "      <td>0.59</td>\n",
              "      <td>1.37</td>\n",
              "      <td>0.18</td>\n",
              "      <td>0.0</td>\n",
              "      <td>0.79</td>\n",
              "      <td>0.0</td>\n",
              "      <td>10.01</td>\n",
              "      <td>0.38</td>\n",
              "      <td>...</td>\n",
              "      <td>2.90</td>\n",
              "      <td>1.40</td>\n",
              "      <td>0.64</td>\n",
              "      <td>5.47</td>\n",
              "      <td>2.19</td>\n",
              "      <td>3.36</td>\n",
              "      <td>0.46</td>\n",
              "      <td>1.35</td>\n",
              "      <td>0.94</td>\n",
              "      <td>1.27</td>\n",
              "      <td>0.51</td>\n",
              "      <td>0.25</td>\n",
              "      <td>0.20</td>\n",
              "      <td>0.56</td>\n",
              "      <td>7.54</td>\n",
              "      <td>1.76</td>\n",
              "      <td>3.72</td>\n",
              "      <td>2.57</td>\n",
              "      <td>1.99</td>\n",
              "      <td>1.71</td>\n",
              "      <td>0.61</td>\n",
              "      <td>0.13</td>\n",
              "      <td>0.56</td>\n",
              "      <td>0.15</td>\n",
              "      <td>0.36</td>\n",
              "      <td>0.66</td>\n",
              "      <td>0.18</td>\n",
              "      <td>0.0</td>\n",
              "      <td>14.99</td>\n",
              "      <td>4.48</td>\n",
              "      <td>7.76</td>\n",
              "      <td>0.51</td>\n",
              "      <td>0.13</td>\n",
              "      <td>0.64</td>\n",
              "      <td>0.15</td>\n",
              "      <td>0.03</td>\n",
              "      <td>0.00</td>\n",
              "      <td>0.00</td>\n",
              "      <td>1.27</td>\n",
              "      <td>0.03</td>\n",
              "    </tr>\n",
              "    <tr>\n",
              "      <th>4</th>\n",
              "      <td>jf04.txt</td>\n",
              "      <td>1</td>\n",
              "      <td>891</td>\n",
              "      <td>27.00</td>\n",
              "      <td>17.06</td>\n",
              "      <td>80.02</td>\n",
              "      <td>45.79</td>\n",
              "      <td>16.05</td>\n",
              "      <td>8.08</td>\n",
              "      <td>0.79</td>\n",
              "      <td>0.34</td>\n",
              "      <td>0.45</td>\n",
              "      <td>7.07</td>\n",
              "      <td>2.58</td>\n",
              "      <td>7.97</td>\n",
              "      <td>9.65</td>\n",
              "      <td>12.91</td>\n",
              "      <td>1.01</td>\n",
              "      <td>0.90</td>\n",
              "      <td>10.77</td>\n",
              "      <td>0.00</td>\n",
              "      <td>5.39</td>\n",
              "      <td>11.22</td>\n",
              "      <td>6.06</td>\n",
              "      <td>2.81</td>\n",
              "      <td>1.57</td>\n",
              "      <td>3.03</td>\n",
              "      <td>0.00</td>\n",
              "      <td>1.57</td>\n",
              "      <td>0.00</td>\n",
              "      <td>0.56</td>\n",
              "      <td>5.61</td>\n",
              "      <td>0.90</td>\n",
              "      <td>1.46</td>\n",
              "      <td>0.34</td>\n",
              "      <td>0.0</td>\n",
              "      <td>0.00</td>\n",
              "      <td>0.0</td>\n",
              "      <td>13.02</td>\n",
              "      <td>1.23</td>\n",
              "      <td>...</td>\n",
              "      <td>3.37</td>\n",
              "      <td>1.57</td>\n",
              "      <td>0.00</td>\n",
              "      <td>4.15</td>\n",
              "      <td>1.80</td>\n",
              "      <td>2.58</td>\n",
              "      <td>1.46</td>\n",
              "      <td>0.56</td>\n",
              "      <td>0.22</td>\n",
              "      <td>1.01</td>\n",
              "      <td>0.11</td>\n",
              "      <td>0.22</td>\n",
              "      <td>0.34</td>\n",
              "      <td>0.45</td>\n",
              "      <td>6.40</td>\n",
              "      <td>2.24</td>\n",
              "      <td>3.59</td>\n",
              "      <td>2.02</td>\n",
              "      <td>1.23</td>\n",
              "      <td>0.90</td>\n",
              "      <td>0.22</td>\n",
              "      <td>0.11</td>\n",
              "      <td>1.12</td>\n",
              "      <td>0.00</td>\n",
              "      <td>0.00</td>\n",
              "      <td>0.00</td>\n",
              "      <td>0.11</td>\n",
              "      <td>0.0</td>\n",
              "      <td>19.53</td>\n",
              "      <td>6.29</td>\n",
              "      <td>7.97</td>\n",
              "      <td>0.67</td>\n",
              "      <td>0.00</td>\n",
              "      <td>0.45</td>\n",
              "      <td>0.11</td>\n",
              "      <td>0.00</td>\n",
              "      <td>3.37</td>\n",
              "      <td>0.22</td>\n",
              "      <td>0.45</td>\n",
              "      <td>0.00</td>\n",
              "    </tr>\n",
              "  </tbody>\n",
              "</table>\n",
              "<p>5 rows × 92 columns</p>\n",
              "</div>"
            ],
            "text/plain": [
              "    Filename  Segment    WC    WPS  ...  Quote  Apostro  Parenth  OtherP\n",
              "0   jf01.txt        1  1027  13.34  ...   0.00     0.00     0.97    0.10\n",
              "1  jf012.txt        1  4021  13.96  ...   0.00     0.00     1.04    0.00\n",
              "2   jf02.txt        1  4021  13.96  ...   0.00     0.00     1.04    0.00\n",
              "3   jf03.txt        1  3928  23.24  ...   0.00     0.00     1.27    0.03\n",
              "4   jf04.txt        1   891  27.00  ...   3.37     0.22     0.45    0.00\n",
              "\n",
              "[5 rows x 92 columns]"
            ]
          },
          "metadata": {
            "tags": []
          },
          "execution_count": 28
        }
      ]
    },
    {
      "cell_type": "code",
      "metadata": {
        "id": "Y8eFoy7hvQd3",
        "colab": {
          "base_uri": "https://localhost:8080/",
          "height": 326
        },
        "outputId": "9b655ca8-08b2-411b-cbbf-0ac7a8b2d36c"
      },
      "source": [
        "num_pals_ofi_opo = np.array(data_ofi_opo['WC'])\n",
        "print(num_pals_ofi_opo)"
      ],
      "execution_count": null,
      "outputs": [
        {
          "output_type": "stream",
          "text": [
            "[ 1027  4021  4021  3928   891   199  1399  1326  1549   881  1915  4784\n",
            "   425  3380   626  4852  1647  1009  7150  1686   523   874   420   483\n",
            "   348   900   764   538   845   480   368   995   372   946   828   876\n",
            "   321   820   318   336   343   334   411   762   857   431   707   184\n",
            "   580  3459   689   592   184   374   644   653   594   977  1416   707\n",
            "   834  1623  1376   660  1112  1293  1126  1102   708  1305  1298  1331\n",
            "  1224  1061  4613  1216 34676 36619   358   923   274   139   511   166\n",
            "   227   615   335   432   325   429   236   364  2605   552  2993  3483\n",
            "   364   311  1156  1097  1104   863  1649   909   762   839  1161  1168\n",
            "  1078  1230   848  1103   871   928   749   923  1044  1090  2080  1412\n",
            "  1312  1091   786   931   971   750   728   648   414   760   610   572\n",
            "   670   583   236   278   459  1019  1002  1042  1215   895   949   963\n",
            "  1081  1277  1221  1219   931   950  1134   998  1187  1318  1184  1251\n",
            "  2808  2886  2953  2631  2806  2374   256  2739  3049  2675   648   387\n",
            "   361  1202   467  2682  2958  3234  3423  3176  1230  1178  1170  1171\n",
            "  1168  1152  1180  1136  1117  1126  1057  1078  1057  1062  1036  1079\n",
            "  1003   973   891   537]\n"
          ],
          "name": "stdout"
        }
      ]
    },
    {
      "cell_type": "code",
      "metadata": {
        "id": "OY412GTnvQd6",
        "colab": {
          "base_uri": "https://localhost:8080/",
          "height": 90
        },
        "outputId": "ea943267-5048-4acc-ca20-cc8148775563"
      },
      "source": [
        "print(\"num_pal_ofi_opo: Mean: \", num_pals_ofi_opo.mean())\n",
        "print(\"num_pal_ofi_opo: standard deviation:\", num_pals_ofi_opo.std())\n",
        "print(\"num_pal_ofi_opo minimo: \", num_pals_ofi_opo.min())\n",
        "print(\"num_pal_ofi_opo: maximo: \", num_pals_ofi_opo.max())"
      ],
      "execution_count": null,
      "outputs": [
        {
          "output_type": "stream",
          "text": [
            "num_pal_ofi_opo: Mean:  1554.0969387755101\n",
            "num_pal_ofi_opo: standard deviation: 3608.914572785576\n",
            "num_pal_ofi_opo minimo:  139\n",
            "num_pal_ofi_opo: maximo:  36619\n"
          ],
          "name": "stdout"
        }
      ]
    },
    {
      "cell_type": "code",
      "metadata": {
        "id": "0Bb9a_5kvQd9",
        "colab": {
          "base_uri": "https://localhost:8080/",
          "height": 72
        },
        "outputId": "b4893f57-e7db-43a2-e7a8-a800c6498cc8"
      },
      "source": [
        "print(\"25th percentile: \", np.percentile(num_pals_ofi_opo, 25))\n",
        "print(\"Median: \", np.median(num_pals_ofi_opo))\n",
        "print(\"75th percentile: \", np.percentile(num_pals_ofi_opo, 75))"
      ],
      "execution_count": null,
      "outputs": [
        {
          "output_type": "stream",
          "text": [
            "25th percentile:  606.0\n",
            "Median:  975.0\n",
            "75th percentile:  1230.0\n"
          ],
          "name": "stdout"
        }
      ]
    },
    {
      "cell_type": "code",
      "metadata": {
        "id": "NEWP0TeRvQeB",
        "colab": {
          "base_uri": "https://localhost:8080/",
          "height": 35
        },
        "outputId": "e70a4a08-7d7c-4498-e4b6-e1e0e76b1eb9"
      },
      "source": [
        "num_pals_ofi_opo.argmin()"
      ],
      "execution_count": null,
      "outputs": [
        {
          "output_type": "execute_result",
          "data": {
            "text/plain": [
              "81"
            ]
          },
          "metadata": {
            "tags": []
          },
          "execution_count": 32
        }
      ]
    },
    {
      "cell_type": "code",
      "metadata": {
        "id": "NZq9_En6vQeH",
        "colab": {
          "base_uri": "https://localhost:8080/",
          "height": 305
        },
        "outputId": "e814e613-45ab-4ca7-d348-f2f03a7dbf4d"
      },
      "source": [
        "from pylab import * \n",
        "plt.figure(5,figsize=(6,3.5))\n",
        "xlabel('Article') \n",
        "ylabel('Word Count')\n",
        "title('Words per article: gov + oppo')    \n",
        "ion() \n",
        "plt.plot(num_pals_ofi_opo, \"r\")\n",
        "axhline(mean(num_pals_ofi_opo), color='g',linestyle=\"--\", label='Mean')\n",
        "legend(loc='upper left')\n",
        "annotate('Min', xy=(num_pals_ofi_opo.argmin(), num_pals_ofi_opo.min()), xytext=(num_pals_ofi_opo.argmin() + 20, num_pals_ofi_opo.min() + 10000),\n",
        "            arrowprops=dict(facecolor='black', shrink=0.02))\n",
        "annotate('Max', xy=(num_pals_ofi_opo.argmax(), num_pals_ofi_opo.max()), xytext=(num_pals_ofi_opo.argmax() + 20, num_pals_ofi_opo.max()),\n",
        "            arrowprops=dict(facecolor='black', shrink=0.02))\n",
        "plt.savefig(\"pal_ofi_opo_2.eps\", dpi=1500)\n",
        "show()"
      ],
      "execution_count": null,
      "outputs": [
        {
          "output_type": "stream",
          "text": [
            "The PostScript backend does not support transparency; partially transparent artists will be rendered opaque.\n",
            "The PostScript backend does not support transparency; partially transparent artists will be rendered opaque.\n"
          ],
          "name": "stderr"
        },
        {
          "output_type": "display_data",
          "data": {
            "image/png": "[encoded data removed]",
            "text/plain": [
              "<Figure size 432x252 with 1 Axes>"
            ]
          },
          "metadata": {
            "tags": [],
            "needs_background": "light"
          }
        }
      ]
    },
    {
      "cell_type": "markdown",
      "metadata": {
        "id": "_cwacX5u2PU9"
      },
      "source": [
        "### 2.2) Features dinámicas (BoW)"
      ]
    },
    {
      "cell_type": "markdown",
      "metadata": {
        "id": "TRuuYLva8O6W"
      },
      "source": [
        "Para realizar este paso, usted deberá haber subido previamente a la raíz de su unidad de Google Drive, el directorio \"textos_ofi_opo_UTF\" que tiene dos sub-drectorios (\"oficialistas\" y \"opositores\") que contiene los documentos \"crudos\" de cada clase de periodista.\n",
        "\n",
        "Una vez realizado eso, en la siguiente celda se \"monta\" su directorio de Google Drive, una vez que usted siguió el link indicado, permitió el acceso de esta notebook y copió en la celda el código de autorización que le muestra Google."
      ]
    },
    {
      "cell_type": "code",
      "metadata": {
        "id": "HNYZ0h2amqsK",
        "colab": {
          "base_uri": "https://localhost:8080/",
          "height": 128
        },
        "outputId": "8609fbca-a24a-48d3-cde1-d9a70279973d"
      },
      "source": [
        "from google.colab import drive\n",
        "drive.mount('/content/gdrive')\n"
      ],
      "execution_count": null,
      "outputs": [
        {
          "output_type": "stream",
          "text": [
            "Go to this URL in a browser: https://accounts.google.com/o/oauth2/auth?client_id=947318989803-6bn6qk8qdgf4n4g3pfee6491hc0brc4i.apps.googleusercontent.com&redirect_uri=urn%3aietf%3awg%3aoauth%3a2.0%3aoob&response_type=code&scope=email%20https%3a%2f%2fwww.googleapis.com%2fauth%2fdocs.test%20https%3a%2f%2fwww.googleapis.com%2fauth%2fdrive%20https%3a%2f%2fwww.googleapis.com%2fauth%2fdrive.photos.readonly%20https%3a%2f%2fwww.googleapis.com%2fauth%2fpeopleapi.readonly\n",
            "\n",
            "Enter your authorization code:\n",
            "··········\n",
            "Mounted at /content/gdrive\n"
          ],
          "name": "stdout"
        }
      ]
    },
    {
      "cell_type": "code",
      "metadata": {
        "id": "f_E-IJFWRmdq"
      },
      "source": [
        "import os\n",
        "os.chdir(\"/content/gdrive/My Drive\")"
      ],
      "execution_count": null,
      "outputs": []
    },
    {
      "cell_type": "code",
      "metadata": {
        "id": "Da75xqSDP6FL",
        "colab": {
          "base_uri": "https://localhost:8080/",
          "height": 274
        },
        "outputId": "4cc562a1-7c65-48c7-b1cc-96928297e4c4"
      },
      "source": [
        "from sklearn.datasets import load_files\n",
        "\n",
        "articulos_corpus = load_files(\"textos_ofi_opo_UTF\",encoding='utf-8')\n",
        "# load_files returns a bunch, containing training texts and training labels\n",
        "text_artic, clase_artic = articulos_corpus.data, articulos_corpus.target\n",
        "print(\"type de lo que devuelve load_files: {}\".format(type(articulos_corpus)))\n",
        "print(\"type of text_artic: {}\".format(type(text_artic)))\n",
        "print(\"type of clase_artic: {}\".format(type(text_artic)))\n",
        "print(\"length of text_artic: {}\".format(len(text_artic)))\n",
        "print(\"text_artic[0]:\\n{}\".format(text_artic[0]))\n"
      ],
      "execution_count": null,
      "outputs": [
        {
          "output_type": "stream",
          "text": [
            "type de lo que devuelve load_files: <class 'sklearn.utils.Bunch'>\n",
            "type of text_artic: <class 'list'>\n",
            "type of clase_artic: <class 'list'>\n",
            "length of text_artic: 196\n",
            "text_artic[0]:\n",
            "El anuncio de la Presidenta no es un fatalismo\r\n",
            "Llega un momento en el que hay que tomar decisiones. Ojalá que mucha gente siga el mismo camino que tomo. El mensaje de la Presidenta dice que el dólar no vale lo que están diciendo.\r\n",
            "Una sociedad que no puede comprar dólares me duele menos que ver cómo en los ‘90 tantas personas se quedaban sin trabajo.\r\n",
            "Tengo un repudio a los cacerolazos, estamos en un año donde hay medios de comunicación que están dispuestos a que el país se incendie, porque piensan que van a poder salir ganando.\r\n",
            "Siempre supe que perdía dinero comprando dólares, pero fui un desconocedor; era una cuestión cultural.\r\n",
            "El dólar siempre significó una pequeña seguridad para la clase media y quizá sigue siéndolo, pero si no se hubiese presentado esta coyuntura.\r\n",
            "El anuncio de la Presidenta no es un fatalismo.\r\n",
            "Cumpliré lo prometido y con mucho gusto.\n"
          ],
          "name": "stdout"
        }
      ]
    },
    {
      "cell_type": "code",
      "metadata": {
        "id": "JZB2527jc609",
        "colab": {
          "base_uri": "https://localhost:8080/",
          "height": 54
        },
        "outputId": "d4369cf2-1959-4e80-c0f0-94f5cf8fd863"
      },
      "source": [
        "num_pals = 0\n",
        "for str in text_artic:\n",
        "    num_pals = num_pals + len(str.split())\n",
        "print('Número de palabras en el Data Set Original')\n",
        "print(num_pals)"
      ],
      "execution_count": null,
      "outputs": [
        {
          "output_type": "stream",
          "text": [
            "Número de palabras en el Data Set Original\n",
            "281073\n"
          ],
          "name": "stdout"
        }
      ]
    },
    {
      "cell_type": "code",
      "metadata": {
        "id": "bI8KjZMjdR2t"
      },
      "source": [
        "# Apply a first round of text cleaning techniques\n",
        "import re\n",
        "import string\n",
        "\n",
        "def clean_text(text):\n",
        "    '''Make text lowercase, remove text in square brackets, remove punctuation and remove words containing numbers.'''\n",
        "    #text = text.lower()\n",
        "    text = re.sub('\\r\\n', ' ', text)\n",
        "    text = re.sub('\\ufeff', ' ', text)\n",
        "    #text = re.sub('\\[.*?\\]', ' ', text)\n",
        "    #text = re.sub('[%s]' % re.escape(string.punctuation), ' ', text)\n",
        "    text = re.sub('\\w*\\d\\w*', ' ', text)\n",
        "    return text"
      ],
      "execution_count": null,
      "outputs": []
    },
    {
      "cell_type": "code",
      "metadata": {
        "id": "NA9gJB_idYpy"
      },
      "source": [
        "text_artic = [clean_text(doc) for doc in text_artic]"
      ],
      "execution_count": null,
      "outputs": []
    },
    {
      "cell_type": "code",
      "metadata": {
        "id": "hIWBqN8xdedD",
        "colab": {
          "base_uri": "https://localhost:8080/",
          "height": 35
        },
        "outputId": "2a808b25-22a1-4a53-c7b2-75acd8d5d8a0"
      },
      "source": [
        "num_pals = 0\n",
        "for str in text_artic:\n",
        "    num_pals = num_pals + len(str.split())\n",
        "print(num_pals)"
      ],
      "execution_count": null,
      "outputs": [
        {
          "output_type": "stream",
          "text": [
            "280343\n"
          ],
          "name": "stdout"
        }
      ]
    },
    {
      "cell_type": "code",
      "metadata": {
        "id": "SYbwIzvEd5fF",
        "colab": {
          "base_uri": "https://localhost:8080/",
          "height": 72
        },
        "outputId": "8bf97d22-ee47-4fda-b1b7-a05a37321e29"
      },
      "source": [
        "vect = CountVectorizer().fit(text_artic) # Esto ya lo había hecho antes en dos pasos\n",
        "X_train = vect.transform(text_artic)\n",
        "print(\"X_train:\\n{}\".format(repr(X_train)))"
      ],
      "execution_count": null,
      "outputs": [
        {
          "output_type": "stream",
          "text": [
            "X_train:\n",
            "<196x24323 sparse matrix of type '<class 'numpy.int64'>'\n",
            "\twith 99998 stored elements in Compressed Sparse Row format>\n"
          ],
          "name": "stdout"
        }
      ]
    },
    {
      "cell_type": "code",
      "metadata": {
        "id": "f3YajWAEeFz7",
        "colab": {
          "base_uri": "https://localhost:8080/",
          "height": 165
        },
        "outputId": "f90ee9cd-4ed9-4f30-ab39-71685cb692cd"
      },
      "source": [
        "# Esto también ya lo había hecho\n",
        "feature_names = vect.get_feature_names()\n",
        "print(\"Number of features: {}\".format(len(feature_names)))\n",
        "print(\"First 20 features:\\n{}\".format(feature_names[:20]))\n",
        "print(\"Features 20010 to 20030:\\n{}\".format(feature_names[20010:20030]))\n",
        "print(\"Every 2000th feature:\\n{}\".format(feature_names[::2000]))"
      ],
      "execution_count": null,
      "outputs": [
        {
          "output_type": "stream",
          "text": [
            "Number of features: 24323\n",
            "First 20 features:\n",
            "['aa', 'aaa', 'aanto', 'abaca', 'abajo', 'abal', 'abalanzan', 'abandona', 'abandonaba', 'abandonaban', 'abandonado', 'abandonados', 'abandonar', 'abandonara', 'abandonarlo', 'abandonaron', 'abandonará', 'abandono', 'abandonó', 'abanico']\n",
            "Features 20010 to 20030:\n",
            "['republica', 'republicana', 'republicanas', 'republicano', 'republicanos', 'repudiable', 'repudiada', 'repudiemos', 'repudio', 'repudios', 'repudió', 'repuesta', 'repugnancia', 'repugnante', 'repugne', 'repulsa', 'repulsivos', 'repunte', 'repuso', 'reputación']\n",
            "Every 2000th feature:\n",
            "['aa', 'arrollada', 'cesan', 'cuarto', 'docentes', 'expliquemos', 'hábilmente', 'licencia', 'novelas', 'posta', 'reproducción', 'sujeto', 'volantazo']\n"
          ],
          "name": "stdout"
        }
      ]
    },
    {
      "cell_type": "markdown",
      "metadata": {
        "id": "FZNu0fYoeaMO"
      },
      "source": [
        "#### Ahora hago una vectorización de los documentos, con una frecuencia mínima de 5 documentos, y luego elimino las palabras de paro"
      ]
    },
    {
      "cell_type": "code",
      "metadata": {
        "id": "bSLGr3xGeUhe",
        "colab": {
          "base_uri": "https://localhost:8080/",
          "height": 54
        },
        "outputId": "3ed8342e-00e7-4837-ed84-ca66987e9a40"
      },
      "source": [
        "vect = CountVectorizer(min_df=5).fit(text_artic)\n",
        "X_train = vect.transform(text_artic)\n",
        "print(\"X_train with min_df: {}\".format(repr(X_train)))\n",
        "\n"
      ],
      "execution_count": null,
      "outputs": [
        {
          "output_type": "stream",
          "text": [
            "X_train with min_df: <196x4155 sparse matrix of type '<class 'numpy.int64'>'\n",
            "\twith 68383 stored elements in Compressed Sparse Row format>\n"
          ],
          "name": "stdout"
        }
      ]
    },
    {
      "cell_type": "code",
      "metadata": {
        "id": "BDP_CuSPem8r",
        "colab": {
          "base_uri": "https://localhost:8080/",
          "height": 146
        },
        "outputId": "49915be4-bb80-4407-b3e7-25ad9790e217"
      },
      "source": [
        "feature_names = vect.get_feature_names()\n",
        "\n",
        "print(\"First 50 features:\\n{}\".format(feature_names[:50]))\n",
        "print(\"Features 1510 to 1530:\\n{}\".format(feature_names[1510:1530]))\n",
        "print(\"Every 700th feature:\\n{}\".format(feature_names[::700]))"
      ],
      "execution_count": null,
      "outputs": [
        {
          "output_type": "stream",
          "text": [
            "First 50 features:\n",
            "['abajo', 'abal', 'abandonar', 'abarca', 'abierta', 'abiertas', 'abierto', 'abiertos', 'abogada', 'abogado', 'abogados', 'aborto', 'abrazo', 'abre', 'abrieron', 'abril', 'abrir', 'abrió', 'abría', 'absoluta', 'absolutamente', 'absurda', 'absurdo', 'abuelas', 'abunda', 'abuso', 'acaba', 'acabó', 'acaso', 'acceder', 'acceso', 'accionar', 'acciones', 'acción', 'acepción', 'acepta', 'aceptación', 'aceptan', 'aceptar', 'aceptaron', 'aceptó', 'acerca', 'acercamiento', 'aclara', 'aclarar', 'aclaró', 'acompañada', 'acompañan', 'acompañó', 'acontecimiento']\n",
            "Features 1510 to 1530:\n",
            "['excelente', 'excepcional', 'excepciones', 'excepción', 'exceso', 'exclusión', 'excusa', 'exhibe', 'exhibir', 'exige', 'exista', 'existe', 'existen', 'existencia', 'existir', 'existió', 'existía', 'existían', 'expectativas', 'expediente']\n",
            "Every 700th feature:\n",
            "['abajo', 'condenado', 'escritorio', 'jornada', 'parecida', 'salvar']\n"
          ],
          "name": "stdout"
        }
      ]
    },
    {
      "cell_type": "markdown",
      "metadata": {
        "id": "QH7ljy__fKxy"
      },
      "source": [
        "### Stop-words (en español, de NLTK)"
      ]
    },
    {
      "cell_type": "code",
      "metadata": {
        "id": "BnqT-_i2e8Xl",
        "colab": {
          "base_uri": "https://localhost:8080/",
          "height": 146
        },
        "outputId": "dfb5770d-2c6e-4077-8737-04fd8601eedd"
      },
      "source": [
        "import nltk\n",
        "nltk.download('stopwords')\n",
        "\n",
        "# We are going to create a document-term matrix using CountVectorizer, and exclude common Spanish stop words\n",
        "from nltk.corpus import stopwords \n",
        "\n",
        "stop_words = set(stopwords.words('spanish')) \n",
        "\n",
        "print(\"Number of stop words: {}\".format(len(stop_words)))\n",
        "print(\"Number of stop words: {}\".format(stop_words))\n",
        "print(\"Every 10th stopword:\\n{}\".format(list(stop_words)[::10]))\n"
      ],
      "execution_count": null,
      "outputs": [
        {
          "output_type": "stream",
          "text": [
            "[nltk_data] Downloading package stopwords to /root/nltk_data...\n",
            "[nltk_data]   Unzipping corpora/stopwords.zip.\n",
            "Number of stop words: 313\n",
            "Number of stop words: {'hubierais', 'estarás', 'estuvieses', 'seré', 'unos', 'estaré', 'sintiendo', 'él', 'te', 'serías', 'esos', 'quienes', 'hubiese', 'hasta', 'estuve', 'estás', 'estados', 'habría', 'seríais', 'estadas', 'habiendo', 'el', 'habríais', 'habremos', 'ellas', 'e', 'estuviera', 'estuviéramos', 'estuvieseis', 'habréis', 'habrían', 'para', 'poco', 'habrán', 'y', 'sí', 'estad', 'nosotros', 'tenemos', 'estará', 'su', 'sin', 'estaremos', 'tendré', 'estuvimos', 'hubieron', 'sería', 'como', 'habrías', 'ese', 'muy', 'sobre', 'mi', 'seremos', 'algunos', 'ni', 'en', 'estéis', 'todo', 'estuvisteis', 'un', 'fueseis', 'sentido', 'sean', 'será', 'fuimos', 'ya', 'ti', 'mías', 'estoy', 'teníamos', 'hayamos', 'tuvierais', 'le', 'están', 'a', 'tanto', 'es', 'sentida', 'sentidos', 'una', 'que', 'tuya', 'estuviese', 'quien', 'cuando', 'muchos', 'suya', 'estáis', 'estaréis', 'habíamos', 'hubiste', 'tendríais', 'tuyos', 'habrás', 'habían', 'tengamos', 'hubieses', 'tendrías', 'ella', 'tuviera', 'al', 'habíais', 'sentid', 'les', 'erais', 'estaríais', 'estén', 'estuvierais', 'vuestras', 'tengan', 'hubieran', 'tuvieseis', 'estabais', 'tenido', 'hubiéramos', 'yo', 'tienen', 'estarían', 'ha', 'eso', 'fueses', 'tuve', 'tuvieses', 'somos', 'estando', 'os', 'esté', 'fuéramos', 'sus', 'del', 'se', 'fuiste', 'también', 'tengas', 'habida', 'tendrán', 'habéis', 'entre', 'vuestra', 'nos', 'hubiésemos', 'soy', 'éramos', 'hube', 'nosotras', 'estemos', 'algo', 'mía', 'está', 'mucho', 'estarán', 'serás', 'fue', 'eras', 'desde', 'haya', 'otra', 'estuvieran', 'habré', 'hubiesen', 'suyo', 'eres', 'fueron', 'fueran', 'todos', 'has', 'fuerais', 'tendrá', 'por', 'habido', 'tenía', 'tenían', 'nuestra', 'seríamos', 'habidos', 'eran', 'habías', 'hubo', 'tuvimos', 'hay', 'tuvieron', 'estos', 'vuestros', 'tengáis', 'estas', 'nuestras', 'hubieseis', 'fui', 'estabas', 'tuviste', 'estaría', 'estaríamos', 'tendremos', 'fuésemos', 'estuvieron', 'con', 'tuyo', 'estamos', 'estuviste', 'esta', 'los', 'sentidas', 'mí', 'tu', 'hayas', 'tenéis', 'tuviéramos', 'suyos', 'nuestro', 'fuera', 'teniendo', 'estés', 'qué', 'siente', 'sea', 'de', 'otros', 'tuvo', 'donde', 'seáis', 'serían', 'antes', 'hubieras', 'tenida', 'ante', 'hubiera', 'tenidos', 'tuvieras', 'estuvieras', 'tenías', 'tendréis', 'este', 'fueras', 'no', 'esa', 'tuvieran', 'más', 'uno', 'hubisteis', 'tuvisteis', 'mío', 'era', 'estaba', 'habrá', 'estaban', 'tendríamos', 'he', 'tuviesen', 'esto', 'estar', 'sois', 'seas', 'tienes', 'pero', 'las', 'tendrás', 'estado', 'había', 'tengo', 'teníais', 'vosotros', 'estarías', 'hemos', 'estada', 'hayan', 'fuese', 'cual', 'tendrían', 'algunas', 'tened', 'otras', 'contra', 'tus', 'o', 'durante', 'tuyas', 'hayáis', 'estuviésemos', 'tenga', 'tuviese', 'nada', 'me', 'serán', 'míos', 'seréis', 'estuviesen', 'tuviésemos', 'otro', 'fuisteis', 'esas', 'estábamos', 'estuvo', 'habidas', 'ellos', 'seamos', 'tiene', 'la', 'tenidas', 'tendría', 'mis', 'vosotras', 'suyas', 'tú', 'fuesen', 'porque', 'nuestros', 'habríamos', 'vuestro', 'han', 'hubimos', 'son', 'lo'}\n",
            "Every 10th stopword:\n",
            "['hubierais', 'esos', 'habiendo', 'habrían', 'su', 'muy', 'un', 'teníamos', 'una', 'habíamos', 'tuviera', 'tengan', 'eso', 'del', 'nos', 'mucho', 'hubiesen', 'habido', 'hay', 'tuviste', 'esta', 'fuera', 'seáis', 'tenías', 'tuvisteis', 'estar', 'teníais', 'tened', 'tuviese', 'esas', 'mis', 'hubimos']\n"
          ],
          "name": "stdout"
        }
      ]
    },
    {
      "cell_type": "markdown",
      "metadata": {
        "id": "ey2StcX4_iul"
      },
      "source": [
        "#### Ahora vectorizo sin las palabras de paro"
      ]
    },
    {
      "cell_type": "code",
      "metadata": {
        "id": "qs5znMec_XKy",
        "colab": {
          "base_uri": "https://localhost:8080/",
          "height": 54
        },
        "outputId": "676edb2f-9c40-4168-c77d-29747cb593ee"
      },
      "source": [
        "vect = CountVectorizer(min_df=5,stop_words=stop_words).fit(text_artic)\n",
        "X_train = vect.transform(text_artic)\n",
        "print(\"X_train with min_df: {}\".format(repr(X_train)))"
      ],
      "execution_count": null,
      "outputs": [
        {
          "output_type": "stream",
          "text": [
            "X_train with min_df: <196x3981 sparse matrix of type '<class 'numpy.int64'>'\n",
            "\twith 55044 stored elements in Compressed Sparse Row format>\n"
          ],
          "name": "stdout"
        }
      ]
    },
    {
      "cell_type": "markdown",
      "metadata": {
        "id": "5fjwxgNjAgnH"
      },
      "source": [
        "#### y lo mismo puedo hacer con otros vectorizadores"
      ]
    },
    {
      "cell_type": "code",
      "metadata": {
        "id": "lgEYSXLW_L76",
        "colab": {
          "base_uri": "https://localhost:8080/",
          "height": 54
        },
        "outputId": "a64635d6-ce12-4804-bc81-0485bfa54a91"
      },
      "source": [
        "vect = TfidfVectorizer(min_df=5,stop_words=stop_words).fit(text_artic)\n",
        "X_train = vect.transform(text_artic)\n",
        "print(\"X_train with min_df: {}\".format(repr(X_train)))"
      ],
      "execution_count": null,
      "outputs": [
        {
          "output_type": "stream",
          "text": [
            "X_train with min_df: <196x3981 sparse matrix of type '<class 'numpy.float64'>'\n",
            "\twith 55044 stored elements in Compressed Sparse Row format>\n"
          ],
          "name": "stdout"
        }
      ]
    },
    {
      "cell_type": "markdown",
      "metadata": {
        "id": "iUx_sgoTfi56"
      },
      "source": [
        "#3) Críticas de películas (desde NLTK)"
      ]
    },
    {
      "cell_type": "code",
      "metadata": {
        "id": "xY7Fkk2zRh9U",
        "colab": {
          "base_uri": "https://localhost:8080/",
          "height": 54
        },
        "outputId": "e03c3b0d-d487-4cec-aa15-12737e845b68"
      },
      "source": [
        "import nltk\n",
        "import random\n",
        "# nltk.download('punkt')\n",
        "nltk.download('movie_reviews')\n",
        "from nltk.corpus import movie_reviews\n",
        "\n",
        "\n"
      ],
      "execution_count": null,
      "outputs": [
        {
          "output_type": "stream",
          "text": [
            "[nltk_data] Downloading package movie_reviews to /root/nltk_data...\n",
            "[nltk_data]   Unzipping corpora/movie_reviews.zip.\n"
          ],
          "name": "stdout"
        }
      ]
    },
    {
      "cell_type": "code",
      "metadata": {
        "id": "2yEpE9Nm-KVk"
      },
      "source": [
        "opiniones = [' '.join(movie_reviews.words(fileid))\n",
        "                for category in movie_reviews.categories()\n",
        "                for fileid in movie_reviews.fileids(category)]\n",
        "categoria = [ int(category == 'pos')\n",
        "                for category in movie_reviews.categories()\n",
        "                for fileid in movie_reviews.fileids(category)]\n",
        "\n"
      ],
      "execution_count": null,
      "outputs": []
    },
    {
      "cell_type": "code",
      "metadata": {
        "id": "E3c2G1GWT5xR",
        "colab": {
          "base_uri": "https://localhost:8080/",
          "height": 90
        },
        "outputId": "ef550178-c9c4-480b-cab1-2070c1276510"
      },
      "source": [
        "print(\"Tipo y tamaño de las opiniones \\n\", type(opiniones),len(opiniones))\n",
        "print(\"Tipo de cada opinión \\n\", type(opiniones[0]))"
      ],
      "execution_count": null,
      "outputs": [
        {
          "output_type": "stream",
          "text": [
            "Tipo y tamaño de las opiniones \n",
            " <class 'list'> 2000\n",
            "Tipo de cada opinión \n",
            " <class 'str'>\n"
          ],
          "name": "stdout"
        }
      ]
    },
    {
      "cell_type": "code",
      "metadata": {
        "id": "33x6VVA4VU2Q",
        "colab": {
          "base_uri": "https://localhost:8080/",
          "height": 92
        },
        "outputId": "f2bc1557-315f-4959-b978-b998b6a1674e"
      },
      "source": [
        "print(\"Ejemplo: la primera opinión: \\n\")\n",
        "print(opiniones[0])"
      ],
      "execution_count": null,
      "outputs": [
        {
          "output_type": "stream",
          "text": [
            "Ejemplo: la primera opinión: \n",
            "\n",
            "plot : two teen couples go to a church party , drink and then drive . they get into an accident . one of the guys dies , but his girlfriend continues to see him in her life , and has nightmares . what ' s the deal ? watch the movie and \" sorta \" find out . . . critique : a mind - fuck movie for the teen generation that touches on a very cool idea , but presents it in a very bad package . which is what makes this review an even harder one to write , since i generally applaud films which attempt to break the mold , mess with your head and such ( lost highway & memento ) , but there are good and bad ways of making all types of films , and these folks just didn ' t snag this one correctly . they seem to have taken this pretty neat concept , but executed it terribly . so what are the problems with the movie ? well , its main problem is that it ' s simply too jumbled . it starts off \" normal \" but then downshifts into this \" fantasy \" world in which you , as an audience member , have no idea what ' s going on . there are dreams , there are characters coming back from the dead , there are others who look like the dead , there are strange apparitions , there are disappearances , there are a looooot of chase scenes , there are tons of weird things that happen , and most of it is simply not explained . now i personally don ' t mind trying to unravel a film every now and then , but when all it does is give me the same clue over and over again , i get kind of fed up after a while , which is this film ' s biggest problem . it ' s obviously got this big secret to hide , but it seems to want to hide it completely until its final five minutes . and do they make things entertaining , thrilling or even engaging , in the meantime ? not really . the sad part is that the arrow and i both dig on flicks like this , so we actually figured most of it out by the half - way point , so all of the strangeness after that did start to make a little bit of sense , but it still didn ' t the make the film all that more entertaining . i guess the bottom line with movies like this is that you should always make sure that the audience is \" into it \" even before they are given the secret password to enter your world of understanding . i mean , showing melissa sagemiller running away from visions for about 20 minutes throughout the movie is just plain lazy ! ! okay , we get it . . . there are people chasing her and we don ' t know who they are . do we really need to see it over and over again ? how about giving us different scenes offering further insight into all of the strangeness going down in the movie ? apparently , the studio took this film away from its director and chopped it up themselves , and it shows . there might ' ve been a pretty decent teen mind - fuck movie in here somewhere , but i guess \" the suits \" decided that turning it into a music video with little edge , would make more sense . the actors are pretty good for the most part , although wes bentley just seemed to be playing the exact same character that he did in american beauty , only in a new neighborhood . but my biggest kudos go out to sagemiller , who holds her own throughout the entire film , and actually has you feeling her character ' s unraveling . overall , the film doesn ' t stick because it doesn ' t entertain , it ' s confusing , it rarely excites and it feels pretty redundant for most of its runtime , despite a pretty cool ending and explanation to all of the craziness that came before it . oh , and by the way , this is not a horror or teen slasher flick . . . it ' s just packaged to look that way because someone is apparently assuming that the genre is still hot with the kids . it also wrapped production two years ago and has been sitting on the shelves ever since . whatever . . . skip it ! where ' s joblo coming from ? a nightmare of elm street 3 ( 7 / 10 ) - blair witch 2 ( 7 / 10 ) - the crow ( 9 / 10 ) - the crow : salvation ( 4 / 10 ) - lost highway ( 10 / 10 ) - memento ( 10 / 10 ) - the others ( 9 / 10 ) - stir of echoes ( 8 / 10 )\n"
          ],
          "name": "stdout"
        }
      ]
    },
    {
      "cell_type": "code",
      "metadata": {
        "id": "hAoTXG3u-e27",
        "colab": {
          "base_uri": "https://localhost:8080/",
          "height": 108
        },
        "outputId": "30c5230c-5cb9-454a-af3b-6afc62a2936f"
      },
      "source": [
        "from sklearn.feature_extraction.text import TfidfVectorizer\n",
        "from sklearn.feature_extraction.text import CountVectorizer\n",
        "vect_opi = CountVectorizer().fit(opiniones)\n",
        "X3 = vect_opi.transform(opiniones)\n",
        "\n",
        "print(\"Tipo de los datos vectorizados (Matriz X3): \", type(X3))\n",
        "print(\"Tipo del arreglo target (vector categoria): \", type(categoria))\n",
        "print(\"... y los tamaños de X3 y categoria\")\n",
        "print(X3.shape)\n",
        "print(len(categoria))\n"
      ],
      "execution_count": null,
      "outputs": [
        {
          "output_type": "stream",
          "text": [
            "Tipo de los datos vectorizados (Matriz X3):  <class 'scipy.sparse.csr.csr_matrix'>\n",
            "Tipo del arreglo target (vector categoria):  <class 'list'>\n",
            "... y los tamaños de X3 y categoria\n",
            "(2000, 39659)\n",
            "2000\n"
          ],
          "name": "stdout"
        }
      ]
    },
    {
      "cell_type": "code",
      "metadata": {
        "id": "_-AL1hjqC3qi"
      },
      "source": [
        "feature_names = vect_opi.get_feature_names()"
      ],
      "execution_count": null,
      "outputs": []
    },
    {
      "cell_type": "code",
      "metadata": {
        "id": "0yhbEGMCDFED",
        "colab": {
          "base_uri": "https://localhost:8080/",
          "height": 35
        },
        "outputId": "55734d7e-981d-4b14-9afa-a0fd31403b02"
      },
      "source": [
        "print(\"numero de features: {}\".format(len(feature_names)))"
      ],
      "execution_count": null,
      "outputs": [
        {
          "output_type": "stream",
          "text": [
            "numero de features: 39659\n"
          ],
          "name": "stdout"
        }
      ]
    },
    {
      "cell_type": "code",
      "metadata": {
        "id": "uI4Wi56NDmGW",
        "colab": {
          "base_uri": "https://localhost:8080/",
          "height": 55
        },
        "outputId": "1b6f5bce-5097-495d-9729-434fd9975f78"
      },
      "source": [
        "print(\"Primeras 20 features: {}\".format(feature_names[:20]))"
      ],
      "execution_count": null,
      "outputs": [
        {
          "output_type": "stream",
          "text": [
            "Primeras 20 features: ['00', '000', '0009f', '007', '00s', '03', '04', '05', '05425', '10', '100', '1000', '10000', '100m', '101', '102', '103', '104', '105', '106']\n"
          ],
          "name": "stdout"
        }
      ]
    },
    {
      "cell_type": "code",
      "metadata": {
        "id": "gsJLOMwfD34r",
        "colab": {
          "base_uri": "https://localhost:8080/",
          "height": 55
        },
        "outputId": "d1d7f31d-a915-4d89-da22-afea78910c67"
      },
      "source": [
        "print(\"Features 20010 a 20030: {}\".format(feature_names[20010:20030]))"
      ],
      "execution_count": null,
      "outputs": [
        {
          "output_type": "stream",
          "text": [
            "Features 20010 a 20030: ['lathered', 'latifa', 'latifah', 'latin', 'latit', 'latitude', 'latrobe', 'latter', 'lattitude', 'latura', 'lau', 'laudable', 'laude', 'lauded', 'laudible', 'laugh', 'laughable', 'laughably', 'laughed', 'laugher']\n"
          ],
          "name": "stdout"
        }
      ]
    },
    {
      "cell_type": "code",
      "metadata": {
        "id": "mz64gVwOEcxy",
        "colab": {
          "base_uri": "https://localhost:8080/",
          "height": 55
        },
        "outputId": "2f827415-29bb-462b-fd69-49f384efdda4"
      },
      "source": [
        "print(\"Cada 1000 features: {}\".format(feature_names[::1000]))"
      ],
      "execution_count": null,
      "outputs": [
        {
          "output_type": "stream",
          "text": [
            "Cada 1000 features: ['00', 'ad2am', 'anvil', 'baileys', 'blanc', 'bulb', 'chao', 'comatose', 'counterprogramming', 'declining', 'discussion', 'dysart', 'eschew', 'femke', 'fresh', 'gonzo', 'hateful', 'huison', 'inhospitable', 'jolie', 'laszlo', 'lucus', 'meatloaf', 'mortgages', 'norma', 'overpaid', 'pfeiffer', 'prefacing', 'racial', 'renny', 'roughly', 'secret', 'sisters', 'spices', 'stylize', 'teases', 'traditional', 'unethical', 'vineyard', 'wish']\n"
          ],
          "name": "stdout"
        }
      ]
    },
    {
      "cell_type": "markdown",
      "metadata": {
        "id": "h7B-9L3rKTsU"
      },
      "source": [
        ""
      ]
    },
    {
      "cell_type": "markdown",
      "metadata": {
        "id": "Tvj8tubgCfym"
      },
      "source": [
        "#4) Transcripción de monólogos (bajados de la Web)"
      ]
    },
    {
      "cell_type": "code",
      "metadata": {
        "id": "cXj3ulA2pvxt"
      },
      "source": [
        "# Web scraping, pickle imports\n",
        "import requests\n",
        "from bs4 import BeautifulSoup\n",
        "import pickle\n",
        "\n",
        "# Scrapes transcript data from scrapsfromtheloft.com\n",
        "def url_to_transcript(url):\n",
        "    '''Returns transcript data specifically from scrapsfromtheloft.com.'''\n",
        "    page = requests.get(url).text\n",
        "    soup = BeautifulSoup(page, \"lxml\")\n",
        "    text = [p.text for p in soup.find(class_=\"post-content\").find_all('p')]\n",
        "    print(url)\n",
        "    return text\n",
        "\n",
        "# URLs of transcripts in scope\n",
        "urls = ['http://scrapsfromtheloft.com/2017/05/06/louis-ck-oh-my-god-full-transcript/',\n",
        "        'http://scrapsfromtheloft.com/2017/04/11/dave-chappelle-age-spin-2017-full-transcript/',\n",
        "        'http://scrapsfromtheloft.com/2018/03/15/ricky-gervais-humanity-transcript/',\n",
        "        'http://scrapsfromtheloft.com/2017/08/07/bo-burnham-2013-full-transcript/',\n",
        "        'http://scrapsfromtheloft.com/2017/05/24/bill-burr-im-sorry-feel-way-2014-full-transcript/',\n",
        "        'http://scrapsfromtheloft.com/2017/04/21/jim-jefferies-bare-2014-full-transcript/',\n",
        "        'http://scrapsfromtheloft.com/2017/08/02/john-mulaney-comeback-kid-2015-full-transcript/',\n",
        "        'http://scrapsfromtheloft.com/2017/10/21/hasan-minhaj-homecoming-king-2017-full-transcript/',\n",
        "        'http://scrapsfromtheloft.com/2017/09/19/ali-wong-baby-cobra-2016-full-transcript/',\n",
        "        'http://scrapsfromtheloft.com/2017/08/03/anthony-jeselnik-thoughts-prayers-2015-full-transcript/',\n",
        "        'http://scrapsfromtheloft.com/2018/03/03/mike-birbiglia-my-girlfriends-boyfriend-2013-full-transcript/',\n",
        "        'http://scrapsfromtheloft.com/2017/08/19/joe-rogan-triggered-2016-full-transcript/']\n",
        "\n",
        "# Comedian names\n",
        "comedians = ['louis', 'dave', 'ricky', 'bo', 'bill', 'jim', 'john', 'hasan', 'ali', 'anthony', 'mike', 'joe']"
      ],
      "execution_count": null,
      "outputs": []
    },
    {
      "cell_type": "code",
      "metadata": {
        "id": "XE3ai0y4rgOo",
        "colab": {
          "base_uri": "https://localhost:8080/",
          "height": 235
        },
        "outputId": "e3b2d612-ac91-47cb-d9d6-1090d947b88f"
      },
      "source": [
        "# # Actually request transcripts (takes a few minutes to run)\n",
        "transcripts = [url_to_transcript(u) for u in urls]"
      ],
      "execution_count": null,
      "outputs": [
        {
          "output_type": "stream",
          "text": [
            "http://scrapsfromtheloft.com/2017/05/06/louis-ck-oh-my-god-full-transcript/\n",
            "http://scrapsfromtheloft.com/2017/04/11/dave-chappelle-age-spin-2017-full-transcript/\n",
            "http://scrapsfromtheloft.com/2018/03/15/ricky-gervais-humanity-transcript/\n",
            "http://scrapsfromtheloft.com/2017/08/07/bo-burnham-2013-full-transcript/\n",
            "http://scrapsfromtheloft.com/2017/05/24/bill-burr-im-sorry-feel-way-2014-full-transcript/\n",
            "http://scrapsfromtheloft.com/2017/04/21/jim-jefferies-bare-2014-full-transcript/\n",
            "http://scrapsfromtheloft.com/2017/08/02/john-mulaney-comeback-kid-2015-full-transcript/\n",
            "http://scrapsfromtheloft.com/2017/10/21/hasan-minhaj-homecoming-king-2017-full-transcript/\n",
            "http://scrapsfromtheloft.com/2017/09/19/ali-wong-baby-cobra-2016-full-transcript/\n",
            "http://scrapsfromtheloft.com/2017/08/03/anthony-jeselnik-thoughts-prayers-2015-full-transcript/\n",
            "http://scrapsfromtheloft.com/2018/03/03/mike-birbiglia-my-girlfriends-boyfriend-2013-full-transcript/\n",
            "http://scrapsfromtheloft.com/2017/08/19/joe-rogan-triggered-2016-full-transcript/\n"
          ],
          "name": "stdout"
        }
      ]
    },
    {
      "cell_type": "code",
      "metadata": {
        "id": "tOL5Z5a8r3uz",
        "colab": {
          "base_uri": "https://localhost:8080/",
          "height": 128
        },
        "outputId": "2e9226b8-30d2-40bc-cb69-3c882f295fcf"
      },
      "source": [
        "print(type(transcripts))\n",
        "print(type(transcripts[0]))\n",
        "artista = transcripts[0]\n",
        "print(artista)\n",
        "print(artista[0])"
      ],
      "execution_count": null,
      "outputs": [
        {
          "output_type": "stream",
          "text": [
            "<class 'list'>\n",
            "<class 'list'>\n",
            "['Intro\\nFade the music out. Let’s roll. Hold there. Lights. Do the lights. Thank you. Thank you very much. I appreciate that. I don’t necessarily agree with you, but I appreciate very much. Well, this is a nice place. This is easily the nicest place For many miles in every direction. That’s how you compliment a building And shit on a town with one sentence. It is odd around here, as I was driving here. There doesn’t seem to be any difference Between the sidewalk and the street for pedestrians here. People just kind of walk in the middle of the road. I love traveling And seeing all the different parts of the country. I live in New York. I live in a– There’s no value to your doing that at all.', '“The Old Lady And The Dog”\\nI live– I live in New York. I always– Like, there’s this old lady in my neighborhood, And she’s always walking her dog. She’s always just– she’s very old. She just stands there just being old, And the dog just fights gravity every day, just– The two of them, it’s really– The dog’s got a cloudy eye, and she’s got a cloudy eye, And they just stand there looking at the street In two dimensions together, and– And she’s always wearing, like, this old sweater dress. I guess it was a sweater when she was, like, 5’10”, But now it’s just, like, this sweater And her legs are– her legs are a nightmare. They’re just white with green streaks and bones sticking out. Her legs are awful. I saw a guy with no legs wheeling by, And he was like, “yecch, no thank you. “I do not want those. “I’d rather just have air down here like I have Than to look down at that shit.” I see these two all the time, and I always look at them, And I always think, “god, I hope she dies first.” I do. I hope she dies first, for her sake, Because I don’t want her to lose the dog. I don’t think she’ll be able to handle it. If she dies– If the old lady dies first, I’m not worried about the dog Because the dog doesn’t even know about the old lady. This dog is aware of three inches around his head. He’s living in two-second increments. The second he’s in and the one he just left Is all he knows about, But if he dies, this lady, she’s gonna be destroyed Because this dog is all she has, And I know he’s all she has because she has him. There’s no– If she had one person in her life, She would not keep this piece of shit little dog. Even if just some young woman in her building one morning Were to say, “good morning, gladys,” She’d be like, “good,” And just flush him down the toilet, just– Poom! Poom! The dog just keeps bumping on the drain. Poom! “” she gives up. Ends up just shitting on her dog for the rest of her life. P-p-p! Poom!', '“My Daughter Likes Fish”\\nYou ever flush a pet down the toilet? I had to flush my daughter’s fish down the toilet. I came home, the fish was dead. She wasn’t home from school yet, so I just flushed the fish, And that’s a weird moment, too, ’cause fish live in water. So you put it in the toilet, floats to the bottom, Like, “yeah, he’s dead,” And then you flush, and it looks like he goes, “wait a second! Aw, shit! “I was taking a nap! Jesus! “you gotta be in constant motion To get any respect in this house.” And then my daughter comes home. “why did he die, da–” Come on. What am I gonna say? Why did he die? Because who gives a shit? That’s the reason. That’s the actual reason, is because didn’t matter That he was alive. That’s why he’s dead. He didn’t know his name, and he didn’t love you back. These are the facts about that fish’s life. My daughter likes fish. We took her to the aquarium. I took both my kids to the aquarium in boston, And we were looking at this seal, or sea lion. I don’t know which one. I don’t care. I don’t think they need to be separate things. I really don’t. They don’t care, and we don’t care. There’s, like, three scientists Who give a shit what we call all those things. The scientists could go on TV tomorrow And say, “ok, everybody. “from now on, seals and sea lions and walruses, And–you know what?–Penguins are all seals now,” And we would all be like, “yeah, all right. Fine. Yes. Whatever, man.” Anyway, so we’re looking at this seal/sea lion thing, And he’s looking back at us through the plexiglas, And he’s going– They’re really disgusting in person. Most animals are when you really see them. You ever go to a farm? You think you’re gonna see little, white sheep Going, “baa,” but they’re all fat and shit-colored, And they’re like– Jesus. That thing is awful. Anyway, seals don’t go– They go– My daughter’s like, “what is he saying?” I don’t know! “I’m a slave! Kill me!”', '“The Food Chain”\\nMust be awful to be other kinds of stuff, You know? I’m glad I’m this. This is a pretty good deal when you consider the alternatives. Anything else, any other kind of thing, you’re in the food chain. You’re in the food– we are out of the food chain. I don’t know if we fully appreciate the fact That we got out of the food chain. That is a massive upgrade Because for every other living thing, Life ends by being eaten. That’s how all life ends, is– Every single life except human life, Every life ends like this. Aah! Aah! Aah! We’re the only ones that get to just die old in a bed, Just “I love you. Bye.” I mean, imagine if we were still in the food chain On top of everything else. Imagine if we were in the food chain. It would just be another thing you gotta deal with. You’re already having a bad day. You wake in up in the morning. You’re making breakfast. You burn your toast, and it’s too late to try again, And your kid comes in and says, “beh,” and you’re like, “fine,” And it’s just, “why?” You get a thing in the mail That says that your phone’s different, And your mortgage is another company now. What? I don’t get it! Then you’re walking to work like, “why do I even bother? “shit! Goddamn it! “there’s always fucking cheetahs at the train station! Stop it!” You think that sharks– Do you think that sharks would be embarrassed If they knew that we could all see their fins Sticking out the top of the water? I think they’d be bummed ’cause I don’t think sharks are aware of that at all. I think sharks think they’re slick. They swim around like, “hey, nobody has any idea what’s down here,” And we’re all up here like, “there’s totally a shark right there.” It wouldn’t be fun being a predator, either. If you’re a predator, imagine if every time you’re hungry, You gotta chase a guy Who’s running for his life. You gotta– “come on, dude! Shit, get over here!” And just hold him down and bite his neck Till he shuts the fuck up for a minute So you can just sit there and eat his stomach Before you go to work. That would really suck. That’s why animals just– They go, “let’s do this together, man. “you chase the parents away. I am gonna eat the kid, and you circle back.” That’s why they do it like that. “fuck it. I’m eating babies. This is bullshit.” “grownups ain’t worth the meat.” Whoops, all right. All right. shit. Goddamn it. Idiot. This isn’t a gay voice, by the way. It’s not. Shut up. yeah.', '“Courtyard Confrontation”\\nI live in New York city, and it’s OK there. I live in a nice building. I never lived in a nice place before. When I was growing up, I had no money. I mean, my mom didn’t. Didn’t matter. I was a child. But I’m not used to it ’cause it’s nice. There’s, like, a pretty courtyard With flowers and a fountain with little marble boys pissing. I don’t know. What is it with fountains? Like, all fountain sculptors are pedophiles, basically. You can’t get a fountain made without– “can you make me a fountain?” “yes, I’ll get started right away! “Yes! Yes! It’s finished!” And it’s just little boys pissing on the face Of a Greek god that looks like him a lot. “just piss on me forever!” Anyway, there’s one of those in the courtyard of my building, And my first week in the building about a year ago, I went down to the courtyard for the first time, And I didn’t look too good, you know? It was a Sunday morning. That’s my least presentable hour. There’s a lot of, you know, just stains, Just like, you know, food and me and whatever… And so I’m sitting there. So? Shut up. Ha ha ha! Anyway, but so there I was. I’m sitting on the stone bench of this courtyard And feeling a little out of place. You know, there’s these fancy doormen and stuff, And then there’s this guy looking at me. I notice he’s looking at me from across the courtyard, And he’s all spiffy-looking. He’s got brown shoes, and he’s looking at me like, “” I can tell he was thinking I don’t live in the building. He thinks I just wandered in off the streets And sat in the courtyard. I can tell he’s thinking of coming over And dealing with me on his own, and I’m sitting there thinking, Like, “please do that. Yes. Please, come on, come on. Come on, come on, come on,” And I’m trying to look even more gross, And I’m, like, pulling up my shirt, “” And then I see him go, “no. That’s not gonna do at all,” And he comes over to me, “” and I’m like, “Num num num!” I’m so excited to have this thing, a confrontation Where I’m not wrong at all and he thinks I am. “rrgh!” So he comes over, says, “excuse me, “do you live in this building?” And I said, “no,” ’cause why not start there? I said, “no.” He goes, “well then, what are you doing here?” And I said, “I just need to rest. I’m having a hard time.” He says, “this is private property,” And I said, “well, I don’t really believe in that.” You know, just the worst things I could say from his point of view is basically all the things I was saying, And he goes, “well, if you don’t leave, I’m gonna talk to the doorman.” I was like, “can I just stay, like, five more hours?” So he’s–“no,” and he goes over to the doorman and I see him talking about me to the doorman like this, and then I see the doorman going, “no. That guy lives here. It’s OK,” And the look on his face– mwah mwah! Num num!– It was just so– It was this beautiful cocktail of anger and confusion. It’s like I had invented a new way to hurt somebody’s feelings. That’s how excited I was.', '“Getting What ‘Old’ Is”\\nI’m 45 now, So I’m either halfway through a healthy life or almost done with a not-so-healthy life. I don’t know which one. I won’t know till it’s over where this was. I don’t know how long I’m gonna live. I don’t know. Nobody knows, I guess. I think human life expectancy is pretty good. We get a good run, you know? Some people die early, you know? If I die now, people will be like, “that’s too bad.” If I die five years from now, they’ll be like, “well, all right,” like it’s not even– It’s– Like, as soon as you’re 50, you’re a candidate. You know, there’s no candlelight vigils for 50-year-old guys that die, and you start pushing– You know, some people get to be like, 80s, 90s. You know, there are people that get to, like, 114, and then they’re in the news, and it’s always some old guy, “I met Napoleon.” No, you didn’t, you liar, You oldest liar in the world. But 45, you know, you’re not old yet, But you start having moments Where you kind of start getting what old is, Especially if you didn’t take care of yourself, you know? I have moments where I’m like, “wow, this seems early for this.” Like, this is something that happens to me a lot. I’ll be sitting watching TV or doing nothing, And all of a sudden, I’ll realize, “I need to wipe my ass right now.” “I mean, nothing happened, But I really gotta wipe my ass right now. Right now.” Gotta make trips to the bathroom just to wipe my ass. How does this happen already? I’m 45. Already, my asshole’s just like, “Just– ” My asshole– My asshole’s like the waistband on old pajama bottoms, Just kinda… Loose and ineffectual. My asshole’s like a bag of leaves that nobody tied up. It’s just sitting on the lawn, full and open, Puking leaves onto the grass with every wisp of wind. Some kid kicks it over on his way home From a tough day at middle school. “rats.” That’s a pretty accurate description of my asshole. Here’s another thing about my age right now. If I’m– OK. Say I’m sitting down. If I’m sitting anywhere, which–ha ha ha!– I love sitting so much– I would take sitting and doing nothing To standing and fucking any day. This is way better than coming. This is way better. This is what– At my age, if I’m sitting down and somebody tells me I need to get up and go to another room, I need to be told all the information why first. You gotta explain all that shit to me. “what? Why do I– no. Why, though?” “Your car is being towed right now!” “Well, that’s what happens to me, then. That’s– I accept that.” ’cause getting up is a whole thing. It means first, I have to decide, “do I really want to be alive anymore?” Like, let’s start with that, And then I gotta, “” start kind of rocking to get momentum, “” like I’m trying to get an old Honda out of a snow bank. “shit.”', '“Putting On Socks”\\nThe worst part of my day, worst part of every day of my life, is when I have to put on my socks. Putting on my socks is the worst part of every day, and it always will be. Even if I have a terrible day in the future Where my grandmother is murdered by my other grandmother, If that ever happened to me, the worst part of that day Will be when I put on my socks because– Putting on my socks, that means I have to– Here’s what I have to do. I have to get my hands past my pointed toe. I don’t even know how I do it. I’m sitting here. I don’t know how I do that. It’s ’cause you have to– It’s like folding a bowling ball in half. Soon as I start, I can feel– I’m pushing all the fat up into my vital organs, And I just feel all the systems failing. “beep, beep, beep!” And I have to, like, lay on my back like an eight-year-old And go like this, and I start passing out. And I know other people’s lives are hard. Ha ha ha! I know. I saw an interview on TV with Michael J. Fox, And he has Parkinson’s, and he was describing brushing his teeth, and he said It takes him two hours a day, and he said it’s agony, And I saw this and I thought, “OK. That’s hard.” That is hard, And so is putting on my socks. Sorry, Michael. Doesn’t make it easier to know about your thing. Tell you what. I’ll help you brush your teeth, you help me with the socks.', '“If You’re Older You’re Smarter”\\nI don’t know. I like getting older, though. Life is an education, and if you’re older, you’re smarter. I just believe that. If you’re in an argument with somebody And they’re older than you, you should listen to them. It doesn’t mean they’re right. It means that even if they’re wrong, Their wrongness is rooted in more information than you have. They’ve been there longer. If you’re older, you’re smarter. How many people here, by applause, are 45 or older? 45 or older, applaud. OK. That’s about 60 people out of 2,400. Here’s the interesting thing. There’s way more. I can see you. There’s so many more. This is Arizona. There are way more people in that demographic, But they didn’t clap. Why? ’cause they’re smart. They’re sitting in the dark going, “I don’t have to clap. I don’t have to do anything.” They’re not doing it, and they’re right. You know why? ’cause never identify yourself. Never. Are you crazy? You don’t know why I’m asking. How do you know what– OK. Burn them all. Burn everybody over 45. How do you know I’m not gonna do that? How many people here, by applause, are 40 or younger? 40 or younger, applaud. That’s every time. “Whoo! Whoo!” every time. That is a weird thing to celebrate in a room where you’re not the only people here. That’s like going to a cancer ward– “not me! Whoo! I don’t have it! I don’t have it!” If you’re older, you’re smarter. A 55-year-old garbage man is a million times smarter than a 28-year-old with three ph.D.S, Especially smarter than him, ’cause this idiot Has been thinking about three things for, like, 15 years. He’s worthless. The garbage man is 55. He’s had some experience. Things have happened to him. He went to cape cod one summer. He saw a dead guy floating in the motel pool. He took a bus to Montreal. He got a hand job at a fair… From a miner. I mean a miner. Not a minor, a miner. You understand? A miner. A grown man who works in a mine With dirty hands jacked him off at a county fair. That’s what I’m saying happened to the 55-year-old. You see? He’s had some experience. He knows more. More has happened to him. He’s seen more. He’s seen history. He’s witnessed history, Even if it’s not ancient history. He saw Nixon resign on live television. Me and those few people that clapped, We saw the president of America cry And then quit being the president. That shit was crazy ’cause none of us knew what was gonna happen next. Today people are like, “the president’s kind of disappointing.” Really? Our president wept like an insane person And then got on a helicopter and flew away… And the whole nation just watched him go.', '“Getting Older Makes My Life Better”\\nI like getting older, though, because for me, The kind of guy I am, getting older Makes my life better, you know, Like, my sex life, way better at 45, Look, ’cause this situation is OK at 45. This is not a fun kind of a 17-year-old to be. And some people, their life is better when they’re younger. You know, young dudes, young, skinny dudes, Best life in the world is being a young, skinny dude. They don’t have to do anything. They just show up With a big adam’s apple and a smelly t-shirt. “hey, I’m here for the easy pussy for the rest of my life.” “so where do I– everywhere? OK. Cool.” But for guys like me, this is not a fun youth. It gets better. I’d like to make one of those “it gets better” ads For just dumpy, young guys. We could use a little help, a little encouragement, Just somebody on TV, “listen, man. “I know it’s tough right now. “You’re vaguely heavy with no face. “You have zero value on the sexual marketplace. “You feel invisible to the girls in school because you are, “but it gets better because you’ll all grow up, “and you pretty much look just like this your whole life, “and they don’t. “Their options start running out really fast, “and you’re gonna be there. “As long as you stay relatively employed and washed, “you’re gonna be amazing in your 40s. “You’re gonna be– “you’re gonna be the branch that she can grab “before she hits the ground. “It’s gonna be so great. “It just takes time for her circumstances “to match your looks, but it’s gonna happen. “It’s gonna happen. “When real shit matters, you’re gonna be the sexiest motherfucker in the world.” It’s just time. That’s all it takes. There’s a formula to this. It’s pussy plus time over income squared.', '“Everybody Has Their Time”\\nEverybody has their time. Everybody has their time. I mean, not everybody. There are people out there who there’s just nobody for them. Yep. People like to say things like, “there’s someone for everyone.” Nope! Not at all true, and stop saying it ’cause it’s mean to people who never find anybody. There are millions of people out there who we’ve all unanimously decided, they are light speed ugly and nobody kisses them on the lips, even. Nobody touches their genitals their entire life. They just wash it, and then they die. That’s all that happens, “aww,” and if you’re feeling bad for them, you can go find one and fuck one tomorrow, you can just solve the problem right there with all that kindness in your heart. “Aww.” Well, go fuck one. “Nah.” I didn’t think so. That’s the one way we’re all mean. Nobody does that. Nobody fucks down, nobody. People fuck up or across. Some women fuck down because a guy talked them into that it was up. Some guy, “yeah. No. You should. I’m totally up. Yeah.”', '“Dating Takes Courage”\\nIt’s a weird selection process that we have. Dating really is– It’s how we evolve, is dating. It’s how we choose each other, And dating is a real drag for a lot of people, But I always think it’s a nice thing. You know, when I see a date, I’m always happy when I see a couple on a date ’cause it means people are still trying, you know? You see a couple on a date, It means there’s still courage out there. That takes courage, to go on a date, for both sides, Two very different kinds of courage. The male courage, traditionally speaking, is that he decided to ask. He went up to a random woman who he has no idea If she’s gonna like him or not and he walked up to her terrified. Everything in your body is telling you, “just go the fuck home and jerk off. Don’t do this!” But he walked up and said, “hi. Yes,” And she’s like, “” “no, no, no. A second. Give me a second,” And you try to get through this membrane of, you know– And then, if it works And you say, “you wanna go out sometime?” Sometimes she’ll say yes, and if she says yes, that’s her courage, and the courage it takes for a woman to say yes is beyond anything I can imagine. A woman saying yes to a date with a man is literally insane and ill-advised, and the whole species’ existence counts on them doing it, and I don’t know how they– How do women still go out with guys when you consider the fact that there is no greater threat to women than men? We’re the number-one threat to women. Globally and historically, we’re the number-one cause of injury and mayhem to women. We’re the worst thing that ever happens to them. That’s true. You know what our number-one threat is? Heart disease. That’s the whole thing. That’s it, just our own heart going, “dude, I can’t– “you can’t keep doing this. I told you three strokes ago that this is not smart,” But women still– “yeah. I’ll go out with you alone at night.” What are you, nuts? “I’ll get in your car with you with my little shoulders. Hi. Where are we going?” “To your death, statistically.” How do they still do it? If you’re a guy, try to imagine that you could only date a half-bear, half-lion, And you’re like, “I hope this one’s nice. I hope he doesn’t do what he’s going to do.”', '“First Date”\\nI always– I love when I see a date. You know, when you see a date, you can tell it’s the first date ’cause of the way they’re walking together And she’s looking up at his face trying to figure him out, And he’s just a mess. A guy on a first date just has no actual personality. He’s just a mishmash of different kinds of dudes for a couple of seconds each, just anything, no cohesive– Just like a ransom note cut out of a lot of magazines, just, you know, “well… “ha ha! “well, yes. I think so, too. Ha ha! Rrgh…” Whatever, just like a blind dick in space just thrusting in infinite directions Hoping to find pay dirt at someplace, And then sometimes you see a date that’s later down the line and something has happened. There’s something that happens in a date that I never get to witness ’cause women do this. They get to do it inside. They get to just decide quietly, “I’m gonna let him fuck me.” They just get to decide. Something he says, and she’s like, “that was good. He’s gonna fuck me later,” And he has no idea. He’s still, like, trying all this shit. He still has no idea he’s already in there.', '“Tits”\\nGuys are– We love women a lot– all men do– And we just look at you. That’s what I do. I just look at women. I just–“” Like they’re, you know, cakes in windows. I just–“” I was walking in New York once, and there’s these two very cute women walking behind me, and I was trying to walk slowly so I could hear what they were saying to each other, you know, ’cause they were cute, so I wanted to hear them, like that’s gonna help me in any way, to hear their– “don’t you wish the guy walking in front of us would squeeze our tits for, like, one second?” OK. Here. Here I go. Thank you. It’s really a flaw in men that we would all do that. If you’re a woman, you could ask any guy on planet earth, “could you squeeze my tit for one second?” And 100% of us will go, “yes, of course.” That doesn’t matter. I could be doing open heart surgery. “yeah. Ok.” Beep! “don’t worry. He’s not your tits. Don’t worry about it.” I don’t know why we love tits so much. Some people say it’s because we breastfeed, but so do women, Or, you know, baby women. Not grown-up women, don’t usually– You don’t see, like, a 68-year-old woman, Like, a stately look– You know, like Sigourney weaver, Like, sucking milk out of a young woman’s tit. “thank you, Deborah. I’ll see you tomorrow at 2:00.” It’s not usually the thing, Is the elderly breastfeeding from the young, Except for at the end of “the grapes of wrath,” Which I don’t mean to ruin that book for you, But you should have read it by now. I don’t know if you read “the grapes of wrath,” But that’s how it ends, with an old, dying man Sucking milk out of a young girl’s tits, And then the book is over, and you’re like, “Jesus! What happened at the end there? That’s crazy.” There’s no other book in that genre. There’s no dense, historic classic That ends with a weird, porny paragraph at the very– “and then Anna Karenina shat on his chest.” “holy moly with that!” “the end.” “my god! “that is a violent shift in tone at the end of that book. I’ve been reading this book for three months.” But we do, we love tits, And you always know a tit. You always know a tit. You know, like you ever been in a crowded place– Like a subway or like, you know, a sports stadium– And you’re smooshed in with other people And your elbow touches a tit behind you, you’re like, “that’s a tit. I just touched it. I know that was a tit. I know it!” Because the sensitivity of the male elbow To tit flesh specifically is unbelievable, just to tits, ’cause you could drive a tack in there, I’m not gonna feel it, But a tit– Through a shirt and a sweater and a jacket And her jacket, sweater, shirt and bra, somehow… “it’s a tit! I touched a tit! “I touched a tit! I touched one tit. One tit.” That’s rare, to touch one tit. It’s like a four-leaf clover. Usually, you touch two. The only time you touch one tit is when it was an accident Or you didn’t have permission, But otherwise… When tit access is granted, It’s usually good for two tits at a time. It’s, once you’re on one– You really have to screw up really badly and quickly To lose tit access between tits one and two. You must have said something really dumb on the first tit That you didn’t get the second one. “yeah, it’s like your mom’s dirty whore tit.” “why? What? I said I liked it. “that’s what I meant, is that I like it. “I like your mom’s dirty whore tit, And I like yours,” And if it’s up to the guy, we’re gonna touch both tits. No guy touches a tit and then goes, “you know what? “I’m good with the one. That’s fine for me. Everything in moderation.” We’re gonna touch both, Even if something terrible happens in the middle of– “yeah–” “there’s a bomb!” “shit! Come on, let’s get– “come on! Let’s get your tits out of here!”', '“Divorce”\\nI’ve seen a few tits. I’ve seen–I don’t know– 48 maybe. I don’t know. I had my history in my life, you know? I’ve been divorced for five years, And it’s been the best part of my life, being divorced, Easily my favorite part of my life. I love being divorced. Every year has been better than the last. That is the only time I can say that about, and by the way, I’m not saying don’t get married. If you meet somebody, fall in love and get married, And then get divorced because that’s the best part. It’s the best part. Marriage is just like a larva stage for true happiness, Which is divorce, Because you just let go and everything’s fine now. Divorce is forever. It really actually is. Marriage is for how long you can hack it, But divorce just gets stronger like a piece of oak. Nobody ever says, ” my divorce is falling apart. It’s over. I can’t take it.” And again, if you’re in a good marriage, stay in it. If you’re in the best marriage ever, stay in it. I’m just saying, if you got out, it would be better. That’s just a fact. I’m sorry. I’m sorry, but it’s true. Everything’s better. My ex-wife and I, This is the best part of our knowing each other. We’re good co-parents because we live apart and we’re friends. Our kids go to her half the week, They come to me half the week, and I’m a good father. I’m an attentive, focused, and responsible father. Do you know why? ‘Cause I get to say good-bye to these kids every week. Are you shitting me? It’s like every parent’s fantasy. Who can’t be a good father for half of every week? No matter how bad it gets, every Wednesday, I get to go, “good-bye, girls. “Daddy’s gonna go upstairs and pour whiskey all over his naked body right now.” “I’m gonna lay in my own filth until two seconds before you come back here.” That’s why I’m such a good dad.', '“Videoing Your Kids”\\nMy daughter was having a dance thing at her school. They had this big dance. Anyway, we all went, all the parents, And everybody’s there, and everybody’s got their phone, Every single parent. It was an amazing thing to watch ’cause kids are dancing And every parent is standing there like this. Every single person was blocking their vision Of their actual child with their phone, and the kids– I went over by the stage and the kids– There’s people holding iPads in front of their faces. It looked like we’re all in the witness protection program. Like, the kids can’t see their parents, And everybody’s watching a shitty movie Of something that’s happening ten feet– Like, look at your fucking kid. The resolution on the kid is unbelievable if you just look. It’s totally HD. Why are you taping this? You’re never gonna watch it. In a million years, you’re not gonna watch videos Of your kids doing shit you missed The first time it happened. You don’t watch it. You just put it on Facebook. “here, you watch it. I wanna take a nap now.” And then you get to read all the comments. “my god! “it’s so cute! Ngaah!” And guess what? They’re not watching it, either. They’re not watching the video. These kids are dancing for no one. Nobody watches the videos on your Facebook. They see the first frame of a kid and they go, “that’s very nice. OK. Back to this.” Nobody’s watching your kids’ videos on Facebook, I promise you. I’ll prove it to you. Next time you tape your kid’s dance, Tape one second of it and then add 20 minutes of just your own asshole. Just go in the bathroom and just record your own anus opening and closing for 20 minutes. Tack it onto your kid dancing for a second. Put that on Facebook. Everybody will write the same thing. “That’s adorable! I think I see a future star!”', '“Life Is A Good Deal”\\nDon’t tape shit on your– Life is short. Life is very short. I like life. I like it. I feel like even if it ends up being short, I got lucky to have it ’cause life is an amazing gift When you think about what you get with a basic life, Not even a particularly lucky life or a healthy life. If you have a life, that’s an ama– Here’s your boilerplate deal with life. This is basic cable, what you get when you get life. You get to be on earth. First of all–my god– what a location. This is earth, and for trillions of miles in every direction, It fucking sucks so bad. It’s so shitty that your eyes bolt out of your head ’cause it sucks so bad. You get to be on earth and look at shit, As long as you’re not blind or whatever it is. You get to be here. You get to eat food. You get to put bacon in your mouth. I mean, when you have bacon in your mouth, It doesn’t matter who’s president or anything, You just–“” Every time I’m eating bacon, I think, “I could die right now,” and I mean it! That’s how good life is. You get to– you get to fuck. That’s free if you’re smart. That comes with. That’s part of the deal. Where else are you gonna get that deal? You get to put your dick in there and go in and out, Pretty good, And if you’re a woman, you get to just lay back And just have a dick just shoving in and out of you awkwardly Anytime you want, anytime you want. If you’re a gay man, you get to just fill your boyfriend’s ass with your dick, just fill it all the way to the balls, And it’s nice and warm and tight in there, And he’s your buddy. If you’re a lesbian, You get to do all the stuff they’re doing, and… It’s a great deal. You get to eat. You get to fuck. You get to read “to kill a mockingbird.” It’s a great life. So, you know, I’m not worried about it ending.', '“Behind The Wheel”\\nIt’s pretty good, and I’ve wasted a lot of time Just being angry at people I don’t know. You know, it’s amazing how nasty we can get as people, Depending on the situation. Like, most people are OK as long as they’re OK, But if you put people in certain contexts, they just change. Like, when I’m in my car, I have a different set of values. I am the worst person I can be when I’m behind the wheel, which is when I’m at my most dangerous. When you’re driving, That’s when you need to be the most compassionate And responsible of any other time in your life ’cause you are fucking driving a weapon amongst weapons, and yet it’s the worst people get, and I am the worst. One time, I was driving, and there was a guy ahead of me, And he kind of–I don’t know– sorta drifted into my lane for a second, and this came out of my mouth. I said, “worthless piece of shit.” I mean, what an indictment. What kind of a way is that to feel about another human being? “Worthless piece of shit”? That’s somebody’s son. And things I’ve said to other people. I was once driving, and some guy in a pickup truck did– I don’t remember, even– And I yelled out my window, I said, “hey, fuck you!” Where outside of a car is that even nearly OK? If you were in an elevator And you were, like, right next to a person’s body And, whatever, like, he leaned into you a little bit, Would you ever turn right to their face and go, “hey, fuck you!”? “worthless piece of shit!” No. Literally zero people would ever do that, but put a couple of pieces of glass and some road between you, there’s nothing you would not say to them. “I hope you die!” I said that to a person. “I hope you die!” Why? ’cause you made me go like this for half a second of my life. You tested my reflexes, and it worked out fine! So now I hope your kids grow up motherless!” I mean, what am I capable of? I’d like to think that I’m a nice person, But I don’t know, man.', '“If Murder Was Legal”\\nA lot of it is context. There’s a lot of things I wonder if the world was different. Like, if murder was legal, I might have killed a few people. I don’t know. I’d love to think, “I would never do that,” But we really need the law against murder For one simple reason. The law against murder Is the number-one thing preventing murder. We’d like to think it’s ’cause, Like, “I would never do that.” No. It’s ’cause it really sucks getting caught murdering, a lot. If murder was legal, or just a misdemeanor– Like you get a thing in the mail– “shit, they had a camera there. Well.” If murder was legal, there would be so much murder. Regular people would murder. Murderers would murder even more, And then really nice, sweet people Would murder a few people, But nobody would murder no people. You wouldn’t trust somebody who didn’t murder If murder was legal. You wouldn’t like them. “I never killed anybody.” “OK. Nice meeting you. Yecch, what a creep. “I mean, not even a hooker? Live a life. “what’s wrong with that guy? He’s like a Mormon or some shit. I hate those guys.” “I think he’s nice.” “shut up, Janet.” They would just– If murder was legal, there would be a lot of murder. Children would behave very differently Because mostly parents would be murdering their own kids, That’s mostly what would happen if murder was legal. You know, you’d go to a mall, there’d be, Like eight, different moms in the mall just– “I told you to stop it! You didn’t listen to me!” Just–pbbt! There’d be just– You’d be stepping over dead kids. There’d be, like, a new problem. “you have to clean up your kids “when you kill them ’cause it’s gross. “it’s bad for the environment. “if you murder your child in a public place, “please use one of the red bags that are in the dispensers “every three feet of America. “put your murdered child in the red bag “with a logo of a murdered kid on it “next to the other logo that tells you “not to let your alive kid play with the plastic bag “because they might suffocate, In which case you could just leave them in the bag.” That is a whole bunch of horrible thoughts Right in a row, right in a row. That is a compressed area of bad thought.', '“Of Course, But Maybe”\\nYou know, you have your bad thoughts. Hopefully you do good things. Everybody has a competition in their brain of good thoughts and bad thoughts. Hopefully, the good thoughts win. For me, I always have both. I have, like, the thing I believe, the good thing– That’s the thing I believe– and then there’s this thing, and I don’t believe it, but it is there. It’s always this thing and then this thing. It’s become a category in my brain That I call, “of course… But maybe…” I’ll give you an example, OK? Like, of course children who have nut allergies need to be protected, of course. We have to segregate their food from nuts, Have their medication available at all times, and anybody who manufactures or serves food needs to be aware of deadly nut allergies, of course, but maybe… Maybe if touching a nut kills you, you’re supposed to die. Of course not. Of course not. Of course not. Jesus. I have a nephew who has that. I’d be devastated if something happened to him, but maybe… maybe if we all just do this for one year, we’re done with nut allergies forever. No. Of course not. Of course, if you’re fighting for your country and you get shot or hurt, it’s a terrible tragedy, of course, of course… But maybe… Maybe if you pick up a gun and go to another country and you get shot, it’s not that weird. Maybe if you get shot by the dude you were just shooting at, It’s a tiny bit your fault. Of course, of course slavery is the worst thing that ever happened. Listen, listen. You all clapped for dead kids with the nuts. For kids dying from nuts, you applauded, So you’re in this with me now. Do you understand? You don’t get to cherry-pick. Those kids did nothing to you. Of course, of course slavery is the worst thing that ever happened. Of course it is, every time it’s happened– Black people in America, Jews in Egypt. Every time a whole race of people has been enslaved, it’s a terrible, horrible thing, of course… But maybe… Maybe every incredible human achievement in history was done with slaves. Every single thing where you go, “how did they build those pyramids?” They just threw human death and suffering at them until they were finished. How did we traverse the nation with the railroad so quickly? We just threw Chinese people in caves and blew ’em up and didn’t give a shit what happened to them. There’s no end to what you can do when you don’t give a fuck about particular people. You can do anything. That’s where human greatness comes from, is that we’re shitty people, that we fuck others over. Even today, how do we have this amazing microtechnology? Because the factory where they’re making these, They jump off the fucking roof ’cause it’s a nightmare in there. You really have a choice. You can have candles and horses and be a little kinder to each other or let someone suffer immeasurably far away Just so you can leave a mean comment on YouTube while you’re taking a shit.', 'Thanks a lot, folks. You guys were great. Thank you very, very much. Thank you.']\n",
            "Intro\n",
            "Fade the music out. Let’s roll. Hold there. Lights. Do the lights. Thank you. Thank you very much. I appreciate that. I don’t necessarily agree with you, but I appreciate very much. Well, this is a nice place. This is easily the nicest place For many miles in every direction. That’s how you compliment a building And shit on a town with one sentence. It is odd around here, as I was driving here. There doesn’t seem to be any difference Between the sidewalk and the street for pedestrians here. People just kind of walk in the middle of the road. I love traveling And seeing all the different parts of the country. I live in New York. I live in a– There’s no value to your doing that at all.\n"
          ],
          "name": "stdout"
        }
      ]
    },
    {
      "cell_type": "code",
      "metadata": {
        "id": "KJ476XpWr9oV",
        "colab": {
          "base_uri": "https://localhost:8080/",
          "height": 454
        },
        "outputId": "434524ad-eb34-447f-fb24-30966c1ac7bd"
      },
      "source": [
        "# Cargar los textos en un diccionario\n",
        "data = {}\n",
        "for i, c in enumerate(comedians):\n",
        "    print(i)\n",
        "    print(c)\n",
        "    data[c] = transcripts[i]"
      ],
      "execution_count": null,
      "outputs": [
        {
          "output_type": "stream",
          "text": [
            "0\n",
            "louis\n",
            "1\n",
            "dave\n",
            "2\n",
            "ricky\n",
            "3\n",
            "bo\n",
            "4\n",
            "bill\n",
            "5\n",
            "jim\n",
            "6\n",
            "john\n",
            "7\n",
            "hasan\n",
            "8\n",
            "ali\n",
            "9\n",
            "anthony\n",
            "10\n",
            "mike\n",
            "11\n",
            "joe\n"
          ],
          "name": "stdout"
        }
      ]
    },
    {
      "cell_type": "code",
      "metadata": {
        "id": "Ph_NyllpsKuG",
        "colab": {
          "base_uri": "https://localhost:8080/",
          "height": 72
        },
        "outputId": "ca18d56c-4e53-46be-a26a-f290f6e11160"
      },
      "source": [
        "# Double check to make sure data has been loaded properly\n",
        "print(type(data))\n",
        "data.keys()\n",
        "print(type(data['louis']))\n",
        "print(type(data['louis'][0]))"
      ],
      "execution_count": null,
      "outputs": [
        {
          "output_type": "stream",
          "text": [
            "<class 'dict'>\n",
            "<class 'list'>\n",
            "<class 'str'>\n"
          ],
          "name": "stdout"
        }
      ]
    },
    {
      "cell_type": "code",
      "metadata": {
        "id": "WiLDUAItsY3E",
        "colab": {
          "base_uri": "https://localhost:8080/",
          "height": 74
        },
        "outputId": "8c53e59b-fa67-4dcb-e9fe-4ad55f92d859"
      },
      "source": [
        "# More checks\n",
        "data['louis'][:2]"
      ],
      "execution_count": null,
      "outputs": [
        {
          "output_type": "execute_result",
          "data": {
            "text/plain": [
              "['Intro\\nFade the music out. Let’s roll. Hold there. Lights. Do the lights. Thank you. Thank you very much. I appreciate that. I don’t necessarily agree with you, but I appreciate very much. Well, this is a nice place. This is easily the nicest place For many miles in every direction. That’s how you compliment a building And shit on a town with one sentence. It is odd around here, as I was driving here. There doesn’t seem to be any difference Between the sidewalk and the street for pedestrians here. People just kind of walk in the middle of the road. I love traveling And seeing all the different parts of the country. I live in New York. I live in a– There’s no value to your doing that at all.',\n",
              " '“The Old Lady And The Dog”\\nI live– I live in New York. I always– Like, there’s this old lady in my neighborhood, And she’s always walking her dog. She’s always just– she’s very old. She just stands there just being old, And the dog just fights gravity every day, just– The two of them, it’s really– The dog’s got a cloudy eye, and she’s got a cloudy eye, And they just stand there looking at the street In two dimensions together, and– And she’s always wearing, like, this old sweater dress. I guess it was a sweater when she was, like, 5’10”, But now it’s just, like, this sweater And her legs are– her legs are a nightmare. They’re just white with green streaks and bones sticking out. Her legs are awful. I saw a guy with no legs wheeling by, And he was like, “yecch, no thank you. “I do not want those. “I’d rather just have air down here like I have Than to look down at that shit.” I see these two all the time, and I always look at them, And I always think, “god, I hope she dies first.” I do. I hope she dies first, for her sake, Because I don’t want her to lose the dog. I don’t think she’ll be able to handle it. If she dies– If the old lady dies first, I’m not worried about the dog Because the dog doesn’t even know about the old lady. This dog is aware of three inches around his head. He’s living in two-second increments. The second he’s in and the one he just left Is all he knows about, But if he dies, this lady, she’s gonna be destroyed Because this dog is all she has, And I know he’s all she has because she has him. There’s no– If she had one person in her life, She would not keep this piece of shit little dog. Even if just some young woman in her building one morning Were to say, “good morning, gladys,” She’d be like, “good,” And just flush him down the toilet, just– Poom! Poom! The dog just keeps bumping on the drain. Poom! “” she gives up. Ends up just shitting on her dog for the rest of her life. P-p-p! Poom!']"
            ]
          },
          "metadata": {
            "tags": []
          },
          "execution_count": 63
        }
      ]
    },
    {
      "cell_type": "markdown",
      "metadata": {
        "id": "legWmQb3AGqk"
      },
      "source": [
        "#5) Archivo arbitario local (Subido con upload)"
      ]
    },
    {
      "cell_type": "markdown",
      "metadata": {
        "id": "EAJG9NWGJto9"
      },
      "source": [
        "## Asumamos que se subirá el mismo archivo csv donde se guarda la representación LIWC de la colección oficialistas - opositores"
      ]
    },
    {
      "cell_type": "code",
      "metadata": {
        "id": "RyZSjtg8-FkL",
        "colab": {
          "resources": {
            "http://localhost:8080/nbextensions/google.colab/files.js": {
              "data": "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",
              "ok": true,
              "headers": [
                [
                  "content-type",
                  "application/javascript"
                ]
              ],
              "status": 200,
              "status_text": ""
            }
          },
          "base_uri": "https://localhost:8080/",
          "height": 113
        },
        "outputId": "974c1c63-6ed1-4603-ad3b-1ecdb40c1b6c"
      },
      "source": [
        "from google.colab import files\n",
        " \n",
        "files.upload()  "
      ],
      "execution_count": null,
      "outputs": [
        {
          "output_type": "display_data",
          "data": {
            "text/html": [
              "\n",
              "     <input type=\"file\" id=\"files-03f0836f-26f6-4fd4-a02f-9c854bfd9d1f\" name=\"files[]\" multiple disabled />\n",
              "     <output id=\"result-03f0836f-26f6-4fd4-a02f-9c854bfd9d1f\">\n",
              "      Upload widget is only available when the cell has been executed in the\n",
              "      current browser session. Please rerun this cell to enable.\n",
              "      </output>\n",
              "      <script src=\"/nbextensions/google.colab/files.js\"></script> "
            ],
            "text/plain": [
              "<IPython.core.display.HTML object>"
            ]
          },
          "metadata": {
            "tags": []
          }
        },
        {
          "output_type": "stream",
          "text": [
            "Saving ofi_opo_LIWC.csv to ofi_opo_LIWC (1).csv\n"
          ],
          "name": "stdout"
        },
        {
          "output_type": "execute_result",
          "data": {
            "text/plain": [
              "{'ofi_opo_LIWC.csv': b'Filename,Segment,WC,WPS,Sixltr,Dic,Funct,TotPron,PronPer,Yo,Nosotro,TuUtd,ElElla,Ellos,PronImp,Articulo,Verbos,VerbAux,Pasado,Present,Futuro,Adverb,Prepos,Conjunc,Negacio,Cuantif,Numeros,Maldec,verbYO,verbTU,verbNOS,verbosEL,verbELLOS,Subjuntiv,VosUtds,formal,informal,verbVos,Social,Familia,Amigos,Humanos,Afect,EmoPos,EmoNeg,Ansiedad,Enfado,Triste,MecCog,Insight,Causa,Discrep,Tentat,Certeza,Inhib,Incl,Excl,Percept,Ver,Oir,Sentir,Biolog,Cuerpo,Salud,Sexual,Ingerir,Relativ,Movim,Espacio,Tiempo,Trabajo,Logro,Placer,Hogar,Dinero,Relig,Muerte,Asentir,NoFluen,Relleno,AllPunc,Period,Comma,Colon,SemiC,QMark,Exclam,Dash,Quote,Apostro,Parenth,OtherP\\r\\njf01.txt,1,1027,\"13,34\",\"17,43\",\"75,17\",\"49,46\",\"17,33\",\"11,98\",\"3,60\",\"0,10\",\"2,14\",\"5,94\",\"1,56\",\"5,36\",\"8,57\",\"12,56\",\"0,58\",\"1,95\",\"9,54\",\"0,00\",\"5,06\",\"15,29\",\"6,04\",\"2,24\",\"1,85\",\"1,17\",\"0,10\",\"3,60\",\"0,10\",\"0,10\",\"2,43\",\"0,78\",\"1,46\",\"0,39\",\"0,00\",\"1,95\",\"0,00\",\"10,71\",\"0,10\",\"0,49\",\"0,49\",\"3,02\",\"2,14\",\"0,97\",\"0,10\",\"0,29\",\"0,19\",\"20,45\",\"3,21\",\"0,97\",\"0,78\",\"2,63\",\"1,36\",\"0,19\",\"6,23\",\"2,92\",\"4,58\",\"0,88\",\"1,85\",\"1,46\",\"1,27\",\"0,39\",\"0,10\",\"0,29\",\"0,78\",\"8,28\",\"1,75\",\"4,58\",\"2,73\",\"2,53\",\"1,85\",\"1,66\",\"0,29\",\"0,29\",\"0,10\",\"0,00\",\"0,39\",\"0,10\",\"0,00\",\"13,92\",\"7,01\",\"3,60\",\"1,46\",\"0,19\",\"0,29\",\"0,10\",\"0,19\",\"0,00\",\"0,00\",\"0,97\",\"0,10\"\\r\\njf012.txt,1,4021,\"13,96\",\"20,82\",\"73,24\",\"46,70\",\"14,55\",\"8,41\",\"0,17\",\"0,37\",\"0,50\",\"7,88\",\"2,81\",\"6,14\",\"11,96\",\"9,92\",\"0,65\",\"2,09\",\"6,59\",\"0,05\",\"3,68\",\"13,53\",\"5,35\",\"2,39\",\"1,77\",\"1,79\",\"0,32\",\"1,04\",\"0,02\",\"0,45\",\"3,33\",\"0,87\",\"1,29\",\"0,45\",\"0,00\",\"0,07\",\"0,00\",\"10,42\",\"0,55\",\"0,22\",\"0,77\",\"4,70\",\"2,86\",\"1,91\",\"0,17\",\"1,22\",\"0,32\",\"17,71\",\"1,54\",\"1,07\",\"0,72\",\"2,34\",\"1,34\",\"0,52\",\"5,47\",\"2,11\",\"2,61\",\"0,47\",\"1,19\",\"0,40\",\"1,37\",\"0,57\",\"0,20\",\"0,37\",\"0,57\",\"8,28\",\"1,87\",\"4,03\",\"3,16\",\"2,16\",\"1,49\",\"1,17\",\"0,47\",\"0,50\",\"0,25\",\"0,12\",\"0,30\",\"0,12\",\"0,00\",\"15,20\",\"7,36\",\"5,35\",\"0,80\",\"0,00\",\"0,45\",\"0,12\",\"0,07\",\"0,00\",\"0,00\",\"1,04\",\"0,00\"\\r\\njf02.txt,1,4021,\"13,96\",\"20,82\",\"73,22\",\"46,68\",\"14,52\",\"8,41\",\"0,17\",\"0,37\",\"0,50\",\"7,88\",\"2,81\",\"6,12\",\"11,96\",\"9,92\",\"0,65\",\"2,09\",\"6,59\",\"0,05\",\"3,68\",\"13,53\",\"5,35\",\"2,39\",\"1,77\",\"1,79\",\"0,32\",\"1,04\",\"0,02\",\"0,45\",\"3,33\",\"0,87\",\"1,29\",\"0,45\",\"0,00\",\"0,07\",\"0,00\",\"10,42\",\"0,55\",\"0,22\",\"0,77\",\"4,70\",\"2,86\",\"1,91\",\"0,17\",\"1,22\",\"0,32\",\"17,68\",\"1,54\",\"1,07\",\"0,72\",\"2,34\",\"1,34\",\"0,52\",\"5,47\",\"2,11\",\"2,61\",\"0,47\",\"1,19\",\"0,40\",\"1,37\",\"0,57\",\"0,20\",\"0,37\",\"0,57\",\"8,28\",\"1,87\",\"4,03\",\"3,16\",\"2,16\",\"1,49\",\"1,17\",\"0,47\",\"0,50\",\"0,25\",\"0,12\",\"0,30\",\"0,12\",\"0,00\",\"15,20\",\"7,36\",\"5,35\",\"0,80\",\"0,00\",\"0,45\",\"0,12\",\"0,07\",\"0,00\",\"0,00\",\"1,04\",\"0,00\"\\r\\njf03.txt,1,3928,\"23,24\",\"17,39\",\"73,96\",\"46,49\",\"15,27\",\"9,06\",\"1,04\",\"0,10\",\"1,37\",\"7,05\",\"1,88\",\"6,21\",\"11,07\",\"11,43\",\"0,76\",\"1,93\",\"8,35\",\"0,00\",\"4,33\",\"12,58\",\"5,93\",\"1,99\",\"1,81\",\"1,60\",\"0,28\",\"1,73\",\"0,13\",\"0,20\",\"4,43\",\"0,59\",\"1,37\",\"0,18\",\"0,00\",\"0,79\",\"0,00\",\"10,01\",\"0,38\",\"0,10\",\"0,64\",\"4,10\",\"2,29\",\"1,91\",\"0,38\",\"0,84\",\"0,23\",\"21,61\",\"2,77\",\"1,76\",\"1,17\",\"2,90\",\"1,40\",\"0,64\",\"5,47\",\"2,19\",\"3,36\",\"0,46\",\"1,35\",\"0,94\",\"1,27\",\"0,51\",\"0,25\",\"0,20\",\"0,56\",\"7,54\",\"1,76\",\"3,72\",\"2,57\",\"1,99\",\"1,71\",\"0,61\",\"0,13\",\"0,56\",\"0,15\",\"0,36\",\"0,66\",\"0,18\",\"0,00\",\"14,99\",\"4,48\",\"7,76\",\"0,51\",\"0,13\",\"0,64\",\"0,15\",\"0,03\",\"0,00\",\"0,00\",\"1,27\",\"0,03\"\\r\\njf04.txt,1,891,\"27,00\",\"17,06\",\"80,02\",\"45,79\",\"16,05\",\"8,08\",\"0,79\",\"0,34\",\"0,45\",\"7,07\",\"2,58\",\"7,97\",\"9,65\",\"12,91\",\"1,01\",\"0,90\",\"10,77\",\"0,00\",\"5,39\",\"11,22\",\"6,06\",\"2,81\",\"1,57\",\"3,03\",\"0,00\",\"1,57\",\"0,00\",\"0,56\",\"5,61\",\"0,90\",\"1,46\",\"0,34\",\"0,00\",\"0,00\",\"0,00\",\"13,02\",\"1,23\",\"0,34\",\"2,47\",\"5,39\",\"2,02\",\"3,14\",\"0,22\",\"2,24\",\"0,22\",\"25,70\",\"3,14\",\"3,37\",\"2,02\",\"3,37\",\"1,57\",\"0,00\",\"4,15\",\"1,80\",\"2,58\",\"1,46\",\"0,56\",\"0,22\",\"1,01\",\"0,11\",\"0,22\",\"0,34\",\"0,45\",\"6,40\",\"2,24\",\"3,59\",\"2,02\",\"1,23\",\"0,90\",\"0,22\",\"0,11\",\"1,12\",\"0,00\",\"0,00\",\"0,00\",\"0,11\",\"0,00\",\"19,53\",\"6,29\",\"7,97\",\"0,67\",\"0,00\",\"0,45\",\"0,11\",\"0,00\",\"3,37\",\"0,22\",\"0,45\",\"0,00\"\\r\\njf05.txt,1,199,\"18,09\",\"18,09\",\"74,87\",\"49,75\",\"13,07\",\"8,04\",\"1,01\",\"0,50\",\"1,51\",\"5,53\",\"2,51\",\"5,03\",\"8,54\",\"9,05\",\"0,50\",\"1,51\",\"5,03\",\"0,00\",\"5,53\",\"13,07\",\"8,54\",\"5,53\",\"3,02\",\"3,02\",\"0,50\",\"0,00\",\"0,00\",\"0,00\",\"2,01\",\"0,00\",\"0,50\",\"1,51\",\"0,00\",\"1,51\",\"0,00\",\"9,55\",\"0,00\",\"0,00\",\"0,50\",\"2,51\",\"1,01\",\"1,51\",\"1,01\",\"0,50\",\"0,00\",\"24,62\",\"2,51\",\"0,00\",\"4,52\",\"5,03\",\"1,01\",\"0,00\",\"4,02\",\"5,53\",\"3,52\",\"1,51\",\"1,01\",\"0,00\",\"1,01\",\"1,01\",\"0,00\",\"0,50\",\"0,00\",\"6,03\",\"1,01\",\"4,02\",\"1,01\",\"2,51\",\"2,01\",\"0,00\",\"0,00\",\"0,00\",\"0,00\",\"0,00\",\"0,00\",\"0,00\",\"0,00\",\"15,08\",\"7,04\",\"6,03\",\"1,51\",\"0,00\",\"0,00\",\"0,50\",\"0,00\",\"0,00\",\"0,00\",\"0,00\",\"0,00\"\\r\\njf06.txt,1,1399,\"14,42\",\"21,16\",\"74,05\",\"47,32\",\"14,01\",\"8,29\",\"0,50\",\"0,21\",\"0,64\",\"7,65\",\"2,57\",\"5,72\",\"13,30\",\"9,79\",\"1,22\",\"1,00\",\"7,93\",\"0,00\",\"4,22\",\"12,22\",\"5,72\",\"2,00\",\"1,93\",\"1,93\",\"0,14\",\"0,86\",\"0,00\",\"0,07\",\"3,15\",\"0,71\",\"1,36\",\"0,21\",\"0,00\",\"0,00\",\"0,00\",\"9,86\",\"0,29\",\"0,07\",\"0,57\",\"5,79\",\"1,57\",\"3,72\",\"0,14\",\"2,29\",\"0,57\",\"19,73\",\"2,36\",\"0,93\",\"1,36\",\"4,00\",\"0,71\",\"0,43\",\"5,22\",\"2,57\",\"2,64\",\"0,50\",\"0,64\",\"0,29\",\"1,50\",\"0,64\",\"0,14\",\"0,29\",\"0,71\",\"8,29\",\"1,43\",\"5,29\",\"2,22\",\"1,86\",\"2,00\",\"1,07\",\"0,43\",\"0,29\",\"0,21\",\"0,14\",\"0,29\",\"0,00\",\"0,00\",\"15,30\",\"6,79\",\"5,58\",\"1,14\",\"0,00\",\"0,21\",\"0,07\",\"0,29\",\"0,00\",\"0,00\",\"1,14\",\"0,07\"\\r\\njf07.txt,1,1326,\"12,87\",\"18,85\",\"73,53\",\"47,21\",\"15,61\",\"8,90\",\"2,11\",\"0,38\",\"0,60\",\"6,64\",\"2,11\",\"6,71\",\"8,90\",\"10,86\",\"0,60\",\"1,66\",\"8,45\",\"0,00\",\"5,96\",\"13,57\",\"4,52\",\"2,71\",\"1,96\",\"1,73\",\"0,23\",\"1,58\",\"0,23\",\"0,30\",\"3,24\",\"0,45\",\"1,66\",\"0,23\",\"0,00\",\"0,08\",\"0,00\",\"10,63\",\"0,45\",\"0,00\",\"0,90\",\"4,45\",\"1,58\",\"3,32\",\"0,53\",\"1,81\",\"0,38\",\"19,53\",\"2,71\",\"1,06\",\"1,36\",\"4,00\",\"1,28\",\"0,60\",\"5,43\",\"2,49\",\"3,54\",\"1,13\",\"1,43\",\"0,23\",\"1,51\",\"0,23\",\"0,38\",\"0,15\",\"1,13\",\"8,82\",\"1,89\",\"4,83\",\"2,41\",\"2,49\",\"1,43\",\"0,83\",\"0,30\",\"0,38\",\"1,51\",\"0,15\",\"0,08\",\"0,23\",\"0,00\",\"20,36\",\"6,56\",\"7,32\",\"2,11\",\"0,00\",\"1,28\",\"0,23\",\"0,53\",\"0,00\",\"0,00\",\"2,11\",\"0,23\"\\r\\njf08.txt,1,1549,\"14,48\",\"22,34\",\"74,44\",\"46,68\",\"15,04\",\"8,97\",\"0,00\",\"0,52\",\"0,26\",\"8,33\",\"3,29\",\"6,07\",\"13,43\",\"10,14\",\"0,97\",\"0,84\",\"8,20\",\"0,00\",\"3,94\",\"11,56\",\"5,42\",\"1,94\",\"1,68\",\"2,32\",\"0,06\",\"0,58\",\"0,00\",\"0,26\",\"3,81\",\"0,84\",\"1,16\",\"0,06\",\"0,00\",\"0,06\",\"0,00\",\"8,91\",\"0,32\",\"0,00\",\"0,26\",\"4,84\",\"2,65\",\"2,19\",\"0,45\",\"1,10\",\"0,26\",\"19,82\",\"2,00\",\"1,42\",\"0,97\",\"3,62\",\"2,13\",\"0,32\",\"4,78\",\"2,13\",\"2,07\",\"0,45\",\"0,58\",\"0,45\",\"1,36\",\"0,58\",\"0,13\",\"0,06\",\"0,52\",\"7,94\",\"1,68\",\"4,65\",\"2,39\",\"3,36\",\"2,91\",\"0,97\",\"0,26\",\"1,87\",\"0,32\",\"0,71\",\"0,58\",\"0,13\",\"0,00\",\"14,65\",\"6,71\",\"4,39\",\"0,58\",\"0,00\",\"0,45\",\"0,00\",\"0,06\",\"0,00\",\"0,00\",\"2,32\",\"0,13\"\\r\\njf09.txt,1,881,\"33,88\",\"25,54\",\"66,06\",\"44,49\",\"13,39\",\"8,17\",\"0,00\",\"0,00\",\"0,00\",\"8,17\",\"1,93\",\"5,22\",\"16,00\",\"6,81\",\"0,79\",\"2,27\",\"3,63\",\"0,00\",\"2,38\",\"15,10\",\"3,18\",\"0,91\",\"0,79\",\"1,93\",\"0,11\",\"0,45\",\"0,00\",\"0,00\",\"2,27\",\"0,11\",\"1,48\",\"0,00\",\"0,00\",\"0,00\",\"0,00\",\"5,56\",\"0,68\",\"0,00\",\"0,68\",\"3,97\",\"2,04\",\"1,70\",\"0,11\",\"1,25\",\"0,34\",\"15,21\",\"1,82\",\"1,25\",\"0,57\",\"0,91\",\"1,02\",\"0,91\",\"6,13\",\"1,14\",\"1,25\",\"0,34\",\"0,23\",\"0,34\",\"0,79\",\"0,34\",\"0,11\",\"0,45\",\"0,57\",\"7,95\",\"2,27\",\"4,31\",\"2,27\",\"2,27\",\"2,16\",\"0,57\",\"0,34\",\"0,45\",\"0,45\",\"0,23\",\"0,11\",\"0,00\",\"0,00\",\"9,99\",\"3,06\",\"6,81\",\"0,11\",\"0,00\",\"0,00\",\"0,00\",\"0,00\",\"0,00\",\"0,00\",\"0,00\",\"0,00\"\\r\\njf10.txt,1,1915,\"18,96\",\"21,15\",\"73,00\",\"46,74\",\"15,04\",\"8,56\",\"1,51\",\"0,21\",\"0,84\",\"6,58\",\"1,88\",\"6,48\",\"11,70\",\"10,55\",\"0,99\",\"1,83\",\"7,89\",\"0,00\",\"3,50\",\"12,32\",\"6,11\",\"1,67\",\"1,51\",\"2,40\",\"0,26\",\"1,72\",\"0,05\",\"0,00\",\"2,87\",\"0,99\",\"1,25\",\"0,16\",\"0,00\",\"0,37\",\"0,00\",\"8,51\",\"0,16\",\"0,05\",\"0,42\",\"4,23\",\"2,35\",\"2,04\",\"0,05\",\"0,73\",\"0,57\",\"20,99\",\"3,45\",\"1,51\",\"1,57\",\"3,24\",\"1,46\",\"0,26\",\"6,01\",\"2,19\",\"2,19\",\"0,26\",\"1,04\",\"0,37\",\"1,20\",\"0,52\",\"0,26\",\"0,26\",\"0,57\",\"7,94\",\"1,78\",\"5,01\",\"1,78\",\"2,77\",\"1,62\",\"0,73\",\"0,05\",\"0,57\",\"0,10\",\"0,10\",\"0,42\",\"0,21\",\"0,00\",\"13,47\",\"5,07\",\"4,60\",\"0,73\",\"0,89\",\"0,37\",\"0,00\",\"0,16\",\"0,00\",\"0,00\",\"1,67\",\"0,00\"\\r\\njf11.txt,1,4784,\"8,71\",\"14,03\",\"75,21\",\"47,58\",\"15,55\",\"10,43\",\"1,71\",\"0,31\",\"1,80\",\"7,34\",\"1,96\",\"5,12\",\"11,25\",\"11,81\",\"0,69\",\"1,86\",\"8,86\",\"0,00\",\"5,35\",\"12,29\",\"5,20\",\"3,01\",\"1,61\",\"2,57\",\"0,61\",\"2,57\",\"0,33\",\"0,25\",\"3,70\",\"0,82\",\"1,23\",\"0,23\",\"0,02\",\"1,07\",\"0,00\",\"9,24\",\"0,52\",\"0,10\",\"0,31\",\"3,47\",\"2,11\",\"1,28\",\"0,06\",\"0,84\",\"0,13\",\"19,08\",\"2,86\",\"0,94\",\"1,23\",\"3,53\",\"1,34\",\"0,25\",\"4,93\",\"2,42\",\"3,91\",\"1,57\",\"1,25\",\"0,61\",\"2,26\",\"1,42\",\"0,19\",\"0,33\",\"0,71\",\"8,44\",\"2,49\",\"3,68\",\"2,63\",\"2,07\",\"2,28\",\"0,52\",\"0,50\",\"0,69\",\"0,06\",\"0,23\",\"0,48\",\"0,27\",\"0,00\",\"19,57\",\"10,83\",\"5,00\",\"1,05\",\"0,00\",\"1,57\",\"0,21\",\"0,04\",\"0,00\",\"0,00\",\"0,88\",\"0,00\"\\r\\njf13.txt,1,425,\"16,35\",\"17,65\",\"78,35\",\"45,65\",\"11,53\",\"8,47\",\"0,24\",\"0,00\",\"0,71\",\"8,24\",\"3,06\",\"3,06\",\"12,94\",\"13,18\",\"1,18\",\"1,41\",\"10,12\",\"0,00\",\"4,94\",\"13,41\",\"6,12\",\"3,06\",\"1,88\",\"3,06\",\"0,00\",\"0,94\",\"0,00\",\"0,00\",\"6,59\",\"0,00\",\"0,24\",\"0,24\",\"0,00\",\"0,00\",\"0,00\",\"12,71\",\"1,18\",\"0,00\",\"1,88\",\"6,12\",\"1,65\",\"3,76\",\"0,00\",\"2,59\",\"0,24\",\"18,82\",\"2,12\",\"3,53\",\"1,65\",\"4,24\",\"0,94\",\"0,00\",\"3,76\",\"2,35\",\"2,59\",\"1,41\",\"0,47\",\"0,24\",\"1,41\",\"0,00\",\"0,47\",\"0,47\",\"0,47\",\"5,65\",\"0,71\",\"3,53\",\"2,12\",\"2,35\",\"0,94\",\"0,94\",\"0,24\",\"0,94\",\"0,00\",\"0,00\",\"0,24\",\"0,00\",\"0,00\",\"16,94\",\"5,88\",\"8,00\",\"0,00\",\"0,00\",\"0,24\",\"0,00\",\"0,00\",\"2,82\",\"0,00\",\"0,00\",\"0,00\"\\r\\njf14.txt,1,3380,\"12,95\",\"17,28\",\"71,33\",\"46,12\",\"15,30\",\"8,93\",\"0,95\",\"0,06\",\"1,27\",\"7,54\",\"1,95\",\"6,36\",\"9,56\",\"11,01\",\"0,59\",\"1,92\",\"7,99\",\"0,00\",\"4,32\",\"13,91\",\"5,15\",\"1,98\",\"1,45\",\"1,54\",\"0,21\",\"1,33\",\"0,18\",\"0,03\",\"4,47\",\"0,83\",\"1,45\",\"0,36\",\"0,00\",\"0,27\",\"0,00\",\"9,14\",\"0,33\",\"0,15\",\"0,33\",\"3,52\",\"1,78\",\"1,57\",\"0,24\",\"0,95\",\"0,21\",\"21,15\",\"2,13\",\"1,33\",\"1,12\",\"2,81\",\"1,48\",\"0,53\",\"5,68\",\"2,40\",\"2,60\",\"0,44\",\"1,12\",\"0,24\",\"1,15\",\"0,59\",\"0,15\",\"0,21\",\"0,59\",\"8,55\",\"2,87\",\"4,29\",\"2,13\",\"2,57\",\"2,40\",\"0,33\",\"0,18\",\"0,56\",\"0,18\",\"0,18\",\"0,33\",\"0,15\",\"0,00\",\"14,02\",\"6,98\",\"5,71\",\"0,33\",\"0,09\",\"0,80\",\"0,00\",\"0,03\",\"0,00\",\"0,00\",\"0,06\",\"0,03\"\\r\\njf15.txt,1,626,\"16,05\",\"18,37\",\"74,92\",\"41,37\",\"14,70\",\"7,99\",\"0,32\",\"0,32\",\"0,48\",\"7,67\",\"2,40\",\"6,71\",\"9,27\",\"12,14\",\"1,60\",\"0,48\",\"10,06\",\"0,00\",\"5,43\",\"11,18\",\"4,31\",\"3,83\",\"1,60\",\"2,56\",\"0,00\",\"1,28\",\"0,00\",\"0,32\",\"5,91\",\"0,80\",\"0,64\",\"0,16\",\"0,00\",\"0,00\",\"0,00\",\"11,34\",\"1,76\",\"0,32\",\"1,12\",\"5,11\",\"2,24\",\"2,56\",\"0,00\",\"2,08\",\"0,16\",\"21,88\",\"2,72\",\"2,24\",\"1,92\",\"2,72\",\"0,80\",\"0,00\",\"3,99\",\"1,76\",\"2,40\",\"1,60\",\"0,48\",\"0,32\",\"0,80\",\"0,16\",\"0,32\",\"0,32\",\"0,16\",\"5,75\",\"1,28\",\"3,51\",\"1,60\",\"1,92\",\"1,12\",\"0,32\",\"0,16\",\"1,12\",\"0,00\",\"0,00\",\"0,16\",\"0,00\",\"0,00\",\"19,49\",\"5,43\",\"8,63\",\"0,64\",\"0,00\",\"0,80\",\"0,32\",\"0,00\",\"3,51\",\"0,16\",\"0,00\",\"0,00\"\\r\\njf16.txt,1,4852,\"8,81\",\"14,12\",\"75,14\",\"47,57\",\"15,54\",\"10,43\",\"1,69\",\"0,31\",\"1,79\",\"7,38\",\"2,00\",\"5,11\",\"11,29\",\"11,75\",\"0,68\",\"1,90\",\"8,78\",\"0,00\",\"5,32\",\"12,32\",\"5,19\",\"2,97\",\"1,61\",\"2,60\",\"0,60\",\"2,54\",\"0,33\",\"0,25\",\"3,65\",\"0,80\",\"1,22\",\"0,23\",\"0,02\",\"1,05\",\"0,00\",\"9,23\",\"0,52\",\"0,10\",\"0,31\",\"3,44\",\"2,08\",\"1,26\",\"0,06\",\"0,82\",\"0,12\",\"19,04\",\"2,84\",\"0,93\",\"1,22\",\"3,50\",\"1,36\",\"0,25\",\"4,95\",\"2,39\",\"3,87\",\"1,57\",\"1,24\",\"0,60\",\"2,23\",\"1,40\",\"0,19\",\"0,33\",\"0,70\",\"8,62\",\"2,54\",\"3,69\",\"2,76\",\"2,10\",\"2,29\",\"0,52\",\"0,49\",\"0,68\",\"0,06\",\"0,23\",\"0,47\",\"0,27\",\"0,00\",\"19,44\",\"10,70\",\"5,01\",\"1,03\",\"0,00\",\"1,57\",\"0,21\",\"0,04\",\"0,00\",\"0,00\",\"0,87\",\"0,02\"\\r\\njf17.txt,1,1647,\"14,71\",\"15,66\",\"77,60\",\"49,67\",\"14,57\",\"7,95\",\"0,24\",\"0,12\",\"1,15\",\"7,47\",\"2,37\",\"6,62\",\"12,93\",\"11,96\",\"0,67\",\"1,70\",\"9,35\",\"0,00\",\"4,80\",\"11,23\",\"8,86\",\"1,94\",\"2,25\",\"1,76\",\"0,06\",\"1,40\",\"0,00\",\"0,30\",\"4,49\",\"0,97\",\"1,40\",\"0,18\",\"0,00\",\"0,12\",\"0,00\",\"9,29\",\"0,24\",\"0,00\",\"0,30\",\"2,55\",\"0,97\",\"1,34\",\"0,06\",\"0,73\",\"0,24\",\"21,80\",\"1,88\",\"1,46\",\"1,03\",\"2,98\",\"1,09\",\"0,06\",\"5,59\",\"2,61\",\"3,83\",\"1,40\",\"1,21\",\"0,12\",\"5,16\",\"3,76\",\"0,12\",\"0,24\",\"4,37\",\"7,41\",\"1,82\",\"3,58\",\"2,55\",\"1,34\",\"1,76\",\"0,24\",\"0,12\",\"0,55\",\"0,12\",\"0,24\",\"0,36\",\"0,43\",\"0,00\",\"18,52\",\"6,68\",\"10,93\",\"0,49\",\"0,06\",\"0,06\",\"0,06\",\"0,00\",\"0,00\",\"0,00\",\"0,24\",\"0,00\"\\r\\njf18.txt,1,1009,\"25,87\",\"16,95\",\"81,57\",\"46,58\",\"15,86\",\"8,13\",\"0,89\",\"0,30\",\"0,59\",\"7,14\",\"2,48\",\"7,73\",\"9,12\",\"13,18\",\"1,09\",\"0,79\",\"11,00\",\"0,00\",\"6,05\",\"11,10\",\"6,44\",\"3,37\",\"1,88\",\"3,17\",\"0,00\",\"1,59\",\"0,00\",\"0,69\",\"5,65\",\"1,29\",\"1,49\",\"0,20\",\"0,00\",\"0,00\",\"0,00\",\"13,68\",\"1,19\",\"0,30\",\"2,08\",\"4,96\",\"2,48\",\"2,48\",\"0,00\",\"1,78\",\"0,20\",\"26,26\",\"3,07\",\"3,37\",\"1,98\",\"3,67\",\"1,88\",\"0,00\",\"3,87\",\"2,08\",\"2,87\",\"1,39\",\"0,79\",\"0,40\",\"0,99\",\"0,10\",\"0,30\",\"0,30\",\"0,40\",\"6,64\",\"2,28\",\"3,57\",\"2,08\",\"1,09\",\"0,99\",\"0,20\",\"0,10\",\"1,09\",\"0,00\",\"0,00\",\"0,10\",\"0,10\",\"0,00\",\"16,45\",\"6,14\",\"8,62\",\"0,50\",\"0,10\",\"0,40\",\"0,10\",\"0,00\",\"0,20\",\"0,00\",\"0,40\",\"0,00\"\\r\\njf19.txt,1,7150,\"13,54\",\"20,92\",\"70,21\",\"45,13\",\"12,95\",\"8,78\",\"0,27\",\"0,35\",\"0,60\",\"7,93\",\"2,81\",\"4,17\",\"12,31\",\"8,42\",\"0,78\",\"1,58\",\"5,94\",\"0,03\",\"3,47\",\"14,53\",\"4,57\",\"2,04\",\"1,57\",\"2,59\",\"0,13\",\"1,06\",\"0,01\",\"0,31\",\"2,66\",\"0,62\",\"1,01\",\"0,50\",\"0,06\",\"0,11\",\"0,00\",\"9,94\",\"0,46\",\"0,07\",\"0,60\",\"3,65\",\"2,00\",\"1,92\",\"0,13\",\"0,95\",\"0,25\",\"17,05\",\"2,21\",\"0,76\",\"1,10\",\"2,88\",\"1,44\",\"0,49\",\"4,78\",\"2,14\",\"2,56\",\"0,55\",\"0,94\",\"0,39\",\"1,13\",\"0,36\",\"0,20\",\"0,20\",\"0,56\",\"7,76\",\"1,86\",\"3,87\",\"2,50\",\"2,27\",\"1,97\",\"0,81\",\"0,43\",\"0,53\",\"0,18\",\"0,52\",\"0,32\",\"0,18\",\"0,00\",\"16,48\",\"6,83\",\"5,93\",\"1,16\",\"0,03\",\"0,90\",\"0,15\",\"0,11\",\"0,00\",\"0,00\",\"1,09\",\"0,28\"\\r\\njf20.txt,1,1686,\"24,79\",\"18,03\",\"71,59\",\"45,31\",\"13,70\",\"8,13\",\"0,53\",\"0,24\",\"0,59\",\"7,12\",\"1,78\",\"5,58\",\"13,82\",\"9,91\",\"0,89\",\"1,78\",\"7,24\",\"0,00\",\"4,33\",\"13,11\",\"4,21\",\"2,61\",\"1,13\",\"2,37\",\"0,42\",\"1,36\",\"0,18\",\"0,18\",\"4,15\",\"0,77\",\"1,07\",\"0,12\",\"0,00\",\"0,24\",\"0,00\",\"7,71\",\"0,24\",\"0,12\",\"0,77\",\"3,56\",\"2,49\",\"0,89\",\"0,12\",\"0,42\",\"0,42\",\"17,02\",\"1,25\",\"0,53\",\"0,89\",\"2,02\",\"1,19\",\"0,12\",\"4,92\",\"1,78\",\"2,31\",\"0,30\",\"0,89\",\"0,12\",\"2,25\",\"1,30\",\"0,24\",\"0,59\",\"1,30\",\"9,96\",\"1,66\",\"6,17\",\"2,61\",\"2,79\",\"1,72\",\"0,89\",\"0,24\",\"0,47\",\"0,30\",\"0,12\",\"0,24\",\"0,00\",\"0,00\",\"10,38\",\"4,03\",\"5,16\",\"0,59\",\"0,42\",\"0,00\",\"0,00\",\"0,00\",\"0,00\",\"0,00\",\"0,12\",\"0,06\"\\r\\njl01.txt,1,523,\"37,36\",\"29,45\",\"69,02\",\"45,70\",\"13,96\",\"7,65\",\"0,00\",\"0,38\",\"0,00\",\"7,07\",\"1,34\",\"6,31\",\"14,15\",\"8,03\",\"1,34\",\"1,15\",\"6,12\",\"0,00\",\"2,68\",\"16,25\",\"5,16\",\"1,34\",\"0,38\",\"1,53\",\"0,00\",\"0,96\",\"0,00\",\"0,00\",\"1,72\",\"1,34\",\"1,34\",\"0,57\",\"0,00\",\"0,00\",\"0,00\",\"5,16\",\"0,00\",\"0,00\",\"0,57\",\"3,63\",\"1,15\",\"2,49\",\"0,19\",\"1,72\",\"0,57\",\"17,59\",\"2,49\",\"1,91\",\"0,57\",\"3,06\",\"0,76\",\"0,38\",\"5,54\",\"1,72\",\"2,10\",\"0,57\",\"0,00\",\"0,76\",\"0,57\",\"0,00\",\"0,00\",\"0,19\",\"0,38\",\"8,60\",\"2,10\",\"4,78\",\"1,72\",\"5,35\",\"3,82\",\"0,96\",\"0,00\",\"0,00\",\"0,00\",\"0,00\",\"0,00\",\"0,00\",\"0,00\",\"9,94\",\"2,68\",\"5,93\",\"0,38\",\"0,00\",\"0,00\",\"0,00\",\"0,00\",\"0,96\",\"0,00\",\"0,00\",\"0,00\"\\r\\njl02.txt,1,874,\"34,96\",\"22,65\",\"72,08\",\"45,42\",\"12,59\",\"5,95\",\"0,11\",\"0,11\",\"0,11\",\"5,72\",\"1,95\",\"6,64\",\"11,56\",\"11,56\",\"0,92\",\"2,40\",\"8,24\",\"0,00\",\"2,86\",\"14,87\",\"4,69\",\"1,03\",\"1,72\",\"3,55\",\"0,00\",\"0,80\",\"0,46\",\"0,23\",\"3,20\",\"2,06\",\"1,14\",\"0,23\",\"0,00\",\"0,00\",\"0,00\",\"7,21\",\"0,46\",\"0,23\",\"0,23\",\"2,86\",\"1,37\",\"1,26\",\"0,11\",\"1,14\",\"0,00\",\"17,96\",\"1,83\",\"1,60\",\"0,92\",\"1,26\",\"1,14\",\"0,46\",\"5,38\",\"1,60\",\"2,63\",\"0,46\",\"1,14\",\"0,69\",\"0,80\",\"0,23\",\"0,00\",\"0,11\",\"0,46\",\"7,67\",\"1,37\",\"5,03\",\"1,49\",\"5,26\",\"3,43\",\"0,69\",\"0,00\",\"2,63\",\"0,34\",\"0,11\",\"0,34\",\"0,11\",\"0,00\",\"12,24\",\"2,97\",\"6,52\",\"0,11\",\"0,46\",\"0,00\",\"0,00\",\"0,46\",\"0,80\",\"0,11\",\"0,23\",\"0,57\"\\r\\njl03.txt,1,420,\"46,67\",\"24,76\",\"64,52\",\"42,86\",\"11,19\",\"7,14\",\"0,00\",\"0,24\",\"0,00\",\"7,14\",\"1,19\",\"4,05\",\"14,29\",\"6,43\",\"0,71\",\"1,67\",\"3,81\",\"0,24\",\"2,14\",\"15,71\",\"4,52\",\"0,71\",\"0,71\",\"2,86\",\"0,00\",\"0,95\",\"0,00\",\"0,24\",\"1,67\",\"0,24\",\"1,90\",\"0,48\",\"0,00\",\"0,00\",\"0,00\",\"5,24\",\"0,24\",\"0,00\",\"0,95\",\"2,38\",\"1,67\",\"0,48\",\"0,00\",\"0,00\",\"0,00\",\"15,71\",\"3,57\",\"0,71\",\"0,48\",\"0,95\",\"0,24\",\"0,71\",\"5,00\",\"0,71\",\"4,52\",\"1,67\",\"0,24\",\"1,43\",\"2,14\",\"0,95\",\"0,24\",\"0,00\",\"1,19\",\"5,71\",\"0,95\",\"2,14\",\"3,10\",\"1,43\",\"0,95\",\"0,48\",\"0,48\",\"0,00\",\"1,43\",\"0,48\",\"0,00\",\"0,00\",\"0,00\",\"8,33\",\"2,14\",\"4,76\",\"0,00\",\"0,00\",\"0,00\",\"0,00\",\"0,00\",\"0,48\",\"0,00\",\"0,95\",\"0,00\"\\r\\njl04.txt,1,483,\"40,25\",\"23,40\",\"65,22\",\"42,86\",\"14,91\",\"8,70\",\"0,21\",\"0,21\",\"0,00\",\"7,87\",\"1,86\",\"6,21\",\"13,25\",\"8,70\",\"0,41\",\"1,24\",\"7,04\",\"0,00\",\"3,11\",\"12,84\",\"5,38\",\"0,83\",\"0,41\",\"0,83\",\"0,00\",\"0,62\",\"0,00\",\"0,41\",\"1,24\",\"0,62\",\"1,45\",\"0,83\",\"0,00\",\"0,00\",\"0,00\",\"6,42\",\"0,83\",\"0,00\",\"0,00\",\"2,90\",\"1,66\",\"1,24\",\"0,21\",\"0,21\",\"0,41\",\"17,39\",\"1,66\",\"1,24\",\"0,83\",\"0,83\",\"0,83\",\"0,00\",\"7,66\",\"0,83\",\"1,86\",\"0,41\",\"0,41\",\"0,21\",\"0,83\",\"0,21\",\"0,00\",\"0,00\",\"0,62\",\"6,00\",\"1,24\",\"2,90\",\"2,48\",\"7,25\",\"3,93\",\"0,83\",\"0,83\",\"1,24\",\"0,21\",\"0,00\",\"0,00\",\"0,00\",\"0,00\",\"8,28\",\"2,48\",\"5,80\",\"0,00\",\"0,00\",\"0,00\",\"0,00\",\"0,00\",\"0,00\",\"0,00\",\"0,00\",\"0,00\"\\r\\njl05.txt,1,348,\"43,50\",\"22,70\",\"66,67\",\"41,67\",\"13,22\",\"7,47\",\"0,29\",\"0,00\",\"0,29\",\"7,18\",\"1,15\",\"5,75\",\"10,92\",\"6,90\",\"0,29\",\"0,86\",\"5,17\",\"0,00\",\"2,87\",\"14,37\",\"5,46\",\"0,86\",\"0,86\",\"0,29\",\"0,00\",\"0,00\",\"0,00\",\"0,86\",\"2,87\",\"0,00\",\"0,57\",\"0,00\",\"0,00\",\"0,00\",\"0,00\",\"6,61\",\"0,57\",\"0,00\",\"0,57\",\"2,30\",\"1,72\",\"0,86\",\"0,00\",\"0,86\",\"0,00\",\"19,54\",\"3,45\",\"1,72\",\"2,01\",\"1,44\",\"0,86\",\"0,57\",\"6,32\",\"0,86\",\"3,45\",\"0,86\",\"0,29\",\"0,86\",\"1,44\",\"0,57\",\"0,00\",\"0,00\",\"0,86\",\"8,62\",\"2,59\",\"6,32\",\"0,57\",\"3,74\",\"2,59\",\"1,15\",\"0,29\",\"0,00\",\"0,57\",\"0,00\",\"0,29\",\"0,00\",\"0,00\",\"12,93\",\"2,30\",\"7,47\",\"0,29\",\"0,00\",\"0,00\",\"0,00\",\"0,29\",\"1,44\",\"0,00\",\"1,15\",\"0,00\"\\r\\njl06.txt,1,900,\"45,00\",\"23,44\",\"69,67\",\"47,11\",\"14,22\",\"6,89\",\"0,22\",\"0,22\",\"0,33\",\"6,67\",\"2,11\",\"7,33\",\"13,56\",\"9,00\",\"0,67\",\"1,33\",\"6,78\",\"0,00\",\"3,00\",\"14,44\",\"4,56\",\"1,22\",\"1,22\",\"2,00\",\"0,00\",\"0,44\",\"0,00\",\"0,11\",\"3,33\",\"0,44\",\"0,78\",\"0,44\",\"0,00\",\"0,00\",\"0,00\",\"6,89\",\"0,11\",\"0,00\",\"0,22\",\"2,33\",\"0,89\",\"0,67\",\"0,11\",\"0,33\",\"0,00\",\"18,89\",\"2,67\",\"1,22\",\"1,11\",\"1,78\",\"1,00\",\"0,33\",\"6,22\",\"1,56\",\"2,00\",\"0,56\",\"0,44\",\"0,56\",\"0,67\",\"0,22\",\"0,33\",\"0,00\",\"0,22\",\"7,44\",\"1,22\",\"4,22\",\"2,00\",\"2,56\",\"2,33\",\"0,67\",\"0,33\",\"0,33\",\"0,44\",\"0,00\",\"0,11\",\"0,00\",\"0,00\",\"13,44\",\"2,22\",\"6,33\",\"0,44\",\"0,33\",\"0,00\",\"0,00\",\"0,00\",\"2,44\",\"0,11\",\"1,56\",\"0,00\"\\r\\njl07.txt,1,764,\"50,93\",\"23,17\",\"70,55\",\"46,99\",\"11,26\",\"6,54\",\"0,00\",\"0,13\",\"0,13\",\"6,41\",\"1,31\",\"4,71\",\"16,49\",\"6,28\",\"0,39\",\"1,44\",\"4,32\",\"0,00\",\"1,57\",\"17,80\",\"4,06\",\"0,26\",\"1,44\",\"1,44\",\"0,00\",\"0,13\",\"0,13\",\"0,13\",\"2,09\",\"0,52\",\"0,52\",\"0,00\",\"0,00\",\"0,00\",\"0,00\",\"6,81\",\"0,92\",\"0,13\",\"0,00\",\"2,75\",\"1,05\",\"0,65\",\"0,13\",\"0,65\",\"0,00\",\"15,45\",\"2,23\",\"0,92\",\"1,18\",\"1,96\",\"2,23\",\"0,26\",\"6,54\",\"0,65\",\"2,36\",\"0,26\",\"0,92\",\"0,26\",\"0,52\",\"0,13\",\"0,00\",\"0,00\",\"0,39\",\"9,03\",\"1,96\",\"6,54\",\"1,05\",\"1,96\",\"2,88\",\"0,26\",\"0,00\",\"3,27\",\"0,65\",\"0,13\",\"0,13\",\"0,00\",\"0,00\",\"13,61\",\"1,96\",\"4,32\",\"0,00\",\"0,00\",\"0,00\",\"0,00\",\"0,92\",\"5,89\",\"0,00\",\"0,52\",\"0,00\"\\r\\njl08.txt,1,538,\"38,43\",\"25,28\",\"64,87\",\"45,54\",\"12,45\",\"6,69\",\"0,19\",\"0,19\",\"0,00\",\"6,51\",\"2,79\",\"5,76\",\"14,13\",\"5,02\",\"0,00\",\"0,74\",\"3,53\",\"0,00\",\"2,60\",\"15,99\",\"2,79\",\"0,93\",\"0,74\",\"1,86\",\"0,00\",\"0,56\",\"0,00\",\"0,37\",\"0,56\",\"0,00\",\"0,93\",\"0,00\",\"0,00\",\"0,00\",\"0,00\",\"5,76\",\"0,00\",\"0,19\",\"0,00\",\"1,86\",\"0,93\",\"0,56\",\"0,00\",\"0,37\",\"0,19\",\"18,77\",\"3,72\",\"0,74\",\"0,56\",\"1,86\",\"0,56\",\"0,00\",\"6,51\",\"1,67\",\"0,74\",\"0,37\",\"0,00\",\"0,00\",\"1,12\",\"0,93\",\"0,00\",\"0,00\",\"0,19\",\"7,43\",\"1,49\",\"4,28\",\"1,67\",\"3,53\",\"4,28\",\"0,56\",\"0,19\",\"0,37\",\"1,12\",\"0,00\",\"0,19\",\"0,00\",\"0,00\",\"14,50\",\"2,60\",\"6,69\",\"0,37\",\"0,00\",\"0,00\",\"0,00\",\"0,00\",\"3,35\",\"0,00\",\"1,49\",\"0,00\"\\r\\njl09.txt,1,845,\"26,41\",\"24,14\",\"69,82\",\"44,97\",\"14,08\",\"8,05\",\"1,07\",\"0,59\",\"0,36\",\"6,63\",\"1,66\",\"6,04\",\"11,24\",\"8,99\",\"0,59\",\"1,66\",\"7,10\",\"0,00\",\"3,31\",\"12,07\",\"5,09\",\"2,60\",\"2,49\",\"2,37\",\"0,71\",\"0,59\",\"0,00\",\"0,95\",\"2,01\",\"0,71\",\"1,18\",\"0,59\",\"0,12\",\"0,00\",\"0,00\",\"9,23\",\"0,59\",\"0,00\",\"1,54\",\"5,44\",\"2,37\",\"2,84\",\"0,36\",\"1,30\",\"0,24\",\"18,46\",\"1,54\",\"0,71\",\"1,07\",\"2,01\",\"1,30\",\"0,59\",\"5,44\",\"2,96\",\"2,13\",\"0,59\",\"0,47\",\"0,24\",\"1,78\",\"1,07\",\"0,24\",\"0,24\",\"0,47\",\"5,92\",\"0,71\",\"3,67\",\"2,25\",\"2,25\",\"1,89\",\"0,71\",\"0,24\",\"0,36\",\"0,00\",\"0,12\",\"0,12\",\"0,00\",\"0,00\",\"16,80\",\"3,31\",\"7,10\",\"0,95\",\"0,00\",\"0,83\",\"2,49\",\"0,95\",\"0,00\",\"0,00\",\"0,83\",\"0,36\"\\r\\njl10.txt,1,480,\"43,64\",\"27,29\",\"69,58\",\"44,17\",\"11,67\",\"7,08\",\"0,00\",\"0,00\",\"0,00\",\"6,88\",\"1,46\",\"4,58\",\"15,21\",\"8,12\",\"0,62\",\"1,04\",\"6,04\",\"0,00\",\"1,88\",\"16,67\",\"4,17\",\"0,00\",\"0,83\",\"3,96\",\"0,00\",\"0,42\",\"0,00\",\"0,21\",\"1,67\",\"0,62\",\"1,25\",\"0,42\",\"0,00\",\"0,00\",\"0,00\",\"6,25\",\"0,42\",\"0,42\",\"0,62\",\"2,92\",\"3,12\",\"0,21\",\"0,00\",\"0,00\",\"0,00\",\"16,46\",\"2,08\",\"2,71\",\"0,00\",\"0,83\",\"1,46\",\"0,00\",\"7,08\",\"0,42\",\"1,88\",\"0,21\",\"0,42\",\"0,42\",\"0,83\",\"0,00\",\"0,00\",\"0,00\",\"0,83\",\"9,79\",\"1,67\",\"6,25\",\"2,50\",\"4,58\",\"3,96\",\"2,92\",\"0,42\",\"0,62\",\"0,00\",\"0,00\",\"0,42\",\"0,00\",\"0,00\",\"8,75\",\"2,71\",\"5,21\",\"0,00\",\"0,00\",\"0,00\",\"0,00\",\"0,00\",\"0,00\",\"0,00\",\"0,83\",\"0,00\"\\r\\njl11.txt,1,368,\"30,67\",\"26,36\",\"69,02\",\"46,74\",\"17,39\",\"11,96\",\"0,82\",\"0,00\",\"0,54\",\"10,60\",\"1,09\",\"5,43\",\"15,49\",\"6,79\",\"0,00\",\"0,82\",\"4,89\",\"0,00\",\"4,35\",\"13,59\",\"4,62\",\"1,36\",\"0,00\",\"0,82\",\"0,00\",\"0,27\",\"0,00\",\"0,00\",\"0,82\",\"0,00\",\"0,27\",\"0,27\",\"0,00\",\"0,27\",\"0,00\",\"9,24\",\"0,00\",\"0,27\",\"0,00\",\"4,62\",\"3,53\",\"0,82\",\"0,00\",\"0,27\",\"0,00\",\"13,04\",\"0,82\",\"0,27\",\"0,54\",\"0,54\",\"1,90\",\"0,00\",\"6,79\",\"1,36\",\"2,17\",\"0,54\",\"0,54\",\"0,27\",\"1,09\",\"0,27\",\"0,00\",\"0,27\",\"0,54\",\"10,87\",\"2,72\",\"4,62\",\"3,80\",\"2,99\",\"1,90\",\"1,09\",\"0,00\",\"0,27\",\"2,72\",\"0,00\",\"0,27\",\"0,00\",\"0,00\",\"13,86\",\"2,99\",\"6,79\",\"0,27\",\"0,82\",\"0,00\",\"0,27\",\"0,00\",\"2,72\",\"0,00\",\"0,00\",\"0,00\"\\r\\njl12.txt,1,995,\"24,27\",\"20,30\",\"66,33\",\"45,43\",\"13,87\",\"8,64\",\"0,20\",\"0,10\",\"0,90\",\"8,04\",\"2,11\",\"5,23\",\"12,46\",\"9,35\",\"0,40\",\"1,21\",\"6,13\",\"0,00\",\"2,41\",\"14,47\",\"5,33\",\"1,31\",\"1,41\",\"2,21\",\"0,10\",\"0,30\",\"0,30\",\"0,00\",\"1,81\",\"0,60\",\"1,31\",\"0,00\",\"0,00\",\"0,40\",\"0,00\",\"8,24\",\"0,70\",\"0,00\",\"0,50\",\"0,80\",\"0,60\",\"0,30\",\"0,00\",\"0,30\",\"0,00\",\"19,60\",\"3,22\",\"0,80\",\"1,11\",\"1,91\",\"1,31\",\"0,90\",\"5,73\",\"1,51\",\"2,21\",\"0,00\",\"0,80\",\"0,90\",\"1,01\",\"0,30\",\"0,20\",\"0,00\",\"0,50\",\"6,53\",\"1,21\",\"4,32\",\"1,01\",\"2,01\",\"1,11\",\"0,40\",\"0,20\",\"1,91\",\"0,00\",\"0,10\",\"0,10\",\"0,00\",\"0,00\",\"17,39\",\"3,92\",\"5,43\",\"0,80\",\"0,00\",\"0,60\",\"0,00\",\"0,00\",\"3,52\",\"1,01\",\"1,61\",\"0,50\"\\r\\njl13.txt,1,372,\"24,80\",\"19,35\",\"64,78\",\"45,70\",\"15,86\",\"10,75\",\"0,54\",\"0,00\",\"0,00\",\"10,22\",\"1,88\",\"5,11\",\"16,13\",\"6,45\",\"0,00\",\"2,42\",\"3,23\",\"0,00\",\"4,30\",\"15,32\",\"1,88\",\"0,54\",\"2,15\",\"1,88\",\"0,54\",\"0,27\",\"0,00\",\"0,00\",\"1,61\",\"0,27\",\"0,54\",\"0,00\",\"0,00\",\"0,00\",\"0,00\",\"7,26\",\"0,54\",\"0,00\",\"0,00\",\"2,42\",\"2,42\",\"0,00\",\"0,00\",\"0,00\",\"0,00\",\"10,75\",\"1,34\",\"0,00\",\"0,81\",\"1,61\",\"0,54\",\"0,00\",\"4,84\",\"0,81\",\"3,49\",\"0,27\",\"1,88\",\"0,54\",\"1,08\",\"0,27\",\"0,00\",\"0,27\",\"0,81\",\"12,37\",\"2,69\",\"6,45\",\"3,76\",\"3,49\",\"1,08\",\"1,61\",\"0,00\",\"0,00\",\"1,88\",\"0,00\",\"0,00\",\"0,00\",\"0,00\",\"11,29\",\"4,30\",\"5,38\",\"0,00\",\"0,00\",\"0,00\",\"0,00\",\"0,00\",\"1,61\",\"0,00\",\"0,00\",\"0,00\"\\r\\njl14.txt,1,946,\"49,79\",\"24,84\",\"70,93\",\"47,04\",\"13,21\",\"7,82\",\"0,00\",\"0,63\",\"0,32\",\"7,40\",\"2,54\",\"5,39\",\"13,53\",\"8,35\",\"0,63\",\"2,43\",\"4,23\",\"0,00\",\"3,91\",\"15,64\",\"5,18\",\"2,54\",\"0,85\",\"1,16\",\"0,11\",\"0,63\",\"0,00\",\"0,53\",\"1,80\",\"0,53\",\"1,27\",\"0,32\",\"0,00\",\"0,00\",\"0,00\",\"9,09\",\"0,11\",\"0,00\",\"0,74\",\"4,76\",\"3,07\",\"2,33\",\"0,42\",\"1,06\",\"0,63\",\"17,86\",\"2,01\",\"1,06\",\"0,11\",\"0,42\",\"1,16\",\"0,42\",\"8,46\",\"1,37\",\"2,43\",\"0,11\",\"1,06\",\"0,74\",\"1,16\",\"0,42\",\"0,21\",\"0,21\",\"0,53\",\"8,46\",\"1,90\",\"5,50\",\"2,43\",\"2,64\",\"2,75\",\"0,53\",\"0,00\",\"0,42\",\"0,63\",\"0,42\",\"0,00\",\"0,00\",\"0,00\",\"15,43\",\"2,11\",\"6,34\",\"0,21\",\"0,11\",\"0,00\",\"0,00\",\"0,00\",\"6,45\",\"0,00\",\"0,21\",\"0,00\"\\r\\njl15.txt,1,828,\"59,14\",\"23,91\",\"67,15\",\"46,62\",\"13,89\",\"7,73\",\"0,00\",\"0,12\",\"0,24\",\"7,61\",\"1,93\",\"6,16\",\"11,35\",\"8,09\",\"0,72\",\"1,21\",\"5,31\",\"0,00\",\"2,05\",\"15,70\",\"7,37\",\"0,85\",\"0,85\",\"1,57\",\"0,12\",\"0,36\",\"0,00\",\"0,97\",\"1,57\",\"1,45\",\"0,72\",\"0,72\",\"0,00\",\"0,00\",\"0,00\",\"7,37\",\"0,36\",\"0,00\",\"0,48\",\"1,81\",\"1,93\",\"0,24\",\"0,00\",\"0,00\",\"0,00\",\"17,39\",\"1,33\",\"1,45\",\"0,12\",\"2,05\",\"0,60\",\"0,36\",\"7,97\",\"2,29\",\"1,09\",\"0,12\",\"0,72\",\"0,12\",\"0,97\",\"0,60\",\"0,60\",\"0,00\",\"0,12\",\"6,64\",\"1,93\",\"3,99\",\"1,09\",\"3,62\",\"1,81\",\"0,97\",\"0,24\",\"0,12\",\"0,97\",\"0,00\",\"0,36\",\"0,00\",\"0,00\",\"13,77\",\"1,81\",\"5,92\",\"0,24\",\"0,72\",\"0,00\",\"0,00\",\"0,24\",\"4,11\",\"0,24\",\"0,48\",\"0,00\"\\r\\njl16.txt,1,876,\"39,82\",\"23,86\",\"67,24\",\"46,12\",\"12,79\",\"6,62\",\"0,23\",\"0,00\",\"0,00\",\"5,82\",\"2,40\",\"6,16\",\"12,67\",\"8,45\",\"0,80\",\"0,80\",\"7,19\",\"0,00\",\"3,42\",\"14,38\",\"6,28\",\"1,03\",\"1,37\",\"1,71\",\"0,00\",\"1,14\",\"0,00\",\"0,11\",\"2,17\",\"1,60\",\"2,05\",\"0,68\",\"0,00\",\"0,00\",\"0,00\",\"5,94\",\"0,57\",\"0,11\",\"0,34\",\"2,74\",\"2,17\",\"0,91\",\"0,23\",\"0,34\",\"0,11\",\"17,81\",\"2,51\",\"0,68\",\"0,57\",\"0,91\",\"0,80\",\"0,11\",\"7,08\",\"1,03\",\"2,74\",\"0,57\",\"0,57\",\"0,57\",\"1,14\",\"0,34\",\"0,11\",\"0,00\",\"0,80\",\"5,48\",\"1,03\",\"4,22\",\"1,26\",\"3,77\",\"1,71\",\"0,91\",\"1,14\",\"1,37\",\"0,80\",\"0,00\",\"0,34\",\"0,00\",\"0,00\",\"12,56\",\"2,51\",\"5,02\",\"0,00\",\"0,00\",\"0,11\",\"0,00\",\"0,00\",\"4,11\",\"0,23\",\"0,46\",\"0,11\"\\r\\njl17.txt,1,321,\"40,12\",\"22,74\",\"72,90\",\"45,79\",\"15,26\",\"6,85\",\"0,00\",\"0,62\",\"0,31\",\"6,85\",\"1,25\",\"8,41\",\"11,53\",\"10,28\",\"0,00\",\"2,49\",\"7,79\",\"0,00\",\"2,80\",\"15,89\",\"4,98\",\"1,87\",\"0,31\",\"0,93\",\"0,00\",\"0,00\",\"0,00\",\"0,62\",\"2,49\",\"1,25\",\"0,62\",\"0,00\",\"0,00\",\"0,00\",\"0,00\",\"7,17\",\"0,31\",\"0,00\",\"0,62\",\"2,80\",\"0,62\",\"2,18\",\"1,25\",\"0,93\",\"0,00\",\"20,25\",\"0,62\",\"0,93\",\"1,25\",\"0,62\",\"0,93\",\"0,62\",\"9,35\",\"0,93\",\"3,12\",\"0,93\",\"0,62\",\"1,25\",\"1,56\",\"0,31\",\"0,93\",\"0,00\",\"0,62\",\"6,85\",\"0,00\",\"6,54\",\"0,31\",\"3,43\",\"1,87\",\"1,87\",\"0,31\",\"0,31\",\"0,31\",\"0,31\",\"0,31\",\"0,00\",\"0,00\",\"16,51\",\"2,49\",\"6,23\",\"0,31\",\"0,00\",\"0,00\",\"0,00\",\"0,00\",\"5,61\",\"0,00\",\"1,87\",\"0,00\"\\r\\njl18.txt,1,820,\"51,25\",\"17,44\",\"74,76\",\"50,00\",\"17,20\",\"9,88\",\"1,59\",\"0,49\",\"0,24\",\"8,29\",\"2,32\",\"7,32\",\"13,54\",\"11,10\",\"0,98\",\"3,29\",\"6,71\",\"0,00\",\"3,66\",\"13,66\",\"5,37\",\"0,85\",\"1,83\",\"1,46\",\"0,00\",\"1,59\",\"0,00\",\"0,00\",\"3,78\",\"0,61\",\"1,22\",\"0,12\",\"0,00\",\"0,00\",\"0,00\",\"7,68\",\"0,49\",\"0,37\",\"0,24\",\"3,90\",\"2,68\",\"1,22\",\"0,49\",\"0,37\",\"0,24\",\"21,34\",\"3,05\",\"0,49\",\"0,61\",\"1,83\",\"1,71\",\"0,98\",\"8,05\",\"1,34\",\"3,17\",\"0,73\",\"0,61\",\"1,10\",\"0,61\",\"0,12\",\"0,00\",\"0,00\",\"0,49\",\"9,88\",\"1,83\",\"5,61\",\"3,05\",\"1,95\",\"2,07\",\"0,37\",\"0,12\",\"0,49\",\"1,46\",\"0,00\",\"0,37\",\"0,24\",\"0,00\",\"14,27\",\"1,95\",\"5,24\",\"0,85\",\"0,00\",\"0,12\",\"0,00\",\"0,00\",\"5,61\",\"0,24\",\"0,24\",\"0,00\"\\r\\njl19.txt,1,318,\"39,75\",\"22,01\",\"71,07\",\"47,48\",\"10,69\",\"4,72\",\"0,31\",\"0,00\",\"0,00\",\"4,09\",\"1,89\",\"5,97\",\"15,41\",\"9,43\",\"0,63\",\"3,14\",\"5,66\",\"0,00\",\"4,40\",\"14,78\",\"5,66\",\"2,52\",\"0,31\",\"2,52\",\"0,31\",\"0,94\",\"0,00\",\"0,31\",\"2,83\",\"0,63\",\"1,26\",\"0,31\",\"0,00\",\"0,00\",\"0,00\",\"6,60\",\"0,63\",\"0,00\",\"0,00\",\"2,20\",\"2,20\",\"0,31\",\"0,00\",\"0,00\",\"0,00\",\"17,30\",\"0,94\",\"1,57\",\"0,63\",\"1,89\",\"0,63\",\"0,63\",\"6,29\",\"2,20\",\"3,46\",\"0,00\",\"2,20\",\"0,31\",\"1,57\",\"0,63\",\"0,31\",\"0,00\",\"0,63\",\"8,49\",\"2,52\",\"3,77\",\"2,83\",\"3,77\",\"3,77\",\"0,63\",\"0,31\",\"0,31\",\"0,31\",\"0,31\",\"0,00\",\"0,00\",\"0,00\",\"15,41\",\"2,52\",\"5,03\",\"0,00\",\"0,31\",\"0,00\",\"0,00\",\"0,31\",\"7,23\",\"0,00\",\"0,00\",\"0,00\"\\r\\njl20.txt,1,336,\"37,33\",\"28,87\",\"70,54\",\"42,26\",\"9,52\",\"6,55\",\"0,89\",\"0,60\",\"0,00\",\"5,36\",\"0,30\",\"2,98\",\"16,07\",\"10,71\",\"1,19\",\"1,79\",\"6,85\",\"0,00\",\"1,49\",\"13,10\",\"5,36\",\"0,30\",\"0,89\",\"0,89\",\"0,00\",\"0,60\",\"0,00\",\"2,38\",\"1,49\",\"0,89\",\"0,89\",\"0,89\",\"0,30\",\"0,00\",\"0,00\",\"3,87\",\"0,00\",\"0,00\",\"0,00\",\"1,19\",\"1,79\",\"0,60\",\"0,00\",\"0,00\",\"0,00\",\"15,48\",\"3,27\",\"1,49\",\"0,00\",\"0,30\",\"1,19\",\"0,89\",\"6,85\",\"0,60\",\"1,49\",\"0,60\",\"0,30\",\"0,89\",\"0,30\",\"0,30\",\"0,00\",\"0,00\",\"0,00\",\"8,63\",\"3,87\",\"2,68\",\"2,68\",\"8,04\",\"6,85\",\"0,89\",\"0,30\",\"0,30\",\"0,30\",\"0,00\",\"0,00\",\"0,00\",\"0,00\",\"16,37\",\"2,68\",\"7,44\",\"1,19\",\"0,60\",\"0,00\",\"0,00\",\"0,00\",\"3,87\",\"0,00\",\"0,60\",\"0,00\"\\r\\nob01.txt,1,343,\"19,06\",\"26,24\",\"58,89\",\"39,07\",\"8,75\",\"4,37\",\"0,00\",\"0,00\",\"0,00\",\"4,37\",\"1,46\",\"4,37\",\"11,08\",\"4,66\",\"0,00\",\"0,58\",\"3,21\",\"0,00\",\"2,33\",\"13,41\",\"7,00\",\"0,29\",\"0,58\",\"0,29\",\"0,58\",\"0,29\",\"0,00\",\"0,58\",\"1,17\",\"0,29\",\"0,58\",\"0,00\",\"0,00\",\"0,00\",\"0,00\",\"4,96\",\"0,00\",\"0,00\",\"0,29\",\"2,62\",\"1,46\",\"1,46\",\"0,29\",\"1,46\",\"0,00\",\"15,45\",\"0,58\",\"1,46\",\"0,00\",\"0,87\",\"0,87\",\"0,00\",\"9,33\",\"1,75\",\"1,17\",\"0,29\",\"0,00\",\"0,00\",\"2,33\",\"1,17\",\"0,00\",\"0,29\",\"1,75\",\"8,75\",\"0,58\",\"5,54\",\"3,50\",\"1,17\",\"1,17\",\"0,29\",\"0,00\",\"0,29\",\"0,29\",\"0,00\",\"0,00\",\"0,00\",\"0,00\",\"12,83\",\"5,25\",\"5,25\",\"0,58\",\"0,87\",\"0,00\",\"0,00\",\"0,87\",\"0,00\",\"0,00\",\"0,00\",\"0,00\"\\r\\nob02.txt,1,334,\"18,56\",\"20,06\",\"70,06\",\"50,30\",\"15,57\",\"11,38\",\"3,89\",\"0,00\",\"1,80\",\"5,99\",\"1,20\",\"4,19\",\"9,58\",\"8,98\",\"0,30\",\"3,29\",\"5,09\",\"0,00\",\"7,19\",\"11,38\",\"8,08\",\"5,09\",\"2,40\",\"1,80\",\"0,30\",\"0,90\",\"0,30\",\"0,00\",\"3,29\",\"0,60\",\"0,00\",\"0,00\",\"0,00\",\"1,50\",\"0,00\",\"8,38\",\"0,30\",\"0,00\",\"0,60\",\"2,40\",\"0,90\",\"1,80\",\"0,00\",\"1,80\",\"0,00\",\"16,17\",\"0,90\",\"0,30\",\"1,20\",\"1,80\",\"1,50\",\"0,60\",\"8,98\",\"3,59\",\"2,99\",\"0,00\",\"2,10\",\"0,30\",\"1,20\",\"0,00\",\"0,60\",\"0,60\",\"0,30\",\"8,68\",\"1,20\",\"3,59\",\"3,89\",\"0,90\",\"0,90\",\"1,20\",\"0,30\",\"0,60\",\"1,50\",\"0,00\",\"0,00\",\"0,00\",\"0,00\",\"10,18\",\"3,89\",\"4,49\",\"0,00\",\"0,00\",\"0,30\",\"1,50\",\"0,00\",\"0,00\",\"0,00\",\"0,00\",\"0,00\"\\r\\nob03.txt,1,411,\"16,44\",\"18,73\",\"74,94\",\"49,64\",\"12,65\",\"8,03\",\"0,49\",\"0,49\",\"0,24\",\"5,84\",\"3,41\",\"4,62\",\"13,14\",\"12,17\",\"0,00\",\"2,19\",\"9,49\",\"0,00\",\"4,38\",\"7,30\",\"15,09\",\"2,19\",\"0,97\",\"2,68\",\"0,00\",\"0,24\",\"0,00\",\"0,49\",\"2,92\",\"3,16\",\"0,97\",\"1,70\",\"0,00\",\"0,00\",\"0,00\",\"7,06\",\"0,97\",\"0,24\",\"0,73\",\"3,65\",\"2,92\",\"0,49\",\"0,00\",\"0,00\",\"0,00\",\"26,52\",\"3,41\",\"6,08\",\"1,70\",\"3,89\",\"0,49\",\"0,49\",\"6,33\",\"1,95\",\"3,89\",\"2,19\",\"0,24\",\"0,73\",\"2,19\",\"0,97\",\"0,00\",\"0,49\",\"0,73\",\"3,89\",\"1,70\",\"1,22\",\"0,97\",\"3,16\",\"3,41\",\"0,49\",\"0,24\",\"0,00\",\"0,73\",\"0,00\",\"0,73\",\"0,24\",\"0,00\",\"13,63\",\"5,35\",\"6,08\",\"0,49\",\"0,97\",\"0,73\",\"0,00\",\"0,00\",\"0,00\",\"0,00\",\"0,00\",\"0,00\"\\r\\nob04.txt,1,762,\"20,59\",\"25,59\",\"70,21\",\"44,75\",\"9,45\",\"4,33\",\"0,00\",\"0,26\",\"0,00\",\"4,07\",\"1,18\",\"5,12\",\"10,63\",\"7,87\",\"0,13\",\"2,36\",\"4,86\",\"0,00\",\"2,89\",\"16,14\",\"6,69\",\"0,92\",\"1,84\",\"1,57\",\"0,00\",\"0,13\",\"0,00\",\"0,13\",\"1,18\",\"0,39\",\"1,18\",\"0,39\",\"0,00\",\"0,00\",\"0,00\",\"4,86\",\"0,52\",\"0,39\",\"0,13\",\"4,33\",\"2,36\",\"1,71\",\"0,52\",\"0,92\",\"0,26\",\"19,82\",\"2,49\",\"0,52\",\"1,18\",\"3,54\",\"1,31\",\"1,05\",\"6,43\",\"3,15\",\"3,41\",\"1,31\",\"0,39\",\"0,13\",\"1,71\",\"0,00\",\"0,66\",\"0,00\",\"1,05\",\"9,71\",\"2,23\",\"5,25\",\"3,15\",\"1,44\",\"1,31\",\"1,18\",\"0,52\",\"0,92\",\"0,00\",\"0,26\",\"0,26\",\"0,00\",\"0,00\",\"10,50\",\"4,46\",\"4,59\",\"0,00\",\"0,00\",\"0,26\",\"0,13\",\"0,79\",\"0,00\",\"0,00\",\"0,26\",\"0,00\"\\r\\nob05.txt,1,857,\"15,04\",\"19,60\",\"67,91\",\"44,46\",\"14,12\",\"8,40\",\"0,00\",\"0,00\",\"0,58\",\"8,17\",\"3,15\",\"5,72\",\"9,57\",\"9,92\",\"1,28\",\"1,52\",\"7,23\",\"0,00\",\"3,50\",\"11,32\",\"8,17\",\"2,22\",\"1,98\",\"0,70\",\"0,00\",\"0,70\",\"0,00\",\"0,00\",\"4,78\",\"0,82\",\"1,05\",\"0,12\",\"0,00\",\"0,00\",\"0,00\",\"7,70\",\"0,00\",\"0,00\",\"0,47\",\"2,57\",\"1,63\",\"0,70\",\"0,35\",\"0,23\",\"0,00\",\"21,35\",\"2,45\",\"0,93\",\"0,82\",\"4,67\",\"1,17\",\"0,82\",\"7,12\",\"3,73\",\"1,75\",\"0,35\",\"0,35\",\"0,23\",\"0,70\",\"0,12\",\"0,00\",\"0,00\",\"0,58\",\"7,12\",\"1,75\",\"4,20\",\"1,98\",\"2,45\",\"2,10\",\"1,40\",\"0,00\",\"0,47\",\"0,70\",\"0,00\",\"0,35\",\"0,00\",\"0,00\",\"11,55\",\"6,65\",\"3,85\",\"0,23\",\"0,58\",\"0,00\",\"0,00\",\"0,23\",\"0,00\",\"0,00\",\"0,00\",\"0,00\"\\r\\nob06.txt,1,431,\"11,97\",\"22,51\",\"67,52\",\"47,56\",\"14,85\",\"9,98\",\"0,00\",\"0,00\",\"0,00\",\"9,98\",\"4,64\",\"4,87\",\"12,53\",\"8,58\",\"0,23\",\"0,23\",\"7,66\",\"0,00\",\"2,32\",\"14,39\",\"8,12\",\"2,09\",\"0,23\",\"3,02\",\"0,00\",\"0,00\",\"0,00\",\"0,00\",\"2,55\",\"0,46\",\"0,46\",\"0,00\",\"0,00\",\"0,00\",\"0,00\",\"6,26\",\"0,00\",\"0,00\",\"0,70\",\"3,25\",\"2,09\",\"1,39\",\"0,00\",\"0,70\",\"0,00\",\"17,87\",\"1,16\",\"0,23\",\"0,93\",\"5,10\",\"0,70\",\"1,16\",\"7,66\",\"3,48\",\"0,93\",\"0,00\",\"0,00\",\"0,46\",\"1,16\",\"0,00\",\"0,70\",\"0,00\",\"0,46\",\"5,80\",\"0,70\",\"3,48\",\"1,62\",\"2,55\",\"1,86\",\"0,93\",\"0,00\",\"0,93\",\"0,23\",\"0,00\",\"0,23\",\"0,46\",\"0,00\",\"12,53\",\"8,35\",\"3,25\",\"0,00\",\"0,00\",\"0,00\",\"0,00\",\"0,93\",\"0,00\",\"0,00\",\"0,00\",\"0,00\"\\r\\nob07.txt,1,707,\"17,67\",\"25,18\",\"71,43\",\"45,97\",\"12,59\",\"7,92\",\"0,00\",\"0,42\",\"0,00\",\"7,21\",\"3,54\",\"4,67\",\"12,45\",\"8,49\",\"0,28\",\"0,99\",\"6,22\",\"0,00\",\"1,98\",\"13,58\",\"7,21\",\"1,56\",\"1,70\",\"1,13\",\"0,00\",\"0,57\",\"0,00\",\"0,00\",\"2,12\",\"0,85\",\"1,41\",\"0,71\",\"0,00\",\"0,00\",\"0,00\",\"8,63\",\"0,57\",\"0,14\",\"0,57\",\"6,22\",\"3,11\",\"3,25\",\"0,42\",\"1,84\",\"0,42\",\"20,79\",\"1,84\",\"1,27\",\"0,99\",\"2,69\",\"0,57\",\"0,28\",\"7,92\",\"2,26\",\"2,69\",\"0,57\",\"0,57\",\"0,42\",\"2,40\",\"0,71\",\"0,14\",\"0,14\",\"1,56\",\"6,93\",\"0,85\",\"4,95\",\"1,56\",\"1,84\",\"1,70\",\"0,71\",\"0,14\",\"0,85\",\"0,14\",\"0,14\",\"0,00\",\"0,00\",\"0,00\",\"11,46\",\"5,66\",\"3,82\",\"0,42\",\"1,27\",\"0,00\",\"0,00\",\"0,28\",\"0,00\",\"0,00\",\"0,00\",\"0,00\"\\r\\nob08.txt,1,184,\"13,14\",\"14,13\",\"80,43\",\"53,26\",\"23,37\",\"12,50\",\"0,00\",\"0,54\",\"0,00\",\"12,50\",\"2,72\",\"10,87\",\"10,33\",\"12,50\",\"0,00\",\"0,00\",\"11,96\",\"0,00\",\"8,70\",\"5,98\",\"9,78\",\"7,07\",\"1,63\",\"0,54\",\"0,00\",\"0,00\",\"0,00\",\"0,00\",\"1,63\",\"0,00\",\"0,00\",\"0,00\",\"0,00\",\"0,00\",\"0,00\",\"11,41\",\"0,00\",\"0,00\",\"0,54\",\"2,17\",\"0,00\",\"5,43\",\"0,00\",\"0,54\",\"3,80\",\"25,00\",\"1,63\",\"0,54\",\"1,09\",\"1,63\",\"0,54\",\"1,63\",\"6,52\",\"2,72\",\"1,63\",\"0,00\",\"1,09\",\"0,00\",\"2,72\",\"0,00\",\"1,63\",\"0,54\",\"0,54\",\"5,98\",\"1,63\",\"3,26\",\"1,09\",\"0,00\",\"2,17\",\"2,17\",\"1,63\",\"0,00\",\"0,00\",\"5,43\",\"0,00\",\"0,00\",\"0,00\",\"9,78\",\"7,07\",\"0,54\",\"0,54\",\"0,00\",\"0,54\",\"0,00\",\"1,09\",\"0,00\",\"0,00\",\"0,00\",\"0,00\"\\r\\nob09.txt,1,580,\"20,00\",\"23,45\",\"70,34\",\"48,28\",\"15,86\",\"9,14\",\"0,00\",\"0,00\",\"0,52\",\"8,79\",\"3,97\",\"6,72\",\"11,03\",\"8,79\",\"0,52\",\"0,52\",\"7,07\",\"0,00\",\"4,48\",\"11,90\",\"8,79\",\"2,41\",\"1,90\",\"0,52\",\"0,17\",\"0,52\",\"0,00\",\"0,00\",\"2,59\",\"0,17\",\"1,21\",\"0,52\",\"0,00\",\"0,00\",\"0,00\",\"10,69\",\"1,72\",\"0,00\",\"1,38\",\"2,93\",\"1,38\",\"1,38\",\"0,17\",\"0,34\",\"0,34\",\"20,34\",\"1,90\",\"0,69\",\"1,21\",\"6,03\",\"1,03\",\"0,17\",\"4,14\",\"6,21\",\"1,72\",\"0,17\",\"0,52\",\"0,17\",\"1,03\",\"0,17\",\"0,17\",\"0,00\",\"0,69\",\"5,69\",\"0,52\",\"3,45\",\"1,90\",\"1,90\",\"1,55\",\"1,03\",\"0,17\",\"0,86\",\"0,17\",\"0,17\",\"0,00\",\"0,00\",\"0,00\",\"10,52\",\"5,00\",\"3,97\",\"0,52\",\"0,34\",\"0,00\",\"0,00\",\"0,69\",\"0,00\",\"0,00\",\"0,00\",\"0,00\"\\r\\nob10.txt,1,3459,\"22,03\",\"21,45\",\"71,47\",\"47,12\",\"12,89\",\"6,71\",\"0,26\",\"0,32\",\"0,20\",\"6,07\",\"3,15\",\"6,19\",\"10,84\",\"9,02\",\"0,52\",\"1,01\",\"7,00\",\"0,06\",\"3,67\",\"14,14\",\"7,17\",\"1,85\",\"1,47\",\"0,95\",\"0,09\",\"0,66\",\"0,00\",\"0,14\",\"2,72\",\"0,87\",\"1,10\",\"0,35\",\"0,00\",\"0,00\",\"0,00\",\"7,03\",\"0,06\",\"0,06\",\"0,20\",\"4,05\",\"2,98\",\"1,39\",\"0,26\",\"0,61\",\"0,20\",\"19,92\",\"2,08\",\"1,36\",\"1,10\",\"3,21\",\"0,90\",\"0,40\",\"7,14\",\"2,86\",\"2,02\",\"0,17\",\"0,32\",\"0,72\",\"1,42\",\"0,29\",\"0,17\",\"0,26\",\"1,04\",\"7,69\",\"1,36\",\"4,45\",\"2,43\",\"3,58\",\"2,11\",\"0,90\",\"0,29\",\"1,10\",\"0,35\",\"0,12\",\"0,26\",\"0,09\",\"0,00\",\"9,28\",\"4,28\",\"3,93\",\"0,40\",\"0,12\",\"0,23\",\"0,14\",\"0,00\",\"0,00\",\"0,00\",\"0,17\",\"0,00\"\\r\\nob12.txt,1,689,\"14,66\",\"22,21\",\"73,44\",\"50,07\",\"12,63\",\"7,26\",\"0,00\",\"1,16\",\"0,29\",\"6,97\",\"2,18\",\"5,37\",\"11,32\",\"8,42\",\"0,58\",\"1,45\",\"6,68\",\"0,00\",\"5,22\",\"14,66\",\"6,97\",\"3,19\",\"2,03\",\"1,60\",\"0,29\",\"0,29\",\"0,00\",\"0,29\",\"2,61\",\"0,73\",\"0,58\",\"0,15\",\"0,00\",\"0,00\",\"0,00\",\"8,42\",\"0,15\",\"0,15\",\"0,58\",\"4,93\",\"2,32\",\"2,90\",\"0,73\",\"1,31\",\"0,73\",\"19,30\",\"2,18\",\"1,02\",\"1,16\",\"3,34\",\"1,31\",\"0,73\",\"7,69\",\"1,74\",\"2,90\",\"0,44\",\"0,58\",\"0,73\",\"1,02\",\"0,00\",\"0,29\",\"0,15\",\"0,58\",\"7,84\",\"1,02\",\"5,22\",\"1,89\",\"3,34\",\"2,61\",\"0,58\",\"0,44\",\"0,44\",\"0,15\",\"0,00\",\"0,15\",\"0,00\",\"0,00\",\"11,76\",\"6,39\",\"3,19\",\"0,29\",\"0,44\",\"0,29\",\"0,15\",\"1,02\",\"0,00\",\"0,00\",\"0,00\",\"0,00\"\\r\\nob13.txt,1,592,\"21,93\",\"23,14\",\"76,35\",\"51,01\",\"13,51\",\"8,45\",\"0,17\",\"0,34\",\"0,00\",\"7,43\",\"3,55\",\"5,07\",\"10,81\",\"6,25\",\"0,00\",\"0,17\",\"5,41\",\"0,00\",\"3,72\",\"14,70\",\"9,12\",\"3,55\",\"1,18\",\"2,53\",\"0,17\",\"0,34\",\"0,00\",\"0,00\",\"1,18\",\"0,84\",\"1,18\",\"1,35\",\"0,00\",\"0,00\",\"0,00\",\"9,12\",\"0,17\",\"0,00\",\"0,68\",\"7,94\",\"3,21\",\"4,73\",\"0,68\",\"2,53\",\"1,01\",\"21,11\",\"2,53\",\"1,35\",\"1,35\",\"3,21\",\"0,84\",\"0,34\",\"8,78\",\"4,90\",\"2,36\",\"0,51\",\"0,84\",\"0,51\",\"2,20\",\"0,51\",\"1,18\",\"0,34\",\"0,51\",\"6,76\",\"1,18\",\"4,73\",\"1,18\",\"2,20\",\"1,52\",\"0,00\",\"0,00\",\"0,68\",\"0,17\",\"1,52\",\"0,00\",\"0,00\",\"0,00\",\"10,81\",\"4,39\",\"4,22\",\"0,68\",\"0,34\",\"0,17\",\"0,00\",\"1,01\",\"0,00\",\"0,00\",\"0,00\",\"0,00\"\\r\\nob14.txt,1,184,\"14,15\",\"14,13\",\"80,43\",\"53,26\",\"23,37\",\"12,50\",\"0,00\",\"0,54\",\"0,00\",\"12,50\",\"2,72\",\"10,87\",\"10,33\",\"12,50\",\"0,00\",\"0,00\",\"11,96\",\"0,00\",\"8,70\",\"5,98\",\"9,78\",\"7,07\",\"1,63\",\"0,54\",\"0,00\",\"0,00\",\"0,00\",\"0,00\",\"1,63\",\"0,00\",\"0,00\",\"0,00\",\"0,00\",\"0,00\",\"0,00\",\"11,41\",\"0,00\",\"0,00\",\"0,54\",\"2,17\",\"0,00\",\"5,43\",\"0,00\",\"0,54\",\"3,80\",\"25,00\",\"1,63\",\"0,54\",\"1,09\",\"1,63\",\"0,54\",\"1,63\",\"6,52\",\"2,72\",\"1,63\",\"0,00\",\"1,09\",\"0,00\",\"2,72\",\"0,00\",\"1,63\",\"0,54\",\"0,54\",\"5,98\",\"1,63\",\"3,26\",\"1,09\",\"0,00\",\"2,17\",\"2,17\",\"1,63\",\"0,00\",\"0,00\",\"5,43\",\"0,00\",\"0,00\",\"0,00\",\"9,24\",\"6,52\",\"0,54\",\"0,54\",\"0,00\",\"0,54\",\"0,00\",\"1,09\",\"0,00\",\"0,00\",\"0,00\",\"0,00\"\\r\\nob16.txt,1,374,\"16,26\",\"21,39\",\"69,79\",\"43,32\",\"9,36\",\"6,42\",\"1,34\",\"0,00\",\"0,53\",\"5,08\",\"0,53\",\"2,94\",\"11,76\",\"7,49\",\"0,27\",\"0,27\",\"5,88\",\"0,27\",\"3,21\",\"15,78\",\"6,15\",\"1,87\",\"1,60\",\"1,60\",\"0,27\",\"1,34\",\"0,00\",\"0,27\",\"1,34\",\"0,00\",\"0,53\",\"0,00\",\"0,00\",\"0,00\",\"0,00\",\"5,88\",\"0,53\",\"0,53\",\"0,80\",\"4,55\",\"3,21\",\"1,34\",\"0,27\",\"1,07\",\"0,27\",\"16,84\",\"2,67\",\"0,53\",\"0,80\",\"2,14\",\"0,53\",\"0,27\",\"7,22\",\"2,14\",\"2,41\",\"0,80\",\"0,53\",\"0,00\",\"1,34\",\"0,00\",\"0,00\",\"0,53\",\"1,07\",\"8,29\",\"1,60\",\"3,48\",\"3,74\",\"2,67\",\"0,80\",\"1,34\",\"0,27\",\"0,80\",\"0,80\",\"0,27\",\"0,27\",\"0,27\",\"0,00\",\"14,97\",\"5,88\",\"6,15\",\"1,07\",\"0,00\",\"0,00\",\"0,27\",\"0,53\",\"0,00\",\"0,00\",\"1,07\",\"0,00\"\\r\\nob17.txt,1,644,\"17,41\",\"23,76\",\"65,06\",\"48,14\",\"10,87\",\"5,90\",\"0,00\",\"0,00\",\"0,62\",\"5,59\",\"2,48\",\"4,97\",\"11,65\",\"7,14\",\"0,16\",\"0,16\",\"6,06\",\"0,00\",\"3,88\",\"14,29\",\"9,16\",\"2,02\",\"1,86\",\"0,47\",\"0,16\",\"0,31\",\"0,16\",\"0,16\",\"1,24\",\"0,78\",\"0,78\",\"0,31\",\"0,00\",\"0,00\",\"0,00\",\"6,52\",\"0,16\",\"0,00\",\"0,31\",\"4,35\",\"2,64\",\"1,71\",\"0,16\",\"1,24\",\"0,31\",\"19,10\",\"0,93\",\"0,78\",\"0,78\",\"4,04\",\"0,78\",\"0,00\",\"7,45\",\"4,81\",\"2,02\",\"0,00\",\"0,31\",\"0,93\",\"1,24\",\"0,47\",\"0,00\",\"0,16\",\"0,78\",\"4,97\",\"1,86\",\"2,33\",\"0,78\",\"2,17\",\"1,09\",\"0,00\",\"0,00\",\"0,78\",\"0,47\",\"0,16\",\"0,62\",\"0,00\",\"0,00\",\"9,01\",\"5,43\",\"2,95\",\"0,00\",\"0,31\",\"0,00\",\"0,31\",\"0,00\",\"0,00\",\"0,00\",\"0,00\",\"0,00\"\\r\\nob18.txt,1,653,\"14,51\",\"22,21\",\"69,53\",\"44,72\",\"8,88\",\"6,43\",\"0,46\",\"1,07\",\"0,15\",\"5,82\",\"1,53\",\"2,45\",\"12,86\",\"10,26\",\"1,38\",\"1,23\",\"7,96\",\"0,00\",\"3,98\",\"13,17\",\"8,27\",\"2,60\",\"1,23\",\"1,07\",\"0,15\",\"1,23\",\"0,00\",\"0,00\",\"3,37\",\"1,07\",\"1,84\",\"0,00\",\"0,00\",\"0,15\",\"0,00\",\"6,43\",\"0,15\",\"2,14\",\"0,31\",\"4,59\",\"1,99\",\"2,30\",\"0,31\",\"1,23\",\"0,15\",\"18,68\",\"1,68\",\"1,23\",\"0,92\",\"2,60\",\"0,61\",\"0,15\",\"6,89\",\"4,29\",\"1,84\",\"0,31\",\"0,61\",\"0,31\",\"1,53\",\"0,31\",\"0,46\",\"0,31\",\"0,77\",\"5,82\",\"1,84\",\"3,22\",\"1,68\",\"0,92\",\"0,92\",\"0,15\",\"0,15\",\"0,61\",\"0,31\",\"0,31\",\"0,00\",\"0,15\",\"0,00\",\"12,71\",\"6,28\",\"3,37\",\"0,92\",\"0,61\",\"0,61\",\"0,00\",\"0,61\",\"0,00\",\"0,00\",\"0,00\",\"0,31\"\\r\\nob19.txt,1,594,\"14,49\",\"25,76\",\"64,14\",\"45,62\",\"12,12\",\"8,08\",\"0,00\",\"0,00\",\"0,00\",\"6,90\",\"4,55\",\"4,04\",\"11,11\",\"8,25\",\"0,17\",\"0,67\",\"6,90\",\"0,00\",\"3,03\",\"12,29\",\"9,09\",\"1,18\",\"1,68\",\"0,17\",\"0,17\",\"0,34\",\"0,00\",\"0,00\",\"1,85\",\"1,68\",\"2,02\",\"1,18\",\"0,00\",\"0,00\",\"0,00\",\"8,25\",\"0,00\",\"0,00\",\"0,34\",\"3,37\",\"2,53\",\"0,67\",\"0,17\",\"0,67\",\"0,00\",\"17,34\",\"1,01\",\"0,67\",\"1,01\",\"2,69\",\"1,18\",\"0,51\",\"6,40\",\"2,19\",\"1,35\",\"0,34\",\"0,34\",\"0,34\",\"1,01\",\"0,34\",\"0,17\",\"0,00\",\"0,51\",\"5,89\",\"2,02\",\"2,19\",\"2,19\",\"2,86\",\"1,85\",\"0,67\",\"0,00\",\"0,67\",\"0,00\",\"0,00\",\"0,34\",\"0,17\",\"0,00\",\"14,81\",\"6,40\",\"6,23\",\"0,00\",\"0,51\",\"0,51\",\"0,00\",\"0,84\",\"0,00\",\"0,00\",\"0,34\",\"0,00\"\\r\\nob20.txt,1,977,\"22,20\",\"23,03\",\"66,43\",\"46,37\",\"7,57\",\"3,89\",\"0,10\",\"0,00\",\"0,10\",\"3,48\",\"1,64\",\"3,68\",\"11,26\",\"4,20\",\"0,41\",\"0,31\",\"3,28\",\"0,10\",\"3,99\",\"14,53\",\"8,90\",\"2,76\",\"1,33\",\"1,02\",\"0,10\",\"0,61\",\"0,00\",\"0,10\",\"1,33\",\"0,72\",\"1,02\",\"0,31\",\"0,00\",\"0,00\",\"0,00\",\"6,35\",\"0,10\",\"0,00\",\"0,72\",\"4,20\",\"2,97\",\"1,74\",\"0,10\",\"0,61\",\"0,31\",\"19,55\",\"0,92\",\"1,23\",\"0,41\",\"2,87\",\"1,23\",\"0,41\",\"9,72\",\"2,46\",\"1,43\",\"0,61\",\"0,00\",\"0,51\",\"1,54\",\"0,61\",\"0,10\",\"0,10\",\"0,82\",\"7,27\",\"1,02\",\"4,09\",\"2,25\",\"2,56\",\"0,92\",\"0,82\",\"0,61\",\"1,33\",\"0,41\",\"0,20\",\"0,20\",\"0,00\",\"0,00\",\"9,62\",\"4,50\",\"3,28\",\"0,51\",\"0,72\",\"0,00\",\"0,00\",\"0,31\",\"0,00\",\"0,00\",\"0,20\",\"0,10\"\\r\\nsr01.txt,1,1416,\"32,18\",\"22,95\",\"71,75\",\"46,89\",\"13,42\",\"7,20\",\"0,07\",\"0,28\",\"0,07\",\"6,99\",\"2,54\",\"6,21\",\"11,94\",\"8,55\",\"0,56\",\"1,62\",\"6,07\",\"0,00\",\"3,88\",\"14,12\",\"6,21\",\"2,05\",\"1,48\",\"1,91\",\"0,00\",\"0,56\",\"0,00\",\"0,35\",\"2,75\",\"0,92\",\"0,56\",\"0,42\",\"0,00\",\"0,00\",\"0,00\",\"8,19\",\"0,07\",\"0,21\",\"0,42\",\"4,10\",\"1,77\",\"2,26\",\"0,21\",\"0,99\",\"0,28\",\"19,00\",\"2,40\",\"1,06\",\"1,20\",\"2,05\",\"1,34\",\"0,49\",\"6,78\",\"2,33\",\"2,33\",\"0,42\",\"0,78\",\"0,42\",\"1,91\",\"0,78\",\"0,42\",\"0,14\",\"0,64\",\"8,47\",\"1,77\",\"5,30\",\"2,12\",\"1,98\",\"2,40\",\"1,62\",\"0,35\",\"0,92\",\"0,14\",\"0,28\",\"0,71\",\"0,21\",\"0,00\",\"11,23\",\"3,11\",\"7,70\",\"0,21\",\"0,00\",\"0,00\",\"0,00\",\"0,07\",\"0,00\",\"0,00\",\"0,14\",\"0,00\"\\r\\nsr02.txt,1,707,\"23,57\",\"20,51\",\"71,57\",\"46,82\",\"12,87\",\"6,65\",\"0,14\",\"0,42\",\"0,28\",\"6,22\",\"2,69\",\"6,22\",\"11,32\",\"10,04\",\"1,27\",\"1,84\",\"6,93\",\"0,00\",\"6,22\",\"11,17\",\"6,65\",\"3,82\",\"1,41\",\"1,27\",\"0,00\",\"0,85\",\"0,00\",\"0,42\",\"2,83\",\"1,13\",\"1,70\",\"0,14\",\"0,00\",\"0,00\",\"0,00\",\"8,20\",\"0,71\",\"0,14\",\"0,85\",\"3,39\",\"1,70\",\"0,85\",\"0,00\",\"0,14\",\"0,14\",\"21,92\",\"2,26\",\"1,13\",\"1,56\",\"2,26\",\"1,84\",\"1,13\",\"6,51\",\"3,39\",\"2,40\",\"0,85\",\"0,71\",\"0,71\",\"0,71\",\"0,14\",\"0,28\",\"0,00\",\"0,28\",\"11,03\",\"1,70\",\"5,09\",\"4,53\",\"3,11\",\"1,70\",\"0,42\",\"0,00\",\"0,28\",\"0,00\",\"0,14\",\"0,57\",\"0,14\",\"0,00\",\"10,89\",\"4,10\",\"5,94\",\"0,28\",\"0,14\",\"0,00\",\"0,28\",\"0,14\",\"0,00\",\"0,00\",\"0,00\",\"0,00\"\\r\\nsr03.txt,1,834,\"28,76\",\"20,98\",\"68,35\",\"47,00\",\"12,47\",\"6,47\",\"0,12\",\"0,00\",\"0,24\",\"5,88\",\"1,92\",\"6,00\",\"11,99\",\"8,63\",\"0,96\",\"2,16\",\"6,12\",\"0,00\",\"3,96\",\"15,47\",\"5,52\",\"2,16\",\"1,08\",\"2,16\",\"0,00\",\"0,48\",\"0,00\",\"0,24\",\"2,28\",\"1,44\",\"0,60\",\"0,36\",\"0,00\",\"0,00\",\"0,00\",\"7,91\",\"0,12\",\"0,00\",\"0,84\",\"2,40\",\"0,96\",\"0,84\",\"0,00\",\"0,60\",\"0,00\",\"16,79\",\"1,68\",\"0,96\",\"1,20\",\"3,12\",\"0,84\",\"0,48\",\"4,56\",\"2,04\",\"1,92\",\"0,60\",\"0,72\",\"0,00\",\"0,96\",\"0,36\",\"0,00\",\"0,00\",\"0,72\",\"7,43\",\"1,56\",\"4,92\",\"1,92\",\"2,88\",\"1,08\",\"1,20\",\"0,24\",\"0,72\",\"0,24\",\"0,00\",\"0,00\",\"0,48\",\"0,00\",\"9,95\",\"3,48\",\"6,35\",\"0,12\",\"0,00\",\"0,00\",\"0,00\",\"0,00\",\"0,00\",\"0,00\",\"0,00\",\"0,00\"\\r\\nsr04.txt,1,1623,\"25,76\",\"20,58\",\"70,30\",\"46,27\",\"13,80\",\"7,09\",\"0,80\",\"0,06\",\"0,49\",\"5,91\",\"1,97\",\"6,72\",\"12,26\",\"7,95\",\"0,74\",\"2,28\",\"4,62\",\"0,00\",\"3,20\",\"14,05\",\"5,18\",\"1,60\",\"1,42\",\"2,40\",\"0,00\",\"1,17\",\"0,06\",\"0,12\",\"2,90\",\"0,68\",\"0,80\",\"0,55\",\"0,00\",\"0,00\",\"0,00\",\"7,46\",\"0,74\",\"0,31\",\"0,37\",\"2,96\",\"1,97\",\"1,36\",\"0,18\",\"0,55\",\"0,18\",\"17,50\",\"2,65\",\"1,17\",\"0,43\",\"1,29\",\"0,55\",\"0,55\",\"6,47\",\"2,22\",\"2,46\",\"0,49\",\"0,49\",\"0,74\",\"1,23\",\"0,49\",\"0,06\",\"0,06\",\"0,68\",\"10,35\",\"1,97\",\"6,10\",\"2,77\",\"2,16\",\"2,34\",\"0,86\",\"0,12\",\"1,11\",\"0,25\",\"0,12\",\"0,06\",\"0,00\",\"0,00\",\"10,97\",\"3,70\",\"6,84\",\"0,12\",\"0,06\",\"0,18\",\"0,00\",\"0,06\",\"0,00\",\"0,00\",\"0,00\",\"0,00\"\\r\\nsr05.txt,1,1376,\"28,08\",\"23,98\",\"71,80\",\"48,55\",\"13,08\",\"7,27\",\"0,15\",\"0,07\",\"0,15\",\"7,12\",\"2,47\",\"5,81\",\"12,57\",\"7,92\",\"1,09\",\"2,25\",\"4,94\",\"0,00\",\"3,85\",\"15,26\",\"5,52\",\"1,60\",\"2,11\",\"2,62\",\"0,00\",\"0,73\",\"0,00\",\"0,07\",\"2,62\",\"0,36\",\"1,02\",\"0,44\",\"0,00\",\"0,00\",\"0,00\",\"9,59\",\"0,73\",\"0,00\",\"2,18\",\"3,63\",\"1,38\",\"1,74\",\"0,22\",\"1,09\",\"0,22\",\"17,22\",\"1,53\",\"1,02\",\"0,44\",\"1,67\",\"1,02\",\"0,80\",\"7,27\",\"2,11\",\"1,60\",\"0,22\",\"0,36\",\"0,22\",\"0,94\",\"0,15\",\"0,07\",\"0,07\",\"0,65\",\"10,32\",\"1,60\",\"6,10\",\"3,27\",\"2,03\",\"2,47\",\"0,65\",\"0,22\",\"0,73\",\"0,94\",\"0,15\",\"0,15\",\"0,00\",\"0,00\",\"10,17\",\"3,56\",\"6,32\",\"0,29\",\"0,00\",\"0,00\",\"0,00\",\"0,00\",\"0,00\",\"0,00\",\"0,00\",\"0,00\"\\r\\nsr06.txt,1,660,\"47,14\",\"18,79\",\"68,79\",\"47,73\",\"15,00\",\"8,03\",\"0,00\",\"0,15\",\"0,15\",\"7,73\",\"3,18\",\"6,97\",\"13,48\",\"9,55\",\"1,06\",\"1,52\",\"6,82\",\"0,00\",\"3,33\",\"13,48\",\"4,39\",\"1,21\",\"1,36\",\"1,67\",\"0,15\",\"0,45\",\"0,00\",\"0,00\",\"3,18\",\"0,76\",\"0,91\",\"0,61\",\"0,00\",\"0,00\",\"0,00\",\"8,18\",\"0,15\",\"0,00\",\"0,15\",\"3,18\",\"1,52\",\"1,36\",\"0,15\",\"0,45\",\"0,45\",\"17,88\",\"1,67\",\"0,76\",\"1,52\",\"3,48\",\"1,36\",\"0,30\",\"4,70\",\"2,42\",\"1,97\",\"0,15\",\"0,30\",\"0,45\",\"1,21\",\"0,00\",\"0,15\",\"0,00\",\"1,06\",\"9,70\",\"2,12\",\"5,00\",\"3,79\",\"1,21\",\"1,97\",\"0,76\",\"0,00\",\"0,30\",\"0,15\",\"0,15\",\"0,30\",\"0,00\",\"0,00\",\"8,03\",\"2,12\",\"5,30\",\"0,15\",\"0,45\",\"0,00\",\"0,00\",\"0,00\",\"0,00\",\"0,00\",\"0,00\",\"0,00\"\\r\\nsr07.txt,1,1112,\"25,86\",\"21,31\",\"72,21\",\"46,76\",\"13,22\",\"7,55\",\"0,00\",\"0,00\",\"0,36\",\"7,10\",\"2,70\",\"5,67\",\"12,95\",\"8,81\",\"0,27\",\"1,53\",\"6,47\",\"0,00\",\"2,70\",\"15,38\",\"5,67\",\"1,53\",\"0,72\",\"1,35\",\"0,09\",\"0,81\",\"0,00\",\"0,09\",\"2,16\",\"0,72\",\"2,43\",\"0,18\",\"0,00\",\"0,00\",\"0,00\",\"8,27\",\"0,18\",\"0,00\",\"0,27\",\"4,41\",\"1,08\",\"2,88\",\"0,36\",\"1,44\",\"0,36\",\"17,18\",\"1,98\",\"0,63\",\"0,90\",\"1,17\",\"1,62\",\"0,81\",\"6,56\",\"2,34\",\"2,70\",\"0,45\",\"0,99\",\"0,72\",\"2,52\",\"1,26\",\"0,27\",\"0,90\",\"0,81\",\"9,98\",\"1,98\",\"6,03\",\"2,79\",\"2,34\",\"1,44\",\"0,81\",\"0,18\",\"0,54\",\"0,27\",\"0,09\",\"0,27\",\"0,09\",\"0,00\",\"11,33\",\"3,51\",\"6,83\",\"0,36\",\"0,09\",\"0,36\",\"0,00\",\"0,00\",\"0,00\",\"0,00\",\"0,18\",\"0,00\"\\r\\nsr08.txt,1,1293,\"30,07\",\"21,35\",\"72,16\",\"47,80\",\"15,00\",\"8,28\",\"0,00\",\"0,00\",\"0,93\",\"7,89\",\"2,01\",\"6,73\",\"12,45\",\"9,36\",\"0,54\",\"1,78\",\"6,88\",\"0,00\",\"3,79\",\"13,92\",\"5,80\",\"2,01\",\"1,39\",\"1,08\",\"0,39\",\"0,39\",\"0,08\",\"0,00\",\"3,25\",\"0,85\",\"1,08\",\"0,23\",\"0,00\",\"0,15\",\"0,00\",\"8,74\",\"0,23\",\"0,08\",\"0,46\",\"3,40\",\"2,09\",\"1,31\",\"0,23\",\"0,70\",\"0,15\",\"18,02\",\"2,17\",\"1,01\",\"0,31\",\"2,63\",\"0,70\",\"0,39\",\"5,88\",\"2,63\",\"3,33\",\"0,23\",\"1,01\",\"1,47\",\"1,55\",\"0,62\",\"0,39\",\"0,15\",\"0,62\",\"8,04\",\"0,77\",\"5,10\",\"2,24\",\"1,93\",\"1,70\",\"0,54\",\"0,08\",\"0,70\",\"0,00\",\"0,46\",\"0,23\",\"0,08\",\"0,00\",\"9,98\",\"3,33\",\"5,96\",\"0,46\",\"0,08\",\"0,00\",\"0,00\",\"0,00\",\"0,00\",\"0,00\",\"0,15\",\"0,00\"\\r\\nsr09.txt,1,1126,\"20,47\",\"19,63\",\"75,58\",\"50,18\",\"12,43\",\"5,68\",\"0,62\",\"0,44\",\"0,09\",\"5,06\",\"1,78\",\"6,75\",\"11,01\",\"9,15\",\"0,53\",\"2,31\",\"5,68\",\"0,00\",\"4,26\",\"15,36\",\"7,19\",\"1,69\",\"1,78\",\"2,93\",\"0,09\",\"1,24\",\"0,00\",\"0,27\",\"2,22\",\"0,89\",\"1,42\",\"0,71\",\"0,00\",\"0,00\",\"0,00\",\"8,35\",\"0,89\",\"0,00\",\"0,71\",\"3,82\",\"1,95\",\"1,42\",\"0,00\",\"0,98\",\"0,27\",\"21,94\",\"2,93\",\"1,78\",\"1,33\",\"3,91\",\"1,60\",\"0,53\",\"8,08\",\"2,31\",\"1,87\",\"0,44\",\"0,44\",\"0,62\",\"1,60\",\"0,44\",\"0,53\",\"0,36\",\"0,62\",\"10,30\",\"2,75\",\"4,53\",\"4,00\",\"1,87\",\"1,42\",\"1,07\",\"1,07\",\"0,36\",\"0,36\",\"0,09\",\"0,00\",\"0,09\",\"0,00\",\"12,26\",\"3,46\",\"6,93\",\"0,27\",\"0,09\",\"1,51\",\"0,00\",\"0,00\",\"0,00\",\"0,00\",\"0,00\",\"0,00\"\\r\\nsr10.txt,1,1102,\"26,24\",\"20,69\",\"70,96\",\"47,01\",\"13,34\",\"7,99\",\"0,00\",\"0,09\",\"0,18\",\"7,53\",\"2,81\",\"5,35\",\"13,79\",\"7,71\",\"0,73\",\"1,72\",\"5,17\",\"0,00\",\"2,36\",\"15,43\",\"5,17\",\"1,72\",\"1,00\",\"1,81\",\"0,09\",\"0,45\",\"0,09\",\"0,18\",\"2,27\",\"1,00\",\"0,45\",\"1,00\",\"0,00\",\"0,00\",\"0,00\",\"8,44\",\"0,45\",\"0,00\",\"0,09\",\"2,27\",\"0,73\",\"1,54\",\"0,00\",\"0,82\",\"0,27\",\"16,33\",\"2,09\",\"1,18\",\"0,45\",\"1,63\",\"1,36\",\"0,00\",\"6,53\",\"2,36\",\"2,54\",\"1,27\",\"0,54\",\"0,91\",\"1,09\",\"0,82\",\"0,00\",\"0,18\",\"0,27\",\"9,07\",\"1,63\",\"5,54\",\"2,54\",\"2,00\",\"0,73\",\"2,00\",\"0,45\",\"0,64\",\"0,09\",\"1,00\",\"0,45\",\"0,00\",\"0,00\",\"11,16\",\"3,81\",\"6,44\",\"0,64\",\"0,00\",\"0,09\",\"0,00\",\"0,09\",\"0,00\",\"0,00\",\"0,00\",\"0,09\"\\r\\nsr11.txt,1,708,\"23,60\",\"20,34\",\"71,47\",\"46,89\",\"12,71\",\"6,50\",\"0,14\",\"0,42\",\"0,28\",\"6,07\",\"2,68\",\"6,21\",\"11,44\",\"10,03\",\"1,27\",\"1,84\",\"6,92\",\"0,00\",\"6,21\",\"11,16\",\"6,64\",\"3,81\",\"1,41\",\"1,41\",\"0,00\",\"0,85\",\"0,00\",\"0,42\",\"2,82\",\"1,13\",\"1,69\",\"0,14\",\"0,00\",\"0,00\",\"0,00\",\"8,05\",\"0,71\",\"0,14\",\"0,85\",\"3,25\",\"1,55\",\"0,85\",\"0,00\",\"0,14\",\"0,14\",\"21,75\",\"2,26\",\"1,13\",\"1,55\",\"2,26\",\"1,84\",\"1,13\",\"6,50\",\"3,39\",\"2,40\",\"0,85\",\"0,71\",\"0,71\",\"0,71\",\"0,14\",\"0,28\",\"0,00\",\"0,28\",\"11,02\",\"1,69\",\"5,08\",\"4,52\",\"3,11\",\"1,69\",\"0,42\",\"0,00\",\"0,28\",\"0,00\",\"0,14\",\"0,56\",\"0,14\",\"0,00\",\"10,88\",\"4,10\",\"5,93\",\"0,28\",\"0,14\",\"0,00\",\"0,28\",\"0,14\",\"0,00\",\"0,00\",\"0,00\",\"0,00\"\\r\\nsr12.txt,1,1305,\"36,25\",\"21,76\",\"71,72\",\"48,58\",\"14,94\",\"8,51\",\"0,15\",\"0,00\",\"0,23\",\"7,89\",\"2,61\",\"6,44\",\"13,18\",\"7,97\",\"1,07\",\"2,61\",\"4,67\",\"0,00\",\"4,29\",\"15,02\",\"5,13\",\"2,07\",\"1,15\",\"2,15\",\"0,08\",\"0,46\",\"0,00\",\"0,23\",\"2,22\",\"0,84\",\"0,84\",\"0,38\",\"0,00\",\"0,00\",\"0,00\",\"8,05\",\"0,38\",\"0,15\",\"0,23\",\"2,61\",\"1,84\",\"0,77\",\"0,08\",\"0,38\",\"0,08\",\"17,93\",\"1,69\",\"0,77\",\"0,84\",\"1,99\",\"0,84\",\"0,23\",\"5,52\",\"2,15\",\"2,53\",\"0,38\",\"1,00\",\"0,15\",\"1,46\",\"0,69\",\"0,00\",\"0,00\",\"0,84\",\"8,74\",\"1,61\",\"4,67\",\"3,14\",\"3,14\",\"2,07\",\"0,61\",\"0,23\",\"1,38\",\"0,15\",\"0,00\",\"0,31\",\"0,00\",\"0,00\",\"8,81\",\"2,84\",\"5,82\",\"0,00\",\"0,00\",\"0,00\",\"0,00\",\"0,00\",\"0,00\",\"0,00\",\"0,15\",\"0,00\"\\r\\nsr13.txt,1,1298,\"27,62\",\"24,35\",\"69,72\",\"47,15\",\"14,56\",\"9,63\",\"0,08\",\"0,08\",\"0,31\",\"9,32\",\"3,24\",\"4,93\",\"13,87\",\"8,01\",\"0,85\",\"1,23\",\"5,55\",\"0,00\",\"3,00\",\"14,79\",\"5,32\",\"1,08\",\"1,39\",\"2,31\",\"0,08\",\"1,00\",\"0,00\",\"0,08\",\"3,24\",\"0,39\",\"0,69\",\"0,31\",\"0,00\",\"0,08\",\"0,00\",\"7,70\",\"0,15\",\"0,00\",\"0,31\",\"3,24\",\"2,00\",\"1,16\",\"0,23\",\"0,62\",\"0,15\",\"16,72\",\"2,39\",\"1,31\",\"0,46\",\"3,00\",\"0,62\",\"0,31\",\"5,62\",\"2,08\",\"2,47\",\"0,39\",\"0,62\",\"0,39\",\"1,69\",\"0,31\",\"0,39\",\"0,08\",\"1,00\",\"9,24\",\"1,31\",\"6,16\",\"2,62\",\"2,08\",\"1,23\",\"0,31\",\"0,15\",\"0,69\",\"0,15\",\"0,00\",\"0,15\",\"0,00\",\"0,00\",\"9,40\",\"3,62\",\"5,39\",\"0,39\",\"0,00\",\"0,00\",\"0,00\",\"0,00\",\"0,00\",\"0,00\",\"0,00\",\"0,00\"\\r\\nsr14.txt,1,1331,\"28,93\",\"22,24\",\"73,25\",\"47,78\",\"15,33\",\"7,66\",\"0,23\",\"0,45\",\"0,08\",\"7,44\",\"2,40\",\"7,66\",\"11,65\",\"10,59\",\"1,13\",\"2,10\",\"8,04\",\"0,00\",\"3,31\",\"13,15\",\"5,79\",\"1,13\",\"1,43\",\"1,95\",\"0,00\",\"0,68\",\"0,00\",\"0,38\",\"3,31\",\"1,05\",\"1,80\",\"0,23\",\"0,00\",\"0,00\",\"0,00\",\"8,87\",\"0,23\",\"0,00\",\"0,45\",\"2,63\",\"1,05\",\"1,05\",\"0,15\",\"0,60\",\"0,15\",\"21,49\",\"2,25\",\"1,50\",\"0,98\",\"1,58\",\"1,88\",\"0,23\",\"7,14\",\"1,80\",\"2,18\",\"0,53\",\"0,75\",\"0,30\",\"1,20\",\"0,45\",\"0,15\",\"0,08\",\"0,68\",\"10,74\",\"1,95\",\"6,46\",\"3,23\",\"2,25\",\"1,20\",\"0,68\",\"0,23\",\"0,45\",\"0,23\",\"0,08\",\"0,30\",\"0,08\",\"0,00\",\"9,47\",\"3,23\",\"5,63\",\"0,30\",\"0,00\",\"0,30\",\"0,00\",\"0,00\",\"0,00\",\"0,00\",\"0,00\",\"0,00\"\\r\\nsr15.txt,1,1224,\"21,10\",\"17,73\",\"72,39\",\"46,90\",\"14,30\",\"7,84\",\"0,33\",\"0,25\",\"0,49\",\"7,43\",\"2,04\",\"6,45\",\"12,66\",\"9,23\",\"0,49\",\"1,80\",\"6,78\",\"0,00\",\"2,78\",\"14,79\",\"5,07\",\"1,14\",\"1,31\",\"3,27\",\"0,08\",\"1,47\",\"0,00\",\"0,57\",\"3,35\",\"0,41\",\"1,72\",\"0,49\",\"0,00\",\"0,00\",\"0,00\",\"8,50\",\"0,65\",\"0,16\",\"0,98\",\"3,02\",\"1,88\",\"0,82\",\"0,16\",\"0,41\",\"0,08\",\"18,14\",\"2,70\",\"0,98\",\"0,57\",\"1,63\",\"0,90\",\"0,49\",\"5,88\",\"1,80\",\"2,70\",\"0,65\",\"0,90\",\"0,33\",\"1,06\",\"0,16\",\"0,25\",\"0,16\",\"0,57\",\"8,66\",\"1,55\",\"4,74\",\"3,10\",\"2,86\",\"1,31\",\"0,82\",\"0,49\",\"0,41\",\"0,25\",\"0,25\",\"0,08\",\"0,08\",\"0,00\",\"10,87\",\"4,74\",\"5,15\",\"0,65\",\"0,08\",\"0,00\",\"0,08\",\"0,00\",\"0,00\",\"0,00\",\"0,16\",\"0,00\"\\r\\nsr16.txt,1,1061,\"31,21\",\"21,21\",\"71,91\",\"45,71\",\"15,83\",\"8,01\",\"0,28\",\"0,57\",\"0,47\",\"7,45\",\"2,45\",\"7,82\",\"9,80\",\"11,31\",\"1,04\",\"1,79\",\"8,20\",\"0,00\",\"2,92\",\"13,95\",\"5,00\",\"1,32\",\"1,13\",\"1,79\",\"0,09\",\"0,57\",\"0,00\",\"0,28\",\"3,68\",\"0,38\",\"1,13\",\"0,38\",\"0,00\",\"0,00\",\"0,00\",\"9,52\",\"0,66\",\"0,47\",\"0,28\",\"3,20\",\"2,07\",\"0,94\",\"0,09\",\"0,19\",\"0,57\",\"19,98\",\"3,11\",\"1,51\",\"0,66\",\"1,89\",\"0,94\",\"0,38\",\"6,41\",\"1,98\",\"3,20\",\"0,57\",\"0,94\",\"0,47\",\"0,85\",\"0,19\",\"0,00\",\"0,00\",\"0,66\",\"8,20\",\"1,41\",\"5,56\",\"1,70\",\"3,02\",\"2,54\",\"0,57\",\"0,38\",\"1,41\",\"0,09\",\"0,28\",\"0,38\",\"0,09\",\"0,00\",\"9,71\",\"3,20\",\"6,41\",\"0,09\",\"0,00\",\"0,00\",\"0,00\",\"0,00\",\"0,00\",\"0,00\",\"0,00\",\"0,00\"\\r\\nsr17.txt,1,4613,\"18,45\",\"19,45\",\"73,42\",\"48,10\",\"15,54\",\"8,63\",\"0,43\",\"0,65\",\"0,76\",\"7,35\",\"2,23\",\"6,92\",\"10,45\",\"11,03\",\"0,67\",\"2,08\",\"7,80\",\"0,02\",\"4,12\",\"13,55\",\"5,92\",\"2,02\",\"1,63\",\"2,19\",\"0,02\",\"1,02\",\"0,09\",\"0,33\",\"3,47\",\"1,21\",\"1,45\",\"0,37\",\"0,00\",\"0,43\",\"0,00\",\"9,30\",\"0,43\",\"0,07\",\"0,74\",\"2,67\",\"1,21\",\"1,26\",\"0,17\",\"0,74\",\"0,26\",\"20,10\",\"2,41\",\"1,41\",\"1,17\",\"2,43\",\"1,08\",\"0,26\",\"6,11\",\"2,82\",\"2,45\",\"0,76\",\"0,74\",\"0,43\",\"0,72\",\"0,30\",\"0,09\",\"0,07\",\"0,37\",\"9,84\",\"2,41\",\"4,79\",\"3,40\",\"2,75\",\"2,43\",\"0,61\",\"0,41\",\"0,69\",\"0,07\",\"0,17\",\"0,28\",\"0,09\",\"0,00\",\"11,99\",\"5,27\",\"5,92\",\"0,20\",\"0,02\",\"0,24\",\"0,00\",\"0,09\",\"0,00\",\"0,00\",\"0,22\",\"0,04\"\\r\\nsr18.txt,1,1216,\"25,87\",\"21,79\",\"69,16\",\"46,71\",\"11,27\",\"6,83\",\"0,33\",\"0,41\",\"0,00\",\"6,41\",\"1,81\",\"4,44\",\"11,76\",\"8,88\",\"0,66\",\"2,38\",\"4,85\",\"0,00\",\"3,45\",\"16,61\",\"5,51\",\"1,48\",\"1,81\",\"3,04\",\"0,00\",\"1,97\",\"0,00\",\"0,00\",\"2,96\",\"0,66\",\"0,99\",\"0,66\",\"0,00\",\"0,00\",\"0,00\",\"7,32\",\"0,08\",\"0,25\",\"0,82\",\"2,55\",\"1,32\",\"1,23\",\"0,16\",\"0,41\",\"0,58\",\"15,54\",\"2,14\",\"0,74\",\"0,33\",\"1,48\",\"1,15\",\"0,33\",\"6,25\",\"2,80\",\"2,96\",\"1,32\",\"0,49\",\"0,33\",\"2,55\",\"0,90\",\"0,16\",\"0,25\",\"0,90\",\"9,21\",\"1,23\",\"5,18\",\"3,12\",\"1,32\",\"1,32\",\"0,66\",\"0,33\",\"0,33\",\"0,25\",\"0,25\",\"0,16\",\"0,00\",\"0,00\",\"11,60\",\"3,78\",\"7,07\",\"0,25\",\"0,41\",\"0,08\",\"0,00\",\"0,00\",\"0,00\",\"0,00\",\"0,00\",\"0,00\"\\r\\nsr19.txt,1,34676,\"17,12\",\"19,27\",\"71,80\",\"47,69\",\"14,06\",\"9,05\",\"1,07\",\"0,25\",\"0,74\",\"7,60\",\"2,90\",\"5,01\",\"10,93\",\"8,92\",\"0,73\",\"3,25\",\"4,40\",\"0,00\",\"3,89\",\"15,06\",\"5,78\",\"1,53\",\"1,70\",\"2,52\",\"0,09\",\"1,58\",\"0,04\",\"0,11\",\"3,05\",\"0,63\",\"0,95\",\"0,35\",\"0,00\",\"0,17\",\"0,00\",\"10,03\",\"0,89\",\"0,19\",\"0,78\",\"2,51\",\"1,31\",\"1,06\",\"0,19\",\"0,49\",\"0,19\",\"17,19\",\"1,77\",\"0,79\",\"0,59\",\"1,85\",\"1,35\",\"0,48\",\"6,75\",\"2,06\",\"2,71\",\"0,84\",\"0,92\",\"0,41\",\"1,44\",\"0,54\",\"0,33\",\"0,18\",\"0,56\",\"9,05\",\"1,88\",\"4,52\",\"3,23\",\"2,40\",\"1,49\",\"0,79\",\"0,74\",\"0,48\",\"0,15\",\"0,15\",\"0,22\",\"0,05\",\"0,00\",\"13,79\",\"5,78\",\"6,12\",\"0,33\",\"0,03\",\"0,17\",\"0,09\",\"0,04\",\"1,12\",\"0,06\",\"0,03\",\"0,01\"\\r\\nsr20.txt,1,36619,\"16,69\",\"18,87\",\"71,46\",\"47,66\",\"14,02\",\"9,27\",\"1,24\",\"0,27\",\"0,92\",\"7,62\",\"2,64\",\"4,75\",\"10,95\",\"9,12\",\"0,81\",\"3,59\",\"4,36\",\"0,00\",\"3,99\",\"15,24\",\"5,85\",\"1,62\",\"1,55\",\"2,34\",\"0,07\",\"1,62\",\"0,06\",\"0,16\",\"3,23\",\"0,55\",\"0,84\",\"0,32\",\"0,01\",\"0,19\",\"0,00\",\"9,67\",\"0,59\",\"0,12\",\"0,48\",\"2,69\",\"1,52\",\"1,11\",\"0,19\",\"0,43\",\"0,25\",\"16,80\",\"1,76\",\"0,92\",\"0,62\",\"1,82\",\"1,26\",\"0,39\",\"6,66\",\"2,10\",\"3,00\",\"0,69\",\"1,28\",\"0,44\",\"1,58\",\"0,52\",\"0,31\",\"0,16\",\"0,72\",\"9,43\",\"2,12\",\"4,62\",\"3,32\",\"2,21\",\"1,66\",\"0,89\",\"0,58\",\"0,54\",\"0,17\",\"0,19\",\"0,22\",\"0,13\",\"0,00\",\"14,08\",\"6,01\",\"6,11\",\"0,40\",\"0,01\",\"0,20\",\"0,05\",\"0,04\",\"1,20\",\"0,04\",\"0,01\",\"0,02\"\\r\\nvm01.txt,1,358,\"17,05\",\"18,99\",\"71,23\",\"45,53\",\"15,92\",\"9,22\",\"1,68\",\"0,00\",\"1,12\",\"5,31\",\"3,91\",\"6,70\",\"12,29\",\"10,89\",\"0,84\",\"0,28\",\"10,61\",\"0,00\",\"1,96\",\"11,45\",\"4,75\",\"0,56\",\"2,23\",\"0,28\",\"0,00\",\"1,68\",\"0,56\",\"0,00\",\"2,23\",\"1,68\",\"1,68\",\"0,56\",\"0,00\",\"1,12\",\"0,00\",\"12,57\",\"0,00\",\"0,28\",\"0,56\",\"3,91\",\"3,91\",\"1,40\",\"0,00\",\"0,28\",\"0,56\",\"19,55\",\"2,23\",\"1,40\",\"1,68\",\"2,51\",\"1,12\",\"0,28\",\"5,31\",\"1,12\",\"0,84\",\"0,28\",\"0,28\",\"0,00\",\"0,84\",\"0,28\",\"0,00\",\"0,56\",\"0,28\",\"7,82\",\"1,12\",\"5,03\",\"2,23\",\"2,79\",\"2,23\",\"1,96\",\"0,00\",\"1,40\",\"0,00\",\"1,12\",\"0,28\",\"0,00\",\"0,00\",\"13,41\",\"4,47\",\"6,42\",\"0,56\",\"0,00\",\"1,40\",\"0,00\",\"0,00\",\"0,00\",\"0,00\",\"0,56\",\"0,00\"\\r\\nvm02.txt,1,923,\"34,19\",\"24,16\",\"74,54\",\"46,37\",\"13,43\",\"9,10\",\"0,65\",\"0,00\",\"0,11\",\"8,23\",\"1,95\",\"4,33\",\"16,25\",\"8,45\",\"0,98\",\"1,73\",\"5,85\",\"0,00\",\"2,49\",\"15,49\",\"3,79\",\"1,84\",\"1,30\",\"1,63\",\"0,00\",\"0,76\",\"0,00\",\"0,11\",\"2,71\",\"1,08\",\"0,76\",\"0,33\",\"0,11\",\"0,00\",\"0,00\",\"7,69\",\"0,54\",\"0,11\",\"0,76\",\"3,68\",\"2,17\",\"1,95\",\"0,00\",\"1,52\",\"0,11\",\"16,25\",\"1,84\",\"0,87\",\"0,76\",\"1,63\",\"0,98\",\"0,33\",\"6,07\",\"1,52\",\"1,73\",\"0,54\",\"0,33\",\"0,22\",\"0,76\",\"0,00\",\"0,43\",\"0,00\",\"0,33\",\"8,13\",\"0,98\",\"5,53\",\"2,06\",\"5,74\",\"2,38\",\"0,98\",\"0,22\",\"0,00\",\"0,11\",\"0,11\",\"0,22\",\"0,11\",\"0,00\",\"8,88\",\"2,93\",\"4,98\",\"0,33\",\"0,54\",\"0,11\",\"0,00\",\"0,00\",\"0,00\",\"0,00\",\"0,00\",\"0,00\"\\r\\nvm03.txt,1,274,\"30,44\",\"24,09\",\"71,17\",\"44,53\",\"13,50\",\"6,93\",\"0,73\",\"0,36\",\"0,73\",\"6,20\",\"2,55\",\"6,57\",\"8,39\",\"9,12\",\"1,46\",\"2,19\",\"6,57\",\"0,00\",\"4,38\",\"14,23\",\"5,84\",\"1,82\",\"1,09\",\"1,09\",\"0,00\",\"0,73\",\"0,00\",\"0,00\",\"4,01\",\"0,00\",\"0,00\",\"0,36\",\"0,00\",\"0,00\",\"0,00\",\"9,12\",\"0,00\",\"0,00\",\"0,00\",\"4,01\",\"2,19\",\"1,82\",\"0,36\",\"1,09\",\"0,00\",\"18,98\",\"1,46\",\"0,36\",\"0,73\",\"2,92\",\"1,46\",\"0,00\",\"6,57\",\"1,46\",\"5,47\",\"0,36\",\"1,09\",\"2,92\",\"2,19\",\"0,73\",\"0,36\",\"0,00\",\"1,09\",\"5,84\",\"1,46\",\"3,28\",\"1,82\",\"3,65\",\"1,46\",\"0,73\",\"1,46\",\"1,09\",\"1,09\",\"0,00\",\"0,00\",\"0,00\",\"0,00\",\"17,88\",\"3,28\",\"6,20\",\"0,00\",\"0,00\",\"0,00\",\"0,00\",\"0,00\",\"8,39\",\"0,00\",\"0,00\",\"0,00\"\\r\\nvm04.txt,1,139,\"17,38\",\"23,74\",\"74,10\",\"42,45\",\"12,95\",\"5,04\",\"0,00\",\"0,00\",\"0,00\",\"5,04\",\"2,16\",\"7,91\",\"15,11\",\"14,39\",\"2,88\",\"5,04\",\"8,63\",\"0,00\",\"2,88\",\"10,07\",\"5,04\",\"0,00\",\"0,00\",\"2,88\",\"0,00\",\"2,16\",\"0,00\",\"0,00\",\"5,04\",\"0,72\",\"4,32\",\"0,72\",\"0,00\",\"0,00\",\"0,00\",\"7,91\",\"1,44\",\"0,00\",\"0,00\",\"0,00\",\"0,00\",\"0,00\",\"0,00\",\"0,00\",\"0,00\",\"21,58\",\"2,88\",\"0,72\",\"0,72\",\"2,88\",\"1,44\",\"0,72\",\"6,47\",\"1,44\",\"4,32\",\"0,00\",\"1,44\",\"1,44\",\"1,44\",\"0,72\",\"0,00\",\"0,00\",\"0,72\",\"4,32\",\"0,72\",\"2,16\",\"2,88\",\"4,32\",\"5,04\",\"0,00\",\"0,00\",\"0,00\",\"0,72\",\"0,00\",\"0,00\",\"0,00\",\"0,00\",\"21,58\",\"5,76\",\"4,32\",\"0,00\",\"0,00\",\"0,00\",\"0,00\",\"0,00\",\"11,51\",\"0,00\",\"0,00\",\"0,00\"\\r\\nvm05.txt,1,511,\"13,81\",\"15,66\",\"74,17\",\"46,77\",\"14,29\",\"9,20\",\"3,13\",\"0,20\",\"0,59\",\"5,28\",\"1,17\",\"5,09\",\"11,94\",\"12,72\",\"0,59\",\"3,33\",\"8,41\",\"0,00\",\"5,68\",\"13,11\",\"5,09\",\"1,76\",\"2,15\",\"1,17\",\"0,00\",\"2,74\",\"0,00\",\"0,59\",\"3,52\",\"0,78\",\"1,96\",\"0,39\",\"0,00\",\"0,39\",\"0,00\",\"7,83\",\"0,00\",\"0,59\",\"0,98\",\"2,94\",\"1,57\",\"1,17\",\"0,20\",\"0,59\",\"0,39\",\"18,98\",\"2,94\",\"0,98\",\"1,57\",\"2,15\",\"0,78\",\"0,78\",\"4,89\",\"1,37\",\"4,31\",\"1,57\",\"0,98\",\"0,00\",\"2,54\",\"0,20\",\"1,37\",\"0,00\",\"1,17\",\"11,35\",\"2,35\",\"5,09\",\"4,31\",\"1,17\",\"1,17\",\"0,98\",\"0,39\",\"0,59\",\"0,00\",\"0,20\",\"0,00\",\"0,20\",\"0,00\",\"13,50\",\"7,24\",\"5,09\",\"0,39\",\"0,00\",\"0,59\",\"0,20\",\"0,00\",\"0,00\",\"0,00\",\"0,00\",\"0,00\"\\r\\nvm06.txt,1,166,\"18,44\",\"21,69\",\"79,52\",\"46,99\",\"13,86\",\"6,02\",\"0,60\",\"0,00\",\"0,00\",\"5,42\",\"1,81\",\"7,83\",\"13,86\",\"12,65\",\"1,81\",\"2,41\",\"9,64\",\"0,00\",\"4,82\",\"9,64\",\"6,02\",\"3,01\",\"2,41\",\"2,41\",\"0,60\",\"3,01\",\"0,00\",\"0,60\",\"3,61\",\"0,60\",\"1,20\",\"0,00\",\"0,00\",\"0,00\",\"0,00\",\"7,83\",\"0,60\",\"0,60\",\"1,81\",\"4,22\",\"2,41\",\"1,81\",\"0,00\",\"0,00\",\"0,00\",\"21,69\",\"1,81\",\"0,60\",\"1,20\",\"3,61\",\"1,81\",\"0,60\",\"3,61\",\"3,01\",\"2,41\",\"1,20\",\"1,20\",\"0,00\",\"1,20\",\"0,60\",\"0,60\",\"0,00\",\"0,60\",\"9,64\",\"4,22\",\"3,61\",\"1,81\",\"4,22\",\"5,42\",\"1,81\",\"0,00\",\"1,81\",\"0,00\",\"1,20\",\"0,60\",\"0,00\",\"0,00\",\"8,43\",\"5,42\",\"2,41\",\"0,00\",\"0,60\",\"0,00\",\"0,00\",\"0,00\",\"0,00\",\"0,00\",\"0,00\",\"0,00\"\\r\\nvm07.txt,1,227,\"17,46\",\"14,54\",\"77,09\",\"48,46\",\"15,86\",\"11,01\",\"0,44\",\"0,00\",\"0,44\",\"9,69\",\"4,85\",\"4,85\",\"15,86\",\"16,74\",\"0,88\",\"1,32\",\"13,22\",\"0,00\",\"3,08\",\"12,78\",\"4,41\",\"0,88\",\"1,32\",\"1,32\",\"0,44\",\"0,44\",\"0,00\",\"0,00\",\"3,52\",\"0,44\",\"1,76\",\"0,44\",\"0,00\",\"0,00\",\"0,00\",\"13,66\",\"0,00\",\"0,00\",\"0,88\",\"6,17\",\"2,64\",\"3,08\",\"0,00\",\"2,20\",\"0,44\",\"17,18\",\"3,52\",\"0,88\",\"1,32\",\"2,20\",\"0,88\",\"0,44\",\"4,85\",\"0,44\",\"3,08\",\"0,00\",\"0,88\",\"1,32\",\"0,88\",\"0,44\",\"0,00\",\"0,44\",\"0,44\",\"7,49\",\"1,32\",\"3,08\",\"3,08\",\"2,64\",\"2,20\",\"1,76\",\"0,00\",\"0,44\",\"0,00\",\"0,00\",\"0,00\",\"0,44\",\"0,00\",\"17,18\",\"6,17\",\"3,96\",\"0,88\",\"0,00\",\"0,88\",\"0,00\",\"3,96\",\"0,00\",\"0,00\",\"0,00\",\"1,32\"\\r\\nvm08.txt,1,615,\"51,25\",\"26,18\",\"65,37\",\"44,39\",\"11,71\",\"7,64\",\"0,00\",\"0,00\",\"0,33\",\"7,64\",\"2,60\",\"4,07\",\"13,98\",\"5,85\",\"0,33\",\"1,79\",\"3,74\",\"0,00\",\"1,79\",\"15,12\",\"5,04\",\"0,81\",\"0,33\",\"2,76\",\"0,00\",\"0,33\",\"0,00\",\"0,00\",\"1,63\",\"0,16\",\"0,81\",\"0,33\",\"0,00\",\"0,00\",\"0,00\",\"7,80\",\"0,16\",\"0,00\",\"0,00\",\"3,25\",\"1,14\",\"1,79\",\"0,16\",\"0,81\",\"0,33\",\"14,96\",\"1,14\",\"1,46\",\"0,49\",\"1,14\",\"0,65\",\"0,81\",\"6,50\",\"1,46\",\"1,30\",\"0,49\",\"0,33\",\"0,00\",\"1,14\",\"0,33\",\"0,16\",\"0,00\",\"0,33\",\"5,20\",\"0,98\",\"4,23\",\"0,33\",\"2,11\",\"0,81\",\"1,63\",\"0,49\",\"2,11\",\"0,81\",\"0,33\",\"0,33\",\"0,00\",\"0,00\",\"7,64\",\"1,95\",\"5,20\",\"0,16\",\"0,00\",\"0,00\",\"0,00\",\"0,16\",\"0,16\",\"0,00\",\"0,00\",\"0,00\"\\r\\nvm09.txt,1,335,\"33,50\",\"22,99\",\"76,42\",\"49,55\",\"16,72\",\"12,54\",\"2,39\",\"0,30\",\"0,30\",\"9,85\",\"2,09\",\"4,18\",\"12,54\",\"8,96\",\"1,19\",\"2,69\",\"5,37\",\"0,00\",\"3,88\",\"14,63\",\"6,87\",\"0,90\",\"0,90\",\"2,99\",\"0,00\",\"1,79\",\"0,00\",\"0,30\",\"2,09\",\"1,19\",\"1,19\",\"0,30\",\"0,00\",\"0,00\",\"0,00\",\"8,06\",\"0,30\",\"0,30\",\"0,30\",\"3,28\",\"1,49\",\"1,49\",\"0,00\",\"0,90\",\"0,00\",\"17,61\",\"3,88\",\"1,79\",\"1,79\",\"2,09\",\"0,30\",\"0,90\",\"4,78\",\"1,79\",\"2,39\",\"0,30\",\"1,49\",\"0,60\",\"1,19\",\"0,30\",\"0,90\",\"0,00\",\"0,30\",\"8,66\",\"2,39\",\"3,88\",\"4,48\",\"1,49\",\"1,49\",\"1,79\",\"0,00\",\"1,19\",\"0,00\",\"0,60\",\"0,30\",\"0,00\",\"0,00\",\"7,46\",\"2,99\",\"2,69\",\"0,60\",\"0,00\",\"0,00\",\"0,00\",\"0,00\",\"0,00\",\"0,00\",\"1,19\",\"0,00\"\\r\\nvm10.txt,1,432,\"25,41\",\"13,43\",\"74,07\",\"51,39\",\"18,52\",\"12,73\",\"4,17\",\"0,00\",\"0,69\",\"8,10\",\"3,24\",\"5,79\",\"11,11\",\"9,72\",\"0,46\",\"2,78\",\"6,48\",\"0,00\",\"5,32\",\"13,66\",\"6,94\",\"0,69\",\"1,62\",\"1,62\",\"0,23\",\"2,08\",\"0,00\",\"0,00\",\"3,01\",\"0,00\",\"0,93\",\"0,00\",\"0,00\",\"0,46\",\"0,00\",\"8,80\",\"0,69\",\"0,00\",\"0,69\",\"2,78\",\"2,55\",\"0,23\",\"0,00\",\"0,23\",\"0,00\",\"20,60\",\"3,01\",\"0,93\",\"0,93\",\"2,31\",\"1,16\",\"0,00\",\"7,41\",\"1,85\",\"5,32\",\"0,46\",\"0,69\",\"3,70\",\"3,24\",\"1,85\",\"0,69\",\"0,00\",\"1,16\",\"10,65\",\"2,08\",\"5,32\",\"3,47\",\"3,24\",\"2,55\",\"0,93\",\"0,23\",\"0,23\",\"0,00\",\"0,00\",\"0,46\",\"0,23\",\"0,00\",\"9,26\",\"3,94\",\"5,09\",\"0,00\",\"0,00\",\"0,23\",\"0,00\",\"0,00\",\"0,00\",\"0,00\",\"0,00\",\"0,00\"\\r\\nvm11.txt,1,325,\"23,21\",\"19,69\",\"75,38\",\"44,62\",\"12,92\",\"8,31\",\"0,31\",\"0,31\",\"1,85\",\"6,15\",\"1,23\",\"4,62\",\"11,69\",\"6,77\",\"0,92\",\"1,54\",\"5,23\",\"0,00\",\"2,46\",\"16,62\",\"3,38\",\"0,62\",\"1,54\",\"3,38\",\"1,23\",\"0,92\",\"0,00\",\"0,31\",\"1,85\",\"1,23\",\"0,62\",\"0,31\",\"0,00\",\"1,85\",\"0,00\",\"10,15\",\"0,62\",\"0,00\",\"0,31\",\"6,15\",\"3,69\",\"2,77\",\"0,31\",\"2,46\",\"0,00\",\"12,92\",\"1,54\",\"0,31\",\"1,54\",\"2,46\",\"0,92\",\"0,31\",\"5,85\",\"0,62\",\"2,46\",\"0,62\",\"0,92\",\"0,31\",\"0,92\",\"0,31\",\"0,00\",\"0,00\",\"0,62\",\"12,31\",\"1,85\",\"7,69\",\"2,77\",\"3,08\",\"1,54\",\"2,77\",\"1,54\",\"1,23\",\"0,31\",\"0,00\",\"0,62\",\"0,00\",\"0,00\",\"17,54\",\"5,23\",\"6,15\",\"0,62\",\"0,31\",\"0,00\",\"0,00\",\"0,00\",\"4,92\",\"0,00\",\"0,00\",\"0,31\"\\r\\nvm12.txt,1,429,\"30,64\",\"23,78\",\"70,63\",\"44,29\",\"11,19\",\"6,29\",\"0,00\",\"0,23\",\"0,93\",\"6,29\",\"1,17\",\"4,90\",\"12,35\",\"9,79\",\"0,93\",\"2,10\",\"7,23\",\"0,00\",\"3,50\",\"14,92\",\"5,36\",\"0,23\",\"1,17\",\"0,47\",\"0,00\",\"0,93\",\"0,00\",\"0,23\",\"4,20\",\"0,47\",\"1,17\",\"0,00\",\"0,00\",\"0,00\",\"0,00\",\"6,53\",\"0,23\",\"0,47\",\"1,17\",\"3,73\",\"1,40\",\"1,86\",\"0,47\",\"1,40\",\"0,00\",\"16,32\",\"1,63\",\"0,47\",\"1,17\",\"0,93\",\"0,70\",\"0,23\",\"6,99\",\"0,93\",\"2,10\",\"0,23\",\"0,23\",\"0,93\",\"2,56\",\"0,93\",\"0,47\",\"0,23\",\"1,17\",\"8,62\",\"1,63\",\"5,36\",\"1,86\",\"4,90\",\"1,86\",\"1,86\",\"0,23\",\"0,47\",\"0,23\",\"0,00\",\"0,23\",\"0,00\",\"0,00\",\"21,68\",\"2,80\",\"7,46\",\"0,47\",\"0,23\",\"0,47\",\"0,00\",\"0,00\",\"9,79\",\"0,47\",\"0,00\",\"0,00\"\\r\\nvm13.txt,1,236,\"39,33\",\"18,64\",\"83,90\",\"51,27\",\"21,19\",\"13,98\",\"0,00\",\"0,00\",\"0,85\",\"13,56\",\"3,81\",\"7,20\",\"13,98\",\"15,25\",\"0,42\",\"0,42\",\"11,86\",\"0,00\",\"2,54\",\"15,25\",\"5,08\",\"2,12\",\"0,42\",\"0,85\",\"0,00\",\"1,69\",\"0,00\",\"0,42\",\"5,93\",\"0,85\",\"3,39\",\"0,00\",\"0,00\",\"0,00\",\"0,00\",\"12,29\",\"0,00\",\"0,00\",\"0,85\",\"9,75\",\"5,93\",\"2,12\",\"1,69\",\"0,85\",\"0,00\",\"19,92\",\"2,97\",\"2,12\",\"1,69\",\"3,81\",\"0,42\",\"0,00\",\"4,24\",\"2,97\",\"5,08\",\"0,42\",\"3,81\",\"0,00\",\"0,85\",\"0,00\",\"0,42\",\"0,00\",\"0,42\",\"5,93\",\"0,85\",\"5,08\",\"0,42\",\"2,54\",\"3,39\",\"0,85\",\"0,00\",\"0,00\",\"0,00\",\"0,00\",\"0,00\",\"0,00\",\"0,00\",\"8,47\",\"2,54\",\"5,93\",\"0,00\",\"0,00\",\"0,00\",\"0,00\",\"0,00\",\"0,00\",\"0,00\",\"0,00\",\"0,00\"\\r\\nvm14.txt,1,364,\"18,20\",\"21,70\",\"71,43\",\"43,41\",\"12,64\",\"5,22\",\"0,27\",\"0,82\",\"0,00\",\"4,95\",\"0,55\",\"7,42\",\"15,11\",\"9,62\",\"0,55\",\"1,10\",\"7,69\",\"0,00\",\"0,55\",\"15,11\",\"1,92\",\"0,27\",\"1,37\",\"1,92\",\"0,00\",\"1,37\",\"0,00\",\"0,27\",\"3,30\",\"0,00\",\"1,37\",\"0,00\",\"0,00\",\"0,00\",\"0,00\",\"5,49\",\"0,00\",\"0,00\",\"0,00\",\"4,12\",\"2,47\",\"1,37\",\"0,27\",\"0,55\",\"0,27\",\"20,05\",\"4,12\",\"0,55\",\"0,82\",\"2,47\",\"1,37\",\"0,27\",\"4,95\",\"0,82\",\"2,20\",\"0,55\",\"1,10\",\"0,27\",\"1,10\",\"0,55\",\"0,27\",\"0,00\",\"0,27\",\"6,87\",\"1,65\",\"2,47\",\"2,75\",\"3,30\",\"2,47\",\"1,65\",\"0,00\",\"0,00\",\"0,27\",\"0,00\",\"0,27\",\"0,00\",\"0,00\",\"13,74\",\"4,95\",\"6,32\",\"0,27\",\"0,00\",\"0,55\",\"0,00\",\"0,00\",\"1,65\",\"0,00\",\"0,00\",\"0,00\"\\r\\nvm15.txt,1,2605,\"26,86\",\"20,69\",\"76,20\",\"49,83\",\"15,66\",\"10,36\",\"1,88\",\"0,04\",\"0,38\",\"8,21\",\"2,50\",\"5,30\",\"11,94\",\"9,21\",\"1,04\",\"1,92\",\"5,83\",\"0,00\",\"3,76\",\"16,43\",\"5,41\",\"1,34\",\"1,34\",\"1,96\",\"0,15\",\"1,54\",\"0,00\",\"0,04\",\"2,80\",\"0,38\",\"1,07\",\"0,58\",\"0,12\",\"0,00\",\"0,00\",\"9,33\",\"0,08\",\"0,00\",\"0,50\",\"4,26\",\"1,50\",\"2,84\",\"0,31\",\"1,19\",\"0,61\",\"18,73\",\"2,57\",\"1,23\",\"1,04\",\"1,84\",\"0,81\",\"0,42\",\"6,53\",\"2,03\",\"3,76\",\"1,00\",\"1,00\",\"0,61\",\"2,07\",\"0,65\",\"0,15\",\"0,19\",\"1,27\",\"8,52\",\"2,03\",\"4,80\",\"1,92\",\"2,26\",\"1,84\",\"1,27\",\"0,61\",\"1,54\",\"0,04\",\"0,35\",\"0,23\",\"0,15\",\"0,00\",\"11,75\",\"2,92\",\"7,87\",\"0,04\",\"0,00\",\"0,92\",\"0,00\",\"0,00\",\"0,00\",\"0,00\",\"0,00\",\"0,00\"\\r\\nvm16.txt,1,552,\"24,00\",\"18,30\",\"70,11\",\"46,74\",\"12,14\",\"7,43\",\"1,63\",\"0,00\",\"0,91\",\"5,25\",\"0,91\",\"4,71\",\"11,96\",\"9,06\",\"1,09\",\"1,09\",\"6,70\",\"0,00\",\"5,07\",\"15,76\",\"4,89\",\"2,72\",\"1,99\",\"2,17\",\"0,18\",\"1,27\",\"0,18\",\"0,36\",\"2,17\",\"0,91\",\"0,72\",\"0,18\",\"0,00\",\"0,36\",\"0,00\",\"5,43\",\"0,18\",\"0,00\",\"0,72\",\"2,90\",\"2,17\",\"1,27\",\"0,00\",\"0,54\",\"0,00\",\"15,94\",\"1,27\",\"0,54\",\"1,09\",\"1,81\",\"1,45\",\"0,36\",\"3,80\",\"1,81\",\"2,72\",\"0,36\",\"0,36\",\"1,81\",\"1,99\",\"0,91\",\"0,72\",\"0,00\",\"0,36\",\"8,33\",\"1,09\",\"5,43\",\"2,17\",\"2,54\",\"2,17\",\"0,36\",\"0,00\",\"0,72\",\"0,36\",\"0,18\",\"0,54\",\"0,00\",\"0,00\",\"19,20\",\"5,80\",\"5,80\",\"0,18\",\"0,54\",\"0,18\",\"0,00\",\"0,00\",\"3,80\",\"1,09\",\"1,45\",\"0,36\"\\r\\nvm17.txt,1,2993,\"27,97\",\"21,92\",\"73,17\",\"50,65\",\"13,36\",\"8,59\",\"0,00\",\"0,13\",\"0,33\",\"8,42\",\"2,71\",\"4,78\",\"16,67\",\"7,75\",\"0,50\",\"1,80\",\"5,01\",\"0,00\",\"3,21\",\"16,20\",\"5,71\",\"0,74\",\"0,87\",\"2,21\",\"0,13\",\"0,53\",\"0,00\",\"0,00\",\"2,14\",\"0,43\",\"1,34\",\"0,20\",\"0,00\",\"0,00\",\"0,00\",\"7,89\",\"0,74\",\"0,07\",\"0,53\",\"2,97\",\"1,67\",\"1,30\",\"0,00\",\"0,67\",\"0,07\",\"15,94\",\"1,54\",\"1,10\",\"0,77\",\"2,04\",\"1,20\",\"0,30\",\"5,98\",\"1,87\",\"2,64\",\"0,97\",\"0,27\",\"0,30\",\"1,87\",\"0,57\",\"0,10\",\"0,23\",\"1,27\",\"8,85\",\"2,04\",\"5,41\",\"2,31\",\"2,41\",\"1,80\",\"1,27\",\"0,57\",\"1,30\",\"0,84\",\"0,00\",\"0,23\",\"0,07\",\"0,00\",\"9,36\",\"3,47\",\"4,88\",\"0,00\",\"0,00\",\"0,10\",\"0,00\",\"0,90\",\"0,00\",\"0,00\",\"0,00\",\"0,00\"\\r\\nvm18.txt,1,3483,\"43,54\",\"22,80\",\"77,23\",\"51,62\",\"16,37\",\"9,62\",\"0,06\",\"0,14\",\"1,03\",\"9,33\",\"2,64\",\"6,75\",\"13,09\",\"9,65\",\"0,60\",\"2,30\",\"6,46\",\"0,06\",\"4,48\",\"15,36\",\"6,00\",\"1,87\",\"1,84\",\"1,95\",\"0,09\",\"0,92\",\"0,00\",\"0,17\",\"3,50\",\"0,49\",\"2,04\",\"0,17\",\"0,00\",\"0,03\",\"0,00\",\"10,82\",\"0,55\",\"0,46\",\"0,80\",\"3,50\",\"1,44\",\"1,72\",\"0,29\",\"0,92\",\"0,26\",\"19,04\",\"2,64\",\"1,21\",\"1,06\",\"2,67\",\"1,00\",\"0,37\",\"5,86\",\"1,95\",\"3,16\",\"0,66\",\"1,12\",\"0,83\",\"1,38\",\"0,40\",\"0,37\",\"0,06\",\"0,63\",\"9,13\",\"1,92\",\"4,68\",\"2,90\",\"2,35\",\"1,29\",\"0,95\",\"0,60\",\"1,09\",\"0,11\",\"0,14\",\"0,29\",\"0,03\",\"0,00\",\"13,29\",\"5,08\",\"6,75\",\"0,23\",\"0,03\",\"0,40\",\"0,06\",\"0,17\",\"0,00\",\"0,00\",\"0,55\",\"0,03\"\\r\\nvm19.txt,1,364,\"26,00\",\"23,35\",\"73,35\",\"46,15\",\"15,11\",\"9,07\",\"1,65\",\"0,00\",\"0,55\",\"6,87\",\"1,65\",\"6,04\",\"10,71\",\"9,07\",\"0,55\",\"1,92\",\"6,04\",\"0,00\",\"3,30\",\"15,38\",\"4,95\",\"1,65\",\"1,37\",\"0,82\",\"0,00\",\"1,10\",\"0,00\",\"0,00\",\"2,47\",\"0,55\",\"1,65\",\"0,55\",\"0,27\",\"0,00\",\"0,00\",\"6,32\",\"0,00\",\"0,27\",\"0,27\",\"4,95\",\"3,30\",\"1,37\",\"0,27\",\"1,37\",\"0,00\",\"16,76\",\"2,20\",\"1,10\",\"0,55\",\"3,02\",\"1,37\",\"0,27\",\"3,85\",\"3,57\",\"3,57\",\"1,10\",\"0,55\",\"0,55\",\"1,10\",\"0,00\",\"0,00\",\"0,27\",\"0,82\",\"8,24\",\"2,20\",\"4,12\",\"2,47\",\"6,04\",\"2,47\",\"1,10\",\"0,27\",\"0,55\",\"0,27\",\"0,55\",\"0,82\",\"0,00\",\"0,00\",\"10,16\",\"3,85\",\"4,95\",\"0,55\",\"0,27\",\"0,00\",\"0,00\",\"0,00\",\"0,00\",\"0,00\",\"0,55\",\"0,00\"\\r\\nvm20.txt,1,311,\"17,28\",\"19,94\",\"69,45\",\"43,73\",\"13,83\",\"9,00\",\"2,25\",\"0,00\",\"0,64\",\"6,75\",\"2,25\",\"4,82\",\"11,58\",\"10,61\",\"0,96\",\"2,25\",\"7,40\",\"0,00\",\"5,14\",\"10,93\",\"3,86\",\"4,18\",\"0,96\",\"2,25\",\"0,00\",\"2,57\",\"0,00\",\"0,00\",\"5,14\",\"0,32\",\"1,61\",\"0,00\",\"0,00\",\"0,00\",\"0,00\",\"6,75\",\"0,00\",\"0,00\",\"0,32\",\"2,57\",\"0,96\",\"0,96\",\"0,00\",\"0,32\",\"0,00\",\"18,01\",\"2,57\",\"1,61\",\"1,93\",\"2,25\",\"0,96\",\"0,00\",\"3,22\",\"1,29\",\"3,86\",\"0,96\",\"1,61\",\"1,29\",\"1,29\",\"0,32\",\"0,32\",\"0,00\",\"0,64\",\"8,68\",\"2,25\",\"3,22\",\"3,54\",\"2,89\",\"0,32\",\"1,29\",\"0,32\",\"0,64\",\"0,32\",\"0,00\",\"0,32\",\"0,00\",\"0,00\",\"19,29\",\"6,11\",\"3,86\",\"0,96\",\"0,32\",\"0,00\",\"0,00\",\"0,00\",\"6,11\",\"0,00\",\"0,00\",\"1,93\"\\r\\nal01.txt,1,1156,\"23,59\",\"23,53\",\"68,86\",\"46,11\",\"13,15\",\"8,48\",\"0,09\",\"0,00\",\"0,17\",\"8,30\",\"3,37\",\"4,67\",\"12,37\",\"8,48\",\"0,26\",\"2,51\",\"4,67\",\"0,00\",\"3,03\",\"15,05\",\"6,57\",\"1,56\",\"0,95\",\"1,38\",\"0,00\",\"0,43\",\"0,17\",\"0,00\",\"2,16\",\"0,87\",\"0,95\",\"0,17\",\"0,00\",\"0,00\",\"0,00\",\"8,74\",\"0,52\",\"0,26\",\"0,43\",\"4,50\",\"1,56\",\"2,94\",\"0,26\",\"1,64\",\"0,43\",\"16,18\",\"1,47\",\"0,69\",\"0,52\",\"1,47\",\"1,56\",\"0,35\",\"6,57\",\"1,47\",\"1,90\",\"0,35\",\"0,26\",\"0,61\",\"1,82\",\"0,78\",\"0,26\",\"0,26\",\"0,87\",\"7,09\",\"2,08\",\"3,37\",\"2,34\",\"2,51\",\"1,30\",\"1,04\",\"0,43\",\"1,04\",\"0,61\",\"0,61\",\"0,35\",\"0,00\",\"0,00\",\"8,91\",\"4,15\",\"3,46\",\"0,26\",\"0,00\",\"0,09\",\"0,00\",\"0,26\",\"0,00\",\"0,00\",\"0,69\",\"0,00\"\\r\\nal02.txt,1,1097,\"17,14\",\"23,70\",\"73,20\",\"48,04\",\"13,95\",\"7,93\",\"0,00\",\"0,36\",\"0,64\",\"7,66\",\"2,64\",\"6,02\",\"11,39\",\"10,67\",\"1,19\",\"1,91\",\"7,93\",\"0,00\",\"4,01\",\"13,04\",\"7,93\",\"2,19\",\"1,73\",\"2,28\",\"0,00\",\"0,73\",\"0,00\",\"0,09\",\"3,74\",\"1,37\",\"1,64\",\"0,27\",\"0,09\",\"0,00\",\"0,00\",\"9,30\",\"0,27\",\"0,27\",\"0,27\",\"4,10\",\"1,55\",\"2,46\",\"0,18\",\"0,73\",\"0,27\",\"19,33\",\"2,83\",\"1,19\",\"0,73\",\"2,64\",\"0,91\",\"0,64\",\"6,65\",\"1,82\",\"2,64\",\"0,64\",\"0,73\",\"0,27\",\"2,01\",\"0,82\",\"0,27\",\"0,27\",\"1,28\",\"6,93\",\"1,73\",\"4,28\",\"1,91\",\"3,10\",\"3,01\",\"0,36\",\"0,09\",\"1,37\",\"0,36\",\"0,36\",\"0,27\",\"0,00\",\"0,00\",\"9,12\",\"5,65\",\"2,64\",\"0,27\",\"0,00\",\"0,27\",\"0,00\",\"0,00\",\"0,00\",\"0,00\",\"0,00\",\"0,27\"\\r\\nal03.txt,1,1104,\"20,83\",\"23,10\",\"72,46\",\"46,83\",\"11,68\",\"6,52\",\"0,09\",\"0,91\",\"0,27\",\"6,25\",\"2,36\",\"5,16\",\"12,59\",\"8,15\",\"0,63\",\"1,54\",\"5,80\",\"0,00\",\"2,81\",\"15,85\",\"6,34\",\"1,54\",\"1,36\",\"1,27\",\"0,00\",\"0,18\",\"0,00\",\"0,09\",\"2,72\",\"0,18\",\"1,09\",\"0,18\",\"0,00\",\"0,00\",\"0,00\",\"9,33\",\"0,54\",\"0,27\",\"0,27\",\"4,17\",\"2,08\",\"2,63\",\"0,82\",\"1,09\",\"0,54\",\"19,29\",\"1,54\",\"0,82\",\"1,18\",\"1,72\",\"1,09\",\"0,72\",\"7,79\",\"2,17\",\"3,62\",\"0,63\",\"1,72\",\"0,36\",\"1,63\",\"0,63\",\"0,09\",\"0,18\",\"0,82\",\"8,15\",\"1,36\",\"5,25\",\"1,99\",\"2,36\",\"2,26\",\"0,82\",\"0,54\",\"0,91\",\"0,45\",\"0,09\",\"0,18\",\"0,00\",\"0,00\",\"8,61\",\"4,53\",\"3,17\",\"0,45\",\"0,00\",\"0,36\",\"0,00\",\"0,00\",\"0,00\",\"0,00\",\"0,00\",\"0,09\"\\r\\nal04.txt,1,863,\"16,28\",\"22,71\",\"70,57\",\"47,51\",\"14,14\",\"7,76\",\"0,35\",\"0,23\",\"1,04\",\"7,18\",\"1,74\",\"6,37\",\"10,89\",\"8,34\",\"0,23\",\"1,51\",\"5,68\",\"0,00\",\"3,59\",\"16,34\",\"5,33\",\"1,62\",\"1,62\",\"1,97\",\"0,00\",\"1,16\",\"0,12\",\"0,23\",\"2,78\",\"0,23\",\"1,51\",\"0,12\",\"0,00\",\"0,23\",\"0,00\",\"8,46\",\"0,23\",\"0,00\",\"0,58\",\"2,43\",\"1,97\",\"0,81\",\"0,12\",\"0,23\",\"0,12\",\"17,38\",\"0,93\",\"1,62\",\"1,16\",\"2,90\",\"0,93\",\"0,35\",\"4,87\",\"2,67\",\"1,74\",\"0,46\",\"0,58\",\"0,00\",\"1,27\",\"0,46\",\"0,00\",\"0,00\",\"1,04\",\"8,81\",\"1,51\",\"5,79\",\"2,20\",\"3,59\",\"2,20\",\"0,58\",\"0,58\",\"1,39\",\"0,00\",\"0,12\",\"0,23\",\"0,00\",\"0,00\",\"9,62\",\"4,98\",\"2,90\",\"0,46\",\"0,00\",\"1,27\",\"0,00\",\"0,00\",\"0,00\",\"0,00\",\"0,00\",\"0,00\"\\r\\nal05.txt,1,1649,\"18,74\",\"20,92\",\"76,59\",\"49,06\",\"14,25\",\"6,97\",\"0,00\",\"0,73\",\"0,73\",\"6,85\",\"2,30\",\"7,28\",\"12,98\",\"10,73\",\"0,97\",\"2,55\",\"7,58\",\"0,00\",\"4,12\",\"14,61\",\"6,55\",\"1,21\",\"1,82\",\"1,09\",\"0,00\",\"0,85\",\"0,00\",\"0,61\",\"4,18\",\"0,24\",\"1,21\",\"0,00\",\"0,00\",\"0,00\",\"0,00\",\"9,34\",\"0,85\",\"0,61\",\"0,24\",\"4,85\",\"2,06\",\"2,67\",\"0,97\",\"1,82\",\"0,12\",\"20,32\",\"2,49\",\"1,21\",\"1,09\",\"2,06\",\"1,70\",\"0,36\",\"6,67\",\"2,91\",\"3,52\",\"0,73\",\"1,33\",\"0,12\",\"2,18\",\"0,73\",\"0,00\",\"0,49\",\"1,21\",\"8,73\",\"0,97\",\"5,70\",\"2,43\",\"2,85\",\"2,49\",\"0,61\",\"0,24\",\"1,09\",\"0,85\",\"0,24\",\"0,24\",\"0,00\",\"0,00\",\"9,22\",\"4,49\",\"3,52\",\"0,36\",\"0,00\",\"0,85\",\"0,00\",\"0,00\",\"0,00\",\"0,00\",\"0,00\",\"0,00\"\\r\\nal06.txt,1,909,\"22,73\",\"23,32\",\"72,94\",\"47,30\",\"13,86\",\"8,69\",\"0,00\",\"0,00\",\"0,44\",\"8,58\",\"2,64\",\"5,17\",\"15,07\",\"9,13\",\"0,55\",\"2,09\",\"6,71\",\"0,00\",\"2,20\",\"15,62\",\"4,73\",\"0,77\",\"1,65\",\"1,21\",\"0,00\",\"0,77\",\"0,00\",\"0,11\",\"3,52\",\"0,66\",\"1,87\",\"0,11\",\"0,00\",\"0,11\",\"0,00\",\"8,80\",\"0,22\",\"0,33\",\"0,44\",\"4,29\",\"2,97\",\"0,88\",\"0,22\",\"0,33\",\"0,00\",\"16,17\",\"2,20\",\"0,44\",\"0,33\",\"1,32\",\"0,77\",\"0,66\",\"8,36\",\"0,99\",\"2,86\",\"0,77\",\"1,21\",\"0,22\",\"1,43\",\"0,55\",\"0,33\",\"0,00\",\"0,66\",\"7,70\",\"1,10\",\"5,06\",\"2,42\",\"2,42\",\"2,64\",\"0,77\",\"0,55\",\"0,66\",\"3,19\",\"0,11\",\"0,11\",\"0,00\",\"0,00\",\"7,37\",\"4,07\",\"2,64\",\"0,33\",\"0,00\",\"0,33\",\"0,00\",\"0,00\",\"0,00\",\"0,00\",\"0,00\",\"0,00\"\\r\\nal07.txt,1,762,\"16,21\",\"23,75\",\"78,08\",\"49,87\",\"17,06\",\"8,27\",\"0,26\",\"0,00\",\"0,26\",\"7,87\",\"1,84\",\"8,79\",\"13,25\",\"10,10\",\"0,39\",\"0,92\",\"9,19\",\"0,00\",\"3,54\",\"13,91\",\"6,04\",\"1,57\",\"2,10\",\"1,44\",\"0,13\",\"0,79\",\"0,00\",\"0,13\",\"3,41\",\"2,23\",\"1,71\",\"0,39\",\"0,00\",\"0,00\",\"0,00\",\"8,79\",\"0,52\",\"0,13\",\"0,26\",\"5,51\",\"1,97\",\"3,67\",\"1,31\",\"1,71\",\"0,26\",\"22,05\",\"1,44\",\"0,52\",\"1,71\",\"3,15\",\"2,62\",\"0,92\",\"5,38\",\"1,57\",\"3,15\",\"0,39\",\"1,44\",\"0,79\",\"2,10\",\"0,79\",\"0,66\",\"0,13\",\"0,66\",\"6,04\",\"1,44\",\"3,41\",\"1,57\",\"3,41\",\"2,62\",\"0,39\",\"0,26\",\"0,66\",\"0,26\",\"0,39\",\"0,66\",\"0,00\",\"0,00\",\"10,50\",\"5,38\",\"4,33\",\"0,00\",\"0,00\",\"0,79\",\"0,00\",\"0,00\",\"0,00\",\"0,00\",\"0,00\",\"0,00\"\\r\\nal08.txt,1,839,\"22,08\",\"23,00\",\"73,90\",\"48,39\",\"15,14\",\"6,56\",\"0,00\",\"0,12\",\"0,83\",\"6,56\",\"1,67\",\"8,58\",\"11,92\",\"10,73\",\"0,95\",\"1,55\",\"8,58\",\"0,00\",\"4,17\",\"13,59\",\"5,48\",\"1,79\",\"2,74\",\"2,03\",\"0,00\",\"0,60\",\"0,00\",\"0,24\",\"4,41\",\"0,83\",\"0,83\",\"0,24\",\"0,00\",\"0,00\",\"0,00\",\"8,58\",\"0,36\",\"0,00\",\"0,48\",\"3,10\",\"2,03\",\"1,31\",\"0,36\",\"0,60\",\"0,48\",\"19,31\",\"1,67\",\"0,24\",\"0,60\",\"4,05\",\"1,67\",\"0,83\",\"5,96\",\"1,19\",\"2,98\",\"0,36\",\"1,43\",\"0,48\",\"0,95\",\"0,24\",\"0,36\",\"0,00\",\"0,48\",\"7,51\",\"1,55\",\"3,46\",\"2,74\",\"2,74\",\"1,91\",\"0,36\",\"0,12\",\"1,31\",\"0,24\",\"0,36\",\"0,12\",\"0,00\",\"0,00\",\"8,22\",\"4,41\",\"3,58\",\"0,12\",\"0,00\",\"0,12\",\"0,00\",\"0,00\",\"0,00\",\"0,00\",\"0,00\",\"0,00\"\\r\\nal09.txt,1,1161,\"25,80\",\"26,01\",\"68,48\",\"46,68\",\"13,52\",\"7,41\",\"0,00\",\"0,26\",\"0,43\",\"7,32\",\"2,58\",\"6,12\",\"11,97\",\"8,01\",\"0,34\",\"2,07\",\"5,00\",\"0,00\",\"3,01\",\"14,81\",\"6,46\",\"1,12\",\"1,64\",\"2,41\",\"0,00\",\"0,78\",\"0,09\",\"0,00\",\"2,76\",\"0,26\",\"1,55\",\"0,52\",\"0,00\",\"0,00\",\"0,00\",\"8,27\",\"0,09\",\"0,17\",\"0,17\",\"3,96\",\"1,64\",\"2,07\",\"0,26\",\"1,38\",\"0,34\",\"18,09\",\"1,29\",\"0,86\",\"0,78\",\"1,55\",\"1,12\",\"0,60\",\"6,72\",\"2,07\",\"1,72\",\"0,43\",\"0,43\",\"0,43\",\"1,46\",\"0,69\",\"0,26\",\"0,09\",\"0,69\",\"7,84\",\"1,98\",\"3,70\",\"3,10\",\"2,24\",\"1,89\",\"0,52\",\"0,09\",\"1,03\",\"0,34\",\"0,09\",\"0,00\",\"0,00\",\"0,00\",\"8,10\",\"3,70\",\"2,76\",\"0,43\",\"0,00\",\"0,26\",\"0,00\",\"0,09\",\"0,00\",\"0,00\",\"0,69\",\"0,17\"\\r\\nal10.txt,1,1168,\"16,69\",\"23,72\",\"72,26\",\"47,00\",\"12,50\",\"6,34\",\"0,00\",\"0,00\",\"0,17\",\"6,34\",\"2,23\",\"6,16\",\"12,59\",\"8,48\",\"0,17\",\"1,11\",\"6,68\",\"0,00\",\"3,17\",\"14,47\",\"6,76\",\"1,11\",\"1,97\",\"2,57\",\"0,09\",\"0,43\",\"0,00\",\"0,00\",\"2,65\",\"0,94\",\"1,28\",\"0,26\",\"0,00\",\"0,00\",\"0,00\",\"7,53\",\"0,26\",\"0,26\",\"0,34\",\"2,91\",\"1,88\",\"1,03\",\"0,09\",\"0,51\",\"0,17\",\"19,61\",\"1,37\",\"0,86\",\"0,68\",\"3,42\",\"1,54\",\"0,86\",\"6,34\",\"2,83\",\"2,57\",\"0,09\",\"1,03\",\"0,09\",\"2,05\",\"0,68\",\"0,17\",\"0,34\",\"0,94\",\"8,90\",\"1,54\",\"5,65\",\"2,14\",\"3,25\",\"3,42\",\"1,20\",\"0,34\",\"1,11\",\"0,26\",\"0,17\",\"0,00\",\"0,00\",\"0,00\",\"10,02\",\"5,91\",\"2,83\",\"0,26\",\"0,00\",\"0,17\",\"0,00\",\"0,00\",\"0,00\",\"0,00\",\"0,86\",\"0,00\"\\r\\nal11.txt,1,1078,\"15,62\",\"21,61\",\"72,08\",\"47,77\",\"16,05\",\"8,44\",\"0,28\",\"0,46\",\"0,46\",\"8,07\",\"2,41\",\"7,61\",\"12,34\",\"9,93\",\"0,56\",\"0,93\",\"7,88\",\"0,00\",\"3,43\",\"12,52\",\"6,31\",\"2,60\",\"1,76\",\"1,58\",\"0,00\",\"0,46\",\"0,00\",\"0,19\",\"3,71\",\"1,21\",\"0,93\",\"0,09\",\"0,00\",\"0,09\",\"0,00\",\"8,72\",\"0,37\",\"0,28\",\"0,56\",\"4,55\",\"1,76\",\"2,13\",\"0,65\",\"1,21\",\"0,28\",\"20,13\",\"2,04\",\"1,21\",\"0,46\",\"2,41\",\"1,02\",\"0,65\",\"4,73\",\"2,69\",\"1,86\",\"0,19\",\"1,02\",\"0,37\",\"1,86\",\"0,56\",\"0,83\",\"0,28\",\"0,46\",\"4,55\",\"0,65\",\"2,04\",\"2,04\",\"2,78\",\"2,13\",\"0,46\",\"0,09\",\"0,65\",\"0,19\",\"0,28\",\"0,46\",\"0,00\",\"0,00\",\"9,83\",\"6,31\",\"3,15\",\"0,28\",\"0,00\",\"0,09\",\"0,00\",\"0,00\",\"0,00\",\"0,00\",\"0,00\",\"0,00\"\\r\\nal12.txt,1,1230,\"21,96\",\"21,54\",\"70,57\",\"48,46\",\"13,50\",\"8,29\",\"0,16\",\"0,00\",\"0,33\",\"7,97\",\"2,60\",\"5,20\",\"13,01\",\"7,40\",\"0,16\",\"1,14\",\"5,45\",\"0,00\",\"3,09\",\"17,24\",\"5,61\",\"1,87\",\"0,89\",\"2,11\",\"0,08\",\"0,57\",\"0,00\",\"0,00\",\"2,93\",\"0,41\",\"0,73\",\"0,41\",\"0,00\",\"0,00\",\"0,00\",\"7,15\",\"0,24\",\"0,16\",\"0,41\",\"3,50\",\"1,71\",\"1,95\",\"0,24\",\"0,89\",\"0,24\",\"17,15\",\"1,63\",\"1,14\",\"1,46\",\"3,58\",\"0,81\",\"0,24\",\"5,37\",\"2,28\",\"2,20\",\"0,24\",\"0,73\",\"0,49\",\"2,03\",\"0,98\",\"0,41\",\"0,24\",\"0,73\",\"6,75\",\"1,38\",\"3,82\",\"1,87\",\"2,60\",\"2,28\",\"0,81\",\"0,33\",\"0,89\",\"0,16\",\"0,24\",\"0,16\",\"0,00\",\"0,00\",\"8,70\",\"4,39\",\"3,41\",\"0,41\",\"0,00\",\"0,16\",\"0,00\",\"0,00\",\"0,00\",\"0,00\",\"0,16\",\"0,16\"\\r\\nal13.txt,1,848,\"21,20\",\"23,35\",\"72,64\",\"49,41\",\"14,03\",\"8,14\",\"0,12\",\"0,00\",\"0,12\",\"8,02\",\"2,95\",\"5,90\",\"14,27\",\"8,25\",\"0,35\",\"2,95\",\"4,01\",\"0,00\",\"3,54\",\"15,33\",\"7,08\",\"1,89\",\"1,42\",\"1,30\",\"0,00\",\"0,47\",\"0,00\",\"0,00\",\"1,77\",\"0,59\",\"0,47\",\"0,12\",\"0,00\",\"0,00\",\"0,00\",\"8,14\",\"0,83\",\"0,12\",\"0,47\",\"5,19\",\"1,77\",\"3,42\",\"0,24\",\"1,42\",\"1,06\",\"16,75\",\"0,71\",\"0,83\",\"0,35\",\"1,65\",\"1,65\",\"0,12\",\"6,49\",\"1,53\",\"2,12\",\"0,24\",\"0,24\",\"0,83\",\"2,36\",\"0,94\",\"0,35\",\"0,00\",\"1,18\",\"7,55\",\"2,24\",\"3,66\",\"2,83\",\"1,89\",\"1,18\",\"0,35\",\"0,24\",\"1,65\",\"0,59\",\"0,59\",\"0,47\",\"0,00\",\"0,00\",\"7,90\",\"4,60\",\"3,07\",\"0,12\",\"0,00\",\"0,12\",\"0,00\",\"0,00\",\"0,00\",\"0,00\",\"0,00\",\"0,00\"\\r\\nal14.txt,1,1103,\"19,35\",\"18,77\",\"73,25\",\"47,69\",\"14,51\",\"7,98\",\"0,54\",\"0,09\",\"0,27\",\"7,34\",\"2,54\",\"6,53\",\"10,79\",\"9,97\",\"0,54\",\"1,99\",\"6,80\",\"0,00\",\"3,72\",\"13,24\",\"7,07\",\"2,90\",\"2,09\",\"0,54\",\"0,09\",\"2,09\",\"0,09\",\"0,09\",\"3,35\",\"1,18\",\"0,82\",\"0,36\",\"0,00\",\"0,00\",\"0,00\",\"8,52\",\"0,36\",\"0,00\",\"0,63\",\"3,72\",\"2,45\",\"1,63\",\"0,00\",\"0,82\",\"0,63\",\"22,85\",\"2,45\",\"1,00\",\"0,73\",\"2,72\",\"1,54\",\"0,54\",\"8,52\",\"2,54\",\"2,27\",\"0,63\",\"0,82\",\"0,36\",\"1,81\",\"0,63\",\"0,63\",\"0,18\",\"0,54\",\"8,25\",\"1,81\",\"5,44\",\"1,90\",\"1,90\",\"1,99\",\"0,73\",\"0,54\",\"0,73\",\"0,18\",\"0,54\",\"0,45\",\"0,00\",\"0,00\",\"7,25\",\"5,17\",\"2,09\",\"0,00\",\"0,00\",\"0,00\",\"0,00\",\"0,00\",\"0,00\",\"0,00\",\"0,00\",\"0,00\"\\r\\nal15.txt,1,871,\"18,53\",\"21,70\",\"74,17\",\"47,76\",\"11,02\",\"5,51\",\"0,00\",\"0,23\",\"0,11\",\"5,51\",\"1,26\",\"5,51\",\"13,20\",\"8,04\",\"0,23\",\"1,61\",\"5,63\",\"0,00\",\"2,64\",\"13,66\",\"7,58\",\"1,49\",\"2,64\",\"3,67\",\"0,00\",\"0,23\",\"0,00\",\"0,11\",\"2,87\",\"0,34\",\"0,69\",\"0,46\",\"0,00\",\"0,00\",\"0,00\",\"6,43\",\"0,23\",\"0,00\",\"0,80\",\"4,13\",\"2,30\",\"1,95\",\"0,11\",\"1,03\",\"0,46\",\"20,67\",\"1,95\",\"0,92\",\"1,03\",\"2,41\",\"2,64\",\"0,34\",\"7,35\",\"3,67\",\"1,72\",\"0,23\",\"0,46\",\"0,69\",\"1,61\",\"0,80\",\"0,34\",\"0,34\",\"0,92\",\"7,46\",\"1,38\",\"4,94\",\"1,95\",\"2,64\",\"1,15\",\"1,15\",\"0,11\",\"0,80\",\"0,23\",\"0,34\",\"0,46\",\"0,00\",\"0,00\",\"8,73\",\"5,05\",\"3,10\",\"0,11\",\"0,00\",\"0,46\",\"0,00\",\"0,00\",\"0,00\",\"0,00\",\"0,00\",\"0,00\"\\r\\nal16.txt,1,928,\"14,28\",\"22,31\",\"72,09\",\"46,88\",\"11,64\",\"6,57\",\"0,00\",\"0,00\",\"0,54\",\"6,57\",\"1,40\",\"5,06\",\"10,99\",\"10,56\",\"0,32\",\"2,80\",\"6,36\",\"0,00\",\"4,31\",\"16,06\",\"6,03\",\"1,51\",\"1,19\",\"2,26\",\"0,32\",\"0,65\",\"0,00\",\"0,11\",\"2,91\",\"1,19\",\"1,08\",\"0,32\",\"0,00\",\"0,00\",\"0,00\",\"7,97\",\"0,54\",\"0,54\",\"0,11\",\"4,63\",\"1,29\",\"3,56\",\"0,00\",\"2,26\",\"0,22\",\"17,78\",\"1,62\",\"1,08\",\"1,29\",\"1,94\",\"1,29\",\"0,32\",\"5,82\",\"2,26\",\"2,48\",\"0,11\",\"0,97\",\"0,22\",\"2,05\",\"0,43\",\"0,54\",\"0,00\",\"1,19\",\"9,27\",\"2,26\",\"5,17\",\"2,91\",\"2,48\",\"1,62\",\"0,54\",\"0,22\",\"1,51\",\"0,65\",\"0,86\",\"0,11\",\"0,00\",\"0,00\",\"10,78\",\"5,82\",\"3,02\",\"0,43\",\"0,00\",\"1,51\",\"0,00\",\"0,00\",\"0,00\",\"0,00\",\"0,00\",\"0,00\"\\r\\nal17.txt,1,749,\"15,94\",\"22,56\",\"71,43\",\"47,93\",\"13,62\",\"8,01\",\"0,13\",\"0,13\",\"0,40\",\"7,61\",\"2,54\",\"5,61\",\"13,89\",\"10,01\",\"0,53\",\"3,34\",\"5,34\",\"0,00\",\"2,27\",\"15,62\",\"6,01\",\"0,67\",\"1,60\",\"3,07\",\"0,00\",\"0,93\",\"0,00\",\"0,27\",\"4,01\",\"0,67\",\"0,93\",\"0,27\",\"0,00\",\"0,00\",\"0,00\",\"8,41\",\"0,80\",\"0,40\",\"0,80\",\"3,87\",\"1,20\",\"2,54\",\"0,13\",\"1,47\",\"0,27\",\"15,89\",\"0,93\",\"1,34\",\"1,34\",\"1,47\",\"0,40\",\"0,27\",\"5,61\",\"1,60\",\"2,40\",\"0,27\",\"0,93\",\"0,27\",\"1,74\",\"0,53\",\"0,40\",\"0,13\",\"0,80\",\"7,08\",\"1,60\",\"5,07\",\"1,07\",\"3,34\",\"2,27\",\"0,13\",\"0,40\",\"1,07\",\"0,00\",\"0,40\",\"0,27\",\"0,00\",\"0,00\",\"9,08\",\"6,14\",\"2,27\",\"0,00\",\"0,00\",\"0,40\",\"0,00\",\"0,00\",\"0,00\",\"0,00\",\"0,00\",\"0,27\"\\r\\nal18.txt,1,923,\"16,19\",\"24,27\",\"69,77\",\"45,83\",\"11,70\",\"5,63\",\"0,11\",\"0,00\",\"0,65\",\"5,20\",\"1,52\",\"6,07\",\"9,10\",\"8,78\",\"1,08\",\"1,84\",\"6,39\",\"0,00\",\"3,25\",\"15,82\",\"8,34\",\"1,41\",\"1,73\",\"2,49\",\"0,11\",\"1,30\",\"0,11\",\"0,33\",\"3,14\",\"0,54\",\"1,08\",\"0,11\",\"0,00\",\"0,33\",\"0,00\",\"7,48\",\"0,33\",\"0,22\",\"0,65\",\"3,79\",\"1,63\",\"2,28\",\"0,11\",\"1,73\",\"0,11\",\"22,86\",\"2,38\",\"0,98\",\"0,87\",\"3,47\",\"1,84\",\"0,22\",\"7,37\",\"2,93\",\"2,06\",\"0,65\",\"0,65\",\"0,00\",\"1,30\",\"0,33\",\"0,11\",\"0,22\",\"0,76\",\"7,58\",\"1,52\",\"5,09\",\"1,63\",\"2,60\",\"2,49\",\"0,54\",\"0,33\",\"0,43\",\"0,22\",\"0,43\",\"0,11\",\"0,00\",\"0,00\",\"10,83\",\"5,63\",\"4,55\",\"0,11\",\"0,00\",\"0,54\",\"0,00\",\"0,00\",\"0,00\",\"0,00\",\"0,00\",\"0,00\"\\r\\nal19.txt,1,1044,\"16,06\",\"23,75\",\"72,99\",\"46,55\",\"13,03\",\"6,90\",\"0,10\",\"0,19\",\"0,38\",\"6,61\",\"2,68\",\"6,13\",\"10,92\",\"10,44\",\"0,38\",\"1,15\",\"8,81\",\"0,00\",\"3,93\",\"12,93\",\"8,05\",\"2,39\",\"1,63\",\"1,53\",\"0,00\",\"0,57\",\"0,00\",\"0,29\",\"3,35\",\"1,05\",\"1,25\",\"0,38\",\"0,00\",\"0,00\",\"0,00\",\"7,57\",\"0,10\",\"0,29\",\"0,48\",\"3,83\",\"1,92\",\"2,01\",\"0,38\",\"0,67\",\"0,19\",\"20,31\",\"1,25\",\"1,05\",\"1,44\",\"3,35\",\"1,34\",\"0,00\",\"6,32\",\"3,35\",\"2,59\",\"0,57\",\"0,77\",\"0,38\",\"1,25\",\"0,38\",\"0,19\",\"0,10\",\"0,86\",\"8,14\",\"1,92\",\"3,83\",\"2,97\",\"2,39\",\"2,68\",\"2,39\",\"0,57\",\"0,38\",\"0,00\",\"0,29\",\"0,29\",\"0,00\",\"0,00\",\"9,29\",\"5,56\",\"2,78\",\"0,19\",\"0,00\",\"0,67\",\"0,00\",\"0,10\",\"0,00\",\"0,00\",\"0,00\",\"0,00\"\\r\\nal20.txt,1,1090,\"21,37\",\"22,20\",\"73,21\",\"48,44\",\"14,59\",\"8,07\",\"0,00\",\"0,18\",\"0,64\",\"7,98\",\"2,11\",\"6,51\",\"13,39\",\"8,17\",\"0,46\",\"1,38\",\"6,51\",\"0,00\",\"3,12\",\"15,32\",\"5,60\",\"1,56\",\"2,02\",\"1,74\",\"0,09\",\"0,46\",\"0,18\",\"0,18\",\"2,39\",\"1,10\",\"1,19\",\"0,28\",\"0,00\",\"0,00\",\"0,00\",\"9,17\",\"1,10\",\"0,09\",\"0,92\",\"3,49\",\"1,28\",\"1,28\",\"0,28\",\"0,73\",\"0,09\",\"18,44\",\"1,74\",\"0,28\",\"1,10\",\"2,57\",\"1,28\",\"0,28\",\"5,41\",\"2,11\",\"2,39\",\"0,37\",\"0,73\",\"0,46\",\"1,47\",\"0,64\",\"0,09\",\"0,28\",\"0,73\",\"6,06\",\"1,56\",\"3,39\",\"1,65\",\"3,12\",\"2,11\",\"1,10\",\"0,55\",\"0,28\",\"0,28\",\"0,28\",\"0,18\",\"0,00\",\"0,00\",\"8,90\",\"4,13\",\"3,85\",\"0,28\",\"0,00\",\"0,55\",\"0,00\",\"0,00\",\"0,00\",\"0,00\",\"0,00\",\"0,09\"\\r\\njel01.txt,1,2080,\"23,64\",\"22,12\",\"71,49\",\"45,62\",\"11,39\",\"7,07\",\"0,29\",\"0,14\",\"0,43\",\"6,54\",\"2,50\",\"4,33\",\"13,27\",\"9,13\",\"0,82\",\"2,74\",\"5,14\",\"0,14\",\"3,61\",\"15,00\",\"4,52\",\"1,39\",\"1,35\",\"2,93\",\"0,14\",\"1,06\",\"0,00\",\"0,48\",\"2,60\",\"0,29\",\"0,72\",\"0,29\",\"0,00\",\"0,10\",\"0,00\",\"8,51\",\"0,82\",\"0,10\",\"0,34\",\"3,46\",\"2,45\",\"0,87\",\"0,19\",\"0,38\",\"0,19\",\"16,49\",\"2,26\",\"1,59\",\"0,96\",\"2,69\",\"1,11\",\"0,29\",\"5,91\",\"1,63\",\"2,07\",\"0,43\",\"0,72\",\"0,19\",\"1,39\",\"0,77\",\"0,19\",\"0,05\",\"0,72\",\"10,62\",\"1,88\",\"5,77\",\"3,56\",\"2,26\",\"1,83\",\"0,62\",\"0,38\",\"1,20\",\"0,48\",\"0,19\",\"0,29\",\"0,05\",\"0,00\",\"13,56\",\"3,56\",\"6,68\",\"1,54\",\"0,29\",\"0,62\",\"0,19\",\"0,00\",\"0,00\",\"0,00\",\"0,48\",\"0,19\"\\r\\njel02.txt,1,1412,\"22,41\",\"21,53\",\"62,82\",\"42,00\",\"9,21\",\"6,37\",\"0,35\",\"0,00\",\"0,21\",\"6,02\",\"1,42\",\"2,83\",\"12,11\",\"8,07\",\"0,28\",\"2,20\",\"5,10\",\"0,00\",\"2,83\",\"16,57\",\"4,32\",\"0,64\",\"1,20\",\"3,97\",\"0,00\",\"0,64\",\"0,07\",\"0,00\",\"2,27\",\"0,64\",\"1,27\",\"0,14\",\"0,00\",\"0,00\",\"0,00\",\"5,95\",\"0,14\",\"0,28\",\"0,35\",\"2,34\",\"1,42\",\"0,92\",\"0,14\",\"0,57\",\"0,14\",\"13,24\",\"1,77\",\"0,99\",\"0,85\",\"2,48\",\"1,20\",\"0,21\",\"5,95\",\"1,27\",\"2,27\",\"0,42\",\"0,71\",\"0,28\",\"1,13\",\"0,21\",\"0,07\",\"0,07\",\"0,78\",\"9,07\",\"2,20\",\"5,10\",\"2,83\",\"2,83\",\"0,99\",\"0,85\",\"0,35\",\"0,85\",\"0,14\",\"0,50\",\"0,14\",\"0,00\",\"0,00\",\"14,73\",\"4,53\",\"6,59\",\"1,27\",\"0,00\",\"0,42\",\"0,00\",\"1,42\",\"0,00\",\"0,00\",\"0,42\",\"0,07\"\\r\\njel03.txt,1,1312,\"25,73\",\"22,10\",\"74,09\",\"46,49\",\"11,97\",\"7,62\",\"0,00\",\"0,61\",\"0,23\",\"7,62\",\"2,36\",\"4,34\",\"13,26\",\"8,16\",\"1,14\",\"0,69\",\"6,02\",\"0,08\",\"3,12\",\"14,41\",\"5,64\",\"1,45\",\"1,45\",\"2,82\",\"0,15\",\"0,76\",\"0,00\",\"0,84\",\"1,68\",\"0,61\",\"1,37\",\"0,30\",\"0,00\",\"0,00\",\"0,00\",\"8,46\",\"0,30\",\"0,08\",\"0,84\",\"4,50\",\"2,44\",\"0,91\",\"0,30\",\"0,46\",\"0,23\",\"18,67\",\"1,83\",\"2,06\",\"1,14\",\"1,75\",\"0,84\",\"0,53\",\"6,17\",\"2,44\",\"1,52\",\"0,76\",\"0,08\",\"0,00\",\"1,14\",\"0,23\",\"0,38\",\"0,23\",\"0,46\",\"9,07\",\"2,13\",\"5,41\",\"2,06\",\"3,43\",\"3,05\",\"1,14\",\"0,69\",\"1,75\",\"0,23\",\"0,23\",\"0,30\",\"0,00\",\"0,00\",\"12,12\",\"3,35\",\"6,17\",\"1,30\",\"0,15\",\"0,53\",\"0,00\",\"0,00\",\"0,00\",\"0,00\",\"0,61\",\"0,00\"\\r\\njel04.txt,1,1091,\"20,20\",\"21,17\",\"74,24\",\"48,30\",\"12,92\",\"6,60\",\"0,18\",\"0,37\",\"0,18\",\"6,32\",\"1,19\",\"6,32\",\"14,85\",\"10,54\",\"1,37\",\"2,02\",\"7,61\",\"0,00\",\"3,30\",\"13,02\",\"5,68\",\"1,83\",\"1,65\",\"2,66\",\"0,00\",\"1,19\",\"0,00\",\"0,46\",\"3,85\",\"0,82\",\"1,74\",\"0,37\",\"0,00\",\"0,00\",\"0,00\",\"6,97\",\"0,09\",\"0,00\",\"0,00\",\"2,02\",\"1,47\",\"0,82\",\"0,09\",\"0,09\",\"0,00\",\"21,26\",\"3,21\",\"1,47\",\"1,28\",\"4,49\",\"2,75\",\"0,46\",\"6,14\",\"2,29\",\"1,74\",\"0,18\",\"0,73\",\"0,27\",\"0,46\",\"0,00\",\"0,09\",\"0,00\",\"0,37\",\"11,00\",\"2,66\",\"5,50\",\"3,85\",\"2,75\",\"1,19\",\"0,82\",\"0,27\",\"1,83\",\"0,27\",\"0,27\",\"0,55\",\"0,00\",\"0,00\",\"11,55\",\"3,67\",\"4,58\",\"1,01\",\"0,00\",\"1,28\",\"0,00\",\"0,18\",\"0,00\",\"0,00\",\"0,55\",\"0,27\"\\r\\njel05.txt,1,786,\"21,24\",\"22,77\",\"73,92\",\"47,20\",\"13,23\",\"7,00\",\"0,51\",\"0,13\",\"0,38\",\"6,23\",\"2,04\",\"6,23\",\"11,96\",\"9,41\",\"0,76\",\"2,16\",\"5,85\",\"0,13\",\"3,44\",\"14,76\",\"4,71\",\"2,80\",\"1,40\",\"2,42\",\"0,13\",\"1,40\",\"0,00\",\"0,13\",\"2,54\",\"0,51\",\"1,02\",\"0,38\",\"0,00\",\"0,13\",\"0,00\",\"8,91\",\"0,25\",\"0,13\",\"0,25\",\"3,31\",\"1,91\",\"0,76\",\"0,13\",\"0,38\",\"0,00\",\"19,72\",\"3,31\",\"0,76\",\"1,65\",\"2,54\",\"2,29\",\"0,38\",\"5,47\",\"2,42\",\"2,42\",\"0,89\",\"0,64\",\"0,38\",\"1,02\",\"0,38\",\"0,38\",\"0,13\",\"0,38\",\"6,74\",\"1,78\",\"3,94\",\"1,53\",\"4,07\",\"2,54\",\"1,02\",\"0,13\",\"1,15\",\"0,13\",\"0,00\",\"0,25\",\"0,00\",\"0,00\",\"13,61\",\"4,83\",\"4,71\",\"1,27\",\"0,38\",\"0,13\",\"0,13\",\"0,00\",\"1,78\",\"0,00\",\"0,25\",\"0,13\"\\r\\njel06.txt,1,931,\"25,16\",\"22,13\",\"66,17\",\"43,39\",\"11,82\",\"8,38\",\"1,40\",\"0,64\",\"0,11\",\"6,77\",\"1,93\",\"3,44\",\"13,53\",\"10,10\",\"0,43\",\"1,93\",\"6,87\",\"0,00\",\"3,54\",\"12,03\",\"5,80\",\"1,72\",\"0,86\",\"2,47\",\"0,11\",\"1,18\",\"0,00\",\"0,32\",\"2,26\",\"1,07\",\"1,40\",\"0,43\",\"0,00\",\"0,00\",\"0,00\",\"7,09\",\"0,21\",\"0,11\",\"0,32\",\"3,01\",\"1,61\",\"1,40\",\"0,00\",\"0,97\",\"0,32\",\"14,72\",\"2,15\",\"0,75\",\"0,54\",\"1,18\",\"1,50\",\"0,21\",\"7,41\",\"1,18\",\"1,83\",\"0,32\",\"0,64\",\"0,43\",\"1,07\",\"0,54\",\"0,11\",\"0,32\",\"0,43\",\"7,30\",\"1,93\",\"4,19\",\"2,36\",\"2,69\",\"2,79\",\"0,64\",\"0,11\",\"0,11\",\"0,64\",\"0,43\",\"0,00\",\"0,00\",\"0,00\",\"13,43\",\"3,65\",\"6,34\",\"1,83\",\"0,21\",\"0,21\",\"0,21\",\"0,32\",\"0,00\",\"0,00\",\"0,54\",\"0,11\"\\r\\njel07.txt,1,971,\"26,24\",\"20,70\",\"67,04\",\"46,14\",\"10,92\",\"7,11\",\"0,10\",\"0,10\",\"0,31\",\"6,80\",\"2,68\",\"3,81\",\"12,46\",\"6,39\",\"0,51\",\"1,96\",\"3,81\",\"0,00\",\"3,60\",\"15,96\",\"4,53\",\"1,44\",\"1,54\",\"3,50\",\"0,00\",\"0,51\",\"0,10\",\"0,00\",\"2,47\",\"0,31\",\"0,82\",\"0,31\",\"0,00\",\"0,00\",\"0,00\",\"7,62\",\"0,72\",\"0,51\",\"0,51\",\"2,57\",\"1,44\",\"0,62\",\"0,00\",\"0,41\",\"0,00\",\"13,08\",\"0,82\",\"0,31\",\"0,82\",\"2,06\",\"0,82\",\"0,31\",\"6,28\",\"1,24\",\"2,27\",\"0,62\",\"1,03\",\"0,10\",\"1,13\",\"0,41\",\"0,00\",\"0,00\",\"0,82\",\"9,27\",\"2,37\",\"4,53\",\"3,30\",\"1,96\",\"0,72\",\"1,34\",\"0,82\",\"1,85\",\"0,51\",\"0,21\",\"0,21\",\"0,00\",\"0,00\",\"11,64\",\"4,02\",\"6,08\",\"0,82\",\"0,10\",\"0,10\",\"0,00\",\"0,00\",\"0,00\",\"0,00\",\"0,21\",\"0,31\"\\r\\njel08.txt,1,750,\"24,19\",\"21,73\",\"76,67\",\"52,93\",\"16,53\",\"10,13\",\"0,40\",\"0,27\",\"0,40\",\"9,60\",\"2,40\",\"6,40\",\"15,73\",\"8,67\",\"0,67\",\"1,87\",\"6,00\",\"0,00\",\"4,93\",\"14,67\",\"5,07\",\"2,40\",\"1,33\",\"1,60\",\"0,00\",\"0,80\",\"0,00\",\"0,27\",\"2,53\",\"0,67\",\"1,87\",\"0,67\",\"0,00\",\"0,00\",\"0,00\",\"9,60\",\"0,40\",\"0,00\",\"0,67\",\"2,67\",\"1,07\",\"1,73\",\"0,27\",\"0,80\",\"0,27\",\"18,53\",\"1,47\",\"0,53\",\"0,53\",\"2,40\",\"2,40\",\"0,40\",\"6,00\",\"2,53\",\"3,07\",\"0,93\",\"1,47\",\"0,40\",\"1,20\",\"0,67\",\"0,00\",\"0,27\",\"0,53\",\"11,07\",\"2,67\",\"4,53\",\"4,27\",\"1,47\",\"1,07\",\"0,40\",\"0,27\",\"1,47\",\"0,00\",\"0,27\",\"0,00\",\"0,13\",\"0,00\",\"12,27\",\"4,00\",\"6,00\",\"1,07\",\"0,13\",\"0,27\",\"0,27\",\"0,00\",\"0,00\",\"0,00\",\"0,53\",\"0,00\"\\r\\njel09.txt,1,728,\"17,33\",\"20,88\",\"58,38\",\"34,75\",\"7,69\",\"4,40\",\"0,00\",\"0,00\",\"0,14\",\"4,12\",\"1,92\",\"3,30\",\"8,38\",\"7,55\",\"0,14\",\"2,06\",\"5,22\",\"0,14\",\"2,75\",\"10,71\",\"6,46\",\"1,37\",\"0,41\",\"1,79\",\"0,00\",\"0,27\",\"0,00\",\"0,14\",\"2,75\",\"1,65\",\"1,10\",\"0,27\",\"0,00\",\"0,00\",\"0,00\",\"7,01\",\"0,41\",\"0,00\",\"0,14\",\"3,43\",\"1,65\",\"1,10\",\"0,27\",\"0,69\",\"0,27\",\"16,76\",\"1,92\",\"1,10\",\"0,69\",\"2,20\",\"0,69\",\"0,82\",\"6,59\",\"2,61\",\"2,75\",\"0,27\",\"1,10\",\"0,41\",\"2,47\",\"1,37\",\"0,14\",\"0,00\",\"0,69\",\"6,18\",\"0,82\",\"3,16\",\"2,47\",\"1,37\",\"0,82\",\"0,55\",\"0,27\",\"0,69\",\"0,96\",\"0,00\",\"0,27\",\"0,00\",\"0,00\",\"16,35\",\"3,02\",\"8,93\",\"1,37\",\"0,00\",\"2,75\",\"0,00\",\"0,00\",\"0,00\",\"0,00\",\"0,27\",\"0,00\"\\r\\njel11.txt,1,648,\"24,00\",\"19,44\",\"69,44\",\"43,06\",\"13,27\",\"7,87\",\"0,77\",\"0,46\",\"0,31\",\"7,10\",\"2,16\",\"5,40\",\"11,42\",\"8,33\",\"0,77\",\"2,62\",\"5,09\",\"0,00\",\"2,16\",\"14,51\",\"4,17\",\"1,39\",\"1,70\",\"1,08\",\"0,00\",\"1,39\",\"0,00\",\"0,15\",\"4,78\",\"0,15\",\"0,31\",\"0,00\",\"0,00\",\"0,00\",\"0,00\",\"8,64\",\"0,31\",\"0,15\",\"0,62\",\"3,24\",\"1,85\",\"1,08\",\"0,00\",\"0,62\",\"0,46\",\"14,66\",\"1,85\",\"1,54\",\"0,31\",\"3,09\",\"0,77\",\"0,77\",\"5,09\",\"1,70\",\"2,16\",\"0,62\",\"0,93\",\"0,46\",\"0,62\",\"0,46\",\"0,31\",\"0,00\",\"0,31\",\"8,64\",\"1,23\",\"5,25\",\"2,31\",\"2,93\",\"1,08\",\"0,93\",\"0,15\",\"2,31\",\"0,77\",\"0,00\",\"0,15\",\"0,15\",\"0,00\",\"14,66\",\"4,17\",\"5,09\",\"1,23\",\"0,00\",\"0,00\",\"0,00\",\"0,00\",\"3,86\",\"0,00\",\"0,00\",\"0,31\"\\r\\njel12.txt,1,414,\"19,71\",\"20,29\",\"70,29\",\"45,41\",\"17,39\",\"8,94\",\"1,69\",\"0,24\",\"1,21\",\"7,00\",\"2,17\",\"8,45\",\"10,14\",\"11,35\",\"1,69\",\"3,14\",\"7,97\",\"0,00\",\"3,62\",\"14,49\",\"3,38\",\"1,69\",\"0,72\",\"1,45\",\"0,00\",\"1,93\",\"0,00\",\"1,21\",\"4,11\",\"0,00\",\"2,42\",\"0,00\",\"0,00\",\"0,00\",\"0,00\",\"8,45\",\"0,48\",\"0,00\",\"0,72\",\"1,93\",\"0,48\",\"1,45\",\"0,24\",\"0,48\",\"0,97\",\"20,53\",\"2,66\",\"1,69\",\"0,48\",\"1,45\",\"0,48\",\"0,97\",\"5,56\",\"0,72\",\"3,14\",\"0,72\",\"1,21\",\"0,72\",\"0,48\",\"0,24\",\"0,00\",\"0,00\",\"0,24\",\"6,28\",\"1,45\",\"3,38\",\"1,93\",\"4,11\",\"1,45\",\"1,21\",\"0,00\",\"0,00\",\"0,24\",\"0,72\",\"0,24\",\"0,00\",\"0,00\",\"8,21\",\"4,83\",\"2,17\",\"0,48\",\"0,00\",\"0,72\",\"0,00\",\"0,00\",\"0,00\",\"0,00\",\"0,00\",\"0,00\"\\r\\njel13.txt,1,760,\"20,54\",\"20,13\",\"78,03\",\"50,26\",\"17,89\",\"11,71\",\"1,58\",\"0,00\",\"0,26\",\"9,47\",\"3,82\",\"6,18\",\"13,16\",\"11,71\",\"1,45\",\"1,71\",\"9,61\",\"0,00\",\"4,74\",\"13,16\",\"5,39\",\"2,24\",\"1,45\",\"2,24\",\"0,13\",\"1,45\",\"0,13\",\"0,13\",\"3,16\",\"1,18\",\"1,32\",\"0,39\",\"0,00\",\"0,00\",\"0,00\",\"10,39\",\"0,13\",\"0,26\",\"0,79\",\"4,87\",\"1,18\",\"3,55\",\"0,26\",\"2,24\",\"1,05\",\"17,50\",\"2,50\",\"0,53\",\"0,53\",\"2,50\",\"1,45\",\"0,13\",\"6,05\",\"2,37\",\"3,82\",\"0,39\",\"2,50\",\"0,39\",\"1,97\",\"0,66\",\"0,66\",\"0,26\",\"0,66\",\"10,26\",\"2,24\",\"5,66\",\"3,16\",\"1,71\",\"1,05\",\"0,92\",\"0,39\",\"0,53\",\"0,26\",\"0,26\",\"0,13\",\"0,13\",\"0,00\",\"11,84\",\"4,61\",\"4,87\",\"1,58\",\"0,13\",\"0,39\",\"0,00\",\"0,00\",\"0,00\",\"0,00\",\"0,26\",\"0,00\"\\r\\njel14.txt,1,610,\"21,03\",\"18,20\",\"69,02\",\"46,56\",\"11,80\",\"6,72\",\"0,49\",\"0,00\",\"0,00\",\"6,23\",\"1,97\",\"5,08\",\"13,44\",\"5,74\",\"0,49\",\"0,98\",\"4,26\",\"0,00\",\"2,62\",\"13,28\",\"5,57\",\"2,13\",\"1,48\",\"3,11\",\"0,33\",\"0,82\",\"0,00\",\"0,16\",\"2,13\",\"0,33\",\"0,66\",\"0,49\",\"0,00\",\"0,00\",\"0,00\",\"7,21\",\"0,49\",\"0,33\",\"0,49\",\"2,46\",\"1,97\",\"0,66\",\"0,00\",\"0,33\",\"0,16\",\"16,72\",\"1,31\",\"0,82\",\"1,15\",\"3,77\",\"1,15\",\"0,49\",\"4,59\",\"3,28\",\"2,46\",\"0,49\",\"0,66\",\"1,15\",\"1,64\",\"0,82\",\"0,33\",\"0,33\",\"0,16\",\"7,38\",\"2,30\",\"3,77\",\"1,97\",\"2,13\",\"1,97\",\"0,82\",\"0,16\",\"1,97\",\"0,16\",\"0,16\",\"0,66\",\"0,00\",\"0,00\",\"13,28\",\"4,59\",\"7,05\",\"1,31\",\"0,16\",\"0,16\",\"0,00\",\"0,00\",\"0,00\",\"0,00\",\"0,00\",\"0,00\"\\r\\njel15.txt,1,572,\"13,95\",\"19,06\",\"73,25\",\"43,53\",\"13,46\",\"7,34\",\"0,17\",\"0,00\",\"0,35\",\"6,82\",\"2,27\",\"6,12\",\"10,66\",\"9,62\",\"1,57\",\"2,27\",\"6,64\",\"0,00\",\"2,97\",\"14,16\",\"2,97\",\"2,27\",\"1,22\",\"4,72\",\"0,17\",\"1,40\",\"0,00\",\"0,35\",\"4,37\",\"1,22\",\"1,22\",\"1,22\",\"0,00\",\"0,17\",\"0,00\",\"9,44\",\"0,17\",\"0,00\",\"0,35\",\"3,15\",\"1,75\",\"0,70\",\"0,17\",\"0,52\",\"0,00\",\"18,53\",\"2,80\",\"2,27\",\"2,45\",\"2,45\",\"0,87\",\"0,70\",\"4,72\",\"1,22\",\"3,50\",\"0,70\",\"1,05\",\"1,05\",\"0,35\",\"0,17\",\"0,17\",\"0,00\",\"0,00\",\"6,29\",\"1,57\",\"3,67\",\"1,22\",\"4,02\",\"2,62\",\"0,70\",\"0,35\",\"1,40\",\"1,40\",\"0,00\",\"0,00\",\"0,17\",\"0,00\",\"16,26\",\"7,17\",\"2,10\",\"0,17\",\"0,00\",\"0,00\",\"0,00\",\"0,00\",\"6,64\",\"0,00\",\"0,00\",\"0,17\"\\r\\njel16.txt,1,670,\"27,92\",\"22,54\",\"71,49\",\"47,31\",\"13,28\",\"7,91\",\"0,15\",\"0,60\",\"0,30\",\"7,76\",\"1,79\",\"5,37\",\"13,58\",\"10,15\",\"1,34\",\"2,39\",\"6,72\",\"0,00\",\"2,99\",\"13,88\",\"5,07\",\"1,19\",\"1,64\",\"6,87\",\"0,00\",\"0,60\",\"0,00\",\"0,30\",\"3,28\",\"1,04\",\"1,19\",\"0,00\",\"0,00\",\"0,00\",\"0,00\",\"7,31\",\"0,60\",\"0,00\",\"0,15\",\"2,54\",\"1,94\",\"0,90\",\"0,60\",\"0,00\",\"0,60\",\"17,31\",\"1,64\",\"0,45\",\"0,90\",\"2,54\",\"2,39\",\"0,60\",\"5,82\",\"2,84\",\"2,24\",\"0,30\",\"0,15\",\"0,60\",\"1,19\",\"0,45\",\"0,15\",\"0,00\",\"0,60\",\"8,66\",\"1,34\",\"5,67\",\"2,84\",\"3,13\",\"1,79\",\"0,00\",\"0,00\",\"1,34\",\"0,00\",\"0,15\",\"0,45\",\"0,00\",\"0,00\",\"15,07\",\"4,03\",\"8,21\",\"1,19\",\"0,15\",\"0,30\",\"0,00\",\"0,30\",\"0,00\",\"0,00\",\"0,90\",\"0,00\"\\r\\njel17.txt,1,583,\"25,35\",\"17,84\",\"66,90\",\"40,65\",\"13,04\",\"6,35\",\"0,00\",\"0,00\",\"0,51\",\"6,17\",\"2,06\",\"6,69\",\"11,32\",\"8,92\",\"1,03\",\"2,92\",\"5,32\",\"0,00\",\"2,92\",\"13,38\",\"3,26\",\"2,57\",\"0,34\",\"1,20\",\"0,00\",\"0,86\",\"0,00\",\"0,00\",\"5,15\",\"0,51\",\"0,69\",\"0,34\",\"0,00\",\"0,00\",\"0,00\",\"8,40\",\"0,00\",\"0,00\",\"0,17\",\"2,40\",\"1,03\",\"0,86\",\"0,17\",\"0,69\",\"0,17\",\"19,90\",\"2,57\",\"1,72\",\"0,69\",\"2,40\",\"1,20\",\"0,34\",\"5,32\",\"1,37\",\"2,06\",\"0,17\",\"0,86\",\"0,86\",\"0,34\",\"0,34\",\"0,00\",\"0,00\",\"0,00\",\"7,38\",\"1,89\",\"3,77\",\"2,40\",\"2,06\",\"1,72\",\"0,86\",\"0,17\",\"1,03\",\"0,86\",\"0,00\",\"0,00\",\"0,00\",\"0,00\",\"17,67\",\"3,95\",\"3,77\",\"1,37\",\"0,00\",\"0,00\",\"0,00\",\"0,00\",\"8,23\",\"0,00\",\"0,34\",\"0,00\"\\r\\njel18.txt,1,236,\"23,60\",\"22,46\",\"68,22\",\"44,49\",\"14,41\",\"9,75\",\"0,85\",\"0,00\",\"1,27\",\"8,90\",\"2,54\",\"4,66\",\"10,17\",\"6,78\",\"0,00\",\"3,39\",\"3,39\",\"0,00\",\"2,54\",\"18,64\",\"1,69\",\"1,27\",\"0,42\",\"1,69\",\"0,00\",\"2,12\",\"0,00\",\"0,00\",\"2,12\",\"0,00\",\"2,12\",\"0,42\",\"0,00\",\"0,00\",\"0,00\",\"10,59\",\"0,85\",\"1,27\",\"0,42\",\"1,69\",\"1,27\",\"0,42\",\"0,00\",\"0,42\",\"0,00\",\"13,14\",\"2,97\",\"1,69\",\"1,27\",\"0,85\",\"0,85\",\"0,42\",\"2,97\",\"0,85\",\"1,69\",\"0,00\",\"0,85\",\"0,42\",\"0,85\",\"0,42\",\"0,42\",\"0,42\",\"0,42\",\"5,51\",\"2,12\",\"2,97\",\"0,42\",\"3,39\",\"0,00\",\"1,69\",\"0,42\",\"2,12\",\"0,00\",\"0,00\",\"0,00\",\"0,00\",\"0,00\",\"24,15\",\"4,24\",\"8,90\",\"0,00\",\"0,00\",\"0,00\",\"0,00\",\"0,00\",\"9,32\",\"0,00\",\"1,69\",\"0,00\"\\r\\njel19.txt,1,278,\"39,71\",\"19,06\",\"61,15\",\"41,73\",\"11,87\",\"5,76\",\"0,00\",\"0,00\",\"0,36\",\"5,76\",\"0,36\",\"6,12\",\"15,11\",\"5,76\",\"0,36\",\"2,16\",\"3,24\",\"0,00\",\"1,08\",\"13,67\",\"2,88\",\"0,00\",\"2,88\",\"2,16\",\"0,00\",\"0,72\",\"0,00\",\"0,72\",\"3,24\",\"0,00\",\"0,72\",\"0,00\",\"0,00\",\"0,00\",\"0,00\",\"2,52\",\"0,00\",\"0,36\",\"0,36\",\"1,80\",\"0,00\",\"1,80\",\"0,36\",\"0,72\",\"0,72\",\"13,67\",\"1,80\",\"1,80\",\"0,00\",\"0,72\",\"0,00\",\"0,00\",\"4,32\",\"0,36\",\"0,72\",\"0,00\",\"0,36\",\"0,36\",\"0,00\",\"0,00\",\"0,00\",\"0,00\",\"0,00\",\"6,12\",\"1,44\",\"3,24\",\"1,44\",\"2,52\",\"1,08\",\"0,36\",\"0,00\",\"1,08\",\"0,00\",\"1,80\",\"0,00\",\"0,00\",\"0,00\",\"12,23\",\"2,52\",\"3,24\",\"0,36\",\"0,00\",\"0,00\",\"0,00\",\"0,00\",\"5,76\",\"0,00\",\"0,00\",\"0,36\"\\r\\njel20.txt,1,459,\"30,60\",\"23,09\",\"68,41\",\"49,46\",\"14,81\",\"9,80\",\"1,09\",\"0,22\",\"0,22\",\"8,50\",\"4,14\",\"5,01\",\"12,20\",\"6,32\",\"0,44\",\"1,96\",\"3,92\",\"0,00\",\"2,61\",\"16,99\",\"3,70\",\"1,31\",\"2,61\",\"1,53\",\"0,00\",\"0,65\",\"0,00\",\"0,00\",\"0,87\",\"0,00\",\"0,65\",\"1,53\",\"0,22\",\"0,00\",\"0,00\",\"10,68\",\"1,31\",\"0,00\",\"0,44\",\"3,27\",\"1,31\",\"1,96\",\"0,00\",\"0,44\",\"1,09\",\"12,64\",\"1,53\",\"0,44\",\"0,44\",\"1,53\",\"0,65\",\"0,44\",\"6,97\",\"0,22\",\"1,74\",\"0,22\",\"0,44\",\"0,44\",\"1,31\",\"0,44\",\"0,00\",\"0,22\",\"1,09\",\"6,54\",\"1,31\",\"3,92\",\"1,96\",\"3,49\",\"1,53\",\"2,40\",\"1,09\",\"0,87\",\"0,44\",\"0,87\",\"0,22\",\"0,00\",\"0,00\",\"11,98\",\"3,05\",\"7,19\",\"0,87\",\"0,00\",\"0,00\",\"0,00\",\"0,44\",\"0,00\",\"0,00\",\"0,44\",\"0,00\"\\r\\nlm01.txt,1,1019,\"26,13\",\"20,51\",\"70,66\",\"46,32\",\"13,15\",\"8,93\",\"0,39\",\"0,00\",\"1,08\",\"8,54\",\"1,37\",\"4,22\",\"13,74\",\"7,46\",\"0,29\",\"2,06\",\"4,32\",\"0,00\",\"3,43\",\"14,23\",\"6,38\",\"0,98\",\"1,67\",\"1,47\",\"0,00\",\"0,29\",\"0,00\",\"0,00\",\"2,16\",\"0,39\",\"0,49\",\"0,00\",\"0,00\",\"0,00\",\"0,00\",\"7,26\",\"0,39\",\"0,00\",\"0,20\",\"2,75\",\"1,18\",\"1,28\",\"0,10\",\"0,29\",\"0,20\",\"19,04\",\"2,06\",\"1,77\",\"0,59\",\"1,86\",\"1,18\",\"0,88\",\"6,18\",\"1,08\",\"2,55\",\"0,29\",\"0,59\",\"0,49\",\"1,37\",\"0,39\",\"0,10\",\"0,00\",\"1,08\",\"7,65\",\"2,06\",\"3,43\",\"2,75\",\"3,63\",\"2,94\",\"0,79\",\"0,10\",\"1,86\",\"0,59\",\"0,10\",\"0,29\",\"0,00\",\"0,00\",\"8,83\",\"3,63\",\"4,32\",\"0,29\",\"0,00\",\"0,20\",\"0,10\",\"0,00\",\"0,00\",\"0,00\",\"0,20\",\"0,10\"\\r\\nlm02.txt,1,1002,\"34,55\",\"25,15\",\"69,96\",\"46,21\",\"11,88\",\"7,09\",\"0,10\",\"0,40\",\"0,50\",\"6,79\",\"2,10\",\"4,79\",\"11,88\",\"6,69\",\"0,80\",\"1,10\",\"4,49\",\"0,00\",\"3,19\",\"15,27\",\"5,79\",\"1,30\",\"1,60\",\"2,59\",\"0,00\",\"0,30\",\"0,10\",\"0,20\",\"1,60\",\"0,80\",\"1,40\",\"0,40\",\"0,20\",\"0,00\",\"0,00\",\"6,59\",\"0,30\",\"0,20\",\"0,40\",\"4,19\",\"2,00\",\"2,20\",\"0,60\",\"1,10\",\"0,20\",\"19,16\",\"1,90\",\"1,40\",\"0,40\",\"3,69\",\"1,30\",\"1,00\",\"5,89\",\"2,79\",\"1,60\",\"0,30\",\"0,50\",\"0,20\",\"1,10\",\"0,30\",\"0,40\",\"0,10\",\"0,60\",\"7,09\",\"1,40\",\"2,79\",\"2,79\",\"2,89\",\"2,59\",\"0,70\",\"0,00\",\"1,00\",\"0,00\",\"0,20\",\"0,20\",\"0,00\",\"0,00\",\"11,28\",\"2,59\",\"7,09\",\"0,20\",\"0,00\",\"0,30\",\"0,00\",\"0,00\",\"1,00\",\"0,00\",\"0,00\",\"0,10\"\\r\\nlm03.txt,1,1042,\"26,72\",\"20,92\",\"70,25\",\"48,56\",\"12,19\",\"8,64\",\"0,19\",\"0,00\",\"0,58\",\"8,25\",\"2,40\",\"3,55\",\"12,67\",\"5,57\",\"0,19\",\"1,06\",\"3,74\",\"0,00\",\"3,74\",\"17,27\",\"5,37\",\"1,92\",\"1,25\",\"2,88\",\"0,00\",\"0,10\",\"0,00\",\"0,00\",\"0,96\",\"0,29\",\"0,77\",\"0,29\",\"0,00\",\"0,00\",\"0,00\",\"8,35\",\"0,19\",\"0,29\",\"0,48\",\"4,03\",\"1,73\",\"2,02\",\"0,38\",\"0,77\",\"0,48\",\"14,78\",\"1,25\",\"0,96\",\"0,77\",\"2,11\",\"1,34\",\"0,48\",\"5,85\",\"1,92\",\"2,02\",\"0,67\",\"0,48\",\"0,29\",\"0,86\",\"0,29\",\"0,00\",\"0,29\",\"0,48\",\"8,54\",\"1,25\",\"4,51\",\"2,78\",\"2,40\",\"2,78\",\"1,15\",\"0,00\",\"0,48\",\"0,00\",\"0,19\",\"0,10\",\"0,00\",\"0,00\",\"9,40\",\"3,65\",\"5,09\",\"0,38\",\"0,00\",\"0,10\",\"0,00\",\"0,00\",\"0,00\",\"0,00\",\"0,19\",\"0,00\"\\r\\nlm04.txt,1,1215,\"28,26\",\"23,95\",\"69,38\",\"45,68\",\"12,84\",\"7,82\",\"0,00\",\"0,00\",\"0,25\",\"7,65\",\"2,14\",\"5,02\",\"13,91\",\"8,56\",\"0,49\",\"1,32\",\"6,26\",\"0,00\",\"3,37\",\"14,49\",\"5,68\",\"1,15\",\"1,65\",\"1,65\",\"0,08\",\"0,74\",\"0,00\",\"0,08\",\"1,65\",\"0,66\",\"1,23\",\"0,16\",\"0,00\",\"0,00\",\"0,00\",\"5,93\",\"0,08\",\"0,25\",\"0,33\",\"3,70\",\"1,89\",\"1,48\",\"0,66\",\"0,58\",\"0,41\",\"19,59\",\"2,06\",\"1,98\",\"0,66\",\"2,14\",\"1,15\",\"0,41\",\"6,09\",\"2,14\",\"2,14\",\"0,33\",\"0,74\",\"0,25\",\"1,07\",\"0,25\",\"0,08\",\"0,08\",\"0,74\",\"8,89\",\"1,98\",\"4,44\",\"2,88\",\"3,37\",\"2,55\",\"0,91\",\"0,08\",\"1,32\",\"0,41\",\"0,25\",\"0,25\",\"0,00\",\"0,00\",\"8,23\",\"3,46\",\"4,12\",\"0,16\",\"0,08\",\"0,08\",\"0,00\",\"0,00\",\"0,16\",\"0,00\",\"0,00\",\"0,16\"\\r\\nlm05.txt,1,895,\"33,15\",\"19,44\",\"70,61\",\"48,49\",\"11,28\",\"6,82\",\"0,00\",\"0,00\",\"0,22\",\"6,70\",\"1,90\",\"4,47\",\"11,73\",\"7,71\",\"0,22\",\"1,12\",\"6,26\",\"0,00\",\"3,46\",\"18,44\",\"6,15\",\"1,01\",\"1,34\",\"3,24\",\"0,11\",\"0,22\",\"0,00\",\"0,00\",\"1,45\",\"0,11\",\"1,45\",\"0,56\",\"0,00\",\"0,00\",\"0,00\",\"6,82\",\"1,23\",\"0,34\",\"0,22\",\"3,58\",\"2,12\",\"1,23\",\"0,34\",\"0,56\",\"0,22\",\"18,66\",\"2,01\",\"1,01\",\"1,01\",\"3,13\",\"0,56\",\"1,01\",\"6,37\",\"2,57\",\"2,79\",\"0,22\",\"0,56\",\"0,45\",\"2,01\",\"0,11\",\"0,45\",\"0,00\",\"1,56\",\"9,83\",\"2,23\",\"4,69\",\"3,58\",\"2,57\",\"2,68\",\"0,89\",\"0,56\",\"0,56\",\"0,34\",\"0,34\",\"0,45\",\"0,00\",\"0,00\",\"9,05\",\"3,02\",\"5,59\",\"0,11\",\"0,00\",\"0,00\",\"0,00\",\"0,00\",\"0,00\",\"0,00\",\"0,22\",\"0,11\"\\r\\nlm06.txt,1,949,\"32,72\",\"19,39\",\"75,66\",\"49,00\",\"14,86\",\"8,64\",\"0,32\",\"0,11\",\"1,26\",\"8,01\",\"1,48\",\"6,22\",\"12,75\",\"8,75\",\"0,42\",\"0,95\",\"6,74\",\"0,11\",\"2,95\",\"15,07\",\"5,48\",\"1,69\",\"1,79\",\"1,05\",\"0,00\",\"0,21\",\"0,00\",\"0,42\",\"2,95\",\"0,53\",\"1,90\",\"0,00\",\"0,00\",\"0,32\",\"0,00\",\"9,17\",\"0,11\",\"0,00\",\"0,21\",\"2,85\",\"2,11\",\"0,74\",\"0,11\",\"0,00\",\"0,00\",\"21,18\",\"3,58\",\"1,37\",\"2,11\",\"2,63\",\"1,37\",\"0,21\",\"6,01\",\"1,90\",\"2,11\",\"0,42\",\"1,05\",\"0,11\",\"0,32\",\"0,11\",\"0,00\",\"0,00\",\"0,21\",\"10,33\",\"2,00\",\"4,21\",\"4,21\",\"2,32\",\"1,48\",\"0,74\",\"0,42\",\"0,63\",\"0,32\",\"0,42\",\"0,32\",\"0,00\",\"0,00\",\"11,91\",\"2,95\",\"7,27\",\"0,32\",\"0,00\",\"0,21\",\"0,00\",\"0,00\",\"0,32\",\"0,84\",\"0,00\",\"0,00\"\\r\\nlm07.txt,1,963,\"24,69\",\"18,69\",\"72,07\",\"46,83\",\"12,15\",\"7,17\",\"0,21\",\"0,00\",\"0,10\",\"6,85\",\"1,35\",\"4,98\",\"12,15\",\"9,66\",\"0,10\",\"0,73\",\"7,06\",\"0,00\",\"4,78\",\"15,89\",\"6,54\",\"2,08\",\"1,87\",\"1,04\",\"0,00\",\"0,42\",\"0,00\",\"0,00\",\"2,39\",\"0,42\",\"1,25\",\"0,10\",\"0,00\",\"0,00\",\"0,00\",\"6,33\",\"0,21\",\"0,10\",\"0,31\",\"2,91\",\"2,18\",\"0,83\",\"0,52\",\"0,10\",\"0,31\",\"19,73\",\"2,60\",\"1,35\",\"1,45\",\"2,18\",\"1,56\",\"0,83\",\"5,40\",\"2,28\",\"2,80\",\"0,73\",\"0,42\",\"0,31\",\"1,77\",\"0,62\",\"0,10\",\"0,00\",\"1,04\",\"8,52\",\"3,32\",\"4,05\",\"2,08\",\"4,26\",\"3,95\",\"0,21\",\"0,52\",\"0,52\",\"0,31\",\"0,10\",\"0,31\",\"0,10\",\"0,00\",\"10,49\",\"3,32\",\"4,15\",\"0,21\",\"0,00\",\"1,35\",\"0,00\",\"0,00\",\"1,45\",\"0,00\",\"0,00\",\"0,00\"\\r\\nlm08.txt,1,1081,\"30,03\",\"24,05\",\"69,38\",\"45,88\",\"10,92\",\"6,01\",\"0,00\",\"0,00\",\"0,28\",\"5,83\",\"1,94\",\"4,90\",\"11,56\",\"6,94\",\"0,37\",\"0,83\",\"5,46\",\"0,00\",\"3,70\",\"15,73\",\"5,74\",\"1,39\",\"2,22\",\"1,30\",\"0,00\",\"0,09\",\"0,00\",\"0,09\",\"0,83\",\"0,93\",\"0,93\",\"0,83\",\"0,00\",\"0,00\",\"0,00\",\"7,49\",\"0,28\",\"0,37\",\"0,37\",\"2,68\",\"1,48\",\"1,76\",\"0,46\",\"0,93\",\"0,37\",\"16,74\",\"1,57\",\"1,85\",\"0,37\",\"2,41\",\"1,02\",\"0,65\",\"5,37\",\"1,94\",\"1,76\",\"0,09\",\"0,46\",\"0,28\",\"1,48\",\"0,37\",\"0,37\",\"0,19\",\"0,83\",\"8,33\",\"1,39\",\"3,61\",\"3,61\",\"3,15\",\"2,22\",\"0,56\",\"0,28\",\"2,41\",\"0,09\",\"0,83\",\"0,28\",\"0,00\",\"0,00\",\"11,10\",\"3,24\",\"4,72\",\"0,28\",\"0,00\",\"0,09\",\"0,00\",\"0,00\",\"0,37\",\"2,04\",\"0,37\",\"0,00\"\\r\\nlm09.txt,1,1277,\"23,22\",\"19,50\",\"69,69\",\"46,91\",\"14,64\",\"8,30\",\"0,16\",\"0,00\",\"0,78\",\"8,07\",\"2,11\",\"6,34\",\"12,84\",\"8,61\",\"0,47\",\"2,35\",\"5,40\",\"0,00\",\"3,29\",\"13,78\",\"5,72\",\"2,04\",\"1,57\",\"1,49\",\"0,00\",\"0,47\",\"0,00\",\"0,08\",\"2,66\",\"0,23\",\"1,33\",\"0,08\",\"0,08\",\"0,00\",\"0,00\",\"7,99\",\"0,16\",\"0,31\",\"0,16\",\"2,66\",\"1,72\",\"0,63\",\"0,08\",\"0,16\",\"0,00\",\"20,44\",\"2,90\",\"1,57\",\"1,25\",\"2,74\",\"1,33\",\"0,70\",\"4,86\",\"2,11\",\"2,35\",\"0,63\",\"0,78\",\"0,16\",\"0,78\",\"0,23\",\"0,00\",\"0,16\",\"0,47\",\"7,67\",\"1,96\",\"3,29\",\"2,82\",\"2,27\",\"2,43\",\"0,47\",\"0,08\",\"0,39\",\"0,08\",\"0,00\",\"0,23\",\"0,00\",\"0,00\",\"10,96\",\"3,76\",\"4,46\",\"0,39\",\"0,00\",\"0,63\",\"0,00\",\"0,00\",\"1,72\",\"0,00\",\"0,00\",\"0,00\"\\r\\nlm10.txt,1,1221,\"23,94\",\"21,38\",\"73,71\",\"49,88\",\"13,60\",\"8,35\",\"0,16\",\"0,08\",\"0,90\",\"7,78\",\"2,29\",\"5,24\",\"13,60\",\"8,27\",\"0,66\",\"2,13\",\"5,16\",\"0,00\",\"4,26\",\"16,38\",\"5,16\",\"2,21\",\"2,38\",\"2,13\",\"0,00\",\"0,57\",\"0,00\",\"0,08\",\"1,64\",\"0,66\",\"1,80\",\"0,41\",\"0,00\",\"0,00\",\"0,00\",\"6,63\",\"0,33\",\"0,08\",\"0,08\",\"3,77\",\"1,15\",\"1,97\",\"0,57\",\"1,15\",\"0,41\",\"19,66\",\"2,21\",\"1,15\",\"1,47\",\"3,19\",\"1,39\",\"0,74\",\"4,59\",\"2,62\",\"1,80\",\"0,00\",\"0,49\",\"0,66\",\"1,64\",\"0,41\",\"0,74\",\"0,08\",\"0,66\",\"7,70\",\"2,46\",\"2,87\",\"2,78\",\"3,77\",\"3,28\",\"0,57\",\"0,16\",\"0,98\",\"0,33\",\"0,25\",\"0,41\",\"0,00\",\"0,00\",\"10,73\",\"3,60\",\"4,42\",\"0,41\",\"0,00\",\"0,57\",\"0,00\",\"0,00\",\"1,64\",\"0,00\",\"0,00\",\"0,08\"\\r\\nlm11.txt,1,1219,\"23,00\",\"20,02\",\"70,88\",\"46,27\",\"11,65\",\"6,97\",\"0,33\",\"0,08\",\"0,25\",\"6,48\",\"1,97\",\"4,68\",\"13,21\",\"6,81\",\"0,49\",\"0,90\",\"4,68\",\"0,00\",\"3,04\",\"15,91\",\"5,91\",\"1,48\",\"1,39\",\"1,97\",\"0,16\",\"0,57\",\"0,00\",\"0,00\",\"2,54\",\"0,33\",\"1,31\",\"0,16\",\"0,00\",\"0,08\",\"0,00\",\"6,32\",\"0,25\",\"0,08\",\"0,16\",\"3,45\",\"1,97\",\"1,64\",\"0,33\",\"0,82\",\"0,25\",\"18,05\",\"1,72\",\"1,07\",\"1,07\",\"1,64\",\"1,15\",\"0,57\",\"5,91\",\"2,21\",\"2,38\",\"0,25\",\"1,07\",\"0,16\",\"1,31\",\"0,49\",\"0,08\",\"0,08\",\"0,82\",\"9,19\",\"2,13\",\"4,35\",\"3,20\",\"3,36\",\"1,97\",\"0,57\",\"0,25\",\"1,56\",\"0,49\",\"0,41\",\"0,25\",\"0,00\",\"0,00\",\"13,04\",\"4,51\",\"6,32\",\"0,49\",\"0,00\",\"0,16\",\"0,00\",\"0,33\",\"0,82\",\"0,00\",\"0,00\",\"0,41\"\\r\\nlm12.txt,1,931,\"23,27\",\"21,48\",\"66,38\",\"44,25\",\"12,57\",\"8,81\",\"0,21\",\"0,00\",\"1,07\",\"8,06\",\"2,26\",\"3,76\",\"12,03\",\"7,52\",\"0,11\",\"1,29\",\"5,48\",\"0,00\",\"3,87\",\"16,33\",\"3,87\",\"1,61\",\"1,50\",\"1,72\",\"0,00\",\"0,54\",\"0,00\",\"0,00\",\"1,83\",\"0,43\",\"1,72\",\"0,11\",\"0,00\",\"0,43\",\"0,00\",\"7,41\",\"0,21\",\"0,43\",\"0,54\",\"2,69\",\"1,40\",\"1,07\",\"0,64\",\"0,43\",\"0,21\",\"15,04\",\"1,83\",\"1,50\",\"0,75\",\"1,40\",\"1,40\",\"0,86\",\"3,97\",\"1,40\",\"2,58\",\"0,64\",\"0,54\",\"0,54\",\"1,61\",\"0,54\",\"0,32\",\"0,00\",\"0,75\",\"5,91\",\"1,07\",\"2,90\",\"2,15\",\"3,76\",\"2,04\",\"0,86\",\"0,32\",\"1,07\",\"0,32\",\"0,00\",\"0,11\",\"0,00\",\"0,00\",\"11,17\",\"4,19\",\"5,37\",\"0,11\",\"0,00\",\"0,54\",\"0,00\",\"0,00\",\"0,86\",\"0,00\",\"0,00\",\"0,11\"\\r\\nlm13.txt,1,950,\"31,67\",\"25,05\",\"67,05\",\"45,16\",\"11,68\",\"7,26\",\"0,11\",\"0,00\",\"0,53\",\"6,74\",\"1,68\",\"4,42\",\"12,95\",\"7,58\",\"0,84\",\"2,32\",\"3,79\",\"0,00\",\"3,58\",\"15,16\",\"6,32\",\"1,37\",\"0,84\",\"1,89\",\"0,00\",\"0,74\",\"0,00\",\"0,00\",\"1,68\",\"0,53\",\"0,95\",\"0,11\",\"0,00\",\"0,00\",\"0,00\",\"4,95\",\"0,32\",\"0,11\",\"0,32\",\"3,26\",\"1,16\",\"1,58\",\"0,53\",\"0,21\",\"0,32\",\"17,47\",\"2,74\",\"1,05\",\"0,84\",\"2,11\",\"1,05\",\"0,42\",\"5,16\",\"2,11\",\"1,89\",\"0,32\",\"0,21\",\"0,42\",\"1,26\",\"0,32\",\"0,00\",\"0,00\",\"1,05\",\"7,79\",\"2,11\",\"3,89\",\"2,53\",\"3,68\",\"2,74\",\"1,26\",\"0,42\",\"1,37\",\"0,21\",\"0,21\",\"0,11\",\"0,00\",\"0,00\",\"10,11\",\"3,16\",\"4,42\",\"0,21\",\"0,11\",\"0,21\",\"0,00\",\"0,11\",\"0,21\",\"1,47\",\"0,21\",\"0,00\"\\r\\nlm14.txt,1,1134,\"24,65\",\"20,90\",\"71,87\",\"46,03\",\"12,87\",\"8,73\",\"0,44\",\"0,18\",\"0,35\",\"8,20\",\"3,26\",\"4,14\",\"11,55\",\"8,11\",\"0,53\",\"1,85\",\"5,38\",\"0,00\",\"2,20\",\"15,34\",\"6,08\",\"0,97\",\"1,85\",\"2,29\",\"0,18\",\"0,26\",\"0,00\",\"0,26\",\"2,12\",\"0,26\",\"1,15\",\"0,35\",\"0,00\",\"0,00\",\"0,00\",\"8,47\",\"0,53\",\"0,00\",\"0,62\",\"2,82\",\"1,85\",\"0,79\",\"0,26\",\"0,18\",\"0,26\",\"19,05\",\"1,76\",\"0,97\",\"0,88\",\"3,44\",\"1,59\",\"0,79\",\"7,76\",\"2,56\",\"2,65\",\"0,53\",\"0,79\",\"0,71\",\"1,68\",\"0,79\",\"0,79\",\"0,35\",\"0,44\",\"8,64\",\"2,03\",\"4,85\",\"2,20\",\"3,35\",\"3,44\",\"0,62\",\"0,26\",\"0,26\",\"0,35\",\"0,18\",\"0,09\",\"0,00\",\"0,00\",\"12,70\",\"4,14\",\"6,17\",\"0,18\",\"0,00\",\"0,09\",\"0,00\",\"0,00\",\"0,88\",\"1,06\",\"0,00\",\"0,18\"\\r\\nlm15.txt,1,998,\"31,19\",\"22,34\",\"72,34\",\"49,50\",\"12,83\",\"7,92\",\"0,00\",\"0,00\",\"0,40\",\"7,82\",\"2,30\",\"4,91\",\"13,93\",\"7,21\",\"0,20\",\"1,10\",\"5,31\",\"0,00\",\"2,91\",\"15,53\",\"6,31\",\"1,10\",\"2,40\",\"1,70\",\"0,00\",\"0,30\",\"0,00\",\"0,00\",\"1,60\",\"0,20\",\"1,20\",\"0,10\",\"0,00\",\"0,00\",\"0,00\",\"7,82\",\"0,00\",\"0,00\",\"0,10\",\"3,11\",\"1,70\",\"1,40\",\"0,40\",\"0,70\",\"0,10\",\"18,64\",\"1,70\",\"1,30\",\"1,10\",\"2,51\",\"0,80\",\"0,80\",\"6,21\",\"1,70\",\"2,51\",\"0,40\",\"0,70\",\"0,60\",\"1,60\",\"0,20\",\"0,40\",\"0,20\",\"0,80\",\"8,02\",\"1,50\",\"3,71\",\"2,51\",\"3,51\",\"2,40\",\"0,70\",\"0,30\",\"1,40\",\"0,60\",\"0,30\",\"0,40\",\"0,00\",\"0,00\",\"11,22\",\"2,81\",\"7,31\",\"0,40\",\"0,00\",\"0,40\",\"0,00\",\"0,00\",\"0,00\",\"0,00\",\"0,00\",\"0,30\"\\r\\nlm16.txt,1,1187,\"21,20\",\"20,30\",\"71,61\",\"46,34\",\"12,22\",\"8,09\",\"0,08\",\"0,17\",\"0,59\",\"7,50\",\"2,19\",\"4,13\",\"13,14\",\"6,82\",\"0,59\",\"0,59\",\"5,48\",\"0,00\",\"2,19\",\"16,85\",\"5,48\",\"0,76\",\"1,68\",\"1,68\",\"0,00\",\"0,25\",\"0,08\",\"0,00\",\"2,02\",\"0,59\",\"1,26\",\"0,42\",\"0,00\",\"0,08\",\"0,00\",\"7,75\",\"0,42\",\"0,00\",\"0,42\",\"4,38\",\"2,19\",\"2,02\",\"0,51\",\"1,35\",\"0,08\",\"17,94\",\"1,60\",\"0,67\",\"0,59\",\"3,20\",\"1,10\",\"0,76\",\"7,08\",\"1,94\",\"1,85\",\"1,01\",\"0,51\",\"0,08\",\"0,84\",\"0,25\",\"0,17\",\"0,17\",\"0,34\",\"8,34\",\"1,35\",\"3,96\",\"3,45\",\"2,86\",\"3,20\",\"1,10\",\"0,34\",\"0,84\",\"0,08\",\"0,08\",\"0,34\",\"0,00\",\"0,00\",\"11,12\",\"3,54\",\"3,96\",\"0,08\",\"0,08\",\"1,26\",\"0,00\",\"0,17\",\"1,85\",\"0,00\",\"0,17\",\"0,00\"\\r\\nlm17.txt,1,1318,\"28,65\",\"20,79\",\"71,09\",\"48,03\",\"13,28\",\"8,04\",\"0,08\",\"0,00\",\"0,46\",\"7,81\",\"1,75\",\"5,24\",\"13,05\",\"7,51\",\"0,46\",\"0,61\",\"5,77\",\"0,00\",\"2,88\",\"17,00\",\"6,07\",\"1,82\",\"1,75\",\"1,67\",\"0,00\",\"0,53\",\"0,00\",\"0,15\",\"2,35\",\"0,68\",\"0,99\",\"0,15\",\"0,00\",\"0,00\",\"0,00\",\"6,07\",\"0,23\",\"0,00\",\"0,30\",\"3,03\",\"1,29\",\"1,06\",\"0,15\",\"0,46\",\"0,23\",\"17,91\",\"1,52\",\"1,14\",\"1,14\",\"2,58\",\"0,76\",\"0,53\",\"5,99\",\"2,50\",\"1,52\",\"0,38\",\"0,61\",\"0,30\",\"1,21\",\"0,83\",\"0,30\",\"0,08\",\"0,23\",\"8,65\",\"2,28\",\"3,41\",\"3,72\",\"3,34\",\"3,79\",\"0,68\",\"0,23\",\"0,53\",\"0,30\",\"0,08\",\"0,23\",\"0,00\",\"0,00\",\"10,09\",\"3,41\",\"4,63\",\"0,30\",\"0,00\",\"0,15\",\"0,00\",\"0,00\",\"1,52\",\"0,00\",\"0,00\",\"0,08\"\\r\\nlm19.txt,1,1184,\"25,19\",\"22,21\",\"65,71\",\"45,35\",\"13,01\",\"8,78\",\"0,00\",\"0,00\",\"0,25\",\"8,78\",\"2,53\",\"4,22\",\"13,01\",\"6,93\",\"0,42\",\"1,69\",\"3,80\",\"0,00\",\"2,79\",\"14,61\",\"6,00\",\"1,52\",\"1,44\",\"2,28\",\"0,17\",\"0,68\",\"0,00\",\"0,08\",\"2,11\",\"0,42\",\"1,10\",\"0,08\",\"0,00\",\"0,00\",\"0,00\",\"6,50\",\"0,17\",\"0,08\",\"0,17\",\"3,12\",\"1,10\",\"1,60\",\"0,08\",\"0,42\",\"0,76\",\"17,99\",\"2,03\",\"1,44\",\"1,10\",\"2,53\",\"1,10\",\"0,68\",\"4,73\",\"2,53\",\"1,60\",\"0,42\",\"0,25\",\"0,68\",\"0,93\",\"0,51\",\"0,08\",\"0,08\",\"0,34\",\"6,50\",\"1,86\",\"3,12\",\"2,45\",\"2,28\",\"3,80\",\"0,42\",\"0,17\",\"0,25\",\"0,00\",\"0,08\",\"0,08\",\"0,00\",\"0,00\",\"9,97\",\"3,04\",\"4,22\",\"0,42\",\"0,00\",\"0,93\",\"0,00\",\"0,00\",\"1,01\",\"0,00\",\"0,17\",\"0,17\"\\r\\nlm20.txt,1,1251,\"32,08\",\"22,62\",\"70,58\",\"46,12\",\"11,67\",\"8,31\",\"0,00\",\"0,00\",\"0,32\",\"8,23\",\"1,84\",\"3,36\",\"14,87\",\"6,55\",\"0,80\",\"1,04\",\"4,16\",\"0,00\",\"2,96\",\"15,99\",\"6,39\",\"0,96\",\"0,96\",\"1,84\",\"0,08\",\"0,64\",\"0,00\",\"0,00\",\"1,92\",\"0,32\",\"0,56\",\"0,08\",\"0,00\",\"0,08\",\"0,00\",\"5,92\",\"0,56\",\"0,00\",\"0,48\",\"3,12\",\"1,28\",\"1,60\",\"0,16\",\"0,48\",\"0,24\",\"16,87\",\"1,76\",\"1,04\",\"0,56\",\"2,72\",\"0,56\",\"0,24\",\"5,20\",\"2,08\",\"2,56\",\"0,40\",\"0,80\",\"0,48\",\"1,92\",\"0,40\",\"0,64\",\"0,24\",\"0,80\",\"7,51\",\"1,36\",\"4,08\",\"2,88\",\"3,36\",\"1,92\",\"1,68\",\"0,32\",\"0,80\",\"0,08\",\"0,24\",\"0,48\",\"0,00\",\"0,00\",\"10,07\",\"2,72\",\"5,28\",\"0,24\",\"0,24\",\"0,40\",\"0,00\",\"0,00\",\"1,12\",\"0,00\",\"0,00\",\"0,08\"\\r\\nmr01.txt,1,2808,\"20,50\",\"22,51\",\"72,97\",\"47,08\",\"14,10\",\"7,98\",\"0,36\",\"0,28\",\"0,32\",\"7,51\",\"2,17\",\"6,13\",\"12,78\",\"11,29\",\"0,89\",\"1,67\",\"8,12\",\"0,00\",\"4,42\",\"14,03\",\"6,05\",\"1,35\",\"1,42\",\"1,46\",\"0,04\",\"0,71\",\"0,00\",\"0,28\",\"3,31\",\"0,75\",\"1,78\",\"0,07\",\"0,00\",\"0,00\",\"0,00\",\"7,69\",\"0,11\",\"0,07\",\"0,36\",\"2,60\",\"1,25\",\"0,82\",\"0,04\",\"0,46\",\"0,18\",\"21,51\",\"3,31\",\"1,39\",\"0,93\",\"2,03\",\"1,96\",\"0,71\",\"6,45\",\"1,60\",\"3,03\",\"0,68\",\"0,71\",\"0,46\",\"1,82\",\"0,50\",\"0,39\",\"0,18\",\"0,85\",\"8,08\",\"1,28\",\"4,63\",\"2,46\",\"3,24\",\"2,56\",\"0,39\",\"0,21\",\"1,25\",\"0,07\",\"0,04\",\"0,36\",\"0,07\",\"0,00\",\"6,20\",\"4,31\",\"0,00\",\"0,14\",\"0,00\",\"0,64\",\"0,00\",\"0,11\",\"0,00\",\"0,00\",\"1,00\",\"0,00\"\\r\\nmr02.txt,1,2886,\"26,48\",\"23,35\",\"75,81\",\"46,81\",\"13,03\",\"5,75\",\"0,24\",\"0,62\",\"0,14\",\"5,37\",\"1,94\",\"7,28\",\"11,09\",\"10,19\",\"1,18\",\"1,84\",\"7,97\",\"0,00\",\"3,53\",\"13,44\",\"6,65\",\"1,77\",\"1,59\",\"2,53\",\"0,00\",\"1,21\",\"0,00\",\"0,90\",\"3,01\",\"0,69\",\"1,84\",\"0,24\",\"0,07\",\"0,00\",\"0,00\",\"7,55\",\"0,90\",\"0,00\",\"0,45\",\"2,56\",\"1,39\",\"1,07\",\"0,03\",\"0,35\",\"0,42\",\"22,07\",\"1,63\",\"1,77\",\"1,87\",\"2,88\",\"1,11\",\"0,42\",\"6,03\",\"2,91\",\"2,49\",\"0,76\",\"0,35\",\"0,24\",\"1,77\",\"0,62\",\"0,28\",\"0,00\",\"1,14\",\"8,87\",\"2,15\",\"5,41\",\"2,56\",\"4,05\",\"2,53\",\"1,25\",\"0,55\",\"1,84\",\"0,03\",\"0,10\",\"0,21\",\"0,03\",\"0,00\",\"11,75\",\"3,50\",\"7,31\",\"0,10\",\"0,10\",\"0,42\",\"0,00\",\"0,00\",\"0,14\",\"0,00\",\"0,00\",\"0,17\"\\r\\nmr03.txt,1,2953,\"22,20\",\"22,72\",\"76,46\",\"47,14\",\"13,65\",\"7,01\",\"0,34\",\"0,88\",\"0,24\",\"6,54\",\"1,49\",\"6,64\",\"11,95\",\"11,55\",\"0,85\",\"0,95\",\"9,89\",\"0,00\",\"3,96\",\"14,46\",\"5,82\",\"1,46\",\"1,59\",\"1,59\",\"0,10\",\"1,63\",\"0,00\",\"1,32\",\"3,28\",\"0,58\",\"1,59\",\"0,27\",\"0,00\",\"0,14\",\"0,00\",\"8,94\",\"0,58\",\"0,00\",\"0,71\",\"4,30\",\"2,24\",\"2,17\",\"0,78\",\"0,85\",\"0,54\",\"21,94\",\"2,91\",\"2,07\",\"2,07\",\"2,24\",\"1,59\",\"0,24\",\"7,25\",\"1,49\",\"2,91\",\"0,51\",\"0,88\",\"0,27\",\"1,22\",\"0,34\",\"0,07\",\"0,27\",\"0,85\",\"9,72\",\"2,07\",\"5,76\",\"2,30\",\"2,98\",\"1,93\",\"0,71\",\"0,30\",\"0,61\",\"0,64\",\"0,20\",\"0,44\",\"0,00\",\"0,00\",\"10,94\",\"4,50\",\"5,18\",\"0,27\",\"0,07\",\"0,14\",\"0,00\",\"0,00\",\"0,14\",\"0,00\",\"0,47\",\"0,17\"\\r\\nmr04.txt,1,2631,\"18,93\",\"23,76\",\"76,36\",\"45,99\",\"12,96\",\"7,34\",\"1,25\",\"0,23\",\"0,15\",\"6,04\",\"2,13\",\"5,63\",\"11,29\",\"11,40\",\"1,63\",\"1,37\",\"9,12\",\"0,00\",\"4,98\",\"14,56\",\"5,51\",\"2,13\",\"1,14\",\"1,25\",\"0,00\",\"1,67\",\"0,11\",\"0,34\",\"3,31\",\"0,65\",\"1,25\",\"0,04\",\"0,00\",\"0,00\",\"0,00\",\"8,36\",\"0,61\",\"0,08\",\"0,61\",\"3,42\",\"2,47\",\"0,84\",\"0,34\",\"0,15\",\"0,38\",\"22,84\",\"3,31\",\"2,01\",\"1,48\",\"2,66\",\"2,51\",\"0,68\",\"6,46\",\"1,75\",\"2,55\",\"0,42\",\"0,68\",\"0,38\",\"1,29\",\"0,27\",\"0,27\",\"0,04\",\"0,80\",\"9,24\",\"1,48\",\"5,70\",\"2,28\",\"3,15\",\"2,62\",\"0,57\",\"0,11\",\"1,79\",\"0,11\",\"0,11\",\"0,34\",\"0,00\",\"0,00\",\"13,11\",\"4,45\",\"7,26\",\"0,30\",\"0,08\",\"0,57\",\"0,30\",\"0,04\",\"0,04\",\"0,00\",\"0,08\",\"0,00\"\\r\\nmr05.txt,1,2806,\"31,89\",\"21,31\",\"74,52\",\"47,40\",\"14,08\",\"7,02\",\"0,36\",\"0,53\",\"0,14\",\"6,63\",\"1,75\",\"7,06\",\"12,51\",\"11,08\",\"1,03\",\"1,07\",\"9,23\",\"0,04\",\"3,78\",\"13,54\",\"5,52\",\"2,35\",\"1,53\",\"2,49\",\"0,07\",\"0,93\",\"0,00\",\"0,53\",\"4,53\",\"0,68\",\"1,32\",\"0,25\",\"0,00\",\"0,00\",\"0,00\",\"7,77\",\"0,46\",\"0,07\",\"0,50\",\"3,06\",\"1,32\",\"1,39\",\"0,32\",\"0,43\",\"0,43\",\"22,67\",\"2,17\",\"1,43\",\"1,89\",\"4,10\",\"1,89\",\"0,43\",\"5,06\",\"2,07\",\"2,03\",\"0,36\",\"0,57\",\"0,25\",\"0,96\",\"0,14\",\"0,36\",\"0,14\",\"0,46\",\"7,13\",\"1,46\",\"3,71\",\"2,10\",\"3,10\",\"2,60\",\"0,75\",\"0,21\",\"0,89\",\"0,29\",\"0,00\",\"0,43\",\"0,00\",\"0,00\",\"11,48\",\"2,35\",\"6,41\",\"0,53\",\"0,04\",\"0,29\",\"0,57\",\"0,00\",\"0,07\",\"0,00\",\"1,21\",\"0,00\"\\r\\nmr06.txt,1,2374,\"21,78\",\"20,89\",\"76,50\",\"47,09\",\"13,98\",\"6,28\",\"0,13\",\"0,29\",\"0,46\",\"6,11\",\"2,32\",\"7,71\",\"10,74\",\"11,67\",\"1,98\",\"1,85\",\"8,89\",\"0,00\",\"5,01\",\"13,90\",\"4,42\",\"1,81\",\"1,47\",\"3,79\",\"0,13\",\"1,01\",\"0,00\",\"0,25\",\"4,09\",\"1,47\",\"1,22\",\"0,29\",\"0,00\",\"0,00\",\"0,00\",\"8,34\",\"0,29\",\"0,21\",\"0,04\",\"3,07\",\"1,77\",\"1,05\",\"0,13\",\"0,29\",\"0,29\",\"19,92\",\"3,07\",\"1,64\",\"1,10\",\"2,15\",\"1,56\",\"0,46\",\"5,18\",\"1,56\",\"2,19\",\"0,59\",\"0,84\",\"0,08\",\"0,97\",\"0,29\",\"0,21\",\"0,08\",\"0,42\",\"10,15\",\"2,02\",\"5,31\",\"3,45\",\"4,09\",\"2,15\",\"0,38\",\"0,00\",\"1,90\",\"0,08\",\"0,08\",\"0,21\",\"0,00\",\"0,00\",\"12,17\",\"4,00\",\"6,44\",\"0,25\",\"0,04\",\"0,51\",\"0,38\",\"0,00\",\"0,04\",\"0,00\",\"0,00\",\"0,51\"\\r\\nmr07.txt,1,256,\"25,60\",\"17,19\",\"81,25\",\"49,22\",\"19,92\",\"12,11\",\"1,56\",\"0,39\",\"1,17\",\"10,16\",\"3,52\",\"7,81\",\"10,94\",\"14,06\",\"0,39\",\"2,34\",\"10,16\",\"0,00\",\"7,03\",\"12,11\",\"5,08\",\"2,34\",\"2,34\",\"1,17\",\"0,00\",\"3,52\",\"0,39\",\"0,00\",\"7,03\",\"1,17\",\"1,56\",\"0,00\",\"0,00\",\"0,39\",\"0,00\",\"15,62\",\"1,17\",\"0,39\",\"1,17\",\"2,34\",\"1,17\",\"1,56\",\"0,39\",\"0,39\",\"0,00\",\"19,53\",\"2,73\",\"1,17\",\"1,95\",\"3,12\",\"2,34\",\"0,00\",\"3,12\",\"1,17\",\"5,86\",\"1,17\",\"3,12\",\"0,39\",\"1,56\",\"0,39\",\"0,39\",\"0,00\",\"0,78\",\"10,16\",\"2,34\",\"3,91\",\"3,91\",\"3,52\",\"0,78\",\"0,39\",\"0,00\",\"0,78\",\"0,00\",\"0,39\",\"0,00\",\"0,00\",\"0,00\",\"10,16\",\"3,91\",\"5,86\",\"0,00\",\"0,00\",\"0,39\",\"0,00\",\"0,00\",\"0,00\",\"0,00\",\"0,00\",\"0,00\"\\r\\nmr08.txt,1,2739,\"23,02\",\"21,58\",\"74,66\",\"46,77\",\"13,58\",\"7,37\",\"0,51\",\"0,44\",\"0,44\",\"6,72\",\"1,57\",\"6,21\",\"12,49\",\"11,61\",\"1,72\",\"1,28\",\"9,93\",\"0,04\",\"3,61\",\"14,53\",\"5,62\",\"1,20\",\"1,24\",\"2,74\",\"0,00\",\"1,64\",\"0,00\",\"1,24\",\"3,58\",\"0,62\",\"1,68\",\"0,22\",\"0,07\",\"0,04\",\"0,00\",\"7,30\",\"0,40\",\"0,26\",\"0,40\",\"3,36\",\"2,08\",\"1,10\",\"0,26\",\"0,22\",\"0,26\",\"19,79\",\"1,83\",\"1,64\",\"1,94\",\"2,26\",\"0,80\",\"0,62\",\"6,64\",\"1,64\",\"2,26\",\"0,77\",\"0,66\",\"0,18\",\"0,84\",\"0,18\",\"0,11\",\"0,00\",\"0,66\",\"10,11\",\"1,50\",\"5,62\",\"3,21\",\"3,83\",\"2,67\",\"1,10\",\"0,11\",\"1,75\",\"0,07\",\"0,00\",\"0,33\",\"0,04\",\"0,00\",\"10,95\",\"4,02\",\"5,66\",\"0,40\",\"0,00\",\"0,55\",\"0,00\",\"0,00\",\"0,00\",\"0,00\",\"0,15\",\"0,18\"\\r\\nmr09.txt,1,3049,\"19,54\",\"23,02\",\"74,75\",\"45,33\",\"11,45\",\"5,28\",\"0,39\",\"0,36\",\"0,16\",\"4,59\",\"1,84\",\"6,17\",\"10,50\",\"10,79\",\"1,15\",\"1,48\",\"8,59\",\"0,00\",\"4,72\",\"13,68\",\"6,10\",\"2,23\",\"1,80\",\"3,12\",\"0,13\",\"0,95\",\"0,07\",\"0,52\",\"3,02\",\"1,15\",\"1,12\",\"0,13\",\"0,00\",\"0,03\",\"0,00\",\"8,30\",\"0,33\",\"0,13\",\"0,03\",\"3,15\",\"2,13\",\"0,72\",\"0,10\",\"0,07\",\"0,13\",\"22,53\",\"3,44\",\"1,48\",\"1,34\",\"3,77\",\"1,90\",\"0,39\",\"5,97\",\"2,43\",\"3,41\",\"0,95\",\"1,25\",\"0,23\",\"1,21\",\"0,39\",\"0,16\",\"0,07\",\"0,62\",\"9,45\",\"1,97\",\"5,18\",\"2,62\",\"2,49\",\"1,80\",\"0,62\",\"0,03\",\"2,00\",\"0,36\",\"0,10\",\"0,39\",\"0,03\",\"0,00\",\"13,28\",\"4,39\",\"6,79\",\"0,39\",\"0,07\",\"0,85\",\"0,00\",\"0,03\",\"0,26\",\"0,00\",\"0,33\",\"0,16\"\\r\\nmr10.txt,1,2675,\"14,94\",\"21,12\",\"73,61\",\"47,10\",\"12,30\",\"6,95\",\"0,60\",\"0,04\",\"0,60\",\"5,72\",\"1,53\",\"5,35\",\"12,04\",\"11,36\",\"1,05\",\"1,72\",\"8,15\",\"0,04\",\"5,94\",\"12,79\",\"5,98\",\"2,62\",\"1,87\",\"2,06\",\"0,00\",\"1,91\",\"0,07\",\"0,45\",\"3,89\",\"0,86\",\"1,12\",\"0,30\",\"0,00\",\"0,45\",\"0,00\",\"7,96\",\"0,15\",\"0,07\",\"0,45\",\"3,89\",\"2,17\",\"1,46\",\"0,11\",\"0,67\",\"0,52\",\"20,52\",\"3,14\",\"1,61\",\"1,16\",\"1,98\",\"2,06\",\"0,37\",\"5,79\",\"1,94\",\"2,84\",\"0,79\",\"0,56\",\"0,22\",\"1,61\",\"0,22\",\"0,30\",\"0,30\",\"0,97\",\"8,49\",\"1,27\",\"4,11\",\"3,51\",\"2,09\",\"1,79\",\"1,05\",\"0,15\",\"0,37\",\"0,49\",\"0,11\",\"0,22\",\"0,22\",\"0,00\",\"13,94\",\"5,79\",\"4,97\",\"0,60\",\"0,00\",\"0,56\",\"0,56\",\"0,04\",\"0,15\",\"0,00\",\"1,27\",\"0,00\"\\r\\nmr11.txt,1,648,\"43,20\",\"29,48\",\"68,06\",\"46,14\",\"12,81\",\"7,87\",\"0,00\",\"0,00\",\"0,00\",\"7,72\",\"2,16\",\"4,94\",\"13,89\",\"4,32\",\"0,62\",\"0,77\",\"2,78\",\"0,00\",\"1,70\",\"18,67\",\"4,94\",\"0,93\",\"0,31\",\"1,39\",\"0,00\",\"0,15\",\"0,00\",\"0,15\",\"0,77\",\"0,31\",\"0,93\",\"0,00\",\"0,00\",\"0,00\",\"0,00\",\"8,33\",\"0,77\",\"0,46\",\"0,46\",\"4,32\",\"1,85\",\"1,85\",\"0,15\",\"1,23\",\"0,46\",\"14,04\",\"1,85\",\"0,31\",\"1,08\",\"1,39\",\"0,46\",\"0,15\",\"6,64\",\"2,31\",\"1,70\",\"0,46\",\"0,46\",\"0,00\",\"0,62\",\"0,00\",\"0,00\",\"0,15\",\"0,46\",\"5,25\",\"0,62\",\"3,70\",\"1,23\",\"4,63\",\"1,39\",\"0,93\",\"0,31\",\"1,08\",\"0,31\",\"0,00\",\"0,93\",\"0,00\",\"0,00\",\"11,88\",\"3,09\",\"5,86\",\"0,00\",\"0,15\",\"0,00\",\"0,00\",\"0,00\",\"2,16\",\"0,00\",\"0,62\",\"0,00\"\\r\\nmr12.txt,1,387,\"43,00\",\"28,94\",\"65,12\",\"47,03\",\"17,05\",\"11,11\",\"0,52\",\"0,00\",\"0,00\",\"10,59\",\"3,10\",\"5,94\",\"14,73\",\"3,36\",\"0,00\",\"0,78\",\"1,29\",\"0,00\",\"2,33\",\"17,83\",\"2,58\",\"1,03\",\"0,26\",\"0,78\",\"0,00\",\"0,26\",\"0,00\",\"0,00\",\"0,78\",\"0,00\",\"0,78\",\"0,00\",\"0,00\",\"0,00\",\"0,00\",\"5,94\",\"0,78\",\"0,00\",\"0,00\",\"1,55\",\"1,29\",\"0,26\",\"0,00\",\"0,26\",\"0,00\",\"11,11\",\"2,33\",\"0,00\",\"0,52\",\"0,52\",\"0,00\",\"0,00\",\"5,94\",\"0,26\",\"1,81\",\"0,52\",\"0,52\",\"0,52\",\"0,26\",\"0,26\",\"0,00\",\"0,00\",\"0,00\",\"6,72\",\"1,03\",\"5,43\",\"1,03\",\"6,98\",\"2,07\",\"1,03\",\"0,52\",\"0,52\",\"0,26\",\"0,00\",\"0,00\",\"0,00\",\"0,00\",\"12,92\",\"2,33\",\"3,36\",\"0,00\",\"0,00\",\"0,00\",\"0,00\",\"0,00\",\"6,20\",\"0,00\",\"1,03\",\"0,00\"\\r\\nmr13.txt,1,361,\"45,12\",\"32,69\",\"63,99\",\"41,00\",\"9,42\",\"5,54\",\"0,00\",\"0,00\",\"0,00\",\"5,54\",\"0,55\",\"3,88\",\"15,24\",\"4,71\",\"0,28\",\"1,66\",\"1,94\",\"0,00\",\"0,83\",\"17,17\",\"2,22\",\"0,28\",\"0,83\",\"1,66\",\"0,55\",\"0,00\",\"0,00\",\"0,00\",\"0,55\",\"0,00\",\"0,55\",\"0,00\",\"0,00\",\"0,00\",\"0,00\",\"5,26\",\"0,55\",\"0,28\",\"0,00\",\"3,32\",\"1,94\",\"0,55\",\"0,00\",\"0,83\",\"0,00\",\"13,02\",\"2,22\",\"0,83\",\"0,28\",\"1,11\",\"0,83\",\"0,55\",\"5,82\",\"1,11\",\"2,22\",\"0,28\",\"0,83\",\"0,28\",\"0,83\",\"0,83\",\"0,00\",\"0,28\",\"0,00\",\"6,65\",\"1,39\",\"4,43\",\"0,83\",\"3,60\",\"1,94\",\"1,94\",\"0,28\",\"0,55\",\"0,55\",\"0,00\",\"0,55\",\"0,00\",\"0,00\",\"9,97\",\"2,22\",\"4,43\",\"0,00\",\"0,00\",\"0,00\",\"0,00\",\"0,00\",\"2,22\",\"0,00\",\"1,11\",\"0,00\"\\r\\nmr14.txt,1,1202,\"29,32\",\"29,28\",\"66,06\",\"42,85\",\"13,48\",\"9,40\",\"0,00\",\"0,08\",\"0,17\",\"9,15\",\"1,33\",\"4,08\",\"14,56\",\"7,24\",\"0,75\",\"2,75\",\"3,74\",\"0,00\",\"2,25\",\"16,06\",\"3,49\",\"0,92\",\"0,50\",\"1,91\",\"0,00\",\"0,75\",\"0,00\",\"0,50\",\"2,25\",\"0,50\",\"1,00\",\"0,17\",\"0,00\",\"0,08\",\"0,00\",\"7,90\",\"0,08\",\"0,00\",\"0,08\",\"3,08\",\"1,16\",\"1,33\",\"0,17\",\"1,08\",\"0,17\",\"13,39\",\"2,41\",\"0,75\",\"0,92\",\"1,66\",\"0,92\",\"0,58\",\"4,91\",\"0,67\",\"3,74\",\"0,33\",\"2,41\",\"0,25\",\"0,67\",\"0,25\",\"0,00\",\"0,33\",\"0,25\",\"5,74\",\"1,25\",\"3,24\",\"1,66\",\"3,24\",\"1,08\",\"0,58\",\"0,25\",\"0,75\",\"0,42\",\"0,00\",\"0,08\",\"0,00\",\"0,00\",\"16,22\",\"3,66\",\"8,07\",\"0,08\",\"0,00\",\"0,00\",\"0,08\",\"0,08\",\"3,66\",\"0,00\",\"0,50\",\"0,08\"\\r\\nmr15.txt,1,467,\"38,92\",\"30,84\",\"66,81\",\"46,68\",\"14,56\",\"9,42\",\"0,00\",\"0,21\",\"0,21\",\"9,21\",\"3,00\",\"5,14\",\"15,42\",\"5,57\",\"0,21\",\"1,71\",\"3,43\",\"0,00\",\"2,36\",\"16,49\",\"4,50\",\"0,43\",\"0,64\",\"0,43\",\"0,00\",\"0,43\",\"0,00\",\"0,00\",\"1,71\",\"0,00\",\"1,07\",\"0,00\",\"0,00\",\"0,00\",\"0,00\",\"6,64\",\"0,21\",\"0,21\",\"0,21\",\"5,35\",\"3,64\",\"1,71\",\"0,00\",\"1,28\",\"0,00\",\"14,35\",\"1,71\",\"0,86\",\"0,21\",\"1,28\",\"1,07\",\"0,86\",\"7,28\",\"1,07\",\"1,93\",\"0,21\",\"0,64\",\"0,21\",\"0,64\",\"0,00\",\"0,00\",\"0,00\",\"0,64\",\"8,14\",\"1,71\",\"5,57\",\"1,93\",\"3,43\",\"0,86\",\"0,86\",\"0,00\",\"0,64\",\"0,21\",\"0,00\",\"0,43\",\"0,00\",\"0,00\",\"13,92\",\"2,57\",\"3,64\",\"0,00\",\"0,00\",\"0,00\",\"0,00\",\"0,00\",\"5,57\",\"0,00\",\"2,14\",\"0,00\"\\r\\nmr16.txt,1,2682,\"21,80\",\"19,20\",\"75,02\",\"47,61\",\"13,61\",\"6,38\",\"0,41\",\"0,60\",\"0,22\",\"5,93\",\"1,19\",\"7,23\",\"12,38\",\"11,71\",\"1,42\",\"0,71\",\"9,77\",\"0,00\",\"3,58\",\"14,54\",\"5,11\",\"2,01\",\"1,68\",\"2,27\",\"0,00\",\"1,90\",\"0,00\",\"0,67\",\"3,43\",\"1,04\",\"1,53\",\"0,15\",\"0,00\",\"0,00\",\"0,00\",\"5,48\",\"0,41\",\"0,11\",\"0,11\",\"3,21\",\"1,75\",\"0,93\",\"0,22\",\"0,22\",\"0,26\",\"20,95\",\"2,95\",\"1,57\",\"1,64\",\"2,35\",\"1,08\",\"0,67\",\"5,70\",\"2,76\",\"1,49\",\"0,41\",\"0,34\",\"0,34\",\"1,16\",\"0,63\",\"0,07\",\"0,07\",\"0,71\",\"8,91\",\"2,35\",\"4,85\",\"2,16\",\"4,10\",\"2,09\",\"0,56\",\"0,26\",\"3,77\",\"0,07\",\"0,26\",\"0,45\",\"0,00\",\"0,00\",\"10,78\",\"4,03\",\"4,77\",\"0,41\",\"0,15\",\"0,26\",\"0,34\",\"0,00\",\"0,00\",\"0,00\",\"0,37\",\"0,45\"\\r\\nmr17.txt,1,2958,\"24,65\",\"21,64\",\"78,06\",\"48,17\",\"15,35\",\"9,03\",\"0,71\",\"0,24\",\"0,34\",\"8,05\",\"1,76\",\"6,32\",\"12,44\",\"9,97\",\"1,49\",\"1,15\",\"8,01\",\"0,03\",\"3,82\",\"15,04\",\"5,07\",\"1,62\",\"1,52\",\"1,99\",\"0,03\",\"1,15\",\"0,00\",\"0,74\",\"3,31\",\"0,61\",\"1,05\",\"0,34\",\"0,00\",\"0,00\",\"0,00\",\"8,76\",\"0,54\",\"0,17\",\"0,95\",\"3,79\",\"3,11\",\"0,81\",\"0,17\",\"0,24\",\"0,17\",\"20,89\",\"2,91\",\"1,62\",\"1,76\",\"1,83\",\"2,03\",\"0,24\",\"6,52\",\"1,39\",\"1,93\",\"0,30\",\"0,57\",\"0,20\",\"1,12\",\"0,27\",\"0,54\",\"0,07\",\"0,34\",\"9,43\",\"1,59\",\"5,65\",\"2,57\",\"3,58\",\"3,58\",\"0,64\",\"0,34\",\"1,35\",\"0,07\",\"0,17\",\"0,41\",\"0,00\",\"0,00\",\"9,43\",\"2,94\",\"4,53\",\"0,14\",\"0,00\",\"0,44\",\"0,78\",\"0,00\",\"0,00\",\"0,00\",\"0,61\",\"0,00\"\\r\\nmr18.txt,1,3234,\"22,94\",\"20,44\",\"73,44\",\"46,35\",\"12,03\",\"6,12\",\"0,25\",\"0,46\",\"0,56\",\"5,88\",\"1,55\",\"5,91\",\"11,50\",\"10,30\",\"1,61\",\"1,61\",\"7,82\",\"0,00\",\"3,80\",\"14,44\",\"5,35\",\"1,33\",\"2,26\",\"2,41\",\"0,12\",\"1,48\",\"0,09\",\"0,49\",\"4,67\",\"0,43\",\"1,42\",\"0,40\",\"0,00\",\"0,00\",\"0,00\",\"6,43\",\"0,40\",\"0,06\",\"0,03\",\"2,94\",\"2,01\",\"0,80\",\"0,06\",\"0,19\",\"0,31\",\"20,44\",\"2,63\",\"1,76\",\"1,14\",\"2,35\",\"1,92\",\"0,43\",\"6,40\",\"1,92\",\"1,73\",\"0,49\",\"0,25\",\"0,12\",\"0,99\",\"0,43\",\"0,03\",\"0,03\",\"0,53\",\"10,73\",\"2,50\",\"6,37\",\"2,20\",\"3,28\",\"2,10\",\"0,34\",\"0,06\",\"2,29\",\"0,03\",\"0,15\",\"0,77\",\"0,00\",\"0,00\",\"9,74\",\"3,96\",\"3,56\",\"0,43\",\"0,03\",\"0,43\",\"0,00\",\"0,09\",\"0,06\",\"0,00\",\"0,93\",\"0,25\"\\r\\nmr19.txt,1,3423,\"14,88\",\"16,48\",\"75,43\",\"47,71\",\"14,64\",\"8,59\",\"1,29\",\"0,23\",\"1,14\",\"6,40\",\"1,52\",\"6,05\",\"10,75\",\"12,68\",\"1,31\",\"2,75\",\"8,94\",\"0,00\",\"4,70\",\"12,91\",\"6,34\",\"1,58\",\"2,04\",\"2,19\",\"0,03\",\"2,02\",\"0,09\",\"0,50\",\"4,09\",\"1,17\",\"1,23\",\"0,35\",\"0,03\",\"0,64\",\"0,00\",\"8,15\",\"0,18\",\"0,12\",\"0,44\",\"2,40\",\"1,61\",\"1,02\",\"0,12\",\"0,64\",\"0,15\",\"20,36\",\"2,92\",\"1,84\",\"1,17\",\"2,45\",\"1,69\",\"0,15\",\"6,22\",\"2,02\",\"2,92\",\"0,70\",\"0,79\",\"0,38\",\"1,43\",\"0,35\",\"0,32\",\"0,09\",\"1,05\",\"9,38\",\"1,84\",\"4,38\",\"3,65\",\"2,86\",\"1,17\",\"0,85\",\"0,32\",\"1,29\",\"0,44\",\"0,23\",\"0,29\",\"0,00\",\"0,00\",\"13,38\",\"6,31\",\"5,02\",\"0,73\",\"0,12\",\"0,50\",\"0,06\",\"0,06\",\"0,29\",\"0,00\",\"0,23\",\"0,06\"\\r\\nmr20.txt,1,3176,\"17,17\",\"18,32\",\"73,46\",\"47,20\",\"14,55\",\"8,47\",\"1,26\",\"0,19\",\"1,20\",\"6,58\",\"2,05\",\"6,08\",\"10,42\",\"10,86\",\"1,10\",\"2,05\",\"7,93\",\"0,00\",\"5,16\",\"13,82\",\"5,45\",\"2,05\",\"1,39\",\"2,11\",\"0,03\",\"1,83\",\"0,09\",\"0,28\",\"4,50\",\"0,60\",\"0,98\",\"0,19\",\"0,00\",\"0,57\",\"0,00\",\"9,01\",\"0,13\",\"0,19\",\"0,66\",\"3,24\",\"2,36\",\"0,79\",\"0,06\",\"0,31\",\"0,13\",\"19,77\",\"2,61\",\"1,07\",\"1,39\",\"2,87\",\"1,70\",\"0,35\",\"5,67\",\"2,08\",\"2,77\",\"0,79\",\"0,85\",\"0,19\",\"1,32\",\"0,28\",\"0,25\",\"0,16\",\"0,66\",\"8,56\",\"1,29\",\"5,10\",\"2,42\",\"2,77\",\"1,98\",\"1,07\",\"0,06\",\"0,38\",\"0,16\",\"0,06\",\"0,63\",\"0,00\",\"0,00\",\"14,01\",\"5,42\",\"6,39\",\"0,76\",\"0,13\",\"0,54\",\"0,00\",\"0,06\",\"0,09\",\"0,00\",\"0,63\",\"0,00\"\\r\\nnc01.txt,1,1230,\"27,95\",\"23,41\",\"69,27\",\"45,28\",\"11,63\",\"8,05\",\"0,00\",\"0,08\",\"0,16\",\"7,80\",\"3,01\",\"3,58\",\"12,93\",\"7,72\",\"0,65\",\"2,60\",\"4,31\",\"0,00\",\"2,28\",\"16,75\",\"4,15\",\"1,14\",\"1,14\",\"2,52\",\"0,00\",\"0,73\",\"0,00\",\"0,00\",\"2,28\",\"0,41\",\"0,73\",\"0,33\",\"0,08\",\"0,00\",\"0,00\",\"8,21\",\"0,65\",\"0,00\",\"0,41\",\"1,71\",\"0,98\",\"0,49\",\"0,00\",\"0,24\",\"0,08\",\"14,72\",\"0,98\",\"0,98\",\"0,81\",\"1,63\",\"1,38\",\"0,73\",\"5,93\",\"1,38\",\"3,33\",\"0,98\",\"0,98\",\"0,73\",\"1,06\",\"0,49\",\"0,00\",\"0,33\",\"0,57\",\"6,42\",\"0,81\",\"3,74\",\"2,11\",\"4,88\",\"2,36\",\"0,81\",\"0,41\",\"1,06\",\"0,08\",\"0,00\",\"0,16\",\"0,08\",\"0,00\",\"8,05\",\"3,58\",\"3,58\",\"0,24\",\"0,24\",\"0,16\",\"0,00\",\"0,00\",\"0,00\",\"0,00\",\"0,16\",\"0,08\"\\r\\nnc02.txt,1,1178,\"28,05\",\"22,33\",\"70,12\",\"47,45\",\"13,67\",\"8,15\",\"0,00\",\"0,25\",\"0,17\",\"8,15\",\"1,78\",\"5,52\",\"15,03\",\"8,15\",\"0,85\",\"2,12\",\"5,35\",\"0,00\",\"2,72\",\"16,38\",\"3,48\",\"1,36\",\"0,85\",\"1,70\",\"0,00\",\"0,51\",\"0,00\",\"0,08\",\"2,89\",\"0,93\",\"1,02\",\"0,00\",\"0,00\",\"0,00\",\"0,00\",\"7,05\",\"0,59\",\"0,25\",\"0,59\",\"3,48\",\"1,70\",\"1,02\",\"0,17\",\"0,51\",\"0,25\",\"15,62\",\"2,38\",\"0,68\",\"1,36\",\"1,53\",\"0,68\",\"0,42\",\"4,67\",\"1,44\",\"1,78\",\"0,42\",\"0,42\",\"0,51\",\"1,02\",\"0,59\",\"0,08\",\"0,25\",\"0,25\",\"7,39\",\"1,95\",\"3,40\",\"2,80\",\"2,72\",\"2,97\",\"0,25\",\"0,08\",\"0,68\",\"0,08\",\"0,00\",\"0,17\",\"0,08\",\"0,00\",\"8,74\",\"3,57\",\"4,50\",\"0,17\",\"0,34\",\"0,00\",\"0,00\",\"0,00\",\"0,00\",\"0,00\",\"0,17\",\"0,00\"\\r\\nnc03.txt,1,1170,\"19,83\",\"22,31\",\"70,68\",\"47,26\",\"13,59\",\"7,61\",\"0,09\",\"0,17\",\"0,51\",\"7,18\",\"2,39\",\"5,98\",\"15,73\",\"8,29\",\"0,43\",\"1,28\",\"5,81\",\"0,09\",\"2,39\",\"15,13\",\"2,74\",\"1,20\",\"1,28\",\"1,62\",\"0,00\",\"0,26\",\"0,00\",\"0,17\",\"2,31\",\"1,20\",\"0,94\",\"0,34\",\"0,00\",\"0,00\",\"0,00\",\"6,24\",\"0,09\",\"0,09\",\"0,26\",\"3,25\",\"1,45\",\"1,88\",\"0,68\",\"0,85\",\"0,17\",\"16,50\",\"1,54\",\"1,03\",\"0,68\",\"1,54\",\"1,20\",\"0,68\",\"5,64\",\"0,43\",\"2,14\",\"0,77\",\"0,43\",\"0,34\",\"0,51\",\"0,09\",\"0,09\",\"0,09\",\"0,26\",\"7,78\",\"1,97\",\"3,93\",\"2,22\",\"3,76\",\"2,14\",\"0,51\",\"0,26\",\"1,20\",\"0,09\",\"0,09\",\"0,26\",\"0,00\",\"0,00\",\"8,29\",\"5,21\",\"2,65\",\"0,00\",\"0,00\",\"0,09\",\"0,00\",\"0,09\",\"0,00\",\"0,00\",\"0,17\",\"0,09\"\\r\\nnc04.txt,1,1171,\"23,90\",\"24,51\",\"69,34\",\"46,03\",\"11,87\",\"7,34\",\"0,00\",\"0,09\",\"0,34\",\"7,26\",\"2,13\",\"4,53\",\"15,12\",\"6,75\",\"0,60\",\"1,11\",\"5,12\",\"0,00\",\"2,65\",\"15,20\",\"4,27\",\"1,11\",\"1,28\",\"1,96\",\"0,09\",\"0,43\",\"0,00\",\"0,00\",\"2,39\",\"0,34\",\"1,11\",\"0,26\",\"0,00\",\"0,00\",\"0,00\",\"7,00\",\"0,77\",\"0,34\",\"0,34\",\"3,42\",\"1,71\",\"1,71\",\"0,00\",\"0,60\",\"0,26\",\"16,82\",\"2,48\",\"1,71\",\"0,60\",\"1,88\",\"0,77\",\"0,68\",\"5,72\",\"1,88\",\"1,45\",\"0,43\",\"0,17\",\"0,43\",\"1,02\",\"0,51\",\"0,34\",\"0,17\",\"0,26\",\"7,51\",\"1,71\",\"4,44\",\"1,54\",\"3,76\",\"2,90\",\"0,60\",\"0,60\",\"0,85\",\"0,43\",\"0,09\",\"0,26\",\"0,00\",\"0,00\",\"9,14\",\"3,76\",\"4,36\",\"0,17\",\"0,17\",\"0,43\",\"0,00\",\"0,09\",\"0,00\",\"0,00\",\"0,17\",\"0,00\"\\r\\nnc05.txt,1,1168,\"22,90\",\"22,86\",\"71,32\",\"45,46\",\"14,55\",\"8,73\",\"0,00\",\"0,00\",\"0,09\",\"8,48\",\"2,48\",\"5,82\",\"16,01\",\"8,39\",\"0,17\",\"2,14\",\"5,14\",\"0,00\",\"2,57\",\"15,07\",\"2,48\",\"1,20\",\"1,54\",\"1,28\",\"0,00\",\"0,26\",\"0,00\",\"0,09\",\"2,40\",\"1,28\",\"1,03\",\"0,17\",\"0,00\",\"0,00\",\"0,00\",\"7,36\",\"0,17\",\"0,00\",\"0,43\",\"2,65\",\"1,20\",\"1,11\",\"0,26\",\"0,51\",\"0,34\",\"16,61\",\"2,23\",\"1,11\",\"1,03\",\"1,63\",\"1,11\",\"0,43\",\"5,22\",\"1,37\",\"2,40\",\"0,60\",\"0,60\",\"0,68\",\"1,11\",\"0,43\",\"0,34\",\"0,00\",\"0,34\",\"8,56\",\"2,05\",\"4,97\",\"2,91\",\"4,11\",\"2,14\",\"0,43\",\"0,17\",\"1,11\",\"0,26\",\"0,09\",\"0,60\",\"0,00\",\"0,00\",\"8,30\",\"4,20\",\"2,91\",\"0,43\",\"0,09\",\"0,26\",\"0,00\",\"0,00\",\"0,00\",\"0,00\",\"0,17\",\"0,26\"\\r\\nnc06.txt,1,1152,\"25,04\",\"23,26\",\"67,45\",\"45,75\",\"11,98\",\"7,64\",\"0,09\",\"0,26\",\"0,09\",\"7,38\",\"1,82\",\"4,34\",\"13,63\",\"7,38\",\"0,43\",\"1,13\",\"4,95\",\"0,00\",\"3,39\",\"17,88\",\"3,30\",\"1,48\",\"1,13\",\"1,30\",\"0,09\",\"0,26\",\"0,09\",\"0,17\",\"2,00\",\"0,35\",\"0,78\",\"0,35\",\"0,00\",\"0,00\",\"0,00\",\"5,73\",\"0,09\",\"0,00\",\"0,26\",\"2,69\",\"1,30\",\"0,87\",\"0,17\",\"0,43\",\"0,17\",\"16,41\",\"2,17\",\"1,65\",\"0,87\",\"1,65\",\"1,04\",\"0,78\",\"5,56\",\"0,61\",\"1,91\",\"0,35\",\"0,43\",\"0,09\",\"1,48\",\"0,43\",\"0,35\",\"0,17\",\"0,69\",\"8,33\",\"1,65\",\"4,95\",\"2,26\",\"3,04\",\"2,60\",\"0,26\",\"0,26\",\"0,61\",\"0,35\",\"0,00\",\"0,35\",\"0,00\",\"0,00\",\"7,81\",\"3,91\",\"3,39\",\"0,17\",\"0,26\",\"0,00\",\"0,09\",\"0,00\",\"0,00\",\"0,00\",\"0,00\",\"0,00\"\\r\\nnc07.txt,1,1180,\"21,85\",\"22,20\",\"73,31\",\"48,81\",\"13,81\",\"8,90\",\"0,25\",\"0,17\",\"0,08\",\"8,56\",\"2,63\",\"4,92\",\"15,00\",\"7,37\",\"0,85\",\"2,12\",\"4,32\",\"0,00\",\"2,71\",\"16,69\",\"3,05\",\"1,44\",\"1,69\",\"3,14\",\"0,08\",\"0,34\",\"0,00\",\"0,08\",\"2,80\",\"0,85\",\"0,93\",\"0,51\",\"0,00\",\"0,00\",\"0,00\",\"7,20\",\"0,17\",\"0,08\",\"0,25\",\"3,47\",\"1,78\",\"1,61\",\"0,34\",\"0,59\",\"0,08\",\"14,83\",\"1,36\",\"0,93\",\"0,59\",\"1,86\",\"1,19\",\"0,59\",\"4,24\",\"1,95\",\"1,69\",\"0,25\",\"0,34\",\"0,42\",\"1,36\",\"0,59\",\"0,17\",\"0,25\",\"0,42\",\"8,22\",\"1,69\",\"3,90\",\"3,31\",\"3,39\",\"2,54\",\"0,76\",\"0,34\",\"1,53\",\"0,25\",\"0,00\",\"0,25\",\"0,08\",\"0,00\",\"7,88\",\"4,58\",\"2,54\",\"0,17\",\"0,00\",\"0,00\",\"0,08\",\"0,17\",\"0,00\",\"0,00\",\"0,17\",\"0,17\"\\r\\nnc08.txt,1,1136,\"30,70\",\"24,82\",\"68,84\",\"44,54\",\"11,97\",\"6,95\",\"0,00\",\"0,00\",\"0,18\",\"6,78\",\"1,85\",\"5,02\",\"14,70\",\"6,43\",\"0,26\",\"1,23\",\"4,23\",\"0,00\",\"2,38\",\"15,76\",\"3,08\",\"1,06\",\"0,79\",\"2,29\",\"0,09\",\"0,62\",\"0,00\",\"0,09\",\"2,46\",\"0,18\",\"1,23\",\"0,18\",\"0,00\",\"0,00\",\"0,00\",\"6,34\",\"0,00\",\"0,18\",\"0,18\",\"2,73\",\"1,14\",\"1,14\",\"0,18\",\"0,62\",\"0,00\",\"16,29\",\"1,85\",\"1,23\",\"0,79\",\"0,97\",\"1,41\",\"0,44\",\"5,46\",\"0,88\",\"1,06\",\"0,09\",\"0,18\",\"0,44\",\"1,06\",\"0,44\",\"0,35\",\"0,35\",\"0,09\",\"7,57\",\"1,94\",\"4,40\",\"2,29\",\"3,79\",\"2,90\",\"0,70\",\"0,18\",\"1,50\",\"0,26\",\"0,09\",\"0,44\",\"0,09\",\"0,00\",\"7,66\",\"3,26\",\"3,61\",\"0,44\",\"0,18\",\"0,00\",\"0,00\",\"0,09\",\"0,00\",\"0,00\",\"0,00\",\"0,09\"\\r\\nnc09.txt,1,1117,\"22,80\",\"23,01\",\"73,50\",\"48,43\",\"14,23\",\"8,59\",\"0,00\",\"0,09\",\"0,54\",\"8,42\",\"3,04\",\"5,64\",\"14,41\",\"8,68\",\"0,81\",\"1,70\",\"5,82\",\"0,09\",\"2,86\",\"16,20\",\"3,22\",\"1,16\",\"1,34\",\"2,24\",\"0,00\",\"0,45\",\"0,00\",\"0,45\",\"3,04\",\"0,36\",\"1,25\",\"0,18\",\"0,00\",\"0,00\",\"0,00\",\"6,80\",\"0,09\",\"0,00\",\"0,36\",\"2,69\",\"1,61\",\"0,98\",\"0,09\",\"0,27\",\"0,18\",\"17,73\",\"1,97\",\"1,07\",\"0,72\",\"1,70\",\"1,52\",\"0,90\",\"6,00\",\"1,25\",\"1,25\",\"0,45\",\"0,09\",\"0,36\",\"0,90\",\"0,45\",\"0,09\",\"0,09\",\"0,27\",\"8,59\",\"2,33\",\"4,92\",\"2,33\",\"3,76\",\"2,69\",\"1,16\",\"0,54\",\"0,98\",\"0,36\",\"0,09\",\"0,36\",\"0,00\",\"0,00\",\"7,52\",\"4,30\",\"2,78\",\"0,18\",\"0,09\",\"0,09\",\"0,00\",\"0,00\",\"0,00\",\"0,00\",\"0,00\",\"0,09\"\\r\\nnc10.txt,1,1126,\"26,19\",\"22,82\",\"71,05\",\"45,56\",\"13,59\",\"8,08\",\"0,00\",\"0,00\",\"0,36\",\"8,08\",\"2,93\",\"5,51\",\"14,56\",\"8,88\",\"0,71\",\"1,95\",\"5,95\",\"0,00\",\"2,75\",\"14,56\",\"3,11\",\"1,69\",\"1,24\",\"1,42\",\"0,09\",\"0,09\",\"0,27\",\"0,00\",\"2,49\",\"0,80\",\"1,07\",\"0,00\",\"0,00\",\"0,00\",\"0,00\",\"7,73\",\"0,27\",\"0,00\",\"0,09\",\"3,91\",\"1,78\",\"2,04\",\"0,62\",\"0,80\",\"0,27\",\"17,41\",\"2,31\",\"1,42\",\"0,80\",\"1,78\",\"0,89\",\"0,09\",\"6,39\",\"1,24\",\"2,04\",\"0,53\",\"0,71\",\"0,36\",\"1,24\",\"0,53\",\"0,18\",\"0,09\",\"0,62\",\"8,26\",\"1,69\",\"5,24\",\"2,31\",\"3,37\",\"2,40\",\"0,44\",\"0,09\",\"1,24\",\"0,44\",\"0,00\",\"0,44\",\"0,00\",\"0,00\",\"9,15\",\"3,82\",\"4,26\",\"0,53\",\"0,36\",\"0,09\",\"0,00\",\"0,09\",\"0,00\",\"0,00\",\"0,00\",\"0,00\"\\r\\nnc11.txt,1,1057,\"25,17\",\"24,03\",\"69,82\",\"45,79\",\"14,29\",\"8,33\",\"0,09\",\"0,09\",\"0,19\",\"8,04\",\"2,18\",\"5,96\",\"12,68\",\"8,14\",\"0,38\",\"1,51\",\"5,68\",\"0,00\",\"2,93\",\"15,52\",\"4,54\",\"1,14\",\"1,42\",\"1,61\",\"0,09\",\"0,47\",\"0,00\",\"0,00\",\"1,99\",\"1,04\",\"1,70\",\"0,28\",\"0,09\",\"0,00\",\"0,00\",\"7,28\",\"0,09\",\"0,00\",\"0,47\",\"3,88\",\"1,70\",\"2,08\",\"0,38\",\"0,76\",\"0,57\",\"17,79\",\"1,99\",\"1,80\",\"0,95\",\"2,74\",\"0,66\",\"0,38\",\"5,96\",\"2,65\",\"2,27\",\"0,66\",\"0,57\",\"0,28\",\"0,76\",\"0,28\",\"0,19\",\"0,19\",\"0,38\",\"10,12\",\"2,74\",\"6,53\",\"1,89\",\"2,84\",\"1,80\",\"0,66\",\"0,66\",\"0,66\",\"0,19\",\"0,09\",\"0,28\",\"0,00\",\"0,00\",\"8,23\",\"4,07\",\"3,03\",\"0,47\",\"0,09\",\"0,09\",\"0,00\",\"0,00\",\"0,00\",\"0,00\",\"0,38\",\"0,09\"\\r\\nnc12.txt,1,1078,\"26,29\",\"22,08\",\"70,96\",\"46,38\",\"13,45\",\"8,91\",\"0,00\",\"0,00\",\"0,28\",\"8,81\",\"2,50\",\"4,55\",\"15,40\",\"6,68\",\"0,56\",\"2,23\",\"3,53\",\"0,00\",\"2,32\",\"16,14\",\"2,97\",\"0,93\",\"1,11\",\"2,88\",\"0,19\",\"0,37\",\"0,00\",\"0,00\",\"2,04\",\"0,28\",\"0,74\",\"0,19\",\"0,00\",\"0,00\",\"0,00\",\"6,86\",\"0,19\",\"0,00\",\"0,28\",\"2,88\",\"2,69\",\"0,65\",\"0,09\",\"0,28\",\"0,19\",\"16,05\",\"1,86\",\"0,83\",\"0,46\",\"1,76\",\"0,83\",\"0,37\",\"5,75\",\"1,02\",\"1,48\",\"0,28\",\"0,09\",\"0,28\",\"0,93\",\"0,19\",\"0,19\",\"0,09\",\"0,46\",\"9,46\",\"1,95\",\"4,36\",\"3,62\",\"3,43\",\"3,71\",\"0,37\",\"0,28\",\"0,74\",\"0,09\",\"0,00\",\"0,37\",\"0,09\",\"0,00\",\"6,86\",\"3,80\",\"2,41\",\"0,19\",\"0,09\",\"0,00\",\"0,00\",\"0,00\",\"0,00\",\"0,00\",\"0,19\",\"0,19\"\\r\\nnc13.txt,1,1057,\"27,10\",\"24,31\",\"72,28\",\"47,11\",\"15,33\",\"9,93\",\"0,09\",\"0,09\",\"0,28\",\"9,84\",\"2,74\",\"5,39\",\"14,00\",\"8,04\",\"0,38\",\"1,51\",\"5,77\",\"0,00\",\"2,27\",\"17,31\",\"2,84\",\"1,14\",\"0,95\",\"1,70\",\"0,00\",\"0,47\",\"0,00\",\"0,09\",\"2,46\",\"0,00\",\"1,42\",\"0,00\",\"0,00\",\"0,00\",\"0,00\",\"9,37\",\"0,09\",\"0,09\",\"0,00\",\"3,03\",\"1,51\",\"1,32\",\"0,28\",\"0,85\",\"0,09\",\"15,61\",\"2,18\",\"0,66\",\"0,76\",\"2,18\",\"0,47\",\"0,47\",\"5,39\",\"1,32\",\"2,46\",\"0,76\",\"0,66\",\"0,66\",\"0,66\",\"0,19\",\"0,09\",\"0,00\",\"0,38\",\"10,79\",\"2,74\",\"5,49\",\"3,12\",\"2,84\",\"1,99\",\"1,14\",\"0,09\",\"0,47\",\"0,38\",\"0,09\",\"0,28\",\"0,00\",\"0,00\",\"7,57\",\"3,60\",\"3,50\",\"0,38\",\"0,00\",\"0,09\",\"0,00\",\"0,00\",\"0,00\",\"0,00\",\"0,00\",\"0,00\"\\r\\nnc14.txt,1,1062,\"26,55\",\"22,13\",\"73,07\",\"48,96\",\"13,28\",\"7,53\",\"0,00\",\"0,09\",\"0,28\",\"7,06\",\"2,26\",\"5,74\",\"14,88\",\"8,29\",\"0,47\",\"1,69\",\"6,21\",\"0,00\",\"3,11\",\"16,67\",\"3,30\",\"0,94\",\"1,32\",\"2,45\",\"0,00\",\"0,56\",\"0,00\",\"0,00\",\"2,64\",\"0,75\",\"1,79\",\"0,56\",\"0,00\",\"0,00\",\"0,00\",\"5,84\",\"0,19\",\"0,09\",\"0,00\",\"3,39\",\"2,73\",\"0,75\",\"0,09\",\"0,28\",\"0,09\",\"16,01\",\"1,60\",\"1,13\",\"0,66\",\"2,54\",\"1,41\",\"0,56\",\"4,71\",\"1,32\",\"1,88\",\"0,66\",\"0,28\",\"0,09\",\"1,22\",\"0,47\",\"0,09\",\"0,28\",\"0,56\",\"8,19\",\"1,60\",\"4,33\",\"2,73\",\"3,01\",\"3,11\",\"0,28\",\"0,19\",\"1,04\",\"0,38\",\"0,19\",\"0,56\",\"0,09\",\"0,00\",\"7,44\",\"3,77\",\"2,92\",\"0,28\",\"0,28\",\"0,00\",\"0,00\",\"0,00\",\"0,00\",\"0,00\",\"0,19\",\"0,00\"\\r\\nnc15.txt,1,1036,\"21,58\",\"24,52\",\"72,59\",\"46,43\",\"13,61\",\"8,40\",\"0,10\",\"0,10\",\"0,10\",\"8,20\",\"1,64\",\"5,21\",\"14,00\",\"8,40\",\"0,77\",\"2,51\",\"4,34\",\"0,00\",\"2,99\",\"16,31\",\"3,96\",\"0,87\",\"1,64\",\"1,06\",\"0,00\",\"0,87\",\"0,10\",\"0,10\",\"2,51\",\"0,87\",\"0,87\",\"0,19\",\"0,10\",\"0,00\",\"0,00\",\"5,98\",\"0,48\",\"0,10\",\"0,29\",\"3,19\",\"1,45\",\"0,77\",\"0,29\",\"0,29\",\"0,10\",\"18,15\",\"1,93\",\"1,93\",\"1,16\",\"2,22\",\"1,16\",\"0,58\",\"7,05\",\"1,16\",\"1,64\",\"0,29\",\"0,19\",\"0,58\",\"1,25\",\"0,48\",\"0,19\",\"0,00\",\"0,58\",\"10,33\",\"2,90\",\"5,60\",\"2,80\",\"4,05\",\"2,90\",\"0,68\",\"0,87\",\"1,06\",\"0,29\",\"0,00\",\"0,48\",\"0,10\",\"0,00\",\"8,78\",\"4,54\",\"3,76\",\"0,39\",\"0,00\",\"0,10\",\"0,00\",\"0,00\",\"0,00\",\"0,00\",\"0,00\",\"0,00\"\\r\\nnc16.txt,1,1079,\"27,67\",\"21,50\",\"69,32\",\"49,30\",\"14,37\",\"8,06\",\"0,00\",\"0,00\",\"0,56\",\"8,06\",\"2,41\",\"6,30\",\"12,97\",\"7,14\",\"0,56\",\"1,02\",\"5,56\",\"0,00\",\"3,80\",\"18,35\",\"3,80\",\"1,48\",\"1,67\",\"2,13\",\"0,00\",\"0,00\",\"0,00\",\"0,00\",\"1,85\",\"0,37\",\"0,74\",\"0,09\",\"0,00\",\"0,00\",\"0,00\",\"6,95\",\"0,00\",\"0,00\",\"0,00\",\"3,43\",\"2,32\",\"0,93\",\"0,09\",\"0,37\",\"0,28\",\"15,94\",\"1,67\",\"0,74\",\"0,19\",\"2,04\",\"0,74\",\"0,46\",\"6,77\",\"1,76\",\"1,58\",\"0,37\",\"0,19\",\"0,83\",\"1,58\",\"1,11\",\"0,09\",\"0,00\",\"0,46\",\"8,71\",\"1,30\",\"5,47\",\"2,59\",\"2,50\",\"2,59\",\"0,56\",\"0,19\",\"0,46\",\"0,28\",\"0,28\",\"0,19\",\"0,09\",\"0,00\",\"8,90\",\"3,61\",\"4,17\",\"0,46\",\"0,09\",\"0,00\",\"0,00\",\"0,09\",\"0,00\",\"0,00\",\"0,19\",\"0,28\"\\r\\nnc17.txt,1,1003,\"20,06\",\"19,34\",\"71,29\",\"47,26\",\"13,46\",\"8,97\",\"0,30\",\"0,00\",\"0,30\",\"8,37\",\"3,39\",\"4,49\",\"12,76\",\"9,37\",\"0,30\",\"2,79\",\"5,38\",\"0,00\",\"2,99\",\"15,75\",\"5,18\",\"1,60\",\"1,10\",\"1,20\",\"0,00\",\"0,50\",\"0,00\",\"0,00\",\"2,69\",\"1,30\",\"1,00\",\"0,30\",\"0,00\",\"0,00\",\"0,00\",\"8,67\",\"0,10\",\"0,10\",\"0,40\",\"2,69\",\"1,40\",\"1,10\",\"0,10\",\"0,50\",\"0,30\",\"17,25\",\"2,79\",\"1,69\",\"1,10\",\"2,09\",\"1,10\",\"0,70\",\"6,38\",\"1,60\",\"2,19\",\"0,40\",\"0,80\",\"0,50\",\"1,30\",\"0,90\",\"0,00\",\"0,00\",\"0,50\",\"8,67\",\"2,89\",\"5,58\",\"1,69\",\"3,19\",\"2,19\",\"0,40\",\"0,20\",\"0,50\",\"0,10\",\"0,00\",\"0,20\",\"0,10\",\"0,00\",\"10,57\",\"4,49\",\"4,79\",\"0,40\",\"0,20\",\"0,40\",\"0,10\",\"0,00\",\"0,00\",\"0,00\",\"0,20\",\"0,00\"\\r\\nnc18.txt,1,973,\"29,48\",\"23,43\",\"71,74\",\"47,17\",\"12,64\",\"7,19\",\"0,10\",\"0,00\",\"0,00\",\"6,89\",\"2,77\",\"5,45\",\"14,59\",\"7,91\",\"0,62\",\"1,23\",\"5,14\",\"0,10\",\"2,26\",\"17,68\",\"3,29\",\"0,92\",\"0,92\",\"1,34\",\"0,10\",\"0,00\",\"0,00\",\"0,21\",\"2,06\",\"0,21\",\"0,82\",\"0,31\",\"0,00\",\"0,00\",\"0,00\",\"5,86\",\"0,10\",\"0,10\",\"0,10\",\"2,77\",\"1,64\",\"0,72\",\"0,51\",\"0,41\",\"0,00\",\"17,16\",\"1,85\",\"1,44\",\"0,82\",\"2,16\",\"1,64\",\"0,31\",\"4,11\",\"1,34\",\"2,16\",\"0,92\",\"0,21\",\"0,41\",\"0,72\",\"0,41\",\"0,00\",\"0,00\",\"0,31\",\"9,46\",\"2,57\",\"3,19\",\"4,11\",\"2,98\",\"2,36\",\"0,82\",\"0,21\",\"1,64\",\"0,00\",\"0,10\",\"0,31\",\"0,00\",\"0,00\",\"7,61\",\"3,39\",\"3,29\",\"0,31\",\"0,00\",\"0,10\",\"0,00\",\"0,21\",\"0,00\",\"0,00\",\"0,21\",\"0,10\"\\r\\nnc19.txt,1,891,\"18,96\",\"24,80\",\"73,18\",\"46,80\",\"11,90\",\"7,30\",\"0,00\",\"0,00\",\"0,34\",\"7,18\",\"1,80\",\"4,60\",\"17,51\",\"6,85\",\"0,79\",\"1,46\",\"4,38\",\"0,00\",\"2,13\",\"16,27\",\"2,02\",\"1,12\",\"1,46\",\"1,91\",\"0,00\",\"0,45\",\"0,00\",\"0,00\",\"1,91\",\"0,79\",\"0,45\",\"0,11\",\"0,00\",\"0,00\",\"0,00\",\"6,73\",\"0,45\",\"0,11\",\"0,11\",\"3,59\",\"2,13\",\"1,80\",\"0,56\",\"0,34\",\"0,22\",\"15,15\",\"2,24\",\"1,23\",\"1,01\",\"1,68\",\"1,01\",\"0,22\",\"4,38\",\"1,35\",\"1,46\",\"0,45\",\"0,45\",\"0,22\",\"0,90\",\"0,34\",\"0,22\",\"0,00\",\"0,34\",\"7,86\",\"2,47\",\"3,48\",\"2,02\",\"5,39\",\"3,70\",\"0,79\",\"0,22\",\"1,68\",\"0,22\",\"0,00\",\"0,11\",\"0,11\",\"0,00\",\"8,64\",\"5,50\",\"2,36\",\"0,45\",\"0,00\",\"0,11\",\"0,00\",\"0,00\",\"0,00\",\"0,00\",\"0,00\",\"0,22\"\\r\\nnc20.txt,1,537,\"21,48\",\"21,60\",\"68,90\",\"46,00\",\"14,15\",\"10,06\",\"0,00\",\"0,00\",\"0,74\",\"10,06\",\"2,61\",\"4,10\",\"14,34\",\"7,45\",\"0,93\",\"2,05\",\"4,47\",\"0,19\",\"3,17\",\"17,13\",\"3,35\",\"1,86\",\"0,37\",\"2,42\",\"0,00\",\"1,12\",\"0,00\",\"0,19\",\"2,23\",\"0,19\",\"1,12\",\"0,00\",\"0,00\",\"0,00\",\"0,00\",\"6,70\",\"0,00\",\"0,19\",\"0,00\",\"3,17\",\"2,42\",\"0,74\",\"0,19\",\"0,56\",\"0,00\",\"16,01\",\"2,23\",\"1,49\",\"0,19\",\"1,30\",\"1,30\",\"1,12\",\"5,77\",\"1,12\",\"2,79\",\"0,19\",\"0,56\",\"0,56\",\"1,30\",\"0,37\",\"0,19\",\"0,19\",\"0,74\",\"7,26\",\"1,30\",\"4,47\",\"1,68\",\"2,23\",\"3,35\",\"0,37\",\"0,37\",\"0,19\",\"0,74\",\"0,37\",\"0,00\",\"0,00\",\"0,00\",\"7,45\",\"4,66\",\"2,23\",\"0,37\",\"0,19\",\"0,00\",\"0,00\",\"0,00\",\"0,00\",\"0,00\",\"0,00\",\"0,00\"'}"
            ]
          },
          "metadata": {
            "tags": []
          },
          "execution_count": 64
        }
      ]
    },
    {
      "cell_type": "code",
      "metadata": {
        "id": "1kggQ6rXCWQx"
      },
      "source": [
        "import pandas as pd \n",
        "df = pd.read_csv('ofi_opo_LIWC.csv')"
      ],
      "execution_count": null,
      "outputs": []
    },
    {
      "cell_type": "code",
      "metadata": {
        "id": "wMQ5q9WTDRHe",
        "colab": {
          "base_uri": "https://localhost:8080/",
          "height": 247
        },
        "outputId": "65fda196-2a4d-40a8-9b13-2d65e0cfe122"
      },
      "source": [
        "df.head()"
      ],
      "execution_count": null,
      "outputs": [
        {
          "output_type": "execute_result",
          "data": {
            "text/html": [
              "<div>\n",
              "<style scoped>\n",
              "    .dataframe tbody tr th:only-of-type {\n",
              "        vertical-align: middle;\n",
              "    }\n",
              "\n",
              "    .dataframe tbody tr th {\n",
              "        vertical-align: top;\n",
              "    }\n",
              "\n",
              "    .dataframe thead th {\n",
              "        text-align: right;\n",
              "    }\n",
              "</style>\n",
              "<table border=\"1\" class=\"dataframe\">\n",
              "  <thead>\n",
              "    <tr style=\"text-align: right;\">\n",
              "      <th></th>\n",
              "      <th>Filename</th>\n",
              "      <th>Segment</th>\n",
              "      <th>WC</th>\n",
              "      <th>WPS</th>\n",
              "      <th>Sixltr</th>\n",
              "      <th>Dic</th>\n",
              "      <th>Funct</th>\n",
              "      <th>TotPron</th>\n",
              "      <th>PronPer</th>\n",
              "      <th>Yo</th>\n",
              "      <th>Nosotro</th>\n",
              "      <th>TuUtd</th>\n",
              "      <th>ElElla</th>\n",
              "      <th>Ellos</th>\n",
              "      <th>PronImp</th>\n",
              "      <th>Articulo</th>\n",
              "      <th>Verbos</th>\n",
              "      <th>VerbAux</th>\n",
              "      <th>Pasado</th>\n",
              "      <th>Present</th>\n",
              "      <th>Futuro</th>\n",
              "      <th>Adverb</th>\n",
              "      <th>Prepos</th>\n",
              "      <th>Conjunc</th>\n",
              "      <th>Negacio</th>\n",
              "      <th>Cuantif</th>\n",
              "      <th>Numeros</th>\n",
              "      <th>Maldec</th>\n",
              "      <th>verbYO</th>\n",
              "      <th>verbTU</th>\n",
              "      <th>verbNOS</th>\n",
              "      <th>verbosEL</th>\n",
              "      <th>verbELLOS</th>\n",
              "      <th>Subjuntiv</th>\n",
              "      <th>VosUtds</th>\n",
              "      <th>formal</th>\n",
              "      <th>informal</th>\n",
              "      <th>verbVos</th>\n",
              "      <th>Social</th>\n",
              "      <th>Familia</th>\n",
              "      <th>...</th>\n",
              "      <th>Tentat</th>\n",
              "      <th>Certeza</th>\n",
              "      <th>Inhib</th>\n",
              "      <th>Incl</th>\n",
              "      <th>Excl</th>\n",
              "      <th>Percept</th>\n",
              "      <th>Ver</th>\n",
              "      <th>Oir</th>\n",
              "      <th>Sentir</th>\n",
              "      <th>Biolog</th>\n",
              "      <th>Cuerpo</th>\n",
              "      <th>Salud</th>\n",
              "      <th>Sexual</th>\n",
              "      <th>Ingerir</th>\n",
              "      <th>Relativ</th>\n",
              "      <th>Movim</th>\n",
              "      <th>Espacio</th>\n",
              "      <th>Tiempo</th>\n",
              "      <th>Trabajo</th>\n",
              "      <th>Logro</th>\n",
              "      <th>Placer</th>\n",
              "      <th>Hogar</th>\n",
              "      <th>Dinero</th>\n",
              "      <th>Relig</th>\n",
              "      <th>Muerte</th>\n",
              "      <th>Asentir</th>\n",
              "      <th>NoFluen</th>\n",
              "      <th>Relleno</th>\n",
              "      <th>AllPunc</th>\n",
              "      <th>Period</th>\n",
              "      <th>Comma</th>\n",
              "      <th>Colon</th>\n",
              "      <th>SemiC</th>\n",
              "      <th>QMark</th>\n",
              "      <th>Exclam</th>\n",
              "      <th>Dash</th>\n",
              "      <th>Quote</th>\n",
              "      <th>Apostro</th>\n",
              "      <th>Parenth</th>\n",
              "      <th>OtherP</th>\n",
              "    </tr>\n",
              "  </thead>\n",
              "  <tbody>\n",
              "    <tr>\n",
              "      <th>0</th>\n",
              "      <td>jf01.txt</td>\n",
              "      <td>1</td>\n",
              "      <td>1027</td>\n",
              "      <td>13,34</td>\n",
              "      <td>17,43</td>\n",
              "      <td>75,17</td>\n",
              "      <td>49,46</td>\n",
              "      <td>17,33</td>\n",
              "      <td>11,98</td>\n",
              "      <td>3,60</td>\n",
              "      <td>0,10</td>\n",
              "      <td>2,14</td>\n",
              "      <td>5,94</td>\n",
              "      <td>1,56</td>\n",
              "      <td>5,36</td>\n",
              "      <td>8,57</td>\n",
              "      <td>12,56</td>\n",
              "      <td>0,58</td>\n",
              "      <td>1,95</td>\n",
              "      <td>9,54</td>\n",
              "      <td>0,00</td>\n",
              "      <td>5,06</td>\n",
              "      <td>15,29</td>\n",
              "      <td>6,04</td>\n",
              "      <td>2,24</td>\n",
              "      <td>1,85</td>\n",
              "      <td>1,17</td>\n",
              "      <td>0,10</td>\n",
              "      <td>3,60</td>\n",
              "      <td>0,10</td>\n",
              "      <td>0,10</td>\n",
              "      <td>2,43</td>\n",
              "      <td>0,78</td>\n",
              "      <td>1,46</td>\n",
              "      <td>0,39</td>\n",
              "      <td>0,00</td>\n",
              "      <td>1,95</td>\n",
              "      <td>0,00</td>\n",
              "      <td>10,71</td>\n",
              "      <td>0,10</td>\n",
              "      <td>...</td>\n",
              "      <td>2,63</td>\n",
              "      <td>1,36</td>\n",
              "      <td>0,19</td>\n",
              "      <td>6,23</td>\n",
              "      <td>2,92</td>\n",
              "      <td>4,58</td>\n",
              "      <td>0,88</td>\n",
              "      <td>1,85</td>\n",
              "      <td>1,46</td>\n",
              "      <td>1,27</td>\n",
              "      <td>0,39</td>\n",
              "      <td>0,10</td>\n",
              "      <td>0,29</td>\n",
              "      <td>0,78</td>\n",
              "      <td>8,28</td>\n",
              "      <td>1,75</td>\n",
              "      <td>4,58</td>\n",
              "      <td>2,73</td>\n",
              "      <td>2,53</td>\n",
              "      <td>1,85</td>\n",
              "      <td>1,66</td>\n",
              "      <td>0,29</td>\n",
              "      <td>0,29</td>\n",
              "      <td>0,10</td>\n",
              "      <td>0,00</td>\n",
              "      <td>0,39</td>\n",
              "      <td>0,10</td>\n",
              "      <td>0,00</td>\n",
              "      <td>13,92</td>\n",
              "      <td>7,01</td>\n",
              "      <td>3,60</td>\n",
              "      <td>1,46</td>\n",
              "      <td>0,19</td>\n",
              "      <td>0,29</td>\n",
              "      <td>0,10</td>\n",
              "      <td>0,19</td>\n",
              "      <td>0,00</td>\n",
              "      <td>0,00</td>\n",
              "      <td>0,97</td>\n",
              "      <td>0,10</td>\n",
              "    </tr>\n",
              "    <tr>\n",
              "      <th>1</th>\n",
              "      <td>jf012.txt</td>\n",
              "      <td>1</td>\n",
              "      <td>4021</td>\n",
              "      <td>13,96</td>\n",
              "      <td>20,82</td>\n",
              "      <td>73,24</td>\n",
              "      <td>46,70</td>\n",
              "      <td>14,55</td>\n",
              "      <td>8,41</td>\n",
              "      <td>0,17</td>\n",
              "      <td>0,37</td>\n",
              "      <td>0,50</td>\n",
              "      <td>7,88</td>\n",
              "      <td>2,81</td>\n",
              "      <td>6,14</td>\n",
              "      <td>11,96</td>\n",
              "      <td>9,92</td>\n",
              "      <td>0,65</td>\n",
              "      <td>2,09</td>\n",
              "      <td>6,59</td>\n",
              "      <td>0,05</td>\n",
              "      <td>3,68</td>\n",
              "      <td>13,53</td>\n",
              "      <td>5,35</td>\n",
              "      <td>2,39</td>\n",
              "      <td>1,77</td>\n",
              "      <td>1,79</td>\n",
              "      <td>0,32</td>\n",
              "      <td>1,04</td>\n",
              "      <td>0,02</td>\n",
              "      <td>0,45</td>\n",
              "      <td>3,33</td>\n",
              "      <td>0,87</td>\n",
              "      <td>1,29</td>\n",
              "      <td>0,45</td>\n",
              "      <td>0,00</td>\n",
              "      <td>0,07</td>\n",
              "      <td>0,00</td>\n",
              "      <td>10,42</td>\n",
              "      <td>0,55</td>\n",
              "      <td>...</td>\n",
              "      <td>2,34</td>\n",
              "      <td>1,34</td>\n",
              "      <td>0,52</td>\n",
              "      <td>5,47</td>\n",
              "      <td>2,11</td>\n",
              "      <td>2,61</td>\n",
              "      <td>0,47</td>\n",
              "      <td>1,19</td>\n",
              "      <td>0,40</td>\n",
              "      <td>1,37</td>\n",
              "      <td>0,57</td>\n",
              "      <td>0,20</td>\n",
              "      <td>0,37</td>\n",
              "      <td>0,57</td>\n",
              "      <td>8,28</td>\n",
              "      <td>1,87</td>\n",
              "      <td>4,03</td>\n",
              "      <td>3,16</td>\n",
              "      <td>2,16</td>\n",
              "      <td>1,49</td>\n",
              "      <td>1,17</td>\n",
              "      <td>0,47</td>\n",
              "      <td>0,50</td>\n",
              "      <td>0,25</td>\n",
              "      <td>0,12</td>\n",
              "      <td>0,30</td>\n",
              "      <td>0,12</td>\n",
              "      <td>0,00</td>\n",
              "      <td>15,20</td>\n",
              "      <td>7,36</td>\n",
              "      <td>5,35</td>\n",
              "      <td>0,80</td>\n",
              "      <td>0,00</td>\n",
              "      <td>0,45</td>\n",
              "      <td>0,12</td>\n",
              "      <td>0,07</td>\n",
              "      <td>0,00</td>\n",
              "      <td>0,00</td>\n",
              "      <td>1,04</td>\n",
              "      <td>0,00</td>\n",
              "    </tr>\n",
              "    <tr>\n",
              "      <th>2</th>\n",
              "      <td>jf02.txt</td>\n",
              "      <td>1</td>\n",
              "      <td>4021</td>\n",
              "      <td>13,96</td>\n",
              "      <td>20,82</td>\n",
              "      <td>73,22</td>\n",
              "      <td>46,68</td>\n",
              "      <td>14,52</td>\n",
              "      <td>8,41</td>\n",
              "      <td>0,17</td>\n",
              "      <td>0,37</td>\n",
              "      <td>0,50</td>\n",
              "      <td>7,88</td>\n",
              "      <td>2,81</td>\n",
              "      <td>6,12</td>\n",
              "      <td>11,96</td>\n",
              "      <td>9,92</td>\n",
              "      <td>0,65</td>\n",
              "      <td>2,09</td>\n",
              "      <td>6,59</td>\n",
              "      <td>0,05</td>\n",
              "      <td>3,68</td>\n",
              "      <td>13,53</td>\n",
              "      <td>5,35</td>\n",
              "      <td>2,39</td>\n",
              "      <td>1,77</td>\n",
              "      <td>1,79</td>\n",
              "      <td>0,32</td>\n",
              "      <td>1,04</td>\n",
              "      <td>0,02</td>\n",
              "      <td>0,45</td>\n",
              "      <td>3,33</td>\n",
              "      <td>0,87</td>\n",
              "      <td>1,29</td>\n",
              "      <td>0,45</td>\n",
              "      <td>0,00</td>\n",
              "      <td>0,07</td>\n",
              "      <td>0,00</td>\n",
              "      <td>10,42</td>\n",
              "      <td>0,55</td>\n",
              "      <td>...</td>\n",
              "      <td>2,34</td>\n",
              "      <td>1,34</td>\n",
              "      <td>0,52</td>\n",
              "      <td>5,47</td>\n",
              "      <td>2,11</td>\n",
              "      <td>2,61</td>\n",
              "      <td>0,47</td>\n",
              "      <td>1,19</td>\n",
              "      <td>0,40</td>\n",
              "      <td>1,37</td>\n",
              "      <td>0,57</td>\n",
              "      <td>0,20</td>\n",
              "      <td>0,37</td>\n",
              "      <td>0,57</td>\n",
              "      <td>8,28</td>\n",
              "      <td>1,87</td>\n",
              "      <td>4,03</td>\n",
              "      <td>3,16</td>\n",
              "      <td>2,16</td>\n",
              "      <td>1,49</td>\n",
              "      <td>1,17</td>\n",
              "      <td>0,47</td>\n",
              "      <td>0,50</td>\n",
              "      <td>0,25</td>\n",
              "      <td>0,12</td>\n",
              "      <td>0,30</td>\n",
              "      <td>0,12</td>\n",
              "      <td>0,00</td>\n",
              "      <td>15,20</td>\n",
              "      <td>7,36</td>\n",
              "      <td>5,35</td>\n",
              "      <td>0,80</td>\n",
              "      <td>0,00</td>\n",
              "      <td>0,45</td>\n",
              "      <td>0,12</td>\n",
              "      <td>0,07</td>\n",
              "      <td>0,00</td>\n",
              "      <td>0,00</td>\n",
              "      <td>1,04</td>\n",
              "      <td>0,00</td>\n",
              "    </tr>\n",
              "    <tr>\n",
              "      <th>3</th>\n",
              "      <td>jf03.txt</td>\n",
              "      <td>1</td>\n",
              "      <td>3928</td>\n",
              "      <td>23,24</td>\n",
              "      <td>17,39</td>\n",
              "      <td>73,96</td>\n",
              "      <td>46,49</td>\n",
              "      <td>15,27</td>\n",
              "      <td>9,06</td>\n",
              "      <td>1,04</td>\n",
              "      <td>0,10</td>\n",
              "      <td>1,37</td>\n",
              "      <td>7,05</td>\n",
              "      <td>1,88</td>\n",
              "      <td>6,21</td>\n",
              "      <td>11,07</td>\n",
              "      <td>11,43</td>\n",
              "      <td>0,76</td>\n",
              "      <td>1,93</td>\n",
              "      <td>8,35</td>\n",
              "      <td>0,00</td>\n",
              "      <td>4,33</td>\n",
              "      <td>12,58</td>\n",
              "      <td>5,93</td>\n",
              "      <td>1,99</td>\n",
              "      <td>1,81</td>\n",
              "      <td>1,60</td>\n",
              "      <td>0,28</td>\n",
              "      <td>1,73</td>\n",
              "      <td>0,13</td>\n",
              "      <td>0,20</td>\n",
              "      <td>4,43</td>\n",
              "      <td>0,59</td>\n",
              "      <td>1,37</td>\n",
              "      <td>0,18</td>\n",
              "      <td>0,00</td>\n",
              "      <td>0,79</td>\n",
              "      <td>0,00</td>\n",
              "      <td>10,01</td>\n",
              "      <td>0,38</td>\n",
              "      <td>...</td>\n",
              "      <td>2,90</td>\n",
              "      <td>1,40</td>\n",
              "      <td>0,64</td>\n",
              "      <td>5,47</td>\n",
              "      <td>2,19</td>\n",
              "      <td>3,36</td>\n",
              "      <td>0,46</td>\n",
              "      <td>1,35</td>\n",
              "      <td>0,94</td>\n",
              "      <td>1,27</td>\n",
              "      <td>0,51</td>\n",
              "      <td>0,25</td>\n",
              "      <td>0,20</td>\n",
              "      <td>0,56</td>\n",
              "      <td>7,54</td>\n",
              "      <td>1,76</td>\n",
              "      <td>3,72</td>\n",
              "      <td>2,57</td>\n",
              "      <td>1,99</td>\n",
              "      <td>1,71</td>\n",
              "      <td>0,61</td>\n",
              "      <td>0,13</td>\n",
              "      <td>0,56</td>\n",
              "      <td>0,15</td>\n",
              "      <td>0,36</td>\n",
              "      <td>0,66</td>\n",
              "      <td>0,18</td>\n",
              "      <td>0,00</td>\n",
              "      <td>14,99</td>\n",
              "      <td>4,48</td>\n",
              "      <td>7,76</td>\n",
              "      <td>0,51</td>\n",
              "      <td>0,13</td>\n",
              "      <td>0,64</td>\n",
              "      <td>0,15</td>\n",
              "      <td>0,03</td>\n",
              "      <td>0,00</td>\n",
              "      <td>0,00</td>\n",
              "      <td>1,27</td>\n",
              "      <td>0,03</td>\n",
              "    </tr>\n",
              "    <tr>\n",
              "      <th>4</th>\n",
              "      <td>jf04.txt</td>\n",
              "      <td>1</td>\n",
              "      <td>891</td>\n",
              "      <td>27,00</td>\n",
              "      <td>17,06</td>\n",
              "      <td>80,02</td>\n",
              "      <td>45,79</td>\n",
              "      <td>16,05</td>\n",
              "      <td>8,08</td>\n",
              "      <td>0,79</td>\n",
              "      <td>0,34</td>\n",
              "      <td>0,45</td>\n",
              "      <td>7,07</td>\n",
              "      <td>2,58</td>\n",
              "      <td>7,97</td>\n",
              "      <td>9,65</td>\n",
              "      <td>12,91</td>\n",
              "      <td>1,01</td>\n",
              "      <td>0,90</td>\n",
              "      <td>10,77</td>\n",
              "      <td>0,00</td>\n",
              "      <td>5,39</td>\n",
              "      <td>11,22</td>\n",
              "      <td>6,06</td>\n",
              "      <td>2,81</td>\n",
              "      <td>1,57</td>\n",
              "      <td>3,03</td>\n",
              "      <td>0,00</td>\n",
              "      <td>1,57</td>\n",
              "      <td>0,00</td>\n",
              "      <td>0,56</td>\n",
              "      <td>5,61</td>\n",
              "      <td>0,90</td>\n",
              "      <td>1,46</td>\n",
              "      <td>0,34</td>\n",
              "      <td>0,00</td>\n",
              "      <td>0,00</td>\n",
              "      <td>0,00</td>\n",
              "      <td>13,02</td>\n",
              "      <td>1,23</td>\n",
              "      <td>...</td>\n",
              "      <td>3,37</td>\n",
              "      <td>1,57</td>\n",
              "      <td>0,00</td>\n",
              "      <td>4,15</td>\n",
              "      <td>1,80</td>\n",
              "      <td>2,58</td>\n",
              "      <td>1,46</td>\n",
              "      <td>0,56</td>\n",
              "      <td>0,22</td>\n",
              "      <td>1,01</td>\n",
              "      <td>0,11</td>\n",
              "      <td>0,22</td>\n",
              "      <td>0,34</td>\n",
              "      <td>0,45</td>\n",
              "      <td>6,40</td>\n",
              "      <td>2,24</td>\n",
              "      <td>3,59</td>\n",
              "      <td>2,02</td>\n",
              "      <td>1,23</td>\n",
              "      <td>0,90</td>\n",
              "      <td>0,22</td>\n",
              "      <td>0,11</td>\n",
              "      <td>1,12</td>\n",
              "      <td>0,00</td>\n",
              "      <td>0,00</td>\n",
              "      <td>0,00</td>\n",
              "      <td>0,11</td>\n",
              "      <td>0,00</td>\n",
              "      <td>19,53</td>\n",
              "      <td>6,29</td>\n",
              "      <td>7,97</td>\n",
              "      <td>0,67</td>\n",
              "      <td>0,00</td>\n",
              "      <td>0,45</td>\n",
              "      <td>0,11</td>\n",
              "      <td>0,00</td>\n",
              "      <td>3,37</td>\n",
              "      <td>0,22</td>\n",
              "      <td>0,45</td>\n",
              "      <td>0,00</td>\n",
              "    </tr>\n",
              "  </tbody>\n",
              "</table>\n",
              "<p>5 rows × 92 columns</p>\n",
              "</div>"
            ],
            "text/plain": [
              "    Filename  Segment    WC    WPS Sixltr  ...  Dash Quote Apostro Parenth OtherP\n",
              "0   jf01.txt        1  1027  13,34  17,43  ...  0,19  0,00    0,00    0,97   0,10\n",
              "1  jf012.txt        1  4021  13,96  20,82  ...  0,07  0,00    0,00    1,04   0,00\n",
              "2   jf02.txt        1  4021  13,96  20,82  ...  0,07  0,00    0,00    1,04   0,00\n",
              "3   jf03.txt        1  3928  23,24  17,39  ...  0,03  0,00    0,00    1,27   0,03\n",
              "4   jf04.txt        1   891  27,00  17,06  ...  0,00  3,37    0,22    0,45   0,00\n",
              "\n",
              "[5 rows x 92 columns]"
            ]
          },
          "metadata": {
            "tags": []
          },
          "execution_count": 66
        }
      ]
    },
    {
      "cell_type": "markdown",
      "metadata": {
        "id": "ghkqQ39VKfEs"
      },
      "source": [
        "También se pueden guardar archivos ...(lo baja automáticamente a \"Descargas\")"
      ]
    },
    {
      "cell_type": "code",
      "metadata": {
        "id": "-DpN9f6wDtgs"
      },
      "source": [
        "files.download('ofi_opo_LIWC.csv')"
      ],
      "execution_count": null,
      "outputs": []
    },
    {
      "cell_type": "code",
      "metadata": {
        "id": "0vq8mPEnKtYG"
      },
      "source": [
        ""
      ],
      "execution_count": null,
      "outputs": []
    }
  ]
}