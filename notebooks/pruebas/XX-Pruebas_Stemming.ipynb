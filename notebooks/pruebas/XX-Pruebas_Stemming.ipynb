{
  "nbformat": 4,
  "nbformat_minor": 0,
  "metadata": {
    "colab": {
      "name": "XX-Pruebas Stemming.ipynb",
      "provenance": [],
      "authorship_tag": "ABX9TyNzmTt9K5XnA4dTx9kM3qKF",
      "include_colab_link": true
    },
    "kernelspec": {
      "name": "python3",
      "display_name": "Python 3"
    }
  },
  "cells": [
    {
      "cell_type": "markdown",
      "metadata": {
        "id": "view-in-github",
        "colab_type": "text"
      },
      "source": [
        "<a href=\"https://colab.research.google.com/github/jumafernandez/clasificacion_correos/blob/main/notebooks/XX-Pruebas_Stemming.ipynb\" target=\"_parent\"><img src=\"https://colab.research.google.com/assets/colab-badge.svg\" alt=\"Open In Colab\"/></a>"
      ]
    },
    {
      "cell_type": "code",
      "metadata": {
        "colab": {
          "base_uri": "https://localhost:8080/"
        },
        "id": "Kzot-F5Aew2D",
        "outputId": "67241c6d-36e6-4cce-b59b-5a0b98d6b5bd"
      },
      "source": [
        "# Descargo el archivo con las consultas que está en Github\r\n",
        "from os import path\r\n",
        "\r\n",
        "# En caso que no esté el archivo en Colab lo traigo\r\n",
        "if not(path.exists('03-Correos_variables_estaticas.csv')):\r\n",
        "  !wget https://raw.githubusercontent.com/jumafernandez/clasificacion_correos/main/data/03-Correos_variables_estaticas.csv\r\n",
        "\r\n",
        "# Leo el archivo en un dataframe\r\n",
        "import pandas as pd\r\n",
        "df = pd.read_csv('03-Correos_variables_estaticas.csv', delimiter=\"|\")\r\n",
        "\r\n",
        "corpus = list(df.loc[0:4, 'Consulta'])\r\n",
        "\r\n",
        "corpus"
      ],
      "execution_count": 61,
      "outputs": [
        {
          "output_type": "execute_result",
          "data": {
            "text/plain": [
              "['hola quiero anotarme a las materias ,para el segundo cuatri ,pero no puedo ,dice que no estoy en condiciones,me podrian decir que tengo que hacer,muchas gracias  ',\n",
              " 'hola buenos días! quería saber cuando voy a poder anotarme en las materias ya que yo estaba inhabilitada por que se me había vencido la prorroga del analítico . pero ya entregue todo lo que correspondía hace una semana. espero su respuesta y dispulpe la molestia. saludos! ',\n",
              " 'hola quisiera saber si en la consulta de situación académica deberían aparecer las notas de estos primeros parciales, ya que no me parecen y vi en la página que ya deberían estar  ',\n",
              " 'buenas noches. en mi situacion academica aparece que no promovi el final de constitución. y aquel final se aprobaba con 4 yo saque un 6. podrian darme una respuesta por favor. gracias. ',\n",
              " 'hola,  quisiera obtener mi promedio o saber como lo puedo calcular. gracias.  ']"
            ]
          },
          "metadata": {
            "tags": []
          },
          "execution_count": 61
        }
      ]
    },
    {
      "cell_type": "code",
      "metadata": {
        "id": "bDw-5prujQQ2"
      },
      "source": [
        "# SE APLICA STEMMING\r\n",
        "\r\n",
        "from nltk.stem.snowball import SpanishStemmer\r\n",
        "\r\n",
        "stemmer = SpanishStemmer()\r\n",
        "analyzer = CountVectorizer().build_analyzer()\r\n",
        "\r\n",
        "def stemmed_words(doc):\r\n",
        "  return (stemmer.stem(w) for w in analyzer(doc))  "
      ],
      "execution_count": 63,
      "outputs": []
    },
    {
      "cell_type": "code",
      "metadata": {
        "colab": {
          "base_uri": "https://localhost:8080/"
        },
        "id": "2qUKBdTFrkqQ",
        "outputId": "f8f85c05-ec57-448f-d7ea-5dbbed9624e4"
      },
      "source": [
        "# PREPARO STOPWORDS\r\n",
        "\r\n",
        "# Importo y descargo los módulos correspondientes\r\n",
        "from nltk.corpus import stopwords \r\n",
        "nltk.download('stopwords')\r\n",
        "\r\n",
        "stop_words_es = set(stopwords.words('spanish'))\r\n",
        "\r\n",
        "def tokenize_stopwords(item):\r\n",
        "  return SnowballStemmer('spanish').stem(item)\r\n",
        "\r\n",
        "stop_words_es = [tokenize_stopwords(x) for x in stop_words_es]\r\n"
      ],
      "execution_count": 65,
      "outputs": [
        {
          "output_type": "stream",
          "text": [
            "[nltk_data] Downloading package stopwords to /root/nltk_data...\n",
            "[nltk_data]   Package stopwords is already up-to-date!\n"
          ],
          "name": "stdout"
        }
      ]
    },
    {
      "cell_type": "code",
      "metadata": {
        "colab": {
          "base_uri": "https://localhost:8080/"
        },
        "id": "KT5YJNsbfRiD",
        "outputId": "36435d35-3e9c-4f2f-cd57-0042288d1583"
      },
      "source": [
        "from sklearn.feature_extraction.text import CountVectorizer\r\n",
        "import pandas as pd\r\n",
        "\r\n",
        "vectorizer = CountVectorizer(binary=False, strip_accents='unicode', max_features=2000, analyzer=stemmed_words, stop_words=stop_words_es)\r\n",
        "X = vectorizer.fit_transform(corpus)\r\n",
        "\r\n",
        "df = pd.DataFrame(X.toarray(), columns=vectorizer.get_feature_names())\r\n",
        "print(df)\r\n"
      ],
      "execution_count": 66,
      "outputs": [
        {
          "output_type": "stream",
          "text": [
            "   academ  analit  anot  aparec  aprob  aquel  ...  una  venc  vi  voy  ya  yo\n",
            "0       0       0     1       0      0      0  ...    0     0   0    0   0   0\n",
            "1       0       1     1       0      0      0  ...    1     1   0    1   2   1\n",
            "2       1       0     0       1      0      0  ...    0     0   1    0   2   0\n",
            "3       1       0     0       1      1      1  ...    1     0   0    0   0   1\n",
            "4       0       0     0       0      0      0  ...    0     0   0    0   0   0\n",
            "\n",
            "[5 rows x 87 columns]\n"
          ],
          "name": "stdout"
        }
      ]
    },
    {
      "cell_type": "code",
      "metadata": {
        "colab": {
          "base_uri": "https://localhost:8080/"
        },
        "id": "tfbOK3IWfXhq",
        "outputId": "67a4d8b0-2179-4da4-b7a0-7df637828e2f"
      },
      "source": [
        "vectorizer2 = CountVectorizer(analyzer='word', ngram_range=(2, 2))\r\n",
        "X2 = vectorizer2.fit_transform(corpus)\r\n",
        "print(vectorizer2.get_feature_names())"
      ],
      "execution_count": 3,
      "outputs": [
        {
          "output_type": "stream",
          "text": [
            "['el primer', 'el segundo', 'el tercer', 'es el', 'este es', 'primer documento', 'segundo documento', 'tercer documento']\n"
          ],
          "name": "stdout"
        }
      ]
    }
  ]
}