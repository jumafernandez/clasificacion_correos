{
  "nbformat": 4,
  "nbformat_minor": 0,
  "metadata": {
    "colab": {
      "name": "01-bow+binario+svm.ipynb",
      "provenance": [],
      "toc_visible": true,
      "include_colab_link": true
    },
    "kernelspec": {
      "name": "python3",
      "display_name": "Python 3"
    }
  },
  "cells": [
    {
      "cell_type": "markdown",
      "metadata": {
        "id": "view-in-github",
        "colab_type": "text"
      },
      "source": [
        "<a href=\"https://colab.research.google.com/github/jumafernandez/clasificacion_correos/blob/main/notebooks/jcc/01-bow%2Bbinario%2Bsvm.ipynb\" target=\"_parent\"><img src=\"https://colab.research.google.com/assets/colab-badge.svg\" alt=\"Open In Colab\"/></a>"
      ]
    },
    {
      "cell_type": "markdown",
      "metadata": {
        "id": "5DuUrVBgeUso"
      },
      "source": [
        "# Baseline JCC: BoW+SVM\n",
        "\n",
        "En esta notebook se presetan los experimentos sobre la estrategia de representación y técnica de aprendizaje *baseline* utilizada para las JCC de  la Universidad Nacional de La Plata.\n",
        "\n",
        "Para ello vamos a preprocesar los correos y aplicar:\n",
        "- Bag of words,\n",
        "- Pesado binario/no binario,\n",
        "- Máquina de vector soporte (SVM).\n"
      ]
    },
    {
      "cell_type": "markdown",
      "metadata": {
        "id": "FBLanwDJVnFF"
      },
      "source": [
        "## Instalación y Carga de librerías y funciones útiles\n",
        "\n",
        "### Instalación de librerías\n",
        "\n",
        "Se instalan las librerías que no están en el entorno de Google Colab"
      ]
    },
    {
      "cell_type": "code",
      "metadata": {
        "colab": {
          "base_uri": "https://localhost:8080/"
        },
        "id": "644uDER_VnXj",
        "outputId": "ffca91e3-a18b-48bb-e7ed-7555262d0249"
      },
      "source": [
        "# Se instala gensim que es el que tiene el modelo Word2Vec\n",
        "!pip install requests\n",
        "!pip install wget"
      ],
      "execution_count": 1,
      "outputs": [
        {
          "output_type": "stream",
          "name": "stdout",
          "text": [
            "Requirement already satisfied: requests in /usr/local/lib/python3.7/dist-packages (2.23.0)\n",
            "Requirement already satisfied: urllib3!=1.25.0,!=1.25.1,<1.26,>=1.21.1 in /usr/local/lib/python3.7/dist-packages (from requests) (1.24.3)\n",
            "Requirement already satisfied: chardet<4,>=3.0.2 in /usr/local/lib/python3.7/dist-packages (from requests) (3.0.4)\n",
            "Requirement already satisfied: certifi>=2017.4.17 in /usr/local/lib/python3.7/dist-packages (from requests) (2021.5.30)\n",
            "Requirement already satisfied: idna<3,>=2.5 in /usr/local/lib/python3.7/dist-packages (from requests) (2.10)\n",
            "Requirement already satisfied: wget in /usr/local/lib/python3.7/dist-packages (3.2)\n"
          ]
        }
      ]
    },
    {
      "cell_type": "markdown",
      "metadata": {
        "id": "43fDuhK2V1kx"
      },
      "source": [
        "### Funciones útiles\n",
        "\n",
        "Se cargan funciones útiles desde el repo https://github.com/jumafernandez/clasificacion_correos para la carga y balanceo del dataset."
      ]
    },
    {
      "cell_type": "code",
      "metadata": {
        "id": "oQvZz035bSMf"
      },
      "source": [
        "import requests\n",
        "\n",
        "# Se hace el request del raw del script python\n",
        "url = 'https://raw.githubusercontent.com/jumafernandez/clasificacion_correos/main/scripts/jcc/funciones_dataset.py'\n",
        "r = requests.get(url)\n",
        "\n",
        "# Se guarda en el working directory\n",
        "with open('funciones_dataset.py', 'w') as f:\n",
        "    f.write(r.text)\n",
        "\n",
        "# Se importan las funciones a utilizar\n",
        "from funciones_dataset import get_clases, cargar_dataset"
      ],
      "execution_count": 2,
      "outputs": []
    },
    {
      "cell_type": "markdown",
      "metadata": {
        "id": "MDxjaGIfV-rT"
      },
      "source": [
        "También se carga la función para preprocesar el texto que se usó en los otros modelos desde el repo: https://github.com/jumafernandez/clasificacion_correos."
      ]
    },
    {
      "cell_type": "code",
      "metadata": {
        "id": "o0o2NndLWDVC"
      },
      "source": [
        "import requests\n",
        "\n",
        "# Se hace el request del raw del script python\n",
        "url = 'https://raw.githubusercontent.com/jumafernandez/clasificacion_correos/main/scripts/jcc/funciones_preprocesamiento.py'\n",
        "r = requests.get(url)\n",
        "\n",
        "# Se guarda en el working directory\n",
        "with open('funciones_preprocesamiento.py', 'w') as f:\n",
        "    f.write(r.text)\n",
        "\n",
        "# Se importan las funciones a utilizar\n",
        "from funciones_preprocesamiento import preprocesar_correos"
      ],
      "execution_count": 3,
      "outputs": []
    },
    {
      "cell_type": "markdown",
      "metadata": {
        "id": "-uv6R5UQWWmE"
      },
      "source": [
        "### Carga de datos\n",
        "\n",
        "Se carga el dataframe en memoria con el preprocesamiento de los datos:"
      ]
    },
    {
      "cell_type": "code",
      "metadata": {
        "colab": {
          "base_uri": "https://localhost:8080/"
        },
        "id": "MP4lJ_KVvBSO",
        "outputId": "31f267d1-f69f-4fd8-a0a4-9c38c04f998c"
      },
      "source": [
        "import warnings\n",
        "from os import path\n",
        "warnings.filterwarnings(\"ignore\")\n",
        "\n",
        "# Constantes con los datos\n",
        "DS_DIR = 'https://raw.githubusercontent.com/jumafernandez/clasificacion_correos/main/data/consolidado_jcc/'\n",
        "TRAIN_FILE = 'correos-train-80.csv'\n",
        "TEST_FILE = 'correos-test-20.csv'\n",
        "\n",
        "# Chequeo sobre si los archivos están en el working directory\n",
        "download_files = not(path.exists(TRAIN_FILE))\n",
        "\n",
        "etiquetas = get_clases()\n",
        "\n",
        "# Defino la cantidad de clases a utilizar\n",
        "CANTIDAD_CLASES = len(etiquetas)\n",
        "\n",
        "train_df, test_df, etiquetas = cargar_dataset(DS_DIR, TRAIN_FILE, TEST_FILE, download_files, 'clase', etiquetas, CANTIDAD_CLASES, 'Otras Consultas')\n",
        "\n",
        "# Se ejecuta el preprocesamiento de correos sobre el campo Consulta de train y test\n",
        "import pandas as pd\n",
        "train_df['Consulta'] = pd.Series(preprocesar_correos(train_df['Consulta']))\n",
        "test_df['Consulta'] = pd.Series(preprocesar_correos(test_df['Consulta']))\n",
        "\n",
        "# Cambio los integers por las etiquetas\n",
        "train_df['clase'] = etiquetas[train_df['clase']]\n",
        "test_df['clase'] = etiquetas[test_df['clase']]\n",
        "\n",
        "# Las vuelvo a pasar a números 0-N para evitar conflictos con simpletransformers\n",
        "# Este paso está fijo para estos experimentos\n",
        "dict_clases_id = {'Otras Consultas': 0,\n",
        "                            'Ingreso a la Universidad': 1,\n",
        "                            'Boleto Universitario': 2,\n",
        "                            'Requisitos de Ingreso': 3}\n",
        "\n",
        "# train_df['clase'].replace(dict_clases_id, inplace=True)\n",
        "# test_df['clase'].replace(dict_clases_id, inplace=True)\n",
        "\n",
        "# Muestro salida por consola\n",
        "print('Existen {} clases: {}.'.format(len(train_df.clase.unique()), train_df.clase.unique()))"
      ],
      "execution_count": 4,
      "outputs": [
        {
          "output_type": "stream",
          "name": "stdout",
          "text": [
            "\n",
            "El conjunto de entrenamiento tiene la dimensión: (800, 24)\n",
            "El conjunto de testeo tiene la dimensión: (200, 24)\n",
            "Existen 20 clases: ['Inscripción a Cursadas' 'Cambio de Carrera' 'Reincorporación'\n",
            " 'Ingreso a la Universidad' 'Boleto Universitario'\n",
            " 'Pedido de Certificados' 'Exámenes' 'Requisitos de Ingreso' 'Cursadas'\n",
            " 'Situación Académica' 'Vacunas Enfermería' 'Consulta por Legajo'\n",
            " 'Problemas con la Clave' 'Consulta sobre Título Universitario'\n",
            " 'Certificados Web' 'Carga de Notas' 'Simultaneidad de Carreras'\n",
            " 'Cambio de Comisión' 'Consulta por Equivalencias' 'Datos Personales'].\n"
          ]
        }
      ]
    },
    {
      "cell_type": "markdown",
      "metadata": {
        "id": "17obw6uxVN21"
      },
      "source": [
        "## SVM\n",
        "\n",
        "Se carga en memoria la función _grid_search_por_estrategia_representacion_ que va a iterar ajustando los hiperparámetros para las técnica de __SVM__:"
      ]
    },
    {
      "cell_type": "code",
      "metadata": {
        "id": "8XF6H0BGX9F9"
      },
      "source": [
        "import requests\n",
        "\n",
        "# Se hace el request del raw del script python\n",
        "url = 'https://raw.githubusercontent.com/jumafernandez/clasificacion_correos/main/scripts/jcc/funciones_clasificacion_texto.py'\n",
        "r = requests.get(url)\n",
        "\n",
        "# Se guarda en el working directory\n",
        "with open('funciones_clasificacion_texto.py', 'w') as f:\n",
        "    f.write(r.text)\n",
        "\n",
        "# Se importan las funciones a utilizar\n",
        "from funciones_clasificacion_texto import gridsearch_por_estrategia_representacion"
      ],
      "execution_count": 5,
      "outputs": []
    },
    {
      "cell_type": "markdown",
      "metadata": {
        "id": "fiAo2N8TX-ao"
      },
      "source": [
        "Se define el espacio de búsqueda para el ajuste de hiperparámetros del modelo:"
      ]
    },
    {
      "cell_type": "code",
      "metadata": {
        "id": "k3TOc1GcX-rg"
      },
      "source": [
        "BUSCA_MEJOR_MODELO = False\n",
        "\n",
        "if BUSCA_MEJOR_MODELO:\n",
        "  # Defino una lista con los esquemas de representación\n",
        "  estrategias_representacion = ['BASELINE', 'BOW', 'TFIDF', '3-4-NGRAM-CHARS', '1-2-NGRAM-WORDS']\n",
        "  modelo = 'SVM'\n",
        "\n",
        "  # Defino los parámetros para GridSearchCV\n",
        "  params_svm = {'SVM__C': [0.01, 0.1, 1, 10, 100], \n",
        "                'SVM__gamma': [1, 0.1, 0.01, 0.001],\n",
        "                'SVM__class_weight': [None, 'balanced'],\n",
        "                'SVM__kernel': ['rbf', 'linear', 'sigmoid']\n",
        "                }"
      ],
      "execution_count": 6,
      "outputs": []
    },
    {
      "cell_type": "markdown",
      "metadata": {
        "id": "lmnm8yPmYGAR"
      },
      "source": [
        "Se ejecuta el ajuste de hiperparámetros para cada estrategia de representación en función del espacio de búsqueda:"
      ]
    },
    {
      "cell_type": "code",
      "metadata": {
        "id": "lFSOquuAYGPK"
      },
      "source": [
        "if BUSCA_MEJOR_MODELO:\n",
        "  for estrategia in estrategias_representacion:\n",
        "    # Llamo a la función que realiza el gridsearch por estrategia  \n",
        "    gridsearch_por_estrategia_representacion(train_df, test_df, estrategia, modelo, params_svm, None)"
      ],
      "execution_count": 7,
      "outputs": []
    },
    {
      "cell_type": "markdown",
      "metadata": {
        "id": "rMBSK5IvZLv7"
      },
      "source": [
        "Se entrena el mejor modelo encontrado, para ello me traigo una función para levantar los df de train y test:"
      ]
    },
    {
      "cell_type": "code",
      "metadata": {
        "id": "TQwaz8dGaVkz"
      },
      "source": [
        "def generar_train_test_set(train, test, estrategia, MAX_TKS=None, atr_consulta='consulta', atr_clase='clase'):\n",
        "  from funciones_dataset import consolidar_df\n",
        "  from funciones_clasificacion_texto import representacion_documentos\n",
        "  \n",
        "  from sklearn.preprocessing import MinMaxScaler\n",
        "  import pandas as pd\n",
        "\n",
        "  # Esta función va dentro de un iterador entre las 5 estrategias    \n",
        "  print('Estrategia de representación: {}' . format(estrategia))\n",
        "  correos_train_vec, correos_test_vec = representacion_documentos(train[atr_consulta], test[atr_consulta], estrategia, MAX_TKS)\n",
        "\n",
        "  # Separo en x e y - train y test- (además consolido feature estáticas con dinámicas)\n",
        "  x_train, y_train = consolidar_df(train, correos_train_vec, atr_consulta, atr_clase)\n",
        "  x_test, y_test = consolidar_df(test, correos_test_vec, atr_consulta, atr_clase)\n",
        "  \n",
        "  # Escalado de datos: Se probó scale y MinMaxScaler y dió mejores resultados el último\n",
        "  scaler = MinMaxScaler()\n",
        "  x_train_scaled = scaler.fit_transform(x_train)\n",
        "  x_test_scaled = scaler.fit_transform(x_test)\n",
        "\n",
        "  return x_train_scaled, y_train, x_test_scaled, y_test"
      ],
      "execution_count": 8,
      "outputs": []
    },
    {
      "cell_type": "code",
      "metadata": {
        "id": "aaL_36XKZSnH",
        "colab": {
          "base_uri": "https://localhost:8080/"
        },
        "outputId": "256c8969-825c-4553-af8a-fedb90df46b2"
      },
      "source": [
        "from sklearn.svm import SVC\n",
        "\n",
        "X_train, y_train, X_test, y_test = generar_train_test_set(train_df, test_df, 'BOW', MAX_TKS=10000, atr_consulta='Consulta')\n",
        "\n",
        "clf = SVC(C=1, class_weight='balanced', gamma=1, kernel='linear')\n",
        "\n",
        "clf.fit(X_train, y_train)\n",
        "\n",
        "y_pred = clf.predict(X_test)"
      ],
      "execution_count": 9,
      "outputs": [
        {
          "output_type": "stream",
          "name": "stdout",
          "text": [
            "Estrategia de representación: BOW\n"
          ]
        }
      ]
    },
    {
      "cell_type": "markdown",
      "metadata": {
        "id": "-ePl5Pp8Zpfe"
      },
      "source": [
        "Se evalúa el modelo:"
      ]
    },
    {
      "cell_type": "code",
      "metadata": {
        "id": "yUAbLleKZsS1",
        "colab": {
          "base_uri": "https://localhost:8080/",
          "height": 792
        },
        "outputId": "dfa30897-825f-437e-8457-c58ca282f16b"
      },
      "source": [
        "import numpy as np\n",
        "from sklearn import metrics #Importar el módulo metrics de scikit-learn\n",
        "import seaborn as sns\n",
        "import matplotlib.pyplot as plt\n",
        "\n",
        "matriz_confusion = metrics.confusion_matrix(y_test, y_pred)\n",
        "\n",
        "sns.set()\n",
        "my_mask = np.zeros((matriz_confusion.shape[0], matriz_confusion.shape[0]), dtype=int)\n",
        "for i in range(matriz_confusion.shape[0]):\n",
        "    for j in range(matriz_confusion.shape[0]):\n",
        "        my_mask[i][j] = matriz_confusion[i][j] == 0 \n",
        "  \n",
        "fig_dims = (10, 10)\n",
        "plt.subplots(figsize=fig_dims)\n",
        "\n",
        "ax = sns.heatmap(matriz_confusion,\n",
        "                 xticklabels=etiquetas,\n",
        "                 annot=True, \n",
        "                 fmt=\"d\", \n",
        "                 linewidths=.5, \n",
        "                 cmap=\"Blues\", \n",
        "                 cbar=False, \n",
        "                 mask=my_mask, \n",
        "                 vmax=15)\n",
        "\n",
        "plt.gcf().set_size_inches(10, 10)\n",
        "plt.xticks(rotation=90, ha=\"center\")\n",
        "plt.yticks(np.arange(len(etiquetas))+0.5, etiquetas, rotation='horizontal')\n",
        "\n",
        "plt.xlabel('Clase Predicha')\n",
        "plt.ylabel('Clase Real');\n",
        "\n",
        "plt.show()"
      ],
      "execution_count": 10,
      "outputs": [
        {
          "output_type": "display_data",
          "data": {
            "image/png": "[encoded data removed]",
            "text/plain": [
              "<Figure size 720x720 with 1 Axes>"
            ]
          },
          "metadata": {}
        }
      ]
    },
    {
      "cell_type": "markdown",
      "metadata": {
        "id": "vRcOf88uSh21"
      },
      "source": [
        "## Análisis de errores a nivel instancias\n",
        "\n",
        "Se realiza una verificación de los errores a partir de las clasificaciones."
      ]
    },
    {
      "cell_type": "code",
      "metadata": {
        "colab": {
          "base_uri": "https://localhost:8080/",
          "height": 470
        },
        "id": "E2kHmKsoSrlh",
        "outputId": "30ada0cf-f513-438a-d52a-b3d4e12768b3"
      },
      "source": [
        "# Genero un dataframe con consulta, clase y predicción\n",
        "train_df, test_df, etiquetas = cargar_dataset(DS_DIR, TRAIN_FILE, TEST_FILE, download_files, 'clase', etiquetas, CANTIDAD_CLASES, 'Otras Consultas')\n",
        "\n",
        "# Cambio los integers por las etiquetas en las clases\n",
        "train_df['clase'] = etiquetas[train_df['clase']]\n",
        "test_df['clase'] = etiquetas[test_df['clase']]\n",
        "\n",
        "df_clasificaciones = test_df[['Consulta', 'clase']]\n",
        "df_clasificaciones['SVM'] = y_pred\n",
        "\n",
        "# Genero un nuevo atributo para contar los errores SVM\n",
        "df_clasificaciones['error_SVM'] = df_clasificaciones['SVM'] != df_clasificaciones['clase']\n",
        "\n",
        "df_clasificaciones"
      ],
      "execution_count": 13,
      "outputs": [
        {
          "output_type": "stream",
          "name": "stdout",
          "text": [
            "\n",
            "El conjunto de entrenamiento tiene la dimensión: (800, 24)\n",
            "El conjunto de testeo tiene la dimensión: (200, 24)\n"
          ]
        },
        {
          "output_type": "execute_result",
          "data": {
            "text/html": [
              "<div>\n",
              "<style scoped>\n",
              "    .dataframe tbody tr th:only-of-type {\n",
              "        vertical-align: middle;\n",
              "    }\n",
              "\n",
              "    .dataframe tbody tr th {\n",
              "        vertical-align: top;\n",
              "    }\n",
              "\n",
              "    .dataframe thead th {\n",
              "        text-align: right;\n",
              "    }\n",
              "</style>\n",
              "<table border=\"1\" class=\"dataframe\">\n",
              "  <thead>\n",
              "    <tr style=\"text-align: right;\">\n",
              "      <th></th>\n",
              "      <th>Consulta</th>\n",
              "      <th>clase</th>\n",
              "      <th>SVM</th>\n",
              "      <th>error_SVM</th>\n",
              "    </tr>\n",
              "  </thead>\n",
              "  <tbody>\n",
              "    <tr>\n",
              "      <th>0</th>\n",
              "      <td>buen día. me llegó un mail que ya está habilit...</td>\n",
              "      <td>Boleto Universitario</td>\n",
              "      <td>Boleto Universitario</td>\n",
              "      <td>False</td>\n",
              "    </tr>\n",
              "    <tr>\n",
              "      <th>1</th>\n",
              "      <td>no puedo acceder, probablemente sea por poner ...</td>\n",
              "      <td>Requisitos de Ingreso</td>\n",
              "      <td>Requisitos de Ingreso</td>\n",
              "      <td>False</td>\n",
              "    </tr>\n",
              "    <tr>\n",
              "      <th>2</th>\n",
              "      <td>buenas tardes,  me dicen que tengo que reincri...</td>\n",
              "      <td>Datos Personales</td>\n",
              "      <td>Problemas con la Clave</td>\n",
              "      <td>True</td>\n",
              "    </tr>\n",
              "    <tr>\n",
              "      <th>3</th>\n",
              "      <td>hola quería saber si recibieron la solicitud d...</td>\n",
              "      <td>Ingreso a la Universidad</td>\n",
              "      <td>Ingreso a la Universidad</td>\n",
              "      <td>False</td>\n",
              "    </tr>\n",
              "    <tr>\n",
              "      <th>4</th>\n",
              "      <td>quisiera obtener la regularidad para poder ren...</td>\n",
              "      <td>Reincorporación</td>\n",
              "      <td>Reincorporación</td>\n",
              "      <td>False</td>\n",
              "    </tr>\n",
              "    <tr>\n",
              "      <th>...</th>\n",
              "      <td>...</td>\n",
              "      <td>...</td>\n",
              "      <td>...</td>\n",
              "      <td>...</td>\n",
              "    </tr>\n",
              "    <tr>\n",
              "      <th>195</th>\n",
              "      <td>no puedo reseterar mi clave de acceso al siste...</td>\n",
              "      <td>Problemas con la Clave</td>\n",
              "      <td>Problemas con la Clave</td>\n",
              "      <td>False</td>\n",
              "    </tr>\n",
              "    <tr>\n",
              "      <th>196</th>\n",
              "      <td>buenas tardes, quería saber por qué motivo las...</td>\n",
              "      <td>Boleto Universitario</td>\n",
              "      <td>Boleto Universitario</td>\n",
              "      <td>False</td>\n",
              "    </tr>\n",
              "    <tr>\n",
              "      <th>197</th>\n",
              "      <td>hola, me olvide el numero de contraseña de mi ...</td>\n",
              "      <td>Problemas con la Clave</td>\n",
              "      <td>Problemas con la Clave</td>\n",
              "      <td>False</td>\n",
              "    </tr>\n",
              "    <tr>\n",
              "      <th>198</th>\n",
              "      <td>corregir datos erróneos sobre mi domicilio. do...</td>\n",
              "      <td>Datos Personales</td>\n",
              "      <td>Reincorporación</td>\n",
              "      <td>True</td>\n",
              "    </tr>\n",
              "    <tr>\n",
              "      <th>199</th>\n",
              "      <td>no puedo acceder a mi nro.de legajo. me equivo...</td>\n",
              "      <td>Inscripción a Cursadas</td>\n",
              "      <td>Inscripción a Cursadas</td>\n",
              "      <td>False</td>\n",
              "    </tr>\n",
              "  </tbody>\n",
              "</table>\n",
              "<p>200 rows × 4 columns</p>\n",
              "</div>"
            ],
            "text/plain": [
              "                                              Consulta  ... error_SVM\n",
              "0    buen día. me llegó un mail que ya está habilit...  ...     False\n",
              "1    no puedo acceder, probablemente sea por poner ...  ...     False\n",
              "2    buenas tardes,  me dicen que tengo que reincri...  ...      True\n",
              "3    hola quería saber si recibieron la solicitud d...  ...     False\n",
              "4    quisiera obtener la regularidad para poder ren...  ...     False\n",
              "..                                                 ...  ...       ...\n",
              "195  no puedo reseterar mi clave de acceso al siste...  ...     False\n",
              "196  buenas tardes, quería saber por qué motivo las...  ...     False\n",
              "197  hola, me olvide el numero de contraseña de mi ...  ...     False\n",
              "198  corregir datos erróneos sobre mi domicilio. do...  ...      True\n",
              "199  no puedo acceder a mi nro.de legajo. me equivo...  ...     False\n",
              "\n",
              "[200 rows x 4 columns]"
            ]
          },
          "metadata": {},
          "execution_count": 13
        }
      ]
    },
    {
      "cell_type": "code",
      "metadata": {
        "colab": {
          "base_uri": "https://localhost:8080/"
        },
        "id": "N_fO1WLFTeaK",
        "outputId": "62a0b645-1dce-4135-ece6-f4a457ffaf41"
      },
      "source": [
        "from google.colab import drive\n",
        "drive.mount('drive')\n",
        "df_clasificaciones.to_csv('analisis_clasificacion_SVM.csv', sep='|')\n",
        "\n",
        "!cp analisis_clasificacion_SVM.csv \"drive/My Drive/Tesis_modelos/\""
      ],
      "execution_count": 14,
      "outputs": [
        {
          "output_type": "stream",
          "name": "stdout",
          "text": [
            "Drive already mounted at drive; to attempt to forcibly remount, call drive.mount(\"drive\", force_remount=True).\n"
          ]
        }
      ]
    },
    {
      "cell_type": "markdown",
      "metadata": {
        "id": "0a1K2447qjxE"
      },
      "source": [
        "# Referencias\n",
        "- https://scikit-learn.org/stable/modules/generated/sklearn.model_selection.GridSearchCV.html\n",
        "- https://medium.com/analytics-vidhya/ml-pipelines-using-scikit-learn-and-gridsearchcv-fe605a7f9e05"
      ]
    }
  ]
}