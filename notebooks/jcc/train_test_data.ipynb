{
  "nbformat": 4,
  "nbformat_minor": 0,
  "metadata": {
    "colab": {
      "name": "Train-Test-data.ipynb",
      "provenance": [],
      "authorship_tag": "ABX9TyMU9o71caSO7SAj0h9WdizA",
      "include_colab_link": true
    },
    "kernelspec": {
      "name": "python3",
      "display_name": "Python 3"
    }
  },
  "cells": [
    {
      "cell_type": "markdown",
      "metadata": {
        "id": "view-in-github",
        "colab_type": "text"
      },
      "source": [
        "<a href=\"https://colab.research.google.com/github/jumafernandez/clasificacion_correos/blob/main/notebooks/jcc/train_test_data.ipynb\" target=\"_parent\"><img src=\"https://colab.research.google.com/assets/colab-badge.svg\" alt=\"Open In Colab\"/></a>"
      ]
    },
    {
      "cell_type": "code",
      "metadata": {
        "id": "nhP3L4qVZX6J"
      },
      "source": [
        "# Cargamos el archivo con las consultas que está en Github\r\n",
        "from os import path\r\n",
        "\r\n",
        "# En caso que no esté el archivo en Colab lo traigo\r\n",
        "if not(path.exists('03-Correos_variables_estaticas.csv')):\r\n",
        "  !wget https://raw.githubusercontent.com/jumafernandez/clasificacion_correos/main/data/03-Correos_variables_estaticas.csv\r\n",
        "\r\n",
        "# Leemos el archivo en un dataframe\r\n",
        "import pandas as pd\r\n",
        "\r\n",
        "df = pd.read_csv('03-Correos_variables_estaticas.csv', delimiter=\"|\") "
      ],
      "execution_count": 1,
      "outputs": []
    },
    {
      "cell_type": "code",
      "metadata": {
        "colab": {
          "base_uri": "https://localhost:8080/"
        },
        "id": "pzI4Wy2cekaj",
        "outputId": "d62ea124-1c92-4610-cdf8-3cf9dbeb7029"
      },
      "source": [
        "# Limpio el campo proveedor_correo\r\n",
        "\r\n",
        "df['proveedor_correo'].replace({\"autloock\": \"outlook\",\r\n",
        "                                \"outlool\": \"outlook\",\r\n",
        "                                \"gmai\": \"gmail\",\r\n",
        "                                \"gmal\": \"gmail\",\r\n",
        "                                \"gmil\": \"gmail\",\r\n",
        "                                \"hotmai\": \"hotmail\",\r\n",
        "                                \"luve\": \"live\",\r\n",
        "                                }, inplace=True)\r\n",
        "\r\n",
        "# Se transforma proveedor_correo a numerico\r\n",
        "from sklearn import preprocessing\r\n",
        "le_correo = preprocessing.LabelEncoder()\r\n",
        "df['proveedor_correo'] = le_correo.fit_transform(df['proveedor_correo'])\r\n",
        "\r\n",
        "le_correo.classes_"
      ],
      "execution_count": 2,
      "outputs": [
        {
          "output_type": "execute_result",
          "data": {
            "text/plain": [
              "array(['ampinformatica', 'baires-sa', 'correoargentino', 'facebook',\n",
              "       'gmail', 'grupoberro', 'hotmail', 'icloud', 'live', 'me', 'msn',\n",
              "       'outlook', 'uno', 'yahoo'], dtype=object)"
            ]
          },
          "metadata": {
            "tags": []
          },
          "execution_count": 2
        }
      ]
    },
    {
      "cell_type": "code",
      "metadata": {
        "colab": {
          "base_uri": "https://localhost:8080/"
        },
        "id": "xiJ5Bh9le5fx",
        "outputId": "76bcfb46-1ae1-42f7-d99a-40ba904873aa"
      },
      "source": [
        "# Me guardo los atributos, excepto la clase en x\r\n",
        "\r\n",
        "x = df.drop(['Clase'], axis=1)\r\n",
        "x.columns"
      ],
      "execution_count": 3,
      "outputs": [
        {
          "output_type": "execute_result",
          "data": {
            "text/plain": [
              "Index(['Consulta', 'dia_semana', 'semana_del_mes', 'mes', 'cuatrimestre',\n",
              "       'anio', 'hora_discretizada', 'dni_discretizado', 'legajo_discretizado',\n",
              "       'posee_legajo', 'posee_telefono', 'carrera_valor', 'proveedor_correo',\n",
              "       'cantidad_caracteres', 'proporcion_mayusculas', 'proporcion_letras',\n",
              "       'cantidad_tildes', 'cantidad_palabras', 'cantidad_palabras_cortas',\n",
              "       'proporcion_palabras_distintas', 'frecuencia_signos_puntuacion',\n",
              "       'cantidad_oraciones', 'utiliza_codigo_asignatura'],\n",
              "      dtype='object')"
            ]
          },
          "metadata": {
            "tags": []
          },
          "execution_count": 3
        }
      ]
    },
    {
      "cell_type": "code",
      "metadata": {
        "colab": {
          "base_uri": "https://localhost:8080/"
        },
        "id": "Wk66UUzseTnM",
        "outputId": "d4120414-99fc-41ac-c71a-88f80d2ef12c"
      },
      "source": [
        "# Se numeriza la clase\r\n",
        "from sklearn import preprocessing\r\n",
        "le = preprocessing.LabelEncoder()\r\n",
        "\r\n",
        "# Me quedo con las clases numerizadas\r\n",
        "y=le.fit_transform(df['Clase'])\r\n",
        "\r\n",
        "# Por otro lado me guardo las etiquetas de las clases\r\n",
        "target_names=le.classes_\r\n",
        "\r\n",
        "target_names"
      ],
      "execution_count": 4,
      "outputs": [
        {
          "output_type": "execute_result",
          "data": {
            "text/plain": [
              "array(['Boleto Universitario', 'Cambio de Carrera', 'Cambio de Comisión',\n",
              "       'Carga de Notas', 'Certificados Web', 'Consulta por Equivalencias',\n",
              "       'Consulta por Legajo', 'Consulta sobre Título Universitario',\n",
              "       'Cursadas', 'Datos Personales', 'Exámenes',\n",
              "       'Ingreso a la Universidad', 'Inscripción a Cursadas',\n",
              "       'Pedido de Certificados', 'Problemas con la Clave',\n",
              "       'Reincorporación', 'Requisitos de Ingreso',\n",
              "       'Simultaneidad de Carreras', 'Situación Académica',\n",
              "       'Vacunas Enfermería'], dtype=object)"
            ]
          },
          "metadata": {
            "tags": []
          },
          "execution_count": 4
        }
      ]
    },
    {
      "cell_type": "code",
      "metadata": {
        "id": "pHkaLLYUellz"
      },
      "source": [
        "# Separo datos de entrenamiento y testing\r\n",
        "from sklearn.model_selection import train_test_split\r\n",
        "\r\n",
        "# Separo en 80-20 entrenamiento/validación y testeo\r\n",
        "df_train, df_test, y_train, y_test = train_test_split(x, y, random_state=0, test_size=0.2, stratify=y)"
      ],
      "execution_count": 5,
      "outputs": []
    },
    {
      "cell_type": "code",
      "metadata": {
        "id": "8TZco6bFdw9V"
      },
      "source": [
        "# Reordeno el índice para poder concatenar con el y_train\r\n",
        "\r\n",
        "# Train\r\n",
        "df_train.reset_index(drop=True, inplace=True)\r\n",
        "y_train_series = pd.Series(y_train)\r\n",
        "df_train = df_train.merge(y_train_series.rename('clase'), left_index=True, right_index=True)\r\n",
        "\r\n",
        "# Test\r\n",
        "df_test.reset_index(drop=True, inplace=True)\r\n",
        "y_test_series = pd.Series(y_test)\r\n",
        "df_test = df_test.merge(y_test_series.rename('clase'), left_index=True, right_index=True)\r\n"
      ],
      "execution_count": 6,
      "outputs": []
    },
    {
      "cell_type": "code",
      "metadata": {
        "colab": {
          "base_uri": "https://localhost:8080/"
        },
        "id": "kOm0T4sta49n",
        "outputId": "d4ef3396-95d0-422c-eda6-e732a6ca68a1"
      },
      "source": [
        "# Me autentico en Drive\r\n",
        "from google.colab import drive\r\n",
        "\r\n",
        "# Guardo en Drive los datos de entrenamiento\r\n",
        "df_train.to_csv('correos-train-80.csv', index=False)\r\n",
        "drive.mount('drive')\r\n",
        "!cp correos-train-80.csv \"drive/My Drive/\"\r\n",
        "\r\n",
        "# Guardo en Drive los datos de testeo\r\n",
        "df_test.to_csv('correos-test-20.csv', index=False)\r\n",
        "drive.mount('drive')\r\n",
        "!cp correos-test-20.csv \"drive/My Drive/\""
      ],
      "execution_count": 7,
      "outputs": [
        {
          "output_type": "stream",
          "text": [
            "Drive already mounted at drive; to attempt to forcibly remount, call drive.mount(\"drive\", force_remount=True).\n",
            "Drive already mounted at drive; to attempt to forcibly remount, call drive.mount(\"drive\", force_remount=True).\n"
          ],
          "name": "stdout"
        }
      ]
    }
  ]
}