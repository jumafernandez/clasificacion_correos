{
  "nbformat": 4,
  "nbformat_minor": 0,
  "metadata": {
    "colab": {
      "name": "00-bow+binario+regresion.ipynb",
      "provenance": [],
      "include_colab_link": true
    },
    "kernelspec": {
      "name": "python3",
      "display_name": "Python 3"
    }
  },
  "cells": [
    {
      "cell_type": "markdown",
      "metadata": {
        "id": "view-in-github",
        "colab_type": "text"
      },
      "source": [
        "<a href=\"https://colab.research.google.com/github/jumafernandez/clasificacion_correos/blob/main/notebooks/jcc/00-bow%2Bbinario%2Bregresion.ipynb\" target=\"_parent\"><img src=\"https://colab.research.google.com/assets/colab-badge.svg\" alt=\"Open In Colab\"/></a>"
      ]
    },
    {
      "cell_type": "markdown",
      "metadata": {
        "id": "5DuUrVBgeUso"
      },
      "source": [
        "# Baseline JCC: BoW+Pesado binario+Regresión Logística\n",
        "\n",
        "En esta notebook se presetan los experimentos sobre la estrategia de representación y técnica de aprendizaje *baseline* utilizada para las JCC de  la Universidad Nacional de La Plata.\n",
        "\n",
        "Para ello vamos a preprocesar los correos y aplicar:\n",
        "- Bag of words,\n",
        "- Pesado binario,\n",
        "- Regresión Logística.\n"
      ]
    },
    {
      "cell_type": "code",
      "metadata": {
        "id": "oQvZz035bSMf"
      },
      "source": [
        "# Cargamos el archivo con las consultas que está en Github\n",
        "from os import path\n",
        "\n",
        "# En caso que no esté el archivo en Colab lo traigo\n",
        "if not(path.exists('03-Correos_variables_estaticas.csv')):\n",
        "  !wget https://raw.githubusercontent.com/jumafernandez/clasificacion_correos/main/data/03-Correos_variables_estaticas.csv"
      ],
      "execution_count": 47,
      "outputs": []
    },
    {
      "cell_type": "code",
      "metadata": {
        "id": "QB-MMYgBfpEA",
        "colab": {
          "base_uri": "https://localhost:8080/"
        },
        "outputId": "06f32946-777c-45eb-8525-ba9658930834"
      },
      "source": [
        "# Leemos el archivo en un dataframe\n",
        "import pandas as pd\n",
        "\n",
        "df = pd.read_csv('03-Correos_variables_estaticas.csv', delimiter=\"|\")\n",
        "\n",
        "# Se transforma proveedor_correo a numerico\n",
        "from sklearn import preprocessing\n",
        "le_correo = preprocessing.LabelEncoder()\n",
        "df['proveedor_correo'] = le_correo.fit_transform(df['proveedor_correo'])\n",
        "\n",
        "df.info()"
      ],
      "execution_count": 48,
      "outputs": [
        {
          "output_type": "stream",
          "text": [
            "<class 'pandas.core.frame.DataFrame'>\n",
            "RangeIndex: 1000 entries, 0 to 999\n",
            "Data columns (total 24 columns):\n",
            " #   Column                         Non-Null Count  Dtype  \n",
            "---  ------                         --------------  -----  \n",
            " 0   Consulta                       1000 non-null   object \n",
            " 1   dia_semana                     1000 non-null   int64  \n",
            " 2   semana_del_mes                 1000 non-null   int64  \n",
            " 3   mes                            1000 non-null   int64  \n",
            " 4   cuatrimestre                   1000 non-null   int64  \n",
            " 5   anio                           1000 non-null   int64  \n",
            " 6   hora_discretizada              1000 non-null   int64  \n",
            " 7   dni_discretizado               1000 non-null   int64  \n",
            " 8   legajo_discretizado            1000 non-null   int64  \n",
            " 9   posee_legajo                   1000 non-null   int64  \n",
            " 10  posee_telefono                 1000 non-null   int64  \n",
            " 11  carrera_valor                  1000 non-null   int64  \n",
            " 12  proveedor_correo               1000 non-null   int64  \n",
            " 13  Clase                          1000 non-null   object \n",
            " 14  cantidad_caracteres            1000 non-null   int64  \n",
            " 15  proporcion_mayusculas          1000 non-null   float64\n",
            " 16  proporcion_letras              1000 non-null   float64\n",
            " 17  cantidad_tildes                1000 non-null   int64  \n",
            " 18  cantidad_palabras              1000 non-null   int64  \n",
            " 19  cantidad_palabras_cortas       1000 non-null   int64  \n",
            " 20  proporcion_palabras_distintas  1000 non-null   float64\n",
            " 21  frecuencia_signos_puntuacion   1000 non-null   float64\n",
            " 22  cantidad_oraciones             1000 non-null   int64  \n",
            " 23  utiliza_codigo_asignatura      1000 non-null   int64  \n",
            "dtypes: float64(4), int64(18), object(2)\n",
            "memory usage: 187.6+ KB\n"
          ],
          "name": "stdout"
        }
      ]
    },
    {
      "cell_type": "code",
      "metadata": {
        "id": "LCRgoWIVgb_Q",
        "colab": {
          "base_uri": "https://localhost:8080/"
        },
        "outputId": "c1686958-374f-4310-c56b-1319da1a20d4"
      },
      "source": [
        "# Vemos la cantidad de Instancias por clase\n",
        "\n",
        "df.Clase.value_counts()"
      ],
      "execution_count": 49,
      "outputs": [
        {
          "output_type": "execute_result",
          "data": {
            "text/plain": [
              "Boleto Universitario                   240\n",
              "Ingreso a la Universidad               232\n",
              "Requisitos de Ingreso                  129\n",
              "Pedido de Certificados                  69\n",
              "Inscripción a Cursadas                  64\n",
              "Problemas con la Clave                  51\n",
              "Reincorporación                         47\n",
              "Cursadas                                23\n",
              "Exámenes                                19\n",
              "Carga de Notas                          17\n",
              "Consulta por Legajo                     16\n",
              "Consulta por Equivalencias              14\n",
              "Cambio de Carrera                       14\n",
              "Situación Académica                     12\n",
              "Cambio de Comisión                      11\n",
              "Consulta sobre Título Universitario     10\n",
              "Vacunas Enfermería                      10\n",
              "Datos Personales                        10\n",
              "Simultaneidad de Carreras                6\n",
              "Certificados Web                         6\n",
              "Name: Clase, dtype: int64"
            ]
          },
          "metadata": {
            "tags": []
          },
          "execution_count": 49
        }
      ]
    },
    {
      "cell_type": "code",
      "metadata": {
        "id": "5uf7Jdkagudf",
        "colab": {
          "base_uri": "https://localhost:8080/"
        },
        "outputId": "433382fb-cbf5-4de3-d3b7-cd9ffdf4dfc1"
      },
      "source": [
        "# Transformamos todas las Clases minoritarias (Puedo ir variando la cantidad de clases que derivo a la Clase \"Otras Consultas\")\n",
        "cantidad_clases=4\n",
        "\n",
        "clases = df.Clase.value_counts()\n",
        "clases_minoritarias = clases.iloc[cantidad_clases:].keys().to_list()\n",
        "\n",
        "df.Clase[df['Clase'].isin(clases_minoritarias)] = \"Otras Consultas\"\n",
        "\n",
        "# Clases balanceadas\n",
        "df.Clase.value_counts()"
      ],
      "execution_count": 50,
      "outputs": [
        {
          "output_type": "execute_result",
          "data": {
            "text/plain": [
              "Otras Consultas             330\n",
              "Boleto Universitario        240\n",
              "Ingreso a la Universidad    232\n",
              "Requisitos de Ingreso       129\n",
              "Pedido de Certificados       69\n",
              "Name: Clase, dtype: int64"
            ]
          },
          "metadata": {
            "tags": []
          },
          "execution_count": 50
        }
      ]
    },
    {
      "cell_type": "code",
      "metadata": {
        "id": "2NG0QtbobUbn",
        "colab": {
          "base_uri": "https://localhost:8080/"
        },
        "outputId": "a39ab96c-7eb0-420d-c2b0-de29395d4d6b"
      },
      "source": [
        "# Preparo stopwords, aplico stemming y lemmatization\n",
        "!pip install es-lemmatizer\n",
        "!python -m spacy download es\n",
        "\n",
        "from es_lemmatizer import lemmatize\n",
        "\n",
        "import nltk\n",
        "from nltk.stem import SnowballStemmer\n",
        "nltk.download('stopwords')\n",
        "nltk.download('punkt')\n",
        "\n",
        "def tokenize(text):\n",
        "    tokens = nltk.word_tokenize(text)\n",
        "    stems = []\n",
        "    for item in tokens:\n",
        "        stems.append(SnowballStemmer('spanish').stem(item))\n",
        "    return stems\n",
        "\n",
        "# We are going to create a document-term matrix using CountVectorizer, and exclude common Spanish stop words\n",
        "from nltk.corpus import stopwords \n",
        "\n",
        "stop_words_es = set(stopwords.words('spanish')) "
      ],
      "execution_count": 51,
      "outputs": [
        {
          "output_type": "stream",
          "text": [
            "Requirement already satisfied: es-lemmatizer in /usr/local/lib/python3.7/dist-packages (0.2.1)\n",
            "Requirement already satisfied: es_core_news_sm==2.2.5 from https://github.com/explosion/spacy-models/releases/download/es_core_news_sm-2.2.5/es_core_news_sm-2.2.5.tar.gz#egg=es_core_news_sm==2.2.5 in /usr/local/lib/python3.7/dist-packages (2.2.5)\n",
            "Requirement already satisfied: spacy>=2.2.2 in /usr/local/lib/python3.7/dist-packages (from es_core_news_sm==2.2.5) (2.2.4)\n",
            "Requirement already satisfied: requests<3.0.0,>=2.13.0 in /usr/local/lib/python3.7/dist-packages (from spacy>=2.2.2->es_core_news_sm==2.2.5) (2.23.0)\n",
            "Requirement already satisfied: catalogue<1.1.0,>=0.0.7 in /usr/local/lib/python3.7/dist-packages (from spacy>=2.2.2->es_core_news_sm==2.2.5) (1.0.0)\n",
            "Requirement already satisfied: thinc==7.4.0 in /usr/local/lib/python3.7/dist-packages (from spacy>=2.2.2->es_core_news_sm==2.2.5) (7.4.0)\n",
            "Requirement already satisfied: preshed<3.1.0,>=3.0.2 in /usr/local/lib/python3.7/dist-packages (from spacy>=2.2.2->es_core_news_sm==2.2.5) (3.0.5)\n",
            "Requirement already satisfied: cymem<2.1.0,>=2.0.2 in /usr/local/lib/python3.7/dist-packages (from spacy>=2.2.2->es_core_news_sm==2.2.5) (2.0.5)\n",
            "Requirement already satisfied: murmurhash<1.1.0,>=0.28.0 in /usr/local/lib/python3.7/dist-packages (from spacy>=2.2.2->es_core_news_sm==2.2.5) (1.0.5)\n",
            "Requirement already satisfied: blis<0.5.0,>=0.4.0 in /usr/local/lib/python3.7/dist-packages (from spacy>=2.2.2->es_core_news_sm==2.2.5) (0.4.1)\n",
            "Requirement already satisfied: wasabi<1.1.0,>=0.4.0 in /usr/local/lib/python3.7/dist-packages (from spacy>=2.2.2->es_core_news_sm==2.2.5) (0.8.2)\n",
            "Requirement already satisfied: srsly<1.1.0,>=1.0.2 in /usr/local/lib/python3.7/dist-packages (from spacy>=2.2.2->es_core_news_sm==2.2.5) (1.0.5)\n",
            "Requirement already satisfied: tqdm<5.0.0,>=4.38.0 in /usr/local/lib/python3.7/dist-packages (from spacy>=2.2.2->es_core_news_sm==2.2.5) (4.41.1)\n",
            "Requirement already satisfied: plac<1.2.0,>=0.9.6 in /usr/local/lib/python3.7/dist-packages (from spacy>=2.2.2->es_core_news_sm==2.2.5) (1.1.3)\n",
            "Requirement already satisfied: setuptools in /usr/local/lib/python3.7/dist-packages (from spacy>=2.2.2->es_core_news_sm==2.2.5) (54.0.0)\n",
            "Requirement already satisfied: numpy>=1.15.0 in /usr/local/lib/python3.7/dist-packages (from spacy>=2.2.2->es_core_news_sm==2.2.5) (1.19.5)\n",
            "Requirement already satisfied: certifi>=2017.4.17 in /usr/local/lib/python3.7/dist-packages (from requests<3.0.0,>=2.13.0->spacy>=2.2.2->es_core_news_sm==2.2.5) (2020.12.5)\n",
            "Requirement already satisfied: idna<3,>=2.5 in /usr/local/lib/python3.7/dist-packages (from requests<3.0.0,>=2.13.0->spacy>=2.2.2->es_core_news_sm==2.2.5) (2.10)\n",
            "Requirement already satisfied: chardet<4,>=3.0.2 in /usr/local/lib/python3.7/dist-packages (from requests<3.0.0,>=2.13.0->spacy>=2.2.2->es_core_news_sm==2.2.5) (3.0.4)\n",
            "Requirement already satisfied: urllib3!=1.25.0,!=1.25.1,<1.26,>=1.21.1 in /usr/local/lib/python3.7/dist-packages (from requests<3.0.0,>=2.13.0->spacy>=2.2.2->es_core_news_sm==2.2.5) (1.24.3)\n",
            "Requirement already satisfied: importlib-metadata>=0.20; python_version < \"3.8\" in /usr/local/lib/python3.7/dist-packages (from catalogue<1.1.0,>=0.0.7->spacy>=2.2.2->es_core_news_sm==2.2.5) (3.7.0)\n",
            "Requirement already satisfied: zipp>=0.5 in /usr/local/lib/python3.7/dist-packages (from importlib-metadata>=0.20; python_version < \"3.8\"->catalogue<1.1.0,>=0.0.7->spacy>=2.2.2->es_core_news_sm==2.2.5) (3.4.0)\n",
            "Requirement already satisfied: typing-extensions>=3.6.4; python_version < \"3.8\" in /usr/local/lib/python3.7/dist-packages (from importlib-metadata>=0.20; python_version < \"3.8\"->catalogue<1.1.0,>=0.0.7->spacy>=2.2.2->es_core_news_sm==2.2.5) (3.7.4.3)\n",
            "\u001b[38;5;2m✔ Download and installation successful\u001b[0m\n",
            "You can now load the model via spacy.load('es_core_news_sm')\n",
            "\u001b[38;5;2m✔ Linking successful\u001b[0m\n",
            "/usr/local/lib/python3.7/dist-packages/es_core_news_sm -->\n",
            "/usr/local/lib/python3.7/dist-packages/spacy/data/es\n",
            "You can now load the model via spacy.load('es')\n",
            "[nltk_data] Downloading package stopwords to /root/nltk_data...\n",
            "[nltk_data]   Package stopwords is already up-to-date!\n",
            "[nltk_data] Downloading package punkt to /root/nltk_data...\n",
            "[nltk_data]   Package punkt is already up-to-date!\n"
          ],
          "name": "stdout"
        }
      ]
    },
    {
      "cell_type": "code",
      "metadata": {
        "id": "yw6t8lMTjRmF",
        "colab": {
          "base_uri": "https://localhost:8080/"
        },
        "outputId": "674825ec-7c9e-4d4e-922b-331a6dfdbad5"
      },
      "source": [
        "# Estrategia de representación de los documentos \n",
        "# (columna Consulta donde están las consultas de los estudiantes)\n",
        "\n",
        "from sklearn.feature_extraction.text import TfidfVectorizer, CountVectorizer\n",
        "\n",
        "# Representacion con pesado binario\n",
        "representacion = CountVectorizer(binary=True, strip_accents='unicode', stop_words=stop_words_es, max_features=2000)\n",
        "\n",
        "features = representacion.fit_transform(df.Consulta)\n",
        "\n",
        "#representacion.vocabulary_"
      ],
      "execution_count": 52,
      "outputs": [
        {
          "output_type": "stream",
          "text": [
            "/usr/local/lib/python3.7/dist-packages/sklearn/feature_extraction/text.py:385: UserWarning: Your stop_words may be inconsistent with your preprocessing. Tokenizing the stop words generated tokens ['eramos', 'estabamos', 'estais', 'estan', 'estara', 'estaran', 'estaras', 'estare', 'estareis', 'estaria', 'estariais', 'estariamos', 'estarian', 'estarias', 'esteis', 'esten', 'estes', 'estuvieramos', 'estuviesemos', 'fueramos', 'fuesemos', 'habeis', 'habia', 'habiais', 'habiamos', 'habian', 'habias', 'habra', 'habran', 'habras', 'habre', 'habreis', 'habria', 'habriais', 'habriamos', 'habrian', 'habrias', 'hayais', 'hubieramos', 'hubiesemos', 'mas', 'mia', 'mias', 'mio', 'mios', 'seais', 'sera', 'seran', 'seras', 'sere', 'sereis', 'seria', 'seriais', 'seriamos', 'serian', 'serias', 'si', 'tambien', 'tendra', 'tendran', 'tendras', 'tendre', 'tendreis', 'tendria', 'tendriais', 'tendriamos', 'tendrian', 'tendrias', 'teneis', 'tengais', 'tenia', 'teniais', 'teniamos', 'tenian', 'tenias', 'tuvieramos', 'tuviesemos'] not in stop_words.\n",
            "  'stop_words.' % sorted(inconsistent))\n"
          ],
          "name": "stderr"
        }
      ]
    },
    {
      "cell_type": "code",
      "metadata": {
        "id": "B3w5IUF9vahm"
      },
      "source": [
        "# Incorporamos al dataframe original las features dinámicas\n",
        "\n",
        "df_dinamicas = pd.DataFrame(features.toarray(), columns=representacion.get_feature_names())\n",
        "df = pd.concat([df, df_dinamicas], axis=1)"
      ],
      "execution_count": 53,
      "outputs": []
    },
    {
      "cell_type": "code",
      "metadata": {
        "id": "EMQlwGgdL_-p"
      },
      "source": [
        "# Separamos en features y clase los atributos del DataFrame\n",
        "\n",
        "# Features\n",
        "feature_names = list(df.columns)\n",
        "\n",
        "# Se elimina la Clase y Consulta\n",
        "feature_names.remove('Clase')\n",
        "feature_names.remove('Consulta')\n",
        "\n",
        "# Se separan las estáticas para realizar el escalado\n",
        "feature_estaticas = feature_names[:22]\n",
        "\n",
        "x = df.loc[:,feature_names]\n",
        "\n",
        "# Se numeriza la clase\n",
        "from sklearn import preprocessing\n",
        "le = preprocessing.LabelEncoder()\n",
        "y=le.fit_transform(df['Clase'])\n",
        "target_names=le.classes_"
      ],
      "execution_count": 54,
      "outputs": []
    },
    {
      "cell_type": "code",
      "metadata": {
        "id": "4Qarn-2JRk_x"
      },
      "source": [
        "# Quitamos un warning del copy\r\n",
        "pd.options.mode.chained_assignment = None\r\n",
        "\r\n",
        "# Escalamos los datos\r\n",
        "from sklearn.preprocessing import scale, MinMaxScaler\r\n",
        "\r\n",
        "# scale features estaticas\r\n",
        "scaler_static = MinMaxScaler()\r\n",
        "x[feature_estaticas] = scaler_static.fit_transform(x[feature_estaticas])\r\n",
        "\r\n",
        "# scale todas las features\r\n",
        "scaler_todas = MinMaxScaler()\r\n",
        "x[feature_names] = scaler_todas.fit_transform(x[feature_names])"
      ],
      "execution_count": 55,
      "outputs": []
    },
    {
      "cell_type": "code",
      "metadata": {
        "id": "F7IG6gK9Ogeo"
      },
      "source": [
        "# Separo datos de entrenamiento y testing (tendríamos que cambiar a cross-validation)\n",
        "\n",
        "from sklearn.model_selection import train_test_split\n",
        "\n",
        "# Separo en 70-30 entrenamiento y testeo\n",
        "x_train, x_test, y_train, y_test = train_test_split(x, y, random_state=0, test_size=0.3)\n"
      ],
      "execution_count": 56,
      "outputs": []
    },
    {
      "cell_type": "markdown",
      "metadata": {
        "id": "17obw6uxVN21"
      },
      "source": [
        "## Regresión Logística\n",
        "\n",
        "Generamos el modelo:"
      ]
    },
    {
      "cell_type": "code",
      "metadata": {
        "id": "QDn39lMqVQhx"
      },
      "source": [
        "from sklearn.linear_model import LogisticRegression\n",
        "from sklearn import metrics\n",
        "\n",
        "modelo_regresion = LogisticRegression(max_iter=10000)\n",
        "modelo_regresion.fit(x_train, y_train)\n",
        "\n",
        "# Realizo la predicción de y con el x_test\n",
        "y_pred = modelo_regresion.predict(x_test)"
      ],
      "execution_count": 57,
      "outputs": []
    },
    {
      "cell_type": "code",
      "metadata": {
        "id": "PvmCshboVf2j",
        "colab": {
          "base_uri": "https://localhost:8080/"
        },
        "outputId": "9a87d73f-0b5f-40e6-fd32-94127e401574"
      },
      "source": [
        "print(\"Accuracy:\",metrics.accuracy_score(y_test, y_pred))"
      ],
      "execution_count": 58,
      "outputs": [
        {
          "output_type": "stream",
          "text": [
            "Accuracy: 0.88\n"
          ],
          "name": "stdout"
        }
      ]
    },
    {
      "cell_type": "code",
      "metadata": {
        "id": "ZvUR3644nPLk",
        "colab": {
          "base_uri": "https://localhost:8080/",
          "height": 408
        },
        "outputId": "de2e0539-9bb9-4549-b3a2-46ff105faefc"
      },
      "source": [
        "from sklearn.metrics import confusion_matrix\n",
        "import matplotlib.pyplot as plt\n",
        "import seaborn as sns; sns.set()\n",
        "\n",
        "mat = confusion_matrix(y_test, y_pred)\n",
        "sns.heatmap(mat.T, square=True, annot=True, fmt='d', cbar=False,\n",
        "            xticklabels=target_names, yticklabels=target_names)\n",
        "plt.xlabel('etiqueta verdadera')\n",
        "plt.ylabel('etiqueta predicha');"
      ],
      "execution_count": 59,
      "outputs": [
        {
          "output_type": "display_data",
          "data": {
            "image/png": "[encoded data removed]",
            "text/plain": [
              "<Figure size 432x288 with 1 Axes>"
            ]
          },
          "metadata": {
            "tags": []
          }
        }
      ]
    },
    {
      "cell_type": "code",
      "metadata": {
        "id": "tm_xufr2DBUM",
        "outputId": "d7ab774b-572f-4270-9e67-ab9c712aa6d4",
        "colab": {
          "base_uri": "https://localhost:8080/"
        }
      },
      "source": [
        "# Modelo con GridSearchCV\r\n",
        "\r\n",
        "%%time\r\n",
        "from sklearn.model_selection import GridSearchCV\r\n",
        "\r\n",
        "modelo_grid = LogisticRegression()\r\n",
        "\r\n",
        "grid_values = {'penalty': ['none', 'l1', 'l2'], 'C': [0.001,0.01,0.1,1,10,100,1000], 'max_iter': [1000, 5000, 10000, 30000]}\r\n",
        "\r\n",
        "# wrap classifier/regressor in GridSearchCV\r\n",
        "clf = GridSearchCV(modelo_grid, \r\n",
        "                   param_grid=grid_values,\r\n",
        "                   cv=3,\r\n",
        "                   scoring='accuracy',\r\n",
        "                   verbose=False)\r\n",
        "\r\n",
        "# fit gridsearch \r\n",
        "clf.fit(x_train ,y_train)\r\n",
        "\r\n",
        "means = clf.cv_results_['mean_test_score']\r\n",
        "stds = clf.cv_results_['std_test_score']\r\n",
        "\r\n",
        "for mean, std, params in zip(means, stds, clf.cv_results_['params']):\r\n",
        "        print(\"%0.3f (+/-%0.03f) for %r\"\r\n",
        "              % (mean, std * 2, params))\r\n",
        "        \r\n",
        "# best scores\r\n",
        "print(\"\\nBest score:\", clf.best_score_,\"with params:\", clf.best_params_)        "
      ],
      "execution_count": 60,
      "outputs": [
        {
          "output_type": "stream",
          "text": [
            "/usr/local/lib/python3.7/dist-packages/sklearn/linear_model/_logistic.py:1505: UserWarning: Setting penalty='none' will ignore the C and l1_ratio parameters\n",
            "  \"Setting penalty='none' will ignore the C and l1_ratio \"\n",
            "/usr/local/lib/python3.7/dist-packages/sklearn/linear_model/_logistic.py:1505: UserWarning: Setting penalty='none' will ignore the C and l1_ratio parameters\n",
            "  \"Setting penalty='none' will ignore the C and l1_ratio \"\n",
            "/usr/local/lib/python3.7/dist-packages/sklearn/linear_model/_logistic.py:1505: UserWarning: Setting penalty='none' will ignore the C and l1_ratio parameters\n",
            "  \"Setting penalty='none' will ignore the C and l1_ratio \"\n",
            "/usr/local/lib/python3.7/dist-packages/sklearn/linear_model/_logistic.py:1505: UserWarning: Setting penalty='none' will ignore the C and l1_ratio parameters\n",
            "  \"Setting penalty='none' will ignore the C and l1_ratio \"\n",
            "/usr/local/lib/python3.7/dist-packages/sklearn/linear_model/_logistic.py:1505: UserWarning: Setting penalty='none' will ignore the C and l1_ratio parameters\n",
            "  \"Setting penalty='none' will ignore the C and l1_ratio \"\n",
            "/usr/local/lib/python3.7/dist-packages/sklearn/linear_model/_logistic.py:1505: UserWarning: Setting penalty='none' will ignore the C and l1_ratio parameters\n",
            "  \"Setting penalty='none' will ignore the C and l1_ratio \"\n",
            "/usr/local/lib/python3.7/dist-packages/sklearn/linear_model/_logistic.py:1505: UserWarning: Setting penalty='none' will ignore the C and l1_ratio parameters\n",
            "  \"Setting penalty='none' will ignore the C and l1_ratio \"\n",
            "/usr/local/lib/python3.7/dist-packages/sklearn/linear_model/_logistic.py:1505: UserWarning: Setting penalty='none' will ignore the C and l1_ratio parameters\n",
            "  \"Setting penalty='none' will ignore the C and l1_ratio \"\n",
            "/usr/local/lib/python3.7/dist-packages/sklearn/linear_model/_logistic.py:1505: UserWarning: Setting penalty='none' will ignore the C and l1_ratio parameters\n",
            "  \"Setting penalty='none' will ignore the C and l1_ratio \"\n",
            "/usr/local/lib/python3.7/dist-packages/sklearn/linear_model/_logistic.py:1505: UserWarning: Setting penalty='none' will ignore the C and l1_ratio parameters\n",
            "  \"Setting penalty='none' will ignore the C and l1_ratio \"\n",
            "/usr/local/lib/python3.7/dist-packages/sklearn/linear_model/_logistic.py:1505: UserWarning: Setting penalty='none' will ignore the C and l1_ratio parameters\n",
            "  \"Setting penalty='none' will ignore the C and l1_ratio \"\n",
            "/usr/local/lib/python3.7/dist-packages/sklearn/linear_model/_logistic.py:1505: UserWarning: Setting penalty='none' will ignore the C and l1_ratio parameters\n",
            "  \"Setting penalty='none' will ignore the C and l1_ratio \"\n",
            "/usr/local/lib/python3.7/dist-packages/sklearn/linear_model/_logistic.py:1505: UserWarning: Setting penalty='none' will ignore the C and l1_ratio parameters\n",
            "  \"Setting penalty='none' will ignore the C and l1_ratio \"\n",
            "/usr/local/lib/python3.7/dist-packages/sklearn/linear_model/_logistic.py:1505: UserWarning: Setting penalty='none' will ignore the C and l1_ratio parameters\n",
            "  \"Setting penalty='none' will ignore the C and l1_ratio \"\n",
            "/usr/local/lib/python3.7/dist-packages/sklearn/linear_model/_logistic.py:1505: UserWarning: Setting penalty='none' will ignore the C and l1_ratio parameters\n",
            "  \"Setting penalty='none' will ignore the C and l1_ratio \"\n",
            "/usr/local/lib/python3.7/dist-packages/sklearn/linear_model/_logistic.py:1505: UserWarning: Setting penalty='none' will ignore the C and l1_ratio parameters\n",
            "  \"Setting penalty='none' will ignore the C and l1_ratio \"\n",
            "/usr/local/lib/python3.7/dist-packages/sklearn/linear_model/_logistic.py:1505: UserWarning: Setting penalty='none' will ignore the C and l1_ratio parameters\n",
            "  \"Setting penalty='none' will ignore the C and l1_ratio \"\n",
            "/usr/local/lib/python3.7/dist-packages/sklearn/linear_model/_logistic.py:1505: UserWarning: Setting penalty='none' will ignore the C and l1_ratio parameters\n",
            "  \"Setting penalty='none' will ignore the C and l1_ratio \"\n",
            "/usr/local/lib/python3.7/dist-packages/sklearn/linear_model/_logistic.py:1505: UserWarning: Setting penalty='none' will ignore the C and l1_ratio parameters\n",
            "  \"Setting penalty='none' will ignore the C and l1_ratio \"\n",
            "/usr/local/lib/python3.7/dist-packages/sklearn/linear_model/_logistic.py:1505: UserWarning: Setting penalty='none' will ignore the C and l1_ratio parameters\n",
            "  \"Setting penalty='none' will ignore the C and l1_ratio \"\n",
            "/usr/local/lib/python3.7/dist-packages/sklearn/linear_model/_logistic.py:1505: UserWarning: Setting penalty='none' will ignore the C and l1_ratio parameters\n",
            "  \"Setting penalty='none' will ignore the C and l1_ratio \"\n",
            "/usr/local/lib/python3.7/dist-packages/sklearn/linear_model/_logistic.py:1505: UserWarning: Setting penalty='none' will ignore the C and l1_ratio parameters\n",
            "  \"Setting penalty='none' will ignore the C and l1_ratio \"\n",
            "/usr/local/lib/python3.7/dist-packages/sklearn/linear_model/_logistic.py:1505: UserWarning: Setting penalty='none' will ignore the C and l1_ratio parameters\n",
            "  \"Setting penalty='none' will ignore the C and l1_ratio \"\n",
            "/usr/local/lib/python3.7/dist-packages/sklearn/linear_model/_logistic.py:1505: UserWarning: Setting penalty='none' will ignore the C and l1_ratio parameters\n",
            "  \"Setting penalty='none' will ignore the C and l1_ratio \"\n",
            "/usr/local/lib/python3.7/dist-packages/sklearn/linear_model/_logistic.py:1505: UserWarning: Setting penalty='none' will ignore the C and l1_ratio parameters\n",
            "  \"Setting penalty='none' will ignore the C and l1_ratio \"\n",
            "/usr/local/lib/python3.7/dist-packages/sklearn/linear_model/_logistic.py:1505: UserWarning: Setting penalty='none' will ignore the C and l1_ratio parameters\n",
            "  \"Setting penalty='none' will ignore the C and l1_ratio \"\n",
            "/usr/local/lib/python3.7/dist-packages/sklearn/linear_model/_logistic.py:1505: UserWarning: Setting penalty='none' will ignore the C and l1_ratio parameters\n",
            "  \"Setting penalty='none' will ignore the C and l1_ratio \"\n",
            "/usr/local/lib/python3.7/dist-packages/sklearn/linear_model/_logistic.py:1505: UserWarning: Setting penalty='none' will ignore the C and l1_ratio parameters\n",
            "  \"Setting penalty='none' will ignore the C and l1_ratio \"\n",
            "/usr/local/lib/python3.7/dist-packages/sklearn/linear_model/_logistic.py:1505: UserWarning: Setting penalty='none' will ignore the C and l1_ratio parameters\n",
            "  \"Setting penalty='none' will ignore the C and l1_ratio \"\n",
            "/usr/local/lib/python3.7/dist-packages/sklearn/linear_model/_logistic.py:1505: UserWarning: Setting penalty='none' will ignore the C and l1_ratio parameters\n",
            "  \"Setting penalty='none' will ignore the C and l1_ratio \"\n",
            "/usr/local/lib/python3.7/dist-packages/sklearn/linear_model/_logistic.py:1505: UserWarning: Setting penalty='none' will ignore the C and l1_ratio parameters\n",
            "  \"Setting penalty='none' will ignore the C and l1_ratio \"\n",
            "/usr/local/lib/python3.7/dist-packages/sklearn/linear_model/_logistic.py:1505: UserWarning: Setting penalty='none' will ignore the C and l1_ratio parameters\n",
            "  \"Setting penalty='none' will ignore the C and l1_ratio \"\n",
            "/usr/local/lib/python3.7/dist-packages/sklearn/linear_model/_logistic.py:1505: UserWarning: Setting penalty='none' will ignore the C and l1_ratio parameters\n",
            "  \"Setting penalty='none' will ignore the C and l1_ratio \"\n",
            "/usr/local/lib/python3.7/dist-packages/sklearn/linear_model/_logistic.py:1505: UserWarning: Setting penalty='none' will ignore the C and l1_ratio parameters\n",
            "  \"Setting penalty='none' will ignore the C and l1_ratio \"\n",
            "/usr/local/lib/python3.7/dist-packages/sklearn/linear_model/_logistic.py:1505: UserWarning: Setting penalty='none' will ignore the C and l1_ratio parameters\n",
            "  \"Setting penalty='none' will ignore the C and l1_ratio \"\n",
            "/usr/local/lib/python3.7/dist-packages/sklearn/linear_model/_logistic.py:1505: UserWarning: Setting penalty='none' will ignore the C and l1_ratio parameters\n",
            "  \"Setting penalty='none' will ignore the C and l1_ratio \"\n",
            "/usr/local/lib/python3.7/dist-packages/sklearn/linear_model/_logistic.py:1505: UserWarning: Setting penalty='none' will ignore the C and l1_ratio parameters\n",
            "  \"Setting penalty='none' will ignore the C and l1_ratio \"\n",
            "/usr/local/lib/python3.7/dist-packages/sklearn/linear_model/_logistic.py:1505: UserWarning: Setting penalty='none' will ignore the C and l1_ratio parameters\n",
            "  \"Setting penalty='none' will ignore the C and l1_ratio \"\n",
            "/usr/local/lib/python3.7/dist-packages/sklearn/linear_model/_logistic.py:1505: UserWarning: Setting penalty='none' will ignore the C and l1_ratio parameters\n",
            "  \"Setting penalty='none' will ignore the C and l1_ratio \"\n",
            "/usr/local/lib/python3.7/dist-packages/sklearn/linear_model/_logistic.py:1505: UserWarning: Setting penalty='none' will ignore the C and l1_ratio parameters\n",
            "  \"Setting penalty='none' will ignore the C and l1_ratio \"\n",
            "/usr/local/lib/python3.7/dist-packages/sklearn/linear_model/_logistic.py:1505: UserWarning: Setting penalty='none' will ignore the C and l1_ratio parameters\n",
            "  \"Setting penalty='none' will ignore the C and l1_ratio \"\n",
            "/usr/local/lib/python3.7/dist-packages/sklearn/linear_model/_logistic.py:1505: UserWarning: Setting penalty='none' will ignore the C and l1_ratio parameters\n",
            "  \"Setting penalty='none' will ignore the C and l1_ratio \"\n",
            "/usr/local/lib/python3.7/dist-packages/sklearn/linear_model/_logistic.py:1505: UserWarning: Setting penalty='none' will ignore the C and l1_ratio parameters\n",
            "  \"Setting penalty='none' will ignore the C and l1_ratio \"\n",
            "/usr/local/lib/python3.7/dist-packages/sklearn/linear_model/_logistic.py:1505: UserWarning: Setting penalty='none' will ignore the C and l1_ratio parameters\n",
            "  \"Setting penalty='none' will ignore the C and l1_ratio \"\n",
            "/usr/local/lib/python3.7/dist-packages/sklearn/linear_model/_logistic.py:1505: UserWarning: Setting penalty='none' will ignore the C and l1_ratio parameters\n",
            "  \"Setting penalty='none' will ignore the C and l1_ratio \"\n",
            "/usr/local/lib/python3.7/dist-packages/sklearn/linear_model/_logistic.py:1505: UserWarning: Setting penalty='none' will ignore the C and l1_ratio parameters\n",
            "  \"Setting penalty='none' will ignore the C and l1_ratio \"\n",
            "/usr/local/lib/python3.7/dist-packages/sklearn/linear_model/_logistic.py:1505: UserWarning: Setting penalty='none' will ignore the C and l1_ratio parameters\n",
            "  \"Setting penalty='none' will ignore the C and l1_ratio \"\n",
            "/usr/local/lib/python3.7/dist-packages/sklearn/linear_model/_logistic.py:1505: UserWarning: Setting penalty='none' will ignore the C and l1_ratio parameters\n",
            "  \"Setting penalty='none' will ignore the C and l1_ratio \"\n",
            "/usr/local/lib/python3.7/dist-packages/sklearn/linear_model/_logistic.py:1505: UserWarning: Setting penalty='none' will ignore the C and l1_ratio parameters\n",
            "  \"Setting penalty='none' will ignore the C and l1_ratio \"\n",
            "/usr/local/lib/python3.7/dist-packages/sklearn/linear_model/_logistic.py:1505: UserWarning: Setting penalty='none' will ignore the C and l1_ratio parameters\n",
            "  \"Setting penalty='none' will ignore the C and l1_ratio \"\n",
            "/usr/local/lib/python3.7/dist-packages/sklearn/linear_model/_logistic.py:1505: UserWarning: Setting penalty='none' will ignore the C and l1_ratio parameters\n",
            "  \"Setting penalty='none' will ignore the C and l1_ratio \"\n",
            "/usr/local/lib/python3.7/dist-packages/sklearn/linear_model/_logistic.py:1505: UserWarning: Setting penalty='none' will ignore the C and l1_ratio parameters\n",
            "  \"Setting penalty='none' will ignore the C and l1_ratio \"\n",
            "/usr/local/lib/python3.7/dist-packages/sklearn/linear_model/_logistic.py:1505: UserWarning: Setting penalty='none' will ignore the C and l1_ratio parameters\n",
            "  \"Setting penalty='none' will ignore the C and l1_ratio \"\n",
            "/usr/local/lib/python3.7/dist-packages/sklearn/linear_model/_logistic.py:1505: UserWarning: Setting penalty='none' will ignore the C and l1_ratio parameters\n",
            "  \"Setting penalty='none' will ignore the C and l1_ratio \"\n",
            "/usr/local/lib/python3.7/dist-packages/sklearn/linear_model/_logistic.py:1505: UserWarning: Setting penalty='none' will ignore the C and l1_ratio parameters\n",
            "  \"Setting penalty='none' will ignore the C and l1_ratio \"\n",
            "/usr/local/lib/python3.7/dist-packages/sklearn/linear_model/_logistic.py:1505: UserWarning: Setting penalty='none' will ignore the C and l1_ratio parameters\n",
            "  \"Setting penalty='none' will ignore the C and l1_ratio \"\n",
            "/usr/local/lib/python3.7/dist-packages/sklearn/linear_model/_logistic.py:1505: UserWarning: Setting penalty='none' will ignore the C and l1_ratio parameters\n",
            "  \"Setting penalty='none' will ignore the C and l1_ratio \"\n",
            "/usr/local/lib/python3.7/dist-packages/sklearn/linear_model/_logistic.py:1505: UserWarning: Setting penalty='none' will ignore the C and l1_ratio parameters\n",
            "  \"Setting penalty='none' will ignore the C and l1_ratio \"\n",
            "/usr/local/lib/python3.7/dist-packages/sklearn/linear_model/_logistic.py:1505: UserWarning: Setting penalty='none' will ignore the C and l1_ratio parameters\n",
            "  \"Setting penalty='none' will ignore the C and l1_ratio \"\n",
            "/usr/local/lib/python3.7/dist-packages/sklearn/linear_model/_logistic.py:1505: UserWarning: Setting penalty='none' will ignore the C and l1_ratio parameters\n",
            "  \"Setting penalty='none' will ignore the C and l1_ratio \"\n",
            "/usr/local/lib/python3.7/dist-packages/sklearn/linear_model/_logistic.py:1505: UserWarning: Setting penalty='none' will ignore the C and l1_ratio parameters\n",
            "  \"Setting penalty='none' will ignore the C and l1_ratio \"\n",
            "/usr/local/lib/python3.7/dist-packages/sklearn/linear_model/_logistic.py:1505: UserWarning: Setting penalty='none' will ignore the C and l1_ratio parameters\n",
            "  \"Setting penalty='none' will ignore the C and l1_ratio \"\n",
            "/usr/local/lib/python3.7/dist-packages/sklearn/linear_model/_logistic.py:1505: UserWarning: Setting penalty='none' will ignore the C and l1_ratio parameters\n",
            "  \"Setting penalty='none' will ignore the C and l1_ratio \"\n",
            "/usr/local/lib/python3.7/dist-packages/sklearn/linear_model/_logistic.py:1505: UserWarning: Setting penalty='none' will ignore the C and l1_ratio parameters\n",
            "  \"Setting penalty='none' will ignore the C and l1_ratio \"\n",
            "/usr/local/lib/python3.7/dist-packages/sklearn/linear_model/_logistic.py:1505: UserWarning: Setting penalty='none' will ignore the C and l1_ratio parameters\n",
            "  \"Setting penalty='none' will ignore the C and l1_ratio \"\n",
            "/usr/local/lib/python3.7/dist-packages/sklearn/linear_model/_logistic.py:1505: UserWarning: Setting penalty='none' will ignore the C and l1_ratio parameters\n",
            "  \"Setting penalty='none' will ignore the C and l1_ratio \"\n",
            "/usr/local/lib/python3.7/dist-packages/sklearn/linear_model/_logistic.py:1505: UserWarning: Setting penalty='none' will ignore the C and l1_ratio parameters\n",
            "  \"Setting penalty='none' will ignore the C and l1_ratio \"\n",
            "/usr/local/lib/python3.7/dist-packages/sklearn/linear_model/_logistic.py:1505: UserWarning: Setting penalty='none' will ignore the C and l1_ratio parameters\n",
            "  \"Setting penalty='none' will ignore the C and l1_ratio \"\n",
            "/usr/local/lib/python3.7/dist-packages/sklearn/linear_model/_logistic.py:1505: UserWarning: Setting penalty='none' will ignore the C and l1_ratio parameters\n",
            "  \"Setting penalty='none' will ignore the C and l1_ratio \"\n",
            "/usr/local/lib/python3.7/dist-packages/sklearn/linear_model/_logistic.py:1505: UserWarning: Setting penalty='none' will ignore the C and l1_ratio parameters\n",
            "  \"Setting penalty='none' will ignore the C and l1_ratio \"\n",
            "/usr/local/lib/python3.7/dist-packages/sklearn/linear_model/_logistic.py:1505: UserWarning: Setting penalty='none' will ignore the C and l1_ratio parameters\n",
            "  \"Setting penalty='none' will ignore the C and l1_ratio \"\n",
            "/usr/local/lib/python3.7/dist-packages/sklearn/linear_model/_logistic.py:1505: UserWarning: Setting penalty='none' will ignore the C and l1_ratio parameters\n",
            "  \"Setting penalty='none' will ignore the C and l1_ratio \"\n"
          ],
          "name": "stderr"
        },
        {
          "output_type": "stream",
          "text": [
            "0.790 (+/-0.028) for {'C': 0.001, 'max_iter': 1000, 'penalty': 'none'}\n",
            "0.351 (+/-0.011) for {'C': 0.001, 'max_iter': 1000, 'penalty': 'l2'}\n",
            "0.790 (+/-0.028) for {'C': 0.001, 'max_iter': 5000, 'penalty': 'none'}\n",
            "0.351 (+/-0.011) for {'C': 0.001, 'max_iter': 5000, 'penalty': 'l2'}\n",
            "0.790 (+/-0.028) for {'C': 0.001, 'max_iter': 10000, 'penalty': 'none'}\n",
            "0.351 (+/-0.011) for {'C': 0.001, 'max_iter': 10000, 'penalty': 'l2'}\n",
            "0.790 (+/-0.028) for {'C': 0.001, 'max_iter': 30000, 'penalty': 'none'}\n",
            "0.351 (+/-0.011) for {'C': 0.001, 'max_iter': 30000, 'penalty': 'l2'}\n",
            "0.790 (+/-0.028) for {'C': 0.01, 'max_iter': 1000, 'penalty': 'none'}\n",
            "0.687 (+/-0.029) for {'C': 0.01, 'max_iter': 1000, 'penalty': 'l2'}\n",
            "0.790 (+/-0.028) for {'C': 0.01, 'max_iter': 5000, 'penalty': 'none'}\n",
            "0.687 (+/-0.029) for {'C': 0.01, 'max_iter': 5000, 'penalty': 'l2'}\n",
            "0.790 (+/-0.028) for {'C': 0.01, 'max_iter': 10000, 'penalty': 'none'}\n",
            "0.687 (+/-0.029) for {'C': 0.01, 'max_iter': 10000, 'penalty': 'l2'}\n",
            "0.790 (+/-0.028) for {'C': 0.01, 'max_iter': 30000, 'penalty': 'none'}\n",
            "0.687 (+/-0.029) for {'C': 0.01, 'max_iter': 30000, 'penalty': 'l2'}\n",
            "0.790 (+/-0.028) for {'C': 0.1, 'max_iter': 1000, 'penalty': 'none'}\n",
            "0.799 (+/-0.056) for {'C': 0.1, 'max_iter': 1000, 'penalty': 'l2'}\n",
            "0.790 (+/-0.028) for {'C': 0.1, 'max_iter': 5000, 'penalty': 'none'}\n",
            "0.799 (+/-0.056) for {'C': 0.1, 'max_iter': 5000, 'penalty': 'l2'}\n",
            "0.790 (+/-0.028) for {'C': 0.1, 'max_iter': 10000, 'penalty': 'none'}\n",
            "0.799 (+/-0.056) for {'C': 0.1, 'max_iter': 10000, 'penalty': 'l2'}\n",
            "0.790 (+/-0.028) for {'C': 0.1, 'max_iter': 30000, 'penalty': 'none'}\n",
            "0.799 (+/-0.056) for {'C': 0.1, 'max_iter': 30000, 'penalty': 'l2'}\n",
            "0.790 (+/-0.028) for {'C': 1, 'max_iter': 1000, 'penalty': 'none'}\n",
            "0.810 (+/-0.045) for {'C': 1, 'max_iter': 1000, 'penalty': 'l2'}\n",
            "0.790 (+/-0.028) for {'C': 1, 'max_iter': 5000, 'penalty': 'none'}\n",
            "0.810 (+/-0.045) for {'C': 1, 'max_iter': 5000, 'penalty': 'l2'}\n",
            "0.790 (+/-0.028) for {'C': 1, 'max_iter': 10000, 'penalty': 'none'}\n",
            "0.810 (+/-0.045) for {'C': 1, 'max_iter': 10000, 'penalty': 'l2'}\n",
            "0.790 (+/-0.028) for {'C': 1, 'max_iter': 30000, 'penalty': 'none'}\n",
            "0.810 (+/-0.045) for {'C': 1, 'max_iter': 30000, 'penalty': 'l2'}\n",
            "0.790 (+/-0.028) for {'C': 10, 'max_iter': 1000, 'penalty': 'none'}\n",
            "0.800 (+/-0.035) for {'C': 10, 'max_iter': 1000, 'penalty': 'l2'}\n",
            "0.790 (+/-0.028) for {'C': 10, 'max_iter': 5000, 'penalty': 'none'}\n",
            "0.800 (+/-0.035) for {'C': 10, 'max_iter': 5000, 'penalty': 'l2'}\n",
            "0.790 (+/-0.028) for {'C': 10, 'max_iter': 10000, 'penalty': 'none'}\n",
            "0.800 (+/-0.035) for {'C': 10, 'max_iter': 10000, 'penalty': 'l2'}\n",
            "0.790 (+/-0.028) for {'C': 10, 'max_iter': 30000, 'penalty': 'none'}\n",
            "0.800 (+/-0.035) for {'C': 10, 'max_iter': 30000, 'penalty': 'l2'}\n",
            "0.790 (+/-0.028) for {'C': 100, 'max_iter': 1000, 'penalty': 'none'}\n",
            "0.789 (+/-0.026) for {'C': 100, 'max_iter': 1000, 'penalty': 'l2'}\n",
            "0.790 (+/-0.028) for {'C': 100, 'max_iter': 5000, 'penalty': 'none'}\n",
            "0.789 (+/-0.026) for {'C': 100, 'max_iter': 5000, 'penalty': 'l2'}\n",
            "0.790 (+/-0.028) for {'C': 100, 'max_iter': 10000, 'penalty': 'none'}\n",
            "0.789 (+/-0.026) for {'C': 100, 'max_iter': 10000, 'penalty': 'l2'}\n",
            "0.790 (+/-0.028) for {'C': 100, 'max_iter': 30000, 'penalty': 'none'}\n",
            "0.789 (+/-0.026) for {'C': 100, 'max_iter': 30000, 'penalty': 'l2'}\n",
            "0.790 (+/-0.028) for {'C': 1000, 'max_iter': 1000, 'penalty': 'none'}\n",
            "0.781 (+/-0.030) for {'C': 1000, 'max_iter': 1000, 'penalty': 'l2'}\n",
            "0.790 (+/-0.028) for {'C': 1000, 'max_iter': 5000, 'penalty': 'none'}\n",
            "0.781 (+/-0.030) for {'C': 1000, 'max_iter': 5000, 'penalty': 'l2'}\n",
            "0.790 (+/-0.028) for {'C': 1000, 'max_iter': 10000, 'penalty': 'none'}\n",
            "0.781 (+/-0.030) for {'C': 1000, 'max_iter': 10000, 'penalty': 'l2'}\n",
            "0.790 (+/-0.028) for {'C': 1000, 'max_iter': 30000, 'penalty': 'none'}\n",
            "0.781 (+/-0.030) for {'C': 1000, 'max_iter': 30000, 'penalty': 'l2'}\n",
            "\n",
            "Best score: 0.8100277563796877 with params: {'C': 1, 'max_iter': 1000, 'penalty': 'l2'}\n",
            "CPU times: user 2min 22s, sys: 2min 6s, total: 4min 28s\n",
            "Wall time: 2min 16s\n"
          ],
          "name": "stdout"
        }
      ]
    }
  ]
}