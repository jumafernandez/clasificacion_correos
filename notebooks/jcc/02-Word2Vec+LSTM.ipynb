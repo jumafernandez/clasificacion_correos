{
  "nbformat": 4,
  "nbformat_minor": 0,
  "metadata": {
    "kernelspec": {
      "display_name": "Python 3",
      "language": "python",
      "name": "python3"
    },
    "language_info": {
      "codemirror_mode": {
        "name": "ipython",
        "version": 3
      },
      "file_extension": ".py",
      "mimetype": "text/x-python",
      "name": "python",
      "nbconvert_exporter": "python",
      "pygments_lexer": "ipython3",
      "version": "3.7.5"
    },
    "colab": {
      "name": "02-Word2Vec+LSTM.ipynb",
      "provenance": [],
      "toc_visible": true,
      "include_colab_link": true
    }
  },
  "cells": [
    {
      "cell_type": "markdown",
      "metadata": {
        "id": "view-in-github",
        "colab_type": "text"
      },
      "source": [
        "<a href=\"https://colab.research.google.com/github/jumafernandez/clasificacion_correos/blob/main/notebooks/jcc/02-Word2Vec%2BLSTM.ipynb\" target=\"_parent\"><img src=\"https://colab.research.google.com/assets/colab-badge.svg\" alt=\"Open In Colab\"/></a>"
      ]
    },
    {
      "cell_type": "markdown",
      "metadata": {
        "id": "OPlN-I2S8h5a"
      },
      "source": [
        "# LSTM+Word2Vec\n",
        "\n",
        "En esta notebook, se entrena y prueba la clasificación de oraciones usando LSTM y Word2Vec pre-entrenado.\n",
        "\n",
        "El principal beneficio de la incrustación de palabras es que incluso las palabras que no se ven durante el entrenamiento se pueden predecir bien ya que la incrustación de palabras está pre-entrenada con un conjunto de datos más grande que los del dataset actual.\n"
      ]
    },
    {
      "cell_type": "markdown",
      "metadata": {
        "id": "lEytdZIxFEhM"
      },
      "source": [
        "## Carga de librerías, modelo word2vec pre-entrenado y funciones útiles\r\n",
        "\r\n",
        "### Carga de librerías a utilizar para el entrenamiento del modelo"
      ]
    },
    {
      "cell_type": "code",
      "metadata": {
        "id": "BJmDIfYu8h5g",
        "colab": {
          "base_uri": "https://localhost:8080/"
        },
        "outputId": "35ea9791-5fac-4504-8617-777dd0a7a448"
      },
      "source": [
        "import tensorflow as tf\n",
        "from tensorflow.keras.layers import Dense, LSTM\n",
        "from tensorflow.keras.models import Model\n",
        "from tensorflow.keras.models import Sequential\n",
        "\n",
        "import numpy as np\n",
        "import pandas as pd\n",
        "import sys\n",
        "\n",
        "# Se instala gensim que es el que tiene el modelo Word2Vec\n",
        "!pip install gensim\n",
        "import gensim"
      ],
      "execution_count": 1,
      "outputs": [
        {
          "output_type": "stream",
          "text": [
            "Requirement already satisfied: gensim in /usr/local/lib/python3.7/dist-packages (3.6.0)\n",
            "Requirement already satisfied: smart-open>=1.2.1 in /usr/local/lib/python3.7/dist-packages (from gensim) (4.2.0)\n",
            "Requirement already satisfied: scipy>=0.18.1 in /usr/local/lib/python3.7/dist-packages (from gensim) (1.4.1)\n",
            "Requirement already satisfied: numpy>=1.11.3 in /usr/local/lib/python3.7/dist-packages (from gensim) (1.19.5)\n",
            "Requirement already satisfied: six>=1.5.0 in /usr/local/lib/python3.7/dist-packages (from gensim) (1.15.0)\n"
          ],
          "name": "stdout"
        }
      ]
    },
    {
      "cell_type": "markdown",
      "metadata": {
        "id": "4TCKkThoFhfQ"
      },
      "source": [
        "### Carga del modelo Word2Vec pre-entrenado de Universidad de Chile\r\n",
        "\r\n",
        "Referencias: https://github.com/dccuchile/spanish-word-embeddings"
      ]
    },
    {
      "cell_type": "code",
      "metadata": {
        "id": "betQcIyBSHzL"
      },
      "source": [
        "import os.path\r\n",
        "from os import path\r\n",
        "\r\n",
        "if not(path.exists(\"SBW-vectors-300-min5.bin.gz\")):\r\n",
        "  !wget http://cs.famaf.unc.edu.ar/~ccardellino/SBWCE/SBW-vectors-300-min5.bin.gz\r\n",
        "\r\n",
        "# Defino el largo del vector de embedding, en el caso que vamos a usar es 300\r\n",
        "VECTOR_EMBEDDINGS = 300\r\n",
        "\r\n",
        "from gensim.models import Word2Vec\r\n",
        "\r\n",
        "filename=\"SBW-vectors-300-min5.bin.gz\"\r\n",
        "embeddings = gensim.models.KeyedVectors.load_word2vec_format(filename, binary=True)\r\n",
        "embeddings.init_sims(replace=True)"
      ],
      "execution_count": 2,
      "outputs": []
    },
    {
      "cell_type": "markdown",
      "metadata": {
        "id": "1LiWpDyvI9L7"
      },
      "source": [
        "### Se cargan funciones que se utilizan para el pre-procesamiento de las secuencias"
      ]
    },
    {
      "cell_type": "code",
      "metadata": {
        "id": "Wa85mDxHFQIw"
      },
      "source": [
        "def get_max_length(text):\r\n",
        "    \"\"\"\r\n",
        "    get max token counts from train data, \r\n",
        "    so we use this number as fixed length input to RNN cell\r\n",
        "    \"\"\"\r\n",
        "    max_length = 0\r\n",
        "    for row in text:\r\n",
        "        if len(row.split(\" \")) > max_length:\r\n",
        "            max_length = len(row.split(\" \"))\r\n",
        "    return max_length\r\n",
        "\r\n",
        "def embed(texts): \r\n",
        "  \"\"\"\r\n",
        "  devuelve un tensor de tensores con los embedding de las palabras\r\n",
        "  para usar en la red LSTM\r\n",
        "  \"\"\"\r\n",
        "  # Inicializo el tensor principal con un array de (1, 250) de ceros\r\n",
        "  tensor_principal = tf.convert_to_tensor(np.zeros((1, VECTOR_EMBEDDINGS)), dtype=tf.float32)\r\n",
        "  iteration = 0\r\n",
        "  for word in texts:  \r\n",
        "    try:\r\n",
        "      e = tf.convert_to_tensor(np.reshape(embeddings.get_vector(word), (1, VECTOR_EMBEDDINGS)), dtype=tf.float32)\r\n",
        "    except:\r\n",
        "      e = tf.convert_to_tensor(np.zeros((1, VECTOR_EMBEDDINGS)), dtype=tf.float32)\r\n",
        "    if iteration==0:\r\n",
        "      tensor_principal = e\r\n",
        "    else:\r\n",
        "      tensor_principal = tf.concat([tensor_principal, e], 0)\r\n",
        "    iteration = iteration+1\r\n",
        "    \r\n",
        "  return tensor_principal\r\n",
        "\r\n",
        "\r\n",
        "def get_word2vec_enc(texts):\r\n",
        "    \"\"\"\r\n",
        "    recibe todos los textos y devuelve una array numpy de tensores de correos\r\n",
        "    cada tensor tiene tensores con el embedding de cada palabras\r\n",
        "    \"\"\"\r\n",
        "    encoded_texts = []\r\n",
        "    for text in texts:\r\n",
        "        tokens = text.split(\" \")\r\n",
        "        word2vec_embedding = embed(tokens)\r\n",
        "        encoded_texts.append(word2vec_embedding)\r\n",
        "    return encoded_texts\r\n",
        "        \r\n",
        "def get_padded_encoded_text(encoded_text, max_length):\r\n",
        "    \"\"\"\r\n",
        "    para frases cortas se rellena con ceros el array a efectos de contar con la\r\n",
        "    misma longitud\r\n",
        "    \"\"\"\r\n",
        "    padded_text_encoding = []\r\n",
        "    for enc_text in encoded_text:\r\n",
        "\r\n",
        "        zero_padding_cnt = max_length - enc_text.shape[0]\r\n",
        "        pad = np.zeros((1, VECTOR_EMBEDDINGS))\r\n",
        "        for i in range(zero_padding_cnt):\r\n",
        "            enc_text = np.concatenate((pad, enc_text), axis=0)\r\n",
        "        padded_text_encoding.append(enc_text)\r\n",
        "    return padded_text_encoding\r\n",
        "\r\n",
        "def category_encode(category):\r\n",
        "    \"\"\"\r\n",
        "    Se encodea la clase en variables dummies\r\n",
        "    \"\"\"\r\n",
        "    return pd.get_dummies(category)\r\n",
        "\r\n",
        "\r\n",
        "def preprocess(x, y, max_length):\r\n",
        "    \"\"\"\r\n",
        "    se encodean x e y llamando a las funciones get_word2_vec_enc, \r\n",
        "    get_padded_encoded_text y category_encode\r\n",
        "    \"\"\"\r\n",
        "    # encode words into word2vec\r\n",
        "    text = x.tolist()\r\n",
        "    \r\n",
        "    encoded_text = get_word2vec_enc(text)\r\n",
        "    padded_encoded_text = get_padded_encoded_text(encoded_text, max_length)\r\n",
        "    \r\n",
        "    # encoded class\r\n",
        "    categorys = y.tolist()\r\n",
        "    encoded_category = category_encode(categorys)\r\n",
        "    X = np.array(padded_encoded_text)\r\n",
        "    Y = np.array(encoded_category)\r\n",
        "    return X, Y "
      ],
      "execution_count": 3,
      "outputs": []
    },
    {
      "cell_type": "markdown",
      "metadata": {
        "id": "Cs_qgHr0FRBm"
      },
      "source": [
        "## Carga del dataset y balanceo de clases"
      ]
    },
    {
      "cell_type": "code",
      "metadata": {
        "id": "mamfYGa5CGBD"
      },
      "source": [
        "# Cargamos el archivo con las consultas que está en Github\r\n",
        "from os import path\r\n",
        "\r\n",
        "# En caso que no esté el archivo en Colab lo traigo\r\n",
        "if not(path.exists('03-Correos_variables_estaticas.csv')):\r\n",
        "  !wget https://raw.githubusercontent.com/jumafernandez/clasificacion_correos/main/data/03-Correos_variables_estaticas.csv\r\n",
        "\r\n",
        "# Leemos el archivo en un dataframe\r\n",
        "import pandas as pd\r\n",
        "\r\n",
        "# Cargamos los datos\r\n",
        "df = pd.read_csv('03-Correos_variables_estaticas.csv', delimiter=\"|\")\r\n",
        "\r\n",
        "# Seleccionamos solo la consulta y la clase\r\n",
        "x_df = df[\"Consulta\"]\r\n",
        "y_df = df[\"Clase\"]"
      ],
      "execution_count": 4,
      "outputs": []
    },
    {
      "cell_type": "code",
      "metadata": {
        "id": "JhbZo4YtCRzW",
        "colab": {
          "base_uri": "https://localhost:8080/"
        },
        "outputId": "e16ae882-115a-4100-bd3c-daa4e4b2adca"
      },
      "source": [
        "# Definición de la cantidad de clases (el resto se agrupa en OTRAS CONSULTAS)\r\n",
        "CANTIDAD_CLASES = 4\r\n",
        "\r\n",
        "# Transformamos todas las Clases minoritarias (Puedo ir variando la cantidad de clases que derivo a la Clase \"Otras Consultas\")\r\n",
        "clases = y_df.value_counts()\r\n",
        "clases_minoritarias = clases.iloc[CANTIDAD_CLASES-1:].keys().to_list()\r\n",
        "y_df.loc[y_df.isin(clases_minoritarias)] = \"Otras Consultas\"\r\n",
        "\r\n",
        "# Se numeriza la clase\r\n",
        "from sklearn import preprocessing\r\n",
        "le = preprocessing.LabelEncoder()\r\n",
        "\r\n",
        "# Numerizo la clase\r\n",
        "y=le.fit_transform(y_df)\r\n",
        "\r\n",
        "# Me guardo las etiquetas de las clases (numerizadas)\r\n",
        "class_list=le.classes_"
      ],
      "execution_count": 5,
      "outputs": [
        {
          "output_type": "stream",
          "text": [
            "/usr/local/lib/python3.7/dist-packages/pandas/core/indexing.py:670: SettingWithCopyWarning: \n",
            "A value is trying to be set on a copy of a slice from a DataFrame\n",
            "\n",
            "See the caveats in the documentation: https://pandas.pydata.org/pandas-docs/stable/user_guide/indexing.html#returning-a-view-versus-a-copy\n",
            "  iloc._setitem_with_indexer(indexer, value)\n"
          ],
          "name": "stderr"
        }
      ]
    },
    {
      "cell_type": "markdown",
      "metadata": {
        "id": "APRnQBXZ8h5h"
      },
      "source": [
        "## Preprocesamiento (codificación del texto a vectores numéricos)"
      ]
    },
    {
      "cell_type": "code",
      "metadata": {
        "id": "ty8fWijE8h5h"
      },
      "source": [
        "# Paso en limpio x e y\n",
        "x = x_df\n",
        "y = y\n",
        "\n",
        "# max_length is used for max sequence of input\n",
        "max_length = get_max_length(x)\n",
        "\n",
        "x_processed, y_processed = preprocess(x, y, max_length)"
      ],
      "execution_count": 6,
      "outputs": []
    },
    {
      "cell_type": "markdown",
      "metadata": {
        "id": "oT1B_JENFXyV"
      },
      "source": [
        "## Separación en train/test"
      ]
    },
    {
      "cell_type": "code",
      "metadata": {
        "id": "Am-d4Yf_DMFF"
      },
      "source": [
        "# Separo datos de entrenamiento y testing\r\n",
        "from sklearn.model_selection import train_test_split\r\n",
        "\r\n",
        "# Separo en 80-20 entrenamiento/validación y testeo\r\n",
        "x_train, x_test, y_train, y_test = train_test_split(x_processed, y_processed, random_state=0, test_size=0.2)"
      ],
      "execution_count": 7,
      "outputs": []
    },
    {
      "cell_type": "code",
      "metadata": {
        "colab": {
          "base_uri": "https://localhost:8080/"
        },
        "id": "Sk3E1vFGYz3y",
        "outputId": "44a9843a-7e67-49bb-9ed3-49bb7bbfb3cf"
      },
      "source": [
        "y_train"
      ],
      "execution_count": 8,
      "outputs": [
        {
          "output_type": "execute_result",
          "data": {
            "text/plain": [
              "array([[1, 0, 0, 0],\n",
              "       [0, 1, 0, 0],\n",
              "       [0, 0, 1, 0],\n",
              "       ...,\n",
              "       [0, 0, 1, 0],\n",
              "       [0, 1, 0, 0],\n",
              "       [1, 0, 0, 0]], dtype=uint8)"
            ]
          },
          "metadata": {
            "tags": []
          },
          "execution_count": 8
        }
      ]
    },
    {
      "cell_type": "markdown",
      "metadata": {
        "id": "x3S6lvYe8h5i"
      },
      "source": [
        "## Construcción del Modelo"
      ]
    },
    {
      "cell_type": "code",
      "metadata": {
        "id": "ETidgFM48h5i"
      },
      "source": [
        "# LSTM model\n",
        "model = Sequential()\n",
        "model.add(LSTM(32))\n",
        "model.add(Dense(CANTIDAD_CLASES, activation='softmax'))\n",
        "\n",
        "model.compile(loss='categorical_crossentropy',\n",
        "              optimizer='adam',\n",
        "              metrics=['accuracy'])"
      ],
      "execution_count": 9,
      "outputs": []
    },
    {
      "cell_type": "markdown",
      "metadata": {
        "id": "2IcqosK98h5j"
      },
      "source": [
        "### Entrenamiento del modelo"
      ]
    },
    {
      "cell_type": "code",
      "metadata": {
        "id": "2nRmzS8w8h5j",
        "colab": {
          "base_uri": "https://localhost:8080/"
        },
        "outputId": "e9051e70-3bfa-4dbe-bd18-14637c498ce1"
      },
      "source": [
        "print('Train...')\n",
        "model.fit(x_train, y_train, epochs=20)"
      ],
      "execution_count": 10,
      "outputs": [
        {
          "output_type": "stream",
          "text": [
            "Train...\n",
            "Epoch 1/20\n",
            "25/25 [==============================] - 3s 37ms/step - loss: 1.3665 - accuracy: 0.3426\n",
            "Epoch 2/20\n",
            "25/25 [==============================] - 1s 38ms/step - loss: 1.3184 - accuracy: 0.3976\n",
            "Epoch 3/20\n",
            "25/25 [==============================] - 1s 37ms/step - loss: 1.2327 - accuracy: 0.4795\n",
            "Epoch 4/20\n",
            "25/25 [==============================] - 1s 37ms/step - loss: 1.1643 - accuracy: 0.5409\n",
            "Epoch 5/20\n",
            "25/25 [==============================] - 1s 38ms/step - loss: 1.0347 - accuracy: 0.5777\n",
            "Epoch 6/20\n",
            "25/25 [==============================] - 1s 37ms/step - loss: 0.9779 - accuracy: 0.6078\n",
            "Epoch 7/20\n",
            "25/25 [==============================] - 1s 38ms/step - loss: 0.8492 - accuracy: 0.6693\n",
            "Epoch 8/20\n",
            "25/25 [==============================] - 1s 38ms/step - loss: 0.8651 - accuracy: 0.6475\n",
            "Epoch 9/20\n",
            "25/25 [==============================] - 1s 38ms/step - loss: 0.8373 - accuracy: 0.6902\n",
            "Epoch 10/20\n",
            "25/25 [==============================] - 1s 37ms/step - loss: 0.7711 - accuracy: 0.7032\n",
            "Epoch 11/20\n",
            "25/25 [==============================] - 1s 36ms/step - loss: 0.7962 - accuracy: 0.6798\n",
            "Epoch 12/20\n",
            "25/25 [==============================] - 1s 38ms/step - loss: 0.7234 - accuracy: 0.7472\n",
            "Epoch 13/20\n",
            "25/25 [==============================] - 1s 37ms/step - loss: 0.7187 - accuracy: 0.7423\n",
            "Epoch 14/20\n",
            "25/25 [==============================] - 1s 37ms/step - loss: 0.6515 - accuracy: 0.7606\n",
            "Epoch 15/20\n",
            "25/25 [==============================] - 1s 37ms/step - loss: 0.8301 - accuracy: 0.6494\n",
            "Epoch 16/20\n",
            "25/25 [==============================] - 1s 37ms/step - loss: 0.7731 - accuracy: 0.7252\n",
            "Epoch 17/20\n",
            "25/25 [==============================] - 1s 37ms/step - loss: 0.7220 - accuracy: 0.7044\n",
            "Epoch 18/20\n",
            "25/25 [==============================] - 1s 37ms/step - loss: 0.6766 - accuracy: 0.7503\n",
            "Epoch 19/20\n",
            "25/25 [==============================] - 1s 37ms/step - loss: 0.6795 - accuracy: 0.7693\n",
            "Epoch 20/20\n",
            "25/25 [==============================] - 1s 37ms/step - loss: 0.5595 - accuracy: 0.8197\n"
          ],
          "name": "stdout"
        },
        {
          "output_type": "execute_result",
          "data": {
            "text/plain": [
              "<tensorflow.python.keras.callbacks.History at 0x7f4ba59aa1d0>"
            ]
          },
          "metadata": {
            "tags": []
          },
          "execution_count": 10
        }
      ]
    },
    {
      "cell_type": "code",
      "metadata": {
        "id": "_1z-AzYl8h5j",
        "colab": {
          "base_uri": "https://localhost:8080/"
        },
        "outputId": "5be33753-c438-469e-d850-004d6c318e3e"
      },
      "source": [
        "model.summary()"
      ],
      "execution_count": 11,
      "outputs": [
        {
          "output_type": "stream",
          "text": [
            "Model: \"sequential\"\n",
            "_________________________________________________________________\n",
            "Layer (type)                 Output Shape              Param #   \n",
            "=================================================================\n",
            "lstm (LSTM)                  (32, 32)                  42624     \n",
            "_________________________________________________________________\n",
            "dense (Dense)                (32, 4)                   132       \n",
            "=================================================================\n",
            "Total params: 42,756\n",
            "Trainable params: 42,756\n",
            "Non-trainable params: 0\n",
            "_________________________________________________________________\n"
          ],
          "name": "stdout"
        }
      ]
    },
    {
      "cell_type": "markdown",
      "metadata": {
        "id": "IpAesm--8h5k"
      },
      "source": [
        "### Testeo del Modelo"
      ]
    },
    {
      "cell_type": "code",
      "metadata": {
        "id": "gmNeuOIp8h5k",
        "colab": {
          "base_uri": "https://localhost:8080/"
        },
        "outputId": "7b4f3595-2c95-469d-c12c-115fda48857a"
      },
      "source": [
        "score, acc = model.evaluate(x_test, y_test, verbose=2)\n",
        "print('Test score:', score)\n",
        "print('Test accuracy:', acc)"
      ],
      "execution_count": 12,
      "outputs": [
        {
          "output_type": "stream",
          "text": [
            "7/7 - 1s - loss: 0.6799 - accuracy: 0.7650\n",
            "Test score: 0.679870069026947\n",
            "Test accuracy: 0.7649999856948853\n"
          ],
          "name": "stdout"
        }
      ]
    }
  ]
}