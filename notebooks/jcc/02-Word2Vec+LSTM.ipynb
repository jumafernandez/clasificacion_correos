{
  "nbformat": 4,
  "nbformat_minor": 0,
  "metadata": {
    "kernelspec": {
      "display_name": "Python 3",
      "language": "python",
      "name": "python3"
    },
    "language_info": {
      "codemirror_mode": {
        "name": "ipython",
        "version": 3
      },
      "file_extension": ".py",
      "mimetype": "text/x-python",
      "name": "python",
      "nbconvert_exporter": "python",
      "pygments_lexer": "ipython3",
      "version": "3.7.5"
    },
    "colab": {
      "name": "02-Word2Vec+LSTM.ipynb",
      "provenance": [],
      "toc_visible": true,
      "include_colab_link": true
    }
  },
  "cells": [
    {
      "cell_type": "markdown",
      "metadata": {
        "id": "view-in-github",
        "colab_type": "text"
      },
      "source": [
        "<a href=\"https://colab.research.google.com/github/jumafernandez/clasificacion_correos/blob/main/notebooks/jcc/02-Word2Vec%2BLSTM.ipynb\" target=\"_parent\"><img src=\"https://colab.research.google.com/assets/colab-badge.svg\" alt=\"Open In Colab\"/></a>"
      ]
    },
    {
      "cell_type": "markdown",
      "metadata": {
        "id": "OPlN-I2S8h5a"
      },
      "source": [
        "# LSTM+Word2Vec\n",
        "\n",
        "En esta notebook, se entrena y prueba la clasificación de oraciones usando LSTM y Word2Vec pre-entrenado.\n",
        "\n",
        "El principal beneficio de la incrustación de palabras es que incluso las palabras que no se ven durante el entrenamiento se pueden predecir bien ya que la incrustación de palabras está pre-entrenada con un conjunto de datos más grande que los del dataset actual.\n"
      ]
    },
    {
      "cell_type": "markdown",
      "metadata": {
        "id": "lEytdZIxFEhM"
      },
      "source": [
        "## Carga de librerías, modelo word2vec pre-entrenado y funciones útiles\r\n",
        "\r\n",
        "### Carga de librerías a utilizar para el entrenamiento del modelo"
      ]
    },
    {
      "cell_type": "code",
      "metadata": {
        "id": "BJmDIfYu8h5g",
        "colab": {
          "base_uri": "https://localhost:8080/"
        },
        "outputId": "83eab4d7-c965-4bd1-8b9d-b6b7657ff8c9"
      },
      "source": [
        "import tensorflow as tf\n",
        "from tensorflow.keras.layers import Dense, LSTM\n",
        "from tensorflow.keras.models import Model\n",
        "from tensorflow.keras.models import Sequential\n",
        "\n",
        "import numpy as np\n",
        "import pandas as pd\n",
        "import sys\n",
        "\n",
        "# Se instala gensim que es el que tiene el modelo Word2Vec\n",
        "!pip install gensim\n",
        "import gensim"
      ],
      "execution_count": 20,
      "outputs": [
        {
          "output_type": "stream",
          "text": [
            "Requirement already satisfied: gensim in /usr/local/lib/python3.7/dist-packages (3.6.0)\n",
            "Requirement already satisfied: numpy>=1.11.3 in /usr/local/lib/python3.7/dist-packages (from gensim) (1.19.5)\n",
            "Requirement already satisfied: smart-open>=1.2.1 in /usr/local/lib/python3.7/dist-packages (from gensim) (4.2.0)\n",
            "Requirement already satisfied: six>=1.5.0 in /usr/local/lib/python3.7/dist-packages (from gensim) (1.15.0)\n",
            "Requirement already satisfied: scipy>=0.18.1 in /usr/local/lib/python3.7/dist-packages (from gensim) (1.4.1)\n"
          ],
          "name": "stdout"
        }
      ]
    },
    {
      "cell_type": "markdown",
      "metadata": {
        "id": "4TCKkThoFhfQ"
      },
      "source": [
        "### Carga del modelo Word2Vec pre-entrenado de Universidad de Chile\r\n",
        "\r\n",
        "Referencias: https://github.com/dccuchile/spanish-word-embeddings"
      ]
    },
    {
      "cell_type": "code",
      "metadata": {
        "id": "betQcIyBSHzL"
      },
      "source": [
        "import os.path\r\n",
        "from os import path\r\n",
        "\r\n",
        "if not(path.exists(\"SBW-vectors-300-min5.bin.gz\")):\r\n",
        "  !wget http://cs.famaf.unc.edu.ar/~ccardellino/SBWCE/SBW-vectors-300-min5.bin.gz\r\n",
        "\r\n",
        "# Defino el largo del vector de embedding, en el caso que vamos a usar es 300\r\n",
        "VECTOR_EMBEDDINGS = 300\r\n",
        "\r\n",
        "from gensim.models import Word2Vec\r\n",
        "\r\n",
        "filename=\"SBW-vectors-300-min5.bin.gz\"\r\n",
        "embeddings = gensim.models.KeyedVectors.load_word2vec_format(filename, binary=True)\r\n",
        "embeddings.init_sims(replace=True)"
      ],
      "execution_count": 21,
      "outputs": []
    },
    {
      "cell_type": "markdown",
      "metadata": {
        "id": "1LiWpDyvI9L7"
      },
      "source": [
        "### Se cargan funciones que se utilizan para el pre-procesamiento de las secuencias"
      ]
    },
    {
      "cell_type": "code",
      "metadata": {
        "id": "Wa85mDxHFQIw"
      },
      "source": [
        "def get_max_length(text):\r\n",
        "    \"\"\"\r\n",
        "    get max token counts from train data, \r\n",
        "    so we use this number as fixed length input to RNN cell\r\n",
        "    \"\"\"\r\n",
        "    max_length = 0\r\n",
        "    for row in text:\r\n",
        "        if len(row.split(\" \")) > max_length:\r\n",
        "            max_length = len(row.split(\" \"))\r\n",
        "    return max_length\r\n",
        "\r\n",
        "def embed(texts): \r\n",
        "  # Inicializo el tensor principal con un array de (1, 250) de ceros\r\n",
        "  tensor_principal = tf.convert_to_tensor(np.zeros((1, VECTOR_EMBEDDINGS)), dtype=tf.float32)\r\n",
        "  iteration = 0\r\n",
        "  for word in texts:  \r\n",
        "    try:\r\n",
        "      e = tf.convert_to_tensor(np.reshape(embeddings.get_vector(word), (1, VECTOR_EMBEDDINGS)), dtype=tf.float32)\r\n",
        "    except:\r\n",
        "      e = tf.convert_to_tensor(np.zeros((1, VECTOR_EMBEDDINGS)), dtype=tf.float32)\r\n",
        "    if iteration==0:\r\n",
        "      tensor_principal = e\r\n",
        "    else:\r\n",
        "      tensor_principal = tf.concat([tensor_principal, e], 0)\r\n",
        "    iteration = iteration+1\r\n",
        "    \r\n",
        "  return tensor_principal\r\n",
        "\r\n",
        "\r\n",
        "def get_word2vec_enc(texts):\r\n",
        "    \"\"\"\r\n",
        "    get word2vec value for each word in sentence.\r\n",
        "    concatenate word in numpy array, so we can use it as RNN input\r\n",
        "    \"\"\"\r\n",
        "    encoded_texts = []\r\n",
        "    for text in texts:\r\n",
        "        tokens = text.split(\" \")\r\n",
        "        word2vec_embedding = embed(tokens)\r\n",
        "        encoded_texts.append(word2vec_embedding)\r\n",
        "    return encoded_texts\r\n",
        "        \r\n",
        "def get_padded_encoded_text(encoded_text, max_length):\r\n",
        "    \"\"\"\r\n",
        "    for short sentences, we prepend zero padding so all input to RNN has same length\r\n",
        "    \"\"\"\r\n",
        "    padded_text_encoding = []\r\n",
        "    for enc_text in encoded_text:\r\n",
        "\r\n",
        "        zero_padding_cnt = max_length - enc_text.shape[0]\r\n",
        "        pad = np.zeros((1, VECTOR_EMBEDDINGS))\r\n",
        "        for i in range(zero_padding_cnt):\r\n",
        "            enc_text = np.concatenate((pad, enc_text), axis=0)\r\n",
        "        padded_text_encoding.append(enc_text)\r\n",
        "    return padded_text_encoding\r\n",
        "\r\n",
        "def category_encode(category):\r\n",
        "    \"\"\"\r\n",
        "    Se encodea la clase en variables dummies\r\n",
        "    \"\"\"\r\n",
        "    return pd.get_dummies(category)\r\n",
        "\r\n",
        "\r\n",
        "def preprocess(x, y, max_length):\r\n",
        "    \"\"\"\r\n",
        "    encode text value to numeric value\r\n",
        "    \"\"\"\r\n",
        "    # encode words into word2vec\r\n",
        "    text = x.tolist()\r\n",
        "    \r\n",
        "    encoded_text = get_word2vec_enc(text)\r\n",
        "    padded_encoded_text = get_padded_encoded_text(encoded_text, max_length)\r\n",
        "    \r\n",
        "    # encoded class\r\n",
        "    categorys = y.tolist()\r\n",
        "    encoded_category = category_encode(categorys)\r\n",
        "    X = np.array(padded_encoded_text)\r\n",
        "    Y = np.array(encoded_category)\r\n",
        "    return X, Y "
      ],
      "execution_count": 22,
      "outputs": []
    },
    {
      "cell_type": "markdown",
      "metadata": {
        "id": "Cs_qgHr0FRBm"
      },
      "source": [
        "## Carga del dataset y balanceo de clases"
      ]
    },
    {
      "cell_type": "code",
      "metadata": {
        "id": "mamfYGa5CGBD"
      },
      "source": [
        "# Cargamos el archivo con las consultas que está en Github\r\n",
        "from os import path\r\n",
        "\r\n",
        "# En caso que no esté el archivo en Colab lo traigo\r\n",
        "if not(path.exists('03-Correos_variables_estaticas.csv')):\r\n",
        "  !wget https://raw.githubusercontent.com/jumafernandez/clasificacion_correos/main/data/03-Correos_variables_estaticas.csv\r\n",
        "\r\n",
        "# Leemos el archivo en un dataframe\r\n",
        "import pandas as pd\r\n",
        "\r\n",
        "# Cargamos los datos\r\n",
        "df = pd.read_csv('03-Correos_variables_estaticas.csv', delimiter=\"|\")\r\n",
        "\r\n",
        "# Seleccionamos solo la consulta y la clase\r\n",
        "x_df = df[\"Consulta\"]\r\n",
        "y_df = df[\"Clase\"]"
      ],
      "execution_count": 23,
      "outputs": []
    },
    {
      "cell_type": "code",
      "metadata": {
        "id": "JhbZo4YtCRzW",
        "colab": {
          "base_uri": "https://localhost:8080/"
        },
        "outputId": "54bab210-4ce2-4d16-974a-430bca77e138"
      },
      "source": [
        "# Definición de la cantidad de clases (el resto se agrupa en OTRAS CONSULTAS)\r\n",
        "CANTIDAD_CLASES = 4\r\n",
        "\r\n",
        "# Transformamos todas las Clases minoritarias (Puedo ir variando la cantidad de clases que derivo a la Clase \"Otras Consultas\")\r\n",
        "clases = y_df.value_counts()\r\n",
        "clases_minoritarias = clases.iloc[CANTIDAD_CLASES-1:].keys().to_list()\r\n",
        "y_df.loc[y_df.isin(clases_minoritarias)] = \"Otras Consultas\"\r\n",
        "\r\n",
        "# Se numeriza la clase\r\n",
        "from sklearn import preprocessing\r\n",
        "le = preprocessing.LabelEncoder()\r\n",
        "y=le.fit_transform(y_df)\r\n",
        "\r\n",
        "# Me guardo las etiquetas de las clases (numerizadas)\r\n",
        "class_list=le.classes_\r\n",
        "\r\n",
        "class_list"
      ],
      "execution_count": 24,
      "outputs": [
        {
          "output_type": "stream",
          "text": [
            "/usr/local/lib/python3.7/dist-packages/pandas/core/indexing.py:670: SettingWithCopyWarning: \n",
            "A value is trying to be set on a copy of a slice from a DataFrame\n",
            "\n",
            "See the caveats in the documentation: https://pandas.pydata.org/pandas-docs/stable/user_guide/indexing.html#returning-a-view-versus-a-copy\n",
            "  iloc._setitem_with_indexer(indexer, value)\n"
          ],
          "name": "stderr"
        },
        {
          "output_type": "execute_result",
          "data": {
            "text/plain": [
              "array(['Boleto Universitario', 'Ingreso a la Universidad',\n",
              "       'Otras Consultas', 'Requisitos de Ingreso'], dtype=object)"
            ]
          },
          "metadata": {
            "tags": []
          },
          "execution_count": 24
        }
      ]
    },
    {
      "cell_type": "markdown",
      "metadata": {
        "id": "oT1B_JENFXyV"
      },
      "source": [
        "## Separación en train/test"
      ]
    },
    {
      "cell_type": "code",
      "metadata": {
        "id": "Am-d4Yf_DMFF"
      },
      "source": [
        "x = x_df\r\n",
        "y = y\r\n",
        "\r\n",
        "# Separo datos de entrenamiento y testing\r\n",
        "from sklearn.model_selection import train_test_split\r\n",
        "\r\n",
        "# Separo en 80-20 entrenamiento/validación y testeo\r\n",
        "x_train, x_test, y_train, y_test = train_test_split(x, y, random_state=0, test_size=0.2)"
      ],
      "execution_count": 25,
      "outputs": []
    },
    {
      "cell_type": "markdown",
      "metadata": {
        "id": "APRnQBXZ8h5h"
      },
      "source": [
        "## Preprocesamiento (codificación del texto a vectores numéricos)"
      ]
    },
    {
      "cell_type": "code",
      "metadata": {
        "id": "ty8fWijE8h5h"
      },
      "source": [
        "# max_length is used for max sequence of input\n",
        "max_length = get_max_length(x_train)\n",
        "\n",
        "train_X, train_Y = preprocess(x_train, y_train, max_length)"
      ],
      "execution_count": 26,
      "outputs": []
    },
    {
      "cell_type": "markdown",
      "metadata": {
        "id": "x3S6lvYe8h5i"
      },
      "source": [
        "## Construcción del Modelo"
      ]
    },
    {
      "cell_type": "code",
      "metadata": {
        "id": "ETidgFM48h5i"
      },
      "source": [
        "# LSTM model\n",
        "model = Sequential()\n",
        "model.add(LSTM(32))\n",
        "model.add(Dense(CANTIDAD_CLASES, activation='softmax'))"
      ],
      "execution_count": 27,
      "outputs": []
    },
    {
      "cell_type": "code",
      "metadata": {
        "id": "C5b-FGyt8h5i"
      },
      "source": [
        "model.compile(loss='categorical_crossentropy',\n",
        "              optimizer='adam',\n",
        "              metrics=['accuracy'])"
      ],
      "execution_count": 28,
      "outputs": []
    },
    {
      "cell_type": "markdown",
      "metadata": {
        "id": "2IcqosK98h5j"
      },
      "source": [
        "### Entrenamiento del modelo"
      ]
    },
    {
      "cell_type": "code",
      "metadata": {
        "id": "2nRmzS8w8h5j",
        "colab": {
          "base_uri": "https://localhost:8080/"
        },
        "outputId": "133c269c-8ef2-4a6f-963a-6f11a495de8b"
      },
      "source": [
        "print('Train...')\n",
        "model.fit(train_X, train_Y,epochs=100)"
      ],
      "execution_count": 29,
      "outputs": [
        {
          "output_type": "stream",
          "text": [
            "Train...\n",
            "Epoch 1/100\n",
            "25/25 [==============================] - 3s 37ms/step - loss: 1.3619 - accuracy: 0.3593\n",
            "Epoch 2/100\n",
            "25/25 [==============================] - 1s 37ms/step - loss: 1.3301 - accuracy: 0.3660\n",
            "Epoch 3/100\n",
            "25/25 [==============================] - 1s 37ms/step - loss: 1.2654 - accuracy: 0.4433\n",
            "Epoch 4/100\n",
            "25/25 [==============================] - 1s 37ms/step - loss: 1.1364 - accuracy: 0.4974\n",
            "Epoch 5/100\n",
            "25/25 [==============================] - 1s 38ms/step - loss: 1.0186 - accuracy: 0.5780\n",
            "Epoch 6/100\n",
            "25/25 [==============================] - 1s 37ms/step - loss: 0.9404 - accuracy: 0.6002\n",
            "Epoch 7/100\n",
            "25/25 [==============================] - 1s 38ms/step - loss: 0.9040 - accuracy: 0.6367\n",
            "Epoch 8/100\n",
            "25/25 [==============================] - 1s 36ms/step - loss: 0.8959 - accuracy: 0.6674\n",
            "Epoch 9/100\n",
            "25/25 [==============================] - 1s 37ms/step - loss: 0.8225 - accuracy: 0.6998\n",
            "Epoch 10/100\n",
            "25/25 [==============================] - 1s 37ms/step - loss: 0.8162 - accuracy: 0.7114\n",
            "Epoch 11/100\n",
            "25/25 [==============================] - 1s 37ms/step - loss: 0.8310 - accuracy: 0.6773\n",
            "Epoch 12/100\n",
            "25/25 [==============================] - 1s 37ms/step - loss: 0.7036 - accuracy: 0.7614\n",
            "Epoch 13/100\n",
            "25/25 [==============================] - 1s 38ms/step - loss: 0.7027 - accuracy: 0.7617\n",
            "Epoch 14/100\n",
            "25/25 [==============================] - 1s 38ms/step - loss: 0.7096 - accuracy: 0.7490\n",
            "Epoch 15/100\n",
            "25/25 [==============================] - 1s 37ms/step - loss: 0.6247 - accuracy: 0.7719\n",
            "Epoch 16/100\n",
            "25/25 [==============================] - 1s 37ms/step - loss: 0.6143 - accuracy: 0.7594\n",
            "Epoch 17/100\n",
            "25/25 [==============================] - 1s 37ms/step - loss: 0.6241 - accuracy: 0.7712\n",
            "Epoch 18/100\n",
            "25/25 [==============================] - 1s 37ms/step - loss: 0.5869 - accuracy: 0.7954\n",
            "Epoch 19/100\n",
            "25/25 [==============================] - 1s 38ms/step - loss: 0.5445 - accuracy: 0.8093\n",
            "Epoch 20/100\n",
            "25/25 [==============================] - 1s 37ms/step - loss: 0.5738 - accuracy: 0.8117\n",
            "Epoch 21/100\n",
            "25/25 [==============================] - 1s 37ms/step - loss: 0.5015 - accuracy: 0.8126\n",
            "Epoch 22/100\n",
            "25/25 [==============================] - 1s 38ms/step - loss: 0.8324 - accuracy: 0.7280\n",
            "Epoch 23/100\n",
            "25/25 [==============================] - 1s 37ms/step - loss: 0.7864 - accuracy: 0.7211\n",
            "Epoch 24/100\n",
            "25/25 [==============================] - 1s 37ms/step - loss: 0.5917 - accuracy: 0.7834\n",
            "Epoch 25/100\n",
            "25/25 [==============================] - 1s 37ms/step - loss: 0.5366 - accuracy: 0.8153\n",
            "Epoch 26/100\n",
            "25/25 [==============================] - 1s 37ms/step - loss: 0.5322 - accuracy: 0.8110\n",
            "Epoch 27/100\n",
            "25/25 [==============================] - 1s 37ms/step - loss: 0.4744 - accuracy: 0.8433\n",
            "Epoch 28/100\n",
            "25/25 [==============================] - 1s 37ms/step - loss: 0.4643 - accuracy: 0.8355\n",
            "Epoch 29/100\n",
            "25/25 [==============================] - 1s 37ms/step - loss: 0.4465 - accuracy: 0.8399\n",
            "Epoch 30/100\n",
            "25/25 [==============================] - 1s 38ms/step - loss: 0.5029 - accuracy: 0.8177\n",
            "Epoch 31/100\n",
            "25/25 [==============================] - 1s 37ms/step - loss: 0.4878 - accuracy: 0.8284\n",
            "Epoch 32/100\n",
            "25/25 [==============================] - 1s 37ms/step - loss: 0.5221 - accuracy: 0.8200\n",
            "Epoch 33/100\n",
            "25/25 [==============================] - 1s 37ms/step - loss: 0.4950 - accuracy: 0.8216\n",
            "Epoch 34/100\n",
            "25/25 [==============================] - 1s 39ms/step - loss: 0.4963 - accuracy: 0.8132\n",
            "Epoch 35/100\n",
            "25/25 [==============================] - 1s 37ms/step - loss: 0.4394 - accuracy: 0.8279\n",
            "Epoch 36/100\n",
            "25/25 [==============================] - 1s 38ms/step - loss: 0.4271 - accuracy: 0.8499\n",
            "Epoch 37/100\n",
            "25/25 [==============================] - 1s 38ms/step - loss: 0.3826 - accuracy: 0.8719\n",
            "Epoch 38/100\n",
            "25/25 [==============================] - 1s 38ms/step - loss: 0.4504 - accuracy: 0.8302\n",
            "Epoch 39/100\n",
            "25/25 [==============================] - 1s 38ms/step - loss: 0.4541 - accuracy: 0.8273\n",
            "Epoch 40/100\n",
            "25/25 [==============================] - 1s 38ms/step - loss: 0.5023 - accuracy: 0.8193\n",
            "Epoch 41/100\n",
            "25/25 [==============================] - 1s 38ms/step - loss: 0.4680 - accuracy: 0.8222\n",
            "Epoch 42/100\n",
            "25/25 [==============================] - 1s 38ms/step - loss: 0.4093 - accuracy: 0.8600\n",
            "Epoch 43/100\n",
            "25/25 [==============================] - 1s 38ms/step - loss: 0.3801 - accuracy: 0.8661\n",
            "Epoch 44/100\n",
            "25/25 [==============================] - 1s 39ms/step - loss: 0.4167 - accuracy: 0.8431\n",
            "Epoch 45/100\n",
            "25/25 [==============================] - 1s 38ms/step - loss: 0.3697 - accuracy: 0.8582\n",
            "Epoch 46/100\n",
            "25/25 [==============================] - 1s 38ms/step - loss: 0.4196 - accuracy: 0.8512\n",
            "Epoch 47/100\n",
            "25/25 [==============================] - 1s 38ms/step - loss: 0.3558 - accuracy: 0.8737\n",
            "Epoch 48/100\n",
            "25/25 [==============================] - 1s 38ms/step - loss: 0.3544 - accuracy: 0.8617\n",
            "Epoch 49/100\n",
            "25/25 [==============================] - 1s 38ms/step - loss: 0.3474 - accuracy: 0.8739\n",
            "Epoch 50/100\n",
            "25/25 [==============================] - 1s 38ms/step - loss: 0.2915 - accuracy: 0.8981\n",
            "Epoch 51/100\n",
            "25/25 [==============================] - 1s 37ms/step - loss: 0.3121 - accuracy: 0.8922\n",
            "Epoch 52/100\n",
            "25/25 [==============================] - 1s 40ms/step - loss: 0.3113 - accuracy: 0.8862\n",
            "Epoch 53/100\n",
            "25/25 [==============================] - 1s 37ms/step - loss: 0.2838 - accuracy: 0.9018\n",
            "Epoch 54/100\n",
            "25/25 [==============================] - 1s 38ms/step - loss: 0.7499 - accuracy: 0.7699\n",
            "Epoch 55/100\n",
            "25/25 [==============================] - 1s 38ms/step - loss: 1.2445 - accuracy: 0.6236\n",
            "Epoch 56/100\n",
            "25/25 [==============================] - 1s 38ms/step - loss: 0.9540 - accuracy: 0.5895\n",
            "Epoch 57/100\n",
            "25/25 [==============================] - 1s 39ms/step - loss: 0.8005 - accuracy: 0.6660\n",
            "Epoch 58/100\n",
            "25/25 [==============================] - 1s 38ms/step - loss: 0.6507 - accuracy: 0.7682\n",
            "Epoch 59/100\n",
            "25/25 [==============================] - 1s 37ms/step - loss: 0.5589 - accuracy: 0.8078\n",
            "Epoch 60/100\n",
            "25/25 [==============================] - 1s 38ms/step - loss: 0.5859 - accuracy: 0.7780\n",
            "Epoch 61/100\n",
            "25/25 [==============================] - 1s 37ms/step - loss: 0.5141 - accuracy: 0.8107\n",
            "Epoch 62/100\n",
            "25/25 [==============================] - 1s 38ms/step - loss: 0.4885 - accuracy: 0.8236\n",
            "Epoch 63/100\n",
            "25/25 [==============================] - 1s 39ms/step - loss: 0.3740 - accuracy: 0.8818\n",
            "Epoch 64/100\n",
            "25/25 [==============================] - 1s 39ms/step - loss: 0.3399 - accuracy: 0.8875\n",
            "Epoch 65/100\n",
            "25/25 [==============================] - 1s 38ms/step - loss: 0.3396 - accuracy: 0.8884\n",
            "Epoch 66/100\n",
            "25/25 [==============================] - 1s 38ms/step - loss: 0.3580 - accuracy: 0.8801\n",
            "Epoch 67/100\n",
            "25/25 [==============================] - 1s 37ms/step - loss: 0.4549 - accuracy: 0.8167\n",
            "Epoch 68/100\n",
            "25/25 [==============================] - 1s 38ms/step - loss: 0.3413 - accuracy: 0.8828\n",
            "Epoch 69/100\n",
            "25/25 [==============================] - 1s 38ms/step - loss: 0.3125 - accuracy: 0.8988\n",
            "Epoch 70/100\n",
            "25/25 [==============================] - 1s 39ms/step - loss: 0.2868 - accuracy: 0.9087\n",
            "Epoch 71/100\n",
            "25/25 [==============================] - 1s 39ms/step - loss: 0.3139 - accuracy: 0.8874\n",
            "Epoch 72/100\n",
            "25/25 [==============================] - 1s 38ms/step - loss: 0.3703 - accuracy: 0.8678\n",
            "Epoch 73/100\n",
            "25/25 [==============================] - 1s 39ms/step - loss: 0.3852 - accuracy: 0.8468\n",
            "Epoch 74/100\n",
            "25/25 [==============================] - 1s 40ms/step - loss: 0.3673 - accuracy: 0.8709\n",
            "Epoch 75/100\n",
            "25/25 [==============================] - 1s 38ms/step - loss: 0.3601 - accuracy: 0.8664\n",
            "Epoch 76/100\n",
            "25/25 [==============================] - 1s 38ms/step - loss: 0.2584 - accuracy: 0.9190\n",
            "Epoch 77/100\n",
            "25/25 [==============================] - 1s 38ms/step - loss: 0.2685 - accuracy: 0.9001\n",
            "Epoch 78/100\n",
            "25/25 [==============================] - 1s 38ms/step - loss: 0.2297 - accuracy: 0.9208\n",
            "Epoch 79/100\n",
            "25/25 [==============================] - 1s 38ms/step - loss: 0.2626 - accuracy: 0.9066\n",
            "Epoch 80/100\n",
            "25/25 [==============================] - 1s 38ms/step - loss: 0.2462 - accuracy: 0.9139\n",
            "Epoch 81/100\n",
            "25/25 [==============================] - 1s 39ms/step - loss: 0.2144 - accuracy: 0.9193\n",
            "Epoch 82/100\n",
            "25/25 [==============================] - 1s 38ms/step - loss: 0.2196 - accuracy: 0.9209\n",
            "Epoch 83/100\n",
            "25/25 [==============================] - 1s 38ms/step - loss: 0.2187 - accuracy: 0.9270\n",
            "Epoch 84/100\n",
            "25/25 [==============================] - 1s 39ms/step - loss: 0.2323 - accuracy: 0.9173\n",
            "Epoch 85/100\n",
            "25/25 [==============================] - 1s 39ms/step - loss: 0.1933 - accuracy: 0.9351\n",
            "Epoch 86/100\n",
            "25/25 [==============================] - 1s 40ms/step - loss: 0.2806 - accuracy: 0.9014\n",
            "Epoch 87/100\n",
            "25/25 [==============================] - 1s 37ms/step - loss: 0.2056 - accuracy: 0.9170\n",
            "Epoch 88/100\n",
            "25/25 [==============================] - 1s 38ms/step - loss: 0.2245 - accuracy: 0.9082\n",
            "Epoch 89/100\n",
            "25/25 [==============================] - 1s 40ms/step - loss: 0.2511 - accuracy: 0.9084\n",
            "Epoch 90/100\n",
            "25/25 [==============================] - 1s 38ms/step - loss: 0.2202 - accuracy: 0.9176\n",
            "Epoch 91/100\n",
            "25/25 [==============================] - 1s 39ms/step - loss: 0.2023 - accuracy: 0.9303\n",
            "Epoch 92/100\n",
            "25/25 [==============================] - 1s 38ms/step - loss: 0.1788 - accuracy: 0.9309\n",
            "Epoch 93/100\n",
            "25/25 [==============================] - 1s 38ms/step - loss: 0.2054 - accuracy: 0.9403\n",
            "Epoch 94/100\n",
            "25/25 [==============================] - 1s 39ms/step - loss: 0.2289 - accuracy: 0.9192\n",
            "Epoch 95/100\n",
            "25/25 [==============================] - 1s 38ms/step - loss: 0.1648 - accuracy: 0.9501\n",
            "Epoch 96/100\n",
            "25/25 [==============================] - 1s 40ms/step - loss: 0.6855 - accuracy: 0.7589\n",
            "Epoch 97/100\n",
            "25/25 [==============================] - 1s 40ms/step - loss: 0.6909 - accuracy: 0.7099\n",
            "Epoch 98/100\n",
            "25/25 [==============================] - 1s 40ms/step - loss: 0.4861 - accuracy: 0.8075\n",
            "Epoch 99/100\n",
            "25/25 [==============================] - 1s 38ms/step - loss: 0.4223 - accuracy: 0.8345\n",
            "Epoch 100/100\n",
            "25/25 [==============================] - 1s 39ms/step - loss: 0.3084 - accuracy: 0.8871\n"
          ],
          "name": "stdout"
        },
        {
          "output_type": "execute_result",
          "data": {
            "text/plain": [
              "<tensorflow.python.keras.callbacks.History at 0x7fb295fb8250>"
            ]
          },
          "metadata": {
            "tags": []
          },
          "execution_count": 29
        }
      ]
    },
    {
      "cell_type": "code",
      "metadata": {
        "id": "_1z-AzYl8h5j",
        "colab": {
          "base_uri": "https://localhost:8080/"
        },
        "outputId": "cdd3a9e0-52a6-4b0f-b0d8-41882f0a941c"
      },
      "source": [
        "model.summary()"
      ],
      "execution_count": 30,
      "outputs": [
        {
          "output_type": "stream",
          "text": [
            "Model: \"sequential_1\"\n",
            "_________________________________________________________________\n",
            "Layer (type)                 Output Shape              Param #   \n",
            "=================================================================\n",
            "lstm_1 (LSTM)                (32, 32)                  42624     \n",
            "_________________________________________________________________\n",
            "dense_1 (Dense)              (32, 4)                   132       \n",
            "=================================================================\n",
            "Total params: 42,756\n",
            "Trainable params: 42,756\n",
            "Non-trainable params: 0\n",
            "_________________________________________________________________\n"
          ],
          "name": "stdout"
        }
      ]
    },
    {
      "cell_type": "markdown",
      "metadata": {
        "id": "IpAesm--8h5k"
      },
      "source": [
        "### Testeo del Modelo"
      ]
    },
    {
      "cell_type": "code",
      "metadata": {
        "id": "gmNeuOIp8h5k",
        "colab": {
          "base_uri": "https://localhost:8080/"
        },
        "outputId": "c2dc04cd-d995-457e-a909-1fe3f2d30dc3"
      },
      "source": [
        "# max_length is used for max sequence of input\n",
        "max_length = get_max_length(x_test)\n",
        "\n",
        "test_X, test_Y = preprocess(x_test, y_test, max_length)\n",
        "\n",
        "\n",
        "score, acc = model.evaluate(test_X, test_Y, verbose=2)\n",
        "print('Test score:', score)\n",
        "print('Test accuracy:', acc)"
      ],
      "execution_count": 31,
      "outputs": [
        {
          "output_type": "stream",
          "text": [
            "7/7 - 1s - loss: 0.7510 - accuracy: 0.7200\n",
            "Test score: 0.7510371208190918\n",
            "Test accuracy: 0.7200000286102295\n"
          ],
          "name": "stdout"
        }
      ]
    }
  ]
}