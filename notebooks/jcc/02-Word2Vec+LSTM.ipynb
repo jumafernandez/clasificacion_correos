{
  "nbformat": 4,
  "nbformat_minor": 0,
  "metadata": {
    "kernelspec": {
      "display_name": "Python 3",
      "language": "python",
      "name": "python3"
    },
    "language_info": {
      "codemirror_mode": {
        "name": "ipython",
        "version": 3
      },
      "file_extension": ".py",
      "mimetype": "text/x-python",
      "name": "python",
      "nbconvert_exporter": "python",
      "pygments_lexer": "ipython3",
      "version": "3.7.5"
    },
    "colab": {
      "name": "02-Word2Vec+LSTM.ipynb",
      "provenance": [],
      "toc_visible": true,
      "include_colab_link": true
    }
  },
  "cells": [
    {
      "cell_type": "markdown",
      "metadata": {
        "id": "view-in-github",
        "colab_type": "text"
      },
      "source": [
        "<a href=\"https://colab.research.google.com/github/jumafernandez/clasificacion_correos/blob/main/notebooks/jcc/02-Word2Vec%2BLSTM.ipynb\" target=\"_parent\"><img src=\"https://colab.research.google.com/assets/colab-badge.svg\" alt=\"Open In Colab\"/></a>"
      ]
    },
    {
      "cell_type": "markdown",
      "metadata": {
        "id": "OPlN-I2S8h5a"
      },
      "source": [
        "# Word2Vec+LSTM\n",
        "\n",
        "En esta notebook, se entrena y prueba la clasificación de oraciones usando LSTM y Word2Vec pre-entrenado.\n",
        "\n",
        "El principal beneficio de la incrustación de palabras es que incluso las palabras que no se ven durante el entrenamiento se pueden predecir bien ya que la incrustación de palabras está pre-entrenada con un conjunto de datos más grande que los del dataset actual.\n"
      ]
    },
    {
      "cell_type": "markdown",
      "metadata": {
        "id": "lEytdZIxFEhM"
      },
      "source": [
        "## Instalación y Carga de librerías, modelo word2vec pre-entrenado y funciones útiles\n",
        "\n",
        "### Instalación de librerías\n",
        "\n",
        "Se instalan las librerías que no están en el entorno de Google Colab"
      ]
    },
    {
      "cell_type": "code",
      "metadata": {
        "colab": {
          "base_uri": "https://localhost:8080/"
        },
        "id": "Y-1Le1sYikgt",
        "outputId": "7e4a4d28-324b-4dca-a64b-5a06539f5668"
      },
      "source": [
        "# Se instala gensim que es el que tiene el modelo Word2Vec\n",
        "!pip install gensim\n",
        "!pip install requests\n",
        "!pip install wget"
      ],
      "execution_count": 1,
      "outputs": [
        {
          "output_type": "stream",
          "text": [
            "Requirement already satisfied: gensim in /usr/local/lib/python3.7/dist-packages (3.6.0)\n",
            "Requirement already satisfied: smart-open>=1.2.1 in /usr/local/lib/python3.7/dist-packages (from gensim) (4.2.0)\n",
            "Requirement already satisfied: scipy>=0.18.1 in /usr/local/lib/python3.7/dist-packages (from gensim) (1.4.1)\n",
            "Requirement already satisfied: numpy>=1.11.3 in /usr/local/lib/python3.7/dist-packages (from gensim) (1.19.5)\n",
            "Requirement already satisfied: six>=1.5.0 in /usr/local/lib/python3.7/dist-packages (from gensim) (1.15.0)\n",
            "Requirement already satisfied: requests in /usr/local/lib/python3.7/dist-packages (2.23.0)\n",
            "Requirement already satisfied: idna<3,>=2.5 in /usr/local/lib/python3.7/dist-packages (from requests) (2.10)\n",
            "Requirement already satisfied: chardet<4,>=3.0.2 in /usr/local/lib/python3.7/dist-packages (from requests) (3.0.4)\n",
            "Requirement already satisfied: urllib3!=1.25.0,!=1.25.1,<1.26,>=1.21.1 in /usr/local/lib/python3.7/dist-packages (from requests) (1.24.3)\n",
            "Requirement already satisfied: certifi>=2017.4.17 in /usr/local/lib/python3.7/dist-packages (from requests) (2020.12.5)\n",
            "Requirement already satisfied: wget in /usr/local/lib/python3.7/dist-packages (3.2)\n"
          ],
          "name": "stdout"
        }
      ]
    },
    {
      "cell_type": "markdown",
      "metadata": {
        "id": "Cs_qgHr0FRBm"
      },
      "source": [
        "### Funciones útiles\n",
        "\n",
        "Se cargan funciones útiles desde el repo https://github.com/jumafernandez/clasificacion_correos para la carga y balanceo del dataset."
      ]
    },
    {
      "cell_type": "code",
      "metadata": {
        "id": "mamfYGa5CGBD"
      },
      "source": [
        "import requests\n",
        "\n",
        "# Se hace el request del raw del script python\n",
        "url = 'https://raw.githubusercontent.com/jumafernandez/clasificacion_correos/main/scripts/JCC/funciones_dataset.py'\n",
        "r = requests.get(url)\n",
        "\n",
        "# Se guarda en el working directory\n",
        "with open('funciones_dataset.py', 'w') as f:\n",
        "    f.write(r.text)\n",
        "\n",
        "# Se importan las funciones a utilizar\n",
        "from funciones_dataset import get_clases, cargar_dataset, separar_x_y_rna"
      ],
      "execution_count": 2,
      "outputs": []
    },
    {
      "cell_type": "markdown",
      "metadata": {
        "id": "TOOEJ6BNtyaG"
      },
      "source": [
        "También se carga la función para preprocesar el texto que se usó en los otros modelos desde el repo: https://github.com/jumafernandez/clasificacion_correos."
      ]
    },
    {
      "cell_type": "code",
      "metadata": {
        "id": "mHpxs0XhtzfH"
      },
      "source": [
        "import requests\n",
        "\n",
        "# Se hace el request del raw del script python\n",
        "url = 'https://raw.githubusercontent.com/jumafernandez/clasificacion_correos/main/scripts/JCC/funciones_preprocesamiento.py'\n",
        "r = requests.get(url)\n",
        "\n",
        "# Se guarda en el working directory\n",
        "with open('funciones_preprocesamiento.py', 'w') as f:\n",
        "    f.write(r.text)\n",
        "\n",
        "# Se importan las funciones a utilizar\n",
        "from funciones_preprocesamiento import preprocesar_correos, get_max_length"
      ],
      "execution_count": 3,
      "outputs": []
    },
    {
      "cell_type": "markdown",
      "metadata": {
        "id": "4TCKkThoFhfQ"
      },
      "source": [
        "### Carga del modelo de embeddings pre-entrenado que se va a utilizar\n",
        "\n",
        "Se trabaja con tres modelos de embeddings: Word2Vec, Glove y FastText.\n",
        "\n",
        "__Referencias:__ https://github.com/dccuchile/spanish-word-embeddings."
      ]
    },
    {
      "cell_type": "code",
      "metadata": {
        "id": "betQcIyBSHzL"
      },
      "source": [
        "from os import path\n",
        "import gensim\n",
        "\n",
        "EMBEDDINGS = 'Word2Vec'\n",
        "\n",
        "if EMBEDDINGS == 'Word2Vec':\n",
        "  PATH_EMBEDDINGS = 'http://cs.famaf.unc.edu.ar/~ccardellino/SBWCE/SBW-vectors-300-min5.bin.gz'\n",
        "  FILENAME_EMBEDDINGS = \"SBW-vectors-300-min5.bin.gz\"\n",
        "  DIM_EMBEDDINGS = 300\n",
        "\n",
        "# Se descarga solo si no están en el working directory. Size ~= 1gb\n",
        "if not(path.exists(FILENAME_EMBEDDINGS)):\n",
        "  import wget\n",
        "  wget.download(PATH_EMBEDDINGS)\n",
        "\n",
        "# Cargo el modelo de embeddings\n",
        "from gensim.models import Word2Vec\n",
        "embeddings = gensim.models.KeyedVectors.load_word2vec_format(FILENAME_EMBEDDINGS, binary=True)\n",
        "# Se normalizan los pesos de los vectores\n",
        "embeddings.init_sims(replace=True)"
      ],
      "execution_count": 4,
      "outputs": []
    },
    {
      "cell_type": "markdown",
      "metadata": {
        "id": "1LiWpDyvI9L7"
      },
      "source": [
        "### Se cargan funciones que se utilizan para el pre-procesamiento de las secuencias"
      ]
    },
    {
      "cell_type": "code",
      "metadata": {
        "id": "Wa85mDxHFQIw"
      },
      "source": [
        "def embed(texts, dim_embeddings):\n",
        "  \"\"\"\n",
        "  devuelve un tensor de tensores con los embedding de las palabras\n",
        "  para usar en la red LSTM\n",
        "  \"\"\"\n",
        "  import tensorflow as tf\n",
        "  import numpy as np\n",
        "\n",
        "  # Inicializo el tensor principal con un array de (1, dim_embeddings) de ceros\n",
        "  tensor_principal = tf.convert_to_tensor(np.zeros((1, dim_embeddings)), dtype=tf.float32)\n",
        "  iteration = 0\n",
        "  for word in texts:  \n",
        "    try:\n",
        "      e = tf.convert_to_tensor(np.reshape(embeddings.get_vector(word), (1, dim_embeddings)), dtype=tf.float32)\n",
        "    except:\n",
        "      e = tf.convert_to_tensor(np.zeros((1, dim_embeddings)), dtype=tf.float32)\n",
        "    if iteration==0:\n",
        "      tensor_principal = e\n",
        "    else:\n",
        "      tensor_principal = tf.concat([tensor_principal, e], 0)\n",
        "    iteration = iteration+1\n",
        "    \n",
        "  return tensor_principal\n",
        "\n",
        "\n",
        "def get_word2vec_enc(texts, dim_embeddings):\n",
        "    \"\"\"\n",
        "    recibe todos los textos y devuelve una array numpy de tensores de correos\n",
        "    cada tensor tiene tensores con el embedding de cada palabras\n",
        "    \"\"\"\n",
        "    encoded_texts = []\n",
        "    for text in texts:\n",
        "        tokens = text.split(\" \")\n",
        "        word2vec_embedding = embed(tokens, dim_embeddings)\n",
        "        encoded_texts.append(word2vec_embedding)\n",
        "    return encoded_texts\n",
        "        \n",
        "def get_padded_encoded_text(encoded_text, max_length, dim_embeddings):\n",
        "    \"\"\"\n",
        "    para frases cortas se rellena con ceros el array a efectos de contar con la\n",
        "    misma longitud\n",
        "    \"\"\"\n",
        "    import numpy as np\n",
        "\n",
        "    padded_text_encoding = []\n",
        "    for enc_text in encoded_text:\n",
        "\n",
        "        zero_padding_cnt = max_length - enc_text.shape[0]\n",
        "        pad = np.zeros((1, dim_embeddings))\n",
        "        for i in range(zero_padding_cnt):\n",
        "            enc_text = np.concatenate((pad, enc_text), axis=0)\n",
        "        padded_text_encoding.append(enc_text)\n",
        "    return padded_text_encoding\n",
        "\n",
        "def category_encode(category):\n",
        "    \"\"\"\n",
        "    Se encodea la clase en variables dummies\n",
        "    \"\"\"\n",
        "    import pandas as pd\n",
        "\n",
        "    return pd.get_dummies(category)\n",
        "\n",
        "\n",
        "def preprocess(x, y, max_length, dim_embeddings):\n",
        "    \"\"\"\n",
        "    se encodean x e y llamando a las funciones get_word2_vec_enc, \n",
        "    get_padded_encoded_text y category_encode\n",
        "    \"\"\"\n",
        "    import numpy as np\n",
        "    # encode words into word2vec\n",
        "    text = x.tolist()\n",
        "    \n",
        "    encoded_text = get_word2vec_enc(text, dim_embeddings)\n",
        "    padded_encoded_text = get_padded_encoded_text(encoded_text, max_length, dim_embeddings)\n",
        "    \n",
        "    # encoded class\n",
        "    encoded_category = category_encode(y)\n",
        "    X = np.array(padded_encoded_text)\n",
        "    Y = np.array(encoded_category)\n",
        "    return X, Y "
      ],
      "execution_count": 5,
      "outputs": []
    },
    {
      "cell_type": "code",
      "metadata": {
        "id": "522WsoM6q73w",
        "colab": {
          "base_uri": "https://localhost:8080/"
        },
        "outputId": "ecfc8688-1b5f-487d-90ba-005a8cb8939b"
      },
      "source": [
        "import warnings\n",
        "warnings.filterwarnings(\"ignore\")\n",
        "\n",
        "# Defino la cantidad de clases a utilizar\n",
        "CANTIDAD_CLASES = 4\n",
        "\n",
        "# Constantes con los datos\n",
        "DS_DIR = 'https://raw.githubusercontent.com/jumafernandez/clasificacion_correos/main/data/consolidado_jcc/'\n",
        "TRAIN_FILE = 'correos-train-80.csv'\n",
        "TEST_FILE = 'correos-test-20.csv'\n",
        "\n",
        "# Chequeo sobre si los archivos están en el working directory\n",
        "download_files = not(path.exists(TRAIN_FILE))\n",
        "\n",
        "etiquetas = get_clases()\n",
        "train_df, test_df, etiquetas = cargar_dataset(DS_DIR, TRAIN_FILE, TEST_FILE, download_files, 'clase', etiquetas, CANTIDAD_CLASES, 'Otras Consultas')\n",
        "\n",
        "# Se ejecuta el preprocesamiento de correos sobre el campo Consulta de train y test\n",
        "import pandas as pd\n",
        "train_df['Consulta'] = pd.Series(preprocesar_correos(train_df['Consulta']))\n",
        "test_df['Consulta'] = pd.Series(preprocesar_correos(test_df['Consulta']))\n",
        "\n",
        "# Separo en train y test\n",
        "x_train, y_train = separar_x_y_rna(train_df, 'Consulta', 'clase')\n",
        "x_test, y_test = separar_x_y_rna(test_df, 'Consulta', 'clase')"
      ],
      "execution_count": 6,
      "outputs": [
        {
          "output_type": "stream",
          "text": [
            "\n",
            "El conjunto de entrenamiento tiene la dimensión: (800, 24)\n",
            "El conjunto de testeo tiene la dimensión: (200, 24)\n"
          ],
          "name": "stdout"
        }
      ]
    },
    {
      "cell_type": "markdown",
      "metadata": {
        "id": "APRnQBXZ8h5h"
      },
      "source": [
        "## Preprocesamiento (codificación del texto a vectores numéricos)"
      ]
    },
    {
      "cell_type": "code",
      "metadata": {
        "id": "ty8fWijE8h5h"
      },
      "source": [
        "# Largo máximo de las consultas\n",
        "max_length = get_max_length(x_train)\n",
        "\n",
        "# Preproceso las secuencias de texto\n",
        "x_train_processed, y_train_processed = preprocess(x_train, y_train, max_length, DIM_EMBEDDINGS)\n",
        "x_test_processed, y_test_processed = preprocess(x_test, y_test, max_length, DIM_EMBEDDINGS)"
      ],
      "execution_count": 7,
      "outputs": []
    },
    {
      "cell_type": "code",
      "metadata": {
        "colab": {
          "base_uri": "https://localhost:8080/"
        },
        "id": "D1aerV7FsSJn",
        "outputId": "3fc9129a-ea58-48e8-b511-39a8fea88871"
      },
      "source": [
        "print('DIM de x_train: {}x{}x{}.'.format(len(x_train_processed), len(x_train_processed[0]), len(x_train_processed[0][0])))"
      ],
      "execution_count": 8,
      "outputs": [
        {
          "output_type": "stream",
          "text": [
            "DIM de x_train: 800x43x300.\n"
          ],
          "name": "stdout"
        }
      ]
    },
    {
      "cell_type": "markdown",
      "metadata": {
        "id": "x3S6lvYe8h5i"
      },
      "source": [
        "## Construcción del Modelo"
      ]
    },
    {
      "cell_type": "markdown",
      "metadata": {
        "id": "pLK1vSzE9AMz"
      },
      "source": [
        "### Generador de números aleatorios\n",
        "\n",
        "Se setea de manera fija la semilla para el generador de números aleatorios a efectos de que los experimentos sean reproducibles."
      ]
    },
    {
      "cell_type": "code",
      "metadata": {
        "id": "a1Zxtftg8-uJ"
      },
      "source": [
        "import tensorflow as tf\n",
        "tf.random.set_seed(1)"
      ],
      "execution_count": 9,
      "outputs": []
    },
    {
      "cell_type": "markdown",
      "metadata": {
        "id": "HTyhUXWA9oJj"
      },
      "source": [
        "### Arquitectura de LSTM\n",
        "\n",
        "Se define la arquitectura de la red LSTM:"
      ]
    },
    {
      "cell_type": "code",
      "metadata": {
        "id": "ETidgFM48h5i"
      },
      "source": [
        "from tensorflow.keras.layers import Dense, LSTM\n",
        "from tensorflow.keras.models import Model\n",
        "from tensorflow.keras.models import Sequential\n",
        "\n",
        "# Arquitectura del modelo LSTM\n",
        "model = Sequential()\n",
        "model.add(LSTM(300))\n",
        "model.add(Dense(CANTIDAD_CLASES, activation='softmax'))\n",
        "\n",
        "model.compile(loss='categorical_crossentropy',\n",
        "              optimizer='adam',\n",
        "              metrics=['accuracy'])"
      ],
      "execution_count": 10,
      "outputs": []
    },
    {
      "cell_type": "markdown",
      "metadata": {
        "id": "2IcqosK98h5j"
      },
      "source": [
        "### Entrenamiento del modelo"
      ]
    },
    {
      "cell_type": "code",
      "metadata": {
        "id": "2nRmzS8w8h5j",
        "colab": {
          "base_uri": "https://localhost:8080/"
        },
        "outputId": "00791221-858e-4223-ef69-a5d5e1c31346"
      },
      "source": [
        "print('Train...')\n",
        "lstm_model = model.fit(x_train_processed, \n",
        "                       y_train_processed, \n",
        "                       batch_size=64, \n",
        "                       epochs=25, \n",
        "                       verbose=1, \n",
        "                       validation_data=(x_test_processed, y_test_processed))"
      ],
      "execution_count": 11,
      "outputs": [
        {
          "output_type": "stream",
          "text": [
            "Train...\n",
            "Epoch 1/25\n",
            "13/13 [==============================] - 7s 405ms/step - loss: 1.3317 - accuracy: 0.4171 - val_loss: 1.2326 - val_accuracy: 0.4650\n",
            "Epoch 2/25\n",
            "13/13 [==============================] - 4s 335ms/step - loss: 1.1868 - accuracy: 0.5147 - val_loss: 0.9160 - val_accuracy: 0.6600\n",
            "Epoch 3/25\n",
            "13/13 [==============================] - 4s 334ms/step - loss: 0.8839 - accuracy: 0.6655 - val_loss: 0.8824 - val_accuracy: 0.6750\n",
            "Epoch 4/25\n",
            "13/13 [==============================] - 4s 339ms/step - loss: 0.9254 - accuracy: 0.6512 - val_loss: 0.9259 - val_accuracy: 0.7100\n",
            "Epoch 5/25\n",
            "13/13 [==============================] - 5s 331ms/step - loss: 0.8278 - accuracy: 0.7237 - val_loss: 0.7198 - val_accuracy: 0.6950\n",
            "Epoch 6/25\n",
            "13/13 [==============================] - 4s 330ms/step - loss: 0.6769 - accuracy: 0.7255 - val_loss: 0.6491 - val_accuracy: 0.7650\n",
            "Epoch 7/25\n",
            "13/13 [==============================] - 4s 336ms/step - loss: 0.5981 - accuracy: 0.7798 - val_loss: 0.6889 - val_accuracy: 0.7550\n",
            "Epoch 8/25\n",
            "13/13 [==============================] - 4s 333ms/step - loss: 0.6409 - accuracy: 0.7652 - val_loss: 0.6144 - val_accuracy: 0.7550\n",
            "Epoch 9/25\n",
            "13/13 [==============================] - 4s 331ms/step - loss: 0.5888 - accuracy: 0.8041 - val_loss: 0.6232 - val_accuracy: 0.8000\n",
            "Epoch 10/25\n",
            "13/13 [==============================] - 4s 338ms/step - loss: 0.5524 - accuracy: 0.8238 - val_loss: 0.6611 - val_accuracy: 0.7700\n",
            "Epoch 11/25\n",
            "13/13 [==============================] - 4s 335ms/step - loss: 0.5314 - accuracy: 0.8033 - val_loss: 0.5963 - val_accuracy: 0.8100\n",
            "Epoch 12/25\n",
            "13/13 [==============================] - 4s 331ms/step - loss: 0.4686 - accuracy: 0.8369 - val_loss: 0.6312 - val_accuracy: 0.8000\n",
            "Epoch 13/25\n",
            "13/13 [==============================] - 4s 328ms/step - loss: 0.4802 - accuracy: 0.8269 - val_loss: 0.6560 - val_accuracy: 0.7450\n",
            "Epoch 14/25\n",
            "13/13 [==============================] - 4s 326ms/step - loss: 0.4642 - accuracy: 0.8329 - val_loss: 0.6033 - val_accuracy: 0.7650\n",
            "Epoch 15/25\n",
            "13/13 [==============================] - 4s 332ms/step - loss: 0.4602 - accuracy: 0.8218 - val_loss: 0.5971 - val_accuracy: 0.7900\n",
            "Epoch 16/25\n",
            "13/13 [==============================] - 4s 327ms/step - loss: 0.3574 - accuracy: 0.8684 - val_loss: 0.5855 - val_accuracy: 0.8150\n",
            "Epoch 17/25\n",
            "13/13 [==============================] - 4s 328ms/step - loss: 0.3463 - accuracy: 0.8818 - val_loss: 0.5751 - val_accuracy: 0.7950\n",
            "Epoch 18/25\n",
            "13/13 [==============================] - 4s 329ms/step - loss: 0.3364 - accuracy: 0.8840 - val_loss: 0.6471 - val_accuracy: 0.7800\n",
            "Epoch 19/25\n",
            "13/13 [==============================] - 4s 333ms/step - loss: 0.4287 - accuracy: 0.8557 - val_loss: 0.5788 - val_accuracy: 0.8000\n",
            "Epoch 20/25\n",
            "13/13 [==============================] - 4s 330ms/step - loss: 0.3474 - accuracy: 0.8668 - val_loss: 0.6045 - val_accuracy: 0.8050\n",
            "Epoch 21/25\n",
            "13/13 [==============================] - 4s 331ms/step - loss: 0.3113 - accuracy: 0.9011 - val_loss: 0.6413 - val_accuracy: 0.8200\n",
            "Epoch 22/25\n",
            "13/13 [==============================] - 4s 330ms/step - loss: 0.3082 - accuracy: 0.8837 - val_loss: 0.6505 - val_accuracy: 0.8050\n",
            "Epoch 23/25\n",
            "13/13 [==============================] - 4s 331ms/step - loss: 0.3145 - accuracy: 0.8818 - val_loss: 0.5485 - val_accuracy: 0.8100\n",
            "Epoch 24/25\n",
            "13/13 [==============================] - 4s 335ms/step - loss: 0.2527 - accuracy: 0.9069 - val_loss: 0.6587 - val_accuracy: 0.8150\n",
            "Epoch 25/25\n",
            "13/13 [==============================] - 4s 328ms/step - loss: 0.2509 - accuracy: 0.9159 - val_loss: 0.6232 - val_accuracy: 0.7950\n"
          ],
          "name": "stdout"
        }
      ]
    },
    {
      "cell_type": "code",
      "metadata": {
        "id": "_1z-AzYl8h5j",
        "colab": {
          "base_uri": "https://localhost:8080/"
        },
        "outputId": "906ffa62-e3e5-45aa-d0c8-aa8455bbbc9f"
      },
      "source": [
        "model.summary()"
      ],
      "execution_count": 12,
      "outputs": [
        {
          "output_type": "stream",
          "text": [
            "Model: \"sequential\"\n",
            "_________________________________________________________________\n",
            "Layer (type)                 Output Shape              Param #   \n",
            "=================================================================\n",
            "lstm (LSTM)                  (None, 300)               721200    \n",
            "_________________________________________________________________\n",
            "dense (Dense)                (None, 4)                 1204      \n",
            "=================================================================\n",
            "Total params: 722,404\n",
            "Trainable params: 722,404\n",
            "Non-trainable params: 0\n",
            "_________________________________________________________________\n"
          ],
          "name": "stdout"
        }
      ]
    },
    {
      "cell_type": "markdown",
      "metadata": {
        "id": "IpAesm--8h5k"
      },
      "source": [
        "### Testeo del Modelo"
      ]
    },
    {
      "cell_type": "code",
      "metadata": {
        "id": "gmNeuOIp8h5k",
        "colab": {
          "base_uri": "https://localhost:8080/"
        },
        "outputId": "73792cc5-f397-43d1-dde4-d91be30bf4f3"
      },
      "source": [
        "results = model.evaluate(x_test_processed, y_test_processed, batch_size=128)"
      ],
      "execution_count": 13,
      "outputs": [
        {
          "output_type": "stream",
          "text": [
            "2/2 [==============================] - 0s 122ms/step - loss: 0.6232 - accuracy: 0.7950\n"
          ],
          "name": "stdout"
        }
      ]
    },
    {
      "cell_type": "markdown",
      "metadata": {
        "id": "qxnIX8HM7gwb"
      },
      "source": [
        "### Gráfico de la evolución de epochs vs accuracy/loss"
      ]
    },
    {
      "cell_type": "code",
      "metadata": {
        "colab": {
          "base_uri": "https://localhost:8080/",
          "height": 573
        },
        "id": "LDcTT6yp1VQp",
        "outputId": "c150dc31-da9d-424e-a1d7-ba302d21636a"
      },
      "source": [
        "import matplotlib.pyplot as plt\n",
        "\n",
        "plt.plot(lstm_model.history['accuracy'])\n",
        "plt.plot(lstm_model.history['val_accuracy'])\n",
        "\n",
        "plt.title('model accuracy')\n",
        "plt.ylabel('accuracy')\n",
        "plt.xlabel('epoch')\n",
        "plt.legend(['train','test'], loc='upper left')\n",
        "plt.show()\n",
        "\n",
        "plt.plot(lstm_model.history['loss'])\n",
        "plt.plot(lstm_model.history['val_loss'])\n",
        "\n",
        "plt.title('model loss')\n",
        "plt.ylabel('loss')\n",
        "plt.xlabel('epoch')\n",
        "plt.legend(['train','test'], loc='upper left')\n",
        "plt.show()"
      ],
      "execution_count": 14,
      "outputs": [
        {
          "output_type": "display_data",
          "data": {
            "image/png": "[encoded data removed]",
            "text/plain": [
              "<Figure size 432x288 with 1 Axes>"
            ]
          },
          "metadata": {
            "tags": [],
            "needs_background": "light"
          }
        },
        {
          "output_type": "display_data",
          "data": {
            "image/png": "[encoded data removed]",
            "text/plain": [
              "<Figure size 432x288 with 1 Axes>"
            ]
          },
          "metadata": {
            "tags": [],
            "needs_background": "light"
          }
        }
      ]
    }
  ]
}