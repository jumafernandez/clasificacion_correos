{
  "nbformat": 4,
  "nbformat_minor": 0,
  "metadata": {
    "kernelspec": {
      "display_name": "Python 3",
      "language": "python",
      "name": "python3"
    },
    "language_info": {
      "codemirror_mode": {
        "name": "ipython",
        "version": 3
      },
      "file_extension": ".py",
      "mimetype": "text/x-python",
      "name": "python",
      "nbconvert_exporter": "python",
      "pygments_lexer": "ipython3",
      "version": "3.7.5"
    },
    "colab": {
      "name": "02-Word2Vec+LSTM.ipynb",
      "provenance": [],
      "toc_visible": true,
      "include_colab_link": true
    }
  },
  "cells": [
    {
      "cell_type": "markdown",
      "metadata": {
        "id": "view-in-github",
        "colab_type": "text"
      },
      "source": [
        "<a href=\"https://colab.research.google.com/github/jumafernandez/clasificacion_correos/blob/main/notebooks/jcc/02-Word2Vec%2BLSTM.ipynb\" target=\"_parent\"><img src=\"https://colab.research.google.com/assets/colab-badge.svg\" alt=\"Open In Colab\"/></a>"
      ]
    },
    {
      "cell_type": "markdown",
      "metadata": {
        "id": "OPlN-I2S8h5a"
      },
      "source": [
        "# LSTM+Word2Vec\n",
        "\n",
        "En esta notebook, se entrena y prueba la clasificación de oraciones usando LSTM y Word2Vec pre-entrenado.\n",
        "\n",
        "El principal beneficio de la incrustación de palabras es que incluso las palabras que no se ven durante el entrenamiento se pueden predecir bien ya que la incrustación de palabras está pre-entrenada con un conjunto de datos más grande que los del dataset actual.\n"
      ]
    },
    {
      "cell_type": "markdown",
      "metadata": {
        "id": "lEytdZIxFEhM"
      },
      "source": [
        "## Carga de librerías, modelo word2vec pre-entrenado y funciones útiles\n",
        "\n",
        "### Carga de librerías a utilizar para el entrenamiento del modelo"
      ]
    },
    {
      "cell_type": "code",
      "metadata": {
        "id": "BJmDIfYu8h5g",
        "colab": {
          "base_uri": "https://localhost:8080/"
        },
        "outputId": "b67b76fc-50aa-4395-ad36-5bfa69cd277b"
      },
      "source": [
        "import tensorflow as tf\n",
        "from tensorflow.keras.layers import Dense, LSTM\n",
        "from tensorflow.keras.models import Model\n",
        "from tensorflow.keras.models import Sequential\n",
        "\n",
        "import numpy as np\n",
        "import pandas as pd\n",
        "import sys\n",
        "\n",
        "# Se instala gensim que es el que tiene el modelo Word2Vec\n",
        "!pip install gensim\n",
        "import gensim"
      ],
      "execution_count": 1,
      "outputs": [
        {
          "output_type": "stream",
          "text": [
            "Requirement already satisfied: gensim in /usr/local/lib/python3.7/dist-packages (3.6.0)\n",
            "Requirement already satisfied: scipy>=0.18.1 in /usr/local/lib/python3.7/dist-packages (from gensim) (1.4.1)\n",
            "Requirement already satisfied: numpy>=1.11.3 in /usr/local/lib/python3.7/dist-packages (from gensim) (1.19.5)\n",
            "Requirement already satisfied: smart-open>=1.2.1 in /usr/local/lib/python3.7/dist-packages (from gensim) (4.2.0)\n",
            "Requirement already satisfied: six>=1.5.0 in /usr/local/lib/python3.7/dist-packages (from gensim) (1.15.0)\n"
          ],
          "name": "stdout"
        }
      ]
    },
    {
      "cell_type": "markdown",
      "metadata": {
        "id": "4TCKkThoFhfQ"
      },
      "source": [
        "### Carga del modelo Word2Vec pre-entrenado de Universidad de Chile\n",
        "\n",
        "Referencias: https://github.com/dccuchile/spanish-word-embeddings"
      ]
    },
    {
      "cell_type": "code",
      "metadata": {
        "id": "betQcIyBSHzL"
      },
      "source": [
        "import os.path\n",
        "from os import path\n",
        "\n",
        "if not(path.exists(\"SBW-vectors-300-min5.bin.gz\")):\n",
        "  !wget http://cs.famaf.unc.edu.ar/~ccardellino/SBWCE/SBW-vectors-300-min5.bin.gz\n",
        "\n",
        "# Defino el largo del vector de embedding, en el caso que vamos a usar es 300\n",
        "VECTOR_EMBEDDINGS = 300\n",
        "\n",
        "from gensim.models import Word2Vec\n",
        "\n",
        "filename=\"SBW-vectors-300-min5.bin.gz\"\n",
        "embeddings = gensim.models.KeyedVectors.load_word2vec_format(filename, binary=True)\n",
        "embeddings.init_sims(replace=True)"
      ],
      "execution_count": 2,
      "outputs": []
    },
    {
      "cell_type": "markdown",
      "metadata": {
        "id": "1LiWpDyvI9L7"
      },
      "source": [
        "### Se cargan funciones que se utilizan para el pre-procesamiento de las secuencias"
      ]
    },
    {
      "cell_type": "code",
      "metadata": {
        "id": "Wa85mDxHFQIw"
      },
      "source": [
        "def get_max_length(text):\n",
        "    \"\"\"\n",
        "    get max token counts from train data, \n",
        "    so we use this number as fixed length input to RNN cell\n",
        "    \"\"\"\n",
        "    max_length = 0\n",
        "    for row in text:\n",
        "        if len(row.split(\" \")) > max_length:\n",
        "            max_length = len(row.split(\" \"))\n",
        "    return max_length\n",
        "\n",
        "def embed(texts): \n",
        "  \"\"\"\n",
        "  devuelve un tensor de tensores con los embedding de las palabras\n",
        "  para usar en la red LSTM\n",
        "  \"\"\"\n",
        "  # Inicializo el tensor principal con un array de (1, 250) de ceros\n",
        "  tensor_principal = tf.convert_to_tensor(np.zeros((1, VECTOR_EMBEDDINGS)), dtype=tf.float32)\n",
        "  iteration = 0\n",
        "  for word in texts:  \n",
        "    try:\n",
        "      e = tf.convert_to_tensor(np.reshape(embeddings.get_vector(word), (1, VECTOR_EMBEDDINGS)), dtype=tf.float32)\n",
        "    except:\n",
        "      e = tf.convert_to_tensor(np.zeros((1, VECTOR_EMBEDDINGS)), dtype=tf.float32)\n",
        "    if iteration==0:\n",
        "      tensor_principal = e\n",
        "    else:\n",
        "      tensor_principal = tf.concat([tensor_principal, e], 0)\n",
        "    iteration = iteration+1\n",
        "    \n",
        "  return tensor_principal\n",
        "\n",
        "\n",
        "def get_word2vec_enc(texts):\n",
        "    \"\"\"\n",
        "    recibe todos los textos y devuelve una array numpy de tensores de correos\n",
        "    cada tensor tiene tensores con el embedding de cada palabras\n",
        "    \"\"\"\n",
        "    encoded_texts = []\n",
        "    for text in texts:\n",
        "        tokens = text.split(\" \")\n",
        "        word2vec_embedding = embed(tokens)\n",
        "        encoded_texts.append(word2vec_embedding)\n",
        "    return encoded_texts\n",
        "        \n",
        "def get_padded_encoded_text(encoded_text, max_length):\n",
        "    \"\"\"\n",
        "    para frases cortas se rellena con ceros el array a efectos de contar con la\n",
        "    misma longitud\n",
        "    \"\"\"\n",
        "    padded_text_encoding = []\n",
        "    for enc_text in encoded_text:\n",
        "\n",
        "        zero_padding_cnt = max_length - enc_text.shape[0]\n",
        "        pad = np.zeros((1, VECTOR_EMBEDDINGS))\n",
        "        for i in range(zero_padding_cnt):\n",
        "            enc_text = np.concatenate((pad, enc_text), axis=0)\n",
        "        padded_text_encoding.append(enc_text)\n",
        "    return padded_text_encoding\n",
        "\n",
        "def category_encode(category):\n",
        "    \"\"\"\n",
        "    Se encodea la clase en variables dummies\n",
        "    \"\"\"\n",
        "    return pd.get_dummies(category)\n",
        "\n",
        "\n",
        "def preprocess(x, y, max_length):\n",
        "    \"\"\"\n",
        "    se encodean x e y llamando a las funciones get_word2_vec_enc, \n",
        "    get_padded_encoded_text y category_encode\n",
        "    \"\"\"\n",
        "    # encode words into word2vec\n",
        "    text = x.tolist()\n",
        "    \n",
        "    encoded_text = get_word2vec_enc(text)\n",
        "    padded_encoded_text = get_padded_encoded_text(encoded_text, max_length)\n",
        "    \n",
        "    # encoded class\n",
        "    categorys = y.tolist()\n",
        "    encoded_category = category_encode(categorys)\n",
        "    X = np.array(padded_encoded_text)\n",
        "    Y = np.array(encoded_category)\n",
        "    return X, Y "
      ],
      "execution_count": 3,
      "outputs": []
    },
    {
      "cell_type": "markdown",
      "metadata": {
        "id": "Cs_qgHr0FRBm"
      },
      "source": [
        "## Carga del dataset y balanceo de clases"
      ]
    },
    {
      "cell_type": "code",
      "metadata": {
        "id": "mamfYGa5CGBD"
      },
      "source": [
        "def get_clases():\n",
        "  '''\n",
        "  Esta función retorna las etiquetas de las clases sobre el total de los correos. \n",
        "  Tomado de notebooks/jcc/de train_test_data.ipynb\n",
        "  '''\n",
        "  import numpy as np\n",
        "\n",
        "  etiquetas_clases = np.array(['Boleto Universitario', \n",
        "                               'Cambio de Carrera', \n",
        "                               'Cambio de Comisión',\n",
        "                               'Carga de Notas', \n",
        "                               'Certificados Web', \n",
        "                               'Consulta por Equivalencias',\n",
        "                               'Consulta por Legajo', \n",
        "                               'Consulta sobre Título Universitario',\n",
        "                               'Cursadas', \n",
        "                               'Datos Personales', \n",
        "                               'Exámenes',\n",
        "                               'Ingreso a la Universidad',\n",
        "                               'Inscripción a Cursadas',\n",
        "                               'Pedido de Certificados',\n",
        "                               'Problemas con la Clave',\n",
        "                               'Reincorporación', \n",
        "                               'Requisitos de Ingreso',\n",
        "                               'Simultaneidad de Carreras', \n",
        "                               'Situación Académica',\n",
        "                               'Vacunas Enfermería'])\n",
        "\n",
        "  return etiquetas_clases\n",
        "\n",
        "\n",
        "def cargar_dataset(URL_data, file_train, file_test, nombre_clase, class_labels, cantidad_clases, texto_otras, origen_ds):\n",
        "  '''\n",
        "  Carga los train y test set y genera la reducción de clases, en caso que sea necesario\n",
        "  '''\n",
        "  import pandas as pd\n",
        "  import numpy as np\n",
        "\n",
        "  # Genero el enlace completo\n",
        "  URL_file_train = URL_data + file_train\n",
        "  URL_file_test = URL_data + file_test\n",
        "  \n",
        "  # Me traigo los archivos de train y test\n",
        "  if origen_ds == 'WEB':  \n",
        "    import wget\n",
        "    wget.download(URL_file_train)\n",
        "    wget.download(URL_file_test)\n",
        "  else:\n",
        "    file_train = URL_file_train\n",
        "    file_test = URL_file_test\n",
        "    \n",
        "  # Leemos el archivo en un dataframe\n",
        "  df_train = pd.read_csv(file_train)\n",
        "  df_test = pd.read_csv(file_test)\n",
        "\n",
        "  # Agrupamiento de clases\n",
        "  # Se realiza un conteo de frecuencia por clase y se toman los correos que pertenecen a \n",
        "  # las N-cantidad_clases menos observadas\n",
        "  clases = df_train.clase.value_counts()\n",
        "  clases_minoritarias = clases.iloc[cantidad_clases-1:].keys().to_list()\n",
        "\n",
        "  # Agrego a las etiquetas la etiqueta \"Otras Consultas\" para el agrupamiento\n",
        "  etiquetas_clases = np.append(class_labels, texto_otras)\n",
        "\n",
        "  # Genero una nueva clave de clases para \"Otras Consultas\" a modo de agrupar las que poseen menos apariciones\n",
        "  df_train.clase[df_train[nombre_clase].isin(clases_minoritarias)] = np.where(etiquetas_clases == texto_otras)[0]\n",
        "  df_test.clase[df_test[nombre_clase].isin(clases_minoritarias)] = np.where(etiquetas_clases == texto_otras)[0]\n",
        "\n",
        "  print(\"El conjunto de entrenamiento tiene la dimensión: \" + str(df_train.shape))\n",
        "  print(\"El conjunto de testeo tiene la dimensión: \" + str(df_test.shape))\n",
        "\n",
        "  return df_train, df_test\n",
        "\n",
        "\n",
        "def df_x_y_rn(df, atributo_consulta, atributo_clase):\n",
        "  '''\n",
        "  Función para separar en x e y\n",
        "  '''\n",
        "  import pandas as pd\n",
        "  \n",
        "  # Separo en x e y -train-\n",
        "  y = df[atributo_clase].to_numpy()\n",
        "  x = df[atributo_consulta]\n",
        "\n",
        "  return x, y"
      ],
      "execution_count": 4,
      "outputs": []
    },
    {
      "cell_type": "code",
      "metadata": {
        "id": "522WsoM6q73w",
        "outputId": "750c864e-36d7-4d9f-f4fa-f4619f57ab31",
        "colab": {
          "base_uri": "https://localhost:8080/"
        }
      },
      "source": [
        "import warnings\n",
        "warnings.filterwarnings(\"ignore\")\n",
        "\n",
        "# Defino la cantidad de clases\n",
        "CANTIDAD_CLASES = 4\n",
        "\n",
        "# Cargo el dataset\n",
        "df_train, df_test = cargar_dataset('https://raw.githubusercontent.com/jumafernandez/clasificacion_correos/main/data/consolidado_jcc/', 'correos-train-80.csv', 'correos-test-20.csv', 'clase', get_clases(), CANTIDAD_CLASES, \"Otras Consultas\", 'COLAB')\n",
        "\n",
        "# Separo en train y test\n",
        "x_train, y_train = df_x_y_rn(df_train, 'Consulta', 'clase')\n",
        "x_test, y_test = df_x_y_rn(df_test, 'Consulta', 'clase')"
      ],
      "execution_count": 5,
      "outputs": [
        {
          "output_type": "stream",
          "text": [
            "El conjunto de entrenamiento tiene la dimensión: (800, 24)\n",
            "El conjunto de testeo tiene la dimensión: (200, 24)\n"
          ],
          "name": "stdout"
        }
      ]
    },
    {
      "cell_type": "markdown",
      "metadata": {
        "id": "APRnQBXZ8h5h"
      },
      "source": [
        "## Preprocesamiento (codificación del texto a vectores numéricos)"
      ]
    },
    {
      "cell_type": "code",
      "metadata": {
        "id": "ty8fWijE8h5h"
      },
      "source": [
        "# Largo máximo de las consultas\n",
        "max_length = get_max_length(x_train)\n",
        "\n",
        "# Preproceso las secuencias de texto\n",
        "x_train_processed, y_train_processed = preprocess(x_train, y_train, max_length)\n",
        "x_test_processed, y_test_processed = preprocess(x_test, y_test, max_length)"
      ],
      "execution_count": 6,
      "outputs": []
    },
    {
      "cell_type": "markdown",
      "metadata": {
        "id": "x3S6lvYe8h5i"
      },
      "source": [
        "## Construcción del Modelo"
      ]
    },
    {
      "cell_type": "code",
      "metadata": {
        "id": "ETidgFM48h5i"
      },
      "source": [
        "# LSTM model\n",
        "model = Sequential()\n",
        "model.add(LSTM(32))\n",
        "model.add(Dense(CANTIDAD_CLASES, activation='softmax'))\n",
        "\n",
        "model.compile(loss='categorical_crossentropy',\n",
        "              optimizer='adam',\n",
        "              metrics=['accuracy'])"
      ],
      "execution_count": 7,
      "outputs": []
    },
    {
      "cell_type": "markdown",
      "metadata": {
        "id": "2IcqosK98h5j"
      },
      "source": [
        "### Entrenamiento del modelo"
      ]
    },
    {
      "cell_type": "code",
      "metadata": {
        "id": "2nRmzS8w8h5j",
        "colab": {
          "base_uri": "https://localhost:8080/"
        },
        "outputId": "abfd2875-6348-42ac-d813-361f6756ffc2"
      },
      "source": [
        "print('Train...')\n",
        "model.fit(x_train_processed, y_train_processed, epochs=20)"
      ],
      "execution_count": 8,
      "outputs": [
        {
          "output_type": "stream",
          "text": [
            "Train...\n",
            "Epoch 1/20\n",
            "25/25 [==============================] - 3s 35ms/step - loss: 1.3661 - accuracy: 0.3290\n",
            "Epoch 2/20\n",
            "25/25 [==============================] - 1s 35ms/step - loss: 1.3065 - accuracy: 0.4022\n",
            "Epoch 3/20\n",
            "25/25 [==============================] - 1s 34ms/step - loss: 1.2121 - accuracy: 0.4638\n",
            "Epoch 4/20\n",
            "25/25 [==============================] - 1s 34ms/step - loss: 1.0670 - accuracy: 0.5373\n",
            "Epoch 5/20\n",
            "25/25 [==============================] - 1s 35ms/step - loss: 1.0618 - accuracy: 0.5770\n",
            "Epoch 6/20\n",
            "25/25 [==============================] - 1s 35ms/step - loss: 0.9635 - accuracy: 0.6127\n",
            "Epoch 7/20\n",
            "25/25 [==============================] - 1s 34ms/step - loss: 0.8663 - accuracy: 0.6896\n",
            "Epoch 8/20\n",
            "25/25 [==============================] - 1s 34ms/step - loss: 0.8575 - accuracy: 0.6815\n",
            "Epoch 9/20\n",
            "25/25 [==============================] - 1s 33ms/step - loss: 0.8382 - accuracy: 0.6549\n",
            "Epoch 10/20\n",
            "25/25 [==============================] - 1s 34ms/step - loss: 0.7540 - accuracy: 0.7150\n",
            "Epoch 11/20\n",
            "25/25 [==============================] - 1s 34ms/step - loss: 0.9340 - accuracy: 0.6270\n",
            "Epoch 12/20\n",
            "25/25 [==============================] - 1s 34ms/step - loss: 0.8789 - accuracy: 0.6492\n",
            "Epoch 13/20\n",
            "25/25 [==============================] - 1s 33ms/step - loss: 0.7709 - accuracy: 0.6960\n",
            "Epoch 14/20\n",
            "25/25 [==============================] - 1s 34ms/step - loss: 0.7323 - accuracy: 0.7047\n",
            "Epoch 15/20\n",
            "25/25 [==============================] - 1s 34ms/step - loss: 0.7776 - accuracy: 0.6703\n",
            "Epoch 16/20\n",
            "25/25 [==============================] - 1s 35ms/step - loss: 0.6897 - accuracy: 0.7429\n",
            "Epoch 17/20\n",
            "25/25 [==============================] - 1s 35ms/step - loss: 0.6391 - accuracy: 0.7488\n",
            "Epoch 18/20\n",
            "25/25 [==============================] - 1s 34ms/step - loss: 0.6699 - accuracy: 0.7233\n",
            "Epoch 19/20\n",
            "25/25 [==============================] - 1s 34ms/step - loss: 0.7584 - accuracy: 0.7214\n",
            "Epoch 20/20\n",
            "25/25 [==============================] - 1s 34ms/step - loss: 0.6570 - accuracy: 0.7620\n"
          ],
          "name": "stdout"
        },
        {
          "output_type": "execute_result",
          "data": {
            "text/plain": [
              "<tensorflow.python.keras.callbacks.History at 0x7faf9a964050>"
            ]
          },
          "metadata": {
            "tags": []
          },
          "execution_count": 8
        }
      ]
    },
    {
      "cell_type": "code",
      "metadata": {
        "id": "_1z-AzYl8h5j",
        "colab": {
          "base_uri": "https://localhost:8080/"
        },
        "outputId": "d79b6a0f-6e01-4c59-dadd-16f7bedca274"
      },
      "source": [
        "model.summary()"
      ],
      "execution_count": 9,
      "outputs": [
        {
          "output_type": "stream",
          "text": [
            "Model: \"sequential\"\n",
            "_________________________________________________________________\n",
            "Layer (type)                 Output Shape              Param #   \n",
            "=================================================================\n",
            "lstm (LSTM)                  (32, 32)                  42624     \n",
            "_________________________________________________________________\n",
            "dense (Dense)                (32, 4)                   132       \n",
            "=================================================================\n",
            "Total params: 42,756\n",
            "Trainable params: 42,756\n",
            "Non-trainable params: 0\n",
            "_________________________________________________________________\n"
          ],
          "name": "stdout"
        }
      ]
    },
    {
      "cell_type": "markdown",
      "metadata": {
        "id": "IpAesm--8h5k"
      },
      "source": [
        "### Testeo del Modelo"
      ]
    },
    {
      "cell_type": "code",
      "metadata": {
        "id": "gmNeuOIp8h5k",
        "colab": {
          "base_uri": "https://localhost:8080/"
        },
        "outputId": "abb698ec-4b43-418a-deaf-179dbb030b46"
      },
      "source": [
        "score, acc = model.evaluate(x_test_processed, y_test_processed, verbose=2)\n",
        "print('Test score:', score)\n",
        "print('Test accuracy:', acc)"
      ],
      "execution_count": 10,
      "outputs": [
        {
          "output_type": "stream",
          "text": [
            "7/7 - 1s - loss: 0.7358 - accuracy: 0.7250\n",
            "Test score: 0.7358402013778687\n",
            "Test accuracy: 0.7250000238418579\n"
          ],
          "name": "stdout"
        }
      ]
    }
  ]
}