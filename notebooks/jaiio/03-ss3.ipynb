{
  "nbformat": 4,
  "nbformat_minor": 0,
  "metadata": {
    "colab": {
      "name": "03-ss3.ipynb",
      "provenance": [],
      "include_colab_link": true
    },
    "kernelspec": {
      "name": "python3",
      "display_name": "Python 3"
    }
  },
  "cells": [
    {
      "cell_type": "markdown",
      "metadata": {
        "id": "view-in-github",
        "colab_type": "text"
      },
      "source": [
        "<a href=\"https://colab.research.google.com/github/jumafernandez/clasificacion_correos/blob/main/notebooks/jaiio/03-ss3.ipynb\" target=\"_parent\"><img src=\"https://colab.research.google.com/assets/colab-badge.svg\" alt=\"Open In Colab\"/></a>"
      ]
    },
    {
      "cell_type": "markdown",
      "metadata": {
        "id": "5DuUrVBgeUso"
      },
      "source": [
        "# Trabajo 50 JAIIO: SS3\n",
        "__Título:__ Etiquetado semi-supervisado multiclase de correos electrónicos a partir de estrategias de extracción de características y _Elasticsearch_\n",
        "\n",
        "__Autores:__ Juan Manuel Fernandez, Marcelo Errecalde\n",
        "\n",
        "\n",
        "En esta notebook se presentan los experimentos sobre _feature extraction_ con SS3 para las 50 JAIIO."
      ]
    },
    {
      "cell_type": "markdown",
      "metadata": {
        "id": "FBLanwDJVnFF"
      },
      "source": [
        "## Instalación y Carga de librerías y funciones útiles\n",
        "\n",
        "### Instalación de librerías\n",
        "\n",
        "Se instalan las librerías que no están en el entorno de Google Colab"
      ]
    },
    {
      "cell_type": "code",
      "metadata": {
        "colab": {
          "base_uri": "https://localhost:8080/"
        },
        "id": "644uDER_VnXj",
        "outputId": "1111ce6c-55d5-4f51-d305-a1b502b945d4"
      },
      "source": [
        "!pip install requests\n",
        "!pip install wget"
      ],
      "execution_count": 1,
      "outputs": [
        {
          "output_type": "stream",
          "text": [
            "Requirement already satisfied: requests in /usr/local/lib/python3.7/dist-packages (2.23.0)\n",
            "Requirement already satisfied: urllib3!=1.25.0,!=1.25.1,<1.26,>=1.21.1 in /usr/local/lib/python3.7/dist-packages (from requests) (1.24.3)\n",
            "Requirement already satisfied: chardet<4,>=3.0.2 in /usr/local/lib/python3.7/dist-packages (from requests) (3.0.4)\n",
            "Requirement already satisfied: certifi>=2017.4.17 in /usr/local/lib/python3.7/dist-packages (from requests) (2021.5.30)\n",
            "Requirement already satisfied: idna<3,>=2.5 in /usr/local/lib/python3.7/dist-packages (from requests) (2.10)\n",
            "Collecting wget\n",
            "  Downloading https://files.pythonhosted.org/packages/47/6a/62e288da7bcda82b935ff0c6cfe542970f04e29c756b0e147251b2fb251f/wget-3.2.zip\n",
            "Building wheels for collected packages: wget\n",
            "  Building wheel for wget (setup.py) ... \u001b[?25l\u001b[?25hdone\n",
            "  Created wheel for wget: filename=wget-3.2-cp37-none-any.whl size=9675 sha256=858c23976c55bdbe78a71d3b5d9f523b95b90185cbde9b3674549ba1a028900f\n",
            "  Stored in directory: /root/.cache/pip/wheels/40/15/30/7d8f7cea2902b4db79e3fea550d7d7b85ecb27ef992b618f3f\n",
            "Successfully built wget\n",
            "Installing collected packages: wget\n",
            "Successfully installed wget-3.2\n"
          ],
          "name": "stdout"
        }
      ]
    },
    {
      "cell_type": "markdown",
      "metadata": {
        "id": "43fDuhK2V1kx"
      },
      "source": [
        "### Funciones útiles\n",
        "\n",
        "Se cargan funciones útiles desde el repo https://github.com/jumafernandez/clasificacion_correos para la carga y balanceo del dataset."
      ]
    },
    {
      "cell_type": "code",
      "metadata": {
        "id": "oQvZz035bSMf"
      },
      "source": [
        "import requests\n",
        "\n",
        "# Se hace el request del raw del script python\n",
        "url = 'https://raw.githubusercontent.com/jumafernandez/clasificacion_correos/main/scripts/funciones_dataset.py'\n",
        "r = requests.get(url)\n",
        "\n",
        "# Se guarda en el working directory\n",
        "with open('funciones_dataset.py', 'w') as f:\n",
        "    f.write(r.text)\n",
        "\n",
        "# Se importan las funciones a utilizar\n",
        "from funciones_dataset import get_clases, cargar_dataset"
      ],
      "execution_count": 2,
      "outputs": []
    },
    {
      "cell_type": "markdown",
      "metadata": {
        "id": "MDxjaGIfV-rT"
      },
      "source": [
        "También se carga la función para preprocesar el texto que se usó en los otros modelos desde el repo: https://github.com/jumafernandez/clasificacion_correos."
      ]
    },
    {
      "cell_type": "code",
      "metadata": {
        "id": "o0o2NndLWDVC"
      },
      "source": [
        "import requests\n",
        "\n",
        "# Se hace el request del raw del script python\n",
        "url = 'https://raw.githubusercontent.com/jumafernandez/clasificacion_correos/main/scripts/funciones_preprocesamiento.py'\n",
        "r = requests.get(url)\n",
        "\n",
        "# Se guarda en el working directory\n",
        "with open('funciones_preprocesamiento.py', 'w') as f:\n",
        "    f.write(r.text)\n",
        "\n",
        "# Se importan las funciones a utilizar\n",
        "from funciones_preprocesamiento import preprocesar_correos"
      ],
      "execution_count": 3,
      "outputs": []
    },
    {
      "cell_type": "markdown",
      "metadata": {
        "id": "-uv6R5UQWWmE"
      },
      "source": [
        "## Carga de datos\n",
        "\n",
        "Se carga el dataframe en memoria con el preprocesamiento de los datos:"
      ]
    },
    {
      "cell_type": "code",
      "metadata": {
        "colab": {
          "base_uri": "https://localhost:8080/"
        },
        "id": "MP4lJ_KVvBSO",
        "outputId": "ffdb38c6-506e-4bac-fd69-730cd626bc40"
      },
      "source": [
        "import warnings\n",
        "from os import path\n",
        "warnings.filterwarnings(\"ignore\")\n",
        "\n",
        "# Constantes con los datos\n",
        "DS_DIR = 'https://raw.githubusercontent.com/jumafernandez/clasificacion_correos/main/data/50jaiio/consolidados/'\n",
        "TRAIN_FILE = 'correos-train-jaiio-80.csv'\n",
        "TEST_FILE = 'correos-test-jaiio-20.csv'\n",
        "\n",
        "# Chequeo sobre si los archivos están en el working directory\n",
        "download_files = not(path.exists(TRAIN_FILE))\n",
        "\n",
        "etiquetas = get_clases()\n",
        "\n",
        "# Defino la cantidad de clases a utilizar\n",
        "CANTIDAD_CLASES = len(etiquetas)\n",
        "\n",
        "train_df, test_df, etiquetas = cargar_dataset(DS_DIR, TRAIN_FILE, TEST_FILE, download_files, 'clase', etiquetas, CANTIDAD_CLASES, 'Otras Consultas')\n",
        "\n",
        "# Se ejecuta el preprocesamiento de correos sobre el campo Consulta de train y test\n",
        "import pandas as pd\n",
        "train_df['consulta'] = pd.Series(preprocesar_correos(train_df['consulta']))\n",
        "test_df['consulta'] = pd.Series(preprocesar_correos(test_df['consulta']))\n",
        "\n",
        "# Muestro salida por consola\n",
        "print('Existen {} clases: {}.'.format(len(train_df.clase.unique()), train_df.clase.unique()))"
      ],
      "execution_count": 4,
      "outputs": [
        {
          "output_type": "stream",
          "text": [
            "Se inicia descarga de los datasets.\n",
            "\n",
            "El conjunto de entrenamiento tiene la dimensión: (800, 24)\n",
            "El conjunto de testeo tiene la dimensión: (200, 24)\n",
            "Existen 16 clases: ['Boleto Universitario' 'Problemas con la Clave' 'Cursadas'\n",
            " 'Cambio de Carrera' 'Ingreso a la Universidad' 'Requisitos de Ingreso'\n",
            " 'Reincorporación' 'Pedido de Certificados' 'Situación Académica'\n",
            " 'Exámenes' 'Cambio de Comisión' 'Consulta por Legajo'\n",
            " 'Consulta sobre Título Universitario' 'Datos Personales'\n",
            " 'Consulta por Equivalencias' 'Simultaneidad de Carreras'].\n"
          ],
          "name": "stdout"
        }
      ]
    },
    {
      "cell_type": "markdown",
      "metadata": {
        "id": "3xH7wyPTIVeQ"
      },
      "source": [
        "## Clasificador SS3\n",
        "\n",
        "Se instala la librería:"
      ]
    },
    {
      "cell_type": "code",
      "metadata": {
        "colab": {
          "base_uri": "https://localhost:8080/"
        },
        "id": "LBCEX0d6IZef",
        "outputId": "246d0685-fee2-4294-93de-b2c6ef3742f4"
      },
      "source": [
        "!pip install pyss3"
      ],
      "execution_count": 5,
      "outputs": [
        {
          "output_type": "stream",
          "text": [
            "Collecting pyss3\n",
            "\u001b[?25l  Downloading https://files.pythonhosted.org/packages/df/8c/2690d55d72e4ac395eb6f19f0142c0d83a47fbd789beb93236de3d23eec3/pyss3-0.6.4-py3-none-any.whl (2.0MB)\n",
            "\u001b[K     |████████████████████████████████| 2.0MB 4.0MB/s \n",
            "\u001b[?25hRequirement already satisfied: cython in /usr/local/lib/python3.7/dist-packages (from pyss3) (0.29.23)\n",
            "Requirement already satisfied: tqdm>=4.8.4 in /usr/local/lib/python3.7/dist-packages (from pyss3) (4.41.1)\n",
            "Requirement already satisfied: six in /usr/local/lib/python3.7/dist-packages (from pyss3) (1.15.0)\n",
            "Requirement already satisfied: scikit-learn[alldeps]>=0.20 in /usr/local/lib/python3.7/dist-packages (from pyss3) (0.22.2.post1)\n",
            "Collecting iterative-stratification\n",
            "  Downloading https://files.pythonhosted.org/packages/9d/79/9ba64c8c07b07b8b45d80725b2ebd7b7884701c1da34f70d4749f7b45f9a/iterative_stratification-0.1.6-py3-none-any.whl\n",
            "Requirement already satisfied: matplotlib in /usr/local/lib/python3.7/dist-packages (from pyss3) (3.2.2)\n",
            "Requirement already satisfied: scipy>=0.17.0 in /usr/local/lib/python3.7/dist-packages (from scikit-learn[alldeps]>=0.20->pyss3) (1.4.1)\n",
            "Requirement already satisfied: numpy>=1.11.0 in /usr/local/lib/python3.7/dist-packages (from scikit-learn[alldeps]>=0.20->pyss3) (1.19.5)\n",
            "Requirement already satisfied: joblib>=0.11 in /usr/local/lib/python3.7/dist-packages (from scikit-learn[alldeps]>=0.20->pyss3) (1.0.1)\n",
            "Requirement already satisfied: pyparsing!=2.0.4,!=2.1.2,!=2.1.6,>=2.0.1 in /usr/local/lib/python3.7/dist-packages (from matplotlib->pyss3) (2.4.7)\n",
            "Requirement already satisfied: kiwisolver>=1.0.1 in /usr/local/lib/python3.7/dist-packages (from matplotlib->pyss3) (1.3.1)\n",
            "Requirement already satisfied: python-dateutil>=2.1 in /usr/local/lib/python3.7/dist-packages (from matplotlib->pyss3) (2.8.1)\n",
            "Requirement already satisfied: cycler>=0.10 in /usr/local/lib/python3.7/dist-packages (from matplotlib->pyss3) (0.10.0)\n",
            "Installing collected packages: iterative-stratification, pyss3\n",
            "Successfully installed iterative-stratification-0.1.6 pyss3-0.6.4\n"
          ],
          "name": "stdout"
        }
      ]
    },
    {
      "cell_type": "markdown",
      "metadata": {
        "id": "17obw6uxVN21"
      },
      "source": [
        "### Entrenamiento del modelo\n",
        "\n",
        "Se instancia la técnica de __SS3__ y se ajustan los hiperparámetros:"
      ]
    },
    {
      "cell_type": "code",
      "metadata": {
        "id": "lFSOquuAYGPK",
        "colab": {
          "base_uri": "https://localhost:8080/"
        },
        "outputId": "47d0ad18-f9f1-40e5-adc4-decc4f2ea03f"
      },
      "source": [
        "from sklearn.preprocessing import MinMaxScaler\n",
        "from pyss3 import SS3\n",
        "from pyss3.util import Evaluation, span\n",
        "from pyss3.server import Live_Test\n",
        "\n",
        "clf = SS3()\n",
        "\n",
        "clf.train(train_df['consulta'], train_df['clase'], prep=False)\n",
        "\n",
        "best_s, best_l, best_p, best_a = Evaluation.grid_search(\n",
        "  clf, test_df['consulta'], test_df['clase'],\n",
        "  s=span(0.2, 0.8, 6),\n",
        "  l=span(0.1, 2, 6),\n",
        "  p=span(0.5, 2, 6),\n",
        "  a=[0, .1, .2],\n",
        "  prep=False,  # <- do not forget to disable default preprocessing\n",
        "  tag=\"grid search (test)\"\n",
        ")\n",
        "\n",
        "print(\"Smoothness(s):\", best_s)\n",
        "print(\"Significance(l):\", best_l)\n",
        "print(\"Sanction(p):\", best_p)\n",
        "print(\"Alpha(a):\", best_a)\n",
        "\n",
        "Evaluation.plot()"
      ],
      "execution_count": 6,
      "outputs": [
        {
          "output_type": "stream",
          "text": [
            "Training on 'Situación Académica': 100%|██████████| 16/16 [00:00<00:00, 136.00it/s]\n",
            "Grid search: 100%|██████████| 648/648 [01:31<00:00,  7.07it/s]\n"
          ],
          "name": "stderr"
        },
        {
          "output_type": "stream",
          "text": [
            "Smoothness(s): 0.56\n",
            "Significance(l): 1.62\n",
            "Sanction(p): 0.5\n",
            "Alpha(a): 0.0\n"
          ],
          "name": "stdout"
        },
        {
          "output_type": "execute_result",
          "data": {
            "text/plain": [
              "True"
            ]
          },
          "metadata": {
            "tags": []
          },
          "execution_count": 6
        }
      ]
    },
    {
      "cell_type": "markdown",
      "metadata": {
        "id": "xpUYOK72Rcrj"
      },
      "source": [
        "### Exploración del Modelo\n",
        "\n",
        "Se genera el modelo en base a los mejores hiperparámetros encontrados:"
      ]
    },
    {
      "cell_type": "code",
      "metadata": {
        "colab": {
          "base_uri": "https://localhost:8080/"
        },
        "id": "Yv8nvu_SWMgL",
        "outputId": "c2f8a7d7-4b0c-4a3d-a4bc-36426851a3a1"
      },
      "source": [
        "from sklearn.metrics import accuracy_score\n",
        "\n",
        "clf.set_hyperparameters(s=0.56, l=1.62, p=0.5, a=0.0)\n",
        "y_pred = clf.predict(test_df['consulta'], prep=False)\n",
        "\n",
        "accuracy = accuracy_score(y_pred, test_df['clase'])\n",
        "print(\"\\nAccuracy was:\", accuracy)"
      ],
      "execution_count": 12,
      "outputs": [
        {
          "output_type": "stream",
          "text": [
            "Classification: 100%|██████████| 200/200 [00:00<00:00, 36679.53it/s]"
          ],
          "name": "stderr"
        },
        {
          "output_type": "stream",
          "text": [
            "\n",
            "Accuracy was: 0.79\n"
          ],
          "name": "stdout"
        },
        {
          "output_type": "stream",
          "text": [
            "\n"
          ],
          "name": "stderr"
        }
      ]
    },
    {
      "cell_type": "code",
      "metadata": {
        "colab": {
          "base_uri": "https://localhost:8080/"
        },
        "id": "qUTRwzP7j8In",
        "outputId": "42995069-0d3a-4040-9325-66c44d409d9b"
      },
      "source": [
        "clf.print_categories_info()"
      ],
      "execution_count": 13,
      "outputs": [
        {
          "output_type": "stream",
          "text": [
            "\n",
            "\n",
            " \u001b[92m\u001b[4m\u001b[1mCATEGORIES\u001b[0m\u001b[0m\u001b[0m:\n",
            "\n",
            "\u001b[93m\t             Category               \u001b[0m| Index |   Length   | Vocab. Size | Word Max. Fr. | N-gram |\n",
            "\t------------------------------------|-------|------------|-------------|---------------|--------|\n",
            "\u001b[93m\t       Boleto Universitario         \u001b[0m|   0   |    3529    |     815     |      163      |   1    |\n",
            "\u001b[93m\t         Cambio de Carrera          \u001b[0m|   1   |    195     |     126     |      12       |   1    |\n",
            "\u001b[93m\t        Cambio de Comisión          \u001b[0m|   2   |    121     |     76      |       6       |   1    |\n",
            "\u001b[93m\t    Consulta por Equivalencias      \u001b[0m|   3   |    190     |     120     |      10       |   1    |\n",
            "\u001b[93m\t        Consulta por Legajo         \u001b[0m|   4   |    191     |     110     |      16       |   1    |\n",
            "\u001b[93m\tConsulta sobre Título Universitario \u001b[0m|   5   |    240     |     148     |      15       |   1    |\n",
            "\u001b[93m\t             Cursadas               \u001b[0m|   6   |    1050    |     421     |      36       |   1    |\n",
            "\u001b[93m\t         Datos Personales           \u001b[0m|   7   |     96     |     83      |       4       |   1    |\n",
            "\u001b[93m\t             Exámenes               \u001b[0m|   8   |    262     |     160     |      15       |   1    |\n",
            "\u001b[93m\t     Ingreso a la Universidad       \u001b[0m|   9   |    1935    |     577     |      68       |   1    |\n",
            "\u001b[93m\t      Pedido de Certificados        \u001b[0m|  10   |    822     |     342     |      41       |   1    |\n",
            "\u001b[93m\t      Problemas con la Clave        \u001b[0m|  11   |    1121    |     365     |      59       |   1    |\n",
            "\u001b[93m\t          Reincorporación           \u001b[0m|  12   |    671     |     305     |      19       |   1    |\n",
            "\u001b[93m\t       Requisitos de Ingreso        \u001b[0m|  13   |    1591    |     453     |      50       |   1    |\n",
            "\u001b[93m\t     Simultaneidad de Carreras      \u001b[0m|  14   |    128     |     91      |       6       |   1    |\n",
            "\u001b[93m\t        Situación Académica         \u001b[0m|  15   |    418     |     226     |      13       |   1    |\n",
            "\n",
            "\t\u001b[4m\u001b[1mMost Probable Category\u001b[0m\u001b[0m: \u001b[93mBoleto Universitario\u001b[0m \u001b[94m(28.10%)\u001b[0m\n",
            "\n"
          ],
          "name": "stdout"
        }
      ]
    },
    {
      "cell_type": "code",
      "metadata": {
        "colab": {
          "base_uri": "https://localhost:8080/"
        },
        "id": "30fjKA-DkadC",
        "outputId": "cf24bf78-739e-480d-c774-257ee72c49d5"
      },
      "source": [
        "clf.print_ngram_info('cambio')"
      ],
      "execution_count": 14,
      "outputs": [
        {
          "output_type": "stream",
          "text": [
            "\n",
            " \u001b[92mWORD\u001b[0m: \u001b[93mcambio\u001b[0m (index: 579)\n",
            "\n",
            "\u001b[1m Category                            |    fr    |  lv   |  sg   |  sn   |  gv   |  cv   |\u001b[0m\n",
            " ------------------------------------|----------|-------|-------|-------|-------|-------|\n",
            " \u001b[93mBoleto Universit                   \u001b[0m |    1     | 0.000 | 0.002 | 0.537 | 0.000 | 0.000 |\n",
            " \u001b[93mCambio de Carrer                   \u001b[0m |    5     | 0.612 | 1.000 | 0.681 | 0.417 | 0.705 |\n",
            " \u001b[93mCambio de Comisi                   \u001b[0m |    2     | 0.541 | 1.000 | 0.681 | 0.368 | 0.530 |\n",
            " \u001b[93mConsulta por Equ                   \u001b[0m |    0     | 0.000 | 0.000 | 0.536 | 0.000 | 0.000 |\n",
            " \u001b[93mConsulta por Leg                   \u001b[0m |    1     | 0.000 | 0.002 | 0.537 | 0.000 | 0.000 |\n",
            " \u001b[93mConsulta sobre T                   \u001b[0m |    0     | 0.000 | 0.000 | 0.536 | 0.000 | 0.000 |\n",
            " \u001b[93mCursadas                           \u001b[0m |    0     | 0.000 | 0.000 | 0.536 | 0.000 | 0.000 |\n",
            " \u001b[93mDatos Personales                   \u001b[0m |    1     | 0.000 | 0.002 | 0.537 | 0.000 | 0.000 |\n",
            " \u001b[93mExámenes                           \u001b[0m |    0     | 0.000 | 0.000 | 0.536 | 0.000 | 0.000 |\n",
            " \u001b[93mIngreso a la Uni                   \u001b[0m |    0     | 0.000 | 0.000 | 0.536 | 0.000 | 0.000 |\n",
            " \u001b[93mPedido de Certif                   \u001b[0m |    0     | 0.000 | 0.000 | 0.536 | 0.000 | 0.000 |\n",
            " \u001b[93mProblemas con la                   \u001b[0m |    1     | 0.000 | 0.002 | 0.537 | 0.000 | 0.000 |\n",
            " \u001b[93mReincorporación                    \u001b[0m |    0     | 0.000 | 0.000 | 0.536 | 0.000 | 0.000 |\n",
            " \u001b[93mRequisitos de In                   \u001b[0m |    0     | 0.000 | 0.000 | 0.536 | 0.000 | 0.000 |\n",
            " \u001b[93mSimultaneidad de                   \u001b[0m |    0     | 0.000 | 0.000 | 0.536 | 0.000 | 0.000 |\n",
            " \u001b[93mSituación Académ                   \u001b[0m |    0     | 0.000 | 0.000 | 0.536 | 0.000 | 0.000 |\n",
            "\n"
          ],
          "name": "stdout"
        }
      ]
    },
    {
      "cell_type": "code",
      "metadata": {
        "colab": {
          "base_uri": "https://localhost:8080/"
        },
        "id": "o5ND7M0pmHdu",
        "outputId": "f5dc2eb1-40e1-4d5c-c088-48dbbaabf027"
      },
      "source": [
        "clf.gv('boleto', 'Boleto Universitario')"
      ],
      "execution_count": 15,
      "outputs": [
        {
          "output_type": "execute_result",
          "data": {
            "text/plain": [
              "1.0"
            ]
          },
          "metadata": {
            "tags": []
          },
          "execution_count": 15
        }
      ]
    },
    {
      "cell_type": "code",
      "metadata": {
        "id": "T0M4maOxmV1Y",
        "colab": {
          "base_uri": "https://localhost:8080/",
          "height": 621
        },
        "outputId": "7b694bc6-157a-4d8e-a8d4-40dc4da59b06"
      },
      "source": [
        "clf.plot_value_distribution('Cambio de Carrera')"
      ],
      "execution_count": 16,
      "outputs": [
        {
          "output_type": "display_data",
          "data": {
            "image/png": "[encoded data removed]",
            "text/plain": [
              "<Figure size 1440x720 with 1 Axes>"
            ]
          },
          "metadata": {
            "tags": [],
            "needs_background": "light"
          }
        }
      ]
    },
    {
      "cell_type": "markdown",
      "metadata": {
        "id": "D9wszzpWh1cM"
      },
      "source": [
        "### Test Live\n",
        "\n",
        "Se verifica el __Test Live__:"
      ]
    },
    {
      "cell_type": "code",
      "metadata": {
        "id": "EA8wwWeNh9wG",
        "outputId": "d336ddf7-a328-4d51-e62a-faf5a1d479fb",
        "colab": {
          "base_uri": "https://localhost:8080/"
        }
      },
      "source": [
        "Live_Test.run(clf, test_df['consulta'], test_df['clase'])"
      ],
      "execution_count": null,
      "outputs": [
        {
          "output_type": "stream",
          "text": [
            "\n"
          ],
          "name": "stdout"
        }
      ]
    },
    {
      "cell_type": "markdown",
      "metadata": {
        "id": "gKONO1hyr4kd"
      },
      "source": [
        "### Extracción de _Features_\n",
        "\n",
        "Se extraen y guardan los términos más representativos por clase.\n",
        "\n",
        "En primer lugar se genera la carpeta donde se guardan los txt con los términos por clase:"
      ]
    },
    {
      "cell_type": "code",
      "metadata": {
        "id": "nCaDxztCsZZq"
      },
      "source": [
        "!mkdir txts_ss3"
      ],
      "execution_count": 17,
      "outputs": []
    },
    {
      "cell_type": "markdown",
      "metadata": {
        "id": "voO7f1DWsbN3"
      },
      "source": [
        "Se genera el vocabulario en txt por cada clase y se guarda en la carpeta __txts_ss3__:"
      ]
    },
    {
      "cell_type": "code",
      "metadata": {
        "id": "AApv677ds9LC",
        "colab": {
          "base_uri": "https://localhost:8080/"
        },
        "outputId": "c3f703fd-cdb4-429d-81b8-6793bfb80dbd"
      },
      "source": [
        "for cat in clf.get_categories():\n",
        "  print(f'Se genera el txt de la clase {cat}.')\n",
        "  clf.save_cat_vocab(cat, path='./txts_ss3', n_grams=- 1)"
      ],
      "execution_count": 18,
      "outputs": [
        {
          "output_type": "stream",
          "text": [
            "Se genera el txt de la clase Boleto Universitario.\n",
            "Se genera el txt de la clase Cambio de Carrera.\n",
            "Se genera el txt de la clase Cambio de Comisión.\n",
            "Se genera el txt de la clase Consulta por Equivalencias.\n",
            "Se genera el txt de la clase Consulta por Legajo.\n",
            "Se genera el txt de la clase Consulta sobre Título Universitario.\n",
            "Se genera el txt de la clase Cursadas.\n",
            "Se genera el txt de la clase Datos Personales.\n",
            "Se genera el txt de la clase Exámenes.\n",
            "Se genera el txt de la clase Ingreso a la Universidad.\n",
            "Se genera el txt de la clase Pedido de Certificados.\n",
            "Se genera el txt de la clase Problemas con la Clave.\n",
            "Se genera el txt de la clase Reincorporación.\n",
            "Se genera el txt de la clase Requisitos de Ingreso.\n",
            "Se genera el txt de la clase Simultaneidad de Carreras.\n",
            "Se genera el txt de la clase Situación Académica.\n"
          ],
          "name": "stdout"
        }
      ]
    },
    {
      "cell_type": "markdown",
      "metadata": {
        "id": "5ESGQs_YtlSH"
      },
      "source": [
        "Por último se genera el zip con todos los txt y se guarda en Drive:"
      ]
    },
    {
      "cell_type": "code",
      "metadata": {
        "id": "rq7yHdDntqDv",
        "colab": {
          "base_uri": "https://localhost:8080/"
        },
        "outputId": "649aeded-d6c7-41bc-a25c-faba40919903"
      },
      "source": [
        "import shutil\n",
        "shutil.make_archive('txts_ss3', 'zip', 'txts_ss3')\n",
        "\n",
        "ENTORNO='Colab'\n",
        "if ENTORNO=='Colab':\n",
        "  from google.colab import drive\n",
        "  drive.mount('drive')\n",
        "  !cp txts_ss3.zip \"drive/My Drive/\""
      ],
      "execution_count": 19,
      "outputs": [
        {
          "output_type": "stream",
          "text": [
            "Mounted at drive\n"
          ],
          "name": "stdout"
        }
      ]
    },
    {
      "cell_type": "markdown",
      "metadata": {
        "id": "0a1K2447qjxE"
      },
      "source": [
        "# Referencias\n",
        "- https://pyss3.readthedocs.io/en/latest/"
      ]
    }
  ]
}