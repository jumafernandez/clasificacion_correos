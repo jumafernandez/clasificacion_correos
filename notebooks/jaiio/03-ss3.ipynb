{
  "nbformat": 4,
  "nbformat_minor": 0,
  "metadata": {
    "colab": {
      "name": "03-ss3.ipynb",
      "provenance": [],
      "toc_visible": true,
      "include_colab_link": true
    },
    "kernelspec": {
      "name": "python3",
      "display_name": "Python 3"
    }
  },
  "cells": [
    {
      "cell_type": "markdown",
      "metadata": {
        "id": "view-in-github",
        "colab_type": "text"
      },
      "source": [
        "<a href=\"https://colab.research.google.com/github/jumafernandez/clasificacion_correos/blob/main/notebooks/jaiio/03-ss3.ipynb\" target=\"_parent\"><img src=\"https://colab.research.google.com/assets/colab-badge.svg\" alt=\"Open In Colab\"/></a>"
      ]
    },
    {
      "cell_type": "markdown",
      "metadata": {
        "id": "5DuUrVBgeUso"
      },
      "source": [
        "# Trabajo 50 JAIIO: SS3\n",
        "__Título:__ Etiquetado semi-supervisado multiclase de correos electrónicos a partir de estrategias de extracción de características y _Elasticsearch_\n",
        "\n",
        "__Autores:__ Juan Manuel Fernandez, Marcelo Errecalde\n",
        "\n",
        "\n",
        "En esta notebook se presentan los experimentos sobre _feature extraction_ con SS3 para las 50 JAIIO."
      ]
    },
    {
      "cell_type": "markdown",
      "metadata": {
        "id": "FBLanwDJVnFF"
      },
      "source": [
        "## Instalación y Carga de librerías y funciones útiles\n",
        "\n",
        "### Instalación de librerías\n",
        "\n",
        "Se instalan las librerías que no están en el entorno de Google Colab"
      ]
    },
    {
      "cell_type": "code",
      "metadata": {
        "colab": {
          "base_uri": "https://localhost:8080/"
        },
        "id": "644uDER_VnXj",
        "outputId": "a94ce775-d67f-4942-9a79-95e47474de48"
      },
      "source": [
        "!pip install requests\n",
        "!pip install wget"
      ],
      "execution_count": 2,
      "outputs": [
        {
          "output_type": "stream",
          "text": [
            "Requirement already satisfied: requests in /usr/local/lib/python3.7/dist-packages (2.23.0)\n",
            "Requirement already satisfied: chardet<4,>=3.0.2 in /usr/local/lib/python3.7/dist-packages (from requests) (3.0.4)\n",
            "Requirement already satisfied: idna<3,>=2.5 in /usr/local/lib/python3.7/dist-packages (from requests) (2.10)\n",
            "Requirement already satisfied: certifi>=2017.4.17 in /usr/local/lib/python3.7/dist-packages (from requests) (2020.12.5)\n",
            "Requirement already satisfied: urllib3!=1.25.0,!=1.25.1,<1.26,>=1.21.1 in /usr/local/lib/python3.7/dist-packages (from requests) (1.24.3)\n",
            "Collecting wget\n",
            "  Downloading https://files.pythonhosted.org/packages/47/6a/62e288da7bcda82b935ff0c6cfe542970f04e29c756b0e147251b2fb251f/wget-3.2.zip\n",
            "Building wheels for collected packages: wget\n",
            "  Building wheel for wget (setup.py) ... \u001b[?25l\u001b[?25hdone\n",
            "  Created wheel for wget: filename=wget-3.2-cp37-none-any.whl size=9675 sha256=b00f7575b40ed10b9e2e59c4a297b70fc23ab3bea44fe1bc82342a7451e18686\n",
            "  Stored in directory: /root/.cache/pip/wheels/40/15/30/7d8f7cea2902b4db79e3fea550d7d7b85ecb27ef992b618f3f\n",
            "Successfully built wget\n",
            "Installing collected packages: wget\n",
            "Successfully installed wget-3.2\n"
          ],
          "name": "stdout"
        }
      ]
    },
    {
      "cell_type": "markdown",
      "metadata": {
        "id": "43fDuhK2V1kx"
      },
      "source": [
        "### Funciones útiles\n",
        "\n",
        "Se cargan funciones útiles desde el repo https://github.com/jumafernandez/clasificacion_correos para la carga y balanceo del dataset."
      ]
    },
    {
      "cell_type": "code",
      "metadata": {
        "id": "oQvZz035bSMf"
      },
      "source": [
        "import requests\n",
        "\n",
        "# Se hace el request del raw del script python\n",
        "url = 'https://raw.githubusercontent.com/jumafernandez/clasificacion_correos/main/scripts/funciones_dataset.py'\n",
        "r = requests.get(url)\n",
        "\n",
        "# Se guarda en el working directory\n",
        "with open('funciones_dataset.py', 'w') as f:\n",
        "    f.write(r.text)\n",
        "\n",
        "# Se importan las funciones a utilizar\n",
        "from funciones_dataset import get_clases, cargar_dataset"
      ],
      "execution_count": 3,
      "outputs": []
    },
    {
      "cell_type": "markdown",
      "metadata": {
        "id": "MDxjaGIfV-rT"
      },
      "source": [
        "También se carga la función para preprocesar el texto que se usó en los otros modelos desde el repo: https://github.com/jumafernandez/clasificacion_correos."
      ]
    },
    {
      "cell_type": "code",
      "metadata": {
        "id": "o0o2NndLWDVC"
      },
      "source": [
        "import requests\n",
        "\n",
        "# Se hace el request del raw del script python\n",
        "url = 'https://raw.githubusercontent.com/jumafernandez/clasificacion_correos/main/scripts/funciones_preprocesamiento.py'\n",
        "r = requests.get(url)\n",
        "\n",
        "# Se guarda en el working directory\n",
        "with open('funciones_preprocesamiento.py', 'w') as f:\n",
        "    f.write(r.text)\n",
        "\n",
        "# Se importan las funciones a utilizar\n",
        "from funciones_preprocesamiento import preprocesar_correos"
      ],
      "execution_count": 4,
      "outputs": []
    },
    {
      "cell_type": "markdown",
      "metadata": {
        "id": "-uv6R5UQWWmE"
      },
      "source": [
        "## Carga de datos\n",
        "\n",
        "Se carga el dataframe en memoria con el preprocesamiento de los datos:"
      ]
    },
    {
      "cell_type": "code",
      "metadata": {
        "colab": {
          "base_uri": "https://localhost:8080/"
        },
        "id": "MP4lJ_KVvBSO",
        "outputId": "e8fe203f-953d-4722-8b35-372869142c10"
      },
      "source": [
        "import warnings\n",
        "from os import path\n",
        "warnings.filterwarnings(\"ignore\")\n",
        "\n",
        "# Constantes con los datos\n",
        "DS_DIR = 'https://raw.githubusercontent.com/jumafernandez/clasificacion_correos/main/data/50jaiio/'\n",
        "TRAIN_FILE = 'correos-train-80.csv'\n",
        "TEST_FILE = 'correos-test-20.csv'\n",
        "\n",
        "# Chequeo sobre si los archivos están en el working directory\n",
        "download_files = not(path.exists(TRAIN_FILE))\n",
        "\n",
        "etiquetas = get_clases()\n",
        "\n",
        "# Defino la cantidad de clases a utilizar (en este caso todas)\n",
        "CANTIDAD_CLASES = len(etiquetas)\n",
        "\n",
        "train_df, test_df, etiquetas = cargar_dataset(DS_DIR, TRAIN_FILE, TEST_FILE, download_files, 'clase', etiquetas, CANTIDAD_CLASES, 'Otras Consultas')\n",
        "\n",
        "# Se ejecuta el preprocesamiento de correos sobre el campo Consulta de train y test\n",
        "import pandas as pd\n",
        "train_df['Consulta'] = pd.Series(preprocesar_correos(train_df['Consulta']))\n",
        "test_df['Consulta'] = pd.Series(preprocesar_correos(test_df['Consulta']))\n",
        "\n",
        "# Cambio los integers por las etiquetas\n",
        "train_df['clase'] = etiquetas[train_df['clase']]\n",
        "test_df['clase'] = etiquetas[test_df['clase']]\n",
        "\n",
        "# Muestro salida por consola\n",
        "print('Existen {} clases: {}.'.format(len(train_df.clase.unique()), train_df.clase.unique()))"
      ],
      "execution_count": 5,
      "outputs": [
        {
          "output_type": "stream",
          "text": [
            "Se inicia descarga de los datasets.\n",
            "\n",
            "El conjunto de entrenamiento tiene la dimensión: (800, 24)\n",
            "El conjunto de testeo tiene la dimensión: (200, 24)\n",
            "Existen 20 clases: ['Inscripción a Cursadas' 'Cambio de Carrera' 'Reincorporación'\n",
            " 'Ingreso a la Universidad' 'Boleto Universitario'\n",
            " 'Pedido de Certificados' 'Exámenes' 'Requisitos de Ingreso' 'Cursadas'\n",
            " 'Situación Académica' 'Vacunas Enfermería' 'Consulta por Legajo'\n",
            " 'Problemas con la Clave' 'Consulta sobre Título Universitario'\n",
            " 'Certificados Web' 'Carga de Notas' 'Otras Consultas'\n",
            " 'Cambio de Comisión' 'Consulta por Equivalencias' 'Datos Personales'].\n"
          ],
          "name": "stdout"
        }
      ]
    },
    {
      "cell_type": "markdown",
      "metadata": {
        "id": "3xH7wyPTIVeQ"
      },
      "source": [
        "## Clasificador SS3\n",
        "\n",
        "Se instala la librería:"
      ]
    },
    {
      "cell_type": "code",
      "metadata": {
        "colab": {
          "base_uri": "https://localhost:8080/"
        },
        "id": "LBCEX0d6IZef",
        "outputId": "7d05c630-0b4a-402d-db5d-3614ab859181"
      },
      "source": [
        "!pip install pyss3"
      ],
      "execution_count": 22,
      "outputs": [
        {
          "output_type": "stream",
          "text": [
            "Requirement already satisfied: pyss3 in /usr/local/lib/python3.7/dist-packages (0.6.4)\n",
            "Requirement already satisfied: six in /usr/local/lib/python3.7/dist-packages (from pyss3) (1.15.0)\n",
            "Requirement already satisfied: scikit-learn[alldeps]>=0.20 in /usr/local/lib/python3.7/dist-packages (from pyss3) (0.22.2.post1)\n",
            "Requirement already satisfied: tqdm>=4.8.4 in /usr/local/lib/python3.7/dist-packages (from pyss3) (4.41.1)\n",
            "Requirement already satisfied: matplotlib in /usr/local/lib/python3.7/dist-packages (from pyss3) (3.2.2)\n",
            "Requirement already satisfied: iterative-stratification in /usr/local/lib/python3.7/dist-packages (from pyss3) (0.1.6)\n",
            "Requirement already satisfied: cython in /usr/local/lib/python3.7/dist-packages (from pyss3) (0.29.23)\n",
            "Requirement already satisfied: joblib>=0.11 in /usr/local/lib/python3.7/dist-packages (from scikit-learn[alldeps]>=0.20->pyss3) (1.0.1)\n",
            "Requirement already satisfied: scipy>=0.17.0 in /usr/local/lib/python3.7/dist-packages (from scikit-learn[alldeps]>=0.20->pyss3) (1.4.1)\n",
            "Requirement already satisfied: numpy>=1.11.0 in /usr/local/lib/python3.7/dist-packages (from scikit-learn[alldeps]>=0.20->pyss3) (1.19.5)\n",
            "Requirement already satisfied: python-dateutil>=2.1 in /usr/local/lib/python3.7/dist-packages (from matplotlib->pyss3) (2.8.1)\n",
            "Requirement already satisfied: cycler>=0.10 in /usr/local/lib/python3.7/dist-packages (from matplotlib->pyss3) (0.10.0)\n",
            "Requirement already satisfied: kiwisolver>=1.0.1 in /usr/local/lib/python3.7/dist-packages (from matplotlib->pyss3) (1.3.1)\n",
            "Requirement already satisfied: pyparsing!=2.0.4,!=2.1.2,!=2.1.6,>=2.0.1 in /usr/local/lib/python3.7/dist-packages (from matplotlib->pyss3) (2.4.7)\n"
          ],
          "name": "stdout"
        }
      ]
    },
    {
      "cell_type": "markdown",
      "metadata": {
        "id": "17obw6uxVN21"
      },
      "source": [
        "### Entrenamiento del modelo\n",
        "\n",
        "Se instancia la técnica de __SS3__ y se ajustan los hiperparámetros:"
      ]
    },
    {
      "cell_type": "code",
      "metadata": {
        "id": "lFSOquuAYGPK",
        "colab": {
          "base_uri": "https://localhost:8080/"
        },
        "outputId": "c797a8d2-116b-43c4-bcee-0751df59d918"
      },
      "source": [
        "from sklearn.preprocessing import MinMaxScaler\n",
        "from pyss3 import SS3\n",
        "from pyss3.util import Evaluation, span\n",
        "from pyss3.server import Live_Test\n",
        "\n",
        "clf = SS3()\n",
        "\n",
        "clf.train(train_df['Consulta'], train_df['clase'], prep=False)\n",
        "\n",
        "best_s, best_l, best_p, best_a = Evaluation.grid_search(\n",
        "  clf, test_df['Consulta'], test_df['clase'],\n",
        "  s=span(0.2, 0.8, 6),\n",
        "  l=span(0.1, 2, 6),\n",
        "  p=span(0.5, 2, 6),\n",
        "  a=[0, .1, .2],\n",
        "  prep=False,  # <- do not forget to disable default preprocessing\n",
        "  tag=\"grid search (test)\"\n",
        ")\n",
        "\n",
        "print(\"Smoothness(s):\", best_s)\n",
        "print(\"Significance(l):\", best_l)\n",
        "print(\"Sanction(p):\", best_p)\n",
        "print(\"Alpha(a):\", best_a)\n",
        "\n",
        "Evaluation.plot()"
      ],
      "execution_count": 7,
      "outputs": [
        {
          "output_type": "stream",
          "text": [
            "Training on 'Vacunas Enfermería': 100%|██████████| 20/20 [00:00<00:00, 174.58it/s]\n",
            "Grid search: 100%|██████████| 648/648 [01:46<00:00,  6.07it/s]\n"
          ],
          "name": "stderr"
        },
        {
          "output_type": "stream",
          "text": [
            "Smoothness(s): 0.44\n",
            "Significance(l): 0.1\n",
            "Sanction(p): 0.5\n",
            "Alpha(a): 0.0\n"
          ],
          "name": "stdout"
        },
        {
          "output_type": "execute_result",
          "data": {
            "text/plain": [
              "True"
            ]
          },
          "metadata": {
            "tags": []
          },
          "execution_count": 7
        }
      ]
    },
    {
      "cell_type": "markdown",
      "metadata": {
        "id": "xpUYOK72Rcrj"
      },
      "source": [
        "### Exploración del Modelo\n",
        "\n",
        "Se genera el modelo en base a los mejores hiperparámetros encontrados:"
      ]
    },
    {
      "cell_type": "code",
      "metadata": {
        "colab": {
          "base_uri": "https://localhost:8080/"
        },
        "id": "Yv8nvu_SWMgL",
        "outputId": "1d55d742-2112-4580-e9a2-e7d0dcee7537"
      },
      "source": [
        "from sklearn.metrics import accuracy_score\n",
        "\n",
        "clf.set_hyperparameters(0.44, 0.1, 0.5, 0.0)\n",
        "y_pred = clf.predict(test_df['Consulta'], prep=False)\n",
        "\n",
        "accuracy = accuracy_score(y_pred, test_df['clase'])\n",
        "print(\"\\nAccuracy was:\", accuracy)"
      ],
      "execution_count": 8,
      "outputs": [
        {
          "output_type": "stream",
          "text": [
            "Classification: 100%|██████████| 200/200 [00:00<00:00, 48058.48it/s]"
          ],
          "name": "stderr"
        },
        {
          "output_type": "stream",
          "text": [
            "\n",
            "Accuracy was: 0.715\n"
          ],
          "name": "stdout"
        },
        {
          "output_type": "stream",
          "text": [
            "\n"
          ],
          "name": "stderr"
        }
      ]
    },
    {
      "cell_type": "code",
      "metadata": {
        "colab": {
          "base_uri": "https://localhost:8080/"
        },
        "id": "qUTRwzP7j8In",
        "outputId": "bd6817a6-84ea-4347-980a-1a2c6fd966d9"
      },
      "source": [
        "clf.print_categories_info()"
      ],
      "execution_count": 15,
      "outputs": [
        {
          "output_type": "stream",
          "text": [
            "\n",
            "\n",
            " \u001b[92m\u001b[4m\u001b[1mCATEGORIES\u001b[0m\u001b[0m\u001b[0m:\n",
            "\n",
            "\u001b[93m\t             Category               \u001b[0m| Index |   Length   | Vocab. Size | Word Max. Fr. | N-gram |\n",
            "\t------------------------------------|-------|------------|-------------|---------------|--------|\n",
            "\u001b[93m\t       Boleto Universitario         \u001b[0m|   0   |    3454    |     815     |      159      |   1    |\n",
            "\u001b[93m\t         Cambio de Carrera          \u001b[0m|   1   |    220     |     142     |      12       |   1    |\n",
            "\u001b[93m\t        Cambio de Comisión          \u001b[0m|   2   |    120     |     80      |       5       |   1    |\n",
            "\u001b[93m\t          Carga de Notas            \u001b[0m|   3   |    293     |     187     |      13       |   1    |\n",
            "\u001b[93m\t         Certificados Web           \u001b[0m|   4   |     78     |     63      |       3       |   1    |\n",
            "\u001b[93m\t    Consulta por Equivalencias      \u001b[0m|   5   |    232     |     151     |       9       |   1    |\n",
            "\u001b[93m\t        Consulta por Legajo         \u001b[0m|   6   |    174     |     107     |      15       |   1    |\n",
            "\u001b[93m\tConsulta sobre Título Universitario \u001b[0m|   7   |    206     |     124     |      14       |   1    |\n",
            "\u001b[93m\t             Cursadas               \u001b[0m|   8   |    249     |     149     |      12       |   1    |\n",
            "\u001b[93m\t         Datos Personales           \u001b[0m|   9   |    120     |     96      |       4       |   1    |\n",
            "\u001b[93m\t             Exámenes               \u001b[0m|  10   |    249     |     154     |      15       |   1    |\n",
            "\u001b[93m\t     Ingreso a la Universidad       \u001b[0m|  11   |    2565    |     669     |      85       |   1    |\n",
            "\u001b[93m\t      Inscripción a Cursadas        \u001b[0m|  12   |    699     |     308     |      30       |   1    |\n",
            "\u001b[93m\t          Otras Consultas           \u001b[0m|  13   |    111     |     82      |       5       |   1    |\n",
            "\u001b[93m\t      Pedido de Certificados        \u001b[0m|  14   |    753     |     305     |      46       |   1    |\n",
            "\u001b[93m\t      Problemas con la Clave        \u001b[0m|  15   |    493     |     229     |      31       |   1    |\n",
            "\u001b[93m\t          Reincorporación           \u001b[0m|  16   |    519     |     255     |      17       |   1    |\n",
            "\u001b[93m\t       Requisitos de Ingreso        \u001b[0m|  17   |    1546    |     438     |      50       |   1    |\n",
            "\u001b[93m\t        Situación Académica         \u001b[0m|  18   |    193     |     134     |       7       |   1    |\n",
            "\u001b[93m\t        Vacunas Enfermería          \u001b[0m|  19   |    169     |     127     |       5       |   1    |\n",
            "\n",
            "\t\u001b[4m\u001b[1mMost Probable Category\u001b[0m\u001b[0m: \u001b[93mBoleto Universitario\u001b[0m \u001b[94m(27.76%)\u001b[0m\n",
            "\n"
          ],
          "name": "stdout"
        }
      ]
    },
    {
      "cell_type": "code",
      "metadata": {
        "colab": {
          "base_uri": "https://localhost:8080/"
        },
        "id": "30fjKA-DkadC",
        "outputId": "8f024b8f-25d5-4556-ec38-1a405bd569d4"
      },
      "source": [
        "clf.print_ngram_info('cambio')"
      ],
      "execution_count": 21,
      "outputs": [
        {
          "output_type": "stream",
          "text": [
            "\n",
            " \u001b[92mWORD\u001b[0m: \u001b[93mcambio\u001b[0m (index: 665)\n",
            "\n",
            "\u001b[1m Category                            |    fr    |  lv   |  sg   |  sn   |  gv   |  cv   |\u001b[0m\n",
            " ------------------------------------|----------|-------|-------|-------|-------|-------|\n",
            " \u001b[93mBoleto Universit                   \u001b[0m |    1     | 0.000 | 0.002 | 0.458 | 0.000 | 0.000 |\n",
            " \u001b[93mCambio de Carrer                   \u001b[0m |    5     | 0.680 | 1.000 | 0.545 | 0.371 | 0.817 |\n",
            " \u001b[93mCambio de Comisi                   \u001b[0m |    3     | 0.799 | 1.000 | 0.545 | 0.436 | 0.652 |\n",
            " \u001b[93mCarga de Notas                     \u001b[0m |    0     | 0.000 | 0.000 | 0.458 | 0.000 | 0.000 |\n",
            " \u001b[93mCertificados Web                   \u001b[0m |    0     | 0.000 | 0.000 | 0.458 | 0.000 | 0.000 |\n",
            " \u001b[93mConsulta por Equ                   \u001b[0m |    0     | 0.000 | 0.000 | 0.458 | 0.000 | 0.000 |\n",
            " \u001b[93mConsulta por Leg                   \u001b[0m |    1     | 0.000 | 0.002 | 0.458 | 0.000 | 0.000 |\n",
            " \u001b[93mConsulta sobre T                   \u001b[0m |    0     | 0.000 | 0.000 | 0.458 | 0.000 | 0.000 |\n",
            " \u001b[93mCursadas                           \u001b[0m |    0     | 0.000 | 0.000 | 0.458 | 0.000 | 0.000 |\n",
            " \u001b[93mDatos Personales                   \u001b[0m |    1     | 0.000 | 0.002 | 0.458 | 0.000 | 0.000 |\n",
            " \u001b[93mExámenes                           \u001b[0m |    0     | 0.000 | 0.000 | 0.458 | 0.000 | 0.000 |\n",
            " \u001b[93mIngreso a la Uni                   \u001b[0m |    4     | 0.261 | 1.000 | 0.545 | 0.142 | 0.236 |\n",
            " \u001b[93mInscripción a Cu                   \u001b[0m |    0     | 0.000 | 0.000 | 0.458 | 0.000 | 0.000 |\n",
            " \u001b[93mOtras Consultas                    \u001b[0m |    0     | 0.000 | 0.000 | 0.458 | 0.000 | 0.000 |\n",
            " \u001b[93mPedido de Certif                   \u001b[0m |    0     | 0.000 | 0.000 | 0.458 | 0.000 | 0.000 |\n",
            " \u001b[93mProblemas con la                   \u001b[0m |    0     | 0.000 | 0.000 | 0.458 | 0.000 | 0.000 |\n",
            " \u001b[93mReincorporación                    \u001b[0m |    0     | 0.000 | 0.000 | 0.458 | 0.000 | 0.000 |\n",
            " \u001b[93mRequisitos de In                   \u001b[0m |    0     | 0.000 | 0.000 | 0.458 | 0.000 | 0.000 |\n",
            " \u001b[93mSituación Académ                   \u001b[0m |    0     | 0.000 | 0.000 | 0.458 | 0.000 | 0.000 |\n",
            " \u001b[93mVacunas Enfermer                   \u001b[0m |    0     | 0.000 | 0.000 | 0.458 | 0.000 | 0.000 |\n",
            "\n"
          ],
          "name": "stdout"
        }
      ]
    },
    {
      "cell_type": "code",
      "metadata": {
        "colab": {
          "base_uri": "https://localhost:8080/"
        },
        "id": "o5ND7M0pmHdu",
        "outputId": "9d0b31d8-3ed3-4aee-a9d0-aa7c3a4b9afd"
      },
      "source": [
        "clf.gv('boleto', 'Boleto Universitario')"
      ],
      "execution_count": 18,
      "outputs": [
        {
          "output_type": "execute_result",
          "data": {
            "text/plain": [
              "0.9987009855589738"
            ]
          },
          "metadata": {
            "tags": []
          },
          "execution_count": 18
        }
      ]
    },
    {
      "cell_type": "code",
      "metadata": {
        "id": "T0M4maOxmV1Y",
        "outputId": "63904f58-d967-40fe-f33e-2320b8113e68",
        "colab": {
          "base_uri": "https://localhost:8080/",
          "height": 641
        }
      },
      "source": [
        "clf.plot_value_distribution('Cambio de Carrera')"
      ],
      "execution_count": 23,
      "outputs": [
        {
          "output_type": "display_data",
          "data": {
            "image/png": "[encoded data removed]",
            "text/plain": [
              "<Figure size 1440x720 with 1 Axes>"
            ]
          },
          "metadata": {
            "tags": [],
            "needs_background": "light"
          }
        }
      ]
    },
    {
      "cell_type": "markdown",
      "metadata": {
        "id": "D9wszzpWh1cM"
      },
      "source": [
        "### Test Live\n",
        "\n",
        "Se verifica el __Test Live__:"
      ]
    },
    {
      "cell_type": "code",
      "metadata": {
        "id": "EA8wwWeNh9wG"
      },
      "source": [
        "Live_Test.run(clf, test_df['Consulta'], test_df['clase'])"
      ],
      "execution_count": null,
      "outputs": []
    },
    {
      "cell_type": "markdown",
      "metadata": {
        "id": "gKONO1hyr4kd"
      },
      "source": [
        "### Extracción de _Features_\n",
        "\n",
        "Se extraen y guardan los términos más representativos por clase.\n",
        "\n",
        "En primer lugar se genera la carpeta donde se guardan los txt con los términos por clase:"
      ]
    },
    {
      "cell_type": "code",
      "metadata": {
        "id": "nCaDxztCsZZq"
      },
      "source": [
        "!mkdir txts_ss3"
      ],
      "execution_count": 32,
      "outputs": []
    },
    {
      "cell_type": "markdown",
      "metadata": {
        "id": "voO7f1DWsbN3"
      },
      "source": [
        "Se genera el vocabulario en txt por cada clase y se guarda en la carpeta __txts_ss3__:"
      ]
    },
    {
      "cell_type": "code",
      "metadata": {
        "id": "AApv677ds9LC",
        "outputId": "f621f743-4162-4edc-d032-b0f79626d44e",
        "colab": {
          "base_uri": "https://localhost:8080/"
        }
      },
      "source": [
        "for cat in clf.get_categories():\n",
        "  print(f'Se genera el txt de la clase {cat}.')\n",
        "  clf.save_cat_vocab(cat, path='./txts_ss3', n_grams=- 1)"
      ],
      "execution_count": 34,
      "outputs": [
        {
          "output_type": "stream",
          "text": [
            "Se genera el txt de la clase Boleto Universitario.\n",
            "Se genera el txt de la clase Cambio de Carrera.\n",
            "Se genera el txt de la clase Cambio de Comisión.\n",
            "Se genera el txt de la clase Carga de Notas.\n",
            "Se genera el txt de la clase Certificados Web.\n",
            "Se genera el txt de la clase Consulta por Equivalencias.\n",
            "Se genera el txt de la clase Consulta por Legajo.\n",
            "Se genera el txt de la clase Consulta sobre Título Universitario.\n",
            "Se genera el txt de la clase Cursadas.\n",
            "Se genera el txt de la clase Datos Personales.\n",
            "Se genera el txt de la clase Exámenes.\n",
            "Se genera el txt de la clase Ingreso a la Universidad.\n",
            "Se genera el txt de la clase Inscripción a Cursadas.\n",
            "Se genera el txt de la clase Otras Consultas.\n",
            "Se genera el txt de la clase Pedido de Certificados.\n",
            "Se genera el txt de la clase Problemas con la Clave.\n",
            "Se genera el txt de la clase Reincorporación.\n",
            "Se genera el txt de la clase Requisitos de Ingreso.\n",
            "Se genera el txt de la clase Situación Académica.\n",
            "Se genera el txt de la clase Vacunas Enfermería.\n"
          ],
          "name": "stdout"
        }
      ]
    },
    {
      "cell_type": "markdown",
      "metadata": {
        "id": "5ESGQs_YtlSH"
      },
      "source": [
        "Por último se genera el zip con todos los txt y se guarda en Drive:"
      ]
    },
    {
      "cell_type": "code",
      "metadata": {
        "id": "rq7yHdDntqDv",
        "outputId": "51ef6b66-afc6-44d8-d8c1-4cf7f4281110",
        "colab": {
          "base_uri": "https://localhost:8080/"
        }
      },
      "source": [
        "import shutil\n",
        "shutil.make_archive('txts_ss3', 'zip', 'txts_ss3')\n",
        "\n",
        "ENTORNO='Colab'\n",
        "if ENTORNO=='Colab':\n",
        "  from google.colab import drive\n",
        "  drive.mount('drive')\n",
        "  !cp txts_ss3.zip \"drive/My Drive/\""
      ],
      "execution_count": 36,
      "outputs": [
        {
          "output_type": "stream",
          "text": [
            "Drive already mounted at drive; to attempt to forcibly remount, call drive.mount(\"drive\", force_remount=True).\n"
          ],
          "name": "stdout"
        }
      ]
    },
    {
      "cell_type": "markdown",
      "metadata": {
        "id": "0a1K2447qjxE"
      },
      "source": [
        "# Referencias\n",
        "- https://pyss3.readthedocs.io/en/latest/"
      ]
    }
  ]
}