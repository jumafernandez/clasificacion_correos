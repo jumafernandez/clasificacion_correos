{
  "nbformat": 4,
  "nbformat_minor": 0,
  "metadata": {
    "colab": {
      "name": "00-03-Consolidación train-test dataset.ipynb",
      "provenance": [],
      "collapsed_sections": [
        "jEMfYb7yLN7f",
        "yXbtAWNQLRjz",
        "Bm-9TgWlsu4k",
        "p4Tfjt7KLYFn",
        "Fng9Yl3yMMWX",
        "gnTMaMKgrpVS",
        "EAn-KzzuiKZ3",
        "2NiVh4Q6uogN",
        "yuDWGbedu5ww"
      ],
      "include_colab_link": true
    },
    "kernelspec": {
      "name": "python3",
      "display_name": "Python 3"
    },
    "language_info": {
      "name": "python"
    }
  },
  "cells": [
    {
      "cell_type": "markdown",
      "metadata": {
        "id": "view-in-github",
        "colab_type": "text"
      },
      "source": [
        "<a href=\"https://colab.research.google.com/github/jumafernandez/clasificacion_correos/blob/main/notebooks/jaiio/00-03-consolidaci%C3%B3n_train_test_dataset.ipynb\" target=\"_parent\"><img src=\"https://colab.research.google.com/assets/colab-badge.svg\" alt=\"Open In Colab\"/></a>"
      ]
    },
    {
      "cell_type": "markdown",
      "metadata": {
        "id": "50ILJehHy94s"
      },
      "source": [
        "# Trabajo 50 JAIIO: Consolidación del dataset\n",
        "__Título:__ Etiquetado semi-supervisado multiclase de correos electrónicos a partir de estrategias de extracción de características y _Elasticsearch_\n",
        "\n",
        "__Autores:__ Juan Manuel Fernandez, Marcelo Errecalde\n",
        "\n",
        "\n",
        "En esta notebook se consolidan las clases de los correos que forman parte del trabajo dado que se encontraron clases solapadas y ejemplos mal clasificados:"
      ]
    },
    {
      "cell_type": "markdown",
      "metadata": {
        "id": "DnV1ANH0yYRX"
      },
      "source": [
        "## 0. Misceláneos:"
      ]
    },
    {
      "cell_type": "markdown",
      "metadata": {
        "id": "jEMfYb7yLN7f"
      },
      "source": [
        "### Descarga de librerias necesarias"
      ]
    },
    {
      "cell_type": "code",
      "metadata": {
        "id": "XC4t_GNWMRnF",
        "colab": {
          "base_uri": "https://localhost:8080/"
        },
        "outputId": "6dacfdc5-5185-4eff-8523-845d1bef8fc2"
      },
      "source": [
        "!pip install requests\n",
        "!pip install wget"
      ],
      "execution_count": 1,
      "outputs": [
        {
          "output_type": "stream",
          "text": [
            "Requirement already satisfied: requests in /usr/local/lib/python3.7/dist-packages (2.23.0)\n",
            "Requirement already satisfied: certifi>=2017.4.17 in /usr/local/lib/python3.7/dist-packages (from requests) (2020.12.5)\n",
            "Requirement already satisfied: urllib3!=1.25.0,!=1.25.1,<1.26,>=1.21.1 in /usr/local/lib/python3.7/dist-packages (from requests) (1.24.3)\n",
            "Requirement already satisfied: idna<3,>=2.5 in /usr/local/lib/python3.7/dist-packages (from requests) (2.10)\n",
            "Requirement already satisfied: chardet<4,>=3.0.2 in /usr/local/lib/python3.7/dist-packages (from requests) (3.0.4)\n",
            "Requirement already satisfied: wget in /usr/local/lib/python3.7/dist-packages (3.2)\n"
          ],
          "name": "stdout"
        }
      ]
    },
    {
      "cell_type": "code",
      "metadata": {
        "id": "i2yHxONsEa1j"
      },
      "source": [
        "import requests\n",
        "\n",
        "# Se hace el request del raw del script python\n",
        "url = 'https://raw.githubusercontent.com/jumafernandez/clasificacion_correos/main/scripts/funciones_dataset.py'\n",
        "r = requests.get(url)\n",
        "\n",
        "# Se guarda en el working directory\n",
        "with open('funciones_dataset.py', 'w') as f:\n",
        "    f.write(r.text)\n",
        "\n",
        "# Se importan las funciones a utilizar\n",
        "from funciones_dataset import consolidar_df, get_clases"
      ],
      "execution_count": 2,
      "outputs": []
    },
    {
      "cell_type": "markdown",
      "metadata": {
        "id": "yXbtAWNQLRjz"
      },
      "source": [
        "### Descarga dataset de train y test\n",
        "\n",
        "Se descargan los datasets con 800 correos en el caso de train y 200 correos para el de test:"
      ]
    },
    {
      "cell_type": "code",
      "metadata": {
        "id": "syFCK2lXbLFI"
      },
      "source": [
        "# Descargo los correos ya etiquetados\n",
        "from os import path\n",
        "\n",
        "if not (path.exists('correos-train-80.csv')):\n",
        "    !wget https://raw.githubusercontent.com/jumafernandez/clasificacion_correos/main/data/50jaiio/correos-train-80.csv\n",
        "\n",
        "if not (path.exists('correos-test-20.csv')):\n",
        "    !wget https://raw.githubusercontent.com/jumafernandez/clasificacion_correos/main/data/50jaiio/correos-test-20.csv"
      ],
      "execution_count": 3,
      "outputs": []
    },
    {
      "cell_type": "markdown",
      "metadata": {
        "id": "Bm-9TgWlsu4k"
      },
      "source": [
        "## 1. Presentación del dataset:"
      ]
    },
    {
      "cell_type": "markdown",
      "metadata": {
        "id": "p4Tfjt7KLYFn"
      },
      "source": [
        "### 1.1 Se levanta en un DataFrame para poder manipularlo"
      ]
    },
    {
      "cell_type": "code",
      "metadata": {
        "id": "3RS4PDFAhEZV"
      },
      "source": [
        "import pandas as pd\n",
        "\n",
        "# Cargo correos en un dataframe\n",
        "correos_train = pd.read_csv('correos-train-80.csv')\n",
        "correos_test = pd.read_csv('correos-test-20.csv')"
      ],
      "execution_count": 4,
      "outputs": []
    },
    {
      "cell_type": "markdown",
      "metadata": {
        "id": "CerbnImkGb7o"
      },
      "source": [
        "## 2. Representación de las clases\n",
        "\n",
        "Pasan a representarse las clases a partir de la etiqueta y no del valor numérico discretizado:\n"
      ]
    },
    {
      "cell_type": "markdown",
      "metadata": {
        "id": "gmzhGN3Q23eK"
      },
      "source": [
        "### 2.1 Transformación de las clases identificadas por el experto"
      ]
    },
    {
      "cell_type": "code",
      "metadata": {
        "colab": {
          "base_uri": "https://localhost:8080/"
        },
        "id": "G41YNnT7oRTy",
        "outputId": "dd258a71-adb4-4b8a-ed16-4cd529d53736"
      },
      "source": [
        "from sklearn.preprocessing import LabelEncoder\n",
        "\n",
        "clases = get_clases()\n",
        "\n",
        "# Instancio el transformador\n",
        "le = LabelEncoder()\n",
        "\n",
        "# Discretizo\n",
        "clases_disc = le.fit_transform(clases)\n",
        "\n",
        "# Muestro clases originales\n",
        "print(f'Clases originales:\\n{clases}\\n')\n",
        "\n",
        "# Muestro clases discretizadas\n",
        "print(f'Clases discretizadas:\\n{clases_disc}\\n')\n",
        "\n",
        "# Accedo a la clase original por su valor discretizado\n",
        "print(f'Acceso a la original, de id {2} con discretizada: {clases[clases_disc[2]]}')"
      ],
      "execution_count": 5,
      "outputs": [
        {
          "output_type": "stream",
          "text": [
            "Clases originales:\n",
            "['Boleto Universitario' 'Cambio de Carrera' 'Cambio de Comisión'\n",
            " 'Carga de Notas' 'Certificados Web' 'Consulta por Equivalencias'\n",
            " 'Consulta por Legajo' 'Consulta sobre Título Universitario' 'Cursadas'\n",
            " 'Datos Personales' 'Exámenes' 'Ingreso a la Universidad'\n",
            " 'Inscripción a Cursadas' 'Pedido de Certificados'\n",
            " 'Problemas con la Clave' 'Reincorporación' 'Requisitos de Ingreso'\n",
            " 'Simultaneidad de Carreras' 'Situación Académica' 'Vacunas Enfermería']\n",
            "\n",
            "Clases discretizadas:\n",
            "[ 0  1  2  3  4  5  6  7  8  9 10 11 12 13 14 15 16 17 18 19]\n",
            "\n",
            "Acceso a la original, de id 2 con discretizada: Cambio de Comisión\n"
          ],
          "name": "stdout"
        }
      ]
    },
    {
      "cell_type": "markdown",
      "metadata": {
        "id": "WyRA7ZM7tYBb"
      },
      "source": [
        "### 2.2 Creación de un dataframe con las clases originales sin discretizar"
      ]
    },
    {
      "cell_type": "code",
      "metadata": {
        "colab": {
          "base_uri": "https://localhost:8080/"
        },
        "id": "vYqR7Ckl4OT2",
        "outputId": "0c113d90-f447-400c-fc35-70c3eddbd9e7"
      },
      "source": [
        "# Aplico una transformacion inversa para des-discretizar\n",
        "correos_train['clase'] = le.inverse_transform(correos_train['clase'])\n",
        "correos_test['clase'] = le.inverse_transform(correos_test['clase'])\n",
        "\n",
        "total_etiquetados = pd.concat([correos_train, correos_test])\n",
        "\n",
        "# Muestro las primeras 5 clases originales\n",
        "correos_train['clase'].head()\n",
        "correos_test['clase'].head()"
      ],
      "execution_count": 6,
      "outputs": [
        {
          "output_type": "execute_result",
          "data": {
            "text/plain": [
              "0        Boleto Universitario\n",
              "1       Requisitos de Ingreso\n",
              "2            Datos Personales\n",
              "3    Ingreso a la Universidad\n",
              "4             Reincorporación\n",
              "Name: clase, dtype: object"
            ]
          },
          "metadata": {
            "tags": []
          },
          "execution_count": 6
        }
      ]
    },
    {
      "cell_type": "markdown",
      "metadata": {
        "id": "EAn-KzzuiKZ3"
      },
      "source": [
        "## 3. Reorganización de las clases\n",
        "\n",
        "A partir de falencias en el etiquetado encontradas en la construcción del modelo, se mejora el etiquetado en dos aspectos:\n",
        "1. Se reorganizan las clases,\n",
        "2. Se re-etiquetan algunas instancias\n",
        "\n",
        "Además, se guardarán los correos con las clases sin discretizar (etiquetas textuales).\n"
      ]
    },
    {
      "cell_type": "markdown",
      "metadata": {
        "id": "HWEdk-gVCu6D"
      },
      "source": [
        "### 3.1 Reorganización de las clases\n",
        "\n",
        "En este aspecto, se realizan los siguientes cambios:\n",
        "- La clase 'Vacunas Enfermería' se unifica con 'Reguisitos de Ingreso'.\n",
        "- La clase 'Inscripción a Cursadas' se unifica con 'Cursadas'.\n",
        "- La clase 'Certificados Web' se unifica con 'Pedido de Certificados' que a su vez pasa a llamarse 'Emisión de Certificados'.\n",
        "- La clase 'Carga de Notas' se unifica con 'Situación Académica'."
      ]
    },
    {
      "cell_type": "code",
      "metadata": {
        "id": "RlFGjCrK5Pzu"
      },
      "source": [
        "correos_train['clase'] = correos_train['clase'].replace(['Vacunas Enfermería'], 'Requisitos de Ingreso')\n",
        "correos_test['clase'] = correos_test['clase'].replace(['Vacunas Enfermería'], 'Requisitos de Ingreso')"
      ],
      "execution_count": 7,
      "outputs": []
    },
    {
      "cell_type": "code",
      "metadata": {
        "id": "7WE2WGg_GVdD"
      },
      "source": [
        "correos_train['clase'] = correos_train['clase'].replace(['Inscripción a Cursadas'], 'Cursadas')\n",
        "correos_test['clase'] = correos_test['clase'].replace(['Inscripción a Cursadas'], 'Cursadas')"
      ],
      "execution_count": 8,
      "outputs": []
    },
    {
      "cell_type": "code",
      "metadata": {
        "id": "bWXMZ0XnHDGp"
      },
      "source": [
        "correos_train['clase'] = correos_train['clase'].replace(['Certificados Web'], 'Pedido de Certificados')\n",
        "correos_test['clase'] = correos_test['clase'].replace(['Certificados Web'], 'Pedido de Certificados')"
      ],
      "execution_count": 9,
      "outputs": []
    },
    {
      "cell_type": "code",
      "metadata": {
        "id": "sBVBWLy4HVbi"
      },
      "source": [
        "correos_train['clase'] = correos_train['clase'].replace(['Carga de Notas'], 'Situación Académica')\n",
        "correos_test['clase'] = correos_test['clase'].replace(['Carga de Notas'], 'Situación Académica')"
      ],
      "execution_count": 10,
      "outputs": []
    },
    {
      "cell_type": "code",
      "metadata": {
        "colab": {
          "base_uri": "https://localhost:8080/"
        },
        "id": "Cllh1wy_fIc4",
        "outputId": "b5c75b18-a28e-4141-9e69-48ad40db8758"
      },
      "source": [
        "import numpy as np\n",
        "\n",
        "np.sort(correos_train['clase'].unique())"
      ],
      "execution_count": 11,
      "outputs": [
        {
          "output_type": "execute_result",
          "data": {
            "text/plain": [
              "array(['Boleto Universitario', 'Cambio de Carrera', 'Cambio de Comisión',\n",
              "       'Consulta por Equivalencias', 'Consulta por Legajo',\n",
              "       'Consulta sobre Título Universitario', 'Cursadas',\n",
              "       'Datos Personales', 'Exámenes', 'Ingreso a la Universidad',\n",
              "       'Pedido de Certificados', 'Problemas con la Clave',\n",
              "       'Reincorporación', 'Requisitos de Ingreso',\n",
              "       'Simultaneidad de Carreras', 'Situación Académica'], dtype=object)"
            ]
          },
          "metadata": {
            "tags": []
          },
          "execution_count": 11
        }
      ]
    },
    {
      "cell_type": "code",
      "metadata": {
        "colab": {
          "base_uri": "https://localhost:8080/"
        },
        "id": "fl0qrI93HrvL",
        "outputId": "6ba0a162-3e0c-4fbc-894d-d622a2897d7e"
      },
      "source": [
        "np.sort(correos_test['clase'].unique())"
      ],
      "execution_count": 12,
      "outputs": [
        {
          "output_type": "execute_result",
          "data": {
            "text/plain": [
              "array(['Boleto Universitario', 'Cambio de Carrera', 'Cambio de Comisión',\n",
              "       'Consulta por Equivalencias', 'Consulta por Legajo',\n",
              "       'Consulta sobre Título Universitario', 'Cursadas',\n",
              "       'Datos Personales', 'Exámenes', 'Ingreso a la Universidad',\n",
              "       'Pedido de Certificados', 'Problemas con la Clave',\n",
              "       'Reincorporación', 'Requisitos de Ingreso',\n",
              "       'Simultaneidad de Carreras', 'Situación Académica'], dtype=object)"
            ]
          },
          "metadata": {
            "tags": []
          },
          "execution_count": 12
        }
      ]
    },
    {
      "cell_type": "markdown",
      "metadata": {
        "id": "2OGsyUnBIOD6"
      },
      "source": [
        "### 3.2 Re-etiquetado de Instancias\n",
        "\n",
        "En este aspecto, se vuelven a etiquetar instancias que estaban mal etiquetadas.\n",
        "\n",
        "En primer lugar se des-setea el ancho de la columna para poder visualizar todo el texto de las consultas:\n"
      ]
    },
    {
      "cell_type": "code",
      "metadata": {
        "id": "EWRNARjJMDp0"
      },
      "source": [
        "pd.set_option('display.max_colwidth', None)"
      ],
      "execution_count": 13,
      "outputs": []
    },
    {
      "cell_type": "markdown",
      "metadata": {
        "id": "fClh29IYMg9p"
      },
      "source": [
        "El proceso consiste en visualizar el texto de las instancias para asegurarnos del reemplazo correcto con el siguiente código: <br />\n",
        "`correos_test.loc[[2]][['Consulta', 'clase']]` <br />\n",
        "Y luego el reemplazo con el método `at`: <br />\n",
        "`correos_test.at[2, 'clase'] = 'Reincorporación'`"
      ]
    },
    {
      "cell_type": "markdown",
      "metadata": {
        "id": "55qoCP6DMFPZ"
      },
      "source": [
        "### 3.2.1 Re-etiquetado de Instancias\n",
        "\n",
        "Comienza el re-etiquetado de instancias:"
      ]
    },
    {
      "cell_type": "code",
      "metadata": {
        "colab": {
          "base_uri": "https://localhost:8080/"
        },
        "id": "uRMhvFl4IYRe",
        "outputId": "eccca7a0-c1c2-4844-c672-324fbc373d9e"
      },
      "source": [
        "print(correos_test.loc[[2]][['Consulta', 'clase']])\n",
        "correos_test.at[2, 'clase'] = 'Reincorporación'\n",
        "print(correos_test.loc[[2]][['Consulta', 'clase']])"
      ],
      "execution_count": 14,
      "outputs": [
        {
          "output_type": "stream",
          "text": [
            "                                                                                                                                                                                                                                                                                                                                       Consulta             clase\n",
            "2  buenas tardes,  me dicen que tengo que reincribirme pero no puedo acceder a la direccion del correo que me indican que me va ha llegar debido que la cuenta fue bloqueada. les pido por favor si pueden enviarme el enace para realizar la reincripcion a esta cuenta . hasta que pueda acceder a mi cuenta . gracias y espero su respuesta   Datos Personales\n",
            "                                                                                                                                                                                                                                                                                                                                       Consulta            clase\n",
            "2  buenas tardes,  me dicen que tengo que reincribirme pero no puedo acceder a la direccion del correo que me indican que me va ha llegar debido que la cuenta fue bloqueada. les pido por favor si pueden enviarme el enace para realizar la reincripcion a esta cuenta . hasta que pueda acceder a mi cuenta . gracias y espero su respuesta   Reincorporación\n"
          ],
          "name": "stdout"
        }
      ]
    },
    {
      "cell_type": "code",
      "metadata": {
        "colab": {
          "base_uri": "https://localhost:8080/"
        },
        "id": "0qrSeQN0JAwr",
        "outputId": "c46b2d74-82c1-4d7c-bcfa-b4a2ab2107d9"
      },
      "source": [
        "print(correos_train.loc[[554]][['Consulta', 'clase']])\n",
        "correos_train.at[554, 'clase'] = 'Cursadas'\n",
        "print(correos_train.loc[[554]][['Consulta', 'clase']])"
      ],
      "execution_count": 15,
      "outputs": [
        {
          "output_type": "stream",
          "text": [
            "                                                                                                                                                                                     Consulta             clase\n",
            "554  buenas tardes,para hacerle una consulta.. como hago con las solicitudes de inscripción para aspirantes rechazadas.. intento de nuevo o tengo q elegir otros horarios?! desde ya gracias   Datos Personales\n",
            "                                                                                                                                                                                     Consulta     clase\n",
            "554  buenas tardes,para hacerle una consulta.. como hago con las solicitudes de inscripción para aspirantes rechazadas.. intento de nuevo o tengo q elegir otros horarios?! desde ya gracias   Cursadas\n"
          ],
          "name": "stdout"
        }
      ]
    },
    {
      "cell_type": "code",
      "metadata": {
        "colab": {
          "base_uri": "https://localhost:8080/"
        },
        "id": "KojdA_ztONdE",
        "outputId": "66715ec6-7529-4314-ab69-8c066669b5cb"
      },
      "source": [
        "print(correos_train.loc[[274]][['Consulta', 'clase']])\n",
        "correos_train.at[274, 'clase'] = 'Cursadas'\n",
        "print(correos_train.loc[[274]][['Consulta', 'clase']])"
      ],
      "execution_count": 16,
      "outputs": [
        {
          "output_type": "stream",
          "text": [
            "                                                       Consulta            clase\n",
            "274  no puedo inscribirme a las materias de este cuatrimestre    Reincorporación\n",
            "                                                       Consulta     clase\n",
            "274  no puedo inscribirme a las materias de este cuatrimestre    Cursadas\n"
          ],
          "name": "stdout"
        }
      ]
    },
    {
      "cell_type": "code",
      "metadata": {
        "colab": {
          "base_uri": "https://localhost:8080/"
        },
        "id": "uZiHBoXrQi5Y",
        "outputId": "de213991-435e-4fd8-b726-721297b760e0"
      },
      "source": [
        "print(correos_train.loc[[232]][['Consulta', 'clase']])\n",
        "correos_train.at[232, 'clase'] = 'Cursadas'\n",
        "print(correos_train.loc[[232]][['Consulta', 'clase']])"
      ],
      "execution_count": 17,
      "outputs": [
        {
          "output_type": "stream",
          "text": [
            "                                                                                                                                          Consulta            clase\n",
            "232  buen dia. necesito regularizarme y saber si voy a poder anotarme en alguna cursada debo generar una nueva clave y contraseña? muchas gracias   Reincorporación\n",
            "                                                                                                                                          Consulta     clase\n",
            "232  buen dia. necesito regularizarme y saber si voy a poder anotarme en alguna cursada debo generar una nueva clave y contraseña? muchas gracias   Cursadas\n"
          ],
          "name": "stdout"
        }
      ]
    },
    {
      "cell_type": "code",
      "metadata": {
        "colab": {
          "base_uri": "https://localhost:8080/"
        },
        "id": "NfhplGGlRAev",
        "outputId": "e6d61d22-d367-4cd8-a4d2-1db75a2d0770"
      },
      "source": [
        "print(correos_train.loc[[366]][['Consulta', 'clase']])\n",
        "correos_train.at[366, 'clase'] = 'Situación Académica'\n",
        "print(correos_train.loc[[366]][['Consulta', 'clase']])"
      ],
      "execution_count": 18,
      "outputs": [
        {
          "output_type": "stream",
          "text": [
            "                                                                               Consulta            clase\n",
            "366  necesito informacion sobre mi situacion academica materias aprobadas y condicion    Reincorporación\n",
            "                                                                               Consulta                clase\n",
            "366  necesito informacion sobre mi situacion academica materias aprobadas y condicion    Situación Académica\n"
          ],
          "name": "stdout"
        }
      ]
    },
    {
      "cell_type": "code",
      "metadata": {
        "colab": {
          "base_uri": "https://localhost:8080/"
        },
        "id": "Y0y-nE2QRUCI",
        "outputId": "f9e1046f-360e-438d-d570-59cd21c51733"
      },
      "source": [
        "print(correos_train.loc[[495]][['Consulta', 'clase']])\n",
        "correos_train.at[495, 'clase'] = 'Cursadas'\n",
        "print(correos_train.loc[[495]][['Consulta', 'clase']])"
      ],
      "execution_count": 19,
      "outputs": [
        {
          "output_type": "stream",
          "text": [
            "                                                            Consulta            clase\n",
            "495  no puedo inscribirme  a las materias del  primer cuatrimestre.   Reincorporación\n",
            "                                                            Consulta     clase\n",
            "495  no puedo inscribirme  a las materias del  primer cuatrimestre.   Cursadas\n"
          ],
          "name": "stdout"
        }
      ]
    },
    {
      "cell_type": "code",
      "metadata": {
        "colab": {
          "base_uri": "https://localhost:8080/"
        },
        "id": "aDDGiAbeRxtF",
        "outputId": "85292420-25e0-4544-9a17-b12d93ed926f"
      },
      "source": [
        "print(correos_train.loc[[772]][['Consulta', 'clase']])\n",
        "correos_train.at[772, 'clase'] = 'Consulta sobre Título Universitario'\n",
        "print(correos_train.loc[[772]][['Consulta', 'clase']])"
      ],
      "execution_count": 20,
      "outputs": [
        {
          "output_type": "stream",
          "text": [
            "                                                                                                                                                                                                                                                                                                                                                                                          Consulta                   clase\n",
            "772  hola.. intente ingresar a mi situación académica y no pude. dice que ya no tengo acceso al sistema.. yo ya me recibi.. pero quiero un certicado de título en trámite.. y saber cuándo me van a dar el título.. me dijeron que era en junio.. me podrían decir cuando puedo tener esos certificados y cuando me dan el título.. y como hago para ingresar a mi situación académica.. gracias.   Pedido de Certificados\n",
            "                                                                                                                                                                                                                                                                                                                                                                                          Consulta                                clase\n",
            "772  hola.. intente ingresar a mi situación académica y no pude. dice que ya no tengo acceso al sistema.. yo ya me recibi.. pero quiero un certicado de título en trámite.. y saber cuándo me van a dar el título.. me dijeron que era en junio.. me podrían decir cuando puedo tener esos certificados y cuando me dan el título.. y como hago para ingresar a mi situación académica.. gracias.   Consulta sobre Título Universitario\n"
          ],
          "name": "stdout"
        }
      ]
    },
    {
      "cell_type": "code",
      "metadata": {
        "colab": {
          "base_uri": "https://localhost:8080/"
        },
        "id": "82IndaQ9S2Eh",
        "outputId": "2113644a-d5f6-4ec4-cb54-5eb7a9a8ad3f"
      },
      "source": [
        "print(correos_train.loc[[611]][['Consulta', 'clase']])\n",
        "correos_train.at[611, 'clase'] = 'Situación Académica'\n",
        "print(correos_train.loc[[611]][['Consulta', 'clase']])"
      ],
      "execution_count": 21,
      "outputs": [
        {
          "output_type": "stream",
          "text": [
            "                                                                                                                                                          Consulta     clase\n",
            "611  me comunico con la intención de saber en que situacion académica me encuentro, ya que califique con cuatro en  el taller de lectura y comprension de textos.   Cursadas\n",
            "                                                                                                                                                          Consulta                clase\n",
            "611  me comunico con la intención de saber en que situacion académica me encuentro, ya que califique con cuatro en  el taller de lectura y comprension de textos.   Situación Académica\n"
          ],
          "name": "stdout"
        }
      ]
    },
    {
      "cell_type": "markdown",
      "metadata": {
        "id": "4U6TUk3qJemb"
      },
      "source": [
        "## 4. Reorganización de los atributos\n",
        "\n",
        "Se definen todos los nombres de atributos en minúsculas:"
      ]
    },
    {
      "cell_type": "code",
      "metadata": {
        "id": "DwMvTGckJmT8"
      },
      "source": [
        "correos_train = correos_train.rename(columns=str.lower)\n",
        "correos_test = correos_test.rename(columns=str.lower)"
      ],
      "execution_count": 22,
      "outputs": []
    },
    {
      "cell_type": "markdown",
      "metadata": {
        "id": "KymyY_nLVEYw"
      },
      "source": [
        "## 5. Conteo de frecuencias de las Clases\n",
        "\n",
        "Se unifican los dos dataframe en uno solo para verificar frecuencias y volver a splitear los dataset de train y test:"
      ]
    },
    {
      "cell_type": "code",
      "metadata": {
        "id": "cqaaj9mzVLw3"
      },
      "source": [
        "correos_etiquetados = pd.concat([correos_train, correos_test])"
      ],
      "execution_count": 23,
      "outputs": []
    },
    {
      "cell_type": "markdown",
      "metadata": {
        "id": "587bWqGqVeki"
      },
      "source": [
        "### 5.1 Histograma de Clases\n",
        "\n",
        "A continuación se plantea una función para graficar el histograma de clases (gráfico de barras con frecuencia observada por clase):\n"
      ]
    },
    {
      "cell_type": "code",
      "metadata": {
        "colab": {
          "base_uri": "https://localhost:8080/",
          "height": 458
        },
        "id": "UsOvpuL6VrJ8",
        "outputId": "a0a87408-62a0-4d0b-a827-56e19cbc0908"
      },
      "source": [
        "import matplotlib.pyplot as plt\n",
        "import seaborn as sns\n",
        "import numpy as np\n",
        "%matplotlib inline\n",
        "\n",
        "def hist_clases(serie_clases, desc_plot, filename_plot):\n",
        "  \"\"\"\n",
        "  Se plotean las clases en función de la distribución de la frecuencia\n",
        "  observada en cada dataset\n",
        "  \"\"\"\n",
        "\n",
        "  # Set figure size\n",
        "  plt.figure(figsize=(14,5))\n",
        "\n",
        "  ax = sns.histplot(serie_clases, kde=True, stat='count', \n",
        "                    bins=serie_clases.unique(), binwidth=0.06, \n",
        "                    color='#c8c6a7', alpha=0.7)\n",
        "\n",
        "  ax.set_xticklabels(serie_clases.unique(),\n",
        "                    rotation=-45, \n",
        "                    horizontalalignment='left', fontweight='light')\n",
        "\n",
        "  for p in ax.patches:\n",
        "      ax.annotate(f'{p.get_height():.0f}\\n',\n",
        "                  (p.get_x() + p.get_width() / 2, p.get_height()), \n",
        "                  ha='center', va='center', color='black')\n",
        "\n",
        "  # Quito el nombre de los ejes (de forma rústica)\n",
        "  plt.xlabel('', fontsize=12)\n",
        "  plt.ylabel('', fontsize=12)\n",
        "\n",
        "  # Guardo el plot en un png\n",
        "  plt.savefig(filename_plot, optimize=True, transparent=True, bbox_inches = 'tight')\n",
        "\n",
        "  # Muestro el gráfico con una descripción\n",
        "  print(f'\\t\\t\\tDistribución de clases para el {desc_plot}')\n",
        "  plt.show()  \n",
        "\n",
        "hist_clases(correos_etiquetados['clase'], 'Total dataset', 'histograma_total.png')"
      ],
      "execution_count": 24,
      "outputs": [
        {
          "output_type": "stream",
          "text": [
            "\t\t\tDistribución de clases para el Total dataset\n"
          ],
          "name": "stdout"
        },
        {
          "output_type": "display_data",
          "data": {
            "image/png": "[encoded data removed]",
            "text/plain": [
              "<Figure size 1008x360 with 1 Axes>"
            ]
          },
          "metadata": {
            "tags": [],
            "needs_background": "light"
          }
        }
      ]
    },
    {
      "cell_type": "code",
      "metadata": {
        "colab": {
          "base_uri": "https://localhost:8080/"
        },
        "id": "kbT7RSfDV90Y",
        "outputId": "71bab8c2-1a7d-4275-b482-18fb7daffee4"
      },
      "source": [
        "correos_etiquetados.shape"
      ],
      "execution_count": 25,
      "outputs": [
        {
          "output_type": "execute_result",
          "data": {
            "text/plain": [
              "(1000, 24)"
            ]
          },
          "metadata": {
            "tags": []
          },
          "execution_count": 25
        }
      ]
    },
    {
      "cell_type": "markdown",
      "metadata": {
        "id": "9Eyte7nmbxOk"
      },
      "source": [
        "## 6. Train/Test dataset\n",
        "\n",
        "Ahora, se splitean los datasets a en una proporción 80/20. Estos datasets se utilizarán para _feature extraction_ y para la generación de los modelos:"
      ]
    },
    {
      "cell_type": "code",
      "metadata": {
        "id": "CPKRnnROcAQL"
      },
      "source": [
        "# Separo datos de entrenamiento y testing\n",
        "from sklearn.model_selection import train_test_split\n",
        "\n",
        "X = correos_etiquetados.drop(columns=['clase'])\n",
        "y = correos_etiquetados['clase']\n",
        "\n",
        "# Separo en 80-20 entrenamiento/validación y testeo\n",
        "X_train, X_test, y_train, y_test = train_test_split(X, y, random_state=0, test_size=0.2, stratify=y)"
      ],
      "execution_count": 26,
      "outputs": []
    },
    {
      "cell_type": "markdown",
      "metadata": {
        "id": "sN_1ukCcevhI"
      },
      "source": [
        "Ahora unificamos X e y para persistir los datasets:"
      ]
    },
    {
      "cell_type": "code",
      "metadata": {
        "id": "xUm_bOKHbLJx"
      },
      "source": [
        "# Reordeno el índice para poder concatenar con el y_train e y_test\n",
        "\n",
        "# Train\n",
        "X_train.reset_index(drop=True, inplace=True)\n",
        "y_train_series = pd.Series(y_train)\n",
        "df_train = X_train.merge(y_train_series.rename('clase'), left_index=True, right_index=True)\n",
        "\n",
        "# Test\n",
        "X_test.reset_index(drop=True, inplace=True)\n",
        "y_test_series = pd.Series(y_test)\n",
        "df_test = X_test.merge(y_test_series.rename('clase'), left_index=True, right_index=True)"
      ],
      "execution_count": 27,
      "outputs": []
    },
    {
      "cell_type": "markdown",
      "metadata": {
        "id": "svtU42ole1Vo"
      },
      "source": [
        "Por último se persisten en _Drive_:"
      ]
    },
    {
      "cell_type": "code",
      "metadata": {
        "colab": {
          "base_uri": "https://localhost:8080/"
        },
        "id": "u7IU3bY1ct2c",
        "outputId": "65d34132-65d2-4f0b-c97d-a0eeaae39592"
      },
      "source": [
        "# Me autentico en Drive\n",
        "from google.colab import drive\n",
        "\n",
        "# Guardo en Drive los datos de entrenamiento\n",
        "df_train.to_csv('correos-train-jaiio-80.csv', index=False)\n",
        "drive.mount('drive')\n",
        "!cp correos-train-jaiio-80.csv \"drive/My Drive/\"\n",
        "\n",
        "# Guardo en Drive los datos de testeo\n",
        "df_test.to_csv('correos-test-jaiio-20.csv', index=False)\n",
        "drive.mount('drive')\n",
        "!cp correos-test-jaiio-20.csv \"drive/My Drive/\""
      ],
      "execution_count": 28,
      "outputs": [
        {
          "output_type": "stream",
          "text": [
            "Mounted at drive\n",
            "Drive already mounted at drive; to attempt to forcibly remount, call drive.mount(\"drive\", force_remount=True).\n"
          ],
          "name": "stdout"
        }
      ]
    },
    {
      "cell_type": "markdown",
      "metadata": {
        "id": "nESQ9FJxkKni"
      },
      "source": [
        "# Referencias:\n",
        "1. [Presentación](0) de apoyo al [Proyecto de Investigación](1) \"Clasificación automática de correos electrónicos\".\n",
        "\n",
        "2. Clasificacion de textos por etiquetado de palabras: [short paper](2).\n",
        "\n",
        "3. [API](3) del diccionario Collins.\n",
        "\n",
        "4. [Funciones](4) de la [API](3) del diccionario Collins.\n",
        "\n",
        "5. Librería [clusteval](5) para la evaluación KMeans.\n",
        "\n",
        "[0]:https://docs.google.com/presentation/d/1-gdZ3dUI2pAfXM6Bgau53U7G4g2Bkv6DlxGESnu7A20/edit?usp=sharing \n",
        "[1]:https://github.com/jumafernandez/clasificacion_correos \n",
        "[2]:https://www.aaai.org/Papers/AAAI/2004/AAAI04-068.pdf\n",
        "[3]:https://pypi.org/project/collins-client/\n",
        "[4]:https://api.collinsdictionary.com/api/v1/documentation/html\n",
        "[5]:https://clusteval.sdu.dk/1/mains"
      ]
    }
  ]
}