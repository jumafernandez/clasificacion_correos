{
  "nbformat": 4,
  "nbformat_minor": 0,
  "metadata": {
    "colab": {
      "name": "00-03-Consolidación train-test dataset.ipynb",
      "provenance": [],
      "collapsed_sections": [
        "jEMfYb7yLN7f",
        "yXbtAWNQLRjz",
        "Bm-9TgWlsu4k",
        "p4Tfjt7KLYFn",
        "Fng9Yl3yMMWX",
        "gnTMaMKgrpVS",
        "EAn-KzzuiKZ3",
        "2NiVh4Q6uogN",
        "yuDWGbedu5ww"
      ],
      "toc_visible": true,
      "include_colab_link": true
    },
    "kernelspec": {
      "name": "python3",
      "display_name": "Python 3"
    },
    "language_info": {
      "name": "python"
    }
  },
  "cells": [
    {
      "cell_type": "markdown",
      "metadata": {
        "id": "view-in-github",
        "colab_type": "text"
      },
      "source": [
        "<a href=\"https://colab.research.google.com/github/jumafernandez/clasificacion_correos/blob/main/notebooks/jaiio/00-03-consolidaci%C3%B3n_train_test_dataset.ipynb\" target=\"_parent\"><img src=\"https://colab.research.google.com/assets/colab-badge.svg\" alt=\"Open In Colab\"/></a>"
      ]
    },
    {
      "cell_type": "markdown",
      "metadata": {
        "id": "50ILJehHy94s"
      },
      "source": [
        "# Trabajo 50 JAIIO: Consolidación del dataset\n",
        "__Título:__ Etiquetado semi-supervisado multiclase de correos electrónicos a partir de estrategias de extracción de características y _Elasticsearch_\n",
        "\n",
        "__Autores:__ Juan Manuel Fernandez, Marcelo Errecalde\n",
        "\n",
        "\n",
        "En esta notebook se consolidan las clases de los correos que forman parte del trabajo dado que se encontraron clases solapadas y ejemplos mal clasificados:"
      ]
    },
    {
      "cell_type": "markdown",
      "metadata": {
        "id": "DnV1ANH0yYRX"
      },
      "source": [
        "## 0. Misceláneos:"
      ]
    },
    {
      "cell_type": "markdown",
      "metadata": {
        "id": "jEMfYb7yLN7f"
      },
      "source": [
        "### Descarga de librerias necesarias"
      ]
    },
    {
      "cell_type": "code",
      "metadata": {
        "id": "XC4t_GNWMRnF",
        "colab": {
          "base_uri": "https://localhost:8080/"
        },
        "outputId": "52da3eec-c59d-44a3-b216-d2cc862afe0f"
      },
      "source": [
        "!pip install requests\n",
        "!pip install wget"
      ],
      "execution_count": 1,
      "outputs": [
        {
          "output_type": "stream",
          "text": [
            "Requirement already satisfied: requests in /usr/local/lib/python3.7/dist-packages (2.23.0)\n",
            "Requirement already satisfied: urllib3!=1.25.0,!=1.25.1,<1.26,>=1.21.1 in /usr/local/lib/python3.7/dist-packages (from requests) (1.24.3)\n",
            "Requirement already satisfied: idna<3,>=2.5 in /usr/local/lib/python3.7/dist-packages (from requests) (2.10)\n",
            "Requirement already satisfied: certifi>=2017.4.17 in /usr/local/lib/python3.7/dist-packages (from requests) (2021.5.30)\n",
            "Requirement already satisfied: chardet<4,>=3.0.2 in /usr/local/lib/python3.7/dist-packages (from requests) (3.0.4)\n",
            "Requirement already satisfied: wget in /usr/local/lib/python3.7/dist-packages (3.2)\n"
          ],
          "name": "stdout"
        }
      ]
    },
    {
      "cell_type": "code",
      "metadata": {
        "id": "i2yHxONsEa1j"
      },
      "source": [
        "import requests\n",
        "\n",
        "# Se hace el request del raw del script python\n",
        "url = 'https://raw.githubusercontent.com/jumafernandez/clasificacion_correos/main/scripts/funciones_dataset.py'\n",
        "r = requests.get(url)\n",
        "\n",
        "# Se guarda en el working directory\n",
        "with open('funciones_dataset.py', 'w') as f:\n",
        "    f.write(r.text)\n",
        "\n",
        "# Se importan las funciones a utilizar\n",
        "from funciones_dataset import consolidar_df, get_clases"
      ],
      "execution_count": 2,
      "outputs": []
    },
    {
      "cell_type": "markdown",
      "metadata": {
        "id": "yXbtAWNQLRjz"
      },
      "source": [
        "### Descarga dataset de train y test\n",
        "\n",
        "Se descargan los datasets con 800 correos en el caso de train y 200 correos para el de test:"
      ]
    },
    {
      "cell_type": "code",
      "metadata": {
        "id": "syFCK2lXbLFI"
      },
      "source": [
        "# Descargo los correos ya etiquetados\n",
        "from os import path\n",
        "\n",
        "if not (path.exists('correos-train-80.csv')):\n",
        "    !wget https://raw.githubusercontent.com/jumafernandez/clasificacion_correos/main/data/50jaiio/correos-train-80.csv\n",
        "\n",
        "if not (path.exists('correos-test-20.csv')):\n",
        "    !wget https://raw.githubusercontent.com/jumafernandez/clasificacion_correos/main/data/50jaiio/correos-test-20.csv"
      ],
      "execution_count": 3,
      "outputs": []
    },
    {
      "cell_type": "markdown",
      "metadata": {
        "id": "Bm-9TgWlsu4k"
      },
      "source": [
        "## 1. Presentación del dataset:"
      ]
    },
    {
      "cell_type": "markdown",
      "metadata": {
        "id": "p4Tfjt7KLYFn"
      },
      "source": [
        "### 1.1 Se levanta en un DataFrame para poder manipularlo"
      ]
    },
    {
      "cell_type": "code",
      "metadata": {
        "id": "3RS4PDFAhEZV"
      },
      "source": [
        "import pandas as pd\n",
        "\n",
        "# Cargo correos en un dataframe\n",
        "correos_train = pd.read_csv('correos-train-80.csv')\n",
        "correos_test = pd.read_csv('correos-test-20.csv')"
      ],
      "execution_count": 4,
      "outputs": []
    },
    {
      "cell_type": "markdown",
      "metadata": {
        "id": "CerbnImkGb7o"
      },
      "source": [
        "## 2. Representación de las clases\n",
        "\n",
        "Pasan a representarse las clases a partir de la etiqueta y no del valor numérico discretizado:\n"
      ]
    },
    {
      "cell_type": "markdown",
      "metadata": {
        "id": "gmzhGN3Q23eK"
      },
      "source": [
        "### 2.1 Transformación de las clases identificadas por el experto"
      ]
    },
    {
      "cell_type": "code",
      "metadata": {
        "colab": {
          "base_uri": "https://localhost:8080/"
        },
        "id": "G41YNnT7oRTy",
        "outputId": "5f9d8b0c-de94-4c7c-c1ca-6bab3daf1664"
      },
      "source": [
        "from sklearn.preprocessing import LabelEncoder\n",
        "\n",
        "clases = get_clases()\n",
        "\n",
        "# Instancio el transformador\n",
        "le = LabelEncoder()\n",
        "\n",
        "# Discretizo\n",
        "clases_disc = le.fit_transform(clases)\n",
        "\n",
        "# Muestro clases originales\n",
        "print(f'Clases originales:\\n{clases}\\n')\n",
        "\n",
        "# Muestro clases discretizadas\n",
        "print(f'Clases discretizadas:\\n{clases_disc}\\n')\n",
        "\n",
        "# Accedo a la clase original por su valor discretizado\n",
        "print(f'Acceso a la original, de id {2} con discretizada: {clases[clases_disc[2]]}')"
      ],
      "execution_count": 5,
      "outputs": [
        {
          "output_type": "stream",
          "text": [
            "Clases originales:\n",
            "['Boleto Universitario' 'Cambio de Carrera' 'Cambio de Comisión'\n",
            " 'Carga de Notas' 'Certificados Web' 'Consulta por Equivalencias'\n",
            " 'Consulta por Legajo' 'Consulta sobre Título Universitario' 'Cursadas'\n",
            " 'Datos Personales' 'Exámenes' 'Ingreso a la Universidad'\n",
            " 'Inscripción a Cursadas' 'Pedido de Certificados'\n",
            " 'Problemas con la Clave' 'Reincorporación' 'Requisitos de Ingreso'\n",
            " 'Simultaneidad de Carreras' 'Situación Académica' 'Vacunas Enfermería']\n",
            "\n",
            "Clases discretizadas:\n",
            "[ 0  1  2  3  4  5  6  7  8  9 10 11 12 13 14 15 16 17 18 19]\n",
            "\n",
            "Acceso a la original, de id 2 con discretizada: Cambio de Comisión\n"
          ],
          "name": "stdout"
        }
      ]
    },
    {
      "cell_type": "markdown",
      "metadata": {
        "id": "WyRA7ZM7tYBb"
      },
      "source": [
        "### 2.2 Creación de un dataframe con las clases originales sin discretizar"
      ]
    },
    {
      "cell_type": "code",
      "metadata": {
        "colab": {
          "base_uri": "https://localhost:8080/"
        },
        "id": "vYqR7Ckl4OT2",
        "outputId": "9d0f3cc1-329e-4349-ac5e-3e78aac2a967"
      },
      "source": [
        "# Aplico una transformacion inversa para des-discretizar\n",
        "correos_train['clase'] = le.inverse_transform(correos_train['clase'])\n",
        "correos_test['clase'] = le.inverse_transform(correos_test['clase'])\n",
        "\n",
        "total_etiquetados = pd.concat([correos_train, correos_test])\n",
        "\n",
        "# Muestro las primeras 5 clases originales\n",
        "correos_train['clase'].head()\n",
        "correos_test['clase'].head()"
      ],
      "execution_count": 6,
      "outputs": [
        {
          "output_type": "execute_result",
          "data": {
            "text/plain": [
              "0        Boleto Universitario\n",
              "1       Requisitos de Ingreso\n",
              "2            Datos Personales\n",
              "3    Ingreso a la Universidad\n",
              "4             Reincorporación\n",
              "Name: clase, dtype: object"
            ]
          },
          "metadata": {
            "tags": []
          },
          "execution_count": 6
        }
      ]
    },
    {
      "cell_type": "markdown",
      "metadata": {
        "id": "Xv3qR7Pr99w3"
      },
      "source": [
        "### 2.3 Unificación del dataset\n",
        "\n",
        "Se unifica el dataset de train y test en un único dataset. Luego se vuelve a separar en train y test:"
      ]
    },
    {
      "cell_type": "code",
      "metadata": {
        "id": "sWLFwAkZ98x5"
      },
      "source": [
        "import pandas as pd\n",
        "\n",
        "correos_etiquetados = pd.concat([correos_train, correos_test], ignore_index=True)"
      ],
      "execution_count": 7,
      "outputs": []
    },
    {
      "cell_type": "markdown",
      "metadata": {
        "id": "EAn-KzzuiKZ3"
      },
      "source": [
        "## 3. Reorganización de las clases\n",
        "\n",
        "A partir de falencias en el etiquetado encontradas en la construcción del modelo, se mejora el etiquetado en dos aspectos:\n",
        "1. Se reorganizan las clases,\n",
        "2. Se re-etiquetan algunas instancias\n",
        "\n",
        "Además, se guardarán los correos con las clases sin discretizar (etiquetas textuales).\n"
      ]
    },
    {
      "cell_type": "markdown",
      "metadata": {
        "id": "HWEdk-gVCu6D"
      },
      "source": [
        "### 3.1 Reorganización de las clases\n",
        "\n",
        "En este aspecto, se realizan los siguientes cambios:\n",
        "- La clase 'Vacunas Enfermería' se unifica con 'Reguisitos de Ingreso'.\n",
        "- La clase 'Inscripción a Cursadas' se unifica con 'Cursadas'.\n",
        "- La clase 'Certificados Web' se unifica con 'Pedido de Certificados' que a su vez pasa a llamarse 'Emisión de Certificados'.\n",
        "- La clase 'Carga de Notas' se unifica con 'Situación Académica'."
      ]
    },
    {
      "cell_type": "code",
      "metadata": {
        "id": "PfzLNya--TTI"
      },
      "source": [
        "correos_etiquetados['clase'] = correos_etiquetados['clase'].replace(['Vacunas Enfermería'], 'Requisitos de Ingreso')"
      ],
      "execution_count": 8,
      "outputs": []
    },
    {
      "cell_type": "code",
      "metadata": {
        "id": "7WE2WGg_GVdD"
      },
      "source": [
        "correos_etiquetados['clase'] = correos_etiquetados['clase'].replace(['Inscripción a Cursadas'], 'Cursadas')"
      ],
      "execution_count": 9,
      "outputs": []
    },
    {
      "cell_type": "code",
      "metadata": {
        "id": "bWXMZ0XnHDGp"
      },
      "source": [
        "correos_etiquetados['clase'] = correos_etiquetados['clase'].replace(['Certificados Web'], 'Pedido de Certificados')"
      ],
      "execution_count": 10,
      "outputs": []
    },
    {
      "cell_type": "code",
      "metadata": {
        "id": "sBVBWLy4HVbi"
      },
      "source": [
        "correos_etiquetados['clase'] = correos_etiquetados['clase'].replace(['Carga de Notas'], 'Situación Académica')"
      ],
      "execution_count": 11,
      "outputs": []
    },
    {
      "cell_type": "code",
      "metadata": {
        "colab": {
          "base_uri": "https://localhost:8080/"
        },
        "id": "Cllh1wy_fIc4",
        "outputId": "dbf0df51-110b-4d9b-f794-4fa074a2266b"
      },
      "source": [
        "import numpy as np\n",
        "\n",
        "np.sort(correos_etiquetados['clase'].unique())"
      ],
      "execution_count": 12,
      "outputs": [
        {
          "output_type": "execute_result",
          "data": {
            "text/plain": [
              "array(['Boleto Universitario', 'Cambio de Carrera', 'Cambio de Comisión',\n",
              "       'Consulta por Equivalencias', 'Consulta por Legajo',\n",
              "       'Consulta sobre Título Universitario', 'Cursadas',\n",
              "       'Datos Personales', 'Exámenes', 'Ingreso a la Universidad',\n",
              "       'Pedido de Certificados', 'Problemas con la Clave',\n",
              "       'Reincorporación', 'Requisitos de Ingreso',\n",
              "       'Simultaneidad de Carreras', 'Situación Académica'], dtype=object)"
            ]
          },
          "metadata": {
            "tags": []
          },
          "execution_count": 12
        }
      ]
    },
    {
      "cell_type": "markdown",
      "metadata": {
        "id": "2OGsyUnBIOD6"
      },
      "source": [
        "### 3.2 Re-etiquetado de Instancias\n",
        "\n",
        "En este aspecto, se vuelven a etiquetar instancias que estaban mal etiquetadas.\n",
        "\n",
        "En primer lugar se des-setea el ancho de la columna para poder visualizar todo el texto de las consultas:\n"
      ]
    },
    {
      "cell_type": "code",
      "metadata": {
        "id": "EWRNARjJMDp0"
      },
      "source": [
        "pd.set_option('display.max_colwidth', None)"
      ],
      "execution_count": 13,
      "outputs": []
    },
    {
      "cell_type": "markdown",
      "metadata": {
        "id": "fClh29IYMg9p"
      },
      "source": [
        "El proceso consiste en visualizar el texto de las instancias para asegurarnos del reemplazo correcto con el siguiente código: <br />\n",
        "`correos_etiquetados.loc[[2]][['Consulta', 'clase']]` <br />\n",
        "Y luego el reemplazo con el método `at`: <br />\n",
        "`correos_etiquetados.at[2, 'clase'] = 'Reincorporación'`"
      ]
    },
    {
      "cell_type": "markdown",
      "metadata": {
        "id": "anYNxAsRM1KW"
      },
      "source": [
        "Además, se crea una función para realizar modificaciones de clase a partir del texto de la consulta:"
      ]
    },
    {
      "cell_type": "code",
      "metadata": {
        "id": "2ac6BV1pM6M0"
      },
      "source": [
        "def modificar_clase(df, texto_consulta, nueva_clase):\n",
        "  '''\n",
        "  Esta función modifica el atributo \"clase\" asignado a un correo a partir de \n",
        "  comparar texto_consulta contra el atributo \"Consulta\"\n",
        "  '''\n",
        "  # Se busca el índice\n",
        "  indice = int(df.query(f\"Consulta == '{texto_consulta}'\").index.values)\n",
        "\n",
        "  if indice:\n",
        "    # Se reemplaza con la clase que corresponde\n",
        "    df.at[indice, 'clase'] = nueva_clase\n",
        " \n",
        "  return df, indice"
      ],
      "execution_count": 14,
      "outputs": []
    },
    {
      "cell_type": "markdown",
      "metadata": {
        "id": "55qoCP6DMFPZ"
      },
      "source": [
        "#### 3.2.1 Re-etiquetado de Instancias por id\n",
        "\n",
        "Comienza el re-etiquetado de instancias:"
      ]
    },
    {
      "cell_type": "code",
      "metadata": {
        "colab": {
          "base_uri": "https://localhost:8080/"
        },
        "id": "uRMhvFl4IYRe",
        "outputId": "178ba8cb-097b-4505-f65f-dca433de6fb0"
      },
      "source": [
        "print(correos_test.loc[[2]][['Consulta', 'clase']])\n",
        "correos_test.at[2, 'clase'] = 'Reincorporación'\n",
        "print(correos_test.loc[[2]][['Consulta', 'clase']])"
      ],
      "execution_count": 15,
      "outputs": [
        {
          "output_type": "stream",
          "text": [
            "                                                                                                                                                                                                                                                                                                                                       Consulta             clase\n",
            "2  buenas tardes,  me dicen que tengo que reincribirme pero no puedo acceder a la direccion del correo que me indican que me va ha llegar debido que la cuenta fue bloqueada. les pido por favor si pueden enviarme el enace para realizar la reincripcion a esta cuenta . hasta que pueda acceder a mi cuenta . gracias y espero su respuesta   Datos Personales\n",
            "                                                                                                                                                                                                                                                                                                                                       Consulta            clase\n",
            "2  buenas tardes,  me dicen que tengo que reincribirme pero no puedo acceder a la direccion del correo que me indican que me va ha llegar debido que la cuenta fue bloqueada. les pido por favor si pueden enviarme el enace para realizar la reincripcion a esta cuenta . hasta que pueda acceder a mi cuenta . gracias y espero su respuesta   Reincorporación\n"
          ],
          "name": "stdout"
        }
      ]
    },
    {
      "cell_type": "code",
      "metadata": {
        "colab": {
          "base_uri": "https://localhost:8080/",
          "height": 661
        },
        "id": "cPiqvLPT-viL",
        "outputId": "e305aea6-b7a6-4326-f076-db26f66294bc"
      },
      "source": [
        "# Se transcribe la consulta\n",
        "consulta = \"buenas tardes,  me dicen que tengo que reincribirme pero no puedo acceder a la direccion del correo que me indican que me va ha llegar debido que la cuenta fue bloqueada. les pido por favor si pueden enviarme el enace para realizar la reincripcion a esta cuenta . hasta que pueda acceder a mi cuenta . gracias y espero su respuesta \"\n",
        "\n",
        "# Se busca el índice\n",
        "indice = int(correos_etiquetados.query(f\"Consulta == '{consulta}'\").index.values)\n",
        "\n",
        "# Se reemplaza con la clase que corresponde\n",
        "correos_etiquetados.at[indice, 'clase'] = 'Reincorporación'\n",
        "\n",
        "# Se muestra\n",
        "correos_etiquetados.query(f\"Consulta == '{consulta}'\")"
      ],
      "execution_count": 16,
      "outputs": [
        {
          "output_type": "execute_result",
          "data": {
            "text/html": [
              "<div>\n",
              "<style scoped>\n",
              "    .dataframe tbody tr th:only-of-type {\n",
              "        vertical-align: middle;\n",
              "    }\n",
              "\n",
              "    .dataframe tbody tr th {\n",
              "        vertical-align: top;\n",
              "    }\n",
              "\n",
              "    .dataframe thead th {\n",
              "        text-align: right;\n",
              "    }\n",
              "</style>\n",
              "<table border=\"1\" class=\"dataframe\">\n",
              "  <thead>\n",
              "    <tr style=\"text-align: right;\">\n",
              "      <th></th>\n",
              "      <th>Consulta</th>\n",
              "      <th>dia_semana</th>\n",
              "      <th>semana_del_mes</th>\n",
              "      <th>mes</th>\n",
              "      <th>cuatrimestre</th>\n",
              "      <th>anio</th>\n",
              "      <th>hora_discretizada</th>\n",
              "      <th>dni_discretizado</th>\n",
              "      <th>legajo_discretizado</th>\n",
              "      <th>posee_legajo</th>\n",
              "      <th>posee_telefono</th>\n",
              "      <th>carrera_valor</th>\n",
              "      <th>proveedor_correo</th>\n",
              "      <th>cantidad_caracteres</th>\n",
              "      <th>proporcion_mayusculas</th>\n",
              "      <th>proporcion_letras</th>\n",
              "      <th>cantidad_tildes</th>\n",
              "      <th>cantidad_palabras</th>\n",
              "      <th>cantidad_palabras_cortas</th>\n",
              "      <th>proporcion_palabras_distintas</th>\n",
              "      <th>frecuencia_signos_puntuacion</th>\n",
              "      <th>cantidad_oraciones</th>\n",
              "      <th>utiliza_codigo_asignatura</th>\n",
              "      <th>clase</th>\n",
              "    </tr>\n",
              "  </thead>\n",
              "  <tbody>\n",
              "    <tr>\n",
              "      <th>802</th>\n",
              "      <td>buenas tardes,  me dicen que tengo que reincribirme pero no puedo acceder a la direccion del correo que me indican que me va ha llegar debido que la cuenta fue bloqueada. les pido por favor si pueden enviarme el enace para realizar la reincripcion a esta cuenta . hasta que pueda acceder a mi cuenta . gracias y espero su respuesta</td>\n",
              "      <td>1</td>\n",
              "      <td>4</td>\n",
              "      <td>2</td>\n",
              "      <td>1</td>\n",
              "      <td>2017</td>\n",
              "      <td>2</td>\n",
              "      <td>1</td>\n",
              "      <td>1</td>\n",
              "      <td>1</td>\n",
              "      <td>1</td>\n",
              "      <td>5</td>\n",
              "      <td>13</td>\n",
              "      <td>332</td>\n",
              "      <td>0.0</td>\n",
              "      <td>0.801205</td>\n",
              "      <td>0</td>\n",
              "      <td>63</td>\n",
              "      <td>35</td>\n",
              "      <td>0.746032</td>\n",
              "      <td>0.012048</td>\n",
              "      <td>3</td>\n",
              "      <td>0</td>\n",
              "      <td>Reincorporación</td>\n",
              "    </tr>\n",
              "  </tbody>\n",
              "</table>\n",
              "</div>"
            ],
            "text/plain": [
              "                                                                                                                                                                                                                                                                                                                                         Consulta  ...            clase\n",
              "802  buenas tardes,  me dicen que tengo que reincribirme pero no puedo acceder a la direccion del correo que me indican que me va ha llegar debido que la cuenta fue bloqueada. les pido por favor si pueden enviarme el enace para realizar la reincripcion a esta cuenta . hasta que pueda acceder a mi cuenta . gracias y espero su respuesta   ...  Reincorporación\n",
              "\n",
              "[1 rows x 24 columns]"
            ]
          },
          "metadata": {
            "tags": []
          },
          "execution_count": 16
        }
      ]
    },
    {
      "cell_type": "code",
      "metadata": {
        "colab": {
          "base_uri": "https://localhost:8080/",
          "height": 406
        },
        "id": "0qrSeQN0JAwr",
        "outputId": "0c94ed56-1e75-4495-9d1f-a8316a4c450f"
      },
      "source": [
        "# Se transcribe la consulta\n",
        "consulta = \"buenas tardes,para hacerle una consulta.. como hago con las solicitudes de inscripción para aspirantes rechazadas.. intento de nuevo o tengo q elegir otros horarios?! desde ya gracias \"\n",
        "\n",
        "# Se busca el índice\n",
        "indice = int(correos_etiquetados.query(f\"Consulta == '{consulta}'\").index.values)\n",
        "\n",
        "# Se reemplaza con la clase que corresponde\n",
        "correos_etiquetados.at[indice, 'clase'] = 'Cursadas'\n",
        "\n",
        "# Se muestra\n",
        "correos_etiquetados.query(f\"Consulta == '{consulta}'\")"
      ],
      "execution_count": 17,
      "outputs": [
        {
          "output_type": "execute_result",
          "data": {
            "text/html": [
              "<div>\n",
              "<style scoped>\n",
              "    .dataframe tbody tr th:only-of-type {\n",
              "        vertical-align: middle;\n",
              "    }\n",
              "\n",
              "    .dataframe tbody tr th {\n",
              "        vertical-align: top;\n",
              "    }\n",
              "\n",
              "    .dataframe thead th {\n",
              "        text-align: right;\n",
              "    }\n",
              "</style>\n",
              "<table border=\"1\" class=\"dataframe\">\n",
              "  <thead>\n",
              "    <tr style=\"text-align: right;\">\n",
              "      <th></th>\n",
              "      <th>Consulta</th>\n",
              "      <th>dia_semana</th>\n",
              "      <th>semana_del_mes</th>\n",
              "      <th>mes</th>\n",
              "      <th>cuatrimestre</th>\n",
              "      <th>anio</th>\n",
              "      <th>hora_discretizada</th>\n",
              "      <th>dni_discretizado</th>\n",
              "      <th>legajo_discretizado</th>\n",
              "      <th>posee_legajo</th>\n",
              "      <th>posee_telefono</th>\n",
              "      <th>carrera_valor</th>\n",
              "      <th>proveedor_correo</th>\n",
              "      <th>cantidad_caracteres</th>\n",
              "      <th>proporcion_mayusculas</th>\n",
              "      <th>proporcion_letras</th>\n",
              "      <th>cantidad_tildes</th>\n",
              "      <th>cantidad_palabras</th>\n",
              "      <th>cantidad_palabras_cortas</th>\n",
              "      <th>proporcion_palabras_distintas</th>\n",
              "      <th>frecuencia_signos_puntuacion</th>\n",
              "      <th>cantidad_oraciones</th>\n",
              "      <th>utiliza_codigo_asignatura</th>\n",
              "      <th>clase</th>\n",
              "    </tr>\n",
              "  </thead>\n",
              "  <tbody>\n",
              "    <tr>\n",
              "      <th>554</th>\n",
              "      <td>buenas tardes,para hacerle una consulta.. como hago con las solicitudes de inscripción para aspirantes rechazadas.. intento de nuevo o tengo q elegir otros horarios?! desde ya gracias</td>\n",
              "      <td>3</td>\n",
              "      <td>3</td>\n",
              "      <td>2</td>\n",
              "      <td>1</td>\n",
              "      <td>2019</td>\n",
              "      <td>1</td>\n",
              "      <td>4</td>\n",
              "      <td>0</td>\n",
              "      <td>0</td>\n",
              "      <td>1</td>\n",
              "      <td>43</td>\n",
              "      <td>6</td>\n",
              "      <td>184</td>\n",
              "      <td>0.0</td>\n",
              "      <td>0.815217</td>\n",
              "      <td>1</td>\n",
              "      <td>28</td>\n",
              "      <td>12</td>\n",
              "      <td>0.964286</td>\n",
              "      <td>0.038043</td>\n",
              "      <td>4</td>\n",
              "      <td>0</td>\n",
              "      <td>Cursadas</td>\n",
              "    </tr>\n",
              "  </tbody>\n",
              "</table>\n",
              "</div>"
            ],
            "text/plain": [
              "                                                                                                                                                                                     Consulta  ...     clase\n",
              "554  buenas tardes,para hacerle una consulta.. como hago con las solicitudes de inscripción para aspirantes rechazadas.. intento de nuevo o tengo q elegir otros horarios?! desde ya gracias   ...  Cursadas\n",
              "\n",
              "[1 rows x 24 columns]"
            ]
          },
          "metadata": {
            "tags": []
          },
          "execution_count": 17
        }
      ]
    },
    {
      "cell_type": "code",
      "metadata": {
        "colab": {
          "base_uri": "https://localhost:8080/",
          "height": 185
        },
        "id": "KojdA_ztONdE",
        "outputId": "3f11493d-eee8-43f2-b04a-fa96855cb6d1"
      },
      "source": [
        "# Se transcribe la consulta\n",
        "consulta = \"no puedo inscribirme a las materias de este cuatrimestre  \"\n",
        "\n",
        "# Se busca el índice\n",
        "indice = int(correos_etiquetados.query(f\"Consulta == '{consulta}'\").index.values)\n",
        "\n",
        "# Se reemplaza con la clase que corresponde\n",
        "correos_etiquetados.at[indice, 'clase'] = 'Cursadas'\n",
        "\n",
        "# Se muestra\n",
        "correos_etiquetados.query(f\"Consulta == '{consulta}'\")"
      ],
      "execution_count": 18,
      "outputs": [
        {
          "output_type": "execute_result",
          "data": {
            "text/html": [
              "<div>\n",
              "<style scoped>\n",
              "    .dataframe tbody tr th:only-of-type {\n",
              "        vertical-align: middle;\n",
              "    }\n",
              "\n",
              "    .dataframe tbody tr th {\n",
              "        vertical-align: top;\n",
              "    }\n",
              "\n",
              "    .dataframe thead th {\n",
              "        text-align: right;\n",
              "    }\n",
              "</style>\n",
              "<table border=\"1\" class=\"dataframe\">\n",
              "  <thead>\n",
              "    <tr style=\"text-align: right;\">\n",
              "      <th></th>\n",
              "      <th>Consulta</th>\n",
              "      <th>dia_semana</th>\n",
              "      <th>semana_del_mes</th>\n",
              "      <th>mes</th>\n",
              "      <th>cuatrimestre</th>\n",
              "      <th>anio</th>\n",
              "      <th>hora_discretizada</th>\n",
              "      <th>dni_discretizado</th>\n",
              "      <th>legajo_discretizado</th>\n",
              "      <th>posee_legajo</th>\n",
              "      <th>posee_telefono</th>\n",
              "      <th>carrera_valor</th>\n",
              "      <th>proveedor_correo</th>\n",
              "      <th>cantidad_caracteres</th>\n",
              "      <th>proporcion_mayusculas</th>\n",
              "      <th>proporcion_letras</th>\n",
              "      <th>cantidad_tildes</th>\n",
              "      <th>cantidad_palabras</th>\n",
              "      <th>cantidad_palabras_cortas</th>\n",
              "      <th>proporcion_palabras_distintas</th>\n",
              "      <th>frecuencia_signos_puntuacion</th>\n",
              "      <th>cantidad_oraciones</th>\n",
              "      <th>utiliza_codigo_asignatura</th>\n",
              "      <th>clase</th>\n",
              "    </tr>\n",
              "  </thead>\n",
              "  <tbody>\n",
              "    <tr>\n",
              "      <th>274</th>\n",
              "      <td>no puedo inscribirme a las materias de este cuatrimestre</td>\n",
              "      <td>2</td>\n",
              "      <td>1</td>\n",
              "      <td>3</td>\n",
              "      <td>1</td>\n",
              "      <td>2019</td>\n",
              "      <td>3</td>\n",
              "      <td>4</td>\n",
              "      <td>2</td>\n",
              "      <td>1</td>\n",
              "      <td>1</td>\n",
              "      <td>3</td>\n",
              "      <td>6</td>\n",
              "      <td>58</td>\n",
              "      <td>0.0</td>\n",
              "      <td>0.827586</td>\n",
              "      <td>0</td>\n",
              "      <td>11</td>\n",
              "      <td>7</td>\n",
              "      <td>0.909091</td>\n",
              "      <td>0.0</td>\n",
              "      <td>1</td>\n",
              "      <td>0</td>\n",
              "      <td>Cursadas</td>\n",
              "    </tr>\n",
              "  </tbody>\n",
              "</table>\n",
              "</div>"
            ],
            "text/plain": [
              "                                                       Consulta  ...     clase\n",
              "274  no puedo inscribirme a las materias de este cuatrimestre    ...  Cursadas\n",
              "\n",
              "[1 rows x 24 columns]"
            ]
          },
          "metadata": {
            "tags": []
          },
          "execution_count": 18
        }
      ]
    },
    {
      "cell_type": "code",
      "metadata": {
        "colab": {
          "base_uri": "https://localhost:8080/",
          "height": 97
        },
        "id": "uZiHBoXrQi5Y",
        "outputId": "00d27be0-7625-4ee4-a07a-05c1cb20a330"
      },
      "source": [
        "# Se transcribe la consulta\n",
        "consulta = \"buen dia. necesito regularizarme y saber si voy a poder anotarme en alguna cursada debo generar una nueva clave y contraseña? muchas gracias \"\n",
        "\n",
        "# Se busca el índice\n",
        "indice = int(correos_etiquetados.query(f\"Consulta == '{consulta}'\").index.values)\n",
        "\n",
        "# Se reemplaza con la clase que corresponde\n",
        "correos_etiquetados.at[indice, 'clase'] = 'Cursadas'\n",
        "\n",
        "# Se muestra\n",
        "correos_etiquetados.query(f\"Consulta == '{consulta}'\")[['Consulta', 'clase']]"
      ],
      "execution_count": 19,
      "outputs": [
        {
          "output_type": "execute_result",
          "data": {
            "text/html": [
              "<div>\n",
              "<style scoped>\n",
              "    .dataframe tbody tr th:only-of-type {\n",
              "        vertical-align: middle;\n",
              "    }\n",
              "\n",
              "    .dataframe tbody tr th {\n",
              "        vertical-align: top;\n",
              "    }\n",
              "\n",
              "    .dataframe thead th {\n",
              "        text-align: right;\n",
              "    }\n",
              "</style>\n",
              "<table border=\"1\" class=\"dataframe\">\n",
              "  <thead>\n",
              "    <tr style=\"text-align: right;\">\n",
              "      <th></th>\n",
              "      <th>Consulta</th>\n",
              "      <th>clase</th>\n",
              "    </tr>\n",
              "  </thead>\n",
              "  <tbody>\n",
              "    <tr>\n",
              "      <th>232</th>\n",
              "      <td>buen dia. necesito regularizarme y saber si voy a poder anotarme en alguna cursada debo generar una nueva clave y contraseña? muchas gracias</td>\n",
              "      <td>Cursadas</td>\n",
              "    </tr>\n",
              "  </tbody>\n",
              "</table>\n",
              "</div>"
            ],
            "text/plain": [
              "                                                                                                                                          Consulta     clase\n",
              "232  buen dia. necesito regularizarme y saber si voy a poder anotarme en alguna cursada debo generar una nueva clave y contraseña? muchas gracias   Cursadas"
            ]
          },
          "metadata": {
            "tags": []
          },
          "execution_count": 19
        }
      ]
    },
    {
      "cell_type": "code",
      "metadata": {
        "colab": {
          "base_uri": "https://localhost:8080/",
          "height": 80
        },
        "id": "NfhplGGlRAev",
        "outputId": "495d1182-bc0b-40a8-c613-9c7e74f4f0b9"
      },
      "source": [
        "consulta = 'necesito informacion sobre mi situacion academica materias aprobadas y condicion  '\n",
        "\n",
        "# Se busca el índice\n",
        "indice = int(correos_etiquetados.query(f\"Consulta == '{consulta}'\").index.values)\n",
        "\n",
        "# Se reemplaza con la clase que corresponde\n",
        "correos_etiquetados.at[indice, 'clase'] = 'Situación Académica'\n",
        "\n",
        "# Se muestra\n",
        "correos_etiquetados.query(f\"Consulta == '{consulta}'\")[['Consulta', 'clase']]"
      ],
      "execution_count": 20,
      "outputs": [
        {
          "output_type": "execute_result",
          "data": {
            "text/html": [
              "<div>\n",
              "<style scoped>\n",
              "    .dataframe tbody tr th:only-of-type {\n",
              "        vertical-align: middle;\n",
              "    }\n",
              "\n",
              "    .dataframe tbody tr th {\n",
              "        vertical-align: top;\n",
              "    }\n",
              "\n",
              "    .dataframe thead th {\n",
              "        text-align: right;\n",
              "    }\n",
              "</style>\n",
              "<table border=\"1\" class=\"dataframe\">\n",
              "  <thead>\n",
              "    <tr style=\"text-align: right;\">\n",
              "      <th></th>\n",
              "      <th>Consulta</th>\n",
              "      <th>clase</th>\n",
              "    </tr>\n",
              "  </thead>\n",
              "  <tbody>\n",
              "    <tr>\n",
              "      <th>366</th>\n",
              "      <td>necesito informacion sobre mi situacion academica materias aprobadas y condicion</td>\n",
              "      <td>Situación Académica</td>\n",
              "    </tr>\n",
              "  </tbody>\n",
              "</table>\n",
              "</div>"
            ],
            "text/plain": [
              "                                                                               Consulta                clase\n",
              "366  necesito informacion sobre mi situacion academica materias aprobadas y condicion    Situación Académica"
            ]
          },
          "metadata": {
            "tags": []
          },
          "execution_count": 20
        }
      ]
    },
    {
      "cell_type": "code",
      "metadata": {
        "colab": {
          "base_uri": "https://localhost:8080/",
          "height": 80
        },
        "id": "Y0y-nE2QRUCI",
        "outputId": "250adb32-b936-4e7d-9f90-e7ef9332ec07"
      },
      "source": [
        "consulta = 'no puedo inscribirme  a las materias del  primer cuatrimestre. '\n",
        "\n",
        "# Se busca el índice\n",
        "indice = int(correos_etiquetados.query(f\"Consulta == '{consulta}'\").index.values)\n",
        "\n",
        "# Se reemplaza con la clase que corresponde\n",
        "correos_etiquetados.at[indice, 'clase'] = 'Cursadas'\n",
        "\n",
        "# Se muestra\n",
        "correos_etiquetados.query(f\"Consulta == '{consulta}'\")[['Consulta', 'clase']]"
      ],
      "execution_count": 21,
      "outputs": [
        {
          "output_type": "execute_result",
          "data": {
            "text/html": [
              "<div>\n",
              "<style scoped>\n",
              "    .dataframe tbody tr th:only-of-type {\n",
              "        vertical-align: middle;\n",
              "    }\n",
              "\n",
              "    .dataframe tbody tr th {\n",
              "        vertical-align: top;\n",
              "    }\n",
              "\n",
              "    .dataframe thead th {\n",
              "        text-align: right;\n",
              "    }\n",
              "</style>\n",
              "<table border=\"1\" class=\"dataframe\">\n",
              "  <thead>\n",
              "    <tr style=\"text-align: right;\">\n",
              "      <th></th>\n",
              "      <th>Consulta</th>\n",
              "      <th>clase</th>\n",
              "    </tr>\n",
              "  </thead>\n",
              "  <tbody>\n",
              "    <tr>\n",
              "      <th>495</th>\n",
              "      <td>no puedo inscribirme  a las materias del  primer cuatrimestre.</td>\n",
              "      <td>Cursadas</td>\n",
              "    </tr>\n",
              "  </tbody>\n",
              "</table>\n",
              "</div>"
            ],
            "text/plain": [
              "                                                            Consulta     clase\n",
              "495  no puedo inscribirme  a las materias del  primer cuatrimestre.   Cursadas"
            ]
          },
          "metadata": {
            "tags": []
          },
          "execution_count": 21
        }
      ]
    },
    {
      "cell_type": "code",
      "metadata": {
        "colab": {
          "base_uri": "https://localhost:8080/",
          "height": 131
        },
        "id": "aDDGiAbeRxtF",
        "outputId": "47e37a9a-07e9-4259-f488-208e166d9e40"
      },
      "source": [
        "consulta = 'hola.. intente ingresar a mi situación académica y no pude. dice que ya no tengo acceso al sistema.. yo ya me recibi.. pero quiero un certicado de título en trámite.. y saber cuándo me van a dar el título.. me dijeron que era en junio.. me podrían decir cuando puedo tener esos certificados y cuando me dan el título.. y como hago para ingresar a mi situación académica.. gracias. '\n",
        "\n",
        "# Se busca el índice\n",
        "indice = int(correos_etiquetados.query(f\"Consulta == '{consulta}'\").index.values)\n",
        "\n",
        "# Se reemplaza con la clase que corresponde\n",
        "correos_etiquetados.at[indice, 'clase'] = 'Consulta sobre Título Universitario'\n",
        "\n",
        "# Se muestra\n",
        "correos_etiquetados.query(f\"Consulta == '{consulta}'\")[['Consulta', 'clase']]"
      ],
      "execution_count": 22,
      "outputs": [
        {
          "output_type": "execute_result",
          "data": {
            "text/html": [
              "<div>\n",
              "<style scoped>\n",
              "    .dataframe tbody tr th:only-of-type {\n",
              "        vertical-align: middle;\n",
              "    }\n",
              "\n",
              "    .dataframe tbody tr th {\n",
              "        vertical-align: top;\n",
              "    }\n",
              "\n",
              "    .dataframe thead th {\n",
              "        text-align: right;\n",
              "    }\n",
              "</style>\n",
              "<table border=\"1\" class=\"dataframe\">\n",
              "  <thead>\n",
              "    <tr style=\"text-align: right;\">\n",
              "      <th></th>\n",
              "      <th>Consulta</th>\n",
              "      <th>clase</th>\n",
              "    </tr>\n",
              "  </thead>\n",
              "  <tbody>\n",
              "    <tr>\n",
              "      <th>772</th>\n",
              "      <td>hola.. intente ingresar a mi situación académica y no pude. dice que ya no tengo acceso al sistema.. yo ya me recibi.. pero quiero un certicado de título en trámite.. y saber cuándo me van a dar el título.. me dijeron que era en junio.. me podrían decir cuando puedo tener esos certificados y cuando me dan el título.. y como hago para ingresar a mi situación académica.. gracias.</td>\n",
              "      <td>Consulta sobre Título Universitario</td>\n",
              "    </tr>\n",
              "  </tbody>\n",
              "</table>\n",
              "</div>"
            ],
            "text/plain": [
              "                                                                                                                                                                                                                                                                                                                                                                                          Consulta                                clase\n",
              "772  hola.. intente ingresar a mi situación académica y no pude. dice que ya no tengo acceso al sistema.. yo ya me recibi.. pero quiero un certicado de título en trámite.. y saber cuándo me van a dar el título.. me dijeron que era en junio.. me podrían decir cuando puedo tener esos certificados y cuando me dan el título.. y como hago para ingresar a mi situación académica.. gracias.   Consulta sobre Título Universitario"
            ]
          },
          "metadata": {
            "tags": []
          },
          "execution_count": 22
        }
      ]
    },
    {
      "cell_type": "markdown",
      "metadata": {
        "id": "zOGaSQ5wq2eJ"
      },
      "source": [
        "#### 3.2.2 Re-etiquetado de Instancias por texto de la consulta\n",
        "\n",
        "A continuación se avanza sobre modificaciones de clase en correos a partir de texto:"
      ]
    },
    {
      "cell_type": "code",
      "metadata": {
        "colab": {
          "base_uri": "https://localhost:8080/",
          "height": 97
        },
        "id": "82IndaQ9S2Eh",
        "outputId": "67c32919-7eef-43fb-94f0-64388efcc3a2"
      },
      "source": [
        "consulta = 'me comunico con la intención de saber en que situacion académica me encuentro, ya que califique con cuatro en  el taller de lectura y comprension de textos. '\n",
        "\n",
        "# Se busca el índice\n",
        "indice = int(correos_etiquetados.query(f\"Consulta == '{consulta}'\").index.values)\n",
        "\n",
        "# Se reemplaza con la clase que corresponde\n",
        "correos_etiquetados.at[indice, 'clase'] = 'Situación Académica'\n",
        "\n",
        "# Se muestra\n",
        "correos_etiquetados.query(f\"Consulta == '{consulta}'\")[['Consulta', 'clase']]"
      ],
      "execution_count": 23,
      "outputs": [
        {
          "output_type": "execute_result",
          "data": {
            "text/html": [
              "<div>\n",
              "<style scoped>\n",
              "    .dataframe tbody tr th:only-of-type {\n",
              "        vertical-align: middle;\n",
              "    }\n",
              "\n",
              "    .dataframe tbody tr th {\n",
              "        vertical-align: top;\n",
              "    }\n",
              "\n",
              "    .dataframe thead th {\n",
              "        text-align: right;\n",
              "    }\n",
              "</style>\n",
              "<table border=\"1\" class=\"dataframe\">\n",
              "  <thead>\n",
              "    <tr style=\"text-align: right;\">\n",
              "      <th></th>\n",
              "      <th>Consulta</th>\n",
              "      <th>clase</th>\n",
              "    </tr>\n",
              "  </thead>\n",
              "  <tbody>\n",
              "    <tr>\n",
              "      <th>611</th>\n",
              "      <td>me comunico con la intención de saber en que situacion académica me encuentro, ya que califique con cuatro en  el taller de lectura y comprension de textos.</td>\n",
              "      <td>Situación Académica</td>\n",
              "    </tr>\n",
              "  </tbody>\n",
              "</table>\n",
              "</div>"
            ],
            "text/plain": [
              "                                                                                                                                                          Consulta                clase\n",
              "611  me comunico con la intención de saber en que situacion académica me encuentro, ya que califique con cuatro en  el taller de lectura y comprension de textos.   Situación Académica"
            ]
          },
          "metadata": {
            "tags": []
          },
          "execution_count": 23
        }
      ]
    },
    {
      "cell_type": "code",
      "metadata": {
        "colab": {
          "base_uri": "https://localhost:8080/"
        },
        "id": "d9hWcvlXMZYF",
        "outputId": "b117947c-6bcf-4139-e59a-3419f7182497"
      },
      "source": [
        "consulta = 'quiero restablecer mi contraseña pero no llega el mail a mi correo que es este mismo quiero anotarme en los finales muchas gracias ! '\n",
        "correos_etiquetados, id = modificar_clase(correos_etiquetados, consulta, 'Problemas con la Clave')\n",
        "\n",
        "print(f'Se modifica el indice {id}.')"
      ],
      "execution_count": 24,
      "outputs": [
        {
          "output_type": "stream",
          "text": [
            "Se modifica el indice 25.\n"
          ],
          "name": "stdout"
        }
      ]
    },
    {
      "cell_type": "code",
      "metadata": {
        "id": "6zu1kyaNRyqZ",
        "outputId": "8ada8cd7-ebab-4647-eb89-1297c93fdf4c",
        "colab": {
          "base_uri": "https://localhost:8080/"
        }
      },
      "source": [
        "consulta = 'buenos días, no puedo ingresar a mi perfil, ya solicite un restablecimiento de clave pero no recibí ningún mail. necesitaría por favor ver la forma de solucionarlo antes del cierre de inscripciones para finales en septiembre. muchas gracias '\n",
        "\n",
        "correos_etiquetados, id = modificar_clase(correos_etiquetados, consulta, 'Problemas con la Clave')\n",
        "\n",
        "print(f'Se modifica el indice {id}.')"
      ],
      "execution_count": 25,
      "outputs": [
        {
          "output_type": "stream",
          "text": [
            "Se modifica el indice 26.\n"
          ],
          "name": "stdout"
        }
      ]
    },
    {
      "cell_type": "code",
      "metadata": {
        "id": "QqQF_kvUR7EU",
        "outputId": "f9346c59-fa71-43dc-abca-8a37c706883b",
        "colab": {
          "base_uri": "https://localhost:8080/"
        }
      },
      "source": [
        "consulta = 'hola quisiera saber que tengo que hacer si al intentar restablecer mi contraseña para acceder a la plataforma, no me llega el mail para seguir con el procedimiento muchas gracias '\n",
        "\n",
        "correos_etiquetados, id = modificar_clase(correos_etiquetados, consulta, 'Problemas con la Clave')\n",
        "\n",
        "print(f'Se modifica el indice {id}.')"
      ],
      "execution_count": 26,
      "outputs": [
        {
          "output_type": "stream",
          "text": [
            "Se modifica el indice 27.\n"
          ],
          "name": "stdout"
        }
      ]
    },
    {
      "cell_type": "code",
      "metadata": {
        "id": "4_Lx0e4QTOEH",
        "outputId": "0d6efa92-e42c-41b0-e87b-8744dccd68da",
        "colab": {
          "base_uri": "https://localhost:8080/"
        }
      },
      "source": [
        "consulta = 'buenos dias,  me remito a ustedes para consultar el por qué de que no pueda hacer la solicitud de título correspondiente a técnica universitaria en comercio exterior y aduanas.  por favor si podrían darme una respuesta a la brevedad ya que necesitaría con suma urgencia la certificación.  gracias. '\n",
        "\n",
        "correos_etiquetados, id = modificar_clase(correos_etiquetados, consulta, 'Consulta sobre Título Universitario')\n",
        "print(f'Se modifica el indice {id}.')"
      ],
      "execution_count": 27,
      "outputs": [
        {
          "output_type": "stream",
          "text": [
            "Se modifica el indice 49.\n"
          ],
          "name": "stdout"
        }
      ]
    },
    {
      "cell_type": "code",
      "metadata": {
        "id": "CUXNSVTKTkQM",
        "outputId": "9893a3ad-4c38-43a9-b661-2ff06474e3bd",
        "colab": {
          "base_uri": "https://localhost:8080/"
        }
      },
      "source": [
        "consulta = 'hola, soy cruz elizabeth, aspirante a ingenieria agronomica y queria saber por que no puedo inscribirme para cursar las materias??  '\n",
        "\n",
        "correos_etiquetados, id = modificar_clase(correos_etiquetados, consulta, 'Cursadas')\n",
        "print(f'Se modifica el indice {id}.')"
      ],
      "execution_count": 28,
      "outputs": [
        {
          "output_type": "stream",
          "text": [
            "Se modifica el indice 53.\n"
          ],
          "name": "stdout"
        }
      ]
    },
    {
      "cell_type": "code",
      "metadata": {
        "id": "ZBXPCOvTT7Ow",
        "outputId": "e9332fc0-4c57-4c22-d03e-72811ea2c604",
        "colab": {
          "base_uri": "https://localhost:8080/"
        }
      },
      "source": [
        "consulta = 'por que no me puedo inscribir en las materias  '\n",
        "\n",
        "correos_etiquetados, id = modificar_clase(correos_etiquetados, consulta, 'Cursadas')\n",
        "print(f'Se modifica el indice {id}.')"
      ],
      "execution_count": 29,
      "outputs": [
        {
          "output_type": "stream",
          "text": [
            "Se modifica el indice 54.\n"
          ],
          "name": "stdout"
        }
      ]
    },
    {
      "cell_type": "code",
      "metadata": {
        "id": "Ou6dKG5KUC8f",
        "outputId": "e0e71c72-dd4c-4673-cb31-bff95807511b",
        "colab": {
          "base_uri": "https://localhost:8080/"
        }
      },
      "source": [
        "consulta = 'buen dia pedi la solicitud de reinscripcion en la universidad,aproximadamente hace dos meses,con respuesta inmediata y positiva.el problema es que cuando quiero ingresar desde el perfil de estudiante me sale una leyenda que dice que no me encuentro regular en la carrera. '\n",
        "\n",
        "correos_etiquetados, id = modificar_clase(correos_etiquetados, consulta, 'Reincorporación')\n",
        "print(f'Se modifica el indice {id}.')"
      ],
      "execution_count": 30,
      "outputs": [
        {
          "output_type": "stream",
          "text": [
            "Se modifica el indice 58.\n"
          ],
          "name": "stdout"
        }
      ]
    },
    {
      "cell_type": "code",
      "metadata": {
        "id": "b3RNPR-gUhl7",
        "outputId": "b482e237-631a-4d28-db98-eecb849ff2a3",
        "colab": {
          "base_uri": "https://localhost:8080/"
        }
      },
      "source": [
        "consulta = 'olvide mi clave para entrar al sistema e inscribirme a las cursadas pero hice todo el procedimiento y aun no me llega el mail para recuperar mi clave. '\n",
        "\n",
        "correos_etiquetados, id = modificar_clase(correos_etiquetados, consulta, 'Problemas con la Clave')\n",
        "print(f'Se modifica el indice {id}.')"
      ],
      "execution_count": 31,
      "outputs": [
        {
          "output_type": "stream",
          "text": [
            "Se modifica el indice 81.\n"
          ],
          "name": "stdout"
        }
      ]
    },
    {
      "cell_type": "code",
      "metadata": {
        "id": "7i0POMTQUlcE",
        "outputId": "5ff339bf-a57f-4b57-e871-cb4a05a33072",
        "colab": {
          "base_uri": "https://localhost:8080/"
        }
      },
      "source": [
        "consulta = 'no puedo entrar a mi perfil de estudiante y no me ha llegado un mail para restablecer mi contraseña '\n",
        "\n",
        "correos_etiquetados, id = modificar_clase(correos_etiquetados, consulta, 'Problemas con la Clave')\n",
        "print(f'Se modifica el indice {id}.')"
      ],
      "execution_count": 32,
      "outputs": [
        {
          "output_type": "stream",
          "text": [
            "Se modifica el indice 83.\n"
          ],
          "name": "stdout"
        }
      ]
    },
    {
      "cell_type": "code",
      "metadata": {
        "id": "-WwLdpAKUl1I",
        "outputId": "5149028b-6e80-40ac-c975-f1ce65291061",
        "colab": {
          "base_uri": "https://localhost:8080/"
        }
      },
      "source": [
        "consulta = 'me inscribí y no me deja seguir me pone dirigirse a la sede más cercana me pone que figuro como alumna '\n",
        "\n",
        "correos_etiquetados, id = modificar_clase(correos_etiquetados, consulta, 'Reincorporación')\n",
        "print(f'Se modifica el indice {id}.')"
      ],
      "execution_count": 33,
      "outputs": [
        {
          "output_type": "stream",
          "text": [
            "Se modifica el indice 116.\n"
          ],
          "name": "stdout"
        }
      ]
    },
    {
      "cell_type": "code",
      "metadata": {
        "id": "XUTp_WygUmPA",
        "outputId": "f2555c3a-17fc-40a6-8f63-13eae7b04c68",
        "colab": {
          "base_uri": "https://localhost:8080/"
        }
      },
      "source": [
        "consulta = 'perdi la regularidad como alumna. y en mi correo no me aparece formulario de reinscripcion '\n",
        "\n",
        "correos_etiquetados, id = modificar_clase(correos_etiquetados, consulta, 'Reincorporación')\n",
        "print(f'Se modifica el indice {id}.')"
      ],
      "execution_count": 34,
      "outputs": [
        {
          "output_type": "stream",
          "text": [
            "Se modifica el indice 136.\n"
          ],
          "name": "stdout"
        }
      ]
    },
    {
      "cell_type": "code",
      "metadata": {
        "id": "gWfSP2UWUmcP",
        "outputId": "cb1b7b2e-ceee-4be4-db36-d789cb0bc168",
        "colab": {
          "base_uri": "https://localhost:8080/"
        }
      },
      "source": [
        "consulta = 'no me deja ingresar a las materias con mi número de documento ni tampoco contraseña.  '\n",
        "\n",
        "correos_etiquetados, id = modificar_clase(correos_etiquetados, consulta, 'Problemas con la Clave')\n",
        "print(f'Se modifica el indice {id}.')"
      ],
      "execution_count": 35,
      "outputs": [
        {
          "output_type": "stream",
          "text": [
            "Se modifica el indice 154.\n"
          ],
          "name": "stdout"
        }
      ]
    },
    {
      "cell_type": "code",
      "metadata": {
        "id": "mDHgmxs-ZtUS",
        "outputId": "dd6213b4-7102-4820-da1a-8e83752b74e1",
        "colab": {
          "base_uri": "https://localhost:8080/"
        }
      },
      "source": [
        "consulta = 'hola no puedo ingresar con mi contraseña a mi perfil y no me llegan el mail para reestablecer la clave. desde ya muchas gracias '\n",
        "\n",
        "correos_etiquetados, id = modificar_clase(correos_etiquetados, consulta, 'Problemas con la Clave')\n",
        "print(f'Se modifica el indice {id}.')"
      ],
      "execution_count": 36,
      "outputs": [
        {
          "output_type": "stream",
          "text": [
            "Se modifica el indice 171.\n"
          ],
          "name": "stdout"
        }
      ]
    },
    {
      "cell_type": "code",
      "metadata": {
        "id": "et6FZxLzZtYx",
        "outputId": "e3f8031e-537c-4a9b-bcbc-54c3f0f54ec4",
        "colab": {
          "base_uri": "https://localhost:8080/"
        }
      },
      "source": [
        "consulta = 'no me llega el email para reestablecer la contraseña '\n",
        "\n",
        "correos_etiquetados, id = modificar_clase(correos_etiquetados, consulta, 'Problemas con la Clave')\n",
        "print(f'Se modifica el indice {id}.')"
      ],
      "execution_count": 37,
      "outputs": [
        {
          "output_type": "stream",
          "text": [
            "Se modifica el indice 202.\n"
          ],
          "name": "stdout"
        }
      ]
    },
    {
      "cell_type": "code",
      "metadata": {
        "id": "riQyff82Ztdm",
        "outputId": "2424460a-2b7b-4c43-a65d-0dcc47606ece",
        "colab": {
          "base_uri": "https://localhost:8080/"
        }
      },
      "source": [
        "consulta = 'no me llega el email para confirmar mi nueva clave '\n",
        "\n",
        "correos_etiquetados, id = modificar_clase(correos_etiquetados, consulta, 'Problemas con la Clave')\n",
        "print(f'Se modifica el indice {id}.')"
      ],
      "execution_count": 38,
      "outputs": [
        {
          "output_type": "stream",
          "text": [
            "Se modifica el indice 204.\n"
          ],
          "name": "stdout"
        }
      ]
    },
    {
      "cell_type": "code",
      "metadata": {
        "id": "MFEzsUgqZthi",
        "outputId": "5101cb9d-7627-4b13-f9b5-a8e9830ac560",
        "colab": {
          "base_uri": "https://localhost:8080/"
        }
      },
      "source": [
        "consulta = 'hola! olvidé la contraseña y no me lkega el mail de recuperación.  gracias '\n",
        "\n",
        "correos_etiquetados, id = modificar_clase(correos_etiquetados, consulta, 'Problemas con la Clave')\n",
        "print(f'Se modifica el indice {id}.')"
      ],
      "execution_count": 39,
      "outputs": [
        {
          "output_type": "stream",
          "text": [
            "Se modifica el indice 212.\n"
          ],
          "name": "stdout"
        }
      ]
    },
    {
      "cell_type": "code",
      "metadata": {
        "id": "kwmDsX0iZtmC",
        "outputId": "66e01e45-e510-4066-941e-5811db277fe7",
        "colab": {
          "base_uri": "https://localhost:8080/"
        }
      },
      "source": [
        "consulta = 'olvide mi contraseña para acceder al perfil de estudiante, quiero actualizarla, ingrese los datos que me pedía pero todavía no me llego el mail para que pueda actualizarla. '\n",
        "\n",
        "correos_etiquetados, id = modificar_clase(correos_etiquetados, consulta, 'Problemas con la Clave')\n",
        "print(f'Se modifica el indice {id}.')"
      ],
      "execution_count": 40,
      "outputs": [
        {
          "output_type": "stream",
          "text": [
            "Se modifica el indice 215.\n"
          ],
          "name": "stdout"
        }
      ]
    },
    {
      "cell_type": "code",
      "metadata": {
        "id": "WgP4sbb4fB7H",
        "outputId": "263baced-c4ce-4876-fa7e-0792570b51f5",
        "colab": {
          "base_uri": "https://localhost:8080/"
        }
      },
      "source": [
        "consulta = 'hola, realice mi inscripcion a la carrera de licenciatura de enfermeria pero aun no me llega la respuesta a mi correo electronico para realizar el siguiente paso abra alguna posibilidad que verifiquen el incombeniente porfavor. desde muchas gracias. laura gonzalez '\n",
        "\n",
        "correos_etiquetados, id = modificar_clase(correos_etiquetados, consulta, 'Ingreso a la Universidad')\n",
        "print(f'Se modifica el indice {id}.')"
      ],
      "execution_count": 41,
      "outputs": [
        {
          "output_type": "stream",
          "text": [
            "Se modifica el indice 227.\n"
          ],
          "name": "stdout"
        }
      ]
    },
    {
      "cell_type": "code",
      "metadata": {
        "id": "w_eH1XOIfFHW",
        "outputId": "56bfa8ce-9fb6-47a5-fcd4-3272d6e05eba",
        "colab": {
          "base_uri": "https://localhost:8080/"
        }
      },
      "source": [
        "consulta = 'cuando quiero entrar a mi nformación académica desde mi perfil de estudiantes no me deja, dice que no cumplo con los requisitos necesarios. y yo soy estudiante del año pasado y metí una materia y ahora no puedo entrar para inscribirme a las materias de este año  '\n",
        "\n",
        "correos_etiquetados, id = modificar_clase(correos_etiquetados, consulta, 'Requisitos de Ingreso')\n",
        "print(f'Se modifica el indice {id}.')"
      ],
      "execution_count": 42,
      "outputs": [
        {
          "output_type": "stream",
          "text": [
            "Se modifica el indice 231.\n"
          ],
          "name": "stdout"
        }
      ]
    },
    {
      "cell_type": "code",
      "metadata": {
        "id": "gt73BdZGfFuP",
        "outputId": "26f789a0-0c90-4d51-9bce-05c74d9de7fa",
        "colab": {
          "base_uri": "https://localhost:8080/"
        }
      },
      "source": [
        "consulta = 'me olvidé la contraseña para ingresar y poder anotarme a las materias. y a mí e-mail no me llega nada para restablecerla. '\n",
        "\n",
        "correos_etiquetados, id = modificar_clase(correos_etiquetados, consulta, 'Problemas con la Clave')\n",
        "print(f'Se modifica el indice {id}.')"
      ],
      "execution_count": 43,
      "outputs": [
        {
          "output_type": "stream",
          "text": [
            "Se modifica el indice 233.\n"
          ],
          "name": "stdout"
        }
      ]
    },
    {
      "cell_type": "code",
      "metadata": {
        "id": "xDNYH2TafF3-",
        "outputId": "16537970-13e9-4a77-9a65-1c147b3244ee",
        "colab": {
          "base_uri": "https://localhost:8080/"
        }
      },
      "source": [
        "consulta = 'quisiera recuperar mi clave de acceso al sistema de servicios académicos, ya gestioné la clave pero no me llega el mail. gracias '\n",
        "\n",
        "correos_etiquetados, id = modificar_clase(correos_etiquetados, consulta, 'Problemas con la Clave')\n",
        "print(f'Se modifica el indice {id}.')"
      ],
      "execution_count": 44,
      "outputs": [
        {
          "output_type": "stream",
          "text": [
            "Se modifica el indice 236.\n"
          ],
          "name": "stdout"
        }
      ]
    },
    {
      "cell_type": "code",
      "metadata": {
        "id": "iiBZL57jfGGT",
        "outputId": "174e2d44-f8a1-40e6-92ed-9093def43818",
        "colab": {
          "base_uri": "https://localhost:8080/"
        }
      },
      "source": [
        "consulta = 'mi consulta es sobre la materia introduccion al trabajo social yo la curse en 2016 mi pregunta es el vencimiento de la regularidad si es de 2 o3 años si es de 2 años mi ultima posibilidad seria ahora en diciembre esa es mi consulta.muchas gracias  '\n",
        "\n",
        "correos_etiquetados, id = modificar_clase(correos_etiquetados, consulta, 'Situación Académica')\n",
        "print(f'Se modifica el indice {id}.')"
      ],
      "execution_count": 45,
      "outputs": [
        {
          "output_type": "stream",
          "text": [
            "Se modifica el indice 246.\n"
          ],
          "name": "stdout"
        }
      ]
    },
    {
      "cell_type": "code",
      "metadata": {
        "id": "_9tNE3H7fGSo",
        "outputId": "74eeed70-eb88-4c20-dd8c-fb6ab65f5b38",
        "colab": {
          "base_uri": "https://localhost:8080/"
        }
      },
      "source": [
        "consulta = 'buenas tardes, me olvide la contraseña y no me llega el mail para poder cambiarlo.  desde ya muchas gracias. saludos '\n",
        "\n",
        "correos_etiquetados, id = modificar_clase(correos_etiquetados, consulta, 'Problemas con la Clave')\n",
        "print(f'Se modifica el indice {id}.')"
      ],
      "execution_count": 46,
      "outputs": [
        {
          "output_type": "stream",
          "text": [
            "Se modifica el indice 268.\n"
          ],
          "name": "stdout"
        }
      ]
    },
    {
      "cell_type": "code",
      "metadata": {
        "id": "LgRiElLwfGfA",
        "outputId": "5275eb4b-a229-4e88-a8ab-54edad607b72",
        "colab": {
          "base_uri": "https://localhost:8080/"
        }
      },
      "source": [
        "consulta = 'hola no puedo entrar, yo ya soy estudiante, por favor me podrían ayudar con esto, o informarme que tengo que hacer. desde ya muchas gracias.  '\n",
        "\n",
        "correos_etiquetados, id = modificar_clase(correos_etiquetados, consulta, 'Problemas con la Clave')\n",
        "print(f'Se modifica el indice {id}.')"
      ],
      "execution_count": 47,
      "outputs": [
        {
          "output_type": "stream",
          "text": [
            "Se modifica el indice 287.\n"
          ],
          "name": "stdout"
        }
      ]
    },
    {
      "cell_type": "code",
      "metadata": {
        "id": "9yeQCgHJfGrV",
        "outputId": "87076dde-0759-44e2-f8a6-c334bafe3ed8",
        "colab": {
          "base_uri": "https://localhost:8080/"
        }
      },
      "source": [
        "consulta = 'hola, entro a mi cuenta y aparezco como que no soy alumno regular. me dice que registre un mail para regularizar mi situacion pero no tengo nada en mi correo... me podran decir como tengo que hacer por favor '\n",
        "\n",
        "correos_etiquetados, id = modificar_clase(correos_etiquetados, consulta, 'Reincorporación')\n",
        "print(f'Se modifica el indice {id}.')"
      ],
      "execution_count": 48,
      "outputs": [
        {
          "output_type": "stream",
          "text": [
            "Se modifica el indice 296.\n"
          ],
          "name": "stdout"
        }
      ]
    },
    {
      "cell_type": "code",
      "metadata": {
        "id": "J682UhxTo4D0",
        "outputId": "bb0696d2-595e-4bc5-febf-2c9a7a28bc00",
        "colab": {
          "base_uri": "https://localhost:8080/"
        }
      },
      "source": [
        "consulta = 'burnos dias.hace varios dias estoy esperando el reestablecimiento de la clave de ingreso a la plataforma y no me ha llegado nada a mi casilla de correo, a los fines de que no se produzca mas demora quisiera solicitar que se corrobore la casilla de mail ya que la misma es vanina.aquiles04@hotmail.com '\n",
        "\n",
        "correos_etiquetados, id = modificar_clase(correos_etiquetados, consulta, 'Problemas con la Clave')\n",
        "print(f'Se modifica el indice {id}.')"
      ],
      "execution_count": 49,
      "outputs": [
        {
          "output_type": "stream",
          "text": [
            "Se modifica el indice 319.\n"
          ],
          "name": "stdout"
        }
      ]
    },
    {
      "cell_type": "code",
      "metadata": {
        "id": "TWr-CtMpo4U7",
        "outputId": "7ce29585-9c86-408a-b925-443a324d93bc",
        "colab": {
          "base_uri": "https://localhost:8080/"
        }
      },
      "source": [
        "consulta = 'buenas tardes,no puedo ingresar para la inscricion de examenes pongo numero de lejago y la clave que me dieron y me dice que es incorrecto ,me podrian decir que puedo hacer para ingresar .muchas gracias.   '\n",
        "\n",
        "correos_etiquetados, id = modificar_clase(correos_etiquetados, consulta, 'Problemas con la Clave')\n",
        "print(f'Se modifica el indice {id}.')"
      ],
      "execution_count": 50,
      "outputs": [
        {
          "output_type": "stream",
          "text": [
            "Se modifica el indice 323.\n"
          ],
          "name": "stdout"
        }
      ]
    },
    {
      "cell_type": "code",
      "metadata": {
        "id": "b5QyXQqxo4lc",
        "outputId": "f0ac7fd2-4efd-4e3c-f53f-5a8b1ca6c125",
        "colab": {
          "base_uri": "https://localhost:8080/"
        }
      },
      "source": [
        "consulta = 'no recuerdo mi clave hice todo el procedimiento y nunca me llego el mail. '\n",
        "\n",
        "correos_etiquetados, id = modificar_clase(correos_etiquetados, consulta, 'Problemas con la Clave')\n",
        "print(f'Se modifica el indice {id}.')"
      ],
      "execution_count": 51,
      "outputs": [
        {
          "output_type": "stream",
          "text": [
            "Se modifica el indice 337.\n"
          ],
          "name": "stdout"
        }
      ]
    },
    {
      "cell_type": "code",
      "metadata": {
        "id": "Rrx5C1KTo4xg",
        "outputId": "6ce39310-697f-483e-fa2f-3341c3b51480",
        "colab": {
          "base_uri": "https://localhost:8080/"
        }
      },
      "source": [
        "consulta = 'buenos días. el día viernes me acerque a la sede de san miguel para realizar el trámite de reincorporación y me dijieron que hoy me fijara en la pagina . pero sigo sin poder ingresar. puse mi legajo y la clave que me generaron ahí. no se si tendré que esperar unos días más? gracias  '\n",
        "\n",
        "correos_etiquetados, id = modificar_clase(correos_etiquetados, consulta, 'Reincorporación')\n",
        "print(f'Se modifica el indice {id}.')"
      ],
      "execution_count": 52,
      "outputs": [
        {
          "output_type": "stream",
          "text": [
            "Se modifica el indice 342.\n"
          ],
          "name": "stdout"
        }
      ]
    },
    {
      "cell_type": "code",
      "metadata": {
        "id": "obNeOvrJo465",
        "outputId": "dc1bedc6-0bb1-4992-9422-0d8a8bc09c70",
        "colab": {
          "base_uri": "https://localhost:8080/"
        }
      },
      "source": [
        "consulta = 'no puedo ingresar a ver mi situación académica, ingrese en la opción que me da de &quot;olvidaste tu clave&quot; complete lo que me pide, pero no me llega el mail. ya lo hice varias veces.  '\n",
        "\n",
        "correos_etiquetados, id = modificar_clase(correos_etiquetados, consulta, 'Problemas con la Clave')\n",
        "print(f'Se modifica el indice {id}.')"
      ],
      "execution_count": 53,
      "outputs": [
        {
          "output_type": "stream",
          "text": [
            "Se modifica el indice 343.\n"
          ],
          "name": "stdout"
        }
      ]
    },
    {
      "cell_type": "code",
      "metadata": {
        "id": "PS8VywTSo5Fc",
        "outputId": "87821337-5d76-4e43-d58d-7052ef8eba30",
        "colab": {
          "base_uri": "https://localhost:8080/"
        }
      },
      "source": [
        "consulta = 'es la segunda vez que restablezco la contraseña y no recibo ningún correo. estoy necesitando con urgencia ingresar a la pagina. como puedo hacer para verificar que mi correo este bien registrado? muchas gracias. '\n",
        "\n",
        "correos_etiquetados, id = modificar_clase(correos_etiquetados, consulta, 'Problemas con la Clave')\n",
        "print(f'Se modifica el indice {id}.')"
      ],
      "execution_count": 54,
      "outputs": [
        {
          "output_type": "stream",
          "text": [
            "Se modifica el indice 347.\n"
          ],
          "name": "stdout"
        }
      ]
    },
    {
      "cell_type": "code",
      "metadata": {
        "id": "M4MDnq8to5WG",
        "outputId": "cb922c51-faef-4e00-aea1-9e18e92c0d3b",
        "colab": {
          "base_uri": "https://localhost:8080/"
        }
      },
      "source": [
        "consulta = 'buenas tardes, quiero acceder a la inscripción de asignaturas del 1er cuatrimestre, y me indica que ingrese el número de legajo, pero no lo tengo, como lo obtengo? '\n",
        "\n",
        "correos_etiquetados, id = modificar_clase(correos_etiquetados, consulta, 'Consulta por Legajo')\n",
        "print(f'Se modifica el indice {id}.')"
      ],
      "execution_count": 55,
      "outputs": [
        {
          "output_type": "stream",
          "text": [
            "Se modifica el indice 361.\n"
          ],
          "name": "stdout"
        }
      ]
    },
    {
      "cell_type": "code",
      "metadata": {
        "id": "LcaHpo_nqm9R",
        "outputId": "e0eba325-08bb-4e2e-9108-384f66a89706",
        "colab": {
          "base_uri": "https://localhost:8080/"
        }
      },
      "source": [
        "consulta = 'intento restablecer la contraseña pero nunca me llega el mail para hacerlo '\n",
        "\n",
        "correos_etiquetados, id = modificar_clase(correos_etiquetados, consulta, 'Problemas con la Clave')\n",
        "print(f'Se modifica el indice {id}.')"
      ],
      "execution_count": 56,
      "outputs": [
        {
          "output_type": "stream",
          "text": [
            "Se modifica el indice 362.\n"
          ],
          "name": "stdout"
        }
      ]
    },
    {
      "cell_type": "code",
      "metadata": {
        "id": "PYCWLLo7qnJt",
        "outputId": "5d60e64b-56e7-492d-991a-f79cf1a76321",
        "colab": {
          "base_uri": "https://localhost:8080/"
        }
      },
      "source": [
        "consulta = 'no puedo entrar a mi situación académica, y cuando envío el formulario para cambiar la contraseña no me llega nada al correo  '\n",
        "\n",
        "correos_etiquetados, id = modificar_clase(correos_etiquetados, consulta, 'Problemas con la Clave')\n",
        "print(f'Se modifica el indice {id}.')"
      ],
      "execution_count": 57,
      "outputs": [
        {
          "output_type": "stream",
          "text": [
            "Se modifica el indice 364.\n"
          ],
          "name": "stdout"
        }
      ]
    },
    {
      "cell_type": "code",
      "metadata": {
        "id": "Gh3yb44vqnZh",
        "outputId": "6cc73971-478a-4611-c905-46957b30929b",
        "colab": {
          "base_uri": "https://localhost:8080/"
        }
      },
      "source": [
        "consulta = 'reseteo la clave pero no me llega ningun correo '\n",
        "\n",
        "correos_etiquetados, id = modificar_clase(correos_etiquetados, consulta, 'Problemas con la Clave')\n",
        "print(f'Se modifica el indice {id}.')"
      ],
      "execution_count": 58,
      "outputs": [
        {
          "output_type": "stream",
          "text": [
            "Se modifica el indice 374.\n"
          ],
          "name": "stdout"
        }
      ]
    },
    {
      "cell_type": "code",
      "metadata": {
        "id": "WzzZdkKiqnkd",
        "outputId": "531678a5-35e7-4be9-b0a4-1ed4dd104039",
        "colab": {
          "base_uri": "https://localhost:8080/"
        }
      },
      "source": [
        "consulta = 'buenas tardes, ya pedi el cambio de contraseña pero no me llega el mail para reestablecerla '\n",
        "\n",
        "correos_etiquetados, id = modificar_clase(correos_etiquetados, consulta, 'Problemas con la Clave')\n",
        "print(f'Se modifica el indice {id}.')"
      ],
      "execution_count": 59,
      "outputs": [
        {
          "output_type": "stream",
          "text": [
            "Se modifica el indice 391.\n"
          ],
          "name": "stdout"
        }
      ]
    },
    {
      "cell_type": "code",
      "metadata": {
        "id": "b4QunWrgqnz-",
        "outputId": "e8707568-48ab-4af7-e51f-fdd65ecc35fd",
        "colab": {
          "base_uri": "https://localhost:8080/"
        }
      },
      "source": [
        "consulta = 'estimados, soy alumno regular y no recuerdo mi clave para ingresar a ingresar a insc para cursar. solicité blanque de contraseña pero no recibo el mail para realizarlo.   '\n",
        "\n",
        "correos_etiquetados, id = modificar_clase(correos_etiquetados, consulta, 'Problemas con la Clave')\n",
        "print(f'Se modifica el indice {id}.')"
      ],
      "execution_count": 60,
      "outputs": [
        {
          "output_type": "stream",
          "text": [
            "Se modifica el indice 408.\n"
          ],
          "name": "stdout"
        }
      ]
    },
    {
      "cell_type": "code",
      "metadata": {
        "id": "Yg7ZtyxKqn9B"
      },
      "source": [
        "# consulta = ''\n",
        "\n",
        "# correos_etiquetados, id = modificar_clase(correos_etiquetados, consulta, '')\n",
        "# print(f'Se modifica el indice {id}.')"
      ],
      "execution_count": 61,
      "outputs": []
    },
    {
      "cell_type": "code",
      "metadata": {
        "id": "0A1dhLxmUXuF",
        "outputId": "ee7ba70f-3a16-4eea-afff-fb8a45f94eba",
        "colab": {
          "base_uri": "https://localhost:8080/"
        }
      },
      "source": [
        "correos_etiquetados.clase.unique()"
      ],
      "execution_count": 62,
      "outputs": [
        {
          "output_type": "execute_result",
          "data": {
            "text/plain": [
              "array(['Cursadas', 'Cambio de Carrera', 'Reincorporación',\n",
              "       'Ingreso a la Universidad', 'Boleto Universitario',\n",
              "       'Pedido de Certificados', 'Exámenes', 'Requisitos de Ingreso',\n",
              "       'Problemas con la Clave', 'Situación Académica',\n",
              "       'Consulta por Legajo', 'Consulta sobre Título Universitario',\n",
              "       'Simultaneidad de Carreras', 'Cambio de Comisión',\n",
              "       'Consulta por Equivalencias', 'Datos Personales'], dtype=object)"
            ]
          },
          "metadata": {
            "tags": []
          },
          "execution_count": 62
        }
      ]
    },
    {
      "cell_type": "markdown",
      "metadata": {
        "id": "4U6TUk3qJemb"
      },
      "source": [
        "## 4. Reorganización de los atributos\n",
        "\n",
        "Se definen todos los nombres de atributos en minúsculas:"
      ]
    },
    {
      "cell_type": "code",
      "metadata": {
        "id": "DwMvTGckJmT8"
      },
      "source": [
        "correos_etiquetados = correos_etiquetados.rename(columns=str.lower)"
      ],
      "execution_count": 63,
      "outputs": []
    },
    {
      "cell_type": "markdown",
      "metadata": {
        "id": "KymyY_nLVEYw"
      },
      "source": [
        "## 5. Conteo de frecuencias de las Clases"
      ]
    },
    {
      "cell_type": "markdown",
      "metadata": {
        "id": "587bWqGqVeki"
      },
      "source": [
        "### 5.1 Histograma de Clases\n",
        "\n",
        "A continuación se plantea una función para graficar el histograma de clases (gráfico de barras con frecuencia observada por clase):\n"
      ]
    },
    {
      "cell_type": "code",
      "metadata": {
        "colab": {
          "base_uri": "https://localhost:8080/",
          "height": 458
        },
        "id": "UsOvpuL6VrJ8",
        "outputId": "92163fe5-4d36-4375-a26d-544f206a8ff6"
      },
      "source": [
        "import matplotlib.pyplot as plt\n",
        "import seaborn as sns\n",
        "import numpy as np\n",
        "%matplotlib inline\n",
        "\n",
        "def hist_clases(serie_clases, desc_plot, filename_plot):\n",
        "  \"\"\"\n",
        "  Se plotean las clases en función de la distribución de la frecuencia\n",
        "  observada en cada dataset\n",
        "  \"\"\"\n",
        "\n",
        "  # Set figure size\n",
        "  plt.figure(figsize=(14,5))\n",
        "\n",
        "  ax = sns.histplot(serie_clases, kde=True, stat='count', \n",
        "                    bins=serie_clases.unique(), binwidth=0.06, \n",
        "                    color='#c8c6a7', alpha=0.7)\n",
        "\n",
        "  ax.set_xticklabels(serie_clases.unique(),\n",
        "                    rotation=-45, \n",
        "                    horizontalalignment='left', fontweight='light')\n",
        "\n",
        "  for p in ax.patches:\n",
        "      ax.annotate(f'{p.get_height():.0f}\\n',\n",
        "                  (p.get_x() + p.get_width() / 2, p.get_height()), \n",
        "                  ha='center', va='center', color='black')\n",
        "\n",
        "  # Quito el nombre de los ejes (de forma rústica)\n",
        "  plt.xlabel('', fontsize=12)\n",
        "  plt.ylabel('', fontsize=12)\n",
        "\n",
        "  # Guardo el plot en un png\n",
        "  plt.savefig(filename_plot, optimize=True, transparent=True, bbox_inches = 'tight')\n",
        "\n",
        "  # Muestro el gráfico con una descripción\n",
        "  print(f'\\t\\t\\tDistribución de clases para el {desc_plot}')\n",
        "  plt.show()  \n",
        "\n",
        "hist_clases(correos_etiquetados['clase'], 'Total dataset', 'histograma_total.png')"
      ],
      "execution_count": 64,
      "outputs": [
        {
          "output_type": "stream",
          "text": [
            "\t\t\tDistribución de clases para el Total dataset\n"
          ],
          "name": "stdout"
        },
        {
          "output_type": "display_data",
          "data": {
            "image/png": "[encoded data removed]",
            "text/plain": [
              "<Figure size 1008x360 with 1 Axes>"
            ]
          },
          "metadata": {
            "tags": [],
            "needs_background": "light"
          }
        }
      ]
    },
    {
      "cell_type": "code",
      "metadata": {
        "colab": {
          "base_uri": "https://localhost:8080/"
        },
        "id": "kbT7RSfDV90Y",
        "outputId": "efcb6fb0-8572-4110-9e07-f3109751011f"
      },
      "source": [
        "correos_etiquetados.shape"
      ],
      "execution_count": 65,
      "outputs": [
        {
          "output_type": "execute_result",
          "data": {
            "text/plain": [
              "(1000, 24)"
            ]
          },
          "metadata": {
            "tags": []
          },
          "execution_count": 65
        }
      ]
    },
    {
      "cell_type": "code",
      "metadata": {
        "id": "qqhRHaFF6tRt"
      },
      "source": [
        "correos_etiquetados.to_csv('correos.csv')"
      ],
      "execution_count": 66,
      "outputs": []
    },
    {
      "cell_type": "code",
      "metadata": {
        "colab": {
          "base_uri": "https://localhost:8080/"
        },
        "id": "gIw4kzXDDqOg",
        "outputId": "027d2c27-97bc-4c50-dc4b-ea08547940fa"
      },
      "source": [
        "!ls"
      ],
      "execution_count": 67,
      "outputs": [
        {
          "output_type": "stream",
          "text": [
            "correos.csv\t     correos-train-80.csv  funciones_dataset.py  __pycache__\n",
            "correos-test-20.csv  drive\t\t   histograma_total.png  sample_data\n"
          ],
          "name": "stdout"
        }
      ]
    },
    {
      "cell_type": "markdown",
      "metadata": {
        "id": "9Eyte7nmbxOk"
      },
      "source": [
        "## 6. Train/Test dataset\n",
        "\n",
        "Ahora, se splitean los datasets a en una proporción 80/20. Estos datasets se utilizarán para _feature extraction_ y para la generación de los modelos:"
      ]
    },
    {
      "cell_type": "code",
      "metadata": {
        "id": "CPKRnnROcAQL"
      },
      "source": [
        "# Separo datos de entrenamiento y testing\n",
        "from sklearn.model_selection import train_test_split\n",
        "\n",
        "X = correos_etiquetados.drop(columns=['clase'])\n",
        "y = correos_etiquetados['clase']\n",
        "\n",
        "# Separo en 80-20 entrenamiento/validación y testeo\n",
        "X_train, X_test, y_train, y_test = train_test_split(X, y, random_state=0, test_size=0.2, stratify=y)"
      ],
      "execution_count": 68,
      "outputs": []
    },
    {
      "cell_type": "markdown",
      "metadata": {
        "id": "sN_1ukCcevhI"
      },
      "source": [
        "Ahora unificamos X e y para persistir los datasets:"
      ]
    },
    {
      "cell_type": "code",
      "metadata": {
        "id": "xUm_bOKHbLJx"
      },
      "source": [
        "# Reordeno el índice para poder concatenar con el y_train e y_test\n",
        "\n",
        "# Train\n",
        "df_train = X_train.reset_index(drop=True)\n",
        "df_train['clase'] = y_train.reset_index(drop=True)\n",
        "\n",
        "# Test\n",
        "df_test = X_test.reset_index(drop=True)\n",
        "df_test['clase'] = y_test.reset_index(drop=True)"
      ],
      "execution_count": 69,
      "outputs": []
    },
    {
      "cell_type": "code",
      "metadata": {
        "colab": {
          "base_uri": "https://localhost:8080/",
          "height": 589
        },
        "id": "CelpQq8p7N1h",
        "outputId": "f08e33fe-39d4-48fe-f355-ec11392b3813"
      },
      "source": [
        "df_test[['consulta', 'clase']]"
      ],
      "execution_count": 70,
      "outputs": [
        {
          "output_type": "execute_result",
          "data": {
            "text/html": [
              "<div>\n",
              "<style scoped>\n",
              "    .dataframe tbody tr th:only-of-type {\n",
              "        vertical-align: middle;\n",
              "    }\n",
              "\n",
              "    .dataframe tbody tr th {\n",
              "        vertical-align: top;\n",
              "    }\n",
              "\n",
              "    .dataframe thead th {\n",
              "        text-align: right;\n",
              "    }\n",
              "</style>\n",
              "<table border=\"1\" class=\"dataframe\">\n",
              "  <thead>\n",
              "    <tr style=\"text-align: right;\">\n",
              "      <th></th>\n",
              "      <th>consulta</th>\n",
              "      <th>clase</th>\n",
              "    </tr>\n",
              "  </thead>\n",
              "  <tbody>\n",
              "    <tr>\n",
              "      <th>0</th>\n",
              "      <td>buenas tardes, ingrese a inscripcion a cursadas y me dice que me enviaron un mail pero no me llego nada. estoy intentando hace varios dias</td>\n",
              "      <td>Ingreso a la Universidad</td>\n",
              "    </tr>\n",
              "    <tr>\n",
              "      <th>1</th>\n",
              "      <td>hola que tal, tengo muchas dudas. quiero saber mi numero de legajo y mi clave y no se como obtenerla.voy formulario de solicitud de restablecimiento de clave , y me dice que mi tipo y documento son incorrectos</td>\n",
              "      <td>Ingreso a la Universidad</td>\n",
              "    </tr>\n",
              "    <tr>\n",
              "      <th>2</th>\n",
              "      <td>buenas tardes, queria hacerles una consulta, estoy intentando hacer la solicitud para inscribirme en las materias para el primer cuatrimestre y me dice que no puedo. como podria solucionarlo ? muchas gracias.</td>\n",
              "      <td>Requisitos de Ingreso</td>\n",
              "    </tr>\n",
              "    <tr>\n",
              "      <th>3</th>\n",
              "      <td>necesito ayuda urgente. donde dice actividades académicas,  en la fotocopia para el cambio de carrera, pongo el nombre de las materias? por favor necesito respuesta</td>\n",
              "      <td>Cambio de Carrera</td>\n",
              "    </tr>\n",
              "    <tr>\n",
              "      <th>4</th>\n",
              "      <td>hola buenas tardes, deseo informar que mi nuevo correo es : efraingauto@hotmail.com, manifiesto esto por que quiero realizar un cambio de clave en acceso a información académica y me indica que me envían información a mi correo pero nunca me llega. gracias.</td>\n",
              "      <td>Datos Personales</td>\n",
              "    </tr>\n",
              "    <tr>\n",
              "      <th>...</th>\n",
              "      <td>...</td>\n",
              "      <td>...</td>\n",
              "    </tr>\n",
              "    <tr>\n",
              "      <th>195</th>\n",
              "      <td>hola buenas noches quería saber alguna fecha estimativa de la aprobación  los cambios de comisión . muchas gracias</td>\n",
              "      <td>Cambio de Comisión</td>\n",
              "    </tr>\n",
              "    <tr>\n",
              "      <th>196</th>\n",
              "      <td>buen día, queria consultar con quien puedo hablar por el tema del boleto estudiantial. muchas gracias.</td>\n",
              "      <td>Boleto Universitario</td>\n",
              "    </tr>\n",
              "    <tr>\n",
              "      <th>197</th>\n",
              "      <td>no recibo el mail para poder inscribirme a las materias.</td>\n",
              "      <td>Cursadas</td>\n",
              "    </tr>\n",
              "    <tr>\n",
              "      <th>198</th>\n",
              "      <td>necesito obtener el certificado de materias aprobadas. tambien conocer como es el tramite para la re inscripcion (si es posible)</td>\n",
              "      <td>Pedido de Certificados</td>\n",
              "    </tr>\n",
              "    <tr>\n",
              "      <th>199</th>\n",
              "      <td>necesito un certificado de materias aprobado , taller de escritura. no recuerdo el número de mi legajo , para ser presentado en la unsam , tengo plazo hasta el 22 del corriente. desde ya muchas gracias !! martin querol aubone lic administracion</td>\n",
              "      <td>Pedido de Certificados</td>\n",
              "    </tr>\n",
              "  </tbody>\n",
              "</table>\n",
              "<p>200 rows × 2 columns</p>\n",
              "</div>"
            ],
            "text/plain": [
              "                                                                                                                                                                                                                                                               consulta                     clase\n",
              "0                                                                                                                           buenas tardes, ingrese a inscripcion a cursadas y me dice que me enviaron un mail pero no me llego nada. estoy intentando hace varios dias   Ingreso a la Universidad\n",
              "1                                                    hola que tal, tengo muchas dudas. quiero saber mi numero de legajo y mi clave y no se como obtenerla.voy formulario de solicitud de restablecimiento de clave , y me dice que mi tipo y documento son incorrectos   Ingreso a la Universidad\n",
              "2                                                     buenas tardes, queria hacerles una consulta, estoy intentando hacer la solicitud para inscribirme en las materias para el primer cuatrimestre y me dice que no puedo. como podria solucionarlo ? muchas gracias.      Requisitos de Ingreso\n",
              "3                                                                                                necesito ayuda urgente. donde dice actividades académicas,  en la fotocopia para el cambio de carrera, pongo el nombre de las materias? por favor necesito respuesta           Cambio de Carrera\n",
              "4    hola buenas tardes, deseo informar que mi nuevo correo es : efraingauto@hotmail.com, manifiesto esto por que quiero realizar un cambio de clave en acceso a información académica y me indica que me envían información a mi correo pero nunca me llega. gracias.           Datos Personales\n",
              "..                                                                                                                                                                                                                                                                  ...                       ...\n",
              "195                                                                                                                                                hola buenas noches quería saber alguna fecha estimativa de la aprobación  los cambios de comisión . muchas gracias          Cambio de Comisión\n",
              "196                                                                                                                                                             buen día, queria consultar con quien puedo hablar por el tema del boleto estudiantial. muchas gracias.       Boleto Universitario\n",
              "197                                                                                                                                                                                                           no recibo el mail para poder inscribirme a las materias.                   Cursadas\n",
              "198                                                                                                                                   necesito obtener el certificado de materias aprobadas. tambien conocer como es el tramite para la re inscripcion (si es posible)     Pedido de Certificados\n",
              "199              necesito un certificado de materias aprobado , taller de escritura. no recuerdo el número de mi legajo , para ser presentado en la unsam , tengo plazo hasta el 22 del corriente. desde ya muchas gracias !! martin querol aubone lic administracion      Pedido de Certificados\n",
              "\n",
              "[200 rows x 2 columns]"
            ]
          },
          "metadata": {
            "tags": []
          },
          "execution_count": 70
        }
      ]
    },
    {
      "cell_type": "markdown",
      "metadata": {
        "id": "svtU42ole1Vo"
      },
      "source": [
        "Por último se persisten en _Drive_:"
      ]
    },
    {
      "cell_type": "code",
      "metadata": {
        "colab": {
          "base_uri": "https://localhost:8080/"
        },
        "id": "u7IU3bY1ct2c",
        "outputId": "237f9c13-2b0b-444e-c7b7-4fa9b213acb9"
      },
      "source": [
        "# Me autentico en Drive\n",
        "from google.colab import drive\n",
        "\n",
        "# Guardo en Drive los datos de entrenamiento\n",
        "df_train.to_csv('correos-train-jaiio-80.csv', index=False)\n",
        "drive.mount('drive')\n",
        "!cp correos-train-jaiio-80.csv \"drive/My Drive/\"\n",
        "\n",
        "# Guardo en Drive los datos de testeo\n",
        "df_test.to_csv('correos-test-jaiio-20.csv', index=False)\n",
        "drive.mount('drive')\n",
        "!cp correos-test-jaiio-20.csv \"drive/My Drive/\""
      ],
      "execution_count": 71,
      "outputs": [
        {
          "output_type": "stream",
          "text": [
            "Drive already mounted at drive; to attempt to forcibly remount, call drive.mount(\"drive\", force_remount=True).\n",
            "Drive already mounted at drive; to attempt to forcibly remount, call drive.mount(\"drive\", force_remount=True).\n"
          ],
          "name": "stdout"
        }
      ]
    },
    {
      "cell_type": "code",
      "metadata": {
        "colab": {
          "base_uri": "https://localhost:8080/"
        },
        "id": "a9IGJ3M58atS",
        "outputId": "531c09de-1ec1-4570-aff3-b7f87837340a"
      },
      "source": [
        "# Me autentico en Drive\n",
        "from google.colab import drive\n",
        "\n",
        "# Guardo en Drive los datos de entrenamiento\n",
        "correos_etiquetados.to_csv('correos.csv')\n",
        "drive.mount('drive')\n",
        "!cp correos.csv \"drive/My Drive/\"\n"
      ],
      "execution_count": 72,
      "outputs": [
        {
          "output_type": "stream",
          "text": [
            "Drive already mounted at drive; to attempt to forcibly remount, call drive.mount(\"drive\", force_remount=True).\n"
          ],
          "name": "stdout"
        }
      ]
    },
    {
      "cell_type": "markdown",
      "metadata": {
        "id": "nESQ9FJxkKni"
      },
      "source": [
        "# Referencias:\n",
        "1. [Presentación](0) de apoyo al [Proyecto de Investigación](1) \"Clasificación automática de correos electrónicos\".\n",
        "\n",
        "2. Clasificacion de textos por etiquetado de palabras: [short paper](2).\n",
        "\n",
        "3. [API](3) del diccionario Collins.\n",
        "\n",
        "4. [Funciones](4) de la [API](3) del diccionario Collins.\n",
        "\n",
        "5. Librería [clusteval](5) para la evaluación KMeans.\n",
        "\n",
        "[0]:https://docs.google.com/presentation/d/1-gdZ3dUI2pAfXM6Bgau53U7G4g2Bkv6DlxGESnu7A20/edit?usp=sharing \n",
        "[1]:https://github.com/jumafernandez/clasificacion_correos \n",
        "[2]:https://www.aaai.org/Papers/AAAI/2004/AAAI04-068.pdf\n",
        "[3]:https://pypi.org/project/collins-client/\n",
        "[4]:https://api.collinsdictionary.com/api/v1/documentation/html\n",
        "[5]:https://clusteval.sdu.dk/1/mains"
      ]
    }
  ]
}