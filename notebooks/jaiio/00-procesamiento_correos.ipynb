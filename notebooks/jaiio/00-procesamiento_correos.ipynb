{
  "nbformat": 4,
  "nbformat_minor": 0,
  "metadata": {
    "colab": {
      "name": "00-procesamiento-correos.ipynb",
      "provenance": [],
      "mount_file_id": "11xgZdQuL3Km6HA0wA02iRXG1RHdFb862",
      "authorship_tag": "ABX9TyOlNJdHAygvj2/xzV5uKGch",
      "include_colab_link": true
    },
    "kernelspec": {
      "name": "python3",
      "display_name": "Python 3"
    },
    "language_info": {
      "name": "python"
    }
  },
  "cells": [
    {
      "cell_type": "markdown",
      "metadata": {
        "id": "view-in-github",
        "colab_type": "text"
      },
      "source": [
        "<a href=\"https://colab.research.google.com/github/jumafernandez/clasificacion_correos/blob/main/notebooks/jaiio/00-procesamiento_correos.ipynb\" target=\"_parent\"><img src=\"https://colab.research.google.com/assets/colab-badge.svg\" alt=\"Open In Colab\"/></a>"
      ]
    },
    {
      "cell_type": "markdown",
      "metadata": {
        "id": "bT3VkIsMhgtx"
      },
      "source": [
        "# Trabajo 50 JAIIO: Procesamiento de correos electrónicos\n",
        "\n",
        "___Título:___ E-mail mining: un enfoque semi-supervisado para la identificación, el etiquetado y la clasificación de consultas académicas\n",
        "\n",
        "___Autores:___ Nicolás Cavasin, Juan Manuel Fernandez, Marcelo Errecalde\n",
        "\n",
        "El backup de correos se encuentra en un archivo pst. Los archivos en el formato PST son archivos de datos creados por Microsoft Outlook, un gestor de información personal y una parte de la suite Microsoft Office."
      ]
    },
    {
      "cell_type": "markdown",
      "metadata": {
        "id": "SDjLU1H7hv4l"
      },
      "source": [
        "## 1. Primeros pasos"
      ]
    },
    {
      "cell_type": "markdown",
      "metadata": {
        "id": "BmndPgTvhyJt"
      },
      "source": [
        "### 1.1 Instalación de librerías"
      ]
    },
    {
      "cell_type": "code",
      "metadata": {
        "colab": {
          "base_uri": "https://localhost:8080/"
        },
        "id": "Fb-77DWdeypW",
        "outputId": "4471a2c5-686c-48ae-c38f-bb2a50af1d8b"
      },
      "source": [
        "!pip install libpff-python\n",
        "!pip install -U -q PyDrive"
      ],
      "execution_count": 1,
      "outputs": [
        {
          "output_type": "stream",
          "text": [
            "Collecting libpff-python\n",
            "\u001b[?25l  Downloading https://files.pythonhosted.org/packages/c1/ba/d20dd27a5655906d85f0b404454e19a857b9170f3b12f4956f0272f0be30/libpff-python-20161119.tar.gz (2.0MB)\n",
            "\u001b[K     |████████████████████████████████| 2.0MB 26.0MB/s \n",
            "\u001b[?25hBuilding wheels for collected packages: libpff-python\n",
            "  Building wheel for libpff-python (setup.py) ... \u001b[?25l\u001b[?25hdone\n",
            "  Created wheel for libpff-python: filename=libpff_python-20161119-cp37-cp37m-linux_x86_64.whl size=1712968 sha256=934f0cc2d138a40b9ef11951a1197894450b2ed860cbdf4fb59b188288b932b9\n",
            "  Stored in directory: /root/.cache/pip/wheels/e8/35/58/34e78d310d07940556d1a323b8e0eacedd740c95d4f83ca997\n",
            "Successfully built libpff-python\n",
            "Installing collected packages: libpff-python\n",
            "Successfully installed libpff-python-20161119\n"
          ],
          "name": "stdout"
        }
      ]
    },
    {
      "cell_type": "markdown",
      "metadata": {
        "id": "mV_4MoEjM-tH"
      },
      "source": [
        "### 1.2 Funciones propias\n",
        "\n",
        "Se definen funciones propias para la limpieza de los correos y las cadenas de texto:"
      ]
    },
    {
      "cell_type": "code",
      "metadata": {
        "id": "TqJDOlDLNIzD"
      },
      "source": [
        "#%% Función para limpiar las consultas\n",
        "def limpiar_correo(text):\n",
        "    '''Se limpian las cadenas de texto'''\n",
        "    \n",
        "    # Paso a minusculas\n",
        "    text = str(text).lower()\n",
        "\n",
        "    # Reemplazo los tildes\n",
        "    text = text.replace(\"\\\\xc3\\\\xa1\", \"á\")\n",
        "    text = text.replace(\"\\\\xc3\\\\xa9\", \"é\")\n",
        "    text = text.replace(\"\\\\xc3\\\\xad\", \"í\")\n",
        "    text = text.replace(\"\\\\xc3\\\\xb3\", \"ó\")\n",
        "    text = text.replace(\"&uacute;\", \"ú\")\n",
        "    text = text.replace(\"\\\\xc3\\\\xb1\", \"ñ\")\n",
        "    text = text.replace(\"&aacute;\", \"á\")\n",
        "    text = text.replace(\"&eacute;\", \"é\")\n",
        "    text = text.replace(\"&iacute;\", \"í\")\n",
        "    text = text.replace(\"&oacute;\", \"ó\")\n",
        "    text = text.replace(\"&uacute;\", \"ú\")\n",
        "    text = text.replace(\"&ntilde;\", \"ñ\")\n",
        "    text = text.replace(\"&ordm\", \"°\")\n",
        "\n",
        "    # Quito los fin de linea y caracteres especiales\n",
        "    text = text.replace(\"\\\\n\", \" \")\n",
        "    text = text.replace(\"\\\\r\", \"\")\n",
        "    text = text.replace(\"\\\\\", \"\")\n",
        "    text = text.replace(\"b\\'\", \"\")\n",
        "\n",
        "    return text\n",
        "\n",
        "def limpiar_consulta(text):\n",
        "    '''Se limpian las consultas'''   \n",
        "    # Separo la consulta en encabezado y cuerpo\n",
        "    COMIENZO_CORREO = \"de: u.n.lu. [mailto:consultasweb@mail.unlu.edu.ar]\"\n",
        "    GUIONES_CUERPO  = \"-------------------------\"\n",
        "    \n",
        "    text = str(text).replace(\" >\", \"\")\n",
        "    text = text.split(\"---------------------------------\")\n",
        "    if len(text)>1:\n",
        "        # El encabezado solo posee la fecha como dato importante\n",
        "        encabezado = text[0]\n",
        "        encabezado = encabezado.replace(COMIENZO_CORREO, \"\")\n",
        "        #fecha = encabezado[len(encabezado)-len(\"08.23.2015-00:57:19\")-2:len(encabezado)].strip()\n",
        "        inicio_fecha = encabezado.find(\"enviado :\")\n",
        "        fecha        = encabezado[inicio_fecha+len(\"enviado :\"):len(encabezado)].strip()\n",
        "        fecha        = fecha[0:len(\"08.20.2019-20:48:53\")]\n",
        "        hora         = fecha.split(\"-\")[1]\n",
        "        fecha        = fecha.split(\"-\")[0].replace(\".\", \"-\")\n",
        "        \n",
        "        # Cuerpo        \n",
        "        cuerpo = text[1]\n",
        "        cuerpo = cuerpo.replace(GUIONES_CUERPO, \"\")\n",
        "        \n",
        "        # Busco el inicio de cada dato para estructurarlos\n",
        "        inicio_ap_nom    = cuerpo.find(\"nombre y apellido: \")\n",
        "        inicio_legajo    = cuerpo.find(\"legajo: \")\n",
        "        inicio_documento = cuerpo.find(\"documento: \")\n",
        "        inicio_carrera   = cuerpo.find(\"carrera: \")\n",
        "        inicio_telefono  = cuerpo.find(\"teléfono: \")\n",
        "        inicio_email     = cuerpo.find(\"e-mail: \")\n",
        "        inicio_consulta  = cuerpo.find(\"mensaje / consulta: \")\n",
        "\n",
        "        apellido_nombre = cuerpo[inicio_ap_nom+len(\"nombre y apellido: \"):inicio_legajo-1]\n",
        "        legajo          = cuerpo[inicio_legajo+len(\"legajo: \"):inicio_documento-1]\n",
        "        documento       = cuerpo[inicio_documento+len(\"documento: \"):inicio_carrera-1]\n",
        "        carrera         = cuerpo[inicio_carrera+len(\"carrera: \"):inicio_telefono-1]\n",
        "        telefono        = cuerpo[inicio_telefono+len(\"teléfono: \"):inicio_email-1]\n",
        "        email           = cuerpo[inicio_email+len(\"e-mail: \"):inicio_consulta-1]\n",
        "        consulta        = cuerpo[inicio_consulta+len(\"mensaje / consulta: \"):len(cuerpo)]\n",
        "        \n",
        "    else:\n",
        "        fecha = text[0]\n",
        "        hora  = -1\n",
        "        apellido_nombre = -1\n",
        "        legajo          = -1\n",
        "        documento       = -1\n",
        "        carrera         = -1\n",
        "        telefono        = -1\n",
        "        email           = -1\n",
        "        consulta        = -1\n",
        "        \n",
        "    return fecha, hora, apellido_nombre, legajo, documento, carrera, telefono, email, consulta"
      ],
      "execution_count": 2,
      "outputs": []
    },
    {
      "cell_type": "markdown",
      "metadata": {
        "id": "1GjgWAxkh6QO"
      },
      "source": [
        "### 1.3 Descarga de archivo de correos\n",
        "\n",
        "Se abre el archivo con las consultas que se encuentra en Google Drive (~=800 mb)"
      ]
    },
    {
      "cell_type": "code",
      "metadata": {
        "colab": {
          "base_uri": "https://localhost:8080/"
        },
        "id": "MDKF-8KIh5c9",
        "outputId": "b1dbe62c-9bb7-4cf1-b731-8338f7b31741"
      },
      "source": [
        "import pypff\n",
        "from google.colab import drive\n",
        "drive.mount('/content/drive')\n",
        "\n",
        "pst_file = 'drive/MyDrive/Consultas.pst'\n",
        "\n",
        "pst = pypff.file()\n",
        "pst.open(pst_file)"
      ],
      "execution_count": 3,
      "outputs": [
        {
          "output_type": "stream",
          "text": [
            "Mounted at /content/drive\n"
          ],
          "name": "stdout"
        }
      ]
    },
    {
      "cell_type": "markdown",
      "metadata": {
        "id": "raEpNN92mArE"
      },
      "source": [
        "Se verifican las carpetas que se encuentran dentro del backup y la cantidad de mensajes de cada una de ellas:"
      ]
    },
    {
      "cell_type": "code",
      "metadata": {
        "colab": {
          "base_uri": "https://localhost:8080/"
        },
        "id": "sVec9t7Oj9n7",
        "outputId": "865ad626-87e8-4491-e800-5bf1d3978cce"
      },
      "source": [
        "root_node = pst.get_root_folder()\n",
        "carpeta_Outlook = root_node.get_sub_folder(1)\n",
        "print('Carpetas del Outlook:')\n",
        "for i in range(0, carpeta_Outlook.get_number_of_sub_folders()):\n",
        "    folder=carpeta_Outlook.get_sub_folder(i)\n",
        "    print(str(i) + \"-\" + folder.get_name() + \": \" + str(folder.get_number_of_sub_messages()))"
      ],
      "execution_count": 4,
      "outputs": [
        {
          "output_type": "stream",
          "text": [
            "Carpetas del Outlook:\n",
            "0-Elementos eliminados: 1491\n",
            "1-Bandeja de entrada: 22703\n",
            "2-Bandeja de salida: 0\n",
            "3-Elementos enviados: 24166\n",
            "4-Correo electrónico no deseado: 19\n",
            "5-Configuración de acción de conversación: 0\n",
            "6-Configuración de pasos rápidos: 0\n",
            "7-Calendario: 0\n",
            "8-Diario: 0\n",
            "9-Tareas: 0\n",
            "10-Infected Items: 0\n",
            "11-Contactos: 0\n",
            "12-Notas: 0\n",
            "13-Borrador: 0\n",
            "14-Fuentes RSS: 0\n"
          ],
          "name": "stdout"
        }
      ]
    },
    {
      "cell_type": "markdown",
      "metadata": {
        "id": "GK7JdcVOmJHE"
      },
      "source": [
        "## 2. Procesamiento de correos\n",
        "\n",
        "Se escoge trabajar con los correos enviados puesto que los mismos cuentan con la consulta y su respuesta (eventual etiqueta):"
      ]
    },
    {
      "cell_type": "code",
      "metadata": {
        "id": "kc4ElkANOPph"
      },
      "source": [
        "enviados = carpeta_Outlook.get_sub_folder(3)"
      ],
      "execution_count": 5,
      "outputs": []
    },
    {
      "cell_type": "markdown",
      "metadata": {
        "id": "KobqSIfGObhK"
      },
      "source": [
        "Se definen constantes que tienen que ver con el tamaño de la muestra y el nombre del archivo donde se van a guardar los correos procesados:"
      ]
    },
    {
      "cell_type": "code",
      "metadata": {
        "colab": {
          "base_uri": "https://localhost:8080/"
        },
        "id": "wiX4duGjObx6",
        "outputId": "7d72197b-27c3-40f4-d2ec-42824ef7f1de"
      },
      "source": [
        "CANTIDAD_CORREOS = enviados.get_number_of_sub_messages()\n",
        "print('La muestra posee {} correos.'.format(CANTIDAD_CORREOS))\n",
        "# Constante para la etapa de pruebas\n",
        "# CANTIDAD_CORREOS = 10\n",
        "\n",
        "# Datos del archivo donde se guardan las consultas\n",
        "PATH_ARCHIVO_CORREOS = \"correos-procesados.csv\""
      ],
      "execution_count": 6,
      "outputs": [
        {
          "output_type": "stream",
          "text": [
            "La muestra posee 24166 correos.\n"
          ],
          "name": "stdout"
        }
      ]
    },
    {
      "cell_type": "markdown",
      "metadata": {
        "id": "Hda2OUTpOQgB"
      },
      "source": [
        "Se definen un conjunto ce constantes que tienen que ver con el texto de los correos:"
      ]
    },
    {
      "cell_type": "code",
      "metadata": {
        "id": "dLWfxRFSNYp3"
      },
      "source": [
        "SEPARADOR_CONSULTA_RESPUESTA = \"-----mensaje original-----\"\n",
        "INICIO_DISTINTO = \"de: u.n.lu. [mailto:consultasweb@mail.unlu.edu.ar]\""
      ],
      "execution_count": 7,
      "outputs": []
    },
    {
      "cell_type": "code",
      "metadata": {
        "id": "Lm_MbSEqRTbE"
      },
      "source": [
        "# Se crea el data frame donde se guardan los correos procesados\n",
        "import pandas as pd\n",
        "nombre_campos = [\"fecha\", \"hora\", \"apellido_nombre\", \"legajo\", \"documento\", \"carrera\", \"telefono\", \"email\", \"consulta\", \"respuesta\"]\n",
        "\n",
        "df_correos = pd.DataFrame(columns = nombre_campos)"
      ],
      "execution_count": 8,
      "outputs": []
    },
    {
      "cell_type": "code",
      "metadata": {
        "id": "hJ9rKWb7mJaE"
      },
      "source": [
        "for i in range(0, CANTIDAD_CORREOS):\n",
        "  # Se toma el correo de índice i\n",
        "  correo = enviados.get_sub_message(i)\n",
        "  cuerpo = correo.get_plain_text_body()\n",
        "  if cuerpo:\n",
        "    \n",
        "    # Se hace una limpieza inicial del texto\n",
        "    cuerpo = limpiar_correo(cuerpo)      \n",
        "    \n",
        "    # Se separa la consulta de la respuesta, solo acepta un ida y vuelta\n",
        "    cuerpo = cuerpo.split(SEPARADOR_CONSULTA_RESPUESTA)\n",
        "    \n",
        "    # Se deciden desechar los correos no separables, con varios idas/vueltas\n",
        "    if len(cuerpo)>1:\n",
        "      respuesta = cuerpo[0]\n",
        "      consulta = cuerpo[1]\n",
        "            \n",
        "      # Si es un ida/vuelta UNICO\n",
        "      if consulta.find(INICIO_DISTINTO)!=-1:\n",
        "        fecha, hora, apellido_nombre, legajo, documento, carrera, telefono, email, consulta = limpiar_consulta(consulta)\n",
        "\n",
        "        if apellido_nombre!=-1:\n",
        "          \n",
        "          correo_procesado = {'fecha': fecha, 'hora': hora, 'apellido_nombre': apellido_nombre, 'legajo': legajo, 'documento': documento, 'carrera': carrera, \n",
        "                              'telefono': telefono, 'email': email, 'consulta': consulta, 'respuesta': respuesta}\n",
        "        \n",
        "          df_correos = df_correos.append(correo_procesado, ignore_index=True)\n"
      ],
      "execution_count": 9,
      "outputs": []
    },
    {
      "cell_type": "markdown",
      "metadata": {
        "id": "ztTamu0kXOoC"
      },
      "source": [
        "Se vuelvan los correos a JSON y CSV:"
      ]
    },
    {
      "cell_type": "code",
      "metadata": {
        "id": "cYVQnJGz3yCk"
      },
      "source": [
        "df_correos.to_json('correos-procesados.json', orient='records', lines=True)"
      ],
      "execution_count": 18,
      "outputs": []
    },
    {
      "cell_type": "code",
      "metadata": {
        "id": "c9WIGBwgSu1T"
      },
      "source": [
        "df_correos.to_csv('correos-procesados.csv', index=False)"
      ],
      "execution_count": 11,
      "outputs": []
    },
    {
      "cell_type": "markdown",
      "metadata": {
        "id": "Hx3DWAUyXSel"
      },
      "source": [
        "Si estamos en COLAB lo pasamos a Google Drive:"
      ]
    },
    {
      "cell_type": "code",
      "metadata": {
        "colab": {
          "base_uri": "https://localhost:8080/"
        },
        "id": "xyHqIpLPWLii",
        "outputId": "d10729ef-a548-42a4-9cf9-f39ca8f37a4f"
      },
      "source": [
        "ENTORNO='Colab'\n",
        "\n",
        "if ENTORNO=='Colab':\n",
        "  from google.colab import drive\n",
        "  drive.mount('drive')\n",
        "  !cp correos-procesados.csv \"drive/My Drive/\"\n",
        "  !cp correos-procesados.json \"drive/My Drive/\""
      ],
      "execution_count": 19,
      "outputs": [
        {
          "output_type": "stream",
          "text": [
            "Drive already mounted at drive; to attempt to forcibly remount, call drive.mount(\"drive\", force_remount=True).\n"
          ],
          "name": "stdout"
        }
      ]
    }
  ]
}