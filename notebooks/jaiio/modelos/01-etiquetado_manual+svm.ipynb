{
  "nbformat": 4,
  "nbformat_minor": 0,
  "metadata": {
    "colab": {
      "name": "01-etiquetado-manual+svm.ipynb",
      "provenance": [],
      "collapsed_sections": [],
      "include_colab_link": true
    },
    "kernelspec": {
      "name": "python3",
      "display_name": "Python 3"
    }
  },
  "cells": [
    {
      "cell_type": "markdown",
      "metadata": {
        "id": "view-in-github",
        "colab_type": "text"
      },
      "source": [
        "<a href=\"https://colab.research.google.com/github/jumafernandez/clasificacion_correos/blob/main/notebooks/jaiio/modelos/01-etiquetado_manual%2Bsvm.ipynb\" target=\"_parent\"><img src=\"https://colab.research.google.com/assets/colab-badge.svg\" alt=\"Open In Colab\"/></a>"
      ]
    },
    {
      "cell_type": "markdown",
      "metadata": {
        "id": "5DuUrVBgeUso"
      },
      "source": [
        "# Baseline JAIIO: Etiquetado manual+SVM\n",
        "\n",
        "En esta notebook se presetan los experimentos sobre la estrategia de representación y técnica de aprendizaje *baseline* utilizada para JAIIO con los correos etiquetados de forma manual.\n",
        "\n",
        "Para ello vamos a preprocesar los correos y aplicar:\n",
        "- Bag of words,\n",
        "- Pesado binario/no binario,\n",
        "- Máquina de vector soporte (SVM).\n"
      ]
    },
    {
      "cell_type": "markdown",
      "metadata": {
        "id": "FBLanwDJVnFF"
      },
      "source": [
        "## 1. Instalación y Carga de librerías y funciones útiles"
      ]
    },
    {
      "cell_type": "markdown",
      "metadata": {
        "id": "3-dNi6mDUZnb"
      },
      "source": [
        "### 1.1 Instalación de librerías\n",
        "\n",
        "Se instalan las librerías que no están en el entorno de Google Colab:"
      ]
    },
    {
      "cell_type": "code",
      "metadata": {
        "colab": {
          "base_uri": "https://localhost:8080/"
        },
        "id": "644uDER_VnXj",
        "outputId": "be3e9194-09d0-44d5-e3fa-ffbaff326e2b"
      },
      "source": [
        "# Se instala gensim que es el que tiene el modelo Word2Vec\n",
        "!pip install requests\n",
        "!pip install wget"
      ],
      "execution_count": 2,
      "outputs": [
        {
          "output_type": "stream",
          "text": [
            "Requirement already satisfied: requests in /usr/local/lib/python3.7/dist-packages (2.23.0)\n",
            "Requirement already satisfied: chardet<4,>=3.0.2 in /usr/local/lib/python3.7/dist-packages (from requests) (3.0.4)\n",
            "Requirement already satisfied: idna<3,>=2.5 in /usr/local/lib/python3.7/dist-packages (from requests) (2.10)\n",
            "Requirement already satisfied: certifi>=2017.4.17 in /usr/local/lib/python3.7/dist-packages (from requests) (2021.5.30)\n",
            "Requirement already satisfied: urllib3!=1.25.0,!=1.25.1,<1.26,>=1.21.1 in /usr/local/lib/python3.7/dist-packages (from requests) (1.24.3)\n",
            "Collecting wget\n",
            "  Downloading https://files.pythonhosted.org/packages/47/6a/62e288da7bcda82b935ff0c6cfe542970f04e29c756b0e147251b2fb251f/wget-3.2.zip\n",
            "Building wheels for collected packages: wget\n",
            "  Building wheel for wget (setup.py) ... \u001b[?25l\u001b[?25hdone\n",
            "  Created wheel for wget: filename=wget-3.2-cp37-none-any.whl size=9675 sha256=4a9b15fdd61b9cef11cd4694f101e81585312433643083d6b26a5f2e688f1eba\n",
            "  Stored in directory: /root/.cache/pip/wheels/40/15/30/7d8f7cea2902b4db79e3fea550d7d7b85ecb27ef992b618f3f\n",
            "Successfully built wget\n",
            "Installing collected packages: wget\n",
            "Successfully installed wget-3.2\n"
          ],
          "name": "stdout"
        }
      ]
    },
    {
      "cell_type": "markdown",
      "metadata": {
        "id": "43fDuhK2V1kx"
      },
      "source": [
        "### 1.2 Funciones útiles\n",
        "\n",
        "Se cargan funciones útiles desde el repo https://github.com/jumafernandez/clasificacion_correos para la carga y balanceo del dataset."
      ]
    },
    {
      "cell_type": "code",
      "metadata": {
        "id": "oQvZz035bSMf"
      },
      "source": [
        "import requests\n",
        "\n",
        "# Se hace el request del raw del script python\n",
        "url = 'https://raw.githubusercontent.com/jumafernandez/clasificacion_correos/main/scripts/funciones_dataset.py'\n",
        "r = requests.get(url)\n",
        "\n",
        "# Se guarda en el working directory\n",
        "with open('funciones_dataset.py', 'w') as f:\n",
        "    f.write(r.text)\n",
        "\n",
        "# Se importan las funciones a utilizar\n",
        "from funciones_dataset import get_clases, cargar_dataset, consolidar_df"
      ],
      "execution_count": 3,
      "outputs": []
    },
    {
      "cell_type": "markdown",
      "metadata": {
        "id": "MDxjaGIfV-rT"
      },
      "source": [
        "También se carga la función para preprocesar el texto que se usó en los otros modelos desde el repo: https://github.com/jumafernandez/clasificacion_correos."
      ]
    },
    {
      "cell_type": "code",
      "metadata": {
        "id": "o0o2NndLWDVC"
      },
      "source": [
        "import requests\n",
        "\n",
        "# Se hace el request del raw del script python\n",
        "url = 'https://raw.githubusercontent.com/jumafernandez/clasificacion_correos/main/scripts/funciones_preprocesamiento.py'\n",
        "r = requests.get(url)\n",
        "\n",
        "# Se guarda en el working directory\n",
        "with open('funciones_preprocesamiento.py', 'w') as f:\n",
        "    f.write(r.text)\n",
        "\n",
        "# Se importan las funciones a utilizar\n",
        "from funciones_preprocesamiento import preprocesar_correos"
      ],
      "execution_count": 4,
      "outputs": []
    },
    {
      "cell_type": "markdown",
      "metadata": {
        "id": "-uv6R5UQWWmE"
      },
      "source": [
        "### 1.3. Carga de datos\n",
        "\n",
        "Se carga el dataframe en memoria con el preprocesamiento de los datos:"
      ]
    },
    {
      "cell_type": "code",
      "metadata": {
        "colab": {
          "base_uri": "https://localhost:8080/"
        },
        "id": "MP4lJ_KVvBSO",
        "outputId": "9cac6bfd-e775-498f-a223-1f99d2df07b0"
      },
      "source": [
        "import warnings\n",
        "from os import path\n",
        "warnings.filterwarnings(\"ignore\")\n",
        "\n",
        "# Constantes con los datos\n",
        "DS_DIR = 'https://raw.githubusercontent.com/jumafernandez/clasificacion_correos/main/data/50jaiio/consolidados/'\n",
        "TRAIN_FILE = 'correos-train-jaiio-80.csv'\n",
        "TEST_FILE = 'correos-test-jaiio-20.csv'\n",
        "\n",
        "# Chequeo sobre si los archivos están en el working directory\n",
        "download_files = not(path.exists(TRAIN_FILE))\n",
        "\n",
        "etiquetas = get_clases()\n",
        "\n",
        "# Defino la cantidad de clases a utilizar\n",
        "CANTIDAD_CLASES = len(etiquetas)\n",
        "\n",
        "train_df, test_df, etiquetas = cargar_dataset(DS_DIR, TRAIN_FILE, TEST_FILE, download_files, 'clase', etiquetas, CANTIDAD_CLASES, 'Otras Consultas')\n",
        "\n",
        "# Se ejecuta el preprocesamiento de correos sobre el campo Consulta de train y test\n",
        "import pandas as pd\n",
        "train_df['consulta'] = pd.Series(preprocesar_correos(train_df['consulta']))\n",
        "test_df['consulta'] = pd.Series(preprocesar_correos(test_df['consulta']))\n",
        "\n",
        "# Muestro salida por consola\n",
        "print('Existen {} clases: {}.'.format(len(train_df.clase.unique()), train_df.clase.unique()))"
      ],
      "execution_count": 5,
      "outputs": [
        {
          "output_type": "stream",
          "text": [
            "Se inicia descarga de los datasets.\n",
            "\n",
            "El conjunto de entrenamiento tiene la dimensión: (800, 24)\n",
            "El conjunto de testeo tiene la dimensión: (200, 24)\n",
            "Existen 16 clases: ['Boleto Universitario' 'Problemas con la Clave' 'Cursadas'\n",
            " 'Cambio de Carrera' 'Ingreso a la Universidad' 'Requisitos de Ingreso'\n",
            " 'Reincorporación' 'Pedido de Certificados' 'Situación Académica'\n",
            " 'Exámenes' 'Cambio de Comisión' 'Consulta por Legajo'\n",
            " 'Consulta sobre Título Universitario' 'Datos Personales'\n",
            " 'Consulta por Equivalencias' 'Simultaneidad de Carreras'].\n"
          ],
          "name": "stdout"
        }
      ]
    },
    {
      "cell_type": "markdown",
      "metadata": {
        "id": "17obw6uxVN21"
      },
      "source": [
        "## 2. SVM"
      ]
    },
    {
      "cell_type": "markdown",
      "metadata": {
        "id": "QOOwBxoYUoWC"
      },
      "source": [
        "### 2.1. Carga de librerías de procesamiento de texto\n",
        "\n",
        "Se cargan en memoria dos funciones: _grid_search_por_estrategia_representacion_ que va a iterar ajustando los hiperparámetros para las técnica de __SVM__ y _representacion_documentos_ que genera representaciones para las _features textuales_:"
      ]
    },
    {
      "cell_type": "code",
      "metadata": {
        "id": "8XF6H0BGX9F9"
      },
      "source": [
        "import requests\n",
        "\n",
        "# Se hace el request del raw del script python\n",
        "url = 'https://raw.githubusercontent.com/jumafernandez/clasificacion_correos/main/scripts/funciones_clasificacion_texto.py'\n",
        "r = requests.get(url)\n",
        "\n",
        "# Se guarda en el working directory\n",
        "with open('funciones_clasificacion_texto.py', 'w') as f:\n",
        "    f.write(r.text)\n",
        "\n",
        "# Se importan las funciones a utilizar\n",
        "from funciones_clasificacion_texto import gridsearch_por_estrategia_representacion, representacion_documentos"
      ],
      "execution_count": 6,
      "outputs": []
    },
    {
      "cell_type": "markdown",
      "metadata": {
        "id": "BR6VPw5NNYje"
      },
      "source": [
        "### 2.2 Modelo general (clasificación en las 16 clases)\n",
        "\n",
        "En primer lugar se trabaja con un único clasificador que clasifica y testea las instancias en las 16 clases posibles."
      ]
    },
    {
      "cell_type": "markdown",
      "metadata": {
        "id": "7kgPWXtpU_7v"
      },
      "source": [
        "#### 2.2.1 Definición del espacio de búsqueda\n",
        "\n",
        "Se define el espacio de búsqueda para el ajuste de hiperparámetros del modelo:"
      ]
    },
    {
      "cell_type": "code",
      "metadata": {
        "id": "k3TOc1GcX-rg"
      },
      "source": [
        "# Defino una lista con los esquemas de representación\n",
        "estrategias_representacion = ['BINARIO', 'TFIDF', '3-4-NGRAM-CHARS', '1-2-NGRAM-WORDS']\n",
        "modelo = 'SVM'\n",
        "\n",
        "# Defino los parámetros para GridSearchCV\n",
        "params_svm = {'SVM__C': [0.1, 1, 10, 100], \n",
        "              'SVM__gamma': [0.01, 0.1, 1],\n",
        "              'SVM__class_weight': [None, 'balanced'],\n",
        "              'SVM__kernel': ['rbf', 'linear', 'poly', 'sigmoid']\n",
        "              }"
      ],
      "execution_count": 7,
      "outputs": []
    },
    {
      "cell_type": "markdown",
      "metadata": {
        "id": "lmnm8yPmYGAR"
      },
      "source": [
        "Se ejecuta el ajuste de hiperparámetros para cada estrategia de representación en función del espacio de búsqueda:"
      ]
    },
    {
      "cell_type": "code",
      "metadata": {
        "id": "lFSOquuAYGPK"
      },
      "source": [
        "NO_CORRIDA = False\n",
        "\n",
        "if NO_CORRIDA:\n",
        "  for estrategia in estrategias_representacion:\n",
        "    # Llamo a la función que realiza el gridsearch por estrategia  \n",
        "    gridsearch_por_estrategia_representacion(train_df, test_df, estrategia, modelo, params_svm, None, atr_consulta='consulta')"
      ],
      "execution_count": 8,
      "outputs": []
    },
    {
      "cell_type": "markdown",
      "metadata": {
        "id": "GjoUvaOgh00W"
      },
      "source": [
        "#### 2.2.2 Modelo generado\n",
        "\n",
        "En función de los mejores hiperparámetros encontrados con la búsqueda Grid, ajusto el modelo para obtener las métricas (por un bug en la función ya solucionado):"
      ]
    },
    {
      "cell_type": "code",
      "metadata": {
        "id": "VfU5JT1vh0J3",
        "colab": {
          "base_uri": "https://localhost:8080/"
        },
        "outputId": "f66baffa-7f17-4bfd-debd-8788fb25c5d2"
      },
      "source": [
        "# Mejores Parámetros según GridSearchCV:\n",
        "# {'SVM__C': 10, 'SVM__class_weight': 'balanced', 'SVM__gamma': 0.01, 'SVM__kernel': 'sigmoid', 'estrategia': '3-4-NGRAM-CHARS', \n",
        "#  'accuracy': 0.81, 'precision': 0.5971321956813028, 'recall': 0.553190280233687, 'f1_score': 0.5639032258154839}\n",
        "\n",
        "params_svm = {'SVM__C': [10], \n",
        "              'SVM__gamma': [0.01],\n",
        "              'SVM__class_weight': ['balanced'],\n",
        "              'SVM__kernel': ['sigmoid'],\n",
        "              'SVM__probability': [True]\n",
        "              }\n",
        "\n",
        "clf, X_test, y_test = gridsearch_por_estrategia_representacion(train_df, test_df, '3-4-NGRAM-CHARS', 'SVM', params_svm, None, atr_consulta='consulta')"
      ],
      "execution_count": 9,
      "outputs": [
        {
          "output_type": "stream",
          "text": [
            "Estrategia de representación: 3-4-NGRAM-CHARS\n",
            "Fitting 5 folds for each of 1 candidates, totalling 5 fits\n"
          ],
          "name": "stdout"
        },
        {
          "output_type": "stream",
          "text": [
            "[Parallel(n_jobs=-1)]: Using backend LokyBackend with 2 concurrent workers.\n",
            "[Parallel(n_jobs=-1)]: Done   5 out of   5 | elapsed:  3.3min finished\n"
          ],
          "name": "stderr"
        },
        {
          "output_type": "stream",
          "text": [
            "Estrategia de representación: 3-4-NGRAM-CHARS\n",
            "Parámetros: {'SVM__C': 10, 'SVM__class_weight': 'balanced', 'SVM__gamma': 0.01, 'SVM__kernel': 'sigmoid', 'SVM__probability': True, 'clasificador': 'SVM', 'estrategia': '3-4-NGRAM-CHARS', 'accuracy': 0.81, 'precision': 0.5971321956813028, 'recall': 0.553190280233687, 'f1_score': 0.5639032258154839}\n",
            "Accuracy Test-Set: 0.81\n",
            "Métricas sobre Test-Set: {'SVM__C': 10, 'SVM__class_weight': 'balanced', 'SVM__gamma': 0.01, 'SVM__kernel': 'sigmoid', 'SVM__probability': True, 'clasificador': 'SVM', 'estrategia': '3-4-NGRAM-CHARS', 'accuracy': 0.81, 'precision': 0.5971321956813028, 'recall': 0.553190280233687, 'f1_score': 0.5639032258154839}\n"
          ],
          "name": "stdout"
        }
      ]
    },
    {
      "cell_type": "markdown",
      "metadata": {
        "id": "qzVZFzCTVTSZ"
      },
      "source": [
        "Se predicen las instancias de testeo:"
      ]
    },
    {
      "cell_type": "code",
      "metadata": {
        "id": "zNoj8Gshc09R"
      },
      "source": [
        "y_pred = clf.predict(X_test)"
      ],
      "execution_count": 10,
      "outputs": []
    },
    {
      "cell_type": "markdown",
      "metadata": {
        "id": "SoOcZO15Vni2"
      },
      "source": [
        "Además, se utiliza el método _predict\\_proba_ para calcular la probabilidad asociada a la clasificación de cada instancia:"
      ]
    },
    {
      "cell_type": "code",
      "metadata": {
        "id": "PVQ-oYM0Pwof"
      },
      "source": [
        "import numpy as np\n",
        "\n",
        "y_pred_proba = np.around(clf.predict_proba(X_test), 2)\n",
        "\n",
        "y_max_proba = np.amax(y_pred_proba, 1)"
      ],
      "execution_count": 11,
      "outputs": []
    },
    {
      "cell_type": "code",
      "metadata": {
        "colab": {
          "base_uri": "https://localhost:8080/"
        },
        "id": "LsR7UjZZUzTy",
        "outputId": "35b1bf75-421d-4e19-e4db-7723cb10cbf4"
      },
      "source": [
        "y_max_proba"
      ],
      "execution_count": 12,
      "outputs": [
        {
          "output_type": "execute_result",
          "data": {
            "text/plain": [
              "array([0.99, 0.77, 0.25, 0.42, 0.74, 0.89, 0.38, 0.75, 0.62, 0.33, 0.86,\n",
              "       0.47, 0.93, 0.63, 0.95, 0.85, 0.4 , 0.98, 0.84, 0.56, 0.27, 0.28,\n",
              "       0.97, 0.51, 0.61, 0.86, 0.23, 0.7 , 0.86, 0.96, 0.53, 0.76, 0.87,\n",
              "       0.96, 0.5 , 0.46, 0.93, 0.88, 0.99, 0.85, 0.99, 0.47, 0.63, 0.46,\n",
              "       0.92, 0.99, 0.43, 0.68, 0.91, 0.78, 0.64, 0.18, 1.  , 0.98, 0.45,\n",
              "       0.78, 0.94, 0.97, 0.93, 0.84, 0.69, 1.  , 1.  , 1.  , 0.71, 0.86,\n",
              "       0.66, 0.48, 0.97, 0.39, 0.66, 0.97, 0.98, 0.56, 0.8 , 0.41, 0.68,\n",
              "       0.98, 0.58, 0.93, 0.86, 0.67, 0.94, 0.82, 0.82, 0.91, 0.86, 0.88,\n",
              "       0.45, 0.91, 0.73, 0.65, 0.43, 0.73, 0.54, 0.6 , 0.64, 0.98, 0.92,\n",
              "       0.79, 0.96, 0.41, 0.35, 0.43, 0.99, 0.88, 0.37, 0.94, 0.83, 0.49,\n",
              "       0.95, 0.9 , 0.67, 0.43, 0.89, 0.93, 0.92, 0.94, 0.94, 0.48, 0.9 ,\n",
              "       0.42, 0.75, 0.59, 0.71, 0.95, 0.52, 0.56, 0.86, 0.98, 0.97, 0.38,\n",
              "       0.86, 0.89, 0.98, 0.33, 0.85, 0.83, 0.32, 0.25, 0.2 , 0.6 , 1.  ,\n",
              "       0.5 , 0.99, 0.96, 0.22, 0.58, 0.32, 0.76, 0.96, 0.57, 0.32, 0.64,\n",
              "       0.51, 0.93, 1.  , 0.86, 1.  , 1.  , 0.77, 0.98, 0.79, 1.  , 0.78,\n",
              "       0.78, 0.99, 0.99, 0.84, 0.92, 0.93, 0.7 , 0.99, 0.94, 0.85, 0.63,\n",
              "       0.57, 0.51, 0.99, 0.54, 0.93, 0.93, 0.49, 1.  , 1.  , 0.55, 0.44,\n",
              "       0.81, 1.  , 0.71, 0.96, 0.98, 0.33, 0.99, 0.93, 0.99, 0.39, 0.99,\n",
              "       0.69, 0.71])"
            ]
          },
          "metadata": {
            "tags": []
          },
          "execution_count": 12
        }
      ]
    },
    {
      "cell_type": "markdown",
      "metadata": {
        "id": "WgSm2WQzVyUt"
      },
      "source": [
        "Se genera un _dataframe_ con las clases observadas para _test_, las predicciones y las probabilidades asociadas para verificar si hay relación entre las proba y los errores:"
      ]
    },
    {
      "cell_type": "code",
      "metadata": {
        "id": "VsF3kAQjS5By"
      },
      "source": [
        "import pandas as pd\n",
        "\n",
        "resultados = pd.concat([pd.Series(y_test), pd.Series(y_pred), pd.Series(y_max_proba)], axis=1)\n",
        "resultados.columns = ['clase', 'prediccion', 'max_proba']\n",
        "resultados['correcto'] = resultados['clase'] == resultados['prediccion']"
      ],
      "execution_count": 13,
      "outputs": []
    },
    {
      "cell_type": "markdown",
      "metadata": {
        "id": "0dvHDGdSV_1S"
      },
      "source": [
        "Se calcula el _accuracy__ para las predicciones con una proba>0.5 y se obtiene una mejora sustancial:"
      ]
    },
    {
      "cell_type": "code",
      "metadata": {
        "colab": {
          "base_uri": "https://localhost:8080/"
        },
        "id": "T1-NV0ztUmlq",
        "outputId": "a646d9cc-63f5-47c1-e23a-ab18320cd9ac"
      },
      "source": [
        "sum(resultados[resultados.max_proba>0.5]['correcto'])/resultados[resultados.max_proba>0.5]['correcto'].count()"
      ],
      "execution_count": 14,
      "outputs": [
        {
          "output_type": "execute_result",
          "data": {
            "text/plain": [
              "0.9050632911392406"
            ]
          },
          "metadata": {
            "tags": []
          },
          "execution_count": 14
        }
      ]
    },
    {
      "cell_type": "markdown",
      "metadata": {
        "id": "wIpzEIaOWKNa"
      },
      "source": [
        "#### 2.2.3 Métricas de selección"
      ]
    },
    {
      "cell_type": "markdown",
      "metadata": {
        "id": "Cied9MM_WNvG"
      },
      "source": [
        "##### 2.2.3.1. Matriz de confusión\n",
        "\n",
        "A continuación, se calcula la matriz de confusión para cada clase para el recorte con proba>0.5 y para el modelo con la totalidad de instancias:"
      ]
    },
    {
      "cell_type": "code",
      "metadata": {
        "colab": {
          "base_uri": "https://localhost:8080/"
        },
        "id": "ZeK6rWwqZInr",
        "outputId": "1228e11c-6491-43e6-be2e-d142a34d9b6d"
      },
      "source": [
        "from sklearn import metrics #Importar el módulo metrics de scikit-learn\n",
        "\n",
        "# Vamos a testear el modelo\n",
        "print(\"Accuracy:\", metrics.accuracy_score(resultados[resultados.max_proba>0.5]['clase'], resultados[resultados.max_proba>0.5]['prediccion']))\n",
        "\n",
        "# Vemos un reporte de clasificación de varias métricas\n",
        "print(metrics.classification_report(resultados[resultados.max_proba>0.5]['clase'], resultados[resultados.max_proba>0.5]['prediccion']))"
      ],
      "execution_count": 15,
      "outputs": [
        {
          "output_type": "stream",
          "text": [
            "Accuracy: 0.9050632911392406\n",
            "                                     precision    recall  f1-score   support\n",
            "\n",
            "               Boleto Universitario       1.00      0.98      0.99        47\n",
            "                  Cambio de Carrera       0.00      0.00      0.00         0\n",
            "         Consulta por Equivalencias       1.00      1.00      1.00         1\n",
            "                Consulta por Legajo       0.67      1.00      0.80         2\n",
            "Consulta sobre Título Universitario       1.00      1.00      1.00         1\n",
            "                           Cursadas       0.85      0.85      0.85        13\n",
            "                   Datos Personales       0.00      0.00      0.00         1\n",
            "                           Exámenes       1.00      1.00      1.00         3\n",
            "           Ingreso a la Universidad       0.91      0.80      0.85        25\n",
            "             Pedido de Certificados       0.93      1.00      0.97        14\n",
            "             Problemas con la Clave       0.91      0.95      0.93        21\n",
            "                    Reincorporación       0.80      0.57      0.67         7\n",
            "              Requisitos de Ingreso       0.82      0.90      0.86        20\n",
            "                Situación Académica       0.75      1.00      0.86         3\n",
            "\n",
            "                           accuracy                           0.91       158\n",
            "                          macro avg       0.76      0.79      0.77       158\n",
            "                       weighted avg       0.91      0.91      0.90       158\n",
            "\n"
          ],
          "name": "stdout"
        }
      ]
    },
    {
      "cell_type": "code",
      "metadata": {
        "colab": {
          "base_uri": "https://localhost:8080/"
        },
        "id": "6J-THNpdciSP",
        "outputId": "9c7b643e-f6dd-4427-d618-6ca78dfb4783"
      },
      "source": [
        "from sklearn import metrics #Importar el módulo metrics de scikit-learn\n",
        "\n",
        "# Vamos a testear el modelo\n",
        "print(\"Accuracy:\",metrics.accuracy_score(y_test, y_pred))\n",
        "\n",
        "# Vemos un reporte de clasificación de varias métricas\n",
        "print(metrics.classification_report(y_test, y_pred))"
      ],
      "execution_count": 16,
      "outputs": [
        {
          "output_type": "stream",
          "text": [
            "Accuracy: 0.81\n",
            "                                     precision    recall  f1-score   support\n",
            "\n",
            "               Boleto Universitario       0.96      0.98      0.97        48\n",
            "                  Cambio de Carrera       0.00      0.00      0.00         2\n",
            "                 Cambio de Comisión       0.00      0.00      0.00         2\n",
            "         Consulta por Equivalencias       1.00      0.67      0.80         3\n",
            "                Consulta por Legajo       0.67      0.67      0.67         3\n",
            "Consulta sobre Título Universitario       0.50      0.33      0.40         3\n",
            "                           Cursadas       0.49      0.89      0.63        19\n",
            "                   Datos Personales       0.00      0.00      0.00         2\n",
            "                           Exámenes       1.00      0.60      0.75         5\n",
            "           Ingreso a la Universidad       0.93      0.79      0.85        33\n",
            "             Pedido de Certificados       0.94      1.00      0.97        15\n",
            "             Problemas con la Clave       0.91      0.87      0.89        23\n",
            "                    Reincorporación       0.78      0.64      0.70        11\n",
            "              Requisitos de Ingreso       0.82      0.75      0.78        24\n",
            "          Simultaneidad de Carreras       0.00      0.00      0.00         1\n",
            "                Situación Académica       0.57      0.67      0.62         6\n",
            "\n",
            "                           accuracy                           0.81       200\n",
            "                          macro avg       0.60      0.55      0.56       200\n",
            "                       weighted avg       0.82      0.81      0.81       200\n",
            "\n"
          ],
          "name": "stdout"
        }
      ]
    },
    {
      "cell_type": "code",
      "metadata": {
        "colab": {
          "base_uri": "https://localhost:8080/"
        },
        "id": "t8dTwLl5dYu-",
        "outputId": "f3adbac3-07a8-4fba-e8b7-40c33388641d"
      },
      "source": [
        "metrics.confusion_matrix(y_test, y_pred)"
      ],
      "execution_count": 17,
      "outputs": [
        {
          "output_type": "execute_result",
          "data": {
            "text/plain": [
              "array([[47,  1,  0,  0,  0,  0,  0,  0,  0,  0,  0,  0,  0,  0,  0,  0],\n",
              "       [ 0,  0,  0,  0,  0,  0,  1,  0,  0,  0,  0,  0,  1,  0,  0,  0],\n",
              "       [ 0,  0,  0,  0,  0,  0,  2,  0,  0,  0,  0,  0,  0,  0,  0,  0],\n",
              "       [ 0,  0,  0,  2,  0,  0,  1,  0,  0,  0,  0,  0,  0,  0,  0,  0],\n",
              "       [ 0,  0,  0,  0,  2,  0,  0,  0,  0,  0,  0,  0,  0,  0,  1,  0],\n",
              "       [ 2,  0,  0,  0,  0,  1,  0,  0,  0,  0,  0,  0,  0,  0,  0,  0],\n",
              "       [ 0,  0,  0,  0,  1,  0, 17,  0,  0,  1,  0,  0,  0,  0,  0,  0],\n",
              "       [ 0,  0,  0,  0,  0,  0,  1,  0,  0,  0,  0,  0,  0,  0,  0,  1],\n",
              "       [ 0,  0,  0,  0,  0,  0,  1,  0,  3,  0,  0,  0,  0,  0,  0,  1],\n",
              "       [ 0,  0,  0,  0,  0,  0,  2,  0,  0, 26,  1,  1,  1,  2,  0,  0],\n",
              "       [ 0,  0,  0,  0,  0,  0,  0,  0,  0,  0, 15,  0,  0,  0,  0,  0],\n",
              "       [ 0,  0,  0,  0,  0,  0,  2,  0,  0,  0,  0, 20,  0,  1,  0,  0],\n",
              "       [ 0,  0,  0,  0,  0,  0,  1,  0,  0,  1,  0,  0,  7,  1,  0,  1],\n",
              "       [ 0,  0,  0,  0,  0,  1,  4,  0,  0,  0,  0,  1,  0, 18,  0,  0],\n",
              "       [ 0,  0,  0,  0,  0,  0,  1,  0,  0,  0,  0,  0,  0,  0,  0,  0],\n",
              "       [ 0,  0,  0,  0,  0,  0,  2,  0,  0,  0,  0,  0,  0,  0,  0,  4]])"
            ]
          },
          "metadata": {
            "tags": []
          },
          "execution_count": 17
        }
      ]
    },
    {
      "cell_type": "code",
      "metadata": {
        "colab": {
          "base_uri": "https://localhost:8080/",
          "height": 466
        },
        "id": "IYUVKbHldjKq",
        "outputId": "b67c13c8-9261-46cb-a6a7-33feeb4bbacf"
      },
      "source": [
        "import numpy as np\n",
        "import seaborn as sns; sns.set()\n",
        "import matplotlib.pyplot as plt\n",
        "\n",
        "mat = metrics.confusion_matrix(y_test, y_pred)\n",
        "\n",
        "sns.heatmap(mat, square=True, annot=True, fmt='d', cbar=False,\n",
        "            xticklabels=etiquetas, yticklabels=etiquetas)\n",
        "\n",
        "plt.xlabel('Observada')\n",
        "plt.ylabel('Predicha');"
      ],
      "execution_count": 18,
      "outputs": [
        {
          "output_type": "display_data",
          "data": {
            "image/png": "[encoded data removed]",
            "text/plain": [
              "<Figure size 432x288 with 1 Axes>"
            ]
          },
          "metadata": {
            "tags": []
          }
        }
      ]
    },
    {
      "cell_type": "markdown",
      "metadata": {
        "id": "0Ar2qDMyOFNc"
      },
      "source": [
        "### 2.3 Modelo en cascada\n",
        "\n",
        "En segundo lugar se avanza en un modelo de clasificación en cascada, primero clasificando las clases más populosas y luego clasificando, con un segundo clasificador, el resto."
      ]
    },
    {
      "cell_type": "markdown",
      "metadata": {
        "id": "xja3pSPHPrD0"
      },
      "source": [
        "#### 2.3.1 Re-etiquetado de instancias\n",
        "\n",
        "Se re-etiquetan las instancias, dejando la clase para las N más pobladas y definiendo como 'Otras Consultas' en el resto para armar un segundo clasificador:"
      ]
    },
    {
      "cell_type": "markdown",
      "metadata": {
        "id": "UwnPuHzsTPX3"
      },
      "source": [
        "Se verifica la cantidad de ejemplos por clase para train_df:"
      ]
    },
    {
      "cell_type": "code",
      "metadata": {
        "id": "XgJ9AEFcTSil",
        "colab": {
          "base_uri": "https://localhost:8080/"
        },
        "outputId": "715cd8df-bc12-4b7f-e71f-ad73becee25e"
      },
      "source": [
        "train_df.clase.value_counts()"
      ],
      "execution_count": 19,
      "outputs": [
        {
          "output_type": "execute_result",
          "data": {
            "text/plain": [
              "Boleto Universitario                   193\n",
              "Ingreso a la Universidad               135\n",
              "Requisitos de Ingreso                   98\n",
              "Problemas con la Clave                  91\n",
              "Cursadas                                75\n",
              "Pedido de Certificados                  59\n",
              "Reincorporación                         43\n",
              "Situación Académica                     22\n",
              "Exámenes                                18\n",
              "Consulta por Legajo                     15\n",
              "Cambio de Carrera                       11\n",
              "Consulta sobre Título Universitario     10\n",
              "Consulta por Equivalencias              10\n",
              "Cambio de Comisión                       8\n",
              "Simultaneidad de Carreras                6\n",
              "Datos Personales                         6\n",
              "Name: clase, dtype: int64"
            ]
          },
          "metadata": {
            "tags": []
          },
          "execution_count": 19
        }
      ]
    },
    {
      "cell_type": "markdown",
      "metadata": {
        "id": "2JjN4Ll6TqB7"
      },
      "source": [
        "En función de la info anterior, definimos el N de la cantidad de clases a conservar:"
      ]
    },
    {
      "cell_type": "code",
      "metadata": {
        "id": "BniJrAy5TyB6"
      },
      "source": [
        "N_clases=7"
      ],
      "execution_count": 20,
      "outputs": []
    },
    {
      "cell_type": "code",
      "metadata": {
        "id": "SARUnbnYSx9L"
      },
      "source": [
        "def comprimir_clases(df, atr_clase, cantidad, text_agr):\n",
        "  '''\n",
        "  Esta función recibe un dataframe, con el atributo clase y agrupa las clases menos\n",
        "  presentes en una única etiqueta text_agr\n",
        "  '''\n",
        "  clases = df[atr_clase].value_counts()\n",
        "  clases_minoritarias = clases.iloc[cantidad-1:].keys().to_list()\n",
        "  print(f'Las clases a agrupar son: {clases_minoritarias}')\n",
        "\n",
        "  # Recupero las diferentes clases y a la etiqueta text_agr para el agrupamiento\n",
        "  class_labels = clases.keys().to_list()\n",
        "  class_labels = np.append(class_labels, text_agr)\n",
        "  \n",
        "  # Genero una nueva clave de clases para text_agr a modo de agrupar las que poseen menos apariciones\n",
        "  df[atr_clase][df[atr_clase].isin(clases_minoritarias)] = text_agr\n",
        "\n",
        "  return df"
      ],
      "execution_count": 21,
      "outputs": []
    },
    {
      "cell_type": "code",
      "metadata": {
        "id": "NuucQpcOP9Ov",
        "colab": {
          "base_uri": "https://localhost:8080/"
        },
        "outputId": "c4c08cdf-8d1c-4a24-ee9b-6c3ba7ca867f"
      },
      "source": [
        "train_df_cascada = comprimir_clases(train_df.copy(), atr_clase='clase', cantidad=N_clases, text_agr='Otras Consultas')\n",
        "test_df_cascada = comprimir_clases(test_df.copy(), atr_clase='clase', cantidad=N_clases, text_agr='Otras Consultas')"
      ],
      "execution_count": 22,
      "outputs": [
        {
          "output_type": "stream",
          "text": [
            "Las clases a agrupar son: ['Reincorporación', 'Situación Académica', 'Exámenes', 'Consulta por Legajo', 'Cambio de Carrera', 'Consulta sobre Título Universitario', 'Consulta por Equivalencias', 'Cambio de Comisión', 'Simultaneidad de Carreras', 'Datos Personales']\n",
            "Las clases a agrupar son: ['Reincorporación', 'Situación Académica', 'Exámenes', 'Consulta sobre Título Universitario', 'Consulta por Legajo', 'Consulta por Equivalencias', 'Datos Personales', 'Cambio de Carrera', 'Cambio de Comisión', 'Simultaneidad de Carreras']\n"
          ],
          "name": "stdout"
        }
      ]
    },
    {
      "cell_type": "code",
      "metadata": {
        "id": "EfhTi_XtWaMp",
        "colab": {
          "base_uri": "https://localhost:8080/"
        },
        "outputId": "6d73a297-8546-4c9d-ee04-a2c247732f8f"
      },
      "source": [
        "train_df_cascada.clase.value_counts()"
      ],
      "execution_count": 23,
      "outputs": [
        {
          "output_type": "execute_result",
          "data": {
            "text/plain": [
              "Boleto Universitario        193\n",
              "Otras Consultas             149\n",
              "Ingreso a la Universidad    135\n",
              "Requisitos de Ingreso        98\n",
              "Problemas con la Clave       91\n",
              "Cursadas                     75\n",
              "Pedido de Certificados       59\n",
              "Name: clase, dtype: int64"
            ]
          },
          "metadata": {
            "tags": []
          },
          "execution_count": 23
        }
      ]
    },
    {
      "cell_type": "markdown",
      "metadata": {
        "id": "ESuF7ZEzaqdq"
      },
      "source": [
        "#### 2.3.2 Generación del Modelo (1er nivel de cascada)"
      ]
    },
    {
      "cell_type": "markdown",
      "metadata": {
        "id": "o2x9LAOqOmpB"
      },
      "source": [
        "##### 2.3.2.1 Definición del espacio de búsqueda (1er nivel de cascada)\n",
        "\n",
        "Se define el espacio de búsqueda para el ajuste de hiperparámetros del modelo:"
      ]
    },
    {
      "cell_type": "code",
      "metadata": {
        "id": "srPaGI2bOA_X"
      },
      "source": [
        "# Defino una lista con los esquemas de representación\n",
        "estrategias_representacion = ['BINARIO', 'TFIDF', '3-4-NGRAM-CHARS', '1-2-NGRAM-WORDS']\n",
        "modelo = 'SVM'\n",
        "\n",
        "# Defino los parámetros para GridSearchCV\n",
        "params_svm = {'SVM__C': [0.1, 1, 10, 100], \n",
        "              'SVM__gamma': [0.01, 0.1, 1],\n",
        "              'SVM__class_weight': [None, 'balanced'],\n",
        "              'SVM__kernel': ['rbf', 'linear', 'poly', 'sigmoid']\n",
        "              }"
      ],
      "execution_count": 24,
      "outputs": []
    },
    {
      "cell_type": "markdown",
      "metadata": {
        "id": "k3b2jbbTO4Ll"
      },
      "source": [
        "Se ejecuta el ajuste de hiperparámetros para cada estrategia de representación en función del espacio de búsqueda:"
      ]
    },
    {
      "cell_type": "code",
      "metadata": {
        "id": "-6dmYzq0O8uo"
      },
      "source": [
        "NO_CORRIDA = False\n",
        "\n",
        "if NO_CORRIDA:\n",
        "  for estrategia in estrategias_representacion:\n",
        "    # Llamo a la función que realiza el gridsearch por estrategia  \n",
        "    gridsearch_por_estrategia_representacion(train_df_cascada, test_df_cascada, estrategia, modelo, params_svm, None, atr_consulta='consulta')"
      ],
      "execution_count": 25,
      "outputs": []
    },
    {
      "cell_type": "markdown",
      "metadata": {
        "id": "0chTvZ4APGt8"
      },
      "source": [
        "##### 2.3.2.2 Modelo generado (1er nivel)\n",
        "\n",
        "En función de los mejores hiperparámetros encontrados con la búsqueda Grid, ajusto el modelo para obtener las métricas (por un bug en la función ya solucionado):"
      ]
    },
    {
      "cell_type": "code",
      "metadata": {
        "id": "B5_1ypP1PLaM",
        "colab": {
          "base_uri": "https://localhost:8080/"
        },
        "outputId": "36eb5eaa-c9c9-47a4-e2bd-0ef2cdd2b743"
      },
      "source": [
        "# Mejores Parámetros según GridSearchCV:\n",
        "# {'SVM__C': 10, 'SVM__class_weight': 'balanced', 'SVM__gamma': 0.01, 'SVM__kernel': 'sigmoid', 'estrategia': '3-4-NGRAM-CHARS', \n",
        "#  'accuracy': 0.81, 'precision': 0.5971321956813028, 'recall': 0.553190280233687, 'f1_score': 0.5639032258154839}\n",
        "\n",
        "params_svm = {'SVM__C': [10], \n",
        "              'SVM__gamma': [0.01],\n",
        "              'SVM__class_weight': ['balanced'],\n",
        "              'SVM__kernel': ['sigmoid'],\n",
        "              'SVM__probability': [False]\n",
        "              }\n",
        "\n",
        "clf_cascada_1, X_test_cascada, y_test_cascada = gridsearch_por_estrategia_representacion(train_df_cascada, test_df_cascada, '3-4-NGRAM-CHARS', 'SVM', params_svm, None, atr_consulta='consulta')"
      ],
      "execution_count": 26,
      "outputs": [
        {
          "output_type": "stream",
          "text": [
            "Estrategia de representación: 3-4-NGRAM-CHARS\n",
            "Fitting 5 folds for each of 1 candidates, totalling 5 fits\n"
          ],
          "name": "stdout"
        },
        {
          "output_type": "stream",
          "text": [
            "[Parallel(n_jobs=-1)]: Using backend LokyBackend with 2 concurrent workers.\n",
            "[Parallel(n_jobs=-1)]: Done   5 out of   5 | elapsed:   33.0s finished\n"
          ],
          "name": "stderr"
        },
        {
          "output_type": "stream",
          "text": [
            "Estrategia de representación: 3-4-NGRAM-CHARS\n",
            "Parámetros: {'SVM__C': 10, 'SVM__class_weight': 'balanced', 'SVM__gamma': 0.01, 'SVM__kernel': 'sigmoid', 'SVM__probability': False, 'clasificador': 'SVM', 'estrategia': '3-4-NGRAM-CHARS', 'accuracy': 0.875, 'precision': 0.8660898119931734, 'recall': 0.8746223265674067, 'f1_score': 0.8654681954592285}\n",
            "Accuracy Test-Set: 0.875\n",
            "Métricas sobre Test-Set: {'SVM__C': 10, 'SVM__class_weight': 'balanced', 'SVM__gamma': 0.01, 'SVM__kernel': 'sigmoid', 'SVM__probability': False, 'clasificador': 'SVM', 'estrategia': '3-4-NGRAM-CHARS', 'accuracy': 0.875, 'precision': 0.8660898119931734, 'recall': 0.8746223265674067, 'f1_score': 0.8654681954592285}\n"
          ],
          "name": "stdout"
        }
      ]
    },
    {
      "cell_type": "markdown",
      "metadata": {
        "id": "qdQPe8L8O1SI"
      },
      "source": [
        "Se predicen las instancias de testeo:"
      ]
    },
    {
      "cell_type": "code",
      "metadata": {
        "id": "yL9j4VMfPXLC"
      },
      "source": [
        "y_pred_cascada = clf_cascada_1.predict(X_test_cascada)"
      ],
      "execution_count": 27,
      "outputs": []
    },
    {
      "cell_type": "code",
      "metadata": {
        "id": "CgjrM-KuPgMM",
        "colab": {
          "base_uri": "https://localhost:8080/"
        },
        "outputId": "2b5d981b-e19d-4e63-da2d-ece6bd79eddd"
      },
      "source": [
        "from sklearn import metrics #Importar el módulo metrics de scikit-learn\n",
        "\n",
        "# Vamos a testear el modelo\n",
        "print(\"Accuracy:\",metrics.accuracy_score(y_test_cascada, y_pred_cascada))\n",
        "\n",
        "# Vemos un reporte de clasificación de varias métricas\n",
        "print(metrics.classification_report(y_test_cascada, y_pred_cascada))"
      ],
      "execution_count": 28,
      "outputs": [
        {
          "output_type": "stream",
          "text": [
            "Accuracy: 0.875\n",
            "                          precision    recall  f1-score   support\n",
            "\n",
            "    Boleto Universitario       1.00      1.00      1.00        48\n",
            "                Cursadas       0.59      0.84      0.70        19\n",
            "Ingreso a la Universidad       0.93      0.79      0.85        33\n",
            "         Otras Consultas       0.88      0.79      0.83        38\n",
            "  Pedido de Certificados       0.94      1.00      0.97        15\n",
            "  Problemas con la Clave       0.95      0.87      0.91        23\n",
            "   Requisitos de Ingreso       0.77      0.83      0.80        24\n",
            "\n",
            "                accuracy                           0.88       200\n",
            "               macro avg       0.87      0.87      0.87       200\n",
            "            weighted avg       0.89      0.88      0.88       200\n",
            "\n"
          ],
          "name": "stdout"
        }
      ]
    },
    {
      "cell_type": "markdown",
      "metadata": {
        "id": "FRkoeRB3bM_E"
      },
      "source": [
        "#### 2.3.3 Generación del Modelo (2do nivel de cascada)"
      ]
    },
    {
      "cell_type": "markdown",
      "metadata": {
        "id": "fW1q6fDecGlf"
      },
      "source": [
        "##### 2.3.3.1 Separación de datos con clases agrupadas\n",
        "\n",
        "Ahora se seleccionan solo las instancias de las clases que antes habíamos agrupado en 'Otras Consultas':"
      ]
    },
    {
      "cell_type": "code",
      "metadata": {
        "id": "qwCA-kc7cZE3",
        "colab": {
          "base_uri": "https://localhost:8080/"
        },
        "outputId": "27e60ca7-19d0-441a-8f71-09a7931def9e"
      },
      "source": [
        "# Me traigo el dataframe del primer modelo (con todas las clases)\n",
        "# y le agrego la clase agrupada en el 1er nivel de cascada\n",
        "train_aux = train_df.copy()\n",
        "train_aux['clase_cascada_1'] = train_df_cascada['clase']\n",
        "\n",
        "# Filtro las instancias que tenían el valor 'Otras Consultas' para generar \n",
        "# el clasificador de 2do nivel con esas\n",
        "# Luego elimino la columna que usé para identificar los agrupamientos\n",
        "train_df_cascada_2 = train_aux.query(\"clase_cascada_1 == 'Otras Consultas'\").reset_index()\n",
        "train_df_cascada_2.drop(['clase_cascada_1'], inplace=True, axis=1)\n",
        "\n",
        "train_df_cascada_2.shape"
      ],
      "execution_count": 29,
      "outputs": [
        {
          "output_type": "execute_result",
          "data": {
            "text/plain": [
              "(149, 25)"
            ]
          },
          "metadata": {
            "tags": []
          },
          "execution_count": 29
        }
      ]
    },
    {
      "cell_type": "markdown",
      "metadata": {
        "id": "z2D-1nW3fy_X"
      },
      "source": [
        "Hago lo mismo para el set de test:"
      ]
    },
    {
      "cell_type": "code",
      "metadata": {
        "id": "ePg-tIT1f4Lr",
        "colab": {
          "base_uri": "https://localhost:8080/"
        },
        "outputId": "17b7a26a-acfd-4f2d-80b6-d8bf23bf0772"
      },
      "source": [
        "# Me traigo el dataframe del primer modelo (con todas las clases)\n",
        "# y le agrego la clase agrupada en el 1er nivel de cascada\n",
        "test_aux = test_df.copy()\n",
        "test_aux['clase_cascada_1'] = test_df_cascada['clase']\n",
        "\n",
        "# Filtro las instancias que tenían el valor 'Otras Consultas' para generar \n",
        "# el clasificador de 2do nivel con esas\n",
        "# Luego elimino la columna que usé para identificar los agrupamientos\n",
        "test_df_cascada_2 = test_aux.query(\"clase_cascada_1 == 'Otras Consultas'\").reset_index()\n",
        "test_df_cascada_2.drop(['clase_cascada_1'], inplace=True, axis=1)\n",
        "\n",
        "test_df_cascada_2.shape"
      ],
      "execution_count": 30,
      "outputs": [
        {
          "output_type": "execute_result",
          "data": {
            "text/plain": [
              "(38, 25)"
            ]
          },
          "metadata": {
            "tags": []
          },
          "execution_count": 30
        }
      ]
    },
    {
      "cell_type": "markdown",
      "metadata": {
        "id": "Adb_yCUAbNbi"
      },
      "source": [
        "##### 2.3.3.2 Definición del espacio de búsqueda (2do nivel de cascada)\n",
        "\n",
        "Se define el espacio de búsqueda para el ajuste de hiperparámetros del modelo:"
      ]
    },
    {
      "cell_type": "code",
      "metadata": {
        "id": "BB2KMU7vbJN7"
      },
      "source": [
        "# Defino una lista con los esquemas de representación\n",
        "estrategias_representacion = ['BINARIO', 'TFIDF', '3-4-NGRAM-CHARS', '1-2-NGRAM-WORDS']\n",
        "modelo = 'SVM'\n",
        "\n",
        "# Defino los parámetros para GridSearchCV\n",
        "params_svm = {'SVM__C': [0.1, 1, 10, 100], \n",
        "              'SVM__gamma': [0.01, 0.1, 1],\n",
        "              'SVM__class_weight': [None, 'balanced'],\n",
        "              'SVM__kernel': ['rbf', 'linear', 'poly', 'sigmoid']\n",
        "              }"
      ],
      "execution_count": 31,
      "outputs": []
    },
    {
      "cell_type": "markdown",
      "metadata": {
        "id": "nfHASgeZbZMw"
      },
      "source": [
        "Se ejecuta el ajuste de hiperparámetros para cada estrategia de representación en función del espacio de búsqueda:"
      ]
    },
    {
      "cell_type": "code",
      "metadata": {
        "id": "hphGmR7ubZyN",
        "outputId": "3cc46890-7749-4f94-c3e9-dbe60f679db9",
        "colab": {
          "base_uri": "https://localhost:8080/"
        }
      },
      "source": [
        "NO_CORRIDA = True\n",
        "\n",
        "if NO_CORRIDA:\n",
        "  for estrategia in estrategias_representacion:\n",
        "    # Llamo a la función que realiza el gridsearch por estrategia  \n",
        "    gridsearch_por_estrategia_representacion(train_df_cascada_2, test_df_cascada_2, estrategia, modelo, params_svm, None, atr_consulta='consulta')"
      ],
      "execution_count": 37,
      "outputs": [
        {
          "output_type": "stream",
          "text": [
            "Estrategia de representación: BINARIO\n",
            "Fitting 5 folds for each of 1 candidates, totalling 5 fits\n"
          ],
          "name": "stdout"
        },
        {
          "output_type": "stream",
          "text": [
            "[Parallel(n_jobs=-1)]: Using backend LokyBackend with 2 concurrent workers.\n",
            "[Parallel(n_jobs=-1)]: Done   5 out of   5 | elapsed:    0.2s finished\n"
          ],
          "name": "stderr"
        },
        {
          "output_type": "stream",
          "text": [
            "Estrategia de representación: BINARIO\n",
            "Parámetros: {'SVM__C': 1, 'SVM__class_weight': 'balanced', 'SVM__gamma': 0.1, 'SVM__kernel': 'sigmoid', 'SVM__probability': False, 'clasificador': 'SVM', 'estrategia': 'BINARIO', 'accuracy': 0.5, 'precision': 0.4644444444444445, 'recall': 0.41121212121212125, 'f1_score': 0.4052213868003342}\n",
            "Accuracy Test-Set: 0.5\n",
            "Métricas sobre Test-Set: {'SVM__C': 1, 'SVM__class_weight': 'balanced', 'SVM__gamma': 0.1, 'SVM__kernel': 'sigmoid', 'SVM__probability': False, 'clasificador': 'SVM', 'estrategia': 'BINARIO', 'accuracy': 0.5, 'precision': 0.4644444444444445, 'recall': 0.41121212121212125, 'f1_score': 0.4052213868003342}\n",
            "Estrategia de representación: TFIDF\n",
            "Fitting 5 folds for each of 1 candidates, totalling 5 fits\n"
          ],
          "name": "stdout"
        },
        {
          "output_type": "stream",
          "text": [
            "[Parallel(n_jobs=-1)]: Using backend LokyBackend with 2 concurrent workers.\n",
            "[Parallel(n_jobs=-1)]: Done   5 out of   5 | elapsed:    0.2s finished\n"
          ],
          "name": "stderr"
        },
        {
          "output_type": "stream",
          "text": [
            "Estrategia de representación: TFIDF\n",
            "Parámetros: {'SVM__C': 1, 'SVM__class_weight': 'balanced', 'SVM__gamma': 0.1, 'SVM__kernel': 'sigmoid', 'SVM__probability': False, 'clasificador': 'SVM', 'estrategia': 'TFIDF', 'accuracy': 0.5, 'precision': 0.4704545454545454, 'recall': 0.4245454545454545, 'f1_score': 0.38977591036414566}\n",
            "Accuracy Test-Set: 0.5\n",
            "Métricas sobre Test-Set: {'SVM__C': 1, 'SVM__class_weight': 'balanced', 'SVM__gamma': 0.1, 'SVM__kernel': 'sigmoid', 'SVM__probability': False, 'clasificador': 'SVM', 'estrategia': 'TFIDF', 'accuracy': 0.5, 'precision': 0.4704545454545454, 'recall': 0.4245454545454545, 'f1_score': 0.38977591036414566}\n",
            "Estrategia de representación: 3-4-NGRAM-CHARS\n",
            "Fitting 5 folds for each of 1 candidates, totalling 5 fits\n"
          ],
          "name": "stdout"
        },
        {
          "output_type": "stream",
          "text": [
            "[Parallel(n_jobs=-1)]: Using backend LokyBackend with 2 concurrent workers.\n",
            "[Parallel(n_jobs=-1)]: Done   5 out of   5 | elapsed:    1.0s finished\n"
          ],
          "name": "stderr"
        },
        {
          "output_type": "stream",
          "text": [
            "Estrategia de representación: 3-4-NGRAM-CHARS\n",
            "Parámetros: {'SVM__C': 1, 'SVM__class_weight': 'balanced', 'SVM__gamma': 0.1, 'SVM__kernel': 'sigmoid', 'SVM__probability': False, 'clasificador': 'SVM', 'estrategia': '3-4-NGRAM-CHARS', 'accuracy': 0.5263157894736842, 'precision': 0.44666666666666666, 'recall': 0.5506060606060605, 'f1_score': 0.46535714285714286}\n",
            "Accuracy Test-Set: 0.5263157894736842\n",
            "Métricas sobre Test-Set: {'SVM__C': 1, 'SVM__class_weight': 'balanced', 'SVM__gamma': 0.1, 'SVM__kernel': 'sigmoid', 'SVM__probability': False, 'clasificador': 'SVM', 'estrategia': '3-4-NGRAM-CHARS', 'accuracy': 0.5263157894736842, 'precision': 0.44666666666666666, 'recall': 0.5506060606060605, 'f1_score': 0.46535714285714286}\n",
            "Estrategia de representación: 1-2-NGRAM-WORDS\n",
            "Fitting 5 folds for each of 1 candidates, totalling 5 fits\n"
          ],
          "name": "stdout"
        },
        {
          "output_type": "stream",
          "text": [
            "[Parallel(n_jobs=-1)]: Using backend LokyBackend with 2 concurrent workers.\n",
            "[Parallel(n_jobs=-1)]: Done   5 out of   5 | elapsed:    0.5s finished\n"
          ],
          "name": "stderr"
        },
        {
          "output_type": "stream",
          "text": [
            "Estrategia de representación: 1-2-NGRAM-WORDS\n",
            "Parámetros: {'SVM__C': 1, 'SVM__class_weight': 'balanced', 'SVM__gamma': 0.1, 'SVM__kernel': 'sigmoid', 'SVM__probability': False, 'clasificador': 'SVM', 'estrategia': '1-2-NGRAM-WORDS', 'accuracy': 0.5263157894736842, 'precision': 0.45666666666666667, 'recall': 0.4203030303030303, 'f1_score': 0.4146790890269151}\n",
            "Accuracy Test-Set: 0.5263157894736842\n",
            "Métricas sobre Test-Set: {'SVM__C': 1, 'SVM__class_weight': 'balanced', 'SVM__gamma': 0.1, 'SVM__kernel': 'sigmoid', 'SVM__probability': False, 'clasificador': 'SVM', 'estrategia': '1-2-NGRAM-WORDS', 'accuracy': 0.5263157894736842, 'precision': 0.45666666666666667, 'recall': 0.4203030303030303, 'f1_score': 0.4146790890269151}\n"
          ],
          "name": "stdout"
        }
      ]
    },
    {
      "cell_type": "markdown",
      "metadata": {
        "id": "21iAc3XQbdk9"
      },
      "source": [
        "##### 2.3.3.3 Modelo generado (2do nivel)\n",
        "\n",
        "En función de los mejores hiperparámetros encontrados con la búsqueda Grid, ajusto el modelo para obtener las métricas:"
      ]
    },
    {
      "cell_type": "code",
      "metadata": {
        "id": "ptKgDax_7Ern",
        "colab": {
          "base_uri": "https://localhost:8080/"
        },
        "outputId": "94aa6283-daa4-4577-c3d1-0e6d9e78e26a"
      },
      "source": [
        "# Mejores Parámetros según GridSearchCV:\n",
        "# Métricas sobre Test-Set: {'SVM__C': 1, 'SVM__class_weight': 'balanced', 'SVM__gamma': 0.1, 'SVM__kernel': 'sigmoid',\n",
        "# 'clasificador': 'SVM', 'estrategia': '1-2-NGRAM-WORDS', 'accuracy': 0.5263157894736842, 'precision': 0.45666666666666667, \n",
        "# 'recall': 0.4203030303030303, 'f1_score': 0.4146790890269151}\n",
        "\n",
        "params_svm = {'SVM__C': [1], \n",
        "              'SVM__gamma': [0.1],\n",
        "              'SVM__class_weight': ['balanced'],\n",
        "              'SVM__kernel': ['sigmoid'],\n",
        "              'SVM__probability': [False]\n",
        "              }\n",
        "\n",
        "clf_cascada_2, X_test_cascada_2, y_test_cascada_2 = gridsearch_por_estrategia_representacion(train_df_cascada_2, test_df_cascada_2, '3-4-NGRAM-CHARS', 'SVM', params_svm, None, atr_consulta='consulta')"
      ],
      "execution_count": 33,
      "outputs": [
        {
          "output_type": "stream",
          "text": [
            "Estrategia de representación: 3-4-NGRAM-CHARS\n",
            "Fitting 5 folds for each of 1 candidates, totalling 5 fits\n"
          ],
          "name": "stdout"
        },
        {
          "output_type": "stream",
          "text": [
            "[Parallel(n_jobs=-1)]: Using backend LokyBackend with 2 concurrent workers.\n",
            "[Parallel(n_jobs=-1)]: Done   5 out of   5 | elapsed:    1.0s finished\n"
          ],
          "name": "stderr"
        },
        {
          "output_type": "stream",
          "text": [
            "Estrategia de representación: 3-4-NGRAM-CHARS\n",
            "Parámetros: {'SVM__C': 1, 'SVM__class_weight': 'balanced', 'SVM__gamma': 0.1, 'SVM__kernel': 'sigmoid', 'SVM__probability': False, 'clasificador': 'SVM', 'estrategia': '3-4-NGRAM-CHARS', 'accuracy': 0.5263157894736842, 'precision': 0.44666666666666666, 'recall': 0.5506060606060605, 'f1_score': 0.46535714285714286}\n",
            "Accuracy Test-Set: 0.5263157894736842\n",
            "Métricas sobre Test-Set: {'SVM__C': 1, 'SVM__class_weight': 'balanced', 'SVM__gamma': 0.1, 'SVM__kernel': 'sigmoid', 'SVM__probability': False, 'clasificador': 'SVM', 'estrategia': '3-4-NGRAM-CHARS', 'accuracy': 0.5263157894736842, 'precision': 0.44666666666666666, 'recall': 0.5506060606060605, 'f1_score': 0.46535714285714286}\n"
          ],
          "name": "stdout"
        }
      ]
    },
    {
      "cell_type": "markdown",
      "metadata": {
        "id": "PYxjvICPbzEy"
      },
      "source": [
        "Se predicen las instancias de testeo:"
      ]
    },
    {
      "cell_type": "code",
      "metadata": {
        "id": "u-4d4gIxbzhK"
      },
      "source": [
        "y_pred_cascada_2 = clf_cascada_2.predict(X_test_cascada_2)"
      ],
      "execution_count": 34,
      "outputs": []
    },
    {
      "cell_type": "code",
      "metadata": {
        "id": "tATvVwb8b487",
        "colab": {
          "base_uri": "https://localhost:8080/"
        },
        "outputId": "393bb5d1-3e0b-4530-fe44-dac98c8ef3e5"
      },
      "source": [
        "from sklearn import metrics #Importar el módulo metrics de scikit-learn\n",
        "\n",
        "# Vamos a testear el modelo\n",
        "print(\"Accuracy:\",metrics.accuracy_score(y_test_cascada_2, y_pred_cascada_2))\n",
        "\n",
        "# Vemos un reporte de clasificación de varias métricas\n",
        "print(metrics.classification_report(y_test_cascada_2, y_pred_cascada_2))"
      ],
      "execution_count": 35,
      "outputs": [
        {
          "output_type": "stream",
          "text": [
            "Accuracy: 0.5263157894736842\n",
            "                                     precision    recall  f1-score   support\n",
            "\n",
            "                  Cambio de Carrera       0.40      1.00      0.57         2\n",
            "                 Cambio de Comisión       0.67      1.00      0.80         2\n",
            "         Consulta por Equivalencias       0.75      1.00      0.86         3\n",
            "                Consulta por Legajo       1.00      1.00      1.00         3\n",
            "Consulta sobre Título Universitario       0.00      0.00      0.00         3\n",
            "                   Datos Personales       0.00      0.00      0.00         2\n",
            "                           Exámenes       0.40      0.40      0.40         5\n",
            "                    Reincorporación       0.75      0.27      0.40        11\n",
            "          Simultaneidad de Carreras       0.00      0.00      0.00         1\n",
            "                Situación Académica       0.50      0.83      0.62         6\n",
            "\n",
            "                           accuracy                           0.53        38\n",
            "                          macro avg       0.45      0.55      0.47        38\n",
            "                       weighted avg       0.54      0.53      0.49        38\n",
            "\n"
          ],
          "name": "stdout"
        }
      ]
    },
    {
      "cell_type": "code",
      "metadata": {
        "id": "K7Aot-CuhgZX"
      },
      "source": [
        "pd.set_option('display.max_colwidth', None)\n",
        "\n",
        "# Se define una clase a explorar test vs pred\n",
        "clase = 'Reincorporación'\n",
        "\n",
        "# Se buscan las instancias de esa clase y se construye un dataframe:\n",
        "# | consulta | clase | clase_predicha |\n",
        "id_query = np.where(y_test_cascada_2 == clase)[0]\n",
        "\n",
        "df_test_val = test_df_cascada_2.iloc[id_query,:][['consulta', 'clase']].reset_index()\n",
        "df_test_val['clase_predicha'] = pd.Series(y_pred_cascada_2[id_query])"
      ],
      "execution_count": 71,
      "outputs": []
    },
    {
      "cell_type": "code",
      "metadata": {
        "id": "1um6yOfHk4cY",
        "outputId": "8260b104-8b1d-4dcd-fa31-5291a5d50aa7",
        "colab": {
          "base_uri": "https://localhost:8080/",
          "height": 492
        }
      },
      "source": [
        "df_test_val"
      ],
      "execution_count": 73,
      "outputs": [
        {
          "output_type": "execute_result",
          "data": {
            "text/html": [
              "<div>\n",
              "<style scoped>\n",
              "    .dataframe tbody tr th:only-of-type {\n",
              "        vertical-align: middle;\n",
              "    }\n",
              "\n",
              "    .dataframe tbody tr th {\n",
              "        vertical-align: top;\n",
              "    }\n",
              "\n",
              "    .dataframe thead th {\n",
              "        text-align: right;\n",
              "    }\n",
              "</style>\n",
              "<table border=\"1\" class=\"dataframe\">\n",
              "  <thead>\n",
              "    <tr style=\"text-align: right;\">\n",
              "      <th></th>\n",
              "      <th>index</th>\n",
              "      <th>consulta</th>\n",
              "      <th>clase</th>\n",
              "      <th>clase_predicha</th>\n",
              "    </tr>\n",
              "  </thead>\n",
              "  <tbody>\n",
              "    <tr>\n",
              "      <th>0</th>\n",
              "      <td>4</td>\n",
              "      <td>hola queria consultarles razon perdi regularidad despues tiempo poder ir universidad re inscribi finales 2017 comence 2018 pude cursar par materias dejar tiempo estudio espero respuesta respuesta via mail mejor trabajando 8 muchas gracias matias</td>\n",
              "      <td>Reincorporación</td>\n",
              "      <td>Reincorporación</td>\n",
              "    </tr>\n",
              "    <tr>\n",
              "      <th>1</th>\n",
              "      <td>6</td>\n",
              "      <td>hacer reinscribirme poder comenzar segundo semestre</td>\n",
              "      <td>Reincorporación</td>\n",
              "      <td>Reincorporación</td>\n",
              "    </tr>\n",
              "    <tr>\n",
              "      <th>2</th>\n",
              "      <td>10</td>\n",
              "      <td>buen dia deseo obtener informacion situacion academica deseo ano proximo retomar carrera quisiera saber aun opciones cuales pasos seguir muchas gracias lorena rosati</td>\n",
              "      <td>Reincorporación</td>\n",
              "      <td>Situación Académica</td>\n",
              "    </tr>\n",
              "    <tr>\n",
              "      <th>3</th>\n",
              "      <td>13</td>\n",
              "      <td>quiero seguir carrera comense hace anos puedo pasar hago reingresar</td>\n",
              "      <td>Reincorporación</td>\n",
              "      <td>Cambio de Carrera</td>\n",
              "    </tr>\n",
              "    <tr>\n",
              "      <th>4</th>\n",
              "      <td>16</td>\n",
              "      <td>hola buenas tardes quiero ingresar situacion academica logro ingresar primero dice contrasena legajo corresponde ahora dice alumno regular quiero inscribirme mesa mayo debo hace muchas gracias</td>\n",
              "      <td>Reincorporación</td>\n",
              "      <td>Cambio de Carrera</td>\n",
              "    </tr>\n",
              "    <tr>\n",
              "      <th>5</th>\n",
              "      <td>18</td>\n",
              "      <td>buenos dias hace varios anos atras estudiante carrera licenciatura adm dia hoy intento hacer inscripcion mediante pag web exito aun sirve inscripcion hice momento saludos cordiales</td>\n",
              "      <td>Reincorporación</td>\n",
              "      <td>Simultaneidad de Carreras</td>\n",
              "    </tr>\n",
              "    <tr>\n",
              "      <th>6</th>\n",
              "      <td>23</td>\n",
              "      <td>buenas noches solicito informacion gestionar reincorporacion carrera perdi regularidad recibi mail poder gestionarla saludos</td>\n",
              "      <td>Reincorporación</td>\n",
              "      <td>Datos Personales</td>\n",
              "    </tr>\n",
              "    <tr>\n",
              "      <th>7</th>\n",
              "      <td>24</td>\n",
              "      <td>solicito reincorporacion sistema vencio solicitud gracias</td>\n",
              "      <td>Reincorporación</td>\n",
              "      <td>Consulta por Equivalencias</td>\n",
              "    </tr>\n",
              "    <tr>\n",
              "      <th>8</th>\n",
              "      <td>25</td>\n",
              "      <td>estimados quisiera saber posible re incripcion carrera lic ciencias educacion segundo cuatrimestre inscribi hace varios anos puede cursar deseo poder comenzar gracias</td>\n",
              "      <td>Reincorporación</td>\n",
              "      <td>Cambio de Comisión</td>\n",
              "    </tr>\n",
              "    <tr>\n",
              "      <th>9</th>\n",
              "      <td>34</td>\n",
              "      <td>hola posibilidades anotarme materias arrancar cuatrimestre empece hace aprox tres anos deje podria reincorporarme gracias</td>\n",
              "      <td>Reincorporación</td>\n",
              "      <td>Exámenes</td>\n",
              "    </tr>\n",
              "    <tr>\n",
              "      <th>10</th>\n",
              "      <td>36</td>\n",
              "      <td>puedo inscribirme</td>\n",
              "      <td>Reincorporación</td>\n",
              "      <td>Reincorporación</td>\n",
              "    </tr>\n",
              "  </tbody>\n",
              "</table>\n",
              "</div>"
            ],
            "text/plain": [
              "    index  ...              clase_predicha\n",
              "0       4  ...             Reincorporación\n",
              "1       6  ...             Reincorporación\n",
              "2      10  ...         Situación Académica\n",
              "3      13  ...           Cambio de Carrera\n",
              "4      16  ...           Cambio de Carrera\n",
              "5      18  ...   Simultaneidad de Carreras\n",
              "6      23  ...            Datos Personales\n",
              "7      24  ...  Consulta por Equivalencias\n",
              "8      25  ...          Cambio de Comisión\n",
              "9      34  ...                    Exámenes\n",
              "10     36  ...             Reincorporación\n",
              "\n",
              "[11 rows x 4 columns]"
            ]
          },
          "metadata": {
            "tags": []
          },
          "execution_count": 73
        }
      ]
    },
    {
      "cell_type": "code",
      "metadata": {
        "id": "anPTFeeAH3mI",
        "outputId": "5c9bc960-10b7-4e1d-b8ea-0fcd59ba510c",
        "colab": {
          "base_uri": "https://localhost:8080/",
          "height": 466
        }
      },
      "source": [
        "import numpy as np\n",
        "import seaborn as sns; sns.set()\n",
        "import matplotlib.pyplot as plt\n",
        "\n",
        "etiquetas = np.unique(y_test_cascada_2)\n",
        "\n",
        "mat = metrics.confusion_matrix(y_test_cascada_2, y_pred_cascada_2)\n",
        "\n",
        "sns.heatmap(mat, square=True, annot=True, fmt='d', cbar=False,\n",
        "            xticklabels=etiquetas, yticklabels=etiquetas)\n",
        "\n",
        "plt.xlabel('Observada')\n",
        "plt.ylabel('Predicha');"
      ],
      "execution_count": 40,
      "outputs": [
        {
          "output_type": "display_data",
          "data": {
            "image/png": "[encoded data removed]",
            "text/plain": [
              "<Figure size 432x288 with 1 Axes>"
            ]
          },
          "metadata": {
            "tags": []
          }
        }
      ]
    },
    {
      "cell_type": "markdown",
      "metadata": {
        "id": "0a1K2447qjxE"
      },
      "source": [
        "## Referencias\n",
        "- https://scikit-learn.org/stable/modules/generated/sklearn.model_selection.GridSearchCV.html\n",
        "- https://medium.com/analytics-vidhya/ml-pipelines-using-scikit-learn-and-gridsearchcv-fe605a7f9e05"
      ]
    }
  ]
}