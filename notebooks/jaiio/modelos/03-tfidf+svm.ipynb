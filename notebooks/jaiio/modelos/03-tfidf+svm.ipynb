{
  "nbformat": 4,
  "nbformat_minor": 0,
  "metadata": {
    "colab": {
      "name": "03-tfidf+svm.ipynb",
      "provenance": [],
      "collapsed_sections": [],
      "include_colab_link": true
    },
    "kernelspec": {
      "name": "python3",
      "display_name": "Python 3"
    }
  },
  "cells": [
    {
      "cell_type": "markdown",
      "metadata": {
        "id": "view-in-github",
        "colab_type": "text"
      },
      "source": [
        "<a href=\"https://colab.research.google.com/github/jumafernandez/clasificacion_correos/blob/main/notebooks/jaiio/modelos/03-tfidf%2Bsvm.ipynb\" target=\"_parent\"><img src=\"https://colab.research.google.com/assets/colab-badge.svg\" alt=\"Open In Colab\"/></a>"
      ]
    },
    {
      "cell_type": "markdown",
      "metadata": {
        "id": "5DuUrVBgeUso"
      },
      "source": [
        "# TF-IDF+SVM\n",
        "\n",
        "En esta notebook se presetan los experimentos a partir de los datos etiquetados automáticamente a partir de las _features_ extraidas del train dataset con la estrategia de TF-IDF y SVM.\n",
        "\n",
        "Para ello vamos a preprocesar los correos y aplicar:\n",
        "- Bag of words,\n",
        "- Pesado binario/no binario,\n",
        "- Máquina de vector soporte (SVM).\n"
      ]
    },
    {
      "cell_type": "markdown",
      "metadata": {
        "id": "FBLanwDJVnFF"
      },
      "source": [
        "## 1. Instalación y Carga de librerías y funciones útiles"
      ]
    },
    {
      "cell_type": "markdown",
      "metadata": {
        "id": "3-dNi6mDUZnb"
      },
      "source": [
        "### 1.1 Instalación de librerías\n",
        "\n",
        "Se instalan las librerías que no están en el entorno de Google Colab:"
      ]
    },
    {
      "cell_type": "code",
      "metadata": {
        "colab": {
          "base_uri": "https://localhost:8080/"
        },
        "id": "644uDER_VnXj",
        "outputId": "125e0ef5-e07e-45ad-b8ab-3ab2f6730fce"
      },
      "source": [
        "# Se instala gensim que es el que tiene el modelo Word2Vec\n",
        "!pip install requests\n",
        "!pip install wget"
      ],
      "execution_count": 23,
      "outputs": [
        {
          "output_type": "stream",
          "text": [
            "Requirement already satisfied: requests in /usr/local/lib/python3.7/dist-packages (2.23.0)\n",
            "Requirement already satisfied: idna<3,>=2.5 in /usr/local/lib/python3.7/dist-packages (from requests) (2.10)\n",
            "Requirement already satisfied: urllib3!=1.25.0,!=1.25.1,<1.26,>=1.21.1 in /usr/local/lib/python3.7/dist-packages (from requests) (1.24.3)\n",
            "Requirement already satisfied: certifi>=2017.4.17 in /usr/local/lib/python3.7/dist-packages (from requests) (2021.5.30)\n",
            "Requirement already satisfied: chardet<4,>=3.0.2 in /usr/local/lib/python3.7/dist-packages (from requests) (3.0.4)\n",
            "Requirement already satisfied: wget in /usr/local/lib/python3.7/dist-packages (3.2)\n"
          ],
          "name": "stdout"
        }
      ]
    },
    {
      "cell_type": "markdown",
      "metadata": {
        "id": "43fDuhK2V1kx"
      },
      "source": [
        "### 1.2 Funciones útiles\n",
        "\n",
        "Se cargan funciones útiles desde el repo https://github.com/jumafernandez/clasificacion_correos para la carga y balanceo del dataset."
      ]
    },
    {
      "cell_type": "code",
      "metadata": {
        "id": "oQvZz035bSMf"
      },
      "source": [
        "import requests\n",
        "\n",
        "# Se hace el request del raw del script python\n",
        "url = 'https://raw.githubusercontent.com/jumafernandez/clasificacion_correos/main/scripts/funciones_dataset.py'\n",
        "r = requests.get(url)\n",
        "\n",
        "# Se guarda en el working directory\n",
        "with open('funciones_dataset.py', 'w') as f:\n",
        "    f.write(r.text)\n",
        "\n",
        "# Se importan las funciones a utilizar\n",
        "from funciones_dataset import get_clases, cargar_dataset, consolidar_df"
      ],
      "execution_count": 24,
      "outputs": []
    },
    {
      "cell_type": "markdown",
      "metadata": {
        "id": "MDxjaGIfV-rT"
      },
      "source": [
        "También se carga la función para preprocesar el texto que se usó en los otros modelos desde el repo: https://github.com/jumafernandez/clasificacion_correos."
      ]
    },
    {
      "cell_type": "code",
      "metadata": {
        "id": "o0o2NndLWDVC"
      },
      "source": [
        "import requests\n",
        "\n",
        "# Se hace el request del raw del script python\n",
        "url = 'https://raw.githubusercontent.com/jumafernandez/clasificacion_correos/main/scripts/funciones_preprocesamiento.py'\n",
        "r = requests.get(url)\n",
        "\n",
        "# Se guarda en el working directory\n",
        "with open('funciones_preprocesamiento.py', 'w') as f:\n",
        "    f.write(r.text)\n",
        "\n",
        "# Se importan las funciones a utilizar\n",
        "from funciones_preprocesamiento import preprocesar_correos"
      ],
      "execution_count": 25,
      "outputs": []
    },
    {
      "cell_type": "markdown",
      "metadata": {
        "id": "-uv6R5UQWWmE"
      },
      "source": [
        "### 1.3. Carga de datos\n",
        "\n",
        "Se carga el dataframe en memoria con el preprocesamiento de los datos:"
      ]
    },
    {
      "cell_type": "code",
      "metadata": {
        "colab": {
          "base_uri": "https://localhost:8080/"
        },
        "id": "MP4lJ_KVvBSO",
        "outputId": "077eea60-63af-4ded-cfec-52ddb967f2d8"
      },
      "source": [
        "import warnings\n",
        "from os import path\n",
        "warnings.filterwarnings(\"ignore\")\n",
        "\n",
        "# Constantes con los datos\n",
        "DS_DIR = 'https://raw.githubusercontent.com/jumafernandez/clasificacion_correos/main/data/50jaiio/consolidados/'\n",
        "TRAIN_FILE = 'dataset-tfidf-prep.csv'\n",
        "TEST_FILE = 'correos-test-jaiio-20.csv'\n",
        "\n",
        "# Chequeo sobre si los archivos están en el working directory\n",
        "download_files = not(path.exists(TRAIN_FILE))\n",
        "\n",
        "etiquetas = get_clases()\n",
        "\n",
        "# Defino la cantidad de clases a utilizar\n",
        "CANTIDAD_CLASES = len(etiquetas)\n",
        "\n",
        "train_df, test_df, etiquetas = cargar_dataset(DS_DIR, TRAIN_FILE, TEST_FILE, download_files, 'clase', etiquetas, CANTIDAD_CLASES, 'Otras Consultas')\n",
        "\n",
        "# Se ejecuta el preprocesamiento de correos sobre el campo Consulta de train y test\n",
        "import pandas as pd\n",
        "train_df['consulta'] = pd.Series(preprocesar_correos(train_df['consulta']))\n",
        "test_df['consulta'] = pd.Series(preprocesar_correos(test_df['consulta']))\n",
        "\n",
        "# Muestro salida por consola\n",
        "print('Existen {} clases: {}.'.format(len(train_df.clase.unique()), train_df.clase.unique()))"
      ],
      "execution_count": 26,
      "outputs": [
        {
          "output_type": "stream",
          "text": [
            "\n",
            "El conjunto de entrenamiento tiene la dimensión: (320, 25)\n",
            "El conjunto de testeo tiene la dimensión: (200, 24)\n",
            "Existen 16 clases: ['Boleto Universitario' 'Cambio de Carrera' 'Cambio de Comisión'\n",
            " 'Consulta por Equivalencias' 'Consulta por Legajo'\n",
            " 'Consulta sobre Título Universitario' 'Cursadas' 'Datos Personales'\n",
            " 'Exámenes' 'Ingreso a la Universidad' 'Pedido de Certificados'\n",
            " 'Problemas con la Clave' 'Reincorporación' 'Requisitos de Ingreso'\n",
            " 'Simultaneidad de Carreras' 'Situación Académica'].\n"
          ],
          "name": "stdout"
        }
      ]
    },
    {
      "cell_type": "markdown",
      "metadata": {
        "id": "8IKK2WwlVLye"
      },
      "source": [
        "Me guardo la columna del score de Elasticsearch para no generar incompatibilidades:"
      ]
    },
    {
      "cell_type": "code",
      "metadata": {
        "id": "daumQbloVLNa",
        "colab": {
          "base_uri": "https://localhost:8080/"
        },
        "outputId": "da33ee23-5bfd-4789-d81b-2aebc48402f4"
      },
      "source": [
        "score = train_df['score']\n",
        "train_df.drop('score', inplace=True, axis=1)\n",
        "\n",
        "train_df.shape"
      ],
      "execution_count": 27,
      "outputs": [
        {
          "output_type": "execute_result",
          "data": {
            "text/plain": [
              "(320, 24)"
            ]
          },
          "metadata": {
            "tags": []
          },
          "execution_count": 27
        }
      ]
    },
    {
      "cell_type": "markdown",
      "metadata": {
        "id": "17obw6uxVN21"
      },
      "source": [
        "## 2. SVM"
      ]
    },
    {
      "cell_type": "markdown",
      "metadata": {
        "id": "QOOwBxoYUoWC"
      },
      "source": [
        "### 2.1. Carga de librerías de procesamiento de texto\n",
        "\n",
        "Se cargan en memoria dos funciones: _grid_search_por_estrategia_representacion_ que va a iterar ajustando los hiperparámetros para las técnica de __SVM__ y _representacion_documentos_ que genera representaciones para las _features textuales_:"
      ]
    },
    {
      "cell_type": "code",
      "metadata": {
        "id": "8XF6H0BGX9F9"
      },
      "source": [
        "import requests\n",
        "\n",
        "# Se hace el request del raw del script python\n",
        "url = 'https://raw.githubusercontent.com/jumafernandez/clasificacion_correos/main/scripts/funciones_clasificacion_texto.py'\n",
        "r = requests.get(url)\n",
        "\n",
        "# Se guarda en el working directory\n",
        "with open('funciones_clasificacion_texto.py', 'w') as f:\n",
        "    f.write(r.text)\n",
        "\n",
        "# Se importan las funciones a utilizar\n",
        "from funciones_clasificacion_texto import gridsearch_por_estrategia_representacion, representacion_documentos"
      ],
      "execution_count": 28,
      "outputs": []
    },
    {
      "cell_type": "markdown",
      "metadata": {
        "id": "BR6VPw5NNYje"
      },
      "source": [
        "### 2.2 Modelo general (clasificación en las 16 clases)\n",
        "\n",
        "En primer lugar se trabaja con un único clasificador que clasifica y testea las instancias en las 16 clases posibles."
      ]
    },
    {
      "cell_type": "markdown",
      "metadata": {
        "id": "7kgPWXtpU_7v"
      },
      "source": [
        "#### 2.2.1 Definición del espacio de búsqueda\n",
        "\n",
        "Se define el espacio de búsqueda para el ajuste de hiperparámetros del modelo:"
      ]
    },
    {
      "cell_type": "code",
      "metadata": {
        "id": "k3TOc1GcX-rg"
      },
      "source": [
        "# Defino una lista con los esquemas de representación\n",
        "estrategias_representacion = ['BINARIO', 'TFIDF', '3-4-NGRAM-CHARS', '1-2-NGRAM-WORDS']\n",
        "modelo = 'SVM'\n",
        "\n",
        "# Defino los parámetros para GridSearchCV\n",
        "params_svm = {'SVM__C': [0.1, 1, 10, 100], \n",
        "              'SVM__gamma': [0.01, 0.1, 1],\n",
        "              'SVM__class_weight': [None, 'balanced'],\n",
        "              'SVM__kernel': ['rbf', 'linear', 'poly', 'sigmoid']\n",
        "              }"
      ],
      "execution_count": 29,
      "outputs": []
    },
    {
      "cell_type": "markdown",
      "metadata": {
        "id": "lmnm8yPmYGAR"
      },
      "source": [
        "Se ejecuta el ajuste de hiperparámetros para cada estrategia de representación en función del espacio de búsqueda:"
      ]
    },
    {
      "cell_type": "code",
      "metadata": {
        "id": "lFSOquuAYGPK",
        "outputId": "77697f01-bdf0-4662-d62c-93ea44f4ed67",
        "colab": {
          "base_uri": "https://localhost:8080/"
        }
      },
      "source": [
        "NO_CORRIDA = True\n",
        "\n",
        "if NO_CORRIDA:\n",
        "  for estrategia in estrategias_representacion:\n",
        "    # Llamo a la función que realiza el gridsearch por estrategia  \n",
        "    gridsearch_por_estrategia_representacion(train_df, test_df, estrategia, modelo, params_svm, None, atr_consulta='consulta')"
      ],
      "execution_count": 30,
      "outputs": [
        {
          "output_type": "stream",
          "text": [
            "Estrategia de representación: BINARIO\n",
            "Fitting 5 folds for each of 96 candidates, totalling 480 fits\n"
          ],
          "name": "stdout"
        },
        {
          "output_type": "stream",
          "text": [
            "[Parallel(n_jobs=-1)]: Using backend LokyBackend with 2 concurrent workers.\n",
            "[Parallel(n_jobs=-1)]: Done  28 tasks      | elapsed:    4.5s\n",
            "[Parallel(n_jobs=-1)]: Done 124 tasks      | elapsed:   17.0s\n",
            "[Parallel(n_jobs=-1)]: Done 284 tasks      | elapsed:   36.8s\n",
            "[Parallel(n_jobs=-1)]: Done 480 out of 480 | elapsed:  1.0min finished\n"
          ],
          "name": "stderr"
        },
        {
          "output_type": "stream",
          "text": [
            "Estrategia de representación: BINARIO\n",
            "Parámetros: {'SVM__C': 0.1, 'SVM__class_weight': None, 'SVM__gamma': 0.01, 'SVM__kernel': 'linear', 'clasificador': 'SVM', 'estrategia': 'BINARIO', 'accuracy': 0.515, 'precision': 0.47808128128620453, 'recall': 0.44021712043200883, 'f1_score': 0.3863081483733658}\n",
            "Accuracy Test-Set: 0.515\n",
            "Métricas sobre Test-Set: {'SVM__C': 0.1, 'SVM__class_weight': None, 'SVM__gamma': 0.01, 'SVM__kernel': 'linear', 'clasificador': 'SVM', 'estrategia': 'BINARIO', 'accuracy': 0.515, 'precision': 0.47808128128620453, 'recall': 0.44021712043200883, 'f1_score': 0.3863081483733658}\n",
            "Estrategia de representación: TFIDF\n",
            "Fitting 5 folds for each of 96 candidates, totalling 480 fits\n"
          ],
          "name": "stdout"
        },
        {
          "output_type": "stream",
          "text": [
            "[Parallel(n_jobs=-1)]: Using backend LokyBackend with 2 concurrent workers.\n",
            "[Parallel(n_jobs=-1)]: Done  28 tasks      | elapsed:    3.7s\n",
            "[Parallel(n_jobs=-1)]: Done 124 tasks      | elapsed:   16.2s\n",
            "[Parallel(n_jobs=-1)]: Done 284 tasks      | elapsed:   36.7s\n",
            "[Parallel(n_jobs=-1)]: Done 480 out of 480 | elapsed:  1.0min finished\n"
          ],
          "name": "stderr"
        },
        {
          "output_type": "stream",
          "text": [
            "Estrategia de representación: TFIDF\n",
            "Parámetros: {'SVM__C': 0.1, 'SVM__class_weight': None, 'SVM__gamma': 0.01, 'SVM__kernel': 'linear', 'clasificador': 'SVM', 'estrategia': 'TFIDF', 'accuracy': 0.54, 'precision': 0.48808300563815266, 'recall': 0.5237636844705638, 'f1_score': 0.4348186242319655}\n",
            "Accuracy Test-Set: 0.54\n",
            "Métricas sobre Test-Set: {'SVM__C': 0.1, 'SVM__class_weight': None, 'SVM__gamma': 0.01, 'SVM__kernel': 'linear', 'clasificador': 'SVM', 'estrategia': 'TFIDF', 'accuracy': 0.54, 'precision': 0.48808300563815266, 'recall': 0.5237636844705638, 'f1_score': 0.4348186242319655}\n",
            "Estrategia de representación: 3-4-NGRAM-CHARS\n",
            "Fitting 5 folds for each of 96 candidates, totalling 480 fits\n"
          ],
          "name": "stdout"
        },
        {
          "output_type": "stream",
          "text": [
            "[Parallel(n_jobs=-1)]: Using backend LokyBackend with 2 concurrent workers.\n",
            "[Parallel(n_jobs=-1)]: Done  28 tasks      | elapsed:   21.9s\n",
            "[Parallel(n_jobs=-1)]: Done 124 tasks      | elapsed:  1.6min\n",
            "[Parallel(n_jobs=-1)]: Done 284 tasks      | elapsed:  3.5min\n",
            "[Parallel(n_jobs=-1)]: Done 480 out of 480 | elapsed:  5.8min finished\n"
          ],
          "name": "stderr"
        },
        {
          "output_type": "stream",
          "text": [
            "Estrategia de representación: 3-4-NGRAM-CHARS\n",
            "Parámetros: {'SVM__C': 0.1, 'SVM__class_weight': None, 'SVM__gamma': 0.01, 'SVM__kernel': 'linear', 'clasificador': 'SVM', 'estrategia': '3-4-NGRAM-CHARS', 'accuracy': 0.575, 'precision': 0.5394865474598931, 'recall': 0.6047174584806879, 'f1_score': 0.47942797615638266}\n",
            "Accuracy Test-Set: 0.575\n",
            "Métricas sobre Test-Set: {'SVM__C': 0.1, 'SVM__class_weight': None, 'SVM__gamma': 0.01, 'SVM__kernel': 'linear', 'clasificador': 'SVM', 'estrategia': '3-4-NGRAM-CHARS', 'accuracy': 0.575, 'precision': 0.5394865474598931, 'recall': 0.6047174584806879, 'f1_score': 0.47942797615638266}\n",
            "Estrategia de representación: 1-2-NGRAM-WORDS\n",
            "Fitting 5 folds for each of 96 candidates, totalling 480 fits\n"
          ],
          "name": "stdout"
        },
        {
          "output_type": "stream",
          "text": [
            "[Parallel(n_jobs=-1)]: Using backend LokyBackend with 2 concurrent workers.\n",
            "[Parallel(n_jobs=-1)]: Done  28 tasks      | elapsed:   14.8s\n",
            "[Parallel(n_jobs=-1)]: Done 124 tasks      | elapsed:  1.1min\n",
            "[Parallel(n_jobs=-1)]: Done 284 tasks      | elapsed:  2.4min\n",
            "[Parallel(n_jobs=-1)]: Done 480 out of 480 | elapsed:  4.0min finished\n"
          ],
          "name": "stderr"
        },
        {
          "output_type": "stream",
          "text": [
            "Estrategia de representación: 1-2-NGRAM-WORDS\n",
            "Parámetros: {'SVM__C': 100, 'SVM__class_weight': None, 'SVM__gamma': 0.01, 'SVM__kernel': 'sigmoid', 'clasificador': 'SVM', 'estrategia': '1-2-NGRAM-WORDS', 'accuracy': 0.515, 'precision': 0.4753732001693958, 'recall': 0.5082296434019832, 'f1_score': 0.41618185146031517}\n",
            "Accuracy Test-Set: 0.515\n",
            "Métricas sobre Test-Set: {'SVM__C': 100, 'SVM__class_weight': None, 'SVM__gamma': 0.01, 'SVM__kernel': 'sigmoid', 'clasificador': 'SVM', 'estrategia': '1-2-NGRAM-WORDS', 'accuracy': 0.515, 'precision': 0.4753732001693958, 'recall': 0.5082296434019832, 'f1_score': 0.41618185146031517}\n"
          ],
          "name": "stdout"
        }
      ]
    },
    {
      "cell_type": "markdown",
      "metadata": {
        "id": "GjoUvaOgh00W"
      },
      "source": [
        "#### 2.2.2 Modelo generado\n",
        "\n",
        "En función de los mejores hiperparámetros encontrados con la búsqueda Grid, ajusto el modelo para obtener las métricas (por un bug en la función ya solucionado):"
      ]
    },
    {
      "cell_type": "code",
      "metadata": {
        "id": "VfU5JT1vh0J3",
        "colab": {
          "base_uri": "https://localhost:8080/"
        },
        "outputId": "fbef60d0-9763-4ff8-f5cf-ddaf61a92525"
      },
      "source": [
        "# Mejores Parámetros según GridSearchCV:\n",
        "# {'SVM__C': 10, 'SVM__class_weight': 'balanced', 'SVM__gamma': 0.01, 'SVM__kernel': 'sigmoid', 'estrategia': '3-4-NGRAM-CHARS', \n",
        "#  'accuracy': 0.81, 'precision': 0.5971321956813028, 'recall': 0.553190280233687, 'f1_score': 0.5639032258154839}\n",
        "\n",
        "params_svm = {'SVM__C': [10], \n",
        "              'SVM__gamma': [0.01],\n",
        "              'SVM__class_weight': ['balanced'],\n",
        "              'SVM__kernel': ['sigmoid'],\n",
        "              'SVM__probability': [True]\n",
        "              }\n",
        "\n",
        "clf, X_test, y_test = gridsearch_por_estrategia_representacion(train_df, test_df, '3-4-NGRAM-CHARS', 'SVM', params_svm, None, atr_consulta='consulta')"
      ],
      "execution_count": null,
      "outputs": [
        {
          "output_type": "stream",
          "text": [
            "Estrategia de representación: 3-4-NGRAM-CHARS\n",
            "Fitting 5 folds for each of 1 candidates, totalling 5 fits\n"
          ],
          "name": "stdout"
        },
        {
          "output_type": "stream",
          "text": [
            "[Parallel(n_jobs=-1)]: Using backend LokyBackend with 2 concurrent workers.\n",
            "[Parallel(n_jobs=-1)]: Done   5 out of   5 | elapsed:  2.4min finished\n"
          ],
          "name": "stderr"
        },
        {
          "output_type": "stream",
          "text": [
            "Estrategia de representación: 3-4-NGRAM-CHARS\n",
            "Parámetros: {'SVM__C': 10, 'SVM__class_weight': 'balanced', 'SVM__gamma': 0.01, 'SVM__kernel': 'sigmoid', 'SVM__probability': True, 'clasificador': 'SVM', 'estrategia': '3-4-NGRAM-CHARS', 'accuracy': 0.6, 'precision': 0.5001123366013072, 'recall': 0.5761202196449622, 'f1_score': 0.47276805429797264}\n",
            "Accuracy Test-Set: 0.6\n",
            "Métricas sobre Test-Set: {'SVM__C': 10, 'SVM__class_weight': 'balanced', 'SVM__gamma': 0.01, 'SVM__kernel': 'sigmoid', 'SVM__probability': True, 'clasificador': 'SVM', 'estrategia': '3-4-NGRAM-CHARS', 'accuracy': 0.6, 'precision': 0.5001123366013072, 'recall': 0.5761202196449622, 'f1_score': 0.47276805429797264}\n"
          ],
          "name": "stdout"
        }
      ]
    },
    {
      "cell_type": "markdown",
      "metadata": {
        "id": "qzVZFzCTVTSZ"
      },
      "source": [
        "Se predicen las instancias de testeo:"
      ]
    },
    {
      "cell_type": "code",
      "metadata": {
        "id": "zNoj8Gshc09R"
      },
      "source": [
        "y_pred = clf.predict(X_test)"
      ],
      "execution_count": null,
      "outputs": []
    },
    {
      "cell_type": "markdown",
      "metadata": {
        "id": "SoOcZO15Vni2"
      },
      "source": [
        "Además, se utiliza el método _predict\\_proba_ para calcular la probabilidad asociada a la clasificación de cada instancia:"
      ]
    },
    {
      "cell_type": "code",
      "metadata": {
        "id": "PVQ-oYM0Pwof"
      },
      "source": [
        "import numpy as np\n",
        "\n",
        "y_pred_proba = np.around(clf.predict_proba(X_test), 2)\n",
        "\n",
        "y_max_proba = np.amax(y_pred_proba, 1)"
      ],
      "execution_count": null,
      "outputs": []
    },
    {
      "cell_type": "code",
      "metadata": {
        "colab": {
          "base_uri": "https://localhost:8080/"
        },
        "id": "LsR7UjZZUzTy",
        "outputId": "ee405f40-036a-4e36-ec56-01c4c7794ac7"
      },
      "source": [
        "y_max_proba"
      ],
      "execution_count": null,
      "outputs": [
        {
          "output_type": "execute_result",
          "data": {
            "text/plain": [
              "array([0.25, 0.23, 0.28, 0.18, 0.22, 0.23, 0.26, 0.31, 0.53, 0.18, 0.62,\n",
              "       0.16, 0.85, 0.49, 0.37, 0.43, 0.41, 0.96, 0.84, 0.39, 0.25, 0.43,\n",
              "       0.26, 0.19, 0.55, 0.31, 0.2 , 0.27, 0.68, 0.72, 0.33, 0.26, 0.42,\n",
              "       0.95, 0.39, 0.66, 0.46, 0.34, 0.46, 0.31, 0.43, 0.27, 0.25, 0.2 ,\n",
              "       0.49, 0.66, 0.17, 0.28, 0.57, 0.19, 0.15, 0.24, 0.85, 0.31, 0.31,\n",
              "       0.72, 0.71, 0.3 , 0.84, 0.33, 0.62, 0.81, 0.45, 0.72, 0.22, 0.42,\n",
              "       0.65, 0.55, 0.36, 0.29, 0.26, 0.94, 0.55, 0.63, 0.18, 0.23, 0.25,\n",
              "       0.92, 0.56, 0.76, 0.5 , 0.31, 0.32, 0.66, 0.22, 0.95, 0.22, 0.3 ,\n",
              "       0.52, 0.57, 0.46, 0.5 , 0.17, 0.2 , 0.24, 0.28, 0.4 , 0.98, 0.26,\n",
              "       0.61, 0.68, 0.51, 0.29, 0.17, 0.64, 0.35, 0.24, 0.18, 0.94, 0.51,\n",
              "       0.34, 0.21, 0.62, 0.53, 0.95, 0.41, 0.28, 0.51, 0.95, 0.25, 0.27,\n",
              "       0.16, 0.17, 0.45, 0.94, 0.31, 0.19, 0.19, 0.35, 0.41, 0.56, 0.51,\n",
              "       0.52, 0.6 , 0.6 , 0.77, 0.2 , 0.54, 0.52, 0.3 , 0.17, 0.18, 0.15,\n",
              "       0.3 , 0.24, 0.43, 0.24, 0.23, 0.33, 0.46, 0.39, 0.35, 0.2 , 0.22,\n",
              "       0.21, 0.81, 0.81, 0.82, 0.92, 0.91, 0.32, 0.76, 0.67, 0.55, 0.18,\n",
              "       0.2 , 0.43, 0.7 , 0.27, 0.28, 0.33, 0.54, 0.43, 0.8 , 0.28, 0.21,\n",
              "       0.54, 0.25, 0.85, 0.2 , 0.33, 0.53, 0.42, 0.76, 0.58, 0.13, 0.89,\n",
              "       0.83, 0.87, 0.37, 0.52, 0.26, 0.23, 0.95, 0.49, 0.53, 0.31, 0.43,\n",
              "       0.15, 0.34])"
            ]
          },
          "metadata": {
            "tags": []
          },
          "execution_count": 23
        }
      ]
    },
    {
      "cell_type": "markdown",
      "metadata": {
        "id": "WgSm2WQzVyUt"
      },
      "source": [
        "Se genera un _dataframe_ con las clases observadas para _test_, las predicciones y las probabilidades asociadas para verificar si hay relación entre las proba y los errores:"
      ]
    },
    {
      "cell_type": "code",
      "metadata": {
        "id": "VsF3kAQjS5By"
      },
      "source": [
        "import pandas as pd\n",
        "\n",
        "resultados = pd.concat([pd.Series(y_test), pd.Series(y_pred), pd.Series(y_max_proba)], axis=1)\n",
        "resultados.columns = ['clase', 'prediccion', 'max_proba']\n",
        "resultados['correcto'] = resultados['clase'] == resultados['prediccion']"
      ],
      "execution_count": null,
      "outputs": []
    },
    {
      "cell_type": "markdown",
      "metadata": {
        "id": "0dvHDGdSV_1S"
      },
      "source": [
        "Se calcula el _accuracy__ para las predicciones con una proba>0.5 y se obtiene una mejora sustancial:"
      ]
    },
    {
      "cell_type": "code",
      "metadata": {
        "colab": {
          "base_uri": "https://localhost:8080/"
        },
        "id": "T1-NV0ztUmlq",
        "outputId": "c0d0348f-dbde-45cc-bf3f-a0687af0ded8"
      },
      "source": [
        "sum(resultados[resultados.max_proba>0.5]['correcto'])/resultados[resultados.max_proba>0.5]['correcto'].count()"
      ],
      "execution_count": null,
      "outputs": [
        {
          "output_type": "execute_result",
          "data": {
            "text/plain": [
              "0.8243243243243243"
            ]
          },
          "metadata": {
            "tags": []
          },
          "execution_count": 25
        }
      ]
    },
    {
      "cell_type": "markdown",
      "metadata": {
        "id": "wIpzEIaOWKNa"
      },
      "source": [
        "#### 2.2.3 Métricas de selección"
      ]
    },
    {
      "cell_type": "markdown",
      "metadata": {
        "id": "Cied9MM_WNvG"
      },
      "source": [
        "##### 2.2.3.1. Matriz de confusión\n",
        "\n",
        "A continuación, se calcula la matriz de confusión para cada clase para el recorte con proba>0.5 y para el modelo con la totalidad de instancias:"
      ]
    },
    {
      "cell_type": "code",
      "metadata": {
        "colab": {
          "base_uri": "https://localhost:8080/"
        },
        "id": "ZeK6rWwqZInr",
        "outputId": "c62d096a-b124-4a69-c53a-3c1ddac3d14a"
      },
      "source": [
        "from sklearn import metrics #Importar el módulo metrics de scikit-learn\n",
        "\n",
        "# Vamos a testear el modelo\n",
        "print(\"Accuracy:\", metrics.accuracy_score(resultados[resultados.max_proba>0.5]['clase'], resultados[resultados.max_proba>0.5]['prediccion']))\n",
        "\n",
        "# Vemos un reporte de clasificación de varias métricas\n",
        "print(metrics.classification_report(resultados[resultados.max_proba>0.5]['clase'], resultados[resultados.max_proba>0.5]['prediccion']))"
      ],
      "execution_count": null,
      "outputs": [
        {
          "output_type": "stream",
          "text": [
            "Accuracy: 0.8243243243243243\n",
            "                                     precision    recall  f1-score   support\n",
            "\n",
            "               Boleto Universitario       1.00      0.94      0.97        18\n",
            "                  Cambio de Carrera       0.00      0.00      0.00         0\n",
            "                 Cambio de Comisión       1.00      1.00      1.00         1\n",
            "         Consulta por Equivalencias       1.00      1.00      1.00         2\n",
            "                Consulta por Legajo       0.33      1.00      0.50         1\n",
            "Consulta sobre Título Universitario       0.50      1.00      0.67         1\n",
            "                           Cursadas       0.71      0.62      0.67         8\n",
            "                   Datos Personales       0.00      0.00      0.00         1\n",
            "                           Exámenes       0.75      1.00      0.86         3\n",
            "           Ingreso a la Universidad       1.00      0.50      0.67        10\n",
            "             Pedido de Certificados       0.88      1.00      0.93         7\n",
            "             Problemas con la Clave       0.89      1.00      0.94         8\n",
            "                    Reincorporación       1.00      0.50      0.67         2\n",
            "              Requisitos de Ingreso       1.00      0.82      0.90        11\n",
            "                Situación Académica       0.50      1.00      0.67         1\n",
            "\n",
            "                           accuracy                           0.82        74\n",
            "                          macro avg       0.70      0.76      0.70        74\n",
            "                       weighted avg       0.90      0.82      0.84        74\n",
            "\n"
          ],
          "name": "stdout"
        }
      ]
    },
    {
      "cell_type": "code",
      "metadata": {
        "colab": {
          "base_uri": "https://localhost:8080/"
        },
        "id": "6J-THNpdciSP",
        "outputId": "85a69d7a-6a84-4f07-d9ea-ccc6750ec536"
      },
      "source": [
        "from sklearn import metrics #Importar el módulo metrics de scikit-learn\n",
        "\n",
        "# Vamos a testear el modelo\n",
        "print(\"Accuracy:\",metrics.accuracy_score(y_test, y_pred))\n",
        "\n",
        "# Vemos un reporte de clasificación de varias métricas\n",
        "print(metrics.classification_report(y_test, y_pred))"
      ],
      "execution_count": null,
      "outputs": [
        {
          "output_type": "stream",
          "text": [
            "Accuracy: 0.6\n",
            "                                     precision    recall  f1-score   support\n",
            "\n",
            "               Boleto Universitario       1.00      0.75      0.86        48\n",
            "                  Cambio de Carrera       0.00      0.00      0.00         2\n",
            "                 Cambio de Comisión       0.25      1.00      0.40         2\n",
            "         Consulta por Equivalencias       0.38      1.00      0.55         3\n",
            "                Consulta por Legajo       0.22      0.67      0.33         3\n",
            "Consulta sobre Título Universitario       0.25      0.67      0.36         3\n",
            "                           Cursadas       0.67      0.42      0.52        19\n",
            "                   Datos Personales       0.06      0.50      0.10         2\n",
            "                           Exámenes       0.30      0.60      0.40         5\n",
            "           Ingreso a la Universidad       0.86      0.36      0.51        33\n",
            "             Pedido de Certificados       0.93      0.87      0.90        15\n",
            "             Problemas con la Clave       0.88      0.65      0.75        23\n",
            "                    Reincorporación       0.50      0.27      0.35        11\n",
            "              Requisitos de Ingreso       1.00      0.62      0.77        24\n",
            "          Simultaneidad de Carreras       0.00      0.00      0.00         1\n",
            "                Situación Académica       0.71      0.83      0.77         6\n",
            "\n",
            "                           accuracy                           0.60       200\n",
            "                          macro avg       0.50      0.58      0.47       200\n",
            "                       weighted avg       0.81      0.60      0.66       200\n",
            "\n"
          ],
          "name": "stdout"
        }
      ]
    },
    {
      "cell_type": "code",
      "metadata": {
        "colab": {
          "base_uri": "https://localhost:8080/"
        },
        "id": "t8dTwLl5dYu-",
        "outputId": "4e14213e-d80d-46c2-84e0-10225f3d2393"
      },
      "source": [
        "metrics.confusion_matrix(y_test, y_pred)"
      ],
      "execution_count": null,
      "outputs": [
        {
          "output_type": "execute_result",
          "data": {
            "text/plain": [
              "array([[36,  1,  0,  1,  0,  2,  0,  3,  3,  0,  0,  0,  1,  0,  1,  0],\n",
              "       [ 0,  0,  1,  0,  0,  0,  0,  0,  0,  0,  0,  0,  1,  0,  0,  0],\n",
              "       [ 0,  0,  2,  0,  0,  0,  0,  0,  0,  0,  0,  0,  0,  0,  0,  0],\n",
              "       [ 0,  0,  0,  3,  0,  0,  0,  0,  0,  0,  0,  0,  0,  0,  0,  0],\n",
              "       [ 0,  0,  0,  0,  2,  0,  0,  0,  0,  0,  0,  0,  0,  0,  1,  0],\n",
              "       [ 0,  0,  0,  1,  0,  2,  0,  0,  0,  0,  0,  0,  0,  0,  0,  0],\n",
              "       [ 0,  0,  1,  0,  3,  1,  8,  3,  1,  1,  0,  0,  0,  0,  1,  0],\n",
              "       [ 0,  0,  0,  0,  0,  0,  0,  1,  0,  0,  0,  0,  0,  0,  0,  1],\n",
              "       [ 0,  0,  1,  0,  0,  0,  0,  0,  3,  0,  0,  0,  0,  0,  0,  1],\n",
              "       [ 0,  5,  1,  0,  2,  2,  2,  6,  1, 12,  1,  1,  0,  0,  0,  0],\n",
              "       [ 0,  1,  0,  0,  0,  0,  0,  0,  0,  0, 13,  0,  0,  0,  1,  0],\n",
              "       [ 0,  2,  1,  0,  0,  0,  0,  4,  0,  1,  0, 15,  0,  0,  0,  0],\n",
              "       [ 0,  4,  0,  2,  2,  0,  0,  0,  0,  0,  0,  0,  3,  0,  0,  0],\n",
              "       [ 0,  0,  1,  1,  0,  1,  2,  1,  1,  0,  0,  1,  1, 15,  0,  0],\n",
              "       [ 0,  1,  0,  0,  0,  0,  0,  0,  0,  0,  0,  0,  0,  0,  0,  0],\n",
              "       [ 0,  0,  0,  0,  0,  0,  0,  0,  1,  0,  0,  0,  0,  0,  0,  5]])"
            ]
          },
          "metadata": {
            "tags": []
          },
          "execution_count": 28
        }
      ]
    },
    {
      "cell_type": "code",
      "metadata": {
        "colab": {
          "base_uri": "https://localhost:8080/",
          "height": 466
        },
        "id": "IYUVKbHldjKq",
        "outputId": "fdea0225-97b4-43d4-d4fb-169a441f0901"
      },
      "source": [
        "import numpy as np\n",
        "import seaborn as sns; sns.set()\n",
        "import matplotlib.pyplot as plt\n",
        "\n",
        "mat = metrics.confusion_matrix(y_test, y_pred)\n",
        "\n",
        "sns.heatmap(mat, square=True, annot=True, fmt='d', cbar=False,\n",
        "            xticklabels=etiquetas, yticklabels=etiquetas)\n",
        "\n",
        "plt.xlabel('Observada')\n",
        "plt.ylabel('Predicha');"
      ],
      "execution_count": null,
      "outputs": [
        {
          "output_type": "display_data",
          "data": {
            "image/png": "[encoded data removed]",
            "text/plain": [
              "<Figure size 432x288 with 1 Axes>"
            ]
          },
          "metadata": {
            "tags": []
          }
        }
      ]
    },
    {
      "cell_type": "markdown",
      "metadata": {
        "id": "0a1K2447qjxE"
      },
      "source": [
        "## Referencias\n",
        "- https://scikit-learn.org/stable/modules/generated/sklearn.model_selection.GridSearchCV.html\n",
        "- https://medium.com/analytics-vidhya/ml-pipelines-using-scikit-learn-and-gridsearchcv-fe605a7f9e05"
      ]
    }
  ]
}