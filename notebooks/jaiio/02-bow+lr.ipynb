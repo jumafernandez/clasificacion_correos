{
  "nbformat": 4,
  "nbformat_minor": 0,
  "metadata": {
    "colab": {
      "name": "02-bow+lr.ipynb",
      "provenance": [],
      "toc_visible": true,
      "include_colab_link": true
    },
    "kernelspec": {
      "name": "python3",
      "display_name": "Python 3"
    }
  },
  "cells": [
    {
      "cell_type": "markdown",
      "metadata": {
        "id": "view-in-github",
        "colab_type": "text"
      },
      "source": [
        "<a href=\"https://colab.research.google.com/github/jumafernandez/clasificacion_correos/blob/main/notebooks/jaiio/02-bow%2Blr.ipynb\" target=\"_parent\"><img src=\"https://colab.research.google.com/assets/colab-badge.svg\" alt=\"Open In Colab\"/></a>"
      ]
    },
    {
      "cell_type": "markdown",
      "metadata": {
        "id": "5DuUrVBgeUso"
      },
      "source": [
        "# Baseline JAIIO: BoW+Regresión Logística\n",
        "\n",
        "En esta notebook se presetan los experimentos sobre la estrategia de representación y técnica de aprendizaje *baseline* utilizada para las 50 JAIIO.\n",
        "\n",
        "Para ello vamos a preprocesar los correos y aplicar:\n",
        "- Bag of words,\n",
        "- Regresión logística para quedarnos con los vectores de coeficientes como indicador de las _features_ importantes.\n"
      ]
    },
    {
      "cell_type": "markdown",
      "metadata": {
        "id": "FBLanwDJVnFF"
      },
      "source": [
        "## Instalación y Carga de librerías y funciones útiles\n",
        "\n",
        "### Instalación de librerías\n",
        "\n",
        "Se instalan las librerías que no están en el entorno de Google Colab"
      ]
    },
    {
      "cell_type": "code",
      "metadata": {
        "colab": {
          "base_uri": "https://localhost:8080/"
        },
        "id": "644uDER_VnXj",
        "outputId": "5f1c374f-b062-4521-85e6-f2e88deed5b4"
      },
      "source": [
        "# Se instala gensim que es el que tiene el modelo Word2Vec\n",
        "!pip install requests\n",
        "!pip install wget"
      ],
      "execution_count": 9,
      "outputs": [
        {
          "output_type": "stream",
          "text": [
            "Requirement already satisfied: requests in /usr/local/lib/python3.7/dist-packages (2.23.0)\n",
            "Requirement already satisfied: urllib3!=1.25.0,!=1.25.1,<1.26,>=1.21.1 in /usr/local/lib/python3.7/dist-packages (from requests) (1.24.3)\n",
            "Requirement already satisfied: idna<3,>=2.5 in /usr/local/lib/python3.7/dist-packages (from requests) (2.10)\n",
            "Requirement already satisfied: chardet<4,>=3.0.2 in /usr/local/lib/python3.7/dist-packages (from requests) (3.0.4)\n",
            "Requirement already satisfied: certifi>=2017.4.17 in /usr/local/lib/python3.7/dist-packages (from requests) (2020.12.5)\n",
            "Requirement already satisfied: wget in /usr/local/lib/python3.7/dist-packages (3.2)\n"
          ],
          "name": "stdout"
        }
      ]
    },
    {
      "cell_type": "markdown",
      "metadata": {
        "id": "43fDuhK2V1kx"
      },
      "source": [
        "### Funciones útiles\n",
        "\n",
        "Se cargan funciones útiles desde el repo https://github.com/jumafernandez/clasificacion_correos para la carga y balanceo del dataset."
      ]
    },
    {
      "cell_type": "code",
      "metadata": {
        "id": "oQvZz035bSMf"
      },
      "source": [
        "import requests\n",
        "\n",
        "# Se hace el request del raw del script python\n",
        "url = 'https://raw.githubusercontent.com/jumafernandez/clasificacion_correos/main/scripts/funciones_dataset.py'\n",
        "r = requests.get(url)\n",
        "\n",
        "# Se guarda en el working directory\n",
        "with open('funciones_dataset.py', 'w') as f:\n",
        "    f.write(r.text)\n",
        "\n",
        "# Se importan las funciones a utilizar\n",
        "from funciones_dataset import get_clases, cargar_dataset"
      ],
      "execution_count": 10,
      "outputs": []
    },
    {
      "cell_type": "markdown",
      "metadata": {
        "id": "MDxjaGIfV-rT"
      },
      "source": [
        "También se carga la función para preprocesar el texto que se usó en los otros modelos desde el repo: https://github.com/jumafernandez/clasificacion_correos."
      ]
    },
    {
      "cell_type": "code",
      "metadata": {
        "id": "o0o2NndLWDVC"
      },
      "source": [
        "import requests\n",
        "\n",
        "# Se hace el request del raw del script python\n",
        "url = 'https://raw.githubusercontent.com/jumafernandez/clasificacion_correos/main/scripts/funciones_preprocesamiento.py'\n",
        "r = requests.get(url)\n",
        "\n",
        "# Se guarda en el working directory\n",
        "with open('funciones_preprocesamiento.py', 'w') as f:\n",
        "    f.write(r.text)\n",
        "\n",
        "# Se importan las funciones a utilizar\n",
        "from funciones_preprocesamiento import preprocesar_correos"
      ],
      "execution_count": 11,
      "outputs": []
    },
    {
      "cell_type": "markdown",
      "metadata": {
        "id": "-uv6R5UQWWmE"
      },
      "source": [
        "### Carga de datos\n",
        "\n",
        "Se carga el dataframe en memoria con el preprocesamiento de los datos:"
      ]
    },
    {
      "cell_type": "code",
      "metadata": {
        "colab": {
          "base_uri": "https://localhost:8080/"
        },
        "id": "MP4lJ_KVvBSO",
        "outputId": "2b0ee938-cb6f-402f-e1d0-2b05bbc0f185"
      },
      "source": [
        "import warnings\n",
        "from os import path\n",
        "warnings.filterwarnings(\"ignore\")\n",
        "\n",
        "# Defino la cantidad de clases a utilizar\n",
        "CANTIDAD_CLASES = 4\n",
        "\n",
        "# Constantes con los datos\n",
        "DS_DIR = 'https://raw.githubusercontent.com/jumafernandez/clasificacion_correos/main/data/50jaiio/'\n",
        "TRAIN_FILE = 'correos-train-80.csv'\n",
        "TEST_FILE = 'correos-test-20.csv'\n",
        "\n",
        "# Chequeo sobre si los archivos están en el working directory\n",
        "download_files = not(path.exists(TRAIN_FILE))\n",
        "\n",
        "etiquetas = get_clases()\n",
        "train_df, test_df, etiquetas = cargar_dataset(DS_DIR, TRAIN_FILE, TEST_FILE, download_files, 'clase', etiquetas, CANTIDAD_CLASES, 'Otras Consultas')\n",
        "\n",
        "# Se ejecuta el preprocesamiento de correos sobre el campo Consulta de train y test\n",
        "import pandas as pd\n",
        "train_df['Consulta'] = pd.Series(preprocesar_correos(train_df['Consulta']))\n",
        "test_df['Consulta'] = pd.Series(preprocesar_correos(test_df['Consulta']))\n",
        "\n",
        "# Cambio los integers por las etiquetas\n",
        "train_df['clase'] = etiquetas[train_df['clase']]\n",
        "test_df['clase'] = etiquetas[test_df['clase']]\n",
        "\n",
        "# Las vuelvo a pasar a números 0-N para evitar conflictos con simpletransformers\n",
        "# Este paso está fijo para estos experimentos\n",
        "dict_clases_id = {'Otras Consultas': 0,\n",
        "                            'Ingreso a la Universidad': 1,\n",
        "                            'Boleto Universitario': 2,\n",
        "                            'Requisitos de Ingreso': 3}\n",
        "\n",
        "train_df['clase'].replace(dict_clases_id, inplace=True)\n",
        "test_df['clase'].replace(dict_clases_id, inplace=True)\n",
        "\n",
        "# Muestro salida por consola\n",
        "print('Existen {} clases: {}.'.format(len(train_df.clase.unique()), train_df.clase.unique()))"
      ],
      "execution_count": 12,
      "outputs": [
        {
          "output_type": "stream",
          "text": [
            "\n",
            "El conjunto de entrenamiento tiene la dimensión: (800, 24)\n",
            "El conjunto de testeo tiene la dimensión: (200, 24)\n",
            "Existen 4 clases: [0 1 2 3].\n"
          ],
          "name": "stdout"
        }
      ]
    },
    {
      "cell_type": "markdown",
      "metadata": {
        "id": "17obw6uxVN21"
      },
      "source": [
        "## Regresión Logística\n",
        "\n",
        "Se carga en memoria la función _grid_search_por_estrategia_representacion_ que va a iterar ajustando los hiperparámetros para las técnica de __LR__ y _representacion_documentos_ con la generación de las diferentes representaciones:"
      ]
    },
    {
      "cell_type": "code",
      "metadata": {
        "id": "8XF6H0BGX9F9"
      },
      "source": [
        "import requests\n",
        "\n",
        "# Se hace el request del raw del script python\n",
        "url = 'https://raw.githubusercontent.com/jumafernandez/clasificacion_correos/main/scripts/funciones_clasificacion_texto.py'\n",
        "r = requests.get(url)\n",
        "\n",
        "# Se guarda en el working directory\n",
        "with open('funciones_clasificacion_texto.py', 'w') as f:\n",
        "    f.write(r.text)\n",
        "\n",
        "# Se importan las funciones a utilizar\n",
        "from funciones_clasificacion_texto import gridsearch_por_estrategia_representacion, representacion_documentos"
      ],
      "execution_count": 17,
      "outputs": []
    },
    {
      "cell_type": "markdown",
      "metadata": {
        "id": "fiAo2N8TX-ao"
      },
      "source": [
        "Se define el espacio de búsqueda para el ajuste de hiperparámetros del modelo:"
      ]
    },
    {
      "cell_type": "code",
      "metadata": {
        "id": "k3TOc1GcX-rg"
      },
      "source": [
        "# Defino una lista con los esquemas de representación\n",
        "estrategias_representacion = ['BOW', 'TFIDF', '3-4-NGRAM-CHARS', '1-2-NGRAM-WORDS']\n",
        "modelo = 'LR'\n",
        "# Defino los parámetros para GridSearchCV\n",
        "params_lr = {'LR__C': [0.001, 0.01, 0.1, 1, 10, 100]}"
      ],
      "execution_count": 14,
      "outputs": []
    },
    {
      "cell_type": "markdown",
      "metadata": {
        "id": "lmnm8yPmYGAR"
      },
      "source": [
        "Se ejecuta el ajuste de hiperparámetros para cada estrategia de representación en función del espacio de búsqueda:"
      ]
    },
    {
      "cell_type": "code",
      "metadata": {
        "id": "lFSOquuAYGPK",
        "colab": {
          "base_uri": "https://localhost:8080/"
        },
        "outputId": "b0824319-ac12-4953-c37a-e5be08841d2a"
      },
      "source": [
        "for estrategia in estrategias_representacion:\n",
        "  # Llamo a la función que realiza el gridsearch por estrategia  \n",
        "  gridsearch_por_estrategia_representacion(train_df, test_df, estrategia, modelo, params_lr, 'drive')"
      ],
      "execution_count": 15,
      "outputs": [
        {
          "output_type": "stream",
          "text": [
            "Estrategia de representación: BOW\n",
            "Fitting 5 folds for each of 6 candidates, totalling 30 fits\n"
          ],
          "name": "stdout"
        },
        {
          "output_type": "stream",
          "text": [
            "[Parallel(n_jobs=-1)]: Using backend LokyBackend with 2 concurrent workers.\n",
            "[Parallel(n_jobs=-1)]: Done  30 out of  30 | elapsed:   10.7s finished\n"
          ],
          "name": "stderr"
        },
        {
          "output_type": "stream",
          "text": [
            "Drive already mounted at drive; to attempt to forcibly remount, call drive.mount(\"drive\", force_remount=True).\n",
            "Estrategia de representación: BOW\n",
            "Parámetros: {'LR__C': 1, 'clasificador': 'LR', 'estrategia': 'BOW', 'accuracy': 0.865, 'precision': 0.8528951386844984, 'recall': 0.8220648863659905, 'f1_score': 0.833183514560302}\n",
            "Accuracy Test-Set: 0.865\n",
            "Estrategia de representación: TFIDF\n",
            "Fitting 5 folds for each of 6 candidates, totalling 30 fits\n"
          ],
          "name": "stdout"
        },
        {
          "output_type": "stream",
          "text": [
            "[Parallel(n_jobs=-1)]: Using backend LokyBackend with 2 concurrent workers.\n",
            "[Parallel(n_jobs=-1)]: Done  30 out of  30 | elapsed:    9.7s finished\n"
          ],
          "name": "stderr"
        },
        {
          "output_type": "stream",
          "text": [
            "Drive already mounted at drive; to attempt to forcibly remount, call drive.mount(\"drive\", force_remount=True).\n",
            "Estrategia de representación: TFIDF\n",
            "Parámetros: {'LR__C': 1, 'clasificador': 'LR', 'estrategia': 'TFIDF', 'accuracy': 0.87, 'precision': 0.8479142635314997, 'recall': 0.8445819262880938, 'f1_score': 0.8461242425953697}\n",
            "Accuracy Test-Set: 0.87\n",
            "Estrategia de representación: 3-4-NGRAM-CHARS\n",
            "Fitting 5 folds for each of 6 candidates, totalling 30 fits\n"
          ],
          "name": "stdout"
        },
        {
          "output_type": "stream",
          "text": [
            "[Parallel(n_jobs=-1)]: Using backend LokyBackend with 2 concurrent workers.\n",
            "[Parallel(n_jobs=-1)]: Done  30 out of  30 | elapsed:   45.7s finished\n"
          ],
          "name": "stderr"
        },
        {
          "output_type": "stream",
          "text": [
            "Drive already mounted at drive; to attempt to forcibly remount, call drive.mount(\"drive\", force_remount=True).\n",
            "Estrategia de representación: 3-4-NGRAM-CHARS\n",
            "Parámetros: {'LR__C': 10, 'clasificador': 'LR', 'estrategia': '3-4-NGRAM-CHARS', 'accuracy': 0.87, 'precision': 0.8575891408169889, 'recall': 0.8424402825830243, 'f1_score': 0.8475238514963805}\n",
            "Accuracy Test-Set: 0.87\n",
            "Estrategia de representación: 1-2-NGRAM-WORDS\n",
            "Fitting 5 folds for each of 6 candidates, totalling 30 fits\n"
          ],
          "name": "stdout"
        },
        {
          "output_type": "stream",
          "text": [
            "[Parallel(n_jobs=-1)]: Using backend LokyBackend with 2 concurrent workers.\n",
            "[Parallel(n_jobs=-1)]: Done  30 out of  30 | elapsed:   42.9s finished\n"
          ],
          "name": "stderr"
        },
        {
          "output_type": "stream",
          "text": [
            "Drive already mounted at drive; to attempt to forcibly remount, call drive.mount(\"drive\", force_remount=True).\n",
            "Estrategia de representación: 1-2-NGRAM-WORDS\n",
            "Parámetros: {'LR__C': 1, 'clasificador': 'LR', 'estrategia': '1-2-NGRAM-WORDS', 'accuracy': 0.86, 'precision': 0.8409972499638154, 'recall': 0.8189003294039652, 'f1_score': 0.827086477283026}\n",
            "Accuracy Test-Set: 0.86\n"
          ],
          "name": "stdout"
        }
      ]
    },
    {
      "cell_type": "markdown",
      "metadata": {
        "id": "AAnLDH6VUjvv"
      },
      "source": [
        "### Vector de coeficientes\n",
        "\n",
        "Pongo en memoria la función para representación de documentos del repositorio del proyecto:"
      ]
    },
    {
      "cell_type": "code",
      "metadata": {
        "colab": {
          "base_uri": "https://localhost:8080/"
        },
        "id": "DqZJaHCGVLf6",
        "outputId": "47254eed-ff67-4b0a-af51-78d150f960f6"
      },
      "source": [
        "from funciones_dataset import consolidar_df\n",
        "from sklearn.preprocessing import MinMaxScaler\n",
        "from sklearn.linear_model import LogisticRegression\n",
        "from sklearn.metrics import accuracy_score, precision_score, recall_score, f1_score\n",
        "import pandas as pd\n",
        "\n",
        "# Genero la representación de documentos\n",
        "correos_train_vec, correos_test_vec = representacion_documentos(train_df['Consulta'], test_df['Consulta'], 'TFIDF', None)\n",
        "\n",
        "# Separo en x e y - train y test- (además consolido feature estáticas con dinámicas)\n",
        "x_train, y_train = consolidar_df(train_df, correos_train_vec, 'Consulta', 'clase')\n",
        "x_test, y_test = consolidar_df(test_df, correos_test_vec, 'Consulta', 'clase')\n",
        "  \n",
        "# Escalado de datos: Se probó scale y MinMaxScaler y dió mejores resultados el último\n",
        "scaler = MinMaxScaler()\n",
        "x_train_scaled = scaler.fit_transform(x_train)\n",
        "x_test_scaled = scaler.fit_transform(x_test)\n",
        "\n",
        "# Instancio y entreno el modelo\n",
        "clf = LogisticRegression(C=1)\n",
        "clf.fit(x_train_scaled, y_train)\n",
        "\n",
        "# Se realizan las predicciones sobre el conjunto de validación\n",
        "y_predictions = clf.predict(x_test_scaled) \n",
        "\n",
        "# Calculo el accuracy sobre test\n",
        "acc_test = accuracy_score(y_test, y_predictions)\n",
        "\n",
        "print('Accuracy Test-Set: {}' . format(acc_test))"
      ],
      "execution_count": 18,
      "outputs": [
        {
          "output_type": "stream",
          "text": [
            "Accuracy Test-Set: 0.87\n"
          ],
          "name": "stdout"
        }
      ]
    },
    {
      "cell_type": "markdown",
      "metadata": {
        "id": "D9wszzpWh1cM"
      },
      "source": [
        "Ahora se retornan los vectores de coeficientes para las clases:"
      ]
    },
    {
      "cell_type": "code",
      "metadata": {
        "colab": {
          "base_uri": "https://localhost:8080/"
        },
        "id": "EA8wwWeNh9wG",
        "outputId": "6c9b28e9-243d-43ca-9b42-dfa5a491cee6"
      },
      "source": [
        "clf.coef_"
      ],
      "execution_count": 32,
      "outputs": [
        {
          "output_type": "execute_result",
          "data": {
            "text/plain": [
              "array([ 0.25950884, -0.15211498, -0.19884215, ..., -0.02337214,\n",
              "       -0.16211122,  0.10163046])"
            ]
          },
          "metadata": {
            "tags": []
          },
          "execution_count": 32
        }
      ]
    },
    {
      "cell_type": "code",
      "metadata": {
        "colab": {
          "base_uri": "https://localhost:8080/"
        },
        "id": "znGSHmLnkKtw",
        "outputId": "d8eb6b4c-c481-4a70-d0a9-2235cbd8e1ce"
      },
      "source": [
        "!pip install mglearn"
      ],
      "execution_count": 26,
      "outputs": [
        {
          "output_type": "stream",
          "text": [
            "Collecting mglearn\n",
            "\u001b[?25l  Downloading https://files.pythonhosted.org/packages/65/38/8aced26fce0b2ae82c3c87cd3b6105f38ca6d9d51704ecc44aa54473e6b9/mglearn-0.1.9.tar.gz (540kB)\n",
            "\r\u001b[K     |▋                               | 10kB 11.3MB/s eta 0:00:01\r\u001b[K     |█▏                              | 20kB 15.8MB/s eta 0:00:01\r\u001b[K     |█▉                              | 30kB 17.8MB/s eta 0:00:01\r\u001b[K     |██▍                             | 40kB 20.1MB/s eta 0:00:01\r\u001b[K     |███                             | 51kB 8.7MB/s eta 0:00:01\r\u001b[K     |███▋                            | 61kB 6.5MB/s eta 0:00:01\r\u001b[K     |████▎                           | 71kB 7.2MB/s eta 0:00:01\r\u001b[K     |████▉                           | 81kB 7.8MB/s eta 0:00:01\r\u001b[K     |█████▌                          | 92kB 6.7MB/s eta 0:00:01\r\u001b[K     |██████                          | 102kB 7.3MB/s eta 0:00:01\r\u001b[K     |██████▊                         | 112kB 7.3MB/s eta 0:00:01\r\u001b[K     |███████▎                        | 122kB 7.3MB/s eta 0:00:01\r\u001b[K     |███████▉                        | 133kB 7.3MB/s eta 0:00:01\r\u001b[K     |████████▌                       | 143kB 7.3MB/s eta 0:00:01\r\u001b[K     |█████████                       | 153kB 7.3MB/s eta 0:00:01\r\u001b[K     |█████████▊                      | 163kB 7.3MB/s eta 0:00:01\r\u001b[K     |██████████▎                     | 174kB 7.3MB/s eta 0:00:01\r\u001b[K     |███████████                     | 184kB 7.3MB/s eta 0:00:01\r\u001b[K     |███████████▌                    | 194kB 7.3MB/s eta 0:00:01\r\u001b[K     |████████████▏                   | 204kB 7.3MB/s eta 0:00:01\r\u001b[K     |████████████▊                   | 215kB 7.3MB/s eta 0:00:01\r\u001b[K     |█████████████▍                  | 225kB 7.3MB/s eta 0:00:01\r\u001b[K     |██████████████                  | 235kB 7.3MB/s eta 0:00:01\r\u001b[K     |██████████████▋                 | 245kB 7.3MB/s eta 0:00:01\r\u001b[K     |███████████████▏                | 256kB 7.3MB/s eta 0:00:01\r\u001b[K     |███████████████▊                | 266kB 7.3MB/s eta 0:00:01\r\u001b[K     |████████████████▍               | 276kB 7.3MB/s eta 0:00:01\r\u001b[K     |█████████████████               | 286kB 7.3MB/s eta 0:00:01\r\u001b[K     |█████████████████▋              | 296kB 7.3MB/s eta 0:00:01\r\u001b[K     |██████████████████▏             | 307kB 7.3MB/s eta 0:00:01\r\u001b[K     |██████████████████▉             | 317kB 7.3MB/s eta 0:00:01\r\u001b[K     |███████████████████▍            | 327kB 7.3MB/s eta 0:00:01\r\u001b[K     |████████████████████            | 337kB 7.3MB/s eta 0:00:01\r\u001b[K     |████████████████████▋           | 348kB 7.3MB/s eta 0:00:01\r\u001b[K     |█████████████████████▎          | 358kB 7.3MB/s eta 0:00:01\r\u001b[K     |█████████████████████▉          | 368kB 7.3MB/s eta 0:00:01\r\u001b[K     |██████████████████████▌         | 378kB 7.3MB/s eta 0:00:01\r\u001b[K     |███████████████████████         | 389kB 7.3MB/s eta 0:00:01\r\u001b[K     |███████████████████████▋        | 399kB 7.3MB/s eta 0:00:01\r\u001b[K     |████████████████████████▎       | 409kB 7.3MB/s eta 0:00:01\r\u001b[K     |████████████████████████▉       | 419kB 7.3MB/s eta 0:00:01\r\u001b[K     |█████████████████████████▌      | 430kB 7.3MB/s eta 0:00:01\r\u001b[K     |██████████████████████████      | 440kB 7.3MB/s eta 0:00:01\r\u001b[K     |██████████████████████████▊     | 450kB 7.3MB/s eta 0:00:01\r\u001b[K     |███████████████████████████▎    | 460kB 7.3MB/s eta 0:00:01\r\u001b[K     |████████████████████████████    | 471kB 7.3MB/s eta 0:00:01\r\u001b[K     |████████████████████████████▌   | 481kB 7.3MB/s eta 0:00:01\r\u001b[K     |█████████████████████████████▏  | 491kB 7.3MB/s eta 0:00:01\r\u001b[K     |█████████████████████████████▊  | 501kB 7.3MB/s eta 0:00:01\r\u001b[K     |██████████████████████████████▍ | 512kB 7.3MB/s eta 0:00:01\r\u001b[K     |███████████████████████████████ | 522kB 7.3MB/s eta 0:00:01\r\u001b[K     |███████████████████████████████▌| 532kB 7.3MB/s eta 0:00:01\r\u001b[K     |████████████████████████████████| 542kB 7.3MB/s \n",
            "\u001b[?25hRequirement already satisfied: numpy in /usr/local/lib/python3.7/dist-packages (from mglearn) (1.19.5)\n",
            "Requirement already satisfied: matplotlib in /usr/local/lib/python3.7/dist-packages (from mglearn) (3.2.2)\n",
            "Requirement already satisfied: scikit-learn in /usr/local/lib/python3.7/dist-packages (from mglearn) (0.22.2.post1)\n",
            "Requirement already satisfied: pandas in /usr/local/lib/python3.7/dist-packages (from mglearn) (1.1.5)\n",
            "Requirement already satisfied: pillow in /usr/local/lib/python3.7/dist-packages (from mglearn) (7.1.2)\n",
            "Requirement already satisfied: cycler in /usr/local/lib/python3.7/dist-packages (from mglearn) (0.10.0)\n",
            "Requirement already satisfied: imageio in /usr/local/lib/python3.7/dist-packages (from mglearn) (2.4.1)\n",
            "Requirement already satisfied: joblib in /usr/local/lib/python3.7/dist-packages (from mglearn) (1.0.1)\n",
            "Requirement already satisfied: kiwisolver>=1.0.1 in /usr/local/lib/python3.7/dist-packages (from matplotlib->mglearn) (1.3.1)\n",
            "Requirement already satisfied: pyparsing!=2.0.4,!=2.1.2,!=2.1.6,>=2.0.1 in /usr/local/lib/python3.7/dist-packages (from matplotlib->mglearn) (2.4.7)\n",
            "Requirement already satisfied: python-dateutil>=2.1 in /usr/local/lib/python3.7/dist-packages (from matplotlib->mglearn) (2.8.1)\n",
            "Requirement already satisfied: scipy>=0.17.0 in /usr/local/lib/python3.7/dist-packages (from scikit-learn->mglearn) (1.4.1)\n",
            "Requirement already satisfied: pytz>=2017.2 in /usr/local/lib/python3.7/dist-packages (from pandas->mglearn) (2018.9)\n",
            "Requirement already satisfied: six in /usr/local/lib/python3.7/dist-packages (from cycler->mglearn) (1.15.0)\n",
            "Building wheels for collected packages: mglearn\n",
            "  Building wheel for mglearn (setup.py) ... \u001b[?25l\u001b[?25hdone\n",
            "  Created wheel for mglearn: filename=mglearn-0.1.9-py2.py3-none-any.whl size=582638 sha256=cd2ba3c4c0f9ed0b86eddc760777f238f295a6f9ba37ed0bbb5bb5c8267b99a8\n",
            "  Stored in directory: /root/.cache/pip/wheels/eb/a6/ea/a6a3716233fa62fc561259b5cb1e28f79e9ff3592c0adac5f0\n",
            "Successfully built mglearn\n",
            "Installing collected packages: mglearn\n",
            "Successfully installed mglearn-0.1.9\n"
          ],
          "name": "stdout"
        }
      ]
    },
    {
      "cell_type": "code",
      "metadata": {
        "colab": {
          "base_uri": "https://localhost:8080/",
          "height": 366
        },
        "id": "qYYQ3bRzkcW3",
        "outputId": "be5e698a-cfdb-4be1-b29d-996cc4607666"
      },
      "source": [
        "import mglearn\n",
        "\n",
        "mglearn.tools.visualize_coefficients(clf.coef_[0], x_train.columns, n_top_features=40)\n",
        "print(etiquetas[0])"
      ],
      "execution_count": 37,
      "outputs": [
        {
          "output_type": "stream",
          "text": [
            "Boleto Universitario\n"
          ],
          "name": "stdout"
        },
        {
          "output_type": "display_data",
          "data": {
            "image/png": "[encoded data removed]",
            "text/plain": [
              "<Figure size 1080x360 with 1 Axes>"
            ]
          },
          "metadata": {
            "tags": [],
            "needs_background": "light"
          }
        }
      ]
    },
    {
      "cell_type": "code",
      "metadata": {
        "colab": {
          "base_uri": "https://localhost:8080/"
        },
        "id": "uEp0whslkvN4",
        "outputId": "fcfdce15-8462-4305-ff1e-b2cca2d014e8"
      },
      "source": [
        ""
      ],
      "execution_count": 28,
      "outputs": [
        {
          "output_type": "execute_result",
          "data": {
            "text/plain": [
              "Index(['%', '02', '04', '05', '06', '06/08', '0855', '09/08', '1', '10',\n",
              "       ...\n",
              "       'volver', 'volvi', 'voy', 'vuelta', 'vuelva', 'vuelvo', 'web', 'wep',\n",
              "       'xq', 'yamila'],\n",
              "      dtype='object', length=2021)"
            ]
          },
          "metadata": {
            "tags": []
          },
          "execution_count": 28
        }
      ]
    },
    {
      "cell_type": "markdown",
      "metadata": {
        "id": "0a1K2447qjxE"
      },
      "source": [
        "# Referencias\n",
        "- https://scikit-learn.org/stable/modules/generated/sklearn.model_selection.GridSearchCV.html\n",
        "- https://medium.com/analytics-vidhya/ml-pipelines-using-scikit-learn-and-gridsearchcv-fe605a7f9e05"
      ]
    }
  ]
}