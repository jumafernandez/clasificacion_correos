{
  "nbformat": 4,
  "nbformat_minor": 0,
  "metadata": {
    "colab": {
      "name": "01-etiquetado_manual+svm-vFinal.ipynb",
      "provenance": [],
      "collapsed_sections": [],
      "toc_visible": true,
      "include_colab_link": true
    },
    "kernelspec": {
      "display_name": "Python 3",
      "name": "python3"
    }
  },
  "cells": [
    {
      "cell_type": "markdown",
      "metadata": {
        "id": "view-in-github",
        "colab_type": "text"
      },
      "source": [
        "<a href=\"https://colab.research.google.com/github/jumafernandez/clasificacion_correos/blob/main/notebooks/jaiio/03-modelos/01-etiquetado_manual%2Bsvm-vFinal.ipynb\" target=\"_parent\"><img src=\"https://colab.research.google.com/assets/colab-badge.svg\" alt=\"Open In Colab\"/></a>"
      ]
    },
    {
      "cell_type": "markdown",
      "metadata": {
        "id": "5DuUrVBgeUso"
      },
      "source": [
        "# Baseline JAIIO: Etiquetado manual+SVM\n",
        "\n",
        "En esta notebook se presetan los experimentos sobre la estrategia de representación y técnica de aprendizaje baseline utilizada para el trabajo de investigación con los correos etiquetados de forma manual.\n",
        "\n",
        "Para ello vamos a preprocesar los correos y aplicar:\n",
        "- Bag of words,\n",
        "- Pesado binario/no binario,\n",
        "- Máquina de vector soporte (SVM)."
      ]
    },
    {
      "cell_type": "markdown",
      "metadata": {
        "id": "LC29-nnEqmXI"
      },
      "source": [
        "## 0. Configuración de la ejecución\n",
        "\n",
        "A continuación se genera la configuración de las estrategias que integrarán el sistema de votación para la obtención de instancias:"
      ]
    },
    {
      "cell_type": "code",
      "metadata": {
        "id": "gLm7kOaOrIGs"
      },
      "source": [
        "# Defino una lista con los esquemas de representación y la cantidad de tokens\n",
        "estrategias_representacion = ['BINARIO', 'TFIDF', '3-4-NGRAM-CHARS', '1-2-NGRAM-WORDS']\n",
        "ATRIBUTOS_DINAMICOS = 3000\n",
        "\n",
        "# Defino la técnica de ML\n",
        "tecnica = 'SVM'"
      ],
      "execution_count": 35,
      "outputs": []
    },
    {
      "cell_type": "markdown",
      "metadata": {
        "id": "4D4Zpxhs3OKR"
      },
      "source": [
        "Se definen algunas características fijas:"
      ]
    },
    {
      "cell_type": "code",
      "metadata": {
        "id": "K2FEE93duakY"
      },
      "source": [
        "# El archivo de test y el train con etiquetado manual es siempre el mismo\n",
        "TEST_FILE = 'correos-test-jaiio-20.csv'\n",
        "TRAIN_FILE_MANUAL = 'correos-train-jaiio-80.csv'\n",
        "atributos_df = ['consulta', 'dia_semana', 'semana_del_mes', 'mes', 'cuatrimestre',\n",
        "                  'anio', 'hora_discretizada', 'dni_discretizado', 'legajo_discretizado',\n",
        "                  'posee_legajo', 'posee_telefono', 'carrera_valor', 'proveedor_correo',\n",
        "                  'cantidad_caracteres', 'proporcion_mayusculas', 'proporcion_letras',\n",
        "                  'cantidad_tildes', 'cantidad_palabras', 'cantidad_palabras_cortas',\n",
        "                  'proporcion_palabras_distintas', 'frecuencia_signos_puntuacion',\n",
        "                  'cantidad_oraciones', 'utiliza_codigo_asignatura', 'score', 'clase_e0']"
      ],
      "execution_count": 36,
      "outputs": []
    },
    {
      "cell_type": "markdown",
      "metadata": {
        "id": "FBLanwDJVnFF"
      },
      "source": [
        "## 1. Instalación y Carga de librerías y funciones útiles"
      ]
    },
    {
      "cell_type": "markdown",
      "metadata": {
        "id": "3-dNi6mDUZnb"
      },
      "source": [
        "### 1.1 Instalación de librerías\n",
        "\n",
        "Se instalan las librerías que no están en el entorno de Google Colab:"
      ]
    },
    {
      "cell_type": "code",
      "metadata": {
        "colab": {
          "base_uri": "https://localhost:8080/"
        },
        "id": "644uDER_VnXj",
        "outputId": "9e476272-8a9e-4d44-cbda-88c7abdece5a"
      },
      "source": [
        "# Se instala gensim que es el que tiene el modelo Word2Vec\n",
        "!pip install requests\n",
        "!pip install wget"
      ],
      "execution_count": 37,
      "outputs": [
        {
          "output_type": "stream",
          "name": "stdout",
          "text": [
            "Requirement already satisfied: requests in /usr/local/lib/python3.7/dist-packages (2.23.0)\n",
            "Requirement already satisfied: urllib3!=1.25.0,!=1.25.1,<1.26,>=1.21.1 in /usr/local/lib/python3.7/dist-packages (from requests) (1.24.3)\n",
            "Requirement already satisfied: certifi>=2017.4.17 in /usr/local/lib/python3.7/dist-packages (from requests) (2021.5.30)\n",
            "Requirement already satisfied: chardet<4,>=3.0.2 in /usr/local/lib/python3.7/dist-packages (from requests) (3.0.4)\n",
            "Requirement already satisfied: idna<3,>=2.5 in /usr/local/lib/python3.7/dist-packages (from requests) (2.10)\n",
            "Requirement already satisfied: wget in /usr/local/lib/python3.7/dist-packages (3.2)\n"
          ]
        }
      ]
    },
    {
      "cell_type": "markdown",
      "metadata": {
        "id": "43fDuhK2V1kx"
      },
      "source": [
        "### 1.2 Funciones útiles\n",
        "\n",
        "Se cargan funciones útiles desde el repo https://github.com/jumafernandez/clasificacion_correos para la carga y balanceo del dataset."
      ]
    },
    {
      "cell_type": "code",
      "metadata": {
        "id": "oQvZz035bSMf"
      },
      "source": [
        "import requests\n",
        "\n",
        "# Se hace el request del raw del script python\n",
        "url = 'https://raw.githubusercontent.com/jumafernandez/clasificacion_correos/main/scripts/funciones_dataset.py'\n",
        "r = requests.get(url)\n",
        "\n",
        "# Se guarda en el working directory\n",
        "with open('funciones_dataset.py', 'w') as f:\n",
        "    f.write(r.text)\n",
        "\n",
        "# Se importan las funciones a utilizar\n",
        "from funciones_dataset import get_clases, cargar_dataset, consolidar_df, generar_train_test_set"
      ],
      "execution_count": 38,
      "outputs": []
    },
    {
      "cell_type": "markdown",
      "metadata": {
        "id": "MDxjaGIfV-rT"
      },
      "source": [
        "También se carga la función para preprocesar el texto que se usó en los otros modelos desde el repo: https://github.com/jumafernandez/clasificacion_correos."
      ]
    },
    {
      "cell_type": "code",
      "metadata": {
        "id": "o0o2NndLWDVC"
      },
      "source": [
        "import requests\n",
        "\n",
        "# Se hace el request del raw del script python\n",
        "url = 'https://raw.githubusercontent.com/jumafernandez/clasificacion_correos/main/scripts/funciones_preprocesamiento.py'\n",
        "r = requests.get(url)\n",
        "\n",
        "# Se guarda en el working directory\n",
        "with open('funciones_preprocesamiento.py', 'w') as f:\n",
        "    f.write(r.text)\n",
        "\n",
        "# Se importan las funciones a utilizar\n",
        "from funciones_preprocesamiento import preprocesar_correos"
      ],
      "execution_count": 39,
      "outputs": []
    },
    {
      "cell_type": "markdown",
      "metadata": {
        "id": "QOOwBxoYUoWC"
      },
      "source": [
        "### 1.2.1. Carga de librerías de procesamiento de texto\n",
        "\n",
        "Se cargan en memoria dos funciones: _grid_search_por_estrategia_representacion_ que va a iterar ajustando los hiperparámetros para las técnica de __SVM__ y _representacion_documentos_ que genera representaciones para las _features textuales_:"
      ]
    },
    {
      "cell_type": "code",
      "metadata": {
        "id": "8XF6H0BGX9F9"
      },
      "source": [
        "import requests\n",
        "\n",
        "# Se hace el request del raw del script python\n",
        "url = 'https://raw.githubusercontent.com/jumafernandez/clasificacion_correos/main/scripts/funciones_clasificacion_texto.py'\n",
        "r = requests.get(url)\n",
        "\n",
        "# Se guarda en el working directory\n",
        "with open('funciones_clasificacion_texto.py', 'w') as f:\n",
        "    f.write(r.text)\n",
        "\n",
        "# Se importan las funciones a utilizar\n",
        "from funciones_clasificacion_texto import gridsearch_por_estrategia_representacion, representacion_documentos, gridsearch_por_tecnica"
      ],
      "execution_count": 40,
      "outputs": []
    },
    {
      "cell_type": "markdown",
      "metadata": {
        "id": "-uv6R5UQWWmE"
      },
      "source": [
        "### 1.3. Carga de datos"
      ]
    },
    {
      "cell_type": "markdown",
      "metadata": {
        "id": "BdGnbPiUk-mS"
      },
      "source": [
        "Cargo la librería warnings para no mostrar las advertencias, pandas para el manejo de df y os para verificar la existencia de los archivos en la carga de datos. Además, cargo en memoria la URL de base de los datasets y una lista de las etiquetas de las distintas clases:"
      ]
    },
    {
      "cell_type": "code",
      "metadata": {
        "id": "3TsEFWTAk_qc"
      },
      "source": [
        "import warnings\n",
        "import pandas as pd\n",
        "from os import path\n",
        "warnings.filterwarnings(\"ignore\")\n",
        "\n",
        "# Constantes con los datos\n",
        "DS_DIR = 'https://raw.githubusercontent.com/jumafernandez/clasificacion_correos/main/data/50jaiio/consolidados/'\n",
        "\n",
        "# Defino las clases y la cantidad a utilizar\n",
        "etiquetas = get_clases()\n",
        "CANTIDAD_CLASES = len(etiquetas)"
      ],
      "execution_count": 41,
      "outputs": []
    },
    {
      "cell_type": "code",
      "metadata": {
        "id": "HjGj575EAKm9",
        "colab": {
          "base_uri": "https://localhost:8080/"
        },
        "outputId": "e4ab71a2-e190-4357-8751-1d0ed17056ab"
      },
      "source": [
        "# Chequeo sobre si los archivos están en el working directory\n",
        "download_files = not(path.exists(TRAIN_FILE_MANUAL))\n",
        "\n",
        "train_df, test_df, etiquetas = cargar_dataset(DS_DIR, TRAIN_FILE_MANUAL, TEST_FILE, download_files, 'clase', etiquetas, CANTIDAD_CLASES, 'Otras Consultas')\n",
        "\n",
        "# Se ejecuta el preprocesamiento de correos sobre el campo Consulta de train y test\n",
        "train_df['consulta'] = pd.Series(preprocesar_correos(train_df['consulta']))\n",
        "\n",
        "# Muestro salida por consola\n",
        "print('Existen {} clases: {}.'.format(len(train_df.clase.unique()), train_df.clase.unique()))"
      ],
      "execution_count": 42,
      "outputs": [
        {
          "output_type": "stream",
          "name": "stdout",
          "text": [
            "\n",
            "El conjunto de entrenamiento tiene la dimensión: (800, 24)\n",
            "El conjunto de testeo tiene la dimensión: (200, 24)\n",
            "Existen 16 clases: ['Boleto Universitario' 'Problemas con la Clave' 'Cursadas'\n",
            " 'Cambio de Carrera' 'Ingreso a la Universidad' 'Requisitos de Ingreso'\n",
            " 'Reincorporación' 'Pedido de Certificados' 'Situación Académica'\n",
            " 'Exámenes' 'Cambio de Comisión' 'Consulta por Legajo'\n",
            " 'Consulta sobre Título Universitario' 'Datos Personales'\n",
            " 'Consulta por Equivalencias' 'Simultaneidad de Carreras'].\n"
          ]
        }
      ]
    },
    {
      "cell_type": "markdown",
      "metadata": {
        "id": "-qdJuRmxoaXV"
      },
      "source": [
        "Muestro el dataframe resultante:"
      ]
    },
    {
      "cell_type": "code",
      "metadata": {
        "colab": {
          "base_uri": "https://localhost:8080/"
        },
        "id": "-z_-PYK9nU_7",
        "outputId": "ee263817-922e-4b45-9b56-53ea0f105d07"
      },
      "source": [
        "# pd.set_option('display.max_colwidth', None)\n",
        "# pd.set_option('display.max_rows', None)\n",
        "train_df.shape"
      ],
      "execution_count": 43,
      "outputs": [
        {
          "output_type": "execute_result",
          "data": {
            "text/plain": [
              "(800, 24)"
            ]
          },
          "metadata": {},
          "execution_count": 43
        }
      ]
    },
    {
      "cell_type": "code",
      "metadata": {
        "colab": {
          "base_uri": "https://localhost:8080/"
        },
        "id": "YJHaVhO8ZpRx",
        "outputId": "d14c9236-69f8-4d85-931e-67d1133d66db"
      },
      "source": [
        "X_train, y_train, X_test, y_test = generar_train_test_set(train_df, test_df, '3-4-NGRAM-CHARS', MAX_TKS=ATRIBUTOS_DINAMICOS)"
      ],
      "execution_count": 44,
      "outputs": [
        {
          "output_type": "stream",
          "name": "stdout",
          "text": [
            "Estrategia de representación: 3-4-NGRAM-CHARS\n"
          ]
        }
      ]
    },
    {
      "cell_type": "code",
      "metadata": {
        "colab": {
          "base_uri": "https://localhost:8080/"
        },
        "id": "Ndyqr3kmakbB",
        "outputId": "7cfeb0a3-2ce9-44e6-c341-2c84bf7fd7ee"
      },
      "source": [
        "X_train.shape"
      ],
      "execution_count": 45,
      "outputs": [
        {
          "output_type": "execute_result",
          "data": {
            "text/plain": [
              "(800, 3022)"
            ]
          },
          "metadata": {},
          "execution_count": 45
        }
      ]
    },
    {
      "cell_type": "markdown",
      "metadata": {
        "id": "17obw6uxVN21"
      },
      "source": [
        "## 2. SVM"
      ]
    },
    {
      "cell_type": "markdown",
      "metadata": {
        "id": "BR6VPw5NNYje"
      },
      "source": [
        "### 2.1 Modelo general (clasificación en las 16 clases)\n",
        "\n",
        "En primer lugar se trabaja con un único clasificador que clasifica y testea las instancias en las 16 clases posibles."
      ]
    },
    {
      "cell_type": "markdown",
      "metadata": {
        "id": "7kgPWXtpU_7v"
      },
      "source": [
        "#### 2.1.1 Definición del espacio de búsqueda\n",
        "\n",
        "Se define el espacio de búsqueda para el ajuste de hiperparámetros del modelo:"
      ]
    },
    {
      "cell_type": "code",
      "metadata": {
        "id": "k3TOc1GcX-rg"
      },
      "source": [
        "# Defino los parámetros para GridSearchCV\n",
        "params_svm = {'SVM__C': [0.1, 1, 10], \n",
        "              'SVM__gamma': [0.01, 0.1, 1],\n",
        "              'SVM__class_weight': [None, 'balanced'],\n",
        "              'SVM__kernel': ['rbf', 'linear', 'sigmoid'],\n",
        "              'SVM__probability': [False]\n",
        "              }"
      ],
      "execution_count": 46,
      "outputs": []
    },
    {
      "cell_type": "markdown",
      "metadata": {
        "id": "lmnm8yPmYGAR"
      },
      "source": [
        "Se ejecuta el ajuste de hiperparámetros para cada estrategia de representación en función del espacio de búsqueda:"
      ]
    },
    {
      "cell_type": "code",
      "metadata": {
        "id": "lFSOquuAYGPK",
        "colab": {
          "base_uri": "https://localhost:8080/"
        },
        "outputId": "5372c03e-61c0-4012-8ad7-da4877799d65"
      },
      "source": [
        "modelos_grid = []\n",
        "representacion_grid = []\n",
        "metricas_grid = []\n",
        "NO_CORRIDA = True\n",
        "\n",
        "if NO_CORRIDA:\n",
        "  # Se hace una búsqueda grid por estrategia de representación\n",
        "  for estrategia in estrategias_representacion:\n",
        "    \n",
        "    # Generamos los datos de train y test por estrategia\n",
        "    X_train, y_train, X_test, y_test = generar_train_test_set(train_df, test_df, estrategia, MAX_TKS=ATRIBUTOS_DINAMICOS)\n",
        "    \n",
        "    # Llamo a la función que realiza el gridsearch por estrategia  \n",
        "    clf_grid, metrics_grid = gridsearch_por_tecnica(X_train, y_train, X_test, y_test, tecnica, params_svm)\n",
        "\n",
        "    # Guardamos el mejor modelo para cada estrategia de representación\n",
        "    modelos_grid.append(clf_grid)\n",
        "    representacion_grid.append(estrategia)\n",
        "    metricas_grid.append(metrics_grid)"
      ],
      "execution_count": 47,
      "outputs": [
        {
          "output_type": "stream",
          "name": "stdout",
          "text": [
            "Estrategia de representación: BINARIO\n",
            "Fitting 5 folds for each of 54 candidates, totalling 270 fits\n"
          ]
        },
        {
          "output_type": "stream",
          "name": "stderr",
          "text": [
            "[Parallel(n_jobs=-1)]: Using backend LokyBackend with 2 concurrent workers.\n",
            "[Parallel(n_jobs=-1)]: Done  28 tasks      | elapsed:   39.7s\n",
            "[Parallel(n_jobs=-1)]: Done 124 tasks      | elapsed:  3.2min\n",
            "[Parallel(n_jobs=-1)]: Done 270 out of 270 | elapsed:  6.7min finished\n"
          ]
        },
        {
          "output_type": "stream",
          "name": "stdout",
          "text": [
            "Parámetros: {'SVM__C': 10, 'SVM__class_weight': 'balanced', 'SVM__gamma': 0.01, 'SVM__kernel': 'sigmoid', 'SVM__probability': False}\n",
            "Accuracy Test-Set: 0.745\n",
            "Métricas sobre Test-Set: {'accuracy': 0.745, 'precision': 0.7473571428571428, 'recall': 0.745, 'f1_score': 0.7382868301819316, 'mcc': 0.7095105249896024}\n",
            "Estrategia de representación: TFIDF\n",
            "Fitting 5 folds for each of 54 candidates, totalling 270 fits\n"
          ]
        },
        {
          "output_type": "stream",
          "name": "stderr",
          "text": [
            "[Parallel(n_jobs=-1)]: Using backend LokyBackend with 2 concurrent workers.\n",
            "[Parallel(n_jobs=-1)]: Done  28 tasks      | elapsed:   40.7s\n",
            "[Parallel(n_jobs=-1)]: Done 124 tasks      | elapsed:  3.5min\n",
            "[Parallel(n_jobs=-1)]: Done 270 out of 270 | elapsed:  7.5min finished\n"
          ]
        },
        {
          "output_type": "stream",
          "name": "stdout",
          "text": [
            "Parámetros: {'SVM__C': 10, 'SVM__class_weight': 'balanced', 'SVM__gamma': 0.1, 'SVM__kernel': 'sigmoid', 'SVM__probability': False}\n",
            "Accuracy Test-Set: 0.7\n",
            "Métricas sobre Test-Set: {'accuracy': 0.7, 'precision': 0.7190727687626775, 'recall': 0.7, 'f1_score': 0.6963380927317745, 'mcc': 0.6578107705206261}\n",
            "Estrategia de representación: 3-4-NGRAM-CHARS\n",
            "Fitting 5 folds for each of 54 candidates, totalling 270 fits\n"
          ]
        },
        {
          "output_type": "stream",
          "name": "stderr",
          "text": [
            "[Parallel(n_jobs=-1)]: Using backend LokyBackend with 2 concurrent workers.\n",
            "[Parallel(n_jobs=-1)]: Done  28 tasks      | elapsed:  1.0min\n",
            "[Parallel(n_jobs=-1)]: Done 124 tasks      | elapsed:  4.9min\n",
            "[Parallel(n_jobs=-1)]: Done 270 out of 270 | elapsed: 10.3min finished\n"
          ]
        },
        {
          "output_type": "stream",
          "name": "stdout",
          "text": [
            "Parámetros: {'SVM__C': 0.1, 'SVM__class_weight': 'balanced', 'SVM__gamma': 0.01, 'SVM__kernel': 'linear', 'SVM__probability': False}\n",
            "Accuracy Test-Set: 0.8\n",
            "Métricas sobre Test-Set: {'accuracy': 0.8, 'precision': 0.7936884574519464, 'recall': 0.8, 'f1_score': 0.7911445565762963, 'mcc': 0.7708036472669705}\n",
            "Estrategia de representación: 1-2-NGRAM-WORDS\n",
            "Fitting 5 folds for each of 54 candidates, totalling 270 fits\n"
          ]
        },
        {
          "output_type": "stream",
          "name": "stderr",
          "text": [
            "[Parallel(n_jobs=-1)]: Using backend LokyBackend with 2 concurrent workers.\n",
            "[Parallel(n_jobs=-1)]: Done  28 tasks      | elapsed:  1.1min\n",
            "[Parallel(n_jobs=-1)]: Done 124 tasks      | elapsed:  5.3min\n",
            "[Parallel(n_jobs=-1)]: Done 270 out of 270 | elapsed: 11.6min finished\n"
          ]
        },
        {
          "output_type": "stream",
          "name": "stdout",
          "text": [
            "Parámetros: {'SVM__C': 10, 'SVM__class_weight': 'balanced', 'SVM__gamma': 0.1, 'SVM__kernel': 'sigmoid', 'SVM__probability': False}\n",
            "Accuracy Test-Set: 0.72\n",
            "Métricas sobre Test-Set: {'accuracy': 0.72, 'precision': 0.7417318306693307, 'recall': 0.72, 'f1_score': 0.7200297549529311, 'mcc': 0.6800532077731802}\n"
          ]
        }
      ]
    },
    {
      "cell_type": "markdown",
      "metadata": {
        "id": "8BLl1MGrOdXs"
      },
      "source": [
        "A partir de los mejores hiperparámetros encontrados para cada estrategia de representación de correos, se busca cual es la estrategia que generó el mayor _accuracy_ (medida totalmente arbitraria):"
      ]
    },
    {
      "cell_type": "code",
      "metadata": {
        "id": "9EZPszyNuh1d",
        "colab": {
          "base_uri": "https://localhost:8080/"
        },
        "outputId": "b8476ec1-bfa0-47c3-8d98-3fd9fdf671f5"
      },
      "source": [
        "max_accuracy = 0\n",
        "for i in range(1, len(metricas_grid)):\n",
        "  if metricas_grid[i]['accuracy'] > metricas_grid[max_accuracy]['accuracy']:\n",
        "    max_accuracy = i\n",
        "\n",
        "representacion_max = representacion_grid[max_accuracy]\n",
        "\n",
        "# Se le quita el prefijo asignado a los parametricos para la búsqueda grid\n",
        "params_max = params = {x.replace(\"SVM__\", \"\"): v for x, v in modelos_grid[max_accuracy].best_params_.items()}\n",
        "\n",
        "metricas_max = metricas_grid[max_accuracy]\n",
        "\n",
        "print(f'El modelo más eficaz es {tecnica} con la estrategia de representación {representacion_max} y los parámetros:\\n {params_max}')\n",
        "print(f'El modelo brinda las siguientes métricas de selección:\\n {metricas_max}')"
      ],
      "execution_count": 48,
      "outputs": [
        {
          "output_type": "stream",
          "name": "stdout",
          "text": [
            "El modelo más eficaz es SVM con la estrategia de representación 3-4-NGRAM-CHARS y los parámetros:\n",
            " {'C': 0.1, 'class_weight': 'balanced', 'gamma': 0.01, 'kernel': 'linear', 'probability': False}\n",
            "El modelo brinda las siguientes métricas de selección:\n",
            " {'accuracy': 0.8, 'precision': 0.7936884574519464, 'recall': 0.8, 'f1_score': 0.7911445565762963, 'mcc': 0.7708036472669705}\n"
          ]
        }
      ]
    },
    {
      "cell_type": "markdown",
      "metadata": {
        "id": "GjoUvaOgh00W"
      },
      "source": [
        "#### 2.1.2 Modelo generado\n",
        "\n",
        "En función de los mejores hiperparámetros y estrategia de representación encontrados con la búsqueda Grid, ajusto el modelo para obtener las métricas.\n",
        "\n",
        "En primer lugar se generan nuevamente los datos de train y test en función de la mejor estrategia de representación encontrada:"
      ]
    },
    {
      "cell_type": "code",
      "metadata": {
        "colab": {
          "base_uri": "https://localhost:8080/"
        },
        "id": "iWgDv-9RVsfN",
        "outputId": "251c4399-96c6-4f15-ddd7-759039db2218"
      },
      "source": [
        "X_train, y_train, X_test, y_test = generar_train_test_set(train_df, test_df, representacion_max, MAX_TKS=ATRIBUTOS_DINAMICOS)"
      ],
      "execution_count": 55,
      "outputs": [
        {
          "output_type": "stream",
          "name": "stdout",
          "text": [
            "Estrategia de representación: 3-4-NGRAM-CHARS\n"
          ]
        }
      ]
    },
    {
      "cell_type": "markdown",
      "metadata": {
        "id": "sBgo7dzPLkv5"
      },
      "source": [
        "Se entrena el modelo con los mejores hiperparámetros encontrados:"
      ]
    },
    {
      "cell_type": "code",
      "metadata": {
        "id": "GXrnHa4qH8in",
        "colab": {
          "base_uri": "https://localhost:8080/"
        },
        "outputId": "23e1b214-4e1b-48ec-8850-760387e4b79f"
      },
      "source": [
        "from sklearn.svm import SVC\n",
        "clf = SVC(**params_max)\n",
        "\n",
        "# Entreno el modelo con los parámetros\n",
        "clf.fit(X_train, y_train)"
      ],
      "execution_count": 56,
      "outputs": [
        {
          "output_type": "execute_result",
          "data": {
            "text/plain": [
              "SVC(C=0.1, break_ties=False, cache_size=200, class_weight='balanced', coef0=0.0,\n",
              "    decision_function_shape='ovr', degree=3, gamma=0.01, kernel='linear',\n",
              "    max_iter=-1, probability=False, random_state=None, shrinking=True,\n",
              "    tol=0.001, verbose=False)"
            ]
          },
          "metadata": {},
          "execution_count": 56
        }
      ]
    },
    {
      "cell_type": "markdown",
      "metadata": {
        "id": "qzVZFzCTVTSZ"
      },
      "source": [
        "Se predicen las instancias de testeo:"
      ]
    },
    {
      "cell_type": "code",
      "metadata": {
        "id": "zNoj8Gshc09R"
      },
      "source": [
        "y_pred = clf.predict(X_test)"
      ],
      "execution_count": 57,
      "outputs": []
    },
    {
      "cell_type": "markdown",
      "metadata": {
        "id": "wIpzEIaOWKNa"
      },
      "source": [
        "#### 2.1.3 Métricas de selección"
      ]
    },
    {
      "cell_type": "code",
      "metadata": {
        "id": "6J-THNpdciSP",
        "colab": {
          "base_uri": "https://localhost:8080/"
        },
        "outputId": "5a169832-dee6-44e1-d125-37e25ca150cb"
      },
      "source": [
        "from sklearn import metrics #Importar el módulo metrics de scikit-learn\n",
        "\n",
        "# Vamos a testear el modelo\n",
        "print(\"Accuracy:\",metrics.accuracy_score(y_test, y_pred))\n",
        "\n",
        "# Vemos un reporte de clasificación de varias métricas\n",
        "print(metrics.classification_report(y_test, y_pred))"
      ],
      "execution_count": 58,
      "outputs": [
        {
          "output_type": "stream",
          "name": "stdout",
          "text": [
            "Accuracy: 0.8\n",
            "                                     precision    recall  f1-score   support\n",
            "\n",
            "               Boleto Universitario       0.98      0.98      0.98        48\n",
            "                  Cambio de Carrera       0.00      0.00      0.00         2\n",
            "                 Cambio de Comisión       0.00      0.00      0.00         2\n",
            "         Consulta por Equivalencias       1.00      0.67      0.80         3\n",
            "                Consulta por Legajo       0.50      0.67      0.57         3\n",
            "Consulta sobre Título Universitario       0.50      0.33      0.40         3\n",
            "                           Cursadas       0.57      0.89      0.69        19\n",
            "                   Datos Personales       0.00      0.00      0.00         2\n",
            "                           Exámenes       0.60      0.60      0.60         5\n",
            "           Ingreso a la Universidad       0.90      0.79      0.84        33\n",
            "             Pedido de Certificados       0.88      1.00      0.94        15\n",
            "             Problemas con la Clave       0.90      0.83      0.86        23\n",
            "                    Reincorporación       0.70      0.64      0.67        11\n",
            "              Requisitos de Ingreso       0.76      0.79      0.78        24\n",
            "          Simultaneidad de Carreras       0.00      0.00      0.00         1\n",
            "                Situación Académica       0.40      0.33      0.36         6\n",
            "\n",
            "                           accuracy                           0.80       200\n",
            "                          macro avg       0.54      0.53      0.53       200\n",
            "                       weighted avg       0.79      0.80      0.79       200\n",
            "\n"
          ]
        }
      ]
    },
    {
      "cell_type": "code",
      "metadata": {
        "id": "IYUVKbHldjKq",
        "colab": {
          "base_uri": "https://localhost:8080/",
          "height": 466
        },
        "outputId": "72a2a2a4-d1b3-4234-a3be-0e5034f6d835"
      },
      "source": [
        "import numpy as np\n",
        "import seaborn as sns; sns.set()\n",
        "import matplotlib.pyplot as plt\n",
        "\n",
        "mat = metrics.confusion_matrix(y_test, y_pred)\n",
        "\n",
        "sns.heatmap(mat, square=True, annot=True, fmt='d', cbar=False,\n",
        "            xticklabels=etiquetas, yticklabels=etiquetas)\n",
        "\n",
        "plt.xlabel('Observada')\n",
        "plt.ylabel('Predicha');"
      ],
      "execution_count": 59,
      "outputs": [
        {
          "output_type": "display_data",
          "data": {
            "image/png": "[encoded data removed]",
            "text/plain": [
              "<Figure size 432x288 with 1 Axes>"
            ]
          },
          "metadata": {}
        }
      ]
    },
    {
      "cell_type": "markdown",
      "metadata": {
        "id": "P14cduVB6pZk"
      },
      "source": [
        "### 3. Análisis del error\n",
        "\n",
        "A continuación se intentan entender los errores del modelo a partir del etiquetado manual."
      ]
    },
    {
      "cell_type": "markdown",
      "metadata": {
        "id": "ZJVVj9Kk6uhd"
      },
      "source": [
        "Genero un dataframe con los scores promedios por clase, el accuracy por clase y el _count_:"
      ]
    },
    {
      "cell_type": "code",
      "metadata": {
        "id": "RRdVnXSN6wkJ",
        "colab": {
          "base_uri": "https://localhost:8080/",
          "height": 803
        },
        "outputId": "91208806-da1f-46e2-d006-6bcdd7aa75ae"
      },
      "source": [
        "df_error = train_df.groupby(['clase']).mean().reset_index()\n",
        "# Accuracy por clase\n",
        "avg_class = mat.diagonal()/mat.sum(axis=1)\n",
        "df_error['accuracy'] = pd.Series(avg_class)\n",
        "\n",
        "df_error['count'] = mat.sum(axis=1)\n",
        "\n",
        "df_error"
      ],
      "execution_count": 61,
      "outputs": [
        {
          "output_type": "execute_result",
          "data": {
            "text/html": [
              "<div>\n",
              "<style scoped>\n",
              "    .dataframe tbody tr th:only-of-type {\n",
              "        vertical-align: middle;\n",
              "    }\n",
              "\n",
              "    .dataframe tbody tr th {\n",
              "        vertical-align: top;\n",
              "    }\n",
              "\n",
              "    .dataframe thead th {\n",
              "        text-align: right;\n",
              "    }\n",
              "</style>\n",
              "<table border=\"1\" class=\"dataframe\">\n",
              "  <thead>\n",
              "    <tr style=\"text-align: right;\">\n",
              "      <th></th>\n",
              "      <th>clase</th>\n",
              "      <th>dia_semana</th>\n",
              "      <th>semana_del_mes</th>\n",
              "      <th>mes</th>\n",
              "      <th>cuatrimestre</th>\n",
              "      <th>anio</th>\n",
              "      <th>hora_discretizada</th>\n",
              "      <th>dni_discretizado</th>\n",
              "      <th>legajo_discretizado</th>\n",
              "      <th>posee_legajo</th>\n",
              "      <th>posee_telefono</th>\n",
              "      <th>carrera_valor</th>\n",
              "      <th>proveedor_correo</th>\n",
              "      <th>cantidad_caracteres</th>\n",
              "      <th>proporcion_mayusculas</th>\n",
              "      <th>proporcion_letras</th>\n",
              "      <th>cantidad_tildes</th>\n",
              "      <th>cantidad_palabras</th>\n",
              "      <th>cantidad_palabras_cortas</th>\n",
              "      <th>proporcion_palabras_distintas</th>\n",
              "      <th>frecuencia_signos_puntuacion</th>\n",
              "      <th>cantidad_oraciones</th>\n",
              "      <th>utiliza_codigo_asignatura</th>\n",
              "      <th>accuracy</th>\n",
              "      <th>count</th>\n",
              "    </tr>\n",
              "  </thead>\n",
              "  <tbody>\n",
              "    <tr>\n",
              "      <th>0</th>\n",
              "      <td>Boleto Universitario</td>\n",
              "      <td>2.010363</td>\n",
              "      <td>2.404145</td>\n",
              "      <td>5.005181</td>\n",
              "      <td>1.233161</td>\n",
              "      <td>2018.668394</td>\n",
              "      <td>1.435233</td>\n",
              "      <td>5.134715</td>\n",
              "      <td>3.010363</td>\n",
              "      <td>0.968912</td>\n",
              "      <td>0.870466</td>\n",
              "      <td>22.274611</td>\n",
              "      <td>5.398964</td>\n",
              "      <td>206.202073</td>\n",
              "      <td>0.0</td>\n",
              "      <td>0.799862</td>\n",
              "      <td>1.880829</td>\n",
              "      <td>37.487047</td>\n",
              "      <td>20.554404</td>\n",
              "      <td>0.866672</td>\n",
              "      <td>0.019141</td>\n",
              "      <td>2.025907</td>\n",
              "      <td>0.000000</td>\n",
              "      <td>0.979167</td>\n",
              "      <td>48</td>\n",
              "    </tr>\n",
              "    <tr>\n",
              "      <th>1</th>\n",
              "      <td>Cambio de Carrera</td>\n",
              "      <td>2.636364</td>\n",
              "      <td>2.363636</td>\n",
              "      <td>6.000000</td>\n",
              "      <td>1.454545</td>\n",
              "      <td>2017.000000</td>\n",
              "      <td>1.000000</td>\n",
              "      <td>3.909091</td>\n",
              "      <td>1.454545</td>\n",
              "      <td>0.636364</td>\n",
              "      <td>0.818182</td>\n",
              "      <td>18.909091</td>\n",
              "      <td>5.090909</td>\n",
              "      <td>196.454545</td>\n",
              "      <td>0.0</td>\n",
              "      <td>0.794343</td>\n",
              "      <td>1.363636</td>\n",
              "      <td>35.909091</td>\n",
              "      <td>19.727273</td>\n",
              "      <td>0.868325</td>\n",
              "      <td>0.022300</td>\n",
              "      <td>2.363636</td>\n",
              "      <td>0.000000</td>\n",
              "      <td>0.000000</td>\n",
              "      <td>2</td>\n",
              "    </tr>\n",
              "    <tr>\n",
              "      <th>2</th>\n",
              "      <td>Cambio de Comisión</td>\n",
              "      <td>3.375000</td>\n",
              "      <td>2.250000</td>\n",
              "      <td>4.125000</td>\n",
              "      <td>1.250000</td>\n",
              "      <td>2017.500000</td>\n",
              "      <td>1.625000</td>\n",
              "      <td>3.750000</td>\n",
              "      <td>2.625000</td>\n",
              "      <td>0.875000</td>\n",
              "      <td>0.875000</td>\n",
              "      <td>30.000000</td>\n",
              "      <td>6.375000</td>\n",
              "      <td>157.875000</td>\n",
              "      <td>0.0</td>\n",
              "      <td>0.818167</td>\n",
              "      <td>1.125000</td>\n",
              "      <td>26.750000</td>\n",
              "      <td>11.625000</td>\n",
              "      <td>0.926576</td>\n",
              "      <td>0.017620</td>\n",
              "      <td>1.250000</td>\n",
              "      <td>0.000000</td>\n",
              "      <td>0.000000</td>\n",
              "      <td>2</td>\n",
              "    </tr>\n",
              "    <tr>\n",
              "      <th>3</th>\n",
              "      <td>Consulta por Equivalencias</td>\n",
              "      <td>2.300000</td>\n",
              "      <td>2.500000</td>\n",
              "      <td>5.800000</td>\n",
              "      <td>1.300000</td>\n",
              "      <td>2017.000000</td>\n",
              "      <td>1.500000</td>\n",
              "      <td>3.000000</td>\n",
              "      <td>2.600000</td>\n",
              "      <td>1.000000</td>\n",
              "      <td>0.700000</td>\n",
              "      <td>35.700000</td>\n",
              "      <td>6.600000</td>\n",
              "      <td>220.800000</td>\n",
              "      <td>0.0</td>\n",
              "      <td>0.808073</td>\n",
              "      <td>2.900000</td>\n",
              "      <td>36.300000</td>\n",
              "      <td>18.000000</td>\n",
              "      <td>0.847970</td>\n",
              "      <td>0.026034</td>\n",
              "      <td>2.500000</td>\n",
              "      <td>0.000000</td>\n",
              "      <td>0.666667</td>\n",
              "      <td>3</td>\n",
              "    </tr>\n",
              "    <tr>\n",
              "      <th>4</th>\n",
              "      <td>Consulta por Legajo</td>\n",
              "      <td>2.066667</td>\n",
              "      <td>2.466667</td>\n",
              "      <td>3.600000</td>\n",
              "      <td>1.133333</td>\n",
              "      <td>2017.066667</td>\n",
              "      <td>1.800000</td>\n",
              "      <td>4.066667</td>\n",
              "      <td>0.400000</td>\n",
              "      <td>0.133333</td>\n",
              "      <td>0.733333</td>\n",
              "      <td>25.800000</td>\n",
              "      <td>4.800000</td>\n",
              "      <td>140.333333</td>\n",
              "      <td>0.0</td>\n",
              "      <td>0.799403</td>\n",
              "      <td>1.466667</td>\n",
              "      <td>25.333333</td>\n",
              "      <td>12.933333</td>\n",
              "      <td>0.900831</td>\n",
              "      <td>0.024661</td>\n",
              "      <td>1.800000</td>\n",
              "      <td>0.000000</td>\n",
              "      <td>0.666667</td>\n",
              "      <td>3</td>\n",
              "    </tr>\n",
              "    <tr>\n",
              "      <th>5</th>\n",
              "      <td>Consulta sobre Título Universitario</td>\n",
              "      <td>1.800000</td>\n",
              "      <td>3.400000</td>\n",
              "      <td>8.900000</td>\n",
              "      <td>1.600000</td>\n",
              "      <td>2016.200000</td>\n",
              "      <td>1.100000</td>\n",
              "      <td>2.700000</td>\n",
              "      <td>1.700000</td>\n",
              "      <td>1.000000</td>\n",
              "      <td>0.700000</td>\n",
              "      <td>22.700000</td>\n",
              "      <td>6.300000</td>\n",
              "      <td>253.100000</td>\n",
              "      <td>0.0</td>\n",
              "      <td>0.789879</td>\n",
              "      <td>3.800000</td>\n",
              "      <td>45.800000</td>\n",
              "      <td>24.400000</td>\n",
              "      <td>0.819777</td>\n",
              "      <td>0.023787</td>\n",
              "      <td>3.700000</td>\n",
              "      <td>0.100000</td>\n",
              "      <td>0.333333</td>\n",
              "      <td>3</td>\n",
              "    </tr>\n",
              "    <tr>\n",
              "      <th>6</th>\n",
              "      <td>Cursadas</td>\n",
              "      <td>1.906667</td>\n",
              "      <td>2.413333</td>\n",
              "      <td>4.693333</td>\n",
              "      <td>1.293333</td>\n",
              "      <td>2017.613333</td>\n",
              "      <td>1.733333</td>\n",
              "      <td>4.413333</td>\n",
              "      <td>1.186667</td>\n",
              "      <td>0.493333</td>\n",
              "      <td>0.853333</td>\n",
              "      <td>23.053333</td>\n",
              "      <td>5.533333</td>\n",
              "      <td>156.800000</td>\n",
              "      <td>0.0</td>\n",
              "      <td>0.802139</td>\n",
              "      <td>1.213333</td>\n",
              "      <td>28.493333</td>\n",
              "      <td>15.506667</td>\n",
              "      <td>0.892676</td>\n",
              "      <td>0.017356</td>\n",
              "      <td>1.840000</td>\n",
              "      <td>0.040000</td>\n",
              "      <td>0.894737</td>\n",
              "      <td>19</td>\n",
              "    </tr>\n",
              "    <tr>\n",
              "      <th>7</th>\n",
              "      <td>Datos Personales</td>\n",
              "      <td>2.666667</td>\n",
              "      <td>2.166667</td>\n",
              "      <td>5.333333</td>\n",
              "      <td>1.333333</td>\n",
              "      <td>2017.166667</td>\n",
              "      <td>2.000000</td>\n",
              "      <td>3.166667</td>\n",
              "      <td>1.333333</td>\n",
              "      <td>0.666667</td>\n",
              "      <td>0.833333</td>\n",
              "      <td>22.333333</td>\n",
              "      <td>5.833333</td>\n",
              "      <td>179.333333</td>\n",
              "      <td>0.0</td>\n",
              "      <td>0.797129</td>\n",
              "      <td>1.666667</td>\n",
              "      <td>30.666667</td>\n",
              "      <td>15.000000</td>\n",
              "      <td>0.845499</td>\n",
              "      <td>0.015330</td>\n",
              "      <td>1.500000</td>\n",
              "      <td>0.000000</td>\n",
              "      <td>0.000000</td>\n",
              "      <td>2</td>\n",
              "    </tr>\n",
              "    <tr>\n",
              "      <th>8</th>\n",
              "      <td>Exámenes</td>\n",
              "      <td>2.277778</td>\n",
              "      <td>2.555556</td>\n",
              "      <td>6.333333</td>\n",
              "      <td>1.333333</td>\n",
              "      <td>2017.277778</td>\n",
              "      <td>1.666667</td>\n",
              "      <td>4.722222</td>\n",
              "      <td>2.111111</td>\n",
              "      <td>0.833333</td>\n",
              "      <td>0.777778</td>\n",
              "      <td>24.277778</td>\n",
              "      <td>6.055556</td>\n",
              "      <td>156.277778</td>\n",
              "      <td>0.0</td>\n",
              "      <td>0.798328</td>\n",
              "      <td>1.888889</td>\n",
              "      <td>28.000000</td>\n",
              "      <td>14.611111</td>\n",
              "      <td>0.896780</td>\n",
              "      <td>0.022079</td>\n",
              "      <td>1.500000</td>\n",
              "      <td>0.000000</td>\n",
              "      <td>0.600000</td>\n",
              "      <td>5</td>\n",
              "    </tr>\n",
              "    <tr>\n",
              "      <th>9</th>\n",
              "      <td>Ingreso a la Universidad</td>\n",
              "      <td>2.288889</td>\n",
              "      <td>2.511111</td>\n",
              "      <td>6.518519</td>\n",
              "      <td>1.488889</td>\n",
              "      <td>2017.711111</td>\n",
              "      <td>1.555556</td>\n",
              "      <td>5.000000</td>\n",
              "      <td>0.111111</td>\n",
              "      <td>0.059259</td>\n",
              "      <td>0.851852</td>\n",
              "      <td>19.511111</td>\n",
              "      <td>5.474074</td>\n",
              "      <td>159.792593</td>\n",
              "      <td>0.0</td>\n",
              "      <td>0.799018</td>\n",
              "      <td>1.533333</td>\n",
              "      <td>29.429630</td>\n",
              "      <td>16.837037</td>\n",
              "      <td>0.885470</td>\n",
              "      <td>0.017181</td>\n",
              "      <td>1.911111</td>\n",
              "      <td>0.000000</td>\n",
              "      <td>0.787879</td>\n",
              "      <td>33</td>\n",
              "    </tr>\n",
              "    <tr>\n",
              "      <th>10</th>\n",
              "      <td>Pedido de Certificados</td>\n",
              "      <td>1.983051</td>\n",
              "      <td>2.728814</td>\n",
              "      <td>6.152542</td>\n",
              "      <td>1.440678</td>\n",
              "      <td>2017.186441</td>\n",
              "      <td>1.474576</td>\n",
              "      <td>2.610169</td>\n",
              "      <td>1.305085</td>\n",
              "      <td>0.915254</td>\n",
              "      <td>0.898305</td>\n",
              "      <td>18.813559</td>\n",
              "      <td>6.711864</td>\n",
              "      <td>153.559322</td>\n",
              "      <td>0.0</td>\n",
              "      <td>0.815374</td>\n",
              "      <td>0.881356</td>\n",
              "      <td>26.322034</td>\n",
              "      <td>13.474576</td>\n",
              "      <td>0.887084</td>\n",
              "      <td>0.020437</td>\n",
              "      <td>1.949153</td>\n",
              "      <td>0.000000</td>\n",
              "      <td>1.000000</td>\n",
              "      <td>15</td>\n",
              "    </tr>\n",
              "    <tr>\n",
              "      <th>11</th>\n",
              "      <td>Problemas con la Clave</td>\n",
              "      <td>2.131868</td>\n",
              "      <td>2.362637</td>\n",
              "      <td>5.967033</td>\n",
              "      <td>1.373626</td>\n",
              "      <td>2017.758242</td>\n",
              "      <td>1.340659</td>\n",
              "      <td>3.538462</td>\n",
              "      <td>2.197802</td>\n",
              "      <td>0.967033</td>\n",
              "      <td>0.890110</td>\n",
              "      <td>21.043956</td>\n",
              "      <td>6.252747</td>\n",
              "      <td>136.703297</td>\n",
              "      <td>0.0</td>\n",
              "      <td>0.802751</td>\n",
              "      <td>0.604396</td>\n",
              "      <td>25.252747</td>\n",
              "      <td>13.846154</td>\n",
              "      <td>0.894080</td>\n",
              "      <td>0.017852</td>\n",
              "      <td>1.868132</td>\n",
              "      <td>0.010989</td>\n",
              "      <td>0.826087</td>\n",
              "      <td>23</td>\n",
              "    </tr>\n",
              "    <tr>\n",
              "      <th>12</th>\n",
              "      <td>Reincorporación</td>\n",
              "      <td>2.674419</td>\n",
              "      <td>2.488372</td>\n",
              "      <td>3.953488</td>\n",
              "      <td>1.093023</td>\n",
              "      <td>2017.906977</td>\n",
              "      <td>1.558140</td>\n",
              "      <td>2.558140</td>\n",
              "      <td>1.325581</td>\n",
              "      <td>0.906977</td>\n",
              "      <td>0.930233</td>\n",
              "      <td>19.186047</td>\n",
              "      <td>6.720930</td>\n",
              "      <td>174.023256</td>\n",
              "      <td>0.0</td>\n",
              "      <td>0.804569</td>\n",
              "      <td>1.534884</td>\n",
              "      <td>30.976744</td>\n",
              "      <td>17.023256</td>\n",
              "      <td>0.883299</td>\n",
              "      <td>0.020841</td>\n",
              "      <td>1.720930</td>\n",
              "      <td>0.000000</td>\n",
              "      <td>0.636364</td>\n",
              "      <td>11</td>\n",
              "    </tr>\n",
              "    <tr>\n",
              "      <th>13</th>\n",
              "      <td>Requisitos de Ingreso</td>\n",
              "      <td>1.734694</td>\n",
              "      <td>2.632653</td>\n",
              "      <td>5.224490</td>\n",
              "      <td>1.326531</td>\n",
              "      <td>2017.897959</td>\n",
              "      <td>1.459184</td>\n",
              "      <td>5.938776</td>\n",
              "      <td>1.704082</td>\n",
              "      <td>0.540816</td>\n",
              "      <td>0.846939</td>\n",
              "      <td>25.602041</td>\n",
              "      <td>5.040816</td>\n",
              "      <td>188.622449</td>\n",
              "      <td>0.0</td>\n",
              "      <td>0.803635</td>\n",
              "      <td>1.285714</td>\n",
              "      <td>33.500000</td>\n",
              "      <td>18.142857</td>\n",
              "      <td>0.877912</td>\n",
              "      <td>0.018947</td>\n",
              "      <td>2.000000</td>\n",
              "      <td>0.000000</td>\n",
              "      <td>0.791667</td>\n",
              "      <td>24</td>\n",
              "    </tr>\n",
              "    <tr>\n",
              "      <th>14</th>\n",
              "      <td>Simultaneidad de Carreras</td>\n",
              "      <td>1.000000</td>\n",
              "      <td>2.833333</td>\n",
              "      <td>5.000000</td>\n",
              "      <td>1.333333</td>\n",
              "      <td>2017.166667</td>\n",
              "      <td>1.666667</td>\n",
              "      <td>3.000000</td>\n",
              "      <td>0.833333</td>\n",
              "      <td>0.666667</td>\n",
              "      <td>0.666667</td>\n",
              "      <td>18.666667</td>\n",
              "      <td>8.500000</td>\n",
              "      <td>252.833333</td>\n",
              "      <td>0.0</td>\n",
              "      <td>0.796052</td>\n",
              "      <td>1.500000</td>\n",
              "      <td>44.166667</td>\n",
              "      <td>25.166667</td>\n",
              "      <td>0.816220</td>\n",
              "      <td>0.025204</td>\n",
              "      <td>3.166667</td>\n",
              "      <td>0.000000</td>\n",
              "      <td>0.000000</td>\n",
              "      <td>1</td>\n",
              "    </tr>\n",
              "    <tr>\n",
              "      <th>15</th>\n",
              "      <td>Situación Académica</td>\n",
              "      <td>2.863636</td>\n",
              "      <td>2.590909</td>\n",
              "      <td>7.545455</td>\n",
              "      <td>1.545455</td>\n",
              "      <td>2017.000000</td>\n",
              "      <td>1.545455</td>\n",
              "      <td>4.681818</td>\n",
              "      <td>2.318182</td>\n",
              "      <td>0.954545</td>\n",
              "      <td>0.681818</td>\n",
              "      <td>24.590909</td>\n",
              "      <td>5.909091</td>\n",
              "      <td>207.000000</td>\n",
              "      <td>0.0</td>\n",
              "      <td>0.795215</td>\n",
              "      <td>2.090909</td>\n",
              "      <td>37.181818</td>\n",
              "      <td>20.090909</td>\n",
              "      <td>0.853236</td>\n",
              "      <td>0.018947</td>\n",
              "      <td>2.227273</td>\n",
              "      <td>0.000000</td>\n",
              "      <td>0.333333</td>\n",
              "      <td>6</td>\n",
              "    </tr>\n",
              "  </tbody>\n",
              "</table>\n",
              "</div>"
            ],
            "text/plain": [
              "                                  clase  dia_semana  ...  accuracy  count\n",
              "0                  Boleto Universitario    2.010363  ...  0.979167     48\n",
              "1                     Cambio de Carrera    2.636364  ...  0.000000      2\n",
              "2                    Cambio de Comisión    3.375000  ...  0.000000      2\n",
              "3            Consulta por Equivalencias    2.300000  ...  0.666667      3\n",
              "4                   Consulta por Legajo    2.066667  ...  0.666667      3\n",
              "5   Consulta sobre Título Universitario    1.800000  ...  0.333333      3\n",
              "6                              Cursadas    1.906667  ...  0.894737     19\n",
              "7                      Datos Personales    2.666667  ...  0.000000      2\n",
              "8                              Exámenes    2.277778  ...  0.600000      5\n",
              "9              Ingreso a la Universidad    2.288889  ...  0.787879     33\n",
              "10               Pedido de Certificados    1.983051  ...  1.000000     15\n",
              "11               Problemas con la Clave    2.131868  ...  0.826087     23\n",
              "12                      Reincorporación    2.674419  ...  0.636364     11\n",
              "13                Requisitos de Ingreso    1.734694  ...  0.791667     24\n",
              "14            Simultaneidad de Carreras    1.000000  ...  0.000000      1\n",
              "15                  Situación Académica    2.863636  ...  0.333333      6\n",
              "\n",
              "[16 rows x 25 columns]"
            ]
          },
          "metadata": {},
          "execution_count": 61
        }
      ]
    },
    {
      "cell_type": "code",
      "metadata": {
        "id": "NRKtSNPr63Oo",
        "colab": {
          "base_uri": "https://localhost:8080/",
          "height": 302
        },
        "outputId": "5a924b93-7441-4a67-88d7-d86924289c5f"
      },
      "source": [
        "import seaborn as sns\n",
        "sns.set_theme(style=\"ticks\")\n",
        "\n",
        "sns.scatterplot(data=df_error, x=\"count\", y=\"accuracy\", hue=\"count\", size=\"count\")"
      ],
      "execution_count": 62,
      "outputs": [
        {
          "output_type": "execute_result",
          "data": {
            "text/plain": [
              "<matplotlib.axes._subplots.AxesSubplot at 0x7fb890c32c50>"
            ]
          },
          "metadata": {},
          "execution_count": 62
        },
        {
          "output_type": "display_data",
          "data": {
            "image/png": "[encoded data removed]",
            "text/plain": [
              "<Figure size 432x288 with 1 Axes>"
            ]
          },
          "metadata": {}
        }
      ]
    },
    {
      "cell_type": "markdown",
      "metadata": {
        "id": "0a1K2447qjxE"
      },
      "source": [
        "## Referencias\n",
        "- https://scikit-learn.org/stable/modules/generated/sklearn.model_selection.GridSearchCV.html\n",
        "- https://medium.com/analytics-vidhya/ml-pipelines-using-scikit-learn-and-gridsearchcv-fe605a7f9e05"
      ]
    }
  ]
}