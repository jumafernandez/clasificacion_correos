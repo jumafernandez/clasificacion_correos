{
  "nbformat": 4,
  "nbformat_minor": 0,
  "metadata": {
    "colab": {
      "name": "05-ensamble+svm.ipynb",
      "provenance": [],
      "collapsed_sections": [],
      "toc_visible": true,
      "include_colab_link": true
    },
    "kernelspec": {
      "display_name": "Python 3",
      "name": "python3"
    }
  },
  "cells": [
    {
      "cell_type": "markdown",
      "metadata": {
        "id": "view-in-github",
        "colab_type": "text"
      },
      "source": [
        "<a href=\"https://colab.research.google.com/github/jumafernandez/clasificacion_correos/blob/main/notebooks/jaiio/03-modelos/05-ensamble%2Bsvm.ipynb\" target=\"_parent\"><img src=\"https://colab.research.google.com/assets/colab-badge.svg\" alt=\"Open In Colab\"/></a>"
      ]
    },
    {
      "cell_type": "markdown",
      "metadata": {
        "id": "5DuUrVBgeUso"
      },
      "source": [
        "# Sistema de votación (LR+SS3+TFIDF) + SVM\n",
        "\n",
        "En esta notebook se presetan los experimentos a partir de los datos etiquetados automáticamente a partir de las _features_ extraidas del train dataset con todas las estrategias + la construcción de un clasificador con SVM.\n",
        "\n",
        "Para ello vamos a preprocesar los correos y aplicar:\n",
        "- Bag of words,\n",
        "- Pesado binario/no binario,\n",
        "- Máquina de vector soporte (SVM).\n"
      ]
    },
    {
      "cell_type": "markdown",
      "metadata": {
        "id": "LC29-nnEqmXI"
      },
      "source": [
        "## 0. Configuración de la ejecución\n",
        "\n",
        "A continuación se genera la configuración de las estrategias que integrarán el sistema de votación para la obtención de instancias:"
      ]
    },
    {
      "cell_type": "code",
      "metadata": {
        "id": "gLm7kOaOrIGs"
      },
      "source": [
        "# Posibilidades : lr, ss3, tfidf\n",
        "# Combinaciones:\n",
        "# lr-ss3\n",
        "# lr-tfidf\n",
        "# ss3-tfidf\n",
        "# lr-ss3-tfidf\n",
        "\n",
        "estrategias_feature_extraction = ['lr', 'tfidf']\n",
        "ACUMULTATIVO = False\n",
        "\n",
        "# Para el sistema de votación queda fijo\n",
        "CANTIDAD_INSTANCIAS = 100"
      ],
      "execution_count": 1,
      "outputs": []
    },
    {
      "cell_type": "markdown",
      "metadata": {
        "id": "4D4Zpxhs3OKR"
      },
      "source": [
        "Se definen algunas características fijas:"
      ]
    },
    {
      "cell_type": "code",
      "metadata": {
        "id": "K2FEE93duakY"
      },
      "source": [
        "# El archivo de test y el train con etiquetado manual es siempre el mismo\n",
        "TEST_FILE = 'correos-test-jaiio-20.csv'\n",
        "TRAIN_FILE_MANUAL = 'correos-train-jaiio-80.csv'\n",
        "atributos_df = ['consulta', 'dia_semana', 'semana_del_mes', 'mes', 'cuatrimestre',\n",
        "                  'anio', 'hora_discretizada', 'dni_discretizado', 'legajo_discretizado',\n",
        "                  'posee_legajo', 'posee_telefono', 'carrera_valor', 'proveedor_correo',\n",
        "                  'cantidad_caracteres', 'proporcion_mayusculas', 'proporcion_letras',\n",
        "                  'cantidad_tildes', 'cantidad_palabras', 'cantidad_palabras_cortas',\n",
        "                  'proporcion_palabras_distintas', 'frecuencia_signos_puntuacion',\n",
        "                  'cantidad_oraciones', 'utiliza_codigo_asignatura', 'score', 'clase_e0']"
      ],
      "execution_count": 2,
      "outputs": []
    },
    {
      "cell_type": "markdown",
      "metadata": {
        "id": "gnCRBjnD3SBJ"
      },
      "source": [
        "Y se generan los datos en función de la cantidad de estrategias a utilizar:"
      ]
    },
    {
      "cell_type": "code",
      "metadata": {
        "colab": {
          "base_uri": "https://localhost:8080/"
        },
        "id": "1kOC3LVy3SPT",
        "outputId": "14737920-dd15-45e2-e565-864eb1a5ac59"
      },
      "source": [
        "# Se genera el nombre del archivo de instancias a ejecutar en función de las estrategias\n",
        "TRAIN_FILE_E0 = f'dataset-{estrategias_feature_extraction[0]}-200-prep.csv'\n",
        "texto = f'Los dataset a utilizar son: \\n\\t{TRAIN_FILE_E0}'\n",
        "\n",
        "# En caso que se realice el ensamble entre las 2 estrategias\n",
        "if len(estrategias_feature_extraction)>=2:\n",
        "  TRAIN_FILE_E1 = f'dataset-{estrategias_feature_extraction[1]}-200-prep.csv'\n",
        "  texto = texto + f'\\n\\t{TRAIN_FILE_E1}'\n",
        "  # Se define el if para que ante reiteradas ejecuciones de la notebook no se vuelva a insertar\n",
        "  if 'clase_e1' not in atributos_df:\n",
        "    atributos_df.append('clase_e1')\n",
        "\n",
        "# En caso que se realice el ensamble entre las 3 estrategias\n",
        "if len(estrategias_feature_extraction)==3:\n",
        "  TRAIN_FILE_E2 = f'dataset-{estrategias_feature_extraction[2]}-200-prep.csv'\n",
        "  texto = texto + f'\\n\\t{TRAIN_FILE_E2}' \n",
        "  # Se define el if para que ante reiteradas ejecuciones de la notebook no se vuelva a insertar\n",
        "  if 'clase_e2' not in atributos_df:\n",
        "    atributos_df.append('clase_e2')\n",
        "\n",
        "print(texto)"
      ],
      "execution_count": 3,
      "outputs": [
        {
          "output_type": "stream",
          "text": [
            "Los dataset a utilizar son: \n",
            "\tdataset-lr-200-prep.csv \n",
            "\tdataset-tfidf-200-prep.csv\n"
          ],
          "name": "stdout"
        }
      ]
    },
    {
      "cell_type": "markdown",
      "metadata": {
        "id": "FBLanwDJVnFF"
      },
      "source": [
        "## 1. Instalación y Carga de librerías y funciones útiles"
      ]
    },
    {
      "cell_type": "markdown",
      "metadata": {
        "id": "3-dNi6mDUZnb"
      },
      "source": [
        "### 1.1 Instalación de librerías\n",
        "\n",
        "Se instalan las librerías que no están en el entorno de Google Colab:"
      ]
    },
    {
      "cell_type": "code",
      "metadata": {
        "colab": {
          "base_uri": "https://localhost:8080/"
        },
        "id": "644uDER_VnXj",
        "outputId": "e9579491-9d1d-4e64-fc23-8b34d8945288"
      },
      "source": [
        "# Se instala gensim que es el que tiene el modelo Word2Vec\n",
        "!pip install requests\n",
        "!pip install wget"
      ],
      "execution_count": 4,
      "outputs": [
        {
          "output_type": "stream",
          "text": [
            "Requirement already satisfied: requests in /usr/local/lib/python3.7/dist-packages (2.23.0)\n",
            "Requirement already satisfied: certifi>=2017.4.17 in /usr/local/lib/python3.7/dist-packages (from requests) (2021.5.30)\n",
            "Requirement already satisfied: chardet<4,>=3.0.2 in /usr/local/lib/python3.7/dist-packages (from requests) (3.0.4)\n",
            "Requirement already satisfied: idna<3,>=2.5 in /usr/local/lib/python3.7/dist-packages (from requests) (2.10)\n",
            "Requirement already satisfied: urllib3!=1.25.0,!=1.25.1,<1.26,>=1.21.1 in /usr/local/lib/python3.7/dist-packages (from requests) (1.24.3)\n",
            "Requirement already satisfied: wget in /usr/local/lib/python3.7/dist-packages (3.2)\n"
          ],
          "name": "stdout"
        }
      ]
    },
    {
      "cell_type": "markdown",
      "metadata": {
        "id": "43fDuhK2V1kx"
      },
      "source": [
        "### 1.2 Funciones útiles\n",
        "\n",
        "Se cargan funciones útiles desde el repo https://github.com/jumafernandez/clasificacion_correos para la carga y balanceo del dataset."
      ]
    },
    {
      "cell_type": "code",
      "metadata": {
        "id": "oQvZz035bSMf"
      },
      "source": [
        "import requests\n",
        "\n",
        "# Se hace el request del raw del script python\n",
        "url = 'https://raw.githubusercontent.com/jumafernandez/clasificacion_correos/main/scripts/funciones_dataset.py'\n",
        "r = requests.get(url)\n",
        "\n",
        "# Se guarda en el working directory\n",
        "with open('funciones_dataset.py', 'w') as f:\n",
        "    f.write(r.text)\n",
        "\n",
        "# Se importan las funciones a utilizar\n",
        "from funciones_dataset import get_clases, cargar_dataset, consolidar_df, generar_train_test_set"
      ],
      "execution_count": 5,
      "outputs": []
    },
    {
      "cell_type": "markdown",
      "metadata": {
        "id": "MDxjaGIfV-rT"
      },
      "source": [
        "También se carga la función para preprocesar el texto que se usó en los otros modelos desde el repo: https://github.com/jumafernandez/clasificacion_correos."
      ]
    },
    {
      "cell_type": "code",
      "metadata": {
        "id": "o0o2NndLWDVC"
      },
      "source": [
        "import requests\n",
        "\n",
        "# Se hace el request del raw del script python\n",
        "url = 'https://raw.githubusercontent.com/jumafernandez/clasificacion_correos/main/scripts/funciones_preprocesamiento.py'\n",
        "r = requests.get(url)\n",
        "\n",
        "# Se guarda en el working directory\n",
        "with open('funciones_preprocesamiento.py', 'w') as f:\n",
        "    f.write(r.text)\n",
        "\n",
        "# Se importan las funciones a utilizar\n",
        "from funciones_preprocesamiento import preprocesar_correos"
      ],
      "execution_count": 6,
      "outputs": []
    },
    {
      "cell_type": "markdown",
      "metadata": {
        "id": "-uv6R5UQWWmE"
      },
      "source": [
        "### 1.3. Carga de datos"
      ]
    },
    {
      "cell_type": "markdown",
      "metadata": {
        "id": "BdGnbPiUk-mS"
      },
      "source": [
        "Cargo la librería warnings para no mostrar las advertencias, pandas para el manejo de df y os para verificar la existencia de los archivos en la carga de datos. Además, cargo en memoria la URL de base de los datasets y una lista de las etiquetas de las distintas clases:"
      ]
    },
    {
      "cell_type": "code",
      "metadata": {
        "id": "3TsEFWTAk_qc"
      },
      "source": [
        "import warnings\n",
        "import pandas as pd\n",
        "from os import path\n",
        "warnings.filterwarnings(\"ignore\")\n",
        "\n",
        "# Constantes con los datos\n",
        "DS_DIR = 'https://raw.githubusercontent.com/jumafernandez/clasificacion_correos/main/data/50jaiio/consolidados/'\n",
        "\n",
        "# Defino las clases y la cantidad a utilizar\n",
        "etiquetas = get_clases()\n",
        "CANTIDAD_CLASES = len(etiquetas)"
      ],
      "execution_count": 7,
      "outputs": []
    },
    {
      "cell_type": "markdown",
      "metadata": {
        "id": "tuWVxIdck-v5"
      },
      "source": [
        "Se cargan los dataframes de las estrategias seleccionadas en memoria con el preprocesamiento de los datos:"
      ]
    },
    {
      "cell_type": "code",
      "metadata": {
        "colab": {
          "base_uri": "https://localhost:8080/"
        },
        "id": "MP4lJ_KVvBSO",
        "outputId": "6fc5855a-c52a-4ca3-89f1-5874e3792901"
      },
      "source": [
        "# Chequeo sobre si los archivos están en el working directory\n",
        "download_files = not(path.exists(TRAIN_FILE_E0))\n",
        "\n",
        "df_e0, test_df, etiquetas = cargar_dataset(DS_DIR, TRAIN_FILE_E0, TEST_FILE, download_files, 'clase', etiquetas, CANTIDAD_CLASES, 'Otras Consultas')\n",
        "\n",
        "# Se ejecuta el preprocesamiento de correos sobre el campo Consulta de train y test\n",
        "df_e0['consulta'] = pd.Series(preprocesar_correos(df_e0['consulta']))\n",
        "test_df['consulta'] = pd.Series(preprocesar_correos(test_df['consulta']))\n",
        "\n",
        "# Muestro salida por consola\n",
        "print('Existen {} clases: {}.'.format(len(df_e0.clase.unique()), df_e0.clase.unique()))\n",
        "\n",
        "# Me quedo con las N cantidad de instancias con mayor score por clase\n",
        "if CANTIDAD_INSTANCIAS<200:\n",
        "  df_e0 = df_e0.sort_values(['clase','score'], ascending=False).groupby('clase').head(CANTIDAD_INSTANCIAS).reset_index(drop=True)\n",
        "  df_e0 = df_e0.sample(frac = 1)"
      ],
      "execution_count": 8,
      "outputs": [
        {
          "output_type": "stream",
          "text": [
            "\n",
            "El conjunto de entrenamiento tiene la dimensión: (3200, 25)\n",
            "El conjunto de testeo tiene la dimensión: (200, 24)\n",
            "Existen 16 clases: ['Boleto Universitario' 'Cambio de Carrera' 'Cambio de Comisión'\n",
            " 'Consulta por Equivalencias' 'Consulta por Legajo'\n",
            " 'Consulta sobre Título Universitario' 'Cursadas' 'Datos Personales'\n",
            " 'Exámenes' 'Ingreso a la Universidad' 'Pedido de Certificados'\n",
            " 'Problemas con la Clave' 'Reincorporación' 'Requisitos de Ingreso'\n",
            " 'Simultaneidad de Carreras' 'Situación Académica'].\n"
          ],
          "name": "stdout"
        }
      ]
    },
    {
      "cell_type": "code",
      "metadata": {
        "colab": {
          "base_uri": "https://localhost:8080/"
        },
        "id": "6BPhRHNBSYUW",
        "outputId": "2ac6f8a8-ea88-4b44-e00d-8fb2f18748f0"
      },
      "source": [
        "if len(estrategias_feature_extraction)>=2:\n",
        "  # Chequeo sobre si los archivos están en el working directory\n",
        "  download_files = not(path.exists(TRAIN_FILE_E1))\n",
        "\n",
        "  df_e1, test_df_e1, etiquetas = cargar_dataset(DS_DIR, TRAIN_FILE_E1, TEST_FILE, download_files, 'clase', etiquetas, CANTIDAD_CLASES, 'Otras Consultas')\n",
        "\n",
        "  # Se ejecuta el preprocesamiento de correos sobre el campo Consulta de train y test\n",
        "  df_e1['consulta'] = pd.Series(preprocesar_correos(df_e1['consulta']))\n",
        "\n",
        "  # Muestro salida por consola\n",
        "  print('Existen {} clases: {}.'.format(len(df_e1.clase.unique()), df_e1.clase.unique()))\n",
        "\n",
        "  # Me quedo con las N cantidad de instancias con mayor score por clase\n",
        "  if CANTIDAD_INSTANCIAS<200:\n",
        "    df_e1 = df_e1.sort_values(['clase','score'], ascending=False).groupby('clase').head(CANTIDAD_INSTANCIAS).reset_index(drop=True)\n",
        "    df_e1 = df_e1.sample(frac = 1)"
      ],
      "execution_count": 9,
      "outputs": [
        {
          "output_type": "stream",
          "text": [
            "\n",
            "El conjunto de entrenamiento tiene la dimensión: (3200, 25)\n",
            "El conjunto de testeo tiene la dimensión: (200, 24)\n",
            "Existen 16 clases: ['Boleto Universitario' 'Cambio de Carrera' 'Cambio de Comisión'\n",
            " 'Consulta por Equivalencias' 'Consulta por Legajo'\n",
            " 'Consulta sobre Título Universitario' 'Cursadas' 'Datos Personales'\n",
            " 'Exámenes' 'Ingreso a la Universidad' 'Pedido de Certificados'\n",
            " 'Problemas con la Clave' 'Reincorporación' 'Requisitos de Ingreso'\n",
            " 'Simultaneidad de Carreras' 'Situación Académica'].\n"
          ],
          "name": "stdout"
        }
      ]
    },
    {
      "cell_type": "markdown",
      "metadata": {
        "id": "KOJGQpwSkqCw"
      },
      "source": [
        "Solo en el caso que decida hacer el sistema de votación entre las 3 estrategias inicializo la tercera:"
      ]
    },
    {
      "cell_type": "code",
      "metadata": {
        "id": "p4OziqC3WjET"
      },
      "source": [
        "if len(estrategias_feature_extraction)==3:\n",
        "\n",
        "  # Chequeo sobre si los archivos están en el working directory\n",
        "  download_files = not(path.exists(TRAIN_FILE_E2))\n",
        "\n",
        "  df_e2, test_df_e2, etiquetas = cargar_dataset(DS_DIR, TRAIN_FILE_E2, TEST_FILE, download_files, 'clase', etiquetas, CANTIDAD_CLASES, 'Otras Consultas')\n",
        "\n",
        "  # Se ejecuta el preprocesamiento de correos sobre el campo Consulta de train y test\n",
        "  df_e2['consulta'] = pd.Series(preprocesar_correos(df_e2['consulta']))\n",
        "\n",
        "  # Muestro salida por consola\n",
        "  print('Existen {} clases: {}.'.format(len(df_e2.clase.unique()), df_e2.clase.unique()))\n",
        "\n",
        "  # Me quedo con las N cantidad de instancias con mayor score por clase\n",
        "  if CANTIDAD_INSTANCIAS<200:\n",
        "    df_e2 = df_e2.sort_values(['clase','score'], ascending=False).groupby('clase').head(CANTIDAD_INSTANCIAS).reset_index(drop=True)\n",
        "    df_e2 = df_e2.sample(frac = 1)"
      ],
      "execution_count": 10,
      "outputs": []
    },
    {
      "cell_type": "markdown",
      "metadata": {
        "id": "CD6F7H8Co80F"
      },
      "source": [
        "Verifico si voy a acumular los datos etiquetados manualmente a los de etiquetado no supervisado y en caso afirmativo los cargo en memoria:"
      ]
    },
    {
      "cell_type": "code",
      "metadata": {
        "id": "HjGj575EAKm9"
      },
      "source": [
        "if ACUMULTATIVO:\n",
        " \n",
        "  # Chequeo sobre si los archivos están en el working directory\n",
        "  download_files = not(path.exists(TRAIN_FILE_MANUAL))\n",
        "\n",
        "  train_df_manual, test_df_manual, etiquetas = cargar_dataset(DS_DIR, TRAIN_FILE_MANUAL, TEST_FILE, download_files, 'clase', etiquetas, CANTIDAD_CLASES, 'Otras Consultas')\n",
        "\n",
        "  # Se ejecuta el preprocesamiento de correos sobre el campo Consulta de train y test\n",
        "  train_df_manual['consulta'] = pd.Series(preprocesar_correos(train_df_manual['consulta']))\n",
        "\n",
        "  # Muestro salida por consola\n",
        "  print('Existen {} clases: {}.'.format(len(train_df_manual.clase.unique()), train_df_manual.clase.unique()))"
      ],
      "execution_count": 11,
      "outputs": []
    },
    {
      "cell_type": "markdown",
      "metadata": {
        "id": "3RXDYdtTsl31"
      },
      "source": [
        "### 1.4 Sistema de votación entre estrategias de _feature extraction_"
      ]
    },
    {
      "cell_type": "markdown",
      "metadata": {
        "id": "nfXzjTUVpIzM"
      },
      "source": [
        "En primer lugar, se joinea mediante el texto de la consulta las estrategias encaradas (según sean dos o tres):"
      ]
    },
    {
      "cell_type": "code",
      "metadata": {
        "id": "UtsZgzmTZPyG"
      },
      "source": [
        "import pandas as pd\n",
        "\n",
        "# Si se utiliza sólo 1 estrategia, se inicializa el df_join con solo esa\n",
        "if len(estrategias_feature_extraction)==1:\n",
        "  df_join = df_e0\n",
        "\n",
        "# Si se utilizan al menos 2 estrategias, se incorpora también la 2da\n",
        "if len(estrategias_feature_extraction)>=2:\n",
        "  df_join = pd.merge(df_e0, df_e1, on='consulta', how='left', suffixes=(None, \"_x\"))\n",
        "\n",
        "# Si están las 3 estrategias, se incorpora también la 3era\n",
        "if len(estrategias_feature_extraction)==3:\n",
        "  df_join = pd.merge(df_join, df_e2, on='consulta', how='left', suffixes=(None, \"_y\"))"
      ],
      "execution_count": 12,
      "outputs": []
    },
    {
      "cell_type": "markdown",
      "metadata": {
        "id": "ScMv6W-y4MbJ"
      },
      "source": [
        "Borro las instancias con faltantes y verifico el resultado la dimensionalidad del df:"
      ]
    },
    {
      "cell_type": "code",
      "metadata": {
        "colab": {
          "base_uri": "https://localhost:8080/"
        },
        "id": "ZA6GiR72ZaGi",
        "outputId": "b0303d1e-65d9-43bc-bcb8-3d6888ea1e7c"
      },
      "source": [
        "df_join = df_join.dropna()\n",
        "\n",
        "df_join.shape"
      ],
      "execution_count": 13,
      "outputs": [
        {
          "output_type": "execute_result",
          "data": {
            "text/plain": [
              "(701, 49)"
            ]
          },
          "metadata": {},
          "execution_count": 13
        }
      ]
    },
    {
      "cell_type": "code",
      "metadata": {
        "colab": {
          "base_uri": "https://localhost:8080/",
          "height": 530
        },
        "id": "GtNhv0fJvq2S",
        "outputId": "8e701579-c3cc-41d4-e30d-e9eb5e584792"
      },
      "source": [
        "df_join.head()"
      ],
      "execution_count": 14,
      "outputs": [
        {
          "output_type": "execute_result",
          "data": {
            "text/html": [
              "<div>\n",
              "<style scoped>\n",
              "    .dataframe tbody tr th:only-of-type {\n",
              "        vertical-align: middle;\n",
              "    }\n",
              "\n",
              "    .dataframe tbody tr th {\n",
              "        vertical-align: top;\n",
              "    }\n",
              "\n",
              "    .dataframe thead th {\n",
              "        text-align: right;\n",
              "    }\n",
              "</style>\n",
              "<table border=\"1\" class=\"dataframe\">\n",
              "  <thead>\n",
              "    <tr style=\"text-align: right;\">\n",
              "      <th></th>\n",
              "      <th>consulta</th>\n",
              "      <th>dia_semana</th>\n",
              "      <th>semana_del_mes</th>\n",
              "      <th>mes</th>\n",
              "      <th>cuatrimestre</th>\n",
              "      <th>anio</th>\n",
              "      <th>hora_discretizada</th>\n",
              "      <th>dni_discretizado</th>\n",
              "      <th>legajo_discretizado</th>\n",
              "      <th>posee_legajo</th>\n",
              "      <th>posee_telefono</th>\n",
              "      <th>carrera_valor</th>\n",
              "      <th>proveedor_correo</th>\n",
              "      <th>cantidad_caracteres</th>\n",
              "      <th>proporcion_mayusculas</th>\n",
              "      <th>proporcion_letras</th>\n",
              "      <th>cantidad_tildes</th>\n",
              "      <th>cantidad_palabras</th>\n",
              "      <th>cantidad_palabras_cortas</th>\n",
              "      <th>proporcion_palabras_distintas</th>\n",
              "      <th>frecuencia_signos_puntuacion</th>\n",
              "      <th>cantidad_oraciones</th>\n",
              "      <th>utiliza_codigo_asignatura</th>\n",
              "      <th>score</th>\n",
              "      <th>clase</th>\n",
              "      <th>dia_semana_x</th>\n",
              "      <th>semana_del_mes_x</th>\n",
              "      <th>mes_x</th>\n",
              "      <th>cuatrimestre_x</th>\n",
              "      <th>anio_x</th>\n",
              "      <th>hora_discretizada_x</th>\n",
              "      <th>dni_discretizado_x</th>\n",
              "      <th>legajo_discretizado_x</th>\n",
              "      <th>posee_legajo_x</th>\n",
              "      <th>posee_telefono_x</th>\n",
              "      <th>carrera_valor_x</th>\n",
              "      <th>proveedor_correo_x</th>\n",
              "      <th>cantidad_caracteres_x</th>\n",
              "      <th>proporcion_mayusculas_x</th>\n",
              "      <th>proporcion_letras_x</th>\n",
              "      <th>cantidad_tildes_x</th>\n",
              "      <th>cantidad_palabras_x</th>\n",
              "      <th>cantidad_palabras_cortas_x</th>\n",
              "      <th>proporcion_palabras_distintas_x</th>\n",
              "      <th>frecuencia_signos_puntuacion_x</th>\n",
              "      <th>cantidad_oraciones_x</th>\n",
              "      <th>utiliza_codigo_asignatura_x</th>\n",
              "      <th>score_x</th>\n",
              "      <th>clase_x</th>\n",
              "    </tr>\n",
              "  </thead>\n",
              "  <tbody>\n",
              "    <tr>\n",
              "      <th>1</th>\n",
              "      <td>inscribi dar final elementos aparece solicitud...</td>\n",
              "      <td>4</td>\n",
              "      <td>5</td>\n",
              "      <td>7</td>\n",
              "      <td>1</td>\n",
              "      <td>2016</td>\n",
              "      <td>2</td>\n",
              "      <td>7</td>\n",
              "      <td>3</td>\n",
              "      <td>1</td>\n",
              "      <td>1</td>\n",
              "      <td>25</td>\n",
              "      <td>18</td>\n",
              "      <td>226</td>\n",
              "      <td>0.0</td>\n",
              "      <td>0.787611</td>\n",
              "      <td>0</td>\n",
              "      <td>42</td>\n",
              "      <td>26</td>\n",
              "      <td>0.714286</td>\n",
              "      <td>0.022124</td>\n",
              "      <td>1</td>\n",
              "      <td>0</td>\n",
              "      <td>13.944246</td>\n",
              "      <td>Exámenes</td>\n",
              "      <td>4.0</td>\n",
              "      <td>5.0</td>\n",
              "      <td>7.0</td>\n",
              "      <td>1.0</td>\n",
              "      <td>2016.0</td>\n",
              "      <td>2.0</td>\n",
              "      <td>7.0</td>\n",
              "      <td>3.0</td>\n",
              "      <td>1.0</td>\n",
              "      <td>1.0</td>\n",
              "      <td>25.0</td>\n",
              "      <td>23.0</td>\n",
              "      <td>226.0</td>\n",
              "      <td>0.0</td>\n",
              "      <td>0.787611</td>\n",
              "      <td>0.0</td>\n",
              "      <td>42.0</td>\n",
              "      <td>26.0</td>\n",
              "      <td>0.714286</td>\n",
              "      <td>0.022124</td>\n",
              "      <td>1.0</td>\n",
              "      <td>0.0</td>\n",
              "      <td>21.248547</td>\n",
              "      <td>Exámenes</td>\n",
              "    </tr>\n",
              "    <tr>\n",
              "      <th>3</th>\n",
              "      <td>hola buenas tardes queria consultar cuanto per...</td>\n",
              "      <td>0</td>\n",
              "      <td>2</td>\n",
              "      <td>6</td>\n",
              "      <td>1</td>\n",
              "      <td>2017</td>\n",
              "      <td>3</td>\n",
              "      <td>6</td>\n",
              "      <td>3</td>\n",
              "      <td>1</td>\n",
              "      <td>1</td>\n",
              "      <td>5</td>\n",
              "      <td>18</td>\n",
              "      <td>238</td>\n",
              "      <td>0.0</td>\n",
              "      <td>0.810924</td>\n",
              "      <td>0</td>\n",
              "      <td>41</td>\n",
              "      <td>18</td>\n",
              "      <td>0.878049</td>\n",
              "      <td>0.021008</td>\n",
              "      <td>3</td>\n",
              "      <td>0</td>\n",
              "      <td>13.378724</td>\n",
              "      <td>Exámenes</td>\n",
              "      <td>0.0</td>\n",
              "      <td>2.0</td>\n",
              "      <td>6.0</td>\n",
              "      <td>1.0</td>\n",
              "      <td>2017.0</td>\n",
              "      <td>3.0</td>\n",
              "      <td>6.0</td>\n",
              "      <td>3.0</td>\n",
              "      <td>1.0</td>\n",
              "      <td>1.0</td>\n",
              "      <td>5.0</td>\n",
              "      <td>23.0</td>\n",
              "      <td>238.0</td>\n",
              "      <td>0.0</td>\n",
              "      <td>0.810924</td>\n",
              "      <td>0.0</td>\n",
              "      <td>41.0</td>\n",
              "      <td>18.0</td>\n",
              "      <td>0.878049</td>\n",
              "      <td>0.021008</td>\n",
              "      <td>3.0</td>\n",
              "      <td>0.0</td>\n",
              "      <td>30.215166</td>\n",
              "      <td>Exámenes</td>\n",
              "    </tr>\n",
              "    <tr>\n",
              "      <th>7</th>\n",
              "      <td>buen dia quisiera solicitar simultaneidad carr...</td>\n",
              "      <td>3</td>\n",
              "      <td>4</td>\n",
              "      <td>12</td>\n",
              "      <td>2</td>\n",
              "      <td>2018</td>\n",
              "      <td>1</td>\n",
              "      <td>4</td>\n",
              "      <td>2</td>\n",
              "      <td>1</td>\n",
              "      <td>1</td>\n",
              "      <td>54</td>\n",
              "      <td>18</td>\n",
              "      <td>129</td>\n",
              "      <td>0.0</td>\n",
              "      <td>0.798450</td>\n",
              "      <td>2</td>\n",
              "      <td>21</td>\n",
              "      <td>12</td>\n",
              "      <td>0.857143</td>\n",
              "      <td>0.046512</td>\n",
              "      <td>1</td>\n",
              "      <td>0</td>\n",
              "      <td>12.047333</td>\n",
              "      <td>Simultaneidad de Carreras</td>\n",
              "      <td>3.0</td>\n",
              "      <td>4.0</td>\n",
              "      <td>12.0</td>\n",
              "      <td>2.0</td>\n",
              "      <td>2018.0</td>\n",
              "      <td>1.0</td>\n",
              "      <td>4.0</td>\n",
              "      <td>2.0</td>\n",
              "      <td>1.0</td>\n",
              "      <td>1.0</td>\n",
              "      <td>54.0</td>\n",
              "      <td>23.0</td>\n",
              "      <td>129.0</td>\n",
              "      <td>0.0</td>\n",
              "      <td>0.798450</td>\n",
              "      <td>2.0</td>\n",
              "      <td>21.0</td>\n",
              "      <td>12.0</td>\n",
              "      <td>0.857143</td>\n",
              "      <td>0.046512</td>\n",
              "      <td>1.0</td>\n",
              "      <td>0.0</td>\n",
              "      <td>15.467730</td>\n",
              "      <td>Simultaneidad de Carreras</td>\n",
              "    </tr>\n",
              "    <tr>\n",
              "      <th>8</th>\n",
              "      <td>buen dia quisiera solicitar simultaneidad carr...</td>\n",
              "      <td>3</td>\n",
              "      <td>4</td>\n",
              "      <td>12</td>\n",
              "      <td>2</td>\n",
              "      <td>2018</td>\n",
              "      <td>1</td>\n",
              "      <td>4</td>\n",
              "      <td>2</td>\n",
              "      <td>1</td>\n",
              "      <td>1</td>\n",
              "      <td>54</td>\n",
              "      <td>18</td>\n",
              "      <td>129</td>\n",
              "      <td>0.0</td>\n",
              "      <td>0.798450</td>\n",
              "      <td>2</td>\n",
              "      <td>21</td>\n",
              "      <td>12</td>\n",
              "      <td>0.857143</td>\n",
              "      <td>0.046512</td>\n",
              "      <td>1</td>\n",
              "      <td>0</td>\n",
              "      <td>12.047333</td>\n",
              "      <td>Simultaneidad de Carreras</td>\n",
              "      <td>3.0</td>\n",
              "      <td>4.0</td>\n",
              "      <td>12.0</td>\n",
              "      <td>2.0</td>\n",
              "      <td>2018.0</td>\n",
              "      <td>1.0</td>\n",
              "      <td>4.0</td>\n",
              "      <td>2.0</td>\n",
              "      <td>1.0</td>\n",
              "      <td>1.0</td>\n",
              "      <td>54.0</td>\n",
              "      <td>23.0</td>\n",
              "      <td>129.0</td>\n",
              "      <td>0.0</td>\n",
              "      <td>0.798450</td>\n",
              "      <td>2.0</td>\n",
              "      <td>21.0</td>\n",
              "      <td>12.0</td>\n",
              "      <td>0.857143</td>\n",
              "      <td>0.046512</td>\n",
              "      <td>1.0</td>\n",
              "      <td>0.0</td>\n",
              "      <td>19.508636</td>\n",
              "      <td>Cambio de Carrera</td>\n",
              "    </tr>\n",
              "    <tr>\n",
              "      <th>12</th>\n",
              "      <td>buenos dias quisiera reinscribirme carrera pos...</td>\n",
              "      <td>4</td>\n",
              "      <td>4</td>\n",
              "      <td>6</td>\n",
              "      <td>1</td>\n",
              "      <td>2019</td>\n",
              "      <td>0</td>\n",
              "      <td>4</td>\n",
              "      <td>1</td>\n",
              "      <td>1</td>\n",
              "      <td>1</td>\n",
              "      <td>54</td>\n",
              "      <td>18</td>\n",
              "      <td>83</td>\n",
              "      <td>0.0</td>\n",
              "      <td>0.795181</td>\n",
              "      <td>0</td>\n",
              "      <td>12</td>\n",
              "      <td>4</td>\n",
              "      <td>1.000000</td>\n",
              "      <td>0.060241</td>\n",
              "      <td>1</td>\n",
              "      <td>0</td>\n",
              "      <td>8.897202</td>\n",
              "      <td>Cambio de Carrera</td>\n",
              "      <td>4.0</td>\n",
              "      <td>4.0</td>\n",
              "      <td>6.0</td>\n",
              "      <td>1.0</td>\n",
              "      <td>2019.0</td>\n",
              "      <td>0.0</td>\n",
              "      <td>3.0</td>\n",
              "      <td>1.0</td>\n",
              "      <td>1.0</td>\n",
              "      <td>1.0</td>\n",
              "      <td>54.0</td>\n",
              "      <td>23.0</td>\n",
              "      <td>83.0</td>\n",
              "      <td>0.0</td>\n",
              "      <td>0.795181</td>\n",
              "      <td>0.0</td>\n",
              "      <td>12.0</td>\n",
              "      <td>4.0</td>\n",
              "      <td>1.000000</td>\n",
              "      <td>0.060241</td>\n",
              "      <td>1.0</td>\n",
              "      <td>0.0</td>\n",
              "      <td>16.063390</td>\n",
              "      <td>Cambio de Carrera</td>\n",
              "    </tr>\n",
              "  </tbody>\n",
              "</table>\n",
              "</div>"
            ],
            "text/plain": [
              "                                             consulta  ...                    clase_x\n",
              "1   inscribi dar final elementos aparece solicitud...  ...                   Exámenes\n",
              "3   hola buenas tardes queria consultar cuanto per...  ...                   Exámenes\n",
              "7   buen dia quisiera solicitar simultaneidad carr...  ...  Simultaneidad de Carreras\n",
              "8   buen dia quisiera solicitar simultaneidad carr...  ...          Cambio de Carrera\n",
              "12  buenos dias quisiera reinscribirme carrera pos...  ...          Cambio de Carrera\n",
              "\n",
              "[5 rows x 49 columns]"
            ]
          },
          "metadata": {},
          "execution_count": 14
        }
      ]
    },
    {
      "cell_type": "markdown",
      "metadata": {
        "id": "eKK_XeCr4m59"
      },
      "source": [
        "Renombro las clases en función de las estrategias y me quedo sólo con las instancias en que la clase coincide:"
      ]
    },
    {
      "cell_type": "code",
      "metadata": {
        "colab": {
          "base_uri": "https://localhost:8080/"
        },
        "id": "xKfUF6_C4i2E",
        "outputId": "f2293e1e-e80f-46b5-8ee2-507f495cf0ea"
      },
      "source": [
        "if len(estrategias_feature_extraction)==3:\n",
        "  df_join.rename(columns={'clase_x': 'clase_e0', 'clase_y': 'clase_e1', 'clase': 'clase_e2'}, inplace=True)\n",
        "  df_join['match_clase'] = ((df_join['clase_e0'] == df_join['clase_e1']) & (df_join['clase_e1'] == df_join['clase_e2']))\n",
        "elif len(estrategias_feature_extraction)==2:\n",
        "  df_join.rename(columns={'clase': 'clase_e0', 'clase_x': 'clase_e1'}, inplace=True)\n",
        "  df_join['match_clase'] = df_join['clase_e0'] == df_join['clase_e1']\n",
        "elif len(estrategias_feature_extraction)==1:\n",
        "  df_join.rename(columns={'clase': 'clase_e0'}, inplace=True)\n",
        "  # Esto se hace por compatibilidad con las otras alternativas (2 y 3 estrategias)\n",
        "  df_join['match_clase'] = df_join['clase_e0'] == df_join['clase_e0']\n",
        " \n",
        "# Me quedo sólo con las instancias en que la clase coincide\n",
        "train_df_join = df_join.query('match_clase == True').reset_index()\n",
        "\n",
        "train_df_join.shape"
      ],
      "execution_count": 15,
      "outputs": [
        {
          "output_type": "execute_result",
          "data": {
            "text/plain": [
              "(503, 51)"
            ]
          },
          "metadata": {},
          "execution_count": 15
        }
      ]
    },
    {
      "cell_type": "markdown",
      "metadata": {
        "id": "phy2ZVCl4KoT"
      },
      "source": [
        "Me quedo solo con los atributos que me interesan (elimino duplicados):"
      ]
    },
    {
      "cell_type": "code",
      "metadata": {
        "colab": {
          "base_uri": "https://localhost:8080/"
        },
        "id": "ieGYeC6q4K0B",
        "outputId": "4f582576-07de-48d2-d057-d358e82e7106"
      },
      "source": [
        "train_df_join = train_df_join[atributos_df]\n",
        "\n",
        "train_df_join.columns"
      ],
      "execution_count": 16,
      "outputs": [
        {
          "output_type": "execute_result",
          "data": {
            "text/plain": [
              "Index(['consulta', 'dia_semana', 'semana_del_mes', 'mes', 'cuatrimestre',\n",
              "       'anio', 'hora_discretizada', 'dni_discretizado', 'legajo_discretizado',\n",
              "       'posee_legajo', 'posee_telefono', 'carrera_valor', 'proveedor_correo',\n",
              "       'cantidad_caracteres', 'proporcion_mayusculas', 'proporcion_letras',\n",
              "       'cantidad_tildes', 'cantidad_palabras', 'cantidad_palabras_cortas',\n",
              "       'proporcion_palabras_distintas', 'frecuencia_signos_puntuacion',\n",
              "       'cantidad_oraciones', 'utiliza_codigo_asignatura', 'score', 'clase_e0',\n",
              "       'clase_e1'],\n",
              "      dtype='object')"
            ]
          },
          "metadata": {},
          "execution_count": 16
        }
      ]
    },
    {
      "cell_type": "markdown",
      "metadata": {
        "id": "n-e0IcaYnf8f"
      },
      "source": [
        "Me quedo sólo con una columna de clase dado que son las 3 iguales:"
      ]
    },
    {
      "cell_type": "code",
      "metadata": {
        "colab": {
          "base_uri": "https://localhost:8080/"
        },
        "id": "1oezp0Fvk7QT",
        "outputId": "28db5d36-c92f-44aa-ce7f-88e06be6bab1"
      },
      "source": [
        "# Tomo una clase al azar, dado que coinciden las 3\n",
        "train_df_join.rename(columns={'clase_e0': 'clase'}, inplace=True)\n",
        "\n",
        "# Elimino las columnas que no necesito\n",
        "if len(estrategias_feature_extraction)>=2:\n",
        "  train_df_join.drop(['clase_e1'], inplace=True, axis=1)\n",
        "\n",
        "if len(estrategias_feature_extraction)==3:\n",
        "  train_df_join.drop(['clase_e2'], inplace=True, axis=1)\n",
        "\n",
        "train_df_join.shape"
      ],
      "execution_count": 17,
      "outputs": [
        {
          "output_type": "execute_result",
          "data": {
            "text/plain": [
              "(503, 25)"
            ]
          },
          "metadata": {},
          "execution_count": 17
        }
      ]
    },
    {
      "cell_type": "markdown",
      "metadata": {
        "id": "8IKK2WwlVLye"
      },
      "source": [
        "Me guardo la columna del score de Elasticsearch para no generar incompatibilidades:"
      ]
    },
    {
      "cell_type": "code",
      "metadata": {
        "id": "daumQbloVLNa"
      },
      "source": [
        "score = train_df_join['score']\n",
        "train_df_join.drop('score', inplace=True, axis=1)"
      ],
      "execution_count": 18,
      "outputs": []
    },
    {
      "cell_type": "code",
      "metadata": {
        "id": "V_WMVnGCAt66"
      },
      "source": [
        "if ACUMULTATIVO:\n",
        "  train_df = pd.concat([train_df_manual, train_df_join], axis=0).reset_index(drop=True)\n",
        "else:\n",
        "  train_df = train_df_join"
      ],
      "execution_count": 19,
      "outputs": []
    },
    {
      "cell_type": "markdown",
      "metadata": {
        "id": "-qdJuRmxoaXV"
      },
      "source": [
        "Muestro el dataframe resultante:"
      ]
    },
    {
      "cell_type": "code",
      "metadata": {
        "colab": {
          "base_uri": "https://localhost:8080/",
          "height": 530
        },
        "id": "-z_-PYK9nU_7",
        "outputId": "6afa78c1-e627-4331-a686-d6268b48a641"
      },
      "source": [
        "# pd.set_option('display.max_colwidth', None)\n",
        "# pd.set_option('display.max_rows', None)\n",
        "train_df.head()"
      ],
      "execution_count": 20,
      "outputs": [
        {
          "output_type": "execute_result",
          "data": {
            "text/html": [
              "<div>\n",
              "<style scoped>\n",
              "    .dataframe tbody tr th:only-of-type {\n",
              "        vertical-align: middle;\n",
              "    }\n",
              "\n",
              "    .dataframe tbody tr th {\n",
              "        vertical-align: top;\n",
              "    }\n",
              "\n",
              "    .dataframe thead th {\n",
              "        text-align: right;\n",
              "    }\n",
              "</style>\n",
              "<table border=\"1\" class=\"dataframe\">\n",
              "  <thead>\n",
              "    <tr style=\"text-align: right;\">\n",
              "      <th></th>\n",
              "      <th>consulta</th>\n",
              "      <th>dia_semana</th>\n",
              "      <th>semana_del_mes</th>\n",
              "      <th>mes</th>\n",
              "      <th>cuatrimestre</th>\n",
              "      <th>anio</th>\n",
              "      <th>hora_discretizada</th>\n",
              "      <th>dni_discretizado</th>\n",
              "      <th>legajo_discretizado</th>\n",
              "      <th>posee_legajo</th>\n",
              "      <th>posee_telefono</th>\n",
              "      <th>carrera_valor</th>\n",
              "      <th>proveedor_correo</th>\n",
              "      <th>cantidad_caracteres</th>\n",
              "      <th>proporcion_mayusculas</th>\n",
              "      <th>proporcion_letras</th>\n",
              "      <th>cantidad_tildes</th>\n",
              "      <th>cantidad_palabras</th>\n",
              "      <th>cantidad_palabras_cortas</th>\n",
              "      <th>proporcion_palabras_distintas</th>\n",
              "      <th>frecuencia_signos_puntuacion</th>\n",
              "      <th>cantidad_oraciones</th>\n",
              "      <th>utiliza_codigo_asignatura</th>\n",
              "      <th>clase</th>\n",
              "    </tr>\n",
              "  </thead>\n",
              "  <tbody>\n",
              "    <tr>\n",
              "      <th>0</th>\n",
              "      <td>inscribi dar final elementos aparece solicitud...</td>\n",
              "      <td>4</td>\n",
              "      <td>5</td>\n",
              "      <td>7</td>\n",
              "      <td>1</td>\n",
              "      <td>2016</td>\n",
              "      <td>2</td>\n",
              "      <td>7</td>\n",
              "      <td>3</td>\n",
              "      <td>1</td>\n",
              "      <td>1</td>\n",
              "      <td>25</td>\n",
              "      <td>18</td>\n",
              "      <td>226</td>\n",
              "      <td>0.0</td>\n",
              "      <td>0.787611</td>\n",
              "      <td>0</td>\n",
              "      <td>42</td>\n",
              "      <td>26</td>\n",
              "      <td>0.714286</td>\n",
              "      <td>0.022124</td>\n",
              "      <td>1</td>\n",
              "      <td>0</td>\n",
              "      <td>Exámenes</td>\n",
              "    </tr>\n",
              "    <tr>\n",
              "      <th>1</th>\n",
              "      <td>hola buenas tardes queria consultar cuanto per...</td>\n",
              "      <td>0</td>\n",
              "      <td>2</td>\n",
              "      <td>6</td>\n",
              "      <td>1</td>\n",
              "      <td>2017</td>\n",
              "      <td>3</td>\n",
              "      <td>6</td>\n",
              "      <td>3</td>\n",
              "      <td>1</td>\n",
              "      <td>1</td>\n",
              "      <td>5</td>\n",
              "      <td>18</td>\n",
              "      <td>238</td>\n",
              "      <td>0.0</td>\n",
              "      <td>0.810924</td>\n",
              "      <td>0</td>\n",
              "      <td>41</td>\n",
              "      <td>18</td>\n",
              "      <td>0.878049</td>\n",
              "      <td>0.021008</td>\n",
              "      <td>3</td>\n",
              "      <td>0</td>\n",
              "      <td>Exámenes</td>\n",
              "    </tr>\n",
              "    <tr>\n",
              "      <th>2</th>\n",
              "      <td>buen dia quisiera solicitar simultaneidad carr...</td>\n",
              "      <td>3</td>\n",
              "      <td>4</td>\n",
              "      <td>12</td>\n",
              "      <td>2</td>\n",
              "      <td>2018</td>\n",
              "      <td>1</td>\n",
              "      <td>4</td>\n",
              "      <td>2</td>\n",
              "      <td>1</td>\n",
              "      <td>1</td>\n",
              "      <td>54</td>\n",
              "      <td>18</td>\n",
              "      <td>129</td>\n",
              "      <td>0.0</td>\n",
              "      <td>0.798450</td>\n",
              "      <td>2</td>\n",
              "      <td>21</td>\n",
              "      <td>12</td>\n",
              "      <td>0.857143</td>\n",
              "      <td>0.046512</td>\n",
              "      <td>1</td>\n",
              "      <td>0</td>\n",
              "      <td>Simultaneidad de Carreras</td>\n",
              "    </tr>\n",
              "    <tr>\n",
              "      <th>3</th>\n",
              "      <td>buenos dias quisiera reinscribirme carrera pos...</td>\n",
              "      <td>4</td>\n",
              "      <td>4</td>\n",
              "      <td>6</td>\n",
              "      <td>1</td>\n",
              "      <td>2019</td>\n",
              "      <td>0</td>\n",
              "      <td>4</td>\n",
              "      <td>1</td>\n",
              "      <td>1</td>\n",
              "      <td>1</td>\n",
              "      <td>54</td>\n",
              "      <td>18</td>\n",
              "      <td>83</td>\n",
              "      <td>0.0</td>\n",
              "      <td>0.795181</td>\n",
              "      <td>0</td>\n",
              "      <td>12</td>\n",
              "      <td>4</td>\n",
              "      <td>1.000000</td>\n",
              "      <td>0.060241</td>\n",
              "      <td>1</td>\n",
              "      <td>0</td>\n",
              "      <td>Cambio de Carrera</td>\n",
              "    </tr>\n",
              "    <tr>\n",
              "      <th>4</th>\n",
              "      <td>buenas tardes necesito certificado materias cu...</td>\n",
              "      <td>0</td>\n",
              "      <td>4</td>\n",
              "      <td>6</td>\n",
              "      <td>1</td>\n",
              "      <td>2017</td>\n",
              "      <td>2</td>\n",
              "      <td>2</td>\n",
              "      <td>1</td>\n",
              "      <td>1</td>\n",
              "      <td>1</td>\n",
              "      <td>5</td>\n",
              "      <td>18</td>\n",
              "      <td>148</td>\n",
              "      <td>0.0</td>\n",
              "      <td>0.837838</td>\n",
              "      <td>0</td>\n",
              "      <td>22</td>\n",
              "      <td>9</td>\n",
              "      <td>0.909091</td>\n",
              "      <td>0.020270</td>\n",
              "      <td>2</td>\n",
              "      <td>0</td>\n",
              "      <td>Pedido de Certificados</td>\n",
              "    </tr>\n",
              "  </tbody>\n",
              "</table>\n",
              "</div>"
            ],
            "text/plain": [
              "                                            consulta  ...                      clase\n",
              "0  inscribi dar final elementos aparece solicitud...  ...                   Exámenes\n",
              "1  hola buenas tardes queria consultar cuanto per...  ...                   Exámenes\n",
              "2  buen dia quisiera solicitar simultaneidad carr...  ...  Simultaneidad de Carreras\n",
              "3  buenos dias quisiera reinscribirme carrera pos...  ...          Cambio de Carrera\n",
              "4  buenas tardes necesito certificado materias cu...  ...     Pedido de Certificados\n",
              "\n",
              "[5 rows x 24 columns]"
            ]
          },
          "metadata": {},
          "execution_count": 20
        }
      ]
    },
    {
      "cell_type": "markdown",
      "metadata": {
        "id": "17obw6uxVN21"
      },
      "source": [
        "## 2. SVM"
      ]
    },
    {
      "cell_type": "markdown",
      "metadata": {
        "id": "QOOwBxoYUoWC"
      },
      "source": [
        "### 2.1. Carga de librerías de procesamiento de texto\n",
        "\n",
        "Se cargan en memoria dos funciones: _grid_search_por_estrategia_representacion_ que va a iterar ajustando los hiperparámetros para las técnica de __SVM__ y _representacion_documentos_ que genera representaciones para las _features textuales_:"
      ]
    },
    {
      "cell_type": "code",
      "metadata": {
        "id": "8XF6H0BGX9F9"
      },
      "source": [
        "import requests\n",
        "\n",
        "# Se hace el request del raw del script python\n",
        "url = 'https://raw.githubusercontent.com/jumafernandez/clasificacion_correos/main/scripts/funciones_clasificacion_texto.py'\n",
        "r = requests.get(url)\n",
        "\n",
        "# Se guarda en el working directory\n",
        "with open('funciones_clasificacion_texto.py', 'w') as f:\n",
        "    f.write(r.text)\n",
        "\n",
        "# Se importan las funciones a utilizar\n",
        "from funciones_clasificacion_texto import gridsearch_por_estrategia_representacion, representacion_documentos"
      ],
      "execution_count": 21,
      "outputs": []
    },
    {
      "cell_type": "markdown",
      "metadata": {
        "id": "BR6VPw5NNYje"
      },
      "source": [
        "### 2.2 Modelo general (clasificación en las 16 clases)\n",
        "\n",
        "En primer lugar se trabaja con un único clasificador que clasifica y testea las instancias en las 16 clases posibles."
      ]
    },
    {
      "cell_type": "markdown",
      "metadata": {
        "id": "7kgPWXtpU_7v"
      },
      "source": [
        "#### 2.2.1 Definición del espacio de búsqueda\n",
        "\n",
        "Se define el espacio de búsqueda para el ajuste de hiperparámetros del modelo:"
      ]
    },
    {
      "cell_type": "code",
      "metadata": {
        "id": "k3TOc1GcX-rg"
      },
      "source": [
        "# Defino una lista con los esquemas de representación\n",
        "estrategias_representacion = ['BINARIO', 'TFIDF', '3-4-NGRAM-CHARS', '1-2-NGRAM-WORDS']\n",
        "modelo = 'SVM'\n",
        "\n",
        "# Defino los parámetros para GridSearchCV\n",
        "params_svm = {'SVM__C': [0.1, 1, 10, 100], \n",
        "              'SVM__gamma': [0.01, 0.1, 1],\n",
        "              'SVM__class_weight': [None, 'balanced'],\n",
        "              'SVM__kernel': ['rbf', 'linear', 'poly', 'sigmoid'],\n",
        "              'SVM__probability': [False]\n",
        "              }"
      ],
      "execution_count": 22,
      "outputs": []
    },
    {
      "cell_type": "markdown",
      "metadata": {
        "id": "lmnm8yPmYGAR"
      },
      "source": [
        "Se ejecuta el ajuste de hiperparámetros para cada estrategia de representación en función del espacio de búsqueda:"
      ]
    },
    {
      "cell_type": "code",
      "metadata": {
        "id": "lFSOquuAYGPK",
        "colab": {
          "base_uri": "https://localhost:8080/"
        },
        "outputId": "28c6dd0e-1694-4a00-d196-55b271a6c283"
      },
      "source": [
        "modelos_grid = []\n",
        "representacion_grid = []\n",
        "metricas_grid = []\n",
        "NO_CORRIDA = True\n",
        "\n",
        "if NO_CORRIDA:\n",
        "  for estrategia in estrategias_representacion:\n",
        "    # Llamo a la función que realiza el gridsearch por estrategia  \n",
        "    clf_grid, X_test_g, y_test_g, metrics_grid = gridsearch_por_estrategia_representacion(train_df, test_df, estrategia, modelo, params_svm, None, atr_consulta='consulta')\n",
        "    modelos_grid.append(clf_grid)\n",
        "    representacion_grid.append(estrategia)\n",
        "    metricas_grid.append(metrics_grid)\n",
        "\n",
        "# ['lr', 'tfidf']\n",
        "# Métricas sobre Test-Set: {'SVM__C': 10, 'SVM__class_weight': None, 'SVM__gamma': 0.01, 'SVM__kernel': 'rbf', 'clasificador': 'SVM', 'estrategia': 'BINARIO', 'accuracy': 0.795, 'precision': 0.7967703533026114, 'recall': 0.795, 'f1_score': 0.789165448506101}\n",
        "# Métricas sobre Test-Set: {'SVM__C': 10, 'SVM__class_weight': 'balanced', 'SVM__gamma': 0.01, 'SVM__kernel': 'rbf', 'clasificador': 'SVM', 'estrategia': 'TFIDF', 'accuracy': 0.78, 'precision': 0.8076557773744707, 'recall': 0.78, 'f1_score': 0.788321119391772}\n",
        "# Métricas sobre Test-Set: {'SVM__C': 1, 'SVM__class_weight': 'balanced', 'SVM__gamma': 0.01, 'SVM__kernel': 'sigmoid', 'clasificador': 'SVM', 'estrategia': '3-4-NGRAM-CHARS', 'accuracy': 0.835, 'precision': 0.866807546108862, 'recall': 0.835, 'f1_score': 0.842616215602101}\n"
      ],
      "execution_count": 23,
      "outputs": [
        {
          "metadata": {
            "tags": null
          },
          "name": "stdout",
          "output_type": "stream",
          "text": [
            "Estrategia de representación: BINARIO\n",
            "Fitting 5 folds for each of 96 candidates, totalling 480 fits\n"
          ]
        },
        {
          "metadata": {
            "tags": null
          },
          "name": "stderr",
          "output_type": "stream",
          "text": [
            "[Parallel(n_jobs=-1)]: Using backend LokyBackend with 2 concurrent workers.\n",
            "[Parallel(n_jobs=-1)]: Done  28 tasks      | elapsed:   11.0s\n",
            "[Parallel(n_jobs=-1)]: Done 124 tasks      | elapsed:   46.1s\n",
            "[Parallel(n_jobs=-1)]: Done 284 tasks      | elapsed:  1.6min\n",
            "[Parallel(n_jobs=-1)]: Done 480 out of 480 | elapsed:  2.7min finished\n"
          ]
        },
        {
          "metadata": {
            "tags": null
          },
          "name": "stdout",
          "output_type": "stream",
          "text": [
            "Estrategia de representación: BINARIO\n",
            "Parámetros: {'SVM__C': 10, 'SVM__class_weight': 'balanced', 'SVM__gamma': 0.01, 'SVM__kernel': 'sigmoid', 'SVM__probability': False}\n",
            "Accuracy Test-Set: 0.555\n",
            "Métricas sobre Test-Set: {'clasificador': 'SVM', 'estrategia': 'BINARIO', 'accuracy': 0.555, 'precision': 0.7674476500451733, 'recall': 0.555, 'f1_score': 0.5966565476190476, 'mcc': 0.5253263335315733}\n",
            "Estrategia de representación: TFIDF\n",
            "Fitting 5 folds for each of 96 candidates, totalling 480 fits\n"
          ]
        },
        {
          "output_type": "stream",
          "text": [
            "[Parallel(n_jobs=-1)]: Using backend LokyBackend with 2 concurrent workers.\n",
            "[Parallel(n_jobs=-1)]: Done  28 tasks      | elapsed:   10.1s\n",
            "[Parallel(n_jobs=-1)]: Done 124 tasks      | elapsed:   46.6s\n",
            "[Parallel(n_jobs=-1)]: Done 284 tasks      | elapsed:  1.7min\n",
            "[Parallel(n_jobs=-1)]: Done 480 out of 480 | elapsed:  2.8min finished\n"
          ],
          "name": "stderr"
        },
        {
          "output_type": "stream",
          "text": [
            "Estrategia de representación: TFIDF\n",
            "Parámetros: {'SVM__C': 1, 'SVM__class_weight': 'balanced', 'SVM__gamma': 0.1, 'SVM__kernel': 'sigmoid', 'SVM__probability': False}\n",
            "Accuracy Test-Set: 0.6\n",
            "Métricas sobre Test-Set: {'clasificador': 'SVM', 'estrategia': 'TFIDF', 'accuracy': 0.6, 'precision': 0.7846485805860806, 'recall': 0.6, 'f1_score': 0.654059589633996, 'mcc': 0.5654117435979786}\n",
            "Estrategia de representación: 3-4-NGRAM-CHARS\n",
            "Fitting 5 folds for each of 96 candidates, totalling 480 fits\n"
          ],
          "name": "stdout"
        },
        {
          "output_type": "stream",
          "text": [
            "[Parallel(n_jobs=-1)]: Using backend LokyBackend with 2 concurrent workers.\n",
            "[Parallel(n_jobs=-1)]: Done  28 tasks      | elapsed:   58.8s\n",
            "[Parallel(n_jobs=-1)]: Done 124 tasks      | elapsed:  4.4min\n",
            "[Parallel(n_jobs=-1)]: Done 284 tasks      | elapsed:  9.3min\n",
            "[Parallel(n_jobs=-1)]: Done 480 out of 480 | elapsed: 15.2min finished\n"
          ],
          "name": "stderr"
        },
        {
          "output_type": "stream",
          "text": [
            "Estrategia de representación: 3-4-NGRAM-CHARS\n",
            "Parámetros: {'SVM__C': 1, 'SVM__class_weight': 'balanced', 'SVM__gamma': 0.01, 'SVM__kernel': 'sigmoid', 'SVM__probability': False}\n",
            "Accuracy Test-Set: 0.615\n",
            "Métricas sobre Test-Set: {'clasificador': 'SVM', 'estrategia': '3-4-NGRAM-CHARS', 'accuracy': 0.615, 'precision': 0.8014804975726029, 'recall': 0.615, 'f1_score': 0.6706839164402203, 'mcc': 0.5843302174667778}\n",
            "Estrategia de representación: 1-2-NGRAM-WORDS\n",
            "Fitting 5 folds for each of 96 candidates, totalling 480 fits\n"
          ],
          "name": "stdout"
        },
        {
          "output_type": "stream",
          "text": [
            "[Parallel(n_jobs=-1)]: Using backend LokyBackend with 2 concurrent workers.\n",
            "[Parallel(n_jobs=-1)]: Done  28 tasks      | elapsed:   42.1s\n",
            "[Parallel(n_jobs=-1)]: Done 124 tasks      | elapsed:  3.2min\n",
            "[Parallel(n_jobs=-1)]: Done 284 tasks      | elapsed:  6.9min\n",
            "[Parallel(n_jobs=-1)]: Done 480 out of 480 | elapsed: 11.4min finished\n"
          ],
          "name": "stderr"
        },
        {
          "output_type": "stream",
          "text": [
            "Estrategia de representación: 1-2-NGRAM-WORDS\n",
            "Parámetros: {'SVM__C': 1, 'SVM__class_weight': 'balanced', 'SVM__gamma': 0.1, 'SVM__kernel': 'sigmoid', 'SVM__probability': False}\n",
            "Accuracy Test-Set: 0.56\n",
            "Métricas sobre Test-Set: {'clasificador': 'SVM', 'estrategia': '1-2-NGRAM-WORDS', 'accuracy': 0.56, 'precision': 0.7781907528017368, 'recall': 0.56, 'f1_score': 0.6245747466487367, 'mcc': 0.5256542928102669}\n"
          ],
          "name": "stdout"
        }
      ]
    },
    {
      "cell_type": "markdown",
      "metadata": {
        "id": "8BLl1MGrOdXs"
      },
      "source": [
        "A partir de los mejores hiperparámetros encontrados para cada estrategia de representación de correos, se busca cual es la estrategia que generó el mayor _accuracy_ (medida totalmente arbitraria):"
      ]
    },
    {
      "cell_type": "code",
      "metadata": {
        "id": "9EZPszyNuh1d",
        "outputId": "53b8cb22-2ed9-450a-d4a8-17ea2a185535",
        "colab": {
          "base_uri": "https://localhost:8080/"
        }
      },
      "source": [
        "max_accuracy = 0\n",
        "for i in range(1, len(metricas_grid)):\n",
        "  if metricas_grid[i]['accuracy'] > metricas_grid[max_accuracy]['accuracy']:\n",
        "    max_accuracy = i\n",
        "\n",
        "representacion_max = representacion_grid[max_accuracy]\n",
        "\n",
        "# Se le quita el prefijo asignado a los parametricos para la búsqueda grid\n",
        "params_max = params = {x.replace(\"SVM__\", \"\"): v for x, v in modelos_grid[max_accuracy].best_params_.items()}\n",
        "\n",
        "metricas_max = metricas_grid[max_accuracy]\n",
        "\n",
        "print(f'El modelo más eficaz es {modelo} con la estrategia de representación {representacion_max} y los parámetros {params_max}')\n",
        "print(f'El modelo brinda las siguientes métricas de selección: {metricas_max}')"
      ],
      "execution_count": 24,
      "outputs": [
        {
          "output_type": "stream",
          "text": [
            "El modelo más eficaz es SVM con la estrategia de representación 3-4-NGRAM-CHARS y los parámetros {'C': 1, 'class_weight': 'balanced', 'gamma': 0.01, 'kernel': 'sigmoid', 'probability': False}\n",
            "El modelo brinda las siguientes métricas de selección: {'clasificador': 'SVM', 'estrategia': '3-4-NGRAM-CHARS', 'accuracy': 0.615, 'precision': 0.8014804975726029, 'recall': 0.615, 'f1_score': 0.6706839164402203, 'mcc': 0.5843302174667778}\n"
          ],
          "name": "stdout"
        }
      ]
    },
    {
      "cell_type": "markdown",
      "metadata": {
        "id": "GjoUvaOgh00W"
      },
      "source": [
        "#### 2.2.2 Modelo generado\n",
        "\n",
        "En función de los mejores hiperparámetros y estrategia de representación encontrados con la búsqueda Grid, ajusto el modelo para obtener las métricas.\n",
        "\n",
        "En primer lugar genero los datos de train y test:"
      ]
    },
    {
      "cell_type": "code",
      "metadata": {
        "id": "VfU5JT1vh0J3",
        "outputId": "a099e535-c65f-4955-bb90-f229ad0bc6a9",
        "colab": {
          "base_uri": "https://localhost:8080/"
        }
      },
      "source": [
        "# Mejores Parámetros según GridSearchCV:\n",
        "# {'SVM__C': 10, 'SVM__class_weight': 'balanced', 'SVM__gamma': 0.01, 'SVM__kernel': 'sigmoid', 'estrategia': '3-4-NGRAM-CHARS', \n",
        "#  'accuracy': 0.81, 'precision': 0.5971321956813028, 'recall': 0.553190280233687, 'f1_score': 0.5639032258154839}\n",
        "# Métricas sobre Test-Set: {'SVM__C': 10, 'SVM__class_weight': 'balanced', 'SVM__gamma': 0.01, 'SVM__kernel': 'sigmoid', 'SVM__probability': True, 'clasificador': 'SVM',\n",
        "# 'estrategia': '3-4-NGRAM-CHARS', 'accuracy': 0.835, 'precision': 0.8428499293134182, 'recall': 0.835, 'f1_score': 0.8328323317634259}\n",
        "\n",
        "X_train, y_train, X_test, y_test = generar_train_test_set(train_df, test_df, representacion_max)"
      ],
      "execution_count": 25,
      "outputs": [
        {
          "output_type": "stream",
          "text": [
            "Estrategia de representación: 3-4-NGRAM-CHARS\n"
          ],
          "name": "stdout"
        }
      ]
    },
    {
      "cell_type": "markdown",
      "metadata": {
        "id": "sBgo7dzPLkv5"
      },
      "source": [
        "Se entrena el modelo con los mejores hiperparámetros encontrados:"
      ]
    },
    {
      "cell_type": "code",
      "metadata": {
        "id": "GXrnHa4qH8in",
        "outputId": "17f1cef2-eeb1-4f8d-d31f-d77869cb8706",
        "colab": {
          "base_uri": "https://localhost:8080/"
        }
      },
      "source": [
        "from sklearn.svm import SVC\n",
        "clf = SVC(**params_max)\n",
        "\n",
        "# Entreno el modelo con los parámetros\n",
        "clf.fit(X_train, y_train)"
      ],
      "execution_count": 26,
      "outputs": [
        {
          "output_type": "execute_result",
          "data": {
            "text/plain": [
              "SVC(C=1, break_ties=False, cache_size=200, class_weight='balanced', coef0=0.0,\n",
              "    decision_function_shape='ovr', degree=3, gamma=0.01, kernel='sigmoid',\n",
              "    max_iter=-1, probability=False, random_state=None, shrinking=True,\n",
              "    tol=0.001, verbose=False)"
            ]
          },
          "metadata": {},
          "execution_count": 26
        }
      ]
    },
    {
      "cell_type": "markdown",
      "metadata": {
        "id": "qzVZFzCTVTSZ"
      },
      "source": [
        "Se predicen las instancias de testeo:"
      ]
    },
    {
      "cell_type": "code",
      "metadata": {
        "id": "zNoj8Gshc09R"
      },
      "source": [
        "y_pred = clf.predict(X_test)"
      ],
      "execution_count": 27,
      "outputs": []
    },
    {
      "cell_type": "markdown",
      "metadata": {
        "id": "wIpzEIaOWKNa"
      },
      "source": [
        "#### 2.2.3 Métricas de selección"
      ]
    },
    {
      "cell_type": "code",
      "metadata": {
        "id": "6J-THNpdciSP",
        "outputId": "9f7a0856-51fe-4ad4-bfb9-beb5401c1f29",
        "colab": {
          "base_uri": "https://localhost:8080/"
        }
      },
      "source": [
        "from sklearn import metrics #Importar el módulo metrics de scikit-learn\n",
        "\n",
        "# Vamos a testear el modelo\n",
        "print(\"Accuracy:\",metrics.accuracy_score(y_test, y_pred))\n",
        "\n",
        "# Vemos un reporte de clasificación de varias métricas\n",
        "print(metrics.classification_report(y_test, y_pred))"
      ],
      "execution_count": 28,
      "outputs": [
        {
          "output_type": "stream",
          "text": [
            "Accuracy: 0.615\n",
            "                                     precision    recall  f1-score   support\n",
            "\n",
            "               Boleto Universitario       1.00      0.71      0.83        48\n",
            "                  Cambio de Carrera       0.08      0.50      0.13         2\n",
            "                 Cambio de Comisión       0.11      1.00      0.19         2\n",
            "         Consulta por Equivalencias       1.00      1.00      1.00         3\n",
            "                Consulta por Legajo       0.29      0.67      0.40         3\n",
            "Consulta sobre Título Universitario       0.50      1.00      0.67         3\n",
            "                           Cursadas       0.45      0.26      0.33        19\n",
            "                   Datos Personales       0.00      0.00      0.00         2\n",
            "                           Exámenes       0.25      0.80      0.38         5\n",
            "           Ingreso a la Universidad       0.89      0.52      0.65        33\n",
            "             Pedido de Certificados       0.93      0.93      0.93        15\n",
            "             Problemas con la Clave       0.80      0.70      0.74        23\n",
            "                    Reincorporación       0.67      0.36      0.47        11\n",
            "              Requisitos de Ingreso       1.00      0.58      0.74        24\n",
            "          Simultaneidad de Carreras       0.00      0.00      0.00         1\n",
            "                Situación Académica       0.57      0.67      0.62         6\n",
            "\n",
            "                           accuracy                           0.61       200\n",
            "                          macro avg       0.53      0.61      0.51       200\n",
            "                       weighted avg       0.80      0.61      0.67       200\n",
            "\n"
          ],
          "name": "stdout"
        }
      ]
    },
    {
      "cell_type": "code",
      "metadata": {
        "id": "t8dTwLl5dYu-",
        "outputId": "2e1bb2da-b06b-4928-af8a-3ed3e9c74ae7",
        "colab": {
          "base_uri": "https://localhost:8080/"
        }
      },
      "source": [
        "metrics.confusion_matrix(y_test, y_pred)"
      ],
      "execution_count": 29,
      "outputs": [
        {
          "output_type": "execute_result",
          "data": {
            "text/plain": [
              "array([[34,  2,  4,  0,  0,  2,  0,  2,  2,  0,  0,  1,  1,  0,  0,  0],\n",
              "       [ 0,  1,  1,  0,  0,  0,  0,  0,  0,  0,  0,  0,  0,  0,  0,  0],\n",
              "       [ 0,  0,  2,  0,  0,  0,  0,  0,  0,  0,  0,  0,  0,  0,  0,  0],\n",
              "       [ 0,  0,  0,  3,  0,  0,  0,  0,  0,  0,  0,  0,  0,  0,  0,  0],\n",
              "       [ 0,  0,  0,  0,  2,  0,  0,  0,  0,  0,  0,  0,  0,  0,  1,  0],\n",
              "       [ 0,  0,  0,  0,  0,  3,  0,  0,  0,  0,  0,  0,  0,  0,  0,  0],\n",
              "       [ 0,  1,  6,  0,  1,  0,  5,  1,  4,  1,  0,  0,  0,  0,  0,  0],\n",
              "       [ 0,  0,  0,  0,  0,  0,  0,  0,  1,  0,  0,  0,  0,  0,  0,  1],\n",
              "       [ 0,  0,  0,  0,  0,  0,  0,  0,  4,  0,  0,  0,  0,  0,  0,  1],\n",
              "       [ 0,  3,  1,  0,  1,  0,  1,  4,  1, 17,  1,  3,  1,  0,  0,  0],\n",
              "       [ 0,  0,  0,  0,  1,  0,  0,  0,  0,  0, 14,  0,  0,  0,  0,  0],\n",
              "       [ 0,  0,  4,  0,  0,  0,  0,  2,  0,  0,  0, 16,  0,  0,  0,  1],\n",
              "       [ 0,  5,  0,  0,  0,  0,  1,  0,  0,  1,  0,  0,  4,  0,  0,  0],\n",
              "       [ 0,  0,  1,  0,  2,  1,  4,  0,  2,  0,  0,  0,  0, 14,  0,  0],\n",
              "       [ 0,  1,  0,  0,  0,  0,  0,  0,  0,  0,  0,  0,  0,  0,  0,  0],\n",
              "       [ 0,  0,  0,  0,  0,  0,  0,  0,  2,  0,  0,  0,  0,  0,  0,  4]])"
            ]
          },
          "metadata": {},
          "execution_count": 29
        }
      ]
    },
    {
      "cell_type": "code",
      "metadata": {
        "id": "IYUVKbHldjKq",
        "outputId": "61c0108b-b803-4732-9b60-8b0fce98a13c",
        "colab": {
          "base_uri": "https://localhost:8080/",
          "height": 466
        }
      },
      "source": [
        "import numpy as np\n",
        "import seaborn as sns; sns.set()\n",
        "import matplotlib.pyplot as plt\n",
        "\n",
        "mat = metrics.confusion_matrix(y_test, y_pred)\n",
        "\n",
        "sns.heatmap(mat, square=True, annot=True, fmt='d', cbar=False,\n",
        "            xticklabels=etiquetas, yticklabels=etiquetas)\n",
        "\n",
        "plt.xlabel('Observada')\n",
        "plt.ylabel('Predicha');"
      ],
      "execution_count": 30,
      "outputs": [
        {
          "output_type": "display_data",
          "data": {
            "image/png": "[encoded data removed]",
            "text/plain": [
              "<Figure size 432x288 with 1 Axes>"
            ]
          },
          "metadata": {}
        }
      ]
    },
    {
      "cell_type": "markdown",
      "metadata": {
        "id": "P14cduVB6pZk"
      },
      "source": [
        "### 3. Análisis del error\n",
        "\n",
        "A continuación se intenta entender la baja de _accuracy_ para el etiquetado a partir de TF-IDF.\n",
        "\n",
        "Para ello, se genera el dataset de train con: <br/>\n",
        "| consulta | clase | score |"
      ]
    },
    {
      "cell_type": "code",
      "metadata": {
        "id": "8Yzf0qf36oL2"
      },
      "source": [
        "df_train_e = train_df[['consulta', 'clase']]\n",
        "df_train_e['score'] = score"
      ],
      "execution_count": 31,
      "outputs": []
    },
    {
      "cell_type": "markdown",
      "metadata": {
        "id": "ZJVVj9Kk6uhd"
      },
      "source": [
        "Genero un dataframe con los scores promedios por clase, el accuracy por clase y el _count_:"
      ]
    },
    {
      "cell_type": "code",
      "metadata": {
        "id": "RRdVnXSN6wkJ",
        "outputId": "98dd93d6-2a5b-4190-a59a-5d62baf3c56e",
        "colab": {
          "base_uri": "https://localhost:8080/",
          "height": 545
        }
      },
      "source": [
        "df_error = df_train_e.groupby(['clase']).mean().reset_index()\n",
        "# Accuracy por clase\n",
        "avg_class = mat.diagonal()/mat.sum(axis=1)\n",
        "df_error['accuracy'] = pd.Series(avg_class)\n",
        "\n",
        "df_error['count'] = mat.sum(axis=1)\n",
        "\n",
        "df_error\n",
        "df_error"
      ],
      "execution_count": 32,
      "outputs": [
        {
          "output_type": "execute_result",
          "data": {
            "text/html": [
              "<div>\n",
              "<style scoped>\n",
              "    .dataframe tbody tr th:only-of-type {\n",
              "        vertical-align: middle;\n",
              "    }\n",
              "\n",
              "    .dataframe tbody tr th {\n",
              "        vertical-align: top;\n",
              "    }\n",
              "\n",
              "    .dataframe thead th {\n",
              "        text-align: right;\n",
              "    }\n",
              "</style>\n",
              "<table border=\"1\" class=\"dataframe\">\n",
              "  <thead>\n",
              "    <tr style=\"text-align: right;\">\n",
              "      <th></th>\n",
              "      <th>clase</th>\n",
              "      <th>score</th>\n",
              "      <th>accuracy</th>\n",
              "      <th>count</th>\n",
              "    </tr>\n",
              "  </thead>\n",
              "  <tbody>\n",
              "    <tr>\n",
              "      <th>0</th>\n",
              "      <td>Boleto Universitario</td>\n",
              "      <td>14.990136</td>\n",
              "      <td>0.708333</td>\n",
              "      <td>48</td>\n",
              "    </tr>\n",
              "    <tr>\n",
              "      <th>1</th>\n",
              "      <td>Cambio de Carrera</td>\n",
              "      <td>11.443292</td>\n",
              "      <td>0.500000</td>\n",
              "      <td>2</td>\n",
              "    </tr>\n",
              "    <tr>\n",
              "      <th>2</th>\n",
              "      <td>Cambio de Comisión</td>\n",
              "      <td>13.409766</td>\n",
              "      <td>1.000000</td>\n",
              "      <td>2</td>\n",
              "    </tr>\n",
              "    <tr>\n",
              "      <th>3</th>\n",
              "      <td>Consulta por Equivalencias</td>\n",
              "      <td>10.131674</td>\n",
              "      <td>1.000000</td>\n",
              "      <td>3</td>\n",
              "    </tr>\n",
              "    <tr>\n",
              "      <th>4</th>\n",
              "      <td>Consulta por Legajo</td>\n",
              "      <td>14.202414</td>\n",
              "      <td>0.666667</td>\n",
              "      <td>3</td>\n",
              "    </tr>\n",
              "    <tr>\n",
              "      <th>5</th>\n",
              "      <td>Consulta sobre Título Universitario</td>\n",
              "      <td>10.981371</td>\n",
              "      <td>1.000000</td>\n",
              "      <td>3</td>\n",
              "    </tr>\n",
              "    <tr>\n",
              "      <th>6</th>\n",
              "      <td>Cursadas</td>\n",
              "      <td>10.202245</td>\n",
              "      <td>0.263158</td>\n",
              "      <td>19</td>\n",
              "    </tr>\n",
              "    <tr>\n",
              "      <th>7</th>\n",
              "      <td>Datos Personales</td>\n",
              "      <td>10.668440</td>\n",
              "      <td>0.000000</td>\n",
              "      <td>2</td>\n",
              "    </tr>\n",
              "    <tr>\n",
              "      <th>8</th>\n",
              "      <td>Exámenes</td>\n",
              "      <td>12.386736</td>\n",
              "      <td>0.800000</td>\n",
              "      <td>5</td>\n",
              "    </tr>\n",
              "    <tr>\n",
              "      <th>9</th>\n",
              "      <td>Ingreso a la Universidad</td>\n",
              "      <td>11.733835</td>\n",
              "      <td>0.515152</td>\n",
              "      <td>33</td>\n",
              "    </tr>\n",
              "    <tr>\n",
              "      <th>10</th>\n",
              "      <td>Pedido de Certificados</td>\n",
              "      <td>17.670901</td>\n",
              "      <td>0.933333</td>\n",
              "      <td>15</td>\n",
              "    </tr>\n",
              "    <tr>\n",
              "      <th>11</th>\n",
              "      <td>Problemas con la Clave</td>\n",
              "      <td>13.792398</td>\n",
              "      <td>0.695652</td>\n",
              "      <td>23</td>\n",
              "    </tr>\n",
              "    <tr>\n",
              "      <th>12</th>\n",
              "      <td>Reincorporación</td>\n",
              "      <td>10.439025</td>\n",
              "      <td>0.363636</td>\n",
              "      <td>11</td>\n",
              "    </tr>\n",
              "    <tr>\n",
              "      <th>13</th>\n",
              "      <td>Requisitos de Ingreso</td>\n",
              "      <td>13.743487</td>\n",
              "      <td>0.583333</td>\n",
              "      <td>24</td>\n",
              "    </tr>\n",
              "    <tr>\n",
              "      <th>14</th>\n",
              "      <td>Simultaneidad de Carreras</td>\n",
              "      <td>12.728059</td>\n",
              "      <td>0.000000</td>\n",
              "      <td>1</td>\n",
              "    </tr>\n",
              "    <tr>\n",
              "      <th>15</th>\n",
              "      <td>Situación Académica</td>\n",
              "      <td>13.115072</td>\n",
              "      <td>0.666667</td>\n",
              "      <td>6</td>\n",
              "    </tr>\n",
              "  </tbody>\n",
              "</table>\n",
              "</div>"
            ],
            "text/plain": [
              "                                  clase      score  accuracy  count\n",
              "0                  Boleto Universitario  14.990136  0.708333     48\n",
              "1                     Cambio de Carrera  11.443292  0.500000      2\n",
              "2                    Cambio de Comisión  13.409766  1.000000      2\n",
              "3            Consulta por Equivalencias  10.131674  1.000000      3\n",
              "4                   Consulta por Legajo  14.202414  0.666667      3\n",
              "5   Consulta sobre Título Universitario  10.981371  1.000000      3\n",
              "6                              Cursadas  10.202245  0.263158     19\n",
              "7                      Datos Personales  10.668440  0.000000      2\n",
              "8                              Exámenes  12.386736  0.800000      5\n",
              "9              Ingreso a la Universidad  11.733835  0.515152     33\n",
              "10               Pedido de Certificados  17.670901  0.933333     15\n",
              "11               Problemas con la Clave  13.792398  0.695652     23\n",
              "12                      Reincorporación  10.439025  0.363636     11\n",
              "13                Requisitos de Ingreso  13.743487  0.583333     24\n",
              "14            Simultaneidad de Carreras  12.728059  0.000000      1\n",
              "15                  Situación Académica  13.115072  0.666667      6"
            ]
          },
          "metadata": {},
          "execution_count": 32
        }
      ]
    },
    {
      "cell_type": "code",
      "metadata": {
        "id": "NRKtSNPr63Oo",
        "outputId": "a850becf-b0dd-4065-a16a-c414b25aade5",
        "colab": {
          "base_uri": "https://localhost:8080/",
          "height": 302
        }
      },
      "source": [
        "import seaborn as sns\n",
        "sns.set_theme(style=\"ticks\")\n",
        "\n",
        "sns.scatterplot(data=df_error, x=\"score\", y=\"accuracy\", hue=\"count\", size=\"count\")"
      ],
      "execution_count": 33,
      "outputs": [
        {
          "output_type": "execute_result",
          "data": {
            "text/plain": [
              "<matplotlib.axes._subplots.AxesSubplot at 0x7ff42a4c6950>"
            ]
          },
          "metadata": {},
          "execution_count": 33
        },
        {
          "output_type": "display_data",
          "data": {
            "image/png": "[encoded data removed]",
            "text/plain": [
              "<Figure size 432x288 with 1 Axes>"
            ]
          },
          "metadata": {}
        }
      ]
    },
    {
      "cell_type": "markdown",
      "metadata": {
        "id": "0a1K2447qjxE"
      },
      "source": [
        "## Referencias\n",
        "- https://scikit-learn.org/stable/modules/generated/sklearn.model_selection.GridSearchCV.html\n",
        "- https://medium.com/analytics-vidhya/ml-pipelines-using-scikit-learn-and-gridsearchcv-fe605a7f9e05"
      ]
    }
  ]
}