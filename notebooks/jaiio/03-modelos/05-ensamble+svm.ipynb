{
  "nbformat": 4,
  "nbformat_minor": 0,
  "metadata": {
    "colab": {
      "name": "05-ensamble+svm.ipynb",
      "provenance": [],
      "collapsed_sections": [],
      "toc_visible": true,
      "include_colab_link": true
    },
    "kernelspec": {
      "display_name": "Python 3",
      "name": "python3"
    }
  },
  "cells": [
    {
      "cell_type": "markdown",
      "metadata": {
        "id": "view-in-github",
        "colab_type": "text"
      },
      "source": [
        "<a href=\"https://colab.research.google.com/github/jumafernandez/clasificacion_correos/blob/main/notebooks/jaiio/03-modelos/05-ensamble%2Bsvm.ipynb\" target=\"_parent\"><img src=\"https://colab.research.google.com/assets/colab-badge.svg\" alt=\"Open In Colab\"/></a>"
      ]
    },
    {
      "cell_type": "markdown",
      "metadata": {
        "id": "5DuUrVBgeUso"
      },
      "source": [
        "# Sistema de votación (LR+SS3+TFIDF) + SVM\n",
        "\n",
        "En esta notebook se presetan los experimentos a partir de los datos etiquetados automáticamente a partir de las _features_ extraidas del train dataset con todas las estrategias + la construcción de un clasificador con SVM.\n",
        "\n",
        "Para ello vamos a preprocesar los correos y aplicar:\n",
        "- Bag of words,\n",
        "- Pesado binario/no binario,\n",
        "- Máquina de vector soporte (SVM).\n"
      ]
    },
    {
      "cell_type": "markdown",
      "metadata": {
        "id": "LC29-nnEqmXI"
      },
      "source": [
        "## 0. Configuración de la ejecución\n",
        "\n",
        "A continuación se genera la configuración de las estrategias que integrarán el sistema de votación para la obtención de instancias:"
      ]
    },
    {
      "cell_type": "code",
      "metadata": {
        "id": "gLm7kOaOrIGs"
      },
      "source": [
        "# Posibilidades : lr, ss3, tfidf\n",
        "# Combinaciones:\n",
        "# lr-ss3\n",
        "# lr-tfidf\n",
        "# ss3-tfidf\n",
        "# lr-ss3-tfidf\n",
        "\n",
        "estrategias_feature_extraction = ['tfidf', 'ss3']\n",
        "ACUMULTATIVO = False\n",
        "\n",
        "# Para el sistema de votación queda fijo\n",
        "CANTIDAD_INSTANCIAS = 200"
      ],
      "execution_count": 1,
      "outputs": []
    },
    {
      "cell_type": "markdown",
      "metadata": {
        "id": "4D4Zpxhs3OKR"
      },
      "source": [
        "Se definen algunas características fijas:"
      ]
    },
    {
      "cell_type": "code",
      "metadata": {
        "id": "K2FEE93duakY"
      },
      "source": [
        "# El archivo de test y el train con etiquetado manual es siempre el mismo\n",
        "TEST_FILE = 'correos-test-jaiio-20.csv'\n",
        "TRAIN_FILE_MANUAL = 'correos-train-jaiio-80.csv'\n",
        "atributos_df = ['consulta', 'dia_semana', 'semana_del_mes', 'mes', 'cuatrimestre',\n",
        "                  'anio', 'hora_discretizada', 'dni_discretizado', 'legajo_discretizado',\n",
        "                  'posee_legajo', 'posee_telefono', 'carrera_valor', 'proveedor_correo',\n",
        "                  'cantidad_caracteres', 'proporcion_mayusculas', 'proporcion_letras',\n",
        "                  'cantidad_tildes', 'cantidad_palabras', 'cantidad_palabras_cortas',\n",
        "                  'proporcion_palabras_distintas', 'frecuencia_signos_puntuacion',\n",
        "                  'cantidad_oraciones', 'utiliza_codigo_asignatura', 'score', 'clase_e0', 'clase_e1']"
      ],
      "execution_count": 2,
      "outputs": []
    },
    {
      "cell_type": "markdown",
      "metadata": {
        "id": "gnCRBjnD3SBJ"
      },
      "source": [
        "Y se generan los datos en función de la cantidad de estrategias a utilizar:"
      ]
    },
    {
      "cell_type": "code",
      "metadata": {
        "colab": {
          "base_uri": "https://localhost:8080/"
        },
        "id": "1kOC3LVy3SPT",
        "outputId": "d3ae7a1f-d806-46c0-e7ae-f13d9736b799"
      },
      "source": [
        "# Se genera el nombre del archivo de instancias a ejecutar en función de las estrategias\n",
        "TRAIN_FILE_E0 = f'dataset-{estrategias_feature_extraction[0]}-200-prep.csv'\n",
        "TRAIN_FILE_E1 = f'dataset-{estrategias_feature_extraction[1]}-200-prep.csv'\n",
        "texto = f'Los dataset a utilizar son: \\n\\t{TRAIN_FILE_E0} \\n\\t{TRAIN_FILE_E1}'\n",
        "\n",
        "# En caso que se realice el ensamble entre las 3 estrategias\n",
        "if len(estrategias_feature_extraction)==3:\n",
        "\n",
        "  TRAIN_FILE_E2 = f'dataset-{estrategias_feature_extraction[2]}-200-prep.csv'\n",
        "  texto = texto + f'\\n\\t{TRAIN_FILE_E2}'\n",
        "  \n",
        "  # Se define el if para que ante reiteradas ejecuciones de la notebook no se vuelva a insertar\n",
        "  if 'clase_e2' not in atributos_df:\n",
        "    atributos_df.append('clase_e2')\n",
        "\n",
        "print(texto)"
      ],
      "execution_count": 3,
      "outputs": [
        {
          "output_type": "stream",
          "text": [
            "Los dataset a utilizar son: \n",
            "\tdataset-tfidf-200-prep.csv \n",
            "\tdataset-ss3-200-prep.csv\n"
          ],
          "name": "stdout"
        }
      ]
    },
    {
      "cell_type": "markdown",
      "metadata": {
        "id": "FBLanwDJVnFF"
      },
      "source": [
        "## 1. Instalación y Carga de librerías y funciones útiles"
      ]
    },
    {
      "cell_type": "markdown",
      "metadata": {
        "id": "3-dNi6mDUZnb"
      },
      "source": [
        "### 1.1 Instalación de librerías\n",
        "\n",
        "Se instalan las librerías que no están en el entorno de Google Colab:"
      ]
    },
    {
      "cell_type": "code",
      "metadata": {
        "colab": {
          "base_uri": "https://localhost:8080/"
        },
        "id": "644uDER_VnXj",
        "outputId": "5cbef768-c9e5-4f50-a13a-a33072bd7f74"
      },
      "source": [
        "# Se instala gensim que es el que tiene el modelo Word2Vec\n",
        "!pip install requests\n",
        "!pip install wget"
      ],
      "execution_count": 4,
      "outputs": [
        {
          "output_type": "stream",
          "text": [
            "Requirement already satisfied: requests in /usr/local/lib/python3.7/dist-packages (2.23.0)\n",
            "Requirement already satisfied: certifi>=2017.4.17 in /usr/local/lib/python3.7/dist-packages (from requests) (2021.5.30)\n",
            "Requirement already satisfied: urllib3!=1.25.0,!=1.25.1,<1.26,>=1.21.1 in /usr/local/lib/python3.7/dist-packages (from requests) (1.24.3)\n",
            "Requirement already satisfied: idna<3,>=2.5 in /usr/local/lib/python3.7/dist-packages (from requests) (2.10)\n",
            "Requirement already satisfied: chardet<4,>=3.0.2 in /usr/local/lib/python3.7/dist-packages (from requests) (3.0.4)\n",
            "Requirement already satisfied: wget in /usr/local/lib/python3.7/dist-packages (3.2)\n"
          ],
          "name": "stdout"
        }
      ]
    },
    {
      "cell_type": "markdown",
      "metadata": {
        "id": "43fDuhK2V1kx"
      },
      "source": [
        "### 1.2 Funciones útiles\n",
        "\n",
        "Se cargan funciones útiles desde el repo https://github.com/jumafernandez/clasificacion_correos para la carga y balanceo del dataset."
      ]
    },
    {
      "cell_type": "code",
      "metadata": {
        "id": "oQvZz035bSMf"
      },
      "source": [
        "import requests\n",
        "\n",
        "# Se hace el request del raw del script python\n",
        "url = 'https://raw.githubusercontent.com/jumafernandez/clasificacion_correos/main/scripts/funciones_dataset.py'\n",
        "r = requests.get(url)\n",
        "\n",
        "# Se guarda en el working directory\n",
        "with open('funciones_dataset.py', 'w') as f:\n",
        "    f.write(r.text)\n",
        "\n",
        "# Se importan las funciones a utilizar\n",
        "from funciones_dataset import get_clases, cargar_dataset, consolidar_df"
      ],
      "execution_count": 5,
      "outputs": []
    },
    {
      "cell_type": "markdown",
      "metadata": {
        "id": "MDxjaGIfV-rT"
      },
      "source": [
        "También se carga la función para preprocesar el texto que se usó en los otros modelos desde el repo: https://github.com/jumafernandez/clasificacion_correos."
      ]
    },
    {
      "cell_type": "code",
      "metadata": {
        "id": "o0o2NndLWDVC"
      },
      "source": [
        "import requests\n",
        "\n",
        "# Se hace el request del raw del script python\n",
        "url = 'https://raw.githubusercontent.com/jumafernandez/clasificacion_correos/main/scripts/funciones_preprocesamiento.py'\n",
        "r = requests.get(url)\n",
        "\n",
        "# Se guarda en el working directory\n",
        "with open('funciones_preprocesamiento.py', 'w') as f:\n",
        "    f.write(r.text)\n",
        "\n",
        "# Se importan las funciones a utilizar\n",
        "from funciones_preprocesamiento import preprocesar_correos"
      ],
      "execution_count": 6,
      "outputs": []
    },
    {
      "cell_type": "markdown",
      "metadata": {
        "id": "-uv6R5UQWWmE"
      },
      "source": [
        "### 1.3. Carga de datos"
      ]
    },
    {
      "cell_type": "markdown",
      "metadata": {
        "id": "BdGnbPiUk-mS"
      },
      "source": [
        "Cargo la librería warnings para no mostrar las advertencias, pandas para el manejo de df y os para verificar la existencia de los archivos en la carga de datos. Además, cargo en memoria la URL de base de los datasets y una lista de las etiquetas de las distintas clases:"
      ]
    },
    {
      "cell_type": "code",
      "metadata": {
        "id": "3TsEFWTAk_qc"
      },
      "source": [
        "import warnings\n",
        "import pandas as pd\n",
        "from os import path\n",
        "warnings.filterwarnings(\"ignore\")\n",
        "\n",
        "# Constantes con los datos\n",
        "DS_DIR = 'https://raw.githubusercontent.com/jumafernandez/clasificacion_correos/main/data/50jaiio/consolidados/'\n",
        "\n",
        "# Defino las clases y la cantidad a utilizar\n",
        "etiquetas = get_clases()\n",
        "CANTIDAD_CLASES = len(etiquetas)"
      ],
      "execution_count": 7,
      "outputs": []
    },
    {
      "cell_type": "markdown",
      "metadata": {
        "id": "tuWVxIdck-v5"
      },
      "source": [
        "Se cargan los dataframes de las estrategias seleccionadas en memoria con el preprocesamiento de los datos:"
      ]
    },
    {
      "cell_type": "code",
      "metadata": {
        "colab": {
          "base_uri": "https://localhost:8080/"
        },
        "id": "MP4lJ_KVvBSO",
        "outputId": "3af4c9b0-8089-4dd8-94ca-0d069d8f6385"
      },
      "source": [
        "# Chequeo sobre si los archivos están en el working directory\n",
        "download_files = not(path.exists(TRAIN_FILE_E0))\n",
        "\n",
        "df_e0, test_df, etiquetas = cargar_dataset(DS_DIR, TRAIN_FILE_E0, TEST_FILE, download_files, 'clase', etiquetas, CANTIDAD_CLASES, 'Otras Consultas')\n",
        "\n",
        "# Se ejecuta el preprocesamiento de correos sobre el campo Consulta de train y test\n",
        "df_e0['consulta'] = pd.Series(preprocesar_correos(df_e0['consulta']))\n",
        "test_df['consulta'] = pd.Series(preprocesar_correos(test_df['consulta']))\n",
        "\n",
        "# Muestro salida por consola\n",
        "print('Existen {} clases: {}.'.format(len(df_e0.clase.unique()), df_e0.clase.unique()))\n",
        "\n",
        "# Me quedo con las N cantidad de instancias con mayor score por clase\n",
        "if CANTIDAD_INSTANCIAS<200:\n",
        "  df_e0 = df_e0.sort_values(['clase','score'], ascending=False).groupby('clase').head(CANTIDAD_INSTANCIAS).reset_index(drop=True)\n",
        "  df_e0 = df_e0.sample(frac = 1)"
      ],
      "execution_count": 8,
      "outputs": [
        {
          "output_type": "stream",
          "text": [
            "\n",
            "El conjunto de entrenamiento tiene la dimensión: (3200, 25)\n",
            "El conjunto de testeo tiene la dimensión: (200, 24)\n",
            "Existen 16 clases: ['Boleto Universitario' 'Cambio de Carrera' 'Cambio de Comisión'\n",
            " 'Consulta por Equivalencias' 'Consulta por Legajo'\n",
            " 'Consulta sobre Título Universitario' 'Cursadas' 'Datos Personales'\n",
            " 'Exámenes' 'Ingreso a la Universidad' 'Pedido de Certificados'\n",
            " 'Problemas con la Clave' 'Reincorporación' 'Requisitos de Ingreso'\n",
            " 'Simultaneidad de Carreras' 'Situación Académica'].\n"
          ],
          "name": "stdout"
        }
      ]
    },
    {
      "cell_type": "code",
      "metadata": {
        "colab": {
          "base_uri": "https://localhost:8080/"
        },
        "id": "6BPhRHNBSYUW",
        "outputId": "107c16c8-03e6-4e2f-dd4e-72b8fb0a2cb7"
      },
      "source": [
        "# Chequeo sobre si los archivos están en el working directory\n",
        "download_files = not(path.exists(TRAIN_FILE_E1))\n",
        "\n",
        "df_e1, test_df_e1, etiquetas = cargar_dataset(DS_DIR, TRAIN_FILE_E1, TEST_FILE, download_files, 'clase', etiquetas, CANTIDAD_CLASES, 'Otras Consultas')\n",
        "\n",
        "# Se ejecuta el preprocesamiento de correos sobre el campo Consulta de train y test\n",
        "df_e1['consulta'] = pd.Series(preprocesar_correos(df_e1['consulta']))\n",
        "\n",
        "# Muestro salida por consola\n",
        "print('Existen {} clases: {}.'.format(len(df_e1.clase.unique()), df_e1.clase.unique()))\n",
        "\n",
        "# Me quedo con las N cantidad de instancias con mayor score por clase\n",
        "if CANTIDAD_INSTANCIAS<200:\n",
        "  df_e1 = df_e1.sort_values(['clase','score'], ascending=False).groupby('clase').head(CANTIDAD_INSTANCIAS).reset_index(drop=True)\n",
        "  df_e1 = df_e1.sample(frac = 1)"
      ],
      "execution_count": 9,
      "outputs": [
        {
          "output_type": "stream",
          "text": [
            "\n",
            "El conjunto de entrenamiento tiene la dimensión: (3200, 25)\n",
            "El conjunto de testeo tiene la dimensión: (200, 24)\n",
            "Existen 16 clases: ['Boleto Universitario' 'Cambio de Carrera' 'Cambio de Comisión'\n",
            " 'Consulta por Equivalencias' 'Consulta por Legajo'\n",
            " 'Consulta sobre Título Universitario' 'Cursadas' 'Datos Personales'\n",
            " 'Exámenes' 'Ingreso a la Universidad' 'Pedido de Certificados'\n",
            " 'Problemas con la Clave' 'Reincorporación' 'Requisitos de Ingreso'\n",
            " 'Simultaneidad de Carreras' 'Situación Académica'].\n"
          ],
          "name": "stdout"
        }
      ]
    },
    {
      "cell_type": "markdown",
      "metadata": {
        "id": "KOJGQpwSkqCw"
      },
      "source": [
        "Solo en el caso que decida hacer el sistema de votación entre las 3 estrategias inicializo la tercera:"
      ]
    },
    {
      "cell_type": "code",
      "metadata": {
        "id": "p4OziqC3WjET"
      },
      "source": [
        "if len(estrategias_feature_extraction)==3:\n",
        "\n",
        "  # Chequeo sobre si los archivos están en el working directory\n",
        "  download_files = not(path.exists(TRAIN_FILE_E2))\n",
        "\n",
        "  df_e2, test_df_e2, etiquetas = cargar_dataset(DS_DIR, TRAIN_FILE_E2, TEST_FILE, download_files, 'clase', etiquetas, CANTIDAD_CLASES, 'Otras Consultas')\n",
        "\n",
        "  # Se ejecuta el preprocesamiento de correos sobre el campo Consulta de train y test\n",
        "  df_e2['consulta'] = pd.Series(preprocesar_correos(df_e2['consulta']))\n",
        "\n",
        "  # Muestro salida por consola\n",
        "  print('Existen {} clases: {}.'.format(len(df_e2.clase.unique()), df_e2.clase.unique()))\n",
        "\n",
        "  # Me quedo con las N cantidad de instancias con mayor score por clase\n",
        "  if CANTIDAD_INSTANCIAS<200:\n",
        "    df_e2 = df_e2.sort_values(['clase','score'], ascending=False).groupby('clase').head(CANTIDAD_INSTANCIAS).reset_index(drop=True)\n",
        "    df_e2 = df_e2.sample(frac = 1)"
      ],
      "execution_count": 10,
      "outputs": []
    },
    {
      "cell_type": "markdown",
      "metadata": {
        "id": "CD6F7H8Co80F"
      },
      "source": [
        "Verifico si voy a acumular los datos etiquetados manualmente a los de etiquetado no supervisado y en caso afirmativo los cargo en memoria:"
      ]
    },
    {
      "cell_type": "code",
      "metadata": {
        "id": "HjGj575EAKm9"
      },
      "source": [
        "if ACUMULTATIVO:\n",
        " \n",
        "  # Chequeo sobre si los archivos están en el working directory\n",
        "  download_files = not(path.exists(TRAIN_FILE_MANUAL))\n",
        "\n",
        "  train_df_manual, test_df_manual, etiquetas = cargar_dataset(DS_DIR, TRAIN_FILE_MANUAL, TEST_FILE, download_files, 'clase', etiquetas, CANTIDAD_CLASES, 'Otras Consultas')\n",
        "\n",
        "  # Se ejecuta el preprocesamiento de correos sobre el campo Consulta de train y test\n",
        "  train_df_manual['consulta'] = pd.Series(preprocesar_correos(train_df_manual['consulta']))\n",
        "\n",
        "  # Muestro salida por consola\n",
        "  print('Existen {} clases: {}.'.format(len(train_df_manual.clase.unique()), train_df_manual.clase.unique()))"
      ],
      "execution_count": 11,
      "outputs": []
    },
    {
      "cell_type": "markdown",
      "metadata": {
        "id": "3RXDYdtTsl31"
      },
      "source": [
        "### 1.4 Sistema de votación entre estrategias de _feature extraction_"
      ]
    },
    {
      "cell_type": "markdown",
      "metadata": {
        "id": "nfXzjTUVpIzM"
      },
      "source": [
        "En primer lugar, se joinea mediante el texto de la consulta las estrategias encaradas (según sean dos o tres):"
      ]
    },
    {
      "cell_type": "code",
      "metadata": {
        "id": "UtsZgzmTZPyG"
      },
      "source": [
        "import pandas as pd\n",
        "\n",
        "df_join = pd.merge(df_e0, df_e1, on='consulta', how='left', suffixes=(None, \"_x\"))\n",
        "\n",
        "# Si están las 3 estrategias, se incorpora también la 3era\n",
        "if len(estrategias_feature_extraction)==3:\n",
        "  df_join = pd.merge(df_join, df_e2, on='consulta', how='left')"
      ],
      "execution_count": 12,
      "outputs": []
    },
    {
      "cell_type": "markdown",
      "metadata": {
        "id": "ScMv6W-y4MbJ"
      },
      "source": [
        "Borro las instancias con faltantes y verifico el resultado la dimensionalidad del df:"
      ]
    },
    {
      "cell_type": "code",
      "metadata": {
        "colab": {
          "base_uri": "https://localhost:8080/"
        },
        "id": "ZA6GiR72ZaGi",
        "outputId": "2e7a2d02-8627-49ea-fbdf-1274e735b40c"
      },
      "source": [
        "df_join = df_join.dropna()\n",
        "\n",
        "df_join.shape"
      ],
      "execution_count": 13,
      "outputs": [
        {
          "output_type": "execute_result",
          "data": {
            "text/plain": [
              "(843, 49)"
            ]
          },
          "metadata": {},
          "execution_count": 13
        }
      ]
    },
    {
      "cell_type": "code",
      "metadata": {
        "colab": {
          "base_uri": "https://localhost:8080/",
          "height": 1000
        },
        "id": "GtNhv0fJvq2S",
        "outputId": "d8bad263-11aa-41f8-fc07-f1bf43731c1e"
      },
      "source": [
        "df_join"
      ],
      "execution_count": 14,
      "outputs": [
        {
          "output_type": "execute_result",
          "data": {
            "text/html": [
              "<div>\n",
              "<style scoped>\n",
              "    .dataframe tbody tr th:only-of-type {\n",
              "        vertical-align: middle;\n",
              "    }\n",
              "\n",
              "    .dataframe tbody tr th {\n",
              "        vertical-align: top;\n",
              "    }\n",
              "\n",
              "    .dataframe thead th {\n",
              "        text-align: right;\n",
              "    }\n",
              "</style>\n",
              "<table border=\"1\" class=\"dataframe\">\n",
              "  <thead>\n",
              "    <tr style=\"text-align: right;\">\n",
              "      <th></th>\n",
              "      <th>consulta</th>\n",
              "      <th>dia_semana</th>\n",
              "      <th>semana_del_mes</th>\n",
              "      <th>mes</th>\n",
              "      <th>cuatrimestre</th>\n",
              "      <th>anio</th>\n",
              "      <th>hora_discretizada</th>\n",
              "      <th>dni_discretizado</th>\n",
              "      <th>legajo_discretizado</th>\n",
              "      <th>posee_legajo</th>\n",
              "      <th>posee_telefono</th>\n",
              "      <th>carrera_valor</th>\n",
              "      <th>proveedor_correo</th>\n",
              "      <th>cantidad_caracteres</th>\n",
              "      <th>proporcion_mayusculas</th>\n",
              "      <th>proporcion_letras</th>\n",
              "      <th>cantidad_tildes</th>\n",
              "      <th>cantidad_palabras</th>\n",
              "      <th>cantidad_palabras_cortas</th>\n",
              "      <th>proporcion_palabras_distintas</th>\n",
              "      <th>frecuencia_signos_puntuacion</th>\n",
              "      <th>cantidad_oraciones</th>\n",
              "      <th>utiliza_codigo_asignatura</th>\n",
              "      <th>score</th>\n",
              "      <th>clase</th>\n",
              "      <th>dia_semana_x</th>\n",
              "      <th>semana_del_mes_x</th>\n",
              "      <th>mes_x</th>\n",
              "      <th>cuatrimestre_x</th>\n",
              "      <th>anio_x</th>\n",
              "      <th>hora_discretizada_x</th>\n",
              "      <th>dni_discretizado_x</th>\n",
              "      <th>legajo_discretizado_x</th>\n",
              "      <th>posee_legajo_x</th>\n",
              "      <th>posee_telefono_x</th>\n",
              "      <th>carrera_valor_x</th>\n",
              "      <th>proveedor_correo_x</th>\n",
              "      <th>cantidad_caracteres_x</th>\n",
              "      <th>proporcion_mayusculas_x</th>\n",
              "      <th>proporcion_letras_x</th>\n",
              "      <th>cantidad_tildes_x</th>\n",
              "      <th>cantidad_palabras_x</th>\n",
              "      <th>cantidad_palabras_cortas_x</th>\n",
              "      <th>proporcion_palabras_distintas_x</th>\n",
              "      <th>frecuencia_signos_puntuacion_x</th>\n",
              "      <th>cantidad_oraciones_x</th>\n",
              "      <th>utiliza_codigo_asignatura_x</th>\n",
              "      <th>score_x</th>\n",
              "      <th>clase_x</th>\n",
              "    </tr>\n",
              "  </thead>\n",
              "  <tbody>\n",
              "    <tr>\n",
              "      <th>0</th>\n",
              "      <td>buenas tardes quisiera saber posible cambiar h...</td>\n",
              "      <td>1</td>\n",
              "      <td>1</td>\n",
              "      <td>2</td>\n",
              "      <td>1</td>\n",
              "      <td>2019</td>\n",
              "      <td>1</td>\n",
              "      <td>5</td>\n",
              "      <td>0</td>\n",
              "      <td>0</td>\n",
              "      <td>0</td>\n",
              "      <td>3</td>\n",
              "      <td>33</td>\n",
              "      <td>218</td>\n",
              "      <td>0.0</td>\n",
              "      <td>0.788991</td>\n",
              "      <td>3</td>\n",
              "      <td>42</td>\n",
              "      <td>21</td>\n",
              "      <td>0.809524</td>\n",
              "      <td>0.022936</td>\n",
              "      <td>3</td>\n",
              "      <td>0</td>\n",
              "      <td>16.438839</td>\n",
              "      <td>Cambio de Carrera</td>\n",
              "      <td>1.0</td>\n",
              "      <td>1.0</td>\n",
              "      <td>2.0</td>\n",
              "      <td>1.0</td>\n",
              "      <td>2019.0</td>\n",
              "      <td>1.0</td>\n",
              "      <td>6.0</td>\n",
              "      <td>0.0</td>\n",
              "      <td>0.0</td>\n",
              "      <td>0.0</td>\n",
              "      <td>3.0</td>\n",
              "      <td>35.0</td>\n",
              "      <td>218.0</td>\n",
              "      <td>0.0</td>\n",
              "      <td>0.788991</td>\n",
              "      <td>3.0</td>\n",
              "      <td>42.0</td>\n",
              "      <td>21.0</td>\n",
              "      <td>0.809524</td>\n",
              "      <td>0.022936</td>\n",
              "      <td>3.0</td>\n",
              "      <td>0.0</td>\n",
              "      <td>18.420843</td>\n",
              "      <td>Cursadas</td>\n",
              "    </tr>\n",
              "    <tr>\n",
              "      <th>1</th>\n",
              "      <td>buenas tardes quisiera saber posible cambiar h...</td>\n",
              "      <td>1</td>\n",
              "      <td>1</td>\n",
              "      <td>2</td>\n",
              "      <td>1</td>\n",
              "      <td>2019</td>\n",
              "      <td>1</td>\n",
              "      <td>5</td>\n",
              "      <td>0</td>\n",
              "      <td>0</td>\n",
              "      <td>0</td>\n",
              "      <td>3</td>\n",
              "      <td>33</td>\n",
              "      <td>218</td>\n",
              "      <td>0.0</td>\n",
              "      <td>0.788991</td>\n",
              "      <td>3</td>\n",
              "      <td>42</td>\n",
              "      <td>21</td>\n",
              "      <td>0.809524</td>\n",
              "      <td>0.022936</td>\n",
              "      <td>3</td>\n",
              "      <td>0</td>\n",
              "      <td>16.438839</td>\n",
              "      <td>Cambio de Carrera</td>\n",
              "      <td>1.0</td>\n",
              "      <td>1.0</td>\n",
              "      <td>2.0</td>\n",
              "      <td>1.0</td>\n",
              "      <td>2019.0</td>\n",
              "      <td>1.0</td>\n",
              "      <td>6.0</td>\n",
              "      <td>0.0</td>\n",
              "      <td>0.0</td>\n",
              "      <td>0.0</td>\n",
              "      <td>3.0</td>\n",
              "      <td>35.0</td>\n",
              "      <td>218.0</td>\n",
              "      <td>0.0</td>\n",
              "      <td>0.788991</td>\n",
              "      <td>3.0</td>\n",
              "      <td>42.0</td>\n",
              "      <td>21.0</td>\n",
              "      <td>0.809524</td>\n",
              "      <td>0.022936</td>\n",
              "      <td>3.0</td>\n",
              "      <td>0.0</td>\n",
              "      <td>20.760212</td>\n",
              "      <td>Cambio de Comisión</td>\n",
              "    </tr>\n",
              "    <tr>\n",
              "      <th>2</th>\n",
              "      <td>olvide clave presione opcion restablecerla nun...</td>\n",
              "      <td>4</td>\n",
              "      <td>2</td>\n",
              "      <td>8</td>\n",
              "      <td>2</td>\n",
              "      <td>2018</td>\n",
              "      <td>3</td>\n",
              "      <td>4</td>\n",
              "      <td>2</td>\n",
              "      <td>1</td>\n",
              "      <td>1</td>\n",
              "      <td>3</td>\n",
              "      <td>13</td>\n",
              "      <td>148</td>\n",
              "      <td>0.0</td>\n",
              "      <td>0.810811</td>\n",
              "      <td>3</td>\n",
              "      <td>28</td>\n",
              "      <td>16</td>\n",
              "      <td>0.857143</td>\n",
              "      <td>0.006757</td>\n",
              "      <td>1</td>\n",
              "      <td>0</td>\n",
              "      <td>28.271154</td>\n",
              "      <td>Problemas con la Clave</td>\n",
              "      <td>4.0</td>\n",
              "      <td>2.0</td>\n",
              "      <td>8.0</td>\n",
              "      <td>2.0</td>\n",
              "      <td>2018.0</td>\n",
              "      <td>3.0</td>\n",
              "      <td>4.0</td>\n",
              "      <td>3.0</td>\n",
              "      <td>1.0</td>\n",
              "      <td>1.0</td>\n",
              "      <td>3.0</td>\n",
              "      <td>11.0</td>\n",
              "      <td>148.0</td>\n",
              "      <td>0.0</td>\n",
              "      <td>0.810811</td>\n",
              "      <td>3.0</td>\n",
              "      <td>28.0</td>\n",
              "      <td>16.0</td>\n",
              "      <td>0.857143</td>\n",
              "      <td>0.006757</td>\n",
              "      <td>1.0</td>\n",
              "      <td>0.0</td>\n",
              "      <td>33.542774</td>\n",
              "      <td>Problemas con la Clave</td>\n",
              "    </tr>\n",
              "    <tr>\n",
              "      <th>3</th>\n",
              "      <td>hola queria solicitar cambio horario asignatur...</td>\n",
              "      <td>3</td>\n",
              "      <td>2</td>\n",
              "      <td>2</td>\n",
              "      <td>1</td>\n",
              "      <td>2018</td>\n",
              "      <td>2</td>\n",
              "      <td>7</td>\n",
              "      <td>4</td>\n",
              "      <td>1</td>\n",
              "      <td>1</td>\n",
              "      <td>5</td>\n",
              "      <td>23</td>\n",
              "      <td>213</td>\n",
              "      <td>0.0</td>\n",
              "      <td>0.779343</td>\n",
              "      <td>2</td>\n",
              "      <td>37</td>\n",
              "      <td>18</td>\n",
              "      <td>0.810811</td>\n",
              "      <td>0.032864</td>\n",
              "      <td>4</td>\n",
              "      <td>0</td>\n",
              "      <td>18.615526</td>\n",
              "      <td>Datos Personales</td>\n",
              "      <td>3.0</td>\n",
              "      <td>2.0</td>\n",
              "      <td>2.0</td>\n",
              "      <td>1.0</td>\n",
              "      <td>2018.0</td>\n",
              "      <td>2.0</td>\n",
              "      <td>7.0</td>\n",
              "      <td>4.0</td>\n",
              "      <td>1.0</td>\n",
              "      <td>1.0</td>\n",
              "      <td>5.0</td>\n",
              "      <td>22.0</td>\n",
              "      <td>213.0</td>\n",
              "      <td>0.0</td>\n",
              "      <td>0.779343</td>\n",
              "      <td>2.0</td>\n",
              "      <td>37.0</td>\n",
              "      <td>18.0</td>\n",
              "      <td>0.810811</td>\n",
              "      <td>0.032864</td>\n",
              "      <td>4.0</td>\n",
              "      <td>0.0</td>\n",
              "      <td>19.202036</td>\n",
              "      <td>Cambio de Comisión</td>\n",
              "    </tr>\n",
              "    <tr>\n",
              "      <th>7</th>\n",
              "      <td>llego ningun correo urge reestablecer clave fa...</td>\n",
              "      <td>2</td>\n",
              "      <td>4</td>\n",
              "      <td>2</td>\n",
              "      <td>1</td>\n",
              "      <td>2018</td>\n",
              "      <td>3</td>\n",
              "      <td>8</td>\n",
              "      <td>4</td>\n",
              "      <td>1</td>\n",
              "      <td>1</td>\n",
              "      <td>41</td>\n",
              "      <td>13</td>\n",
              "      <td>114</td>\n",
              "      <td>0.0</td>\n",
              "      <td>0.815789</td>\n",
              "      <td>4</td>\n",
              "      <td>22</td>\n",
              "      <td>12</td>\n",
              "      <td>0.863636</td>\n",
              "      <td>0.000000</td>\n",
              "      <td>1</td>\n",
              "      <td>0</td>\n",
              "      <td>26.743103</td>\n",
              "      <td>Problemas con la Clave</td>\n",
              "      <td>2.0</td>\n",
              "      <td>4.0</td>\n",
              "      <td>2.0</td>\n",
              "      <td>1.0</td>\n",
              "      <td>2018.0</td>\n",
              "      <td>3.0</td>\n",
              "      <td>8.0</td>\n",
              "      <td>4.0</td>\n",
              "      <td>1.0</td>\n",
              "      <td>1.0</td>\n",
              "      <td>41.0</td>\n",
              "      <td>11.0</td>\n",
              "      <td>114.0</td>\n",
              "      <td>0.0</td>\n",
              "      <td>0.815789</td>\n",
              "      <td>4.0</td>\n",
              "      <td>22.0</td>\n",
              "      <td>12.0</td>\n",
              "      <td>0.863636</td>\n",
              "      <td>0.000000</td>\n",
              "      <td>1.0</td>\n",
              "      <td>0.0</td>\n",
              "      <td>32.358173</td>\n",
              "      <td>Problemas con la Clave</td>\n",
              "    </tr>\n",
              "    <tr>\n",
              "      <th>...</th>\n",
              "      <td>...</td>\n",
              "      <td>...</td>\n",
              "      <td>...</td>\n",
              "      <td>...</td>\n",
              "      <td>...</td>\n",
              "      <td>...</td>\n",
              "      <td>...</td>\n",
              "      <td>...</td>\n",
              "      <td>...</td>\n",
              "      <td>...</td>\n",
              "      <td>...</td>\n",
              "      <td>...</td>\n",
              "      <td>...</td>\n",
              "      <td>...</td>\n",
              "      <td>...</td>\n",
              "      <td>...</td>\n",
              "      <td>...</td>\n",
              "      <td>...</td>\n",
              "      <td>...</td>\n",
              "      <td>...</td>\n",
              "      <td>...</td>\n",
              "      <td>...</td>\n",
              "      <td>...</td>\n",
              "      <td>...</td>\n",
              "      <td>...</td>\n",
              "      <td>...</td>\n",
              "      <td>...</td>\n",
              "      <td>...</td>\n",
              "      <td>...</td>\n",
              "      <td>...</td>\n",
              "      <td>...</td>\n",
              "      <td>...</td>\n",
              "      <td>...</td>\n",
              "      <td>...</td>\n",
              "      <td>...</td>\n",
              "      <td>...</td>\n",
              "      <td>...</td>\n",
              "      <td>...</td>\n",
              "      <td>...</td>\n",
              "      <td>...</td>\n",
              "      <td>...</td>\n",
              "      <td>...</td>\n",
              "      <td>...</td>\n",
              "      <td>...</td>\n",
              "      <td>...</td>\n",
              "      <td>...</td>\n",
              "      <td>...</td>\n",
              "      <td>...</td>\n",
              "      <td>...</td>\n",
              "    </tr>\n",
              "    <tr>\n",
              "      <th>1756</th>\n",
              "      <td>buenos dias pregunta acerca inscripcion aspira...</td>\n",
              "      <td>0</td>\n",
              "      <td>4</td>\n",
              "      <td>2</td>\n",
              "      <td>1</td>\n",
              "      <td>2018</td>\n",
              "      <td>0</td>\n",
              "      <td>8</td>\n",
              "      <td>0</td>\n",
              "      <td>0</td>\n",
              "      <td>0</td>\n",
              "      <td>0</td>\n",
              "      <td>23</td>\n",
              "      <td>217</td>\n",
              "      <td>0.0</td>\n",
              "      <td>0.811060</td>\n",
              "      <td>6</td>\n",
              "      <td>38</td>\n",
              "      <td>20</td>\n",
              "      <td>0.894737</td>\n",
              "      <td>0.018433</td>\n",
              "      <td>2</td>\n",
              "      <td>0</td>\n",
              "      <td>31.438173</td>\n",
              "      <td>Ingreso a la Universidad</td>\n",
              "      <td>0.0</td>\n",
              "      <td>4.0</td>\n",
              "      <td>2.0</td>\n",
              "      <td>1.0</td>\n",
              "      <td>2018.0</td>\n",
              "      <td>0.0</td>\n",
              "      <td>8.0</td>\n",
              "      <td>0.0</td>\n",
              "      <td>0.0</td>\n",
              "      <td>0.0</td>\n",
              "      <td>0.0</td>\n",
              "      <td>22.0</td>\n",
              "      <td>217.0</td>\n",
              "      <td>0.0</td>\n",
              "      <td>0.811060</td>\n",
              "      <td>6.0</td>\n",
              "      <td>38.0</td>\n",
              "      <td>20.0</td>\n",
              "      <td>0.894737</td>\n",
              "      <td>0.018433</td>\n",
              "      <td>2.0</td>\n",
              "      <td>0.0</td>\n",
              "      <td>28.790833</td>\n",
              "      <td>Ingreso a la Universidad</td>\n",
              "    </tr>\n",
              "    <tr>\n",
              "      <th>1757</th>\n",
              "      <td>buenos dias pregunta acerca inscripcion aspira...</td>\n",
              "      <td>0</td>\n",
              "      <td>4</td>\n",
              "      <td>2</td>\n",
              "      <td>1</td>\n",
              "      <td>2018</td>\n",
              "      <td>0</td>\n",
              "      <td>8</td>\n",
              "      <td>0</td>\n",
              "      <td>0</td>\n",
              "      <td>0</td>\n",
              "      <td>0</td>\n",
              "      <td>23</td>\n",
              "      <td>217</td>\n",
              "      <td>0.0</td>\n",
              "      <td>0.811060</td>\n",
              "      <td>6</td>\n",
              "      <td>38</td>\n",
              "      <td>20</td>\n",
              "      <td>0.894737</td>\n",
              "      <td>0.018433</td>\n",
              "      <td>2</td>\n",
              "      <td>0</td>\n",
              "      <td>31.438173</td>\n",
              "      <td>Ingreso a la Universidad</td>\n",
              "      <td>0.0</td>\n",
              "      <td>4.0</td>\n",
              "      <td>2.0</td>\n",
              "      <td>1.0</td>\n",
              "      <td>2018.0</td>\n",
              "      <td>0.0</td>\n",
              "      <td>8.0</td>\n",
              "      <td>0.0</td>\n",
              "      <td>0.0</td>\n",
              "      <td>0.0</td>\n",
              "      <td>0.0</td>\n",
              "      <td>22.0</td>\n",
              "      <td>217.0</td>\n",
              "      <td>0.0</td>\n",
              "      <td>0.811060</td>\n",
              "      <td>6.0</td>\n",
              "      <td>38.0</td>\n",
              "      <td>20.0</td>\n",
              "      <td>0.894737</td>\n",
              "      <td>0.018433</td>\n",
              "      <td>2.0</td>\n",
              "      <td>0.0</td>\n",
              "      <td>28.790833</td>\n",
              "      <td>Ingreso a la Universidad</td>\n",
              "    </tr>\n",
              "    <tr>\n",
              "      <th>1758</th>\n",
              "      <td>buenos dias pregunta acerca inscripcion aspira...</td>\n",
              "      <td>0</td>\n",
              "      <td>4</td>\n",
              "      <td>2</td>\n",
              "      <td>1</td>\n",
              "      <td>2018</td>\n",
              "      <td>0</td>\n",
              "      <td>8</td>\n",
              "      <td>0</td>\n",
              "      <td>0</td>\n",
              "      <td>0</td>\n",
              "      <td>0</td>\n",
              "      <td>23</td>\n",
              "      <td>217</td>\n",
              "      <td>0.0</td>\n",
              "      <td>0.811060</td>\n",
              "      <td>6</td>\n",
              "      <td>38</td>\n",
              "      <td>20</td>\n",
              "      <td>0.894737</td>\n",
              "      <td>0.018433</td>\n",
              "      <td>2</td>\n",
              "      <td>0</td>\n",
              "      <td>31.438173</td>\n",
              "      <td>Ingreso a la Universidad</td>\n",
              "      <td>0.0</td>\n",
              "      <td>4.0</td>\n",
              "      <td>2.0</td>\n",
              "      <td>1.0</td>\n",
              "      <td>2018.0</td>\n",
              "      <td>0.0</td>\n",
              "      <td>8.0</td>\n",
              "      <td>0.0</td>\n",
              "      <td>0.0</td>\n",
              "      <td>0.0</td>\n",
              "      <td>0.0</td>\n",
              "      <td>22.0</td>\n",
              "      <td>217.0</td>\n",
              "      <td>0.0</td>\n",
              "      <td>0.811060</td>\n",
              "      <td>6.0</td>\n",
              "      <td>38.0</td>\n",
              "      <td>20.0</td>\n",
              "      <td>0.894737</td>\n",
              "      <td>0.018433</td>\n",
              "      <td>2.0</td>\n",
              "      <td>0.0</td>\n",
              "      <td>28.790833</td>\n",
              "      <td>Ingreso a la Universidad</td>\n",
              "    </tr>\n",
              "    <tr>\n",
              "      <th>1760</th>\n",
              "      <td>queria solicitar certificado materias aprobada...</td>\n",
              "      <td>1</td>\n",
              "      <td>2</td>\n",
              "      <td>4</td>\n",
              "      <td>1</td>\n",
              "      <td>2017</td>\n",
              "      <td>3</td>\n",
              "      <td>5</td>\n",
              "      <td>2</td>\n",
              "      <td>1</td>\n",
              "      <td>1</td>\n",
              "      <td>43</td>\n",
              "      <td>23</td>\n",
              "      <td>70</td>\n",
              "      <td>0.0</td>\n",
              "      <td>0.842857</td>\n",
              "      <td>0</td>\n",
              "      <td>12</td>\n",
              "      <td>6</td>\n",
              "      <td>0.833333</td>\n",
              "      <td>0.000000</td>\n",
              "      <td>1</td>\n",
              "      <td>0</td>\n",
              "      <td>24.059593</td>\n",
              "      <td>Pedido de Certificados</td>\n",
              "      <td>1.0</td>\n",
              "      <td>2.0</td>\n",
              "      <td>4.0</td>\n",
              "      <td>1.0</td>\n",
              "      <td>2017.0</td>\n",
              "      <td>3.0</td>\n",
              "      <td>6.0</td>\n",
              "      <td>3.0</td>\n",
              "      <td>1.0</td>\n",
              "      <td>1.0</td>\n",
              "      <td>43.0</td>\n",
              "      <td>22.0</td>\n",
              "      <td>70.0</td>\n",
              "      <td>0.0</td>\n",
              "      <td>0.842857</td>\n",
              "      <td>0.0</td>\n",
              "      <td>12.0</td>\n",
              "      <td>6.0</td>\n",
              "      <td>0.833333</td>\n",
              "      <td>0.000000</td>\n",
              "      <td>1.0</td>\n",
              "      <td>0.0</td>\n",
              "      <td>29.226885</td>\n",
              "      <td>Pedido de Certificados</td>\n",
              "    </tr>\n",
              "    <tr>\n",
              "      <th>1761</th>\n",
              "      <td>necesitaria comprobante materias aprobadas pre...</td>\n",
              "      <td>4</td>\n",
              "      <td>4</td>\n",
              "      <td>9</td>\n",
              "      <td>2</td>\n",
              "      <td>2016</td>\n",
              "      <td>2</td>\n",
              "      <td>4</td>\n",
              "      <td>2</td>\n",
              "      <td>1</td>\n",
              "      <td>1</td>\n",
              "      <td>54</td>\n",
              "      <td>23</td>\n",
              "      <td>131</td>\n",
              "      <td>0.0</td>\n",
              "      <td>0.832061</td>\n",
              "      <td>0</td>\n",
              "      <td>21</td>\n",
              "      <td>9</td>\n",
              "      <td>0.904762</td>\n",
              "      <td>0.015267</td>\n",
              "      <td>2</td>\n",
              "      <td>0</td>\n",
              "      <td>22.348314</td>\n",
              "      <td>Pedido de Certificados</td>\n",
              "      <td>4.0</td>\n",
              "      <td>4.0</td>\n",
              "      <td>9.0</td>\n",
              "      <td>2.0</td>\n",
              "      <td>2016.0</td>\n",
              "      <td>2.0</td>\n",
              "      <td>5.0</td>\n",
              "      <td>3.0</td>\n",
              "      <td>1.0</td>\n",
              "      <td>1.0</td>\n",
              "      <td>54.0</td>\n",
              "      <td>22.0</td>\n",
              "      <td>131.0</td>\n",
              "      <td>0.0</td>\n",
              "      <td>0.832061</td>\n",
              "      <td>0.0</td>\n",
              "      <td>21.0</td>\n",
              "      <td>9.0</td>\n",
              "      <td>0.904762</td>\n",
              "      <td>0.015267</td>\n",
              "      <td>2.0</td>\n",
              "      <td>0.0</td>\n",
              "      <td>21.832012</td>\n",
              "      <td>Pedido de Certificados</td>\n",
              "    </tr>\n",
              "  </tbody>\n",
              "</table>\n",
              "<p>843 rows × 49 columns</p>\n",
              "</div>"
            ],
            "text/plain": [
              "                                               consulta  ...                   clase_x\n",
              "0     buenas tardes quisiera saber posible cambiar h...  ...                  Cursadas\n",
              "1     buenas tardes quisiera saber posible cambiar h...  ...        Cambio de Comisión\n",
              "2     olvide clave presione opcion restablecerla nun...  ...    Problemas con la Clave\n",
              "3     hola queria solicitar cambio horario asignatur...  ...        Cambio de Comisión\n",
              "7     llego ningun correo urge reestablecer clave fa...  ...    Problemas con la Clave\n",
              "...                                                 ...  ...                       ...\n",
              "1756  buenos dias pregunta acerca inscripcion aspira...  ...  Ingreso a la Universidad\n",
              "1757  buenos dias pregunta acerca inscripcion aspira...  ...  Ingreso a la Universidad\n",
              "1758  buenos dias pregunta acerca inscripcion aspira...  ...  Ingreso a la Universidad\n",
              "1760  queria solicitar certificado materias aprobada...  ...    Pedido de Certificados\n",
              "1761  necesitaria comprobante materias aprobadas pre...  ...    Pedido de Certificados\n",
              "\n",
              "[843 rows x 49 columns]"
            ]
          },
          "metadata": {},
          "execution_count": 14
        }
      ]
    },
    {
      "cell_type": "markdown",
      "metadata": {
        "id": "zIpAEEaP4Sow"
      },
      "source": [
        "Muestro las primeras 5 instancias:"
      ]
    },
    {
      "cell_type": "code",
      "metadata": {
        "colab": {
          "base_uri": "https://localhost:8080/",
          "height": 581
        },
        "id": "jDuquHUk0ij2",
        "outputId": "d7849846-b194-4f08-88a6-2295a0f03e96"
      },
      "source": [
        "df_join.head()"
      ],
      "execution_count": 15,
      "outputs": [
        {
          "output_type": "execute_result",
          "data": {
            "text/html": [
              "<div>\n",
              "<style scoped>\n",
              "    .dataframe tbody tr th:only-of-type {\n",
              "        vertical-align: middle;\n",
              "    }\n",
              "\n",
              "    .dataframe tbody tr th {\n",
              "        vertical-align: top;\n",
              "    }\n",
              "\n",
              "    .dataframe thead th {\n",
              "        text-align: right;\n",
              "    }\n",
              "</style>\n",
              "<table border=\"1\" class=\"dataframe\">\n",
              "  <thead>\n",
              "    <tr style=\"text-align: right;\">\n",
              "      <th></th>\n",
              "      <th>consulta</th>\n",
              "      <th>dia_semana</th>\n",
              "      <th>semana_del_mes</th>\n",
              "      <th>mes</th>\n",
              "      <th>cuatrimestre</th>\n",
              "      <th>anio</th>\n",
              "      <th>hora_discretizada</th>\n",
              "      <th>dni_discretizado</th>\n",
              "      <th>legajo_discretizado</th>\n",
              "      <th>posee_legajo</th>\n",
              "      <th>posee_telefono</th>\n",
              "      <th>carrera_valor</th>\n",
              "      <th>proveedor_correo</th>\n",
              "      <th>cantidad_caracteres</th>\n",
              "      <th>proporcion_mayusculas</th>\n",
              "      <th>proporcion_letras</th>\n",
              "      <th>cantidad_tildes</th>\n",
              "      <th>cantidad_palabras</th>\n",
              "      <th>cantidad_palabras_cortas</th>\n",
              "      <th>proporcion_palabras_distintas</th>\n",
              "      <th>frecuencia_signos_puntuacion</th>\n",
              "      <th>cantidad_oraciones</th>\n",
              "      <th>utiliza_codigo_asignatura</th>\n",
              "      <th>score</th>\n",
              "      <th>clase</th>\n",
              "      <th>dia_semana_x</th>\n",
              "      <th>semana_del_mes_x</th>\n",
              "      <th>mes_x</th>\n",
              "      <th>cuatrimestre_x</th>\n",
              "      <th>anio_x</th>\n",
              "      <th>hora_discretizada_x</th>\n",
              "      <th>dni_discretizado_x</th>\n",
              "      <th>legajo_discretizado_x</th>\n",
              "      <th>posee_legajo_x</th>\n",
              "      <th>posee_telefono_x</th>\n",
              "      <th>carrera_valor_x</th>\n",
              "      <th>proveedor_correo_x</th>\n",
              "      <th>cantidad_caracteres_x</th>\n",
              "      <th>proporcion_mayusculas_x</th>\n",
              "      <th>proporcion_letras_x</th>\n",
              "      <th>cantidad_tildes_x</th>\n",
              "      <th>cantidad_palabras_x</th>\n",
              "      <th>cantidad_palabras_cortas_x</th>\n",
              "      <th>proporcion_palabras_distintas_x</th>\n",
              "      <th>frecuencia_signos_puntuacion_x</th>\n",
              "      <th>cantidad_oraciones_x</th>\n",
              "      <th>utiliza_codigo_asignatura_x</th>\n",
              "      <th>score_x</th>\n",
              "      <th>clase_x</th>\n",
              "    </tr>\n",
              "  </thead>\n",
              "  <tbody>\n",
              "    <tr>\n",
              "      <th>0</th>\n",
              "      <td>buenas tardes quisiera saber posible cambiar h...</td>\n",
              "      <td>1</td>\n",
              "      <td>1</td>\n",
              "      <td>2</td>\n",
              "      <td>1</td>\n",
              "      <td>2019</td>\n",
              "      <td>1</td>\n",
              "      <td>5</td>\n",
              "      <td>0</td>\n",
              "      <td>0</td>\n",
              "      <td>0</td>\n",
              "      <td>3</td>\n",
              "      <td>33</td>\n",
              "      <td>218</td>\n",
              "      <td>0.0</td>\n",
              "      <td>0.788991</td>\n",
              "      <td>3</td>\n",
              "      <td>42</td>\n",
              "      <td>21</td>\n",
              "      <td>0.809524</td>\n",
              "      <td>0.022936</td>\n",
              "      <td>3</td>\n",
              "      <td>0</td>\n",
              "      <td>16.438839</td>\n",
              "      <td>Cambio de Carrera</td>\n",
              "      <td>1.0</td>\n",
              "      <td>1.0</td>\n",
              "      <td>2.0</td>\n",
              "      <td>1.0</td>\n",
              "      <td>2019.0</td>\n",
              "      <td>1.0</td>\n",
              "      <td>6.0</td>\n",
              "      <td>0.0</td>\n",
              "      <td>0.0</td>\n",
              "      <td>0.0</td>\n",
              "      <td>3.0</td>\n",
              "      <td>35.0</td>\n",
              "      <td>218.0</td>\n",
              "      <td>0.0</td>\n",
              "      <td>0.788991</td>\n",
              "      <td>3.0</td>\n",
              "      <td>42.0</td>\n",
              "      <td>21.0</td>\n",
              "      <td>0.809524</td>\n",
              "      <td>0.022936</td>\n",
              "      <td>3.0</td>\n",
              "      <td>0.0</td>\n",
              "      <td>18.420843</td>\n",
              "      <td>Cursadas</td>\n",
              "    </tr>\n",
              "    <tr>\n",
              "      <th>1</th>\n",
              "      <td>buenas tardes quisiera saber posible cambiar h...</td>\n",
              "      <td>1</td>\n",
              "      <td>1</td>\n",
              "      <td>2</td>\n",
              "      <td>1</td>\n",
              "      <td>2019</td>\n",
              "      <td>1</td>\n",
              "      <td>5</td>\n",
              "      <td>0</td>\n",
              "      <td>0</td>\n",
              "      <td>0</td>\n",
              "      <td>3</td>\n",
              "      <td>33</td>\n",
              "      <td>218</td>\n",
              "      <td>0.0</td>\n",
              "      <td>0.788991</td>\n",
              "      <td>3</td>\n",
              "      <td>42</td>\n",
              "      <td>21</td>\n",
              "      <td>0.809524</td>\n",
              "      <td>0.022936</td>\n",
              "      <td>3</td>\n",
              "      <td>0</td>\n",
              "      <td>16.438839</td>\n",
              "      <td>Cambio de Carrera</td>\n",
              "      <td>1.0</td>\n",
              "      <td>1.0</td>\n",
              "      <td>2.0</td>\n",
              "      <td>1.0</td>\n",
              "      <td>2019.0</td>\n",
              "      <td>1.0</td>\n",
              "      <td>6.0</td>\n",
              "      <td>0.0</td>\n",
              "      <td>0.0</td>\n",
              "      <td>0.0</td>\n",
              "      <td>3.0</td>\n",
              "      <td>35.0</td>\n",
              "      <td>218.0</td>\n",
              "      <td>0.0</td>\n",
              "      <td>0.788991</td>\n",
              "      <td>3.0</td>\n",
              "      <td>42.0</td>\n",
              "      <td>21.0</td>\n",
              "      <td>0.809524</td>\n",
              "      <td>0.022936</td>\n",
              "      <td>3.0</td>\n",
              "      <td>0.0</td>\n",
              "      <td>20.760212</td>\n",
              "      <td>Cambio de Comisión</td>\n",
              "    </tr>\n",
              "    <tr>\n",
              "      <th>2</th>\n",
              "      <td>olvide clave presione opcion restablecerla nun...</td>\n",
              "      <td>4</td>\n",
              "      <td>2</td>\n",
              "      <td>8</td>\n",
              "      <td>2</td>\n",
              "      <td>2018</td>\n",
              "      <td>3</td>\n",
              "      <td>4</td>\n",
              "      <td>2</td>\n",
              "      <td>1</td>\n",
              "      <td>1</td>\n",
              "      <td>3</td>\n",
              "      <td>13</td>\n",
              "      <td>148</td>\n",
              "      <td>0.0</td>\n",
              "      <td>0.810811</td>\n",
              "      <td>3</td>\n",
              "      <td>28</td>\n",
              "      <td>16</td>\n",
              "      <td>0.857143</td>\n",
              "      <td>0.006757</td>\n",
              "      <td>1</td>\n",
              "      <td>0</td>\n",
              "      <td>28.271154</td>\n",
              "      <td>Problemas con la Clave</td>\n",
              "      <td>4.0</td>\n",
              "      <td>2.0</td>\n",
              "      <td>8.0</td>\n",
              "      <td>2.0</td>\n",
              "      <td>2018.0</td>\n",
              "      <td>3.0</td>\n",
              "      <td>4.0</td>\n",
              "      <td>3.0</td>\n",
              "      <td>1.0</td>\n",
              "      <td>1.0</td>\n",
              "      <td>3.0</td>\n",
              "      <td>11.0</td>\n",
              "      <td>148.0</td>\n",
              "      <td>0.0</td>\n",
              "      <td>0.810811</td>\n",
              "      <td>3.0</td>\n",
              "      <td>28.0</td>\n",
              "      <td>16.0</td>\n",
              "      <td>0.857143</td>\n",
              "      <td>0.006757</td>\n",
              "      <td>1.0</td>\n",
              "      <td>0.0</td>\n",
              "      <td>33.542774</td>\n",
              "      <td>Problemas con la Clave</td>\n",
              "    </tr>\n",
              "    <tr>\n",
              "      <th>3</th>\n",
              "      <td>hola queria solicitar cambio horario asignatur...</td>\n",
              "      <td>3</td>\n",
              "      <td>2</td>\n",
              "      <td>2</td>\n",
              "      <td>1</td>\n",
              "      <td>2018</td>\n",
              "      <td>2</td>\n",
              "      <td>7</td>\n",
              "      <td>4</td>\n",
              "      <td>1</td>\n",
              "      <td>1</td>\n",
              "      <td>5</td>\n",
              "      <td>23</td>\n",
              "      <td>213</td>\n",
              "      <td>0.0</td>\n",
              "      <td>0.779343</td>\n",
              "      <td>2</td>\n",
              "      <td>37</td>\n",
              "      <td>18</td>\n",
              "      <td>0.810811</td>\n",
              "      <td>0.032864</td>\n",
              "      <td>4</td>\n",
              "      <td>0</td>\n",
              "      <td>18.615526</td>\n",
              "      <td>Datos Personales</td>\n",
              "      <td>3.0</td>\n",
              "      <td>2.0</td>\n",
              "      <td>2.0</td>\n",
              "      <td>1.0</td>\n",
              "      <td>2018.0</td>\n",
              "      <td>2.0</td>\n",
              "      <td>7.0</td>\n",
              "      <td>4.0</td>\n",
              "      <td>1.0</td>\n",
              "      <td>1.0</td>\n",
              "      <td>5.0</td>\n",
              "      <td>22.0</td>\n",
              "      <td>213.0</td>\n",
              "      <td>0.0</td>\n",
              "      <td>0.779343</td>\n",
              "      <td>2.0</td>\n",
              "      <td>37.0</td>\n",
              "      <td>18.0</td>\n",
              "      <td>0.810811</td>\n",
              "      <td>0.032864</td>\n",
              "      <td>4.0</td>\n",
              "      <td>0.0</td>\n",
              "      <td>19.202036</td>\n",
              "      <td>Cambio de Comisión</td>\n",
              "    </tr>\n",
              "    <tr>\n",
              "      <th>7</th>\n",
              "      <td>llego ningun correo urge reestablecer clave fa...</td>\n",
              "      <td>2</td>\n",
              "      <td>4</td>\n",
              "      <td>2</td>\n",
              "      <td>1</td>\n",
              "      <td>2018</td>\n",
              "      <td>3</td>\n",
              "      <td>8</td>\n",
              "      <td>4</td>\n",
              "      <td>1</td>\n",
              "      <td>1</td>\n",
              "      <td>41</td>\n",
              "      <td>13</td>\n",
              "      <td>114</td>\n",
              "      <td>0.0</td>\n",
              "      <td>0.815789</td>\n",
              "      <td>4</td>\n",
              "      <td>22</td>\n",
              "      <td>12</td>\n",
              "      <td>0.863636</td>\n",
              "      <td>0.000000</td>\n",
              "      <td>1</td>\n",
              "      <td>0</td>\n",
              "      <td>26.743103</td>\n",
              "      <td>Problemas con la Clave</td>\n",
              "      <td>2.0</td>\n",
              "      <td>4.0</td>\n",
              "      <td>2.0</td>\n",
              "      <td>1.0</td>\n",
              "      <td>2018.0</td>\n",
              "      <td>3.0</td>\n",
              "      <td>8.0</td>\n",
              "      <td>4.0</td>\n",
              "      <td>1.0</td>\n",
              "      <td>1.0</td>\n",
              "      <td>41.0</td>\n",
              "      <td>11.0</td>\n",
              "      <td>114.0</td>\n",
              "      <td>0.0</td>\n",
              "      <td>0.815789</td>\n",
              "      <td>4.0</td>\n",
              "      <td>22.0</td>\n",
              "      <td>12.0</td>\n",
              "      <td>0.863636</td>\n",
              "      <td>0.000000</td>\n",
              "      <td>1.0</td>\n",
              "      <td>0.0</td>\n",
              "      <td>32.358173</td>\n",
              "      <td>Problemas con la Clave</td>\n",
              "    </tr>\n",
              "  </tbody>\n",
              "</table>\n",
              "</div>"
            ],
            "text/plain": [
              "                                            consulta  ...                 clase_x\n",
              "0  buenas tardes quisiera saber posible cambiar h...  ...                Cursadas\n",
              "1  buenas tardes quisiera saber posible cambiar h...  ...      Cambio de Comisión\n",
              "2  olvide clave presione opcion restablecerla nun...  ...  Problemas con la Clave\n",
              "3  hola queria solicitar cambio horario asignatur...  ...      Cambio de Comisión\n",
              "7  llego ningun correo urge reestablecer clave fa...  ...  Problemas con la Clave\n",
              "\n",
              "[5 rows x 49 columns]"
            ]
          },
          "metadata": {},
          "execution_count": 15
        }
      ]
    },
    {
      "cell_type": "markdown",
      "metadata": {
        "id": "eKK_XeCr4m59"
      },
      "source": [
        "Renombro las clases en función de las estrategias y me quedo sólo con las instancias en que la clase coincide:"
      ]
    },
    {
      "cell_type": "code",
      "metadata": {
        "colab": {
          "base_uri": "https://localhost:8080/"
        },
        "id": "xKfUF6_C4i2E",
        "outputId": "9bec46f1-971a-461e-cb2b-498a374d6857"
      },
      "source": [
        "if len(estrategias_feature_extraction)==3:\n",
        "  df_join.rename(columns={'clase_x': 'clase_e0', 'clase_y': 'clase_e1', 'clase': 'clase_e2'}, inplace=True)\n",
        "  df_join['match_clase'] = ((df_join['clase_e0'] == df_join['clase_e1']) & (df_join['clase_e1'] == df_join['clase_e2']))\n",
        "else:\n",
        "  df_join.rename(columns={'clase': 'clase_e0', 'clase_x': 'clase_e1'}, inplace=True)\n",
        "  df_join['match_clase'] = df_join['clase_e0'] == df_join['clase_e1']  \n",
        " \n",
        "# Me quedo sólo con las instancias en que la clase coincide\n",
        "train_df_join = df_join.query('match_clase == True').reset_index()\n",
        "\n",
        "train_df_join.shape"
      ],
      "execution_count": 16,
      "outputs": [
        {
          "output_type": "execute_result",
          "data": {
            "text/plain": [
              "(703, 51)"
            ]
          },
          "metadata": {},
          "execution_count": 16
        }
      ]
    },
    {
      "cell_type": "markdown",
      "metadata": {
        "id": "phy2ZVCl4KoT"
      },
      "source": [
        "Me quedo solo con los atributos que me interesan (elimino duplicados):"
      ]
    },
    {
      "cell_type": "code",
      "metadata": {
        "colab": {
          "base_uri": "https://localhost:8080/"
        },
        "id": "ieGYeC6q4K0B",
        "outputId": "37d1322f-ab3f-4c37-e07d-32380b2599f0"
      },
      "source": [
        "train_df_join = train_df_join[atributos_df]\n",
        "\n",
        "train_df_join.columns"
      ],
      "execution_count": 17,
      "outputs": [
        {
          "output_type": "execute_result",
          "data": {
            "text/plain": [
              "Index(['consulta', 'dia_semana', 'semana_del_mes', 'mes', 'cuatrimestre',\n",
              "       'anio', 'hora_discretizada', 'dni_discretizado', 'legajo_discretizado',\n",
              "       'posee_legajo', 'posee_telefono', 'carrera_valor', 'proveedor_correo',\n",
              "       'cantidad_caracteres', 'proporcion_mayusculas', 'proporcion_letras',\n",
              "       'cantidad_tildes', 'cantidad_palabras', 'cantidad_palabras_cortas',\n",
              "       'proporcion_palabras_distintas', 'frecuencia_signos_puntuacion',\n",
              "       'cantidad_oraciones', 'utiliza_codigo_asignatura', 'score', 'clase_e0',\n",
              "       'clase_e1'],\n",
              "      dtype='object')"
            ]
          },
          "metadata": {},
          "execution_count": 17
        }
      ]
    },
    {
      "cell_type": "markdown",
      "metadata": {
        "id": "n-e0IcaYnf8f"
      },
      "source": [
        "Me quedo sólo con una columna de clase dado que son las 3 iguales:"
      ]
    },
    {
      "cell_type": "code",
      "metadata": {
        "colab": {
          "base_uri": "https://localhost:8080/"
        },
        "id": "1oezp0Fvk7QT",
        "outputId": "bea64715-72d7-45c2-a141-21ced8548904"
      },
      "source": [
        "# Tomo una clase al azar, dado que coinciden las 3\n",
        "train_df_join.rename(columns={'clase_e0': 'clase'}, inplace=True)\n",
        "\n",
        "# Elimino las columnas que no necesito\n",
        "train_df_join.drop(['clase_e1'], inplace=True, axis=1)\n",
        "if len(estrategias_feature_extraction)==3:\n",
        "  train_df_join.drop(['clase_e2'], inplace=True, axis=1)\n",
        "\n",
        "train_df_join.shape"
      ],
      "execution_count": 18,
      "outputs": [
        {
          "output_type": "execute_result",
          "data": {
            "text/plain": [
              "(703, 25)"
            ]
          },
          "metadata": {},
          "execution_count": 18
        }
      ]
    },
    {
      "cell_type": "code",
      "metadata": {
        "colab": {
          "base_uri": "https://localhost:8080/",
          "height": 1000
        },
        "id": "iMvkv5bZqRL4",
        "outputId": "6e2c5302-1f9a-470f-a5e7-73459c8660ed"
      },
      "source": [
        "train_df_join"
      ],
      "execution_count": 19,
      "outputs": [
        {
          "output_type": "execute_result",
          "data": {
            "text/html": [
              "<div>\n",
              "<style scoped>\n",
              "    .dataframe tbody tr th:only-of-type {\n",
              "        vertical-align: middle;\n",
              "    }\n",
              "\n",
              "    .dataframe tbody tr th {\n",
              "        vertical-align: top;\n",
              "    }\n",
              "\n",
              "    .dataframe thead th {\n",
              "        text-align: right;\n",
              "    }\n",
              "</style>\n",
              "<table border=\"1\" class=\"dataframe\">\n",
              "  <thead>\n",
              "    <tr style=\"text-align: right;\">\n",
              "      <th></th>\n",
              "      <th>consulta</th>\n",
              "      <th>dia_semana</th>\n",
              "      <th>semana_del_mes</th>\n",
              "      <th>mes</th>\n",
              "      <th>cuatrimestre</th>\n",
              "      <th>anio</th>\n",
              "      <th>hora_discretizada</th>\n",
              "      <th>dni_discretizado</th>\n",
              "      <th>legajo_discretizado</th>\n",
              "      <th>posee_legajo</th>\n",
              "      <th>posee_telefono</th>\n",
              "      <th>carrera_valor</th>\n",
              "      <th>proveedor_correo</th>\n",
              "      <th>cantidad_caracteres</th>\n",
              "      <th>proporcion_mayusculas</th>\n",
              "      <th>proporcion_letras</th>\n",
              "      <th>cantidad_tildes</th>\n",
              "      <th>cantidad_palabras</th>\n",
              "      <th>cantidad_palabras_cortas</th>\n",
              "      <th>proporcion_palabras_distintas</th>\n",
              "      <th>frecuencia_signos_puntuacion</th>\n",
              "      <th>cantidad_oraciones</th>\n",
              "      <th>utiliza_codigo_asignatura</th>\n",
              "      <th>score</th>\n",
              "      <th>clase</th>\n",
              "    </tr>\n",
              "  </thead>\n",
              "  <tbody>\n",
              "    <tr>\n",
              "      <th>0</th>\n",
              "      <td>olvide clave presione opcion restablecerla nun...</td>\n",
              "      <td>4</td>\n",
              "      <td>2</td>\n",
              "      <td>8</td>\n",
              "      <td>2</td>\n",
              "      <td>2018</td>\n",
              "      <td>3</td>\n",
              "      <td>4</td>\n",
              "      <td>2</td>\n",
              "      <td>1</td>\n",
              "      <td>1</td>\n",
              "      <td>3</td>\n",
              "      <td>13</td>\n",
              "      <td>148</td>\n",
              "      <td>0.0</td>\n",
              "      <td>0.810811</td>\n",
              "      <td>3</td>\n",
              "      <td>28</td>\n",
              "      <td>16</td>\n",
              "      <td>0.857143</td>\n",
              "      <td>0.006757</td>\n",
              "      <td>1</td>\n",
              "      <td>0</td>\n",
              "      <td>28.271154</td>\n",
              "      <td>Problemas con la Clave</td>\n",
              "    </tr>\n",
              "    <tr>\n",
              "      <th>1</th>\n",
              "      <td>llego ningun correo urge reestablecer clave fa...</td>\n",
              "      <td>2</td>\n",
              "      <td>4</td>\n",
              "      <td>2</td>\n",
              "      <td>1</td>\n",
              "      <td>2018</td>\n",
              "      <td>3</td>\n",
              "      <td>8</td>\n",
              "      <td>4</td>\n",
              "      <td>1</td>\n",
              "      <td>1</td>\n",
              "      <td>41</td>\n",
              "      <td>13</td>\n",
              "      <td>114</td>\n",
              "      <td>0.0</td>\n",
              "      <td>0.815789</td>\n",
              "      <td>4</td>\n",
              "      <td>22</td>\n",
              "      <td>12</td>\n",
              "      <td>0.863636</td>\n",
              "      <td>0.000000</td>\n",
              "      <td>1</td>\n",
              "      <td>0</td>\n",
              "      <td>26.743103</td>\n",
              "      <td>Problemas con la Clave</td>\n",
              "    </tr>\n",
              "    <tr>\n",
              "      <th>2</th>\n",
              "      <td>cargan boleto estudiantil provincial quiero tr...</td>\n",
              "      <td>1</td>\n",
              "      <td>3</td>\n",
              "      <td>4</td>\n",
              "      <td>1</td>\n",
              "      <td>2018</td>\n",
              "      <td>3</td>\n",
              "      <td>1</td>\n",
              "      <td>2</td>\n",
              "      <td>1</td>\n",
              "      <td>1</td>\n",
              "      <td>4</td>\n",
              "      <td>40</td>\n",
              "      <td>207</td>\n",
              "      <td>0.0</td>\n",
              "      <td>0.801932</td>\n",
              "      <td>0</td>\n",
              "      <td>38</td>\n",
              "      <td>20</td>\n",
              "      <td>0.842105</td>\n",
              "      <td>0.019324</td>\n",
              "      <td>4</td>\n",
              "      <td>0</td>\n",
              "      <td>25.576574</td>\n",
              "      <td>Boleto Universitario</td>\n",
              "    </tr>\n",
              "    <tr>\n",
              "      <th>3</th>\n",
              "      <td>hola registro academico hora solicitar tramite...</td>\n",
              "      <td>0</td>\n",
              "      <td>4</td>\n",
              "      <td>3</td>\n",
              "      <td>1</td>\n",
              "      <td>2019</td>\n",
              "      <td>3</td>\n",
              "      <td>5</td>\n",
              "      <td>2</td>\n",
              "      <td>1</td>\n",
              "      <td>1</td>\n",
              "      <td>3</td>\n",
              "      <td>13</td>\n",
              "      <td>206</td>\n",
              "      <td>0.0</td>\n",
              "      <td>0.786408</td>\n",
              "      <td>3</td>\n",
              "      <td>37</td>\n",
              "      <td>21</td>\n",
              "      <td>0.891892</td>\n",
              "      <td>0.038835</td>\n",
              "      <td>3</td>\n",
              "      <td>0</td>\n",
              "      <td>19.925825</td>\n",
              "      <td>Consulta sobre Título Universitario</td>\n",
              "    </tr>\n",
              "    <tr>\n",
              "      <th>4</th>\n",
              "      <td>hola registro academico hora solicitar tramite...</td>\n",
              "      <td>0</td>\n",
              "      <td>4</td>\n",
              "      <td>3</td>\n",
              "      <td>1</td>\n",
              "      <td>2019</td>\n",
              "      <td>3</td>\n",
              "      <td>5</td>\n",
              "      <td>2</td>\n",
              "      <td>1</td>\n",
              "      <td>1</td>\n",
              "      <td>3</td>\n",
              "      <td>13</td>\n",
              "      <td>206</td>\n",
              "      <td>0.0</td>\n",
              "      <td>0.786408</td>\n",
              "      <td>3</td>\n",
              "      <td>37</td>\n",
              "      <td>21</td>\n",
              "      <td>0.891892</td>\n",
              "      <td>0.038835</td>\n",
              "      <td>3</td>\n",
              "      <td>0</td>\n",
              "      <td>19.925825</td>\n",
              "      <td>Consulta sobre Título Universitario</td>\n",
              "    </tr>\n",
              "    <tr>\n",
              "      <th>...</th>\n",
              "      <td>...</td>\n",
              "      <td>...</td>\n",
              "      <td>...</td>\n",
              "      <td>...</td>\n",
              "      <td>...</td>\n",
              "      <td>...</td>\n",
              "      <td>...</td>\n",
              "      <td>...</td>\n",
              "      <td>...</td>\n",
              "      <td>...</td>\n",
              "      <td>...</td>\n",
              "      <td>...</td>\n",
              "      <td>...</td>\n",
              "      <td>...</td>\n",
              "      <td>...</td>\n",
              "      <td>...</td>\n",
              "      <td>...</td>\n",
              "      <td>...</td>\n",
              "      <td>...</td>\n",
              "      <td>...</td>\n",
              "      <td>...</td>\n",
              "      <td>...</td>\n",
              "      <td>...</td>\n",
              "      <td>...</td>\n",
              "      <td>...</td>\n",
              "    </tr>\n",
              "    <tr>\n",
              "      <th>698</th>\n",
              "      <td>buenos dias pregunta acerca inscripcion aspira...</td>\n",
              "      <td>0</td>\n",
              "      <td>4</td>\n",
              "      <td>2</td>\n",
              "      <td>1</td>\n",
              "      <td>2018</td>\n",
              "      <td>0</td>\n",
              "      <td>8</td>\n",
              "      <td>0</td>\n",
              "      <td>0</td>\n",
              "      <td>0</td>\n",
              "      <td>0</td>\n",
              "      <td>23</td>\n",
              "      <td>217</td>\n",
              "      <td>0.0</td>\n",
              "      <td>0.811060</td>\n",
              "      <td>6</td>\n",
              "      <td>38</td>\n",
              "      <td>20</td>\n",
              "      <td>0.894737</td>\n",
              "      <td>0.018433</td>\n",
              "      <td>2</td>\n",
              "      <td>0</td>\n",
              "      <td>31.438173</td>\n",
              "      <td>Ingreso a la Universidad</td>\n",
              "    </tr>\n",
              "    <tr>\n",
              "      <th>699</th>\n",
              "      <td>buenos dias pregunta acerca inscripcion aspira...</td>\n",
              "      <td>0</td>\n",
              "      <td>4</td>\n",
              "      <td>2</td>\n",
              "      <td>1</td>\n",
              "      <td>2018</td>\n",
              "      <td>0</td>\n",
              "      <td>8</td>\n",
              "      <td>0</td>\n",
              "      <td>0</td>\n",
              "      <td>0</td>\n",
              "      <td>0</td>\n",
              "      <td>23</td>\n",
              "      <td>217</td>\n",
              "      <td>0.0</td>\n",
              "      <td>0.811060</td>\n",
              "      <td>6</td>\n",
              "      <td>38</td>\n",
              "      <td>20</td>\n",
              "      <td>0.894737</td>\n",
              "      <td>0.018433</td>\n",
              "      <td>2</td>\n",
              "      <td>0</td>\n",
              "      <td>31.438173</td>\n",
              "      <td>Ingreso a la Universidad</td>\n",
              "    </tr>\n",
              "    <tr>\n",
              "      <th>700</th>\n",
              "      <td>buenos dias pregunta acerca inscripcion aspira...</td>\n",
              "      <td>0</td>\n",
              "      <td>4</td>\n",
              "      <td>2</td>\n",
              "      <td>1</td>\n",
              "      <td>2018</td>\n",
              "      <td>0</td>\n",
              "      <td>8</td>\n",
              "      <td>0</td>\n",
              "      <td>0</td>\n",
              "      <td>0</td>\n",
              "      <td>0</td>\n",
              "      <td>23</td>\n",
              "      <td>217</td>\n",
              "      <td>0.0</td>\n",
              "      <td>0.811060</td>\n",
              "      <td>6</td>\n",
              "      <td>38</td>\n",
              "      <td>20</td>\n",
              "      <td>0.894737</td>\n",
              "      <td>0.018433</td>\n",
              "      <td>2</td>\n",
              "      <td>0</td>\n",
              "      <td>31.438173</td>\n",
              "      <td>Ingreso a la Universidad</td>\n",
              "    </tr>\n",
              "    <tr>\n",
              "      <th>701</th>\n",
              "      <td>queria solicitar certificado materias aprobada...</td>\n",
              "      <td>1</td>\n",
              "      <td>2</td>\n",
              "      <td>4</td>\n",
              "      <td>1</td>\n",
              "      <td>2017</td>\n",
              "      <td>3</td>\n",
              "      <td>5</td>\n",
              "      <td>2</td>\n",
              "      <td>1</td>\n",
              "      <td>1</td>\n",
              "      <td>43</td>\n",
              "      <td>23</td>\n",
              "      <td>70</td>\n",
              "      <td>0.0</td>\n",
              "      <td>0.842857</td>\n",
              "      <td>0</td>\n",
              "      <td>12</td>\n",
              "      <td>6</td>\n",
              "      <td>0.833333</td>\n",
              "      <td>0.000000</td>\n",
              "      <td>1</td>\n",
              "      <td>0</td>\n",
              "      <td>24.059593</td>\n",
              "      <td>Pedido de Certificados</td>\n",
              "    </tr>\n",
              "    <tr>\n",
              "      <th>702</th>\n",
              "      <td>necesitaria comprobante materias aprobadas pre...</td>\n",
              "      <td>4</td>\n",
              "      <td>4</td>\n",
              "      <td>9</td>\n",
              "      <td>2</td>\n",
              "      <td>2016</td>\n",
              "      <td>2</td>\n",
              "      <td>4</td>\n",
              "      <td>2</td>\n",
              "      <td>1</td>\n",
              "      <td>1</td>\n",
              "      <td>54</td>\n",
              "      <td>23</td>\n",
              "      <td>131</td>\n",
              "      <td>0.0</td>\n",
              "      <td>0.832061</td>\n",
              "      <td>0</td>\n",
              "      <td>21</td>\n",
              "      <td>9</td>\n",
              "      <td>0.904762</td>\n",
              "      <td>0.015267</td>\n",
              "      <td>2</td>\n",
              "      <td>0</td>\n",
              "      <td>22.348314</td>\n",
              "      <td>Pedido de Certificados</td>\n",
              "    </tr>\n",
              "  </tbody>\n",
              "</table>\n",
              "<p>703 rows × 25 columns</p>\n",
              "</div>"
            ],
            "text/plain": [
              "                                              consulta  ...                                clase\n",
              "0    olvide clave presione opcion restablecerla nun...  ...               Problemas con la Clave\n",
              "1    llego ningun correo urge reestablecer clave fa...  ...               Problemas con la Clave\n",
              "2    cargan boleto estudiantil provincial quiero tr...  ...                 Boleto Universitario\n",
              "3    hola registro academico hora solicitar tramite...  ...  Consulta sobre Título Universitario\n",
              "4    hola registro academico hora solicitar tramite...  ...  Consulta sobre Título Universitario\n",
              "..                                                 ...  ...                                  ...\n",
              "698  buenos dias pregunta acerca inscripcion aspira...  ...             Ingreso a la Universidad\n",
              "699  buenos dias pregunta acerca inscripcion aspira...  ...             Ingreso a la Universidad\n",
              "700  buenos dias pregunta acerca inscripcion aspira...  ...             Ingreso a la Universidad\n",
              "701  queria solicitar certificado materias aprobada...  ...               Pedido de Certificados\n",
              "702  necesitaria comprobante materias aprobadas pre...  ...               Pedido de Certificados\n",
              "\n",
              "[703 rows x 25 columns]"
            ]
          },
          "metadata": {},
          "execution_count": 19
        }
      ]
    },
    {
      "cell_type": "markdown",
      "metadata": {
        "id": "8IKK2WwlVLye"
      },
      "source": [
        "Me guardo la columna del score de Elasticsearch para no generar incompatibilidades:"
      ]
    },
    {
      "cell_type": "code",
      "metadata": {
        "id": "daumQbloVLNa"
      },
      "source": [
        "score = train_df_join['score']\n",
        "train_df_join.drop('score', inplace=True, axis=1)"
      ],
      "execution_count": 20,
      "outputs": []
    },
    {
      "cell_type": "code",
      "metadata": {
        "id": "V_WMVnGCAt66"
      },
      "source": [
        "if ACUMULTATIVO:\n",
        "  train_df = pd.concat([train_df_manual, train_df_join], axis=0).reset_index(drop=True)\n",
        "else:\n",
        "  train_df = train_df_join"
      ],
      "execution_count": 21,
      "outputs": []
    },
    {
      "cell_type": "markdown",
      "metadata": {
        "id": "-qdJuRmxoaXV"
      },
      "source": [
        "Muestro el dataframe resultante:"
      ]
    },
    {
      "cell_type": "code",
      "metadata": {
        "colab": {
          "base_uri": "https://localhost:8080/",
          "height": 513
        },
        "id": "-z_-PYK9nU_7",
        "outputId": "f9ef03b8-110b-48f9-a473-2240f6744c02"
      },
      "source": [
        "# pd.set_option('display.max_colwidth', None)\n",
        "# pd.set_option('display.max_rows', None)\n",
        "train_df.head()"
      ],
      "execution_count": 22,
      "outputs": [
        {
          "output_type": "execute_result",
          "data": {
            "text/html": [
              "<div>\n",
              "<style scoped>\n",
              "    .dataframe tbody tr th:only-of-type {\n",
              "        vertical-align: middle;\n",
              "    }\n",
              "\n",
              "    .dataframe tbody tr th {\n",
              "        vertical-align: top;\n",
              "    }\n",
              "\n",
              "    .dataframe thead th {\n",
              "        text-align: right;\n",
              "    }\n",
              "</style>\n",
              "<table border=\"1\" class=\"dataframe\">\n",
              "  <thead>\n",
              "    <tr style=\"text-align: right;\">\n",
              "      <th></th>\n",
              "      <th>consulta</th>\n",
              "      <th>dia_semana</th>\n",
              "      <th>semana_del_mes</th>\n",
              "      <th>mes</th>\n",
              "      <th>cuatrimestre</th>\n",
              "      <th>anio</th>\n",
              "      <th>hora_discretizada</th>\n",
              "      <th>dni_discretizado</th>\n",
              "      <th>legajo_discretizado</th>\n",
              "      <th>posee_legajo</th>\n",
              "      <th>posee_telefono</th>\n",
              "      <th>carrera_valor</th>\n",
              "      <th>proveedor_correo</th>\n",
              "      <th>cantidad_caracteres</th>\n",
              "      <th>proporcion_mayusculas</th>\n",
              "      <th>proporcion_letras</th>\n",
              "      <th>cantidad_tildes</th>\n",
              "      <th>cantidad_palabras</th>\n",
              "      <th>cantidad_palabras_cortas</th>\n",
              "      <th>proporcion_palabras_distintas</th>\n",
              "      <th>frecuencia_signos_puntuacion</th>\n",
              "      <th>cantidad_oraciones</th>\n",
              "      <th>utiliza_codigo_asignatura</th>\n",
              "      <th>clase</th>\n",
              "    </tr>\n",
              "  </thead>\n",
              "  <tbody>\n",
              "    <tr>\n",
              "      <th>0</th>\n",
              "      <td>olvide clave presione opcion restablecerla nun...</td>\n",
              "      <td>4</td>\n",
              "      <td>2</td>\n",
              "      <td>8</td>\n",
              "      <td>2</td>\n",
              "      <td>2018</td>\n",
              "      <td>3</td>\n",
              "      <td>4</td>\n",
              "      <td>2</td>\n",
              "      <td>1</td>\n",
              "      <td>1</td>\n",
              "      <td>3</td>\n",
              "      <td>13</td>\n",
              "      <td>148</td>\n",
              "      <td>0.0</td>\n",
              "      <td>0.810811</td>\n",
              "      <td>3</td>\n",
              "      <td>28</td>\n",
              "      <td>16</td>\n",
              "      <td>0.857143</td>\n",
              "      <td>0.006757</td>\n",
              "      <td>1</td>\n",
              "      <td>0</td>\n",
              "      <td>Problemas con la Clave</td>\n",
              "    </tr>\n",
              "    <tr>\n",
              "      <th>1</th>\n",
              "      <td>llego ningun correo urge reestablecer clave fa...</td>\n",
              "      <td>2</td>\n",
              "      <td>4</td>\n",
              "      <td>2</td>\n",
              "      <td>1</td>\n",
              "      <td>2018</td>\n",
              "      <td>3</td>\n",
              "      <td>8</td>\n",
              "      <td>4</td>\n",
              "      <td>1</td>\n",
              "      <td>1</td>\n",
              "      <td>41</td>\n",
              "      <td>13</td>\n",
              "      <td>114</td>\n",
              "      <td>0.0</td>\n",
              "      <td>0.815789</td>\n",
              "      <td>4</td>\n",
              "      <td>22</td>\n",
              "      <td>12</td>\n",
              "      <td>0.863636</td>\n",
              "      <td>0.000000</td>\n",
              "      <td>1</td>\n",
              "      <td>0</td>\n",
              "      <td>Problemas con la Clave</td>\n",
              "    </tr>\n",
              "    <tr>\n",
              "      <th>2</th>\n",
              "      <td>cargan boleto estudiantil provincial quiero tr...</td>\n",
              "      <td>1</td>\n",
              "      <td>3</td>\n",
              "      <td>4</td>\n",
              "      <td>1</td>\n",
              "      <td>2018</td>\n",
              "      <td>3</td>\n",
              "      <td>1</td>\n",
              "      <td>2</td>\n",
              "      <td>1</td>\n",
              "      <td>1</td>\n",
              "      <td>4</td>\n",
              "      <td>40</td>\n",
              "      <td>207</td>\n",
              "      <td>0.0</td>\n",
              "      <td>0.801932</td>\n",
              "      <td>0</td>\n",
              "      <td>38</td>\n",
              "      <td>20</td>\n",
              "      <td>0.842105</td>\n",
              "      <td>0.019324</td>\n",
              "      <td>4</td>\n",
              "      <td>0</td>\n",
              "      <td>Boleto Universitario</td>\n",
              "    </tr>\n",
              "    <tr>\n",
              "      <th>3</th>\n",
              "      <td>hola registro academico hora solicitar tramite...</td>\n",
              "      <td>0</td>\n",
              "      <td>4</td>\n",
              "      <td>3</td>\n",
              "      <td>1</td>\n",
              "      <td>2019</td>\n",
              "      <td>3</td>\n",
              "      <td>5</td>\n",
              "      <td>2</td>\n",
              "      <td>1</td>\n",
              "      <td>1</td>\n",
              "      <td>3</td>\n",
              "      <td>13</td>\n",
              "      <td>206</td>\n",
              "      <td>0.0</td>\n",
              "      <td>0.786408</td>\n",
              "      <td>3</td>\n",
              "      <td>37</td>\n",
              "      <td>21</td>\n",
              "      <td>0.891892</td>\n",
              "      <td>0.038835</td>\n",
              "      <td>3</td>\n",
              "      <td>0</td>\n",
              "      <td>Consulta sobre Título Universitario</td>\n",
              "    </tr>\n",
              "    <tr>\n",
              "      <th>4</th>\n",
              "      <td>hola registro academico hora solicitar tramite...</td>\n",
              "      <td>0</td>\n",
              "      <td>4</td>\n",
              "      <td>3</td>\n",
              "      <td>1</td>\n",
              "      <td>2019</td>\n",
              "      <td>3</td>\n",
              "      <td>5</td>\n",
              "      <td>2</td>\n",
              "      <td>1</td>\n",
              "      <td>1</td>\n",
              "      <td>3</td>\n",
              "      <td>13</td>\n",
              "      <td>206</td>\n",
              "      <td>0.0</td>\n",
              "      <td>0.786408</td>\n",
              "      <td>3</td>\n",
              "      <td>37</td>\n",
              "      <td>21</td>\n",
              "      <td>0.891892</td>\n",
              "      <td>0.038835</td>\n",
              "      <td>3</td>\n",
              "      <td>0</td>\n",
              "      <td>Consulta sobre Título Universitario</td>\n",
              "    </tr>\n",
              "  </tbody>\n",
              "</table>\n",
              "</div>"
            ],
            "text/plain": [
              "                                            consulta  ...                                clase\n",
              "0  olvide clave presione opcion restablecerla nun...  ...               Problemas con la Clave\n",
              "1  llego ningun correo urge reestablecer clave fa...  ...               Problemas con la Clave\n",
              "2  cargan boleto estudiantil provincial quiero tr...  ...                 Boleto Universitario\n",
              "3  hola registro academico hora solicitar tramite...  ...  Consulta sobre Título Universitario\n",
              "4  hola registro academico hora solicitar tramite...  ...  Consulta sobre Título Universitario\n",
              "\n",
              "[5 rows x 24 columns]"
            ]
          },
          "metadata": {},
          "execution_count": 22
        }
      ]
    },
    {
      "cell_type": "markdown",
      "metadata": {
        "id": "17obw6uxVN21"
      },
      "source": [
        "## 2. SVM"
      ]
    },
    {
      "cell_type": "markdown",
      "metadata": {
        "id": "QOOwBxoYUoWC"
      },
      "source": [
        "### 2.1. Carga de librerías de procesamiento de texto\n",
        "\n",
        "Se cargan en memoria dos funciones: _grid_search_por_estrategia_representacion_ que va a iterar ajustando los hiperparámetros para las técnica de __SVM__ y _representacion_documentos_ que genera representaciones para las _features textuales_:"
      ]
    },
    {
      "cell_type": "code",
      "metadata": {
        "id": "8XF6H0BGX9F9"
      },
      "source": [
        "import requests\n",
        "\n",
        "# Se hace el request del raw del script python\n",
        "url = 'https://raw.githubusercontent.com/jumafernandez/clasificacion_correos/main/scripts/funciones_clasificacion_texto.py'\n",
        "r = requests.get(url)\n",
        "\n",
        "# Se guarda en el working directory\n",
        "with open('funciones_clasificacion_texto.py', 'w') as f:\n",
        "    f.write(r.text)\n",
        "\n",
        "# Se importan las funciones a utilizar\n",
        "from funciones_clasificacion_texto import gridsearch_por_estrategia_representacion, representacion_documentos"
      ],
      "execution_count": 23,
      "outputs": []
    },
    {
      "cell_type": "markdown",
      "metadata": {
        "id": "BR6VPw5NNYje"
      },
      "source": [
        "### 2.2 Modelo general (clasificación en las 16 clases)\n",
        "\n",
        "En primer lugar se trabaja con un único clasificador que clasifica y testea las instancias en las 16 clases posibles."
      ]
    },
    {
      "cell_type": "markdown",
      "metadata": {
        "id": "7kgPWXtpU_7v"
      },
      "source": [
        "#### 2.2.1 Definición del espacio de búsqueda\n",
        "\n",
        "Se define el espacio de búsqueda para el ajuste de hiperparámetros del modelo:"
      ]
    },
    {
      "cell_type": "code",
      "metadata": {
        "id": "k3TOc1GcX-rg"
      },
      "source": [
        "# Defino una lista con los esquemas de representación\n",
        "estrategias_representacion = ['BINARIO', 'TFIDF', '3-4-NGRAM-CHARS', '1-2-NGRAM-WORDS']\n",
        "modelo = 'SVM'\n",
        "\n",
        "# Defino los parámetros para GridSearchCV\n",
        "params_svm = {'SVM__C': [0.1, 1, 10, 100], \n",
        "              'SVM__gamma': [0.01, 0.1, 1],\n",
        "              'SVM__class_weight': [None, 'balanced'],\n",
        "              'SVM__kernel': ['rbf', 'linear', 'poly', 'sigmoid']\n",
        "              }"
      ],
      "execution_count": 24,
      "outputs": []
    },
    {
      "cell_type": "markdown",
      "metadata": {
        "id": "lmnm8yPmYGAR"
      },
      "source": [
        "Se ejecuta el ajuste de hiperparámetros para cada estrategia de representación en función del espacio de búsqueda:"
      ]
    },
    {
      "cell_type": "code",
      "metadata": {
        "id": "lFSOquuAYGPK",
        "colab": {
          "base_uri": "https://localhost:8080/"
        },
        "outputId": "04c4e95e-70b2-4667-f15e-6e9b03f8ab9e"
      },
      "source": [
        "NO_CORRIDA = True\n",
        "\n",
        "if NO_CORRIDA:\n",
        "  for estrategia in estrategias_representacion:\n",
        "    # Llamo a la función que realiza el gridsearch por estrategia  \n",
        "    gridsearch_por_estrategia_representacion(train_df, test_df, estrategia, modelo, params_svm, None, atr_consulta='consulta')"
      ],
      "execution_count": null,
      "outputs": [
        {
          "output_type": "stream",
          "text": [
            "Estrategia de representación: BINARIO\n",
            "Fitting 5 folds for each of 96 candidates, totalling 480 fits\n"
          ],
          "name": "stdout"
        },
        {
          "output_type": "stream",
          "text": [
            "[Parallel(n_jobs=-1)]: Using backend LokyBackend with 2 concurrent workers.\n",
            "[Parallel(n_jobs=-1)]: Done  28 tasks      | elapsed:   23.4s\n",
            "[Parallel(n_jobs=-1)]: Done 124 tasks      | elapsed:  1.7min\n",
            "[Parallel(n_jobs=-1)]: Done 284 tasks      | elapsed:  3.7min\n",
            "[Parallel(n_jobs=-1)]: Done 480 out of 480 | elapsed:  5.9min finished\n"
          ],
          "name": "stderr"
        },
        {
          "output_type": "stream",
          "text": [
            "Estrategia de representación: BINARIO\n",
            "Parámetros: {'SVM__C': 10, 'SVM__class_weight': 'balanced', 'SVM__gamma': 0.01, 'SVM__kernel': 'sigmoid', 'clasificador': 'SVM', 'estrategia': 'BINARIO', 'accuracy': 0.545, 'precision': 0.8411167797888385, 'recall': 0.545, 'f1_score': 0.5999487408509705}\n",
            "Accuracy Test-Set: 0.545\n",
            "Métricas sobre Test-Set: {'SVM__C': 10, 'SVM__class_weight': 'balanced', 'SVM__gamma': 0.01, 'SVM__kernel': 'sigmoid', 'clasificador': 'SVM', 'estrategia': 'BINARIO', 'accuracy': 0.545, 'precision': 0.8411167797888385, 'recall': 0.545, 'f1_score': 0.5999487408509705}\n",
            "Estrategia de representación: TFIDF\n",
            "Fitting 5 folds for each of 96 candidates, totalling 480 fits\n"
          ],
          "name": "stdout"
        },
        {
          "output_type": "stream",
          "text": [
            "[Parallel(n_jobs=-1)]: Using backend LokyBackend with 2 concurrent workers.\n",
            "[Parallel(n_jobs=-1)]: Done  28 tasks      | elapsed:   23.2s\n",
            "[Parallel(n_jobs=-1)]: Done 124 tasks      | elapsed:  1.8min\n",
            "[Parallel(n_jobs=-1)]: Done 284 tasks      | elapsed:  4.0min\n",
            "[Parallel(n_jobs=-1)]: Done 480 out of 480 | elapsed:  6.6min finished\n"
          ],
          "name": "stderr"
        },
        {
          "output_type": "stream",
          "text": [
            "Estrategia de representación: TFIDF\n",
            "Parámetros: {'SVM__C': 100, 'SVM__class_weight': 'balanced', 'SVM__gamma': 0.01, 'SVM__kernel': 'sigmoid', 'clasificador': 'SVM', 'estrategia': 'TFIDF', 'accuracy': 0.565, 'precision': 0.7892167896435697, 'recall': 0.565, 'f1_score': 0.5957778148222911}\n",
            "Accuracy Test-Set: 0.565\n",
            "Métricas sobre Test-Set: {'SVM__C': 100, 'SVM__class_weight': 'balanced', 'SVM__gamma': 0.01, 'SVM__kernel': 'sigmoid', 'clasificador': 'SVM', 'estrategia': 'TFIDF', 'accuracy': 0.565, 'precision': 0.7892167896435697, 'recall': 0.565, 'f1_score': 0.5957778148222911}\n",
            "Estrategia de representación: 3-4-NGRAM-CHARS\n",
            "Fitting 5 folds for each of 96 candidates, totalling 480 fits\n"
          ],
          "name": "stdout"
        },
        {
          "output_type": "stream",
          "text": [
            "[Parallel(n_jobs=-1)]: Using backend LokyBackend with 2 concurrent workers.\n",
            "[Parallel(n_jobs=-1)]: Done  28 tasks      | elapsed:  2.1min\n",
            "[Parallel(n_jobs=-1)]: Done 124 tasks      | elapsed:  9.6min\n",
            "[Parallel(n_jobs=-1)]: Done 284 tasks      | elapsed: 20.4min\n",
            "[Parallel(n_jobs=-1)]: Done 480 out of 480 | elapsed: 33.7min finished\n"
          ],
          "name": "stderr"
        },
        {
          "output_type": "stream",
          "text": [
            "Estrategia de representación: 3-4-NGRAM-CHARS\n",
            "Parámetros: {'SVM__C': 1, 'SVM__class_weight': 'balanced', 'SVM__gamma': 0.01, 'SVM__kernel': 'sigmoid', 'clasificador': 'SVM', 'estrategia': '3-4-NGRAM-CHARS', 'accuracy': 0.58, 'precision': 0.8692989232989234, 'recall': 0.58, 'f1_score': 0.6272044653549238}\n",
            "Accuracy Test-Set: 0.58\n",
            "Métricas sobre Test-Set: {'SVM__C': 1, 'SVM__class_weight': 'balanced', 'SVM__gamma': 0.01, 'SVM__kernel': 'sigmoid', 'clasificador': 'SVM', 'estrategia': '3-4-NGRAM-CHARS', 'accuracy': 0.58, 'precision': 0.8692989232989234, 'recall': 0.58, 'f1_score': 0.6272044653549238}\n",
            "Estrategia de representación: 1-2-NGRAM-WORDS\n",
            "Fitting 5 folds for each of 96 candidates, totalling 480 fits\n"
          ],
          "name": "stdout"
        },
        {
          "output_type": "stream",
          "text": [
            "[Parallel(n_jobs=-1)]: Using backend LokyBackend with 2 concurrent workers.\n",
            "[Parallel(n_jobs=-1)]: Done  28 tasks      | elapsed:  2.0min\n",
            "[Parallel(n_jobs=-1)]: Done 124 tasks      | elapsed:  9.0min\n"
          ],
          "name": "stderr"
        }
      ]
    },
    {
      "cell_type": "markdown",
      "metadata": {
        "id": "GjoUvaOgh00W"
      },
      "source": [
        "#### 2.2.2 Modelo generado\n",
        "\n",
        "En función de los mejores hiperparámetros encontrados con la búsqueda Grid, ajusto el modelo para obtener las métricas (por un bug en la función ya solucionado):"
      ]
    },
    {
      "cell_type": "code",
      "metadata": {
        "id": "VfU5JT1vh0J3"
      },
      "source": [
        "# Mejores Parámetros según GridSearchCV:\n",
        "# {'SVM__C': 10, 'SVM__class_weight': 'balanced', 'SVM__gamma': 0.01, 'SVM__kernel': 'sigmoid', 'estrategia': '3-4-NGRAM-CHARS', \n",
        "#  'accuracy': 0.81, 'precision': 0.5971321956813028, 'recall': 0.553190280233687, 'f1_score': 0.5639032258154839}\n",
        "# Métricas sobre Test-Set: {'SVM__C': 10, 'SVM__class_weight': 'balanced', 'SVM__gamma': 0.01, 'SVM__kernel': 'sigmoid', 'SVM__probability': True, 'clasificador': 'SVM',\n",
        "# 'estrategia': '3-4-NGRAM-CHARS', 'accuracy': 0.835, 'precision': 0.8428499293134182, 'recall': 0.835, 'f1_score': 0.8328323317634259}\n",
        "\n",
        "params_svm = {'SVM__C': [1], \n",
        "              'SVM__gamma': [0.1],\n",
        "              'SVM__class_weight': ['balanced'],\n",
        "              'SVM__kernel': ['sigmoid'],\n",
        "              'SVM__probability': [True]\n",
        "              }\n",
        "              \n",
        "clf, X_test, y_test = gridsearch_por_estrategia_representacion(train_df, test_df, 'BINARIO', 'SVM', params_svm, None, atr_consulta='consulta')\n",
        "\n",
        "from sklearn.metrics import matthews_corrcoef\n",
        "y_pred = clf.predict(X_test)\n",
        "print(f'MCC: {matthews_corrcoef(y_test, y_pred)}')\n",
        "\n",
        "print(train_df.shape)"
      ],
      "execution_count": null,
      "outputs": []
    },
    {
      "cell_type": "markdown",
      "metadata": {
        "id": "qzVZFzCTVTSZ"
      },
      "source": [
        "Se predicen las instancias de testeo:"
      ]
    },
    {
      "cell_type": "code",
      "metadata": {
        "id": "zNoj8Gshc09R"
      },
      "source": [
        "y_pred = clf.predict(X_test)"
      ],
      "execution_count": null,
      "outputs": []
    },
    {
      "cell_type": "markdown",
      "metadata": {
        "id": "SoOcZO15Vni2"
      },
      "source": [
        "Además, se utiliza el método _predict\\_proba_ para calcular la probabilidad asociada a la clasificación de cada instancia:"
      ]
    },
    {
      "cell_type": "code",
      "metadata": {
        "id": "PVQ-oYM0Pwof"
      },
      "source": [
        "import numpy as np\n",
        "\n",
        "y_pred_proba = np.around(clf.predict_proba(X_test), 2)\n",
        "\n",
        "y_max_proba = np.amax(y_pred_proba, 1)"
      ],
      "execution_count": null,
      "outputs": []
    },
    {
      "cell_type": "code",
      "metadata": {
        "id": "LsR7UjZZUzTy"
      },
      "source": [
        "y_max_proba"
      ],
      "execution_count": null,
      "outputs": []
    },
    {
      "cell_type": "markdown",
      "metadata": {
        "id": "WgSm2WQzVyUt"
      },
      "source": [
        "Se genera un _dataframe_ con las clases observadas para _test_, las predicciones y las probabilidades asociadas para verificar si hay relación entre las proba y los errores:"
      ]
    },
    {
      "cell_type": "code",
      "metadata": {
        "id": "VsF3kAQjS5By"
      },
      "source": [
        "import pandas as pd\n",
        "\n",
        "resultados = pd.concat([pd.Series(y_test), pd.Series(y_pred), pd.Series(y_max_proba)], axis=1)\n",
        "resultados.columns = ['clase', 'prediccion', 'max_proba']\n",
        "resultados['correcto'] = resultados['clase'] == resultados['prediccion']"
      ],
      "execution_count": null,
      "outputs": []
    },
    {
      "cell_type": "markdown",
      "metadata": {
        "id": "0dvHDGdSV_1S"
      },
      "source": [
        "Se calcula el _accuracy__ para las predicciones con una proba>0.5 y se obtiene una mejora sustancial:"
      ]
    },
    {
      "cell_type": "code",
      "metadata": {
        "id": "T1-NV0ztUmlq"
      },
      "source": [
        "sum(resultados[resultados.max_proba>0.5]['correcto'])/resultados[resultados.max_proba>0.5]['correcto'].count()"
      ],
      "execution_count": null,
      "outputs": []
    },
    {
      "cell_type": "markdown",
      "metadata": {
        "id": "wIpzEIaOWKNa"
      },
      "source": [
        "#### 2.2.3 Métricas de selección"
      ]
    },
    {
      "cell_type": "markdown",
      "metadata": {
        "id": "Cied9MM_WNvG"
      },
      "source": [
        "##### 2.2.3.1. Matriz de confusión\n",
        "\n",
        "A continuación, se calcula la matriz de confusión para cada clase para el recorte con proba>0.5 y para el modelo con la totalidad de instancias:"
      ]
    },
    {
      "cell_type": "code",
      "metadata": {
        "id": "ZeK6rWwqZInr"
      },
      "source": [
        "from sklearn import metrics #Importar el módulo metrics de scikit-learn\n",
        "\n",
        "# Vamos a testear el modelo\n",
        "print(\"Accuracy:\", metrics.accuracy_score(resultados[resultados.max_proba>0.5]['clase'], resultados[resultados.max_proba>0.5]['prediccion']))\n",
        "\n",
        "# Vemos un reporte de clasificación de varias métricas\n",
        "print(metrics.classification_report(resultados[resultados.max_proba>0.5]['clase'], resultados[resultados.max_proba>0.5]['prediccion']))"
      ],
      "execution_count": null,
      "outputs": []
    },
    {
      "cell_type": "code",
      "metadata": {
        "id": "6J-THNpdciSP"
      },
      "source": [
        "from sklearn import metrics #Importar el módulo metrics de scikit-learn\n",
        "\n",
        "# Vamos a testear el modelo\n",
        "print(\"Accuracy:\",metrics.accuracy_score(y_test, y_pred))\n",
        "\n",
        "# Vemos un reporte de clasificación de varias métricas\n",
        "print(metrics.classification_report(y_test, y_pred))"
      ],
      "execution_count": null,
      "outputs": []
    },
    {
      "cell_type": "code",
      "metadata": {
        "id": "t8dTwLl5dYu-"
      },
      "source": [
        "metrics.confusion_matrix(y_test, y_pred)"
      ],
      "execution_count": null,
      "outputs": []
    },
    {
      "cell_type": "code",
      "metadata": {
        "id": "IYUVKbHldjKq"
      },
      "source": [
        "import numpy as np\n",
        "import seaborn as sns; sns.set()\n",
        "import matplotlib.pyplot as plt\n",
        "\n",
        "mat = metrics.confusion_matrix(y_test, y_pred)\n",
        "\n",
        "sns.heatmap(mat, square=True, annot=True, fmt='d', cbar=False,\n",
        "            xticklabels=etiquetas, yticklabels=etiquetas)\n",
        "\n",
        "plt.xlabel('Observada')\n",
        "plt.ylabel('Predicha');"
      ],
      "execution_count": null,
      "outputs": []
    },
    {
      "cell_type": "markdown",
      "metadata": {
        "id": "P14cduVB6pZk"
      },
      "source": [
        "### 3. Análisis del error\n",
        "\n",
        "A continuación se intenta entender la baja de _accuracy_ para el etiquetado a partir de TF-IDF.\n",
        "\n",
        "Para ello, se genera el dataset de train con: <br/>\n",
        "| consulta | clase | score |"
      ]
    },
    {
      "cell_type": "code",
      "metadata": {
        "id": "8Yzf0qf36oL2"
      },
      "source": [
        "df_train_e = train_df[['consulta', 'clase']]\n",
        "df_train_e['score'] = score"
      ],
      "execution_count": null,
      "outputs": []
    },
    {
      "cell_type": "markdown",
      "metadata": {
        "id": "ZJVVj9Kk6uhd"
      },
      "source": [
        "Genero un dataframe con los scores promedios por clase, el accuracy por clase y el _count_:"
      ]
    },
    {
      "cell_type": "code",
      "metadata": {
        "id": "RRdVnXSN6wkJ"
      },
      "source": [
        "df_error = df_train_e.groupby(['clase']).mean().reset_index()\n",
        "\n",
        "# Accuracy por clase\n",
        "avg_class = mat.diagonal()/mat.sum(axis=1)\n",
        "df_error['accuracy'] = pd.Series(avg_class)\n",
        "\n",
        "df_error['count'] = mat.sum(axis=1)\n",
        "\n",
        "df_error"
      ],
      "execution_count": null,
      "outputs": []
    },
    {
      "cell_type": "code",
      "metadata": {
        "id": "NRKtSNPr63Oo"
      },
      "source": [
        "import seaborn as sns\n",
        "sns.set_theme(style=\"ticks\")\n",
        "\n",
        "sns.scatterplot(data=df_error, x=\"score\", y=\"accuracy\", hue=\"count\", size=\"count\")"
      ],
      "execution_count": null,
      "outputs": []
    },
    {
      "cell_type": "markdown",
      "metadata": {
        "id": "0a1K2447qjxE"
      },
      "source": [
        "## Referencias\n",
        "- https://scikit-learn.org/stable/modules/generated/sklearn.model_selection.GridSearchCV.html\n",
        "- https://medium.com/analytics-vidhya/ml-pipelines-using-scikit-learn-and-gridsearchcv-fe605a7f9e05"
      ]
    }
  ]
}