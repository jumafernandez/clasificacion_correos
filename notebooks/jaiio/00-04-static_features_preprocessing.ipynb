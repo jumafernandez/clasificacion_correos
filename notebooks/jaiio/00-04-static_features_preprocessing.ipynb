{
  "nbformat": 4,
  "nbformat_minor": 0,
  "metadata": {
    "colab": {
      "name": "00-04-static-features-preprocessing.ipynb",
      "provenance": [],
      "authorship_tag": "ABX9TyP/N7RbB8zx/ZfDJ9hPqpW3",
      "include_colab_link": true
    },
    "kernelspec": {
      "name": "python3",
      "display_name": "Python 3"
    }
  },
  "cells": [
    {
      "cell_type": "markdown",
      "metadata": {
        "id": "view-in-github",
        "colab_type": "text"
      },
      "source": [
        "<a href=\"https://colab.research.google.com/github/jumafernandez/clasificacion_correos/blob/main/notebooks/jaiio/00-04-static_features_preprocessing.ipynb\" target=\"_parent\"><img src=\"https://colab.research.google.com/assets/colab-badge.svg\" alt=\"Open In Colab\"/></a>"
      ]
    },
    {
      "cell_type": "markdown",
      "metadata": {
        "id": "FTD65pStwWuO"
      },
      "source": [
        "# Procesamiento de las features adicionales a la Consulta\n"
      ]
    },
    {
      "cell_type": "markdown",
      "metadata": {
        "id": "NAkTZSEqwlMv"
      },
      "source": [
        "## Features estáticas a partir de los datos\n",
        "\n",
        "1. Traigo los datos y los cargo en el dataframe:"
      ]
    },
    {
      "cell_type": "code",
      "metadata": {
        "id": "cEa8IbABwU9R",
        "colab": {
          "base_uri": "https://localhost:8080/"
        },
        "outputId": "ba2d815d-4edb-450b-e55a-24cf47676957"
      },
      "source": [
        "from os import path\n",
        "import pandas as pd\n",
        "\n",
        "# En caso que no esté el archivo en Colab lo traigo\n",
        "if not(path.exists(\"dataset-tfidf.csv\")):\n",
        "  !wget https://raw.githubusercontent.com/jumafernandez/clasificacion_correos/main/data/50jaiio/consolidados/feature-extraction/dataset-tfidf.csv\n",
        "\n",
        "df = pd.read_csv('dataset-tfidf.csv')\n",
        "\n",
        "df['clase'].value_counts()\n"
      ],
      "execution_count": 1,
      "outputs": [
        {
          "output_type": "execute_result",
          "data": {
            "text/plain": [
              "Requisitos de Ingreso                  50\n",
              "Situación Académica                    50\n",
              "Cambio de Comisión                     50\n",
              "Consulta sobre Título Universitario    50\n",
              "Cambio de Carrera                      50\n",
              "Pedido de Certificados                 50\n",
              "Consulta por Equivalencias             50\n",
              "Simultaneidad de Carreras              50\n",
              "Reincorporación                        50\n",
              "Problemas con la Clave                 50\n",
              "Consulta por Legajo                    50\n",
              "Cursadas                               50\n",
              "Boleto Universitario                   50\n",
              "Exámenes                               50\n",
              "Datos Personales                       50\n",
              "Ingreso a la Universidad               50\n",
              "Name: clase, dtype: int64"
            ]
          },
          "metadata": {
            "tags": []
          },
          "execution_count": 1
        }
      ]
    },
    {
      "cell_type": "code",
      "metadata": {
        "colab": {
          "base_uri": "https://localhost:8080/"
        },
        "id": "rKSK4WSAPdwB",
        "outputId": "0ebe4e92-5570-44c2-8a2a-7a2a73053ed8"
      },
      "source": [
        "df.columns"
      ],
      "execution_count": 2,
      "outputs": [
        {
          "output_type": "execute_result",
          "data": {
            "text/plain": [
              "Index(['fecha', 'hora', 'apellido_nombre', 'legajo', 'documento', 'carrera',\n",
              "       'telefono', 'email', 'consulta', 'respuesta', 'score', 'clase'],\n",
              "      dtype='object')"
            ]
          },
          "metadata": {
            "tags": []
          },
          "execution_count": 2
        }
      ]
    },
    {
      "cell_type": "markdown",
      "metadata": {
        "id": "m_xyelTHxEFE"
      },
      "source": [
        "2. Verifico los datos y borro columnas no pre-procesables:"
      ]
    },
    {
      "cell_type": "code",
      "metadata": {
        "colab": {
          "base_uri": "https://localhost:8080/",
          "height": 289
        },
        "id": "U-ft72hZ0TLQ",
        "outputId": "32c44585-354d-401a-fad7-779c7eb9da02"
      },
      "source": [
        "df.drop(columns=['apellido_nombre', 'respuesta'], inplace=True)\n",
        "df.head()"
      ],
      "execution_count": 3,
      "outputs": [
        {
          "output_type": "execute_result",
          "data": {
            "text/html": [
              "<div>\n",
              "<style scoped>\n",
              "    .dataframe tbody tr th:only-of-type {\n",
              "        vertical-align: middle;\n",
              "    }\n",
              "\n",
              "    .dataframe tbody tr th {\n",
              "        vertical-align: top;\n",
              "    }\n",
              "\n",
              "    .dataframe thead th {\n",
              "        text-align: right;\n",
              "    }\n",
              "</style>\n",
              "<table border=\"1\" class=\"dataframe\">\n",
              "  <thead>\n",
              "    <tr style=\"text-align: right;\">\n",
              "      <th></th>\n",
              "      <th>fecha</th>\n",
              "      <th>hora</th>\n",
              "      <th>legajo</th>\n",
              "      <th>documento</th>\n",
              "      <th>carrera</th>\n",
              "      <th>telefono</th>\n",
              "      <th>email</th>\n",
              "      <th>consulta</th>\n",
              "      <th>score</th>\n",
              "      <th>clase</th>\n",
              "    </tr>\n",
              "  </thead>\n",
              "  <tbody>\n",
              "    <tr>\n",
              "      <th>0</th>\n",
              "      <td>05-03-2019</td>\n",
              "      <td>12:55:26</td>\n",
              "      <td>170301</td>\n",
              "      <td>41783126</td>\n",
              "      <td>licenciatura en administracion(3)</td>\n",
              "      <td>1137722125</td>\n",
              "      <td>anlemargagliotti@gmail.com</td>\n",
              "      <td>hola, hice hace un mes y algo el tramite onlin...</td>\n",
              "      <td>37.415314</td>\n",
              "      <td>Boleto Universitario</td>\n",
              "    </tr>\n",
              "    <tr>\n",
              "      <th>1</th>\n",
              "      <td>10-15-2019</td>\n",
              "      <td>04:06:31</td>\n",
              "      <td>160474</td>\n",
              "      <td>40993972</td>\n",
              "      <td>licenciatura en administracion(3)</td>\n",
              "      <td>NaN</td>\n",
              "      <td>mancubruno@gmail.com</td>\n",
              "      <td>hola, en la página dice que tengo asignado el ...</td>\n",
              "      <td>34.819030</td>\n",
              "      <td>Boleto Universitario</td>\n",
              "    </tr>\n",
              "    <tr>\n",
              "      <th>2</th>\n",
              "      <td>07-30-2018</td>\n",
              "      <td>20:20:20</td>\n",
              "      <td>165259</td>\n",
              "      <td>42344375</td>\n",
              "      <td>licenciatura en administracion(3)</td>\n",
              "      <td>3489441201</td>\n",
              "      <td>agustinvandick@gmail.com</td>\n",
              "      <td>yo hace casi un mes hice el tramite para la su...</td>\n",
              "      <td>33.004665</td>\n",
              "      <td>Boleto Universitario</td>\n",
              "    </tr>\n",
              "    <tr>\n",
              "      <th>3</th>\n",
              "      <td>07-13-2018</td>\n",
              "      <td>10:09:06</td>\n",
              "      <td>163392</td>\n",
              "      <td>41925156</td>\n",
              "      <td>profesorado en educacion fisica(43)</td>\n",
              "      <td>1536771314</td>\n",
              "      <td>danilamferreras@gmail.com</td>\n",
              "      <td>hola que tal?, buenos días.  quería consultar ...</td>\n",
              "      <td>33.004196</td>\n",
              "      <td>Boleto Universitario</td>\n",
              "    </tr>\n",
              "    <tr>\n",
              "      <th>4</th>\n",
              "      <td>05-21-2019</td>\n",
              "      <td>00:26:56</td>\n",
              "      <td>161066</td>\n",
              "      <td>41677207</td>\n",
              "      <td>tec. un. en insp. de alimentos(19)</td>\n",
              "      <td>232315484535</td>\n",
              "      <td>barbu_99@hotmail.com</td>\n",
              "      <td>hola queria saber xque no puedo hacer el bolet...</td>\n",
              "      <td>31.860080</td>\n",
              "      <td>Boleto Universitario</td>\n",
              "    </tr>\n",
              "  </tbody>\n",
              "</table>\n",
              "</div>"
            ],
            "text/plain": [
              "        fecha      hora  ...      score                 clase\n",
              "0  05-03-2019  12:55:26  ...  37.415314  Boleto Universitario\n",
              "1  10-15-2019  04:06:31  ...  34.819030  Boleto Universitario\n",
              "2  07-30-2018  20:20:20  ...  33.004665  Boleto Universitario\n",
              "3  07-13-2018  10:09:06  ...  33.004196  Boleto Universitario\n",
              "4  05-21-2019  00:26:56  ...  31.860080  Boleto Universitario\n",
              "\n",
              "[5 rows x 10 columns]"
            ]
          },
          "metadata": {
            "tags": []
          },
          "execution_count": 3
        }
      ]
    },
    {
      "cell_type": "markdown",
      "metadata": {
        "id": "bKwV3G8e7W0O"
      },
      "source": [
        "3. Preproceso la fecha (día de la semana, semana del mes, mes y cuatrimestre) de la consulta:"
      ]
    },
    {
      "cell_type": "code",
      "metadata": {
        "id": "YYeZT4j1Zu0i"
      },
      "source": [
        "def convierte_fecha(fecha_consulta):\n",
        "  from datetime import datetime\n",
        "  # Convierto a fecha\n",
        "  fecha = datetime.strptime(fecha_consulta, '%m-%d-%Y') \n",
        "  return fecha\n",
        "\n",
        "def dia_semana(fecha):\n",
        "  # Tomo el día de la semana\n",
        "  dias_semana = ['Lunes', 'Martes', 'Miércoles', 'Jueves', 'Viernes', 'Sábado', 'Domingo']\n",
        "  # dia_semana = dias_semana[fecha.weekday()]\n",
        "  dia_semana = fecha.weekday()\n",
        "  return dia_semana\n",
        "\n",
        "def semana_del_mes(fecha):\n",
        "  # Tomo la semana del mes\n",
        "  semana_mes = (fecha.day-1)//7+1\n",
        "  return semana_mes\n",
        "\n",
        "def mes(fecha):\n",
        "  # Tomo el mes\n",
        "  meses = ['Enero', 'Febrero', 'Marzo', 'Abril', 'Mayo', 'Junio', 'Julio', 'Agosto', 'Septiembre', 'Octubre', 'Noviembre', 'Diciembre']\n",
        "  # mes = meses[fecha.month-1]\n",
        "  mes = fecha.month\n",
        "  return mes\n",
        "\n",
        "def cuatrimestre(fecha):\n",
        "  # Defino el cuatrimestre\n",
        "  cuatrimestre = 1\n",
        "  if (fecha.month>7):\n",
        "    cuatrimestre = 2\n",
        "  return cuatrimestre\n",
        "\n",
        "def anio(fecha):\n",
        "    anio = fecha.year\n",
        "    return anio\n",
        "\n",
        "# convierte_fecha(df.loc[0, 'Fecha'])\n",
        "fecha = df['fecha'].apply(convierte_fecha)\n",
        "df['dia_semana'] = fecha.apply(dia_semana)\n",
        "df['semana_del_mes'] = fecha.apply(semana_del_mes)\n",
        "df['mes'] = fecha.apply(mes)\n",
        "df['cuatrimestre'] = fecha.apply(cuatrimestre)\n",
        "df['anio'] = fecha.apply(anio)"
      ],
      "execution_count": 4,
      "outputs": []
    },
    {
      "cell_type": "code",
      "metadata": {
        "colab": {
          "base_uri": "https://localhost:8080/",
          "height": 683
        },
        "id": "MoOidpjoaxvK",
        "outputId": "932a2360-a3ef-475f-ef55-73e5e9bb4ea1"
      },
      "source": [
        "df.drop(columns=['fecha'], inplace=True)\n",
        "df.head()"
      ],
      "execution_count": 5,
      "outputs": [
        {
          "output_type": "execute_result",
          "data": {
            "text/html": [
              "<div>\n",
              "<style scoped>\n",
              "    .dataframe tbody tr th:only-of-type {\n",
              "        vertical-align: middle;\n",
              "    }\n",
              "\n",
              "    .dataframe tbody tr th {\n",
              "        vertical-align: top;\n",
              "    }\n",
              "\n",
              "    .dataframe thead th {\n",
              "        text-align: right;\n",
              "    }\n",
              "</style>\n",
              "<table border=\"1\" class=\"dataframe\">\n",
              "  <thead>\n",
              "    <tr style=\"text-align: right;\">\n",
              "      <th></th>\n",
              "      <th>hora</th>\n",
              "      <th>legajo</th>\n",
              "      <th>documento</th>\n",
              "      <th>carrera</th>\n",
              "      <th>telefono</th>\n",
              "      <th>email</th>\n",
              "      <th>consulta</th>\n",
              "      <th>score</th>\n",
              "      <th>clase</th>\n",
              "      <th>dia_semana</th>\n",
              "      <th>semana_del_mes</th>\n",
              "      <th>mes</th>\n",
              "      <th>cuatrimestre</th>\n",
              "      <th>anio</th>\n",
              "    </tr>\n",
              "  </thead>\n",
              "  <tbody>\n",
              "    <tr>\n",
              "      <th>0</th>\n",
              "      <td>12:55:26</td>\n",
              "      <td>170301</td>\n",
              "      <td>41783126</td>\n",
              "      <td>licenciatura en administracion(3)</td>\n",
              "      <td>1137722125</td>\n",
              "      <td>anlemargagliotti@gmail.com</td>\n",
              "      <td>hola, hice hace un mes y algo el tramite onlin...</td>\n",
              "      <td>37.415314</td>\n",
              "      <td>Boleto Universitario</td>\n",
              "      <td>4</td>\n",
              "      <td>1</td>\n",
              "      <td>5</td>\n",
              "      <td>1</td>\n",
              "      <td>2019</td>\n",
              "    </tr>\n",
              "    <tr>\n",
              "      <th>1</th>\n",
              "      <td>04:06:31</td>\n",
              "      <td>160474</td>\n",
              "      <td>40993972</td>\n",
              "      <td>licenciatura en administracion(3)</td>\n",
              "      <td>NaN</td>\n",
              "      <td>mancubruno@gmail.com</td>\n",
              "      <td>hola, en la página dice que tengo asignado el ...</td>\n",
              "      <td>34.819030</td>\n",
              "      <td>Boleto Universitario</td>\n",
              "      <td>1</td>\n",
              "      <td>3</td>\n",
              "      <td>10</td>\n",
              "      <td>2</td>\n",
              "      <td>2019</td>\n",
              "    </tr>\n",
              "    <tr>\n",
              "      <th>2</th>\n",
              "      <td>20:20:20</td>\n",
              "      <td>165259</td>\n",
              "      <td>42344375</td>\n",
              "      <td>licenciatura en administracion(3)</td>\n",
              "      <td>3489441201</td>\n",
              "      <td>agustinvandick@gmail.com</td>\n",
              "      <td>yo hace casi un mes hice el tramite para la su...</td>\n",
              "      <td>33.004665</td>\n",
              "      <td>Boleto Universitario</td>\n",
              "      <td>0</td>\n",
              "      <td>5</td>\n",
              "      <td>7</td>\n",
              "      <td>1</td>\n",
              "      <td>2018</td>\n",
              "    </tr>\n",
              "    <tr>\n",
              "      <th>3</th>\n",
              "      <td>10:09:06</td>\n",
              "      <td>163392</td>\n",
              "      <td>41925156</td>\n",
              "      <td>profesorado en educacion fisica(43)</td>\n",
              "      <td>1536771314</td>\n",
              "      <td>danilamferreras@gmail.com</td>\n",
              "      <td>hola que tal?, buenos días.  quería consultar ...</td>\n",
              "      <td>33.004196</td>\n",
              "      <td>Boleto Universitario</td>\n",
              "      <td>4</td>\n",
              "      <td>2</td>\n",
              "      <td>7</td>\n",
              "      <td>1</td>\n",
              "      <td>2018</td>\n",
              "    </tr>\n",
              "    <tr>\n",
              "      <th>4</th>\n",
              "      <td>00:26:56</td>\n",
              "      <td>161066</td>\n",
              "      <td>41677207</td>\n",
              "      <td>tec. un. en insp. de alimentos(19)</td>\n",
              "      <td>232315484535</td>\n",
              "      <td>barbu_99@hotmail.com</td>\n",
              "      <td>hola queria saber xque no puedo hacer el bolet...</td>\n",
              "      <td>31.860080</td>\n",
              "      <td>Boleto Universitario</td>\n",
              "      <td>1</td>\n",
              "      <td>3</td>\n",
              "      <td>5</td>\n",
              "      <td>1</td>\n",
              "      <td>2019</td>\n",
              "    </tr>\n",
              "  </tbody>\n",
              "</table>\n",
              "</div>"
            ],
            "text/plain": [
              "       hora  legajo  documento  ... mes cuatrimestre  anio\n",
              "0  12:55:26  170301   41783126  ...   5            1  2019\n",
              "1  04:06:31  160474   40993972  ...  10            2  2019\n",
              "2  20:20:20  165259   42344375  ...   7            1  2018\n",
              "3  10:09:06  163392   41925156  ...   7            1  2018\n",
              "4  00:26:56  161066   41677207  ...   5            1  2019\n",
              "\n",
              "[5 rows x 14 columns]"
            ]
          },
          "metadata": {
            "tags": []
          },
          "execution_count": 5
        }
      ]
    },
    {
      "cell_type": "markdown",
      "metadata": {
        "id": "4XjW6N1_qo1T"
      },
      "source": [
        "4. Preproceso la hora de la consulta de la siguiente forma:\n",
        "    - 0-Mañana (6-12 hs),\n",
        "    - 1-Media-Tarde (12-16 hs)\n",
        "    - 2-Tarde (16-20 hs)\n",
        "    - 3-Noche (20-00 hs)\n",
        "    - 4-Madrugada (00-6 hs)"
      ]
    },
    {
      "cell_type": "code",
      "metadata": {
        "id": "ZtIB9k3NrNWo"
      },
      "source": [
        "def convierte_horario(hora_consulta):\n",
        "  from datetime import datetime\n",
        "  # Convierto a hora\n",
        "  hora = datetime.strptime(hora_consulta, '%H:%M:%S').time()\n",
        "  return hora\n",
        "\n",
        "def discretiza_horario(horario):\n",
        "  if (horario.hour>=6 and horario.hour<12):\n",
        "    rango_horario=0\n",
        "  elif (horario.hour>=12 and horario.hour<16):\n",
        "    rango_horario=1\n",
        "  elif (horario.hour>=16 and horario.hour<20):\n",
        "    rango_horario=2\n",
        "  else:\n",
        "    rango_horario=3 \n",
        "  return rango_horario\n",
        "\n",
        "#discretiza_horario(convierte_horario(df.loc[0, 'Hora']))\n",
        "horario = df['hora'].apply(convierte_horario)\n",
        "df['hora_discretizada'] = horario.apply(discretiza_horario)"
      ],
      "execution_count": 6,
      "outputs": []
    },
    {
      "cell_type": "code",
      "metadata": {
        "colab": {
          "base_uri": "https://localhost:8080/",
          "height": 683
        },
        "id": "Kaz03ZmpuFHC",
        "outputId": "e841d501-02c6-4de6-e3b3-048b762102c5"
      },
      "source": [
        "df.drop(columns=['hora'], inplace=True)\n",
        "df.head()"
      ],
      "execution_count": 7,
      "outputs": [
        {
          "output_type": "execute_result",
          "data": {
            "text/html": [
              "<div>\n",
              "<style scoped>\n",
              "    .dataframe tbody tr th:only-of-type {\n",
              "        vertical-align: middle;\n",
              "    }\n",
              "\n",
              "    .dataframe tbody tr th {\n",
              "        vertical-align: top;\n",
              "    }\n",
              "\n",
              "    .dataframe thead th {\n",
              "        text-align: right;\n",
              "    }\n",
              "</style>\n",
              "<table border=\"1\" class=\"dataframe\">\n",
              "  <thead>\n",
              "    <tr style=\"text-align: right;\">\n",
              "      <th></th>\n",
              "      <th>legajo</th>\n",
              "      <th>documento</th>\n",
              "      <th>carrera</th>\n",
              "      <th>telefono</th>\n",
              "      <th>email</th>\n",
              "      <th>consulta</th>\n",
              "      <th>score</th>\n",
              "      <th>clase</th>\n",
              "      <th>dia_semana</th>\n",
              "      <th>semana_del_mes</th>\n",
              "      <th>mes</th>\n",
              "      <th>cuatrimestre</th>\n",
              "      <th>anio</th>\n",
              "      <th>hora_discretizada</th>\n",
              "    </tr>\n",
              "  </thead>\n",
              "  <tbody>\n",
              "    <tr>\n",
              "      <th>0</th>\n",
              "      <td>170301</td>\n",
              "      <td>41783126</td>\n",
              "      <td>licenciatura en administracion(3)</td>\n",
              "      <td>1137722125</td>\n",
              "      <td>anlemargagliotti@gmail.com</td>\n",
              "      <td>hola, hice hace un mes y algo el tramite onlin...</td>\n",
              "      <td>37.415314</td>\n",
              "      <td>Boleto Universitario</td>\n",
              "      <td>4</td>\n",
              "      <td>1</td>\n",
              "      <td>5</td>\n",
              "      <td>1</td>\n",
              "      <td>2019</td>\n",
              "      <td>1</td>\n",
              "    </tr>\n",
              "    <tr>\n",
              "      <th>1</th>\n",
              "      <td>160474</td>\n",
              "      <td>40993972</td>\n",
              "      <td>licenciatura en administracion(3)</td>\n",
              "      <td>NaN</td>\n",
              "      <td>mancubruno@gmail.com</td>\n",
              "      <td>hola, en la página dice que tengo asignado el ...</td>\n",
              "      <td>34.819030</td>\n",
              "      <td>Boleto Universitario</td>\n",
              "      <td>1</td>\n",
              "      <td>3</td>\n",
              "      <td>10</td>\n",
              "      <td>2</td>\n",
              "      <td>2019</td>\n",
              "      <td>3</td>\n",
              "    </tr>\n",
              "    <tr>\n",
              "      <th>2</th>\n",
              "      <td>165259</td>\n",
              "      <td>42344375</td>\n",
              "      <td>licenciatura en administracion(3)</td>\n",
              "      <td>3489441201</td>\n",
              "      <td>agustinvandick@gmail.com</td>\n",
              "      <td>yo hace casi un mes hice el tramite para la su...</td>\n",
              "      <td>33.004665</td>\n",
              "      <td>Boleto Universitario</td>\n",
              "      <td>0</td>\n",
              "      <td>5</td>\n",
              "      <td>7</td>\n",
              "      <td>1</td>\n",
              "      <td>2018</td>\n",
              "      <td>3</td>\n",
              "    </tr>\n",
              "    <tr>\n",
              "      <th>3</th>\n",
              "      <td>163392</td>\n",
              "      <td>41925156</td>\n",
              "      <td>profesorado en educacion fisica(43)</td>\n",
              "      <td>1536771314</td>\n",
              "      <td>danilamferreras@gmail.com</td>\n",
              "      <td>hola que tal?, buenos días.  quería consultar ...</td>\n",
              "      <td>33.004196</td>\n",
              "      <td>Boleto Universitario</td>\n",
              "      <td>4</td>\n",
              "      <td>2</td>\n",
              "      <td>7</td>\n",
              "      <td>1</td>\n",
              "      <td>2018</td>\n",
              "      <td>0</td>\n",
              "    </tr>\n",
              "    <tr>\n",
              "      <th>4</th>\n",
              "      <td>161066</td>\n",
              "      <td>41677207</td>\n",
              "      <td>tec. un. en insp. de alimentos(19)</td>\n",
              "      <td>232315484535</td>\n",
              "      <td>barbu_99@hotmail.com</td>\n",
              "      <td>hola queria saber xque no puedo hacer el bolet...</td>\n",
              "      <td>31.860080</td>\n",
              "      <td>Boleto Universitario</td>\n",
              "      <td>1</td>\n",
              "      <td>3</td>\n",
              "      <td>5</td>\n",
              "      <td>1</td>\n",
              "      <td>2019</td>\n",
              "      <td>3</td>\n",
              "    </tr>\n",
              "  </tbody>\n",
              "</table>\n",
              "</div>"
            ],
            "text/plain": [
              "   legajo  documento  ...  anio hora_discretizada\n",
              "0  170301   41783126  ...  2019                 1\n",
              "1  160474   40993972  ...  2019                 3\n",
              "2  165259   42344375  ...  2018                 3\n",
              "3  163392   41925156  ...  2018                 0\n",
              "4  161066   41677207  ...  2019                 3\n",
              "\n",
              "[5 rows x 14 columns]"
            ]
          },
          "metadata": {
            "tags": []
          },
          "execution_count": 7
        }
      ]
    },
    {
      "cell_type": "markdown",
      "metadata": {
        "id": "hsRw3yrMvA5d"
      },
      "source": [
        "5. Preproceso el legajo y el DNI:<br />\n",
        "  Los separo en cuantiles asumiendo que los DNI mas bajos son personas mas grandes y los legajos mas grandes son estudiantes mas nuevos."
      ]
    },
    {
      "cell_type": "code",
      "metadata": {
        "id": "QJeq9I6C1sXp"
      },
      "source": [
        "import numpy as np\n",
        " \n",
        "def discretiza_atributo(atributo, intervalos=4):\n",
        "  # Se discretiza según la cantidad de q definidos\n",
        "  discretizado = pd.qcut(atributo, q=intervalos)\n",
        "  \n",
        "  # Nos quedamos con los diferentes intervalos, los ordenamos min-max\n",
        "  lista_intervalos = discretizado.unique()\n",
        "\n",
        "  lista_intervalos.sort_values(inplace=True)\n",
        "  #  Lo casteamos a str\n",
        "  lista_intervalos = lista_intervalos.astype(str)\n",
        "  #  Casteamos el atributo a str\n",
        "  discretizado = discretizado.astype(str)\n",
        "  # Borro los nan porque los modifico a mano\n",
        "  tiene_nan = False\n",
        "  if ('nan' in lista_intervalos):\n",
        "    tiene_nan = True\n",
        "    np.delete(lista_intervalos, np.where(lista_intervalos == 'nan'))\n",
        "\n",
        "  for i in range(intervalos):\n",
        "    # Si existiera, quiero dejar el nan en el intervalo con etiqueta 0, por eso sumo 1 a i\n",
        "    discretizado = discretizado.replace(lista_intervalos[i], i+1)\n",
        "    discretizado = discretizado.replace('nan', 0)\n",
        "\n",
        "  return discretizado\n",
        "\n",
        "# Cambio a numericos los Documentos y los discretizo\n",
        "df[\"documento\"] = pd.to_numeric(df[\"documento\"], errors='coerce')\n",
        "df[\"dni_discretizado\"] = discretiza_atributo(df[\"documento\"], 8)\n",
        "\n",
        "# Cambio a numericos los Legajos y los discretizo\n",
        "df[\"legajo\"] = pd.to_numeric(df[\"legajo\"], errors='coerce')\n",
        "df[\"legajo_discretizado\"] = discretiza_atributo(df[\"legajo\"], 4)"
      ],
      "execution_count": 8,
      "outputs": []
    },
    {
      "cell_type": "code",
      "metadata": {
        "colab": {
          "base_uri": "https://localhost:8080/"
        },
        "id": "PGIkhtQ9Fs7X",
        "outputId": "c18a0b4f-bc9b-496a-9c91-5bf505e94204"
      },
      "source": [
        "df[\"dni_discretizado\"].value_counts()"
      ],
      "execution_count": 9,
      "outputs": [
        {
          "output_type": "execute_result",
          "data": {
            "text/plain": [
              "3    101\n",
              "8    100\n",
              "7    100\n",
              "6    100\n",
              "5    100\n",
              "2    100\n",
              "1    100\n",
              "4     99\n",
              "Name: dni_discretizado, dtype: int64"
            ]
          },
          "metadata": {
            "tags": []
          },
          "execution_count": 9
        }
      ]
    },
    {
      "cell_type": "code",
      "metadata": {
        "colab": {
          "base_uri": "https://localhost:8080/"
        },
        "id": "GQ6UOF3sJrwu",
        "outputId": "4ed045de-0098-4b2c-c77f-8ebf4f3c22cb"
      },
      "source": [
        "df[\"legajo_discretizado\"].value_counts()"
      ],
      "execution_count": 10,
      "outputs": [
        {
          "output_type": "execute_result",
          "data": {
            "text/plain": [
              "0    227\n",
              "1    145\n",
              "4    143\n",
              "3    143\n",
              "2    142\n",
              "Name: legajo_discretizado, dtype: int64"
            ]
          },
          "metadata": {
            "tags": []
          },
          "execution_count": 10
        }
      ]
    },
    {
      "cell_type": "markdown",
      "metadata": {
        "id": "QubUGs5fnykm"
      },
      "source": [
        "6. Genero una variable dummy con la existencia o no de Legajo y Teléfono:"
      ]
    },
    {
      "cell_type": "code",
      "metadata": {
        "id": "d5vwKz6-nBz4"
      },
      "source": [
        "# Tiene legajo?\n",
        "def posee_valor(atributo):\n",
        "  return 1-atributo.isna()\n",
        "  \n",
        "df['posee_legajo'] = posee_valor(df['legajo'])"
      ],
      "execution_count": 11,
      "outputs": []
    },
    {
      "cell_type": "code",
      "metadata": {
        "colab": {
          "base_uri": "https://localhost:8080/",
          "height": 683
        },
        "id": "WMvevGffJ4OD",
        "outputId": "5059cf46-87f5-4fe7-fdd8-4184a0552da8"
      },
      "source": [
        "df.drop(columns=['legajo', 'documento'], inplace=True)\n",
        "df.head()"
      ],
      "execution_count": 12,
      "outputs": [
        {
          "output_type": "execute_result",
          "data": {
            "text/html": [
              "<div>\n",
              "<style scoped>\n",
              "    .dataframe tbody tr th:only-of-type {\n",
              "        vertical-align: middle;\n",
              "    }\n",
              "\n",
              "    .dataframe tbody tr th {\n",
              "        vertical-align: top;\n",
              "    }\n",
              "\n",
              "    .dataframe thead th {\n",
              "        text-align: right;\n",
              "    }\n",
              "</style>\n",
              "<table border=\"1\" class=\"dataframe\">\n",
              "  <thead>\n",
              "    <tr style=\"text-align: right;\">\n",
              "      <th></th>\n",
              "      <th>carrera</th>\n",
              "      <th>telefono</th>\n",
              "      <th>email</th>\n",
              "      <th>consulta</th>\n",
              "      <th>score</th>\n",
              "      <th>clase</th>\n",
              "      <th>dia_semana</th>\n",
              "      <th>semana_del_mes</th>\n",
              "      <th>mes</th>\n",
              "      <th>cuatrimestre</th>\n",
              "      <th>anio</th>\n",
              "      <th>hora_discretizada</th>\n",
              "      <th>dni_discretizado</th>\n",
              "      <th>legajo_discretizado</th>\n",
              "      <th>posee_legajo</th>\n",
              "    </tr>\n",
              "  </thead>\n",
              "  <tbody>\n",
              "    <tr>\n",
              "      <th>0</th>\n",
              "      <td>licenciatura en administracion(3)</td>\n",
              "      <td>1137722125</td>\n",
              "      <td>anlemargagliotti@gmail.com</td>\n",
              "      <td>hola, hice hace un mes y algo el tramite onlin...</td>\n",
              "      <td>37.415314</td>\n",
              "      <td>Boleto Universitario</td>\n",
              "      <td>4</td>\n",
              "      <td>1</td>\n",
              "      <td>5</td>\n",
              "      <td>1</td>\n",
              "      <td>2019</td>\n",
              "      <td>1</td>\n",
              "      <td>8</td>\n",
              "      <td>4</td>\n",
              "      <td>1</td>\n",
              "    </tr>\n",
              "    <tr>\n",
              "      <th>1</th>\n",
              "      <td>licenciatura en administracion(3)</td>\n",
              "      <td>NaN</td>\n",
              "      <td>mancubruno@gmail.com</td>\n",
              "      <td>hola, en la página dice que tengo asignado el ...</td>\n",
              "      <td>34.819030</td>\n",
              "      <td>Boleto Universitario</td>\n",
              "      <td>1</td>\n",
              "      <td>3</td>\n",
              "      <td>10</td>\n",
              "      <td>2</td>\n",
              "      <td>2019</td>\n",
              "      <td>3</td>\n",
              "      <td>7</td>\n",
              "      <td>4</td>\n",
              "      <td>1</td>\n",
              "    </tr>\n",
              "    <tr>\n",
              "      <th>2</th>\n",
              "      <td>licenciatura en administracion(3)</td>\n",
              "      <td>3489441201</td>\n",
              "      <td>agustinvandick@gmail.com</td>\n",
              "      <td>yo hace casi un mes hice el tramite para la su...</td>\n",
              "      <td>33.004665</td>\n",
              "      <td>Boleto Universitario</td>\n",
              "      <td>0</td>\n",
              "      <td>5</td>\n",
              "      <td>7</td>\n",
              "      <td>1</td>\n",
              "      <td>2018</td>\n",
              "      <td>3</td>\n",
              "      <td>8</td>\n",
              "      <td>4</td>\n",
              "      <td>1</td>\n",
              "    </tr>\n",
              "    <tr>\n",
              "      <th>3</th>\n",
              "      <td>profesorado en educacion fisica(43)</td>\n",
              "      <td>1536771314</td>\n",
              "      <td>danilamferreras@gmail.com</td>\n",
              "      <td>hola que tal?, buenos días.  quería consultar ...</td>\n",
              "      <td>33.004196</td>\n",
              "      <td>Boleto Universitario</td>\n",
              "      <td>4</td>\n",
              "      <td>2</td>\n",
              "      <td>7</td>\n",
              "      <td>1</td>\n",
              "      <td>2018</td>\n",
              "      <td>0</td>\n",
              "      <td>8</td>\n",
              "      <td>4</td>\n",
              "      <td>1</td>\n",
              "    </tr>\n",
              "    <tr>\n",
              "      <th>4</th>\n",
              "      <td>tec. un. en insp. de alimentos(19)</td>\n",
              "      <td>232315484535</td>\n",
              "      <td>barbu_99@hotmail.com</td>\n",
              "      <td>hola queria saber xque no puedo hacer el bolet...</td>\n",
              "      <td>31.860080</td>\n",
              "      <td>Boleto Universitario</td>\n",
              "      <td>1</td>\n",
              "      <td>3</td>\n",
              "      <td>5</td>\n",
              "      <td>1</td>\n",
              "      <td>2019</td>\n",
              "      <td>3</td>\n",
              "      <td>7</td>\n",
              "      <td>4</td>\n",
              "      <td>1</td>\n",
              "    </tr>\n",
              "  </tbody>\n",
              "</table>\n",
              "</div>"
            ],
            "text/plain": [
              "                               carrera  ... posee_legajo\n",
              "0    licenciatura en administracion(3)  ...            1\n",
              "1    licenciatura en administracion(3)  ...            1\n",
              "2    licenciatura en administracion(3)  ...            1\n",
              "3  profesorado en educacion fisica(43)  ...            1\n",
              "4   tec. un. en insp. de alimentos(19)  ...            1\n",
              "\n",
              "[5 rows x 15 columns]"
            ]
          },
          "metadata": {
            "tags": []
          },
          "execution_count": 12
        }
      ]
    },
    {
      "cell_type": "code",
      "metadata": {
        "id": "-ux6oNoknIBh"
      },
      "source": [
        "# Tiene teléfono? \n",
        "df['posee_telefono'] = posee_valor(df['telefono'])"
      ],
      "execution_count": 13,
      "outputs": []
    },
    {
      "cell_type": "code",
      "metadata": {
        "colab": {
          "base_uri": "https://localhost:8080/",
          "height": 683
        },
        "id": "YSYkq_jnnNG3",
        "outputId": "302a1e41-9eeb-459a-c567-0831e34eae69"
      },
      "source": [
        "df.drop(columns=['telefono'], inplace=True)\n",
        "df.head()"
      ],
      "execution_count": 14,
      "outputs": [
        {
          "output_type": "execute_result",
          "data": {
            "text/html": [
              "<div>\n",
              "<style scoped>\n",
              "    .dataframe tbody tr th:only-of-type {\n",
              "        vertical-align: middle;\n",
              "    }\n",
              "\n",
              "    .dataframe tbody tr th {\n",
              "        vertical-align: top;\n",
              "    }\n",
              "\n",
              "    .dataframe thead th {\n",
              "        text-align: right;\n",
              "    }\n",
              "</style>\n",
              "<table border=\"1\" class=\"dataframe\">\n",
              "  <thead>\n",
              "    <tr style=\"text-align: right;\">\n",
              "      <th></th>\n",
              "      <th>carrera</th>\n",
              "      <th>email</th>\n",
              "      <th>consulta</th>\n",
              "      <th>score</th>\n",
              "      <th>clase</th>\n",
              "      <th>dia_semana</th>\n",
              "      <th>semana_del_mes</th>\n",
              "      <th>mes</th>\n",
              "      <th>cuatrimestre</th>\n",
              "      <th>anio</th>\n",
              "      <th>hora_discretizada</th>\n",
              "      <th>dni_discretizado</th>\n",
              "      <th>legajo_discretizado</th>\n",
              "      <th>posee_legajo</th>\n",
              "      <th>posee_telefono</th>\n",
              "    </tr>\n",
              "  </thead>\n",
              "  <tbody>\n",
              "    <tr>\n",
              "      <th>0</th>\n",
              "      <td>licenciatura en administracion(3)</td>\n",
              "      <td>anlemargagliotti@gmail.com</td>\n",
              "      <td>hola, hice hace un mes y algo el tramite onlin...</td>\n",
              "      <td>37.415314</td>\n",
              "      <td>Boleto Universitario</td>\n",
              "      <td>4</td>\n",
              "      <td>1</td>\n",
              "      <td>5</td>\n",
              "      <td>1</td>\n",
              "      <td>2019</td>\n",
              "      <td>1</td>\n",
              "      <td>8</td>\n",
              "      <td>4</td>\n",
              "      <td>1</td>\n",
              "      <td>1</td>\n",
              "    </tr>\n",
              "    <tr>\n",
              "      <th>1</th>\n",
              "      <td>licenciatura en administracion(3)</td>\n",
              "      <td>mancubruno@gmail.com</td>\n",
              "      <td>hola, en la página dice que tengo asignado el ...</td>\n",
              "      <td>34.819030</td>\n",
              "      <td>Boleto Universitario</td>\n",
              "      <td>1</td>\n",
              "      <td>3</td>\n",
              "      <td>10</td>\n",
              "      <td>2</td>\n",
              "      <td>2019</td>\n",
              "      <td>3</td>\n",
              "      <td>7</td>\n",
              "      <td>4</td>\n",
              "      <td>1</td>\n",
              "      <td>0</td>\n",
              "    </tr>\n",
              "    <tr>\n",
              "      <th>2</th>\n",
              "      <td>licenciatura en administracion(3)</td>\n",
              "      <td>agustinvandick@gmail.com</td>\n",
              "      <td>yo hace casi un mes hice el tramite para la su...</td>\n",
              "      <td>33.004665</td>\n",
              "      <td>Boleto Universitario</td>\n",
              "      <td>0</td>\n",
              "      <td>5</td>\n",
              "      <td>7</td>\n",
              "      <td>1</td>\n",
              "      <td>2018</td>\n",
              "      <td>3</td>\n",
              "      <td>8</td>\n",
              "      <td>4</td>\n",
              "      <td>1</td>\n",
              "      <td>1</td>\n",
              "    </tr>\n",
              "    <tr>\n",
              "      <th>3</th>\n",
              "      <td>profesorado en educacion fisica(43)</td>\n",
              "      <td>danilamferreras@gmail.com</td>\n",
              "      <td>hola que tal?, buenos días.  quería consultar ...</td>\n",
              "      <td>33.004196</td>\n",
              "      <td>Boleto Universitario</td>\n",
              "      <td>4</td>\n",
              "      <td>2</td>\n",
              "      <td>7</td>\n",
              "      <td>1</td>\n",
              "      <td>2018</td>\n",
              "      <td>0</td>\n",
              "      <td>8</td>\n",
              "      <td>4</td>\n",
              "      <td>1</td>\n",
              "      <td>1</td>\n",
              "    </tr>\n",
              "    <tr>\n",
              "      <th>4</th>\n",
              "      <td>tec. un. en insp. de alimentos(19)</td>\n",
              "      <td>barbu_99@hotmail.com</td>\n",
              "      <td>hola queria saber xque no puedo hacer el bolet...</td>\n",
              "      <td>31.860080</td>\n",
              "      <td>Boleto Universitario</td>\n",
              "      <td>1</td>\n",
              "      <td>3</td>\n",
              "      <td>5</td>\n",
              "      <td>1</td>\n",
              "      <td>2019</td>\n",
              "      <td>3</td>\n",
              "      <td>7</td>\n",
              "      <td>4</td>\n",
              "      <td>1</td>\n",
              "      <td>1</td>\n",
              "    </tr>\n",
              "  </tbody>\n",
              "</table>\n",
              "</div>"
            ],
            "text/plain": [
              "                               carrera  ... posee_telefono\n",
              "0    licenciatura en administracion(3)  ...              1\n",
              "1    licenciatura en administracion(3)  ...              0\n",
              "2    licenciatura en administracion(3)  ...              1\n",
              "3  profesorado en educacion fisica(43)  ...              1\n",
              "4   tec. un. en insp. de alimentos(19)  ...              1\n",
              "\n",
              "[5 rows x 15 columns]"
            ]
          },
          "metadata": {
            "tags": []
          },
          "execution_count": 14
        }
      ]
    },
    {
      "cell_type": "markdown",
      "metadata": {
        "id": "XwliKva_oORy"
      },
      "source": [
        "7. Se extrae el código de Carrera:"
      ]
    },
    {
      "cell_type": "code",
      "metadata": {
        "id": "aNQgRSVNKrUJ"
      },
      "source": [
        "def extrae_codigo_carrera(texto_carrera):\n",
        "  codigo = 0\n",
        "  if \"sin carrera\" not in texto_carrera:\n",
        "    texto_carrera = texto_carrera.split('(')\n",
        "    texto_carrera = texto_carrera[len(texto_carrera)-1].split(')')\n",
        "    codigo = int(texto_carrera[0])\n",
        "  return codigo\n",
        "\n",
        "# extrae_codigo_carrera(df.loc[0, 'Carrera'])\n",
        "df['carrera_valor'] = df['carrera'].apply(extrae_codigo_carrera)"
      ],
      "execution_count": 15,
      "outputs": []
    },
    {
      "cell_type": "code",
      "metadata": {
        "colab": {
          "base_uri": "https://localhost:8080/",
          "height": 683
        },
        "id": "7914syUaOKUL",
        "outputId": "0244a8d1-18db-4702-9c1f-7d596e6ec2ae"
      },
      "source": [
        "df.drop(columns=['carrera'], inplace=True)\n",
        "df.head()"
      ],
      "execution_count": 16,
      "outputs": [
        {
          "output_type": "execute_result",
          "data": {
            "text/html": [
              "<div>\n",
              "<style scoped>\n",
              "    .dataframe tbody tr th:only-of-type {\n",
              "        vertical-align: middle;\n",
              "    }\n",
              "\n",
              "    .dataframe tbody tr th {\n",
              "        vertical-align: top;\n",
              "    }\n",
              "\n",
              "    .dataframe thead th {\n",
              "        text-align: right;\n",
              "    }\n",
              "</style>\n",
              "<table border=\"1\" class=\"dataframe\">\n",
              "  <thead>\n",
              "    <tr style=\"text-align: right;\">\n",
              "      <th></th>\n",
              "      <th>email</th>\n",
              "      <th>consulta</th>\n",
              "      <th>score</th>\n",
              "      <th>clase</th>\n",
              "      <th>dia_semana</th>\n",
              "      <th>semana_del_mes</th>\n",
              "      <th>mes</th>\n",
              "      <th>cuatrimestre</th>\n",
              "      <th>anio</th>\n",
              "      <th>hora_discretizada</th>\n",
              "      <th>dni_discretizado</th>\n",
              "      <th>legajo_discretizado</th>\n",
              "      <th>posee_legajo</th>\n",
              "      <th>posee_telefono</th>\n",
              "      <th>carrera_valor</th>\n",
              "    </tr>\n",
              "  </thead>\n",
              "  <tbody>\n",
              "    <tr>\n",
              "      <th>0</th>\n",
              "      <td>anlemargagliotti@gmail.com</td>\n",
              "      <td>hola, hice hace un mes y algo el tramite onlin...</td>\n",
              "      <td>37.415314</td>\n",
              "      <td>Boleto Universitario</td>\n",
              "      <td>4</td>\n",
              "      <td>1</td>\n",
              "      <td>5</td>\n",
              "      <td>1</td>\n",
              "      <td>2019</td>\n",
              "      <td>1</td>\n",
              "      <td>8</td>\n",
              "      <td>4</td>\n",
              "      <td>1</td>\n",
              "      <td>1</td>\n",
              "      <td>3</td>\n",
              "    </tr>\n",
              "    <tr>\n",
              "      <th>1</th>\n",
              "      <td>mancubruno@gmail.com</td>\n",
              "      <td>hola, en la página dice que tengo asignado el ...</td>\n",
              "      <td>34.819030</td>\n",
              "      <td>Boleto Universitario</td>\n",
              "      <td>1</td>\n",
              "      <td>3</td>\n",
              "      <td>10</td>\n",
              "      <td>2</td>\n",
              "      <td>2019</td>\n",
              "      <td>3</td>\n",
              "      <td>7</td>\n",
              "      <td>4</td>\n",
              "      <td>1</td>\n",
              "      <td>0</td>\n",
              "      <td>3</td>\n",
              "    </tr>\n",
              "    <tr>\n",
              "      <th>2</th>\n",
              "      <td>agustinvandick@gmail.com</td>\n",
              "      <td>yo hace casi un mes hice el tramite para la su...</td>\n",
              "      <td>33.004665</td>\n",
              "      <td>Boleto Universitario</td>\n",
              "      <td>0</td>\n",
              "      <td>5</td>\n",
              "      <td>7</td>\n",
              "      <td>1</td>\n",
              "      <td>2018</td>\n",
              "      <td>3</td>\n",
              "      <td>8</td>\n",
              "      <td>4</td>\n",
              "      <td>1</td>\n",
              "      <td>1</td>\n",
              "      <td>3</td>\n",
              "    </tr>\n",
              "    <tr>\n",
              "      <th>3</th>\n",
              "      <td>danilamferreras@gmail.com</td>\n",
              "      <td>hola que tal?, buenos días.  quería consultar ...</td>\n",
              "      <td>33.004196</td>\n",
              "      <td>Boleto Universitario</td>\n",
              "      <td>4</td>\n",
              "      <td>2</td>\n",
              "      <td>7</td>\n",
              "      <td>1</td>\n",
              "      <td>2018</td>\n",
              "      <td>0</td>\n",
              "      <td>8</td>\n",
              "      <td>4</td>\n",
              "      <td>1</td>\n",
              "      <td>1</td>\n",
              "      <td>43</td>\n",
              "    </tr>\n",
              "    <tr>\n",
              "      <th>4</th>\n",
              "      <td>barbu_99@hotmail.com</td>\n",
              "      <td>hola queria saber xque no puedo hacer el bolet...</td>\n",
              "      <td>31.860080</td>\n",
              "      <td>Boleto Universitario</td>\n",
              "      <td>1</td>\n",
              "      <td>3</td>\n",
              "      <td>5</td>\n",
              "      <td>1</td>\n",
              "      <td>2019</td>\n",
              "      <td>3</td>\n",
              "      <td>7</td>\n",
              "      <td>4</td>\n",
              "      <td>1</td>\n",
              "      <td>1</td>\n",
              "      <td>19</td>\n",
              "    </tr>\n",
              "  </tbody>\n",
              "</table>\n",
              "</div>"
            ],
            "text/plain": [
              "                        email  ... carrera_valor\n",
              "0  anlemargagliotti@gmail.com  ...             3\n",
              "1        mancubruno@gmail.com  ...             3\n",
              "2    agustinvandick@gmail.com  ...             3\n",
              "3   danilamferreras@gmail.com  ...            43\n",
              "4        barbu_99@hotmail.com  ...            19\n",
              "\n",
              "[5 rows x 15 columns]"
            ]
          },
          "metadata": {
            "tags": []
          },
          "execution_count": 16
        }
      ]
    },
    {
      "cell_type": "markdown",
      "metadata": {
        "id": "T82OrpbfoRt2"
      },
      "source": [
        "8. Se verifica el proveedor de correo electrónico:"
      ]
    },
    {
      "cell_type": "code",
      "metadata": {
        "id": "un2AjzunnWbm"
      },
      "source": [
        "def servicio_email(consulta, proveedor):  \n",
        "  if consulta.lower().find(proveedor)==-1:\n",
        "    return 0\n",
        "  else:\n",
        "    return 1\n",
        "# Correo Gmail?\n",
        "# df['correo_gmail'] = df['E-mail'].apply(servicio_email, proveedor='gmail')\n",
        "# Correo yahoo?\n",
        "# df['correo_yahoo'] = df['E-mail'].apply(servicio_email, proveedor='yahoo')\n",
        "# Correo hotmail?\n",
        "# df['correo_hotmail'] = df['E-mail'].apply(servicio_email, proveedor='hotmail')\n",
        "\n",
        "def extrae_proveedor_correo(texto_correo):\n",
        "    texto_correo = texto_correo.split('@')\n",
        "    texto_correo = texto_correo[len(texto_correo)-1].split('.')\n",
        "    proveedor_correo = texto_correo[0]\n",
        "    return proveedor_correo\n",
        "\n",
        "#extrae_proveedor_correo(df.loc[0, 'E-mail'])\n",
        "df['proveedor_correo'] = df['email'].apply(extrae_proveedor_correo)"
      ],
      "execution_count": 17,
      "outputs": []
    },
    {
      "cell_type": "code",
      "metadata": {
        "colab": {
          "base_uri": "https://localhost:8080/"
        },
        "id": "dYSTwAzOpSDe",
        "outputId": "f3df051d-0dc7-4477-c7a9-6771ea05c614"
      },
      "source": [
        "df['proveedor_correo'].value_counts()"
      ],
      "execution_count": 18,
      "outputs": [
        {
          "output_type": "execute_result",
          "data": {
            "text/plain": [
              "hotmail            371\n",
              "gmail              308\n",
              "yahoo               41\n",
              "outlook             37\n",
              "live                32\n",
              "udesa                2\n",
              "homail               1\n",
              "molinoargentino      1\n",
              "santanderrio         1\n",
              "edenor               1\n",
              "colegiodelpilar      1\n",
              "uno                  1\n",
              "gamail               1\n",
              "hotmaill             1\n",
              "icloud               1\n",
              "Name: proveedor_correo, dtype: int64"
            ]
          },
          "metadata": {
            "tags": []
          },
          "execution_count": 18
        }
      ]
    },
    {
      "cell_type": "code",
      "metadata": {
        "colab": {
          "base_uri": "https://localhost:8080/",
          "height": 683
        },
        "id": "2Q74DHQInT9b",
        "outputId": "b544e308-d211-4cd9-c9fa-2563e57948bb"
      },
      "source": [
        "df.drop(columns=['email'], inplace=True)\n",
        "df.head()"
      ],
      "execution_count": 19,
      "outputs": [
        {
          "output_type": "execute_result",
          "data": {
            "text/html": [
              "<div>\n",
              "<style scoped>\n",
              "    .dataframe tbody tr th:only-of-type {\n",
              "        vertical-align: middle;\n",
              "    }\n",
              "\n",
              "    .dataframe tbody tr th {\n",
              "        vertical-align: top;\n",
              "    }\n",
              "\n",
              "    .dataframe thead th {\n",
              "        text-align: right;\n",
              "    }\n",
              "</style>\n",
              "<table border=\"1\" class=\"dataframe\">\n",
              "  <thead>\n",
              "    <tr style=\"text-align: right;\">\n",
              "      <th></th>\n",
              "      <th>consulta</th>\n",
              "      <th>score</th>\n",
              "      <th>clase</th>\n",
              "      <th>dia_semana</th>\n",
              "      <th>semana_del_mes</th>\n",
              "      <th>mes</th>\n",
              "      <th>cuatrimestre</th>\n",
              "      <th>anio</th>\n",
              "      <th>hora_discretizada</th>\n",
              "      <th>dni_discretizado</th>\n",
              "      <th>legajo_discretizado</th>\n",
              "      <th>posee_legajo</th>\n",
              "      <th>posee_telefono</th>\n",
              "      <th>carrera_valor</th>\n",
              "      <th>proveedor_correo</th>\n",
              "    </tr>\n",
              "  </thead>\n",
              "  <tbody>\n",
              "    <tr>\n",
              "      <th>0</th>\n",
              "      <td>hola, hice hace un mes y algo el tramite onlin...</td>\n",
              "      <td>37.415314</td>\n",
              "      <td>Boleto Universitario</td>\n",
              "      <td>4</td>\n",
              "      <td>1</td>\n",
              "      <td>5</td>\n",
              "      <td>1</td>\n",
              "      <td>2019</td>\n",
              "      <td>1</td>\n",
              "      <td>8</td>\n",
              "      <td>4</td>\n",
              "      <td>1</td>\n",
              "      <td>1</td>\n",
              "      <td>3</td>\n",
              "      <td>gmail</td>\n",
              "    </tr>\n",
              "    <tr>\n",
              "      <th>1</th>\n",
              "      <td>hola, en la página dice que tengo asignado el ...</td>\n",
              "      <td>34.819030</td>\n",
              "      <td>Boleto Universitario</td>\n",
              "      <td>1</td>\n",
              "      <td>3</td>\n",
              "      <td>10</td>\n",
              "      <td>2</td>\n",
              "      <td>2019</td>\n",
              "      <td>3</td>\n",
              "      <td>7</td>\n",
              "      <td>4</td>\n",
              "      <td>1</td>\n",
              "      <td>0</td>\n",
              "      <td>3</td>\n",
              "      <td>gmail</td>\n",
              "    </tr>\n",
              "    <tr>\n",
              "      <th>2</th>\n",
              "      <td>yo hace casi un mes hice el tramite para la su...</td>\n",
              "      <td>33.004665</td>\n",
              "      <td>Boleto Universitario</td>\n",
              "      <td>0</td>\n",
              "      <td>5</td>\n",
              "      <td>7</td>\n",
              "      <td>1</td>\n",
              "      <td>2018</td>\n",
              "      <td>3</td>\n",
              "      <td>8</td>\n",
              "      <td>4</td>\n",
              "      <td>1</td>\n",
              "      <td>1</td>\n",
              "      <td>3</td>\n",
              "      <td>gmail</td>\n",
              "    </tr>\n",
              "    <tr>\n",
              "      <th>3</th>\n",
              "      <td>hola que tal?, buenos días.  quería consultar ...</td>\n",
              "      <td>33.004196</td>\n",
              "      <td>Boleto Universitario</td>\n",
              "      <td>4</td>\n",
              "      <td>2</td>\n",
              "      <td>7</td>\n",
              "      <td>1</td>\n",
              "      <td>2018</td>\n",
              "      <td>0</td>\n",
              "      <td>8</td>\n",
              "      <td>4</td>\n",
              "      <td>1</td>\n",
              "      <td>1</td>\n",
              "      <td>43</td>\n",
              "      <td>gmail</td>\n",
              "    </tr>\n",
              "    <tr>\n",
              "      <th>4</th>\n",
              "      <td>hola queria saber xque no puedo hacer el bolet...</td>\n",
              "      <td>31.860080</td>\n",
              "      <td>Boleto Universitario</td>\n",
              "      <td>1</td>\n",
              "      <td>3</td>\n",
              "      <td>5</td>\n",
              "      <td>1</td>\n",
              "      <td>2019</td>\n",
              "      <td>3</td>\n",
              "      <td>7</td>\n",
              "      <td>4</td>\n",
              "      <td>1</td>\n",
              "      <td>1</td>\n",
              "      <td>19</td>\n",
              "      <td>hotmail</td>\n",
              "    </tr>\n",
              "  </tbody>\n",
              "</table>\n",
              "</div>"
            ],
            "text/plain": [
              "                                            consulta  ...  proveedor_correo\n",
              "0  hola, hice hace un mes y algo el tramite onlin...  ...             gmail\n",
              "1  hola, en la página dice que tengo asignado el ...  ...             gmail\n",
              "2  yo hace casi un mes hice el tramite para la su...  ...             gmail\n",
              "3  hola que tal?, buenos días.  quería consultar ...  ...             gmail\n",
              "4  hola queria saber xque no puedo hacer el bolet...  ...           hotmail\n",
              "\n",
              "[5 rows x 15 columns]"
            ]
          },
          "metadata": {
            "tags": []
          },
          "execution_count": 19
        }
      ]
    },
    {
      "cell_type": "markdown",
      "metadata": {
        "id": "ldSoSAe0RKEp"
      },
      "source": [
        "## Features estáticas léxicas\n",
        "\n",
        "Genero las features estáticas léxicas basadas en caracteres:"
      ]
    },
    {
      "cell_type": "code",
      "metadata": {
        "id": "0bFY_Se3Q_VE"
      },
      "source": [
        "# Total number of characters\n",
        "def cantidad_caracteres(columna_consulta):\n",
        "  return columna_consulta.str.len()\n",
        "\n",
        "df['cantidad_caracteres'] = cantidad_caracteres(df.consulta)\n",
        "\n",
        "# Proporcion de mayúsculas en la consulta\n",
        "def proporcion_mayusculas(consulta):\n",
        "  return sum(1 for letra in consulta if letra.isupper())\n",
        "\n",
        "df['proporcion_mayusculas'] = df['consulta'].apply(proporcion_mayusculas)/df['cantidad_caracteres']\n",
        "\n",
        "# Proporción de letras en la consulta\n",
        "def proporcion_letras(consulta):\n",
        "  return sum(1 for letra in consulta if letra.isalpha())\n",
        "\n",
        "df['proporcion_letras'] = df['consulta'].apply(proporcion_letras)/df['cantidad_caracteres']\n",
        "\n",
        "# Cantidad de letras con tildes\n",
        "def cantidad_tildes(consulta):\n",
        "  return sum(1 for letra in consulta if letra.lower() in ['á', 'é', 'í', 'ó', 'ú'])\n",
        "\n",
        "df['cantidad_tildes'] = df['consulta'].apply(cantidad_tildes)"
      ],
      "execution_count": 24,
      "outputs": []
    },
    {
      "cell_type": "markdown",
      "metadata": {
        "id": "kwnIHzGjRwD9"
      },
      "source": [
        "Genero las features estáticas léxicas basadas en palabras:"
      ]
    },
    {
      "cell_type": "code",
      "metadata": {
        "colab": {
          "base_uri": "https://localhost:8080/"
        },
        "id": "9ek4B8SSRz3m",
        "outputId": "8d4937ea-8156-41ba-8c57-195e86ab8ebd"
      },
      "source": [
        "# total number of words\n",
        "def cantidad_palabras(consulta):\n",
        "  palabras = consulta.split(sep=' ')\n",
        "  return len(palabras)\n",
        "\n",
        "df['cantidad_palabras'] = df['consulta'].apply(cantidad_palabras)\n",
        "\n",
        "# proportion of short words (less than four characters)\n",
        "def cantidad_palabras_cortas(consulta, letras_corta=4):\n",
        "  palabras = consulta.split(sep=' ')\n",
        "  return sum(1 for palabra in palabras if len(palabra) <= letras_corta)\n",
        "\n",
        "df['cantidad_palabras_cortas'] = df['consulta'].apply(cantidad_palabras_cortas)\n",
        "\n",
        "# ratio of number of distinct words to the total number of words: |set(words)|/|words|\n",
        "def cantidad_palabras_distintas(consulta, letras_corta=4):\n",
        "  palabras = consulta.split(sep=' ')\n",
        "  return len(set(palabras))\n",
        "\n",
        "df['proporcion_palabras_distintas'] = df['consulta'].apply(cantidad_palabras_distintas)/df['cantidad_palabras']\n",
        "df['proporcion_palabras_distintas']"
      ],
      "execution_count": 25,
      "outputs": [
        {
          "output_type": "execute_result",
          "data": {
            "text/plain": [
              "0      0.837209\n",
              "1      0.885714\n",
              "2      0.785714\n",
              "3      0.773333\n",
              "4      1.000000\n",
              "         ...   \n",
              "795    0.777778\n",
              "796    0.892857\n",
              "797    0.666667\n",
              "798    0.880952\n",
              "799    0.903226\n",
              "Name: proporcion_palabras_distintas, Length: 800, dtype: float64"
            ]
          },
          "metadata": {
            "tags": []
          },
          "execution_count": 25
        }
      ]
    },
    {
      "cell_type": "markdown",
      "metadata": {
        "id": "NGuXt-ufR9tp"
      },
      "source": [
        "Genero las features estáticas sintácticas:"
      ]
    },
    {
      "cell_type": "code",
      "metadata": {
        "id": "7Og4O_n4R-ZJ"
      },
      "source": [
        "# Frecuencia de signos de puntuación {,.¿?!:;’\"}\n",
        "def cantidad_signos_puntuacion(consulta):\n",
        "  signos_puntuacion = [',', '.', '¿', '?', '!', '¡', ':', ';', '\"']\n",
        "  return sum(1 for letra in consulta if letra.lower() in signos_puntuacion)\n",
        "\n",
        "df['frecuencia_signos_puntuacion'] = df['consulta'].apply(cantidad_signos_puntuacion)/df['cantidad_caracteres']"
      ],
      "execution_count": 26,
      "outputs": []
    },
    {
      "cell_type": "markdown",
      "metadata": {
        "id": "JueaJOGoSFl6"
      },
      "source": [
        "Genero las features estáticas estructurales:"
      ]
    },
    {
      "cell_type": "code",
      "metadata": {
        "id": "psAalNqRSGap"
      },
      "source": [
        "# total number of sentences\n",
        "def cantidad_oraciones(consulta):\n",
        "  if consulta.count('.')==0:\n",
        "    return 1\n",
        "  else: \n",
        "    return consulta.count('.')\n",
        "\n",
        "df['cantidad_oraciones'] = df['consulta'].apply(cantidad_oraciones)\n",
        "\n",
        "# utiliza código de asignatura?\n",
        "def utiliza_codigo_asignatura(consulta):\n",
        "  codigo=0\n",
        "  palabras = consulta.split(sep=' ')\n",
        "  for palabra in palabras:\n",
        "    if palabra.isdigit():\n",
        "      if int(palabra)>=10000 and int(palabra)<=99999:\n",
        "        codigo=1\n",
        "  return codigo\n",
        "\n",
        "df['utiliza_codigo_asignatura'] = df['consulta'].apply(utiliza_codigo_asignatura)"
      ],
      "execution_count": 27,
      "outputs": []
    },
    {
      "cell_type": "code",
      "metadata": {
        "colab": {
          "base_uri": "https://localhost:8080/"
        },
        "id": "SN_06acJSXDV",
        "outputId": "d789a616-8afe-4ec4-ab24-6fa676994dd0"
      },
      "source": [
        "len(df.columns)"
      ],
      "execution_count": 28,
      "outputs": [
        {
          "output_type": "execute_result",
          "data": {
            "text/plain": [
              "25"
            ]
          },
          "metadata": {
            "tags": []
          },
          "execution_count": 28
        }
      ]
    },
    {
      "cell_type": "markdown",
      "metadata": {
        "id": "Z6DESYPxrGnO"
      },
      "source": [
        "Por último, reordeno el score y la clase para que me quede última:"
      ]
    },
    {
      "cell_type": "code",
      "metadata": {
        "id": "tvK6vaU6rcok"
      },
      "source": [
        "x = df['score']\n",
        "y = df['clase']\n",
        "df.drop(columns=['clase', 'score'], inplace=True)\n",
        "df.insert(len(df.columns), \"score\", x, True)\n",
        "df.insert(len(df.columns), \"clase\", y, True)"
      ],
      "execution_count": 29,
      "outputs": []
    },
    {
      "cell_type": "code",
      "metadata": {
        "colab": {
          "base_uri": "https://localhost:8080/",
          "height": 683
        },
        "id": "kk49RVpUr7oc",
        "outputId": "aff1383e-7037-48aa-8457-64aba2e0fbdc"
      },
      "source": [
        "# Tomo una consulta determinada\n",
        "df.loc[1, 'consulta']\n",
        "\n",
        "# Verifico las columnas del Dataframe\n",
        "df.head()"
      ],
      "execution_count": 30,
      "outputs": [
        {
          "output_type": "execute_result",
          "data": {
            "text/html": [
              "<div>\n",
              "<style scoped>\n",
              "    .dataframe tbody tr th:only-of-type {\n",
              "        vertical-align: middle;\n",
              "    }\n",
              "\n",
              "    .dataframe tbody tr th {\n",
              "        vertical-align: top;\n",
              "    }\n",
              "\n",
              "    .dataframe thead th {\n",
              "        text-align: right;\n",
              "    }\n",
              "</style>\n",
              "<table border=\"1\" class=\"dataframe\">\n",
              "  <thead>\n",
              "    <tr style=\"text-align: right;\">\n",
              "      <th></th>\n",
              "      <th>consulta</th>\n",
              "      <th>dia_semana</th>\n",
              "      <th>semana_del_mes</th>\n",
              "      <th>mes</th>\n",
              "      <th>cuatrimestre</th>\n",
              "      <th>anio</th>\n",
              "      <th>hora_discretizada</th>\n",
              "      <th>dni_discretizado</th>\n",
              "      <th>legajo_discretizado</th>\n",
              "      <th>posee_legajo</th>\n",
              "      <th>posee_telefono</th>\n",
              "      <th>carrera_valor</th>\n",
              "      <th>proveedor_correo</th>\n",
              "      <th>cantidad_caracteres</th>\n",
              "      <th>proporcion_mayusculas</th>\n",
              "      <th>proporcion_letras</th>\n",
              "      <th>cantidad_tildes</th>\n",
              "      <th>cantidad_palabras</th>\n",
              "      <th>cantidad_palabras_cortas</th>\n",
              "      <th>proporcion_palabras_distintas</th>\n",
              "      <th>frecuencia_signos_puntuacion</th>\n",
              "      <th>cantidad_oraciones</th>\n",
              "      <th>utiliza_codigo_asignatura</th>\n",
              "      <th>score</th>\n",
              "      <th>clase</th>\n",
              "    </tr>\n",
              "  </thead>\n",
              "  <tbody>\n",
              "    <tr>\n",
              "      <th>0</th>\n",
              "      <td>hola, hice hace un mes y algo el tramite onlin...</td>\n",
              "      <td>4</td>\n",
              "      <td>1</td>\n",
              "      <td>5</td>\n",
              "      <td>1</td>\n",
              "      <td>2019</td>\n",
              "      <td>1</td>\n",
              "      <td>8</td>\n",
              "      <td>4</td>\n",
              "      <td>1</td>\n",
              "      <td>1</td>\n",
              "      <td>3</td>\n",
              "      <td>gmail</td>\n",
              "      <td>237</td>\n",
              "      <td>0.0</td>\n",
              "      <td>0.797468</td>\n",
              "      <td>1</td>\n",
              "      <td>43</td>\n",
              "      <td>25</td>\n",
              "      <td>0.837209</td>\n",
              "      <td>0.021097</td>\n",
              "      <td>2</td>\n",
              "      <td>0</td>\n",
              "      <td>37.415314</td>\n",
              "      <td>Boleto Universitario</td>\n",
              "    </tr>\n",
              "    <tr>\n",
              "      <th>1</th>\n",
              "      <td>hola, en la página dice que tengo asignado el ...</td>\n",
              "      <td>1</td>\n",
              "      <td>3</td>\n",
              "      <td>10</td>\n",
              "      <td>2</td>\n",
              "      <td>2019</td>\n",
              "      <td>3</td>\n",
              "      <td>7</td>\n",
              "      <td>4</td>\n",
              "      <td>1</td>\n",
              "      <td>0</td>\n",
              "      <td>3</td>\n",
              "      <td>gmail</td>\n",
              "      <td>207</td>\n",
              "      <td>0.0</td>\n",
              "      <td>0.816425</td>\n",
              "      <td>2</td>\n",
              "      <td>35</td>\n",
              "      <td>17</td>\n",
              "      <td>0.885714</td>\n",
              "      <td>0.019324</td>\n",
              "      <td>1</td>\n",
              "      <td>0</td>\n",
              "      <td>34.819030</td>\n",
              "      <td>Boleto Universitario</td>\n",
              "    </tr>\n",
              "    <tr>\n",
              "      <th>2</th>\n",
              "      <td>yo hace casi un mes hice el tramite para la su...</td>\n",
              "      <td>0</td>\n",
              "      <td>5</td>\n",
              "      <td>7</td>\n",
              "      <td>1</td>\n",
              "      <td>2018</td>\n",
              "      <td>3</td>\n",
              "      <td>8</td>\n",
              "      <td>4</td>\n",
              "      <td>1</td>\n",
              "      <td>1</td>\n",
              "      <td>3</td>\n",
              "      <td>gmail</td>\n",
              "      <td>299</td>\n",
              "      <td>0.0</td>\n",
              "      <td>0.799331</td>\n",
              "      <td>0</td>\n",
              "      <td>56</td>\n",
              "      <td>33</td>\n",
              "      <td>0.785714</td>\n",
              "      <td>0.016722</td>\n",
              "      <td>3</td>\n",
              "      <td>0</td>\n",
              "      <td>33.004665</td>\n",
              "      <td>Boleto Universitario</td>\n",
              "    </tr>\n",
              "    <tr>\n",
              "      <th>3</th>\n",
              "      <td>hola que tal?, buenos días.  quería consultar ...</td>\n",
              "      <td>4</td>\n",
              "      <td>2</td>\n",
              "      <td>7</td>\n",
              "      <td>1</td>\n",
              "      <td>2018</td>\n",
              "      <td>0</td>\n",
              "      <td>8</td>\n",
              "      <td>4</td>\n",
              "      <td>1</td>\n",
              "      <td>1</td>\n",
              "      <td>43</td>\n",
              "      <td>gmail</td>\n",
              "      <td>425</td>\n",
              "      <td>0.0</td>\n",
              "      <td>0.800000</td>\n",
              "      <td>3</td>\n",
              "      <td>75</td>\n",
              "      <td>38</td>\n",
              "      <td>0.773333</td>\n",
              "      <td>0.025882</td>\n",
              "      <td>7</td>\n",
              "      <td>0</td>\n",
              "      <td>33.004196</td>\n",
              "      <td>Boleto Universitario</td>\n",
              "    </tr>\n",
              "    <tr>\n",
              "      <th>4</th>\n",
              "      <td>hola queria saber xque no puedo hacer el bolet...</td>\n",
              "      <td>1</td>\n",
              "      <td>3</td>\n",
              "      <td>5</td>\n",
              "      <td>1</td>\n",
              "      <td>2019</td>\n",
              "      <td>3</td>\n",
              "      <td>7</td>\n",
              "      <td>4</td>\n",
              "      <td>1</td>\n",
              "      <td>1</td>\n",
              "      <td>19</td>\n",
              "      <td>hotmail</td>\n",
              "      <td>114</td>\n",
              "      <td>0.0</td>\n",
              "      <td>0.815789</td>\n",
              "      <td>0</td>\n",
              "      <td>20</td>\n",
              "      <td>10</td>\n",
              "      <td>1.000000</td>\n",
              "      <td>0.017544</td>\n",
              "      <td>1</td>\n",
              "      <td>0</td>\n",
              "      <td>31.860080</td>\n",
              "      <td>Boleto Universitario</td>\n",
              "    </tr>\n",
              "  </tbody>\n",
              "</table>\n",
              "</div>"
            ],
            "text/plain": [
              "                                            consulta  ...                 clase\n",
              "0  hola, hice hace un mes y algo el tramite onlin...  ...  Boleto Universitario\n",
              "1  hola, en la página dice que tengo asignado el ...  ...  Boleto Universitario\n",
              "2  yo hace casi un mes hice el tramite para la su...  ...  Boleto Universitario\n",
              "3  hola que tal?, buenos días.  quería consultar ...  ...  Boleto Universitario\n",
              "4  hola queria saber xque no puedo hacer el bolet...  ...  Boleto Universitario\n",
              "\n",
              "[5 rows x 25 columns]"
            ]
          },
          "metadata": {
            "tags": []
          },
          "execution_count": 30
        }
      ]
    },
    {
      "cell_type": "markdown",
      "metadata": {
        "id": "BO_wCMJfs95e"
      },
      "source": [
        "10. Guardo el csv procesado:"
      ]
    },
    {
      "cell_type": "code",
      "metadata": {
        "colab": {
          "base_uri": "https://localhost:8080/"
        },
        "id": "9YmtjSkxs86i",
        "outputId": "1c873598-61f0-4c34-b36c-72a189d424b8"
      },
      "source": [
        "from google.colab import drive\n",
        "drive.mount('drive')\n",
        "\n",
        "df.to_csv('dataset-tfidf-prep.csv', index=False)\n",
        "\n",
        "!cp dataset-tfidf-prep.csv \"drive/My Drive/\""
      ],
      "execution_count": null,
      "outputs": [
        {
          "output_type": "stream",
          "text": [
            "Drive already mounted at drive; to attempt to forcibly remount, call drive.mount(\"drive\", force_remount=True).\n"
          ],
          "name": "stdout"
        }
      ]
    }
  ]
}