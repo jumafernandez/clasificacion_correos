{
  "nbformat": 4,
  "nbformat_minor": 0,
  "metadata": {
    "colab": {
      "name": "00-04-static-features-preprocessing.ipynb",
      "provenance": [],
      "authorship_tag": "ABX9TyM3tQvAekkZZ7wBpHV9krp2",
      "include_colab_link": true
    },
    "kernelspec": {
      "name": "python3",
      "display_name": "Python 3"
    }
  },
  "cells": [
    {
      "cell_type": "markdown",
      "metadata": {
        "id": "view-in-github",
        "colab_type": "text"
      },
      "source": [
        "<a href=\"https://colab.research.google.com/github/jumafernandez/clasificacion_correos/blob/main/notebooks/jaiio/00-04-static_features_preprocessing.ipynb\" target=\"_parent\"><img src=\"https://colab.research.google.com/assets/colab-badge.svg\" alt=\"Open In Colab\"/></a>"
      ]
    },
    {
      "cell_type": "markdown",
      "metadata": {
        "id": "FTD65pStwWuO"
      },
      "source": [
        "# Procesamiento de las features adicionales a la Consulta\n"
      ]
    },
    {
      "cell_type": "markdown",
      "metadata": {
        "id": "NAkTZSEqwlMv"
      },
      "source": [
        "## Features estáticas a partir de los datos\n",
        "\n",
        "1. Traigo los datos y los cargo en el dataframe:"
      ]
    },
    {
      "cell_type": "code",
      "metadata": {
        "id": "cEa8IbABwU9R",
        "colab": {
          "base_uri": "https://localhost:8080/"
        },
        "outputId": "780d6aa0-318d-4855-8b14-5df82dfb82b4"
      },
      "source": [
        "from os import path\n",
        "import pandas as pd\n",
        "\n",
        "# Traigo el archivo desde GitHub\n",
        "!wget https://raw.githubusercontent.com/jumafernandez/clasificacion_correos/main/data/50jaiio/consolidados/feature-extraction/dataset-ss3.csv\n",
        "\n",
        "df = pd.read_csv('dataset-ss3.csv')\n",
        "\n",
        "df['clase'].value_counts()\n"
      ],
      "execution_count": 62,
      "outputs": [
        {
          "output_type": "stream",
          "text": [
            "--2021-06-20 00:18:30--  https://raw.githubusercontent.com/jumafernandez/clasificacion_correos/main/data/50jaiio/consolidados/feature-extraction/dataset-ss3.csv\n",
            "Resolving raw.githubusercontent.com (raw.githubusercontent.com)... 185.199.111.133, 185.199.108.133, 185.199.110.133, ...\n",
            "Connecting to raw.githubusercontent.com (raw.githubusercontent.com)|185.199.111.133|:443... connected.\n",
            "HTTP request sent, awaiting response... 200 OK\n",
            "Length: 423523 (414K) [text/plain]\n",
            "Saving to: ‘dataset-ss3.csv’\n",
            "\n",
            "dataset-ss3.csv     100%[===================>] 413.60K  --.-KB/s    in 0.06s   \n",
            "\n",
            "2021-06-20 00:18:30 (6.39 MB/s) - ‘dataset-ss3.csv’ saved [423523/423523]\n",
            "\n"
          ],
          "name": "stdout"
        },
        {
          "output_type": "execute_result",
          "data": {
            "text/plain": [
              "Exámenes                               50\n",
              "Datos Personales                       50\n",
              "Consulta sobre Título Universitario    50\n",
              "Pedido de Certificados                 50\n",
              "Requisitos de Ingreso                  50\n",
              "Cursadas                               50\n",
              "Ingreso a la Universidad               50\n",
              "Consulta por Legajo                    50\n",
              "Reincorporación                        50\n",
              "Simultaneidad de Carreras              50\n",
              "Problemas con la Clave                 50\n",
              "Cambio de Carrera                      50\n",
              "Situación Académica                    50\n",
              "Cambio de Comisión                     50\n",
              "Boleto Universitario                   50\n",
              "Consulta por Equivalencias             50\n",
              "Name: clase, dtype: int64"
            ]
          },
          "metadata": {
            "tags": []
          },
          "execution_count": 62
        }
      ]
    },
    {
      "cell_type": "code",
      "metadata": {
        "colab": {
          "base_uri": "https://localhost:8080/"
        },
        "id": "rKSK4WSAPdwB",
        "outputId": "50d0a3ff-3044-42d7-ea7d-93eb53df6b8b"
      },
      "source": [
        "df.columns"
      ],
      "execution_count": 63,
      "outputs": [
        {
          "output_type": "execute_result",
          "data": {
            "text/plain": [
              "Index(['fecha', 'hora', 'apellido_nombre', 'legajo', 'documento', 'carrera',\n",
              "       'telefono', 'email', 'consulta', 'respuesta', 'score', 'clase'],\n",
              "      dtype='object')"
            ]
          },
          "metadata": {
            "tags": []
          },
          "execution_count": 63
        }
      ]
    },
    {
      "cell_type": "markdown",
      "metadata": {
        "id": "m_xyelTHxEFE"
      },
      "source": [
        "2. Verifico los datos y borro columnas no pre-procesables:"
      ]
    },
    {
      "cell_type": "code",
      "metadata": {
        "colab": {
          "base_uri": "https://localhost:8080/",
          "height": 289
        },
        "id": "U-ft72hZ0TLQ",
        "outputId": "17173279-37b2-49f3-a10a-1c1516f5b730"
      },
      "source": [
        "df.drop(columns=['apellido_nombre', 'respuesta'], inplace=True)\n",
        "df.head()"
      ],
      "execution_count": 64,
      "outputs": [
        {
          "output_type": "execute_result",
          "data": {
            "text/html": [
              "<div>\n",
              "<style scoped>\n",
              "    .dataframe tbody tr th:only-of-type {\n",
              "        vertical-align: middle;\n",
              "    }\n",
              "\n",
              "    .dataframe tbody tr th {\n",
              "        vertical-align: top;\n",
              "    }\n",
              "\n",
              "    .dataframe thead th {\n",
              "        text-align: right;\n",
              "    }\n",
              "</style>\n",
              "<table border=\"1\" class=\"dataframe\">\n",
              "  <thead>\n",
              "    <tr style=\"text-align: right;\">\n",
              "      <th></th>\n",
              "      <th>fecha</th>\n",
              "      <th>hora</th>\n",
              "      <th>legajo</th>\n",
              "      <th>documento</th>\n",
              "      <th>carrera</th>\n",
              "      <th>telefono</th>\n",
              "      <th>email</th>\n",
              "      <th>consulta</th>\n",
              "      <th>score</th>\n",
              "      <th>clase</th>\n",
              "    </tr>\n",
              "  </thead>\n",
              "  <tbody>\n",
              "    <tr>\n",
              "      <th>0</th>\n",
              "      <td>10-15-2019</td>\n",
              "      <td>04:06:31</td>\n",
              "      <td>160474</td>\n",
              "      <td>40993972</td>\n",
              "      <td>licenciatura en administracion(3)</td>\n",
              "      <td>NaN</td>\n",
              "      <td>mancubruno@gmail.com</td>\n",
              "      <td>hola, en la página dice que tengo asignado el ...</td>\n",
              "      <td>36.964314</td>\n",
              "      <td>Boleto Universitario</td>\n",
              "    </tr>\n",
              "    <tr>\n",
              "      <th>1</th>\n",
              "      <td>08-06-2018</td>\n",
              "      <td>10:59:04</td>\n",
              "      <td>153748</td>\n",
              "      <td>34368522</td>\n",
              "      <td>contador publico(54)</td>\n",
              "      <td>NaN</td>\n",
              "      <td>nemercurio@gmail.com</td>\n",
              "      <td>quiero acceder al beneficio de boleto estudian...</td>\n",
              "      <td>36.109413</td>\n",
              "      <td>Boleto Universitario</td>\n",
              "    </tr>\n",
              "    <tr>\n",
              "      <th>2</th>\n",
              "      <td>07-30-2018</td>\n",
              "      <td>20:20:20</td>\n",
              "      <td>165259</td>\n",
              "      <td>42344375</td>\n",
              "      <td>licenciatura en administracion(3)</td>\n",
              "      <td>3489441201</td>\n",
              "      <td>agustinvandick@gmail.com</td>\n",
              "      <td>yo hace casi un mes hice el tramite para la su...</td>\n",
              "      <td>35.828820</td>\n",
              "      <td>Boleto Universitario</td>\n",
              "    </tr>\n",
              "    <tr>\n",
              "      <th>3</th>\n",
              "      <td>04-09-2019</td>\n",
              "      <td>18:28:42</td>\n",
              "      <td>146293</td>\n",
              "      <td>39749232</td>\n",
              "      <td>licenciatura en administracion(3)</td>\n",
              "      <td>1140878148</td>\n",
              "      <td>boscomatias@hotmail.com</td>\n",
              "      <td>hola queria saber porque no se me acredita la ...</td>\n",
              "      <td>32.916737</td>\n",
              "      <td>Boleto Universitario</td>\n",
              "    </tr>\n",
              "    <tr>\n",
              "      <th>4</th>\n",
              "      <td>04-09-2019</td>\n",
              "      <td>18:28:42</td>\n",
              "      <td>146293</td>\n",
              "      <td>39749232</td>\n",
              "      <td>licenciatura en administracion(3)</td>\n",
              "      <td>1140878148</td>\n",
              "      <td>boscomatias@hotmail.com &lt;mailto:boscomatias@ho...</td>\n",
              "      <td>hola queria saber porque no se me acredita la ...</td>\n",
              "      <td>32.916737</td>\n",
              "      <td>Boleto Universitario</td>\n",
              "    </tr>\n",
              "  </tbody>\n",
              "</table>\n",
              "</div>"
            ],
            "text/plain": [
              "        fecha      hora  ...      score                 clase\n",
              "0  10-15-2019  04:06:31  ...  36.964314  Boleto Universitario\n",
              "1  08-06-2018  10:59:04  ...  36.109413  Boleto Universitario\n",
              "2  07-30-2018  20:20:20  ...  35.828820  Boleto Universitario\n",
              "3  04-09-2019  18:28:42  ...  32.916737  Boleto Universitario\n",
              "4  04-09-2019  18:28:42  ...  32.916737  Boleto Universitario\n",
              "\n",
              "[5 rows x 10 columns]"
            ]
          },
          "metadata": {
            "tags": []
          },
          "execution_count": 64
        }
      ]
    },
    {
      "cell_type": "markdown",
      "metadata": {
        "id": "bKwV3G8e7W0O"
      },
      "source": [
        "3. Preproceso la fecha (día de la semana, semana del mes, mes y cuatrimestre) de la consulta:"
      ]
    },
    {
      "cell_type": "code",
      "metadata": {
        "id": "YYeZT4j1Zu0i"
      },
      "source": [
        "def convierte_fecha(fecha_consulta):\n",
        "  from datetime import datetime\n",
        "  # Convierto a fecha\n",
        "  fecha = datetime.strptime(fecha_consulta, '%m-%d-%Y') \n",
        "  return fecha\n",
        "\n",
        "def dia_semana(fecha):\n",
        "  # Tomo el día de la semana\n",
        "  dias_semana = ['Lunes', 'Martes', 'Miércoles', 'Jueves', 'Viernes', 'Sábado', 'Domingo']\n",
        "  # dia_semana = dias_semana[fecha.weekday()]\n",
        "  dia_semana = fecha.weekday()\n",
        "  return dia_semana\n",
        "\n",
        "def semana_del_mes(fecha):\n",
        "  # Tomo la semana del mes\n",
        "  semana_mes = (fecha.day-1)//7+1\n",
        "  return semana_mes\n",
        "\n",
        "def mes(fecha):\n",
        "  # Tomo el mes\n",
        "  meses = ['Enero', 'Febrero', 'Marzo', 'Abril', 'Mayo', 'Junio', 'Julio', 'Agosto', 'Septiembre', 'Octubre', 'Noviembre', 'Diciembre']\n",
        "  # mes = meses[fecha.month-1]\n",
        "  mes = fecha.month\n",
        "  return mes\n",
        "\n",
        "def cuatrimestre(fecha):\n",
        "  # Defino el cuatrimestre\n",
        "  cuatrimestre = 1\n",
        "  if (fecha.month>7):\n",
        "    cuatrimestre = 2\n",
        "  return cuatrimestre\n",
        "\n",
        "def anio(fecha):\n",
        "    anio = fecha.year\n",
        "    return anio\n",
        "\n",
        "# convierte_fecha(df.loc[0, 'Fecha'])\n",
        "fecha = df['fecha'].apply(convierte_fecha)\n",
        "df['dia_semana'] = fecha.apply(dia_semana)\n",
        "df['semana_del_mes'] = fecha.apply(semana_del_mes)\n",
        "df['mes'] = fecha.apply(mes)\n",
        "df['cuatrimestre'] = fecha.apply(cuatrimestre)\n",
        "df['anio'] = fecha.apply(anio)"
      ],
      "execution_count": 65,
      "outputs": []
    },
    {
      "cell_type": "code",
      "metadata": {
        "colab": {
          "base_uri": "https://localhost:8080/",
          "height": 666
        },
        "id": "MoOidpjoaxvK",
        "outputId": "fb082447-dfe9-4d18-e07e-8cc4848a7c33"
      },
      "source": [
        "df.drop(columns=['fecha'], inplace=True)\n",
        "df.head()"
      ],
      "execution_count": 66,
      "outputs": [
        {
          "output_type": "execute_result",
          "data": {
            "text/html": [
              "<div>\n",
              "<style scoped>\n",
              "    .dataframe tbody tr th:only-of-type {\n",
              "        vertical-align: middle;\n",
              "    }\n",
              "\n",
              "    .dataframe tbody tr th {\n",
              "        vertical-align: top;\n",
              "    }\n",
              "\n",
              "    .dataframe thead th {\n",
              "        text-align: right;\n",
              "    }\n",
              "</style>\n",
              "<table border=\"1\" class=\"dataframe\">\n",
              "  <thead>\n",
              "    <tr style=\"text-align: right;\">\n",
              "      <th></th>\n",
              "      <th>hora</th>\n",
              "      <th>legajo</th>\n",
              "      <th>documento</th>\n",
              "      <th>carrera</th>\n",
              "      <th>telefono</th>\n",
              "      <th>email</th>\n",
              "      <th>consulta</th>\n",
              "      <th>score</th>\n",
              "      <th>clase</th>\n",
              "      <th>dia_semana</th>\n",
              "      <th>semana_del_mes</th>\n",
              "      <th>mes</th>\n",
              "      <th>cuatrimestre</th>\n",
              "      <th>anio</th>\n",
              "    </tr>\n",
              "  </thead>\n",
              "  <tbody>\n",
              "    <tr>\n",
              "      <th>0</th>\n",
              "      <td>04:06:31</td>\n",
              "      <td>160474</td>\n",
              "      <td>40993972</td>\n",
              "      <td>licenciatura en administracion(3)</td>\n",
              "      <td>NaN</td>\n",
              "      <td>mancubruno@gmail.com</td>\n",
              "      <td>hola, en la página dice que tengo asignado el ...</td>\n",
              "      <td>36.964314</td>\n",
              "      <td>Boleto Universitario</td>\n",
              "      <td>1</td>\n",
              "      <td>3</td>\n",
              "      <td>10</td>\n",
              "      <td>2</td>\n",
              "      <td>2019</td>\n",
              "    </tr>\n",
              "    <tr>\n",
              "      <th>1</th>\n",
              "      <td>10:59:04</td>\n",
              "      <td>153748</td>\n",
              "      <td>34368522</td>\n",
              "      <td>contador publico(54)</td>\n",
              "      <td>NaN</td>\n",
              "      <td>nemercurio@gmail.com</td>\n",
              "      <td>quiero acceder al beneficio de boleto estudian...</td>\n",
              "      <td>36.109413</td>\n",
              "      <td>Boleto Universitario</td>\n",
              "      <td>0</td>\n",
              "      <td>1</td>\n",
              "      <td>8</td>\n",
              "      <td>2</td>\n",
              "      <td>2018</td>\n",
              "    </tr>\n",
              "    <tr>\n",
              "      <th>2</th>\n",
              "      <td>20:20:20</td>\n",
              "      <td>165259</td>\n",
              "      <td>42344375</td>\n",
              "      <td>licenciatura en administracion(3)</td>\n",
              "      <td>3489441201</td>\n",
              "      <td>agustinvandick@gmail.com</td>\n",
              "      <td>yo hace casi un mes hice el tramite para la su...</td>\n",
              "      <td>35.828820</td>\n",
              "      <td>Boleto Universitario</td>\n",
              "      <td>0</td>\n",
              "      <td>5</td>\n",
              "      <td>7</td>\n",
              "      <td>1</td>\n",
              "      <td>2018</td>\n",
              "    </tr>\n",
              "    <tr>\n",
              "      <th>3</th>\n",
              "      <td>18:28:42</td>\n",
              "      <td>146293</td>\n",
              "      <td>39749232</td>\n",
              "      <td>licenciatura en administracion(3)</td>\n",
              "      <td>1140878148</td>\n",
              "      <td>boscomatias@hotmail.com</td>\n",
              "      <td>hola queria saber porque no se me acredita la ...</td>\n",
              "      <td>32.916737</td>\n",
              "      <td>Boleto Universitario</td>\n",
              "      <td>1</td>\n",
              "      <td>2</td>\n",
              "      <td>4</td>\n",
              "      <td>1</td>\n",
              "      <td>2019</td>\n",
              "    </tr>\n",
              "    <tr>\n",
              "      <th>4</th>\n",
              "      <td>18:28:42</td>\n",
              "      <td>146293</td>\n",
              "      <td>39749232</td>\n",
              "      <td>licenciatura en administracion(3)</td>\n",
              "      <td>1140878148</td>\n",
              "      <td>boscomatias@hotmail.com &lt;mailto:boscomatias@ho...</td>\n",
              "      <td>hola queria saber porque no se me acredita la ...</td>\n",
              "      <td>32.916737</td>\n",
              "      <td>Boleto Universitario</td>\n",
              "      <td>1</td>\n",
              "      <td>2</td>\n",
              "      <td>4</td>\n",
              "      <td>1</td>\n",
              "      <td>2019</td>\n",
              "    </tr>\n",
              "  </tbody>\n",
              "</table>\n",
              "</div>"
            ],
            "text/plain": [
              "       hora  legajo documento  ... mes cuatrimestre  anio\n",
              "0  04:06:31  160474  40993972  ...  10            2  2019\n",
              "1  10:59:04  153748  34368522  ...   8            2  2018\n",
              "2  20:20:20  165259  42344375  ...   7            1  2018\n",
              "3  18:28:42  146293  39749232  ...   4            1  2019\n",
              "4  18:28:42  146293  39749232  ...   4            1  2019\n",
              "\n",
              "[5 rows x 14 columns]"
            ]
          },
          "metadata": {
            "tags": []
          },
          "execution_count": 66
        }
      ]
    },
    {
      "cell_type": "markdown",
      "metadata": {
        "id": "4XjW6N1_qo1T"
      },
      "source": [
        "4. Preproceso la hora de la consulta de la siguiente forma:\n",
        "    - 0-Mañana (6-12 hs),\n",
        "    - 1-Media-Tarde (12-16 hs)\n",
        "    - 2-Tarde (16-20 hs)\n",
        "    - 3-Noche (20-00 hs)\n",
        "    - 4-Madrugada (00-6 hs)"
      ]
    },
    {
      "cell_type": "code",
      "metadata": {
        "id": "ZtIB9k3NrNWo"
      },
      "source": [
        "def convierte_horario(hora_consulta):\n",
        "  from datetime import datetime\n",
        "  # Convierto a hora\n",
        "  hora = datetime.strptime(hora_consulta, '%H:%M:%S').time()\n",
        "  return hora\n",
        "\n",
        "def discretiza_horario(horario):\n",
        "  if (horario.hour>=6 and horario.hour<12):\n",
        "    rango_horario=0\n",
        "  elif (horario.hour>=12 and horario.hour<16):\n",
        "    rango_horario=1\n",
        "  elif (horario.hour>=16 and horario.hour<20):\n",
        "    rango_horario=2\n",
        "  else:\n",
        "    rango_horario=3 \n",
        "  return rango_horario\n",
        "\n",
        "#discretiza_horario(convierte_horario(df.loc[0, 'Hora']))\n",
        "horario = df['hora'].apply(convierte_horario)\n",
        "df['hora_discretizada'] = horario.apply(discretiza_horario)"
      ],
      "execution_count": 67,
      "outputs": []
    },
    {
      "cell_type": "code",
      "metadata": {
        "colab": {
          "base_uri": "https://localhost:8080/",
          "height": 666
        },
        "id": "Kaz03ZmpuFHC",
        "outputId": "db69d6f2-04b8-4160-b1f6-a4447414e741"
      },
      "source": [
        "df.drop(columns=['hora'], inplace=True)\n",
        "df.head()"
      ],
      "execution_count": 68,
      "outputs": [
        {
          "output_type": "execute_result",
          "data": {
            "text/html": [
              "<div>\n",
              "<style scoped>\n",
              "    .dataframe tbody tr th:only-of-type {\n",
              "        vertical-align: middle;\n",
              "    }\n",
              "\n",
              "    .dataframe tbody tr th {\n",
              "        vertical-align: top;\n",
              "    }\n",
              "\n",
              "    .dataframe thead th {\n",
              "        text-align: right;\n",
              "    }\n",
              "</style>\n",
              "<table border=\"1\" class=\"dataframe\">\n",
              "  <thead>\n",
              "    <tr style=\"text-align: right;\">\n",
              "      <th></th>\n",
              "      <th>legajo</th>\n",
              "      <th>documento</th>\n",
              "      <th>carrera</th>\n",
              "      <th>telefono</th>\n",
              "      <th>email</th>\n",
              "      <th>consulta</th>\n",
              "      <th>score</th>\n",
              "      <th>clase</th>\n",
              "      <th>dia_semana</th>\n",
              "      <th>semana_del_mes</th>\n",
              "      <th>mes</th>\n",
              "      <th>cuatrimestre</th>\n",
              "      <th>anio</th>\n",
              "      <th>hora_discretizada</th>\n",
              "    </tr>\n",
              "  </thead>\n",
              "  <tbody>\n",
              "    <tr>\n",
              "      <th>0</th>\n",
              "      <td>160474</td>\n",
              "      <td>40993972</td>\n",
              "      <td>licenciatura en administracion(3)</td>\n",
              "      <td>NaN</td>\n",
              "      <td>mancubruno@gmail.com</td>\n",
              "      <td>hola, en la página dice que tengo asignado el ...</td>\n",
              "      <td>36.964314</td>\n",
              "      <td>Boleto Universitario</td>\n",
              "      <td>1</td>\n",
              "      <td>3</td>\n",
              "      <td>10</td>\n",
              "      <td>2</td>\n",
              "      <td>2019</td>\n",
              "      <td>3</td>\n",
              "    </tr>\n",
              "    <tr>\n",
              "      <th>1</th>\n",
              "      <td>153748</td>\n",
              "      <td>34368522</td>\n",
              "      <td>contador publico(54)</td>\n",
              "      <td>NaN</td>\n",
              "      <td>nemercurio@gmail.com</td>\n",
              "      <td>quiero acceder al beneficio de boleto estudian...</td>\n",
              "      <td>36.109413</td>\n",
              "      <td>Boleto Universitario</td>\n",
              "      <td>0</td>\n",
              "      <td>1</td>\n",
              "      <td>8</td>\n",
              "      <td>2</td>\n",
              "      <td>2018</td>\n",
              "      <td>0</td>\n",
              "    </tr>\n",
              "    <tr>\n",
              "      <th>2</th>\n",
              "      <td>165259</td>\n",
              "      <td>42344375</td>\n",
              "      <td>licenciatura en administracion(3)</td>\n",
              "      <td>3489441201</td>\n",
              "      <td>agustinvandick@gmail.com</td>\n",
              "      <td>yo hace casi un mes hice el tramite para la su...</td>\n",
              "      <td>35.828820</td>\n",
              "      <td>Boleto Universitario</td>\n",
              "      <td>0</td>\n",
              "      <td>5</td>\n",
              "      <td>7</td>\n",
              "      <td>1</td>\n",
              "      <td>2018</td>\n",
              "      <td>3</td>\n",
              "    </tr>\n",
              "    <tr>\n",
              "      <th>3</th>\n",
              "      <td>146293</td>\n",
              "      <td>39749232</td>\n",
              "      <td>licenciatura en administracion(3)</td>\n",
              "      <td>1140878148</td>\n",
              "      <td>boscomatias@hotmail.com</td>\n",
              "      <td>hola queria saber porque no se me acredita la ...</td>\n",
              "      <td>32.916737</td>\n",
              "      <td>Boleto Universitario</td>\n",
              "      <td>1</td>\n",
              "      <td>2</td>\n",
              "      <td>4</td>\n",
              "      <td>1</td>\n",
              "      <td>2019</td>\n",
              "      <td>2</td>\n",
              "    </tr>\n",
              "    <tr>\n",
              "      <th>4</th>\n",
              "      <td>146293</td>\n",
              "      <td>39749232</td>\n",
              "      <td>licenciatura en administracion(3)</td>\n",
              "      <td>1140878148</td>\n",
              "      <td>boscomatias@hotmail.com &lt;mailto:boscomatias@ho...</td>\n",
              "      <td>hola queria saber porque no se me acredita la ...</td>\n",
              "      <td>32.916737</td>\n",
              "      <td>Boleto Universitario</td>\n",
              "      <td>1</td>\n",
              "      <td>2</td>\n",
              "      <td>4</td>\n",
              "      <td>1</td>\n",
              "      <td>2019</td>\n",
              "      <td>2</td>\n",
              "    </tr>\n",
              "  </tbody>\n",
              "</table>\n",
              "</div>"
            ],
            "text/plain": [
              "   legajo documento  ...  anio hora_discretizada\n",
              "0  160474  40993972  ...  2019                 3\n",
              "1  153748  34368522  ...  2018                 0\n",
              "2  165259  42344375  ...  2018                 3\n",
              "3  146293  39749232  ...  2019                 2\n",
              "4  146293  39749232  ...  2019                 2\n",
              "\n",
              "[5 rows x 14 columns]"
            ]
          },
          "metadata": {
            "tags": []
          },
          "execution_count": 68
        }
      ]
    },
    {
      "cell_type": "markdown",
      "metadata": {
        "id": "hsRw3yrMvA5d"
      },
      "source": [
        "5. Preproceso el legajo y el DNI:<br />\n",
        "  Los separo en cuantiles asumiendo que los DNI mas bajos son personas mas grandes y los legajos mas grandes son estudiantes mas nuevos."
      ]
    },
    {
      "cell_type": "code",
      "metadata": {
        "id": "QJeq9I6C1sXp"
      },
      "source": [
        "import numpy as np\n",
        " \n",
        "def discretiza_atributo(atributo, intervalos=4):\n",
        "  # Se discretiza según la cantidad de q definidos\n",
        "  discretizado = pd.qcut(atributo, q=intervalos)\n",
        "  \n",
        "  # Nos quedamos con los diferentes intervalos, los ordenamos min-max\n",
        "  lista_intervalos = discretizado.unique()\n",
        "\n",
        "  lista_intervalos.sort_values(inplace=True)\n",
        "  #  Lo casteamos a str\n",
        "  lista_intervalos = lista_intervalos.astype(str)\n",
        "  #  Casteamos el atributo a str\n",
        "  discretizado = discretizado.astype(str)\n",
        "  # Borro los nan porque los modifico a mano\n",
        "  tiene_nan = False\n",
        "  if ('nan' in lista_intervalos):\n",
        "    tiene_nan = True\n",
        "    np.delete(lista_intervalos, np.where(lista_intervalos == 'nan'))\n",
        "\n",
        "  for i in range(intervalos):\n",
        "    # Si existiera, quiero dejar el nan en el intervalo con etiqueta 0, por eso sumo 1 a i\n",
        "    discretizado = discretizado.replace(lista_intervalos[i], i+1)\n",
        "    discretizado = discretizado.replace('nan', 0)\n",
        "\n",
        "  return discretizado\n",
        "\n",
        "# Cambio a numericos los Documentos y los discretizo\n",
        "df[\"documento\"] = pd.to_numeric(df[\"documento\"], errors='coerce')\n",
        "df[\"dni_discretizado\"] = discretiza_atributo(df[\"documento\"], 8)\n",
        "\n",
        "# Cambio a numericos los Legajos y los discretizo\n",
        "df[\"legajo\"] = pd.to_numeric(df[\"legajo\"], errors='coerce')\n",
        "df[\"legajo_discretizado\"] = discretiza_atributo(df[\"legajo\"], 4)"
      ],
      "execution_count": 69,
      "outputs": []
    },
    {
      "cell_type": "code",
      "metadata": {
        "colab": {
          "base_uri": "https://localhost:8080/"
        },
        "id": "PGIkhtQ9Fs7X",
        "outputId": "9a82c4c2-3134-463e-b476-af4a0f9a8333"
      },
      "source": [
        "df[\"dni_discretizado\"].value_counts()"
      ],
      "execution_count": 70,
      "outputs": [
        {
          "output_type": "execute_result",
          "data": {
            "text/plain": [
              "8    100\n",
              "7    100\n",
              "5    100\n",
              "3    100\n",
              "2    100\n",
              "1    100\n",
              "6     99\n",
              "4     99\n",
              "0      2\n",
              "Name: dni_discretizado, dtype: int64"
            ]
          },
          "metadata": {
            "tags": []
          },
          "execution_count": 70
        }
      ]
    },
    {
      "cell_type": "code",
      "metadata": {
        "colab": {
          "base_uri": "https://localhost:8080/"
        },
        "id": "GQ6UOF3sJrwu",
        "outputId": "b449358e-1210-4ce9-be0d-9a4bd9428e27"
      },
      "source": [
        "df[\"legajo_discretizado\"].value_counts()"
      ],
      "execution_count": 71,
      "outputs": [
        {
          "output_type": "execute_result",
          "data": {
            "text/plain": [
              "0    211\n",
              "1    148\n",
              "4    147\n",
              "3    147\n",
              "2    147\n",
              "Name: legajo_discretizado, dtype: int64"
            ]
          },
          "metadata": {
            "tags": []
          },
          "execution_count": 71
        }
      ]
    },
    {
      "cell_type": "markdown",
      "metadata": {
        "id": "QubUGs5fnykm"
      },
      "source": [
        "6. Genero una variable dummy con la existencia o no de Legajo y Teléfono:"
      ]
    },
    {
      "cell_type": "code",
      "metadata": {
        "id": "d5vwKz6-nBz4"
      },
      "source": [
        "# Tiene legajo?\n",
        "def posee_valor(atributo):\n",
        "  return 1-atributo.isna()\n",
        "  \n",
        "df['posee_legajo'] = posee_valor(df['legajo'])"
      ],
      "execution_count": 72,
      "outputs": []
    },
    {
      "cell_type": "code",
      "metadata": {
        "colab": {
          "base_uri": "https://localhost:8080/",
          "height": 666
        },
        "id": "WMvevGffJ4OD",
        "outputId": "3a236077-48f9-4a0d-b4c9-30f5411947eb"
      },
      "source": [
        "df.drop(columns=['legajo', 'documento'], inplace=True)\n",
        "df.head()"
      ],
      "execution_count": 73,
      "outputs": [
        {
          "output_type": "execute_result",
          "data": {
            "text/html": [
              "<div>\n",
              "<style scoped>\n",
              "    .dataframe tbody tr th:only-of-type {\n",
              "        vertical-align: middle;\n",
              "    }\n",
              "\n",
              "    .dataframe tbody tr th {\n",
              "        vertical-align: top;\n",
              "    }\n",
              "\n",
              "    .dataframe thead th {\n",
              "        text-align: right;\n",
              "    }\n",
              "</style>\n",
              "<table border=\"1\" class=\"dataframe\">\n",
              "  <thead>\n",
              "    <tr style=\"text-align: right;\">\n",
              "      <th></th>\n",
              "      <th>carrera</th>\n",
              "      <th>telefono</th>\n",
              "      <th>email</th>\n",
              "      <th>consulta</th>\n",
              "      <th>score</th>\n",
              "      <th>clase</th>\n",
              "      <th>dia_semana</th>\n",
              "      <th>semana_del_mes</th>\n",
              "      <th>mes</th>\n",
              "      <th>cuatrimestre</th>\n",
              "      <th>anio</th>\n",
              "      <th>hora_discretizada</th>\n",
              "      <th>dni_discretizado</th>\n",
              "      <th>legajo_discretizado</th>\n",
              "      <th>posee_legajo</th>\n",
              "    </tr>\n",
              "  </thead>\n",
              "  <tbody>\n",
              "    <tr>\n",
              "      <th>0</th>\n",
              "      <td>licenciatura en administracion(3)</td>\n",
              "      <td>NaN</td>\n",
              "      <td>mancubruno@gmail.com</td>\n",
              "      <td>hola, en la página dice que tengo asignado el ...</td>\n",
              "      <td>36.964314</td>\n",
              "      <td>Boleto Universitario</td>\n",
              "      <td>1</td>\n",
              "      <td>3</td>\n",
              "      <td>10</td>\n",
              "      <td>2</td>\n",
              "      <td>2019</td>\n",
              "      <td>3</td>\n",
              "      <td>7</td>\n",
              "      <td>4</td>\n",
              "      <td>1</td>\n",
              "    </tr>\n",
              "    <tr>\n",
              "      <th>1</th>\n",
              "      <td>contador publico(54)</td>\n",
              "      <td>NaN</td>\n",
              "      <td>nemercurio@gmail.com</td>\n",
              "      <td>quiero acceder al beneficio de boleto estudian...</td>\n",
              "      <td>36.109413</td>\n",
              "      <td>Boleto Universitario</td>\n",
              "      <td>0</td>\n",
              "      <td>1</td>\n",
              "      <td>8</td>\n",
              "      <td>2</td>\n",
              "      <td>2018</td>\n",
              "      <td>0</td>\n",
              "      <td>4</td>\n",
              "      <td>4</td>\n",
              "      <td>1</td>\n",
              "    </tr>\n",
              "    <tr>\n",
              "      <th>2</th>\n",
              "      <td>licenciatura en administracion(3)</td>\n",
              "      <td>3489441201</td>\n",
              "      <td>agustinvandick@gmail.com</td>\n",
              "      <td>yo hace casi un mes hice el tramite para la su...</td>\n",
              "      <td>35.828820</td>\n",
              "      <td>Boleto Universitario</td>\n",
              "      <td>0</td>\n",
              "      <td>5</td>\n",
              "      <td>7</td>\n",
              "      <td>1</td>\n",
              "      <td>2018</td>\n",
              "      <td>3</td>\n",
              "      <td>8</td>\n",
              "      <td>4</td>\n",
              "      <td>1</td>\n",
              "    </tr>\n",
              "    <tr>\n",
              "      <th>3</th>\n",
              "      <td>licenciatura en administracion(3)</td>\n",
              "      <td>1140878148</td>\n",
              "      <td>boscomatias@hotmail.com</td>\n",
              "      <td>hola queria saber porque no se me acredita la ...</td>\n",
              "      <td>32.916737</td>\n",
              "      <td>Boleto Universitario</td>\n",
              "      <td>1</td>\n",
              "      <td>2</td>\n",
              "      <td>4</td>\n",
              "      <td>1</td>\n",
              "      <td>2019</td>\n",
              "      <td>2</td>\n",
              "      <td>6</td>\n",
              "      <td>3</td>\n",
              "      <td>1</td>\n",
              "    </tr>\n",
              "    <tr>\n",
              "      <th>4</th>\n",
              "      <td>licenciatura en administracion(3)</td>\n",
              "      <td>1140878148</td>\n",
              "      <td>boscomatias@hotmail.com &lt;mailto:boscomatias@ho...</td>\n",
              "      <td>hola queria saber porque no se me acredita la ...</td>\n",
              "      <td>32.916737</td>\n",
              "      <td>Boleto Universitario</td>\n",
              "      <td>1</td>\n",
              "      <td>2</td>\n",
              "      <td>4</td>\n",
              "      <td>1</td>\n",
              "      <td>2019</td>\n",
              "      <td>2</td>\n",
              "      <td>6</td>\n",
              "      <td>3</td>\n",
              "      <td>1</td>\n",
              "    </tr>\n",
              "  </tbody>\n",
              "</table>\n",
              "</div>"
            ],
            "text/plain": [
              "                             carrera  ... posee_legajo\n",
              "0  licenciatura en administracion(3)  ...            1\n",
              "1               contador publico(54)  ...            1\n",
              "2  licenciatura en administracion(3)  ...            1\n",
              "3  licenciatura en administracion(3)  ...            1\n",
              "4  licenciatura en administracion(3)  ...            1\n",
              "\n",
              "[5 rows x 15 columns]"
            ]
          },
          "metadata": {
            "tags": []
          },
          "execution_count": 73
        }
      ]
    },
    {
      "cell_type": "code",
      "metadata": {
        "id": "-ux6oNoknIBh"
      },
      "source": [
        "# Tiene teléfono? \n",
        "df['posee_telefono'] = posee_valor(df['telefono'])"
      ],
      "execution_count": 74,
      "outputs": []
    },
    {
      "cell_type": "code",
      "metadata": {
        "colab": {
          "base_uri": "https://localhost:8080/",
          "height": 666
        },
        "id": "YSYkq_jnnNG3",
        "outputId": "55979f4a-e87a-41c5-d6c9-2aacdd6db91b"
      },
      "source": [
        "df.drop(columns=['telefono'], inplace=True)\n",
        "df.head()"
      ],
      "execution_count": 75,
      "outputs": [
        {
          "output_type": "execute_result",
          "data": {
            "text/html": [
              "<div>\n",
              "<style scoped>\n",
              "    .dataframe tbody tr th:only-of-type {\n",
              "        vertical-align: middle;\n",
              "    }\n",
              "\n",
              "    .dataframe tbody tr th {\n",
              "        vertical-align: top;\n",
              "    }\n",
              "\n",
              "    .dataframe thead th {\n",
              "        text-align: right;\n",
              "    }\n",
              "</style>\n",
              "<table border=\"1\" class=\"dataframe\">\n",
              "  <thead>\n",
              "    <tr style=\"text-align: right;\">\n",
              "      <th></th>\n",
              "      <th>carrera</th>\n",
              "      <th>email</th>\n",
              "      <th>consulta</th>\n",
              "      <th>score</th>\n",
              "      <th>clase</th>\n",
              "      <th>dia_semana</th>\n",
              "      <th>semana_del_mes</th>\n",
              "      <th>mes</th>\n",
              "      <th>cuatrimestre</th>\n",
              "      <th>anio</th>\n",
              "      <th>hora_discretizada</th>\n",
              "      <th>dni_discretizado</th>\n",
              "      <th>legajo_discretizado</th>\n",
              "      <th>posee_legajo</th>\n",
              "      <th>posee_telefono</th>\n",
              "    </tr>\n",
              "  </thead>\n",
              "  <tbody>\n",
              "    <tr>\n",
              "      <th>0</th>\n",
              "      <td>licenciatura en administracion(3)</td>\n",
              "      <td>mancubruno@gmail.com</td>\n",
              "      <td>hola, en la página dice que tengo asignado el ...</td>\n",
              "      <td>36.964314</td>\n",
              "      <td>Boleto Universitario</td>\n",
              "      <td>1</td>\n",
              "      <td>3</td>\n",
              "      <td>10</td>\n",
              "      <td>2</td>\n",
              "      <td>2019</td>\n",
              "      <td>3</td>\n",
              "      <td>7</td>\n",
              "      <td>4</td>\n",
              "      <td>1</td>\n",
              "      <td>0</td>\n",
              "    </tr>\n",
              "    <tr>\n",
              "      <th>1</th>\n",
              "      <td>contador publico(54)</td>\n",
              "      <td>nemercurio@gmail.com</td>\n",
              "      <td>quiero acceder al beneficio de boleto estudian...</td>\n",
              "      <td>36.109413</td>\n",
              "      <td>Boleto Universitario</td>\n",
              "      <td>0</td>\n",
              "      <td>1</td>\n",
              "      <td>8</td>\n",
              "      <td>2</td>\n",
              "      <td>2018</td>\n",
              "      <td>0</td>\n",
              "      <td>4</td>\n",
              "      <td>4</td>\n",
              "      <td>1</td>\n",
              "      <td>0</td>\n",
              "    </tr>\n",
              "    <tr>\n",
              "      <th>2</th>\n",
              "      <td>licenciatura en administracion(3)</td>\n",
              "      <td>agustinvandick@gmail.com</td>\n",
              "      <td>yo hace casi un mes hice el tramite para la su...</td>\n",
              "      <td>35.828820</td>\n",
              "      <td>Boleto Universitario</td>\n",
              "      <td>0</td>\n",
              "      <td>5</td>\n",
              "      <td>7</td>\n",
              "      <td>1</td>\n",
              "      <td>2018</td>\n",
              "      <td>3</td>\n",
              "      <td>8</td>\n",
              "      <td>4</td>\n",
              "      <td>1</td>\n",
              "      <td>1</td>\n",
              "    </tr>\n",
              "    <tr>\n",
              "      <th>3</th>\n",
              "      <td>licenciatura en administracion(3)</td>\n",
              "      <td>boscomatias@hotmail.com</td>\n",
              "      <td>hola queria saber porque no se me acredita la ...</td>\n",
              "      <td>32.916737</td>\n",
              "      <td>Boleto Universitario</td>\n",
              "      <td>1</td>\n",
              "      <td>2</td>\n",
              "      <td>4</td>\n",
              "      <td>1</td>\n",
              "      <td>2019</td>\n",
              "      <td>2</td>\n",
              "      <td>6</td>\n",
              "      <td>3</td>\n",
              "      <td>1</td>\n",
              "      <td>1</td>\n",
              "    </tr>\n",
              "    <tr>\n",
              "      <th>4</th>\n",
              "      <td>licenciatura en administracion(3)</td>\n",
              "      <td>boscomatias@hotmail.com &lt;mailto:boscomatias@ho...</td>\n",
              "      <td>hola queria saber porque no se me acredita la ...</td>\n",
              "      <td>32.916737</td>\n",
              "      <td>Boleto Universitario</td>\n",
              "      <td>1</td>\n",
              "      <td>2</td>\n",
              "      <td>4</td>\n",
              "      <td>1</td>\n",
              "      <td>2019</td>\n",
              "      <td>2</td>\n",
              "      <td>6</td>\n",
              "      <td>3</td>\n",
              "      <td>1</td>\n",
              "      <td>1</td>\n",
              "    </tr>\n",
              "  </tbody>\n",
              "</table>\n",
              "</div>"
            ],
            "text/plain": [
              "                             carrera  ... posee_telefono\n",
              "0  licenciatura en administracion(3)  ...              0\n",
              "1               contador publico(54)  ...              0\n",
              "2  licenciatura en administracion(3)  ...              1\n",
              "3  licenciatura en administracion(3)  ...              1\n",
              "4  licenciatura en administracion(3)  ...              1\n",
              "\n",
              "[5 rows x 15 columns]"
            ]
          },
          "metadata": {
            "tags": []
          },
          "execution_count": 75
        }
      ]
    },
    {
      "cell_type": "markdown",
      "metadata": {
        "id": "XwliKva_oORy"
      },
      "source": [
        "7. Se extrae el código de Carrera:"
      ]
    },
    {
      "cell_type": "code",
      "metadata": {
        "id": "aNQgRSVNKrUJ"
      },
      "source": [
        "def extrae_codigo_carrera(texto_carrera):\n",
        "  codigo = 0\n",
        "  if \"sin carrera\" not in texto_carrera:\n",
        "    texto_carrera = texto_carrera.split('(')\n",
        "    texto_carrera = texto_carrera[len(texto_carrera)-1].split(')')\n",
        "    codigo = int(texto_carrera[0])\n",
        "  return codigo\n",
        "\n",
        "# extrae_codigo_carrera(df.loc[0, 'Carrera'])\n",
        "df['carrera_valor'] = df['carrera'].apply(extrae_codigo_carrera)"
      ],
      "execution_count": 76,
      "outputs": []
    },
    {
      "cell_type": "code",
      "metadata": {
        "colab": {
          "base_uri": "https://localhost:8080/",
          "height": 666
        },
        "id": "7914syUaOKUL",
        "outputId": "855f15c9-65dd-4aeb-ff4c-69e5fc162933"
      },
      "source": [
        "df.drop(columns=['carrera'], inplace=True)\n",
        "df.head()"
      ],
      "execution_count": 77,
      "outputs": [
        {
          "output_type": "execute_result",
          "data": {
            "text/html": [
              "<div>\n",
              "<style scoped>\n",
              "    .dataframe tbody tr th:only-of-type {\n",
              "        vertical-align: middle;\n",
              "    }\n",
              "\n",
              "    .dataframe tbody tr th {\n",
              "        vertical-align: top;\n",
              "    }\n",
              "\n",
              "    .dataframe thead th {\n",
              "        text-align: right;\n",
              "    }\n",
              "</style>\n",
              "<table border=\"1\" class=\"dataframe\">\n",
              "  <thead>\n",
              "    <tr style=\"text-align: right;\">\n",
              "      <th></th>\n",
              "      <th>email</th>\n",
              "      <th>consulta</th>\n",
              "      <th>score</th>\n",
              "      <th>clase</th>\n",
              "      <th>dia_semana</th>\n",
              "      <th>semana_del_mes</th>\n",
              "      <th>mes</th>\n",
              "      <th>cuatrimestre</th>\n",
              "      <th>anio</th>\n",
              "      <th>hora_discretizada</th>\n",
              "      <th>dni_discretizado</th>\n",
              "      <th>legajo_discretizado</th>\n",
              "      <th>posee_legajo</th>\n",
              "      <th>posee_telefono</th>\n",
              "      <th>carrera_valor</th>\n",
              "    </tr>\n",
              "  </thead>\n",
              "  <tbody>\n",
              "    <tr>\n",
              "      <th>0</th>\n",
              "      <td>mancubruno@gmail.com</td>\n",
              "      <td>hola, en la página dice que tengo asignado el ...</td>\n",
              "      <td>36.964314</td>\n",
              "      <td>Boleto Universitario</td>\n",
              "      <td>1</td>\n",
              "      <td>3</td>\n",
              "      <td>10</td>\n",
              "      <td>2</td>\n",
              "      <td>2019</td>\n",
              "      <td>3</td>\n",
              "      <td>7</td>\n",
              "      <td>4</td>\n",
              "      <td>1</td>\n",
              "      <td>0</td>\n",
              "      <td>3</td>\n",
              "    </tr>\n",
              "    <tr>\n",
              "      <th>1</th>\n",
              "      <td>nemercurio@gmail.com</td>\n",
              "      <td>quiero acceder al beneficio de boleto estudian...</td>\n",
              "      <td>36.109413</td>\n",
              "      <td>Boleto Universitario</td>\n",
              "      <td>0</td>\n",
              "      <td>1</td>\n",
              "      <td>8</td>\n",
              "      <td>2</td>\n",
              "      <td>2018</td>\n",
              "      <td>0</td>\n",
              "      <td>4</td>\n",
              "      <td>4</td>\n",
              "      <td>1</td>\n",
              "      <td>0</td>\n",
              "      <td>54</td>\n",
              "    </tr>\n",
              "    <tr>\n",
              "      <th>2</th>\n",
              "      <td>agustinvandick@gmail.com</td>\n",
              "      <td>yo hace casi un mes hice el tramite para la su...</td>\n",
              "      <td>35.828820</td>\n",
              "      <td>Boleto Universitario</td>\n",
              "      <td>0</td>\n",
              "      <td>5</td>\n",
              "      <td>7</td>\n",
              "      <td>1</td>\n",
              "      <td>2018</td>\n",
              "      <td>3</td>\n",
              "      <td>8</td>\n",
              "      <td>4</td>\n",
              "      <td>1</td>\n",
              "      <td>1</td>\n",
              "      <td>3</td>\n",
              "    </tr>\n",
              "    <tr>\n",
              "      <th>3</th>\n",
              "      <td>boscomatias@hotmail.com</td>\n",
              "      <td>hola queria saber porque no se me acredita la ...</td>\n",
              "      <td>32.916737</td>\n",
              "      <td>Boleto Universitario</td>\n",
              "      <td>1</td>\n",
              "      <td>2</td>\n",
              "      <td>4</td>\n",
              "      <td>1</td>\n",
              "      <td>2019</td>\n",
              "      <td>2</td>\n",
              "      <td>6</td>\n",
              "      <td>3</td>\n",
              "      <td>1</td>\n",
              "      <td>1</td>\n",
              "      <td>3</td>\n",
              "    </tr>\n",
              "    <tr>\n",
              "      <th>4</th>\n",
              "      <td>boscomatias@hotmail.com &lt;mailto:boscomatias@ho...</td>\n",
              "      <td>hola queria saber porque no se me acredita la ...</td>\n",
              "      <td>32.916737</td>\n",
              "      <td>Boleto Universitario</td>\n",
              "      <td>1</td>\n",
              "      <td>2</td>\n",
              "      <td>4</td>\n",
              "      <td>1</td>\n",
              "      <td>2019</td>\n",
              "      <td>2</td>\n",
              "      <td>6</td>\n",
              "      <td>3</td>\n",
              "      <td>1</td>\n",
              "      <td>1</td>\n",
              "      <td>3</td>\n",
              "    </tr>\n",
              "  </tbody>\n",
              "</table>\n",
              "</div>"
            ],
            "text/plain": [
              "                                               email  ... carrera_valor\n",
              "0                               mancubruno@gmail.com  ...             3\n",
              "1                               nemercurio@gmail.com  ...            54\n",
              "2                           agustinvandick@gmail.com  ...             3\n",
              "3                            boscomatias@hotmail.com  ...             3\n",
              "4  boscomatias@hotmail.com <mailto:boscomatias@ho...  ...             3\n",
              "\n",
              "[5 rows x 15 columns]"
            ]
          },
          "metadata": {
            "tags": []
          },
          "execution_count": 77
        }
      ]
    },
    {
      "cell_type": "markdown",
      "metadata": {
        "id": "T82OrpbfoRt2"
      },
      "source": [
        "8. Se verifica el proveedor de correo electrónico:"
      ]
    },
    {
      "cell_type": "code",
      "metadata": {
        "id": "un2AjzunnWbm"
      },
      "source": [
        "def servicio_email(consulta, proveedor):  \n",
        "  if consulta.lower().find(proveedor)==-1:\n",
        "    return 0\n",
        "  else:\n",
        "    return 1\n",
        "# Correo Gmail?\n",
        "# df['correo_gmail'] = df['E-mail'].apply(servicio_email, proveedor='gmail')\n",
        "# Correo yahoo?\n",
        "# df['correo_yahoo'] = df['E-mail'].apply(servicio_email, proveedor='yahoo')\n",
        "# Correo hotmail?\n",
        "# df['correo_hotmail'] = df['E-mail'].apply(servicio_email, proveedor='hotmail')\n",
        "\n",
        "def extrae_proveedor_correo(texto_correo):\n",
        "    texto_correo = texto_correo.split('@')\n",
        "    texto_correo = texto_correo[len(texto_correo)-1].split('.')\n",
        "    proveedor_correo = texto_correo[0]\n",
        "    return proveedor_correo\n",
        "\n",
        "#extrae_proveedor_correo(df.loc[0, 'E-mail'])\n",
        "df['proveedor_correo'] = df['email'].apply(extrae_proveedor_correo)"
      ],
      "execution_count": 78,
      "outputs": []
    },
    {
      "cell_type": "code",
      "metadata": {
        "colab": {
          "base_uri": "https://localhost:8080/"
        },
        "id": "dYSTwAzOpSDe",
        "outputId": "d3d34c21-e6ab-4bdb-9e9b-677e1672b28e"
      },
      "source": [
        "df['proveedor_correo'].value_counts()"
      ],
      "execution_count": 79,
      "outputs": [
        {
          "output_type": "execute_result",
          "data": {
            "text/plain": [
              "hotmail                 388\n",
              "gmail                   298\n",
              "yahoo                    50\n",
              "outlook                  37\n",
              "live                     17\n",
              "icloud                    2\n",
              "gmx                       2\n",
              "correoargentino           1\n",
              "fangioconcesionarios      1\n",
              "dnpdistribuciones         1\n",
              "hotmaill                  1\n",
              "udesa                     1\n",
              "osde                      1\n",
              "Name: proveedor_correo, dtype: int64"
            ]
          },
          "metadata": {
            "tags": []
          },
          "execution_count": 79
        }
      ]
    },
    {
      "cell_type": "code",
      "metadata": {
        "id": "OimXHq_No7un",
        "colab": {
          "base_uri": "https://localhost:8080/"
        },
        "outputId": "07257377-ddb1-42be-a43b-b6215c161ea0"
      },
      "source": [
        "# Limpio el campo proveedor_correo\n",
        "\n",
        "df['proveedor_correo'].replace({\"autloock\": \"outlook\",\n",
        "                                \"outlool\": \"outlook\",\n",
        "                                \"gamail\": \"gmail\",\n",
        "                                \"gmal\": \"gmail\",\n",
        "                                \"gmil\": \"gmail\",\n",
        "                                \"hotmaill\": \"hotmail\",\n",
        "                                \"luve\": \"live\",\n",
        "                                }, inplace=True)\n",
        "\n",
        "# Se transforma proveedor_correo a numerico\n",
        "from sklearn import preprocessing\n",
        "le_correo = preprocessing.LabelEncoder()\n",
        "df['proveedor_correo'] = le_correo.fit_transform(df['proveedor_correo'])\n",
        "\n",
        "le_correo.classes_"
      ],
      "execution_count": 80,
      "outputs": [
        {
          "output_type": "execute_result",
          "data": {
            "text/plain": [
              "array(['correoargentino', 'dnpdistribuciones', 'fangioconcesionarios',\n",
              "       'gmail', 'gmx', 'hotmail', 'icloud', 'live', 'osde', 'outlook',\n",
              "       'udesa', 'yahoo'], dtype=object)"
            ]
          },
          "metadata": {
            "tags": []
          },
          "execution_count": 80
        }
      ]
    },
    {
      "cell_type": "code",
      "metadata": {
        "colab": {
          "base_uri": "https://localhost:8080/",
          "height": 666
        },
        "id": "2Q74DHQInT9b",
        "outputId": "85c6c025-46c2-483e-9789-0574cfe364aa"
      },
      "source": [
        "df.drop(columns=['email'], inplace=True)\n",
        "df.head()"
      ],
      "execution_count": 81,
      "outputs": [
        {
          "output_type": "execute_result",
          "data": {
            "text/html": [
              "<div>\n",
              "<style scoped>\n",
              "    .dataframe tbody tr th:only-of-type {\n",
              "        vertical-align: middle;\n",
              "    }\n",
              "\n",
              "    .dataframe tbody tr th {\n",
              "        vertical-align: top;\n",
              "    }\n",
              "\n",
              "    .dataframe thead th {\n",
              "        text-align: right;\n",
              "    }\n",
              "</style>\n",
              "<table border=\"1\" class=\"dataframe\">\n",
              "  <thead>\n",
              "    <tr style=\"text-align: right;\">\n",
              "      <th></th>\n",
              "      <th>consulta</th>\n",
              "      <th>score</th>\n",
              "      <th>clase</th>\n",
              "      <th>dia_semana</th>\n",
              "      <th>semana_del_mes</th>\n",
              "      <th>mes</th>\n",
              "      <th>cuatrimestre</th>\n",
              "      <th>anio</th>\n",
              "      <th>hora_discretizada</th>\n",
              "      <th>dni_discretizado</th>\n",
              "      <th>legajo_discretizado</th>\n",
              "      <th>posee_legajo</th>\n",
              "      <th>posee_telefono</th>\n",
              "      <th>carrera_valor</th>\n",
              "      <th>proveedor_correo</th>\n",
              "    </tr>\n",
              "  </thead>\n",
              "  <tbody>\n",
              "    <tr>\n",
              "      <th>0</th>\n",
              "      <td>hola, en la página dice que tengo asignado el ...</td>\n",
              "      <td>36.964314</td>\n",
              "      <td>Boleto Universitario</td>\n",
              "      <td>1</td>\n",
              "      <td>3</td>\n",
              "      <td>10</td>\n",
              "      <td>2</td>\n",
              "      <td>2019</td>\n",
              "      <td>3</td>\n",
              "      <td>7</td>\n",
              "      <td>4</td>\n",
              "      <td>1</td>\n",
              "      <td>0</td>\n",
              "      <td>3</td>\n",
              "      <td>3</td>\n",
              "    </tr>\n",
              "    <tr>\n",
              "      <th>1</th>\n",
              "      <td>quiero acceder al beneficio de boleto estudian...</td>\n",
              "      <td>36.109413</td>\n",
              "      <td>Boleto Universitario</td>\n",
              "      <td>0</td>\n",
              "      <td>1</td>\n",
              "      <td>8</td>\n",
              "      <td>2</td>\n",
              "      <td>2018</td>\n",
              "      <td>0</td>\n",
              "      <td>4</td>\n",
              "      <td>4</td>\n",
              "      <td>1</td>\n",
              "      <td>0</td>\n",
              "      <td>54</td>\n",
              "      <td>3</td>\n",
              "    </tr>\n",
              "    <tr>\n",
              "      <th>2</th>\n",
              "      <td>yo hace casi un mes hice el tramite para la su...</td>\n",
              "      <td>35.828820</td>\n",
              "      <td>Boleto Universitario</td>\n",
              "      <td>0</td>\n",
              "      <td>5</td>\n",
              "      <td>7</td>\n",
              "      <td>1</td>\n",
              "      <td>2018</td>\n",
              "      <td>3</td>\n",
              "      <td>8</td>\n",
              "      <td>4</td>\n",
              "      <td>1</td>\n",
              "      <td>1</td>\n",
              "      <td>3</td>\n",
              "      <td>3</td>\n",
              "    </tr>\n",
              "    <tr>\n",
              "      <th>3</th>\n",
              "      <td>hola queria saber porque no se me acredita la ...</td>\n",
              "      <td>32.916737</td>\n",
              "      <td>Boleto Universitario</td>\n",
              "      <td>1</td>\n",
              "      <td>2</td>\n",
              "      <td>4</td>\n",
              "      <td>1</td>\n",
              "      <td>2019</td>\n",
              "      <td>2</td>\n",
              "      <td>6</td>\n",
              "      <td>3</td>\n",
              "      <td>1</td>\n",
              "      <td>1</td>\n",
              "      <td>3</td>\n",
              "      <td>5</td>\n",
              "    </tr>\n",
              "    <tr>\n",
              "      <th>4</th>\n",
              "      <td>hola queria saber porque no se me acredita la ...</td>\n",
              "      <td>32.916737</td>\n",
              "      <td>Boleto Universitario</td>\n",
              "      <td>1</td>\n",
              "      <td>2</td>\n",
              "      <td>4</td>\n",
              "      <td>1</td>\n",
              "      <td>2019</td>\n",
              "      <td>2</td>\n",
              "      <td>6</td>\n",
              "      <td>3</td>\n",
              "      <td>1</td>\n",
              "      <td>1</td>\n",
              "      <td>3</td>\n",
              "      <td>5</td>\n",
              "    </tr>\n",
              "  </tbody>\n",
              "</table>\n",
              "</div>"
            ],
            "text/plain": [
              "                                            consulta  ...  proveedor_correo\n",
              "0  hola, en la página dice que tengo asignado el ...  ...                 3\n",
              "1  quiero acceder al beneficio de boleto estudian...  ...                 3\n",
              "2  yo hace casi un mes hice el tramite para la su...  ...                 3\n",
              "3  hola queria saber porque no se me acredita la ...  ...                 5\n",
              "4  hola queria saber porque no se me acredita la ...  ...                 5\n",
              "\n",
              "[5 rows x 15 columns]"
            ]
          },
          "metadata": {
            "tags": []
          },
          "execution_count": 81
        }
      ]
    },
    {
      "cell_type": "markdown",
      "metadata": {
        "id": "ldSoSAe0RKEp"
      },
      "source": [
        "## Features estáticas léxicas\n",
        "\n",
        "Genero las features estáticas léxicas basadas en caracteres:"
      ]
    },
    {
      "cell_type": "code",
      "metadata": {
        "id": "0bFY_Se3Q_VE"
      },
      "source": [
        "# Total number of characters\n",
        "def cantidad_caracteres(columna_consulta):\n",
        "  return columna_consulta.str.len()\n",
        "\n",
        "df['cantidad_caracteres'] = cantidad_caracteres(df.consulta)\n",
        "\n",
        "# Proporcion de mayúsculas en la consulta\n",
        "def proporcion_mayusculas(consulta):\n",
        "  return sum(1 for letra in consulta if letra.isupper())\n",
        "\n",
        "df['proporcion_mayusculas'] = df['consulta'].apply(proporcion_mayusculas)/df['cantidad_caracteres']\n",
        "\n",
        "# Proporción de letras en la consulta\n",
        "def proporcion_letras(consulta):\n",
        "  return sum(1 for letra in consulta if letra.isalpha())\n",
        "\n",
        "df['proporcion_letras'] = df['consulta'].apply(proporcion_letras)/df['cantidad_caracteres']\n",
        "\n",
        "# Cantidad de letras con tildes\n",
        "def cantidad_tildes(consulta):\n",
        "  return sum(1 for letra in consulta if letra.lower() in ['á', 'é', 'í', 'ó', 'ú'])\n",
        "\n",
        "df['cantidad_tildes'] = df['consulta'].apply(cantidad_tildes)"
      ],
      "execution_count": 82,
      "outputs": []
    },
    {
      "cell_type": "markdown",
      "metadata": {
        "id": "kwnIHzGjRwD9"
      },
      "source": [
        "Genero las features estáticas léxicas basadas en palabras:"
      ]
    },
    {
      "cell_type": "code",
      "metadata": {
        "colab": {
          "base_uri": "https://localhost:8080/"
        },
        "id": "9ek4B8SSRz3m",
        "outputId": "5c87e09b-7515-40fb-eca9-de748058d85c"
      },
      "source": [
        "# total number of words\n",
        "def cantidad_palabras(consulta):\n",
        "  palabras = consulta.split(sep=' ')\n",
        "  return len(palabras)\n",
        "\n",
        "df['cantidad_palabras'] = df['consulta'].apply(cantidad_palabras)\n",
        "\n",
        "# proportion of short words (less than four characters)\n",
        "def cantidad_palabras_cortas(consulta, letras_corta=4):\n",
        "  palabras = consulta.split(sep=' ')\n",
        "  return sum(1 for palabra in palabras if len(palabra) <= letras_corta)\n",
        "\n",
        "df['cantidad_palabras_cortas'] = df['consulta'].apply(cantidad_palabras_cortas)\n",
        "\n",
        "# ratio of number of distinct words to the total number of words: |set(words)|/|words|\n",
        "def cantidad_palabras_distintas(consulta, letras_corta=4):\n",
        "  palabras = consulta.split(sep=' ')\n",
        "  return len(set(palabras))\n",
        "\n",
        "df['proporcion_palabras_distintas'] = df['consulta'].apply(cantidad_palabras_distintas)/df['cantidad_palabras']\n",
        "df['proporcion_palabras_distintas']"
      ],
      "execution_count": 83,
      "outputs": [
        {
          "output_type": "execute_result",
          "data": {
            "text/plain": [
              "0      0.885714\n",
              "1      0.833333\n",
              "2      0.785714\n",
              "3      0.703704\n",
              "4      0.703704\n",
              "         ...   \n",
              "795    0.782609\n",
              "796    0.866667\n",
              "797    0.956522\n",
              "798    0.878049\n",
              "799    0.869565\n",
              "Name: proporcion_palabras_distintas, Length: 800, dtype: float64"
            ]
          },
          "metadata": {
            "tags": []
          },
          "execution_count": 83
        }
      ]
    },
    {
      "cell_type": "markdown",
      "metadata": {
        "id": "NGuXt-ufR9tp"
      },
      "source": [
        "Genero las features estáticas sintácticas:"
      ]
    },
    {
      "cell_type": "code",
      "metadata": {
        "id": "7Og4O_n4R-ZJ"
      },
      "source": [
        "# Frecuencia de signos de puntuación {,.¿?!:;’\"}\n",
        "def cantidad_signos_puntuacion(consulta):\n",
        "  signos_puntuacion = [',', '.', '¿', '?', '!', '¡', ':', ';', '\"']\n",
        "  return sum(1 for letra in consulta if letra.lower() in signos_puntuacion)\n",
        "\n",
        "df['frecuencia_signos_puntuacion'] = df['consulta'].apply(cantidad_signos_puntuacion)/df['cantidad_caracteres']"
      ],
      "execution_count": 84,
      "outputs": []
    },
    {
      "cell_type": "markdown",
      "metadata": {
        "id": "JueaJOGoSFl6"
      },
      "source": [
        "Genero las features estáticas estructurales:"
      ]
    },
    {
      "cell_type": "code",
      "metadata": {
        "id": "psAalNqRSGap"
      },
      "source": [
        "# total number of sentences\n",
        "def cantidad_oraciones(consulta):\n",
        "  if consulta.count('.')==0:\n",
        "    return 1\n",
        "  else: \n",
        "    return consulta.count('.')\n",
        "\n",
        "df['cantidad_oraciones'] = df['consulta'].apply(cantidad_oraciones)\n",
        "\n",
        "# utiliza código de asignatura?\n",
        "def utiliza_codigo_asignatura(consulta):\n",
        "  codigo=0\n",
        "  palabras = consulta.split(sep=' ')\n",
        "  for palabra in palabras:\n",
        "    if palabra.isdigit():\n",
        "      if int(palabra)>=10000 and int(palabra)<=99999:\n",
        "        codigo=1\n",
        "  return codigo\n",
        "\n",
        "df['utiliza_codigo_asignatura'] = df['consulta'].apply(utiliza_codigo_asignatura)"
      ],
      "execution_count": 85,
      "outputs": []
    },
    {
      "cell_type": "code",
      "metadata": {
        "colab": {
          "base_uri": "https://localhost:8080/"
        },
        "id": "SN_06acJSXDV",
        "outputId": "52c5602c-38df-4ceb-b0d0-dc991bb3cf2d"
      },
      "source": [
        "len(df.columns)"
      ],
      "execution_count": 86,
      "outputs": [
        {
          "output_type": "execute_result",
          "data": {
            "text/plain": [
              "25"
            ]
          },
          "metadata": {
            "tags": []
          },
          "execution_count": 86
        }
      ]
    },
    {
      "cell_type": "markdown",
      "metadata": {
        "id": "Z6DESYPxrGnO"
      },
      "source": [
        "Por último, reordeno el score y la clase para que me quede última:"
      ]
    },
    {
      "cell_type": "code",
      "metadata": {
        "id": "tvK6vaU6rcok"
      },
      "source": [
        "x = df['score']\n",
        "y = df['clase']\n",
        "df.drop(columns=['clase', 'score'], inplace=True)\n",
        "df.insert(len(df.columns), \"score\", x, True)\n",
        "df.insert(len(df.columns), \"clase\", y, True)"
      ],
      "execution_count": 87,
      "outputs": []
    },
    {
      "cell_type": "code",
      "metadata": {
        "colab": {
          "base_uri": "https://localhost:8080/",
          "height": 666
        },
        "id": "kk49RVpUr7oc",
        "outputId": "ba45addf-aab0-44ff-8768-85fecdc07d14"
      },
      "source": [
        "# Tomo una consulta determinada\n",
        "df.loc[1, 'consulta']\n",
        "\n",
        "# Verifico las columnas del Dataframe\n",
        "df.head()"
      ],
      "execution_count": 88,
      "outputs": [
        {
          "output_type": "execute_result",
          "data": {
            "text/html": [
              "<div>\n",
              "<style scoped>\n",
              "    .dataframe tbody tr th:only-of-type {\n",
              "        vertical-align: middle;\n",
              "    }\n",
              "\n",
              "    .dataframe tbody tr th {\n",
              "        vertical-align: top;\n",
              "    }\n",
              "\n",
              "    .dataframe thead th {\n",
              "        text-align: right;\n",
              "    }\n",
              "</style>\n",
              "<table border=\"1\" class=\"dataframe\">\n",
              "  <thead>\n",
              "    <tr style=\"text-align: right;\">\n",
              "      <th></th>\n",
              "      <th>consulta</th>\n",
              "      <th>dia_semana</th>\n",
              "      <th>semana_del_mes</th>\n",
              "      <th>mes</th>\n",
              "      <th>cuatrimestre</th>\n",
              "      <th>anio</th>\n",
              "      <th>hora_discretizada</th>\n",
              "      <th>dni_discretizado</th>\n",
              "      <th>legajo_discretizado</th>\n",
              "      <th>posee_legajo</th>\n",
              "      <th>posee_telefono</th>\n",
              "      <th>carrera_valor</th>\n",
              "      <th>proveedor_correo</th>\n",
              "      <th>cantidad_caracteres</th>\n",
              "      <th>proporcion_mayusculas</th>\n",
              "      <th>proporcion_letras</th>\n",
              "      <th>cantidad_tildes</th>\n",
              "      <th>cantidad_palabras</th>\n",
              "      <th>cantidad_palabras_cortas</th>\n",
              "      <th>proporcion_palabras_distintas</th>\n",
              "      <th>frecuencia_signos_puntuacion</th>\n",
              "      <th>cantidad_oraciones</th>\n",
              "      <th>utiliza_codigo_asignatura</th>\n",
              "      <th>score</th>\n",
              "      <th>clase</th>\n",
              "    </tr>\n",
              "  </thead>\n",
              "  <tbody>\n",
              "    <tr>\n",
              "      <th>0</th>\n",
              "      <td>hola, en la página dice que tengo asignado el ...</td>\n",
              "      <td>1</td>\n",
              "      <td>3</td>\n",
              "      <td>10</td>\n",
              "      <td>2</td>\n",
              "      <td>2019</td>\n",
              "      <td>3</td>\n",
              "      <td>7</td>\n",
              "      <td>4</td>\n",
              "      <td>1</td>\n",
              "      <td>0</td>\n",
              "      <td>3</td>\n",
              "      <td>3</td>\n",
              "      <td>207</td>\n",
              "      <td>0.0</td>\n",
              "      <td>0.816425</td>\n",
              "      <td>2</td>\n",
              "      <td>35</td>\n",
              "      <td>17</td>\n",
              "      <td>0.885714</td>\n",
              "      <td>0.019324</td>\n",
              "      <td>1</td>\n",
              "      <td>0</td>\n",
              "      <td>36.964314</td>\n",
              "      <td>Boleto Universitario</td>\n",
              "    </tr>\n",
              "    <tr>\n",
              "      <th>1</th>\n",
              "      <td>quiero acceder al beneficio de boleto estudian...</td>\n",
              "      <td>0</td>\n",
              "      <td>1</td>\n",
              "      <td>8</td>\n",
              "      <td>2</td>\n",
              "      <td>2018</td>\n",
              "      <td>0</td>\n",
              "      <td>4</td>\n",
              "      <td>4</td>\n",
              "      <td>1</td>\n",
              "      <td>0</td>\n",
              "      <td>54</td>\n",
              "      <td>3</td>\n",
              "      <td>229</td>\n",
              "      <td>0.0</td>\n",
              "      <td>0.803493</td>\n",
              "      <td>0</td>\n",
              "      <td>42</td>\n",
              "      <td>23</td>\n",
              "      <td>0.833333</td>\n",
              "      <td>0.017467</td>\n",
              "      <td>1</td>\n",
              "      <td>0</td>\n",
              "      <td>36.109413</td>\n",
              "      <td>Boleto Universitario</td>\n",
              "    </tr>\n",
              "    <tr>\n",
              "      <th>2</th>\n",
              "      <td>yo hace casi un mes hice el tramite para la su...</td>\n",
              "      <td>0</td>\n",
              "      <td>5</td>\n",
              "      <td>7</td>\n",
              "      <td>1</td>\n",
              "      <td>2018</td>\n",
              "      <td>3</td>\n",
              "      <td>8</td>\n",
              "      <td>4</td>\n",
              "      <td>1</td>\n",
              "      <td>1</td>\n",
              "      <td>3</td>\n",
              "      <td>3</td>\n",
              "      <td>299</td>\n",
              "      <td>0.0</td>\n",
              "      <td>0.799331</td>\n",
              "      <td>0</td>\n",
              "      <td>56</td>\n",
              "      <td>33</td>\n",
              "      <td>0.785714</td>\n",
              "      <td>0.016722</td>\n",
              "      <td>3</td>\n",
              "      <td>0</td>\n",
              "      <td>35.828820</td>\n",
              "      <td>Boleto Universitario</td>\n",
              "    </tr>\n",
              "    <tr>\n",
              "      <th>3</th>\n",
              "      <td>hola queria saber porque no se me acredita la ...</td>\n",
              "      <td>1</td>\n",
              "      <td>2</td>\n",
              "      <td>4</td>\n",
              "      <td>1</td>\n",
              "      <td>2019</td>\n",
              "      <td>2</td>\n",
              "      <td>6</td>\n",
              "      <td>3</td>\n",
              "      <td>1</td>\n",
              "      <td>1</td>\n",
              "      <td>3</td>\n",
              "      <td>5</td>\n",
              "      <td>253</td>\n",
              "      <td>0.0</td>\n",
              "      <td>0.762846</td>\n",
              "      <td>0</td>\n",
              "      <td>54</td>\n",
              "      <td>34</td>\n",
              "      <td>0.703704</td>\n",
              "      <td>0.027668</td>\n",
              "      <td>3</td>\n",
              "      <td>0</td>\n",
              "      <td>32.916737</td>\n",
              "      <td>Boleto Universitario</td>\n",
              "    </tr>\n",
              "    <tr>\n",
              "      <th>4</th>\n",
              "      <td>hola queria saber porque no se me acredita la ...</td>\n",
              "      <td>1</td>\n",
              "      <td>2</td>\n",
              "      <td>4</td>\n",
              "      <td>1</td>\n",
              "      <td>2019</td>\n",
              "      <td>2</td>\n",
              "      <td>6</td>\n",
              "      <td>3</td>\n",
              "      <td>1</td>\n",
              "      <td>1</td>\n",
              "      <td>3</td>\n",
              "      <td>5</td>\n",
              "      <td>253</td>\n",
              "      <td>0.0</td>\n",
              "      <td>0.762846</td>\n",
              "      <td>0</td>\n",
              "      <td>54</td>\n",
              "      <td>34</td>\n",
              "      <td>0.703704</td>\n",
              "      <td>0.027668</td>\n",
              "      <td>3</td>\n",
              "      <td>0</td>\n",
              "      <td>32.916737</td>\n",
              "      <td>Boleto Universitario</td>\n",
              "    </tr>\n",
              "  </tbody>\n",
              "</table>\n",
              "</div>"
            ],
            "text/plain": [
              "                                            consulta  ...                 clase\n",
              "0  hola, en la página dice que tengo asignado el ...  ...  Boleto Universitario\n",
              "1  quiero acceder al beneficio de boleto estudian...  ...  Boleto Universitario\n",
              "2  yo hace casi un mes hice el tramite para la su...  ...  Boleto Universitario\n",
              "3  hola queria saber porque no se me acredita la ...  ...  Boleto Universitario\n",
              "4  hola queria saber porque no se me acredita la ...  ...  Boleto Universitario\n",
              "\n",
              "[5 rows x 25 columns]"
            ]
          },
          "metadata": {
            "tags": []
          },
          "execution_count": 88
        }
      ]
    },
    {
      "cell_type": "markdown",
      "metadata": {
        "id": "BO_wCMJfs95e"
      },
      "source": [
        "10. Guardo el csv procesado:"
      ]
    },
    {
      "cell_type": "code",
      "metadata": {
        "colab": {
          "base_uri": "https://localhost:8080/"
        },
        "id": "9YmtjSkxs86i",
        "outputId": "894df032-0259-4f64-de29-087420c1c51f"
      },
      "source": [
        "from google.colab import drive\n",
        "drive.mount('drive')\n",
        "\n",
        "df.to_csv('dataset-ss3-prep.csv', index=False)\n",
        "\n",
        "!cp dataset-ss3-prep.csv \"drive/My Drive/\""
      ],
      "execution_count": 90,
      "outputs": [
        {
          "output_type": "stream",
          "text": [
            "Drive already mounted at drive; to attempt to forcibly remount, call drive.mount(\"drive\", force_remount=True).\n"
          ],
          "name": "stdout"
        }
      ]
    }
  ]
}