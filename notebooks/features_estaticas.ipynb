{
  "nbformat": 4,
  "nbformat_minor": 0,
  "metadata": {
    "colab": {
      "name": "features-estaticas.ipynb",
      "provenance": [],
      "authorship_tag": "ABX9TyMMDDAyF/Wp3A5bl5SxIEaG",
      "include_colab_link": true
    },
    "kernelspec": {
      "name": "python3",
      "display_name": "Python 3"
    }
  },
  "cells": [
    {
      "cell_type": "markdown",
      "metadata": {
        "id": "view-in-github",
        "colab_type": "text"
      },
      "source": [
        "<a href=\"https://colab.research.google.com/github/jumafernandez/UNLP/blob/master/TFI/features_estaticas.ipynb\" target=\"_parent\"><img src=\"https://colab.research.google.com/assets/colab-badge.svg\" alt=\"Open In Colab\"/></a>"
      ]
    },
    {
      "cell_type": "code",
      "metadata": {
        "colab": {
          "base_uri": "https://localhost:8080/"
        },
        "id": "n2vEFzI4L-0u",
        "outputId": "735bacce-f020-42fe-d60a-1992ee35cad6"
      },
      "source": [
        "# Descargo el archivo con las consultas que está en Github\n",
        "!wget https://raw.githubusercontent.com/jumafernandez/UNLP/master/TFI/data/Correos_Seleccionados_y_Etiquetados.csv\n",
        "\n",
        "# Leo el archivo en un dataframe\n",
        "import pandas as pd\n",
        "\n",
        "df = pd.read_csv('Correos_Seleccionados_y_Etiquetados.csv', delimiter=\"|\")\n",
        "df.info()\n",
        "\n",
        "# Vemos la cantidad de Instancias por clase\n",
        "df.Clase.value_counts()\n",
        "\n",
        "# Transformamos todas las Clases minoritarias (Puedo ir variando la cantidad de clases que derivo a la Clase \"Otras Consultas\")\n",
        "cantidad_clases=3\n",
        "clases = df.Clase.value_counts()\n",
        "clases_minoritarias = clases.iloc[cantidad_clases:].keys().to_list()\n",
        "df.Clase[df['Clase'].isin(clases_minoritarias)] = \"Otras Consultas\"\n",
        "\n",
        "df.Clase.value_counts()\n"
      ],
      "execution_count": 6,
      "outputs": [
        {
          "output_type": "stream",
          "text": [
            "--2020-12-08 02:33:49--  https://raw.githubusercontent.com/jumafernandez/UNLP/master/TFI/data/Correos_Seleccionados_y_Etiquetados.csv\n",
            "Resolving raw.githubusercontent.com (raw.githubusercontent.com)... 151.101.0.133, 151.101.64.133, 151.101.128.133, ...\n",
            "Connecting to raw.githubusercontent.com (raw.githubusercontent.com)|151.101.0.133|:443... connected.\n",
            "HTTP request sent, awaiting response... 200 OK\n",
            "Length: 448336 (438K) [text/plain]\n",
            "Saving to: ‘Correos_Seleccionados_y_Etiquetados.csv.1’\n",
            "\n",
            "\r          Correos_S   0%[                    ]       0  --.-KB/s               \rCorreos_Seleccionad 100%[===================>] 437.83K  --.-KB/s    in 0.03s   \n",
            "\n",
            "2020-12-08 02:33:49 (13.7 MB/s) - ‘Correos_Seleccionados_y_Etiquetados.csv.1’ saved [448336/448336]\n",
            "\n",
            "<class 'pandas.core.frame.DataFrame'>\n",
            "RangeIndex: 1000 entries, 0 to 999\n",
            "Data columns (total 11 columns):\n",
            " #   Column             Non-Null Count  Dtype \n",
            "---  ------             --------------  ----- \n",
            " 0   Fecha              1000 non-null   object\n",
            " 1   Hora               1000 non-null   object\n",
            " 2   Apellido y Nombre  1000 non-null   object\n",
            " 3   Legajo             691 non-null    object\n",
            " 4   Documento          1000 non-null   int64 \n",
            " 5   Carrera            1000 non-null   object\n",
            " 6   Teléfono           851 non-null    object\n",
            " 7   E-mail             1000 non-null   object\n",
            " 8   Consulta           1000 non-null   object\n",
            " 9   Respuesta          1000 non-null   object\n",
            " 10  Clase              1000 non-null   object\n",
            "dtypes: int64(1), object(10)\n",
            "memory usage: 86.1+ KB\n"
          ],
          "name": "stdout"
        },
        {
          "output_type": "stream",
          "text": [
            "/usr/local/lib/python3.6/dist-packages/ipykernel_launcher.py:17: SettingWithCopyWarning: \n",
            "A value is trying to be set on a copy of a slice from a DataFrame\n",
            "\n",
            "See the caveats in the documentation: https://pandas.pydata.org/pandas-docs/stable/user_guide/indexing.html#returning-a-view-versus-a-copy\n"
          ],
          "name": "stderr"
        },
        {
          "output_type": "execute_result",
          "data": {
            "text/plain": [
              "Otras Consultas             399\n",
              "Boleto Universitario        240\n",
              "Ingreso a la Universidad    232\n",
              "Requisitos de Ingreso       129\n",
              "Name: Clase, dtype: int64"
            ]
          },
          "metadata": {
            "tags": []
          },
          "execution_count": 6
        }
      ]
    },
    {
      "cell_type": "code",
      "metadata": {
        "colab": {
          "base_uri": "https://localhost:8080/"
        },
        "id": "JhrSZBFxMH1J",
        "outputId": "7538d15b-3213-4839-83dd-2a5f076bbf35"
      },
      "source": [
        "df.shape"
      ],
      "execution_count": 7,
      "outputs": [
        {
          "output_type": "execute_result",
          "data": {
            "text/plain": [
              "(1000, 11)"
            ]
          },
          "metadata": {
            "tags": []
          },
          "execution_count": 7
        }
      ]
    },
    {
      "cell_type": "code",
      "metadata": {
        "colab": {
          "base_uri": "https://localhost:8080/"
        },
        "id": "fJkJTstdM5YE",
        "outputId": "0ffc0ec1-71ef-43f8-a5f1-8f4f37389434"
      },
      "source": [
        "# Features estáticas léxicas: basadas en caracteres\n",
        "\n",
        "# Total number of characters\n",
        "def cantidad_caracteres(columna_consulta):\n",
        "  return columna_consulta.str.len()\n",
        "\n",
        "df['cantidad_caracteres'] = cantidad_caracteres(df.Consulta)\n",
        "\n",
        "# Proporcion de mayúsculas en la consulta\n",
        "def proporcion_mayusculas(consulta):\n",
        "  return sum(1 for letra in consulta if letra.isupper())\n",
        "\n",
        "df['proporcion_mayusculas'] = df['Consulta'].apply(proporcion_mayusculas)/df['cantidad_caracteres']\n",
        "\n",
        "# Proporción de letras en la consulta\n",
        "def proporcion_letras(consulta):\n",
        "  return sum(1 for letra in consulta if letra.isalpha())\n",
        "\n",
        "df['proporcion_letras'] = df['Consulta'].apply(proporcion_letras)/df['cantidad_caracteres']\n",
        "\n",
        "# Cantidad de letras con tildes\n",
        "def cantidad_tildes(consulta):\n",
        "  return sum(1 for letra in consulta if letra.lower() in ['á', 'é', 'í', 'ó', 'ú'])\n",
        "\n",
        "df['cantidad_tildes'] = df['Consulta'].apply(cantidad_tildes)\n"
      ],
      "execution_count": 33,
      "outputs": [
        {
          "output_type": "execute_result",
          "data": {
            "text/plain": [
              "0      hola quiero anotarme a las materias ,para el s...\n",
              "1      hola buenos días! quería saber cuando voy a po...\n",
              "2      hola quisiera saber si en la consulta de situa...\n",
              "3      buenas noches. en mi situacion academica apare...\n",
              "4      hola,  quisiera obtener mi promedio o saber co...\n",
              "                             ...                        \n",
              "995    buenas tardes. a quién debo contactar para que...\n",
              "996    hola queria saber porque no me publicaron la n...\n",
              "997    hola buenas noches quería saber alguna fecha e...\n",
              "998    hola quisiera saber que pasa con los examenes ...\n",
              "999            necesitaria saber mi aituacion academica \n",
              "Name: Consulta, Length: 1000, dtype: object"
            ]
          },
          "metadata": {
            "tags": []
          },
          "execution_count": 33
        }
      ]
    },
    {
      "cell_type": "code",
      "metadata": {
        "colab": {
          "base_uri": "https://localhost:8080/"
        },
        "id": "HuJozLmvTMxn",
        "outputId": "9bb419bc-3290-4ed7-9085-90c1ce824733"
      },
      "source": [
        "# Features estáticas léxicas (palabras)\n",
        "\n",
        "# total number of words\n",
        "def cantidad_palabras(consulta):\n",
        "  palabras = consulta.split(sep=' ')\n",
        "  return len(palabras)\n",
        "\n",
        "df['cantidad_palabras'] = df['Consulta'].apply(cantidad_palabras)\n",
        "\n",
        "# proportion of short words (less than four characters)\n",
        "def cantidad_palabras_cortas(consulta, letras_corta=4):\n",
        "  palabras = consulta.split(sep=' ')\n",
        "  return sum(1 for palabra in palabras if len(palabra) <= letras_corta)\n",
        "\n",
        "df['cantidad_palabras_cortas'] = df['Consulta'].apply(cantidad_palabras_cortas)\n",
        "\n",
        "# ratio of number of distinct words to the total number of words: |set(words)|/|words|\n",
        "def cantidad_palabras_distintas(consulta, letras_corta=4):\n",
        "  palabras = consulta.split(sep=' ')\n",
        "  return len(set(palabras))\n",
        "\n",
        "df['proporcion_palabras_distintas'] = df['Consulta'].apply(cantidad_palabras_distintas)/df['cantidad_palabras']\n",
        "df['proporcion_palabras_distintas']\n"
      ],
      "execution_count": 47,
      "outputs": [
        {
          "output_type": "execute_result",
          "data": {
            "text/plain": [
              "0      0.857143\n",
              "1      0.916667\n",
              "2      0.794118\n",
              "3      0.969697\n",
              "4      0.866667\n",
              "         ...   \n",
              "995    0.958333\n",
              "996    0.925926\n",
              "997    0.857143\n",
              "998    0.920000\n",
              "999    1.000000\n",
              "Name: proporcion_palabras_distintas, Length: 1000, dtype: float64"
            ]
          },
          "metadata": {
            "tags": []
          },
          "execution_count": 47
        }
      ]
    },
    {
      "cell_type": "code",
      "metadata": {
        "colab": {
          "base_uri": "https://localhost:8080/"
        },
        "id": "W19N3iljW7tl",
        "outputId": "ba1844e2-58c9-4263-cd4a-9a55e3197576"
      },
      "source": [
        "# Features estáticas sintácticas\n",
        "\n",
        "# Frecuencia de signos de puntuación {,.¿?!:;’\"}\n",
        "def cantidad_signos_puntuacion(consulta):\n",
        "  signos_puntuacion = [',', '.', '¿', '?', '!', '¡', ':', ';', '\"']\n",
        "  return sum(1 for letra in consulta if letra.lower() in signos_puntuacion)\n",
        "\n",
        "df['frecuencia_signos_puntuacion'] = df['Consulta'].apply(cantidad_signos_puntuacion)/df['cantidad_caracteres']\n"
      ],
      "execution_count": 48,
      "outputs": [
        {
          "output_type": "execute_result",
          "data": {
            "text/plain": [
              "0      0.030864\n",
              "1      0.018315\n",
              "2      0.005556\n",
              "3      0.027027\n",
              "4      0.038462\n",
              "         ...   \n",
              "995    0.030769\n",
              "996    0.008000\n",
              "997    0.008621\n",
              "998    0.000000\n",
              "999    0.000000\n",
              "Name: frecuencia_signos_puntuacion, Length: 1000, dtype: float64"
            ]
          },
          "metadata": {
            "tags": []
          },
          "execution_count": 48
        }
      ]
    },
    {
      "cell_type": "code",
      "metadata": {
        "colab": {
          "base_uri": "https://localhost:8080/"
        },
        "id": "KZAMGgXnYBjy",
        "outputId": "42c1b949-3bc0-4ecb-ce31-711765af49dc"
      },
      "source": [
        "# Features estáticas estructurales\n",
        "\n",
        "# total number of sentences\n",
        "def cantidad_oraciones(consulta):\n",
        "  if consulta.count('.')==0:\n",
        "    return 1\n",
        "  else: \n",
        "    return consulta.count('.')\n",
        "\n",
        "df['cantidad_oraciones'] = df['Consulta'].apply(cantidad_oraciones)\n",
        "\n",
        "# utiliza código de asignatura?\n",
        "def utiliza_codigo_asignatura(consulta):\n",
        "  codigo=0\n",
        "  palabras = consulta.split(sep=' ')\n",
        "  for palabra in palabras:\n",
        "    if palabra.isdigit():\n",
        "      if int(palabra)>=10000 and int(palabra)<=99999:\n",
        "        codigo=1\n",
        "  return codigo\n",
        "\n",
        "df['utiliza_codigo_asignatura'] = df['Consulta'].apply(utiliza_codigo_asignatura)\n",
        "\n",
        "# Tiene legajo?\n",
        "def posee_valor(atributo):\n",
        "  return 1-atributo.isna()\n",
        "  \n",
        "df['posee_legajo'] = posee_valor(df['Legajo'])\n",
        "\n",
        "# Tiene teléfono? \n",
        "df['posee_telefono'] = posee_valor(df['Teléfono'])"
      ],
      "execution_count": 76,
      "outputs": [
        {
          "output_type": "execute_result",
          "data": {
            "text/plain": [
              "0      1\n",
              "1      3\n",
              "2      1\n",
              "3      5\n",
              "4      2\n",
              "      ..\n",
              "995    2\n",
              "996    1\n",
              "997    1\n",
              "998    1\n",
              "999    1\n",
              "Name: cantidad_oraciones, Length: 1000, dtype: int64"
            ]
          },
          "metadata": {
            "tags": []
          },
          "execution_count": 76
        }
      ]
    },
    {
      "cell_type": "code",
      "metadata": {
        "colab": {
          "base_uri": "https://localhost:8080/"
        },
        "id": "hyUBeBklc-wx",
        "outputId": "1fe21c4b-8d96-4165-ee9b-434a333a09f9"
      },
      "source": [
        "# Features estáticas de dominio específico\n",
        "\n",
        "def servicio_email(consulta, proveedor):  \n",
        "  if consulta.lower().find(proveedor)==-1:\n",
        "    return 0\n",
        "  else:\n",
        "    return 1\n",
        "# Correo Gmail?\n",
        "df['correo_gmail'] = df['E-mail'].apply(servicio_email, proveedor='gmail')\n",
        "\n",
        "# Correo yahoo?\n",
        "df['correo_yahoo'] = df['E-mail'].apply(servicio_email, proveedor='yahoo')\n",
        "\n",
        "# Correo hotmail?\n",
        "df['correo_hotmail'] = df['E-mail'].apply(servicio_email, proveedor='hotmail')\n"
      ],
      "execution_count": 85,
      "outputs": [
        {
          "output_type": "execute_result",
          "data": {
            "text/plain": [
              "417"
            ]
          },
          "metadata": {
            "tags": []
          },
          "execution_count": 85
        }
      ]
    }
  ]
}