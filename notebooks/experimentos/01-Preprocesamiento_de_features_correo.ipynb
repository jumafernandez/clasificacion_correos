{
  "nbformat": 4,
  "nbformat_minor": 0,
  "metadata": {
    "colab": {
      "name": "01-Preprocesamiento de features-correo.ipynb",
      "provenance": [],
      "authorship_tag": "ABX9TyP+8XsL0fFoFbrUKYOyFpgA",
      "include_colab_link": true
    },
    "kernelspec": {
      "name": "python3",
      "display_name": "Python 3"
    }
  },
  "cells": [
    {
      "cell_type": "markdown",
      "metadata": {
        "id": "view-in-github",
        "colab_type": "text"
      },
      "source": [
        "<a href=\"https://colab.research.google.com/github/jumafernandez/clasificacion_correos/blob/main/notebooks/experimentos/01-Preprocesamiento_de_features_correo.ipynb\" target=\"_parent\"><img src=\"https://colab.research.google.com/assets/colab-badge.svg\" alt=\"Open In Colab\"/></a>"
      ]
    },
    {
      "cell_type": "markdown",
      "metadata": {
        "id": "FTD65pStwWuO"
      },
      "source": [
        "# Procesamiento de las features adicionales a la Consulta\n"
      ]
    },
    {
      "cell_type": "markdown",
      "metadata": {
        "id": "NAkTZSEqwlMv"
      },
      "source": [
        "1. Traigo los datos y los cargo en el dataframe:"
      ]
    },
    {
      "cell_type": "code",
      "metadata": {
        "id": "cEa8IbABwU9R",
        "colab": {
          "base_uri": "https://localhost:8080/"
        },
        "outputId": "c6879491-c11b-43b1-8e40-1d0fdafc304d"
      },
      "source": [
        "from os import path\n",
        "import pandas as pd\n",
        "\n",
        "# En caso que no esté el archivo en Colab lo traigo\n",
        "if not(path.exists(\"01-Correos_Seleccionados_y_Etiquetados.csv\")):\n",
        "  !wget https://raw.githubusercontent.com/jumafernandez/UNLP/master/TFI/data/Correos_Seleccionados_y_Etiquetados.csv\n",
        "\n",
        "df = pd.read_csv('Correos_Seleccionados_y_Etiquetados.csv', delimiter=\"|\", index_col=False)\n",
        "\n",
        "df['Clase'].value_counts()\n"
      ],
      "execution_count": null,
      "outputs": [
        {
          "output_type": "stream",
          "text": [
            "--2020-12-27 19:56:19--  https://raw.githubusercontent.com/jumafernandez/UNLP/master/TFI/data/Correos_Seleccionados_y_Etiquetados.csv\n",
            "Resolving raw.githubusercontent.com (raw.githubusercontent.com)... 151.101.0.133, 151.101.64.133, 151.101.128.133, ...\n",
            "Connecting to raw.githubusercontent.com (raw.githubusercontent.com)|151.101.0.133|:443... connected.\n",
            "HTTP request sent, awaiting response... 200 OK\n",
            "Length: 448336 (438K) [text/plain]\n",
            "Saving to: ‘Correos_Seleccionados_y_Etiquetados.csv.4’\n",
            "\n",
            "\r          Correos_S   0%[                    ]       0  --.-KB/s               \rCorreos_Seleccionad 100%[===================>] 437.83K  --.-KB/s    in 0.04s   \n",
            "\n",
            "2020-12-27 19:56:19 (9.99 MB/s) - ‘Correos_Seleccionados_y_Etiquetados.csv.4’ saved [448336/448336]\n",
            "\n"
          ],
          "name": "stdout"
        },
        {
          "output_type": "execute_result",
          "data": {
            "text/plain": [
              "Boleto Universitario                   240\n",
              "Ingreso a la Universidad               232\n",
              "Requisitos de Ingreso                  129\n",
              "Pedido de Certificados                  69\n",
              "Inscripción a Cursadas                  64\n",
              "Problemas con la Clave                  51\n",
              "Reincorporación                         47\n",
              "Cursadas                                23\n",
              "Exámenes                                19\n",
              "Carga de Notas                          17\n",
              "Consulta por Legajo                     16\n",
              "Cambio de Carrera                       14\n",
              "Consulta por Equivalencias              14\n",
              "Situación Académica                     12\n",
              "Cambio de Comisión                      11\n",
              "Datos Personales                        10\n",
              "Consulta sobre Título Universitario     10\n",
              "Vacunas Enfermería                      10\n",
              "Certificados Web                         6\n",
              "Simultaneidad de Carreras                6\n",
              "Name: Clase, dtype: int64"
            ]
          },
          "metadata": {
            "tags": []
          },
          "execution_count": 610
        }
      ]
    },
    {
      "cell_type": "markdown",
      "metadata": {
        "id": "m_xyelTHxEFE"
      },
      "source": [
        "2. Verifico los datos y borro columnas no pre-procesables:"
      ]
    },
    {
      "cell_type": "code",
      "metadata": {
        "colab": {
          "base_uri": "https://localhost:8080/",
          "height": 197
        },
        "id": "U-ft72hZ0TLQ",
        "outputId": "e9cfe89d-24d4-4b81-e6a6-d7447c864d3f"
      },
      "source": [
        "df.drop(columns=['Apellido y Nombre', 'Respuesta'], inplace=True)\n",
        "df.head()"
      ],
      "execution_count": null,
      "outputs": [
        {
          "output_type": "execute_result",
          "data": {
            "text/html": [
              "<div>\n",
              "<style scoped>\n",
              "    .dataframe tbody tr th:only-of-type {\n",
              "        vertical-align: middle;\n",
              "    }\n",
              "\n",
              "    .dataframe tbody tr th {\n",
              "        vertical-align: top;\n",
              "    }\n",
              "\n",
              "    .dataframe thead th {\n",
              "        text-align: right;\n",
              "    }\n",
              "</style>\n",
              "<table border=\"1\" class=\"dataframe\">\n",
              "  <thead>\n",
              "    <tr style=\"text-align: right;\">\n",
              "      <th></th>\n",
              "      <th>Fecha</th>\n",
              "      <th>Hora</th>\n",
              "      <th>Legajo</th>\n",
              "      <th>Documento</th>\n",
              "      <th>Carrera</th>\n",
              "      <th>Teléfono</th>\n",
              "      <th>E-mail</th>\n",
              "      <th>Consulta</th>\n",
              "      <th>Clase</th>\n",
              "    </tr>\n",
              "  </thead>\n",
              "  <tbody>\n",
              "    <tr>\n",
              "      <th>0</th>\n",
              "      <td>08-05-2019</td>\n",
              "      <td>10:49:26</td>\n",
              "      <td>169336</td>\n",
              "      <td>33829069</td>\n",
              "      <td>licenciatura en enfermeria(52)</td>\n",
              "      <td>1121550750</td>\n",
              "      <td>rolandflorencia@gmail.com</td>\n",
              "      <td>hola quiero anotarme a las materias ,para el s...</td>\n",
              "      <td>Vacunas Enfermería</td>\n",
              "    </tr>\n",
              "    <tr>\n",
              "      <th>1</th>\n",
              "      <td>08-08-2017</td>\n",
              "      <td>12:29:59</td>\n",
              "      <td>150786</td>\n",
              "      <td>33220121</td>\n",
              "      <td>licenciatura en enfermeria(52)</td>\n",
              "      <td>1131066251</td>\n",
              "      <td>vane_male@outlook.com</td>\n",
              "      <td>hola buenos días! quería saber cuando voy a po...</td>\n",
              "      <td>Vacunas Enfermería</td>\n",
              "    </tr>\n",
              "    <tr>\n",
              "      <th>2</th>\n",
              "      <td>05-31-2017</td>\n",
              "      <td>01:30:49</td>\n",
              "      <td>156535</td>\n",
              "      <td>43455018</td>\n",
              "      <td>contador publico(54)</td>\n",
              "      <td>NaN</td>\n",
              "      <td>solangekarg8@gmail.com</td>\n",
              "      <td>hola quisiera saber si en la consulta de situa...</td>\n",
              "      <td>Situación Académica</td>\n",
              "    </tr>\n",
              "    <tr>\n",
              "      <th>3</th>\n",
              "      <td>02-05-2018</td>\n",
              "      <td>22:58:24</td>\n",
              "      <td>155395</td>\n",
              "      <td>38859638</td>\n",
              "      <td>licenciatura en trabajo social(5)</td>\n",
              "      <td>1566431259</td>\n",
              "      <td>luztopa@hotmail.com</td>\n",
              "      <td>buenas noches. en mi situacion academica apare...</td>\n",
              "      <td>Situación Académica</td>\n",
              "    </tr>\n",
              "    <tr>\n",
              "      <th>4</th>\n",
              "      <td>08-06-2016</td>\n",
              "      <td>13:16:16</td>\n",
              "      <td>115623</td>\n",
              "      <td>35756071</td>\n",
              "      <td>contador publico(54)</td>\n",
              "      <td>44556937</td>\n",
              "      <td>yanet868@hotmail.com</td>\n",
              "      <td>hola,  quisiera obtener mi promedio o saber co...</td>\n",
              "      <td>Situación Académica</td>\n",
              "    </tr>\n",
              "  </tbody>\n",
              "</table>\n",
              "</div>"
            ],
            "text/plain": [
              "        Fecha  ...                Clase\n",
              "0  08-05-2019  ...   Vacunas Enfermería\n",
              "1  08-08-2017  ...   Vacunas Enfermería\n",
              "2  05-31-2017  ...  Situación Académica\n",
              "3  02-05-2018  ...  Situación Académica\n",
              "4  08-06-2016  ...  Situación Académica\n",
              "\n",
              "[5 rows x 9 columns]"
            ]
          },
          "metadata": {
            "tags": []
          },
          "execution_count": 611
        }
      ]
    },
    {
      "cell_type": "markdown",
      "metadata": {
        "id": "bKwV3G8e7W0O"
      },
      "source": [
        "3. Preproceso la fecha (día de la semana, semana del mes, mes y cuatrimestre) de la consulta:"
      ]
    },
    {
      "cell_type": "code",
      "metadata": {
        "id": "YYeZT4j1Zu0i"
      },
      "source": [
        "def convierte_fecha(fecha_consulta):\n",
        "  from datetime import datetime\n",
        "  # Convierto a fecha\n",
        "  fecha = datetime.strptime(fecha_consulta, '%m-%d-%Y') \n",
        "  return fecha\n",
        "\n",
        "def dia_semana(fecha):\n",
        "  # Tomo el día de la semana\n",
        "  dias_semana = ['Lunes', 'Martes', 'Miércoles', 'Jueves', 'Viernes', 'Sábado', 'Domingo']\n",
        "  # dia_semana = dias_semana[fecha.weekday()]\n",
        "  dia_semana = fecha.weekday()\n",
        "  return dia_semana\n",
        "\n",
        "def semana_del_mes(fecha):\n",
        "  # Tomo la semana del mes\n",
        "  semana_mes = (fecha.day-1)//7+1\n",
        "  return semana_mes\n",
        "\n",
        "def mes(fecha):\n",
        "  # Tomo el mes\n",
        "  meses = ['Enero', 'Febrero', 'Marzo', 'Abril', 'Mayo', 'Junio', 'Julio', 'Agosto', 'Septiembre', 'Octubre', 'Noviembre', 'Diciembre']\n",
        "  # mes = meses[fecha.month-1]\n",
        "  mes = fecha.month\n",
        "  return mes\n",
        "\n",
        "def cuatrimestre(fecha):\n",
        "  # Defino el cuatrimestre\n",
        "  cuatrimestre = 1\n",
        "  if (fecha.month>7):\n",
        "    cuatrimestre = 2\n",
        "  return cuatrimestre\n",
        "\n",
        "def anio(fecha):\n",
        "    anio = fecha.year\n",
        "    return anio\n",
        "\n",
        "# convierte_fecha(df.loc[0, 'Fecha'])\n",
        "fecha = df['Fecha'].apply(convierte_fecha)\n",
        "df['dia_semana'] = fecha.apply(dia_semana)\n",
        "df['semana_del_mes'] = fecha.apply(semana_del_mes)\n",
        "df['mes'] = fecha.apply(mes)\n",
        "df['cuatrimestre'] = fecha.apply(cuatrimestre)\n",
        "df['anio'] = fecha.apply(anio)"
      ],
      "execution_count": null,
      "outputs": []
    },
    {
      "cell_type": "code",
      "metadata": {
        "colab": {
          "base_uri": "https://localhost:8080/",
          "height": 281
        },
        "id": "MoOidpjoaxvK",
        "outputId": "a29ef5f0-5ea1-4e9a-bdba-521ec59bca04"
      },
      "source": [
        "df.drop(columns=['Fecha'], inplace=True)\n",
        "df.head()"
      ],
      "execution_count": null,
      "outputs": [
        {
          "output_type": "execute_result",
          "data": {
            "text/html": [
              "<div>\n",
              "<style scoped>\n",
              "    .dataframe tbody tr th:only-of-type {\n",
              "        vertical-align: middle;\n",
              "    }\n",
              "\n",
              "    .dataframe tbody tr th {\n",
              "        vertical-align: top;\n",
              "    }\n",
              "\n",
              "    .dataframe thead th {\n",
              "        text-align: right;\n",
              "    }\n",
              "</style>\n",
              "<table border=\"1\" class=\"dataframe\">\n",
              "  <thead>\n",
              "    <tr style=\"text-align: right;\">\n",
              "      <th></th>\n",
              "      <th>Hora</th>\n",
              "      <th>Legajo</th>\n",
              "      <th>Documento</th>\n",
              "      <th>Carrera</th>\n",
              "      <th>Teléfono</th>\n",
              "      <th>E-mail</th>\n",
              "      <th>Consulta</th>\n",
              "      <th>Clase</th>\n",
              "      <th>dia_semana</th>\n",
              "      <th>semana_del_mes</th>\n",
              "      <th>mes</th>\n",
              "      <th>cuatrimestre</th>\n",
              "      <th>anio</th>\n",
              "    </tr>\n",
              "  </thead>\n",
              "  <tbody>\n",
              "    <tr>\n",
              "      <th>0</th>\n",
              "      <td>10:49:26</td>\n",
              "      <td>169336</td>\n",
              "      <td>33829069</td>\n",
              "      <td>licenciatura en enfermeria(52)</td>\n",
              "      <td>1121550750</td>\n",
              "      <td>rolandflorencia@gmail.com</td>\n",
              "      <td>hola quiero anotarme a las materias ,para el s...</td>\n",
              "      <td>Vacunas Enfermería</td>\n",
              "      <td>0</td>\n",
              "      <td>1</td>\n",
              "      <td>8</td>\n",
              "      <td>2</td>\n",
              "      <td>2019</td>\n",
              "    </tr>\n",
              "    <tr>\n",
              "      <th>1</th>\n",
              "      <td>12:29:59</td>\n",
              "      <td>150786</td>\n",
              "      <td>33220121</td>\n",
              "      <td>licenciatura en enfermeria(52)</td>\n",
              "      <td>1131066251</td>\n",
              "      <td>vane_male@outlook.com</td>\n",
              "      <td>hola buenos días! quería saber cuando voy a po...</td>\n",
              "      <td>Vacunas Enfermería</td>\n",
              "      <td>1</td>\n",
              "      <td>2</td>\n",
              "      <td>8</td>\n",
              "      <td>2</td>\n",
              "      <td>2017</td>\n",
              "    </tr>\n",
              "    <tr>\n",
              "      <th>2</th>\n",
              "      <td>01:30:49</td>\n",
              "      <td>156535</td>\n",
              "      <td>43455018</td>\n",
              "      <td>contador publico(54)</td>\n",
              "      <td>NaN</td>\n",
              "      <td>solangekarg8@gmail.com</td>\n",
              "      <td>hola quisiera saber si en la consulta de situa...</td>\n",
              "      <td>Situación Académica</td>\n",
              "      <td>2</td>\n",
              "      <td>5</td>\n",
              "      <td>5</td>\n",
              "      <td>1</td>\n",
              "      <td>2017</td>\n",
              "    </tr>\n",
              "    <tr>\n",
              "      <th>3</th>\n",
              "      <td>22:58:24</td>\n",
              "      <td>155395</td>\n",
              "      <td>38859638</td>\n",
              "      <td>licenciatura en trabajo social(5)</td>\n",
              "      <td>1566431259</td>\n",
              "      <td>luztopa@hotmail.com</td>\n",
              "      <td>buenas noches. en mi situacion academica apare...</td>\n",
              "      <td>Situación Académica</td>\n",
              "      <td>0</td>\n",
              "      <td>1</td>\n",
              "      <td>2</td>\n",
              "      <td>1</td>\n",
              "      <td>2018</td>\n",
              "    </tr>\n",
              "    <tr>\n",
              "      <th>4</th>\n",
              "      <td>13:16:16</td>\n",
              "      <td>115623</td>\n",
              "      <td>35756071</td>\n",
              "      <td>contador publico(54)</td>\n",
              "      <td>44556937</td>\n",
              "      <td>yanet868@hotmail.com</td>\n",
              "      <td>hola,  quisiera obtener mi promedio o saber co...</td>\n",
              "      <td>Situación Académica</td>\n",
              "      <td>5</td>\n",
              "      <td>1</td>\n",
              "      <td>8</td>\n",
              "      <td>2</td>\n",
              "      <td>2016</td>\n",
              "    </tr>\n",
              "  </tbody>\n",
              "</table>\n",
              "</div>"
            ],
            "text/plain": [
              "       Hora  Legajo  Documento  ... mes cuatrimestre  anio\n",
              "0  10:49:26  169336   33829069  ...   8            2  2019\n",
              "1  12:29:59  150786   33220121  ...   8            2  2017\n",
              "2  01:30:49  156535   43455018  ...   5            1  2017\n",
              "3  22:58:24  155395   38859638  ...   2            1  2018\n",
              "4  13:16:16  115623   35756071  ...   8            2  2016\n",
              "\n",
              "[5 rows x 13 columns]"
            ]
          },
          "metadata": {
            "tags": []
          },
          "execution_count": 613
        }
      ]
    },
    {
      "cell_type": "markdown",
      "metadata": {
        "id": "4XjW6N1_qo1T"
      },
      "source": [
        "4. Preproceso la hora de la consulta de la siguiente forma:\n",
        "    - 0-Mañana (6-12 hs),\n",
        "    - 1-Media-Tarde (12-16 hs)\n",
        "    - 2-Tarde (16-20 hs)\n",
        "    - 3-Noche (20-00 hs)\n",
        "    - 4-Madrugada (00-6 hs)"
      ]
    },
    {
      "cell_type": "code",
      "metadata": {
        "id": "ZtIB9k3NrNWo"
      },
      "source": [
        "def convierte_horario(hora_consulta):\n",
        "  from datetime import datetime\n",
        "  # Convierto a hora\n",
        "  hora = datetime.strptime(hora_consulta, '%H:%M:%S').time()\n",
        "  return hora\n",
        "\n",
        "def discretiza_horario(horario):\n",
        "  if (horario.hour>=6 and horario.hour<12):\n",
        "    rango_horario=0\n",
        "  elif (horario.hour>=12 and horario.hour<16):\n",
        "    rango_horario=1\n",
        "  elif (horario.hour>=16 and horario.hour<20):\n",
        "    rango_horario=2\n",
        "  else:\n",
        "    rango_horario=3 \n",
        "  return rango_horario\n",
        "\n",
        "#discretiza_horario(convierte_horario(df.loc[0, 'Hora']))\n",
        "horario = df['Hora'].apply(convierte_horario)\n",
        "df['hora_discretizada'] = horario.apply(discretiza_horario)"
      ],
      "execution_count": null,
      "outputs": []
    },
    {
      "cell_type": "code",
      "metadata": {
        "colab": {
          "base_uri": "https://localhost:8080/",
          "height": 314
        },
        "id": "Kaz03ZmpuFHC",
        "outputId": "2ea857d2-584f-4dac-dd1c-00aa3113157c"
      },
      "source": [
        "df.drop(columns=['Hora'], inplace=True)\n",
        "df.head()"
      ],
      "execution_count": null,
      "outputs": [
        {
          "output_type": "execute_result",
          "data": {
            "text/html": [
              "<div>\n",
              "<style scoped>\n",
              "    .dataframe tbody tr th:only-of-type {\n",
              "        vertical-align: middle;\n",
              "    }\n",
              "\n",
              "    .dataframe tbody tr th {\n",
              "        vertical-align: top;\n",
              "    }\n",
              "\n",
              "    .dataframe thead th {\n",
              "        text-align: right;\n",
              "    }\n",
              "</style>\n",
              "<table border=\"1\" class=\"dataframe\">\n",
              "  <thead>\n",
              "    <tr style=\"text-align: right;\">\n",
              "      <th></th>\n",
              "      <th>Legajo</th>\n",
              "      <th>Documento</th>\n",
              "      <th>Carrera</th>\n",
              "      <th>Teléfono</th>\n",
              "      <th>E-mail</th>\n",
              "      <th>Consulta</th>\n",
              "      <th>Clase</th>\n",
              "      <th>dia_semana</th>\n",
              "      <th>semana_del_mes</th>\n",
              "      <th>mes</th>\n",
              "      <th>cuatrimestre</th>\n",
              "      <th>anio</th>\n",
              "      <th>hora_discretizada</th>\n",
              "    </tr>\n",
              "  </thead>\n",
              "  <tbody>\n",
              "    <tr>\n",
              "      <th>0</th>\n",
              "      <td>169336</td>\n",
              "      <td>33829069</td>\n",
              "      <td>licenciatura en enfermeria(52)</td>\n",
              "      <td>1121550750</td>\n",
              "      <td>rolandflorencia@gmail.com</td>\n",
              "      <td>hola quiero anotarme a las materias ,para el s...</td>\n",
              "      <td>Vacunas Enfermería</td>\n",
              "      <td>0</td>\n",
              "      <td>1</td>\n",
              "      <td>8</td>\n",
              "      <td>2</td>\n",
              "      <td>2019</td>\n",
              "      <td>0</td>\n",
              "    </tr>\n",
              "    <tr>\n",
              "      <th>1</th>\n",
              "      <td>150786</td>\n",
              "      <td>33220121</td>\n",
              "      <td>licenciatura en enfermeria(52)</td>\n",
              "      <td>1131066251</td>\n",
              "      <td>vane_male@outlook.com</td>\n",
              "      <td>hola buenos días! quería saber cuando voy a po...</td>\n",
              "      <td>Vacunas Enfermería</td>\n",
              "      <td>1</td>\n",
              "      <td>2</td>\n",
              "      <td>8</td>\n",
              "      <td>2</td>\n",
              "      <td>2017</td>\n",
              "      <td>1</td>\n",
              "    </tr>\n",
              "    <tr>\n",
              "      <th>2</th>\n",
              "      <td>156535</td>\n",
              "      <td>43455018</td>\n",
              "      <td>contador publico(54)</td>\n",
              "      <td>NaN</td>\n",
              "      <td>solangekarg8@gmail.com</td>\n",
              "      <td>hola quisiera saber si en la consulta de situa...</td>\n",
              "      <td>Situación Académica</td>\n",
              "      <td>2</td>\n",
              "      <td>5</td>\n",
              "      <td>5</td>\n",
              "      <td>1</td>\n",
              "      <td>2017</td>\n",
              "      <td>3</td>\n",
              "    </tr>\n",
              "    <tr>\n",
              "      <th>3</th>\n",
              "      <td>155395</td>\n",
              "      <td>38859638</td>\n",
              "      <td>licenciatura en trabajo social(5)</td>\n",
              "      <td>1566431259</td>\n",
              "      <td>luztopa@hotmail.com</td>\n",
              "      <td>buenas noches. en mi situacion academica apare...</td>\n",
              "      <td>Situación Académica</td>\n",
              "      <td>0</td>\n",
              "      <td>1</td>\n",
              "      <td>2</td>\n",
              "      <td>1</td>\n",
              "      <td>2018</td>\n",
              "      <td>3</td>\n",
              "    </tr>\n",
              "    <tr>\n",
              "      <th>4</th>\n",
              "      <td>115623</td>\n",
              "      <td>35756071</td>\n",
              "      <td>contador publico(54)</td>\n",
              "      <td>44556937</td>\n",
              "      <td>yanet868@hotmail.com</td>\n",
              "      <td>hola,  quisiera obtener mi promedio o saber co...</td>\n",
              "      <td>Situación Académica</td>\n",
              "      <td>5</td>\n",
              "      <td>1</td>\n",
              "      <td>8</td>\n",
              "      <td>2</td>\n",
              "      <td>2016</td>\n",
              "      <td>1</td>\n",
              "    </tr>\n",
              "  </tbody>\n",
              "</table>\n",
              "</div>"
            ],
            "text/plain": [
              "   Legajo  Documento  ...  anio hora_discretizada\n",
              "0  169336   33829069  ...  2019                 0\n",
              "1  150786   33220121  ...  2017                 1\n",
              "2  156535   43455018  ...  2017                 3\n",
              "3  155395   38859638  ...  2018                 3\n",
              "4  115623   35756071  ...  2016                 1\n",
              "\n",
              "[5 rows x 13 columns]"
            ]
          },
          "metadata": {
            "tags": []
          },
          "execution_count": 615
        }
      ]
    },
    {
      "cell_type": "markdown",
      "metadata": {
        "id": "hsRw3yrMvA5d"
      },
      "source": [
        "5. Preproceso el legajo y el DNI:<br />\n",
        "  Los separo en cuantiles asumiendo que los DNI mas bajos son personas mas grandes y los legajos mas grandes son estudiantes mas nuevos."
      ]
    },
    {
      "cell_type": "code",
      "metadata": {
        "id": "QJeq9I6C1sXp"
      },
      "source": [
        "import numpy as np\n",
        " \n",
        "def discretiza_atributo(atributo, intervalos=4):\n",
        "  # Se discretiza según la cantidad de q definidos\n",
        "  discretizado = pd.qcut(atributo, q=intervalos)\n",
        "  \n",
        "  # Nos quedamos con los diferentes intervalos, los ordenamos min-max\n",
        "  lista_intervalos = discretizado.unique()\n",
        "\n",
        "  lista_intervalos.sort_values(inplace=True)\n",
        "  #  Lo casteamos a str\n",
        "  lista_intervalos = lista_intervalos.astype(str)\n",
        "  #  Casteamos el atributo a str\n",
        "  discretizado = discretizado.astype(str)\n",
        "  # Borro los nan porque los modifico a mano\n",
        "  tiene_nan = False\n",
        "  if ('nan' in lista_intervalos):\n",
        "    tiene_nan = True\n",
        "    np.delete(lista_intervalos, np.where(lista_intervalos == 'nan'))\n",
        "\n",
        "  for i in range(intervalos):\n",
        "    # Si existiera, quiero dejar el nan en el intervalo con etiqueta 0, por eso sumo 1 a i\n",
        "    discretizado = discretizado.replace(lista_intervalos[i], i+1)\n",
        "    discretizado = discretizado.replace('nan', 0)\n",
        "\n",
        "  return discretizado\n",
        "\n",
        "# Cambio a numericos los Documentos y los discretizo\n",
        "df[\"Documento\"] = pd.to_numeric(df[\"Documento\"], errors='coerce')\n",
        "df[\"dni_discretizado\"] = discretiza_atributo(df[\"Documento\"], 8)\n",
        "\n",
        "# Cambio a numericos los Legajos y los discretizo\n",
        "df[\"Legajo\"] = pd.to_numeric(df[\"Legajo\"], errors='coerce')\n",
        "df[\"legajo_discretizado\"] = discretiza_atributo(df[\"Legajo\"], 4)"
      ],
      "execution_count": null,
      "outputs": []
    },
    {
      "cell_type": "code",
      "metadata": {
        "colab": {
          "base_uri": "https://localhost:8080/"
        },
        "id": "PGIkhtQ9Fs7X",
        "outputId": "87b97139-161b-4d5a-f292-8d1c4f00480c"
      },
      "source": [
        "df[\"dni_discretizado\"].value_counts()"
      ],
      "execution_count": null,
      "outputs": [
        {
          "output_type": "execute_result",
          "data": {
            "text/plain": [
              "8    125\n",
              "7    125\n",
              "6    125\n",
              "5    125\n",
              "4    125\n",
              "3    125\n",
              "2    125\n",
              "1    125\n",
              "Name: dni_discretizado, dtype: int64"
            ]
          },
          "metadata": {
            "tags": []
          },
          "execution_count": 617
        }
      ]
    },
    {
      "cell_type": "code",
      "metadata": {
        "colab": {
          "base_uri": "https://localhost:8080/"
        },
        "id": "GQ6UOF3sJrwu",
        "outputId": "29f0fe3c-6909-4c26-b8e3-59152a83e12e"
      },
      "source": [
        "df[\"legajo_discretizado\"].value_counts()"
      ],
      "execution_count": null,
      "outputs": [
        {
          "output_type": "execute_result",
          "data": {
            "text/plain": [
              "0    310\n",
              "4    173\n",
              "1    173\n",
              "3    172\n",
              "2    172\n",
              "Name: legajo_discretizado, dtype: int64"
            ]
          },
          "metadata": {
            "tags": []
          },
          "execution_count": 618
        }
      ]
    },
    {
      "cell_type": "markdown",
      "metadata": {
        "id": "QubUGs5fnykm"
      },
      "source": [
        "6. Genero una variable dummy con la existencia o no de Legajo y Teléfono:"
      ]
    },
    {
      "cell_type": "code",
      "metadata": {
        "id": "d5vwKz6-nBz4"
      },
      "source": [
        "# Tiene legajo?\n",
        "def posee_valor(atributo):\n",
        "  return 1-atributo.isna()\n",
        "  \n",
        "df['posee_legajo'] = posee_valor(df['Legajo'])"
      ],
      "execution_count": null,
      "outputs": []
    },
    {
      "cell_type": "code",
      "metadata": {
        "colab": {
          "base_uri": "https://localhost:8080/",
          "height": 667
        },
        "id": "WMvevGffJ4OD",
        "outputId": "32754805-2e78-46bd-bd1b-c0ea8c7a7295"
      },
      "source": [
        "df.drop(columns=['Legajo', 'Documento'], inplace=True)\n",
        "df.head()"
      ],
      "execution_count": null,
      "outputs": [
        {
          "output_type": "execute_result",
          "data": {
            "text/html": [
              "<div>\n",
              "<style scoped>\n",
              "    .dataframe tbody tr th:only-of-type {\n",
              "        vertical-align: middle;\n",
              "    }\n",
              "\n",
              "    .dataframe tbody tr th {\n",
              "        vertical-align: top;\n",
              "    }\n",
              "\n",
              "    .dataframe thead th {\n",
              "        text-align: right;\n",
              "    }\n",
              "</style>\n",
              "<table border=\"1\" class=\"dataframe\">\n",
              "  <thead>\n",
              "    <tr style=\"text-align: right;\">\n",
              "      <th></th>\n",
              "      <th>Carrera</th>\n",
              "      <th>Teléfono</th>\n",
              "      <th>E-mail</th>\n",
              "      <th>Consulta</th>\n",
              "      <th>Clase</th>\n",
              "      <th>dia_semana</th>\n",
              "      <th>semana_del_mes</th>\n",
              "      <th>mes</th>\n",
              "      <th>cuatrimestre</th>\n",
              "      <th>anio</th>\n",
              "      <th>hora_discretizada</th>\n",
              "      <th>dni_discretizado</th>\n",
              "      <th>legajo_discretizado</th>\n",
              "      <th>posee_legajo</th>\n",
              "    </tr>\n",
              "  </thead>\n",
              "  <tbody>\n",
              "    <tr>\n",
              "      <th>0</th>\n",
              "      <td>licenciatura en enfermeria(52)</td>\n",
              "      <td>1121550750</td>\n",
              "      <td>rolandflorencia@gmail.com</td>\n",
              "      <td>hola quiero anotarme a las materias ,para el s...</td>\n",
              "      <td>Vacunas Enfermería</td>\n",
              "      <td>0</td>\n",
              "      <td>1</td>\n",
              "      <td>8</td>\n",
              "      <td>2</td>\n",
              "      <td>2019</td>\n",
              "      <td>0</td>\n",
              "      <td>3</td>\n",
              "      <td>4</td>\n",
              "      <td>1</td>\n",
              "    </tr>\n",
              "    <tr>\n",
              "      <th>1</th>\n",
              "      <td>licenciatura en enfermeria(52)</td>\n",
              "      <td>1131066251</td>\n",
              "      <td>vane_male@outlook.com</td>\n",
              "      <td>hola buenos días! quería saber cuando voy a po...</td>\n",
              "      <td>Vacunas Enfermería</td>\n",
              "      <td>1</td>\n",
              "      <td>2</td>\n",
              "      <td>8</td>\n",
              "      <td>2</td>\n",
              "      <td>2017</td>\n",
              "      <td>1</td>\n",
              "      <td>3</td>\n",
              "      <td>3</td>\n",
              "      <td>1</td>\n",
              "    </tr>\n",
              "    <tr>\n",
              "      <th>2</th>\n",
              "      <td>contador publico(54)</td>\n",
              "      <td>NaN</td>\n",
              "      <td>solangekarg8@gmail.com</td>\n",
              "      <td>hola quisiera saber si en la consulta de situa...</td>\n",
              "      <td>Situación Académica</td>\n",
              "      <td>2</td>\n",
              "      <td>5</td>\n",
              "      <td>5</td>\n",
              "      <td>1</td>\n",
              "      <td>2017</td>\n",
              "      <td>3</td>\n",
              "      <td>8</td>\n",
              "      <td>3</td>\n",
              "      <td>1</td>\n",
              "    </tr>\n",
              "    <tr>\n",
              "      <th>3</th>\n",
              "      <td>licenciatura en trabajo social(5)</td>\n",
              "      <td>1566431259</td>\n",
              "      <td>luztopa@hotmail.com</td>\n",
              "      <td>buenas noches. en mi situacion academica apare...</td>\n",
              "      <td>Situación Académica</td>\n",
              "      <td>0</td>\n",
              "      <td>1</td>\n",
              "      <td>2</td>\n",
              "      <td>1</td>\n",
              "      <td>2018</td>\n",
              "      <td>3</td>\n",
              "      <td>5</td>\n",
              "      <td>3</td>\n",
              "      <td>1</td>\n",
              "    </tr>\n",
              "    <tr>\n",
              "      <th>4</th>\n",
              "      <td>contador publico(54)</td>\n",
              "      <td>44556937</td>\n",
              "      <td>yanet868@hotmail.com</td>\n",
              "      <td>hola,  quisiera obtener mi promedio o saber co...</td>\n",
              "      <td>Situación Académica</td>\n",
              "      <td>5</td>\n",
              "      <td>1</td>\n",
              "      <td>8</td>\n",
              "      <td>2</td>\n",
              "      <td>2016</td>\n",
              "      <td>1</td>\n",
              "      <td>3</td>\n",
              "      <td>1</td>\n",
              "      <td>1</td>\n",
              "    </tr>\n",
              "  </tbody>\n",
              "</table>\n",
              "</div>"
            ],
            "text/plain": [
              "                             Carrera  ... posee_legajo\n",
              "0     licenciatura en enfermeria(52)  ...            1\n",
              "1     licenciatura en enfermeria(52)  ...            1\n",
              "2               contador publico(54)  ...            1\n",
              "3  licenciatura en trabajo social(5)  ...            1\n",
              "4               contador publico(54)  ...            1\n",
              "\n",
              "[5 rows x 14 columns]"
            ]
          },
          "metadata": {
            "tags": []
          },
          "execution_count": 620
        }
      ]
    },
    {
      "cell_type": "code",
      "metadata": {
        "id": "-ux6oNoknIBh"
      },
      "source": [
        "# Tiene teléfono? \n",
        "df['posee_telefono'] = posee_valor(df['Teléfono'])"
      ],
      "execution_count": null,
      "outputs": []
    },
    {
      "cell_type": "code",
      "metadata": {
        "colab": {
          "base_uri": "https://localhost:8080/",
          "height": 667
        },
        "id": "YSYkq_jnnNG3",
        "outputId": "2dda3b81-80b0-4ee2-83ea-443ce3f79a9b"
      },
      "source": [
        "df.drop(columns=['Teléfono'], inplace=True)\n",
        "df.head()"
      ],
      "execution_count": null,
      "outputs": [
        {
          "output_type": "execute_result",
          "data": {
            "text/html": [
              "<div>\n",
              "<style scoped>\n",
              "    .dataframe tbody tr th:only-of-type {\n",
              "        vertical-align: middle;\n",
              "    }\n",
              "\n",
              "    .dataframe tbody tr th {\n",
              "        vertical-align: top;\n",
              "    }\n",
              "\n",
              "    .dataframe thead th {\n",
              "        text-align: right;\n",
              "    }\n",
              "</style>\n",
              "<table border=\"1\" class=\"dataframe\">\n",
              "  <thead>\n",
              "    <tr style=\"text-align: right;\">\n",
              "      <th></th>\n",
              "      <th>Carrera</th>\n",
              "      <th>E-mail</th>\n",
              "      <th>Consulta</th>\n",
              "      <th>Clase</th>\n",
              "      <th>dia_semana</th>\n",
              "      <th>semana_del_mes</th>\n",
              "      <th>mes</th>\n",
              "      <th>cuatrimestre</th>\n",
              "      <th>anio</th>\n",
              "      <th>hora_discretizada</th>\n",
              "      <th>dni_discretizado</th>\n",
              "      <th>legajo_discretizado</th>\n",
              "      <th>posee_legajo</th>\n",
              "      <th>posee_telefono</th>\n",
              "    </tr>\n",
              "  </thead>\n",
              "  <tbody>\n",
              "    <tr>\n",
              "      <th>0</th>\n",
              "      <td>licenciatura en enfermeria(52)</td>\n",
              "      <td>rolandflorencia@gmail.com</td>\n",
              "      <td>hola quiero anotarme a las materias ,para el s...</td>\n",
              "      <td>Vacunas Enfermería</td>\n",
              "      <td>0</td>\n",
              "      <td>1</td>\n",
              "      <td>8</td>\n",
              "      <td>2</td>\n",
              "      <td>2019</td>\n",
              "      <td>0</td>\n",
              "      <td>3</td>\n",
              "      <td>4</td>\n",
              "      <td>1</td>\n",
              "      <td>1</td>\n",
              "    </tr>\n",
              "    <tr>\n",
              "      <th>1</th>\n",
              "      <td>licenciatura en enfermeria(52)</td>\n",
              "      <td>vane_male@outlook.com</td>\n",
              "      <td>hola buenos días! quería saber cuando voy a po...</td>\n",
              "      <td>Vacunas Enfermería</td>\n",
              "      <td>1</td>\n",
              "      <td>2</td>\n",
              "      <td>8</td>\n",
              "      <td>2</td>\n",
              "      <td>2017</td>\n",
              "      <td>1</td>\n",
              "      <td>3</td>\n",
              "      <td>3</td>\n",
              "      <td>1</td>\n",
              "      <td>1</td>\n",
              "    </tr>\n",
              "    <tr>\n",
              "      <th>2</th>\n",
              "      <td>contador publico(54)</td>\n",
              "      <td>solangekarg8@gmail.com</td>\n",
              "      <td>hola quisiera saber si en la consulta de situa...</td>\n",
              "      <td>Situación Académica</td>\n",
              "      <td>2</td>\n",
              "      <td>5</td>\n",
              "      <td>5</td>\n",
              "      <td>1</td>\n",
              "      <td>2017</td>\n",
              "      <td>3</td>\n",
              "      <td>8</td>\n",
              "      <td>3</td>\n",
              "      <td>1</td>\n",
              "      <td>0</td>\n",
              "    </tr>\n",
              "    <tr>\n",
              "      <th>3</th>\n",
              "      <td>licenciatura en trabajo social(5)</td>\n",
              "      <td>luztopa@hotmail.com</td>\n",
              "      <td>buenas noches. en mi situacion academica apare...</td>\n",
              "      <td>Situación Académica</td>\n",
              "      <td>0</td>\n",
              "      <td>1</td>\n",
              "      <td>2</td>\n",
              "      <td>1</td>\n",
              "      <td>2018</td>\n",
              "      <td>3</td>\n",
              "      <td>5</td>\n",
              "      <td>3</td>\n",
              "      <td>1</td>\n",
              "      <td>1</td>\n",
              "    </tr>\n",
              "    <tr>\n",
              "      <th>4</th>\n",
              "      <td>contador publico(54)</td>\n",
              "      <td>yanet868@hotmail.com</td>\n",
              "      <td>hola,  quisiera obtener mi promedio o saber co...</td>\n",
              "      <td>Situación Académica</td>\n",
              "      <td>5</td>\n",
              "      <td>1</td>\n",
              "      <td>8</td>\n",
              "      <td>2</td>\n",
              "      <td>2016</td>\n",
              "      <td>1</td>\n",
              "      <td>3</td>\n",
              "      <td>1</td>\n",
              "      <td>1</td>\n",
              "      <td>1</td>\n",
              "    </tr>\n",
              "  </tbody>\n",
              "</table>\n",
              "</div>"
            ],
            "text/plain": [
              "                             Carrera  ... posee_telefono\n",
              "0     licenciatura en enfermeria(52)  ...              1\n",
              "1     licenciatura en enfermeria(52)  ...              1\n",
              "2               contador publico(54)  ...              0\n",
              "3  licenciatura en trabajo social(5)  ...              1\n",
              "4               contador publico(54)  ...              1\n",
              "\n",
              "[5 rows x 14 columns]"
            ]
          },
          "metadata": {
            "tags": []
          },
          "execution_count": 622
        }
      ]
    },
    {
      "cell_type": "markdown",
      "metadata": {
        "id": "XwliKva_oORy"
      },
      "source": [
        "7. Se extrae el código de Carrera:"
      ]
    },
    {
      "cell_type": "code",
      "metadata": {
        "id": "aNQgRSVNKrUJ"
      },
      "source": [
        "def extrae_codigo_carrera(texto_carrera):\n",
        "  codigo = 0\n",
        "  if \"sin carrera\" not in texto_carrera:\n",
        "    texto_carrera = texto_carrera.split('(')\n",
        "    texto_carrera = texto_carrera[len(texto_carrera)-1].split(')')\n",
        "    codigo = int(texto_carrera[0])\n",
        "  return codigo\n",
        "\n",
        "# extrae_codigo_carrera(df.loc[0, 'Carrera'])\n",
        "df['carrera_valor'] = df['Carrera'].apply(extrae_codigo_carrera)"
      ],
      "execution_count": null,
      "outputs": []
    },
    {
      "cell_type": "code",
      "metadata": {
        "colab": {
          "base_uri": "https://localhost:8080/",
          "height": 667
        },
        "id": "7914syUaOKUL",
        "outputId": "264c4565-c503-4f4f-b352-4000cddd19e7"
      },
      "source": [
        "df.drop(columns=['Carrera'], inplace=True)\n",
        "df.head()"
      ],
      "execution_count": null,
      "outputs": [
        {
          "output_type": "execute_result",
          "data": {
            "text/html": [
              "<div>\n",
              "<style scoped>\n",
              "    .dataframe tbody tr th:only-of-type {\n",
              "        vertical-align: middle;\n",
              "    }\n",
              "\n",
              "    .dataframe tbody tr th {\n",
              "        vertical-align: top;\n",
              "    }\n",
              "\n",
              "    .dataframe thead th {\n",
              "        text-align: right;\n",
              "    }\n",
              "</style>\n",
              "<table border=\"1\" class=\"dataframe\">\n",
              "  <thead>\n",
              "    <tr style=\"text-align: right;\">\n",
              "      <th></th>\n",
              "      <th>E-mail</th>\n",
              "      <th>Consulta</th>\n",
              "      <th>Clase</th>\n",
              "      <th>dia_semana</th>\n",
              "      <th>semana_del_mes</th>\n",
              "      <th>mes</th>\n",
              "      <th>cuatrimestre</th>\n",
              "      <th>anio</th>\n",
              "      <th>hora_discretizada</th>\n",
              "      <th>dni_discretizado</th>\n",
              "      <th>legajo_discretizado</th>\n",
              "      <th>posee_legajo</th>\n",
              "      <th>posee_telefono</th>\n",
              "      <th>carrera_valor</th>\n",
              "    </tr>\n",
              "  </thead>\n",
              "  <tbody>\n",
              "    <tr>\n",
              "      <th>0</th>\n",
              "      <td>rolandflorencia@gmail.com</td>\n",
              "      <td>hola quiero anotarme a las materias ,para el s...</td>\n",
              "      <td>Vacunas Enfermería</td>\n",
              "      <td>0</td>\n",
              "      <td>1</td>\n",
              "      <td>8</td>\n",
              "      <td>2</td>\n",
              "      <td>2019</td>\n",
              "      <td>0</td>\n",
              "      <td>3</td>\n",
              "      <td>4</td>\n",
              "      <td>1</td>\n",
              "      <td>1</td>\n",
              "      <td>52</td>\n",
              "    </tr>\n",
              "    <tr>\n",
              "      <th>1</th>\n",
              "      <td>vane_male@outlook.com</td>\n",
              "      <td>hola buenos días! quería saber cuando voy a po...</td>\n",
              "      <td>Vacunas Enfermería</td>\n",
              "      <td>1</td>\n",
              "      <td>2</td>\n",
              "      <td>8</td>\n",
              "      <td>2</td>\n",
              "      <td>2017</td>\n",
              "      <td>1</td>\n",
              "      <td>3</td>\n",
              "      <td>3</td>\n",
              "      <td>1</td>\n",
              "      <td>1</td>\n",
              "      <td>52</td>\n",
              "    </tr>\n",
              "    <tr>\n",
              "      <th>2</th>\n",
              "      <td>solangekarg8@gmail.com</td>\n",
              "      <td>hola quisiera saber si en la consulta de situa...</td>\n",
              "      <td>Situación Académica</td>\n",
              "      <td>2</td>\n",
              "      <td>5</td>\n",
              "      <td>5</td>\n",
              "      <td>1</td>\n",
              "      <td>2017</td>\n",
              "      <td>3</td>\n",
              "      <td>8</td>\n",
              "      <td>3</td>\n",
              "      <td>1</td>\n",
              "      <td>0</td>\n",
              "      <td>54</td>\n",
              "    </tr>\n",
              "    <tr>\n",
              "      <th>3</th>\n",
              "      <td>luztopa@hotmail.com</td>\n",
              "      <td>buenas noches. en mi situacion academica apare...</td>\n",
              "      <td>Situación Académica</td>\n",
              "      <td>0</td>\n",
              "      <td>1</td>\n",
              "      <td>2</td>\n",
              "      <td>1</td>\n",
              "      <td>2018</td>\n",
              "      <td>3</td>\n",
              "      <td>5</td>\n",
              "      <td>3</td>\n",
              "      <td>1</td>\n",
              "      <td>1</td>\n",
              "      <td>5</td>\n",
              "    </tr>\n",
              "    <tr>\n",
              "      <th>4</th>\n",
              "      <td>yanet868@hotmail.com</td>\n",
              "      <td>hola,  quisiera obtener mi promedio o saber co...</td>\n",
              "      <td>Situación Académica</td>\n",
              "      <td>5</td>\n",
              "      <td>1</td>\n",
              "      <td>8</td>\n",
              "      <td>2</td>\n",
              "      <td>2016</td>\n",
              "      <td>1</td>\n",
              "      <td>3</td>\n",
              "      <td>1</td>\n",
              "      <td>1</td>\n",
              "      <td>1</td>\n",
              "      <td>54</td>\n",
              "    </tr>\n",
              "  </tbody>\n",
              "</table>\n",
              "</div>"
            ],
            "text/plain": [
              "                      E-mail  ... carrera_valor\n",
              "0  rolandflorencia@gmail.com  ...            52\n",
              "1      vane_male@outlook.com  ...            52\n",
              "2     solangekarg8@gmail.com  ...            54\n",
              "3        luztopa@hotmail.com  ...             5\n",
              "4       yanet868@hotmail.com  ...            54\n",
              "\n",
              "[5 rows x 14 columns]"
            ]
          },
          "metadata": {
            "tags": []
          },
          "execution_count": 624
        }
      ]
    },
    {
      "cell_type": "markdown",
      "metadata": {
        "id": "T82OrpbfoRt2"
      },
      "source": [
        "8. Se verifica el proveedor de correo electrónico:"
      ]
    },
    {
      "cell_type": "code",
      "metadata": {
        "id": "un2AjzunnWbm"
      },
      "source": [
        "def servicio_email(consulta, proveedor):  \n",
        "  if consulta.lower().find(proveedor)==-1:\n",
        "    return 0\n",
        "  else:\n",
        "    return 1\n",
        "# Correo Gmail?\n",
        "# df['correo_gmail'] = df['E-mail'].apply(servicio_email, proveedor='gmail')\n",
        "# Correo yahoo?\n",
        "# df['correo_yahoo'] = df['E-mail'].apply(servicio_email, proveedor='yahoo')\n",
        "# Correo hotmail?\n",
        "# df['correo_hotmail'] = df['E-mail'].apply(servicio_email, proveedor='hotmail')\n",
        "\n",
        "def extrae_proveedor_correo(texto_correo):\n",
        "    texto_correo = texto_correo.split('@')\n",
        "    texto_correo = texto_correo[len(texto_correo)-1].split('.')\n",
        "    proveedor_correo = texto_correo[0]\n",
        "    return proveedor_correo\n",
        "\n",
        "#extrae_proveedor_correo(df.loc[0, 'E-mail'])\n",
        "df['proveedor_correo'] = df['E-mail'].apply(extrae_proveedor_correo)"
      ],
      "execution_count": null,
      "outputs": []
    },
    {
      "cell_type": "code",
      "metadata": {
        "colab": {
          "base_uri": "https://localhost:8080/"
        },
        "id": "dYSTwAzOpSDe",
        "outputId": "47d5cf3b-7cb9-4e02-cb65-3d7a37e104d3"
      },
      "source": [
        "df['proveedor_correo'].value_counts()"
      ],
      "execution_count": null,
      "outputs": [
        {
          "output_type": "execute_result",
          "data": {
            "text/plain": [
              "gmail              442\n",
              "hotmail            417\n",
              "yahoo               49\n",
              "outlook             41\n",
              "live                31\n",
              "icloud               4\n",
              "msn                  2\n",
              "baires-sa            1\n",
              "grupoberro           1\n",
              "hotmai               1\n",
              "outlool              1\n",
              "correoargentino      1\n",
              "gmil                 1\n",
              "ampinformatica       1\n",
              "me                   1\n",
              "facebook             1\n",
              "gmal                 1\n",
              "luve                 1\n",
              "autloock             1\n",
              "gmai                 1\n",
              "uno                  1\n",
              "Name: proveedor_correo, dtype: int64"
            ]
          },
          "metadata": {
            "tags": []
          },
          "execution_count": 626
        }
      ]
    },
    {
      "cell_type": "code",
      "metadata": {
        "colab": {
          "base_uri": "https://localhost:8080/",
          "height": 667
        },
        "id": "2Q74DHQInT9b",
        "outputId": "9d68ae94-606a-4fdf-baac-941c1c6bab8f"
      },
      "source": [
        "df.drop(columns=['E-mail'], inplace=True)\n",
        "df.head()"
      ],
      "execution_count": null,
      "outputs": [
        {
          "output_type": "execute_result",
          "data": {
            "text/html": [
              "<div>\n",
              "<style scoped>\n",
              "    .dataframe tbody tr th:only-of-type {\n",
              "        vertical-align: middle;\n",
              "    }\n",
              "\n",
              "    .dataframe tbody tr th {\n",
              "        vertical-align: top;\n",
              "    }\n",
              "\n",
              "    .dataframe thead th {\n",
              "        text-align: right;\n",
              "    }\n",
              "</style>\n",
              "<table border=\"1\" class=\"dataframe\">\n",
              "  <thead>\n",
              "    <tr style=\"text-align: right;\">\n",
              "      <th></th>\n",
              "      <th>Consulta</th>\n",
              "      <th>Clase</th>\n",
              "      <th>dia_semana</th>\n",
              "      <th>semana_del_mes</th>\n",
              "      <th>mes</th>\n",
              "      <th>cuatrimestre</th>\n",
              "      <th>anio</th>\n",
              "      <th>hora_discretizada</th>\n",
              "      <th>dni_discretizado</th>\n",
              "      <th>legajo_discretizado</th>\n",
              "      <th>posee_legajo</th>\n",
              "      <th>posee_telefono</th>\n",
              "      <th>carrera_valor</th>\n",
              "      <th>proveedor_correo</th>\n",
              "    </tr>\n",
              "  </thead>\n",
              "  <tbody>\n",
              "    <tr>\n",
              "      <th>0</th>\n",
              "      <td>hola quiero anotarme a las materias ,para el s...</td>\n",
              "      <td>Vacunas Enfermería</td>\n",
              "      <td>0</td>\n",
              "      <td>1</td>\n",
              "      <td>8</td>\n",
              "      <td>2</td>\n",
              "      <td>2019</td>\n",
              "      <td>0</td>\n",
              "      <td>3</td>\n",
              "      <td>4</td>\n",
              "      <td>1</td>\n",
              "      <td>1</td>\n",
              "      <td>52</td>\n",
              "      <td>gmail</td>\n",
              "    </tr>\n",
              "    <tr>\n",
              "      <th>1</th>\n",
              "      <td>hola buenos días! quería saber cuando voy a po...</td>\n",
              "      <td>Vacunas Enfermería</td>\n",
              "      <td>1</td>\n",
              "      <td>2</td>\n",
              "      <td>8</td>\n",
              "      <td>2</td>\n",
              "      <td>2017</td>\n",
              "      <td>1</td>\n",
              "      <td>3</td>\n",
              "      <td>3</td>\n",
              "      <td>1</td>\n",
              "      <td>1</td>\n",
              "      <td>52</td>\n",
              "      <td>outlook</td>\n",
              "    </tr>\n",
              "    <tr>\n",
              "      <th>2</th>\n",
              "      <td>hola quisiera saber si en la consulta de situa...</td>\n",
              "      <td>Situación Académica</td>\n",
              "      <td>2</td>\n",
              "      <td>5</td>\n",
              "      <td>5</td>\n",
              "      <td>1</td>\n",
              "      <td>2017</td>\n",
              "      <td>3</td>\n",
              "      <td>8</td>\n",
              "      <td>3</td>\n",
              "      <td>1</td>\n",
              "      <td>0</td>\n",
              "      <td>54</td>\n",
              "      <td>gmail</td>\n",
              "    </tr>\n",
              "    <tr>\n",
              "      <th>3</th>\n",
              "      <td>buenas noches. en mi situacion academica apare...</td>\n",
              "      <td>Situación Académica</td>\n",
              "      <td>0</td>\n",
              "      <td>1</td>\n",
              "      <td>2</td>\n",
              "      <td>1</td>\n",
              "      <td>2018</td>\n",
              "      <td>3</td>\n",
              "      <td>5</td>\n",
              "      <td>3</td>\n",
              "      <td>1</td>\n",
              "      <td>1</td>\n",
              "      <td>5</td>\n",
              "      <td>hotmail</td>\n",
              "    </tr>\n",
              "    <tr>\n",
              "      <th>4</th>\n",
              "      <td>hola,  quisiera obtener mi promedio o saber co...</td>\n",
              "      <td>Situación Académica</td>\n",
              "      <td>5</td>\n",
              "      <td>1</td>\n",
              "      <td>8</td>\n",
              "      <td>2</td>\n",
              "      <td>2016</td>\n",
              "      <td>1</td>\n",
              "      <td>3</td>\n",
              "      <td>1</td>\n",
              "      <td>1</td>\n",
              "      <td>1</td>\n",
              "      <td>54</td>\n",
              "      <td>hotmail</td>\n",
              "    </tr>\n",
              "  </tbody>\n",
              "</table>\n",
              "</div>"
            ],
            "text/plain": [
              "                                            Consulta  ... proveedor_correo\n",
              "0  hola quiero anotarme a las materias ,para el s...  ...            gmail\n",
              "1  hola buenos días! quería saber cuando voy a po...  ...          outlook\n",
              "2  hola quisiera saber si en la consulta de situa...  ...            gmail\n",
              "3  buenas noches. en mi situacion academica apare...  ...          hotmail\n",
              "4  hola,  quisiera obtener mi promedio o saber co...  ...          hotmail\n",
              "\n",
              "[5 rows x 14 columns]"
            ]
          },
          "metadata": {
            "tags": []
          },
          "execution_count": 627
        }
      ]
    },
    {
      "cell_type": "markdown",
      "metadata": {
        "id": "Z6DESYPxrGnO"
      },
      "source": [
        "9. Reordeno la clase para que me quede última:"
      ]
    },
    {
      "cell_type": "code",
      "metadata": {
        "id": "tvK6vaU6rcok"
      },
      "source": [
        "y = df['Clase']\n",
        "df.drop(columns=['Clase'], inplace=True)\n",
        "df.insert(13, \"Clase\", y, True)"
      ],
      "execution_count": null,
      "outputs": []
    },
    {
      "cell_type": "code",
      "metadata": {
        "colab": {
          "base_uri": "https://localhost:8080/",
          "height": 667
        },
        "id": "kk49RVpUr7oc",
        "outputId": "89d0f47e-43a0-43e4-993d-0030b0089f11"
      },
      "source": [
        "# Tomo una consulta determinada\n",
        "df.loc[1, 'Consulta']\n",
        "\n",
        "# Verifico las columnas del Dataframe\n",
        "df.head()"
      ],
      "execution_count": null,
      "outputs": [
        {
          "output_type": "execute_result",
          "data": {
            "text/html": [
              "<div>\n",
              "<style scoped>\n",
              "    .dataframe tbody tr th:only-of-type {\n",
              "        vertical-align: middle;\n",
              "    }\n",
              "\n",
              "    .dataframe tbody tr th {\n",
              "        vertical-align: top;\n",
              "    }\n",
              "\n",
              "    .dataframe thead th {\n",
              "        text-align: right;\n",
              "    }\n",
              "</style>\n",
              "<table border=\"1\" class=\"dataframe\">\n",
              "  <thead>\n",
              "    <tr style=\"text-align: right;\">\n",
              "      <th></th>\n",
              "      <th>Consulta</th>\n",
              "      <th>dia_semana</th>\n",
              "      <th>semana_del_mes</th>\n",
              "      <th>mes</th>\n",
              "      <th>cuatrimestre</th>\n",
              "      <th>anio</th>\n",
              "      <th>hora_discretizada</th>\n",
              "      <th>dni_discretizado</th>\n",
              "      <th>legajo_discretizado</th>\n",
              "      <th>posee_legajo</th>\n",
              "      <th>posee_telefono</th>\n",
              "      <th>carrera_valor</th>\n",
              "      <th>proveedor_correo</th>\n",
              "      <th>Clase</th>\n",
              "    </tr>\n",
              "  </thead>\n",
              "  <tbody>\n",
              "    <tr>\n",
              "      <th>0</th>\n",
              "      <td>hola quiero anotarme a las materias ,para el s...</td>\n",
              "      <td>0</td>\n",
              "      <td>1</td>\n",
              "      <td>8</td>\n",
              "      <td>2</td>\n",
              "      <td>2019</td>\n",
              "      <td>0</td>\n",
              "      <td>3</td>\n",
              "      <td>4</td>\n",
              "      <td>1</td>\n",
              "      <td>1</td>\n",
              "      <td>52</td>\n",
              "      <td>gmail</td>\n",
              "      <td>Vacunas Enfermería</td>\n",
              "    </tr>\n",
              "    <tr>\n",
              "      <th>1</th>\n",
              "      <td>hola buenos días! quería saber cuando voy a po...</td>\n",
              "      <td>1</td>\n",
              "      <td>2</td>\n",
              "      <td>8</td>\n",
              "      <td>2</td>\n",
              "      <td>2017</td>\n",
              "      <td>1</td>\n",
              "      <td>3</td>\n",
              "      <td>3</td>\n",
              "      <td>1</td>\n",
              "      <td>1</td>\n",
              "      <td>52</td>\n",
              "      <td>outlook</td>\n",
              "      <td>Vacunas Enfermería</td>\n",
              "    </tr>\n",
              "    <tr>\n",
              "      <th>2</th>\n",
              "      <td>hola quisiera saber si en la consulta de situa...</td>\n",
              "      <td>2</td>\n",
              "      <td>5</td>\n",
              "      <td>5</td>\n",
              "      <td>1</td>\n",
              "      <td>2017</td>\n",
              "      <td>3</td>\n",
              "      <td>8</td>\n",
              "      <td>3</td>\n",
              "      <td>1</td>\n",
              "      <td>0</td>\n",
              "      <td>54</td>\n",
              "      <td>gmail</td>\n",
              "      <td>Situación Académica</td>\n",
              "    </tr>\n",
              "    <tr>\n",
              "      <th>3</th>\n",
              "      <td>buenas noches. en mi situacion academica apare...</td>\n",
              "      <td>0</td>\n",
              "      <td>1</td>\n",
              "      <td>2</td>\n",
              "      <td>1</td>\n",
              "      <td>2018</td>\n",
              "      <td>3</td>\n",
              "      <td>5</td>\n",
              "      <td>3</td>\n",
              "      <td>1</td>\n",
              "      <td>1</td>\n",
              "      <td>5</td>\n",
              "      <td>hotmail</td>\n",
              "      <td>Situación Académica</td>\n",
              "    </tr>\n",
              "    <tr>\n",
              "      <th>4</th>\n",
              "      <td>hola,  quisiera obtener mi promedio o saber co...</td>\n",
              "      <td>5</td>\n",
              "      <td>1</td>\n",
              "      <td>8</td>\n",
              "      <td>2</td>\n",
              "      <td>2016</td>\n",
              "      <td>1</td>\n",
              "      <td>3</td>\n",
              "      <td>1</td>\n",
              "      <td>1</td>\n",
              "      <td>1</td>\n",
              "      <td>54</td>\n",
              "      <td>hotmail</td>\n",
              "      <td>Situación Académica</td>\n",
              "    </tr>\n",
              "  </tbody>\n",
              "</table>\n",
              "</div>"
            ],
            "text/plain": [
              "                                            Consulta  ...                Clase\n",
              "0  hola quiero anotarme a las materias ,para el s...  ...   Vacunas Enfermería\n",
              "1  hola buenos días! quería saber cuando voy a po...  ...   Vacunas Enfermería\n",
              "2  hola quisiera saber si en la consulta de situa...  ...  Situación Académica\n",
              "3  buenas noches. en mi situacion academica apare...  ...  Situación Académica\n",
              "4  hola,  quisiera obtener mi promedio o saber co...  ...  Situación Académica\n",
              "\n",
              "[5 rows x 14 columns]"
            ]
          },
          "metadata": {
            "tags": []
          },
          "execution_count": 629
        }
      ]
    },
    {
      "cell_type": "markdown",
      "metadata": {
        "id": "BO_wCMJfs95e"
      },
      "source": [
        "10. Guardo el csv procesado:"
      ]
    },
    {
      "cell_type": "code",
      "metadata": {
        "colab": {
          "base_uri": "https://localhost:8080/"
        },
        "id": "9YmtjSkxs86i",
        "outputId": "1c873598-61f0-4c34-b36c-72a189d424b8"
      },
      "source": [
        "from google.colab import drive\n",
        "drive.mount('drive')\n",
        "\n",
        "df.to_csv('02-Correos_1er_preprocesamiento.csv', index=False, sep='|')\n",
        "\n",
        "!cp 01-Correos_1er_preprocesamiento.csv \"drive/My Drive/\""
      ],
      "execution_count": null,
      "outputs": [
        {
          "output_type": "stream",
          "text": [
            "Drive already mounted at drive; to attempt to forcibly remount, call drive.mount(\"drive\", force_remount=True).\n"
          ],
          "name": "stdout"
        }
      ]
    }
  ]
}