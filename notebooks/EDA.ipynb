{
  "nbformat": 4,
  "nbformat_minor": 0,
  "metadata": {
    "colab": {
      "name": "EDA.ipynb",
      "provenance": [],
      "collapsed_sections": [],
      "toc_visible": true,
      "include_colab_link": true
    },
    "kernelspec": {
      "name": "python3",
      "display_name": "Python 3"
    },
    "language_info": {
      "name": "python"
    }
  },
  "cells": [
    {
      "cell_type": "markdown",
      "metadata": {
        "id": "view-in-github",
        "colab_type": "text"
      },
      "source": [
        "<a href=\"https://colab.research.google.com/github/jumafernandez/clasificacion_correos/blob/main/notebooks/EDA.ipynb\" target=\"_parent\"><img src=\"https://colab.research.google.com/assets/colab-badge.svg\" alt=\"Open In Colab\"/></a>"
      ]
    },
    {
      "cell_type": "markdown",
      "metadata": {
        "id": "50ILJehHy94s"
      },
      "source": [
        "# Análisis Exploratorio de datos: Dataset consolidado\n",
        "\n",
        "__Título:__ Etiquetado semi-supervisado multiclase de correos electrónicos a partir de estrategias de extracción de características y _Elasticsearch_\n",
        "\n",
        "__Autores:__ Juan Manuel Fernandez, Marcelo Errecalde\n",
        "\n",
        "En esta notebook se consolidan las clases de los correos que forman parte del trabajo dado que se encontraron clases solapadas y ejemplos mal clasificados:"
      ]
    },
    {
      "cell_type": "markdown",
      "metadata": {
        "id": "DnV1ANH0yYRX"
      },
      "source": [
        "## 0. Misceláneos:"
      ]
    },
    {
      "cell_type": "markdown",
      "metadata": {
        "id": "jEMfYb7yLN7f"
      },
      "source": [
        "### Descarga de librerias necesarias"
      ]
    },
    {
      "cell_type": "code",
      "metadata": {
        "id": "XC4t_GNWMRnF",
        "colab": {
          "base_uri": "https://localhost:8080/"
        },
        "outputId": "a3f00c08-5d16-4ca6-fd6b-78f017948d83"
      },
      "source": [
        "!pip install requests\n",
        "!pip install wget"
      ],
      "execution_count": 1,
      "outputs": [
        {
          "output_type": "stream",
          "name": "stdout",
          "text": [
            "Requirement already satisfied: requests in /usr/local/lib/python3.7/dist-packages (2.23.0)\n",
            "Requirement already satisfied: certifi>=2017.4.17 in /usr/local/lib/python3.7/dist-packages (from requests) (2021.5.30)\n",
            "Requirement already satisfied: chardet<4,>=3.0.2 in /usr/local/lib/python3.7/dist-packages (from requests) (3.0.4)\n",
            "Requirement already satisfied: urllib3!=1.25.0,!=1.25.1,<1.26,>=1.21.1 in /usr/local/lib/python3.7/dist-packages (from requests) (1.24.3)\n",
            "Requirement already satisfied: idna<3,>=2.5 in /usr/local/lib/python3.7/dist-packages (from requests) (2.10)\n",
            "Requirement already satisfied: wget in /usr/local/lib/python3.7/dist-packages (3.2)\n"
          ]
        }
      ]
    },
    {
      "cell_type": "markdown",
      "metadata": {
        "id": "W7QUw7BAFQU_"
      },
      "source": [
        "### Se carga el dataset\n",
        "\n",
        "Se carga el dataset en un dataframe:"
      ]
    },
    {
      "cell_type": "code",
      "metadata": {
        "id": "IT7Z3BRdE7W1"
      },
      "source": [
        "# Descargo los correos ya etiquetados\n",
        "from os import path\n",
        "import pandas as pd\n",
        "\n",
        "if not (path.exists('correos-train-80.csv')):\n",
        "    !wget https://raw.githubusercontent.com/jumafernandez/clasificacion_correos/main/data/50jaiio/correos-train-80.csv\n",
        "\n",
        "if not (path.exists('correos-test-20.csv')):\n",
        "    !wget https://raw.githubusercontent.com/jumafernandez/clasificacion_correos/main/data/50jaiio/correos-test-20.csv\n",
        "\n",
        "# Cargo todo el conjunto de correos en dos dataframes\n",
        "correos_train = pd.read_csv('correos-train-80.csv')\n",
        "correos_test = pd.read_csv('correos-test-20.csv')"
      ],
      "execution_count": 2,
      "outputs": []
    },
    {
      "cell_type": "code",
      "metadata": {
        "colab": {
          "base_uri": "https://localhost:8080/"
        },
        "id": "7QZAkF1bFbdA",
        "outputId": "023f1656-2d55-4081-9200-72f3e3bff72e"
      },
      "source": [
        "import pandas as pd\n",
        "\n",
        "# Cargo TODOS los correos en un dataframe\n",
        "correos = pd.concat([correos_train, correos_test], ignore_index=True)\n",
        "\n",
        "correos.shape"
      ],
      "execution_count": 3,
      "outputs": [
        {
          "output_type": "execute_result",
          "data": {
            "text/plain": [
              "(1000, 24)"
            ]
          },
          "metadata": {},
          "execution_count": 3
        }
      ]
    },
    {
      "cell_type": "code",
      "metadata": {
        "colab": {
          "base_uri": "https://localhost:8080/",
          "height": 598
        },
        "id": "lkx6bIEpFhuN",
        "outputId": "9ef89ab5-1405-4d54-cdc8-4289db4be638"
      },
      "source": [
        "correos.head()"
      ],
      "execution_count": 4,
      "outputs": [
        {
          "output_type": "execute_result",
          "data": {
            "text/html": [
              "<div>\n",
              "<style scoped>\n",
              "    .dataframe tbody tr th:only-of-type {\n",
              "        vertical-align: middle;\n",
              "    }\n",
              "\n",
              "    .dataframe tbody tr th {\n",
              "        vertical-align: top;\n",
              "    }\n",
              "\n",
              "    .dataframe thead th {\n",
              "        text-align: right;\n",
              "    }\n",
              "</style>\n",
              "<table border=\"1\" class=\"dataframe\">\n",
              "  <thead>\n",
              "    <tr style=\"text-align: right;\">\n",
              "      <th></th>\n",
              "      <th>Consulta</th>\n",
              "      <th>dia_semana</th>\n",
              "      <th>semana_del_mes</th>\n",
              "      <th>mes</th>\n",
              "      <th>cuatrimestre</th>\n",
              "      <th>anio</th>\n",
              "      <th>hora_discretizada</th>\n",
              "      <th>dni_discretizado</th>\n",
              "      <th>legajo_discretizado</th>\n",
              "      <th>posee_legajo</th>\n",
              "      <th>posee_telefono</th>\n",
              "      <th>carrera_valor</th>\n",
              "      <th>proveedor_correo</th>\n",
              "      <th>cantidad_caracteres</th>\n",
              "      <th>proporcion_mayusculas</th>\n",
              "      <th>proporcion_letras</th>\n",
              "      <th>cantidad_tildes</th>\n",
              "      <th>cantidad_palabras</th>\n",
              "      <th>cantidad_palabras_cortas</th>\n",
              "      <th>proporcion_palabras_distintas</th>\n",
              "      <th>frecuencia_signos_puntuacion</th>\n",
              "      <th>cantidad_oraciones</th>\n",
              "      <th>utiliza_codigo_asignatura</th>\n",
              "      <th>clase</th>\n",
              "    </tr>\n",
              "  </thead>\n",
              "  <tbody>\n",
              "    <tr>\n",
              "      <th>0</th>\n",
              "      <td>quisiera saber porque no tengo el numero de le...</td>\n",
              "      <td>6</td>\n",
              "      <td>1</td>\n",
              "      <td>2</td>\n",
              "      <td>1</td>\n",
              "      <td>2016</td>\n",
              "      <td>3</td>\n",
              "      <td>5</td>\n",
              "      <td>0</td>\n",
              "      <td>0</td>\n",
              "      <td>0</td>\n",
              "      <td>17</td>\n",
              "      <td>4</td>\n",
              "      <td>135</td>\n",
              "      <td>0.0</td>\n",
              "      <td>0.822222</td>\n",
              "      <td>0</td>\n",
              "      <td>23</td>\n",
              "      <td>10</td>\n",
              "      <td>0.956522</td>\n",
              "      <td>0.014815</td>\n",
              "      <td>1</td>\n",
              "      <td>0</td>\n",
              "      <td>12</td>\n",
              "    </tr>\n",
              "    <tr>\n",
              "      <th>1</th>\n",
              "      <td>quería cambiarme al prof. de educ. física. qui...</td>\n",
              "      <td>0</td>\n",
              "      <td>1</td>\n",
              "      <td>4</td>\n",
              "      <td>1</td>\n",
              "      <td>2016</td>\n",
              "      <td>0</td>\n",
              "      <td>3</td>\n",
              "      <td>3</td>\n",
              "      <td>1</td>\n",
              "      <td>1</td>\n",
              "      <td>55</td>\n",
              "      <td>6</td>\n",
              "      <td>259</td>\n",
              "      <td>0.0</td>\n",
              "      <td>0.795367</td>\n",
              "      <td>8</td>\n",
              "      <td>47</td>\n",
              "      <td>27</td>\n",
              "      <td>0.829787</td>\n",
              "      <td>0.023166</td>\n",
              "      <td>5</td>\n",
              "      <td>0</td>\n",
              "      <td>1</td>\n",
              "    </tr>\n",
              "    <tr>\n",
              "      <th>2</th>\n",
              "      <td>hola. quiero saber en que condición estoy para...</td>\n",
              "      <td>3</td>\n",
              "      <td>3</td>\n",
              "      <td>2</td>\n",
              "      <td>1</td>\n",
              "      <td>2019</td>\n",
              "      <td>0</td>\n",
              "      <td>1</td>\n",
              "      <td>1</td>\n",
              "      <td>1</td>\n",
              "      <td>1</td>\n",
              "      <td>27</td>\n",
              "      <td>4</td>\n",
              "      <td>191</td>\n",
              "      <td>0.0</td>\n",
              "      <td>0.780105</td>\n",
              "      <td>1</td>\n",
              "      <td>35</td>\n",
              "      <td>19</td>\n",
              "      <td>0.885714</td>\n",
              "      <td>0.036649</td>\n",
              "      <td>4</td>\n",
              "      <td>0</td>\n",
              "      <td>15</td>\n",
              "    </tr>\n",
              "    <tr>\n",
              "      <th>3</th>\n",
              "      <td>estimados, no puedo inscribirme a las cursadas...</td>\n",
              "      <td>2</td>\n",
              "      <td>4</td>\n",
              "      <td>2</td>\n",
              "      <td>1</td>\n",
              "      <td>2018</td>\n",
              "      <td>3</td>\n",
              "      <td>1</td>\n",
              "      <td>1</td>\n",
              "      <td>1</td>\n",
              "      <td>1</td>\n",
              "      <td>6</td>\n",
              "      <td>13</td>\n",
              "      <td>242</td>\n",
              "      <td>0.0</td>\n",
              "      <td>0.805785</td>\n",
              "      <td>1</td>\n",
              "      <td>41</td>\n",
              "      <td>22</td>\n",
              "      <td>0.829268</td>\n",
              "      <td>0.028926</td>\n",
              "      <td>2</td>\n",
              "      <td>0</td>\n",
              "      <td>15</td>\n",
              "    </tr>\n",
              "    <tr>\n",
              "      <th>4</th>\n",
              "      <td>estoy tratando de realizar la prescripción on-...</td>\n",
              "      <td>4</td>\n",
              "      <td>4</td>\n",
              "      <td>5</td>\n",
              "      <td>1</td>\n",
              "      <td>2018</td>\n",
              "      <td>3</td>\n",
              "      <td>6</td>\n",
              "      <td>0</td>\n",
              "      <td>0</td>\n",
              "      <td>1</td>\n",
              "      <td>0</td>\n",
              "      <td>4</td>\n",
              "      <td>141</td>\n",
              "      <td>0.0</td>\n",
              "      <td>0.808511</td>\n",
              "      <td>3</td>\n",
              "      <td>26</td>\n",
              "      <td>14</td>\n",
              "      <td>0.846154</td>\n",
              "      <td>0.007092</td>\n",
              "      <td>1</td>\n",
              "      <td>0</td>\n",
              "      <td>11</td>\n",
              "    </tr>\n",
              "  </tbody>\n",
              "</table>\n",
              "</div>"
            ],
            "text/plain": [
              "                                            Consulta  ...  clase\n",
              "0  quisiera saber porque no tengo el numero de le...  ...     12\n",
              "1  quería cambiarme al prof. de educ. física. qui...  ...      1\n",
              "2  hola. quiero saber en que condición estoy para...  ...     15\n",
              "3  estimados, no puedo inscribirme a las cursadas...  ...     15\n",
              "4  estoy tratando de realizar la prescripción on-...  ...     11\n",
              "\n",
              "[5 rows x 24 columns]"
            ]
          },
          "metadata": {},
          "execution_count": 4
        }
      ]
    },
    {
      "cell_type": "markdown",
      "metadata": {
        "id": "-luuHpFuFuvj"
      },
      "source": [
        "## 1. EDA (Análisis exploratorio de datos)\n",
        "\n",
        "Se generan gráficos para el análisis exploratorio. Primero se cargan las librerías gráficas:"
      ]
    },
    {
      "cell_type": "code",
      "metadata": {
        "id": "EpGtjCPXQk5T"
      },
      "source": [
        "import pandas as pd\n",
        "import seaborn as sns\n",
        "import numpy\n",
        "import matplotlib.pyplot as plt"
      ],
      "execution_count": 5,
      "outputs": []
    },
    {
      "cell_type": "markdown",
      "metadata": {
        "id": "QjXYh4X9GD6w"
      },
      "source": [
        "### 1.1 Gráfico del día de la semana"
      ]
    },
    {
      "cell_type": "code",
      "metadata": {
        "colab": {
          "base_uri": "https://localhost:8080/",
          "height": 352
        },
        "id": "Q18HH6urGAmu",
        "outputId": "f580cf0d-b342-418e-ec13-d4866d4bdb98"
      },
      "source": [
        "dias_letras = numpy.array(['Lunes', 'Martes', 'Miércoles', 'Jueves', 'Viernes', 'Sábado', 'Domingo'])\n",
        "dia_numeros = list(correos['dia_semana'])\n",
        "\n",
        "dia_letras_correos = dias_letras[dia_numeros]\n",
        "\n",
        "sns.countplot(dia_letras_correos, \n",
        "              palette=\"viridis\", \n",
        "              order=dias_letras);\n",
        "plt.xlabel(\"Día de la semana\")\n",
        "plt.ylabel(\"Cantidad de correos\")\n",
        "\n"
      ],
      "execution_count": 6,
      "outputs": [
        {
          "output_type": "stream",
          "name": "stderr",
          "text": [
            "/usr/local/lib/python3.7/dist-packages/seaborn/_decorators.py:43: FutureWarning: Pass the following variable as a keyword arg: x. From version 0.12, the only valid positional argument will be `data`, and passing other arguments without an explicit keyword will result in an error or misinterpretation.\n",
            "  FutureWarning\n"
          ]
        },
        {
          "output_type": "execute_result",
          "data": {
            "text/plain": [
              "Text(0, 0.5, 'Cantidad de correos')"
            ]
          },
          "metadata": {},
          "execution_count": 6
        },
        {
          "output_type": "display_data",
          "data": {
            "image/png": "[encoded data removed]",
            "text/plain": [
              "<Figure size 432x288 with 1 Axes>"
            ]
          },
          "metadata": {
            "needs_background": "light"
          }
        }
      ]
    },
    {
      "cell_type": "markdown",
      "metadata": {
        "id": "JdsoTidVMwJR"
      },
      "source": [
        "### 1.2 Gráfico la semana del mes"
      ]
    },
    {
      "cell_type": "code",
      "metadata": {
        "colab": {
          "base_uri": "https://localhost:8080/",
          "height": 350
        },
        "id": "rTtSRAU9JcxP",
        "outputId": "cd751824-4898-45d8-9a77-c575a0da3aaf"
      },
      "source": [
        "semana_numeros = list(correos['semana_del_mes'])\n",
        "\n",
        "sns.countplot(semana_numeros, \n",
        "              palette=\"viridis\"); \n",
        "plt.xlabel(\"Semana del mes\")\n",
        "plt.ylabel(\"Cantidad de correos\")"
      ],
      "execution_count": 7,
      "outputs": [
        {
          "output_type": "stream",
          "name": "stderr",
          "text": [
            "/usr/local/lib/python3.7/dist-packages/seaborn/_decorators.py:43: FutureWarning: Pass the following variable as a keyword arg: x. From version 0.12, the only valid positional argument will be `data`, and passing other arguments without an explicit keyword will result in an error or misinterpretation.\n",
            "  FutureWarning\n"
          ]
        },
        {
          "output_type": "execute_result",
          "data": {
            "text/plain": [
              "Text(0, 0.5, 'Cantidad de correos')"
            ]
          },
          "metadata": {},
          "execution_count": 7
        },
        {
          "output_type": "display_data",
          "data": {
            "image/png": "[encoded data removed]",
            "text/plain": [
              "<Figure size 432x288 with 1 Axes>"
            ]
          },
          "metadata": {
            "needs_background": "light"
          }
        }
      ]
    },
    {
      "cell_type": "markdown",
      "metadata": {
        "id": "A2p1qMKoGBTn"
      },
      "source": [
        "### 1.3 Mes de la consulta"
      ]
    },
    {
      "cell_type": "code",
      "metadata": {
        "colab": {
          "base_uri": "https://localhost:8080/",
          "height": 388
        },
        "id": "kKzdBOcRGBbP",
        "outputId": "ebe6703e-c62b-4cc2-fcb1-de721c7f0e7c"
      },
      "source": [
        "mes_letras = numpy.array(['Enero', 'Febrero', 'Marzo', 'Abril', 'Mayo', 'Junio', 'Julio', 'Agosto', 'Septiembre', 'Octubre', 'Noviembre', 'Diciembre'])\n",
        "\n",
        "correos['mes'] = correos['mes']-1\n",
        "mes_numeros = list(correos['mes'])\n",
        "\n",
        "mes_letras_correos = mes_letras[mes_numeros]\n",
        "\n",
        "sns.countplot(mes_letras_correos,\n",
        "              palette=\"viridis\", \n",
        "              order=mes_letras);\n",
        "plt.xlabel(\"Mes del año\")\n",
        "plt.xticks(rotation=45)\n",
        "plt.ylabel(\"Cantidad de correos\")\n"
      ],
      "execution_count": 8,
      "outputs": [
        {
          "output_type": "stream",
          "name": "stderr",
          "text": [
            "/usr/local/lib/python3.7/dist-packages/seaborn/_decorators.py:43: FutureWarning: Pass the following variable as a keyword arg: x. From version 0.12, the only valid positional argument will be `data`, and passing other arguments without an explicit keyword will result in an error or misinterpretation.\n",
            "  FutureWarning\n"
          ]
        },
        {
          "output_type": "execute_result",
          "data": {
            "text/plain": [
              "Text(0, 0.5, 'Cantidad de correos')"
            ]
          },
          "metadata": {},
          "execution_count": 8
        },
        {
          "output_type": "display_data",
          "data": {
            "image/png": "[encoded data removed]",
            "text/plain": [
              "<Figure size 432x288 with 1 Axes>"
            ]
          },
          "metadata": {
            "needs_background": "light"
          }
        }
      ]
    },
    {
      "cell_type": "markdown",
      "metadata": {
        "id": "XTIn9ktbGBiy"
      },
      "source": [
        "### 1.4 Año de la consulta"
      ]
    },
    {
      "cell_type": "code",
      "metadata": {
        "colab": {
          "base_uri": "https://localhost:8080/",
          "height": 248
        },
        "id": "QKQoaMIGGBqK",
        "outputId": "544955dd-20c2-46df-d283-9e31784fd848"
      },
      "source": [
        "#define data\n",
        "data = list(correos['anio'].value_counts().reset_index(drop=True))\n",
        "labels = list(pd.Series(correos['anio'].unique()))\n",
        "\n",
        "#define Seaborn color palette to use\n",
        "colors = sns.color_palette('viridis')\n",
        "\n",
        "#create pie chart\n",
        "plt.pie(data, labels = labels, colors = colors, autopct='%.0f%%')\n",
        "plt.show()"
      ],
      "execution_count": 9,
      "outputs": [
        {
          "output_type": "display_data",
          "data": {
            "image/png": "[encoded data removed]",
            "text/plain": [
              "<Figure size 432x288 with 1 Axes>"
            ]
          },
          "metadata": {}
        }
      ]
    },
    {
      "cell_type": "markdown",
      "metadata": {
        "id": "tnt53cl7aNIz"
      },
      "source": [
        "### 1.5 Serie de tiempo con la base de consultas completa"
      ]
    },
    {
      "cell_type": "code",
      "metadata": {
        "colab": {
          "base_uri": "https://localhost:8080/"
        },
        "id": "ogQDSV-daMj7",
        "outputId": "dac14ea7-91a9-4118-d93c-4b6c6dbf50d0"
      },
      "source": [
        "from google.colab import drive\n",
        "drive.mount('drive')\n",
        "!cp \"drive/My Drive/correos-procesados.csv\" correos-procesados.csv"
      ],
      "execution_count": 10,
      "outputs": [
        {
          "output_type": "stream",
          "name": "stdout",
          "text": [
            "Drive already mounted at drive; to attempt to forcibly remount, call drive.mount(\"drive\", force_remount=True).\n"
          ]
        }
      ]
    },
    {
      "cell_type": "code",
      "metadata": {
        "colab": {
          "base_uri": "https://localhost:8080/"
        },
        "id": "aEzm-KmhrogW",
        "outputId": "0ad5e9e9-2a44-43a2-9d0c-26c115365c0b"
      },
      "source": [
        "# Cargo los datos de TODA LA SERIE en un df\n",
        "df_correos_todos = pd.read_csv('correos-procesados.csv')\n",
        "df_correos_todos.shape"
      ],
      "execution_count": 11,
      "outputs": [
        {
          "output_type": "execute_result",
          "data": {
            "text/plain": [
              "(19776, 10)"
            ]
          },
          "metadata": {},
          "execution_count": 11
        }
      ]
    },
    {
      "cell_type": "code",
      "metadata": {
        "id": "We9jAyGer1e2"
      },
      "source": [
        "# Se eliminan los datos que no son fechas\n",
        "correos_por_fecha = pd.to_datetime(df_correos_todos['fecha'], errors='coerce')"
      ],
      "execution_count": 12,
      "outputs": []
    },
    {
      "cell_type": "code",
      "metadata": {
        "id": "UUCNdvXV_rAP"
      },
      "source": [
        "# Se agrupan por mes los correos\n",
        "correos_por_mes = correos_por_fecha.groupby(correos_por_fecha.dt.to_period('Q')).agg('count')"
      ],
      "execution_count": 13,
      "outputs": []
    },
    {
      "cell_type": "code",
      "metadata": {
        "id": "djG6iJ4MkzEB"
      },
      "source": [
        "correos['fecha'] = '01-' + correos['mes'].astype(str) + '-' + correos['anio'].astype(str)\n",
        "\n",
        "correos_et_por_fecha = pd.to_datetime(correos['fecha'], errors='coerce')\n",
        "\n",
        "# Se agrupan por mes los correos\n",
        "correos_et_por_mes = correos_et_por_fecha.groupby(correos_et_por_fecha.dt.to_period('Q')).agg('count')"
      ],
      "execution_count": 22,
      "outputs": []
    },
    {
      "cell_type": "code",
      "metadata": {
        "colab": {
          "base_uri": "https://localhost:8080/",
          "height": 379
        },
        "id": "6Z4fLejlr7PD",
        "outputId": "8ba08c13-74b4-4b3f-9629-96a447a1b6a2"
      },
      "source": [
        "plt.figure(figsize=(10, 5))\n",
        "plt.grid()\n",
        "plt.plot(correos_por_mes.index.array.to_timestamp(), \n",
        "         correos_por_mes.values, \n",
        "         linestyle = 'solid')\n",
        "\n",
        "plt.xticks(correos_por_mes.index.array.to_timestamp(), correos_por_mes.index)\n",
        "plt.xticks(rotation=45)"
      ],
      "execution_count": 24,
      "outputs": [
        {
          "output_type": "execute_result",
          "data": {
            "text/plain": [
              "(array([735599., 735964., 736330., 736695., 737060.]),\n",
              " <a list of 5 Text major ticklabel objects>)"
            ]
          },
          "metadata": {},
          "execution_count": 24
        },
        {
          "output_type": "display_data",
          "data": {
            "image/png": "[encoded data removed]",
            "text/plain": [
              "<Figure size 720x360 with 1 Axes>"
            ]
          },
          "metadata": {
            "needs_background": "light"
          }
        }
      ]
    },
    {
      "cell_type": "code",
      "metadata": {
        "colab": {
          "base_uri": "https://localhost:8080/"
        },
        "id": "XnoPWAMVvTDZ",
        "outputId": "8c5d47f0-5225-47ca-e3bf-360e8a219a26"
      },
      "source": [
        "colors = sns.color_palette('viridis')\n",
        "\n",
        "colors.as_hex\n",
        "\n"
      ],
      "execution_count": 28,
      "outputs": [
        {
          "output_type": "execute_result",
          "data": {
            "text/plain": [
              "<bound method _ColorPalette.as_hex of [(0.275191, 0.194905, 0.496005), (0.212395, 0.359683, 0.55171), (0.153364, 0.497, 0.557724), (0.122312, 0.633153, 0.530398), (0.288921, 0.758394, 0.428426), (0.626579, 0.854645, 0.223353)]>"
            ]
          },
          "metadata": {},
          "execution_count": 28
        }
      ]
    },
    {
      "cell_type": "code",
      "metadata": {
        "colab": {
          "base_uri": "https://localhost:8080/",
          "height": 296
        },
        "id": "r1exfMu8eTPE",
        "outputId": "1f49eefb-c318-44f1-b632-a76730a1f159"
      },
      "source": [
        "# create figure and axis objects with subplots()\n",
        "fig, ax = plt.subplots()\n",
        "\n",
        "# make a plot\n",
        "plt.figure(figsize=(10, 5))\n",
        "ax.grid()\n",
        "ax.plot(correos_por_mes.index.array.to_timestamp(), \n",
        "         correos_por_mes.values, \n",
        "         linestyle = 'solid',\n",
        "         color=(0.275191, 0.194905, 0.496005), \n",
        "         marker=\"o\")\n",
        "\n",
        "# set x-axis label\n",
        "ax.set_xlabel(\"Cuatrimestre\")\n",
        "\n",
        "#plt.xticks(correos_por_mes.index.array.to_timestamp(), correos_por_mes.index)\n",
        "#plt.xticks(rotation=45)\n",
        "\n",
        "# set y-axis label\n",
        "ax.set_ylabel(\"Serie completa\",color=(0.275191, 0.194905, 0.496005))\n",
        "\n",
        "# twin object for two different y-axis on the sample plot\n",
        "ax2=ax.twinx()\n",
        "\n",
        "# make a plot with different y-axis using second axis object\n",
        "ax2.plot(correos_et_por_mes.index.array.to_timestamp(), \n",
        "         correos_et_por_mes.values, \n",
        "         linestyle = 'solid',\n",
        "         color=(0.626579, 0.854645, 0.223353), \n",
        "         marker=\"o\")\n",
        "\n",
        "ax2.set_ylabel(\"Correos etiquetados\", color=(0.626579, 0.854645, 0.223353))\n",
        "\n",
        "plt.show()"
      ],
      "execution_count": 30,
      "outputs": [
        {
          "output_type": "display_data",
          "data": {
            "image/png": "[encoded data removed]",
            "text/plain": [
              "<Figure size 432x288 with 2 Axes>"
            ]
          },
          "metadata": {
            "needs_background": "light"
          }
        },
        {
          "output_type": "display_data",
          "data": {
            "text/plain": [
              "<Figure size 720x360 with 0 Axes>"
            ]
          },
          "metadata": {}
        }
      ]
    },
    {
      "cell_type": "markdown",
      "metadata": {
        "id": "587bWqGqVeki"
      },
      "source": [
        "### 5.1 Histograma de Clases\n",
        "\n",
        "A continuación se plantea una función para graficar el histograma de clases (gráfico de barras con frecuencia observada por clase):\n"
      ]
    },
    {
      "cell_type": "code",
      "metadata": {
        "colab": {
          "base_uri": "https://localhost:8080/",
          "height": 345
        },
        "id": "UsOvpuL6VrJ8",
        "outputId": "cda684b4-daf6-4aea-a9f9-484b1ccdff82"
      },
      "source": [
        "import matplotlib.pyplot as plt\n",
        "import seaborn as sns\n",
        "import numpy as np\n",
        "%matplotlib inline\n",
        "\n",
        "def hist_clases(serie_clases, desc_plot, filename_plot):\n",
        "  \"\"\"\n",
        "  Se plotean las clases en función de la distribución de la frecuencia\n",
        "  observada en cada dataset\n",
        "  \"\"\"\n",
        "\n",
        "  # Set figure size\n",
        "  plt.figure(figsize=(14,5))\n",
        "\n",
        "  ax = sns.histplot(serie_clases, kde=True, stat='count', \n",
        "                    bins=serie_clases.unique(), binwidth=0.06, \n",
        "                    color='#c8c6a7', alpha=0.7)\n",
        "\n",
        "  ax.set_xticklabels(serie_clases.unique(),\n",
        "                    rotation=-45, \n",
        "                    horizontalalignment='left', fontweight='light')\n",
        "\n",
        "  for p in ax.patches:\n",
        "      ax.annotate(f'{p.get_height():.0f}\\n',\n",
        "                  (p.get_x() + p.get_width() / 2, p.get_height()), \n",
        "                  ha='center', va='center', color='black')\n",
        "\n",
        "  # Quito el nombre de los ejes (de forma rústica)\n",
        "  plt.xlabel('', fontsize=12)\n",
        "  plt.ylabel('', fontsize=12)\n",
        "\n",
        "  # Guardo el plot en un png\n",
        "  plt.savefig(filename_plot, optimize=True, transparent=True, bbox_inches = 'tight')\n",
        "\n",
        "  # Muestro el gráfico con una descripción\n",
        "  print(f'\\t\\t\\tDistribución de clases para el {desc_plot}')\n",
        "  plt.show()  \n",
        "\n",
        "hist_clases(correos['clase'], 'Total dataset', 'histograma_total.png')"
      ],
      "execution_count": 15,
      "outputs": [
        {
          "output_type": "stream",
          "name": "stdout",
          "text": [
            "\t\t\tDistribución de clases para el Total dataset\n"
          ]
        },
        {
          "output_type": "display_data",
          "data": {
            "image/png": "[encoded data removed]",
            "text/plain": [
              "<Figure size 1008x360 with 1 Axes>"
            ]
          },
          "metadata": {
            "needs_background": "light"
          }
        }
      ]
    },
    {
      "cell_type": "code",
      "metadata": {
        "colab": {
          "base_uri": "https://localhost:8080/"
        },
        "id": "kbT7RSfDV90Y",
        "outputId": "02020146-f2a6-4087-a565-36e39a823dc1"
      },
      "source": [
        "correos.shape"
      ],
      "execution_count": 16,
      "outputs": [
        {
          "output_type": "execute_result",
          "data": {
            "text/plain": [
              "(1000, 24)"
            ]
          },
          "metadata": {},
          "execution_count": 16
        }
      ]
    },
    {
      "cell_type": "markdown",
      "metadata": {
        "id": "9Eyte7nmbxOk"
      },
      "source": [
        "## 6. Train/Test dataset\n",
        "\n",
        "Ahora, se splitean los datasets a en una proporción 80/20. Estos datasets se utilizarán para _feature extraction_ y para la generación de los modelos:"
      ]
    },
    {
      "cell_type": "code",
      "metadata": {
        "id": "CPKRnnROcAQL",
        "colab": {
          "base_uri": "https://localhost:8080/",
          "height": 231
        },
        "outputId": "ca0de3bb-5704-4c31-cfc3-0fb89a1d9c8d"
      },
      "source": [
        "# Separo datos de entrenamiento y testing\n",
        "from sklearn.model_selection import train_test_split\n",
        "\n",
        "X = correos_etiquetados.drop(columns=['clase'])\n",
        "y = correos_etiquetados['clase']\n",
        "\n",
        "# Separo en 80-20 entrenamiento/validación y testeo\n",
        "X_train, X_test, y_train, y_test = train_test_split(X, y, random_state=0, test_size=0.2, stratify=y)"
      ],
      "execution_count": 17,
      "outputs": [
        {
          "output_type": "error",
          "ename": "NameError",
          "evalue": "ignored",
          "traceback": [
            "\u001b[0;31m---------------------------------------------------------------------------\u001b[0m",
            "\u001b[0;31mNameError\u001b[0m                                 Traceback (most recent call last)",
            "\u001b[0;32m<ipython-input-17-057b54bc7d10>\u001b[0m in \u001b[0;36m<module>\u001b[0;34m()\u001b[0m\n\u001b[1;32m      2\u001b[0m \u001b[0;32mfrom\u001b[0m \u001b[0msklearn\u001b[0m\u001b[0;34m.\u001b[0m\u001b[0mmodel_selection\u001b[0m \u001b[0;32mimport\u001b[0m \u001b[0mtrain_test_split\u001b[0m\u001b[0;34m\u001b[0m\u001b[0;34m\u001b[0m\u001b[0m\n\u001b[1;32m      3\u001b[0m \u001b[0;34m\u001b[0m\u001b[0m\n\u001b[0;32m----> 4\u001b[0;31m \u001b[0mX\u001b[0m \u001b[0;34m=\u001b[0m \u001b[0mcorreos_etiquetados\u001b[0m\u001b[0;34m.\u001b[0m\u001b[0mdrop\u001b[0m\u001b[0;34m(\u001b[0m\u001b[0mcolumns\u001b[0m\u001b[0;34m=\u001b[0m\u001b[0;34m[\u001b[0m\u001b[0;34m'clase'\u001b[0m\u001b[0;34m]\u001b[0m\u001b[0;34m)\u001b[0m\u001b[0;34m\u001b[0m\u001b[0;34m\u001b[0m\u001b[0m\n\u001b[0m\u001b[1;32m      5\u001b[0m \u001b[0my\u001b[0m \u001b[0;34m=\u001b[0m \u001b[0mcorreos_etiquetados\u001b[0m\u001b[0;34m[\u001b[0m\u001b[0;34m'clase'\u001b[0m\u001b[0;34m]\u001b[0m\u001b[0;34m\u001b[0m\u001b[0;34m\u001b[0m\u001b[0m\n\u001b[1;32m      6\u001b[0m \u001b[0;34m\u001b[0m\u001b[0m\n",
            "\u001b[0;31mNameError\u001b[0m: name 'correos_etiquetados' is not defined"
          ]
        }
      ]
    },
    {
      "cell_type": "markdown",
      "metadata": {
        "id": "sN_1ukCcevhI"
      },
      "source": [
        "Ahora unificamos X e y para persistir los datasets:"
      ]
    },
    {
      "cell_type": "code",
      "metadata": {
        "id": "xUm_bOKHbLJx"
      },
      "source": [
        "# Reordeno el índice para poder concatenar con el y_train e y_test\n",
        "\n",
        "# Train\n",
        "df_train = X_train.reset_index(drop=True)\n",
        "df_train['clase'] = y_train.reset_index(drop=True)\n",
        "\n",
        "# Test\n",
        "df_test = X_test.reset_index(drop=True)\n",
        "df_test['clase'] = y_test.reset_index(drop=True)"
      ],
      "execution_count": null,
      "outputs": []
    },
    {
      "cell_type": "code",
      "metadata": {
        "id": "CelpQq8p7N1h"
      },
      "source": [
        "df_test[['consulta', 'clase']].head()"
      ],
      "execution_count": null,
      "outputs": []
    },
    {
      "cell_type": "markdown",
      "metadata": {
        "id": "svtU42ole1Vo"
      },
      "source": [
        "Por último se persisten en _Drive_:"
      ]
    },
    {
      "cell_type": "code",
      "metadata": {
        "id": "u7IU3bY1ct2c"
      },
      "source": [
        "# Me autentico en Drive\n",
        "from google.colab import drive\n",
        "\n",
        "# Guardo en Drive todos los correos\n",
        "df_train.to_csv('correos-consolidado.csv', index=False)\n",
        "drive.mount('drive')\n",
        "!cp correos-consolidado.csv \"drive/My Drive/\"\n",
        "\n",
        "# Guardo en Drive los datos de entrenamiento\n",
        "df_train.to_csv('correos-train-jaiio-80.csv', index=False)\n",
        "drive.mount('drive')\n",
        "!cp correos-train-jaiio-80.csv \"drive/My Drive/\"\n",
        "\n",
        "# Guardo en Drive los datos de testeo\n",
        "df_test.to_csv('correos-test-jaiio-20.csv', index=False)\n",
        "drive.mount('drive')\n",
        "!cp correos-test-jaiio-20.csv \"drive/My Drive/\""
      ],
      "execution_count": null,
      "outputs": []
    },
    {
      "cell_type": "markdown",
      "metadata": {
        "id": "nESQ9FJxkKni"
      },
      "source": [
        "# Referencias:\n",
        "1. [Presentación](0) de apoyo al [Proyecto de Investigación](1) \"Clasificación automática de correos electrónicos\".\n",
        "\n",
        "2. Clasificacion de textos por etiquetado de palabras: [short paper](2).\n",
        "\n",
        "3. [API](3) del diccionario Collins.\n",
        "\n",
        "4. [Funciones](4) de la [API](3) del diccionario Collins.\n",
        "\n",
        "5. Librería [clusteval](5) para la evaluación KMeans.\n",
        "\n",
        "[0]:https://docs.google.com/presentation/d/1-gdZ3dUI2pAfXM6Bgau53U7G4g2Bkv6DlxGESnu7A20/edit?usp=sharing \n",
        "[1]:https://github.com/jumafernandez/clasificacion_correos \n",
        "[2]:https://www.aaai.org/Papers/AAAI/2004/AAAI04-068.pdf\n",
        "[3]:https://pypi.org/project/collins-client/\n",
        "[4]:https://api.collinsdictionary.com/api/v1/documentation/html\n",
        "[5]:https://clusteval.sdu.dk/1/mains"
      ]
    }
  ]
}