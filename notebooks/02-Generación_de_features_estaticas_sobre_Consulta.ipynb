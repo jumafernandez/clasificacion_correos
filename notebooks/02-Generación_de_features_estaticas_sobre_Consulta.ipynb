{
  "nbformat": 4,
  "nbformat_minor": 0,
  "metadata": {
    "colab": {
      "name": "02 - Generación de features estaticas sobre Consulta.ipynb",
      "provenance": [],
      "authorship_tag": "ABX9TyO3tdW/lozP968xpI5AQ7Hj",
      "include_colab_link": true
    },
    "kernelspec": {
      "name": "python3",
      "display_name": "Python 3"
    }
  },
  "cells": [
    {
      "cell_type": "markdown",
      "metadata": {
        "id": "view-in-github",
        "colab_type": "text"
      },
      "source": [
        "<a href=\"https://colab.research.google.com/github/jumafernandez/clasificacion_correos/blob/main/notebooks/02-Generaci%C3%B3n_de_features_estaticas_sobre_Consulta.ipynb\" target=\"_parent\"><img src=\"https://colab.research.google.com/assets/colab-badge.svg\" alt=\"Open In Colab\"/></a>"
      ]
    },
    {
      "cell_type": "markdown",
      "metadata": {
        "id": "l-T2aGO0vWFk"
      },
      "source": [
        "# Generación de features estáticas adicionales sobre el atributo Consulta\r\n",
        "\r\n",
        "1. Levanto el archivo con los atributos pre-procesados:"
      ]
    },
    {
      "cell_type": "code",
      "metadata": {
        "colab": {
          "base_uri": "https://localhost:8080/"
        },
        "id": "n2vEFzI4L-0u",
        "outputId": "665261d2-bd39-4754-e2e0-18befeaab336"
      },
      "source": [
        "from os import path\n",
        "import pandas as pd\n",
        "\n",
        "# En caso que no esté el archivo en Colab lo traigo\n",
        "if not(path.exists(\"02-Correos_1er_preprocesamiento.csv\")):\n",
        "  !wget https://raw.githubusercontent.com/jumafernandez/clasificacion_correos/main/data/02-Correos_1er_preprocesamiento.csv\n",
        "\n",
        "df = pd.read_csv('02-Correos_1er_preprocesamiento.csv', delimiter=\"|\")\n",
        "df.info()"
      ],
      "execution_count": 24,
      "outputs": [
        {
          "output_type": "stream",
          "text": [
            "<class 'pandas.core.frame.DataFrame'>\n",
            "RangeIndex: 1000 entries, 0 to 999\n",
            "Data columns (total 14 columns):\n",
            " #   Column               Non-Null Count  Dtype \n",
            "---  ------               --------------  ----- \n",
            " 0   Consulta             1000 non-null   object\n",
            " 1   dia_semana           1000 non-null   int64 \n",
            " 2   semana_del_mes       1000 non-null   int64 \n",
            " 3   mes                  1000 non-null   int64 \n",
            " 4   cuatrimestre         1000 non-null   int64 \n",
            " 5   anio                 1000 non-null   int64 \n",
            " 6   hora_discretizada    1000 non-null   int64 \n",
            " 7   dni_discretizado     1000 non-null   int64 \n",
            " 8   legajo_discretizado  1000 non-null   int64 \n",
            " 9   posee_legajo         1000 non-null   int64 \n",
            " 10  posee_telefono       1000 non-null   int64 \n",
            " 11  carrera_valor        1000 non-null   int64 \n",
            " 12  proveedor_correo     1000 non-null   object\n",
            " 13  Clase                1000 non-null   object\n",
            "dtypes: int64(11), object(3)\n",
            "memory usage: 109.5+ KB\n"
          ],
          "name": "stdout"
        }
      ]
    },
    {
      "cell_type": "markdown",
      "metadata": {
        "id": "tOY75hO_vAvm"
      },
      "source": [
        "2. Verifico cantidad de instancias y features:"
      ]
    },
    {
      "cell_type": "code",
      "metadata": {
        "colab": {
          "base_uri": "https://localhost:8080/"
        },
        "id": "JhrSZBFxMH1J",
        "outputId": "14027a6a-0888-4466-d9d2-913c9d3e7758"
      },
      "source": [
        "df.shape"
      ],
      "execution_count": 25,
      "outputs": [
        {
          "output_type": "execute_result",
          "data": {
            "text/plain": [
              "(1000, 14)"
            ]
          },
          "metadata": {
            "tags": []
          },
          "execution_count": 25
        }
      ]
    },
    {
      "cell_type": "markdown",
      "metadata": {
        "id": "5rRDNmZjxxwb"
      },
      "source": [
        "3. Genero las features estáticas léxicas basadas en caracteres:"
      ]
    },
    {
      "cell_type": "code",
      "metadata": {
        "id": "fJkJTstdM5YE"
      },
      "source": [
        "# Total number of characters\n",
        "def cantidad_caracteres(columna_consulta):\n",
        "  return columna_consulta.str.len()\n",
        "\n",
        "df['cantidad_caracteres'] = cantidad_caracteres(df.Consulta)\n",
        "\n",
        "# Proporcion de mayúsculas en la consulta\n",
        "def proporcion_mayusculas(consulta):\n",
        "  return sum(1 for letra in consulta if letra.isupper())\n",
        "\n",
        "df['proporcion_mayusculas'] = df['Consulta'].apply(proporcion_mayusculas)/df['cantidad_caracteres']\n",
        "\n",
        "# Proporción de letras en la consulta\n",
        "def proporcion_letras(consulta):\n",
        "  return sum(1 for letra in consulta if letra.isalpha())\n",
        "\n",
        "df['proporcion_letras'] = df['Consulta'].apply(proporcion_letras)/df['cantidad_caracteres']\n",
        "\n",
        "# Cantidad de letras con tildes\n",
        "def cantidad_tildes(consulta):\n",
        "  return sum(1 for letra in consulta if letra.lower() in ['á', 'é', 'í', 'ó', 'ú'])\n",
        "\n",
        "df['cantidad_tildes'] = df['Consulta'].apply(cantidad_tildes)"
      ],
      "execution_count": 26,
      "outputs": []
    },
    {
      "cell_type": "markdown",
      "metadata": {
        "id": "nkHCgJ6kwWdb"
      },
      "source": [
        "4. Genero las features estáticas léxicas basadas en palabras:"
      ]
    },
    {
      "cell_type": "code",
      "metadata": {
        "colab": {
          "base_uri": "https://localhost:8080/"
        },
        "id": "HuJozLmvTMxn",
        "outputId": "499f6f1f-5979-4cb2-e534-8c298faeef26"
      },
      "source": [
        "# total number of words\n",
        "def cantidad_palabras(consulta):\n",
        "  palabras = consulta.split(sep=' ')\n",
        "  return len(palabras)\n",
        "\n",
        "df['cantidad_palabras'] = df['Consulta'].apply(cantidad_palabras)\n",
        "\n",
        "# proportion of short words (less than four characters)\n",
        "def cantidad_palabras_cortas(consulta, letras_corta=4):\n",
        "  palabras = consulta.split(sep=' ')\n",
        "  return sum(1 for palabra in palabras if len(palabra) <= letras_corta)\n",
        "\n",
        "df['cantidad_palabras_cortas'] = df['Consulta'].apply(cantidad_palabras_cortas)\n",
        "\n",
        "# ratio of number of distinct words to the total number of words: |set(words)|/|words|\n",
        "def cantidad_palabras_distintas(consulta, letras_corta=4):\n",
        "  palabras = consulta.split(sep=' ')\n",
        "  return len(set(palabras))\n",
        "\n",
        "df['proporcion_palabras_distintas'] = df['Consulta'].apply(cantidad_palabras_distintas)/df['cantidad_palabras']\n",
        "df['proporcion_palabras_distintas']"
      ],
      "execution_count": 27,
      "outputs": [
        {
          "output_type": "execute_result",
          "data": {
            "text/plain": [
              "0      0.857143\n",
              "1      0.916667\n",
              "2      0.794118\n",
              "3      0.969697\n",
              "4      0.866667\n",
              "         ...   \n",
              "995    0.958333\n",
              "996    0.925926\n",
              "997    0.857143\n",
              "998    0.920000\n",
              "999    1.000000\n",
              "Name: proporcion_palabras_distintas, Length: 1000, dtype: float64"
            ]
          },
          "metadata": {
            "tags": []
          },
          "execution_count": 27
        }
      ]
    },
    {
      "cell_type": "markdown",
      "metadata": {
        "id": "IbAUWMfdweUA"
      },
      "source": [
        "5. Genero las features estáticas sintácticas:"
      ]
    },
    {
      "cell_type": "code",
      "metadata": {
        "id": "W19N3iljW7tl"
      },
      "source": [
        "# Frecuencia de signos de puntuación {,.¿?!:;’\"}\n",
        "def cantidad_signos_puntuacion(consulta):\n",
        "  signos_puntuacion = [',', '.', '¿', '?', '!', '¡', ':', ';', '\"']\n",
        "  return sum(1 for letra in consulta if letra.lower() in signos_puntuacion)\n",
        "\n",
        "df['frecuencia_signos_puntuacion'] = df['Consulta'].apply(cantidad_signos_puntuacion)/df['cantidad_caracteres']\n"
      ],
      "execution_count": 28,
      "outputs": []
    },
    {
      "cell_type": "markdown",
      "metadata": {
        "id": "0-BTCrfRwilc"
      },
      "source": [
        "6. Genero las features estáticas estructurales:"
      ]
    },
    {
      "cell_type": "code",
      "metadata": {
        "id": "KZAMGgXnYBjy"
      },
      "source": [
        "# total number of sentences\n",
        "def cantidad_oraciones(consulta):\n",
        "  if consulta.count('.')==0:\n",
        "    return 1\n",
        "  else: \n",
        "    return consulta.count('.')\n",
        "\n",
        "df['cantidad_oraciones'] = df['Consulta'].apply(cantidad_oraciones)\n",
        "\n",
        "# utiliza código de asignatura?\n",
        "def utiliza_codigo_asignatura(consulta):\n",
        "  codigo=0\n",
        "  palabras = consulta.split(sep=' ')\n",
        "  for palabra in palabras:\n",
        "    if palabra.isdigit():\n",
        "      if int(palabra)>=10000 and int(palabra)<=99999:\n",
        "        codigo=1\n",
        "  return codigo\n",
        "\n",
        "df['utiliza_codigo_asignatura'] = df['Consulta'].apply(utiliza_codigo_asignatura)"
      ],
      "execution_count": 29,
      "outputs": []
    },
    {
      "cell_type": "markdown",
      "metadata": {
        "id": "EnHcM3qyyL4c"
      },
      "source": [
        "6. Reordeno la clase para que quede última:"
      ]
    },
    {
      "cell_type": "code",
      "metadata": {
        "id": "KzLk42qLyMPm"
      },
      "source": [
        "y = df['Clase']\r\n",
        "df.drop(columns=['Clase'], inplace=True)\r\n",
        "df.insert(13, \"Clase\", y, True)"
      ],
      "execution_count": 30,
      "outputs": []
    },
    {
      "cell_type": "code",
      "metadata": {
        "colab": {
          "base_uri": "https://localhost:8080/",
          "height": 667
        },
        "id": "gyS_ASYax4P5",
        "outputId": "f52eac02-38b6-47be-afdf-70a81c30613f"
      },
      "source": [
        "df.head()"
      ],
      "execution_count": 31,
      "outputs": [
        {
          "output_type": "execute_result",
          "data": {
            "text/html": [
              "<div>\n",
              "<style scoped>\n",
              "    .dataframe tbody tr th:only-of-type {\n",
              "        vertical-align: middle;\n",
              "    }\n",
              "\n",
              "    .dataframe tbody tr th {\n",
              "        vertical-align: top;\n",
              "    }\n",
              "\n",
              "    .dataframe thead th {\n",
              "        text-align: right;\n",
              "    }\n",
              "</style>\n",
              "<table border=\"1\" class=\"dataframe\">\n",
              "  <thead>\n",
              "    <tr style=\"text-align: right;\">\n",
              "      <th></th>\n",
              "      <th>Consulta</th>\n",
              "      <th>dia_semana</th>\n",
              "      <th>semana_del_mes</th>\n",
              "      <th>mes</th>\n",
              "      <th>cuatrimestre</th>\n",
              "      <th>anio</th>\n",
              "      <th>hora_discretizada</th>\n",
              "      <th>dni_discretizado</th>\n",
              "      <th>legajo_discretizado</th>\n",
              "      <th>posee_legajo</th>\n",
              "      <th>posee_telefono</th>\n",
              "      <th>carrera_valor</th>\n",
              "      <th>proveedor_correo</th>\n",
              "      <th>Clase</th>\n",
              "      <th>cantidad_caracteres</th>\n",
              "      <th>proporcion_mayusculas</th>\n",
              "      <th>proporcion_letras</th>\n",
              "      <th>cantidad_tildes</th>\n",
              "      <th>cantidad_palabras</th>\n",
              "      <th>cantidad_palabras_cortas</th>\n",
              "      <th>proporcion_palabras_distintas</th>\n",
              "      <th>frecuencia_signos_puntuacion</th>\n",
              "      <th>cantidad_oraciones</th>\n",
              "      <th>utiliza_codigo_asignatura</th>\n",
              "    </tr>\n",
              "  </thead>\n",
              "  <tbody>\n",
              "    <tr>\n",
              "      <th>0</th>\n",
              "      <td>hola quiero anotarme a las materias ,para el s...</td>\n",
              "      <td>0</td>\n",
              "      <td>1</td>\n",
              "      <td>8</td>\n",
              "      <td>2</td>\n",
              "      <td>2019</td>\n",
              "      <td>0</td>\n",
              "      <td>3</td>\n",
              "      <td>4</td>\n",
              "      <td>1</td>\n",
              "      <td>1</td>\n",
              "      <td>52</td>\n",
              "      <td>gmail</td>\n",
              "      <td>Vacunas Enfermería</td>\n",
              "      <td>162</td>\n",
              "      <td>0.0</td>\n",
              "      <td>0.802469</td>\n",
              "      <td>0</td>\n",
              "      <td>28</td>\n",
              "      <td>12</td>\n",
              "      <td>0.857143</td>\n",
              "      <td>0.030864</td>\n",
              "      <td>1</td>\n",
              "      <td>0</td>\n",
              "    </tr>\n",
              "    <tr>\n",
              "      <th>1</th>\n",
              "      <td>hola buenos días! quería saber cuando voy a po...</td>\n",
              "      <td>1</td>\n",
              "      <td>2</td>\n",
              "      <td>8</td>\n",
              "      <td>2</td>\n",
              "      <td>2017</td>\n",
              "      <td>1</td>\n",
              "      <td>3</td>\n",
              "      <td>3</td>\n",
              "      <td>1</td>\n",
              "      <td>1</td>\n",
              "      <td>52</td>\n",
              "      <td>outlook</td>\n",
              "      <td>Vacunas Enfermería</td>\n",
              "      <td>273</td>\n",
              "      <td>0.0</td>\n",
              "      <td>0.809524</td>\n",
              "      <td>5</td>\n",
              "      <td>48</td>\n",
              "      <td>26</td>\n",
              "      <td>0.916667</td>\n",
              "      <td>0.018315</td>\n",
              "      <td>3</td>\n",
              "      <td>0</td>\n",
              "    </tr>\n",
              "    <tr>\n",
              "      <th>2</th>\n",
              "      <td>hola quisiera saber si en la consulta de situa...</td>\n",
              "      <td>2</td>\n",
              "      <td>5</td>\n",
              "      <td>5</td>\n",
              "      <td>1</td>\n",
              "      <td>2017</td>\n",
              "      <td>3</td>\n",
              "      <td>8</td>\n",
              "      <td>3</td>\n",
              "      <td>1</td>\n",
              "      <td>0</td>\n",
              "      <td>54</td>\n",
              "      <td>gmail</td>\n",
              "      <td>Situación Académica</td>\n",
              "      <td>180</td>\n",
              "      <td>0.0</td>\n",
              "      <td>0.811111</td>\n",
              "      <td>5</td>\n",
              "      <td>34</td>\n",
              "      <td>19</td>\n",
              "      <td>0.794118</td>\n",
              "      <td>0.005556</td>\n",
              "      <td>1</td>\n",
              "      <td>0</td>\n",
              "    </tr>\n",
              "    <tr>\n",
              "      <th>3</th>\n",
              "      <td>buenas noches. en mi situacion academica apare...</td>\n",
              "      <td>0</td>\n",
              "      <td>1</td>\n",
              "      <td>2</td>\n",
              "      <td>1</td>\n",
              "      <td>2018</td>\n",
              "      <td>3</td>\n",
              "      <td>5</td>\n",
              "      <td>3</td>\n",
              "      <td>1</td>\n",
              "      <td>1</td>\n",
              "      <td>5</td>\n",
              "      <td>hotmail</td>\n",
              "      <td>Situación Académica</td>\n",
              "      <td>185</td>\n",
              "      <td>0.0</td>\n",
              "      <td>0.789189</td>\n",
              "      <td>1</td>\n",
              "      <td>33</td>\n",
              "      <td>16</td>\n",
              "      <td>0.969697</td>\n",
              "      <td>0.027027</td>\n",
              "      <td>5</td>\n",
              "      <td>0</td>\n",
              "    </tr>\n",
              "    <tr>\n",
              "      <th>4</th>\n",
              "      <td>hola,  quisiera obtener mi promedio o saber co...</td>\n",
              "      <td>5</td>\n",
              "      <td>1</td>\n",
              "      <td>8</td>\n",
              "      <td>2</td>\n",
              "      <td>2016</td>\n",
              "      <td>1</td>\n",
              "      <td>3</td>\n",
              "      <td>1</td>\n",
              "      <td>1</td>\n",
              "      <td>1</td>\n",
              "      <td>54</td>\n",
              "      <td>hotmail</td>\n",
              "      <td>Situación Académica</td>\n",
              "      <td>78</td>\n",
              "      <td>0.0</td>\n",
              "      <td>0.782051</td>\n",
              "      <td>0</td>\n",
              "      <td>15</td>\n",
              "      <td>7</td>\n",
              "      <td>0.866667</td>\n",
              "      <td>0.038462</td>\n",
              "      <td>2</td>\n",
              "      <td>0</td>\n",
              "    </tr>\n",
              "  </tbody>\n",
              "</table>\n",
              "</div>"
            ],
            "text/plain": [
              "                                            Consulta  ...  utiliza_codigo_asignatura\n",
              "0  hola quiero anotarme a las materias ,para el s...  ...                          0\n",
              "1  hola buenos días! quería saber cuando voy a po...  ...                          0\n",
              "2  hola quisiera saber si en la consulta de situa...  ...                          0\n",
              "3  buenas noches. en mi situacion academica apare...  ...                          0\n",
              "4  hola,  quisiera obtener mi promedio o saber co...  ...                          0\n",
              "\n",
              "[5 rows x 24 columns]"
            ]
          },
          "metadata": {
            "tags": []
          },
          "execution_count": 31
        }
      ]
    },
    {
      "cell_type": "markdown",
      "metadata": {
        "id": "d2KHItS3yblH"
      },
      "source": [
        "7. Guardo el csv pre-procesado:"
      ]
    },
    {
      "cell_type": "code",
      "metadata": {
        "colab": {
          "base_uri": "https://localhost:8080/"
        },
        "id": "tnGzdDS9yU7m",
        "outputId": "1b6dddbd-740a-4ef7-e206-7559e9858eb7"
      },
      "source": [
        "from google.colab import drive\r\n",
        "drive.mount('drive')\r\n",
        "\r\n",
        "df.to_csv('03-Correos_variables_estaticas.csv', index=False, sep='|')\r\n",
        "\r\n",
        "!cp 03-Correos_variables_estaticas.csv \"drive/My Drive/\""
      ],
      "execution_count": 32,
      "outputs": [
        {
          "output_type": "stream",
          "text": [
            "Drive already mounted at drive; to attempt to forcibly remount, call drive.mount(\"drive\", force_remount=True).\n"
          ],
          "name": "stdout"
        }
      ]
    }
  ]
}