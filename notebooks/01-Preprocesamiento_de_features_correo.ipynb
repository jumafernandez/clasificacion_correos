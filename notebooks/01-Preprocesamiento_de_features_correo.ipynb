{
  "nbformat": 4,
  "nbformat_minor": 0,
  "metadata": {
    "colab": {
      "name": "01-Preprocesamiento de features-correo.ipynb",
      "provenance": [],
      "authorship_tag": "ABX9TyOeKymN4aDRQyPCqdoQW/Pi",
      "include_colab_link": true
    },
    "kernelspec": {
      "name": "python3",
      "display_name": "Python 3"
    }
  },
  "cells": [
    {
      "cell_type": "markdown",
      "metadata": {
        "id": "view-in-github",
        "colab_type": "text"
      },
      "source": [
        "<a href=\"https://colab.research.google.com/github/jumafernandez/clasificacion_correos/blob/main/notebooks/01-Preprocesamiento_de_features_correo.ipynb\" target=\"_parent\"><img src=\"https://colab.research.google.com/assets/colab-badge.svg\" alt=\"Open In Colab\"/></a>"
      ]
    },
    {
      "cell_type": "markdown",
      "metadata": {
        "id": "FTD65pStwWuO"
      },
      "source": [
        "# Procesamiento de las features adicionales a la Consulta\r\n"
      ]
    },
    {
      "cell_type": "markdown",
      "metadata": {
        "id": "NAkTZSEqwlMv"
      },
      "source": [
        "1. Traigo los datos y los cargo en el dataframe:"
      ]
    },
    {
      "cell_type": "code",
      "metadata": {
        "id": "cEa8IbABwU9R",
        "colab": {
          "base_uri": "https://localhost:8080/"
        },
        "outputId": "d8043884-f6cb-456a-effc-f54980f9cacd"
      },
      "source": [
        "import os.path\r\n",
        "from os import path\r\n",
        "import pandas as pd\r\n",
        "\r\n",
        "# En caso que no esté el archivo en Colab lo traigo\r\n",
        "if not(path.exists(\"01-Correos_Seleccionados_y_Etiquetados.csv\")):\r\n",
        "  !wget https://raw.githubusercontent.com/jumafernandez/UNLP/master/TFI/data/Correos_Seleccionados_y_Etiquetados.csv\r\n",
        "\r\n",
        "df = pd.read_csv('Correos_Seleccionados_y_Etiquetados.csv', delimiter=\"|\", index_col=False)\r\n",
        "\r\n",
        "df['Clase'].value_counts()\r\n"
      ],
      "execution_count": 547,
      "outputs": [
        {
          "output_type": "stream",
          "text": [
            "--2020-12-27 19:43:55--  https://raw.githubusercontent.com/jumafernandez/UNLP/master/TFI/data/Correos_Seleccionados_y_Etiquetados.csv\n",
            "Resolving raw.githubusercontent.com (raw.githubusercontent.com)... 151.101.0.133, 151.101.64.133, 151.101.128.133, ...\n",
            "Connecting to raw.githubusercontent.com (raw.githubusercontent.com)|151.101.0.133|:443... connected.\n",
            "HTTP request sent, awaiting response... 200 OK\n",
            "Length: 448336 (438K) [text/plain]\n",
            "Saving to: ‘Correos_Seleccionados_y_Etiquetados.csv.1’\n",
            "\n",
            "Correos_Seleccionad 100%[===================>] 437.83K  --.-KB/s    in 0.03s   \n",
            "\n",
            "2020-12-27 19:43:56 (12.3 MB/s) - ‘Correos_Seleccionados_y_Etiquetados.csv.1’ saved [448336/448336]\n",
            "\n"
          ],
          "name": "stdout"
        },
        {
          "output_type": "execute_result",
          "data": {
            "text/plain": [
              "Boleto Universitario                   240\n",
              "Ingreso a la Universidad               232\n",
              "Requisitos de Ingreso                  129\n",
              "Pedido de Certificados                  69\n",
              "Inscripción a Cursadas                  64\n",
              "Problemas con la Clave                  51\n",
              "Reincorporación                         47\n",
              "Cursadas                                23\n",
              "Exámenes                                19\n",
              "Carga de Notas                          17\n",
              "Consulta por Legajo                     16\n",
              "Cambio de Carrera                       14\n",
              "Consulta por Equivalencias              14\n",
              "Situación Académica                     12\n",
              "Cambio de Comisión                      11\n",
              "Datos Personales                        10\n",
              "Consulta sobre Título Universitario     10\n",
              "Vacunas Enfermería                      10\n",
              "Certificados Web                         6\n",
              "Simultaneidad de Carreras                6\n",
              "Name: Clase, dtype: int64"
            ]
          },
          "metadata": {
            "tags": []
          },
          "execution_count": 547
        }
      ]
    },
    {
      "cell_type": "markdown",
      "metadata": {
        "id": "m_xyelTHxEFE"
      },
      "source": [
        "2. Verifico los datos y borro columnas no pre-procesables:"
      ]
    },
    {
      "cell_type": "code",
      "metadata": {
        "colab": {
          "base_uri": "https://localhost:8080/",
          "height": 197
        },
        "id": "U-ft72hZ0TLQ",
        "outputId": "1ab000dd-dd8d-4a03-c847-d74c73d01cfb"
      },
      "source": [
        "df.drop(columns=['Apellido y Nombre', 'Respuesta'], inplace=True)\r\n",
        "df.head()"
      ],
      "execution_count": 548,
      "outputs": [
        {
          "output_type": "execute_result",
          "data": {
            "text/html": [
              "<div>\n",
              "<style scoped>\n",
              "    .dataframe tbody tr th:only-of-type {\n",
              "        vertical-align: middle;\n",
              "    }\n",
              "\n",
              "    .dataframe tbody tr th {\n",
              "        vertical-align: top;\n",
              "    }\n",
              "\n",
              "    .dataframe thead th {\n",
              "        text-align: right;\n",
              "    }\n",
              "</style>\n",
              "<table border=\"1\" class=\"dataframe\">\n",
              "  <thead>\n",
              "    <tr style=\"text-align: right;\">\n",
              "      <th></th>\n",
              "      <th>Fecha</th>\n",
              "      <th>Hora</th>\n",
              "      <th>Legajo</th>\n",
              "      <th>Documento</th>\n",
              "      <th>Carrera</th>\n",
              "      <th>Teléfono</th>\n",
              "      <th>E-mail</th>\n",
              "      <th>Consulta</th>\n",
              "      <th>Clase</th>\n",
              "    </tr>\n",
              "  </thead>\n",
              "  <tbody>\n",
              "    <tr>\n",
              "      <th>0</th>\n",
              "      <td>08-05-2019</td>\n",
              "      <td>10:49:26</td>\n",
              "      <td>169336</td>\n",
              "      <td>33829069</td>\n",
              "      <td>licenciatura en enfermeria(52)</td>\n",
              "      <td>1121550750</td>\n",
              "      <td>rolandflorencia@gmail.com</td>\n",
              "      <td>hola quiero anotarme a las materias ,para el s...</td>\n",
              "      <td>Vacunas Enfermería</td>\n",
              "    </tr>\n",
              "    <tr>\n",
              "      <th>1</th>\n",
              "      <td>08-08-2017</td>\n",
              "      <td>12:29:59</td>\n",
              "      <td>150786</td>\n",
              "      <td>33220121</td>\n",
              "      <td>licenciatura en enfermeria(52)</td>\n",
              "      <td>1131066251</td>\n",
              "      <td>vane_male@outlook.com</td>\n",
              "      <td>hola buenos días! quería saber cuando voy a po...</td>\n",
              "      <td>Vacunas Enfermería</td>\n",
              "    </tr>\n",
              "    <tr>\n",
              "      <th>2</th>\n",
              "      <td>05-31-2017</td>\n",
              "      <td>01:30:49</td>\n",
              "      <td>156535</td>\n",
              "      <td>43455018</td>\n",
              "      <td>contador publico(54)</td>\n",
              "      <td>NaN</td>\n",
              "      <td>solangekarg8@gmail.com</td>\n",
              "      <td>hola quisiera saber si en la consulta de situa...</td>\n",
              "      <td>Situación Académica</td>\n",
              "    </tr>\n",
              "    <tr>\n",
              "      <th>3</th>\n",
              "      <td>02-05-2018</td>\n",
              "      <td>22:58:24</td>\n",
              "      <td>155395</td>\n",
              "      <td>38859638</td>\n",
              "      <td>licenciatura en trabajo social(5)</td>\n",
              "      <td>1566431259</td>\n",
              "      <td>luztopa@hotmail.com</td>\n",
              "      <td>buenas noches. en mi situacion academica apare...</td>\n",
              "      <td>Situación Académica</td>\n",
              "    </tr>\n",
              "    <tr>\n",
              "      <th>4</th>\n",
              "      <td>08-06-2016</td>\n",
              "      <td>13:16:16</td>\n",
              "      <td>115623</td>\n",
              "      <td>35756071</td>\n",
              "      <td>contador publico(54)</td>\n",
              "      <td>44556937</td>\n",
              "      <td>yanet868@hotmail.com</td>\n",
              "      <td>hola,  quisiera obtener mi promedio o saber co...</td>\n",
              "      <td>Situación Académica</td>\n",
              "    </tr>\n",
              "  </tbody>\n",
              "</table>\n",
              "</div>"
            ],
            "text/plain": [
              "        Fecha  ...                Clase\n",
              "0  08-05-2019  ...   Vacunas Enfermería\n",
              "1  08-08-2017  ...   Vacunas Enfermería\n",
              "2  05-31-2017  ...  Situación Académica\n",
              "3  02-05-2018  ...  Situación Académica\n",
              "4  08-06-2016  ...  Situación Académica\n",
              "\n",
              "[5 rows x 9 columns]"
            ]
          },
          "metadata": {
            "tags": []
          },
          "execution_count": 548
        }
      ]
    },
    {
      "cell_type": "markdown",
      "metadata": {
        "id": "bKwV3G8e7W0O"
      },
      "source": [
        "3. Preproceso la fecha (día de la semana, semana del mes, mes y cuatrimestre) de la consulta:"
      ]
    },
    {
      "cell_type": "code",
      "metadata": {
        "id": "YYeZT4j1Zu0i"
      },
      "source": [
        "def convierte_fecha(fecha_consulta):\r\n",
        "  from datetime import datetime\r\n",
        "  # Convierto a fecha\r\n",
        "  fecha = datetime.strptime(fecha_consulta, '%m-%d-%Y') \r\n",
        "  return fecha\r\n",
        "\r\n",
        "def dia_semana(fecha):\r\n",
        "  # Tomo el día de la semana\r\n",
        "  dias_semana = ['Lunes', 'Martes', 'Miércoles', 'Jueves', 'Viernes', 'Sábado', 'Domingo']\r\n",
        "  # dia_semana = dias_semana[fecha.weekday()]\r\n",
        "  dia_semana = fecha.weekday()\r\n",
        "  return dia_semana\r\n",
        "\r\n",
        "def semana_del_mes(fecha):\r\n",
        "  # Tomo la semana del mes\r\n",
        "  semana_mes = (fecha.day-1)//7+1\r\n",
        "  return semana_mes\r\n",
        "\r\n",
        "def mes(fecha):\r\n",
        "  # Tomo el mes\r\n",
        "  meses = ['Enero', 'Febrero', 'Marzo', 'Abril', 'Mayo', 'Junio', 'Julio', 'Agosto', 'Septiembre', 'Octubre', 'Noviembre', 'Diciembre']\r\n",
        "  # mes = meses[fecha.month-1]\r\n",
        "  mes = fecha.month\r\n",
        "  return mes\r\n",
        "\r\n",
        "def cuatrimestre(fecha):\r\n",
        "  # Defino el cuatrimestre\r\n",
        "  cuatrimestre = 1\r\n",
        "  if (fecha.month>7):\r\n",
        "    cuatrimestre = 2\r\n",
        "  return cuatrimestre\r\n",
        "\r\n",
        "def anio(fecha):\r\n",
        "    anio = fecha.year\r\n",
        "    return anio\r\n",
        "\r\n",
        "# convierte_fecha(df.loc[0, 'Fecha'])\r\n",
        "fecha = df['Fecha'].apply(convierte_fecha)\r\n",
        "df['dia_semana'] = fecha.apply(dia_semana)\r\n",
        "df['semana_del_mes'] = fecha.apply(semana_del_mes)\r\n",
        "df['mes'] = fecha.apply(mes)\r\n",
        "df['cuatrimestre'] = fecha.apply(cuatrimestre)\r\n",
        "df['anio'] = fecha.apply(anio)"
      ],
      "execution_count": 549,
      "outputs": []
    },
    {
      "cell_type": "code",
      "metadata": {
        "colab": {
          "base_uri": "https://localhost:8080/",
          "height": 281
        },
        "id": "MoOidpjoaxvK",
        "outputId": "57f813d5-4ffb-40b8-89a1-4a58408acd81"
      },
      "source": [
        "df.drop(columns=['Fecha'], inplace=True)\r\n",
        "df.head()"
      ],
      "execution_count": 550,
      "outputs": [
        {
          "output_type": "execute_result",
          "data": {
            "text/html": [
              "<div>\n",
              "<style scoped>\n",
              "    .dataframe tbody tr th:only-of-type {\n",
              "        vertical-align: middle;\n",
              "    }\n",
              "\n",
              "    .dataframe tbody tr th {\n",
              "        vertical-align: top;\n",
              "    }\n",
              "\n",
              "    .dataframe thead th {\n",
              "        text-align: right;\n",
              "    }\n",
              "</style>\n",
              "<table border=\"1\" class=\"dataframe\">\n",
              "  <thead>\n",
              "    <tr style=\"text-align: right;\">\n",
              "      <th></th>\n",
              "      <th>Hora</th>\n",
              "      <th>Legajo</th>\n",
              "      <th>Documento</th>\n",
              "      <th>Carrera</th>\n",
              "      <th>Teléfono</th>\n",
              "      <th>E-mail</th>\n",
              "      <th>Consulta</th>\n",
              "      <th>Clase</th>\n",
              "      <th>dia_semana</th>\n",
              "      <th>semana_del_mes</th>\n",
              "      <th>mes</th>\n",
              "      <th>cuatrimestre</th>\n",
              "      <th>anio</th>\n",
              "    </tr>\n",
              "  </thead>\n",
              "  <tbody>\n",
              "    <tr>\n",
              "      <th>0</th>\n",
              "      <td>10:49:26</td>\n",
              "      <td>169336</td>\n",
              "      <td>33829069</td>\n",
              "      <td>licenciatura en enfermeria(52)</td>\n",
              "      <td>1121550750</td>\n",
              "      <td>rolandflorencia@gmail.com</td>\n",
              "      <td>hola quiero anotarme a las materias ,para el s...</td>\n",
              "      <td>Vacunas Enfermería</td>\n",
              "      <td>0</td>\n",
              "      <td>1</td>\n",
              "      <td>8</td>\n",
              "      <td>2</td>\n",
              "      <td>2019</td>\n",
              "    </tr>\n",
              "    <tr>\n",
              "      <th>1</th>\n",
              "      <td>12:29:59</td>\n",
              "      <td>150786</td>\n",
              "      <td>33220121</td>\n",
              "      <td>licenciatura en enfermeria(52)</td>\n",
              "      <td>1131066251</td>\n",
              "      <td>vane_male@outlook.com</td>\n",
              "      <td>hola buenos días! quería saber cuando voy a po...</td>\n",
              "      <td>Vacunas Enfermería</td>\n",
              "      <td>1</td>\n",
              "      <td>2</td>\n",
              "      <td>8</td>\n",
              "      <td>2</td>\n",
              "      <td>2017</td>\n",
              "    </tr>\n",
              "    <tr>\n",
              "      <th>2</th>\n",
              "      <td>01:30:49</td>\n",
              "      <td>156535</td>\n",
              "      <td>43455018</td>\n",
              "      <td>contador publico(54)</td>\n",
              "      <td>NaN</td>\n",
              "      <td>solangekarg8@gmail.com</td>\n",
              "      <td>hola quisiera saber si en la consulta de situa...</td>\n",
              "      <td>Situación Académica</td>\n",
              "      <td>2</td>\n",
              "      <td>5</td>\n",
              "      <td>5</td>\n",
              "      <td>1</td>\n",
              "      <td>2017</td>\n",
              "    </tr>\n",
              "    <tr>\n",
              "      <th>3</th>\n",
              "      <td>22:58:24</td>\n",
              "      <td>155395</td>\n",
              "      <td>38859638</td>\n",
              "      <td>licenciatura en trabajo social(5)</td>\n",
              "      <td>1566431259</td>\n",
              "      <td>luztopa@hotmail.com</td>\n",
              "      <td>buenas noches. en mi situacion academica apare...</td>\n",
              "      <td>Situación Académica</td>\n",
              "      <td>0</td>\n",
              "      <td>1</td>\n",
              "      <td>2</td>\n",
              "      <td>1</td>\n",
              "      <td>2018</td>\n",
              "    </tr>\n",
              "    <tr>\n",
              "      <th>4</th>\n",
              "      <td>13:16:16</td>\n",
              "      <td>115623</td>\n",
              "      <td>35756071</td>\n",
              "      <td>contador publico(54)</td>\n",
              "      <td>44556937</td>\n",
              "      <td>yanet868@hotmail.com</td>\n",
              "      <td>hola,  quisiera obtener mi promedio o saber co...</td>\n",
              "      <td>Situación Académica</td>\n",
              "      <td>5</td>\n",
              "      <td>1</td>\n",
              "      <td>8</td>\n",
              "      <td>2</td>\n",
              "      <td>2016</td>\n",
              "    </tr>\n",
              "  </tbody>\n",
              "</table>\n",
              "</div>"
            ],
            "text/plain": [
              "       Hora  Legajo  Documento  ... mes cuatrimestre  anio\n",
              "0  10:49:26  169336   33829069  ...   8            2  2019\n",
              "1  12:29:59  150786   33220121  ...   8            2  2017\n",
              "2  01:30:49  156535   43455018  ...   5            1  2017\n",
              "3  22:58:24  155395   38859638  ...   2            1  2018\n",
              "4  13:16:16  115623   35756071  ...   8            2  2016\n",
              "\n",
              "[5 rows x 13 columns]"
            ]
          },
          "metadata": {
            "tags": []
          },
          "execution_count": 550
        }
      ]
    },
    {
      "cell_type": "markdown",
      "metadata": {
        "id": "4XjW6N1_qo1T"
      },
      "source": [
        "4. Preproceso la hora de la consulta de la siguiente forma:\r\n",
        "    - 0-Mañana (6-12 hs),\r\n",
        "    - 1-Media-Tarde (12-16 hs)\r\n",
        "    - 2-Tarde (16-20 hs)\r\n",
        "    - 3-Noche (20-00 hs)\r\n",
        "    - 4-Madrugada (00-6 hs)"
      ]
    },
    {
      "cell_type": "code",
      "metadata": {
        "id": "ZtIB9k3NrNWo"
      },
      "source": [
        "def convierte_horario(hora_consulta):\r\n",
        "  from datetime import datetime\r\n",
        "  # Convierto a hora\r\n",
        "  hora = datetime.strptime(hora_consulta, '%H:%M:%S').time()\r\n",
        "  return hora\r\n",
        "\r\n",
        "def discretiza_horario(horario):\r\n",
        "  if (horario.hour>=6 and horario.hour<12):\r\n",
        "    rango_horario=0\r\n",
        "  elif (horario.hour>=12 and horario.hour<16):\r\n",
        "    rango_horario=1\r\n",
        "  elif (horario.hour>=16 and horario.hour<20):\r\n",
        "    rango_horario=2\r\n",
        "  else:\r\n",
        "    rango_horario=3 \r\n",
        "  return rango_horario\r\n",
        "\r\n",
        "#discretiza_horario(convierte_horario(df.loc[0, 'Hora']))\r\n",
        "horario = df['Hora'].apply(convierte_horario)\r\n",
        "df['hora_discretizada'] = horario.apply(discretiza_horario)"
      ],
      "execution_count": 551,
      "outputs": []
    },
    {
      "cell_type": "code",
      "metadata": {
        "colab": {
          "base_uri": "https://localhost:8080/",
          "height": 314
        },
        "id": "Kaz03ZmpuFHC",
        "outputId": "56c0608e-75e8-46d4-914e-b8ea9f675ba5"
      },
      "source": [
        "df.drop(columns=['Hora'], inplace=True)\r\n",
        "df.head()"
      ],
      "execution_count": 552,
      "outputs": [
        {
          "output_type": "execute_result",
          "data": {
            "text/html": [
              "<div>\n",
              "<style scoped>\n",
              "    .dataframe tbody tr th:only-of-type {\n",
              "        vertical-align: middle;\n",
              "    }\n",
              "\n",
              "    .dataframe tbody tr th {\n",
              "        vertical-align: top;\n",
              "    }\n",
              "\n",
              "    .dataframe thead th {\n",
              "        text-align: right;\n",
              "    }\n",
              "</style>\n",
              "<table border=\"1\" class=\"dataframe\">\n",
              "  <thead>\n",
              "    <tr style=\"text-align: right;\">\n",
              "      <th></th>\n",
              "      <th>Legajo</th>\n",
              "      <th>Documento</th>\n",
              "      <th>Carrera</th>\n",
              "      <th>Teléfono</th>\n",
              "      <th>E-mail</th>\n",
              "      <th>Consulta</th>\n",
              "      <th>Clase</th>\n",
              "      <th>dia_semana</th>\n",
              "      <th>semana_del_mes</th>\n",
              "      <th>mes</th>\n",
              "      <th>cuatrimestre</th>\n",
              "      <th>anio</th>\n",
              "      <th>hora_discretizada</th>\n",
              "    </tr>\n",
              "  </thead>\n",
              "  <tbody>\n",
              "    <tr>\n",
              "      <th>0</th>\n",
              "      <td>169336</td>\n",
              "      <td>33829069</td>\n",
              "      <td>licenciatura en enfermeria(52)</td>\n",
              "      <td>1121550750</td>\n",
              "      <td>rolandflorencia@gmail.com</td>\n",
              "      <td>hola quiero anotarme a las materias ,para el s...</td>\n",
              "      <td>Vacunas Enfermería</td>\n",
              "      <td>0</td>\n",
              "      <td>1</td>\n",
              "      <td>8</td>\n",
              "      <td>2</td>\n",
              "      <td>2019</td>\n",
              "      <td>0</td>\n",
              "    </tr>\n",
              "    <tr>\n",
              "      <th>1</th>\n",
              "      <td>150786</td>\n",
              "      <td>33220121</td>\n",
              "      <td>licenciatura en enfermeria(52)</td>\n",
              "      <td>1131066251</td>\n",
              "      <td>vane_male@outlook.com</td>\n",
              "      <td>hola buenos días! quería saber cuando voy a po...</td>\n",
              "      <td>Vacunas Enfermería</td>\n",
              "      <td>1</td>\n",
              "      <td>2</td>\n",
              "      <td>8</td>\n",
              "      <td>2</td>\n",
              "      <td>2017</td>\n",
              "      <td>1</td>\n",
              "    </tr>\n",
              "    <tr>\n",
              "      <th>2</th>\n",
              "      <td>156535</td>\n",
              "      <td>43455018</td>\n",
              "      <td>contador publico(54)</td>\n",
              "      <td>NaN</td>\n",
              "      <td>solangekarg8@gmail.com</td>\n",
              "      <td>hola quisiera saber si en la consulta de situa...</td>\n",
              "      <td>Situación Académica</td>\n",
              "      <td>2</td>\n",
              "      <td>5</td>\n",
              "      <td>5</td>\n",
              "      <td>1</td>\n",
              "      <td>2017</td>\n",
              "      <td>3</td>\n",
              "    </tr>\n",
              "    <tr>\n",
              "      <th>3</th>\n",
              "      <td>155395</td>\n",
              "      <td>38859638</td>\n",
              "      <td>licenciatura en trabajo social(5)</td>\n",
              "      <td>1566431259</td>\n",
              "      <td>luztopa@hotmail.com</td>\n",
              "      <td>buenas noches. en mi situacion academica apare...</td>\n",
              "      <td>Situación Académica</td>\n",
              "      <td>0</td>\n",
              "      <td>1</td>\n",
              "      <td>2</td>\n",
              "      <td>1</td>\n",
              "      <td>2018</td>\n",
              "      <td>3</td>\n",
              "    </tr>\n",
              "    <tr>\n",
              "      <th>4</th>\n",
              "      <td>115623</td>\n",
              "      <td>35756071</td>\n",
              "      <td>contador publico(54)</td>\n",
              "      <td>44556937</td>\n",
              "      <td>yanet868@hotmail.com</td>\n",
              "      <td>hola,  quisiera obtener mi promedio o saber co...</td>\n",
              "      <td>Situación Académica</td>\n",
              "      <td>5</td>\n",
              "      <td>1</td>\n",
              "      <td>8</td>\n",
              "      <td>2</td>\n",
              "      <td>2016</td>\n",
              "      <td>1</td>\n",
              "    </tr>\n",
              "  </tbody>\n",
              "</table>\n",
              "</div>"
            ],
            "text/plain": [
              "   Legajo  Documento  ...  anio hora_discretizada\n",
              "0  169336   33829069  ...  2019                 0\n",
              "1  150786   33220121  ...  2017                 1\n",
              "2  156535   43455018  ...  2017                 3\n",
              "3  155395   38859638  ...  2018                 3\n",
              "4  115623   35756071  ...  2016                 1\n",
              "\n",
              "[5 rows x 13 columns]"
            ]
          },
          "metadata": {
            "tags": []
          },
          "execution_count": 552
        }
      ]
    },
    {
      "cell_type": "markdown",
      "metadata": {
        "id": "hsRw3yrMvA5d"
      },
      "source": [
        "5. Preproceso el legajo y el DNI:<br />\r\n",
        "  Los separo en cuantiles asumiendo que los DNI mas bajos son personas mas grandes y los legajos mas grandes son estudiantes mas nuevos."
      ]
    },
    {
      "cell_type": "code",
      "metadata": {
        "id": "QJeq9I6C1sXp"
      },
      "source": [
        "import numpy as np\r\n",
        " \r\n",
        "def discretiza_atributo(atributo, intervalos=4):\r\n",
        "  # Se discretiza según la cantidad de q definidos\r\n",
        "  discretizado = pd.qcut(atributo, q=intervalos)\r\n",
        "  \r\n",
        "  # Nos quedamos con los diferentes intervalos, los ordenamos min-max\r\n",
        "  lista_intervalos = discretizado.unique()\r\n",
        "\r\n",
        "  lista_intervalos.sort_values(inplace=True)\r\n",
        "  #  Lo casteamos a str\r\n",
        "  lista_intervalos = lista_intervalos.astype(str)\r\n",
        "  #  Casteamos el atributo a str\r\n",
        "  discretizado = discretizado.astype(str)\r\n",
        "  # Borro los nan porque los modifico a mano\r\n",
        "  tiene_nan = False\r\n",
        "  if ('nan' in lista_intervalos):\r\n",
        "    tiene_nan = True\r\n",
        "    np.delete(lista_intervalos, np.where(lista_intervalos == 'nan'))\r\n",
        "\r\n",
        "  for i in range(intervalos):\r\n",
        "    # Si existiera, quiero dejar el nan en el intervalo con etiqueta 0, por eso sumo 1 a i\r\n",
        "    discretizado = discretizado.replace(lista_intervalos[i], i+1)\r\n",
        "    discretizado = discretizado.replace('nan', 0)\r\n",
        "\r\n",
        "  return discretizado\r\n",
        "\r\n",
        "# Cambio a numericos los Documentos y los discretizo\r\n",
        "df[\"Documento\"] = pd.to_numeric(df[\"Documento\"], errors='coerce')\r\n",
        "df[\"dni_discretizado\"] = discretiza_atributo(df[\"Documento\"], 8)\r\n",
        "\r\n",
        "# Cambio a numericos los Legajos y los discretizo\r\n",
        "df[\"Legajo\"] = pd.to_numeric(df[\"Legajo\"], errors='coerce')\r\n",
        "df[\"legajo_discretizado\"] = discretiza_atributo(df[\"Legajo\"], 4)"
      ],
      "execution_count": 553,
      "outputs": []
    },
    {
      "cell_type": "code",
      "metadata": {
        "colab": {
          "base_uri": "https://localhost:8080/"
        },
        "id": "PGIkhtQ9Fs7X",
        "outputId": "16f7b698-05f4-4e65-8d11-feeffa2e7019"
      },
      "source": [
        "df[\"dni_discretizado\"].value_counts()"
      ],
      "execution_count": 554,
      "outputs": [
        {
          "output_type": "execute_result",
          "data": {
            "text/plain": [
              "8    125\n",
              "7    125\n",
              "6    125\n",
              "5    125\n",
              "4    125\n",
              "3    125\n",
              "2    125\n",
              "1    125\n",
              "Name: dni_discretizado, dtype: int64"
            ]
          },
          "metadata": {
            "tags": []
          },
          "execution_count": 554
        }
      ]
    },
    {
      "cell_type": "code",
      "metadata": {
        "colab": {
          "base_uri": "https://localhost:8080/"
        },
        "id": "GQ6UOF3sJrwu",
        "outputId": "01d95179-b4ad-49b2-c883-ab495e561e93"
      },
      "source": [
        "df[\"legajo_discretizado\"].value_counts()"
      ],
      "execution_count": 555,
      "outputs": [
        {
          "output_type": "execute_result",
          "data": {
            "text/plain": [
              "0    310\n",
              "4    173\n",
              "1    173\n",
              "3    172\n",
              "2    172\n",
              "Name: legajo_discretizado, dtype: int64"
            ]
          },
          "metadata": {
            "tags": []
          },
          "execution_count": 555
        }
      ]
    },
    {
      "cell_type": "markdown",
      "metadata": {
        "id": "QubUGs5fnykm"
      },
      "source": [
        "6. Genero una variable dummy con la existencia o no de Legajo y Teléfono:"
      ]
    },
    {
      "cell_type": "code",
      "metadata": {
        "id": "d5vwKz6-nBz4"
      },
      "source": [
        "# Tiene legajo?\r\n",
        "def posee_valor(atributo):\r\n",
        "  return 1-atributo.isna()\r\n",
        "  \r\n",
        "df['posee_legajo'] = posee_valor(df['Legajo'])"
      ],
      "execution_count": 556,
      "outputs": []
    },
    {
      "cell_type": "code",
      "metadata": {
        "colab": {
          "base_uri": "https://localhost:8080/",
          "height": 667
        },
        "id": "WMvevGffJ4OD",
        "outputId": "2ba9705c-7e53-40fd-efe3-52ed812c167f"
      },
      "source": [
        "df.drop(columns=['Legajo', 'Documento'], inplace=True)\r\n",
        "df.head()"
      ],
      "execution_count": 557,
      "outputs": [
        {
          "output_type": "execute_result",
          "data": {
            "text/html": [
              "<div>\n",
              "<style scoped>\n",
              "    .dataframe tbody tr th:only-of-type {\n",
              "        vertical-align: middle;\n",
              "    }\n",
              "\n",
              "    .dataframe tbody tr th {\n",
              "        vertical-align: top;\n",
              "    }\n",
              "\n",
              "    .dataframe thead th {\n",
              "        text-align: right;\n",
              "    }\n",
              "</style>\n",
              "<table border=\"1\" class=\"dataframe\">\n",
              "  <thead>\n",
              "    <tr style=\"text-align: right;\">\n",
              "      <th></th>\n",
              "      <th>Carrera</th>\n",
              "      <th>Teléfono</th>\n",
              "      <th>E-mail</th>\n",
              "      <th>Consulta</th>\n",
              "      <th>Clase</th>\n",
              "      <th>dia_semana</th>\n",
              "      <th>semana_del_mes</th>\n",
              "      <th>mes</th>\n",
              "      <th>cuatrimestre</th>\n",
              "      <th>anio</th>\n",
              "      <th>hora_discretizada</th>\n",
              "      <th>dni_discretizado</th>\n",
              "      <th>legajo_discretizado</th>\n",
              "      <th>posee_legajo</th>\n",
              "    </tr>\n",
              "  </thead>\n",
              "  <tbody>\n",
              "    <tr>\n",
              "      <th>0</th>\n",
              "      <td>licenciatura en enfermeria(52)</td>\n",
              "      <td>1121550750</td>\n",
              "      <td>rolandflorencia@gmail.com</td>\n",
              "      <td>hola quiero anotarme a las materias ,para el s...</td>\n",
              "      <td>Vacunas Enfermería</td>\n",
              "      <td>0</td>\n",
              "      <td>1</td>\n",
              "      <td>8</td>\n",
              "      <td>2</td>\n",
              "      <td>2019</td>\n",
              "      <td>0</td>\n",
              "      <td>3</td>\n",
              "      <td>4</td>\n",
              "      <td>1</td>\n",
              "    </tr>\n",
              "    <tr>\n",
              "      <th>1</th>\n",
              "      <td>licenciatura en enfermeria(52)</td>\n",
              "      <td>1131066251</td>\n",
              "      <td>vane_male@outlook.com</td>\n",
              "      <td>hola buenos días! quería saber cuando voy a po...</td>\n",
              "      <td>Vacunas Enfermería</td>\n",
              "      <td>1</td>\n",
              "      <td>2</td>\n",
              "      <td>8</td>\n",
              "      <td>2</td>\n",
              "      <td>2017</td>\n",
              "      <td>1</td>\n",
              "      <td>3</td>\n",
              "      <td>3</td>\n",
              "      <td>1</td>\n",
              "    </tr>\n",
              "    <tr>\n",
              "      <th>2</th>\n",
              "      <td>contador publico(54)</td>\n",
              "      <td>NaN</td>\n",
              "      <td>solangekarg8@gmail.com</td>\n",
              "      <td>hola quisiera saber si en la consulta de situa...</td>\n",
              "      <td>Situación Académica</td>\n",
              "      <td>2</td>\n",
              "      <td>5</td>\n",
              "      <td>5</td>\n",
              "      <td>1</td>\n",
              "      <td>2017</td>\n",
              "      <td>3</td>\n",
              "      <td>8</td>\n",
              "      <td>3</td>\n",
              "      <td>1</td>\n",
              "    </tr>\n",
              "    <tr>\n",
              "      <th>3</th>\n",
              "      <td>licenciatura en trabajo social(5)</td>\n",
              "      <td>1566431259</td>\n",
              "      <td>luztopa@hotmail.com</td>\n",
              "      <td>buenas noches. en mi situacion academica apare...</td>\n",
              "      <td>Situación Académica</td>\n",
              "      <td>0</td>\n",
              "      <td>1</td>\n",
              "      <td>2</td>\n",
              "      <td>1</td>\n",
              "      <td>2018</td>\n",
              "      <td>3</td>\n",
              "      <td>5</td>\n",
              "      <td>3</td>\n",
              "      <td>1</td>\n",
              "    </tr>\n",
              "    <tr>\n",
              "      <th>4</th>\n",
              "      <td>contador publico(54)</td>\n",
              "      <td>44556937</td>\n",
              "      <td>yanet868@hotmail.com</td>\n",
              "      <td>hola,  quisiera obtener mi promedio o saber co...</td>\n",
              "      <td>Situación Académica</td>\n",
              "      <td>5</td>\n",
              "      <td>1</td>\n",
              "      <td>8</td>\n",
              "      <td>2</td>\n",
              "      <td>2016</td>\n",
              "      <td>1</td>\n",
              "      <td>3</td>\n",
              "      <td>1</td>\n",
              "      <td>1</td>\n",
              "    </tr>\n",
              "  </tbody>\n",
              "</table>\n",
              "</div>"
            ],
            "text/plain": [
              "                             Carrera  ... posee_legajo\n",
              "0     licenciatura en enfermeria(52)  ...            1\n",
              "1     licenciatura en enfermeria(52)  ...            1\n",
              "2               contador publico(54)  ...            1\n",
              "3  licenciatura en trabajo social(5)  ...            1\n",
              "4               contador publico(54)  ...            1\n",
              "\n",
              "[5 rows x 14 columns]"
            ]
          },
          "metadata": {
            "tags": []
          },
          "execution_count": 557
        }
      ]
    },
    {
      "cell_type": "code",
      "metadata": {
        "id": "-ux6oNoknIBh"
      },
      "source": [
        "# Tiene teléfono? \r\n",
        "df['posee_telefono'] = posee_valor(df['Teléfono'])"
      ],
      "execution_count": 558,
      "outputs": []
    },
    {
      "cell_type": "code",
      "metadata": {
        "colab": {
          "base_uri": "https://localhost:8080/",
          "height": 667
        },
        "id": "YSYkq_jnnNG3",
        "outputId": "42561afc-e05d-4a96-d609-4650b1600645"
      },
      "source": [
        "df.drop(columns=['Teléfono'], inplace=True)\r\n",
        "df.head()"
      ],
      "execution_count": 559,
      "outputs": [
        {
          "output_type": "execute_result",
          "data": {
            "text/html": [
              "<div>\n",
              "<style scoped>\n",
              "    .dataframe tbody tr th:only-of-type {\n",
              "        vertical-align: middle;\n",
              "    }\n",
              "\n",
              "    .dataframe tbody tr th {\n",
              "        vertical-align: top;\n",
              "    }\n",
              "\n",
              "    .dataframe thead th {\n",
              "        text-align: right;\n",
              "    }\n",
              "</style>\n",
              "<table border=\"1\" class=\"dataframe\">\n",
              "  <thead>\n",
              "    <tr style=\"text-align: right;\">\n",
              "      <th></th>\n",
              "      <th>Carrera</th>\n",
              "      <th>E-mail</th>\n",
              "      <th>Consulta</th>\n",
              "      <th>Clase</th>\n",
              "      <th>dia_semana</th>\n",
              "      <th>semana_del_mes</th>\n",
              "      <th>mes</th>\n",
              "      <th>cuatrimestre</th>\n",
              "      <th>anio</th>\n",
              "      <th>hora_discretizada</th>\n",
              "      <th>dni_discretizado</th>\n",
              "      <th>legajo_discretizado</th>\n",
              "      <th>posee_legajo</th>\n",
              "      <th>posee_telefono</th>\n",
              "    </tr>\n",
              "  </thead>\n",
              "  <tbody>\n",
              "    <tr>\n",
              "      <th>0</th>\n",
              "      <td>licenciatura en enfermeria(52)</td>\n",
              "      <td>rolandflorencia@gmail.com</td>\n",
              "      <td>hola quiero anotarme a las materias ,para el s...</td>\n",
              "      <td>Vacunas Enfermería</td>\n",
              "      <td>0</td>\n",
              "      <td>1</td>\n",
              "      <td>8</td>\n",
              "      <td>2</td>\n",
              "      <td>2019</td>\n",
              "      <td>0</td>\n",
              "      <td>3</td>\n",
              "      <td>4</td>\n",
              "      <td>1</td>\n",
              "      <td>1</td>\n",
              "    </tr>\n",
              "    <tr>\n",
              "      <th>1</th>\n",
              "      <td>licenciatura en enfermeria(52)</td>\n",
              "      <td>vane_male@outlook.com</td>\n",
              "      <td>hola buenos días! quería saber cuando voy a po...</td>\n",
              "      <td>Vacunas Enfermería</td>\n",
              "      <td>1</td>\n",
              "      <td>2</td>\n",
              "      <td>8</td>\n",
              "      <td>2</td>\n",
              "      <td>2017</td>\n",
              "      <td>1</td>\n",
              "      <td>3</td>\n",
              "      <td>3</td>\n",
              "      <td>1</td>\n",
              "      <td>1</td>\n",
              "    </tr>\n",
              "    <tr>\n",
              "      <th>2</th>\n",
              "      <td>contador publico(54)</td>\n",
              "      <td>solangekarg8@gmail.com</td>\n",
              "      <td>hola quisiera saber si en la consulta de situa...</td>\n",
              "      <td>Situación Académica</td>\n",
              "      <td>2</td>\n",
              "      <td>5</td>\n",
              "      <td>5</td>\n",
              "      <td>1</td>\n",
              "      <td>2017</td>\n",
              "      <td>3</td>\n",
              "      <td>8</td>\n",
              "      <td>3</td>\n",
              "      <td>1</td>\n",
              "      <td>0</td>\n",
              "    </tr>\n",
              "    <tr>\n",
              "      <th>3</th>\n",
              "      <td>licenciatura en trabajo social(5)</td>\n",
              "      <td>luztopa@hotmail.com</td>\n",
              "      <td>buenas noches. en mi situacion academica apare...</td>\n",
              "      <td>Situación Académica</td>\n",
              "      <td>0</td>\n",
              "      <td>1</td>\n",
              "      <td>2</td>\n",
              "      <td>1</td>\n",
              "      <td>2018</td>\n",
              "      <td>3</td>\n",
              "      <td>5</td>\n",
              "      <td>3</td>\n",
              "      <td>1</td>\n",
              "      <td>1</td>\n",
              "    </tr>\n",
              "    <tr>\n",
              "      <th>4</th>\n",
              "      <td>contador publico(54)</td>\n",
              "      <td>yanet868@hotmail.com</td>\n",
              "      <td>hola,  quisiera obtener mi promedio o saber co...</td>\n",
              "      <td>Situación Académica</td>\n",
              "      <td>5</td>\n",
              "      <td>1</td>\n",
              "      <td>8</td>\n",
              "      <td>2</td>\n",
              "      <td>2016</td>\n",
              "      <td>1</td>\n",
              "      <td>3</td>\n",
              "      <td>1</td>\n",
              "      <td>1</td>\n",
              "      <td>1</td>\n",
              "    </tr>\n",
              "  </tbody>\n",
              "</table>\n",
              "</div>"
            ],
            "text/plain": [
              "                             Carrera  ... posee_telefono\n",
              "0     licenciatura en enfermeria(52)  ...              1\n",
              "1     licenciatura en enfermeria(52)  ...              1\n",
              "2               contador publico(54)  ...              0\n",
              "3  licenciatura en trabajo social(5)  ...              1\n",
              "4               contador publico(54)  ...              1\n",
              "\n",
              "[5 rows x 14 columns]"
            ]
          },
          "metadata": {
            "tags": []
          },
          "execution_count": 559
        }
      ]
    },
    {
      "cell_type": "markdown",
      "metadata": {
        "id": "XwliKva_oORy"
      },
      "source": [
        "7. Se extrae el código de Carrera:"
      ]
    },
    {
      "cell_type": "code",
      "metadata": {
        "id": "aNQgRSVNKrUJ"
      },
      "source": [
        "def extrae_codigo_carrera(texto_carrera):\r\n",
        "  codigo = 0\r\n",
        "  if \"sin carrera\" not in texto_carrera:\r\n",
        "    texto_carrera = texto_carrera.split('(')\r\n",
        "    texto_carrera = texto_carrera[len(texto_carrera)-1].split(')')\r\n",
        "    codigo = int(texto_carrera[0])\r\n",
        "  return codigo\r\n",
        "\r\n",
        "# extrae_codigo_carrera(df.loc[0, 'Carrera'])\r\n",
        "df['carrera_valor'] = df['Carrera'].apply(extrae_codigo_carrera)"
      ],
      "execution_count": 560,
      "outputs": []
    },
    {
      "cell_type": "code",
      "metadata": {
        "colab": {
          "base_uri": "https://localhost:8080/",
          "height": 667
        },
        "id": "7914syUaOKUL",
        "outputId": "e068a6af-3570-46f6-a049-66d741cf5a9f"
      },
      "source": [
        "df.drop(columns=['Carrera'], inplace=True)\r\n",
        "df.head()"
      ],
      "execution_count": 561,
      "outputs": [
        {
          "output_type": "execute_result",
          "data": {
            "text/html": [
              "<div>\n",
              "<style scoped>\n",
              "    .dataframe tbody tr th:only-of-type {\n",
              "        vertical-align: middle;\n",
              "    }\n",
              "\n",
              "    .dataframe tbody tr th {\n",
              "        vertical-align: top;\n",
              "    }\n",
              "\n",
              "    .dataframe thead th {\n",
              "        text-align: right;\n",
              "    }\n",
              "</style>\n",
              "<table border=\"1\" class=\"dataframe\">\n",
              "  <thead>\n",
              "    <tr style=\"text-align: right;\">\n",
              "      <th></th>\n",
              "      <th>E-mail</th>\n",
              "      <th>Consulta</th>\n",
              "      <th>Clase</th>\n",
              "      <th>dia_semana</th>\n",
              "      <th>semana_del_mes</th>\n",
              "      <th>mes</th>\n",
              "      <th>cuatrimestre</th>\n",
              "      <th>anio</th>\n",
              "      <th>hora_discretizada</th>\n",
              "      <th>dni_discretizado</th>\n",
              "      <th>legajo_discretizado</th>\n",
              "      <th>posee_legajo</th>\n",
              "      <th>posee_telefono</th>\n",
              "      <th>carrera_valor</th>\n",
              "    </tr>\n",
              "  </thead>\n",
              "  <tbody>\n",
              "    <tr>\n",
              "      <th>0</th>\n",
              "      <td>rolandflorencia@gmail.com</td>\n",
              "      <td>hola quiero anotarme a las materias ,para el s...</td>\n",
              "      <td>Vacunas Enfermería</td>\n",
              "      <td>0</td>\n",
              "      <td>1</td>\n",
              "      <td>8</td>\n",
              "      <td>2</td>\n",
              "      <td>2019</td>\n",
              "      <td>0</td>\n",
              "      <td>3</td>\n",
              "      <td>4</td>\n",
              "      <td>1</td>\n",
              "      <td>1</td>\n",
              "      <td>52</td>\n",
              "    </tr>\n",
              "    <tr>\n",
              "      <th>1</th>\n",
              "      <td>vane_male@outlook.com</td>\n",
              "      <td>hola buenos días! quería saber cuando voy a po...</td>\n",
              "      <td>Vacunas Enfermería</td>\n",
              "      <td>1</td>\n",
              "      <td>2</td>\n",
              "      <td>8</td>\n",
              "      <td>2</td>\n",
              "      <td>2017</td>\n",
              "      <td>1</td>\n",
              "      <td>3</td>\n",
              "      <td>3</td>\n",
              "      <td>1</td>\n",
              "      <td>1</td>\n",
              "      <td>52</td>\n",
              "    </tr>\n",
              "    <tr>\n",
              "      <th>2</th>\n",
              "      <td>solangekarg8@gmail.com</td>\n",
              "      <td>hola quisiera saber si en la consulta de situa...</td>\n",
              "      <td>Situación Académica</td>\n",
              "      <td>2</td>\n",
              "      <td>5</td>\n",
              "      <td>5</td>\n",
              "      <td>1</td>\n",
              "      <td>2017</td>\n",
              "      <td>3</td>\n",
              "      <td>8</td>\n",
              "      <td>3</td>\n",
              "      <td>1</td>\n",
              "      <td>0</td>\n",
              "      <td>54</td>\n",
              "    </tr>\n",
              "    <tr>\n",
              "      <th>3</th>\n",
              "      <td>luztopa@hotmail.com</td>\n",
              "      <td>buenas noches. en mi situacion academica apare...</td>\n",
              "      <td>Situación Académica</td>\n",
              "      <td>0</td>\n",
              "      <td>1</td>\n",
              "      <td>2</td>\n",
              "      <td>1</td>\n",
              "      <td>2018</td>\n",
              "      <td>3</td>\n",
              "      <td>5</td>\n",
              "      <td>3</td>\n",
              "      <td>1</td>\n",
              "      <td>1</td>\n",
              "      <td>5</td>\n",
              "    </tr>\n",
              "    <tr>\n",
              "      <th>4</th>\n",
              "      <td>yanet868@hotmail.com</td>\n",
              "      <td>hola,  quisiera obtener mi promedio o saber co...</td>\n",
              "      <td>Situación Académica</td>\n",
              "      <td>5</td>\n",
              "      <td>1</td>\n",
              "      <td>8</td>\n",
              "      <td>2</td>\n",
              "      <td>2016</td>\n",
              "      <td>1</td>\n",
              "      <td>3</td>\n",
              "      <td>1</td>\n",
              "      <td>1</td>\n",
              "      <td>1</td>\n",
              "      <td>54</td>\n",
              "    </tr>\n",
              "  </tbody>\n",
              "</table>\n",
              "</div>"
            ],
            "text/plain": [
              "                      E-mail  ... carrera_valor\n",
              "0  rolandflorencia@gmail.com  ...            52\n",
              "1      vane_male@outlook.com  ...            52\n",
              "2     solangekarg8@gmail.com  ...            54\n",
              "3        luztopa@hotmail.com  ...             5\n",
              "4       yanet868@hotmail.com  ...            54\n",
              "\n",
              "[5 rows x 14 columns]"
            ]
          },
          "metadata": {
            "tags": []
          },
          "execution_count": 561
        }
      ]
    },
    {
      "cell_type": "markdown",
      "metadata": {
        "id": "T82OrpbfoRt2"
      },
      "source": [
        "8. Se verifica el proveedor de correo electrónico:"
      ]
    },
    {
      "cell_type": "code",
      "metadata": {
        "id": "un2AjzunnWbm"
      },
      "source": [
        "def servicio_email(consulta, proveedor):  \r\n",
        "  if consulta.lower().find(proveedor)==-1:\r\n",
        "    return 0\r\n",
        "  else:\r\n",
        "    return 1\r\n",
        "# Correo Gmail?\r\n",
        "# df['correo_gmail'] = df['E-mail'].apply(servicio_email, proveedor='gmail')\r\n",
        "# Correo yahoo?\r\n",
        "# df['correo_yahoo'] = df['E-mail'].apply(servicio_email, proveedor='yahoo')\r\n",
        "# Correo hotmail?\r\n",
        "# df['correo_hotmail'] = df['E-mail'].apply(servicio_email, proveedor='hotmail')\r\n",
        "\r\n",
        "def extrae_proveedor_correo(texto_correo):\r\n",
        "    texto_correo = texto_correo.split('@')\r\n",
        "    texto_correo = texto_correo[len(texto_correo)-1].split('.')\r\n",
        "    proveedor_correo = texto_correo[0]\r\n",
        "    return proveedor_correo\r\n",
        "\r\n",
        "#extrae_proveedor_correo(df.loc[0, 'E-mail'])\r\n",
        "df['proveedor_correo'] = df['E-mail'].apply(extrae_proveedor_correo)"
      ],
      "execution_count": 562,
      "outputs": []
    },
    {
      "cell_type": "code",
      "metadata": {
        "colab": {
          "base_uri": "https://localhost:8080/"
        },
        "id": "dYSTwAzOpSDe",
        "outputId": "c53418af-81c2-4b27-f6db-8b609dfab9c8"
      },
      "source": [
        "df['proveedor_correo'].value_counts()"
      ],
      "execution_count": 563,
      "outputs": [
        {
          "output_type": "execute_result",
          "data": {
            "text/plain": [
              "gmail              442\n",
              "hotmail            417\n",
              "yahoo               49\n",
              "outlook             41\n",
              "live                31\n",
              "icloud               4\n",
              "msn                  2\n",
              "baires-sa            1\n",
              "grupoberro           1\n",
              "hotmai               1\n",
              "outlool              1\n",
              "correoargentino      1\n",
              "gmil                 1\n",
              "ampinformatica       1\n",
              "me                   1\n",
              "facebook             1\n",
              "gmal                 1\n",
              "luve                 1\n",
              "autloock             1\n",
              "gmai                 1\n",
              "uno                  1\n",
              "Name: proveedor_correo, dtype: int64"
            ]
          },
          "metadata": {
            "tags": []
          },
          "execution_count": 563
        }
      ]
    },
    {
      "cell_type": "code",
      "metadata": {
        "colab": {
          "base_uri": "https://localhost:8080/",
          "height": 667
        },
        "id": "2Q74DHQInT9b",
        "outputId": "3d11e141-491f-4fa7-c9d0-5e75a2f47609"
      },
      "source": [
        "df.drop(columns=['E-mail'], inplace=True)\r\n",
        "df.head()"
      ],
      "execution_count": 564,
      "outputs": [
        {
          "output_type": "execute_result",
          "data": {
            "text/html": [
              "<div>\n",
              "<style scoped>\n",
              "    .dataframe tbody tr th:only-of-type {\n",
              "        vertical-align: middle;\n",
              "    }\n",
              "\n",
              "    .dataframe tbody tr th {\n",
              "        vertical-align: top;\n",
              "    }\n",
              "\n",
              "    .dataframe thead th {\n",
              "        text-align: right;\n",
              "    }\n",
              "</style>\n",
              "<table border=\"1\" class=\"dataframe\">\n",
              "  <thead>\n",
              "    <tr style=\"text-align: right;\">\n",
              "      <th></th>\n",
              "      <th>Consulta</th>\n",
              "      <th>Clase</th>\n",
              "      <th>dia_semana</th>\n",
              "      <th>semana_del_mes</th>\n",
              "      <th>mes</th>\n",
              "      <th>cuatrimestre</th>\n",
              "      <th>anio</th>\n",
              "      <th>hora_discretizada</th>\n",
              "      <th>dni_discretizado</th>\n",
              "      <th>legajo_discretizado</th>\n",
              "      <th>posee_legajo</th>\n",
              "      <th>posee_telefono</th>\n",
              "      <th>carrera_valor</th>\n",
              "      <th>proveedor_correo</th>\n",
              "    </tr>\n",
              "  </thead>\n",
              "  <tbody>\n",
              "    <tr>\n",
              "      <th>0</th>\n",
              "      <td>hola quiero anotarme a las materias ,para el s...</td>\n",
              "      <td>Vacunas Enfermería</td>\n",
              "      <td>0</td>\n",
              "      <td>1</td>\n",
              "      <td>8</td>\n",
              "      <td>2</td>\n",
              "      <td>2019</td>\n",
              "      <td>0</td>\n",
              "      <td>3</td>\n",
              "      <td>4</td>\n",
              "      <td>1</td>\n",
              "      <td>1</td>\n",
              "      <td>52</td>\n",
              "      <td>gmail</td>\n",
              "    </tr>\n",
              "    <tr>\n",
              "      <th>1</th>\n",
              "      <td>hola buenos días! quería saber cuando voy a po...</td>\n",
              "      <td>Vacunas Enfermería</td>\n",
              "      <td>1</td>\n",
              "      <td>2</td>\n",
              "      <td>8</td>\n",
              "      <td>2</td>\n",
              "      <td>2017</td>\n",
              "      <td>1</td>\n",
              "      <td>3</td>\n",
              "      <td>3</td>\n",
              "      <td>1</td>\n",
              "      <td>1</td>\n",
              "      <td>52</td>\n",
              "      <td>outlook</td>\n",
              "    </tr>\n",
              "    <tr>\n",
              "      <th>2</th>\n",
              "      <td>hola quisiera saber si en la consulta de situa...</td>\n",
              "      <td>Situación Académica</td>\n",
              "      <td>2</td>\n",
              "      <td>5</td>\n",
              "      <td>5</td>\n",
              "      <td>1</td>\n",
              "      <td>2017</td>\n",
              "      <td>3</td>\n",
              "      <td>8</td>\n",
              "      <td>3</td>\n",
              "      <td>1</td>\n",
              "      <td>0</td>\n",
              "      <td>54</td>\n",
              "      <td>gmail</td>\n",
              "    </tr>\n",
              "    <tr>\n",
              "      <th>3</th>\n",
              "      <td>buenas noches. en mi situacion academica apare...</td>\n",
              "      <td>Situación Académica</td>\n",
              "      <td>0</td>\n",
              "      <td>1</td>\n",
              "      <td>2</td>\n",
              "      <td>1</td>\n",
              "      <td>2018</td>\n",
              "      <td>3</td>\n",
              "      <td>5</td>\n",
              "      <td>3</td>\n",
              "      <td>1</td>\n",
              "      <td>1</td>\n",
              "      <td>5</td>\n",
              "      <td>hotmail</td>\n",
              "    </tr>\n",
              "    <tr>\n",
              "      <th>4</th>\n",
              "      <td>hola,  quisiera obtener mi promedio o saber co...</td>\n",
              "      <td>Situación Académica</td>\n",
              "      <td>5</td>\n",
              "      <td>1</td>\n",
              "      <td>8</td>\n",
              "      <td>2</td>\n",
              "      <td>2016</td>\n",
              "      <td>1</td>\n",
              "      <td>3</td>\n",
              "      <td>1</td>\n",
              "      <td>1</td>\n",
              "      <td>1</td>\n",
              "      <td>54</td>\n",
              "      <td>hotmail</td>\n",
              "    </tr>\n",
              "  </tbody>\n",
              "</table>\n",
              "</div>"
            ],
            "text/plain": [
              "                                            Consulta  ... proveedor_correo\n",
              "0  hola quiero anotarme a las materias ,para el s...  ...            gmail\n",
              "1  hola buenos días! quería saber cuando voy a po...  ...          outlook\n",
              "2  hola quisiera saber si en la consulta de situa...  ...            gmail\n",
              "3  buenas noches. en mi situacion academica apare...  ...          hotmail\n",
              "4  hola,  quisiera obtener mi promedio o saber co...  ...          hotmail\n",
              "\n",
              "[5 rows x 14 columns]"
            ]
          },
          "metadata": {
            "tags": []
          },
          "execution_count": 564
        }
      ]
    },
    {
      "cell_type": "markdown",
      "metadata": {
        "id": "Z6DESYPxrGnO"
      },
      "source": [
        "9. Reordeno la clase para que me quede última:"
      ]
    },
    {
      "cell_type": "code",
      "metadata": {
        "id": "tvK6vaU6rcok"
      },
      "source": [
        "y = df['Clase']\r\n",
        "df.drop(columns=['Clase'], inplace=True)\r\n",
        "df.insert(13, \"Clase\", y, True)"
      ],
      "execution_count": 565,
      "outputs": []
    },
    {
      "cell_type": "code",
      "metadata": {
        "colab": {
          "base_uri": "https://localhost:8080/",
          "height": 667
        },
        "id": "kk49RVpUr7oc",
        "outputId": "0264cf23-20be-4004-ffb7-b7cee17f8234"
      },
      "source": [
        "# Tomo una consulta determinada\r\n",
        "df.loc[1, 'Consulta']\r\n",
        "\r\n",
        "# Verifico las columnas del Dataframe\r\n",
        "df.head()"
      ],
      "execution_count": 566,
      "outputs": [
        {
          "output_type": "execute_result",
          "data": {
            "text/html": [
              "<div>\n",
              "<style scoped>\n",
              "    .dataframe tbody tr th:only-of-type {\n",
              "        vertical-align: middle;\n",
              "    }\n",
              "\n",
              "    .dataframe tbody tr th {\n",
              "        vertical-align: top;\n",
              "    }\n",
              "\n",
              "    .dataframe thead th {\n",
              "        text-align: right;\n",
              "    }\n",
              "</style>\n",
              "<table border=\"1\" class=\"dataframe\">\n",
              "  <thead>\n",
              "    <tr style=\"text-align: right;\">\n",
              "      <th></th>\n",
              "      <th>Consulta</th>\n",
              "      <th>dia_semana</th>\n",
              "      <th>semana_del_mes</th>\n",
              "      <th>mes</th>\n",
              "      <th>cuatrimestre</th>\n",
              "      <th>anio</th>\n",
              "      <th>hora_discretizada</th>\n",
              "      <th>dni_discretizado</th>\n",
              "      <th>legajo_discretizado</th>\n",
              "      <th>posee_legajo</th>\n",
              "      <th>posee_telefono</th>\n",
              "      <th>carrera_valor</th>\n",
              "      <th>proveedor_correo</th>\n",
              "      <th>Clase</th>\n",
              "    </tr>\n",
              "  </thead>\n",
              "  <tbody>\n",
              "    <tr>\n",
              "      <th>0</th>\n",
              "      <td>hola quiero anotarme a las materias ,para el s...</td>\n",
              "      <td>0</td>\n",
              "      <td>1</td>\n",
              "      <td>8</td>\n",
              "      <td>2</td>\n",
              "      <td>2019</td>\n",
              "      <td>0</td>\n",
              "      <td>3</td>\n",
              "      <td>4</td>\n",
              "      <td>1</td>\n",
              "      <td>1</td>\n",
              "      <td>52</td>\n",
              "      <td>gmail</td>\n",
              "      <td>Vacunas Enfermería</td>\n",
              "    </tr>\n",
              "    <tr>\n",
              "      <th>1</th>\n",
              "      <td>hola buenos días! quería saber cuando voy a po...</td>\n",
              "      <td>1</td>\n",
              "      <td>2</td>\n",
              "      <td>8</td>\n",
              "      <td>2</td>\n",
              "      <td>2017</td>\n",
              "      <td>1</td>\n",
              "      <td>3</td>\n",
              "      <td>3</td>\n",
              "      <td>1</td>\n",
              "      <td>1</td>\n",
              "      <td>52</td>\n",
              "      <td>outlook</td>\n",
              "      <td>Vacunas Enfermería</td>\n",
              "    </tr>\n",
              "    <tr>\n",
              "      <th>2</th>\n",
              "      <td>hola quisiera saber si en la consulta de situa...</td>\n",
              "      <td>2</td>\n",
              "      <td>5</td>\n",
              "      <td>5</td>\n",
              "      <td>1</td>\n",
              "      <td>2017</td>\n",
              "      <td>3</td>\n",
              "      <td>8</td>\n",
              "      <td>3</td>\n",
              "      <td>1</td>\n",
              "      <td>0</td>\n",
              "      <td>54</td>\n",
              "      <td>gmail</td>\n",
              "      <td>Situación Académica</td>\n",
              "    </tr>\n",
              "    <tr>\n",
              "      <th>3</th>\n",
              "      <td>buenas noches. en mi situacion academica apare...</td>\n",
              "      <td>0</td>\n",
              "      <td>1</td>\n",
              "      <td>2</td>\n",
              "      <td>1</td>\n",
              "      <td>2018</td>\n",
              "      <td>3</td>\n",
              "      <td>5</td>\n",
              "      <td>3</td>\n",
              "      <td>1</td>\n",
              "      <td>1</td>\n",
              "      <td>5</td>\n",
              "      <td>hotmail</td>\n",
              "      <td>Situación Académica</td>\n",
              "    </tr>\n",
              "    <tr>\n",
              "      <th>4</th>\n",
              "      <td>hola,  quisiera obtener mi promedio o saber co...</td>\n",
              "      <td>5</td>\n",
              "      <td>1</td>\n",
              "      <td>8</td>\n",
              "      <td>2</td>\n",
              "      <td>2016</td>\n",
              "      <td>1</td>\n",
              "      <td>3</td>\n",
              "      <td>1</td>\n",
              "      <td>1</td>\n",
              "      <td>1</td>\n",
              "      <td>54</td>\n",
              "      <td>hotmail</td>\n",
              "      <td>Situación Académica</td>\n",
              "    </tr>\n",
              "  </tbody>\n",
              "</table>\n",
              "</div>"
            ],
            "text/plain": [
              "                                            Consulta  ...                Clase\n",
              "0  hola quiero anotarme a las materias ,para el s...  ...   Vacunas Enfermería\n",
              "1  hola buenos días! quería saber cuando voy a po...  ...   Vacunas Enfermería\n",
              "2  hola quisiera saber si en la consulta de situa...  ...  Situación Académica\n",
              "3  buenas noches. en mi situacion academica apare...  ...  Situación Académica\n",
              "4  hola,  quisiera obtener mi promedio o saber co...  ...  Situación Académica\n",
              "\n",
              "[5 rows x 14 columns]"
            ]
          },
          "metadata": {
            "tags": []
          },
          "execution_count": 566
        }
      ]
    },
    {
      "cell_type": "markdown",
      "metadata": {
        "id": "BO_wCMJfs95e"
      },
      "source": [
        "10. Guardo el csv procesado:"
      ]
    },
    {
      "cell_type": "code",
      "metadata": {
        "colab": {
          "base_uri": "https://localhost:8080/"
        },
        "id": "9YmtjSkxs86i",
        "outputId": "bbf1d64e-08d2-4544-e601-c864d99971b0"
      },
      "source": [
        "from google.colab import drive\r\n",
        "drive.mount('drive')\r\n",
        "\r\n",
        "df.to_csv('01-Correos_1er_preprocesamiento.csv', index=False)\r\n",
        "\r\n",
        "!cp 01-Correos_1er_preprocesamiento.csv \"drive/My Drive/\""
      ],
      "execution_count": 567,
      "outputs": [
        {
          "output_type": "stream",
          "text": [
            "Drive already mounted at drive; to attempt to forcibly remount, call drive.mount(\"drive\", force_remount=True).\n"
          ],
          "name": "stdout"
        }
      ]
    }
  ]
}