{
  "nbformat": 4,
  "nbformat_minor": 0,
  "metadata": {
    "colab": {
      "name": "LSA/LDA-TFI.ipynb",
      "provenance": [],
      "collapsed_sections": [],
      "machine_shape": "hm",
      "include_colab_link": true
    },
    "kernelspec": {
      "name": "python3",
      "display_name": "Python 3"
    },
    "accelerator": "GPU"
  },
  "cells": [
    {
      "cell_type": "markdown",
      "metadata": {
        "id": "view-in-github",
        "colab_type": "text"
      },
      "source": [
        "<a href=\"https://colab.research.google.com/github/jumafernandez/UNLP/blob/master/TFI/LSA_LDA_TFI.ipynb\" target=\"_parent\"><img src=\"https://colab.research.google.com/assets/colab-badge.svg\" alt=\"Open In Colab\"/></a>"
      ]
    },
    {
      "cell_type": "markdown",
      "metadata": {
        "id": "V0UBlkyp_gme"
      },
      "source": [
        "### Cargo las librerías\n",
        "\n"
      ]
    },
    {
      "cell_type": "code",
      "metadata": {
        "id": "ui5Uo0hn_eGm"
      },
      "source": [
        "import pandas as pd\n",
        "import numpy as np\n",
        "import re\n",
        "import nltk\n",
        "from nltk.stem import WordNetLemmatizer\n",
        "from nltk import word_tokenize\n",
        "from nltk.corpus import stopwords\n",
        "import string\n",
        "import matplotlib.pyplot as plt\n",
        "import gensim\n",
        "import numpy as np\n",
        "from gensim.models import CoherenceModel, LdaModel, LsiModel, HdpModel\n",
        "from gensim.models.wrappers import LdaMallet\n",
        "from gensim.corpora import Dictionary\n"
      ],
      "execution_count": 151,
      "outputs": []
    },
    {
      "cell_type": "markdown",
      "metadata": {
        "id": "SBS3r7AFAEtg"
      },
      "source": [
        "### Levanto los datos"
      ]
    },
    {
      "cell_type": "code",
      "metadata": {
        "id": "6kQ04dhh_zVj",
        "colab": {
          "base_uri": "https://localhost:8080/"
        },
        "outputId": "f899bc20-26bd-4304-a0fe-44c7e3a20cdf"
      },
      "source": [
        "# Descargo el archivo con las consultas que está en Github\n",
        "!wget https://raw.githubusercontent.com/jumafernandez/UNLP/master/TFI/data/Correos_Seleccionados_y_Etiquetados.csv\n",
        "\n",
        "# Leo el archivo en un dataframe\n",
        "import pandas as pd\n",
        "\n",
        "df = pd.read_csv('Correos_Seleccionados_y_Etiquetados.csv', delimiter=\"|\")\n",
        "df.info()\n",
        "\n",
        "# Vemos la cantidad de Instancias por clase\n",
        "df.Clase.value_counts()\n",
        "\n",
        "# Transformamos todas las Clases minoritarias (Puedo ir variando la cantidad de clases que derivo a la Clase \"Otras Consultas\")\n",
        "cantidad_clases=3\n",
        "clases = df.Clase.value_counts()\n",
        "clases_minoritarias = clases.iloc[cantidad_clases:].keys().to_list()\n",
        "df.Clase[df['Clase'].isin(clases_minoritarias)] = \"Otras Consultas\"\n",
        "\n",
        "df.Clase.value_counts()"
      ],
      "execution_count": 152,
      "outputs": [
        {
          "output_type": "stream",
          "text": [
            "--2020-12-08 09:27:20--  https://raw.githubusercontent.com/jumafernandez/UNLP/master/TFI/data/Correos_Seleccionados_y_Etiquetados.csv\n",
            "Resolving raw.githubusercontent.com (raw.githubusercontent.com)... 151.101.0.133, 151.101.64.133, 151.101.128.133, ...\n",
            "Connecting to raw.githubusercontent.com (raw.githubusercontent.com)|151.101.0.133|:443... connected.\n",
            "HTTP request sent, awaiting response... 200 OK\n",
            "Length: 448336 (438K) [text/plain]\n",
            "Saving to: ‘Correos_Seleccionados_y_Etiquetados.csv.4’\n",
            "\n",
            "\r          Correos_S   0%[                    ]       0  --.-KB/s               \rCorreos_Seleccionad 100%[===================>] 437.83K  --.-KB/s    in 0.03s   \n",
            "\n",
            "2020-12-08 09:27:20 (14.6 MB/s) - ‘Correos_Seleccionados_y_Etiquetados.csv.4’ saved [448336/448336]\n",
            "\n",
            "<class 'pandas.core.frame.DataFrame'>\n",
            "RangeIndex: 1000 entries, 0 to 999\n",
            "Data columns (total 11 columns):\n",
            " #   Column             Non-Null Count  Dtype \n",
            "---  ------             --------------  ----- \n",
            " 0   Fecha              1000 non-null   object\n",
            " 1   Hora               1000 non-null   object\n",
            " 2   Apellido y Nombre  1000 non-null   object\n",
            " 3   Legajo             691 non-null    object\n",
            " 4   Documento          1000 non-null   int64 \n",
            " 5   Carrera            1000 non-null   object\n",
            " 6   Teléfono           851 non-null    object\n",
            " 7   E-mail             1000 non-null   object\n",
            " 8   Consulta           1000 non-null   object\n",
            " 9   Respuesta          1000 non-null   object\n",
            " 10  Clase              1000 non-null   object\n",
            "dtypes: int64(1), object(10)\n",
            "memory usage: 86.1+ KB\n"
          ],
          "name": "stdout"
        },
        {
          "output_type": "stream",
          "text": [
            "/usr/local/lib/python3.6/dist-packages/ipykernel_launcher.py:17: SettingWithCopyWarning: \n",
            "A value is trying to be set on a copy of a slice from a DataFrame\n",
            "\n",
            "See the caveats in the documentation: https://pandas.pydata.org/pandas-docs/stable/user_guide/indexing.html#returning-a-view-versus-a-copy\n"
          ],
          "name": "stderr"
        },
        {
          "output_type": "execute_result",
          "data": {
            "text/plain": [
              "Otras Consultas             399\n",
              "Boleto Universitario        240\n",
              "Ingreso a la Universidad    232\n",
              "Requisitos de Ingreso       129\n",
              "Name: Clase, dtype: int64"
            ]
          },
          "metadata": {
            "tags": []
          },
          "execution_count": 152
        }
      ]
    },
    {
      "cell_type": "code",
      "metadata": {
        "id": "550zxhdVCl6y",
        "colab": {
          "base_uri": "https://localhost:8080/",
          "height": 162
        },
        "outputId": "adb5a393-61b4-4451-bce4-fa1b453df5c1"
      },
      "source": [
        "# Miro las primeras dos consultas\n",
        "df.head(2)"
      ],
      "execution_count": 153,
      "outputs": [
        {
          "output_type": "execute_result",
          "data": {
            "text/html": [
              "<div>\n",
              "<style scoped>\n",
              "    .dataframe tbody tr th:only-of-type {\n",
              "        vertical-align: middle;\n",
              "    }\n",
              "\n",
              "    .dataframe tbody tr th {\n",
              "        vertical-align: top;\n",
              "    }\n",
              "\n",
              "    .dataframe thead th {\n",
              "        text-align: right;\n",
              "    }\n",
              "</style>\n",
              "<table border=\"1\" class=\"dataframe\">\n",
              "  <thead>\n",
              "    <tr style=\"text-align: right;\">\n",
              "      <th></th>\n",
              "      <th>Fecha</th>\n",
              "      <th>Hora</th>\n",
              "      <th>Apellido y Nombre</th>\n",
              "      <th>Legajo</th>\n",
              "      <th>Documento</th>\n",
              "      <th>Carrera</th>\n",
              "      <th>Teléfono</th>\n",
              "      <th>E-mail</th>\n",
              "      <th>Consulta</th>\n",
              "      <th>Respuesta</th>\n",
              "      <th>Clase</th>\n",
              "    </tr>\n",
              "  </thead>\n",
              "  <tbody>\n",
              "    <tr>\n",
              "      <th>0</th>\n",
              "      <td>08-05-2019</td>\n",
              "      <td>10:49:26</td>\n",
              "      <td>florencia  roland</td>\n",
              "      <td>169336</td>\n",
              "      <td>33829069</td>\n",
              "      <td>licenciatura en enfermeria(52)</td>\n",
              "      <td>1121550750</td>\n",
              "      <td>rolandflorencia@gmail.com</td>\n",
              "      <td>hola quiero anotarme a las materias ,para el s...</td>\n",
              "      <td>te falta presentar alguna de las vacunas   sal...</td>\n",
              "      <td>Otras Consultas</td>\n",
              "    </tr>\n",
              "    <tr>\n",
              "      <th>1</th>\n",
              "      <td>08-08-2017</td>\n",
              "      <td>12:29:59</td>\n",
              "      <td>lourdes vanesa gómez</td>\n",
              "      <td>150786</td>\n",
              "      <td>33220121</td>\n",
              "      <td>licenciatura en enfermeria(52)</td>\n",
              "      <td>1131066251</td>\n",
              "      <td>vane_male@outlook.com</td>\n",
              "      <td>hola buenos días! quería saber cuando voy a po...</td>\n",
              "      <td>lo que falta es que la coordinación autorice l...</td>\n",
              "      <td>Otras Consultas</td>\n",
              "    </tr>\n",
              "  </tbody>\n",
              "</table>\n",
              "</div>"
            ],
            "text/plain": [
              "        Fecha  ...            Clase\n",
              "0  08-05-2019  ...  Otras Consultas\n",
              "1  08-08-2017  ...  Otras Consultas\n",
              "\n",
              "[2 rows x 11 columns]"
            ]
          },
          "metadata": {
            "tags": []
          },
          "execution_count": 153
        }
      ]
    },
    {
      "cell_type": "code",
      "metadata": {
        "id": "SX-drtppC9nB",
        "colab": {
          "base_uri": "https://localhost:8080/"
        },
        "outputId": "e9cd124f-4740-4c9b-8a59-a3561b38308f"
      },
      "source": [
        "# Chequeo dimensionalidad\n",
        "df.shape"
      ],
      "execution_count": 154,
      "outputs": [
        {
          "output_type": "execute_result",
          "data": {
            "text/plain": [
              "(1000, 11)"
            ]
          },
          "metadata": {
            "tags": []
          },
          "execution_count": 154
        }
      ]
    },
    {
      "cell_type": "code",
      "metadata": {
        "id": "bflY9AU1Vbh5",
        "colab": {
          "base_uri": "https://localhost:8080/"
        },
        "outputId": "e11da3d5-68c6-4c13-fba1-3a0796dc98d8"
      },
      "source": [
        "# Verifico las columnas del df\n",
        "df.info()"
      ],
      "execution_count": 155,
      "outputs": [
        {
          "output_type": "stream",
          "text": [
            "<class 'pandas.core.frame.DataFrame'>\n",
            "RangeIndex: 1000 entries, 0 to 999\n",
            "Data columns (total 11 columns):\n",
            " #   Column             Non-Null Count  Dtype \n",
            "---  ------             --------------  ----- \n",
            " 0   Fecha              1000 non-null   object\n",
            " 1   Hora               1000 non-null   object\n",
            " 2   Apellido y Nombre  1000 non-null   object\n",
            " 3   Legajo             691 non-null    object\n",
            " 4   Documento          1000 non-null   int64 \n",
            " 5   Carrera            1000 non-null   object\n",
            " 6   Teléfono           851 non-null    object\n",
            " 7   E-mail             1000 non-null   object\n",
            " 8   Consulta           1000 non-null   object\n",
            " 9   Respuesta          1000 non-null   object\n",
            " 10  Clase              1000 non-null   object\n",
            "dtypes: int64(1), object(10)\n",
            "memory usage: 86.1+ KB\n"
          ],
          "name": "stdout"
        }
      ]
    },
    {
      "cell_type": "markdown",
      "metadata": {
        "id": "F6qwR5CAahLp"
      },
      "source": [
        "### Realizo el preprocesamiento de los datos"
      ]
    },
    {
      "cell_type": "code",
      "metadata": {
        "id": "ZeVWKQH4kylR"
      },
      "source": [
        "# Defino una lista negra de palabras adicionales a las stop_words para borrar\n",
        "black_list = ['más', 'mas', 'unir', 'paises', 'pais', 'espa', 'no', 'os', 'a', 'compa', 'acompa', 'off', 'and', 'grecia', 'the','it', 'to',\n",
        "              'd',  'et',  'dame',  'il',  'dans', 'that',  'as',   'for',  'it',  'elections',  'would',  'this',  'with', 'york', 'obama', 'chavez', 'gadafi']"
      ],
      "execution_count": 156,
      "outputs": []
    },
    {
      "cell_type": "code",
      "metadata": {
        "id": "H_7Un4fSFbdC"
      },
      "source": [
        "# Creo una función que limpia el texto en español, borrando caracteres no alfanuméricos, removiendo duplicados, dígitos, etc, etc\n",
        "def cleaner(word):\n",
        "  word = re.sub(r'((http|https)\\:\\/\\/)?[a-zA-Z0-9\\.\\/\\?\\:@\\-_=#]+\\.([a-zA-Z]){2,6}([a-zA-Z0-9\\.\\&\\/\\?\\:@\\-_=#])*', '', word, flags=re.MULTILINE)\n",
        "  word = re.sub(r'(?::|;|=)(?:-)?(?:\\)|\\(|D|P)', \"\", word)\n",
        "  word = re.sub(r'ee.uu', 'eeuu', word)\n",
        "  word = re.sub(r'\\#\\.', '', word)\n",
        "  word = re.sub(r'\\n', '', word)\n",
        "  word = re.sub(r',', '', word)\n",
        "  word = re.sub(r'\\-', ' ', word)\n",
        "  word = re.sub(r'\\.{3}', ' ', word)\n",
        "  word = re.sub(r'a{2,}', 'a', word)\n",
        "  word = re.sub(r'é{2,}', 'é', word)\n",
        "  word = re.sub(r'i{2,}', 'i', word)\n",
        "  word = re.sub(r'ja{2,}', 'ja', word) \n",
        "  word = re.sub(r'á', 'a', word)\n",
        "  word = re.sub(r'é', 'e', word)\n",
        "  word = re.sub(r'í', 'i', word)\n",
        "  word = re.sub(r'ó', 'o', word)\n",
        "  word = re.sub(r'ú', 'u', word)  \n",
        "  word = re.sub('[^a-zA-Z]', ' ', word)\n",
        "  list_word_clean = []\n",
        "  for w1 in word.split(\" \"):\n",
        "    if  w1.lower() not in stopwords:\n",
        "      list_word_clean.append(w1.lower())\n",
        "\n",
        "  bigram_list = bigram[list_word_clean]\n",
        "  out_text = lemmatization(\" \".join(bigram_list))\n",
        "  return out_text"
      ],
      "execution_count": 157,
      "outputs": []
    },
    {
      "cell_type": "markdown",
      "metadata": {
        "id": "vmgAfhN6bWrR"
      },
      "source": [
        "Se crea la función para seleccionar **solo sustantivos** para nuestros datos, de esta manera estamos eliminando adverbio, adjetivos, verbos, etc. Esto está hecho con spacy"
      ]
    },
    {
      "cell_type": "code",
      "metadata": {
        "id": "RJPNgE-_xlTA"
      },
      "source": [
        "def lemmatization(texts, allowed_postags=['NOUN']):\n",
        "    texts_out = [ token.text for token in nlp(texts) if token.pos_ in \n",
        "                 allowed_postags and token.text not in black_list and len(token.text)>2]\n",
        "    return texts_out"
      ],
      "execution_count": 158,
      "outputs": []
    },
    {
      "cell_type": "markdown",
      "metadata": {
        "id": "3wMjzGX9bscx"
      },
      "source": [
        "Transformamos el dataframe a una lista como solicita gensim"
      ]
    },
    {
      "cell_type": "code",
      "metadata": {
        "id": "IZhWiKxY4Gx2",
        "colab": {
          "base_uri": "https://localhost:8080/"
        },
        "outputId": "98895430-908d-4276-cfd2-3ac05bb3b332"
      },
      "source": [
        "len(df.Consulta.to_list())"
      ],
      "execution_count": 159,
      "outputs": [
        {
          "output_type": "execute_result",
          "data": {
            "text/plain": [
              "1000"
            ]
          },
          "metadata": {
            "tags": []
          },
          "execution_count": 159
        }
      ]
    },
    {
      "cell_type": "markdown",
      "metadata": {
        "id": "sttvo4cjb3Xw"
      },
      "source": [
        "Luego buscamos bigrama en nuestros datos, es decir, un par de palabras que juntas tienen más significado para nuestro modelo."
      ]
    },
    {
      "cell_type": "code",
      "metadata": {
        "id": "mPvcc00U4Cf1",
        "colab": {
          "base_uri": "https://localhost:8080/"
        },
        "outputId": "d11ec031-cce1-4bbf-98bd-d67f5904f7cd"
      },
      "source": [
        "%%time\n",
        "bigram = gensim.models.Phrases(df.Consulta.to_list()) "
      ],
      "execution_count": 160,
      "outputs": [
        {
          "output_type": "stream",
          "text": [
            "CPU times: user 222 ms, sys: 2.07 ms, total: 224 ms\n",
            "Wall time: 222 ms\n"
          ],
          "name": "stdout"
        }
      ]
    },
    {
      "cell_type": "markdown",
      "metadata": {
        "id": "WtXW9eY2cW0S"
      },
      "source": [
        "Verificamos el output"
      ]
    },
    {
      "cell_type": "code",
      "metadata": {
        "id": "mz_o4wsC45S4",
        "colab": {
          "base_uri": "https://localhost:8080/"
        },
        "outputId": "9530fbbc-c442-4b8e-aa6f-f64e715254c6"
      },
      "source": [
        "bigram[df.Consulta.to_list()[0].split()]"
      ],
      "execution_count": 161,
      "outputs": [
        {
          "output_type": "stream",
          "text": [
            "/usr/local/lib/python3.6/dist-packages/gensim/models/phrases.py:598: UserWarning: For a faster implementation, use the gensim.models.phrases.Phraser class\n",
            "  warnings.warn(\"For a faster implementation, use the gensim.models.phrases.Phraser class\")\n"
          ],
          "name": "stderr"
        },
        {
          "output_type": "execute_result",
          "data": {
            "text/plain": [
              "['hola',\n",
              " 'quiero',\n",
              " 'anotarme',\n",
              " 'a',\n",
              " 'las',\n",
              " 'materias',\n",
              " ',para',\n",
              " 'el',\n",
              " 'segundo',\n",
              " 'cuatri',\n",
              " ',pero',\n",
              " 'no',\n",
              " 'puedo',\n",
              " ',dice',\n",
              " 'que',\n",
              " 'no',\n",
              " 'estoy',\n",
              " 'en',\n",
              " 'condiciones,me',\n",
              " 'podrian',\n",
              " 'decir',\n",
              " 'que',\n",
              " 'tengo',\n",
              " 'que',\n",
              " 'hacer,muchas',\n",
              " 'gracias']"
            ]
          },
          "metadata": {
            "tags": []
          },
          "execution_count": 161
        }
      ]
    },
    {
      "cell_type": "code",
      "metadata": {
        "id": "kJzcwy4ORHD1",
        "colab": {
          "base_uri": "https://localhost:8080/"
        },
        "outputId": "0fc087e1-bcf6-47f3-d245-902ddb87eab1"
      },
      "source": [
        "import nltk\n",
        "nltk.download('stopwords')\n",
        "nltk.download('punkt')\n"
      ],
      "execution_count": 162,
      "outputs": [
        {
          "output_type": "stream",
          "text": [
            "[nltk_data] Downloading package stopwords to /root/nltk_data...\n",
            "[nltk_data]   Package stopwords is already up-to-date!\n",
            "[nltk_data] Downloading package punkt to /root/nltk_data...\n",
            "[nltk_data]   Package punkt is already up-to-date!\n"
          ],
          "name": "stdout"
        },
        {
          "output_type": "execute_result",
          "data": {
            "text/plain": [
              "True"
            ]
          },
          "metadata": {
            "tags": []
          },
          "execution_count": 162
        }
      ]
    },
    {
      "cell_type": "code",
      "metadata": {
        "id": "pLssTi3sRbnI"
      },
      "source": [
        "from nltk import word_tokenize\n",
        "from nltk.corpus import stopwords\n",
        "stop = set(stopwords.words('spanish'))\n",
        "\n",
        "additional_stopwords=set(black_list)\n",
        "\n",
        "stopwords = stop.union(additional_stopwords)"
      ],
      "execution_count": 163,
      "outputs": []
    },
    {
      "cell_type": "markdown",
      "metadata": {
        "id": "_myg8aFowQ-Y"
      },
      "source": [
        "Usamos spacy para lematizar las palabras"
      ]
    },
    {
      "cell_type": "code",
      "metadata": {
        "id": "HciZjXBfwbXM",
        "colab": {
          "base_uri": "https://localhost:8080/"
        },
        "outputId": "7ad1dff9-2649-4f60-b4ad-8eb7ed92e4be"
      },
      "source": [
        "!python -m spacy download es_core_news_md"
      ],
      "execution_count": 164,
      "outputs": [
        {
          "output_type": "stream",
          "text": [
            "Requirement already satisfied: es_core_news_md==2.2.5 from https://github.com/explosion/spacy-models/releases/download/es_core_news_md-2.2.5/es_core_news_md-2.2.5.tar.gz#egg=es_core_news_md==2.2.5 in /usr/local/lib/python3.6/dist-packages (2.2.5)\n",
            "Requirement already satisfied: spacy>=2.2.2 in /usr/local/lib/python3.6/dist-packages (from es_core_news_md==2.2.5) (2.2.4)\n",
            "Requirement already satisfied: plac<1.2.0,>=0.9.6 in /usr/local/lib/python3.6/dist-packages (from spacy>=2.2.2->es_core_news_md==2.2.5) (1.1.3)\n",
            "Requirement already satisfied: setuptools in /usr/local/lib/python3.6/dist-packages (from spacy>=2.2.2->es_core_news_md==2.2.5) (50.3.2)\n",
            "Requirement already satisfied: preshed<3.1.0,>=3.0.2 in /usr/local/lib/python3.6/dist-packages (from spacy>=2.2.2->es_core_news_md==2.2.5) (3.0.4)\n",
            "Requirement already satisfied: catalogue<1.1.0,>=0.0.7 in /usr/local/lib/python3.6/dist-packages (from spacy>=2.2.2->es_core_news_md==2.2.5) (1.0.0)\n",
            "Requirement already satisfied: numpy>=1.15.0 in /usr/local/lib/python3.6/dist-packages (from spacy>=2.2.2->es_core_news_md==2.2.5) (1.18.5)\n",
            "Requirement already satisfied: murmurhash<1.1.0,>=0.28.0 in /usr/local/lib/python3.6/dist-packages (from spacy>=2.2.2->es_core_news_md==2.2.5) (1.0.4)\n",
            "Requirement already satisfied: wasabi<1.1.0,>=0.4.0 in /usr/local/lib/python3.6/dist-packages (from spacy>=2.2.2->es_core_news_md==2.2.5) (0.8.0)\n",
            "Requirement already satisfied: tqdm<5.0.0,>=4.38.0 in /usr/local/lib/python3.6/dist-packages (from spacy>=2.2.2->es_core_news_md==2.2.5) (4.41.1)\n",
            "Requirement already satisfied: requests<3.0.0,>=2.13.0 in /usr/local/lib/python3.6/dist-packages (from spacy>=2.2.2->es_core_news_md==2.2.5) (2.23.0)\n",
            "Requirement already satisfied: blis<0.5.0,>=0.4.0 in /usr/local/lib/python3.6/dist-packages (from spacy>=2.2.2->es_core_news_md==2.2.5) (0.4.1)\n",
            "Requirement already satisfied: cymem<2.1.0,>=2.0.2 in /usr/local/lib/python3.6/dist-packages (from spacy>=2.2.2->es_core_news_md==2.2.5) (2.0.4)\n",
            "Requirement already satisfied: thinc==7.4.0 in /usr/local/lib/python3.6/dist-packages (from spacy>=2.2.2->es_core_news_md==2.2.5) (7.4.0)\n",
            "Requirement already satisfied: srsly<1.1.0,>=1.0.2 in /usr/local/lib/python3.6/dist-packages (from spacy>=2.2.2->es_core_news_md==2.2.5) (1.0.4)\n",
            "Requirement already satisfied: importlib-metadata>=0.20; python_version < \"3.8\" in /usr/local/lib/python3.6/dist-packages (from catalogue<1.1.0,>=0.0.7->spacy>=2.2.2->es_core_news_md==2.2.5) (2.0.0)\n",
            "Requirement already satisfied: chardet<4,>=3.0.2 in /usr/local/lib/python3.6/dist-packages (from requests<3.0.0,>=2.13.0->spacy>=2.2.2->es_core_news_md==2.2.5) (3.0.4)\n",
            "Requirement already satisfied: urllib3!=1.25.0,!=1.25.1,<1.26,>=1.21.1 in /usr/local/lib/python3.6/dist-packages (from requests<3.0.0,>=2.13.0->spacy>=2.2.2->es_core_news_md==2.2.5) (1.24.3)\n",
            "Requirement already satisfied: idna<3,>=2.5 in /usr/local/lib/python3.6/dist-packages (from requests<3.0.0,>=2.13.0->spacy>=2.2.2->es_core_news_md==2.2.5) (2.10)\n",
            "Requirement already satisfied: certifi>=2017.4.17 in /usr/local/lib/python3.6/dist-packages (from requests<3.0.0,>=2.13.0->spacy>=2.2.2->es_core_news_md==2.2.5) (2020.11.8)\n",
            "Requirement already satisfied: zipp>=0.5 in /usr/local/lib/python3.6/dist-packages (from importlib-metadata>=0.20; python_version < \"3.8\"->catalogue<1.1.0,>=0.0.7->spacy>=2.2.2->es_core_news_md==2.2.5) (3.4.0)\n",
            "\u001b[38;5;2m✔ Download and installation successful\u001b[0m\n",
            "You can now load the model via spacy.load('es_core_news_md')\n"
          ],
          "name": "stdout"
        }
      ]
    },
    {
      "cell_type": "code",
      "metadata": {
        "id": "U_VvsxoSwjo3",
        "colab": {
          "base_uri": "https://localhost:8080/"
        },
        "outputId": "4b11aa14-64a0-444f-8605-2806c927cdc5"
      },
      "source": [
        "import spacy\n",
        "import spacy.cli\n",
        "spacy.cli.download(\"es_core_news_md\")\n",
        "import es_core_news_md\n",
        "nlp = es_core_news_md.load()\n",
        "\n",
        "#nlp = spacy.load('/usr/local/lib/python3.6/dist-packages/es_core_news_md/es_core_news_md-2.1.0')"
      ],
      "execution_count": 165,
      "outputs": [
        {
          "output_type": "stream",
          "text": [
            "\u001b[38;5;2m✔ Download and installation successful\u001b[0m\n",
            "You can now load the model via spacy.load('es_core_news_md')\n"
          ],
          "name": "stdout"
        }
      ]
    },
    {
      "cell_type": "markdown",
      "metadata": {
        "id": "846CnLGadRmo"
      },
      "source": [
        "Probamos la función para la limpieza de texto"
      ]
    },
    {
      "cell_type": "code",
      "metadata": {
        "id": "yDBAXRQuOnOG",
        "colab": {
          "base_uri": "https://localhost:8080/",
          "height": 52
        },
        "outputId": "5a4c5a1e-397a-4c0c-c9dd-52180d029213"
      },
      "source": [
        "df.Consulta[0]"
      ],
      "execution_count": 166,
      "outputs": [
        {
          "output_type": "execute_result",
          "data": {
            "application/vnd.google.colaboratory.intrinsic+json": {
              "type": "string"
            },
            "text/plain": [
              "'hola quiero anotarme a las materias ,para el segundo cuatri ,pero no puedo ,dice que no estoy en condiciones,me podrian decir que tengo que hacer,muchas gracias  '"
            ]
          },
          "metadata": {
            "tags": []
          },
          "execution_count": 166
        }
      ]
    },
    {
      "cell_type": "code",
      "metadata": {
        "id": "2vyiSwQjPCox",
        "colab": {
          "base_uri": "https://localhost:8080/"
        },
        "outputId": "2955a84a-4e35-44b9-e181-a07d133de9f3"
      },
      "source": [
        "cleaner(df.Consulta[0])"
      ],
      "execution_count": 167,
      "outputs": [
        {
          "output_type": "stream",
          "text": [
            "/usr/local/lib/python3.6/dist-packages/gensim/models/phrases.py:598: UserWarning: For a faster implementation, use the gensim.models.phrases.Phraser class\n",
            "  warnings.warn(\"For a faster implementation, use the gensim.models.phrases.Phraser class\")\n"
          ],
          "name": "stderr"
        },
        {
          "output_type": "execute_result",
          "data": {
            "text/plain": [
              "['materias', 'cuatri', 'hacermuchas', 'gracias']"
            ]
          },
          "metadata": {
            "tags": []
          },
          "execution_count": 167
        }
      ]
    },
    {
      "cell_type": "markdown",
      "metadata": {
        "id": "yjMX0qS4SmUR"
      },
      "source": [
        "##### Let's clean all the text"
      ]
    },
    {
      "cell_type": "code",
      "metadata": {
        "id": "TBDM5Caomutj"
      },
      "source": [
        "df['Consulta_bp'] = df['Consulta']"
      ],
      "execution_count": 168,
      "outputs": []
    },
    {
      "cell_type": "code",
      "metadata": {
        "id": "t2NvS8p5Lfof",
        "colab": {
          "base_uri": "https://localhost:8080/"
        },
        "outputId": "32bf5d95-971c-4df7-a157-54da7a64cc1a"
      },
      "source": [
        "%%time\n",
        "df['Consulta'] = df['Consulta'].apply(cleaner)"
      ],
      "execution_count": 169,
      "outputs": [
        {
          "output_type": "stream",
          "text": [
            "/usr/local/lib/python3.6/dist-packages/gensim/models/phrases.py:598: UserWarning: For a faster implementation, use the gensim.models.phrases.Phraser class\n",
            "  warnings.warn(\"For a faster implementation, use the gensim.models.phrases.Phraser class\")\n"
          ],
          "name": "stderr"
        },
        {
          "output_type": "stream",
          "text": [
            "CPU times: user 8.94 s, sys: 2.43 ms, total: 8.94 s\n",
            "Wall time: 8.94 s\n"
          ],
          "name": "stdout"
        }
      ]
    },
    {
      "cell_type": "markdown",
      "metadata": {
        "id": "7egM0YZzRS9r"
      },
      "source": [
        "Ahora necesitamos construir el **corpus** y el **diccionario** que gensim necesita para funcionar, para hacer eso necesitamos pasar la lista a una lista de tokens:"
      ]
    },
    {
      "cell_type": "code",
      "metadata": {
        "id": "DZmxTdsYTV35",
        "colab": {
          "base_uri": "https://localhost:8080/"
        },
        "outputId": "829fab48-5c18-43d1-f7bd-fa4ffdc0554a"
      },
      "source": [
        "dictionary = Dictionary(df['Consulta'].to_list())\n",
        "dictionary.compactify()\n",
        "\n",
        "# Filtro extremos\n",
        "dictionary.filter_extremes(no_below=2, no_above=0.97, keep_n=None)\n",
        "dictionary.compactify()\n",
        "\n",
        "corpus = [dictionary.doc2bow(text) for text in df['Consulta'].to_list()]\n",
        "\n",
        "corpus"
      ],
      "execution_count": 170,
      "outputs": [
        {
          "output_type": "execute_result",
          "data": {
            "text/plain": [
              "[[(0, 1), (1, 1)],\n",
              " [(1, 1), (2, 1), (3, 1), (4, 1), (5, 1), (6, 1)],\n",
              " [(7, 1), (8, 1), (9, 1)],\n",
              " [(0, 1), (4, 1), (10, 1), (11, 1), (12, 1)],\n",
              " [(0, 1), (13, 1)],\n",
              " [(14, 1), (15, 3), (16, 1)],\n",
              " [(0, 2), (4, 2), (9, 1), (17, 1)],\n",
              " [(18, 1)],\n",
              " [(14, 2), (19, 1), (20, 1), (21, 1)],\n",
              " [(0, 1), (7, 1), (22, 1), (23, 1)],\n",
              " [(0, 1),\n",
              "  (1, 1),\n",
              "  (15, 1),\n",
              "  (16, 1),\n",
              "  (18, 1),\n",
              "  (24, 1),\n",
              "  (25, 1),\n",
              "  (26, 1),\n",
              "  (27, 1)],\n",
              " [(0, 1), (14, 1), (24, 1), (28, 1), (29, 1), (30, 1)],\n",
              " [(0, 1), (16, 1), (24, 1)],\n",
              " [(31, 1), (32, 1), (33, 1)],\n",
              " [(0, 1), (20, 1), (34, 1), (35, 1), (36, 1), (37, 1)],\n",
              " [(11, 1), (34, 1)],\n",
              " [(38, 1), (39, 1), (40, 1)],\n",
              " [(0, 1), (32, 1), (39, 1), (41, 1), (42, 1), (43, 1)],\n",
              " [(0, 1), (44, 1), (45, 1), (46, 1)],\n",
              " [(47, 1)],\n",
              " [(0, 1), (34, 1), (48, 1), (49, 1)],\n",
              " [],\n",
              " [(1, 1), (10, 1), (18, 1), (50, 1)],\n",
              " [(1, 1)],\n",
              " [(20, 1)],\n",
              " [(12, 1), (51, 1)],\n",
              " [(0, 1), (18, 1), (52, 1), (53, 1), (54, 1)],\n",
              " [(14, 1), (15, 1), (55, 1), (56, 1)],\n",
              " [(0, 1), (37, 1), (38, 1), (57, 1), (58, 1), (59, 3), (60, 2)],\n",
              " [(27, 1)],\n",
              " [(0, 1), (7, 1), (59, 2), (61, 1), (62, 1)],\n",
              " [(63, 1)],\n",
              " [(1, 1), (4, 1), (39, 1), (64, 1), (65, 1)],\n",
              " [(0, 1), (4, 1), (27, 1), (33, 1), (34, 1), (35, 1), (66, 1)],\n",
              " [(0, 1), (14, 1), (15, 1), (18, 1), (31, 1), (57, 1), (67, 1)],\n",
              " [(1, 1), (4, 1), (5, 1), (12, 1), (68, 1)],\n",
              " [(39, 1), (69, 1)],\n",
              " [(31, 1), (70, 1)],\n",
              " [(0, 1), (33, 1), (35, 1), (40, 1), (71, 2)],\n",
              " [(0, 1), (7, 1), (27, 1), (37, 1), (72, 1)],\n",
              " [(0, 1), (14, 1), (20, 1), (27, 1)],\n",
              " [(1, 1), (14, 1), (35, 1), (73, 1), (74, 1)],\n",
              " [(1, 1), (21, 1), (33, 1)],\n",
              " [(20, 1), (35, 1), (75, 1)],\n",
              " [(18, 1), (70, 1)],\n",
              " [],\n",
              " [(0, 1), (1, 1), (7, 1), (21, 1), (35, 1), (43, 1), (54, 1), (76, 1)],\n",
              " [(0, 1), (7, 1), (27, 1), (35, 1), (77, 1), (78, 1)],\n",
              " [(0, 1), (20, 2), (34, 1), (35, 1), (40, 1), (49, 1), (79, 1), (80, 1)],\n",
              " [(0, 1), (66, 1), (81, 1)],\n",
              " [(1, 1), (35, 1), (79, 1)],\n",
              " [(0, 1), (34, 1)],\n",
              " [(35, 1), (73, 1), (82, 1), (83, 1)],\n",
              " [(4, 1), (35, 1), (38, 1), (84, 1)],\n",
              " [(1, 1), (18, 1)],\n",
              " [(0, 1), (33, 1), (35, 1), (43, 1), (63, 1)],\n",
              " [(20, 1), (35, 1), (71, 1)],\n",
              " [(35, 2), (73, 1), (74, 1)],\n",
              " [(5, 1), (45, 1), (85, 1)],\n",
              " [(1, 2), (6, 1), (46, 1), (86, 1)],\n",
              " [(0, 1), (18, 1)],\n",
              " [(35, 1)],\n",
              " [(1, 1)],\n",
              " [(34, 2), (35, 1), (75, 1), (81, 1)],\n",
              " [(34, 1)],\n",
              " [(70, 1), (82, 1)],\n",
              " [(35, 1), (37, 1), (73, 1), (79, 1), (87, 1)],\n",
              " [(35, 1), (73, 1), (74, 1), (88, 1)],\n",
              " [(20, 1), (35, 1), (71, 1), (89, 1)],\n",
              " [(5, 1), (18, 1), (90, 1)],\n",
              " [(1, 1), (35, 1)],\n",
              " [(20, 1), (35, 1), (47, 1), (91, 1)],\n",
              " [(27, 1), (39, 1)],\n",
              " [(7, 1), (37, 1), (75, 1)],\n",
              " [(1, 1), (18, 1), (35, 1), (57, 1), (92, 1), (93, 1)],\n",
              " [(94, 1), (95, 1)],\n",
              " [(35, 1), (88, 1)],\n",
              " [(0, 1), (35, 1), (40, 1), (73, 1), (74, 1), (96, 1)],\n",
              " [(0, 1), (37, 1)],\n",
              " [(20, 1), (34, 1), (35, 1), (39, 1)],\n",
              " [(1, 1), (32, 1), (35, 1), (49, 1)],\n",
              " [(0, 1), (35, 1), (97, 1)],\n",
              " [(0, 1), (9, 1), (66, 1)],\n",
              " [(35, 1), (82, 1), (89, 1)],\n",
              " [(1, 1)],\n",
              " [(1, 1)],\n",
              " [(39, 1), (47, 1)],\n",
              " [(20, 1), (35, 1), (38, 1), (39, 1)],\n",
              " [(35, 1), (37, 1), (64, 1), (85, 1), (98, 1)],\n",
              " [(1, 1), (18, 1), (35, 1), (56, 1)],\n",
              " [(0, 1), (35, 1), (73, 1), (99, 1), (100, 1)],\n",
              " [(35, 1), (73, 1), (82, 1)],\n",
              " [(0, 1), (20, 2), (35, 1), (36, 1), (74, 1), (91, 1), (101, 1)],\n",
              " [(0, 1), (1, 1), (4, 1), (18, 1), (40, 1)],\n",
              " [(18, 1), (35, 1), (37, 1), (73, 1)],\n",
              " [(0, 1), (18, 1), (35, 1), (38, 1)],\n",
              " [(0, 1), (1, 1), (34, 1), (37, 1)],\n",
              " [(35, 1), (37, 1), (73, 2)],\n",
              " [(35, 2), (101, 1), (102, 1), (103, 1)],\n",
              " [(0, 1),\n",
              "  (35, 1),\n",
              "  (37, 1),\n",
              "  (49, 1),\n",
              "  (70, 1),\n",
              "  (73, 1),\n",
              "  (88, 1),\n",
              "  (104, 1),\n",
              "  (105, 1),\n",
              "  (106, 1),\n",
              "  (107, 1),\n",
              "  (108, 1)],\n",
              " [(0, 1), (1, 1), (109, 1)],\n",
              " [(1, 1), (35, 1)],\n",
              " [(0, 1), (5, 1), (14, 1)],\n",
              " [(35, 1), (73, 1), (110, 1), (111, 1)],\n",
              " [(0, 1), (40, 1), (47, 1), (71, 1), (112, 1)],\n",
              " [(35, 1), (39, 1)],\n",
              " [(1, 2), (4, 1), (35, 1), (37, 1), (63, 1), (73, 2), (74, 1)],\n",
              " [(0, 1), (1, 1), (18, 1), (20, 1)],\n",
              " [(0, 1), (20, 1), (32, 1), (34, 1), (35, 1), (40, 1), (51, 1), (75, 1)],\n",
              " [(1, 1), (20, 1), (35, 1)],\n",
              " [(35, 1), (85, 1), (89, 1)],\n",
              " [(34, 1), (39, 1)],\n",
              " [(1, 1), (10, 1), (35, 1), (73, 1), (74, 1), (88, 1)],\n",
              " [],\n",
              " [(1, 1), (35, 1)],\n",
              " [(1, 1), (35, 1)],\n",
              " [(27, 1)],\n",
              " [(81, 1), (113, 1), (114, 1)],\n",
              " [(0, 1), (4, 1), (66, 2), (71, 1), (80, 1)],\n",
              " [(80, 1)],\n",
              " [],\n",
              " [(1, 1), (38, 1)],\n",
              " [(8, 1), (34, 1), (39, 1), (66, 1)],\n",
              " [(11, 1), (35, 1), (48, 1), (75, 1), (82, 1), (114, 2)],\n",
              " [(0, 1), (115, 1)],\n",
              " [(1, 1), (4, 1), (10, 1), (18, 1), (80, 1)],\n",
              " [(66, 1), (116, 1)],\n",
              " [(0, 1), (1, 1), (7, 1), (18, 1), (37, 1), (63, 1)],\n",
              " [(0, 1),\n",
              "  (4, 1),\n",
              "  (18, 1),\n",
              "  (20, 1),\n",
              "  (34, 1),\n",
              "  (35, 1),\n",
              "  (40, 1),\n",
              "  (90, 1),\n",
              "  (95, 1),\n",
              "  (117, 1)],\n",
              " [(0, 1), (34, 1), (35, 1), (39, 1), (118, 1)],\n",
              " [(1, 2), (29, 1), (35, 1), (40, 1), (92, 1), (113, 1), (118, 1)],\n",
              " [(1, 1), (35, 1), (49, 1), (73, 1)],\n",
              " [(35, 1), (119, 1)],\n",
              " [(0, 1), (4, 1), (37, 1), (63, 1)],\n",
              " [(35, 1), (39, 1), (54, 1), (64, 1)],\n",
              " [(1, 1)],\n",
              " [(0, 1), (5, 1), (38, 1), (73, 1), (79, 1)],\n",
              " [(0, 1), (34, 1), (39, 1), (66, 1), (108, 1)],\n",
              " [(0, 1), (1, 1), (35, 1), (38, 1), (79, 1)],\n",
              " [(1, 1)],\n",
              " [(0, 1), (20, 1), (120, 1)],\n",
              " [(90, 1), (121, 1)],\n",
              " [(0, 1), (1, 1), (14, 1)],\n",
              " [(14, 1), (18, 2), (39, 1), (122, 1), (123, 1)],\n",
              " [(74, 1), (114, 1), (124, 1)],\n",
              " [(0, 1), (12, 1)],\n",
              " [(0, 1), (63, 1)],\n",
              " [(0, 1), (1, 1), (19, 1), (45, 2)],\n",
              " [(14, 1), (19, 1), (57, 1), (62, 1), (90, 1), (93, 1)],\n",
              " [(1, 1), (125, 1)],\n",
              " [(14, 2), (18, 1), (38, 2), (47, 1), (87, 1), (90, 1), (114, 1)],\n",
              " [(34, 1), (39, 1)],\n",
              " [(1, 2),\n",
              "  (5, 1),\n",
              "  (27, 1),\n",
              "  (34, 1),\n",
              "  (37, 1),\n",
              "  (49, 1),\n",
              "  (52, 1),\n",
              "  (90, 1),\n",
              "  (108, 1),\n",
              "  (126, 1),\n",
              "  (127, 1)],\n",
              " [(0, 1), (9, 1), (27, 1), (37, 1), (47, 1), (128, 1), (129, 1)],\n",
              " [(0, 1), (4, 1), (87, 1), (130, 1), (131, 1)],\n",
              " [(0, 1), (5, 1), (19, 1), (37, 1), (132, 1), (133, 1)],\n",
              " [(0, 1), (14, 1), (38, 1), (84, 1), (94, 1), (134, 1)],\n",
              " [(5, 1), (14, 1), (34, 1), (73, 1), (110, 1)],\n",
              " [(0, 1), (1, 1), (27, 1), (135, 1)],\n",
              " [(0, 1), (18, 1), (136, 1)],\n",
              " [],\n",
              " [(20, 1), (33, 1), (34, 1), (35, 1), (59, 1), (137, 1)],\n",
              " [(34, 1), (47, 1), (138, 2), (139, 1), (140, 1)],\n",
              " [(33, 1), (35, 1), (39, 1), (49, 1), (66, 1), (84, 1)],\n",
              " [(0, 1), (4, 1), (52, 1), (84, 1), (125, 1), (126, 1)],\n",
              " [(0, 1), (1, 1), (5, 1), (141, 1)],\n",
              " [],\n",
              " [(1, 1), (18, 1)],\n",
              " [(0, 1), (142, 1)],\n",
              " [(1, 1)],\n",
              " [(0, 1),\n",
              "  (5, 1),\n",
              "  (14, 1),\n",
              "  (37, 1),\n",
              "  (46, 1),\n",
              "  (47, 1),\n",
              "  (87, 1),\n",
              "  (136, 1),\n",
              "  (143, 1)],\n",
              " [(1, 1), (18, 1), (27, 1), (66, 1)],\n",
              " [(9, 1), (14, 1), (144, 1), (145, 1)],\n",
              " [(0, 1), (1, 1), (53, 1)],\n",
              " [],\n",
              " [],\n",
              " [(1, 1), (9, 1)],\n",
              " [(0, 1), (38, 1), (66, 1), (146, 1)],\n",
              " [(14, 1)],\n",
              " [(0, 1), (1, 1), (45, 1), (75, 1)],\n",
              " [(0, 1), (14, 1), (52, 1), (147, 1), (148, 1)],\n",
              " [],\n",
              " [(14, 1)],\n",
              " [(1, 1), (18, 1)],\n",
              " [(0, 1), (5, 1), (10, 1), (14, 1), (37, 1), (149, 1)],\n",
              " [(0, 1), (14, 1), (132, 1)],\n",
              " [(0, 1), (19, 1), (71, 1)],\n",
              " [(0, 1), (1, 1), (26, 1), (75, 1), (150, 1), (151, 1)],\n",
              " [(0, 1), (4, 1), (66, 1), (114, 1), (152, 1)],\n",
              " [(66, 1), (75, 1), (153, 1)],\n",
              " [(34, 1), (39, 1), (141, 1)],\n",
              " [(33, 1), (66, 1), (114, 1)],\n",
              " [(66, 1)],\n",
              " [(39, 1), (66, 2)],\n",
              " [(12, 1), (27, 1), (39, 1)],\n",
              " [(4, 1), (14, 1), (38, 1), (39, 1), (40, 1), (63, 1), (123, 1), (144, 1)],\n",
              " [],\n",
              " [(9, 1), (38, 1), (74, 1), (86, 1), (154, 1)],\n",
              " [(4, 1), (66, 1), (86, 1), (155, 1)],\n",
              " [(66, 1)],\n",
              " [(0, 1), (1, 1), (27, 1), (38, 1)],\n",
              " [(66, 1)],\n",
              " [(37, 1), (66, 1)],\n",
              " [(27, 1), (39, 1), (66, 1)],\n",
              " [(66, 1), (99, 1)],\n",
              " [(10, 1)],\n",
              " [(66, 1)],\n",
              " [(18, 1), (27, 1), (66, 1), (156, 1)],\n",
              " [(10, 1), (51, 1), (66, 4), (71, 1), (77, 1), (95, 1), (154, 1), (157, 1)],\n",
              " [(37, 1), (99, 1), (158, 1)],\n",
              " [(33, 1), (66, 1)],\n",
              " [(0, 1), (37, 1), (66, 1)],\n",
              " [(48, 1), (75, 1)],\n",
              " [],\n",
              " [(0, 1), (2, 1), (78, 1), (86, 2)],\n",
              " [],\n",
              " [(66, 1)],\n",
              " [(66, 1)],\n",
              " [(0, 1),\n",
              "  (1, 1),\n",
              "  (47, 1),\n",
              "  (51, 2),\n",
              "  (66, 1),\n",
              "  (75, 2),\n",
              "  (104, 1),\n",
              "  (159, 1),\n",
              "  (160, 1)],\n",
              " [(54, 1)],\n",
              " [(0, 1), (66, 1), (154, 1)],\n",
              " [],\n",
              " [(0, 1), (66, 1)],\n",
              " [],\n",
              " [(137, 1)],\n",
              " [(0, 1), (1, 1), (66, 2)],\n",
              " [(0, 1), (47, 1), (54, 1), (66, 1), (114, 1)],\n",
              " [(51, 1), (66, 1)],\n",
              " [(45, 1), (66, 1), (131, 2), (161, 1)],\n",
              " [(1, 1), (18, 1), (20, 1), (40, 1), (66, 1)],\n",
              " [(66, 1)],\n",
              " [(0, 1), (10, 1), (66, 1)],\n",
              " [(0, 1), (39, 1), (66, 2), (104, 1), (114, 1)],\n",
              " [(0, 1), (39, 1)],\n",
              " [(0, 1), (40, 1), (54, 1), (66, 1)],\n",
              " [(0, 1), (66, 1), (162, 1)],\n",
              " [(0, 1), (66, 1), (94, 1)],\n",
              " [(66, 1)],\n",
              " [(0, 1), (1, 1), (13, 1), (163, 1)],\n",
              " [(1, 1), (5, 1), (8, 1), (10, 1), (164, 1), (165, 1)],\n",
              " [(0, 1), (1, 1), (52, 1), (95, 1), (148, 1)],\n",
              " [(0, 1), (14, 1), (37, 1), (44, 1), (162, 1)],\n",
              " [(1, 1), (138, 1)],\n",
              " [(0, 1), (1, 1), (12, 1), (166, 1)],\n",
              " [(1, 1), (138, 1)],\n",
              " [(37, 1), (166, 1)],\n",
              " [(1, 1), (115, 1), (151, 1), (167, 1)],\n",
              " [(166, 1)],\n",
              " [(0, 1), (1, 1), (68, 1), (138, 1), (166, 1)],\n",
              " [(0, 1), (9, 2), (51, 1), (59, 2), (168, 1)],\n",
              " [(1, 1), (126, 1), (138, 1), (140, 1), (166, 1)],\n",
              " [(1, 1), (166, 1)],\n",
              " [(61, 1)],\n",
              " [(0, 1), (166, 1)],\n",
              " [(1, 1), (63, 1)],\n",
              " [(0, 1), (1, 2), (138, 1), (166, 1)],\n",
              " [(0, 1), (15, 1), (169, 1)],\n",
              " [(1, 1), (33, 1), (166, 1), (170, 1)],\n",
              " [(37, 1)],\n",
              " [(1, 1), (46, 1), (138, 1)],\n",
              " [(1, 1), (33, 1), (166, 1), (170, 1)],\n",
              " [(1, 1), (138, 1), (166, 1), (171, 1)],\n",
              " [(96, 1), (138, 1), (172, 1)],\n",
              " [(0, 1), (1, 1), (5, 1), (46, 1), (133, 1)],\n",
              " [(33, 1), (37, 1), (96, 1), (138, 1), (173, 1)],\n",
              " [(0, 1), (14, 1)],\n",
              " [(1, 1), (138, 1), (166, 1)],\n",
              " [(0, 1), (1, 1), (138, 1)],\n",
              " [(0, 1), (1, 1), (14, 1), (47, 1), (166, 1), (174, 1), (175, 1)],\n",
              " [(0, 1), (1, 1), (37, 1), (166, 1), (170, 1)],\n",
              " [(1, 1)],\n",
              " [(0, 1), (2, 1), (8, 1), (28, 1), (174, 1), (176, 1)],\n",
              " [(5, 1), (14, 1), (15, 1), (59, 1)],\n",
              " [(0, 1), (10, 1), (13, 1), (14, 1), (32, 1), (34, 1), (66, 2), (101, 1)],\n",
              " [(1, 1), (163, 1), (166, 1)],\n",
              " [(0, 1), (1, 1), (14, 1), (138, 1), (148, 1), (166, 1)],\n",
              " [(1, 1), (166, 1)],\n",
              " [(0, 1), (1, 1), (37, 1), (138, 1), (166, 1)],\n",
              " [(0, 1), (1, 1), (138, 1), (166, 1)],\n",
              " [(0, 1), (1, 1), (10, 1), (20, 1), (166, 1)],\n",
              " [(0, 1), (1, 1), (138, 1), (166, 1)],\n",
              " [(1, 1), (138, 1)],\n",
              " [(1, 1)],\n",
              " [(0, 1), (1, 1), (166, 1)],\n",
              " [(0, 1), (1, 1), (33, 1), (170, 1)],\n",
              " [(0, 1), (1, 1), (138, 1)],\n",
              " [(0, 1), (1, 1), (139, 1), (166, 1)],\n",
              " [(0, 1), (5, 1)],\n",
              " [(5, 1), (10, 1), (14, 1), (36, 1), (75, 1), (99, 1)],\n",
              " [(0, 1), (27, 1)],\n",
              " [(0, 1), (1, 1), (37, 1), (46, 1), (138, 1)],\n",
              " [(0, 1), (1, 1), (5, 1), (7, 1), (68, 1), (138, 1), (177, 1), (178, 1)],\n",
              " [(0, 1), (1, 1), (138, 1), (148, 1), (166, 1)],\n",
              " [(1, 1), (13, 1), (52, 1), (138, 1), (150, 1), (166, 1), (179, 1)],\n",
              " [(0, 1),\n",
              "  (1, 1),\n",
              "  (4, 1),\n",
              "  (8, 1),\n",
              "  (59, 1),\n",
              "  (76, 1),\n",
              "  (77, 1),\n",
              "  (164, 1),\n",
              "  (168, 1)],\n",
              " [(0, 1), (1, 1), (14, 1), (94, 1), (166, 1), (180, 1), (181, 1), (182, 1)],\n",
              " [(1, 1), (166, 1)],\n",
              " [(0, 1), (1, 1), (21, 1), (138, 1), (161, 1)],\n",
              " [(0, 1), (1, 1), (166, 1)],\n",
              " [(1, 1), (138, 1), (166, 1)],\n",
              " [(0, 1), (1, 1), (5, 1), (12, 1), (110, 1), (138, 1)],\n",
              " [(0, 1), (1, 1), (10, 1), (166, 1)],\n",
              " [(0, 1), (148, 1), (165, 1)],\n",
              " [(5, 1), (37, 1), (138, 1), (183, 1)],\n",
              " [(1, 1), (34, 1), (166, 1)],\n",
              " [(0, 1), (1, 1), (4, 1), (47, 1), (50, 1), (79, 1)],\n",
              " [(0, 1), (21, 1)],\n",
              " [(21, 2), (57, 1), (114, 1), (184, 1)],\n",
              " [(7, 1), (90, 1), (185, 1)],\n",
              " [(90, 1), (118, 1)],\n",
              " [],\n",
              " [(0, 1), (85, 2), (87, 1), (148, 1)],\n",
              " [(1, 1), (14, 1)],\n",
              " [(1, 1)],\n",
              " [(0, 1), (1, 1), (37, 1), (38, 1), (82, 1), (186, 1)],\n",
              " [(0, 1), (12, 1), (21, 1), (187, 1), (188, 1)],\n",
              " [],\n",
              " [(0, 1), (1, 1), (18, 1), (37, 1), (80, 1), (85, 1), (92, 1), (189, 1)],\n",
              " [(1, 1)],\n",
              " [(0, 1), (38, 1), (122, 1), (187, 1), (190, 1), (191, 1)],\n",
              " [(12, 1), (54, 1), (162, 1)],\n",
              " [(0, 1), (192, 1)],\n",
              " [(1, 1), (18, 1), (37, 1), (73, 1), (193, 1)],\n",
              " [(1, 1), (20, 1)],\n",
              " [(0, 1),\n",
              "  (1, 1),\n",
              "  (7, 1),\n",
              "  (14, 1),\n",
              "  (15, 1),\n",
              "  (27, 1),\n",
              "  (33, 1),\n",
              "  (108, 1),\n",
              "  (140, 1),\n",
              "  (162, 1),\n",
              "  (181, 1)],\n",
              " [(14, 1)],\n",
              " [(1, 1), (4, 1), (10, 1), (12, 1), (14, 1), (185, 1), (194, 1)],\n",
              " [],\n",
              " [(18, 1), (27, 1), (37, 1)],\n",
              " [(0, 1),\n",
              "  (7, 1),\n",
              "  (14, 1),\n",
              "  (18, 2),\n",
              "  (92, 1),\n",
              "  (100, 1),\n",
              "  (111, 1),\n",
              "  (177, 1),\n",
              "  (195, 1),\n",
              "  (196, 1),\n",
              "  (197, 1)],\n",
              " [(52, 1), (135, 1), (140, 1), (198, 1)],\n",
              " [(0, 1), (1, 1), (18, 1), (20, 1), (199, 1)],\n",
              " [(1, 1), (21, 1), (37, 1)],\n",
              " [(1, 1)],\n",
              " [(0, 1), (14, 1), (19, 1), (45, 1), (63, 1), (108, 1), (117, 1)],\n",
              " [(1, 1), (122, 1)],\n",
              " [(0, 1), (18, 1), (38, 1)],\n",
              " [(0, 1), (1, 2), (85, 1), (191, 1), (200, 1), (201, 1)],\n",
              " [(0, 1), (27, 1), (38, 1), (66, 1), (98, 1)],\n",
              " [(0, 1), (18, 1), (19, 1), (29, 1), (33, 1), (111, 1)],\n",
              " [(0, 1), (1, 1), (7, 1), (14, 1)],\n",
              " [(0, 1), (27, 1), (85, 1)],\n",
              " [(0, 1), (1, 1), (95, 1), (135, 1)],\n",
              " [(0, 1), (1, 1), (4, 1)],\n",
              " [(1, 1)],\n",
              " [(0, 1), (1, 1), (18, 1), (27, 1)],\n",
              " [(73, 1), (78, 1)],\n",
              " [(37, 1)],\n",
              " [(21, 1), (31, 1), (39, 1), (77, 1), (113, 1)],\n",
              " [(1, 1), (39, 1), (160, 1), (186, 1)],\n",
              " [(1, 2), (46, 1)],\n",
              " [(85, 1)],\n",
              " [(0, 1), (18, 1), (25, 1), (96, 1)],\n",
              " [(27, 1)],\n",
              " [(1, 1), (18, 1), (140, 1), (202, 1)],\n",
              " [(1, 1), (26, 1), (41, 1), (84, 1), (203, 1)],\n",
              " [(0, 1), (5, 1), (12, 1), (33, 1), (45, 1), (108, 1)],\n",
              " [(1, 1), (83, 1)],\n",
              " [(0, 1), (18, 1), (85, 1)],\n",
              " [(1, 1)],\n",
              " [(0, 1), (183, 1)],\n",
              " [],\n",
              " [(1, 1), (27, 1), (85, 1)],\n",
              " [(29, 1), (85, 1), (140, 1), (185, 1), (204, 1)],\n",
              " [(85, 1)],\n",
              " [(1, 1), (14, 1), (29, 1), (57, 1), (205, 1)],\n",
              " [(86, 1)],\n",
              " [(1, 1), (40, 1), (202, 1)],\n",
              " [(1, 1), (18, 1), (46, 1), (187, 1), (202, 2)],\n",
              " [(0, 1), (4, 1), (5, 1), (30, 1), (52, 1), (59, 1), (164, 1)],\n",
              " [(0, 1), (4, 1), (10, 1), (55, 1), (59, 1), (63, 1), (157, 1), (206, 1)],\n",
              " [(33, 1), (59, 1), (85, 1), (174, 1)],\n",
              " [],\n",
              " [(160, 1)],\n",
              " [(0, 1), (1, 1), (138, 1)],\n",
              " [(0, 1), (4, 1), (7, 1), (20, 2), (35, 1), (39, 1), (82, 1), (87, 2)],\n",
              " [(0, 1), (7, 1), (59, 1), (181, 1)],\n",
              " [(0, 1), (38, 1), (39, 1), (156, 1)],\n",
              " [],\n",
              " [(14, 2), (15, 1), (21, 1), (37, 1)],\n",
              " [(35, 2), (57, 2), (73, 1), (96, 1), (151, 1), (183, 1), (202, 1)],\n",
              " [(73, 1), (207, 1)],\n",
              " [(14, 1), (15, 1)],\n",
              " [(86, 1)],\n",
              " [(0, 1), (7, 1), (84, 1), (183, 1), (184, 1)],\n",
              " [(0, 1), (78, 1)],\n",
              " [(0, 1), (5, 1), (37, 1)],\n",
              " [(0, 1), (6, 1), (40, 1)],\n",
              " [(14, 1)],\n",
              " [(137, 1), (188, 1)],\n",
              " [(0, 1), (66, 1), (84, 1)],\n",
              " [(14, 1), (15, 1), (140, 1)],\n",
              " [(0, 1), (183, 1)],\n",
              " [(0, 1), (37, 1), (49, 1), (54, 1), (63, 1), (66, 1), (208, 1)],\n",
              " [(7, 1), (105, 1), (179, 1)],\n",
              " [(7, 1), (131, 1), (135, 1), (139, 1), (159, 1), (209, 1), (210, 1)],\n",
              " [(184, 1), (202, 1), (211, 1), (212, 1)],\n",
              " [(21, 1), (37, 1), (57, 1), (85, 1), (156, 1), (213, 1)],\n",
              " [(31, 1)],\n",
              " [],\n",
              " [(9, 1), (86, 1)],\n",
              " [(0, 1), (14, 1), (214, 1)],\n",
              " [(209, 1)],\n",
              " [(139, 1), (215, 1)],\n",
              " [(14, 1)],\n",
              " [(86, 1)],\n",
              " [(0, 1), (37, 1), (46, 1), (84, 1), (86, 1), (135, 1)],\n",
              " [(5, 1), (36, 1), (135, 1), (180, 1)],\n",
              " [(7, 1), (14, 1), (33, 1), (78, 1), (202, 1), (214, 1)],\n",
              " [(46, 1)],\n",
              " [(0, 1), (4, 1), (37, 1)],\n",
              " [(5, 1)],\n",
              " [(14, 1)],\n",
              " [(0, 1), (86, 1)],\n",
              " [(0, 1), (32, 1), (38, 1)],\n",
              " [(86, 1), (135, 1)],\n",
              " [(0, 1), (32, 1), (37, 1), (74, 2), (86, 1), (131, 1), (133, 1), (185, 1)],\n",
              " [(66, 1)],\n",
              " [(0, 1), (5, 1), (38, 1), (73, 1), (86, 1), (139, 2), (215, 1), (216, 1)],\n",
              " [(4, 1), (5, 1), (37, 1), (105, 1)],\n",
              " [(113, 1), (137, 1)],\n",
              " [(37, 1), (215, 1), (217, 1)],\n",
              " [(121, 1), (122, 1), (218, 1)],\n",
              " [(66, 1)],\n",
              " [(20, 1), (66, 2), (219, 1)],\n",
              " [(0, 1), (27, 1), (32, 1), (37, 1), (150, 1)],\n",
              " [(14, 1)],\n",
              " [(215, 1), (217, 1)],\n",
              " [(0, 1), (39, 1), (66, 1)],\n",
              " [(0, 1), (94, 1), (184, 1), (194, 1), (205, 1)],\n",
              " [(191, 1)],\n",
              " [(0, 1), (10, 1), (14, 1), (37, 1), (55, 1), (87, 1)],\n",
              " [(86, 1)],\n",
              " [(32, 1), (39, 1), (49, 1)],\n",
              " [(0, 1), (66, 2), (86, 1)],\n",
              " [(66, 1)],\n",
              " [(0, 1), (121, 1)],\n",
              " [(73, 1), (106, 1), (184, 1), (219, 1), (220, 1)],\n",
              " [(0, 1), (66, 2), (81, 1), (221, 1)],\n",
              " [(0, 1), (4, 1), (20, 2), (35, 1), (47, 1), (87, 1)],\n",
              " [(86, 1)],\n",
              " [(86, 1), (191, 1)],\n",
              " [(0, 1), (78, 1)],\n",
              " [(18, 1), (216, 1)],\n",
              " [(0, 1), (1, 1), (4, 1), (7, 1), (27, 1), (66, 1)],\n",
              " [(0, 1), (14, 1), (35, 1), (37, 1), (148, 1)],\n",
              " [(5, 1), (12, 1), (14, 1)],\n",
              " [(37, 1), (86, 1)],\n",
              " [(0, 1), (72, 1), (222, 1)],\n",
              " [(0, 1), (5, 1), (37, 1)],\n",
              " [(24, 1), (37, 1), (73, 1), (86, 1)],\n",
              " [(0, 1), (31, 1), (86, 1), (135, 1)],\n",
              " [(75, 1), (210, 1), (217, 1)],\n",
              " [],\n",
              " [(0, 1), (5, 1), (63, 1), (108, 1), (210, 1)],\n",
              " [(7, 1), (31, 1), (32, 1), (40, 1), (51, 1), (56, 1), (119, 1), (135, 1)],\n",
              " [(14, 1), (94, 1)],\n",
              " [(10, 1), (47, 1), (86, 1)],\n",
              " [(0, 1), (20, 1), (66, 1), (160, 1)],\n",
              " [(9, 1), (66, 1), (131, 1)],\n",
              " [(0, 1), (37, 1), (196, 1)],\n",
              " [(0, 1), (161, 1), (220, 1)],\n",
              " [(0, 1), (32, 3), (49, 1), (139, 1), (183, 1), (205, 1)],\n",
              " [(113, 1), (116, 1)],\n",
              " [(0, 1), (73, 1)],\n",
              " [(39, 1), (66, 2)],\n",
              " [(14, 1), (86, 1)],\n",
              " [],\n",
              " [],\n",
              " [(0, 1), (71, 1)],\n",
              " [(0, 1),\n",
              "  (7, 1),\n",
              "  (20, 1),\n",
              "  (32, 1),\n",
              "  (33, 1),\n",
              "  (38, 1),\n",
              "  (39, 1),\n",
              "  (40, 1),\n",
              "  (49, 1)],\n",
              " [(34, 1), (39, 1)],\n",
              " [],\n",
              " [(63, 1), (162, 1)],\n",
              " [(27, 1), (65, 1), (66, 2), (113, 1), (184, 1), (208, 1), (223, 1)],\n",
              " [(1, 1), (31, 1), (83, 1), (160, 1)],\n",
              " [(122, 1), (156, 1), (202, 1), (213, 1)],\n",
              " [(37, 1), (46, 1), (72, 1), (188, 1)],\n",
              " [(39, 1), (224, 1)],\n",
              " [(9, 1), (18, 1)],\n",
              " [(5, 1), (40, 1), (84, 1), (217, 1)],\n",
              " [(66, 1), (86, 1), (180, 1)],\n",
              " [(26, 1), (32, 1), (39, 1), (113, 1), (202, 1)],\n",
              " [(1, 1), (83, 1)],\n",
              " [(0, 1), (84, 1)],\n",
              " [(18, 1), (90, 1)],\n",
              " [(0, 1),\n",
              "  (9, 1),\n",
              "  (92, 1),\n",
              "  (102, 1),\n",
              "  (131, 1),\n",
              "  (139, 1),\n",
              "  (184, 1),\n",
              "  (215, 1),\n",
              "  (217, 1)],\n",
              " [(66, 1)],\n",
              " [(51, 1), (113, 1)],\n",
              " [(32, 1), (39, 1), (215, 1), (217, 1)],\n",
              " [],\n",
              " [(12, 1), (14, 1), (86, 2), (139, 1), (184, 1), (215, 1)],\n",
              " [],\n",
              " [(225, 1)],\n",
              " [(86, 1), (159, 1)],\n",
              " [(0, 1)],\n",
              " [(0, 1), (51, 1), (82, 1), (226, 1)],\n",
              " [(14, 1), (84, 1), (135, 1)],\n",
              " [(33, 1), (66, 1), (86, 1), (216, 2)],\n",
              " [(1, 1), (37, 1), (83, 1)],\n",
              " [(19, 1), (86, 1), (184, 1)],\n",
              " [(0, 1)],\n",
              " [(0, 1), (33, 1), (66, 2), (217, 1), (227, 1)],\n",
              " [(36, 1), (113, 1)],\n",
              " [(48, 1), (75, 1), (183, 1), (184, 1), (215, 1), (217, 1)],\n",
              " [(86, 1)],\n",
              " [(0, 1), (157, 1), (228, 1)],\n",
              " [(9, 1)],\n",
              " [(1, 1)],\n",
              " [(114, 1)],\n",
              " [(0, 1), (37, 1), (51, 1), (156, 1), (220, 1), (229, 1)],\n",
              " [(86, 1)],\n",
              " [],\n",
              " [(1, 1), (79, 1), (108, 1), (158, 1), (188, 1), (217, 1), (230, 1)],\n",
              " [(0, 1), (73, 1), (139, 1), (217, 1)],\n",
              " [(159, 1), (231, 1)],\n",
              " [(0, 1), (86, 2), (108, 1), (188, 1), (206, 1)],\n",
              " [],\n",
              " [(37, 1), (73, 1), (86, 2), (139, 1)],\n",
              " [(6, 1), (113, 1), (188, 2)],\n",
              " [(75, 1), (208, 1)],\n",
              " [(0, 1), (37, 1), (51, 1), (66, 1), (86, 1), (210, 1)],\n",
              " [(47, 1), (66, 1)],\n",
              " [(82, 1), (202, 1), (215, 1)],\n",
              " [(215, 1), (217, 1)],\n",
              " [(7, 1), (135, 1)],\n",
              " [(0, 1), (66, 1)],\n",
              " [(14, 1), (159, 1), (217, 1)],\n",
              " [(0, 1), (14, 1), (15, 1)],\n",
              " [],\n",
              " [(86, 1)],\n",
              " [(0, 1), (99, 1), (219, 1)],\n",
              " [(32, 1), (220, 1)],\n",
              " [(14, 1), (86, 1)],\n",
              " [(0, 1), (86, 1), (118, 1), (139, 1), (232, 1)],\n",
              " [(66, 1), (217, 1), (219, 1)],\n",
              " [],\n",
              " [(0, 1), (4, 1), (5, 1), (14, 1), (37, 1), (51, 1)],\n",
              " [(66, 1), (86, 1), (112, 1)],\n",
              " [(37, 1), (66, 1), (82, 1), (83, 1), (233, 1)],\n",
              " [(86, 1), (159, 1)],\n",
              " [(0, 1), (4, 1), (66, 1), (184, 1)],\n",
              " [],\n",
              " [(86, 1)],\n",
              " [(38, 1), (48, 1), (131, 1), (215, 1)],\n",
              " [(0, 1),\n",
              "  (20, 1),\n",
              "  (37, 1),\n",
              "  (40, 1),\n",
              "  (66, 1),\n",
              "  (86, 1),\n",
              "  (216, 1),\n",
              "  (219, 1),\n",
              "  (221, 1)],\n",
              " [(33, 1)],\n",
              " [],\n",
              " [],\n",
              " [(1, 1), (34, 1), (35, 1)],\n",
              " [(0, 1), (14, 1)],\n",
              " [(8, 1), (21, 1), (23, 1)],\n",
              " [(215, 1)],\n",
              " [(0, 1), (37, 1), (66, 1), (70, 1), (83, 1), (84, 1)],\n",
              " [(0, 1), (4, 2), (10, 1), (87, 1), (135, 1), (145, 1), (193, 1), (230, 1)],\n",
              " [(86, 1), (121, 1), (145, 1), (214, 1)],\n",
              " [(160, 1)],\n",
              " [(5, 1), (7, 1), (31, 1), (32, 1), (33, 1), (37, 1), (39, 1), (123, 1)],\n",
              " [(0, 1), (66, 1), (86, 1), (87, 1)],\n",
              " [(0, 1), (1, 1), (37, 1), (73, 1), (217, 1)],\n",
              " [(32, 1), (49, 1), (87, 1), (112, 1)],\n",
              " [(32, 1), (40, 1), (140, 1), (202, 1), (205, 1)],\n",
              " [(0, 1), (12, 1), (27, 1), (40, 1), (72, 1), (110, 1), (234, 1)],\n",
              " [(1, 1), (75, 1), (118, 1)],\n",
              " [(31, 1)],\n",
              " [(84, 1), (86, 1)],\n",
              " [(1, 1), (131, 1), (230, 1)],\n",
              " [(27, 1), (37, 1), (40, 1), (63, 1), (66, 1), (75, 1), (160, 2)],\n",
              " [(160, 1)],\n",
              " [(0, 1), (20, 1), (73, 1), (86, 1), (140, 1)],\n",
              " [(1, 1), (149, 1), (160, 1), (215, 1)],\n",
              " [(0, 1), (86, 1)],\n",
              " [(0, 1), (36, 1), (51, 1), (66, 2), (217, 1)],\n",
              " [(7, 1), (37, 1), (78, 1), (217, 1), (235, 1)],\n",
              " [(38, 1)],\n",
              " [(6, 1), (66, 1), (86, 1)],\n",
              " [(184, 1), (220, 1)],\n",
              " [(0, 1), (38, 1), (66, 1)],\n",
              " [(0, 1), (57, 1), (84, 1), (98, 1), (215, 1), (217, 1), (220, 1)],\n",
              " [(0, 1), (33, 1), (37, 1), (84, 1), (86, 1)],\n",
              " [(84, 1)],\n",
              " [(78, 1)],\n",
              " [],\n",
              " [(0, 1), (10, 1), (32, 1), (37, 1), (74, 1), (84, 1)],\n",
              " [(0, 1), (37, 1), (39, 1), (63, 1), (66, 2), (86, 1)],\n",
              " [(0, 1), (1, 1), (14, 1), (142, 1)],\n",
              " [(217, 1)],\n",
              " [(34, 1), (75, 1), (221, 1)],\n",
              " [(0, 1), (7, 1), (32, 1), (74, 1), (108, 1), (131, 1), (217, 1)],\n",
              " [(37, 1), (221, 1)],\n",
              " [(86, 3), (139, 1)],\n",
              " [(1, 1)],\n",
              " [(37, 1), (39, 1), (236, 1)],\n",
              " [(0, 1), (4, 1), (43, 1), (49, 1), (237, 1)],\n",
              " [(1, 1), (113, 1)],\n",
              " [(1, 1), (18, 1), (56, 1), (107, 1), (215, 1), (217, 1)],\n",
              " [(0, 1), (39, 1), (78, 1), (196, 1), (208, 1), (238, 1)],\n",
              " [(1, 1), (14, 1), (18, 1), (49, 1), (86, 1)],\n",
              " [(1, 1)],\n",
              " [(0, 1), (37, 1), (53, 1), (68, 1), (90, 1), (129, 1)],\n",
              " [(0, 1), (7, 1), (11, 1), (45, 1)],\n",
              " [(0, 1), (37, 1), (239, 1)],\n",
              " [(5, 1), (11, 1), (23, 1), (38, 1), (138, 1), (148, 1), (239, 1), (240, 1)],\n",
              " [(54, 1), (124, 1), (141, 1), (239, 1)],\n",
              " [(0, 1), (11, 1), (50, 1), (83, 1)],\n",
              " [(0, 1), (37, 1), (81, 1), (239, 1)],\n",
              " [(9, 1), (11, 1), (40, 1), (44, 1), (131, 1), (241, 1)],\n",
              " [(0, 1), (11, 1), (19, 1), (45, 1), (132, 1)],\n",
              " [(63, 1), (239, 1)],\n",
              " [(0, 1), (37, 1), (125, 1), (140, 1), (147, 1)],\n",
              " [(0, 1), (1, 1)],\n",
              " [(0, 1), (37, 1), (51, 1), (66, 1), (86, 1), (221, 1)],\n",
              " [(148, 1), (233, 1)],\n",
              " [(86, 1)],\n",
              " [(0, 1), (7, 1), (72, 1), (85, 1), (88, 1), (235, 1)],\n",
              " [(0, 1), (4, 1), (10, 1), (37, 1), (75, 2)],\n",
              " [(4, 1), (18, 1), (86, 1), (164, 1)],\n",
              " [(4, 1), (21, 1), (38, 1), (68, 1), (168, 1), (242, 1)],\n",
              " [(0, 1), (5, 1), (37, 1), (60, 1), (85, 1), (243, 1)],\n",
              " [],\n",
              " [(19, 1), (57, 1), (159, 1), (183, 1)],\n",
              " [(14, 1), (15, 1), (31, 1), (77, 1), (119, 1), (211, 1), (244, 1)],\n",
              " [(0, 1), (12, 1), (18, 1), (42, 1)],\n",
              " [(21, 1), (144, 1), (245, 1), (246, 1)],\n",
              " [(1, 1), (113, 1)],\n",
              " [],\n",
              " [(85, 1)],\n",
              " [(14, 1), (21, 1), (41, 1)],\n",
              " [(0, 1), (38, 1), (42, 1), (141, 1), (187, 1)],\n",
              " [(1, 1), (18, 1)],\n",
              " [(0, 1), (38, 1), (41, 1), (85, 2), (175, 1), (187, 1), (236, 2)],\n",
              " [(0, 1), (4, 1), (18, 1), (37, 1)],\n",
              " [(0, 1), (7, 1), (19, 1), (68, 1), (77, 1), (90, 1)],\n",
              " [(0, 1), (1, 2), (7, 1), (19, 1), (37, 1), (71, 1), (132, 1), (247, 4)],\n",
              " [(0, 1), (37, 1), (94, 1)],\n",
              " [(85, 1)],\n",
              " [(0, 1), (1, 1), (21, 1), (32, 1), (37, 1), (57, 1)],\n",
              " [(0, 1), (32, 1), (57, 1), (77, 1), (85, 1)],\n",
              " [(0, 1), (59, 1), (67, 2), (232, 1)],\n",
              " [(0, 1), (49, 2), (55, 3), (59, 2), (76, 1)],\n",
              " [(0, 1), (10, 1), (33, 1), (59, 1), (66, 1), (90, 1), (128, 1)],\n",
              " [(0, 1), (5, 1), (37, 1), (40, 1), (59, 4), (63, 3), (74, 1)],\n",
              " [(0, 1),\n",
              "  (7, 1),\n",
              "  (9, 1),\n",
              "  (14, 2),\n",
              "  (18, 1),\n",
              "  (20, 1),\n",
              "  (27, 1),\n",
              "  (87, 1),\n",
              "  (221, 1)],\n",
              " [(0, 1), (5, 1), (20, 1), (27, 1), (76, 1), (217, 1)],\n",
              " [(0, 1), (27, 1), (41, 1), (46, 1), (161, 1)],\n",
              " [(0, 1), (14, 1), (27, 2), (97, 1)],\n",
              " [(0, 1), (7, 1), (18, 1), (27, 1), (45, 1), (156, 1), (159, 1)],\n",
              " [(0, 1), (27, 1), (156, 1)],\n",
              " [(27, 1)],\n",
              " [(27, 1)],\n",
              " [(0, 1), (5, 1), (27, 1), (37, 1)],\n",
              " [(0, 1), (1, 1), (5, 1), (39, 1)],\n",
              " [(82, 1), (83, 1), (156, 1)],\n",
              " [(27, 1)],\n",
              " [(1, 1), (39, 1), (96, 1), (97, 1), (169, 1)],\n",
              " [(31, 1), (38, 1), (134, 1), (248, 1)],\n",
              " [(0, 1), (88, 1), (135, 1), (149, 1), (178, 1)],\n",
              " [(9, 1), (22, 1), (47, 1), (141, 1), (238, 1)],\n",
              " [(4, 1), (6, 1), (23, 1), (38, 1), (98, 1), (117, 1), (183, 2), (239, 1)],\n",
              " [(1, 1), (121, 1)],\n",
              " [(0, 1), (76, 1), (87, 1), (120, 1)],\n",
              " [(0, 1), (6, 1), (23, 1), (37, 1), (139, 1)],\n",
              " [(0, 1), (11, 1), (135, 1)],\n",
              " [(0, 1), (23, 1), (37, 1), (93, 1)],\n",
              " [(0, 1), (5, 1), (8, 1), (23, 1), (110, 1), (247, 1)],\n",
              " [(14, 2), (38, 1), (249, 1)],\n",
              " [(0, 1), (2, 1), (5, 1), (8, 1), (21, 1), (23, 1), (87, 1), (245, 1)],\n",
              " [(0, 1), (21, 1), (23, 1), (37, 1), (39, 1), (57, 1), (246, 1)],\n",
              " [(0, 1), (18, 1), (90, 1), (171, 1)],\n",
              " [(2, 1), (11, 1), (20, 1), (40, 1), (90, 1), (92, 1), (122, 1), (197, 1)],\n",
              " [(221, 1)],\n",
              " [(0, 1), (85, 1), (90, 1), (178, 1), (213, 1)],\n",
              " [(0, 1), (10, 1), (96, 1), (213, 1)],\n",
              " [(0, 1), (85, 1)],\n",
              " [(0, 1), (5, 1), (37, 1), (122, 1)],\n",
              " [(1, 1), (12, 1), (14, 3), (39, 1), (221, 1), (250, 1)],\n",
              " [(2, 1),\n",
              "  (5, 1),\n",
              "  (14, 1),\n",
              "  (38, 1),\n",
              "  (107, 1),\n",
              "  (187, 1),\n",
              "  (202, 1),\n",
              "  (215, 1),\n",
              "  (221, 1)],\n",
              " [(140, 1), (149, 1)],\n",
              " [(0, 1), (14, 1), (37, 1), (221, 1)],\n",
              " [(10, 1),\n",
              "  (14, 2),\n",
              "  (15, 1),\n",
              "  (35, 1),\n",
              "  (37, 1),\n",
              "  (52, 1),\n",
              "  (54, 1),\n",
              "  (140, 1),\n",
              "  (148, 1)],\n",
              " [(0, 1), (14, 1), (85, 1), (128, 1), (214, 1), (221, 1), (251, 1)],\n",
              " [(57, 1), (205, 1), (250, 1)],\n",
              " [(137, 1), (225, 1), (252, 1)],\n",
              " [(40, 1), (44, 1), (218, 1), (225, 1)],\n",
              " [(145, 1), (253, 1), (254, 2), (255, 1)],\n",
              " [(0, 1), (37, 1), (40, 1), (217, 1), (225, 1)],\n",
              " [(46, 1), (114, 1), (225, 1)],\n",
              " [(0, 1), (225, 1), (256, 1)],\n",
              " [(0, 1), (205, 1), (238, 1)],\n",
              " [(0, 1)],\n",
              " [(0, 1), (10, 1), (74, 1), (94, 1), (254, 2), (257, 2)],\n",
              " [(225, 1)],\n",
              " [(5, 1), (38, 1), (178, 1), (225, 1), (234, 1), (254, 1), (257, 1)],\n",
              " [(0, 1), (160, 1), (205, 1), (254, 1), (257, 2), (258, 1)],\n",
              " [(63, 1), (160, 1), (225, 1)],\n",
              " [(0, 1), (38, 1), (184, 1), (225, 1), (231, 1)],\n",
              " [(0, 1), (4, 1), (63, 1), (76, 1), (225, 1), (254, 1), (257, 2)],\n",
              " [(0, 1), (162, 1), (225, 1)],\n",
              " [(259, 1)],\n",
              " [(0, 1), (35, 1), (37, 1), (133, 1), (225, 1)],\n",
              " [(32, 1), (39, 1), (87, 1), (204, 2), (210, 1), (225, 2), (254, 1)],\n",
              " [(137, 1), (145, 1), (184, 1), (209, 1)],\n",
              " [(0, 1), (7, 2), (18, 1), (85, 1), (184, 1), (225, 1), (254, 1)],\n",
              " [(0, 1), (7, 1), (38, 1), (57, 1), (225, 1), (260, 1)],\n",
              " [(32, 1), (46, 1), (140, 1), (178, 1), (179, 1), (225, 1)],\n",
              " [(0, 2), (25, 1), (123, 1), (200, 1), (225, 1), (254, 1)],\n",
              " [(0, 1), (225, 1)],\n",
              " [(205, 1), (210, 1), (225, 1), (248, 1), (254, 2)],\n",
              " [(0, 1),\n",
              "  (4, 1),\n",
              "  (40, 1),\n",
              "  (45, 1),\n",
              "  (63, 1),\n",
              "  (74, 1),\n",
              "  (118, 1),\n",
              "  (178, 1),\n",
              "  (225, 1),\n",
              "  (244, 1),\n",
              "  (254, 1)],\n",
              " [(0, 1), (37, 1), (94, 1), (183, 1), (225, 1)],\n",
              " [(0, 1), (63, 1), (98, 1), (225, 1)],\n",
              " [(157, 1), (183, 1), (225, 1)],\n",
              " [(0, 1), (40, 1), (63, 1), (225, 2), (257, 1), (261, 2)],\n",
              " [(20, 1), (76, 1), (89, 1), (225, 1)],\n",
              " [(204, 1)],\n",
              " [(87, 1), (224, 1), (225, 1)],\n",
              " [(225, 1)],\n",
              " [(18, 1), (40, 1), (205, 1), (225, 1), (262, 1)],\n",
              " [(0, 1), (4, 1), (37, 1), (194, 1), (205, 1), (254, 1), (263, 1)],\n",
              " [(0, 1), (225, 1), (254, 1)],\n",
              " [(7, 1), (225, 1)],\n",
              " [(32, 1), (188, 1), (225, 1), (254, 1)],\n",
              " [(102, 1), (108, 1), (204, 1), (205, 1), (249, 1), (259, 1), (264, 1)],\n",
              " [(88, 1), (225, 1), (254, 1), (265, 1)],\n",
              " [(26, 1), (225, 2), (255, 1), (257, 1)],\n",
              " [(12, 1), (107, 2), (254, 1), (266, 1)],\n",
              " [(74, 1), (86, 1), (159, 1), (205, 1), (225, 2)],\n",
              " [(225, 1)],\n",
              " [(184, 1), (225, 1)],\n",
              " [(225, 1), (254, 1)],\n",
              " [],\n",
              " [(0, 1),\n",
              "  (4, 1),\n",
              "  (7, 1),\n",
              "  (92, 1),\n",
              "  (225, 1),\n",
              "  (254, 1),\n",
              "  (257, 1),\n",
              "  (267, 1),\n",
              "  (268, 1)],\n",
              " [(0, 1), (37, 1), (40, 1), (225, 1), (265, 1)],\n",
              " [(171, 1), (225, 1), (254, 1), (260, 1), (267, 1)],\n",
              " [(211, 1), (222, 1), (225, 1), (231, 1), (254, 2)],\n",
              " [(255, 1), (265, 1)],\n",
              " [(76, 1), (145, 1), (156, 1), (254, 1)],\n",
              " [(32, 1), (35, 1), (49, 1), (225, 1), (252, 1)],\n",
              " [(225, 1), (254, 1)],\n",
              " [(5, 1), (136, 1), (204, 1)],\n",
              " [(205, 1), (220, 1), (225, 1)],\n",
              " [(0, 1), (7, 1), (92, 1), (225, 1), (254, 1)],\n",
              " [(225, 1)],\n",
              " [(76, 1), (184, 1), (225, 2), (260, 1)],\n",
              " [(0, 1), (137, 1), (225, 1), (252, 1)],\n",
              " [(0, 1), (37, 1), (225, 1), (254, 4)],\n",
              " [(225, 1)],\n",
              " [(225, 2), (256, 1)],\n",
              " [(0, 1),\n",
              "  (37, 1),\n",
              "  (49, 2),\n",
              "  (74, 1),\n",
              "  (108, 1),\n",
              "  (193, 1),\n",
              "  (199, 1),\n",
              "  (204, 1),\n",
              "  (229, 1),\n",
              "  (254, 3)],\n",
              " [(0, 1), (4, 1), (32, 2), (38, 1), (76, 1), (225, 2), (248, 1), (257, 1)],\n",
              " [(7, 1), (37, 1), (225, 1), (253, 1), (257, 1)],\n",
              " [(32, 1), (225, 1), (254, 1)],\n",
              " [(0, 1), (32, 1), (73, 1), (103, 1), (173, 1), (182, 1), (225, 1), (252, 1)],\n",
              " [(0, 1), (37, 1), (40, 1), (156, 1), (254, 2), (257, 3)],\n",
              " [(0, 1), (162, 1), (225, 1)],\n",
              " [(45, 1), (102, 1), (139, 1), (218, 1), (232, 1), (254, 1), (269, 1)],\n",
              " [(225, 1), (257, 2)],\n",
              " [(0, 1), (63, 1), (225, 1)],\n",
              " [(0, 1), (4, 1), (63, 1), (143, 1), (184, 1), (215, 1), (225, 2), (254, 1)],\n",
              " [(0, 1), (38, 1), (225, 1), (254, 1), (257, 1)],\n",
              " [(4, 1), (205, 1), (225, 1)],\n",
              " [(0, 1), (12, 1), (225, 1), (254, 1)],\n",
              " [(225, 1), (252, 1)],\n",
              " [(38, 1), (44, 1), (45, 1), (99, 1), (254, 2), (257, 1)],\n",
              " [(102, 1), (225, 1), (254, 2)],\n",
              " [(0, 1), (225, 1), (254, 1)],\n",
              " [(0, 1), (37, 1), (225, 1), (254, 1), (263, 1)],\n",
              " [(37, 1), (137, 1), (225, 1), (254, 1)],\n",
              " [(0, 1), (38, 1), (42, 1), (57, 1), (225, 1), (263, 1)],\n",
              " [(0, 1), (37, 1), (225, 1), (254, 1)],\n",
              " [(0, 1), (110, 1), (145, 1), (225, 1)],\n",
              " [(0, 1), (37, 1), (42, 1), (108, 1), (189, 1), (197, 1), (254, 2)],\n",
              " [(29, 1), (37, 1), (40, 1), (257, 1), (261, 1), (265, 1)],\n",
              " [(225, 1), (254, 1), (270, 1)],\n",
              " [(0, 1), (225, 1), (265, 1)],\n",
              " [(89, 1), (178, 1), (215, 1), (225, 1), (254, 1)],\n",
              " [(0, 1), (38, 1), (145, 1), (225, 1), (263, 1)],\n",
              " [(121, 1), (254, 1)],\n",
              " [(9, 1), (254, 1)],\n",
              " [(0, 1), (4, 1), (5, 1), (37, 1), (44, 1), (145, 1), (225, 1)],\n",
              " [(225, 1), (257, 1)],\n",
              " [(35, 1), (57, 1), (225, 1)],\n",
              " [(0, 1), (6, 1), (38, 1), (215, 1), (220, 1)],\n",
              " [(20, 1), (137, 1), (184, 1)],\n",
              " [(204, 1), (225, 1), (254, 1), (261, 2)],\n",
              " [(145, 1), (172, 1), (205, 2), (254, 2), (271, 1)],\n",
              " [(0, 1), (37, 1), (38, 1), (227, 1), (249, 1)],\n",
              " [(135, 1), (214, 1), (223, 1), (259, 1)],\n",
              " [(27, 1), (137, 1), (252, 2)],\n",
              " [(20, 1), (225, 1)],\n",
              " [(7, 1), (204, 1), (254, 2)],\n",
              " [(0, 1), (12, 1), (42, 1), (183, 1), (225, 1), (255, 3), (270, 1)],\n",
              " [(225, 1)],\n",
              " [(225, 1), (252, 1)],\n",
              " [(0, 1), (42, 1), (225, 1), (255, 1), (257, 1), (261, 1), (272, 1)],\n",
              " [(0, 1), (7, 1), (121, 1), (225, 1)],\n",
              " [(18, 1), (190, 1), (225, 1)],\n",
              " [(32, 1), (110, 1), (254, 1), (257, 1)],\n",
              " [(225, 1), (254, 2)],\n",
              " [(0, 1), (42, 1), (46, 1), (183, 1)],\n",
              " [(4, 1), (205, 1), (225, 1)],\n",
              " [(254, 2)],\n",
              " [(0, 1), (7, 1), (14, 2), (225, 1), (254, 2)],\n",
              " [(0, 1), (37, 1), (231, 1), (254, 1)],\n",
              " [(198, 1)],\n",
              " [(0, 1), (12, 1), (20, 1), (33, 1), (254, 2)],\n",
              " [(0, 1), (4, 1), (9, 1), (205, 1), (225, 1), (231, 1), (254, 1)],\n",
              " [(209, 1), (225, 1), (252, 1)],\n",
              " [(0, 1), (4, 1), (37, 1), (225, 1)],\n",
              " [(0, 1), (38, 1), (184, 2), (225, 1), (254, 2)],\n",
              " [(204, 1), (257, 1)],\n",
              " [(0, 1), (42, 1), (45, 1), (87, 1), (205, 1), (251, 1), (260, 2)],\n",
              " [(0, 1), (254, 1), (259, 1)],\n",
              " [(0, 1), (9, 1), (45, 1), (94, 1), (225, 1), (231, 1)],\n",
              " [(0, 1), (225, 1)],\n",
              " [(0, 1), (37, 1), (40, 1), (184, 1), (204, 1), (209, 1), (254, 1)],\n",
              " [(172, 1)],\n",
              " [],\n",
              " [(49, 1), (225, 2), (254, 1)],\n",
              " [(137, 1), (225, 1)],\n",
              " [(0, 1), (84, 1), (225, 1), (248, 1), (254, 1)],\n",
              " [(0, 1), (4, 1), (5, 1), (45, 1), (204, 1), (225, 1), (260, 1), (265, 1)],\n",
              " [(0, 1), (225, 1)],\n",
              " [(252, 1)],\n",
              " [(0, 1), (12, 1), (63, 2), (212, 1), (225, 1), (258, 1)],\n",
              " [(0, 1), (5, 1), (12, 1), (69, 1), (225, 2)],\n",
              " [(37, 1), (225, 1), (254, 1)],\n",
              " [(1, 1), (35, 1), (47, 1), (127, 1), (204, 1), (225, 1)],\n",
              " [(37, 1), (38, 1), (65, 1), (221, 1), (225, 1), (249, 1), (254, 3)],\n",
              " [(0, 1), (4, 1), (37, 1), (65, 1), (87, 1), (205, 1), (261, 1)],\n",
              " [(0, 1), (7, 1), (10, 1), (63, 1), (225, 1), (240, 1), (254, 2)],\n",
              " [(255, 1)],\n",
              " [(204, 1), (225, 1), (254, 1)],\n",
              " [(65, 1)],\n",
              " [(38, 1), (65, 1), (74, 1), (225, 1), (254, 3)],\n",
              " [(12, 1), (184, 1), (225, 1)],\n",
              " [(0, 1), (20, 1), (37, 1), (38, 1), (183, 1), (225, 1), (244, 1), (254, 1)],\n",
              " [(0, 1), (172, 1), (225, 1), (273, 1)],\n",
              " [(37, 1), (178, 1), (204, 1), (225, 1)],\n",
              " [(0, 1), (37, 1), (184, 1), (205, 1), (225, 1), (255, 1), (269, 1)],\n",
              " [(36, 1), (184, 1), (225, 1), (255, 1), (264, 1)],\n",
              " [(0, 1), (38, 1), (178, 1), (225, 1)],\n",
              " [(225, 1)],\n",
              " [(36, 1), (108, 1), (225, 1), (274, 1)],\n",
              " [(0, 1), (5, 1), (87, 1), (104, 1), (266, 1)],\n",
              " [(184, 1), (225, 1)],\n",
              " [(0, 1), (162, 1), (225, 1)],\n",
              " [(0, 1), (32, 1), (40, 1), (63, 1), (225, 1), (240, 1), (254, 1)],\n",
              " [(0, 1), (5, 1), (225, 1)],\n",
              " [(33, 1), (272, 1)],\n",
              " [(37, 1), (40, 1), (204, 1), (225, 1), (254, 2)],\n",
              " [(37, 1), (87, 1), (110, 1), (275, 1), (276, 1)],\n",
              " [(218, 1), (225, 1), (251, 1), (254, 1)],\n",
              " [(225, 1), (254, 1)],\n",
              " [(254, 2), (257, 1)],\n",
              " [(0, 1), (37, 1), (155, 1), (253, 1), (254, 2)],\n",
              " [(40, 1), (83, 1), (225, 1), (254, 1), (258, 1), (265, 1), (271, 1)],\n",
              " [(0, 1),\n",
              "  (1, 1),\n",
              "  (32, 1),\n",
              "  (110, 1),\n",
              "  (205, 1),\n",
              "  (225, 1),\n",
              "  (254, 1),\n",
              "  (255, 1),\n",
              "  (276, 1)],\n",
              " [(0, 1), (121, 1), (205, 1), (238, 1)],\n",
              " [(178, 1), (184, 1), (225, 1)],\n",
              " [(0, 1), (108, 1), (172, 1), (225, 1), (254, 1), (274, 1)],\n",
              " [(205, 1), (251, 1)],\n",
              " [(76, 1), (225, 1)],\n",
              " [(37, 1), (63, 1), (184, 1), (254, 2)],\n",
              " [(0, 1),\n",
              "  (4, 1),\n",
              "  (49, 1),\n",
              "  (74, 1),\n",
              "  (224, 1),\n",
              "  (225, 1),\n",
              "  (254, 3),\n",
              "  (261, 1),\n",
              "  (264, 1)],\n",
              " [(76, 1), (87, 1), (225, 1)],\n",
              " [(0, 1), (5, 1), (37, 1), (225, 1), (254, 2)],\n",
              " [(0, 1), (133, 1)],\n",
              " [(45, 1), (211, 1), (225, 1), (248, 1), (253, 1), (254, 1)],\n",
              " [(32, 1), (87, 1), (137, 1), (225, 1), (252, 1)],\n",
              " [(0, 1), (4, 1), (12, 1), (178, 1), (225, 1), (254, 1)],\n",
              " [(0, 1), (38, 1), (162, 1), (225, 1)],\n",
              " [(0, 1), (225, 1)],\n",
              " [(0, 1), (5, 1), (107, 1), (204, 2), (205, 1), (251, 1)],\n",
              " [(0, 1), (5, 1), (39, 1), (42, 1), (205, 1), (225, 1), (254, 2)],\n",
              " [(225, 1), (259, 1)],\n",
              " [(38, 1), (209, 1), (225, 1), (253, 2)],\n",
              " [(14, 1), (39, 1), (88, 1), (227, 1), (254, 2)],\n",
              " [(0, 1), (37, 1), (225, 1), (254, 1), (257, 1), (261, 1)],\n",
              " [(20, 1), (38, 1), (84, 1), (215, 1), (217, 1)],\n",
              " [(6, 1), (205, 1), (207, 1)],\n",
              " [(0, 1),\n",
              "  (4, 1),\n",
              "  (7, 1),\n",
              "  (10, 1),\n",
              "  (37, 1),\n",
              "  (54, 1),\n",
              "  (204, 1),\n",
              "  (231, 1),\n",
              "  (251, 1),\n",
              "  (254, 1),\n",
              "  (257, 1)],\n",
              " [(0, 1), (4, 1), (40, 1), (43, 1), (150, 1), (225, 1)],\n",
              " [(0, 1), (225, 1), (254, 1)],\n",
              " [(0, 1), (206, 1), (225, 3), (254, 1), (262, 1)],\n",
              " [(184, 1), (225, 2), (244, 1), (254, 1)],\n",
              " [(4, 1), (225, 1), (254, 1)],\n",
              " [(4, 1), (133, 1), (225, 1), (254, 2)],\n",
              " [(225, 1)],\n",
              " [(0, 1),\n",
              "  (38, 1),\n",
              "  (63, 1),\n",
              "  (136, 1),\n",
              "  (178, 1),\n",
              "  (201, 1),\n",
              "  (225, 1),\n",
              "  (244, 1),\n",
              "  (254, 1),\n",
              "  (259, 1)],\n",
              " [(0, 1), (5, 1), (225, 1), (244, 1), (254, 1), (276, 1)],\n",
              " [(0, 1), (37, 1), (84, 1), (121, 1), (184, 1), (225, 1)],\n",
              " [(225, 1), (254, 1)],\n",
              " [(149, 1), (254, 1)],\n",
              " [(38, 1), (40, 1), (225, 1), (254, 1)],\n",
              " [(7, 1), (146, 1), (249, 3)],\n",
              " [(0, 1), (203, 1), (225, 1)],\n",
              " [(0, 1), (225, 1), (254, 1)],\n",
              " [(0, 1), (87, 1), (225, 1)],\n",
              " [(37, 1), (254, 2), (257, 1)],\n",
              " [(0, 1), (56, 1), (76, 1), (225, 1)],\n",
              " [(26, 1), (108, 1), (110, 1), (225, 1), (263, 1)],\n",
              " [(1, 1), (5, 1), (38, 1), (110, 1), (200, 1), (254, 1), (265, 1)],\n",
              " [(0, 1), (37, 1), (47, 1), (92, 1), (225, 1), (254, 1)],\n",
              " [(38, 1), (44, 1), (139, 1), (225, 1), (275, 1)],\n",
              " [(0, 1), (107, 1), (180, 1), (225, 1)],\n",
              " [(0, 1), (63, 1), (225, 1)],\n",
              " [(0, 1), (7, 1), (38, 1), (76, 1), (254, 1), (257, 3)],\n",
              " [(87, 1), (114, 1), (225, 1)],\n",
              " [(0, 1), (38, 1), (225, 1), (252, 1)],\n",
              " [(0, 1), (46, 1), (204, 1), (225, 1), (265, 1)],\n",
              " [(38, 1), (267, 1)],\n",
              " [(0, 1), (37, 1), (137, 1), (225, 1), (252, 1)],\n",
              " [(0, 1), (37, 1), (38, 1), (39, 1), (44, 1), (84, 1), (225, 1), (236, 1)],\n",
              " [(44, 2), (176, 1), (254, 2)],\n",
              " [(0, 1), (254, 3)],\n",
              " [],\n",
              " [(37, 1), (45, 1), (133, 1), (139, 1), (254, 1), (265, 1)],\n",
              " [(0, 1), (205, 1), (276, 1)],\n",
              " [(0, 1), (5, 1), (37, 1), (42, 1), (204, 1), (225, 2), (255, 1), (263, 1)],\n",
              " [(254, 1)],\n",
              " [(0, 1), (3, 1), (277, 1), (278, 1)],\n",
              " [(0, 1),\n",
              "  (1, 1),\n",
              "  (32, 1),\n",
              "  (34, 1),\n",
              "  (35, 1),\n",
              "  (38, 1),\n",
              "  (39, 1),\n",
              "  (54, 1),\n",
              "  (279, 1)],\n",
              " [(6, 1), (20, 1), (37, 1), (58, 1), (59, 1), (174, 1), (202, 1), (278, 1)],\n",
              " [(20, 1), (38, 1), (40, 1), (173, 1), (202, 1)],\n",
              " [(0, 1), (45, 1), (109, 1), (233, 1), (280, 1)],\n",
              " [(0, 1), (187, 1), (239, 1), (278, 1)],\n",
              " [(0, 1), (37, 1), (118, 1)],\n",
              " [(32, 1), (281, 1)],\n",
              " [(4, 1), (17, 1), (45, 1), (54, 1), (60, 2), (87, 1), (221, 1), (243, 1)],\n",
              " [(0, 1), (12, 1), (169, 1)],\n",
              " [(0, 1), (1, 1), (18, 1), (37, 1), (281, 1)],\n",
              " [(0, 1), (1, 1), (42, 1), (78, 1)],\n",
              " [(47, 1), (138, 1), (176, 1)],\n",
              " [(85, 1), (221, 1)],\n",
              " [(0, 1), (14, 1)],\n",
              " [(0, 1),\n",
              "  (21, 1),\n",
              "  (85, 1),\n",
              "  (159, 1),\n",
              "  (183, 1),\n",
              "  (189, 1),\n",
              "  (214, 1),\n",
              "  (235, 1),\n",
              "  (246, 1)],\n",
              " [(9, 1), (63, 1), (74, 1), (152, 1), (225, 1)],\n",
              " [(32, 1), (66, 1), (183, 1)],\n",
              " [(1, 1), (27, 1)],\n",
              " [(0, 1), (9, 1), (62, 1), (277, 1)],\n",
              " [(45, 1), (213, 1), (282, 1)],\n",
              " [(32, 1), (38, 1), (59, 2), (76, 1), (137, 1), (237, 1)],\n",
              " [],\n",
              " [(23, 1), (141, 1)],\n",
              " [(5, 1), (34, 1), (63, 1), (148, 1), (174, 1), (268, 1)],\n",
              " [(0, 1), (38, 1), (59, 1), (183, 1), (265, 1)],\n",
              " [(0, 1), (282, 1)],\n",
              " [(0, 1), (1, 2), (45, 1), (169, 1)],\n",
              " [(0, 1),\n",
              "  (39, 1),\n",
              "  (42, 1),\n",
              "  (43, 1),\n",
              "  (99, 1),\n",
              "  (104, 1),\n",
              "  (145, 1),\n",
              "  (228, 1),\n",
              "  (278, 1),\n",
              "  (280, 1)],\n",
              " [(0, 1), (5, 1), (63, 1), (133, 1), (169, 1), (228, 1)],\n",
              " [(0, 1), (4, 1), (59, 1), (63, 1), (86, 1), (93, 1), (205, 1), (228, 1)],\n",
              " [(0, 1), (14, 2), (15, 1), (37, 1), (45, 1), (110, 1), (130, 1), (190, 1)],\n",
              " [(0, 1), (16, 1), (46, 1), (97, 1)],\n",
              " [(1, 1), (85, 1), (92, 1), (241, 1)],\n",
              " [(0, 1), (32, 1), (40, 1), (76, 1), (231, 1)],\n",
              " [(81, 1), (186, 1)],\n",
              " [(23, 1), (37, 1), (99, 1), (183, 1), (214, 1)],\n",
              " [(42, 1), (85, 1), (189, 1), (217, 1)],\n",
              " [(0, 1), (4, 1), (14, 1), (221, 1)],\n",
              " [(0, 1), (47, 1), (174, 1)],\n",
              " [(63, 2)],\n",
              " [],\n",
              " [(0, 1), (19, 1), (80, 1), (81, 1), (195, 1)],\n",
              " [(0, 1), (59, 1), (63, 1), (174, 1)],\n",
              " [(0, 1), (24, 1), (140, 1)],\n",
              " [(0, 1), (141, 1), (153, 1)],\n",
              " [(0, 1), (11, 1), (37, 1), (273, 1)],\n",
              " [(0, 1), (1, 1), (167, 2)],\n",
              " [(0, 1), (5, 1), (14, 1), (37, 1), (55, 1), (169, 1)],\n",
              " [(7, 1), (23, 1), (273, 1)],\n",
              " [(0, 1),\n",
              "  (4, 1),\n",
              "  (14, 2),\n",
              "  (33, 1),\n",
              "  (93, 1),\n",
              "  (117, 1),\n",
              "  (132, 1),\n",
              "  (181, 3),\n",
              "  (187, 1),\n",
              "  (192, 1),\n",
              "  (205, 1),\n",
              "  (226, 1)],\n",
              " [(4, 1), (14, 1), (76, 1), (104, 1), (221, 1)],\n",
              " [(0, 1), (4, 1), (7, 1), (80, 1), (90, 1)],\n",
              " [(0, 1), (37, 1), (63, 1), (169, 1), (231, 1)],\n",
              " [(0, 1), (27, 1), (37, 1), (67, 1), (147, 1)],\n",
              " [(0, 1), (55, 1), (169, 1), (231, 1)],\n",
              " [(0, 1), (9, 1), (11, 1), (53, 1), (242, 1)],\n",
              " [(27, 1), (37, 1), (107, 1), (156, 1)],\n",
              " [(0, 1), (4, 1), (14, 1), (68, 1), (86, 1), (139, 1)],\n",
              " [(27, 1), (140, 1)],\n",
              " [(18, 1), (120, 1), (221, 1)],\n",
              " [(0, 1), (14, 1), (27, 1), (38, 1), (155, 1)],\n",
              " [(66, 1), (138, 1)],\n",
              " [(0, 1), (7, 1), (37, 1), (74, 1), (80, 1), (88, 1), (144, 1)],\n",
              " [(0, 1), (14, 1), (27, 1), (154, 1)],\n",
              " [(0, 1), (14, 1), (37, 1), (218, 1), (224, 1)],\n",
              " [(0, 1), (63, 1), (169, 1)],\n",
              " [(0, 1), (37, 1), (59, 1), (63, 1), (215, 1), (223, 1)],\n",
              " [(12, 1), (14, 2), (16, 1), (27, 1), (45, 1), (144, 1), (154, 1)],\n",
              " [(1, 1), (5, 1), (6, 1), (138, 1)],\n",
              " [(0, 1),\n",
              "  (4, 1),\n",
              "  (5, 1),\n",
              "  (38, 1),\n",
              "  (44, 1),\n",
              "  (59, 1),\n",
              "  (63, 1),\n",
              "  (77, 1),\n",
              "  (90, 1),\n",
              "  (164, 1),\n",
              "  (279, 1)],\n",
              " [(0, 1), (11, 1), (23, 1), (58, 1), (77, 1), (90, 1)],\n",
              " [(21, 1), (54, 1), (158, 1)],\n",
              " [(4, 1), (38, 1), (169, 1)],\n",
              " [(0, 1), (37, 1), (76, 1)],\n",
              " [(23, 1), (93, 1), (236, 1)],\n",
              " [(0, 1), (12, 1), (183, 1), (281, 1)],\n",
              " [(81, 1), (129, 1), (194, 1)],\n",
              " []]"
            ]
          },
          "metadata": {
            "tags": []
          },
          "execution_count": 170
        }
      ]
    },
    {
      "cell_type": "markdown",
      "metadata": {
        "id": "NgV46EUdSu0n"
      },
      "source": [
        "# Now let's do the modeling part"
      ]
    },
    {
      "cell_type": "markdown",
      "metadata": {
        "id": "GWsxgxE8-YWC"
      },
      "source": [
        "We are comparing 3 topic modeling algorithm Latent Dirichlet Allocation (LDA), Latent\n",
        "semantic analysis (LSA), Hierarchical Dirichlet Process\n",
        "(HDP),in order to evaluate topic models we will be using **topic coherence**, which is a measure of how\n",
        "interpretable topics are for human beings."
      ]
    },
    {
      "cell_type": "code",
      "metadata": {
        "id": "ewKUhhpgjo8g"
      },
      "source": [
        "def display_topics(model, model_type=\"lda\"):\n",
        "  for topic_idx, topic in enumerate(model.print_topics()):\n",
        "    print (\"Topic %d:\" % (topic_idx))\n",
        "    if model_type== \"lsi\":\n",
        "      print (\" \".join(re.findall( r'\\*(.[^\\*-S]+).?', topic[1])), \"\\n\")\n",
        "    else:\n",
        "      print (\" \".join(re.findall( r'\\\"(.[^\"]+).?', topic[1])), \"\\n\")\n",
        "    \n",
        "\n"
      ],
      "execution_count": 171,
      "outputs": []
    },
    {
      "cell_type": "code",
      "metadata": {
        "id": "4J2IIPqHVTzZ"
      },
      "source": [
        "def evaluate_graph(dictionary, corpus, texts, limit, model):\n",
        "    \"\"\"\n",
        "    Function to display num_topics - LDA graph using c_v coherence\n",
        "    \n",
        "    Parameters:\n",
        "    ----------\n",
        "    dictionary : Gensim dictionary\n",
        "    corpus : Gensim corpus\n",
        "    limit : topic limit\n",
        "    \n",
        "    Returns:\n",
        "    -------\n",
        "    lm_list : List of LDA topic models\n",
        "    c_v : Coherence values corresponding to the LDA model with respective number of topics\n",
        "    \"\"\"\n",
        "    c_v = []\n",
        "    lm_list = []\n",
        "    for num_topics in range(1, limit):\n",
        "        if model == 'lsi':\n",
        "          lm = LsiModel(corpus=corpus, num_topics=num_topics, id2word=dictionary)\n",
        "        else:\n",
        "          lm = LdaModel(corpus=corpus, num_topics=num_topics, id2word=dictionary)\n",
        "        lm_list.append(lm)\n",
        "        cm = CoherenceModel(model=lm, texts=texts, dictionary=dictionary, coherence='c_v')\n",
        "        c_v.append(cm.get_coherence())\n",
        "        \n",
        "    # Show graph\n",
        "    x = range(1, limit)\n",
        "    plt.plot(x, c_v)\n",
        "    plt.xlabel(\"num_topics\")\n",
        "    plt.ylabel(\"Coherence score\")\n",
        "    plt.legend((\"c_v\"), loc='best')\n",
        "    plt.show()\n",
        "    \n",
        "    return lm_list, c_v"
      ],
      "execution_count": 172,
      "outputs": []
    },
    {
      "cell_type": "markdown",
      "metadata": {
        "id": "hse2o99bZ8wi"
      },
      "source": [
        "##LSI MODEL"
      ]
    },
    {
      "cell_type": "code",
      "metadata": {
        "id": "HFQCfc9VcmT7"
      },
      "source": [
        "lsimodel = LsiModel(corpus=corpus, num_topics=11, id2word=dictionary)"
      ],
      "execution_count": 173,
      "outputs": []
    },
    {
      "cell_type": "code",
      "metadata": {
        "id": "yfrJmKuLaUrg",
        "colab": {
          "base_uri": "https://localhost:8080/"
        },
        "outputId": "fd6a930e-6703-472d-feea-6a2ceed57511"
      },
      "source": [
        "display_topics(lsimodel)  # Showing the topics"
      ],
      "execution_count": 174,
      "outputs": [
        {
          "output_type": "stream",
          "text": [
            "Topic 0:\n",
            "gracias boleto beneficio tardes materias respuesta carrera clave dia saludos \n",
            "\n",
            "Topic 1:\n",
            "beneficio boleto materias gracias clave carrera tarjeta requisitos cuatrimestre porcentaje \n",
            "\n",
            "Topic 2:\n",
            "materias gracias beneficio clave porcentaje certificado requisitos cuatrimestre boleto correo \n",
            "\n",
            "Topic 3:\n",
            "boleto beneficio tardes clave carrera gracias correo materias tarjeta favor \n",
            "\n",
            "Topic 4:\n",
            "clave carrera tardes materias boleto saludos perfil gracias correo contador \n",
            "\n",
            "Topic 5:\n",
            "carrera tardes clave boleto gracias dia contador perfil cuatrimestre legajo \n",
            "\n",
            "Topic 6:\n",
            "tardes boleto gracias beneficio requisitos inscripcion correo clave saludos carrera \n",
            "\n",
            "Topic 7:\n",
            "requisitos sistema tardes inscripcion dia estudiante perfil boleto materias clave \n",
            "\n",
            "Topic 8:\n",
            "titulo respuesta solicitud saludos dia requisitos correo gracias legajo problema \n",
            "\n",
            "Topic 9:\n",
            "correo paso clave titulo inscripcion saludos tardes legajo solicitud perfil \n",
            "\n",
            "Topic 10:\n",
            "dia respuesta datos perfil favor requisitos solicitud llego mes titulo \n",
            "\n"
          ],
          "name": "stdout"
        }
      ]
    },
    {
      "cell_type": "markdown",
      "metadata": {
        "id": "t-Bt22W-r1ZO"
      },
      "source": [
        "It seen that with 10 topics there is some themes with keywords related to: trump, venezuela, police, electiones, terrorism; still is a little difficult to gt some insight, because of this we are trying to select the best number of topics by iterate over a range of values and looking the coherence "
      ]
    },
    {
      "cell_type": "code",
      "metadata": {
        "id": "dtXS4IfIVYIJ",
        "colab": {
          "base_uri": "https://localhost:8080/",
          "height": 314
        },
        "outputId": "0119760d-a59a-46af-8598-38716bda5c0e"
      },
      "source": [
        "%%time\n",
        "lmlist_lsi, c_v = evaluate_graph(dictionary=dictionary, corpus=corpus, texts=df['Consulta'].to_list(), limit=21, model= \"lsi\")"
      ],
      "execution_count": 175,
      "outputs": [
        {
          "output_type": "display_data",
          "data": {
            "image/png": "[encoded data removed]",
            "text/plain": [
              "<Figure size 432x288 with 1 Axes>"
            ]
          },
          "metadata": {
            "tags": [],
            "needs_background": "light"
          }
        },
        {
          "output_type": "stream",
          "text": [
            "CPU times: user 11.4 s, sys: 2.68 s, total: 14.1 s\n",
            "Wall time: 12.4 s\n"
          ],
          "name": "stdout"
        }
      ]
    },
    {
      "cell_type": "markdown",
      "metadata": {
        "id": "kmzyPFWiw63V"
      },
      "source": [
        "According to the coherence the best number of topics are between 3-7, however you must select the topics using both the coherence and visual inspection.\n"
      ]
    },
    {
      "cell_type": "code",
      "metadata": {
        "id": "TczLrG1ZRL4_",
        "colab": {
          "base_uri": "https://localhost:8080/"
        },
        "outputId": "4b8093cc-2292-4fe8-cf3e-bf4b586ab839"
      },
      "source": [
        "display_topics(lmlist_lsi[2])"
      ],
      "execution_count": 176,
      "outputs": [
        {
          "output_type": "stream",
          "text": [
            "Topic 0:\n",
            "gracias boleto beneficio tardes materias respuesta carrera clave dia saludos \n",
            "\n",
            "Topic 1:\n",
            "beneficio boleto materias gracias clave carrera tarjeta requisitos cuatrimestre porcentaje \n",
            "\n",
            "Topic 2:\n",
            "materias gracias beneficio clave porcentaje certificado requisitos cuatrimestre boleto correo \n",
            "\n"
          ],
          "name": "stdout"
        }
      ]
    },
    {
      "cell_type": "markdown",
      "metadata": {
        "id": "v6ty9sFNyRyG"
      },
      "source": [
        "Now, Let's try another model"
      ]
    },
    {
      "cell_type": "markdown",
      "metadata": {
        "id": "earp2d28dz3a"
      },
      "source": [
        "## Latent Dirichlet Allocation Model"
      ]
    },
    {
      "cell_type": "code",
      "metadata": {
        "id": "wiI55UzIdnUN"
      },
      "source": [
        "ldamodel = LdaModel(corpus=corpus, num_topics=20, id2word=dictionary)"
      ],
      "execution_count": 177,
      "outputs": []
    },
    {
      "cell_type": "code",
      "metadata": {
        "id": "fjAbhPAMd7_B",
        "colab": {
          "base_uri": "https://localhost:8080/"
        },
        "outputId": "087d60b6-86e5-4050-bc74-40bdcfc130b0"
      },
      "source": [
        "\n",
        "display_topics(ldamodel)"
      ],
      "execution_count": 178,
      "outputs": [
        {
          "output_type": "stream",
          "text": [
            "Topic 0:\n",
            "gracias materias porcentaje tardes certificado boleto correo clave pasos inscripcion \n",
            "\n",
            "Topic 1:\n",
            "tardes gracias beneficio legajo fecha dia materias cuatrimestre semana pagina \n",
            "\n",
            "Topic 2:\n",
            "gracias perfil tardes materias clave respuesta dia requisitos problemas saludos \n",
            "\n",
            "Topic 3:\n",
            "gracias requisitos cuenta clave boleto favor problema estudiante datos acceso \n",
            "\n",
            "Topic 4:\n",
            "gracias carrera tardes beneficio contador cambio formulario boleto mes titulo \n",
            "\n",
            "Topic 5:\n",
            "gracias carrera sistema materias horarios taller boleto curso requisitos dia \n",
            "\n",
            "Topic 6:\n",
            "gracias respuesta alumno boleto horarios clave beneficio problema requisitos dia \n",
            "\n",
            "Topic 7:\n",
            "requisitos boleto perfil carrera dia gracias inscripcion sistema datos consulta \n",
            "\n",
            "Topic 8:\n",
            "gracias boleto tardes beneficio consulta error solicitud legajo llego universidad \n",
            "\n",
            "Topic 9:\n",
            "gracias materias cuatrimestre situacion respuesta beneficio dia boleto cuenta tardes \n",
            "\n",
            "Topic 10:\n",
            "boleto gracias inscripcion materias beneficio papeles saludos formulario dia pasos \n",
            "\n",
            "Topic 11:\n",
            "clave gracias legajo materias formulario procedimiento diciembre carrera taller numero \n",
            "\n",
            "Topic 12:\n",
            "gracias boleto materias saludos beneficio certificado solicitud tardes dia mail \n",
            "\n",
            "Topic 13:\n",
            "gracias beneficio clave boleto materias legajo situacion perfil febrero requisitos \n",
            "\n",
            "Topic 14:\n",
            "gracias materias clave beneficio boleto saldo materia ingreso tardes legajo \n",
            "\n",
            "Topic 15:\n",
            "gracias clave materias boleto beneficio respuesta tardes solicitud estudiante saludos \n",
            "\n",
            "Topic 16:\n",
            "gracias materias carrera tardes boleto cuatrimestre ingreso legajo requisitos porcentaje \n",
            "\n",
            "Topic 17:\n",
            "gracias materias datos sistema cuatrimestre carrera motivo respuesta saludo boleto \n",
            "\n",
            "Topic 18:\n",
            "beneficio gracias boleto tardes tarjeta respuesta saludos consulta carga dia \n",
            "\n",
            "Topic 19:\n",
            "correo gracias tardes consulta materias requisitos paso inscripcion dia web \n",
            "\n"
          ],
          "name": "stdout"
        }
      ]
    },
    {
      "cell_type": "markdown",
      "metadata": {
        "id": "2cywaW1QsJ8N"
      },
      "source": [
        "Find out the optimal number of topics for the LDA model based on the coherence metric:"
      ]
    },
    {
      "cell_type": "code",
      "metadata": {
        "id": "Rd651y6mWpTF",
        "colab": {
          "base_uri": "https://localhost:8080/",
          "height": 314
        },
        "outputId": "c24632a2-12be-4cb4-ac4f-ecbfe71a3bca"
      },
      "source": [
        "%%time\n",
        "lmlist, c_v = evaluate_graph(dictionary=dictionary, corpus=corpus, texts=df['Consulta'].to_list(), limit=21, model= \"lda\")"
      ],
      "execution_count": 179,
      "outputs": [
        {
          "output_type": "display_data",
          "data": {
            "image/png": "[encoded data removed]",
            "text/plain": [
              "<Figure size 432x288 with 1 Axes>"
            ]
          },
          "metadata": {
            "tags": [],
            "needs_background": "light"
          }
        },
        {
          "output_type": "stream",
          "text": [
            "CPU times: user 22 s, sys: 1.32 s, total: 23.3 s\n",
            "Wall time: 24 s\n"
          ],
          "name": "stdout"
        }
      ]
    },
    {
      "cell_type": "markdown",
      "metadata": {
        "id": "P0T4UJGmyiLp"
      },
      "source": [
        "For this model it seems that  9 or 18, again we must to check the keywords too."
      ]
    },
    {
      "cell_type": "markdown",
      "metadata": {
        "id": "S6S88TE0eslU"
      },
      "source": [
        "### Comparing the Model Coherence of the Best Models"
      ]
    },
    {
      "cell_type": "markdown",
      "metadata": {
        "id": "6dnp010Wz6Xo"
      },
      "source": [
        "we made 3 models, now let's compare each other's  coherence"
      ]
    },
    {
      "cell_type": "code",
      "metadata": {
        "id": "s0bosG67ev6L"
      },
      "source": [
        "\n",
        "ldamodel = lmlist[11]\n",
        "lsimodel = lmlist_lsi[2]\n",
        "\n",
        "lsitopics = [[word for word, prob in topic] for topicid, topic in lsimodel.show_topics(formatted=False)]\n",
        "\n",
        "ldatopics = [[word for word, prob in topic] for topicid, topic in ldamodel.show_topics(formatted=False)]"
      ],
      "execution_count": 180,
      "outputs": []
    },
    {
      "cell_type": "code",
      "metadata": {
        "id": "IP5GpYG1e4nT"
      },
      "source": [
        "lsi_coherence = CoherenceModel(topics=lsitopics[:10], texts=df['Consulta'].to_list(), dictionary=dictionary, window_size=10).get_coherence()\n",
        "lda_coherence = CoherenceModel(topics=ldatopics, texts=df['Consulta'].to_list(), dictionary=dictionary, window_size=10).get_coherence()"
      ],
      "execution_count": 181,
      "outputs": []
    },
    {
      "cell_type": "code",
      "metadata": {
        "id": "XntcwwKufZTp",
        "colab": {
          "base_uri": "https://localhost:8080/",
          "height": 337
        },
        "outputId": "db1c36ed-229f-47a5-b8da-342c9a3bdad3"
      },
      "source": [
        "import seaborn as sns\n",
        "\n",
        "coherences = [lsi_coherence, lda_coherence]\n",
        "n = len(coherences)\n",
        "x = ['lsi_coherence', 'lda_coherence']\n",
        "sns.barplot(x, coherences)\n"
      ],
      "execution_count": 182,
      "outputs": [
        {
          "output_type": "stream",
          "text": [
            "/usr/local/lib/python3.6/dist-packages/seaborn/_decorators.py:43: FutureWarning: Pass the following variables as keyword args: x, y. From version 0.12, the only valid positional argument will be `data`, and passing other arguments without an explicit keyword will result in an error or misinterpretation.\n",
            "  FutureWarning\n"
          ],
          "name": "stderr"
        },
        {
          "output_type": "execute_result",
          "data": {
            "text/plain": [
              "<matplotlib.axes._subplots.AxesSubplot at 0x7fbf052656a0>"
            ]
          },
          "metadata": {
            "tags": []
          },
          "execution_count": 182
        },
        {
          "output_type": "display_data",
          "data": {
            "image/png": "[encoded data removed]",
            "text/plain": [
              "<Figure size 432x288 with 1 Axes>"
            ]
          },
          "metadata": {
            "tags": [],
            "needs_background": "light"
          }
        }
      ]
    },
    {
      "cell_type": "markdown",
      "metadata": {
        "id": "bXKu-wAoFMRY"
      },
      "source": [
        "We can see that the **LdaModel** model **with 8 topics** has the higher value of\n",
        "coherence"
      ]
    },
    {
      "cell_type": "markdown",
      "metadata": {
        "id": "B5Ii_TedVNHq"
      },
      "source": [
        "Examine the keyword to get the topics of the best model"
      ]
    },
    {
      "cell_type": "code",
      "metadata": {
        "id": "qtOtsGxHuD8W",
        "colab": {
          "base_uri": "https://localhost:8080/"
        },
        "outputId": "e2c640ec-5904-4380-b463-a75b930b37c7"
      },
      "source": [
        "display_topics(ldamodel)"
      ],
      "execution_count": 183,
      "outputs": [
        {
          "output_type": "stream",
          "text": [
            "Topic 0:\n",
            "gracias correo problema porcentaje boleto materias requisitos sistema certificado tardes \n",
            "\n",
            "Topic 1:\n",
            "materias gracias clave beneficio respuesta cuatrimestre legajo boleto noches requisitos \n",
            "\n",
            "Topic 2:\n",
            "gracias dia materias boleto respuesta titulo tarjeta beneficio situacion tiempo \n",
            "\n",
            "Topic 3:\n",
            "gracias beneficio clave boleto correo solicitud dia certificado datos saludos \n",
            "\n",
            "Topic 4:\n",
            "boleto gracias materias mensaje tardes requisitos consulta formulario solicitud inscripcion \n",
            "\n",
            "Topic 5:\n",
            "boleto carrera gracias correo materias beneficio cuatrimestre pagina pasos clave \n",
            "\n",
            "Topic 6:\n",
            "gracias clave carrera cuatrimestre boleto materias respuesta beneficio contador dia \n",
            "\n",
            "Topic 7:\n",
            "gracias boleto carrera beneficio marzo requisitos consulta perfil legajo sistema \n",
            "\n",
            "Topic 8:\n",
            "gracias tardes beneficio boleto saludos materias carrera datos consulta motivo \n",
            "\n",
            "Topic 9:\n",
            "legajo gracias inscripcion correo nota requisitos tardes boleto dia fecha \n",
            "\n",
            "Topic 10:\n",
            "materias requisitos gracias boleto perfil saludos dia sistema porcentaje certificado \n",
            "\n",
            "Topic 11:\n",
            "carrera gracias requisitos materias horarios beneficio tardes sistema ingreso estudiante \n",
            "\n"
          ],
          "name": "stdout"
        }
      ]
    },
    {
      "cell_type": "markdown",
      "metadata": {
        "id": "23tYxCUIchga"
      },
      "source": [
        "It looks like the topics are:\n",
        "* Topic 0: is about trials (justice)\n",
        "* Topic 1: is like nature studies\n",
        "* Topic 2: is about violence (against women maybe?)\n",
        "* Topic 3: protest and disturb (like venezuelan case)\n",
        "* Topic 4: is about life and family\n",
        "* Topic 5: sea disasters\n",
        "* Topic 6: elections\n",
        "* Topic 7: is about terrorism\n",
        "* Topic 8: is about economic crisis\n",
        "* Topic 9: is like seism studies\n",
        "* Topic 10: is about peacy treaty\n",
        "* Topic 11: airport and security\n"
      ]
    },
    {
      "cell_type": "markdown",
      "metadata": {
        "id": "v0aL-yqAFzUS"
      },
      "source": [
        "Let´s check the keyword when we selecting another number of topics (14)"
      ]
    },
    {
      "cell_type": "code",
      "metadata": {
        "id": "AGXxaEtVudnc"
      },
      "source": [
        "ldamodel_16 =lmlist[16]"
      ],
      "execution_count": 184,
      "outputs": []
    },
    {
      "cell_type": "code",
      "metadata": {
        "id": "aS3QJ5KV5z_c",
        "colab": {
          "base_uri": "https://localhost:8080/"
        },
        "outputId": "23f27e6b-9bcc-4bd7-dd18-939a058c2aea"
      },
      "source": [
        "display_topics(ldamodel_16)"
      ],
      "execution_count": 185,
      "outputs": [
        {
          "output_type": "stream",
          "text": [
            "Topic 0:\n",
            "gracias dia materias tardes horarios solicitud saludos clave carrera beneficio \n",
            "\n",
            "Topic 1:\n",
            "gracias clave tardes solicitud boleto email materias acceso contador alumno \n",
            "\n",
            "Topic 2:\n",
            "gracias tardes correo titulo dia saludos solicitud respuesta horarios sistema \n",
            "\n",
            "Topic 3:\n",
            "gracias boleto dia respuesta clave tarjeta correo situacion beneficio tardes \n",
            "\n",
            "Topic 4:\n",
            "gracias boleto carrera curso problema cuatrimestre materias tardes materia respuesta \n",
            "\n",
            "Topic 5:\n",
            "gracias materias carrera porcentaje beneficio tardes clave saludos certificado boleto \n",
            "\n",
            "Topic 6:\n",
            "boleto gracias taller quot carrera comercio sistema titulo nombre tardes \n",
            "\n",
            "Topic 7:\n",
            "gracias tardes clave consulta cuatrimestre horarios requisitos legajo saludos tiempo \n",
            "\n",
            "Topic 8:\n",
            "gracias boleto titulo certificado alumno saludos perfil intento sede fecha \n",
            "\n",
            "Topic 9:\n",
            "gracias beneficio boleto mes requisitos materias fecha saludos momento dia \n",
            "\n",
            "Topic 10:\n",
            "gracias clave correo tardes respuesta materias motivo perfil datos requisitos \n",
            "\n",
            "Topic 11:\n",
            "boleto beneficio materias requisitos formulario tardes problema inscripcion cuatrimestre correo \n",
            "\n",
            "Topic 12:\n",
            "beneficio materias gracias respuesta tiempo tardes mensaje saludos favor pasos \n",
            "\n",
            "Topic 13:\n",
            "gracias materias requisitos legajo clave boleto carrera tardes inscripcion problema \n",
            "\n",
            "Topic 14:\n",
            "boleto beneficio gracias materias tardes noches cuatrimestre respuesta llego carrera \n",
            "\n",
            "Topic 15:\n",
            "gracias carrera taller mes mail algun respuesta usuario correo ingreso \n",
            "\n",
            "Topic 16:\n",
            "gracias materias carrera boleto tardes saludos correo sistema cuatrimestre perfil \n",
            "\n"
          ],
          "name": "stdout"
        }
      ]
    },
    {
      "cell_type": "markdown",
      "metadata": {
        "id": "u2clSiIF1yHy"
      },
      "source": [
        "# Classifiying all documents"
      ]
    },
    {
      "cell_type": "markdown",
      "metadata": {
        "id": "_sLVX03-1_GB"
      },
      "source": [
        "now that we have been select the best model and topics number, is time to assign a topic to each document, means **cluster** according to the topics"
      ]
    },
    {
      "cell_type": "code",
      "metadata": {
        "id": "9fojFPHKW204"
      },
      "source": [
        "def format_topics_sentences(ldamodel=0, corpus=corpus, texts=0):\n",
        "    # Init output\n",
        "    sent_topics_df = pd.DataFrame()-n\n",
        "\n",
        "    # Get main topic in each document\n",
        "    for i, row in enumerate(ldamodel[corpus]):\n",
        "        row = sorted(row, key=lambda x: (x[1]), reverse=True)\n",
        "        # Get the Dominant topic, Perc Contribution and Keywords for each document\n",
        "        for j, (topic_num, prop_topic) in enumerate(row):\n",
        "            if j == 0:  # => dominant topic\n",
        "                wp = ldamodel.show_topic(topic_num)\n",
        "                topic_keywords = \", \".join([word for word, prop in wp])\n",
        "                sent_topics_df = sent_topics_df.append(pd.Series([int(topic_num), round(prop_topic,4), topic_keywords]), ignore_index=True)\n",
        "            else:\n",
        "                break\n",
        "    sent_topics_df.columns = ['Dominant_Topic', 'Perc_Contribution', 'Topic_Keywords']\n",
        "\n",
        "    # Add original text to the end of the output\n",
        "    contents = pd.Series(texts)\n",
        "    sent_topics_df = pd.concat([sent_topics_df, contents], axis=1)\n",
        "    return(sent_topics_df)\n",
        "\n",
        "\n",
        "df_topic_sents_keywords = format_topics_sentences(ldamodel, corpus=corpus, texts=df['Consulta'].to_list())"
      ],
      "execution_count": 186,
      "outputs": []
    },
    {
      "cell_type": "code",
      "metadata": {
        "id": "E8FofLvzYmTP",
        "colab": {
          "base_uri": "https://localhost:8080/",
          "height": 359
        },
        "outputId": "1fa73069-cad4-4897-d306-6f2a5e290f90"
      },
      "source": [
        "# Format\n",
        "df_dominant_topic = df_topic_sents_keywords.reset_index()\n",
        "df_dominant_topic.columns = ['Document_No', 'Dominant_Topic', 'Topic_Perc_Contrib', 'Keywords', 'Text']\n",
        "\n",
        "# Show\n",
        "df_dominant_topic.head(10)"
      ],
      "execution_count": 187,
      "outputs": [
        {
          "output_type": "execute_result",
          "data": {
            "text/html": [
              "<div>\n",
              "<style scoped>\n",
              "    .dataframe tbody tr th:only-of-type {\n",
              "        vertical-align: middle;\n",
              "    }\n",
              "\n",
              "    .dataframe tbody tr th {\n",
              "        vertical-align: top;\n",
              "    }\n",
              "\n",
              "    .dataframe thead th {\n",
              "        text-align: right;\n",
              "    }\n",
              "</style>\n",
              "<table border=\"1\" class=\"dataframe\">\n",
              "  <thead>\n",
              "    <tr style=\"text-align: right;\">\n",
              "      <th></th>\n",
              "      <th>Document_No</th>\n",
              "      <th>Dominant_Topic</th>\n",
              "      <th>Topic_Perc_Contrib</th>\n",
              "      <th>Keywords</th>\n",
              "      <th>Text</th>\n",
              "    </tr>\n",
              "  </thead>\n",
              "  <tbody>\n",
              "    <tr>\n",
              "      <th>0</th>\n",
              "      <td>0</td>\n",
              "      <td>10.0</td>\n",
              "      <td>0.6944</td>\n",
              "      <td>materias, requisitos, gracias, boleto, perfil,...</td>\n",
              "      <td>[materias, cuatri, hacermuchas, gracias]</td>\n",
              "    </tr>\n",
              "    <tr>\n",
              "      <th>1</th>\n",
              "      <td>1</td>\n",
              "      <td>10.0</td>\n",
              "      <td>0.5940</td>\n",
              "      <td>materias, requisitos, gracias, boleto, perfil,...</td>\n",
              "      <td>[materias, prorroga, semana, respuesta, molest...</td>\n",
              "    </tr>\n",
              "    <tr>\n",
              "      <th>2</th>\n",
              "      <td>2</td>\n",
              "      <td>11.0</td>\n",
              "      <td>0.7708</td>\n",
              "      <td>carrera, gracias, requisitos, materias, horari...</td>\n",
              "      <td>[consulta, situacion, notas]</td>\n",
              "    </tr>\n",
              "    <tr>\n",
              "      <th>3</th>\n",
              "      <td>3</td>\n",
              "      <td>6.0</td>\n",
              "      <td>0.8472</td>\n",
              "      <td>gracias, clave, carrera, cuatrimestre, boleto,...</td>\n",
              "      <td>[noches, final, saque, respuesta, favor, gracias]</td>\n",
              "    </tr>\n",
              "    <tr>\n",
              "      <th>4</th>\n",
              "      <td>4</td>\n",
              "      <td>8.0</td>\n",
              "      <td>0.6944</td>\n",
              "      <td>gracias, tardes, beneficio, boleto, saludos, m...</td>\n",
              "      <td>[promedio, gracias]</td>\n",
              "    </tr>\n",
              "    <tr>\n",
              "      <th>5</th>\n",
              "      <td>5</td>\n",
              "      <td>6.0</td>\n",
              "      <td>0.8472</td>\n",
              "      <td>gracias, clave, carrera, cuatrimestre, boleto,...</td>\n",
              "      <td>[carrera, contador, simultaneidad, asiganturas...</td>\n",
              "    </tr>\n",
              "    <tr>\n",
              "      <th>6</th>\n",
              "      <td>6</td>\n",
              "      <td>2.0</td>\n",
              "      <td>0.8690</td>\n",
              "      <td>gracias, dia, materias, boleto, respuesta, tit...</td>\n",
              "      <td>[principio, gracias, respuesta, situacion, cal...</td>\n",
              "    </tr>\n",
              "    <tr>\n",
              "      <th>7</th>\n",
              "      <td>7</td>\n",
              "      <td>6.0</td>\n",
              "      <td>0.5417</td>\n",
              "      <td>gracias, clave, carrera, cuatrimestre, boleto,...</td>\n",
              "      <td>[transcurso, cuatrimestre, medios]</td>\n",
              "    </tr>\n",
              "    <tr>\n",
              "      <th>8</th>\n",
              "      <td>8</td>\n",
              "      <td>5.0</td>\n",
              "      <td>0.8472</td>\n",
              "      <td>boleto, carrera, gracias, correo, materias, be...</td>\n",
              "      <td>[carrera, taller, regularidad, carrera, sistema]</td>\n",
              "    </tr>\n",
              "    <tr>\n",
              "      <th>9</th>\n",
              "      <td>9</td>\n",
              "      <td>6.0</td>\n",
              "      <td>0.5610</td>\n",
              "      <td>gracias, clave, carrera, cuatrimestre, boleto,...</td>\n",
              "      <td>[consulta, nota, calificacion, gracias]</td>\n",
              "    </tr>\n",
              "  </tbody>\n",
              "</table>\n",
              "</div>"
            ],
            "text/plain": [
              "   Document_No  ...                                               Text\n",
              "0            0  ...           [materias, cuatri, hacermuchas, gracias]\n",
              "1            1  ...  [materias, prorroga, semana, respuesta, molest...\n",
              "2            2  ...                       [consulta, situacion, notas]\n",
              "3            3  ...  [noches, final, saque, respuesta, favor, gracias]\n",
              "4            4  ...                                [promedio, gracias]\n",
              "5            5  ...  [carrera, contador, simultaneidad, asiganturas...\n",
              "6            6  ...  [principio, gracias, respuesta, situacion, cal...\n",
              "7            7  ...                 [transcurso, cuatrimestre, medios]\n",
              "8            8  ...   [carrera, taller, regularidad, carrera, sistema]\n",
              "9            9  ...            [consulta, nota, calificacion, gracias]\n",
              "\n",
              "[10 rows x 5 columns]"
            ]
          },
          "metadata": {
            "tags": []
          },
          "execution_count": 187
        }
      ]
    },
    {
      "cell_type": "markdown",
      "metadata": {
        "id": "9vtBDBQKkzmK"
      },
      "source": [
        "We selected the ldamodel with 12 topics and asigned a dominant topic to each document, now let map each topic with a label "
      ]
    },
    {
      "cell_type": "markdown",
      "metadata": {
        "id": "z8f8u5UJlQJ8"
      },
      "source": [
        "first let's create the dictionary"
      ]
    },
    {
      "cell_type": "code",
      "metadata": {
        "id": "I27y-Pd-lXL8"
      },
      "source": [
        "label_dicc = {0:'trials', 1:'nature', 2:'violence', 3: 'protest', 4:'life_family', 5:'sea_disasters', 6:'elections', \n",
        "              7:'terrorism', 8:'economic_crisis', 9: 'seism', 10:'peacy_treaty', 11:'airport_security'}"
      ],
      "execution_count": 188,
      "outputs": []
    },
    {
      "cell_type": "code",
      "metadata": {
        "id": "qUspHFcPopTz"
      },
      "source": [
        "df_dominant_topic['Dominant_Topic'] = df_dominant_topic['Dominant_Topic'].astype('int64')\n"
      ],
      "execution_count": 189,
      "outputs": []
    },
    {
      "cell_type": "code",
      "metadata": {
        "id": "o9XM5yHgnmg5",
        "colab": {
          "base_uri": "https://localhost:8080/",
          "height": 359
        },
        "outputId": "7627bb73-1812-4045-f297-8d5195f2c50a"
      },
      "source": [
        "df_dominant_topic['Dominant_Topic'] = df_dominant_topic['Dominant_Topic'].map(label_dicc)\n",
        "df_dominant_topic.head(10)"
      ],
      "execution_count": 190,
      "outputs": [
        {
          "output_type": "execute_result",
          "data": {
            "text/html": [
              "<div>\n",
              "<style scoped>\n",
              "    .dataframe tbody tr th:only-of-type {\n",
              "        vertical-align: middle;\n",
              "    }\n",
              "\n",
              "    .dataframe tbody tr th {\n",
              "        vertical-align: top;\n",
              "    }\n",
              "\n",
              "    .dataframe thead th {\n",
              "        text-align: right;\n",
              "    }\n",
              "</style>\n",
              "<table border=\"1\" class=\"dataframe\">\n",
              "  <thead>\n",
              "    <tr style=\"text-align: right;\">\n",
              "      <th></th>\n",
              "      <th>Document_No</th>\n",
              "      <th>Dominant_Topic</th>\n",
              "      <th>Topic_Perc_Contrib</th>\n",
              "      <th>Keywords</th>\n",
              "      <th>Text</th>\n",
              "    </tr>\n",
              "  </thead>\n",
              "  <tbody>\n",
              "    <tr>\n",
              "      <th>0</th>\n",
              "      <td>0</td>\n",
              "      <td>peacy_treaty</td>\n",
              "      <td>0.6944</td>\n",
              "      <td>materias, requisitos, gracias, boleto, perfil,...</td>\n",
              "      <td>[materias, cuatri, hacermuchas, gracias]</td>\n",
              "    </tr>\n",
              "    <tr>\n",
              "      <th>1</th>\n",
              "      <td>1</td>\n",
              "      <td>peacy_treaty</td>\n",
              "      <td>0.5940</td>\n",
              "      <td>materias, requisitos, gracias, boleto, perfil,...</td>\n",
              "      <td>[materias, prorroga, semana, respuesta, molest...</td>\n",
              "    </tr>\n",
              "    <tr>\n",
              "      <th>2</th>\n",
              "      <td>2</td>\n",
              "      <td>airport_security</td>\n",
              "      <td>0.7708</td>\n",
              "      <td>carrera, gracias, requisitos, materias, horari...</td>\n",
              "      <td>[consulta, situacion, notas]</td>\n",
              "    </tr>\n",
              "    <tr>\n",
              "      <th>3</th>\n",
              "      <td>3</td>\n",
              "      <td>elections</td>\n",
              "      <td>0.8472</td>\n",
              "      <td>gracias, clave, carrera, cuatrimestre, boleto,...</td>\n",
              "      <td>[noches, final, saque, respuesta, favor, gracias]</td>\n",
              "    </tr>\n",
              "    <tr>\n",
              "      <th>4</th>\n",
              "      <td>4</td>\n",
              "      <td>economic_crisis</td>\n",
              "      <td>0.6944</td>\n",
              "      <td>gracias, tardes, beneficio, boleto, saludos, m...</td>\n",
              "      <td>[promedio, gracias]</td>\n",
              "    </tr>\n",
              "    <tr>\n",
              "      <th>5</th>\n",
              "      <td>5</td>\n",
              "      <td>elections</td>\n",
              "      <td>0.8472</td>\n",
              "      <td>gracias, clave, carrera, cuatrimestre, boleto,...</td>\n",
              "      <td>[carrera, contador, simultaneidad, asiganturas...</td>\n",
              "    </tr>\n",
              "    <tr>\n",
              "      <th>6</th>\n",
              "      <td>6</td>\n",
              "      <td>violence</td>\n",
              "      <td>0.8690</td>\n",
              "      <td>gracias, dia, materias, boleto, respuesta, tit...</td>\n",
              "      <td>[principio, gracias, respuesta, situacion, cal...</td>\n",
              "    </tr>\n",
              "    <tr>\n",
              "      <th>7</th>\n",
              "      <td>7</td>\n",
              "      <td>elections</td>\n",
              "      <td>0.5417</td>\n",
              "      <td>gracias, clave, carrera, cuatrimestre, boleto,...</td>\n",
              "      <td>[transcurso, cuatrimestre, medios]</td>\n",
              "    </tr>\n",
              "    <tr>\n",
              "      <th>8</th>\n",
              "      <td>8</td>\n",
              "      <td>sea_disasters</td>\n",
              "      <td>0.8472</td>\n",
              "      <td>boleto, carrera, gracias, correo, materias, be...</td>\n",
              "      <td>[carrera, taller, regularidad, carrera, sistema]</td>\n",
              "    </tr>\n",
              "    <tr>\n",
              "      <th>9</th>\n",
              "      <td>9</td>\n",
              "      <td>elections</td>\n",
              "      <td>0.5610</td>\n",
              "      <td>gracias, clave, carrera, cuatrimestre, boleto,...</td>\n",
              "      <td>[consulta, nota, calificacion, gracias]</td>\n",
              "    </tr>\n",
              "  </tbody>\n",
              "</table>\n",
              "</div>"
            ],
            "text/plain": [
              "   Document_No  ...                                               Text\n",
              "0            0  ...           [materias, cuatri, hacermuchas, gracias]\n",
              "1            1  ...  [materias, prorroga, semana, respuesta, molest...\n",
              "2            2  ...                       [consulta, situacion, notas]\n",
              "3            3  ...  [noches, final, saque, respuesta, favor, gracias]\n",
              "4            4  ...                                [promedio, gracias]\n",
              "5            5  ...  [carrera, contador, simultaneidad, asiganturas...\n",
              "6            6  ...  [principio, gracias, respuesta, situacion, cal...\n",
              "7            7  ...                 [transcurso, cuatrimestre, medios]\n",
              "8            8  ...   [carrera, taller, regularidad, carrera, sistema]\n",
              "9            9  ...            [consulta, nota, calificacion, gracias]\n",
              "\n",
              "[10 rows x 5 columns]"
            ]
          },
          "metadata": {
            "tags": []
          },
          "execution_count": 190
        }
      ]
    },
    {
      "cell_type": "code",
      "metadata": {
        "id": "in5E52W3pl_k"
      },
      "source": [
        "df['labels'] = df_dominant_topic['Dominant_Topic']\n"
      ],
      "execution_count": 191,
      "outputs": []
    },
    {
      "cell_type": "markdown",
      "metadata": {
        "id": "mA35orWWqQMt"
      },
      "source": [
        "Let's examine some text and its topics"
      ]
    },
    {
      "cell_type": "code",
      "metadata": {
        "id": "7cHF6NEHkHYh",
        "colab": {
          "base_uri": "https://localhost:8080/",
          "height": 359
        },
        "outputId": "eba3f4c6-8a51-4ebd-ba46-2d83e5690ebf"
      },
      "source": [
        "df[['Consulta', 'labels']].head(10)"
      ],
      "execution_count": 192,
      "outputs": [
        {
          "output_type": "execute_result",
          "data": {
            "text/html": [
              "<div>\n",
              "<style scoped>\n",
              "    .dataframe tbody tr th:only-of-type {\n",
              "        vertical-align: middle;\n",
              "    }\n",
              "\n",
              "    .dataframe tbody tr th {\n",
              "        vertical-align: top;\n",
              "    }\n",
              "\n",
              "    .dataframe thead th {\n",
              "        text-align: right;\n",
              "    }\n",
              "</style>\n",
              "<table border=\"1\" class=\"dataframe\">\n",
              "  <thead>\n",
              "    <tr style=\"text-align: right;\">\n",
              "      <th></th>\n",
              "      <th>Consulta</th>\n",
              "      <th>labels</th>\n",
              "    </tr>\n",
              "  </thead>\n",
              "  <tbody>\n",
              "    <tr>\n",
              "      <th>0</th>\n",
              "      <td>[materias, cuatri, hacermuchas, gracias]</td>\n",
              "      <td>peacy_treaty</td>\n",
              "    </tr>\n",
              "    <tr>\n",
              "      <th>1</th>\n",
              "      <td>[materias, prorroga, semana, respuesta, molest...</td>\n",
              "      <td>peacy_treaty</td>\n",
              "    </tr>\n",
              "    <tr>\n",
              "      <th>2</th>\n",
              "      <td>[consulta, situacion, notas]</td>\n",
              "      <td>airport_security</td>\n",
              "    </tr>\n",
              "    <tr>\n",
              "      <th>3</th>\n",
              "      <td>[noches, final, saque, respuesta, favor, gracias]</td>\n",
              "      <td>elections</td>\n",
              "    </tr>\n",
              "    <tr>\n",
              "      <th>4</th>\n",
              "      <td>[promedio, gracias]</td>\n",
              "      <td>economic_crisis</td>\n",
              "    </tr>\n",
              "    <tr>\n",
              "      <th>5</th>\n",
              "      <td>[carrera, contador, simultaneidad, asiganturas...</td>\n",
              "      <td>elections</td>\n",
              "    </tr>\n",
              "    <tr>\n",
              "      <th>6</th>\n",
              "      <td>[principio, gracias, respuesta, situacion, cal...</td>\n",
              "      <td>violence</td>\n",
              "    </tr>\n",
              "    <tr>\n",
              "      <th>7</th>\n",
              "      <td>[transcurso, cuatrimestre, medios]</td>\n",
              "      <td>elections</td>\n",
              "    </tr>\n",
              "    <tr>\n",
              "      <th>8</th>\n",
              "      <td>[carrera, taller, regularidad, carrera, sistema]</td>\n",
              "      <td>sea_disasters</td>\n",
              "    </tr>\n",
              "    <tr>\n",
              "      <th>9</th>\n",
              "      <td>[consulta, nota, calificacion, gracias]</td>\n",
              "      <td>elections</td>\n",
              "    </tr>\n",
              "  </tbody>\n",
              "</table>\n",
              "</div>"
            ],
            "text/plain": [
              "                                            Consulta            labels\n",
              "0           [materias, cuatri, hacermuchas, gracias]      peacy_treaty\n",
              "1  [materias, prorroga, semana, respuesta, molest...      peacy_treaty\n",
              "2                       [consulta, situacion, notas]  airport_security\n",
              "3  [noches, final, saque, respuesta, favor, gracias]         elections\n",
              "4                                [promedio, gracias]   economic_crisis\n",
              "5  [carrera, contador, simultaneidad, asiganturas...         elections\n",
              "6  [principio, gracias, respuesta, situacion, cal...          violence\n",
              "7                 [transcurso, cuatrimestre, medios]         elections\n",
              "8   [carrera, taller, regularidad, carrera, sistema]     sea_disasters\n",
              "9            [consulta, nota, calificacion, gracias]         elections"
            ]
          },
          "metadata": {
            "tags": []
          },
          "execution_count": 192
        }
      ]
    },
    {
      "cell_type": "code",
      "metadata": {
        "id": "sgkBFTYbqID0",
        "colab": {
          "base_uri": "https://localhost:8080/"
        },
        "outputId": "b037a542-bb26-4a11-ee97-dcbf73fa5387"
      },
      "source": [
        "df[ df['labels'] == 'family'].head().Consulta"
      ],
      "execution_count": 193,
      "outputs": [
        {
          "output_type": "execute_result",
          "data": {
            "text/plain": [
              "Series([], Name: Consulta, dtype: object)"
            ]
          },
          "metadata": {
            "tags": []
          },
          "execution_count": 193
        }
      ]
    },
    {
      "cell_type": "markdown",
      "metadata": {
        "id": "dCc6-oIo6BMw"
      },
      "source": [
        "### let's see the distribution of topics\n"
      ]
    },
    {
      "cell_type": "code",
      "metadata": {
        "id": "VOitT-s10yv5",
        "colab": {
          "base_uri": "https://localhost:8080/",
          "height": 334
        },
        "outputId": "0d2ab842-a3ed-471b-e4e5-5ba2fac0cea1"
      },
      "source": [
        "ax = df_dominant_topic['Dominant_Topic'].value_counts().plot(kind='bar')\n",
        "plt.show()"
      ],
      "execution_count": 194,
      "outputs": [
        {
          "output_type": "display_data",
          "data": {
            "image/png": "[encoded data removed]",
            "text/plain": [
              "<Figure size 432x288 with 1 Axes>"
            ]
          },
          "metadata": {
            "tags": [],
            "needs_background": "light"
          }
        }
      ]
    },
    {
      "cell_type": "markdown",
      "metadata": {
        "id": "Jh0l7ngJ6J12"
      },
      "source": [
        "The topis are almost balanced, so we are good"
      ]
    },
    {
      "cell_type": "markdown",
      "metadata": {
        "id": "AcWRIAWTWhl7"
      },
      "source": [
        "finally that we have our models set up, as well as analyzed, we can go\n",
        "ahead to visualizing them."
      ]
    },
    {
      "cell_type": "code",
      "metadata": {
        "id": "Jv3PFRwBs-gT",
        "colab": {
          "base_uri": "https://localhost:8080/"
        },
        "outputId": "03e21ab8-9103-4d4e-a5c5-d9e778ef9ecb"
      },
      "source": [
        "!pip install pyLDAvis"
      ],
      "execution_count": 195,
      "outputs": [
        {
          "output_type": "stream",
          "text": [
            "Collecting pyLDAvis\n",
            "\u001b[?25l  Downloading https://files.pythonhosted.org/packages/a5/3a/af82e070a8a96e13217c8f362f9a73e82d61ac8fff3a2561946a97f96266/pyLDAvis-2.1.2.tar.gz (1.6MB)\n",
            "\u001b[K     |████████████████████████████████| 1.6MB 8.4MB/s \n",
            "\u001b[?25hRequirement already satisfied: wheel>=0.23.0 in /usr/local/lib/python3.6/dist-packages (from pyLDAvis) (0.35.1)\n",
            "Requirement already satisfied: numpy>=1.9.2 in /usr/local/lib/python3.6/dist-packages (from pyLDAvis) (1.18.5)\n",
            "Requirement already satisfied: scipy>=0.18.0 in /usr/local/lib/python3.6/dist-packages (from pyLDAvis) (1.4.1)\n",
            "Requirement already satisfied: pandas>=0.17.0 in /usr/local/lib/python3.6/dist-packages (from pyLDAvis) (1.1.4)\n",
            "Requirement already satisfied: joblib>=0.8.4 in /usr/local/lib/python3.6/dist-packages (from pyLDAvis) (0.17.0)\n",
            "Requirement already satisfied: jinja2>=2.7.2 in /usr/local/lib/python3.6/dist-packages (from pyLDAvis) (2.11.2)\n",
            "Requirement already satisfied: numexpr in /usr/local/lib/python3.6/dist-packages (from pyLDAvis) (2.7.1)\n",
            "Requirement already satisfied: pytest in /usr/local/lib/python3.6/dist-packages (from pyLDAvis) (3.6.4)\n",
            "Requirement already satisfied: future in /usr/local/lib/python3.6/dist-packages (from pyLDAvis) (0.16.0)\n",
            "Collecting funcy\n",
            "  Downloading https://files.pythonhosted.org/packages/66/89/479de0afbbfb98d1c4b887936808764627300208bb771fcd823403645a36/funcy-1.15-py2.py3-none-any.whl\n",
            "Requirement already satisfied: python-dateutil>=2.7.3 in /usr/local/lib/python3.6/dist-packages (from pandas>=0.17.0->pyLDAvis) (2.8.1)\n",
            "Requirement already satisfied: pytz>=2017.2 in /usr/local/lib/python3.6/dist-packages (from pandas>=0.17.0->pyLDAvis) (2018.9)\n",
            "Requirement already satisfied: MarkupSafe>=0.23 in /usr/local/lib/python3.6/dist-packages (from jinja2>=2.7.2->pyLDAvis) (1.1.1)\n",
            "Requirement already satisfied: setuptools in /usr/local/lib/python3.6/dist-packages (from pytest->pyLDAvis) (50.3.2)\n",
            "Requirement already satisfied: six>=1.10.0 in /usr/local/lib/python3.6/dist-packages (from pytest->pyLDAvis) (1.15.0)\n",
            "Requirement already satisfied: more-itertools>=4.0.0 in /usr/local/lib/python3.6/dist-packages (from pytest->pyLDAvis) (8.6.0)\n",
            "Requirement already satisfied: pluggy<0.8,>=0.5 in /usr/local/lib/python3.6/dist-packages (from pytest->pyLDAvis) (0.7.1)\n",
            "Requirement already satisfied: atomicwrites>=1.0 in /usr/local/lib/python3.6/dist-packages (from pytest->pyLDAvis) (1.4.0)\n",
            "Requirement already satisfied: attrs>=17.4.0 in /usr/local/lib/python3.6/dist-packages (from pytest->pyLDAvis) (20.3.0)\n",
            "Requirement already satisfied: py>=1.5.0 in /usr/local/lib/python3.6/dist-packages (from pytest->pyLDAvis) (1.9.0)\n",
            "Building wheels for collected packages: pyLDAvis\n",
            "  Building wheel for pyLDAvis (setup.py) ... \u001b[?25l\u001b[?25hdone\n",
            "  Created wheel for pyLDAvis: filename=pyLDAvis-2.1.2-py2.py3-none-any.whl size=97712 sha256=794e1b853e214c9c0e35c8a800520b4a230e1fec9015c7f3fee88c3360ae8667\n",
            "  Stored in directory: /root/.cache/pip/wheels/98/71/24/513a99e58bb6b8465bae4d2d5e9dba8f0bef8179e3051ac414\n",
            "Successfully built pyLDAvis\n",
            "Installing collected packages: funcy, pyLDAvis\n",
            "Successfully installed funcy-1.15 pyLDAvis-2.1.2\n"
          ],
          "name": "stdout"
        }
      ]
    },
    {
      "cell_type": "code",
      "metadata": {
        "id": "jXpx66NTd1uT"
      },
      "source": [
        "import pyLDAvis\n",
        "\n",
        "pyLDAvis.enable_notebook()"
      ],
      "execution_count": 196,
      "outputs": []
    },
    {
      "cell_type": "code",
      "metadata": {
        "id": "diu2MLik41sf",
        "colab": {
          "base_uri": "https://localhost:8080/",
          "height": 861
        },
        "outputId": "71fbe12e-ad30-4f85-e932-ffc0bf1f6fac"
      },
      "source": [
        "# %%time\n",
        "import pyLDAvis.gensim\n",
        "pyLDAvis.gensim.prepare(ldamodel, corpus, dictionary)"
      ],
      "execution_count": 197,
      "outputs": [
        {
          "output_type": "execute_result",
          "data": {
            "text/html": [
              "\n",
              "<link rel=\"stylesheet\" type=\"text/css\" href=\"https://cdn.rawgit.com/bmabey/pyLDAvis/files/ldavis.v1.0.0.css\">\n",
              "\n",
              "\n",
              "<div id=\"ldavis_el651404584101327286390450064\"></div>\n",
              "<script type=\"text/javascript\">\n",
              "\n",
              "var ldavis_el651404584101327286390450064_data = {\"mdsDat\": {\"x\": [0.0031912453058483177, 0.014751343556002107, -0.07196693388256344, 0.021956071032347126, 0.08452385546825039, 0.0617046469645681, 0.008930278178402423, 0.031173521225207154, -0.10192828905149869, -0.018662334867699474, -0.12073526010308436, 0.0870618561742204], \"y\": [0.03662542025252923, 0.0020607646524794443, -0.12350681555248931, -0.07418988131519991, 0.03741572715606206, 0.01758653950604403, 0.10538910839906626, -0.03862299838626189, 0.06461523026622548, -0.02536613243765941, 0.02456310169817618, -0.02657006423897236], \"topics\": [1, 2, 3, 4, 5, 6, 7, 8, 9, 10, 11, 12], \"cluster\": [1, 1, 1, 1, 1, 1, 1, 1, 1, 1, 1, 1], \"Freq\": [16.003861841368426, 11.513666140065405, 10.430115012703837, 9.77780827165603, 9.068777346936404, 8.116829734504613, 7.452841638351387, 6.88311176893675, 6.101486232646921, 5.706398866181725, 5.031861218191335, 3.9132419284571687]}, \"tinfo\": {\"Term\": [\"materias\", \"carrera\", \"correo\", \"tardes\", \"clave\", \"boleto\", \"cuatrimestre\", \"beneficio\", \"requisitos\", \"gracias\", \"legajo\", \"certificado\", \"inscripcion\", \"mensaje\", \"nota\", \"respuesta\", \"horarios\", \"contador\", \"titulo\", \"sistema\", \"dia\", \"porcentaje\", \"formulario\", \"pagina\", \"problema\", \"fecha\", \"marzo\", \"papeles\", \"ingreso\", \"paso\", \"muchisimas\", \"asunto\", \"dosis\", \"costos\", \"tardes\", \"recibo\", \"baja\", \"caso\", \"establecimiento\", \"tambien\", \"cambios\", \"tenia\", \"oportunidades\", \"sera\", \"curse\", \"web\", \"informacion\", \"dinero\", \"leyenda\", \"posibilidades\", \"restablecimiento\", \"algun\", \"agosto\", \"motivo\", \"promedio\", \"carga\", \"punto\", \"par\", \"sistemas\", \"noche\", \"saludos\", \"beneficio\", \"numero\", \"gracias\", \"datos\", \"consulta\", \"tarjeta\", \"boleto\", \"problema\", \"perfil\", \"carrera\", \"respuesta\", \"solicitud\", \"estudiante\", \"correo\", \"materias\", \"cambio\", \"clave\", \"mes\", \"tiempo\", \"legajo\", \"inscripcion\", \"vez\", \"quot\", \"junio\", \"turno\", \"principio\", \"dado\", \"cuestiones\", \"reingreso\", \"talleres\", \"septiembre\", \"verdad\", \"martes\", \"deg\", \"examenes\", \"viajes\", \"situacion\", \"tarjeta\", \"docencia\", \"titulo\", \"vacunas\", \"nombre\", \"noche\", \"sistemas\", \"dato\", \"calificacion\", \"tiempo\", \"estilo\", \"ingenieria\", \"aguardo\", \"salto\", \"sitio\", \"info\", \"dia\", \"tema\", \"respuesta\", \"saldo\", \"estudiante\", \"gracias\", \"materia\", \"respecto\", \"sistema\", \"ingreso\", \"materias\", \"boleto\", \"perfil\", \"mes\", \"saludos\", \"beneficio\", \"datos\", \"solicitud\", \"clave\", \"cuenta\", \"requisitos\", \"carrera\", \"tardes\", \"consulta\", \"puesto\", \"consejo\", \"mesa\", \"online\", \"documento\", \"figura\", \"promedio\", \"centro\", \"papeles\", \"empresa\", \"horas\", \"alumnos\", \"materias\", \"recuerdo\", \"cosa\", \"prorroga\", \"sera\", \"iquest\", \"tal\", \"programas\", \"duda\", \"papel\", \"condicion\", \"condiciones\", \"veces\", \"mayo\", \"cartel\", \"podia\", \"molestias\", \"historia\", \"requisitos\", \"perfil\", \"alumno\", \"porcentaje\", \"email\", \"llego\", \"certificado\", \"horario\", \"saludos\", \"sistema\", \"universidad\", \"fecha\", \"problema\", \"dia\", \"legajo\", \"mail\", \"boleto\", \"gracias\", \"cuatrimestre\", \"materia\", \"datos\", \"tardes\", \"beneficio\", \"quot\", \"favor\", \"estudiante\", \"mes\", \"comprension\", \"ala\", \"copia\", \"mensaje\", \"ciclo\", \"intento\", \"error\", \"poder\", \"cargo\", \"atencion\", \"estudios\", \"envio\", \"aviso\", \"info\", \"dias\", \"comunicarles\", \"encuentro\", \"panel\", \"semanas\", \"viernes\", \"credenciales\", \"formulario\", \"oportunidades\", \"molestia\", \"lectura\", \"intentos\", \"verdad\", \"estaria\", \"falta\", \"posibilidad\", \"inscripcion\", \"boleto\", \"consulta\", \"titulo\", \"taller\", \"saldo\", \"solicitud\", \"certificado\", \"requisitos\", \"materias\", \"gracias\", \"tardes\", \"mes\", \"saludos\", \"todavia\", \"nombre\", \"respuesta\", \"carrera\", \"beneficio\", \"noches\", \"clave\", \"problema\", \"legajo\", \"dia\", \"correo\", \"contador\", \"curso\", \"consultas\", \"carreras\", \"programas\", \"simultaneidad\", \"hora\", \"cuatrimestre\", \"informacion\", \"caso\", \"par\", \"punto\", \"dato\", \"calificacion\", \"reconocimiento\", \"asignatura\", \"habra\", \"estudios\", \"envio\", \"aviso\", \"alumnos\", \"cuestion\", \"cursada\", \"decia\", \"opciones\", \"casa\", \"tiempos\", \"razon\", \"solucion\", \"asi\", \"clave\", \"carrera\", \"equivalencias\", \"gracias\", \"persona\", \"respuesta\", \"favor\", \"boleto\", \"usuario\", \"dia\", \"formulario\", \"anote\", \"beneficio\", \"materias\", \"tema\", \"plataforma\", \"fechas\", \"horarios\", \"consulta\", \"situacion\", \"sistema\", \"legajo\", \"problema\", \"perfil\", \"carga\", \"sede\", \"correo\", \"abril\", \"marzo\", \"recarga\", \"alimentos\", \"habra\", \"asignatura\", \"reconocimiento\", \"credito\", \"portal\", \"profesores\", \"aula\", \"dinero\", \"recargas\", \"inscribirme\", \"horario\", \"solucion\", \"cambios\", \"tambien\", \"forma\", \"figura\", \"condicion\", \"falta\", \"febrero\", \"elementos\", \"mayo\", \"realidad\", \"historia\", \"vez\", \"posibilidades\", \"restablecimiento\", \"taller\", \"usuario\", \"carrera\", \"regularidad\", \"cuenta\", \"gracias\", \"problemas\", \"beneficio\", \"boleto\", \"consulta\", \"legajo\", \"perfil\", \"sistema\", \"motivo\", \"requisitos\", \"licenciatura\", \"pagina\", \"datos\", \"tiempo\", \"cuatrimestre\", \"mail\", \"dia\", \"noches\", \"tarjeta\", \"clave\", \"saludos\", \"respuesta\", \"casilla\", \"descuento\", \"fin\", \"parte\", \"casa\", \"opciones\", \"mente\", \"aula\", \"tramite\", \"viernes\", \"solicitudes\", \"beneficios\", \"servicio\", \"decirme\", \"trabajo\", \"constancia\", \"tramites\", \"contacto\", \"ningun\", \"facultad\", \"partir\", \"brevedad\", \"paso\", \"intento\", \"manera\", \"alumno\", \"acuerdo\", \"panel\", \"certificado\", \"recibo\", \"clave\", \"beneficio\", \"solicitud\", \"motivo\", \"correo\", \"datos\", \"horarios\", \"semana\", \"gracias\", \"dia\", \"pasos\", \"llego\", \"boleto\", \"mes\", \"saludos\", \"respuesta\", \"sistema\", \"materias\", \"carrera\", \"consulta\", \"estudiante\", \"mail\", \"fecha\", \"titulo\", \"noches\", \"octubre\", \"documentacion\", \"dudas\", \"novedades\", \"subsidio\", \"ingenieria\", \"estilo\", \"todavia\", \"comunicarles\", \"dias\", \"acuerdo\", \"mente\", \"tarifa\", \"tipo\", \"perdi\", \"embargo\", \"papel\", \"duda\", \"estaria\", \"beneficios\", \"podia\", \"registro\", \"noches\", \"decirme\", \"anotarse\", \"leyenda\", \"constancia\", \"restablecimiento\", \"agosto\", \"ingreso\", \"clave\", \"legajo\", \"cuatrimestre\", \"respuesta\", \"materias\", \"llego\", \"horarios\", \"paso\", \"beneficio\", \"gracias\", \"respuestas\", \"numero\", \"perfil\", \"requisitos\", \"problema\", \"carrera\", \"mail\", \"boleto\", \"favor\", \"formulario\", \"solicitud\", \"tardes\", \"consulta\", \"correo\", \"dia\", \"datos\", \"tiempo\", \"quot\", \"jueves\", \"razon\", \"tiempos\", \"pregunta\", \"cargas\", \"profesor\", \"urgencia\", \"realidad\", \"saludo\", \"registro\", \"anote\", \"comienzo\", \"correo\", \"plataforma\", \"lunes\", \"alimentos\", \"parte\", \"algun\", \"simultaneidad\", \"portal\", \"confirmacion\", \"finales\", \"procedimiento\", \"comision\", \"problema\", \"cambio\", \"horario\", \"porcentaje\", \"aspirantes\", \"aspirante\", \"paso\", \"momento\", \"certificado\", \"gracias\", \"acceso\", \"sistema\", \"horarios\", \"requisitos\", \"solicitud\", \"cuenta\", \"boleto\", \"materias\", \"fecha\", \"dia\", \"noches\", \"tarjeta\", \"estudiante\", \"tardes\", \"clave\", \"motivos\", \"requisito\", \"salto\", \"sitio\", \"credito\", \"embargo\", \"opcion\", \"servicio\", \"mayo\", \"papeles\", \"comienzo\", \"notas\", \"momento\", \"asi\", \"lunes\", \"partir\", \"internet\", \"costos\", \"inscripciones\", \"horarios\", \"sede\", \"alumna\", \"contrase\", \"simultaneidad\", \"encuentro\", \"ingreso\", \"acuerdo\", \"situacion\", \"comision\", \"estudiante\", \"carrera\", \"requisitos\", \"cuenta\", \"email\", \"taller\", \"credenciales\", \"porcentaje\", \"sistema\", \"tiempo\", \"web\", \"materias\", \"gracias\", \"contador\", \"datos\", \"tardes\", \"beneficio\", \"cuatrimestre\", \"universidad\", \"correo\", \"quot\", \"boleto\", \"clave\", \"legajo\", \"respuesta\", \"perfil\", \"saludos\", \"noches\", \"problema\", \"plan\", \"comercio\", \"nota\", \"cursada\", \"cuestion\", \"profesores\", \"baja\", \"curse\", \"martes\", \"maquina\", \"diciembre\", \"historia\", \"examen\", \"decirme\", \"campana\", \"online\", \"razones\", \"inscripcion\", \"inscripciones\", \"sede\", \"carreras\", \"decia\", \"fecha\", \"legajo\", \"salta\", \"viernes\", \"tarifa\", \"final\", \"tipo\", \"proceso\", \"universidad\", \"correo\", \"requisitos\", \"febrero\", \"certificado\", \"dia\", \"paso\", \"tardes\", \"gracias\", \"carga\", \"quot\", \"mail\", \"boleto\", \"titulo\", \"mes\", \"horarios\", \"beneficio\", \"aspirante\", \"consulta\", \"materias\", \"cuatrimestre\", \"profesorado\", \"pase\", \"libreta\", \"acredite\", \"recargas\", \"prorroga\", \"cosa\", \"pagina\", \"cursadas\", \"profesor\", \"anotarse\", \"vacunas\", \"ningun\", \"salta\", \"aspirantes\", \"tipo\", \"regularidad\", \"pasos\", \"constancia\", \"servicios\", \"examenes\", \"respuestas\", \"finales\", \"quot\", \"llego\", \"tema\", \"inscribirme\", \"saldo\", \"semana\", \"documento\", \"carrera\", \"correo\", \"boleto\", \"formulario\", \"mes\", \"cuatrimestre\", \"gracias\", \"sistema\", \"beneficio\", \"materias\", \"clave\", \"tardes\", \"perfil\", \"porcentaje\", \"consulta\", \"saludos\", \"fecha\", \"taller\", \"universidad\", \"alumno\", \"contador\"], \"Freq\": [175.0, 87.0, 64.0, 120.0, 91.0, 173.0, 52.0, 125.0, 72.0, 390.0, 46.0, 34.0, 32.0, 21.0, 14.0, 60.0, 30.0, 15.0, 29.0, 43.0, 63.0, 32.0, 29.0, 9.0, 39.0, 21.0, 13.0, 14.0, 26.0, 18.0, 2.3624265114407574, 1.5962399507051417, 1.596238481468639, 3.128635110723915, 74.10529901005252, 3.128628352236002, 3.1286307030144065, 2.3624300376083642, 1.596240097628792, 1.596227462194868, 1.5962267275766167, 4.661024981491278, 1.5962334860645295, 1.5962359837665843, 1.5962290783550213, 6.193388993696193, 3.8948116806513116, 2.362430625302965, 1.5962425953308468, 1.5962364245375351, 1.5962292252786714, 3.8948213776122302, 1.5962411260943439, 8.492003037653642, 1.5962312822097753, 6.532965986553735, 0.8300475130235149, 0.8300464110961377, 0.8300456764778864, 0.8300437664704328, 16.920094287436388, 34.84602553389701, 3.128628646083303, 91.2724883171371, 10.024371457568066, 9.25817990142834, 6.193397809115209, 22.571170457118743, 7.725812656903119, 8.197285949088156, 11.556774551463953, 8.49197541600739, 6.959580549835917, 5.427193323694259, 8.491987757594014, 13.089210556257504, 3.894819908375727, 7.7258185338491305, 4.661029683048087, 3.894822846848733, 4.661014109141157, 3.1320781195445275, 3.132038156311652, 3.13169876267951, 2.6381884541091174, 3.493819347372747, 1.7825596748725574, 1.782558195053609, 1.7825569266373673, 1.7825431854614162, 1.7825317697152414, 2.638175347141287, 1.7825592520671436, 1.7825617888996268, 1.78255396699947, 3.493804760585968, 1.7825537555967632, 8.627588851751502, 11.194473498239528, 1.782554389804884, 11.194482799958633, 1.7825554468184186, 6.060715198204239, 0.92693036712923, 0.9269295215184024, 0.9269296272197558, 0.9269276188940399, 7.771960072514943, 0.9269326925590065, 0.9269300500251697, 1.7825624231077477, 0.9269327982603599, 0.926932586857653, 0.9269117636910194, 19.750766364270095, 3.4938140623050735, 15.472692653785998, 3.4938316087297494, 6.916324105586347, 56.5428808220275, 4.3494466467903585, 2.638185917276634, 7.771935549800938, 5.205043292815463, 17.18397219814064, 16.328327352298352, 6.916317340699725, 5.2050737348052625, 6.91634947391118, 10.338929280085743, 5.205102062767993, 5.205115592541237, 6.916374419430599, 3.493794824658742, 4.3494965378291965, 4.349516832489062, 4.3494948466075405, 3.4938385850190783, 2.195286642484753, 2.1952711303693095, 2.195272662430094, 2.195278407658036, 6.41017487865097, 3.2490144946311483, 2.195278407658036, 2.195286642484753, 6.410198242577934, 1.1415464380982818, 1.141540980131737, 1.1415402141013449, 68.57988202641991, 1.7946159778784685, 1.14154662960588, 1.1415459593292867, 1.1415478744052674, 2.195287025499949, 1.14154366123811, 1.1415456720678896, 1.1415488319432576, 1.1415359051803884, 1.1415317877670301, 1.1415446187761003, 3.2490202398590906, 1.141549885235047, 2.195278407658036, 1.1415427037001196, 2.195290281129116, 1.1415515130496305, 19.054999879009202, 11.67890012629448, 5.356490498729335, 7.463941223824577, 3.248981938339478, 5.3564617725896255, 7.4639182429128095, 1.7120520731560296, 9.57146701989826, 7.463957310462814, 3.811925417118719, 4.302752496680242, 6.410194412425973, 8.517708718043771, 6.940097468326629, 4.3027279837076895, 13.786457329614244, 14.318695246150483, 5.3564970099876685, 3.24902521905664, 4.302752879695438, 5.356571314935717, 5.3565487170391455, 3.2490167927223252, 3.2490267511174244, 3.2490390076037006, 3.249024836041444, 2.0514777817647083, 2.0514549813813074, 2.05142661554999, 12.883306731215313, 2.048041925563703, 5.001130887313103, 5.990273636826993, 4.020887109487552, 1.0667713225975073, 1.0667702454140395, 1.0667706044751954, 1.0667652185578567, 1.0667574089777154, 1.0667705147099065, 1.066768091047104, 1.0618099053102836, 2.0514806542539556, 1.0667661162107465, 3.0361748155765667, 2.051479218009332, 4.02088639136524, 8.944458991815997, 1.0667653083231456, 2.0514855015795606, 1.0667668343330583, 1.0667630641909212, 1.0667706044751954, 1.0667674626900812, 1.0667706942404844, 2.0514777817647083, 8.939957801165376, 40.45493211441643, 10.913871371558665, 6.975054511418759, 5.005609457110902, 3.036172661209631, 8.944446783736696, 6.975033685871716, 11.895140987106682, 21.74576908122063, 35.52583535808183, 12.875555318981297, 5.005614124905929, 6.975086826922792, 2.0478756802485116, 3.036190973328583, 5.005606584621654, 5.005691682115608, 5.005615561150552, 3.0361787652492818, 4.0210555091696785, 3.0362107216921586, 3.0362477049912187, 3.03623082911689, 3.0362699667828856, 9.234266401575491, 3.470400056189546, 1.7121725780315624, 2.5340184127034995, 1.7121722450074748, 2.5340145829264937, 4.177720239282041, 19.792719164845956, 3.3558587524779933, 1.7121772403687867, 0.8903321550010465, 0.890328158711997, 0.8903310726727622, 0.8903288247601719, 0.8903357350099866, 0.8903350689618117, 0.8903292410402812, 0.8903343196576149, 0.8903309894167404, 0.8903222475344447, 0.8903209154380949, 0.8903314889528715, 0.8903287415041501, 1.7121769073446993, 0.8903329875612651, 0.8903331540733088, 0.8903350689618117, 0.8903350689618117, 1.7121767408326556, 1.2472781952182128, 23.07990668537028, 19.942942334407878, 2.534016081534887, 51.991571338691436, 1.7121824022421424, 10.752480589199875, 4.999568738146677, 16.593134296574856, 2.5340323997151724, 7.465087259789503, 4.177726233715615, 1.7121699138388626, 9.797198996190536, 11.671187478780377, 2.192998083884565, 1.7121659175498132, 1.712178239441049, 3.3558770688028035, 3.4590995498299337, 2.5340285699381666, 3.3558843953327275, 2.6380274966251984, 2.5340445550943644, 2.5340323997151724, 2.169832595337104, 1.836184920278293, 1.7122320228311732, 3.6879887270866747, 7.300703113713154, 2.78480334941444, 1.881615736242552, 0.9784450383513741, 0.9784401202521368, 0.9784331902032114, 0.9784471248177171, 1.8816102220100737, 0.9784367670026567, 0.9784403438021021, 1.8816205053084791, 0.97844570900127, 3.6879905154863977, 1.8816105200766942, 1.8816230388747528, 0.9784413870352736, 0.9784365434526914, 0.9784478699842682, 1.881619164008687, 0.9784459325512354, 0.9784449638347189, 4.591166951160019, 1.8816137988095192, 0.9784455599679598, 0.9784449638347189, 0.9784437715682371, 3.6879905154863977, 0.9784418341352042, 0.9784464541678212, 4.591153538162099, 2.78481676241236, 15.429281496643892, 2.7848116952798123, 3.6880030342844563, 42.16127547039099, 2.784814675946017, 15.071751777687666, 19.042099312387666, 6.397546946569722, 6.397514755374714, 6.397540389104073, 5.4943717031625825, 3.6879940922858427, 6.397549331102686, 1.8816175246422746, 1.8816069432772489, 3.6879943903524635, 2.784811993346433, 3.6880215144149235, 2.7847935132159654, 3.688006014950661, 2.784801859081338, 2.7848280889439367, 3.6880745702733626, 2.7848251082777327, 2.7848420980750976, 3.5007495441807173, 3.500747081028165, 2.3653736066605187, 2.3652977962986252, 1.2299952059877672, 1.2299885007391522, 1.2299931533606403, 1.2299834375922387, 2.365306006807134, 2.3653752487622204, 1.229996027038618, 1.229976869185432, 1.2299854902193659, 1.2299954796713841, 3.500761038892629, 2.365366764570095, 2.3653837329543457, 1.2299880902137268, 2.3653840066379623, 1.2299924691515978, 1.2299865849538336, 1.2299994480838299, 4.636158323734949, 2.3653643014175425, 1.2300039638635094, 4.636092639666884, 1.230000953343723, 0.6219583352653998, 6.906907461939178, 1.2299995849256384, 18.260600058338632, 24.121961661612296, 8.042268620544062, 4.6361347869438925, 9.177729399985513, 5.771545208599826, 4.6361659868762235, 2.365366490886478, 25.07328591410566, 6.906913482978751, 3.500775817807944, 3.500770617819222, 10.901084483309571, 3.5007733546553914, 4.636180765791539, 4.636168723712394, 3.5008051019549566, 2.3655591641528058, 2.365492385350272, 2.3654212276098665, 2.365413838152209, 2.3653976908188095, 2.365395501349874, 2.365391943462854, 2.3653897539939184, 1.8724054354660045, 2.771179350448854, 1.8724142821349081, 0.9736554064891947, 0.9736529420600002, 0.9736571126324833, 0.9736567966800225, 2.771172273113731, 0.9736554064891947, 0.9736581868708502, 1.872407583942738, 0.9736464334393067, 1.8723590536447523, 1.872416051468689, 0.9736544586318122, 0.9736564175370694, 0.9736584396328188, 0.9736579972993736, 0.9736545850127966, 0.9736584396328188, 0.9736544586318122, 0.9736574917754364, 6.366231282559672, 0.9736597034426623, 0.9736542690603357, 0.9736605881095526, 1.8724170625165635, 0.9736609040620134, 0.9736599562046309, 5.375570177198901, 17.151337284784294, 8.050035973858938, 8.163731846037228, 9.062527624930368, 19.74192705528263, 3.669953644574657, 4.568622536959522, 2.7711876915938203, 9.062557956366609, 17.889598376607623, 1.7624557484254697, 1.8724089741335659, 4.568728191462428, 5.467482011868768, 3.669950105907095, 5.303261044247777, 2.7711914830233506, 7.2651039010912895, 2.771135622628273, 2.7711967910246926, 2.7712266169369966, 3.669997877919175, 2.6583418579161893, 2.7712556845633944, 1.8724481522387109, 1.8724432233803217, 1.8724293214720444, 1.872428436805154, 3.7375825707242116, 1.3131989371708335, 1.3131958003437512, 1.313198825141295, 3.737575624892815, 1.3132042025591504, 1.3131998334071429, 1.3132024100865318, 1.313186277832965, 1.313197816875447, 2.525392714464449, 1.3132016258797614, 19.495729849502407, 2.525383303983202, 2.525390697932753, 1.3131959123732897, 1.31320924388839, 2.5253893535782894, 1.3132048747363825, 1.313199385288988, 2.5253414049357437, 2.525394730996145, 1.3131914311917434, 1.313195128166519, 8.586344460413113, 3.7375610610527894, 1.313206667209001, 6.787643447646812, 1.313205658943153, 2.5253875611056706, 3.7375491859216914, 2.5253971956459953, 4.9497603277938, 28.426796370258014, 2.525399660295846, 4.9497943847735515, 3.7375899646737634, 4.949818135035747, 3.7375993751550105, 2.525395627232454, 6.162188806970904, 6.162167297299482, 2.525358881543774, 3.7376320877802987, 2.5254126557223304, 2.52541937749465, 2.5253994362367687, 3.737678243950226, 2.525483906508917, 1.0435315857729062, 1.0435161837994236, 1.0435229941958615, 1.0435173363280514, 1.0435129357641992, 1.0435292807156502, 1.0435229941958615, 1.043527185209054, 1.0435291759403205, 3.933298152008218, 1.043532214424885, 2.006779913278696, 2.970050348379077, 1.0435250897024577, 2.0067855711465064, 1.043532738301534, 1.0435286520636713, 1.0435302236936186, 2.0067943722742103, 5.859744724412147, 2.970033584326307, 1.0435167076760725, 1.0435336812795024, 1.0435323192002148, 1.0435324239755446, 4.896554756765063, 1.0435335765041727, 3.93323528681033, 1.0435314809975762, 4.896525838774035, 13.565812650114404, 9.712840714258526, 2.9700641787226125, 2.006813860485556, 2.9700574731015044, 2.0067853615958464, 3.933299409312176, 4.896569425311237, 2.970047624220502, 2.0067736267589074, 7.786508556514753, 10.676374764088717, 2.0067933245209124, 2.9700702556917418, 4.8966490545618955, 4.896651988271131, 2.9700786377181267, 2.0067495284330503, 2.970103574246622, 2.0067893430583794, 2.9702295141930586, 2.0069280655950528, 2.0068612189346315, 2.006827900379751, 2.006823918917218, 2.0068176323974294, 2.006814489137535, 2.006813860485556, 4.352389885352503, 4.352396537441682, 6.484180100177837, 1.1547144488581438, 1.1547128782259766, 1.154702068581061, 2.220602811791504, 1.1547057641861602, 1.154714910808781, 1.1547166662212032, 2.7136225860543415, 1.1547138021272514, 2.220619626794706, 1.1547164814409483, 1.154718329243498, 1.1547196227052827, 1.1547188835842628, 7.550062827313421, 2.2206013335494643, 3.2864890497519323, 1.1547134325667414, 1.154717959682988, 4.352408363377999, 9.145711284554967, 1.154706688087435, 1.1547197150954103, 1.154728307377266, 2.2206168550908814, 1.1547227639696171, 1.1547203618263027, 2.7171117916088474, 7.549994089058574, 5.418355394042312, 2.220619442014451, 3.2865311796500647, 4.352450493276132, 2.2206129747055274, 5.418348741953133, 9.14379178726639, 2.220616115969862, 2.220624431081335, 2.2205649318392364, 4.352588708906846, 2.220625170202355, 2.220625909323375, 2.2206443873488713, 3.2866313305482557, 1.6753159098289838, 2.220635887457143, 2.220847276068823, 2.2206656370781923, 1.3747950898835384, 1.3747468059233623, 1.3748027061034471, 1.3747985387378365, 1.3747994009514113, 1.3748038557215465, 1.374800694271773, 3.9129117269404396, 2.6438210035518113, 1.3748083104916817, 1.3747937965631765, 1.3748064423622701, 2.6438405470595017, 1.3748114719414553, 1.3748103223233559, 1.3747455126030006, 2.643851181026921, 3.9128490727540206, 1.3748172200319524, 1.374809029002994, 1.3748002631649858, 1.3748098912165685, 1.3748170763296899, 2.643869287511987, 2.6438195665291873, 1.3748195192681512, 1.3747963832039003, 1.374745656305263, 1.3748133400708669, 1.3748244051450738, 8.989214552949258, 6.451009539000963, 12.796468041821027, 2.643860090567192, 2.643865838657689, 3.912937305943152, 7.720383355846575, 2.643879634074882, 3.913029850200156, 3.913216088332263, 2.644026210382559, 1.3749048784120337, 1.3748678032283272, 1.3748594684971063, 1.3748577440699572, 1.374840930905253, 1.3748344643034438, 1.3748338894943941, 1.3748282851061593, 1.3748244051450738, 1.3748189444591015], \"Total\": [175.0, 87.0, 64.0, 120.0, 91.0, 173.0, 52.0, 125.0, 72.0, 390.0, 46.0, 34.0, 32.0, 21.0, 14.0, 60.0, 30.0, 15.0, 29.0, 43.0, 63.0, 32.0, 29.0, 9.0, 39.0, 21.0, 13.0, 14.0, 26.0, 18.0, 3.2927617866055607, 2.5265589828235084, 2.526559244133002, 5.022221828906289, 120.0929272426421, 6.097532144023212, 6.190752739427973, 4.936464123021989, 3.3821921129839314, 3.4297501829130943, 3.4297492805909946, 10.16293891200038, 3.5112772981198934, 3.580301502410019, 3.5924584014992056, 14.007905693030716, 8.968207791975, 5.954766302273695, 4.247174236968473, 4.285380172718035, 4.328513262170941, 10.762762672913915, 4.479064879906436, 24.165222195971065, 4.634044569148967, 20.008958477278657, 2.5822092917011066, 2.5822085712388, 2.615991942763814, 2.6159926465497234, 56.33958622242193, 125.79803797724655, 10.5357034246393, 390.7429771206523, 38.137706594532055, 45.39122278902581, 28.330604532732565, 173.22378431870297, 39.220968563755534, 46.7292293714534, 87.83968810673399, 60.71634168952354, 43.13479134492433, 28.49913922386493, 64.70349115105549, 175.43886603676083, 17.230229820590896, 91.36985461372625, 29.51425559955238, 22.783055559509066, 46.451680321586416, 32.035319522434385, 15.816131333561389, 21.478690765184798, 3.5610585693345826, 5.18289321559043, 2.705424682161121, 2.705424952852034, 2.7054253940407125, 2.705427733565507, 2.705429568056108, 4.46424585568526, 3.6901409559670433, 3.7713212654834054, 4.293478368516006, 8.464526481283242, 4.374812763171671, 21.748081879976436, 28.330604532732565, 4.525369348776252, 29.172289844814173, 4.740684010344307, 16.984214262372664, 2.6159926465497234, 2.615991942763814, 2.671642801509725, 2.671643423275055, 22.783055559509066, 2.7485565088641497, 2.748556872286273, 5.347217650786351, 2.8130543986757286, 2.8130545188986207, 2.8345112924179574, 63.605296354005674, 11.843796251428637, 60.71634168952354, 11.978656060489197, 28.49913922386493, 390.7429771206523, 17.719009346745583, 9.870434413891326, 43.58429109527415, 26.721458480422303, 175.43886603676083, 173.22378431870297, 46.7292293714534, 29.51425559955238, 56.33958622242193, 125.79803797724655, 38.137706594532055, 43.13479134492433, 91.36985461372625, 19.41939723854759, 72.60331434999263, 87.83968810673399, 120.0929272426421, 45.39122278902581, 3.1016401672892027, 3.101639568638423, 3.8678402634283477, 4.167536340517714, 12.970300132346166, 6.783601792845082, 4.634044569148967, 4.689692189829544, 14.974669677227185, 2.814101149773194, 2.8140989431169476, 2.8697525372789383, 175.43886603676083, 4.994164574895799, 3.316955164695637, 3.316956204888558, 3.580301502410019, 6.988361061870379, 3.6697322936430816, 3.6916015297393665, 3.7128656274232013, 3.7128652641760995, 3.7172849651041933, 3.725384472253674, 11.047217275470768, 3.9143471040469344, 7.557500546550915, 3.931381312056147, 7.660707488183783, 4.016980642999236, 72.60331434999263, 46.7292293714534, 20.65937021698581, 32.12852086477662, 12.387287402298764, 22.527731663449632, 34.13199046217044, 6.12577625660795, 56.33958622242193, 43.58429109527415, 18.130293748520685, 21.539651752918925, 39.220968563755534, 63.605296354005674, 46.451680321586416, 23.41906741419588, 173.22378431870297, 390.7429771206523, 52.3679075312125, 17.719009346745583, 38.137706594532055, 120.0929272426421, 125.79803797724655, 21.478690765184798, 24.771478115034427, 28.49913922386493, 29.51425559955238, 2.9635904407094937, 2.963591038376919, 2.9635908296794264, 21.447487273694776, 3.729029384291185, 9.916981927101439, 14.030629613177355, 10.321838046766198, 2.745074696354403, 2.7450744270468848, 2.80072455000107, 2.800725598497536, 2.800727936668818, 2.8345112924179574, 2.8776392153024983, 2.876538326185828, 5.647471009770951, 2.9463498902356413, 9.192041747463016, 6.300257797195757, 12.82666415622662, 29.248624142855505, 3.5112772981198934, 6.894488891205036, 3.6007085212677974, 3.600707865204564, 3.6901409559670433, 3.7332744321938196, 3.7376938638330612, 7.213655580414434, 32.035319522434385, 173.22378431870297, 45.39122278902581, 29.172289844814173, 20.54613182883495, 11.978656060489197, 43.13479134492433, 34.13199046217044, 72.60331434999263, 175.43886603676083, 390.7429771206523, 120.0929272426421, 29.51425559955238, 56.33958622242193, 8.094674055907301, 16.984214262372664, 60.71634168952354, 87.83968810673399, 125.79803797724655, 26.379811465772367, 91.36985461372625, 39.220968563755534, 46.451680321586416, 63.605296354005674, 64.70349115105549, 15.101844200239075, 6.1543228580323595, 3.4040607311041158, 5.381240761971477, 3.6916015297393665, 5.635165271697952, 9.997571584568087, 52.3679075312125, 8.968207791975, 4.936464123021989, 2.5822085712388, 2.5822092917011066, 2.671642801509725, 2.671643423275055, 2.719193939869028, 2.71919322324024, 2.7191943584097826, 2.80072455000107, 2.800725598497536, 2.800727936668818, 2.8697525372789383, 2.8819052122916666, 2.881905767528295, 5.656262843452165, 2.951392616167791, 2.9513933061700994, 3.0281971954689824, 3.028197515797978, 6.195146708477189, 4.544683135211199, 91.36985461372625, 87.83968810673399, 9.912106196009754, 390.7429771206523, 6.435135697047066, 60.71634168952354, 24.771478115034427, 173.22378431870297, 12.959073118801621, 63.605296354005674, 29.248624142855505, 7.630394994683827, 125.79803797724655, 175.43886603676083, 11.843796251428637, 8.516175600775425, 8.62274332837895, 30.13344080654107, 45.39122278902581, 21.748081879976436, 43.58429109527415, 46.451680321586416, 39.220968563755534, 46.7292293714534, 20.008958477278657, 15.290958682407888, 64.70349115105549, 6.426837974526963, 13.700295195817041, 6.442829279765552, 5.0664585265124895, 2.7191943584097826, 2.71919322324024, 2.719193939869028, 2.860606372698123, 5.677686304187007, 2.9632394899807575, 3.0327262019022916, 5.954766302273695, 3.1663993124900145, 11.973344721524649, 6.12577625660795, 6.195146708477189, 3.4297492805909946, 3.4297501829130943, 3.4853962297218866, 6.783601792845082, 3.7172849651041933, 3.7376938638330612, 18.04756653864892, 7.479278345386246, 3.9143471040469344, 3.931383449216521, 4.016980642999236, 15.816131333561389, 4.285380172718035, 4.328513262170941, 20.54613182883495, 12.959073118801621, 87.83968810673399, 13.056352715606423, 19.41939723854759, 390.7429771206523, 14.07304770244954, 125.79803797724655, 173.22378431870297, 45.39122278902581, 46.451680321586416, 46.7292293714534, 43.58429109527415, 24.165222195971065, 72.60331434999263, 9.068643102713093, 9.54935677854167, 38.137706594532055, 22.783055559509066, 52.3679075312125, 23.41906741419588, 63.605296354005674, 26.379811465772367, 28.330604532732565, 91.36985461372625, 56.33958622242193, 60.71634168952354, 5.988367872151433, 6.02214651837166, 4.852979097927398, 5.375873282367932, 2.9513933061700994, 2.951392616167791, 3.0283086592525796, 3.0327262019022916, 5.919020128382525, 6.300257797195757, 3.7513782111256493, 3.850156557640151, 3.8590066760065445, 4.094204502596603, 11.69466408185073, 8.240891345570526, 8.354821803329278, 4.620779724757009, 9.137397703317346, 4.80511673684792, 4.851622486213492, 4.860770145577297, 18.93970581138443, 9.916981927101439, 5.471998404474054, 20.65937021698581, 5.745973428694069, 2.9463498902356413, 34.13199046217044, 6.097532144023212, 91.36985461372625, 125.79803797724655, 43.13479134492433, 24.165222195971065, 64.70349115105549, 38.137706594532055, 30.13344080654107, 12.064834882750986, 390.7429771206523, 63.605296354005674, 22.218697832499302, 22.527731663449632, 173.22378431870297, 29.51425559955238, 56.33958622242193, 60.71634168952354, 43.58429109527415, 175.43886603676083, 87.83968810673399, 45.39122278902581, 28.49913922386493, 23.41906741419588, 21.539651752918925, 29.172289844814173, 26.379811465772367, 3.613540194076431, 5.367940050041984, 3.6473234732423285, 2.659124616786404, 2.6591249771906105, 2.748556872286273, 2.7485565088641497, 8.094674055907301, 2.876538326185828, 2.8776392153024983, 5.745973428694069, 3.0283086592525796, 6.4129254201099055, 6.659029857732381, 3.480976723778904, 3.622388514490765, 3.7128652641760995, 3.7128656274232013, 3.7332744321938196, 3.850156557640151, 3.931381312056147, 3.960746709744286, 26.379811465772367, 4.094204502596603, 4.146695593244539, 4.247174236968473, 8.240891345570526, 4.328513262170941, 4.479064879906436, 26.721458480422303, 91.36985461372625, 46.451680321586416, 52.3679075312125, 60.71634168952354, 175.43886603676083, 22.527731663449632, 30.13344080654107, 18.93970581138443, 125.79803797724655, 390.7429771206523, 9.53946677226399, 10.5357034246393, 46.7292293714534, 72.60331434999263, 39.220968563755534, 87.83968810673399, 23.41906741419588, 173.22378431870297, 24.771478115034427, 29.248624142855505, 43.13479134492433, 120.0929272426421, 45.39122278902581, 64.70349115105549, 63.605296354005674, 38.137706594532055, 22.783055559509066, 21.478690765184798, 6.450672919124954, 3.028197515797978, 3.0281971954689824, 3.0619809618857934, 9.565650073410591, 3.4754070392610226, 3.8838316935553916, 3.931383449216521, 3.9572624749565857, 3.960746709744286, 7.630394994683827, 3.9914629275649482, 64.70349115105549, 8.516175600775425, 8.910451784321433, 5.0664585265124895, 5.375873282367932, 10.762762672913915, 5.635165271697952, 5.677686304187007, 10.923646384181056, 11.04987757440236, 5.780687269975485, 5.827196063233715, 39.220968563755534, 17.230229820590896, 6.12577625660795, 32.12852086477662, 6.36170873609265, 12.427220029460784, 18.93970581138443, 12.931850497806145, 34.13199046217044, 390.7429771206523, 15.221587517448933, 43.58429109527415, 30.13344080654107, 72.60331434999263, 43.13479134492433, 19.41939723854759, 173.22378431870297, 175.43886603676083, 21.539651752918925, 63.605296354005674, 26.379811465772367, 28.330604532732565, 28.49913922386493, 120.0929272426421, 91.36985461372625, 2.723622184402642, 2.7236226093301674, 2.8130543986757286, 2.8130545188986207, 2.860606372698123, 3.622388514490765, 3.634905584619017, 3.8590066760065445, 3.9143471040469344, 14.974669677227185, 3.9914629275649482, 8.622916731392792, 12.931850497806145, 4.544683135211199, 8.910451784321433, 4.851622486213492, 4.894643924299024, 5.022221828906289, 10.060837934357778, 30.13344080654107, 15.290958682407888, 5.502400194484461, 5.536185336978032, 5.635165271697952, 5.647471009770951, 26.721458480422303, 5.745973428694069, 21.748081879976436, 5.827196063233715, 28.49913922386493, 87.83968810673399, 72.60331434999263, 19.41939723854759, 12.387287402298764, 20.54613182883495, 12.82666415622662, 32.12852086477662, 43.58429109527415, 22.783055559509066, 14.007905693030716, 175.43886603676083, 390.7429771206523, 15.101844200239075, 38.137706594532055, 120.0929272426421, 125.79803797724655, 52.3679075312125, 18.130293748520685, 64.70349115105549, 21.478690765184798, 173.22378431870297, 91.36985461372625, 46.451680321586416, 60.71634168952354, 46.7292293714534, 56.33958622242193, 26.379811465772367, 39.220968563755534, 7.693331556872639, 8.467634719920442, 14.565457658708432, 2.881905767528295, 2.8819052122916666, 2.9632394899807575, 6.190752739427973, 3.5924584014992056, 3.7713212654834054, 3.900404385555198, 9.2873291153963, 4.016980642999236, 7.792548954421604, 4.094204502596603, 4.0985121146209265, 4.167536340517714, 4.640723361309644, 32.035319522434385, 10.060837934357778, 15.290958682407888, 5.381240761971477, 5.656262843452165, 21.539651752918925, 46.451680321586416, 6.18480423695859, 6.300257797195757, 6.4129254201099055, 12.564296376375363, 6.659029857732381, 6.752615130443102, 18.130293748520685, 64.70349115105549, 72.60331434999263, 18.04756653864892, 34.13199046217044, 63.605296354005674, 18.93970581138443, 120.0929272426421, 390.7429771206523, 20.008958477278657, 21.478690765184798, 23.41906741419588, 173.22378431870297, 29.172289844814173, 29.51425559955238, 30.13344080654107, 125.79803797724655, 12.427220029460784, 45.39122278902581, 175.43886603676083, 52.3679075312125, 3.0294133379086627, 3.029401972783254, 3.118849617977302, 3.1188473726745576, 3.1663993124900145, 3.316956204888558, 3.316955164695637, 9.54935677854167, 6.583468150812174, 3.4754070392610226, 4.146695593244539, 4.740684010344307, 9.137397703317346, 6.18480423695859, 6.36170873609265, 6.659029857732381, 13.056352715606423, 22.218697832499302, 8.240891345570526, 8.298172361902177, 8.464526481283242, 9.53946677226399, 11.04987757440236, 21.478690765184798, 22.527731663449632, 11.843796251428637, 11.973344721524649, 11.978656060489197, 12.064834882750986, 12.970300132346166, 87.83968810673399, 64.70349115105549, 173.22378431870297, 29.248624142855505, 29.51425559955238, 52.3679075312125, 390.7429771206523, 43.58429109527415, 125.79803797724655, 175.43886603676083, 91.36985461372625, 120.0929272426421, 46.7292293714534, 32.12852086477662, 45.39122278902581, 56.33958622242193, 21.539651752918925, 20.54613182883495, 18.130293748520685, 20.65937021698581, 15.101844200239075], \"Category\": [\"Default\", \"Default\", \"Default\", \"Default\", \"Default\", \"Default\", \"Default\", \"Default\", \"Default\", \"Default\", \"Default\", \"Default\", \"Default\", \"Default\", \"Default\", \"Default\", \"Default\", \"Default\", \"Default\", \"Default\", \"Default\", \"Default\", \"Default\", \"Default\", \"Default\", \"Default\", \"Default\", \"Default\", \"Default\", \"Default\", \"Topic1\", \"Topic1\", \"Topic1\", \"Topic1\", \"Topic1\", \"Topic1\", \"Topic1\", \"Topic1\", \"Topic1\", \"Topic1\", \"Topic1\", \"Topic1\", \"Topic1\", \"Topic1\", \"Topic1\", \"Topic1\", \"Topic1\", \"Topic1\", \"Topic1\", \"Topic1\", \"Topic1\", \"Topic1\", \"Topic1\", \"Topic1\", \"Topic1\", \"Topic1\", \"Topic1\", \"Topic1\", \"Topic1\", \"Topic1\", \"Topic1\", \"Topic1\", \"Topic1\", \"Topic1\", \"Topic1\", \"Topic1\", \"Topic1\", \"Topic1\", \"Topic1\", \"Topic1\", \"Topic1\", \"Topic1\", \"Topic1\", \"Topic1\", \"Topic1\", \"Topic1\", \"Topic1\", \"Topic1\", \"Topic1\", \"Topic1\", \"Topic1\", \"Topic1\", \"Topic1\", \"Topic1\", \"Topic2\", \"Topic2\", \"Topic2\", \"Topic2\", \"Topic2\", \"Topic2\", \"Topic2\", \"Topic2\", \"Topic2\", \"Topic2\", \"Topic2\", \"Topic2\", \"Topic2\", \"Topic2\", \"Topic2\", \"Topic2\", \"Topic2\", \"Topic2\", \"Topic2\", \"Topic2\", \"Topic2\", \"Topic2\", \"Topic2\", \"Topic2\", \"Topic2\", \"Topic2\", \"Topic2\", \"Topic2\", \"Topic2\", \"Topic2\", \"Topic2\", \"Topic2\", \"Topic2\", \"Topic2\", \"Topic2\", \"Topic2\", \"Topic2\", \"Topic2\", \"Topic2\", \"Topic2\", \"Topic2\", \"Topic2\", \"Topic2\", \"Topic2\", \"Topic2\", \"Topic2\", \"Topic2\", \"Topic2\", \"Topic2\", \"Topic2\", \"Topic2\", \"Topic2\", \"Topic2\", \"Topic2\", \"Topic3\", \"Topic3\", \"Topic3\", \"Topic3\", \"Topic3\", \"Topic3\", \"Topic3\", \"Topic3\", \"Topic3\", \"Topic3\", \"Topic3\", \"Topic3\", \"Topic3\", \"Topic3\", \"Topic3\", \"Topic3\", \"Topic3\", \"Topic3\", \"Topic3\", \"Topic3\", \"Topic3\", \"Topic3\", \"Topic3\", \"Topic3\", \"Topic3\", \"Topic3\", \"Topic3\", \"Topic3\", \"Topic3\", \"Topic3\", \"Topic3\", \"Topic3\", \"Topic3\", \"Topic3\", \"Topic3\", \"Topic3\", \"Topic3\", \"Topic3\", \"Topic3\", \"Topic3\", \"Topic3\", \"Topic3\", \"Topic3\", \"Topic3\", \"Topic3\", \"Topic3\", \"Topic3\", \"Topic3\", \"Topic3\", \"Topic3\", \"Topic3\", \"Topic3\", \"Topic3\", \"Topic3\", \"Topic3\", \"Topic3\", \"Topic3\", \"Topic4\", \"Topic4\", \"Topic4\", \"Topic4\", \"Topic4\", \"Topic4\", \"Topic4\", \"Topic4\", \"Topic4\", \"Topic4\", \"Topic4\", \"Topic4\", \"Topic4\", \"Topic4\", \"Topic4\", \"Topic4\", \"Topic4\", \"Topic4\", \"Topic4\", \"Topic4\", \"Topic4\", \"Topic4\", \"Topic4\", \"Topic4\", \"Topic4\", \"Topic4\", \"Topic4\", \"Topic4\", \"Topic4\", \"Topic4\", \"Topic4\", \"Topic4\", \"Topic4\", \"Topic4\", \"Topic4\", \"Topic4\", \"Topic4\", \"Topic4\", \"Topic4\", \"Topic4\", \"Topic4\", \"Topic4\", \"Topic4\", \"Topic4\", \"Topic4\", \"Topic4\", \"Topic4\", \"Topic4\", \"Topic4\", \"Topic4\", \"Topic4\", \"Topic4\", \"Topic4\", \"Topic4\", \"Topic4\", \"Topic5\", \"Topic5\", \"Topic5\", \"Topic5\", \"Topic5\", \"Topic5\", \"Topic5\", \"Topic5\", \"Topic5\", \"Topic5\", \"Topic5\", \"Topic5\", \"Topic5\", \"Topic5\", \"Topic5\", \"Topic5\", \"Topic5\", \"Topic5\", \"Topic5\", \"Topic5\", \"Topic5\", \"Topic5\", \"Topic5\", \"Topic5\", \"Topic5\", \"Topic5\", \"Topic5\", \"Topic5\", \"Topic5\", \"Topic5\", \"Topic5\", \"Topic5\", \"Topic5\", \"Topic5\", \"Topic5\", \"Topic5\", \"Topic5\", \"Topic5\", \"Topic5\", \"Topic5\", \"Topic5\", \"Topic5\", \"Topic5\", \"Topic5\", \"Topic5\", \"Topic5\", \"Topic5\", \"Topic5\", \"Topic5\", \"Topic5\", \"Topic5\", \"Topic5\", \"Topic5\", \"Topic5\", \"Topic5\", \"Topic5\", \"Topic5\", \"Topic6\", \"Topic6\", \"Topic6\", \"Topic6\", \"Topic6\", \"Topic6\", \"Topic6\", \"Topic6\", \"Topic6\", \"Topic6\", \"Topic6\", \"Topic6\", \"Topic6\", \"Topic6\", \"Topic6\", \"Topic6\", \"Topic6\", \"Topic6\", \"Topic6\", \"Topic6\", \"Topic6\", \"Topic6\", \"Topic6\", \"Topic6\", \"Topic6\", \"Topic6\", \"Topic6\", \"Topic6\", \"Topic6\", \"Topic6\", \"Topic6\", \"Topic6\", \"Topic6\", \"Topic6\", \"Topic6\", \"Topic6\", \"Topic6\", \"Topic6\", \"Topic6\", \"Topic6\", \"Topic6\", \"Topic6\", \"Topic6\", \"Topic6\", \"Topic6\", \"Topic6\", \"Topic6\", \"Topic6\", \"Topic6\", \"Topic6\", \"Topic6\", \"Topic6\", \"Topic6\", \"Topic6\", \"Topic6\", \"Topic6\", \"Topic6\", \"Topic7\", \"Topic7\", \"Topic7\", \"Topic7\", \"Topic7\", \"Topic7\", \"Topic7\", \"Topic7\", \"Topic7\", \"Topic7\", \"Topic7\", \"Topic7\", \"Topic7\", \"Topic7\", \"Topic7\", \"Topic7\", \"Topic7\", \"Topic7\", \"Topic7\", \"Topic7\", \"Topic7\", \"Topic7\", \"Topic7\", \"Topic7\", \"Topic7\", \"Topic7\", \"Topic7\", \"Topic7\", \"Topic7\", \"Topic7\", \"Topic7\", \"Topic7\", \"Topic7\", \"Topic7\", \"Topic7\", \"Topic7\", \"Topic7\", \"Topic7\", \"Topic7\", \"Topic7\", \"Topic7\", \"Topic7\", \"Topic7\", \"Topic7\", \"Topic7\", \"Topic7\", \"Topic7\", \"Topic7\", \"Topic7\", \"Topic7\", \"Topic7\", \"Topic7\", \"Topic7\", \"Topic7\", \"Topic7\", \"Topic8\", \"Topic8\", \"Topic8\", \"Topic8\", \"Topic8\", \"Topic8\", \"Topic8\", \"Topic8\", \"Topic8\", \"Topic8\", \"Topic8\", \"Topic8\", \"Topic8\", \"Topic8\", \"Topic8\", \"Topic8\", \"Topic8\", \"Topic8\", \"Topic8\", \"Topic8\", \"Topic8\", \"Topic8\", \"Topic8\", \"Topic8\", \"Topic8\", \"Topic8\", \"Topic8\", \"Topic8\", \"Topic8\", \"Topic8\", \"Topic8\", \"Topic8\", \"Topic8\", \"Topic8\", \"Topic8\", \"Topic8\", \"Topic8\", \"Topic8\", \"Topic8\", \"Topic8\", \"Topic8\", \"Topic8\", \"Topic8\", \"Topic8\", \"Topic8\", \"Topic8\", \"Topic8\", \"Topic8\", \"Topic8\", \"Topic8\", \"Topic8\", \"Topic8\", \"Topic8\", \"Topic8\", \"Topic8\", \"Topic8\", \"Topic8\", \"Topic8\", \"Topic9\", \"Topic9\", \"Topic9\", \"Topic9\", \"Topic9\", \"Topic9\", \"Topic9\", \"Topic9\", \"Topic9\", \"Topic9\", \"Topic9\", \"Topic9\", \"Topic9\", \"Topic9\", \"Topic9\", \"Topic9\", \"Topic9\", \"Topic9\", \"Topic9\", \"Topic9\", \"Topic9\", \"Topic9\", \"Topic9\", \"Topic9\", \"Topic9\", \"Topic9\", \"Topic9\", \"Topic9\", \"Topic9\", \"Topic9\", \"Topic9\", \"Topic9\", \"Topic9\", \"Topic9\", \"Topic9\", \"Topic9\", \"Topic9\", \"Topic9\", \"Topic9\", \"Topic9\", \"Topic9\", \"Topic9\", \"Topic9\", \"Topic9\", \"Topic9\", \"Topic9\", \"Topic9\", \"Topic9\", \"Topic9\", \"Topic10\", \"Topic10\", \"Topic10\", \"Topic10\", \"Topic10\", \"Topic10\", \"Topic10\", \"Topic10\", \"Topic10\", \"Topic10\", \"Topic10\", \"Topic10\", \"Topic10\", \"Topic10\", \"Topic10\", \"Topic10\", \"Topic10\", \"Topic10\", \"Topic10\", \"Topic10\", \"Topic10\", \"Topic10\", \"Topic10\", \"Topic10\", \"Topic10\", \"Topic10\", \"Topic10\", \"Topic10\", \"Topic10\", \"Topic10\", \"Topic10\", \"Topic10\", \"Topic10\", \"Topic10\", \"Topic10\", \"Topic10\", \"Topic10\", \"Topic10\", \"Topic10\", \"Topic10\", \"Topic10\", \"Topic10\", \"Topic10\", \"Topic10\", \"Topic10\", \"Topic10\", \"Topic10\", \"Topic10\", \"Topic10\", \"Topic10\", \"Topic10\", \"Topic10\", \"Topic10\", \"Topic10\", \"Topic10\", \"Topic10\", \"Topic10\", \"Topic10\", \"Topic11\", \"Topic11\", \"Topic11\", \"Topic11\", \"Topic11\", \"Topic11\", \"Topic11\", \"Topic11\", \"Topic11\", \"Topic11\", \"Topic11\", \"Topic11\", \"Topic11\", \"Topic11\", \"Topic11\", \"Topic11\", \"Topic11\", \"Topic11\", \"Topic11\", \"Topic11\", \"Topic11\", \"Topic11\", \"Topic11\", \"Topic11\", \"Topic11\", \"Topic11\", \"Topic11\", \"Topic11\", \"Topic11\", \"Topic11\", \"Topic11\", \"Topic11\", \"Topic11\", \"Topic11\", \"Topic11\", \"Topic11\", \"Topic11\", \"Topic11\", \"Topic11\", \"Topic11\", \"Topic11\", \"Topic11\", \"Topic11\", \"Topic11\", \"Topic11\", \"Topic11\", \"Topic11\", \"Topic11\", \"Topic11\", \"Topic11\", \"Topic11\", \"Topic12\", \"Topic12\", \"Topic12\", \"Topic12\", \"Topic12\", \"Topic12\", \"Topic12\", \"Topic12\", \"Topic12\", \"Topic12\", \"Topic12\", \"Topic12\", \"Topic12\", \"Topic12\", \"Topic12\", \"Topic12\", \"Topic12\", \"Topic12\", \"Topic12\", \"Topic12\", \"Topic12\", \"Topic12\", \"Topic12\", \"Topic12\", \"Topic12\", \"Topic12\", \"Topic12\", \"Topic12\", \"Topic12\", \"Topic12\", \"Topic12\", \"Topic12\", \"Topic12\", \"Topic12\", \"Topic12\", \"Topic12\", \"Topic12\", \"Topic12\", \"Topic12\", \"Topic12\", \"Topic12\", \"Topic12\", \"Topic12\", \"Topic12\", \"Topic12\", \"Topic12\", \"Topic12\", \"Topic12\", \"Topic12\", \"Topic12\", \"Topic12\"], \"logprob\": [30.0, 29.0, 28.0, 27.0, 26.0, 25.0, 24.0, 23.0, 22.0, 21.0, 20.0, 19.0, 18.0, 17.0, 16.0, 15.0, 14.0, 13.0, 12.0, 11.0, 10.0, 9.0, 8.0, 7.0, 6.0, 5.0, 4.0, 3.0, 2.0, 1.0, -5.587699890136719, -5.979700088500977, -5.979700088500977, -5.30679988861084, -2.141900062561035, -5.30679988861084, -5.30679988861084, -5.587699890136719, -5.979700088500977, -5.979700088500977, -5.979700088500977, -4.908100128173828, -5.979700088500977, -5.979700088500977, -5.979700088500977, -4.623899936676025, -5.087699890136719, -5.587699890136719, -5.979700088500977, -5.979700088500977, -5.979700088500977, -5.087699890136719, -5.979700088500977, -4.308199882507324, -5.979700088500977, -4.570499897003174, -6.633600234985352, -6.633600234985352, -6.633600234985352, -6.633600234985352, -3.6189000606536865, -2.896399974822998, -5.30679988861084, -1.933500051498413, -4.142300128936768, -4.221799850463867, -4.623899936676025, -3.330699920654297, -4.4028000831604, -4.343599796295166, -4.000100135803223, -4.308199882507324, -4.507199764251709, -4.755899906158447, -4.308199882507324, -3.8756000995635986, -5.087699890136719, -4.4028000831604, -4.908100128173828, -5.087699890136719, -4.908100128173828, -5.305699825286865, -5.305699825286865, -5.305799961090088, -5.1479997634887695, -4.867099761962891, -5.539999961853027, -5.539999961853027, -5.539999961853027, -5.539999961853027, -5.539999961853027, -5.1479997634887695, -5.539999961853027, -5.539999961853027, -5.539999961853027, -4.867099761962891, -5.539999961853027, -3.963099956512451, -3.7026000022888184, -5.539999961853027, -3.7026000022888184, -5.539999961853027, -4.316199779510498, -6.193900108337402, -6.193900108337402, -6.193900108337402, -6.193900108337402, -4.067500114440918, -6.193900108337402, -6.193900108337402, -5.539999961853027, -6.193900108337402, -6.193900108337402, -6.193999767303467, -3.1349000930786133, -4.867099761962891, -3.378999948501587, -4.867099761962891, -4.184199810028076, -2.0831000804901123, -4.6479997634887695, -5.1479997634887695, -4.067500114440918, -4.468400001525879, -3.2741000652313232, -3.325200080871582, -4.184199810028076, -4.468400001525879, -4.184199810028076, -3.782099962234497, -4.468400001525879, -4.468400001525879, -4.184199810028076, -4.867099761962891, -4.6479997634887695, -4.6479997634887695, -4.6479997634887695, -4.867099761962891, -5.232900142669678, -5.232900142669678, -5.232900142669678, -5.232900142669678, -4.161300182342529, -4.84089994430542, -5.232900142669678, -5.232900142669678, -4.161300182342529, -5.8867998123168945, -5.8867998123168945, -5.8867998123168945, -1.791200041770935, -5.4344000816345215, -5.8867998123168945, -5.8867998123168945, -5.8867998123168945, -5.232900142669678, -5.8867998123168945, -5.8867998123168945, -5.8867998123168945, -5.8867998123168945, -5.886899948120117, -5.8867998123168945, -4.84089994430542, -5.8867998123168945, -5.232900142669678, -5.8867998123168945, -5.232900142669678, -5.8867998123168945, -3.071899890899658, -3.5613999366760254, -4.34089994430542, -4.009099960327148, -4.84089994430542, -4.34089994430542, -4.009099960327148, -5.481500148773193, -3.7604000568389893, -4.009099960327148, -4.681099891662598, -4.559999942779541, -4.161300182342529, -3.8770999908447266, -4.081900119781494, -4.559999942779541, -3.3954999446868896, -3.3577001094818115, -4.34089994430542, -4.84089994430542, -4.559999942779541, -4.34089994430542, -4.34089994430542, -4.84089994430542, -4.84089994430542, -4.84089994430542, -4.84089994430542, -5.236100196838379, -5.236100196838379, -5.236100196838379, -3.398699998855591, -5.237800121307373, -4.34499979019165, -4.1645002365112305, -4.5630998611450195, -5.889999866485596, -5.889999866485596, -5.889999866485596, -5.889999866485596, -5.889999866485596, -5.889999866485596, -5.889999866485596, -5.894700050354004, -5.236100196838379, -5.889999866485596, -4.843999862670898, -5.236100196838379, -4.5630998611450195, -3.7636001110076904, -5.889999866485596, -5.236100196838379, -5.889999866485596, -5.889999866485596, -5.889999866485596, -5.889999866485596, -5.889999866485596, -5.236100196838379, -3.7641000747680664, -2.254499912261963, -3.5645999908447266, -4.01230001449585, -4.344099998474121, -4.843999862670898, -3.7636001110076904, -4.01230001449585, -3.4784998893737793, -2.875200033187866, -2.384399890899658, -3.3993000984191895, -4.344099998474121, -4.01230001449585, -5.237800121307373, -4.843999862670898, -4.344099998474121, -4.344099998474121, -4.344099998474121, -4.843999862670898, -4.5630998611450195, -4.843999862670898, -4.843999862670898, -4.843999862670898, -4.843999862670898, -3.656399965286255, -4.6350998878479, -5.341599941253662, -4.9496002197265625, -5.341599941253662, -4.9496002197265625, -4.4496002197265625, -2.8940999507904053, -4.668700218200684, -5.341599941253662, -5.995500087738037, -5.995500087738037, -5.995500087738037, -5.995500087738037, -5.995500087738037, -5.995500087738037, -5.995500087738037, -5.995500087738037, -5.995500087738037, -5.995500087738037, -5.995500087738037, -5.995500087738037, -5.995500087738037, -5.341599941253662, -5.995500087738037, -5.995500087738037, -5.995500087738037, -5.995500087738037, -5.341599941253662, -5.658400058746338, -2.7404000759124756, -2.8864998817443848, -4.9496002197265625, -1.9283000230789185, -5.341599941253662, -3.504199981689453, -4.269999980926514, -3.0703999996185303, -4.9496002197265625, -3.8691000938415527, -4.4496002197265625, -5.341599941253662, -3.5973000526428223, -3.4221999645233154, -5.094099998474121, -5.341599941253662, -5.341599941253662, -4.668700218200684, -4.638400077819824, -4.9496002197265625, -4.668600082397461, -4.909299850463867, -4.94950008392334, -4.9496002197265625, -5.104700088500977, -5.271699905395508, -5.341599941253662, -4.463399887084961, -3.7804999351501465, -4.74429988861084, -5.136300086975098, -5.790299892425537, -5.790299892425537, -5.790299892425537, -5.790299892425537, -5.136300086975098, -5.790299892425537, -5.790299892425537, -5.136300086975098, -5.790299892425537, -4.463399887084961, -5.136300086975098, -5.136300086975098, -5.790299892425537, -5.790299892425537, -5.790299892425537, -5.136300086975098, -5.790299892425537, -5.790299892425537, -4.24429988861084, -5.136300086975098, -5.790299892425537, -5.790299892425537, -5.790299892425537, -4.463399887084961, -5.790299892425537, -5.790299892425537, -4.24429988861084, -4.74429988861084, -3.0322000980377197, -4.74429988861084, -4.463399887084961, -2.0269999504089355, -4.74429988861084, -3.0555999279022217, -2.8217999935150146, -3.912600040435791, -3.912600040435791, -3.912600040435791, -4.064700126647949, -4.463399887084961, -3.912600040435791, -5.136300086975098, -5.136300086975098, -4.463399887084961, -4.74429988861084, -4.463399887084961, -4.74429988861084, -4.463399887084961, -4.74429988861084, -4.74429988861084, -4.463399887084961, -4.74429988861084, -4.74429988861084, -4.430099964141846, -4.430099964141846, -4.822199821472168, -4.822199821472168, -5.476099967956543, -5.476099967956543, -5.476099967956543, -5.476099967956543, -4.822199821472168, -4.822199821472168, -5.476099967956543, -5.476099967956543, -5.476099967956543, -5.476099967956543, -4.430099964141846, -4.822199821472168, -4.822199821472168, -5.476099967956543, -4.822199821472168, -5.476099967956543, -5.476099967956543, -5.476099967956543, -4.149199962615967, -4.822199821472168, -5.476099967956543, -4.1493000984191895, -5.476099967956543, -6.1579999923706055, -3.7506000995635986, -5.476099967956543, -2.77839994430542, -2.5, -3.598400115966797, -4.149199962615967, -3.4663000106811523, -3.9302000999450684, -4.149199962615967, -4.822199821472168, -2.4612998962402344, -3.7506000995635986, -4.430099964141846, -4.430099964141846, -3.294300079345703, -4.430099964141846, -4.149199962615967, -4.149199962615967, -4.430099964141846, -4.8221001625061035, -4.8221001625061035, -4.822199821472168, -4.822199821472168, -4.822199821472168, -4.822199821472168, -4.822199821472168, -4.822199821472168, -4.976399898529053, -4.5843000411987305, -4.976399898529053, -5.630300045013428, -5.630300045013428, -5.630300045013428, -5.630300045013428, -4.5843000411987305, -5.630300045013428, -5.630300045013428, -4.976399898529053, -5.630300045013428, -4.976399898529053, -4.976399898529053, -5.630300045013428, -5.630300045013428, -5.630300045013428, -5.630300045013428, -5.630300045013428, -5.630300045013428, -5.630300045013428, -5.630300045013428, -3.7525999546051025, -5.630300045013428, -5.630300045013428, -5.630300045013428, -4.976399898529053, -5.630300045013428, -5.630300045013428, -3.9217000007629395, -2.7614998817443848, -3.517899990081787, -3.5039000511169434, -3.399399995803833, -2.6208999156951904, -4.303400039672852, -4.084400177001953, -4.5843000411987305, -3.399399995803833, -2.719399929046631, -5.036900043487549, -4.976399898529053, -4.084400177001953, -3.9047999382019043, -4.303400039672852, -3.93530011177063, -4.5843000411987305, -3.620500087738037, -4.5843000411987305, -4.5843000411987305, -4.5843000411987305, -4.303400039672852, -4.625899791717529, -4.5843000411987305, -4.976399898529053, -4.976399898529053, -4.976399898529053, -4.976399898529053, -4.164599895477295, -5.210599899291992, -5.210599899291992, -5.210599899291992, -4.164599895477295, -5.210599899291992, -5.210599899291992, -5.210599899291992, -5.210599899291992, -5.210599899291992, -4.556700229644775, -5.210599899291992, -2.5129001140594482, -4.556700229644775, -4.556700229644775, -5.210599899291992, -5.210599899291992, -4.556700229644775, -5.210599899291992, -5.210599899291992, -4.556700229644775, -4.556700229644775, -5.210599899291992, -5.210599899291992, -3.332900047302246, -4.164599895477295, -5.210599899291992, -3.568000078201294, -5.210599899291992, -4.556700229644775, -4.164599895477295, -4.556700229644775, -3.883699893951416, -2.135699987411499, -4.556700229644775, -3.883699893951416, -4.164599895477295, -3.883699893951416, -4.164599895477295, -4.556700229644775, -3.664599895477295, -3.664599895477295, -4.556700229644775, -4.164599895477295, -4.556700229644775, -4.556700229644775, -4.556700229644775, -4.164599895477295, -4.556600093841553, -5.373499870300293, -5.373499870300293, -5.373499870300293, -5.373499870300293, -5.373499870300293, -5.373499870300293, -5.373499870300293, -5.373499870300293, -5.373499870300293, -4.046599864959717, -5.373499870300293, -4.719600200653076, -4.327499866485596, -5.373499870300293, -4.719600200653076, -5.373499870300293, -5.373499870300293, -5.373499870300293, -4.719600200653076, -3.6480000019073486, -4.327499866485596, -5.373499870300293, -5.373499870300293, -5.373499870300293, -5.373499870300293, -3.8276000022888184, -5.373499870300293, -4.0467000007629395, -5.373499870300293, -3.8276000022888184, -2.8085999488830566, -3.142699956893921, -4.327499866485596, -4.719600200653076, -4.327499866485596, -4.719600200653076, -4.046599864959717, -3.8276000022888184, -4.327499866485596, -4.719600200653076, -3.3636999130249023, -3.048099994659424, -4.719600200653076, -4.327499866485596, -3.8276000022888184, -3.8276000022888184, -4.327499866485596, -4.719600200653076, -4.327499866485596, -4.719600200653076, -4.327499866485596, -4.7195000648498535, -4.7195000648498535, -4.719600200653076, -4.719600200653076, -4.719600200653076, -4.719600200653076, -4.719600200653076, -3.8196001052856445, -3.8196001052856445, -3.4210000038146973, -5.146500110626221, -5.146500110626221, -5.146500110626221, -4.492499828338623, -5.146500110626221, -5.146500110626221, -5.146500110626221, -4.291999816894531, -5.146500110626221, -4.492499828338623, -5.146500110626221, -5.146500110626221, -5.146500110626221, -5.146500110626221, -3.2688000202178955, -4.492499828338623, -4.100500106811523, -5.146500110626221, -5.146500110626221, -3.8196001052856445, -3.0769999027252197, -5.146500110626221, -5.146500110626221, -5.146500110626221, -4.492499828338623, -5.146500110626221, -5.146500110626221, -4.2906999588012695, -3.2688000202178955, -3.6005001068115234, -4.492499828338623, -4.100500106811523, -3.8196001052856445, -4.492499828338623, -3.6005001068115234, -3.077199935913086, -4.492499828338623, -4.492499828338623, -4.492599964141846, -3.819499969482422, -4.492499828338623, -4.492499828338623, -4.492499828338623, -4.100500106811523, -4.7743000984191895, -4.492499828338623, -4.492400169372559, -4.492499828338623, -4.720600128173828, -4.720600128173828, -4.720600128173828, -4.720600128173828, -4.720600128173828, -4.720600128173828, -4.720600128173828, -3.6745998859405518, -4.066699981689453, -4.720600128173828, -4.720600128173828, -4.720600128173828, -4.066699981689453, -4.720600128173828, -4.720600128173828, -4.720600128173828, -4.066699981689453, -3.6745998859405518, -4.720600128173828, -4.720600128173828, -4.720600128173828, -4.720600128173828, -4.720600128173828, -4.0665998458862305, -4.066699981689453, -4.720600128173828, -4.720600128173828, -4.720600128173828, -4.720600128173828, -4.720600128173828, -2.842900037765503, -3.1747000217437744, -2.4897000789642334, -4.066699981689453, -4.066699981689453, -3.6745998859405518, -2.994999885559082, -4.0665998458862305, -3.6745998859405518, -3.674499988555908, -4.0665998458862305, -4.7204999923706055, -4.7204999923706055, -4.7204999923706055, -4.7204999923706055, -4.720600128173828, -4.720600128173828, -4.720600128173828, -4.720600128173828, -4.720600128173828, -4.720600128173828], \"loglift\": [30.0, 29.0, 28.0, 27.0, 26.0, 25.0, 24.0, 23.0, 22.0, 21.0, 20.0, 19.0, 18.0, 17.0, 16.0, 15.0, 14.0, 13.0, 12.0, 11.0, 10.0, 9.0, 8.0, 7.0, 6.0, 5.0, 4.0, 3.0, 2.0, 1.0, 1.5003, 1.3731, 1.3731, 1.3591, 1.3496, 1.1651, 1.1499, 1.0954, 1.0815, 1.0675, 1.0675, 1.0528, 1.044, 1.0245, 1.0211, 1.0162, 0.9983, 0.9078, 0.8537, 0.8448, 0.8348, 0.8159, 0.8006, 0.7866, 0.7666, 0.713, 0.6974, 0.6974, 0.6844, 0.6844, 0.6294, 0.5486, 0.6182, 0.3781, 0.4962, 0.2425, 0.3119, -0.2056, 0.2077, 0.0918, -0.1959, -0.1348, 0.0081, 0.1739, -0.1984, -0.7632, 0.3453, -0.638, -0.0133, 0.066, -0.4668, -0.4928, 0.213, -0.0931, 1.8617, 1.7673, 1.7444, 1.7444, 1.7444, 1.7444, 1.7444, 1.6356, 1.434, 1.4123, 1.2826, 1.2767, 1.2638, 1.2371, 1.2331, 1.23, 1.2038, 1.1835, 1.1312, 1.1241, 1.1241, 1.1031, 1.1031, 1.0861, 1.0747, 1.0747, 1.0631, 1.0515, 1.0515, 1.0439, 0.9921, 0.9408, 0.7945, 0.9295, 0.7456, 0.2286, 0.757, 0.8422, 0.4375, 0.5258, -0.1617, -0.2, 0.2511, 0.4264, 0.0641, -0.3371, 0.1701, 0.0469, -0.4194, 0.4464, -0.6533, -0.8438, -1.1566, -0.4027, 1.9149, 1.9148, 1.6941, 1.6195, 1.5557, 1.5243, 1.5134, 1.5014, 1.412, 1.3582, 1.3582, 1.3386, 1.3212, 1.237, 1.1938, 1.1938, 1.1174, 1.1025, 1.0927, 1.0868, 1.0811, 1.081, 1.0799, 1.0777, 1.0366, 1.0282, 1.0242, 1.0239, 1.0107, 1.0023, 0.9228, 0.8739, 0.9106, 0.8008, 0.9221, 0.824, 0.7403, 0.9857, 0.4879, 0.4959, 0.701, 0.6498, 0.4492, 0.2499, 0.3594, 0.5662, -0.2704, -1.046, -0.0195, 0.5642, 0.0785, -0.8495, -0.8959, 0.3718, 0.2291, 0.089, 0.054, 1.9572, 1.9572, 1.9572, 1.8154, 1.7258, 1.6405, 1.4739, 1.3823, 1.3799, 1.3799, 1.3598, 1.3598, 1.3598, 1.3478, 1.3327, 1.3284, 1.3124, 1.3091, 1.2173, 1.203, 1.165, 1.1403, 1.1337, 1.1129, 1.1086, 1.1086, 1.084, 1.0724, 1.0712, 1.0676, 1.0487, 0.8707, 0.8998, 0.8942, 0.9129, 0.9525, 0.7518, 0.7372, 0.5162, 0.2372, -0.0727, 0.0921, 0.5507, 0.236, 0.9507, 0.6034, -0.1706, -0.5399, -0.8991, 0.1631, -0.7983, -0.2335, -0.4027, -0.717, -0.7341, 1.9084, 1.8274, 1.7131, 1.6472, 1.632, 1.6011, 1.5278, 1.4274, 1.4174, 1.3414, 1.3355, 1.3355, 1.3015, 1.3015, 1.2838, 1.2838, 1.2838, 1.2543, 1.2543, 1.2543, 1.2299, 1.2257, 1.2257, 1.2053, 1.2019, 1.2019, 1.1762, 1.1762, 1.1143, 1.1073, 1.0244, 0.9177, 1.0364, 0.3834, 1.0763, 0.6693, 0.8, 0.0547, 0.7683, 0.2579, 0.4543, 0.906, -0.1522, -0.3098, 0.7138, 0.7961, 0.7837, 0.2054, -0.174, 0.2506, -0.1636, -0.468, -0.3391, -0.5142, 0.1788, 0.2808, -1.2317, 1.9558, 1.8818, 1.6724, 1.5207, 1.4891, 1.4891, 1.4891, 1.4384, 1.4068, 1.4031, 1.38, 1.3592, 1.3368, 1.3336, 1.3309, 1.3196, 1.2569, 1.2569, 1.2409, 1.2289, 1.1764, 1.171, 1.1424, 1.1312, 1.1248, 1.1204, 1.0989, 1.0553, 1.0342, 1.0242, 1.0127, 0.9736, 0.772, 0.9661, 0.85, 0.2847, 0.8912, 0.3894, 0.3033, 0.5518, 0.5287, 0.5228, 0.4403, 0.6314, 0.0821, 0.9385, 0.8869, 0.1751, 0.4094, -0.142, 0.3819, -0.3364, 0.2628, 0.1915, -0.6986, -0.496, -0.5708, 2.0597, 2.0541, 1.8779, 1.7756, 1.7213, 1.7213, 1.6956, 1.6941, 1.6793, 1.6169, 1.4815, 1.4555, 1.4532, 1.394, 1.3904, 1.3484, 1.3347, 1.273, 1.2451, 1.2339, 1.2243, 1.2224, 1.1892, 1.1633, 1.1039, 1.1023, 1.0551, 1.0411, 0.9989, 0.9957, 0.9864, 0.945, 0.917, 0.9455, 0.6435, 0.7083, 0.7248, 0.9672, -0.1497, 0.3764, 0.7486, 0.7348, -0.1691, 0.4647, 0.0991, 0.0243, 0.0749, -1.7097, -1.018, -0.3578, 0.1077, 0.304, 0.3876, 0.0843, 0.1849, 2.0186, 2.0149, 2.0093, 1.6714, 1.6714, 1.6383, 1.6383, 1.6042, 1.5928, 1.5924, 1.5548, 1.5414, 1.445, 1.4074, 1.4021, 1.3623, 1.3376, 1.3376, 1.3321, 1.3013, 1.2804, 1.273, 1.2545, 1.2398, 1.2271, 1.2032, 1.1942, 1.1842, 1.15, 1.0725, 1.0033, 0.9234, 0.8175, 0.774, 0.4916, 0.8615, 0.7897, 0.7541, 0.0456, -0.4077, 0.9874, 0.9486, 0.351, 0.0899, 0.3071, -0.1311, 0.5418, -0.4954, 0.4857, 0.3195, -0.0689, -0.812, -0.1615, -0.4744, -0.8494, -0.3379, 0.1773, 0.2363, 2.2509, 1.9611, 1.9611, 1.95, 1.8569, 1.8234, 1.7123, 1.7001, 1.6935, 1.6927, 1.6909, 1.6849, 1.597, 1.5811, 1.5358, 1.4465, 1.3872, 1.3469, 1.3401, 1.3326, 1.3321, 1.3206, 1.3146, 1.3066, 1.2776, 1.2684, 1.2566, 1.242, 1.2188, 1.2031, 1.1738, 1.1633, 0.8657, 0.1759, 1.0003, 0.6213, 0.7094, 0.111, 0.3508, 0.7568, -0.5395, -0.5522, 0.6531, -0.0376, 0.4504, 0.3791, 0.3732, -0.6732, -0.7918, 1.9042, 1.9042, 1.8719, 1.8719, 1.8551, 1.6191, 1.6156, 1.5558, 1.5415, 1.5267, 1.522, 1.4057, 1.3925, 1.3922, 1.3729, 1.3269, 1.318, 1.2923, 1.2515, 1.2261, 1.2249, 1.201, 1.1949, 1.1772, 1.175, 1.1666, 1.1577, 1.1535, 1.1437, 1.1022, 0.9956, 0.852, 0.9859, 1.0435, 0.9295, 1.0086, 0.7633, 0.6774, 0.8261, 0.9205, -0.2513, -0.7364, 0.8453, 0.311, -0.3361, -0.3825, -0.0061, 0.6625, -0.2176, 0.4931, -1.2024, -0.9547, -0.2783, -0.5461, -0.2842, -0.4713, 0.2875, -0.1091, 2.4198, 2.3239, 2.1801, 2.0748, 2.0748, 2.0469, 1.9641, 1.8544, 1.8058, 1.7722, 1.759, 1.7427, 1.734, 1.7237, 1.7226, 1.7059, 1.5984, 1.5441, 1.4785, 1.4519, 1.4503, 1.4005, 1.3902, 1.3643, 1.3111, 1.2926, 1.2749, 1.2563, 1.2373, 1.2233, 1.0914, 0.8411, 0.3942, 0.8942, 0.649, 0.3074, 0.8459, -0.1091, -0.7656, 0.791, 0.7201, 0.6336, -0.6944, 0.4139, 0.4023, 0.3815, -0.6554, 0.9855, -0.0281, -1.38, -0.1711, 2.4507, 2.4507, 2.4217, 2.4216, 2.4065, 2.3601, 2.3601, 2.3486, 2.3285, 2.3134, 2.1368, 2.0029, 2.0007, 1.737, 1.7088, 1.6631, 1.6438, 1.5041, 1.45, 1.4431, 1.4232, 1.3037, 1.1567, 1.146, 1.0983, 1.0873, 1.0764, 1.0759, 1.0688, 0.9965, 0.9613, 0.9352, 0.6354, 0.8372, 0.8282, 0.6468, -0.6834, 0.4384, -0.2296, -0.5621, -0.3018, -1.2291, -0.2852, 0.0894, -0.2562, -0.4723, 0.4892, 0.5365, 0.6615, 0.531, 0.8443]}, \"token.table\": {\"Topic\": [1, 3, 6, 1, 2, 3, 4, 5, 6, 7, 8, 9, 10, 2, 12, 2, 7, 8, 10, 1, 3, 8, 1, 2, 3, 5, 4, 1, 2, 6, 8, 9, 3, 6, 9, 1, 3, 5, 6, 10, 1, 2, 3, 5, 6, 7, 10, 11, 12, 3, 5, 4, 8, 12, 1, 5, 6, 8, 9, 1, 5, 7, 10, 5, 6, 1, 3, 5, 7, 8, 9, 11, 1, 4, 7, 9, 12, 1, 1, 4, 6, 7, 4, 5, 1, 11, 1, 2, 3, 4, 5, 6, 7, 8, 10, 11, 12, 5, 7, 8, 1, 2, 3, 4, 5, 6, 7, 8, 9, 10, 11, 12, 2, 3, 5, 7, 2, 5, 1, 2, 4, 5, 6, 7, 9, 10, 11, 1, 6, 3, 4, 11, 1, 2, 3, 5, 6, 7, 9, 10, 11, 1, 2, 5, 6, 9, 1, 4, 1, 2, 3, 4, 5, 6, 7, 8, 10, 12, 2, 5, 11, 1, 2, 3, 9, 5, 7, 1, 5, 7, 1, 5, 1, 3, 5, 1, 2, 3, 4, 7, 9, 11, 1, 4, 1, 2, 3, 4, 5, 6, 7, 8, 9, 10, 11, 12, 1, 2, 5, 11, 5, 9, 10, 2, 6, 8, 9, 10, 4, 4, 8, 1, 3, 6, 2, 3, 5, 1, 2, 3, 4, 6, 9, 3, 2, 3, 7, 8, 12, 1, 2, 3, 4, 5, 6, 7, 8, 10, 11, 12, 1, 5, 1, 5, 6, 7, 4, 5, 8, 10, 12, 1, 2, 3, 6, 10, 4, 1, 2, 3, 4, 5, 6, 7, 8, 9, 10, 11, 12, 3, 12, 1, 10, 1, 2, 4, 5, 7, 10, 6, 10, 1, 2, 3, 4, 5, 6, 8, 10, 11, 12, 1, 2, 3, 5, 6, 7, 9, 10, 5, 11, 2, 5, 11, 2, 4, 9, 12, 1, 11, 4, 5, 8, 2, 2, 5, 1, 2, 3, 4, 5, 6, 7, 8, 10, 11, 3, 5, 8, 11, 7, 8, 11, 1, 2, 5, 1, 2, 7, 1, 2, 3, 4, 5, 6, 7, 8, 9, 10, 11, 4, 8, 1, 2, 5, 7, 11, 1, 2, 6, 1, 2, 3, 2, 5, 8, 2, 3, 8, 11, 12, 1, 1, 3, 8, 2, 8, 1, 2, 6, 7, 11, 1, 2, 3, 6, 8, 9, 10, 1, 8, 10, 1, 3, 4, 5, 8, 10, 4, 5, 1, 3, 5, 7, 8, 11, 1, 2, 3, 4, 6, 10, 1, 2, 2, 4, 8, 2, 8, 1, 2, 3, 5, 6, 7, 8, 9, 10, 4, 5, 1, 2, 3, 7, 11, 2, 3, 5, 6, 12, 1, 2, 3, 7, 2, 4, 6, 1, 2, 3, 4, 5, 6, 7, 8, 9, 10, 11, 1, 2, 3, 5, 6, 7, 8, 10, 11, 12, 1, 2, 3, 6, 7, 9, 10, 11, 12, 2, 4, 5, 6, 9, 10, 11, 3, 5, 6, 1, 5, 7, 1, 2, 5, 6, 9, 11, 1, 2, 3, 5, 7, 9, 10, 12, 1, 5, 6, 1, 2, 3, 4, 5, 6, 8, 10, 12, 1, 2, 3, 4, 5, 6, 7, 8, 9, 10, 11, 12, 5, 6, 3, 6, 11, 1, 3, 5, 8, 9, 10, 3, 6, 9, 11, 1, 2, 4, 5, 6, 7, 8, 9, 10, 11, 1, 3, 2, 4, 1, 2, 5, 2, 8, 1, 2, 3, 5, 6, 7, 8, 9, 10, 11, 3, 4, 6, 8, 9, 10, 12, 1, 2, 3, 4, 6, 7, 8, 9, 10, 11, 1, 4, 5, 6, 10, 11, 1, 4, 7, 10, 1, 2, 4, 3, 4, 8, 10, 2, 3, 9, 10, 1, 3, 9, 2, 1, 2, 4, 1, 2, 3, 4, 5, 6, 7, 8, 9, 10, 11, 1, 5, 8, 2, 12, 1, 3, 6, 8, 10, 2, 3, 4, 5, 6, 7, 8, 9, 10, 12, 2, 4, 5, 6, 9, 10, 1, 2, 3, 4, 5, 6, 7, 8, 10, 11, 1, 2, 5, 7, 8, 2, 4, 11, 2, 11, 1, 2, 5, 6, 7, 1, 2, 3, 4, 5, 6, 8, 9, 10, 11, 1, 2, 3, 4, 5, 6, 7, 8, 9, 10, 11, 12, 3, 6, 10, 1, 2, 4, 5, 8, 11, 7, 8, 1, 2, 3, 4, 5, 6, 7, 11, 12, 1, 3, 1, 3, 4, 8, 9, 1, 2, 3, 5, 6, 9, 1, 2, 3, 6, 7, 9, 10, 1, 2, 3, 4, 5, 6, 7, 10, 1, 10, 1, 1, 6, 7, 8, 12, 1, 2, 1, 2, 4, 5, 6, 7, 8, 9, 10, 11, 1, 2, 3, 4, 8, 10, 11, 1, 3, 4, 5, 10, 11, 2, 3, 4, 8, 10, 1, 8, 1, 2, 3, 4, 5, 8, 10, 5, 8, 3, 11, 2, 5, 10, 5, 7, 1, 4, 1, 6, 9, 10, 12, 4, 5, 7, 1, 3, 8, 2, 3, 4, 8, 10, 11, 1, 5, 7, 8, 9, 2, 6, 7, 10, 1, 12, 1, 2, 5, 7, 8, 9, 10, 11, 1, 2, 3, 4, 5, 6, 7, 8, 9, 10, 12, 1, 5, 8, 1, 2, 3, 5, 6, 8, 9, 10, 11, 12, 2, 3, 4, 5, 6, 1, 6, 11, 1, 2, 5, 9, 11, 2, 3, 4, 5, 6, 8, 3, 4, 8, 1, 2, 3, 4, 5, 7, 8, 9, 10, 11, 12, 1, 6, 8, 9, 1, 2, 4, 8, 10, 1, 2, 6, 2, 9, 2, 1, 2, 3, 4, 5, 6, 7, 8, 9, 10, 11, 1, 2, 3, 4, 5, 6, 7, 8, 10, 1, 2, 3, 8, 9, 1, 4, 9, 10, 11, 9, 12, 1, 12, 6, 11, 3, 5, 1, 3, 3, 12, 3, 1, 5, 1, 2, 3, 4, 5, 7, 8, 9, 10, 11, 12, 5, 9, 2, 5, 6, 11, 5, 6, 9, 2, 4, 6, 8, 6, 12, 1, 6, 7, 5, 6, 3, 4, 6, 2, 8, 9, 1, 2, 3, 4, 6, 12, 2, 1, 10, 1, 2, 3, 4, 5, 6, 7, 8, 9, 10, 11, 1, 2, 3, 6, 7, 11, 1, 2, 3, 4, 5, 6, 7, 8, 10, 11, 1, 2, 4, 6, 8, 9, 12, 1, 6, 8, 1, 2, 4, 6, 12, 3, 6, 8, 11, 12, 2, 10, 1, 4, 9, 1, 2, 3, 4, 5, 6, 7, 8, 9, 10, 11, 12, 1, 3, 5, 6, 7, 8, 10, 11, 1, 2, 3, 4, 7, 11, 12, 1, 2, 3, 4, 6, 8, 2, 6, 1, 3, 1, 7, 10, 1, 2, 4, 5, 12, 5, 9, 10, 1, 2, 3, 5, 6, 7, 8, 9, 10, 12, 1, 2, 2, 10, 2, 3, 4, 5, 6, 7, 8, 10, 1, 2, 3, 4, 5, 6, 7, 8, 9, 10, 12, 1, 2, 7, 1, 4, 5, 6, 1, 8, 1, 2, 3, 1, 2, 3, 4, 6, 10, 11, 12, 2, 1, 6, 1, 2, 3, 4, 5, 6, 7, 8, 9, 10, 11, 12, 2, 6, 8, 11, 1, 2, 5, 6, 7, 9, 10, 11, 1, 2, 4, 5, 8, 11, 12, 1, 2, 3, 4, 5, 1, 2, 3, 4, 5, 6, 8, 10, 5, 9, 1, 8, 11, 12, 1, 2, 4, 7, 8, 10, 11, 12, 1, 4, 6, 8, 1, 2, 7, 8, 9, 10, 11, 1, 4, 6, 7, 1, 4, 5, 7, 1, 2, 1, 3, 4, 5, 7, 9, 10, 11, 12, 2, 5, 9, 2, 3, 5, 6, 8, 10, 11, 1, 2, 12, 1, 3, 4, 5, 6, 8, 2, 4, 1, 2, 3, 4, 5, 6, 8, 9, 11, 12, 1, 2, 6, 4, 7, 11, 1, 2, 7, 8, 9, 10], \"Freq\": [0.15559751217683426, 0.15559751217683426, 0.622390048707337, 0.13139233984020024, 0.06569616992010012, 0.06569616992010012, 0.13139233984020024, 0.06569616992010012, 0.13139233984020024, 0.06569616992010012, 0.06569616992010012, 0.19708850976030035, 0.06569616992010012, 0.32063127191198626, 0.32063127191198626, 0.1740349154777205, 0.1740349154777205, 0.348069830955441, 0.1740349154777205, 0.44652177488480105, 0.22326088744240052, 0.22326088744240052, 0.18701314689386958, 0.37402629378773916, 0.18701314689386958, 0.18701314689386958, 0.6748569468935051, 0.3716517888168799, 0.18582589440843994, 0.09291294720421997, 0.09291294720421997, 0.2787388416126599, 0.1973765293384041, 0.3947530586768082, 0.1973765293384041, 0.1817388711570612, 0.1817388711570612, 0.1817388711570612, 0.1817388711570612, 0.1817388711570612, 0.09680837213303005, 0.09680837213303005, 0.24202093033257513, 0.09680837213303005, 0.048404186066515024, 0.24202093033257513, 0.048404186066515024, 0.048404186066515024, 0.048404186066515024, 0.3484621015260734, 0.3484621015260734, 0.24115587399979857, 0.24115587399979857, 0.24115587399979857, 0.1310548144226754, 0.2621096288453508, 0.1310548144226754, 0.1310548144226754, 0.39316444326802613, 0.22003734259319893, 0.22003734259319893, 0.22003734259319893, 0.22003734259319893, 0.36775613864188067, 0.36775613864188067, 0.24140555915868578, 0.08046851971956193, 0.16093703943912385, 0.08046851971956193, 0.08046851971956193, 0.24140555915868578, 0.16093703943912385, 0.1571904721645899, 0.1571904721645899, 0.1571904721645899, 0.1571904721645899, 0.1571904721645899, 0.7915904649749904, 0.3642888477438431, 0.3642888477438431, 0.3297363274576997, 0.3297363274576997, 0.3570500322103398, 0.3570500322103398, 0.48459373621780294, 0.3230624908118686, 0.2782237351454603, 0.0794924957558458, 0.0397462478779229, 0.0397462478779229, 0.0794924957558458, 0.1192387436337687, 0.1907819898140299, 0.07154324618026121, 0.0397462478779229, 0.02384774872675374, 0.03179699830233832, 0.25972969800815654, 0.25972969800815654, 0.25972969800815654, 0.1327762240644958, 0.09236606891443186, 0.08082031030012789, 0.23091517228607966, 0.09813894822158385, 0.10968470683588784, 0.06350167237867191, 0.040410155150063944, 0.03463727584291195, 0.017318637921455975, 0.023091517228607965, 0.0750474309929759, 0.20572871583114807, 0.20572871583114807, 0.20572871583114807, 0.20572871583114807, 0.3743014472994836, 0.3743014472994836, 0.23215012461527476, 0.05803753115381869, 0.05803753115381869, 0.05803753115381869, 0.11607506230763738, 0.11607506230763738, 0.23215012461527476, 0.05803753115381869, 0.05803753115381869, 0.5831330037207185, 0.29156650186035926, 0.24399098307715764, 0.24399098307715764, 0.24399098307715764, 0.349843296838709, 0.049977613834101285, 0.09995522766820257, 0.09995522766820257, 0.049977613834101285, 0.09995522766820257, 0.049977613834101285, 0.049977613834101285, 0.09995522766820257, 0.2090814513024423, 0.10454072565122115, 0.2090814513024423, 0.10454072565122115, 0.4181629026048846, 0.36428881200502494, 0.36428881200502494, 0.1366125069276066, 0.0455375023092022, 0.01138437557730055, 0.05692187788650275, 0.227687511546011, 0.17076563365950825, 0.0227687511546011, 0.05692187788650275, 0.1593812580822077, 0.10245938019570495, 0.1858307487497807, 0.5574922462493421, 0.1858307487497807, 0.2646377579043323, 0.2646377579043323, 0.2646377579043323, 0.13231887895216615, 0.3388230223025268, 0.3388230223025268, 0.16699040896442643, 0.16699040896442643, 0.6679616358577057, 0.40514829038717826, 0.40514829038717826, 0.21323361097529664, 0.4264672219505933, 0.21323361097529664, 0.058596055281823156, 0.058596055281823156, 0.20508619348638105, 0.20508619348638105, 0.20508619348638105, 0.1464901382045579, 0.08789408292273473, 0.26816629662736763, 0.5363325932547353, 0.08755622993842634, 0.07661170119612305, 0.021889057484606584, 0.04377811496921317, 0.25172416107297574, 0.04377811496921317, 0.19700151736145927, 0.18605698861915598, 0.03283358622690988, 0.021889057484606584, 0.010944528742303292, 0.03283358622690988, 0.23619346678889228, 0.11809673339444614, 0.11809673339444614, 0.47238693357778455, 0.25053470823793045, 0.25053470823793045, 0.25053470823793045, 0.17160912197710831, 0.17160912197710831, 0.17160912197710831, 0.17160912197710831, 0.17160912197710831, 0.6748570829919377, 0.3476400751892498, 0.3476400751892498, 0.26901354332192573, 0.26901354332192573, 0.26901354332192573, 0.2684286702346857, 0.2684286702346857, 0.2684286702346857, 0.0915445232141657, 0.0915445232141657, 0.1830890464283314, 0.1830890464283314, 0.1830890464283314, 0.27463356964249713, 0.6448202493360543, 0.1213460969288837, 0.1213460969288837, 0.2426921938577674, 0.2426921938577674, 0.1213460969288837, 0.19827621833038436, 0.06609207277679478, 0.022030690925598263, 0.2423376001815809, 0.06609207277679478, 0.13218414555358957, 0.04406138185119653, 0.06609207277679478, 0.04406138185119653, 0.04406138185119653, 0.022030690925598263, 0.2937667917797834, 0.5875335835595668, 0.21641369196680038, 0.21641369196680038, 0.21641369196680038, 0.21641369196680038, 0.066217078307838, 0.595953704770542, 0.066217078307838, 0.132434156615676, 0.066217078307838, 0.1806297909357669, 0.1806297909357669, 0.1806297909357669, 0.1806297909357669, 0.1806297909357669, 0.6748569944172561, 0.12364093277939761, 0.015455116597424701, 0.015455116597424701, 0.04636534979227411, 0.030910233194849403, 0.015455116597424701, 0.13909604937682232, 0.04636534979227411, 0.29364721535106936, 0.04636534979227411, 0.12364093277939761, 0.09273069958454822, 0.30148131353827323, 0.30148131353827323, 0.5973451795245218, 0.1991150598415073, 0.15592518644289233, 0.15592518644289233, 0.31185037288578465, 0.07796259322144616, 0.07796259322144616, 0.15592518644289233, 0.3495762330476809, 0.3495762330476809, 0.03819132927562464, 0.05728699391343696, 0.09547832318906159, 0.01909566463781232, 0.38191329275624636, 0.07638265855124927, 0.15276531710249855, 0.05728699391343696, 0.03819132927562464, 0.07638265855124927, 0.15448471253500015, 0.15448471253500015, 0.051494904178333384, 0.051494904178333384, 0.20597961671333354, 0.051494904178333384, 0.15448471253500015, 0.15448471253500015, 0.3469926754477842, 0.3469926754477842, 0.7392552773421269, 0.3469926085951323, 0.3469926085951323, 0.15189562356683298, 0.15189562356683298, 0.15189562356683298, 0.4556868707004989, 0.5567218256905521, 0.27836091284527603, 0.1624874130051274, 0.48746223901538216, 0.1624874130051274, 0.7392553978965923, 0.3743015344098049, 0.3743015344098049, 0.26220769136216854, 0.13110384568108427, 0.1048830765448674, 0.0524415382724337, 0.02622076913621685, 0.1048830765448674, 0.15732461481730112, 0.0524415382724337, 0.07866230740865056, 0.02622076913621685, 0.176795178667771, 0.353590357335542, 0.176795178667771, 0.176795178667771, 0.24424769191812126, 0.24424769191812126, 0.24424769191812126, 0.23291138656548985, 0.4658227731309797, 0.23291138656548985, 0.16605374793677255, 0.16605374793677255, 0.6642149917470902, 0.047165883534336664, 0.3144392235622444, 0.14149765060300998, 0.047165883534336664, 0.11005372824678555, 0.06288784471244889, 0.11005372824678555, 0.031443922356224445, 0.06288784471244889, 0.015721961178112222, 0.06288784471244889, 0.3475070796513592, 0.3475070796513592, 0.10767358274643517, 0.21534716549287033, 0.21534716549287033, 0.10767358274643517, 0.3230207482393055, 0.3358654057064077, 0.16793270285320386, 0.3358654057064077, 0.22097643814872692, 0.44195287629745383, 0.22097643814872692, 0.18629120122013634, 0.18629120122013634, 0.5588736036604091, 0.23129765459462326, 0.4625953091892465, 0.07709921819820775, 0.07709921819820775, 0.07709921819820775, 0.7915903831047141, 0.2693337438915124, 0.2693337438915124, 0.2693337438915124, 0.2741736529091123, 0.5483473058182246, 0.13370273893027013, 0.26740547786054025, 0.26740547786054025, 0.13370273893027013, 0.13370273893027013, 0.16145584864922494, 0.08072792432461247, 0.24218377297383742, 0.16145584864922494, 0.08072792432461247, 0.08072792432461247, 0.16145584864922494, 0.2760609459751945, 0.2760609459751945, 0.2760609459751945, 0.35535325376651666, 0.35535325376651666, 0.3541408174631986, 0.1770704087315993, 0.1770704087315993, 0.1770704087315993, 0.35705033029171274, 0.35705033029171274, 0.2017734637271265, 0.10088673186356326, 0.30266019559068974, 0.10088673186356326, 0.10088673186356326, 0.10088673186356326, 0.14254527809084422, 0.07127263904542211, 0.14254527809084422, 0.4276358342725326, 0.07127263904542211, 0.07127263904542211, 0.5913324652145512, 0.2956662326072756, 0.2678613689303201, 0.2678613689303201, 0.2678613689303201, 0.3638273387412556, 0.3638273387412556, 0.17544389536554997, 0.24562145351176998, 0.10526633721932999, 0.03508877907311, 0.03508877907311, 0.07017755814622, 0.03508877907311, 0.10526633721932999, 0.17544389536554997, 0.35705046395927015, 0.35705046395927015, 0.12832771482719857, 0.25665542965439714, 0.12832771482719857, 0.12832771482719857, 0.25665542965439714, 0.3544202982451055, 0.11814009941503517, 0.11814009941503517, 0.11814009941503517, 0.11814009941503517, 0.20811148922387762, 0.20811148922387762, 0.20811148922387762, 0.20811148922387762, 0.26754465090794916, 0.26754465090794916, 0.26754465090794916, 0.12110702421827728, 0.08073801614551819, 0.12110702421827728, 0.08073801614551819, 0.20184504036379547, 0.040369008072759095, 0.040369008072759095, 0.12110702421827728, 0.040369008072759095, 0.08073801614551819, 0.040369008072759095, 0.11081826437470081, 0.055409132187350406, 0.11081826437470081, 0.11081826437470081, 0.27704566093675204, 0.055409132187350406, 0.055409132187350406, 0.055409132187350406, 0.11081826437470081, 0.055409132187350406, 0.0464260059294824, 0.1392780177884472, 0.1857040237179296, 0.0928520118589648, 0.0928520118589648, 0.1392780177884472, 0.0464260059294824, 0.1857040237179296, 0.0464260059294824, 0.11597237235495875, 0.11597237235495875, 0.2319447447099175, 0.11597237235495875, 0.11597237235495875, 0.11597237235495875, 0.11597237235495875, 0.442242939903137, 0.14741431330104568, 0.29482862660209136, 0.20605899589122034, 0.20605899589122034, 0.4121179917824407, 0.23877182693977975, 0.15918121795985316, 0.15918121795985316, 0.15918121795985316, 0.07959060897992658, 0.15918121795985316, 0.1809974804275758, 0.0904987402137879, 0.0904987402137879, 0.0904987402137879, 0.0904987402137879, 0.2714962206413637, 0.0904987402137879, 0.0904987402137879, 0.2869114252986364, 0.2869114252986364, 0.2869114252986364, 0.06837928479068427, 0.03418964239534213, 0.10256892718602639, 0.3077067815580792, 0.13675856958136853, 0.06837928479068427, 0.10256892718602639, 0.06837928479068427, 0.10256892718602639, 0.23288966233141364, 0.1458759423394569, 0.03582917882021748, 0.09213217410913067, 0.1330798070465221, 0.10748753646065244, 0.06398067646467408, 0.04606608705456534, 0.07165835764043496, 0.028151497644456593, 0.02303304352728267, 0.020473816468695703, 0.36775598511641955, 0.36775598511641955, 0.2489431961149209, 0.2489431961149209, 0.2489431961149209, 0.10002429005295307, 0.10002429005295307, 0.4000971602118123, 0.10002429005295307, 0.10002429005295307, 0.10002429005295307, 0.32648923437949195, 0.32648923437949195, 0.16324461718974598, 0.16324461718974598, 0.03318572234814054, 0.06637144469628108, 0.03318572234814054, 0.09955716704442161, 0.06637144469628108, 0.16592861174070267, 0.16592861174070267, 0.13274288939256215, 0.19911433408884321, 0.06637144469628108, 0.3553535324143158, 0.3553535324143158, 0.3527945020628081, 0.3527945020628081, 0.4460199956093022, 0.11150499890232556, 0.3345149967069767, 0.3638272906349547, 0.3638272906349547, 0.11226932101022759, 0.187115535017046, 0.0374231070034092, 0.0374231070034092, 0.0374231070034092, 0.0748462140068184, 0.187115535017046, 0.0374231070034092, 0.187115535017046, 0.0374231070034092, 0.0835188515204349, 0.1670377030408698, 0.3340754060817396, 0.0835188515204349, 0.0835188515204349, 0.0835188515204349, 0.0835188515204349, 0.09364663891986766, 0.09364663891986766, 0.0624310926132451, 0.28093991675960295, 0.0624310926132451, 0.03121554630662255, 0.03121554630662255, 0.03121554630662255, 0.0624310926132451, 0.2497243704529804, 0.19879059905835444, 0.09939529952917722, 0.09939529952917722, 0.09939529952917722, 0.19879059905835444, 0.19879059905835444, 0.10083713042444584, 0.5041856521222292, 0.20167426084889167, 0.10083713042444584, 0.27772316928665575, 0.27772316928665575, 0.27772316928665575, 0.2043049536321915, 0.2043049536321915, 0.2043049536321915, 0.2043049536321915, 0.2861901356116703, 0.2861901356116703, 0.14309506780583514, 0.14309506780583514, 0.1550225864088071, 0.1550225864088071, 0.6200903456352284, 0.8424461270684964, 0.27772311868440364, 0.27772311868440364, 0.27772311868440364, 0.10763873266553213, 0.021527746533106427, 0.15069422573174499, 0.06458323959931928, 0.06458323959931928, 0.12916647919863855, 0.021527746533106427, 0.17222197226485142, 0.021527746533106427, 0.043055493066212855, 0.19374971879795785, 0.47090133072278906, 0.23545066536139453, 0.23545066536139453, 0.3206310410851228, 0.3206310410851228, 0.2205401599056924, 0.2205401599056924, 0.2205401599056924, 0.1102700799528462, 0.1102700799528462, 0.04438973328248849, 0.22194866641244246, 0.08877946656497698, 0.04438973328248849, 0.04438973328248849, 0.17755893312995397, 0.17755893312995397, 0.04438973328248849, 0.04438973328248849, 0.13316919984746547, 0.11222775502355227, 0.11222775502355227, 0.11222775502355227, 0.11222775502355227, 0.3366832650706568, 0.22445551004710454, 0.12810074572745359, 0.12810074572745359, 0.17080099430327142, 0.042700248575817855, 0.042700248575817855, 0.12810074572745359, 0.08540049715163571, 0.12810074572745359, 0.042700248575817855, 0.08540049715163571, 0.18274859129753634, 0.18274859129753634, 0.18274859129753634, 0.18274859129753634, 0.18274859129753634, 0.256383672345209, 0.256383672345209, 0.256383672345209, 0.530318119091252, 0.265159059545626, 0.14598225595975756, 0.07299112797987878, 0.07299112797987878, 0.5109378958591514, 0.14598225595975756, 0.11287312743403097, 0.22574625486806194, 0.16930969115104644, 0.056436563717015484, 0.056436563717015484, 0.11287312743403097, 0.056436563717015484, 0.056436563717015484, 0.056436563717015484, 0.056436563717015484, 0.07409988615222825, 0.09689985112214462, 0.3932993957310576, 0.12539980733454012, 0.06839989490974915, 0.005699991242479096, 0.011399982484958191, 0.11399982484958192, 0.03419994745487458, 0.045599929939832765, 0.011399982484958191, 0.022799964969916382, 0.25547044588001094, 0.25547044588001094, 0.25547044588001094, 0.09325101698290732, 0.13987652547436097, 0.6061316103888975, 0.04662550849145366, 0.04662550849145366, 0.04662550849145366, 0.3302173300415193, 0.3302173300415193, 0.16940965978744965, 0.16940965978744965, 0.1016457958724698, 0.16940965978744965, 0.03388193195748993, 0.06776386391497986, 0.13552772782995973, 0.06776386391497986, 0.1016457958724698, 0.2585422178509583, 0.5170844357019166, 0.14504338403904768, 0.14504338403904768, 0.29008676807809536, 0.14504338403904768, 0.14504338403904768, 0.13053624636398722, 0.13053624636398722, 0.26107249272797445, 0.13053624636398722, 0.13053624636398722, 0.13053624636398722, 0.07732845350861792, 0.15465690701723583, 0.15465690701723583, 0.07732845350861792, 0.07732845350861792, 0.23198536052585375, 0.23198536052585375, 0.3310542702700162, 0.08276356756750405, 0.08276356756750405, 0.04138178378375203, 0.04138178378375203, 0.1655271351350081, 0.20690891891876015, 0.04138178378375203, 0.36715811970055784, 0.36715811970055784, 0.6073928603446769, 0.21888069940021293, 0.10944034970010647, 0.21888069940021293, 0.10944034970010647, 0.3283210491003194, 0.38226407146782954, 0.38226407146782954, 0.0758155532155712, 0.1137233298233568, 0.1137233298233568, 0.0758155532155712, 0.1137233298233568, 0.0758155532155712, 0.2274466596467136, 0.1137233298233568, 0.0758155532155712, 0.0379077766077856, 0.1766346063265517, 0.3532692126531034, 0.058878202108850565, 0.1766346063265517, 0.058878202108850565, 0.058878202108850565, 0.058878202108850565, 0.13731116775477598, 0.13731116775477598, 0.06865558387738799, 0.06865558387738799, 0.06865558387738799, 0.4119335032643279, 0.23194008040443592, 0.23194008040443592, 0.11597004020221796, 0.11597004020221796, 0.23194008040443592, 0.3760636089362809, 0.3760636089362809, 0.2847460562513611, 0.09491535208378704, 0.09491535208378704, 0.09491535208378704, 0.09491535208378704, 0.18983070416757408, 0.09491535208378704, 0.27673692453712573, 0.5534738490742515, 0.47989983447907963, 0.23994991723953982, 0.2751103093933078, 0.2751103093933078, 0.2751103093933078, 0.3388231015155283, 0.3388231015155283, 0.5695932933211786, 0.2847966466605893, 0.10471909503340548, 0.20943819006681097, 0.10471909503340548, 0.10471909503340548, 0.41887638013362194, 0.3394030027845819, 0.3394030027845819, 0.3394030027845819, 0.2693337702417015, 0.2693337702417015, 0.2693337702417015, 0.06677943631175756, 0.40067661787054537, 0.06677943631175756, 0.06677943631175756, 0.26711774524703025, 0.06677943631175756, 0.3872653863588779, 0.3872653863588779, 0.3720325786992978, 0.1860162893496489, 0.1860162893496489, 0.20611661415158092, 0.20611661415158092, 0.20611661415158092, 0.20611661415158092, 0.3300981543499997, 0.3300981543499997, 0.10559826113021374, 0.05279913056510687, 0.05279913056510687, 0.2639956528255344, 0.1583973916953206, 0.21119652226042748, 0.05279913056510687, 0.10559826113021374, 0.04500713802126151, 0.1350214140637845, 0.09001427604252302, 0.09001427604252302, 0.04500713802126151, 0.09001427604252302, 0.18002855208504603, 0.09001427604252302, 0.04500713802126151, 0.04500713802126151, 0.18002855208504603, 0.28727569281601306, 0.28727569281601306, 0.28727569281601306, 0.1711990569415885, 0.14979917482388994, 0.25679858541238276, 0.06419964635309569, 0.12839929270619138, 0.10699941058849281, 0.02139988211769856, 0.04279976423539712, 0.04279976423539712, 0.02139988211769856, 0.1553968784930016, 0.1553968784930016, 0.1553968784930016, 0.3107937569860032, 0.1553968784930016, 0.259965397983316, 0.129982698991658, 0.519930795966632, 0.23484720063990858, 0.11742360031995429, 0.23484720063990858, 0.35227080095986285, 0.11742360031995429, 0.19376393922655996, 0.09688196961327998, 0.3875278784531199, 0.09688196961327998, 0.09688196961327998, 0.09688196961327998, 0.25436352279880764, 0.25436352279880764, 0.25436352279880764, 0.09337498021233161, 0.09337498021233161, 0.21787495382877375, 0.062249986808221074, 0.062249986808221074, 0.031124993404110537, 0.031124993404110537, 0.21787495382877375, 0.12449997361644215, 0.031124993404110537, 0.031124993404110537, 0.17612808218420778, 0.35225616436841556, 0.17612808218420778, 0.17612808218420778, 0.27725193942307647, 0.13862596971153823, 0.27725193942307647, 0.13862596971153823, 0.13862596971153823, 0.4667030506960797, 0.23335152534803985, 0.23335152534803985, 0.3265859626325457, 0.3265859626325457, 0.7392554718626945, 0.20397252523215031, 0.05099313130803758, 0.15297939392411275, 0.07648969696205637, 0.07648969696205637, 0.02549656565401879, 0.02549656565401879, 0.10198626261607516, 0.2294690908861691, 0.05099313130803758, 0.02549656565401879, 0.07105781356983115, 0.1421156271396623, 0.07105781356983115, 0.07105781356983115, 0.07105781356983115, 0.21317344070949346, 0.1421156271396623, 0.1421156271396623, 0.07105781356983115, 0.17298981129699495, 0.17298981129699495, 0.17298981129699495, 0.17298981129699495, 0.17298981129699495, 0.29618154764712046, 0.14809077382356023, 0.14809077382356023, 0.14809077382356023, 0.14809077382356023, 0.2877360806096055, 0.2877360806096055, 0.330096915956125, 0.330096915956125, 0.3374685047837607, 0.3374685047837607, 0.27088514075640274, 0.5417702815128055, 0.4315884256519561, 0.4315884256519561, 0.30148121899414637, 0.30148121899414637, 0.6448201248786305, 0.38726527830794866, 0.38726527830794866, 0.13967331774536065, 0.09311554516357377, 0.13967331774536065, 0.04655777258178689, 0.04655777258178689, 0.04655777258178689, 0.09311554516357377, 0.04655777258178689, 0.09311554516357377, 0.09311554516357377, 0.13967331774536065, 0.33022944995596965, 0.33022944995596965, 0.2154836481607887, 0.2154836481607887, 0.2154836481607887, 0.2154836481607887, 0.25436338452289314, 0.25436338452289314, 0.25436338452289314, 0.15521131424987702, 0.15521131424987702, 0.4656339427496311, 0.15521131424987702, 0.3158161372936925, 0.3158161372936925, 0.49200232637405505, 0.16400077545801833, 0.16400077545801833, 0.36775604172174853, 0.36775604172174853, 0.40046737947992617, 0.20023368973996308, 0.20023368973996308, 0.2524776445663101, 0.2524776445663101, 0.2524776445663101, 0.2297732043049099, 0.15318213620327328, 0.07659106810163664, 0.07659106810163664, 0.2297732043049099, 0.2297732043049099, 0.7392546380694421, 0.3671580624181756, 0.3671580624181756, 0.04132042768100303, 0.055093903574670706, 0.2616960419796859, 0.16528171072401213, 0.013773475893667677, 0.08264085536200606, 0.013773475893667677, 0.06886737946833839, 0.06886737946833839, 0.13773475893667678, 0.06886737946833839, 0.2026253269243414, 0.3039379903865121, 0.1013126634621707, 0.1013126634621707, 0.1013126634621707, 0.1013126634621707, 0.1317602440691907, 0.24705045762973257, 0.01647003050864884, 0.0823501525432442, 0.1811703355951372, 0.04941009152594651, 0.0823501525432442, 0.14823027457783955, 0.03294006101729768, 0.01647003050864884, 0.20965532432221495, 0.10482766216110748, 0.10482766216110748, 0.10482766216110748, 0.20965532432221495, 0.10482766216110748, 0.10482766216110748, 0.4620524135802027, 0.23102620679010136, 0.23102620679010136, 0.1669636384833577, 0.25044545772503657, 0.25044545772503657, 0.1669636384833577, 0.08348181924167886, 0.16168660505441562, 0.16168660505441562, 0.16168660505441562, 0.16168660505441562, 0.16168660505441562, 0.35548548242464106, 0.35548548242464106, 0.25269994253059264, 0.25269994253059264, 0.25269994253059264, 0.3017416551993484, 0.12424656390561407, 0.1774950912937344, 0.12424656390561407, 0.03549901825874688, 0.05324852738812032, 0.0887475456468672, 0.01774950912937344, 0.01774950912937344, 0.03549901825874688, 0.01774950912937344, 0.01774950912937344, 0.13079624643162382, 0.13079624643162382, 0.13079624643162382, 0.06539812321581191, 0.06539812321581191, 0.06539812321581191, 0.19619436964743572, 0.19619436964743572, 0.1657710212726895, 0.08288551063634475, 0.1657710212726895, 0.1657710212726895, 0.1657710212726895, 0.08288551063634475, 0.08288551063634475, 0.21757951660217337, 0.10878975830108668, 0.10878975830108668, 0.32636927490326006, 0.10878975830108668, 0.10878975830108668, 0.6720059998889782, 0.22400199996299275, 0.5586121723697667, 0.27930608618488334, 0.25913404250309313, 0.25913404250309313, 0.25913404250309313, 0.2410169267129495, 0.2410169267129495, 0.2410169267129495, 0.12050846335647475, 0.12050846335647475, 0.5323712536111757, 0.17745708453705855, 0.17745708453705855, 0.04588809292843724, 0.18355237171374897, 0.16060832524953034, 0.06883213939265585, 0.1147202323210931, 0.09177618585687448, 0.02294404646421862, 0.1147202323210931, 0.1147202323210931, 0.06883213939265585, 0.38226417430915055, 0.38226417430915055, 0.35548546723208346, 0.35548546723208346, 0.4138295988432131, 0.04598106653813479, 0.04598106653813479, 0.13794319961440438, 0.09196213307626958, 0.04598106653813479, 0.04598106653813479, 0.18392426615253915, 0.16228199515386527, 0.11591571082418949, 0.046366284329675794, 0.20864827948354106, 0.023183142164837897, 0.046366284329675794, 0.18546513731870318, 0.06954942649451369, 0.09273256865935159, 0.023183142164837897, 0.023183142164837897, 0.26656869654844456, 0.26656869654844456, 0.26656869654844456, 0.16141667777320595, 0.16141667777320595, 0.3228333555464119, 0.3228333555464119, 0.3760635579665417, 0.3760635579665417, 0.2724994413713111, 0.2724994413713111, 0.2724994413713111, 0.14601288578270122, 0.09734192385513415, 0.04867096192756708, 0.24335480963783537, 0.24335480963783537, 0.14601288578270122, 0.04867096192756708, 0.04867096192756708, 0.7392541367975919, 0.5831328503061057, 0.29156642515305287, 0.616189493411935, 0.03330754018442891, 0.04163442523053614, 0.10824950559939397, 0.008326885046107228, 0.016653770092214457, 0.008326885046107228, 0.03330754018442891, 0.03330754018442891, 0.04163442523053614, 0.04163442523053614, 0.008326885046107228, 0.31187014801830076, 0.15593507400915038, 0.31187014801830076, 0.15593507400915038, 0.2117851030346963, 0.3882726888969432, 0.03529751717244938, 0.10589255151734815, 0.03529751717244938, 0.10589255151734815, 0.07059503434489876, 0.03529751717244938, 0.08443238795832686, 0.2532971638749806, 0.08443238795832686, 0.16886477591665372, 0.08443238795832686, 0.08443238795832686, 0.08443238795832686, 0.49198367158303086, 0.19679346863321234, 0.09839673431660617, 0.09839673431660617, 0.09839673431660617, 0.17556907542765932, 0.35113815085531863, 0.04389226885691483, 0.04389226885691483, 0.04389226885691483, 0.1316768065707445, 0.08778453771382966, 0.1316768065707445, 0.3302294848883275, 0.3302294848883275, 0.3003440505192547, 0.3003440505192547, 0.15017202525962736, 0.15017202525962736, 0.03427910545656962, 0.3770701600222658, 0.23995373819598734, 0.06855821091313924, 0.06855821091313924, 0.06855821091313924, 0.06855821091313924, 0.03427910545656962, 0.2470760386627856, 0.2470760386627856, 0.1235380193313928, 0.3706140579941784, 0.17101816572088246, 0.08550908286044123, 0.34203633144176493, 0.08550908286044123, 0.08550908286044123, 0.08550908286044123, 0.08550908286044123, 0.16894688281340028, 0.16894688281340028, 0.16894688281340028, 0.33789376562680057, 0.23938272378269376, 0.23938272378269376, 0.11969136189134688, 0.23938272378269376, 0.19294242779147844, 0.5788272833744353, 0.11031260870570214, 0.22062521741140428, 0.05515630435285107, 0.05515630435285107, 0.11031260870570214, 0.05515630435285107, 0.11031260870570214, 0.1654689130585532, 0.05515630435285107, 0.25747768670288745, 0.25747768670288745, 0.25747768670288745, 0.07716601263319935, 0.1543320252663987, 0.23149803789959805, 0.23149803789959805, 0.1543320252663987, 0.07716601263319935, 0.07716601263319935, 0.2109400242281434, 0.4218800484562868, 0.2109400242281434, 0.1810410667345883, 0.27156160010188246, 0.1810410667345883, 0.09052053336729415, 0.09052053336729415, 0.09052053336729415, 0.5419847165366282, 0.2709923582683141, 0.18967976028588507, 0.06322658676196169, 0.06322658676196169, 0.06322658676196169, 0.06322658676196169, 0.25290634704784676, 0.06322658676196169, 0.06322658676196169, 0.06322658676196169, 0.06322658676196169, 0.2285812111590841, 0.4571624223181682, 0.2285812111590841, 0.31744732745542564, 0.31744732745542564, 0.15872366372771282, 0.42832955414492474, 0.14277651804830827, 0.07138825902415413, 0.07138825902415413, 0.07138825902415413, 0.14277651804830827], \"Term\": [\"abril\", \"abril\", \"abril\", \"acceso\", \"acceso\", \"acceso\", \"acceso\", \"acceso\", \"acceso\", \"acceso\", \"acceso\", \"acceso\", \"acceso\", \"acredite\", \"acredite\", \"acuerdo\", \"acuerdo\", \"acuerdo\", \"acuerdo\", \"agosto\", \"agosto\", \"agosto\", \"aguardo\", \"aguardo\", \"aguardo\", \"aguardo\", \"ala\", \"algun\", \"algun\", \"algun\", \"algun\", \"algun\", \"alimentos\", \"alimentos\", \"alimentos\", \"alumna\", \"alumna\", \"alumna\", \"alumna\", \"alumna\", \"alumno\", \"alumno\", \"alumno\", \"alumno\", \"alumno\", \"alumno\", \"alumno\", \"alumno\", \"alumno\", \"alumnos\", \"alumnos\", \"anotarse\", \"anotarse\", \"anotarse\", \"anote\", \"anote\", \"anote\", \"anote\", \"anote\", \"asi\", \"asi\", \"asi\", \"asi\", \"asignatura\", \"asignatura\", \"aspirante\", \"aspirante\", \"aspirante\", \"aspirante\", \"aspirante\", \"aspirante\", \"aspirante\", \"aspirantes\", \"aspirantes\", \"aspirantes\", \"aspirantes\", \"aspirantes\", \"asunto\", \"atencion\", \"atencion\", \"aula\", \"aula\", \"aviso\", \"aviso\", \"baja\", \"baja\", \"beneficio\", \"beneficio\", \"beneficio\", \"beneficio\", \"beneficio\", \"beneficio\", \"beneficio\", \"beneficio\", \"beneficio\", \"beneficio\", \"beneficio\", \"beneficios\", \"beneficios\", \"beneficios\", \"boleto\", \"boleto\", \"boleto\", \"boleto\", \"boleto\", \"boleto\", \"boleto\", \"boleto\", \"boleto\", \"boleto\", \"boleto\", \"boleto\", \"brevedad\", \"brevedad\", \"brevedad\", \"brevedad\", \"calificacion\", \"calificacion\", \"cambio\", \"cambio\", \"cambio\", \"cambio\", \"cambio\", \"cambio\", \"cambio\", \"cambio\", \"cambio\", \"cambios\", \"cambios\", \"campana\", \"campana\", \"campana\", \"carga\", \"carga\", \"carga\", \"carga\", \"carga\", \"carga\", \"carga\", \"carga\", \"carga\", \"cargas\", \"cargas\", \"cargas\", \"cargas\", \"cargas\", \"cargo\", \"cargo\", \"carrera\", \"carrera\", \"carrera\", \"carrera\", \"carrera\", \"carrera\", \"carrera\", \"carrera\", \"carrera\", \"carrera\", \"carreras\", \"carreras\", \"carreras\", \"cartel\", \"cartel\", \"cartel\", \"cartel\", \"casa\", \"casa\", \"casilla\", \"casilla\", \"casilla\", \"caso\", \"caso\", \"centro\", \"centro\", \"centro\", \"certificado\", \"certificado\", \"certificado\", \"certificado\", \"certificado\", \"certificado\", \"certificado\", \"ciclo\", \"ciclo\", \"clave\", \"clave\", \"clave\", \"clave\", \"clave\", \"clave\", \"clave\", \"clave\", \"clave\", \"clave\", \"clave\", \"clave\", \"comercio\", \"comercio\", \"comercio\", \"comercio\", \"comienzo\", \"comienzo\", \"comienzo\", \"comision\", \"comision\", \"comision\", \"comision\", \"comision\", \"comprension\", \"comunicarles\", \"comunicarles\", \"condicion\", \"condicion\", \"condicion\", \"condiciones\", \"condiciones\", \"condiciones\", \"confirmacion\", \"confirmacion\", \"confirmacion\", \"confirmacion\", \"confirmacion\", \"confirmacion\", \"consejo\", \"constancia\", \"constancia\", \"constancia\", \"constancia\", \"constancia\", \"consulta\", \"consulta\", \"consulta\", \"consulta\", \"consulta\", \"consulta\", \"consulta\", \"consulta\", \"consulta\", \"consulta\", \"consulta\", \"consultas\", \"consultas\", \"contacto\", \"contacto\", \"contacto\", \"contacto\", \"contador\", \"contador\", \"contador\", \"contador\", \"contador\", \"contrase\", \"contrase\", \"contrase\", \"contrase\", \"contrase\", \"copia\", \"correo\", \"correo\", \"correo\", \"correo\", \"correo\", \"correo\", \"correo\", \"correo\", \"correo\", \"correo\", \"correo\", \"correo\", \"cosa\", \"cosa\", \"costos\", \"costos\", \"credenciales\", \"credenciales\", \"credenciales\", \"credenciales\", \"credenciales\", \"credenciales\", \"credito\", \"credito\", \"cuatrimestre\", \"cuatrimestre\", \"cuatrimestre\", \"cuatrimestre\", \"cuatrimestre\", \"cuatrimestre\", \"cuatrimestre\", \"cuatrimestre\", \"cuatrimestre\", \"cuatrimestre\", \"cuenta\", \"cuenta\", \"cuenta\", \"cuenta\", \"cuenta\", \"cuenta\", \"cuenta\", \"cuenta\", \"cuestion\", \"cuestion\", \"cuestiones\", \"cursada\", \"cursada\", \"cursadas\", \"cursadas\", \"cursadas\", \"cursadas\", \"curse\", \"curse\", \"curso\", \"curso\", \"curso\", \"dado\", \"dato\", \"dato\", \"datos\", \"datos\", \"datos\", \"datos\", \"datos\", \"datos\", \"datos\", \"datos\", \"datos\", \"datos\", \"decia\", \"decia\", \"decia\", \"decia\", \"decirme\", \"decirme\", \"decirme\", \"deg\", \"deg\", \"deg\", \"descuento\", \"descuento\", \"descuento\", \"dia\", \"dia\", \"dia\", \"dia\", \"dia\", \"dia\", \"dia\", \"dia\", \"dia\", \"dia\", \"dia\", \"dias\", \"dias\", \"diciembre\", \"diciembre\", \"diciembre\", \"diciembre\", \"diciembre\", \"dinero\", \"dinero\", \"dinero\", \"docencia\", \"docencia\", \"docencia\", \"documentacion\", \"documentacion\", \"documentacion\", \"documento\", \"documento\", \"documento\", \"documento\", \"documento\", \"dosis\", \"duda\", \"duda\", \"duda\", \"dudas\", \"dudas\", \"elementos\", \"elementos\", \"elementos\", \"elementos\", \"elementos\", \"email\", \"email\", \"email\", \"email\", \"email\", \"email\", \"email\", \"embargo\", \"embargo\", \"embargo\", \"empresa\", \"empresa\", \"encuentro\", \"encuentro\", \"encuentro\", \"encuentro\", \"envio\", \"envio\", \"equivalencias\", \"equivalencias\", \"equivalencias\", \"equivalencias\", \"equivalencias\", \"equivalencias\", \"error\", \"error\", \"error\", \"error\", \"error\", \"error\", \"establecimiento\", \"establecimiento\", \"estaria\", \"estaria\", \"estaria\", \"estilo\", \"estilo\", \"estudiante\", \"estudiante\", \"estudiante\", \"estudiante\", \"estudiante\", \"estudiante\", \"estudiante\", \"estudiante\", \"estudiante\", \"estudios\", \"estudios\", \"examen\", \"examen\", \"examen\", \"examen\", \"examen\", \"examenes\", \"examenes\", \"examenes\", \"examenes\", \"examenes\", \"facultad\", \"facultad\", \"facultad\", \"facultad\", \"falta\", \"falta\", \"falta\", \"favor\", \"favor\", \"favor\", \"favor\", \"favor\", \"favor\", \"favor\", \"favor\", \"favor\", \"favor\", \"favor\", \"febrero\", \"febrero\", \"febrero\", \"febrero\", \"febrero\", \"febrero\", \"febrero\", \"febrero\", \"febrero\", \"febrero\", \"fecha\", \"fecha\", \"fecha\", \"fecha\", \"fecha\", \"fecha\", \"fecha\", \"fecha\", \"fecha\", \"fechas\", \"fechas\", \"fechas\", \"fechas\", \"fechas\", \"fechas\", \"fechas\", \"figura\", \"figura\", \"figura\", \"fin\", \"fin\", \"fin\", \"final\", \"final\", \"final\", \"final\", \"final\", \"final\", \"finales\", \"finales\", \"finales\", \"finales\", \"finales\", \"finales\", \"finales\", \"finales\", \"forma\", \"forma\", \"forma\", \"formulario\", \"formulario\", \"formulario\", \"formulario\", \"formulario\", \"formulario\", \"formulario\", \"formulario\", \"formulario\", \"gracias\", \"gracias\", \"gracias\", \"gracias\", \"gracias\", \"gracias\", \"gracias\", \"gracias\", \"gracias\", \"gracias\", \"gracias\", \"gracias\", \"habra\", \"habra\", \"historia\", \"historia\", \"historia\", \"hora\", \"hora\", \"hora\", \"hora\", \"hora\", \"hora\", \"horario\", \"horario\", \"horario\", \"horario\", \"horarios\", \"horarios\", \"horarios\", \"horarios\", \"horarios\", \"horarios\", \"horarios\", \"horarios\", \"horarios\", \"horarios\", \"horas\", \"horas\", \"info\", \"info\", \"informacion\", \"informacion\", \"informacion\", \"ingenieria\", \"ingenieria\", \"ingreso\", \"ingreso\", \"ingreso\", \"ingreso\", \"ingreso\", \"ingreso\", \"ingreso\", \"ingreso\", \"ingreso\", \"ingreso\", \"inscribirme\", \"inscribirme\", \"inscribirme\", \"inscribirme\", \"inscribirme\", \"inscribirme\", \"inscribirme\", \"inscripcion\", \"inscripcion\", \"inscripcion\", \"inscripcion\", \"inscripcion\", \"inscripcion\", \"inscripcion\", \"inscripcion\", \"inscripcion\", \"inscripcion\", \"inscripciones\", \"inscripciones\", \"inscripciones\", \"inscripciones\", \"inscripciones\", \"inscripciones\", \"intento\", \"intento\", \"intento\", \"intento\", \"intentos\", \"intentos\", \"intentos\", \"internet\", \"internet\", \"internet\", \"internet\", \"iquest\", \"iquest\", \"iquest\", \"iquest\", \"jueves\", \"jueves\", \"jueves\", \"junio\", \"lectura\", \"lectura\", \"lectura\", \"legajo\", \"legajo\", \"legajo\", \"legajo\", \"legajo\", \"legajo\", \"legajo\", \"legajo\", \"legajo\", \"legajo\", \"legajo\", \"leyenda\", \"leyenda\", \"leyenda\", \"libreta\", \"libreta\", \"licenciatura\", \"licenciatura\", \"licenciatura\", \"licenciatura\", \"licenciatura\", \"llego\", \"llego\", \"llego\", \"llego\", \"llego\", \"llego\", \"llego\", \"llego\", \"llego\", \"llego\", \"lunes\", \"lunes\", \"lunes\", \"lunes\", \"lunes\", \"lunes\", \"mail\", \"mail\", \"mail\", \"mail\", \"mail\", \"mail\", \"mail\", \"mail\", \"mail\", \"mail\", \"manera\", \"manera\", \"manera\", \"manera\", \"manera\", \"maquina\", \"maquina\", \"maquina\", \"martes\", \"martes\", \"marzo\", \"marzo\", \"marzo\", \"marzo\", \"marzo\", \"materia\", \"materia\", \"materia\", \"materia\", \"materia\", \"materia\", \"materia\", \"materia\", \"materia\", \"materia\", \"materias\", \"materias\", \"materias\", \"materias\", \"materias\", \"materias\", \"materias\", \"materias\", \"materias\", \"materias\", \"materias\", \"materias\", \"mayo\", \"mayo\", \"mayo\", \"mensaje\", \"mensaje\", \"mensaje\", \"mensaje\", \"mensaje\", \"mensaje\", \"mente\", \"mente\", \"mes\", \"mes\", \"mes\", \"mes\", \"mes\", \"mes\", \"mes\", \"mes\", \"mes\", \"mesa\", \"mesa\", \"molestia\", \"molestia\", \"molestia\", \"molestia\", \"molestia\", \"molestias\", \"molestias\", \"molestias\", \"molestias\", \"molestias\", \"molestias\", \"momento\", \"momento\", \"momento\", \"momento\", \"momento\", \"momento\", \"momento\", \"motivo\", \"motivo\", \"motivo\", \"motivo\", \"motivo\", \"motivo\", \"motivo\", \"motivo\", \"motivos\", \"motivos\", \"muchisimas\", \"ningun\", \"ningun\", \"ningun\", \"ningun\", \"ningun\", \"noche\", \"noche\", \"noches\", \"noches\", \"noches\", \"noches\", \"noches\", \"noches\", \"noches\", \"noches\", \"noches\", \"noches\", \"nombre\", \"nombre\", \"nombre\", \"nombre\", \"nombre\", \"nombre\", \"nombre\", \"nota\", \"nota\", \"nota\", \"nota\", \"nota\", \"nota\", \"notas\", \"notas\", \"notas\", \"notas\", \"notas\", \"novedades\", \"novedades\", \"numero\", \"numero\", \"numero\", \"numero\", \"numero\", \"numero\", \"numero\", \"octubre\", \"octubre\", \"online\", \"online\", \"opcion\", \"opcion\", \"opcion\", \"opciones\", \"opciones\", \"oportunidades\", \"oportunidades\", \"pagina\", \"pagina\", \"pagina\", \"pagina\", \"pagina\", \"panel\", \"panel\", \"panel\", \"papel\", \"papel\", \"papel\", \"papeles\", \"papeles\", \"papeles\", \"papeles\", \"papeles\", \"papeles\", \"par\", \"par\", \"parte\", \"parte\", \"parte\", \"partir\", \"partir\", \"partir\", \"partir\", \"pase\", \"pase\", \"paso\", \"paso\", \"paso\", \"paso\", \"paso\", \"paso\", \"paso\", \"paso\", \"pasos\", \"pasos\", \"pasos\", \"pasos\", \"pasos\", \"pasos\", \"pasos\", \"pasos\", \"pasos\", \"pasos\", \"pasos\", \"perdi\", \"perdi\", \"perdi\", \"perfil\", \"perfil\", \"perfil\", \"perfil\", \"perfil\", \"perfil\", \"perfil\", \"perfil\", \"perfil\", \"perfil\", \"persona\", \"persona\", \"persona\", \"persona\", \"persona\", \"plan\", \"plan\", \"plan\", \"plataforma\", \"plataforma\", \"plataforma\", \"plataforma\", \"plataforma\", \"poder\", \"poder\", \"poder\", \"poder\", \"poder\", \"poder\", \"podia\", \"podia\", \"podia\", \"porcentaje\", \"porcentaje\", \"porcentaje\", \"porcentaje\", \"porcentaje\", \"porcentaje\", \"porcentaje\", \"porcentaje\", \"porcentaje\", \"porcentaje\", \"porcentaje\", \"portal\", \"portal\", \"portal\", \"portal\", \"posibilidad\", \"posibilidad\", \"posibilidad\", \"posibilidad\", \"posibilidad\", \"posibilidades\", \"posibilidades\", \"posibilidades\", \"pregunta\", \"pregunta\", \"principio\", \"problema\", \"problema\", \"problema\", \"problema\", \"problema\", \"problema\", \"problema\", \"problema\", \"problema\", \"problema\", \"problema\", \"problemas\", \"problemas\", \"problemas\", \"problemas\", \"problemas\", \"problemas\", \"problemas\", \"problemas\", \"problemas\", \"procedimiento\", \"procedimiento\", \"procedimiento\", \"procedimiento\", \"procedimiento\", \"proceso\", \"proceso\", \"proceso\", \"proceso\", \"proceso\", \"profesor\", \"profesor\", \"profesorado\", \"profesorado\", \"profesores\", \"profesores\", \"programas\", \"programas\", \"promedio\", \"promedio\", \"prorroga\", \"prorroga\", \"puesto\", \"punto\", \"punto\", \"quot\", \"quot\", \"quot\", \"quot\", \"quot\", \"quot\", \"quot\", \"quot\", \"quot\", \"quot\", \"quot\", \"razon\", \"razon\", \"razones\", \"razones\", \"razones\", \"razones\", \"realidad\", \"realidad\", \"realidad\", \"recarga\", \"recarga\", \"recarga\", \"recarga\", \"recargas\", \"recargas\", \"recibo\", \"recibo\", \"recibo\", \"reconocimiento\", \"reconocimiento\", \"recuerdo\", \"recuerdo\", \"recuerdo\", \"registro\", \"registro\", \"registro\", \"regularidad\", \"regularidad\", \"regularidad\", \"regularidad\", \"regularidad\", \"regularidad\", \"reingreso\", \"requisito\", \"requisito\", \"requisitos\", \"requisitos\", \"requisitos\", \"requisitos\", \"requisitos\", \"requisitos\", \"requisitos\", \"requisitos\", \"requisitos\", \"requisitos\", \"requisitos\", \"respecto\", \"respecto\", \"respecto\", \"respecto\", \"respecto\", \"respecto\", \"respuesta\", \"respuesta\", \"respuesta\", \"respuesta\", \"respuesta\", \"respuesta\", \"respuesta\", \"respuesta\", \"respuesta\", \"respuesta\", \"respuestas\", \"respuestas\", \"respuestas\", \"respuestas\", \"respuestas\", \"respuestas\", \"respuestas\", \"restablecimiento\", \"restablecimiento\", \"restablecimiento\", \"saldo\", \"saldo\", \"saldo\", \"saldo\", \"saldo\", \"salta\", \"salta\", \"salta\", \"salta\", \"salta\", \"salto\", \"salto\", \"saludo\", \"saludo\", \"saludo\", \"saludos\", \"saludos\", \"saludos\", \"saludos\", \"saludos\", \"saludos\", \"saludos\", \"saludos\", \"saludos\", \"saludos\", \"saludos\", \"saludos\", \"sede\", \"sede\", \"sede\", \"sede\", \"sede\", \"sede\", \"sede\", \"sede\", \"semana\", \"semana\", \"semana\", \"semana\", \"semana\", \"semana\", \"semana\", \"semanas\", \"semanas\", \"semanas\", \"semanas\", \"semanas\", \"semanas\", \"septiembre\", \"septiembre\", \"sera\", \"sera\", \"servicio\", \"servicio\", \"servicio\", \"servicios\", \"servicios\", \"servicios\", \"servicios\", \"servicios\", \"simultaneidad\", \"simultaneidad\", \"simultaneidad\", \"sistema\", \"sistema\", \"sistema\", \"sistema\", \"sistema\", \"sistema\", \"sistema\", \"sistema\", \"sistema\", \"sistema\", \"sistemas\", \"sistemas\", \"sitio\", \"sitio\", \"situacion\", \"situacion\", \"situacion\", \"situacion\", \"situacion\", \"situacion\", \"situacion\", \"situacion\", \"solicitud\", \"solicitud\", \"solicitud\", \"solicitud\", \"solicitud\", \"solicitud\", \"solicitud\", \"solicitud\", \"solicitud\", \"solicitud\", \"solicitud\", \"solicitudes\", \"solicitudes\", \"solicitudes\", \"solucion\", \"solucion\", \"solucion\", \"solucion\", \"subsidio\", \"subsidio\", \"tal\", \"tal\", \"tal\", \"taller\", \"taller\", \"taller\", \"taller\", \"taller\", \"taller\", \"taller\", \"taller\", \"talleres\", \"tambien\", \"tambien\", \"tardes\", \"tardes\", \"tardes\", \"tardes\", \"tardes\", \"tardes\", \"tardes\", \"tardes\", \"tardes\", \"tardes\", \"tardes\", \"tardes\", \"tarifa\", \"tarifa\", \"tarifa\", \"tarifa\", \"tarjeta\", \"tarjeta\", \"tarjeta\", \"tarjeta\", \"tarjeta\", \"tarjeta\", \"tarjeta\", \"tarjeta\", \"tema\", \"tema\", \"tema\", \"tema\", \"tema\", \"tema\", \"tema\", \"tenia\", \"tenia\", \"tenia\", \"tenia\", \"tenia\", \"tiempo\", \"tiempo\", \"tiempo\", \"tiempo\", \"tiempo\", \"tiempo\", \"tiempo\", \"tiempo\", \"tiempos\", \"tiempos\", \"tipo\", \"tipo\", \"tipo\", \"tipo\", \"titulo\", \"titulo\", \"titulo\", \"titulo\", \"titulo\", \"titulo\", \"titulo\", \"titulo\", \"todavia\", \"todavia\", \"todavia\", \"todavia\", \"trabajo\", \"trabajo\", \"trabajo\", \"trabajo\", \"trabajo\", \"trabajo\", \"trabajo\", \"tramite\", \"tramite\", \"tramite\", \"tramite\", \"tramites\", \"tramites\", \"tramites\", \"tramites\", \"turno\", \"turno\", \"universidad\", \"universidad\", \"universidad\", \"universidad\", \"universidad\", \"universidad\", \"universidad\", \"universidad\", \"universidad\", \"urgencia\", \"urgencia\", \"urgencia\", \"usuario\", \"usuario\", \"usuario\", \"usuario\", \"usuario\", \"usuario\", \"usuario\", \"vacunas\", \"vacunas\", \"vacunas\", \"veces\", \"veces\", \"veces\", \"veces\", \"veces\", \"veces\", \"verdad\", \"verdad\", \"vez\", \"vez\", \"vez\", \"vez\", \"vez\", \"vez\", \"vez\", \"vez\", \"vez\", \"vez\", \"viajes\", \"viajes\", \"viajes\", \"viernes\", \"viernes\", \"viernes\", \"web\", \"web\", \"web\", \"web\", \"web\", \"web\"]}, \"R\": 30, \"lambda.step\": 0.01, \"plot.opts\": {\"xlab\": \"PC1\", \"ylab\": \"PC2\"}, \"topic.order\": [9, 3, 11, 5, 7, 8, 4, 2, 1, 12, 10, 6]};\n",
              "\n",
              "function LDAvis_load_lib(url, callback){\n",
              "  var s = document.createElement('script');\n",
              "  s.src = url;\n",
              "  s.async = true;\n",
              "  s.onreadystatechange = s.onload = callback;\n",
              "  s.onerror = function(){console.warn(\"failed to load library \" + url);};\n",
              "  document.getElementsByTagName(\"head\")[0].appendChild(s);\n",
              "}\n",
              "\n",
              "if(typeof(LDAvis) !== \"undefined\"){\n",
              "   // already loaded: just create the visualization\n",
              "   !function(LDAvis){\n",
              "       new LDAvis(\"#\" + \"ldavis_el651404584101327286390450064\", ldavis_el651404584101327286390450064_data);\n",
              "   }(LDAvis);\n",
              "}else if(typeof define === \"function\" && define.amd){\n",
              "   // require.js is available: use it to load d3/LDAvis\n",
              "   require.config({paths: {d3: \"https://cdnjs.cloudflare.com/ajax/libs/d3/3.5.5/d3.min\"}});\n",
              "   require([\"d3\"], function(d3){\n",
              "      window.d3 = d3;\n",
              "      LDAvis_load_lib(\"https://cdn.rawgit.com/bmabey/pyLDAvis/files/ldavis.v1.0.0.js\", function(){\n",
              "        new LDAvis(\"#\" + \"ldavis_el651404584101327286390450064\", ldavis_el651404584101327286390450064_data);\n",
              "      });\n",
              "    });\n",
              "}else{\n",
              "    // require.js not available: dynamically load d3 & LDAvis\n",
              "    LDAvis_load_lib(\"https://cdnjs.cloudflare.com/ajax/libs/d3/3.5.5/d3.min.js\", function(){\n",
              "         LDAvis_load_lib(\"https://cdn.rawgit.com/bmabey/pyLDAvis/files/ldavis.v1.0.0.js\", function(){\n",
              "                 new LDAvis(\"#\" + \"ldavis_el651404584101327286390450064\", ldavis_el651404584101327286390450064_data);\n",
              "            })\n",
              "         });\n",
              "}\n",
              "</script>"
            ],
            "text/plain": [
              "PreparedData(topic_coordinates=              x         y  topics  cluster       Freq\n",
              "topic                                                \n",
              "8      0.003191  0.036625       1        1  16.003862\n",
              "2      0.014751  0.002061       2        1  11.513666\n",
              "10    -0.071967 -0.123507       3        1  10.430115\n",
              "4      0.021956 -0.074190       4        1   9.777808\n",
              "6      0.084524  0.037416       5        1   9.068777\n",
              "7      0.061705  0.017587       6        1   8.116830\n",
              "3      0.008930  0.105389       7        1   7.452842\n",
              "1      0.031174 -0.038623       8        1   6.883112\n",
              "0     -0.101928  0.064615       9        1   6.101486\n",
              "11    -0.018662 -0.025366      10        1   5.706399\n",
              "9     -0.120735  0.024563      11        1   5.031861\n",
              "5      0.087062 -0.026570      12        1   3.913242, topic_info=            Term        Freq       Total Category  logprob  loglift\n",
              "1       materias  175.000000  175.000000  Default  30.0000  30.0000\n",
              "14       carrera   87.000000   87.000000  Default  29.0000  29.0000\n",
              "86        correo   64.000000   64.000000  Default  28.0000  28.0000\n",
              "37        tardes  120.000000  120.000000  Default  27.0000  27.0000\n",
              "66         clave   91.000000   91.000000  Default  26.0000  26.0000\n",
              "..           ...         ...         ...      ...      ...      ...\n",
              "183        fecha    1.374834   21.539652  Topic12  -4.7206   0.4892\n",
              "21        taller    1.374834   20.546132  Topic12  -4.7206   0.5365\n",
              "46   universidad    1.374828   18.130294  Topic12  -4.7206   0.6615\n",
              "47        alumno    1.374824   20.659370  Topic12  -4.7206   0.5310\n",
              "15      contador    1.374819   15.101844  Topic12  -4.7206   0.8443\n",
              "\n",
              "[686 rows x 6 columns], token_table=      Topic      Freq    Term\n",
              "term                         \n",
              "251       1  0.155598   abril\n",
              "251       3  0.155598   abril\n",
              "251       6  0.622390   abril\n",
              "51        1  0.131392  acceso\n",
              "51        2  0.065696  acceso\n",
              "...     ...       ...     ...\n",
              "135       2  0.142777     web\n",
              "135       7  0.071388     web\n",
              "135       8  0.071388     web\n",
              "135       9  0.071388     web\n",
              "135      10  0.142777     web\n",
              "\n",
              "[1293 rows x 3 columns], R=30, lambda_step=0.01, plot_opts={'xlab': 'PC1', 'ylab': 'PC2'}, topic_order=[9, 3, 11, 5, 7, 8, 4, 2, 1, 12, 10, 6])"
            ]
          },
          "metadata": {
            "tags": []
          },
          "execution_count": 197
        }
      ]
    },
    {
      "cell_type": "markdown",
      "metadata": {
        "id": "XYUAzh69uyGK"
      },
      "source": [
        "https://www.tutorialspoint.com/gensim/gensim_creating_lsi_and_hdp_topic_model.htm\n",
        "\n",
        "https://github.com/ArmandDS/topic_modeling/blob/master/topic_modeling_spanish.ipynb"
      ]
    }
  ]
}