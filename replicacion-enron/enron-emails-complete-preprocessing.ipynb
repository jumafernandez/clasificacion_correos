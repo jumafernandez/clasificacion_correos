{
 "cells": [
  {
   "cell_type": "markdown",
   "metadata": {},
   "source": [
    "## Import and have a Look"
   ]
  },
  {
   "cell_type": "code",
   "execution_count": 1,
   "metadata": {},
   "outputs": [
    {
     "data": {
      "text/html": [
       "<div>\n",
       "<style scoped>\n",
       "    .dataframe tbody tr th:only-of-type {\n",
       "        vertical-align: middle;\n",
       "    }\n",
       "\n",
       "    .dataframe tbody tr th {\n",
       "        vertical-align: top;\n",
       "    }\n",
       "\n",
       "    .dataframe thead th {\n",
       "        text-align: right;\n",
       "    }\n",
       "</style>\n",
       "<table border=\"1\" class=\"dataframe\">\n",
       "  <thead>\n",
       "    <tr style=\"text-align: right;\">\n",
       "      <th></th>\n",
       "      <th>file</th>\n",
       "      <th>message</th>\n",
       "    </tr>\n",
       "  </thead>\n",
       "  <tbody>\n",
       "    <tr>\n",
       "      <th>0</th>\n",
       "      <td>allen-p/_sent_mail/1.</td>\n",
       "      <td>Message-ID: &lt;18782981.1075855378110.JavaMail.e...</td>\n",
       "    </tr>\n",
       "    <tr>\n",
       "      <th>1</th>\n",
       "      <td>allen-p/_sent_mail/10.</td>\n",
       "      <td>Message-ID: &lt;15464986.1075855378456.JavaMail.e...</td>\n",
       "    </tr>\n",
       "    <tr>\n",
       "      <th>2</th>\n",
       "      <td>allen-p/_sent_mail/100.</td>\n",
       "      <td>Message-ID: &lt;24216240.1075855687451.JavaMail.e...</td>\n",
       "    </tr>\n",
       "    <tr>\n",
       "      <th>3</th>\n",
       "      <td>allen-p/_sent_mail/1000.</td>\n",
       "      <td>Message-ID: &lt;13505866.1075863688222.JavaMail.e...</td>\n",
       "    </tr>\n",
       "    <tr>\n",
       "      <th>4</th>\n",
       "      <td>allen-p/_sent_mail/1001.</td>\n",
       "      <td>Message-ID: &lt;30922949.1075863688243.JavaMail.e...</td>\n",
       "    </tr>\n",
       "  </tbody>\n",
       "</table>\n",
       "</div>"
      ],
      "text/plain": [
       "                       file                                            message\n",
       "0     allen-p/_sent_mail/1.  Message-ID: <18782981.1075855378110.JavaMail.e...\n",
       "1    allen-p/_sent_mail/10.  Message-ID: <15464986.1075855378456.JavaMail.e...\n",
       "2   allen-p/_sent_mail/100.  Message-ID: <24216240.1075855687451.JavaMail.e...\n",
       "3  allen-p/_sent_mail/1000.  Message-ID: <13505866.1075863688222.JavaMail.e...\n",
       "4  allen-p/_sent_mail/1001.  Message-ID: <30922949.1075863688243.JavaMail.e..."
      ]
     },
     "execution_count": 1,
     "metadata": {},
     "output_type": "execute_result"
    }
   ],
   "source": [
    "import numpy as np\n",
    "import pandas as pd\n",
    "\n",
    "import os, gc, re\n",
    "\n",
    "df = pd.read_csv('/kaggle/input/enron-email-dataset/emails.csv')\n",
    "df.head(5)"
   ]
  },
  {
   "cell_type": "markdown",
   "metadata": {},
   "source": [
    "Wow, only two columns! What's inside the message? Let's look at an example:"
   ]
  },
  {
   "cell_type": "code",
   "execution_count": 2,
   "metadata": {},
   "outputs": [
    {
     "name": "stdout",
     "output_type": "stream",
     "text": [
      "Message-ID: <26575732.1075855687756.JavaMail.evans@thyme>\n",
      "Date: Mon, 2 Oct 2000 02:19:00 -0700 (PDT)\n",
      "From: phillip.allen@enron.com\n",
      "To: bs_stone@yahoo.com\n",
      "Subject: Re: Original Sept check/closing\n",
      "Mime-Version: 1.0\n",
      "Content-Type: text/plain; charset=us-ascii\n",
      "Content-Transfer-Encoding: 7bit\n",
      "X-From: Phillip K Allen\n",
      "X-To: \"BS Stone\" <bs_stone@yahoo.com> @ ENRON\n",
      "X-cc: \n",
      "X-bcc: \n",
      "X-Folder: \\Phillip_Allen_Dec2000\\Notes Folders\\'sent mail\n",
      "X-Origin: Allen-P\n",
      "X-FileName: pallen.nsf\n",
      "\n",
      "Brenda,\n",
      "\n",
      " Please use the second check as my October payment.  I have my copy of the \n",
      "original deal.  Do you want me to fax this to you?\n",
      "\n",
      "Phillip\n"
     ]
    }
   ],
   "source": [
    "print(df.iloc[22,1])"
   ]
  },
  {
   "cell_type": "markdown",
   "metadata": {},
   "source": [
    "## Information Part\n",
    "\n",
    "Let's seperate the \"info\" and \"content\" parts, and deal with the information part first."
   ]
  },
  {
   "cell_type": "code",
   "execution_count": 3,
   "metadata": {
    "_cell_guid": "b1076dfc-b9ad-4769-8c92-a6c4dae69d19",
    "_uuid": "8f2839f25d086af736a60e9eeb907d3b93b6e0e5"
   },
   "outputs": [],
   "source": [
    "def info_part(i):\n",
    "    \"\"\"split infomation part out\"\"\"\n",
    "    return i.split('\\n\\n', 1)[0]\n",
    "def content_part(i):\n",
    "    \"\"\"split content part out\"\"\"\n",
    "    return i.split('\\n\\n', 1)[1]\n",
    "df['pre_info'] = df.message.map(info_part)\n",
    "df['content'] = df.message.map(content_part)\n",
    "df['test_true'] = True\n",
    "\n",
    "words2split = ['Message-ID: ', 'Date: ', 'From: ', 'To: ', 'Subject: ', 'Cc: ', 'Mime-Version: ', 'Content-Type: ',\n",
    "               'Content-Transfer-Encoding: ', 'Bcc: ', 'X-From: ', 'X-To: ', 'X-cc: ', 'X-bcc: ', 'X-Folder: ', 'X-Origin: ',\n",
    "               'X-FileName: ']\n",
    "features_naming = [i[:-2] for i in words2split]\n",
    "split_condition = '|'.join(words2split)"
   ]
  },
  {
   "cell_type": "code",
   "execution_count": 4,
   "metadata": {},
   "outputs": [],
   "source": [
    "# Some emails' subject confuse the string-spliting function, so I make a little change\n",
    "def duplicated_info(i):\n",
    "    return i.replace(' Date: ', ' Date- ').replace(' Subject: ', ' Subject2: ').replace(' To: ',\n",
    "                    ' To- ').replace(' (Subject: ', ' (Subject- ')\n",
    "df['pre_info'] = df['pre_info'].map(duplicated_info)\n",
    "\n",
    "# let's check how many categories are there in these emails\n",
    "def num_part(i):\n",
    "    return len(re.split(split_condition, i))\n",
    "df['num_info'] = df['pre_info'].map(num_part)\n",
    "\n",
    "# around 20k emails do not have the 'To: ' category, so I add one\n",
    "def add_to(i):\n",
    "    return i.replace('\\nSubject: ', '\\nTo: \\nSubject: ')\n",
    "temp_condition = (df['num_info'] == 17) | (df['num_info'] == 15)\n",
    "df.loc[temp_condition, 'pre_info'] = df.loc[temp_condition, 'pre_info'].map(add_to)\n",
    "\n",
    "\n",
    "# similar way to deal with the \"Cc:\" and \"Bcc:\" categories\n",
    "temp_condition = (df['num_info'] == 16) | (df['num_info'] == 15)\n",
    "def add_bcc(i):\n",
    "    return i.replace('\\nX-From: ', '\\nBcc: \\nX-From: ')\n",
    "df.loc[temp_condition, 'pre_info'] = df.loc[temp_condition, 'pre_info'].map(add_bcc)\n",
    "def add_cc(i):\n",
    "    return i.replace('\\nMime-Version: ', '\\nCc: \\nMime-Version: ')\n",
    "df.loc[temp_condition, 'pre_info'] = df.loc[temp_condition, 'pre_info'].map(add_cc)"
   ]
  },
  {
   "cell_type": "markdown",
   "metadata": {},
   "source": [
    "Now let's see how many wrong-formatted email are left:"
   ]
  },
  {
   "cell_type": "code",
   "execution_count": 5,
   "metadata": {},
   "outputs": [
    {
     "data": {
      "text/plain": [
       "18    517398\n",
       "5          2\n",
       "6          1\n",
       "Name: num_info, dtype: int64"
      ]
     },
     "execution_count": 5,
     "metadata": {},
     "output_type": "execute_result"
    }
   ],
   "source": [
    "df['num_info'] = df['pre_info'].map(num_part)\n",
    "df['num_info'].value_counts()"
   ]
  },
  {
   "cell_type": "markdown",
   "metadata": {},
   "source": [
    "Oh, there are 3 of them.\n",
    "I would simply choose to print them out to have a look, then remove from dataset."
   ]
  },
  {
   "cell_type": "code",
   "execution_count": 6,
   "metadata": {},
   "outputs": [],
   "source": [
    "df_remove = df.loc[df['num_info'] != 18].copy()\n",
    "df = df.loc[df['num_info'] == 18].copy()"
   ]
  },
  {
   "cell_type": "code",
   "execution_count": 7,
   "metadata": {},
   "outputs": [],
   "source": [
    "global feature_idx\n",
    "def info_split(i):\n",
    "    ## split the i th part out and remove \\n for the feature\n",
    "    return re.split(split_condition, i)[feature_idx+1][:-2]\n",
    "def info_split_last(i):\n",
    "    ## no need to remove \\n for last category -- X-FileName\n",
    "    return re.split(split_condition, i)[feature_idx+1]\n",
    "for feature_idx in range(len(words2split)):\n",
    "    if feature_idx != len(words2split) - 1:\n",
    "        df[features_naming[feature_idx]] = df['pre_info'].map(info_split)\n",
    "    else:\n",
    "        df[features_naming[feature_idx]] = df['pre_info'].map(info_split_last) "
   ]
  },
  {
   "cell_type": "markdown",
   "metadata": {},
   "source": [
    "Let's check one category if I did well:"
   ]
  },
  {
   "cell_type": "code",
   "execution_count": 8,
   "metadata": {},
   "outputs": [
    {
     "data": {
      "text/plain": [
       "7bi                            494994\n",
       "quoted-printabl                 22399\n",
       "base6                               4\n",
       "text/plain; charset=us-asci         1\n",
       "Name: Content-Transfer-Encoding, dtype: int64"
      ]
     },
     "execution_count": 8,
     "metadata": {},
     "output_type": "execute_result"
    }
   ],
   "source": [
    "df['Content-Transfer-Encoding'].value_counts()"
   ]
  },
  {
   "cell_type": "markdown",
   "metadata": {},
   "source": [
    "There is still one not quite right, I would just take it away too..."
   ]
  },
  {
   "cell_type": "code",
   "execution_count": 9,
   "metadata": {},
   "outputs": [],
   "source": [
    "df_remove2 = df.loc[df['Content-Transfer-Encoding'] == 'text/plain; charset=us-asci']\n",
    "df = df.loc[df['Content-Transfer-Encoding'] != 'text/plain; charset=us-asci']"
   ]
  },
  {
   "cell_type": "markdown",
   "metadata": {},
   "source": [
    "Have a read at these discarded emails..."
   ]
  },
  {
   "cell_type": "code",
   "execution_count": 10,
   "metadata": {},
   "outputs": [],
   "source": [
    "# print(df_remove.iloc[0,1])\n",
    "# print(df_remove2.iloc[0,1])"
   ]
  },
  {
   "cell_type": "markdown",
   "metadata": {},
   "source": [
    "## Content part \n",
    "\n",
    "There are a lot of emails contain non plain English info such as attach file and \"Forwarded\" message, I discovered that many of them were seperated by \"-------------\". Therefore I use this to discard these parts and add indicators."
   ]
  },
  {
   "cell_type": "code",
   "execution_count": 11,
   "metadata": {},
   "outputs": [
    {
     "data": {
      "text/plain": [
       "9         ---------------------- Forwarded by Phillip K ...\n",
       "12        ---------------------- Forwarded by Phillip K ...\n",
       "13        ---------------------- Forwarded by Phillip K ...\n",
       "16        ---------------------- Forwarded by Phillip K ...\n",
       "18        ---------------------- Forwarded by Phillip K ...\n",
       "                                ...                        \n",
       "517175    \\n\\n -----Original Message-----\\nFrom: \\tKeoha...\n",
       "517197    We can have you sit down with John Disturnal, ...\n",
       "517205    \\n\\n -----Original Message-----\\nFrom: \\tkfrog...\n",
       "517313    \\n\\n -----Original Message-----\\nFrom: \\t\"Trav...\n",
       "517321    \\n\\n -----Original Message-----\\nFrom: \\t\"J&J ...\n",
       "Name: content, Length: 97360, dtype: object"
      ]
     },
     "execution_count": 11,
     "metadata": {},
     "output_type": "execute_result"
    }
   ],
   "source": [
    "df.loc[df[\"content\"].str.contains(\"-------------\"), \"content\"]"
   ]
  },
  {
   "cell_type": "code",
   "execution_count": 12,
   "metadata": {},
   "outputs": [],
   "source": [
    "def split_other_content(i):\n",
    "    \"\"\"split other forms of contents out\"\"\"\n",
    "    return i.split('-------------', 1)[0]\n",
    "df[\"has_other_content\"] = df[\"content\"].str.contains(\"-------------\")\n",
    "df[\"if_forwarded\"] = df[\"content\"].str.contains(\"------------- Forwarded\")\n",
    "df['content'] = df.content.map(split_other_content)"
   ]
  },
  {
   "cell_type": "markdown",
   "metadata": {},
   "source": [
    "I know this is not a perfect way, but it is efficient enough.  \n",
    "Finally we drop the auxiliary columns and export it:"
   ]
  },
  {
   "cell_type": "code",
   "execution_count": 13,
   "metadata": {},
   "outputs": [],
   "source": [
    "df = df.drop(['pre_info','test_true', 'num_info'], axis = 1).set_index(\"file\")\n",
    "df.to_csv(\"emails_cleaned.csv\")"
   ]
  },
  {
   "cell_type": "markdown",
   "metadata": {},
   "source": [
    "Note that the content part can be cleaned deeper, you will need extra effort to fight with it. Good Luck!"
   ]
  },
  {
   "cell_type": "code",
   "execution_count": 14,
   "metadata": {},
   "outputs": [
    {
     "data": {
      "text/html": [
       "<div>\n",
       "<style scoped>\n",
       "    .dataframe tbody tr th:only-of-type {\n",
       "        vertical-align: middle;\n",
       "    }\n",
       "\n",
       "    .dataframe tbody tr th {\n",
       "        vertical-align: top;\n",
       "    }\n",
       "\n",
       "    .dataframe thead th {\n",
       "        text-align: right;\n",
       "    }\n",
       "</style>\n",
       "<table border=\"1\" class=\"dataframe\">\n",
       "  <thead>\n",
       "    <tr style=\"text-align: right;\">\n",
       "      <th></th>\n",
       "      <th>message</th>\n",
       "      <th>content</th>\n",
       "      <th>Message-ID</th>\n",
       "      <th>Date</th>\n",
       "      <th>From</th>\n",
       "      <th>To</th>\n",
       "      <th>Subject</th>\n",
       "      <th>Cc</th>\n",
       "      <th>Mime-Version</th>\n",
       "      <th>Content-Type</th>\n",
       "      <th>...</th>\n",
       "      <th>Bcc</th>\n",
       "      <th>X-From</th>\n",
       "      <th>X-To</th>\n",
       "      <th>X-cc</th>\n",
       "      <th>X-bcc</th>\n",
       "      <th>X-Folder</th>\n",
       "      <th>X-Origin</th>\n",
       "      <th>X-FileName</th>\n",
       "      <th>has_other_content</th>\n",
       "      <th>if_forwarded</th>\n",
       "    </tr>\n",
       "    <tr>\n",
       "      <th>file</th>\n",
       "      <th></th>\n",
       "      <th></th>\n",
       "      <th></th>\n",
       "      <th></th>\n",
       "      <th></th>\n",
       "      <th></th>\n",
       "      <th></th>\n",
       "      <th></th>\n",
       "      <th></th>\n",
       "      <th></th>\n",
       "      <th></th>\n",
       "      <th></th>\n",
       "      <th></th>\n",
       "      <th></th>\n",
       "      <th></th>\n",
       "      <th></th>\n",
       "      <th></th>\n",
       "      <th></th>\n",
       "      <th></th>\n",
       "      <th></th>\n",
       "      <th></th>\n",
       "    </tr>\n",
       "  </thead>\n",
       "  <tbody>\n",
       "    <tr>\n",
       "      <th>allen-p/_sent_mail/1.</th>\n",
       "      <td>Message-ID: &lt;18782981.1075855378110.JavaMail.e...</td>\n",
       "      <td>Here is our forecast\\n\\n</td>\n",
       "      <td>&lt;18782981.1075855378110.JavaMail.evans@thyme</td>\n",
       "      <td>Mon, 14 May 2001 16:39:00 -0700 (PDT</td>\n",
       "      <td>phillip.allen@enron.co</td>\n",
       "      <td>tim.belden@enron.co</td>\n",
       "      <td></td>\n",
       "      <td></td>\n",
       "      <td>1.</td>\n",
       "      <td>text/plain; charset=us-asci</td>\n",
       "      <td>...</td>\n",
       "      <td></td>\n",
       "      <td>Phillip K Alle</td>\n",
       "      <td>Tim Belden &lt;Tim Belden/Enron@EnronXGate</td>\n",
       "      <td></td>\n",
       "      <td></td>\n",
       "      <td>\\Phillip_Allen_Jan2002_1\\Allen, Phillip K.\\'Se...</td>\n",
       "      <td>Allen-</td>\n",
       "      <td>pallen (Non-Privileged).pst</td>\n",
       "      <td>False</td>\n",
       "      <td>False</td>\n",
       "    </tr>\n",
       "    <tr>\n",
       "      <th>allen-p/_sent_mail/10.</th>\n",
       "      <td>Message-ID: &lt;15464986.1075855378456.JavaMail.e...</td>\n",
       "      <td>Traveling to have a business meeting takes the...</td>\n",
       "      <td>&lt;15464986.1075855378456.JavaMail.evans@thyme</td>\n",
       "      <td>Fri, 4 May 2001 13:51:00 -0700 (PDT</td>\n",
       "      <td>phillip.allen@enron.co</td>\n",
       "      <td>john.lavorato@enron.co</td>\n",
       "      <td>Re</td>\n",
       "      <td></td>\n",
       "      <td>1.</td>\n",
       "      <td>text/plain; charset=us-asci</td>\n",
       "      <td>...</td>\n",
       "      <td></td>\n",
       "      <td>Phillip K Alle</td>\n",
       "      <td>John J Lavorato &lt;John J Lavorato/ENRON@enronXg...</td>\n",
       "      <td></td>\n",
       "      <td></td>\n",
       "      <td>\\Phillip_Allen_Jan2002_1\\Allen, Phillip K.\\'Se...</td>\n",
       "      <td>Allen-</td>\n",
       "      <td>pallen (Non-Privileged).pst</td>\n",
       "      <td>False</td>\n",
       "      <td>False</td>\n",
       "    </tr>\n",
       "    <tr>\n",
       "      <th>allen-p/_sent_mail/100.</th>\n",
       "      <td>Message-ID: &lt;24216240.1075855687451.JavaMail.e...</td>\n",
       "      <td>test successful.  way to go!!!</td>\n",
       "      <td>&lt;24216240.1075855687451.JavaMail.evans@thyme</td>\n",
       "      <td>Wed, 18 Oct 2000 03:00:00 -0700 (PDT</td>\n",
       "      <td>phillip.allen@enron.co</td>\n",
       "      <td>leah.arsdall@enron.co</td>\n",
       "      <td>Re: tes</td>\n",
       "      <td></td>\n",
       "      <td>1.</td>\n",
       "      <td>text/plain; charset=us-asci</td>\n",
       "      <td>...</td>\n",
       "      <td></td>\n",
       "      <td>Phillip K Alle</td>\n",
       "      <td>Leah Van Arsdal</td>\n",
       "      <td></td>\n",
       "      <td></td>\n",
       "      <td>\\Phillip_Allen_Dec2000\\Notes Folders\\'sent mai</td>\n",
       "      <td>Allen-</td>\n",
       "      <td>pallen.nsf</td>\n",
       "      <td>False</td>\n",
       "      <td>False</td>\n",
       "    </tr>\n",
       "    <tr>\n",
       "      <th>allen-p/_sent_mail/1000.</th>\n",
       "      <td>Message-ID: &lt;13505866.1075863688222.JavaMail.e...</td>\n",
       "      <td>Randy,\\n\\n Can you send me a schedule of the s...</td>\n",
       "      <td>&lt;13505866.1075863688222.JavaMail.evans@thyme</td>\n",
       "      <td>Mon, 23 Oct 2000 06:13:00 -0700 (PDT</td>\n",
       "      <td>phillip.allen@enron.co</td>\n",
       "      <td>randall.gay@enron.co</td>\n",
       "      <td></td>\n",
       "      <td></td>\n",
       "      <td>1.</td>\n",
       "      <td>text/plain; charset=us-asci</td>\n",
       "      <td>...</td>\n",
       "      <td></td>\n",
       "      <td>Phillip K Alle</td>\n",
       "      <td>Randall L Ga</td>\n",
       "      <td></td>\n",
       "      <td></td>\n",
       "      <td>\\Phillip_Allen_Dec2000\\Notes Folders\\'sent mai</td>\n",
       "      <td>Allen-</td>\n",
       "      <td>pallen.nsf</td>\n",
       "      <td>False</td>\n",
       "      <td>False</td>\n",
       "    </tr>\n",
       "    <tr>\n",
       "      <th>allen-p/_sent_mail/1001.</th>\n",
       "      <td>Message-ID: &lt;30922949.1075863688243.JavaMail.e...</td>\n",
       "      <td>Let's shoot for Tuesday at 11:45.</td>\n",
       "      <td>&lt;30922949.1075863688243.JavaMail.evans@thyme</td>\n",
       "      <td>Thu, 31 Aug 2000 05:07:00 -0700 (PDT</td>\n",
       "      <td>phillip.allen@enron.co</td>\n",
       "      <td>greg.piper@enron.co</td>\n",
       "      <td>Re: Hell</td>\n",
       "      <td></td>\n",
       "      <td>1.</td>\n",
       "      <td>text/plain; charset=us-asci</td>\n",
       "      <td>...</td>\n",
       "      <td></td>\n",
       "      <td>Phillip K Alle</td>\n",
       "      <td>Greg Pipe</td>\n",
       "      <td></td>\n",
       "      <td></td>\n",
       "      <td>\\Phillip_Allen_Dec2000\\Notes Folders\\'sent mai</td>\n",
       "      <td>Allen-</td>\n",
       "      <td>pallen.nsf</td>\n",
       "      <td>False</td>\n",
       "      <td>False</td>\n",
       "    </tr>\n",
       "  </tbody>\n",
       "</table>\n",
       "<p>5 rows × 21 columns</p>\n",
       "</div>"
      ],
      "text/plain": [
       "                                                                    message  \\\n",
       "file                                                                          \n",
       "allen-p/_sent_mail/1.     Message-ID: <18782981.1075855378110.JavaMail.e...   \n",
       "allen-p/_sent_mail/10.    Message-ID: <15464986.1075855378456.JavaMail.e...   \n",
       "allen-p/_sent_mail/100.   Message-ID: <24216240.1075855687451.JavaMail.e...   \n",
       "allen-p/_sent_mail/1000.  Message-ID: <13505866.1075863688222.JavaMail.e...   \n",
       "allen-p/_sent_mail/1001.  Message-ID: <30922949.1075863688243.JavaMail.e...   \n",
       "\n",
       "                                                                    content  \\\n",
       "file                                                                          \n",
       "allen-p/_sent_mail/1.                             Here is our forecast\\n\\n    \n",
       "allen-p/_sent_mail/10.    Traveling to have a business meeting takes the...   \n",
       "allen-p/_sent_mail/100.                      test successful.  way to go!!!   \n",
       "allen-p/_sent_mail/1000.  Randy,\\n\\n Can you send me a schedule of the s...   \n",
       "allen-p/_sent_mail/1001.                Let's shoot for Tuesday at 11:45.     \n",
       "\n",
       "                                                            Message-ID  \\\n",
       "file                                                                     \n",
       "allen-p/_sent_mail/1.     <18782981.1075855378110.JavaMail.evans@thyme   \n",
       "allen-p/_sent_mail/10.    <15464986.1075855378456.JavaMail.evans@thyme   \n",
       "allen-p/_sent_mail/100.   <24216240.1075855687451.JavaMail.evans@thyme   \n",
       "allen-p/_sent_mail/1000.  <13505866.1075863688222.JavaMail.evans@thyme   \n",
       "allen-p/_sent_mail/1001.  <30922949.1075863688243.JavaMail.evans@thyme   \n",
       "\n",
       "                                                          Date  \\\n",
       "file                                                             \n",
       "allen-p/_sent_mail/1.     Mon, 14 May 2001 16:39:00 -0700 (PDT   \n",
       "allen-p/_sent_mail/10.     Fri, 4 May 2001 13:51:00 -0700 (PDT   \n",
       "allen-p/_sent_mail/100.   Wed, 18 Oct 2000 03:00:00 -0700 (PDT   \n",
       "allen-p/_sent_mail/1000.  Mon, 23 Oct 2000 06:13:00 -0700 (PDT   \n",
       "allen-p/_sent_mail/1001.  Thu, 31 Aug 2000 05:07:00 -0700 (PDT   \n",
       "\n",
       "                                            From                      To  \\\n",
       "file                                                                       \n",
       "allen-p/_sent_mail/1.     phillip.allen@enron.co     tim.belden@enron.co   \n",
       "allen-p/_sent_mail/10.    phillip.allen@enron.co  john.lavorato@enron.co   \n",
       "allen-p/_sent_mail/100.   phillip.allen@enron.co   leah.arsdall@enron.co   \n",
       "allen-p/_sent_mail/1000.  phillip.allen@enron.co    randall.gay@enron.co   \n",
       "allen-p/_sent_mail/1001.  phillip.allen@enron.co     greg.piper@enron.co   \n",
       "\n",
       "                           Subject Cc Mime-Version  \\\n",
       "file                                                 \n",
       "allen-p/_sent_mail/1.                           1.   \n",
       "allen-p/_sent_mail/10.          Re              1.   \n",
       "allen-p/_sent_mail/100.    Re: tes              1.   \n",
       "allen-p/_sent_mail/1000.                        1.   \n",
       "allen-p/_sent_mail/1001.  Re: Hell              1.   \n",
       "\n",
       "                                         Content-Type  ... Bcc  \\\n",
       "file                                                   ...       \n",
       "allen-p/_sent_mail/1.     text/plain; charset=us-asci  ...       \n",
       "allen-p/_sent_mail/10.    text/plain; charset=us-asci  ...       \n",
       "allen-p/_sent_mail/100.   text/plain; charset=us-asci  ...       \n",
       "allen-p/_sent_mail/1000.  text/plain; charset=us-asci  ...       \n",
       "allen-p/_sent_mail/1001.  text/plain; charset=us-asci  ...       \n",
       "\n",
       "                                  X-From  \\\n",
       "file                                       \n",
       "allen-p/_sent_mail/1.     Phillip K Alle   \n",
       "allen-p/_sent_mail/10.    Phillip K Alle   \n",
       "allen-p/_sent_mail/100.   Phillip K Alle   \n",
       "allen-p/_sent_mail/1000.  Phillip K Alle   \n",
       "allen-p/_sent_mail/1001.  Phillip K Alle   \n",
       "\n",
       "                                                                       X-To  \\\n",
       "file                                                                          \n",
       "allen-p/_sent_mail/1.               Tim Belden <Tim Belden/Enron@EnronXGate   \n",
       "allen-p/_sent_mail/10.    John J Lavorato <John J Lavorato/ENRON@enronXg...   \n",
       "allen-p/_sent_mail/100.                                     Leah Van Arsdal   \n",
       "allen-p/_sent_mail/1000.                                       Randall L Ga   \n",
       "allen-p/_sent_mail/1001.                                          Greg Pipe   \n",
       "\n",
       "                         X-cc X-bcc  \\\n",
       "file                                  \n",
       "allen-p/_sent_mail/1.                 \n",
       "allen-p/_sent_mail/10.                \n",
       "allen-p/_sent_mail/100.               \n",
       "allen-p/_sent_mail/1000.              \n",
       "allen-p/_sent_mail/1001.              \n",
       "\n",
       "                                                                   X-Folder  \\\n",
       "file                                                                          \n",
       "allen-p/_sent_mail/1.     \\Phillip_Allen_Jan2002_1\\Allen, Phillip K.\\'Se...   \n",
       "allen-p/_sent_mail/10.    \\Phillip_Allen_Jan2002_1\\Allen, Phillip K.\\'Se...   \n",
       "allen-p/_sent_mail/100.      \\Phillip_Allen_Dec2000\\Notes Folders\\'sent mai   \n",
       "allen-p/_sent_mail/1000.     \\Phillip_Allen_Dec2000\\Notes Folders\\'sent mai   \n",
       "allen-p/_sent_mail/1001.     \\Phillip_Allen_Dec2000\\Notes Folders\\'sent mai   \n",
       "\n",
       "                         X-Origin                   X-FileName  \\\n",
       "file                                                             \n",
       "allen-p/_sent_mail/1.      Allen-  pallen (Non-Privileged).pst   \n",
       "allen-p/_sent_mail/10.     Allen-  pallen (Non-Privileged).pst   \n",
       "allen-p/_sent_mail/100.    Allen-                   pallen.nsf   \n",
       "allen-p/_sent_mail/1000.   Allen-                   pallen.nsf   \n",
       "allen-p/_sent_mail/1001.   Allen-                   pallen.nsf   \n",
       "\n",
       "                         has_other_content  if_forwarded  \n",
       "file                                                      \n",
       "allen-p/_sent_mail/1.                False         False  \n",
       "allen-p/_sent_mail/10.               False         False  \n",
       "allen-p/_sent_mail/100.              False         False  \n",
       "allen-p/_sent_mail/1000.             False         False  \n",
       "allen-p/_sent_mail/1001.             False         False  \n",
       "\n",
       "[5 rows x 21 columns]"
      ]
     },
     "execution_count": 14,
     "metadata": {},
     "output_type": "execute_result"
    }
   ],
   "source": [
    "df.head(5)"
   ]
  },
  {
   "cell_type": "markdown",
   "metadata": {},
   "source": [
    "### If this kernel helps you, please upvote!"
   ]
  }
 ],
 "metadata": {
  "kernelspec": {
   "display_name": "Python 3",
   "language": "python",
   "name": "python3"
  },
  "language_info": {
   "codemirror_mode": {
    "name": "ipython",
    "version": 3
   },
   "file_extension": ".py",
   "mimetype": "text/x-python",
   "name": "python",
   "nbconvert_exporter": "python",
   "pygments_lexer": "ipython3",
   "version": "3.6.6"
  }
 },
 "nbformat": 4,
 "nbformat_minor": 4
}
