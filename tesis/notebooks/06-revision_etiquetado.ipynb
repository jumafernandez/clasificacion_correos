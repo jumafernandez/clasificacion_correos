{
  "nbformat": 4,
  "nbformat_minor": 0,
  "metadata": {
    "colab": {
      "name": "06-revision-etiquetado.ipynb",
      "provenance": [],
      "collapsed_sections": [
        "jEMfYb7yLN7f",
        "yXbtAWNQLRjz",
        "Bm-9TgWlsu4k",
        "p4Tfjt7KLYFn",
        "Fng9Yl3yMMWX",
        "gnTMaMKgrpVS",
        "EAn-KzzuiKZ3",
        "2NiVh4Q6uogN",
        "yuDWGbedu5ww"
      ],
      "toc_visible": true,
      "include_colab_link": true
    },
    "kernelspec": {
      "name": "python3",
      "display_name": "Python 3"
    },
    "language_info": {
      "name": "python"
    }
  },
  "cells": [
    {
      "cell_type": "markdown",
      "metadata": {
        "id": "view-in-github",
        "colab_type": "text"
      },
      "source": [
        "<a href=\"https://colab.research.google.com/github/jumafernandez/clasificacion_correos/blob/main/tesis/notebooks/06-revision_etiquetado.ipynb\" target=\"_parent\"><img src=\"https://colab.research.google.com/assets/colab-badge.svg\" alt=\"Open In Colab\"/></a>"
      ]
    },
    {
      "cell_type": "markdown",
      "metadata": {
        "id": "50ILJehHy94s"
      },
      "source": [
        "# Revisión de las clases del dataset y consolidación\n",
        "\n",
        "__Carrera:__ Maestria en Inteligencia de datos orientada a Big Data de la Universidad Nacional de La Plata.\n",
        "\n",
        "___Título de la Tesis:___ Clasificación automática de correos electrónicos\n",
        "\n",
        "___Autor:___ Juan Manuel Fernandez\n",
        "\n",
        "___Director:___ Marcelo Errecalde\n",
        "\n",
        "__Objetivo:__ En esta notebook se consolidan las clases de los correos que forman parte del trabajo dado que se encontraron clases solapadas y ejemplos mal clasificados."
      ]
    },
    {
      "cell_type": "markdown",
      "metadata": {
        "id": "DnV1ANH0yYRX"
      },
      "source": [
        "## 0. Misceláneos:"
      ]
    },
    {
      "cell_type": "markdown",
      "metadata": {
        "id": "jEMfYb7yLN7f"
      },
      "source": [
        "### Descarga de librerias necesarias"
      ]
    },
    {
      "cell_type": "code",
      "metadata": {
        "id": "XC4t_GNWMRnF",
        "colab": {
          "base_uri": "https://localhost:8080/"
        },
        "outputId": "27ea5317-2f80-49be-895f-4b74fd2945ff"
      },
      "source": [
        "!pip install requests\n",
        "!pip install wget"
      ],
      "execution_count": 2,
      "outputs": [
        {
          "output_type": "stream",
          "name": "stdout",
          "text": [
            "Requirement already satisfied: requests in /usr/local/lib/python3.7/dist-packages (2.23.0)\n",
            "Requirement already satisfied: idna<3,>=2.5 in /usr/local/lib/python3.7/dist-packages (from requests) (2.10)\n",
            "Requirement already satisfied: urllib3!=1.25.0,!=1.25.1,<1.26,>=1.21.1 in /usr/local/lib/python3.7/dist-packages (from requests) (1.24.3)\n",
            "Requirement already satisfied: certifi>=2017.4.17 in /usr/local/lib/python3.7/dist-packages (from requests) (2021.5.30)\n",
            "Requirement already satisfied: chardet<4,>=3.0.2 in /usr/local/lib/python3.7/dist-packages (from requests) (3.0.4)\n",
            "Requirement already satisfied: wget in /usr/local/lib/python3.7/dist-packages (3.2)\n"
          ]
        }
      ]
    },
    {
      "cell_type": "code",
      "metadata": {
        "id": "i2yHxONsEa1j"
      },
      "source": [
        "import requests\n",
        "\n",
        "# Se hace el request del raw del script python\n",
        "url = 'https://raw.githubusercontent.com/jumafernandez/clasificacion_correos/main/tesis/scripts/supervisado/funciones_dataset.py'\n",
        "r = requests.get(url)\n",
        "\n",
        "# Se guarda en el working directory\n",
        "with open('funciones_dataset.py', 'w') as f:\n",
        "    f.write(r.text)\n",
        "\n",
        "# Se importan las funciones a utilizar\n",
        "from funciones_dataset import consolidar_df, get_clases_pre"
      ],
      "execution_count": 3,
      "outputs": []
    },
    {
      "cell_type": "markdown",
      "metadata": {
        "id": "yXbtAWNQLRjz"
      },
      "source": [
        "### Descarga dataset de train y test\n",
        "\n",
        "Se descargan los datasets con 800 correos en el caso de train y 200 correos para el de test:"
      ]
    },
    {
      "cell_type": "code",
      "metadata": {
        "id": "syFCK2lXbLFI"
      },
      "source": [
        "# Descargo los correos ya etiquetados\n",
        "from os import path\n",
        "\n",
        "if not (path.exists('01-01-correos-train-80.csv')):\n",
        "    !wget https://raw.githubusercontent.com/jumafernandez/clasificacion_correos/main/tesis/data/01-01-correos-train-80.csv\n",
        "\n",
        "if not (path.exists('01-02-correos-test-20.csv')):\n",
        "    !wget https://raw.githubusercontent.com/jumafernandez/clasificacion_correos/main/tesis/data/01-02-correos-test-20.csv"
      ],
      "execution_count": 4,
      "outputs": []
    },
    {
      "cell_type": "markdown",
      "metadata": {
        "id": "Bm-9TgWlsu4k"
      },
      "source": [
        "## 1. Presentación del dataset:"
      ]
    },
    {
      "cell_type": "markdown",
      "metadata": {
        "id": "p4Tfjt7KLYFn"
      },
      "source": [
        "### 1.1 Se levanta en un DataFrame para poder manipularlo"
      ]
    },
    {
      "cell_type": "code",
      "metadata": {
        "id": "3RS4PDFAhEZV"
      },
      "source": [
        "import pandas as pd\n",
        "\n",
        "# Cargo correos en un dataframe\n",
        "correos_train = pd.read_csv('01-01-correos-train-80.csv')\n",
        "correos_test = pd.read_csv('01-02-correos-test-20.csv')"
      ],
      "execution_count": 5,
      "outputs": []
    },
    {
      "cell_type": "markdown",
      "metadata": {
        "id": "CerbnImkGb7o"
      },
      "source": [
        "## 2. Representación de las clases\n",
        "\n",
        "Pasan a representarse las clases a partir de la etiqueta y no del valor numérico discretizado:\n"
      ]
    },
    {
      "cell_type": "markdown",
      "metadata": {
        "id": "gmzhGN3Q23eK"
      },
      "source": [
        "### 2.1 Transformación de las clases identificadas por el experto"
      ]
    },
    {
      "cell_type": "code",
      "metadata": {
        "colab": {
          "base_uri": "https://localhost:8080/"
        },
        "id": "G41YNnT7oRTy",
        "outputId": "3f25ce70-19fd-474d-8980-507e3e99429e"
      },
      "source": [
        "from sklearn.preprocessing import LabelEncoder\n",
        "\n",
        "clases = get_clases_pre()\n",
        "\n",
        "# Instancio el transformador\n",
        "le = LabelEncoder()\n",
        "\n",
        "# Discretizo\n",
        "clases_disc = le.fit_transform(clases)\n",
        "\n",
        "# Muestro clases originales\n",
        "print(f'Clases originales:\\n{clases}\\n')\n",
        "\n",
        "# Muestro clases discretizadas\n",
        "print(f'Clases discretizadas:\\n{clases_disc}\\n')\n",
        "\n",
        "# Accedo a la clase original por su valor discretizado\n",
        "print(f'Acceso a la original, de id {2} con discretizada: {clases[clases_disc[2]]}')"
      ],
      "execution_count": 6,
      "outputs": [
        {
          "output_type": "stream",
          "name": "stdout",
          "text": [
            "Clases originales:\n",
            "['Boleto Universitario' 'Cambio de Carrera' 'Cambio de Comisión'\n",
            " 'Carga de Notas' 'Certificados Web' 'Consulta por Equivalencias'\n",
            " 'Consulta por Legajo' 'Consulta sobre Título Universitario' 'Cursadas'\n",
            " 'Datos Personales' 'Exámenes' 'Ingreso a la Universidad'\n",
            " 'Inscripción a Cursadas' 'Pedido de Certificados'\n",
            " 'Problemas con la Clave' 'Reincorporación' 'Requisitos de Ingreso'\n",
            " 'Simultaneidad de Carreras' 'Situación Académica' 'Vacunas Enfermería']\n",
            "\n",
            "Clases discretizadas:\n",
            "[ 0  1  2  3  4  5  6  7  8  9 10 11 12 13 14 15 16 17 18 19]\n",
            "\n",
            "Acceso a la original, de id 2 con discretizada: Cambio de Comisión\n"
          ]
        }
      ]
    },
    {
      "cell_type": "markdown",
      "metadata": {
        "id": "Xv3qR7Pr99w3"
      },
      "source": [
        "### 2.2 Unificación del dataset\n",
        "\n",
        "Se unifica el dataset de train y test en un único dataset. Luego se vuelve a separar en train y test:"
      ]
    },
    {
      "cell_type": "code",
      "metadata": {
        "id": "sWLFwAkZ98x5"
      },
      "source": [
        "import pandas as pd\n",
        "\n",
        "correos_etiquetados = pd.concat([correos_train, correos_test], ignore_index=True)"
      ],
      "execution_count": 7,
      "outputs": []
    },
    {
      "cell_type": "markdown",
      "metadata": {
        "id": "WyRA7ZM7tYBb"
      },
      "source": [
        "### 2.3 Creación de un dataframe con las clases originales sin discretizar"
      ]
    },
    {
      "cell_type": "code",
      "metadata": {
        "colab": {
          "base_uri": "https://localhost:8080/"
        },
        "id": "vYqR7Ckl4OT2",
        "outputId": "ecf99128-19ef-4871-d5bc-a28e873096b6"
      },
      "source": [
        "# Aplico una transformacion inversa para des-discretizar\n",
        "correos_etiquetados['clase'] = le.inverse_transform(correos_etiquetados['clase'])\n",
        "\n",
        "# Muestro las primeras 5 clases originales\n",
        "correos_etiquetados['clase'].head(5)"
      ],
      "execution_count": 8,
      "outputs": [
        {
          "output_type": "execute_result",
          "data": {
            "text/plain": [
              "0      Inscripción a Cursadas\n",
              "1           Cambio de Carrera\n",
              "2             Reincorporación\n",
              "3             Reincorporación\n",
              "4    Ingreso a la Universidad\n",
              "Name: clase, dtype: object"
            ]
          },
          "metadata": {},
          "execution_count": 8
        }
      ]
    },
    {
      "cell_type": "markdown",
      "metadata": {
        "id": "EAn-KzzuiKZ3"
      },
      "source": [
        "## 3. Reorganización de las clases\n",
        "\n",
        "A partir de falencias en el etiquetado encontradas en la construcción del modelo, se mejora el etiquetado en dos aspectos:\n",
        "1. Se reorganizan las clases,\n",
        "2. Se re-etiquetan algunas instancias\n",
        "\n",
        "Además, se guardarán los correos con las clases sin discretizar (etiquetas textuales).\n"
      ]
    },
    {
      "cell_type": "markdown",
      "metadata": {
        "id": "HWEdk-gVCu6D"
      },
      "source": [
        "### 3.1 Reorganización de las clases\n",
        "\n",
        "En este aspecto, se realizan los siguientes cambios:\n",
        "- La clase 'Vacunas Enfermería' se unifica con 'Reguisitos de Ingreso'.\n",
        "- La clase 'Inscripción a Cursadas' se unifica con 'Cursadas'.\n",
        "- La clase 'Certificados Web' se unifica con 'Pedido de Certificados' que a su vez pasa a llamarse 'Emisión de Certificados'.\n",
        "- La clase 'Carga de Notas' se unifica con 'Situación Académica'."
      ]
    },
    {
      "cell_type": "code",
      "metadata": {
        "id": "PfzLNya--TTI"
      },
      "source": [
        "correos_etiquetados['clase'] = correos_etiquetados['clase'].replace(['Vacunas Enfermería'], 'Requisitos de Ingreso')"
      ],
      "execution_count": 9,
      "outputs": []
    },
    {
      "cell_type": "code",
      "metadata": {
        "id": "7WE2WGg_GVdD"
      },
      "source": [
        "correos_etiquetados['clase'] = correos_etiquetados['clase'].replace(['Inscripción a Cursadas'], 'Cursadas')"
      ],
      "execution_count": 10,
      "outputs": []
    },
    {
      "cell_type": "code",
      "metadata": {
        "id": "bWXMZ0XnHDGp"
      },
      "source": [
        "correos_etiquetados['clase'] = correos_etiquetados['clase'].replace(['Certificados Web'], 'Pedido de Certificados')"
      ],
      "execution_count": 11,
      "outputs": []
    },
    {
      "cell_type": "code",
      "metadata": {
        "id": "sBVBWLy4HVbi"
      },
      "source": [
        "correos_etiquetados['clase'] = correos_etiquetados['clase'].replace(['Carga de Notas'], 'Situación Académica')"
      ],
      "execution_count": 12,
      "outputs": []
    },
    {
      "cell_type": "code",
      "metadata": {
        "colab": {
          "base_uri": "https://localhost:8080/"
        },
        "id": "Cllh1wy_fIc4",
        "outputId": "549d92dc-88b3-4710-9809-4fe3aca198f0"
      },
      "source": [
        "import numpy as np\n",
        "\n",
        "np.sort(correos_etiquetados['clase'].unique())"
      ],
      "execution_count": 13,
      "outputs": [
        {
          "output_type": "execute_result",
          "data": {
            "text/plain": [
              "array(['Boleto Universitario', 'Cambio de Carrera', 'Cambio de Comisión',\n",
              "       'Consulta por Equivalencias', 'Consulta por Legajo',\n",
              "       'Consulta sobre Título Universitario', 'Cursadas',\n",
              "       'Datos Personales', 'Exámenes', 'Ingreso a la Universidad',\n",
              "       'Pedido de Certificados', 'Problemas con la Clave',\n",
              "       'Reincorporación', 'Requisitos de Ingreso',\n",
              "       'Simultaneidad de Carreras', 'Situación Académica'], dtype=object)"
            ]
          },
          "metadata": {},
          "execution_count": 13
        }
      ]
    },
    {
      "cell_type": "markdown",
      "metadata": {
        "id": "2OGsyUnBIOD6"
      },
      "source": [
        "### 3.2 Re-etiquetado de Instancias\n",
        "\n",
        "En este aspecto, se vuelven a etiquetar instancias que estaban mal etiquetadas.\n",
        "\n",
        "En primer lugar se des-setea el ancho de la columna para poder visualizar todo el texto de las consultas:\n"
      ]
    },
    {
      "cell_type": "code",
      "metadata": {
        "id": "EWRNARjJMDp0"
      },
      "source": [
        "pd.set_option('display.max_colwidth', None)"
      ],
      "execution_count": 14,
      "outputs": []
    },
    {
      "cell_type": "markdown",
      "metadata": {
        "id": "fClh29IYMg9p"
      },
      "source": [
        "El proceso consiste en visualizar el texto de las instancias para asegurarnos del reemplazo correcto con el siguiente código: <br />\n",
        "`correos_etiquetados.loc[[2]][['Consulta', 'clase']]` <br />\n",
        "Y luego el reemplazo con el método `at`: <br />\n",
        "`correos_etiquetados.at[2, 'clase'] = 'Reincorporación'`"
      ]
    },
    {
      "cell_type": "markdown",
      "metadata": {
        "id": "anYNxAsRM1KW"
      },
      "source": [
        "Además, se crea una función para realizar modificaciones de clase a partir del texto de la consulta:"
      ]
    },
    {
      "cell_type": "code",
      "metadata": {
        "id": "2ac6BV1pM6M0"
      },
      "source": [
        "def modificar_clase(df, texto_consulta, nueva_clase):\n",
        "  '''\n",
        "  Esta función modifica el atributo \"clase\" asignado a un correo a partir de \n",
        "  comparar texto_consulta contra el atributo \"Consulta\"\n",
        "  '''\n",
        "  # Se busca el índice\n",
        "  indice = int(df.query(f\"Consulta == '{texto_consulta}'\").index.values)\n",
        "\n",
        "  if indice:\n",
        "    # Se reemplaza con la clase que corresponde\n",
        "    df.at[indice, 'clase'] = nueva_clase\n",
        " \n",
        "  return df, indice"
      ],
      "execution_count": 15,
      "outputs": []
    },
    {
      "cell_type": "markdown",
      "metadata": {
        "id": "55qoCP6DMFPZ"
      },
      "source": [
        "#### 3.2.1 Re-etiquetado de Instancias por id\n",
        "\n",
        "Comienza el re-etiquetado de instancias:"
      ]
    },
    {
      "cell_type": "code",
      "metadata": {
        "id": "kScjUV-gGknE",
        "colab": {
          "base_uri": "https://localhost:8080/",
          "height": 236
        },
        "outputId": "1dae73a6-ceb1-4b61-ef1f-da95819bf409"
      },
      "source": [
        "# Se transcribe la consulta\n",
        "consulta = \"no puedo acceder, probablemente sea por poner una contraseña incorrecta. me dice &quot;estudiante inhabilitado&quot;. gracias. \"\n",
        "\n",
        "# Se busca el índice\n",
        "indice = int(correos_etiquetados.query(f\"Consulta == '{consulta}'\").index.values)\n",
        "\n",
        "# Se reemplaza con la clase que corresponde\n",
        "correos_etiquetados.at[indice, 'clase'] = 'Reincorporación'\n",
        "\n",
        "# Se muestra\n",
        "correos_etiquetados.query(f\"Consulta == '{consulta}'\")"
      ],
      "execution_count": 16,
      "outputs": [
        {
          "output_type": "execute_result",
          "data": {
            "text/html": [
              "<div>\n",
              "<style scoped>\n",
              "    .dataframe tbody tr th:only-of-type {\n",
              "        vertical-align: middle;\n",
              "    }\n",
              "\n",
              "    .dataframe tbody tr th {\n",
              "        vertical-align: top;\n",
              "    }\n",
              "\n",
              "    .dataframe thead th {\n",
              "        text-align: right;\n",
              "    }\n",
              "</style>\n",
              "<table border=\"1\" class=\"dataframe\">\n",
              "  <thead>\n",
              "    <tr style=\"text-align: right;\">\n",
              "      <th></th>\n",
              "      <th>Consulta</th>\n",
              "      <th>dia_semana</th>\n",
              "      <th>semana_del_mes</th>\n",
              "      <th>mes</th>\n",
              "      <th>cuatrimestre</th>\n",
              "      <th>anio</th>\n",
              "      <th>hora_discretizada</th>\n",
              "      <th>dni_discretizado</th>\n",
              "      <th>legajo_discretizado</th>\n",
              "      <th>posee_legajo</th>\n",
              "      <th>posee_telefono</th>\n",
              "      <th>carrera_valor</th>\n",
              "      <th>proveedor_correo</th>\n",
              "      <th>cantidad_caracteres</th>\n",
              "      <th>proporcion_mayusculas</th>\n",
              "      <th>proporcion_letras</th>\n",
              "      <th>cantidad_tildes</th>\n",
              "      <th>cantidad_palabras</th>\n",
              "      <th>cantidad_palabras_cortas</th>\n",
              "      <th>proporcion_palabras_distintas</th>\n",
              "      <th>frecuencia_signos_puntuacion</th>\n",
              "      <th>cantidad_oraciones</th>\n",
              "      <th>utiliza_codigo_asignatura</th>\n",
              "      <th>clase</th>\n",
              "    </tr>\n",
              "  </thead>\n",
              "  <tbody>\n",
              "    <tr>\n",
              "      <th>801</th>\n",
              "      <td>no puedo acceder, probablemente sea por poner una contraseña incorrecta. me dice &amp;quot;estudiante inhabilitado&amp;quot;. gracias.</td>\n",
              "      <td>3</td>\n",
              "      <td>4</td>\n",
              "      <td>11</td>\n",
              "      <td>2</td>\n",
              "      <td>2016</td>\n",
              "      <td>0</td>\n",
              "      <td>5</td>\n",
              "      <td>3</td>\n",
              "      <td>1</td>\n",
              "      <td>1</td>\n",
              "      <td>27</td>\n",
              "      <td>4</td>\n",
              "      <td>127</td>\n",
              "      <td>0.0</td>\n",
              "      <td>0.818898</td>\n",
              "      <td>0</td>\n",
              "      <td>16</td>\n",
              "      <td>7</td>\n",
              "      <td>1.0</td>\n",
              "      <td>0.047244</td>\n",
              "      <td>3</td>\n",
              "      <td>0</td>\n",
              "      <td>Reincorporación</td>\n",
              "    </tr>\n",
              "  </tbody>\n",
              "</table>\n",
              "</div>"
            ],
            "text/plain": [
              "                                                                                                                            Consulta  ...            clase\n",
              "801  no puedo acceder, probablemente sea por poner una contraseña incorrecta. me dice &quot;estudiante inhabilitado&quot;. gracias.   ...  Reincorporación\n",
              "\n",
              "[1 rows x 24 columns]"
            ]
          },
          "metadata": {},
          "execution_count": 16
        }
      ]
    },
    {
      "cell_type": "code",
      "metadata": {
        "colab": {
          "base_uri": "https://localhost:8080/",
          "height": 661
        },
        "id": "cPiqvLPT-viL",
        "outputId": "63fd7f6f-cb71-4c27-ddb9-2fbfb911b3ab"
      },
      "source": [
        "# Se transcribe la consulta\n",
        "consulta = \"buenas tardes,  me dicen que tengo que reincribirme pero no puedo acceder a la direccion del correo que me indican que me va ha llegar debido que la cuenta fue bloqueada. les pido por favor si pueden enviarme el enace para realizar la reincripcion a esta cuenta . hasta que pueda acceder a mi cuenta . gracias y espero su respuesta \"\n",
        "\n",
        "# Se busca el índice\n",
        "indice = int(correos_etiquetados.query(f\"Consulta == '{consulta}'\").index.values)\n",
        "\n",
        "# Se reemplaza con la clase que corresponde\n",
        "correos_etiquetados.at[indice, 'clase'] = 'Reincorporación'\n",
        "\n",
        "# Se muestra\n",
        "correos_etiquetados.query(f\"Consulta == '{consulta}'\")"
      ],
      "execution_count": 17,
      "outputs": [
        {
          "output_type": "execute_result",
          "data": {
            "text/html": [
              "<div>\n",
              "<style scoped>\n",
              "    .dataframe tbody tr th:only-of-type {\n",
              "        vertical-align: middle;\n",
              "    }\n",
              "\n",
              "    .dataframe tbody tr th {\n",
              "        vertical-align: top;\n",
              "    }\n",
              "\n",
              "    .dataframe thead th {\n",
              "        text-align: right;\n",
              "    }\n",
              "</style>\n",
              "<table border=\"1\" class=\"dataframe\">\n",
              "  <thead>\n",
              "    <tr style=\"text-align: right;\">\n",
              "      <th></th>\n",
              "      <th>Consulta</th>\n",
              "      <th>dia_semana</th>\n",
              "      <th>semana_del_mes</th>\n",
              "      <th>mes</th>\n",
              "      <th>cuatrimestre</th>\n",
              "      <th>anio</th>\n",
              "      <th>hora_discretizada</th>\n",
              "      <th>dni_discretizado</th>\n",
              "      <th>legajo_discretizado</th>\n",
              "      <th>posee_legajo</th>\n",
              "      <th>posee_telefono</th>\n",
              "      <th>carrera_valor</th>\n",
              "      <th>proveedor_correo</th>\n",
              "      <th>cantidad_caracteres</th>\n",
              "      <th>proporcion_mayusculas</th>\n",
              "      <th>proporcion_letras</th>\n",
              "      <th>cantidad_tildes</th>\n",
              "      <th>cantidad_palabras</th>\n",
              "      <th>cantidad_palabras_cortas</th>\n",
              "      <th>proporcion_palabras_distintas</th>\n",
              "      <th>frecuencia_signos_puntuacion</th>\n",
              "      <th>cantidad_oraciones</th>\n",
              "      <th>utiliza_codigo_asignatura</th>\n",
              "      <th>clase</th>\n",
              "    </tr>\n",
              "  </thead>\n",
              "  <tbody>\n",
              "    <tr>\n",
              "      <th>802</th>\n",
              "      <td>buenas tardes,  me dicen que tengo que reincribirme pero no puedo acceder a la direccion del correo que me indican que me va ha llegar debido que la cuenta fue bloqueada. les pido por favor si pueden enviarme el enace para realizar la reincripcion a esta cuenta . hasta que pueda acceder a mi cuenta . gracias y espero su respuesta</td>\n",
              "      <td>1</td>\n",
              "      <td>4</td>\n",
              "      <td>2</td>\n",
              "      <td>1</td>\n",
              "      <td>2017</td>\n",
              "      <td>2</td>\n",
              "      <td>1</td>\n",
              "      <td>1</td>\n",
              "      <td>1</td>\n",
              "      <td>1</td>\n",
              "      <td>5</td>\n",
              "      <td>13</td>\n",
              "      <td>332</td>\n",
              "      <td>0.0</td>\n",
              "      <td>0.801205</td>\n",
              "      <td>0</td>\n",
              "      <td>63</td>\n",
              "      <td>35</td>\n",
              "      <td>0.746032</td>\n",
              "      <td>0.012048</td>\n",
              "      <td>3</td>\n",
              "      <td>0</td>\n",
              "      <td>Reincorporación</td>\n",
              "    </tr>\n",
              "  </tbody>\n",
              "</table>\n",
              "</div>"
            ],
            "text/plain": [
              "                                                                                                                                                                                                                                                                                                                                         Consulta  ...            clase\n",
              "802  buenas tardes,  me dicen que tengo que reincribirme pero no puedo acceder a la direccion del correo que me indican que me va ha llegar debido que la cuenta fue bloqueada. les pido por favor si pueden enviarme el enace para realizar la reincripcion a esta cuenta . hasta que pueda acceder a mi cuenta . gracias y espero su respuesta   ...  Reincorporación\n",
              "\n",
              "[1 rows x 24 columns]"
            ]
          },
          "metadata": {},
          "execution_count": 17
        }
      ]
    },
    {
      "cell_type": "code",
      "metadata": {
        "colab": {
          "base_uri": "https://localhost:8080/",
          "height": 406
        },
        "id": "0qrSeQN0JAwr",
        "outputId": "cd6dd4ff-20f3-4ee2-a901-281ec7ed364c"
      },
      "source": [
        "# Se transcribe la consulta\n",
        "consulta = \"buenas tardes,para hacerle una consulta.. como hago con las solicitudes de inscripción para aspirantes rechazadas.. intento de nuevo o tengo q elegir otros horarios?! desde ya gracias \"\n",
        "\n",
        "# Se busca el índice\n",
        "indice = int(correos_etiquetados.query(f\"Consulta == '{consulta}'\").index.values)\n",
        "\n",
        "# Se reemplaza con la clase que corresponde\n",
        "correos_etiquetados.at[indice, 'clase'] = 'Cursadas'\n",
        "\n",
        "# Se muestra\n",
        "correos_etiquetados.query(f\"Consulta == '{consulta}'\")"
      ],
      "execution_count": 18,
      "outputs": [
        {
          "output_type": "execute_result",
          "data": {
            "text/html": [
              "<div>\n",
              "<style scoped>\n",
              "    .dataframe tbody tr th:only-of-type {\n",
              "        vertical-align: middle;\n",
              "    }\n",
              "\n",
              "    .dataframe tbody tr th {\n",
              "        vertical-align: top;\n",
              "    }\n",
              "\n",
              "    .dataframe thead th {\n",
              "        text-align: right;\n",
              "    }\n",
              "</style>\n",
              "<table border=\"1\" class=\"dataframe\">\n",
              "  <thead>\n",
              "    <tr style=\"text-align: right;\">\n",
              "      <th></th>\n",
              "      <th>Consulta</th>\n",
              "      <th>dia_semana</th>\n",
              "      <th>semana_del_mes</th>\n",
              "      <th>mes</th>\n",
              "      <th>cuatrimestre</th>\n",
              "      <th>anio</th>\n",
              "      <th>hora_discretizada</th>\n",
              "      <th>dni_discretizado</th>\n",
              "      <th>legajo_discretizado</th>\n",
              "      <th>posee_legajo</th>\n",
              "      <th>posee_telefono</th>\n",
              "      <th>carrera_valor</th>\n",
              "      <th>proveedor_correo</th>\n",
              "      <th>cantidad_caracteres</th>\n",
              "      <th>proporcion_mayusculas</th>\n",
              "      <th>proporcion_letras</th>\n",
              "      <th>cantidad_tildes</th>\n",
              "      <th>cantidad_palabras</th>\n",
              "      <th>cantidad_palabras_cortas</th>\n",
              "      <th>proporcion_palabras_distintas</th>\n",
              "      <th>frecuencia_signos_puntuacion</th>\n",
              "      <th>cantidad_oraciones</th>\n",
              "      <th>utiliza_codigo_asignatura</th>\n",
              "      <th>clase</th>\n",
              "    </tr>\n",
              "  </thead>\n",
              "  <tbody>\n",
              "    <tr>\n",
              "      <th>554</th>\n",
              "      <td>buenas tardes,para hacerle una consulta.. como hago con las solicitudes de inscripción para aspirantes rechazadas.. intento de nuevo o tengo q elegir otros horarios?! desde ya gracias</td>\n",
              "      <td>3</td>\n",
              "      <td>3</td>\n",
              "      <td>2</td>\n",
              "      <td>1</td>\n",
              "      <td>2019</td>\n",
              "      <td>1</td>\n",
              "      <td>4</td>\n",
              "      <td>0</td>\n",
              "      <td>0</td>\n",
              "      <td>1</td>\n",
              "      <td>43</td>\n",
              "      <td>6</td>\n",
              "      <td>184</td>\n",
              "      <td>0.0</td>\n",
              "      <td>0.815217</td>\n",
              "      <td>1</td>\n",
              "      <td>28</td>\n",
              "      <td>12</td>\n",
              "      <td>0.964286</td>\n",
              "      <td>0.038043</td>\n",
              "      <td>4</td>\n",
              "      <td>0</td>\n",
              "      <td>Cursadas</td>\n",
              "    </tr>\n",
              "  </tbody>\n",
              "</table>\n",
              "</div>"
            ],
            "text/plain": [
              "                                                                                                                                                                                     Consulta  ...     clase\n",
              "554  buenas tardes,para hacerle una consulta.. como hago con las solicitudes de inscripción para aspirantes rechazadas.. intento de nuevo o tengo q elegir otros horarios?! desde ya gracias   ...  Cursadas\n",
              "\n",
              "[1 rows x 24 columns]"
            ]
          },
          "metadata": {},
          "execution_count": 18
        }
      ]
    },
    {
      "cell_type": "code",
      "metadata": {
        "colab": {
          "base_uri": "https://localhost:8080/",
          "height": 185
        },
        "id": "KojdA_ztONdE",
        "outputId": "910c57c5-b7ba-48dd-e72d-9336c14600ae"
      },
      "source": [
        "# Se transcribe la consulta\n",
        "consulta = \"no puedo inscribirme a las materias de este cuatrimestre  \"\n",
        "\n",
        "# Se busca el índice\n",
        "indice = int(correos_etiquetados.query(f\"Consulta == '{consulta}'\").index.values)\n",
        "\n",
        "# Se reemplaza con la clase que corresponde\n",
        "correos_etiquetados.at[indice, 'clase'] = 'Cursadas'\n",
        "\n",
        "# Se muestra\n",
        "correos_etiquetados.query(f\"Consulta == '{consulta}'\")"
      ],
      "execution_count": 19,
      "outputs": [
        {
          "output_type": "execute_result",
          "data": {
            "text/html": [
              "<div>\n",
              "<style scoped>\n",
              "    .dataframe tbody tr th:only-of-type {\n",
              "        vertical-align: middle;\n",
              "    }\n",
              "\n",
              "    .dataframe tbody tr th {\n",
              "        vertical-align: top;\n",
              "    }\n",
              "\n",
              "    .dataframe thead th {\n",
              "        text-align: right;\n",
              "    }\n",
              "</style>\n",
              "<table border=\"1\" class=\"dataframe\">\n",
              "  <thead>\n",
              "    <tr style=\"text-align: right;\">\n",
              "      <th></th>\n",
              "      <th>Consulta</th>\n",
              "      <th>dia_semana</th>\n",
              "      <th>semana_del_mes</th>\n",
              "      <th>mes</th>\n",
              "      <th>cuatrimestre</th>\n",
              "      <th>anio</th>\n",
              "      <th>hora_discretizada</th>\n",
              "      <th>dni_discretizado</th>\n",
              "      <th>legajo_discretizado</th>\n",
              "      <th>posee_legajo</th>\n",
              "      <th>posee_telefono</th>\n",
              "      <th>carrera_valor</th>\n",
              "      <th>proveedor_correo</th>\n",
              "      <th>cantidad_caracteres</th>\n",
              "      <th>proporcion_mayusculas</th>\n",
              "      <th>proporcion_letras</th>\n",
              "      <th>cantidad_tildes</th>\n",
              "      <th>cantidad_palabras</th>\n",
              "      <th>cantidad_palabras_cortas</th>\n",
              "      <th>proporcion_palabras_distintas</th>\n",
              "      <th>frecuencia_signos_puntuacion</th>\n",
              "      <th>cantidad_oraciones</th>\n",
              "      <th>utiliza_codigo_asignatura</th>\n",
              "      <th>clase</th>\n",
              "    </tr>\n",
              "  </thead>\n",
              "  <tbody>\n",
              "    <tr>\n",
              "      <th>274</th>\n",
              "      <td>no puedo inscribirme a las materias de este cuatrimestre</td>\n",
              "      <td>2</td>\n",
              "      <td>1</td>\n",
              "      <td>3</td>\n",
              "      <td>1</td>\n",
              "      <td>2019</td>\n",
              "      <td>3</td>\n",
              "      <td>4</td>\n",
              "      <td>2</td>\n",
              "      <td>1</td>\n",
              "      <td>1</td>\n",
              "      <td>3</td>\n",
              "      <td>6</td>\n",
              "      <td>58</td>\n",
              "      <td>0.0</td>\n",
              "      <td>0.827586</td>\n",
              "      <td>0</td>\n",
              "      <td>11</td>\n",
              "      <td>7</td>\n",
              "      <td>0.909091</td>\n",
              "      <td>0.0</td>\n",
              "      <td>1</td>\n",
              "      <td>0</td>\n",
              "      <td>Cursadas</td>\n",
              "    </tr>\n",
              "  </tbody>\n",
              "</table>\n",
              "</div>"
            ],
            "text/plain": [
              "                                                       Consulta  ...     clase\n",
              "274  no puedo inscribirme a las materias de este cuatrimestre    ...  Cursadas\n",
              "\n",
              "[1 rows x 24 columns]"
            ]
          },
          "metadata": {},
          "execution_count": 19
        }
      ]
    },
    {
      "cell_type": "code",
      "metadata": {
        "colab": {
          "base_uri": "https://localhost:8080/",
          "height": 97
        },
        "id": "uZiHBoXrQi5Y",
        "outputId": "ba6a65ce-f458-4780-c19a-caff7457caaf"
      },
      "source": [
        "# Se transcribe la consulta\n",
        "consulta = \"buen dia. necesito regularizarme y saber si voy a poder anotarme en alguna cursada debo generar una nueva clave y contraseña? muchas gracias \"\n",
        "\n",
        "# Se busca el índice\n",
        "indice = int(correos_etiquetados.query(f\"Consulta == '{consulta}'\").index.values)\n",
        "\n",
        "# Se reemplaza con la clase que corresponde\n",
        "correos_etiquetados.at[indice, 'clase'] = 'Cursadas'\n",
        "\n",
        "# Se muestra\n",
        "correos_etiquetados.query(f\"Consulta == '{consulta}'\")[['Consulta', 'clase']]"
      ],
      "execution_count": 20,
      "outputs": [
        {
          "output_type": "execute_result",
          "data": {
            "text/html": [
              "<div>\n",
              "<style scoped>\n",
              "    .dataframe tbody tr th:only-of-type {\n",
              "        vertical-align: middle;\n",
              "    }\n",
              "\n",
              "    .dataframe tbody tr th {\n",
              "        vertical-align: top;\n",
              "    }\n",
              "\n",
              "    .dataframe thead th {\n",
              "        text-align: right;\n",
              "    }\n",
              "</style>\n",
              "<table border=\"1\" class=\"dataframe\">\n",
              "  <thead>\n",
              "    <tr style=\"text-align: right;\">\n",
              "      <th></th>\n",
              "      <th>Consulta</th>\n",
              "      <th>clase</th>\n",
              "    </tr>\n",
              "  </thead>\n",
              "  <tbody>\n",
              "    <tr>\n",
              "      <th>232</th>\n",
              "      <td>buen dia. necesito regularizarme y saber si voy a poder anotarme en alguna cursada debo generar una nueva clave y contraseña? muchas gracias</td>\n",
              "      <td>Cursadas</td>\n",
              "    </tr>\n",
              "  </tbody>\n",
              "</table>\n",
              "</div>"
            ],
            "text/plain": [
              "                                                                                                                                          Consulta     clase\n",
              "232  buen dia. necesito regularizarme y saber si voy a poder anotarme en alguna cursada debo generar una nueva clave y contraseña? muchas gracias   Cursadas"
            ]
          },
          "metadata": {},
          "execution_count": 20
        }
      ]
    },
    {
      "cell_type": "code",
      "metadata": {
        "colab": {
          "base_uri": "https://localhost:8080/",
          "height": 80
        },
        "id": "NfhplGGlRAev",
        "outputId": "3223d3c1-fcd7-408d-f2bd-62bc90b8d223"
      },
      "source": [
        "consulta = 'necesito informacion sobre mi situacion academica materias aprobadas y condicion  '\n",
        "\n",
        "# Se busca el índice\n",
        "indice = int(correos_etiquetados.query(f\"Consulta == '{consulta}'\").index.values)\n",
        "\n",
        "# Se reemplaza con la clase que corresponde\n",
        "correos_etiquetados.at[indice, 'clase'] = 'Situación Académica'\n",
        "\n",
        "# Se muestra\n",
        "correos_etiquetados.query(f\"Consulta == '{consulta}'\")[['Consulta', 'clase']]"
      ],
      "execution_count": 21,
      "outputs": [
        {
          "output_type": "execute_result",
          "data": {
            "text/html": [
              "<div>\n",
              "<style scoped>\n",
              "    .dataframe tbody tr th:only-of-type {\n",
              "        vertical-align: middle;\n",
              "    }\n",
              "\n",
              "    .dataframe tbody tr th {\n",
              "        vertical-align: top;\n",
              "    }\n",
              "\n",
              "    .dataframe thead th {\n",
              "        text-align: right;\n",
              "    }\n",
              "</style>\n",
              "<table border=\"1\" class=\"dataframe\">\n",
              "  <thead>\n",
              "    <tr style=\"text-align: right;\">\n",
              "      <th></th>\n",
              "      <th>Consulta</th>\n",
              "      <th>clase</th>\n",
              "    </tr>\n",
              "  </thead>\n",
              "  <tbody>\n",
              "    <tr>\n",
              "      <th>366</th>\n",
              "      <td>necesito informacion sobre mi situacion academica materias aprobadas y condicion</td>\n",
              "      <td>Situación Académica</td>\n",
              "    </tr>\n",
              "  </tbody>\n",
              "</table>\n",
              "</div>"
            ],
            "text/plain": [
              "                                                                               Consulta                clase\n",
              "366  necesito informacion sobre mi situacion academica materias aprobadas y condicion    Situación Académica"
            ]
          },
          "metadata": {},
          "execution_count": 21
        }
      ]
    },
    {
      "cell_type": "code",
      "metadata": {
        "colab": {
          "base_uri": "https://localhost:8080/",
          "height": 80
        },
        "id": "Y0y-nE2QRUCI",
        "outputId": "0d99f59b-28dc-40f6-daae-c37b3d89e95b"
      },
      "source": [
        "consulta = 'no puedo inscribirme  a las materias del  primer cuatrimestre. '\n",
        "\n",
        "# Se busca el índice\n",
        "indice = int(correos_etiquetados.query(f\"Consulta == '{consulta}'\").index.values)\n",
        "\n",
        "# Se reemplaza con la clase que corresponde\n",
        "correos_etiquetados.at[indice, 'clase'] = 'Cursadas'\n",
        "\n",
        "# Se muestra\n",
        "correos_etiquetados.query(f\"Consulta == '{consulta}'\")[['Consulta', 'clase']]"
      ],
      "execution_count": 22,
      "outputs": [
        {
          "output_type": "execute_result",
          "data": {
            "text/html": [
              "<div>\n",
              "<style scoped>\n",
              "    .dataframe tbody tr th:only-of-type {\n",
              "        vertical-align: middle;\n",
              "    }\n",
              "\n",
              "    .dataframe tbody tr th {\n",
              "        vertical-align: top;\n",
              "    }\n",
              "\n",
              "    .dataframe thead th {\n",
              "        text-align: right;\n",
              "    }\n",
              "</style>\n",
              "<table border=\"1\" class=\"dataframe\">\n",
              "  <thead>\n",
              "    <tr style=\"text-align: right;\">\n",
              "      <th></th>\n",
              "      <th>Consulta</th>\n",
              "      <th>clase</th>\n",
              "    </tr>\n",
              "  </thead>\n",
              "  <tbody>\n",
              "    <tr>\n",
              "      <th>495</th>\n",
              "      <td>no puedo inscribirme  a las materias del  primer cuatrimestre.</td>\n",
              "      <td>Cursadas</td>\n",
              "    </tr>\n",
              "  </tbody>\n",
              "</table>\n",
              "</div>"
            ],
            "text/plain": [
              "                                                            Consulta     clase\n",
              "495  no puedo inscribirme  a las materias del  primer cuatrimestre.   Cursadas"
            ]
          },
          "metadata": {},
          "execution_count": 22
        }
      ]
    },
    {
      "cell_type": "code",
      "metadata": {
        "colab": {
          "base_uri": "https://localhost:8080/",
          "height": 131
        },
        "id": "aDDGiAbeRxtF",
        "outputId": "10085389-5056-476b-fee4-78ff8ec26e89"
      },
      "source": [
        "consulta = 'hola.. intente ingresar a mi situación académica y no pude. dice que ya no tengo acceso al sistema.. yo ya me recibi.. pero quiero un certicado de título en trámite.. y saber cuándo me van a dar el título.. me dijeron que era en junio.. me podrían decir cuando puedo tener esos certificados y cuando me dan el título.. y como hago para ingresar a mi situación académica.. gracias. '\n",
        "\n",
        "# Se busca el índice\n",
        "indice = int(correos_etiquetados.query(f\"Consulta == '{consulta}'\").index.values)\n",
        "\n",
        "# Se reemplaza con la clase que corresponde\n",
        "correos_etiquetados.at[indice, 'clase'] = 'Consulta sobre Título Universitario'\n",
        "\n",
        "# Se muestra\n",
        "correos_etiquetados.query(f\"Consulta == '{consulta}'\")[['Consulta', 'clase']]"
      ],
      "execution_count": 23,
      "outputs": [
        {
          "output_type": "execute_result",
          "data": {
            "text/html": [
              "<div>\n",
              "<style scoped>\n",
              "    .dataframe tbody tr th:only-of-type {\n",
              "        vertical-align: middle;\n",
              "    }\n",
              "\n",
              "    .dataframe tbody tr th {\n",
              "        vertical-align: top;\n",
              "    }\n",
              "\n",
              "    .dataframe thead th {\n",
              "        text-align: right;\n",
              "    }\n",
              "</style>\n",
              "<table border=\"1\" class=\"dataframe\">\n",
              "  <thead>\n",
              "    <tr style=\"text-align: right;\">\n",
              "      <th></th>\n",
              "      <th>Consulta</th>\n",
              "      <th>clase</th>\n",
              "    </tr>\n",
              "  </thead>\n",
              "  <tbody>\n",
              "    <tr>\n",
              "      <th>772</th>\n",
              "      <td>hola.. intente ingresar a mi situación académica y no pude. dice que ya no tengo acceso al sistema.. yo ya me recibi.. pero quiero un certicado de título en trámite.. y saber cuándo me van a dar el título.. me dijeron que era en junio.. me podrían decir cuando puedo tener esos certificados y cuando me dan el título.. y como hago para ingresar a mi situación académica.. gracias.</td>\n",
              "      <td>Consulta sobre Título Universitario</td>\n",
              "    </tr>\n",
              "  </tbody>\n",
              "</table>\n",
              "</div>"
            ],
            "text/plain": [
              "                                                                                                                                                                                                                                                                                                                                                                                          Consulta                                clase\n",
              "772  hola.. intente ingresar a mi situación académica y no pude. dice que ya no tengo acceso al sistema.. yo ya me recibi.. pero quiero un certicado de título en trámite.. y saber cuándo me van a dar el título.. me dijeron que era en junio.. me podrían decir cuando puedo tener esos certificados y cuando me dan el título.. y como hago para ingresar a mi situación académica.. gracias.   Consulta sobre Título Universitario"
            ]
          },
          "metadata": {},
          "execution_count": 23
        }
      ]
    },
    {
      "cell_type": "markdown",
      "metadata": {
        "id": "zOGaSQ5wq2eJ"
      },
      "source": [
        "#### 3.2.2 Re-etiquetado de Instancias por texto de la consulta\n",
        "\n",
        "A continuación se avanza sobre modificaciones de clase en correos a partir de texto:"
      ]
    },
    {
      "cell_type": "code",
      "metadata": {
        "colab": {
          "base_uri": "https://localhost:8080/",
          "height": 97
        },
        "id": "82IndaQ9S2Eh",
        "outputId": "4838ca31-d085-4424-a951-67843aca1818"
      },
      "source": [
        "consulta = 'me comunico con la intención de saber en que situacion académica me encuentro, ya que califique con cuatro en  el taller de lectura y comprension de textos. '\n",
        "\n",
        "# Se busca el índice\n",
        "indice = int(correos_etiquetados.query(f\"Consulta == '{consulta}'\").index.values)\n",
        "\n",
        "# Se reemplaza con la clase que corresponde\n",
        "correos_etiquetados.at[indice, 'clase'] = 'Situación Académica'\n",
        "\n",
        "# Se muestra\n",
        "correos_etiquetados.query(f\"Consulta == '{consulta}'\")[['Consulta', 'clase']]"
      ],
      "execution_count": 24,
      "outputs": [
        {
          "output_type": "execute_result",
          "data": {
            "text/html": [
              "<div>\n",
              "<style scoped>\n",
              "    .dataframe tbody tr th:only-of-type {\n",
              "        vertical-align: middle;\n",
              "    }\n",
              "\n",
              "    .dataframe tbody tr th {\n",
              "        vertical-align: top;\n",
              "    }\n",
              "\n",
              "    .dataframe thead th {\n",
              "        text-align: right;\n",
              "    }\n",
              "</style>\n",
              "<table border=\"1\" class=\"dataframe\">\n",
              "  <thead>\n",
              "    <tr style=\"text-align: right;\">\n",
              "      <th></th>\n",
              "      <th>Consulta</th>\n",
              "      <th>clase</th>\n",
              "    </tr>\n",
              "  </thead>\n",
              "  <tbody>\n",
              "    <tr>\n",
              "      <th>611</th>\n",
              "      <td>me comunico con la intención de saber en que situacion académica me encuentro, ya que califique con cuatro en  el taller de lectura y comprension de textos.</td>\n",
              "      <td>Situación Académica</td>\n",
              "    </tr>\n",
              "  </tbody>\n",
              "</table>\n",
              "</div>"
            ],
            "text/plain": [
              "                                                                                                                                                          Consulta                clase\n",
              "611  me comunico con la intención de saber en que situacion académica me encuentro, ya que califique con cuatro en  el taller de lectura y comprension de textos.   Situación Académica"
            ]
          },
          "metadata": {},
          "execution_count": 24
        }
      ]
    },
    {
      "cell_type": "code",
      "metadata": {
        "colab": {
          "base_uri": "https://localhost:8080/"
        },
        "id": "d9hWcvlXMZYF",
        "outputId": "17b9cfff-a507-45da-8e9f-ddd8fd30a65f"
      },
      "source": [
        "consulta = 'quiero restablecer mi contraseña pero no llega el mail a mi correo que es este mismo quiero anotarme en los finales muchas gracias ! '\n",
        "correos_etiquetados, id = modificar_clase(correos_etiquetados, consulta, 'Problemas con la Clave')\n",
        "\n",
        "print(f'Se modifica el indice {id}.')"
      ],
      "execution_count": 25,
      "outputs": [
        {
          "output_type": "stream",
          "name": "stdout",
          "text": [
            "Se modifica el indice 25.\n"
          ]
        }
      ]
    },
    {
      "cell_type": "code",
      "metadata": {
        "id": "6zu1kyaNRyqZ",
        "colab": {
          "base_uri": "https://localhost:8080/"
        },
        "outputId": "088760fd-84ba-4319-dc10-b66727b69723"
      },
      "source": [
        "consulta = 'buenos días, no puedo ingresar a mi perfil, ya solicite un restablecimiento de clave pero no recibí ningún mail. necesitaría por favor ver la forma de solucionarlo antes del cierre de inscripciones para finales en septiembre. muchas gracias '\n",
        "\n",
        "correos_etiquetados, id = modificar_clase(correos_etiquetados, consulta, 'Problemas con la Clave')\n",
        "\n",
        "print(f'Se modifica el indice {id}.')"
      ],
      "execution_count": 26,
      "outputs": [
        {
          "output_type": "stream",
          "name": "stdout",
          "text": [
            "Se modifica el indice 26.\n"
          ]
        }
      ]
    },
    {
      "cell_type": "code",
      "metadata": {
        "id": "QqQF_kvUR7EU",
        "colab": {
          "base_uri": "https://localhost:8080/"
        },
        "outputId": "a4d8349b-7e2d-47ff-8bc3-3dc114c412db"
      },
      "source": [
        "consulta = 'hola quisiera saber que tengo que hacer si al intentar restablecer mi contraseña para acceder a la plataforma, no me llega el mail para seguir con el procedimiento muchas gracias '\n",
        "\n",
        "correos_etiquetados, id = modificar_clase(correos_etiquetados, consulta, 'Problemas con la Clave')\n",
        "\n",
        "print(f'Se modifica el indice {id}.')"
      ],
      "execution_count": 27,
      "outputs": [
        {
          "output_type": "stream",
          "name": "stdout",
          "text": [
            "Se modifica el indice 27.\n"
          ]
        }
      ]
    },
    {
      "cell_type": "code",
      "metadata": {
        "id": "4_Lx0e4QTOEH",
        "colab": {
          "base_uri": "https://localhost:8080/"
        },
        "outputId": "19190c17-f855-4d46-b7d4-b9f878c6a302"
      },
      "source": [
        "consulta = 'buenos dias,  me remito a ustedes para consultar el por qué de que no pueda hacer la solicitud de título correspondiente a técnica universitaria en comercio exterior y aduanas.  por favor si podrían darme una respuesta a la brevedad ya que necesitaría con suma urgencia la certificación.  gracias. '\n",
        "\n",
        "correos_etiquetados, id = modificar_clase(correos_etiquetados, consulta, 'Consulta sobre Título Universitario')\n",
        "print(f'Se modifica el indice {id}.')"
      ],
      "execution_count": 28,
      "outputs": [
        {
          "output_type": "stream",
          "name": "stdout",
          "text": [
            "Se modifica el indice 49.\n"
          ]
        }
      ]
    },
    {
      "cell_type": "code",
      "metadata": {
        "id": "CUXNSVTKTkQM",
        "colab": {
          "base_uri": "https://localhost:8080/"
        },
        "outputId": "c007c5e6-1260-4478-e8a2-ce2902895c7d"
      },
      "source": [
        "consulta = 'hola, soy cruz elizabeth, aspirante a ingenieria agronomica y queria saber por que no puedo inscribirme para cursar las materias??  '\n",
        "\n",
        "correos_etiquetados, id = modificar_clase(correos_etiquetados, consulta, 'Cursadas')\n",
        "print(f'Se modifica el indice {id}.')"
      ],
      "execution_count": 29,
      "outputs": [
        {
          "output_type": "stream",
          "name": "stdout",
          "text": [
            "Se modifica el indice 53.\n"
          ]
        }
      ]
    },
    {
      "cell_type": "code",
      "metadata": {
        "id": "ZBXPCOvTT7Ow",
        "colab": {
          "base_uri": "https://localhost:8080/"
        },
        "outputId": "01df333a-7932-48e4-9cd4-9220f03f779e"
      },
      "source": [
        "consulta = 'por que no me puedo inscribir en las materias  '\n",
        "\n",
        "correos_etiquetados, id = modificar_clase(correos_etiquetados, consulta, 'Cursadas')\n",
        "print(f'Se modifica el indice {id}.')"
      ],
      "execution_count": 30,
      "outputs": [
        {
          "output_type": "stream",
          "name": "stdout",
          "text": [
            "Se modifica el indice 54.\n"
          ]
        }
      ]
    },
    {
      "cell_type": "code",
      "metadata": {
        "id": "Ou6dKG5KUC8f",
        "colab": {
          "base_uri": "https://localhost:8080/"
        },
        "outputId": "c6d8ac01-3d10-4b2f-a69f-8df9b2471404"
      },
      "source": [
        "consulta = 'buen dia pedi la solicitud de reinscripcion en la universidad,aproximadamente hace dos meses,con respuesta inmediata y positiva.el problema es que cuando quiero ingresar desde el perfil de estudiante me sale una leyenda que dice que no me encuentro regular en la carrera. '\n",
        "\n",
        "correos_etiquetados, id = modificar_clase(correos_etiquetados, consulta, 'Reincorporación')\n",
        "print(f'Se modifica el indice {id}.')"
      ],
      "execution_count": 31,
      "outputs": [
        {
          "output_type": "stream",
          "name": "stdout",
          "text": [
            "Se modifica el indice 58.\n"
          ]
        }
      ]
    },
    {
      "cell_type": "code",
      "metadata": {
        "id": "b3RNPR-gUhl7",
        "colab": {
          "base_uri": "https://localhost:8080/"
        },
        "outputId": "63632ba0-0616-48af-bb22-d7b93f93d10c"
      },
      "source": [
        "consulta = 'olvide mi clave para entrar al sistema e inscribirme a las cursadas pero hice todo el procedimiento y aun no me llega el mail para recuperar mi clave. '\n",
        "\n",
        "correos_etiquetados, id = modificar_clase(correos_etiquetados, consulta, 'Problemas con la Clave')\n",
        "print(f'Se modifica el indice {id}.')"
      ],
      "execution_count": 32,
      "outputs": [
        {
          "output_type": "stream",
          "name": "stdout",
          "text": [
            "Se modifica el indice 81.\n"
          ]
        }
      ]
    },
    {
      "cell_type": "code",
      "metadata": {
        "id": "7i0POMTQUlcE",
        "colab": {
          "base_uri": "https://localhost:8080/"
        },
        "outputId": "4c06944a-8abc-4e0b-fd07-aeded0a7863f"
      },
      "source": [
        "consulta = 'no puedo entrar a mi perfil de estudiante y no me ha llegado un mail para restablecer mi contraseña '\n",
        "\n",
        "correos_etiquetados, id = modificar_clase(correos_etiquetados, consulta, 'Problemas con la Clave')\n",
        "print(f'Se modifica el indice {id}.')"
      ],
      "execution_count": 33,
      "outputs": [
        {
          "output_type": "stream",
          "name": "stdout",
          "text": [
            "Se modifica el indice 83.\n"
          ]
        }
      ]
    },
    {
      "cell_type": "code",
      "metadata": {
        "id": "-WwLdpAKUl1I",
        "colab": {
          "base_uri": "https://localhost:8080/"
        },
        "outputId": "f1eed0e2-dada-45a2-aa05-c81b1812dc55"
      },
      "source": [
        "consulta = 'me inscribí y no me deja seguir me pone dirigirse a la sede más cercana me pone que figuro como alumna '\n",
        "\n",
        "correos_etiquetados, id = modificar_clase(correos_etiquetados, consulta, 'Reincorporación')\n",
        "print(f'Se modifica el indice {id}.')"
      ],
      "execution_count": 34,
      "outputs": [
        {
          "output_type": "stream",
          "name": "stdout",
          "text": [
            "Se modifica el indice 116.\n"
          ]
        }
      ]
    },
    {
      "cell_type": "code",
      "metadata": {
        "id": "XUTp_WygUmPA",
        "colab": {
          "base_uri": "https://localhost:8080/"
        },
        "outputId": "dbcae868-4b56-4e15-b0c0-a58aa88c0c8f"
      },
      "source": [
        "consulta = 'perdi la regularidad como alumna. y en mi correo no me aparece formulario de reinscripcion '\n",
        "\n",
        "correos_etiquetados, id = modificar_clase(correos_etiquetados, consulta, 'Reincorporación')\n",
        "print(f'Se modifica el indice {id}.')"
      ],
      "execution_count": 35,
      "outputs": [
        {
          "output_type": "stream",
          "name": "stdout",
          "text": [
            "Se modifica el indice 136.\n"
          ]
        }
      ]
    },
    {
      "cell_type": "code",
      "metadata": {
        "id": "gWfSP2UWUmcP",
        "colab": {
          "base_uri": "https://localhost:8080/"
        },
        "outputId": "8c528302-fe92-4542-e6ea-7b3d747aca3f"
      },
      "source": [
        "consulta = 'no me deja ingresar a las materias con mi número de documento ni tampoco contraseña.  '\n",
        "\n",
        "correos_etiquetados, id = modificar_clase(correos_etiquetados, consulta, 'Problemas con la Clave')\n",
        "print(f'Se modifica el indice {id}.')"
      ],
      "execution_count": 36,
      "outputs": [
        {
          "output_type": "stream",
          "name": "stdout",
          "text": [
            "Se modifica el indice 154.\n"
          ]
        }
      ]
    },
    {
      "cell_type": "code",
      "metadata": {
        "id": "mDHgmxs-ZtUS",
        "colab": {
          "base_uri": "https://localhost:8080/"
        },
        "outputId": "fc28fcbe-e921-4c4b-ae84-f50aacd1580c"
      },
      "source": [
        "consulta = 'hola no puedo ingresar con mi contraseña a mi perfil y no me llegan el mail para reestablecer la clave. desde ya muchas gracias '\n",
        "\n",
        "correos_etiquetados, id = modificar_clase(correos_etiquetados, consulta, 'Problemas con la Clave')\n",
        "print(f'Se modifica el indice {id}.')"
      ],
      "execution_count": 37,
      "outputs": [
        {
          "output_type": "stream",
          "name": "stdout",
          "text": [
            "Se modifica el indice 171.\n"
          ]
        }
      ]
    },
    {
      "cell_type": "code",
      "metadata": {
        "id": "et6FZxLzZtYx",
        "colab": {
          "base_uri": "https://localhost:8080/"
        },
        "outputId": "1e99ef99-fc45-4476-c3e0-caa116ab1605"
      },
      "source": [
        "consulta = 'no me llega el email para reestablecer la contraseña '\n",
        "\n",
        "correos_etiquetados, id = modificar_clase(correos_etiquetados, consulta, 'Problemas con la Clave')\n",
        "print(f'Se modifica el indice {id}.')"
      ],
      "execution_count": 38,
      "outputs": [
        {
          "output_type": "stream",
          "name": "stdout",
          "text": [
            "Se modifica el indice 202.\n"
          ]
        }
      ]
    },
    {
      "cell_type": "code",
      "metadata": {
        "id": "riQyff82Ztdm",
        "colab": {
          "base_uri": "https://localhost:8080/"
        },
        "outputId": "3b09cac1-6ee6-4849-a5b0-a0e880fdade5"
      },
      "source": [
        "consulta = 'no me llega el email para confirmar mi nueva clave '\n",
        "\n",
        "correos_etiquetados, id = modificar_clase(correos_etiquetados, consulta, 'Problemas con la Clave')\n",
        "print(f'Se modifica el indice {id}.')"
      ],
      "execution_count": 39,
      "outputs": [
        {
          "output_type": "stream",
          "name": "stdout",
          "text": [
            "Se modifica el indice 204.\n"
          ]
        }
      ]
    },
    {
      "cell_type": "code",
      "metadata": {
        "id": "MFEzsUgqZthi",
        "colab": {
          "base_uri": "https://localhost:8080/"
        },
        "outputId": "8965777d-ec36-4926-d6b8-c30fa1287233"
      },
      "source": [
        "consulta = 'hola! olvidé la contraseña y no me lkega el mail de recuperación.  gracias '\n",
        "\n",
        "correos_etiquetados, id = modificar_clase(correos_etiquetados, consulta, 'Problemas con la Clave')\n",
        "print(f'Se modifica el indice {id}.')"
      ],
      "execution_count": 40,
      "outputs": [
        {
          "output_type": "stream",
          "name": "stdout",
          "text": [
            "Se modifica el indice 212.\n"
          ]
        }
      ]
    },
    {
      "cell_type": "code",
      "metadata": {
        "id": "kwmDsX0iZtmC",
        "colab": {
          "base_uri": "https://localhost:8080/"
        },
        "outputId": "630d3783-623b-431c-9d8e-99419e975968"
      },
      "source": [
        "consulta = 'olvide mi contraseña para acceder al perfil de estudiante, quiero actualizarla, ingrese los datos que me pedía pero todavía no me llego el mail para que pueda actualizarla. '\n",
        "\n",
        "correos_etiquetados, id = modificar_clase(correos_etiquetados, consulta, 'Problemas con la Clave')\n",
        "print(f'Se modifica el indice {id}.')"
      ],
      "execution_count": 41,
      "outputs": [
        {
          "output_type": "stream",
          "name": "stdout",
          "text": [
            "Se modifica el indice 215.\n"
          ]
        }
      ]
    },
    {
      "cell_type": "code",
      "metadata": {
        "id": "WgP4sbb4fB7H",
        "colab": {
          "base_uri": "https://localhost:8080/"
        },
        "outputId": "b35e0b98-8759-4f98-a7c0-b88cb06ac799"
      },
      "source": [
        "consulta = 'hola, realice mi inscripcion a la carrera de licenciatura de enfermeria pero aun no me llega la respuesta a mi correo electronico para realizar el siguiente paso abra alguna posibilidad que verifiquen el incombeniente porfavor. desde muchas gracias. laura gonzalez '\n",
        "\n",
        "correos_etiquetados, id = modificar_clase(correos_etiquetados, consulta, 'Ingreso a la Universidad')\n",
        "print(f'Se modifica el indice {id}.')"
      ],
      "execution_count": 42,
      "outputs": [
        {
          "output_type": "stream",
          "name": "stdout",
          "text": [
            "Se modifica el indice 227.\n"
          ]
        }
      ]
    },
    {
      "cell_type": "code",
      "metadata": {
        "id": "w_eH1XOIfFHW",
        "colab": {
          "base_uri": "https://localhost:8080/"
        },
        "outputId": "ccf54f2c-0062-436e-8120-1b41d62810fc"
      },
      "source": [
        "consulta = 'cuando quiero entrar a mi nformación académica desde mi perfil de estudiantes no me deja, dice que no cumplo con los requisitos necesarios. y yo soy estudiante del año pasado y metí una materia y ahora no puedo entrar para inscribirme a las materias de este año  '\n",
        "\n",
        "correos_etiquetados, id = modificar_clase(correos_etiquetados, consulta, 'Requisitos de Ingreso')\n",
        "print(f'Se modifica el indice {id}.')"
      ],
      "execution_count": 43,
      "outputs": [
        {
          "output_type": "stream",
          "name": "stdout",
          "text": [
            "Se modifica el indice 231.\n"
          ]
        }
      ]
    },
    {
      "cell_type": "code",
      "metadata": {
        "id": "gt73BdZGfFuP",
        "colab": {
          "base_uri": "https://localhost:8080/"
        },
        "outputId": "bd7d41a4-d131-481e-fd43-99d0f700b641"
      },
      "source": [
        "consulta = 'me olvidé la contraseña para ingresar y poder anotarme a las materias. y a mí e-mail no me llega nada para restablecerla. '\n",
        "\n",
        "correos_etiquetados, id = modificar_clase(correos_etiquetados, consulta, 'Problemas con la Clave')\n",
        "print(f'Se modifica el indice {id}.')"
      ],
      "execution_count": 44,
      "outputs": [
        {
          "output_type": "stream",
          "name": "stdout",
          "text": [
            "Se modifica el indice 233.\n"
          ]
        }
      ]
    },
    {
      "cell_type": "code",
      "metadata": {
        "id": "xDNYH2TafF3-",
        "colab": {
          "base_uri": "https://localhost:8080/"
        },
        "outputId": "d2cdf6ee-27aa-4f4b-bf95-b6a1d8c5f55a"
      },
      "source": [
        "consulta = 'quisiera recuperar mi clave de acceso al sistema de servicios académicos, ya gestioné la clave pero no me llega el mail. gracias '\n",
        "\n",
        "correos_etiquetados, id = modificar_clase(correos_etiquetados, consulta, 'Problemas con la Clave')\n",
        "print(f'Se modifica el indice {id}.')"
      ],
      "execution_count": 45,
      "outputs": [
        {
          "output_type": "stream",
          "name": "stdout",
          "text": [
            "Se modifica el indice 236.\n"
          ]
        }
      ]
    },
    {
      "cell_type": "code",
      "metadata": {
        "id": "iiBZL57jfGGT",
        "colab": {
          "base_uri": "https://localhost:8080/"
        },
        "outputId": "2781d9b5-07ee-4cde-bc5a-e360364b2307"
      },
      "source": [
        "consulta = 'mi consulta es sobre la materia introduccion al trabajo social yo la curse en 2016 mi pregunta es el vencimiento de la regularidad si es de 2 o3 años si es de 2 años mi ultima posibilidad seria ahora en diciembre esa es mi consulta.muchas gracias  '\n",
        "\n",
        "correos_etiquetados, id = modificar_clase(correos_etiquetados, consulta, 'Situación Académica')\n",
        "print(f'Se modifica el indice {id}.')"
      ],
      "execution_count": 46,
      "outputs": [
        {
          "output_type": "stream",
          "name": "stdout",
          "text": [
            "Se modifica el indice 246.\n"
          ]
        }
      ]
    },
    {
      "cell_type": "code",
      "metadata": {
        "id": "_9tNE3H7fGSo",
        "colab": {
          "base_uri": "https://localhost:8080/"
        },
        "outputId": "c3765ee0-542c-4296-fad3-46f23169ed13"
      },
      "source": [
        "consulta = 'buenas tardes, me olvide la contraseña y no me llega el mail para poder cambiarlo.  desde ya muchas gracias. saludos '\n",
        "\n",
        "correos_etiquetados, id = modificar_clase(correos_etiquetados, consulta, 'Problemas con la Clave')\n",
        "print(f'Se modifica el indice {id}.')"
      ],
      "execution_count": 47,
      "outputs": [
        {
          "output_type": "stream",
          "name": "stdout",
          "text": [
            "Se modifica el indice 268.\n"
          ]
        }
      ]
    },
    {
      "cell_type": "code",
      "metadata": {
        "id": "LgRiElLwfGfA",
        "colab": {
          "base_uri": "https://localhost:8080/"
        },
        "outputId": "3100dc9a-a255-4d91-ff61-292dda2451c0"
      },
      "source": [
        "consulta = 'hola no puedo entrar, yo ya soy estudiante, por favor me podrían ayudar con esto, o informarme que tengo que hacer. desde ya muchas gracias.  '\n",
        "\n",
        "correos_etiquetados, id = modificar_clase(correos_etiquetados, consulta, 'Problemas con la Clave')\n",
        "print(f'Se modifica el indice {id}.')"
      ],
      "execution_count": 48,
      "outputs": [
        {
          "output_type": "stream",
          "name": "stdout",
          "text": [
            "Se modifica el indice 287.\n"
          ]
        }
      ]
    },
    {
      "cell_type": "code",
      "metadata": {
        "id": "9yeQCgHJfGrV",
        "colab": {
          "base_uri": "https://localhost:8080/"
        },
        "outputId": "9d347217-111d-4dc7-e666-e31fc7433aa6"
      },
      "source": [
        "consulta = 'hola, entro a mi cuenta y aparezco como que no soy alumno regular. me dice que registre un mail para regularizar mi situacion pero no tengo nada en mi correo... me podran decir como tengo que hacer por favor '\n",
        "\n",
        "correos_etiquetados, id = modificar_clase(correos_etiquetados, consulta, 'Reincorporación')\n",
        "print(f'Se modifica el indice {id}.')"
      ],
      "execution_count": 49,
      "outputs": [
        {
          "output_type": "stream",
          "name": "stdout",
          "text": [
            "Se modifica el indice 296.\n"
          ]
        }
      ]
    },
    {
      "cell_type": "code",
      "metadata": {
        "id": "J682UhxTo4D0",
        "colab": {
          "base_uri": "https://localhost:8080/"
        },
        "outputId": "8b69f105-ba81-476b-9507-9a01189e8ac9"
      },
      "source": [
        "consulta = 'burnos dias.hace varios dias estoy esperando el reestablecimiento de la clave de ingreso a la plataforma y no me ha llegado nada a mi casilla de correo, a los fines de que no se produzca mas demora quisiera solicitar que se corrobore la casilla de mail ya que la misma es vanina.aquiles04@hotmail.com '\n",
        "\n",
        "correos_etiquetados, id = modificar_clase(correos_etiquetados, consulta, 'Problemas con la Clave')\n",
        "print(f'Se modifica el indice {id}.')"
      ],
      "execution_count": 50,
      "outputs": [
        {
          "output_type": "stream",
          "name": "stdout",
          "text": [
            "Se modifica el indice 319.\n"
          ]
        }
      ]
    },
    {
      "cell_type": "code",
      "metadata": {
        "id": "TWr-CtMpo4U7",
        "colab": {
          "base_uri": "https://localhost:8080/"
        },
        "outputId": "9881bf6a-0081-4f64-c254-156e66b0af21"
      },
      "source": [
        "consulta = 'buenas tardes,no puedo ingresar para la inscricion de examenes pongo numero de lejago y la clave que me dieron y me dice que es incorrecto ,me podrian decir que puedo hacer para ingresar .muchas gracias.   '\n",
        "\n",
        "correos_etiquetados, id = modificar_clase(correos_etiquetados, consulta, 'Problemas con la Clave')\n",
        "print(f'Se modifica el indice {id}.')"
      ],
      "execution_count": 51,
      "outputs": [
        {
          "output_type": "stream",
          "name": "stdout",
          "text": [
            "Se modifica el indice 323.\n"
          ]
        }
      ]
    },
    {
      "cell_type": "code",
      "metadata": {
        "id": "b5QyXQqxo4lc",
        "colab": {
          "base_uri": "https://localhost:8080/"
        },
        "outputId": "d56acea2-d0a3-4ca7-903d-40fc93669664"
      },
      "source": [
        "consulta = 'no recuerdo mi clave hice todo el procedimiento y nunca me llego el mail. '\n",
        "\n",
        "correos_etiquetados, id = modificar_clase(correos_etiquetados, consulta, 'Problemas con la Clave')\n",
        "print(f'Se modifica el indice {id}.')"
      ],
      "execution_count": 52,
      "outputs": [
        {
          "output_type": "stream",
          "name": "stdout",
          "text": [
            "Se modifica el indice 337.\n"
          ]
        }
      ]
    },
    {
      "cell_type": "code",
      "metadata": {
        "id": "Rrx5C1KTo4xg",
        "colab": {
          "base_uri": "https://localhost:8080/"
        },
        "outputId": "b177ec33-5201-41ce-8b57-2ee932732dab"
      },
      "source": [
        "consulta = 'buenos días. el día viernes me acerque a la sede de san miguel para realizar el trámite de reincorporación y me dijieron que hoy me fijara en la pagina . pero sigo sin poder ingresar. puse mi legajo y la clave que me generaron ahí. no se si tendré que esperar unos días más? gracias  '\n",
        "\n",
        "correos_etiquetados, id = modificar_clase(correos_etiquetados, consulta, 'Reincorporación')\n",
        "print(f'Se modifica el indice {id}.')"
      ],
      "execution_count": 53,
      "outputs": [
        {
          "output_type": "stream",
          "name": "stdout",
          "text": [
            "Se modifica el indice 342.\n"
          ]
        }
      ]
    },
    {
      "cell_type": "code",
      "metadata": {
        "id": "obNeOvrJo465",
        "colab": {
          "base_uri": "https://localhost:8080/"
        },
        "outputId": "1454d50f-19e0-4839-ad87-7dfab5e42afe"
      },
      "source": [
        "consulta = 'no puedo ingresar a ver mi situación académica, ingrese en la opción que me da de &quot;olvidaste tu clave&quot; complete lo que me pide, pero no me llega el mail. ya lo hice varias veces.  '\n",
        "\n",
        "correos_etiquetados, id = modificar_clase(correos_etiquetados, consulta, 'Problemas con la Clave')\n",
        "print(f'Se modifica el indice {id}.')"
      ],
      "execution_count": 54,
      "outputs": [
        {
          "output_type": "stream",
          "name": "stdout",
          "text": [
            "Se modifica el indice 343.\n"
          ]
        }
      ]
    },
    {
      "cell_type": "code",
      "metadata": {
        "id": "PS8VywTSo5Fc",
        "colab": {
          "base_uri": "https://localhost:8080/"
        },
        "outputId": "18c9e16e-f82c-4f92-a1da-ad10ffcf7406"
      },
      "source": [
        "consulta = 'es la segunda vez que restablezco la contraseña y no recibo ningún correo. estoy necesitando con urgencia ingresar a la pagina. como puedo hacer para verificar que mi correo este bien registrado? muchas gracias. '\n",
        "\n",
        "correos_etiquetados, id = modificar_clase(correos_etiquetados, consulta, 'Problemas con la Clave')\n",
        "print(f'Se modifica el indice {id}.')"
      ],
      "execution_count": 55,
      "outputs": [
        {
          "output_type": "stream",
          "name": "stdout",
          "text": [
            "Se modifica el indice 347.\n"
          ]
        }
      ]
    },
    {
      "cell_type": "code",
      "metadata": {
        "id": "M4MDnq8to5WG",
        "colab": {
          "base_uri": "https://localhost:8080/"
        },
        "outputId": "b67688bf-5ba8-42c6-a4da-3b29aaba5079"
      },
      "source": [
        "consulta = 'buenas tardes, quiero acceder a la inscripción de asignaturas del 1er cuatrimestre, y me indica que ingrese el número de legajo, pero no lo tengo, como lo obtengo? '\n",
        "\n",
        "correos_etiquetados, id = modificar_clase(correos_etiquetados, consulta, 'Consulta por Legajo')\n",
        "print(f'Se modifica el indice {id}.')"
      ],
      "execution_count": 56,
      "outputs": [
        {
          "output_type": "stream",
          "name": "stdout",
          "text": [
            "Se modifica el indice 361.\n"
          ]
        }
      ]
    },
    {
      "cell_type": "code",
      "metadata": {
        "id": "LcaHpo_nqm9R",
        "colab": {
          "base_uri": "https://localhost:8080/"
        },
        "outputId": "ee59961b-a230-441c-9879-7e628d09ad9a"
      },
      "source": [
        "consulta = 'intento restablecer la contraseña pero nunca me llega el mail para hacerlo '\n",
        "\n",
        "correos_etiquetados, id = modificar_clase(correos_etiquetados, consulta, 'Problemas con la Clave')\n",
        "print(f'Se modifica el indice {id}.')"
      ],
      "execution_count": 57,
      "outputs": [
        {
          "output_type": "stream",
          "name": "stdout",
          "text": [
            "Se modifica el indice 362.\n"
          ]
        }
      ]
    },
    {
      "cell_type": "code",
      "metadata": {
        "id": "PYCWLLo7qnJt",
        "colab": {
          "base_uri": "https://localhost:8080/"
        },
        "outputId": "5fddaad6-8b52-488f-ff02-e02a8fb3b7b2"
      },
      "source": [
        "consulta = 'no puedo entrar a mi situación académica, y cuando envío el formulario para cambiar la contraseña no me llega nada al correo  '\n",
        "\n",
        "correos_etiquetados, id = modificar_clase(correos_etiquetados, consulta, 'Problemas con la Clave')\n",
        "print(f'Se modifica el indice {id}.')"
      ],
      "execution_count": 58,
      "outputs": [
        {
          "output_type": "stream",
          "name": "stdout",
          "text": [
            "Se modifica el indice 364.\n"
          ]
        }
      ]
    },
    {
      "cell_type": "code",
      "metadata": {
        "id": "Gh3yb44vqnZh",
        "colab": {
          "base_uri": "https://localhost:8080/"
        },
        "outputId": "576d67e3-17c2-4cc7-cd7e-8ea7f4ebfb7f"
      },
      "source": [
        "consulta = 'reseteo la clave pero no me llega ningun correo '\n",
        "\n",
        "correos_etiquetados, id = modificar_clase(correos_etiquetados, consulta, 'Problemas con la Clave')\n",
        "print(f'Se modifica el indice {id}.')"
      ],
      "execution_count": 59,
      "outputs": [
        {
          "output_type": "stream",
          "name": "stdout",
          "text": [
            "Se modifica el indice 374.\n"
          ]
        }
      ]
    },
    {
      "cell_type": "code",
      "metadata": {
        "id": "WzzZdkKiqnkd",
        "colab": {
          "base_uri": "https://localhost:8080/"
        },
        "outputId": "5a0f69d1-3c5f-4235-810c-0957758bc336"
      },
      "source": [
        "consulta = 'buenas tardes, ya pedi el cambio de contraseña pero no me llega el mail para reestablecerla '\n",
        "\n",
        "correos_etiquetados, id = modificar_clase(correos_etiquetados, consulta, 'Problemas con la Clave')\n",
        "print(f'Se modifica el indice {id}.')"
      ],
      "execution_count": 60,
      "outputs": [
        {
          "output_type": "stream",
          "name": "stdout",
          "text": [
            "Se modifica el indice 391.\n"
          ]
        }
      ]
    },
    {
      "cell_type": "code",
      "metadata": {
        "id": "b4QunWrgqnz-",
        "colab": {
          "base_uri": "https://localhost:8080/"
        },
        "outputId": "bedaa2b7-4a7d-4e81-90b1-43d5a5c7b0b8"
      },
      "source": [
        "consulta = 'estimados, soy alumno regular y no recuerdo mi clave para ingresar a ingresar a insc para cursar. solicité blanque de contraseña pero no recibo el mail para realizarlo.   '\n",
        "\n",
        "correos_etiquetados, id = modificar_clase(correos_etiquetados, consulta, 'Problemas con la Clave')\n",
        "print(f'Se modifica el indice {id}.')"
      ],
      "execution_count": 61,
      "outputs": [
        {
          "output_type": "stream",
          "name": "stdout",
          "text": [
            "Se modifica el indice 408.\n"
          ]
        }
      ]
    },
    {
      "cell_type": "code",
      "metadata": {
        "id": "gK4saIWfHY6V",
        "colab": {
          "base_uri": "https://localhost:8080/"
        },
        "outputId": "1f233e5f-50a5-4004-b1d2-f83e440db953"
      },
      "source": [
        "consulta = 'hola yo habia ido ah la universidad ah terminar la inscripcion y me dijieron que despues tenia que ingresar en mi perfil desde la pagina y cuando intento ingresar me pone que no existen datos para este aspirante. si me podrian dar una solucion por que yo deveria comenzar el 05 de marzo y aun no se el horario que tengo que ah cursar. desde ya muchas gracias. '\n",
        "\n",
        "correos_etiquetados, id = modificar_clase(correos_etiquetados, consulta, 'Ingreso a la Universidad')\n",
        "print(f'Se modifica el indice {id}.')"
      ],
      "execution_count": 62,
      "outputs": [
        {
          "output_type": "stream",
          "name": "stdout",
          "text": [
            "Se modifica el indice 445.\n"
          ]
        }
      ]
    },
    {
      "cell_type": "code",
      "metadata": {
        "id": "3mqf4ayBHaV1",
        "colab": {
          "base_uri": "https://localhost:8080/"
        },
        "outputId": "c0623318-b0c3-4547-a51d-9beadfc8ab91"
      },
      "source": [
        "consulta = 'buenas tardes estoy tratando de ingresar al perfil de estudiantes y me dice que mi número de legajo o clave son incorrectos. estoy segura de haber puesto bien ambas. de todos nodos intente cambiar la clave. mande la solicitud me avisa en el mensajr que revise mi correo. pero no me llega nada al mismo....muchas gracias. '\n",
        "\n",
        "correos_etiquetados, id = modificar_clase(correos_etiquetados, consulta, 'Problemas con la Clave')\n",
        "print(f'Se modifica el indice {id}.')"
      ],
      "execution_count": 63,
      "outputs": [
        {
          "output_type": "stream",
          "name": "stdout",
          "text": [
            "Se modifica el indice 458.\n"
          ]
        }
      ]
    },
    {
      "cell_type": "code",
      "metadata": {
        "id": "XPZxXU2UHata",
        "colab": {
          "base_uri": "https://localhost:8080/"
        },
        "outputId": "91437dae-115f-4766-dd78-4cdeddb4ec9f"
      },
      "source": [
        "consulta = 'buenas tardes, me comunico con ustedes para encontrarle la solucion a mi problema. no puedo ingresar a la cuenta de mi legajo, porque olvide mi contraseña. mande la solicitud para que me llegue el email y recuperar mi clave, pero todavia no me llego el email. '\n",
        "\n",
        "correos_etiquetados, id = modificar_clase(correos_etiquetados, consulta, 'Problemas con la Clave')\n",
        "print(f'Se modifica el indice {id}.')"
      ],
      "execution_count": 64,
      "outputs": [
        {
          "output_type": "stream",
          "name": "stdout",
          "text": [
            "Se modifica el indice 462.\n"
          ]
        }
      ]
    },
    {
      "cell_type": "code",
      "metadata": {
        "id": "tm3mXOLTHa6W",
        "colab": {
          "base_uri": "https://localhost:8080/"
        },
        "outputId": "2a23f2fc-c21e-4b4d-c43f-24ae009d6d42"
      },
      "source": [
        "consulta = 'buenas tardes!.queria saber como puedo recuperar mi clave para acceder y poder inscribirme a las cursadas cuatrimestrales ya que cumpli con todos los pasos de&quot;olvide mi contraseña&quot; y aún no llego nada a mi mail.solicito mi contraseña para poder anotarme a las cursadas.desde ya muchas gracias! '\n",
        "\n",
        "correos_etiquetados, id = modificar_clase(correos_etiquetados, consulta, 'Problemas con la Clave')\n",
        "print(f'Se modifica el indice {id}.')"
      ],
      "execution_count": 65,
      "outputs": [
        {
          "output_type": "stream",
          "name": "stdout",
          "text": [
            "Se modifica el indice 484.\n"
          ]
        }
      ]
    },
    {
      "cell_type": "code",
      "metadata": {
        "id": "1_RcIOHHHbFR",
        "colab": {
          "base_uri": "https://localhost:8080/"
        },
        "outputId": "1b7e803e-e83b-4377-97e2-d006dda3fe49"
      },
      "source": [
        "consulta = 'buenos dias solicito reestablecer mi clave, realice los pasos correspondiente pero nunca me llega  el mail para continuar desde ua muchas gracias si me pueden ayudar '\n",
        "\n",
        "correos_etiquetados, id = modificar_clase(correos_etiquetados, consulta, 'Problemas con la Clave')\n",
        "print(f'Se modifica el indice {id}.')"
      ],
      "execution_count": 66,
      "outputs": [
        {
          "output_type": "stream",
          "name": "stdout",
          "text": [
            "Se modifica el indice 486.\n"
          ]
        }
      ]
    },
    {
      "cell_type": "code",
      "metadata": {
        "id": "Y_MFEGfVHbZI",
        "colab": {
          "base_uri": "https://localhost:8080/"
        },
        "outputId": "7e069eb0-e097-4a6f-f931-f3b0f1fd590b"
      },
      "source": [
        "consulta = 'hola no me llega el msn para cambiar la contraseña para poder ingresar a mi situación académica. para anotarme a las materias de 2do cuatrimestre. '\n",
        "\n",
        "correos_etiquetados, id = modificar_clase(correos_etiquetados, consulta, 'Problemas con la Clave')\n",
        "print(f'Se modifica el indice {id}.')"
      ],
      "execution_count": 67,
      "outputs": [
        {
          "output_type": "stream",
          "name": "stdout",
          "text": [
            "Se modifica el indice 488.\n"
          ]
        }
      ]
    },
    {
      "cell_type": "code",
      "metadata": {
        "id": "-1Uzkx23HbmI",
        "colab": {
          "base_uri": "https://localhost:8080/"
        },
        "outputId": "355d8b14-871b-41fe-ae06-5235b3b124ca"
      },
      "source": [
        "consulta = 'no puedo ingresar con mi legajo y con mi contraseña a mi perfil '\n",
        "\n",
        "correos_etiquetados, id = modificar_clase(correos_etiquetados, consulta, 'Problemas con la Clave')\n",
        "print(f'Se modifica el indice {id}.')"
      ],
      "execution_count": 68,
      "outputs": [
        {
          "output_type": "stream",
          "name": "stdout",
          "text": [
            "Se modifica el indice 492.\n"
          ]
        }
      ]
    },
    {
      "cell_type": "code",
      "metadata": {
        "id": "YmdtoDxxHbzR",
        "colab": {
          "base_uri": "https://localhost:8080/"
        },
        "outputId": "7e29e925-861d-4de8-ed61-b046132afc5d"
      },
      "source": [
        "consulta = 'hola..puede ser que aun no esten las notas del taller..o estoy haciendo algo mal...podrias adelantarme la nota '\n",
        "\n",
        "correos_etiquetados, id = modificar_clase(correos_etiquetados, consulta, 'Cursadas')\n",
        "print(f'Se modifica el indice {id}.')"
      ],
      "execution_count": 69,
      "outputs": [
        {
          "output_type": "stream",
          "name": "stdout",
          "text": [
            "Se modifica el indice 501.\n"
          ]
        }
      ]
    },
    {
      "cell_type": "code",
      "metadata": {
        "id": "WBrDpfgeHb-P",
        "colab": {
          "base_uri": "https://localhost:8080/"
        },
        "outputId": "1e9d2397-2852-4aad-c506-aeaa7847d079"
      },
      "source": [
        "consulta = 'quisiera restablecer mi contraseña, y no me llegan el correo por parte de la universidad '\n",
        "\n",
        "correos_etiquetados, id = modificar_clase(correos_etiquetados, consulta, 'Problemas con la Clave')\n",
        "print(f'Se modifica el indice {id}.')"
      ],
      "execution_count": 70,
      "outputs": [
        {
          "output_type": "stream",
          "name": "stdout",
          "text": [
            "Se modifica el indice 510.\n"
          ]
        }
      ]
    },
    {
      "cell_type": "code",
      "metadata": {
        "id": "VDLOIncMHcLw",
        "colab": {
          "base_uri": "https://localhost:8080/"
        },
        "outputId": "ededec85-3676-4612-9d87-85fdca282e68"
      },
      "source": [
        "consulta = 'hola..olvide mi contraseña..y me dice que me va a enviar un codigo a mi email para reestablecer mi cuenta pero no recibo nada. mi mail actual es ..  evejorgezuri@gmail.com '\n",
        "\n",
        "correos_etiquetados, id = modificar_clase(correos_etiquetados, consulta, 'Problemas con la Clave')\n",
        "print(f'Se modifica el indice {id}.')"
      ],
      "execution_count": 71,
      "outputs": [
        {
          "output_type": "stream",
          "name": "stdout",
          "text": [
            "Se modifica el indice 542.\n"
          ]
        }
      ]
    },
    {
      "cell_type": "code",
      "metadata": {
        "id": "ZhdgSZ_hsWsT",
        "colab": {
          "base_uri": "https://localhost:8080/"
        },
        "outputId": "ec6430f6-565b-41fa-af09-9a8caffe0c0e"
      },
      "source": [
        "consulta = 'hola. necesito restablecer la contraseña y no me llega el mail. quisiera saber qué puedo hacer. gracias '\n",
        "\n",
        "correos_etiquetados, id = modificar_clase(correos_etiquetados, consulta, 'Problemas con la Clave')\n",
        "print(f'Se modifica el indice {id}.')"
      ],
      "execution_count": 72,
      "outputs": [
        {
          "output_type": "stream",
          "name": "stdout",
          "text": [
            "Se modifica el indice 547.\n"
          ]
        }
      ]
    },
    {
      "cell_type": "code",
      "metadata": {
        "id": "cNnijhu3sYHQ",
        "colab": {
          "base_uri": "https://localhost:8080/"
        },
        "outputId": "2bb5a8a4-e476-4d1f-ccb7-3e4e41c6fc88"
      },
      "source": [
        "consulta = 'buenas tardes,no puedo ingresar a mi situación académica,ni tampoco me permite reestablecer la clave aunque yo no la he cambiado ,que debo hacer ? desde ya muchas gracias  '\n",
        "\n",
        "correos_etiquetados, id = modificar_clase(correos_etiquetados, consulta, 'Problemas con la Clave')\n",
        "print(f'Se modifica el indice {id}.')"
      ],
      "execution_count": 73,
      "outputs": [
        {
          "output_type": "stream",
          "name": "stdout",
          "text": [
            "Se modifica el indice 563.\n"
          ]
        }
      ]
    },
    {
      "cell_type": "code",
      "metadata": {
        "id": "koqCy91fsYSS",
        "colab": {
          "base_uri": "https://localhost:8080/"
        },
        "outputId": "364eebc9-67c9-42e5-f957-5258e9e89c48"
      },
      "source": [
        "consulta = 'ingreso a la pagina con mi legajo 77344 y como clave mi dni por ser primer ingreso.  la página arroja el error el estudiante no cumple con los requisitos para ingresar al sistema.  por medio de la pagina deseo comenzar a tramitar el título de licenciada.  qué debería hacer?  '\n",
        "\n",
        "correos_etiquetados, id = modificar_clase(correos_etiquetados, consulta, 'Consulta sobre Título Universitario')\n",
        "print(f'Se modifica el indice {id}.')"
      ],
      "execution_count": 74,
      "outputs": [
        {
          "output_type": "stream",
          "name": "stdout",
          "text": [
            "Se modifica el indice 567.\n"
          ]
        }
      ]
    },
    {
      "cell_type": "code",
      "metadata": {
        "id": "qrVpZd64sYiL",
        "colab": {
          "base_uri": "https://localhost:8080/"
        },
        "outputId": "5e6f3a52-dc0a-4c4e-c43a-f96720dd6c3f"
      },
      "source": [
        "consulta = 'hola quisiera saber si se envio mi solicitud deinscripcion..gracias '\n",
        "\n",
        "correos_etiquetados, id = modificar_clase(correos_etiquetados, consulta, 'Ingreso a la Universidad')\n",
        "print(f'Se modifica el indice {id}.')"
      ],
      "execution_count": 75,
      "outputs": [
        {
          "output_type": "stream",
          "name": "stdout",
          "text": [
            "Se modifica el indice 570.\n"
          ]
        }
      ]
    },
    {
      "cell_type": "code",
      "metadata": {
        "id": "sHM0JZNasY9p",
        "colab": {
          "base_uri": "https://localhost:8080/"
        },
        "outputId": "8ac6f660-fe76-4e02-80f7-19c8fd56c1f5"
      },
      "source": [
        "consulta = 'al ingresar me sale un cartel que dice: el alumno no cumple con las condiciones para ingresar podrían informarme como inscribirme a las materias. desde ya muchas gracias espero su pronta respuesta. '\n",
        "\n",
        "correos_etiquetados, id = modificar_clase(correos_etiquetados, consulta, 'Requisitos de Ingreso')\n",
        "print(f'Se modifica el indice {id}.')"
      ],
      "execution_count": 76,
      "outputs": [
        {
          "output_type": "stream",
          "name": "stdout",
          "text": [
            "Se modifica el indice 573.\n"
          ]
        }
      ]
    },
    {
      "cell_type": "code",
      "metadata": {
        "id": "Le8U_UrTsZJI",
        "colab": {
          "base_uri": "https://localhost:8080/"
        },
        "outputId": "4b0652e4-254d-45b9-898d-35a537cd2a90"
      },
      "source": [
        "consulta = 'hola q tal me contacto xq olvide la contraseña para entrar servicios académicos web de estudiante, y al hacer la gestión para reestablecer la contraseña no me llega nada a mi e-mail de contacto. se agradece si me ayudan a resolverlo,  saludos '\n",
        "\n",
        "correos_etiquetados, id = modificar_clase(correos_etiquetados, consulta, 'Problemas con la Clave')\n",
        "print(f'Se modifica el indice {id}.')"
      ],
      "execution_count": 77,
      "outputs": [
        {
          "output_type": "stream",
          "name": "stdout",
          "text": [
            "Se modifica el indice 576.\n"
          ]
        }
      ]
    },
    {
      "cell_type": "code",
      "metadata": {
        "id": "Vtg-FuGjsZTH",
        "colab": {
          "base_uri": "https://localhost:8080/"
        },
        "outputId": "3c79e5a2-acb8-4395-9cc0-a7c7b124309b"
      },
      "source": [
        "consulta = 'no me llega el link para poder terminar el tramite del boleto estudiantil '\n",
        "\n",
        "correos_etiquetados, id = modificar_clase(correos_etiquetados, consulta, 'Boleto Universitario')\n",
        "print(f'Se modifica el indice {id}.')"
      ],
      "execution_count": 78,
      "outputs": [
        {
          "output_type": "stream",
          "name": "stdout",
          "text": [
            "Se modifica el indice 606.\n"
          ]
        }
      ]
    },
    {
      "cell_type": "code",
      "metadata": {
        "id": "wCS_M25usZe3",
        "colab": {
          "base_uri": "https://localhost:8080/"
        },
        "outputId": "60707194-f2d1-41e7-8eef-8f86fee53d47"
      },
      "source": [
        "consulta = 'quiero cambiar la clave para ingresar al sistema y no me llega el email. gracias! '\n",
        "\n",
        "correos_etiquetados, id = modificar_clase(correos_etiquetados, consulta, 'Problemas con la Clave')\n",
        "print(f'Se modifica el indice {id}.')"
      ],
      "execution_count": 79,
      "outputs": [
        {
          "output_type": "stream",
          "name": "stdout",
          "text": [
            "Se modifica el indice 607.\n"
          ]
        }
      ]
    },
    {
      "cell_type": "code",
      "metadata": {
        "id": "euemRbQXsZq4",
        "colab": {
          "base_uri": "https://localhost:8080/"
        },
        "outputId": "9c38f447-d65f-4161-a607-fb2b3939f2fe"
      },
      "source": [
        "consulta = 'buen dia: envio este correo, porque no recuerdo mi clave de acceso, y el mail tampoco me llega, cuando pido nueva contraseña. desde ya muchas gracias  '\n",
        "\n",
        "correos_etiquetados, id = modificar_clase(correos_etiquetados, consulta, 'Problemas con la Clave')\n",
        "print(f'Se modifica el indice {id}.')"
      ],
      "execution_count": 80,
      "outputs": [
        {
          "output_type": "stream",
          "name": "stdout",
          "text": [
            "Se modifica el indice 616.\n"
          ]
        }
      ]
    },
    {
      "cell_type": "code",
      "metadata": {
        "id": "TmFEfkHysZ2x",
        "colab": {
          "base_uri": "https://localhost:8080/"
        },
        "outputId": "9682caed-77e9-49c9-e559-dc589bbc00c6"
      },
      "source": [
        "consulta = 'hola! pregunta... estoy cursando la carrera de contador público e hice la simultaneidad para que me reconozcan las asiganturas comunes a la lic. en administración. &iquest;las asignaturas comunes tengo que anotarme con los 2 legajos (el de contador y el de lic.) o s&ograve;lo con anotarme con el legajo de contador alcanza? '\n",
        "\n",
        "correos_etiquetados, id = modificar_clase(correos_etiquetados, consulta, 'Simultaneidad de Carreras')\n",
        "print(f'Se modifica el indice {id}.')"
      ],
      "execution_count": 81,
      "outputs": [
        {
          "output_type": "stream",
          "name": "stdout",
          "text": [
            "Se modifica el indice 619.\n"
          ]
        }
      ]
    },
    {
      "cell_type": "code",
      "metadata": {
        "id": "89LZT_2M12_r",
        "colab": {
          "base_uri": "https://localhost:8080/"
        },
        "outputId": "dc7b2c9b-3b38-4fcf-e165-73a7cd73e0b3"
      },
      "source": [
        "consulta = 'no me llego el mail con la clave que me olvide. gracias. '\n",
        "\n",
        "correos_etiquetados, id = modificar_clase(correos_etiquetados, consulta, 'Problemas con la Clave')\n",
        "print(f'Se modifica el indice {id}.')"
      ],
      "execution_count": 82,
      "outputs": [
        {
          "output_type": "stream",
          "name": "stdout",
          "text": [
            "Se modifica el indice 620.\n"
          ]
        }
      ]
    },
    {
      "cell_type": "code",
      "metadata": {
        "id": "8O1eM9e713E8",
        "colab": {
          "base_uri": "https://localhost:8080/"
        },
        "outputId": "cc969ef1-5ded-4ca4-a1c8-5e55c24d9efb"
      },
      "source": [
        "consulta = 'necesito cambiar mi contraseña de mi cuenta de estudiante y no me envían el mail correspondiente para hacer el cambio de contraseña. '\n",
        "\n",
        "correos_etiquetados, id = modificar_clase(correos_etiquetados, consulta, 'Problemas con la Clave')\n",
        "print(f'Se modifica el indice {id}.')"
      ],
      "execution_count": 83,
      "outputs": [
        {
          "output_type": "stream",
          "name": "stdout",
          "text": [
            "Se modifica el indice 621.\n"
          ]
        }
      ]
    },
    {
      "cell_type": "code",
      "metadata": {
        "id": "3N0ZQyyd13Kz",
        "colab": {
          "base_uri": "https://localhost:8080/"
        },
        "outputId": "ebd3bbcb-5916-4aef-ad87-5a0d6a359bdd"
      },
      "source": [
        "consulta = 'hola buenas tardes mi consulta es para hacer  el cambio de clave que no me llega a la casilla de correos para poder seguir con el procedimiento, no se será un problema en el sistema o si es por mi correo. gracias '\n",
        "\n",
        "correos_etiquetados, id = modificar_clase(correos_etiquetados, consulta, 'Problemas con la Clave')\n",
        "print(f'Se modifica el indice {id}.')"
      ],
      "execution_count": 84,
      "outputs": [
        {
          "output_type": "stream",
          "name": "stdout",
          "text": [
            "Se modifica el indice 622.\n"
          ]
        }
      ]
    },
    {
      "cell_type": "code",
      "metadata": {
        "id": "VRKkRWuS13Nm",
        "colab": {
          "base_uri": "https://localhost:8080/"
        },
        "outputId": "27e5d1b6-cd4e-4390-bae4-3b74e0a7ec99"
      },
      "source": [
        "consulta = 'el motivo de mi consulta es que no recuerdo mi clave de estudiante, hice el tramite para restablecerla y no me llega ni un mail a mi correo. como lo puedo solucionar?. muchas gracias. '\n",
        "\n",
        "correos_etiquetados, id = modificar_clase(correos_etiquetados, consulta, 'Problemas con la Clave')\n",
        "print(f'Se modifica el indice {id}.')"
      ],
      "execution_count": 85,
      "outputs": [
        {
          "output_type": "stream",
          "name": "stdout",
          "text": [
            "Se modifica el indice 633.\n"
          ]
        }
      ]
    },
    {
      "cell_type": "code",
      "metadata": {
        "id": "B_-WeDLS13QG",
        "colab": {
          "base_uri": "https://localhost:8080/"
        },
        "outputId": "d106b7b5-3e8f-4998-e712-2ee04f1afb2d"
      },
      "source": [
        "consulta = 'holaa como estan me olvide mi clave la restableci pero no me llego ningun correo y ahora nose como hacer porque me tenia que anotar esta semana a la asignaturas porfavor como hago. '\n",
        "\n",
        "correos_etiquetados, id = modificar_clase(correos_etiquetados, consulta, 'Problemas con la Clave')\n",
        "print(f'Se modifica el indice {id}.')"
      ],
      "execution_count": 86,
      "outputs": [
        {
          "output_type": "stream",
          "name": "stdout",
          "text": [
            "Se modifica el indice 636.\n"
          ]
        }
      ]
    },
    {
      "cell_type": "code",
      "metadata": {
        "id": "PZcDDXz616lc",
        "colab": {
          "base_uri": "https://localhost:8080/"
        },
        "outputId": "449738d5-0a2d-4499-9e1e-e36b218cfff2"
      },
      "source": [
        "consulta = 'buenas tardes!! hice una solicitud de restablecimiento de clave, me enviaron el e-mail correspondiente pero cuando hago la busqueda de la pagina me dice &quot; no se han encontrado resultados para tu búsqueda&quot;, hay problemas con las paginas, como tengo que hacer inscribirme??  desde ya muchas gracias  '\n",
        "\n",
        "correos_etiquetados, id = modificar_clase(correos_etiquetados, consulta, 'Problemas con la Clave')\n",
        "print(f'Se modifica el indice {id}.')"
      ],
      "execution_count": 87,
      "outputs": [
        {
          "output_type": "stream",
          "name": "stdout",
          "text": [
            "Se modifica el indice 637.\n"
          ]
        }
      ]
    },
    {
      "cell_type": "code",
      "metadata": {
        "id": "Fx1j6ljE16r2",
        "colab": {
          "base_uri": "https://localhost:8080/"
        },
        "outputId": "9f005ef3-c003-49ed-b8c6-0c8b2ea1ecdf"
      },
      "source": [
        "consulta = 'hola hace dos años tuve que abandonar la carrera, por trabajo y quisiera retomarla que tramite puedo hacer. muchas gracias saludos  '\n",
        "\n",
        "correos_etiquetados, id = modificar_clase(correos_etiquetados, consulta, 'Reincorporación')\n",
        "print(f'Se modifica el indice {id}.')"
      ],
      "execution_count": 88,
      "outputs": [
        {
          "output_type": "stream",
          "name": "stdout",
          "text": [
            "Se modifica el indice 643.\n"
          ]
        }
      ]
    },
    {
      "cell_type": "code",
      "metadata": {
        "id": "iaAW0y5s16xS",
        "colab": {
          "base_uri": "https://localhost:8080/"
        },
        "outputId": "400703c4-878c-4573-a83e-d30bc7c68dd9"
      },
      "source": [
        "consulta = 'no puedo inscribirme en las materias del primer cuatrimestre. por favor necesito alguna respuesta ya que las fechas de inscripción están por terminar.  '\n",
        "\n",
        "correos_etiquetados, id = modificar_clase(correos_etiquetados, consulta, 'Cursadas')\n",
        "print(f'Se modifica el indice {id}.')"
      ],
      "execution_count": 89,
      "outputs": [
        {
          "output_type": "stream",
          "name": "stdout",
          "text": [
            "Se modifica el indice 644.\n"
          ]
        }
      ]
    },
    {
      "cell_type": "code",
      "metadata": {
        "id": "d8PN_2NG161w",
        "colab": {
          "base_uri": "https://localhost:8080/"
        },
        "outputId": "5da2b50f-e981-429a-cd66-33dd4fb43f01"
      },
      "source": [
        "consulta = 'me quiero reincorporar y mo se como hacer. que hago? '\n",
        "\n",
        "correos_etiquetados, id = modificar_clase(correos_etiquetados, consulta, 'Reincorporación')\n",
        "print(f'Se modifica el indice {id}.')"
      ],
      "execution_count": 90,
      "outputs": [
        {
          "output_type": "stream",
          "name": "stdout",
          "text": [
            "Se modifica el indice 653.\n"
          ]
        }
      ]
    },
    {
      "cell_type": "code",
      "metadata": {
        "id": "M0MDOyUD168U",
        "colab": {
          "base_uri": "https://localhost:8080/"
        },
        "outputId": "a1aee883-3106-4b0d-d0af-568f8accacd3"
      },
      "source": [
        "consulta = 'buenos días!. desde el domingo quiero entrar a mi información académica pero me pidió cambio de clave y no me deja entrar con la clave nueva; hago el trámite para recuperar la contraseña y no me envía el e-mail a mi casilla de correo. necesito acceder para anotarme en los exámenes finales. gracias. '\n",
        "\n",
        "correos_etiquetados, id = modificar_clase(correos_etiquetados, consulta, 'Problemas con la Clave')\n",
        "print(f'Se modifica el indice {id}.')"
      ],
      "execution_count": 91,
      "outputs": [
        {
          "output_type": "stream",
          "name": "stdout",
          "text": [
            "Se modifica el indice 675.\n"
          ]
        }
      ]
    },
    {
      "cell_type": "code",
      "metadata": {
        "id": "0dN1YpiK13S9",
        "colab": {
          "base_uri": "https://localhost:8080/"
        },
        "outputId": "29bed75a-a51f-44b3-8947-f420b7448890"
      },
      "source": [
        "consulta = 'no recibo el mail para restablecer mi usuario y contraseña '\n",
        "\n",
        "correos_etiquetados, id = modificar_clase(correos_etiquetados, consulta, 'Problemas con la Clave')\n",
        "print(f'Se modifica el indice {id}.')"
      ],
      "execution_count": 92,
      "outputs": [
        {
          "output_type": "stream",
          "name": "stdout",
          "text": [
            "Se modifica el indice 676.\n"
          ]
        }
      ]
    },
    {
      "cell_type": "code",
      "metadata": {
        "id": "szhdOwvw9QzG",
        "colab": {
          "base_uri": "https://localhost:8080/"
        },
        "outputId": "30a10524-8926-4c46-c1d4-00dbf0d9ff10"
      },
      "source": [
        "consulta = 'buenas tardes, me comunico por que no puedo restablecer mi contraseña para anotarme en las materia, no me envia el mail a mi casilla. gracias y saludos. '\n",
        "\n",
        "correos_etiquetados, id = modificar_clase(correos_etiquetados, consulta, 'Problemas con la Clave')\n",
        "print(f'Se modifica el indice {id}.')"
      ],
      "execution_count": 93,
      "outputs": [
        {
          "output_type": "stream",
          "name": "stdout",
          "text": [
            "Se modifica el indice 680.\n"
          ]
        }
      ]
    },
    {
      "cell_type": "code",
      "metadata": {
        "id": "Ea28heIn9Q2x",
        "colab": {
          "base_uri": "https://localhost:8080/"
        },
        "outputId": "89e93773-0c54-420a-841d-3725cfbd1e53"
      },
      "source": [
        "consulta = 'el motivo de mi consulta es: el sistema me dice que no cumplo con los requisitos para ingresar al sistema quisiera saber a qué se debe, que faltaría para que pueda ingresar a inscribirme siendo que soy alumno regular, gracias espero su respuesta '\n",
        "\n",
        "correos_etiquetados, id = modificar_clase(correos_etiquetados, consulta, 'Requisitos de Ingreso')\n",
        "print(f'Se modifica el indice {id}.')"
      ],
      "execution_count": 94,
      "outputs": [
        {
          "output_type": "stream",
          "name": "stdout",
          "text": [
            "Se modifica el indice 695.\n"
          ]
        }
      ]
    },
    {
      "cell_type": "code",
      "metadata": {
        "id": "QK8mK7IY9Q5r",
        "colab": {
          "base_uri": "https://localhost:8080/"
        },
        "outputId": "860264ce-35f7-4630-dbad-e904eb74f7e8"
      },
      "source": [
        "consulta = 'buenos días. me interesa hacer el reingreso a la carrera, y anotarme en las materias 30022 y 30024. olvidé la contraseña y no me llega el mail para reestablecerla. gracias  '\n",
        "\n",
        "correos_etiquetados, id = modificar_clase(correos_etiquetados, consulta, 'Problemas con la Clave')\n",
        "print(f'Se modifica el indice {id}.')"
      ],
      "execution_count": 95,
      "outputs": [
        {
          "output_type": "stream",
          "name": "stdout",
          "text": [
            "Se modifica el indice 697.\n"
          ]
        }
      ]
    },
    {
      "cell_type": "code",
      "metadata": {
        "id": "LQaE5vZY9Q8y",
        "colab": {
          "base_uri": "https://localhost:8080/"
        },
        "outputId": "fb5fc077-066f-4274-88fa-17fd17e4efd1"
      },
      "source": [
        "consulta = 'buenas tardes, me anote al final de administración del 19/12 pero necesitaría cambiarlo al de 21/12. esto puede ser posible? gracias saludos '\n",
        "\n",
        "correos_etiquetados, id = modificar_clase(correos_etiquetados, consulta, 'Exámenes')\n",
        "print(f'Se modifica el indice {id}.')"
      ],
      "execution_count": 96,
      "outputs": [
        {
          "output_type": "stream",
          "name": "stdout",
          "text": [
            "Se modifica el indice 700.\n"
          ]
        }
      ]
    },
    {
      "cell_type": "code",
      "metadata": {
        "id": "JbfnY23e9RAk",
        "colab": {
          "base_uri": "https://localhost:8080/"
        },
        "outputId": "af8e805c-5e03-48a9-f8bf-a8e519dac76f"
      },
      "source": [
        "consulta = 'no estoy podiendo ingresar a mi cuenta para poder inscribirme y he solicitado el restablecimiento de la contraseña pero no me llegó el meil!! '\n",
        "\n",
        "correos_etiquetados, id = modificar_clase(correos_etiquetados, consulta, 'Problemas con la Clave')\n",
        "print(f'Se modifica el indice {id}.')"
      ],
      "execution_count": 97,
      "outputs": [
        {
          "output_type": "stream",
          "name": "stdout",
          "text": [
            "Se modifica el indice 702.\n"
          ]
        }
      ]
    },
    {
      "cell_type": "code",
      "metadata": {
        "id": "B81_hgVt9RDb",
        "colab": {
          "base_uri": "https://localhost:8080/"
        },
        "outputId": "98e88e59-690e-46cc-9eb1-53d4a19e6636"
      },
      "source": [
        "consulta = 'olvide mi contraseña para entrar y necesito hacerlo para corroborar fecha de defensa de trabajo final, según me dijeron cuando me llamaron. llene el formulario pero por mail no me llego nada para reactivar la cuenta y cambiar la contraseña '\n",
        "\n",
        "correos_etiquetados, id = modificar_clase(correos_etiquetados, consulta, 'Problemas con la Clave')\n",
        "print(f'Se modifica el indice {id}.')"
      ],
      "execution_count": 98,
      "outputs": [
        {
          "output_type": "stream",
          "name": "stdout",
          "text": [
            "Se modifica el indice 716.\n"
          ]
        }
      ]
    },
    {
      "cell_type": "code",
      "metadata": {
        "id": "aAri1gao9RGf",
        "colab": {
          "base_uri": "https://localhost:8080/"
        },
        "outputId": "fd81ecc3-0442-452d-a19f-fb0c85aebb77"
      },
      "source": [
        "consulta = 'quiero anotarme en las materias, y me dice que no soy alumna regular. que me mandaron un email pero no me llegó nada. cómo puedo hacer ? '\n",
        "\n",
        "correos_etiquetados, id = modificar_clase(correos_etiquetados, consulta, 'Reincorporación')\n",
        "print(f'Se modifica el indice {id}.')"
      ],
      "execution_count": 99,
      "outputs": [
        {
          "output_type": "stream",
          "name": "stdout",
          "text": [
            "Se modifica el indice 720.\n"
          ]
        }
      ]
    },
    {
      "cell_type": "code",
      "metadata": {
        "id": "_TwaOnBd9RJF",
        "colab": {
          "base_uri": "https://localhost:8080/"
        },
        "outputId": "32fec01e-220f-4fcc-fc0f-3774c997cc4d"
      },
      "source": [
        "consulta = 'buenas, hoy intenté cambiar la contraseña de para entrar a mi situación académica y cuando completo el formulario para que me manden el mail nunca me llegó, lo hice 2 veces y me decía que ya se había mandado antes. paso más de 1 hora y nada, tengo 2 mail y no llego a ninguno de los 2. gracias '\n",
        "\n",
        "correos_etiquetados, id = modificar_clase(correos_etiquetados, consulta, 'Problemas con la Clave')\n",
        "print(f'Se modifica el indice {id}.')"
      ],
      "execution_count": 100,
      "outputs": [
        {
          "output_type": "stream",
          "name": "stdout",
          "text": [
            "Se modifica el indice 722.\n"
          ]
        }
      ]
    },
    {
      "cell_type": "code",
      "metadata": {
        "id": "JG9U6gqM9RMX",
        "colab": {
          "base_uri": "https://localhost:8080/"
        },
        "outputId": "8073db11-8d54-43ca-d401-ad626ae05a6b"
      },
      "source": [
        "consulta = 'hola buenas tardes..la semana pasada fui a la universidad a inscribirme, me dijeron que me tiene que llegar un gmail con las materias y horarios...la cueation es que aun no me llega nada...quisiera saber cuando se empieza acursar las materias? es por eso que estoy interesada en que me llege el correo '\n",
        "\n",
        "correos_etiquetados, id = modificar_clase(correos_etiquetados, consulta, 'Ingreso a la Universidad')\n",
        "print(f'Se modifica el indice {id}.')"
      ],
      "execution_count": 101,
      "outputs": [
        {
          "output_type": "stream",
          "name": "stdout",
          "text": [
            "Se modifica el indice 727.\n"
          ]
        }
      ]
    },
    {
      "cell_type": "code",
      "metadata": {
        "id": "80WnVyFf9RPO",
        "colab": {
          "base_uri": "https://localhost:8080/"
        },
        "outputId": "81470e21-487a-49eb-94f1-35041d9138ec"
      },
      "source": [
        "consulta = 'porque no puedo inscribirme para empezar a cursar ?  '\n",
        "\n",
        "correos_etiquetados, id = modificar_clase(correos_etiquetados, consulta, 'Cursadas')\n",
        "print(f'Se modifica el indice {id}.')"
      ],
      "execution_count": 102,
      "outputs": [
        {
          "output_type": "stream",
          "name": "stdout",
          "text": [
            "Se modifica el indice 729.\n"
          ]
        }
      ]
    },
    {
      "cell_type": "code",
      "metadata": {
        "id": "g_XKqxl59RRo",
        "colab": {
          "base_uri": "https://localhost:8080/"
        },
        "outputId": "e75365a9-3667-4649-f035-4547f913e9ce"
      },
      "source": [
        "consulta = 'hola quiero inscribirme para este cuatrimestre a una materia y me dice que no estoy regular, que supuestamente inicié un trámite para estar regular, que mire mi mail y no encontré ningún mail y necesito inscribirme.  como hago? '\n",
        "\n",
        "correos_etiquetados, id = modificar_clase(correos_etiquetados, consulta, 'Reincorporación')\n",
        "print(f'Se modifica el indice {id}.')"
      ],
      "execution_count": 103,
      "outputs": [
        {
          "output_type": "stream",
          "name": "stdout",
          "text": [
            "Se modifica el indice 736.\n"
          ]
        }
      ]
    },
    {
      "cell_type": "code",
      "metadata": {
        "id": "BtuDnuRiDcdG",
        "colab": {
          "base_uri": "https://localhost:8080/"
        },
        "outputId": "6dd949b9-0f74-467c-97af-fd3991d749dd"
      },
      "source": [
        "consulta = 'si presento el analitico de la universidad del salvador con las 25 materias que tengo aprobadas de la carrera abogacia podre eximirme de realizar el curso de ingreso? el lunes me voy a acercar para hacer la inscripcion tardia.  si no hago el curso este mes puedo empezar la cursada de la carrera igual y en caso de no prosperar por razones de tiempos administrativos el reconocimiento del analitico de la usal, puedo hacer el curso en julio? gracias por su respuesta! '\n",
        "\n",
        "correos_etiquetados, id = modificar_clase(correos_etiquetados, consulta, 'Ingreso a la Universidad')\n",
        "print(f'Se modifica el indice {id}.')"
      ],
      "execution_count": 104,
      "outputs": [
        {
          "output_type": "stream",
          "name": "stdout",
          "text": [
            "Se modifica el indice 739.\n"
          ]
        }
      ]
    },
    {
      "cell_type": "code",
      "metadata": {
        "id": "fRu2OYtkDfjN",
        "colab": {
          "base_uri": "https://localhost:8080/"
        },
        "outputId": "a0f904fd-56f4-4e25-b7af-4f0fb0d0a2f8"
      },
      "source": [
        "consulta = 'hola no puedo ingresar al perfil de estudiante para anotarme a final de elementos '\n",
        "\n",
        "correos_etiquetados, id = modificar_clase(correos_etiquetados, consulta, 'Exámenes')\n",
        "print(f'Se modifica el indice {id}.')"
      ],
      "execution_count": 105,
      "outputs": [
        {
          "output_type": "stream",
          "name": "stdout",
          "text": [
            "Se modifica el indice 742.\n"
          ]
        }
      ]
    },
    {
      "cell_type": "code",
      "metadata": {
        "id": "JxKIYER-Dfmv",
        "colab": {
          "base_uri": "https://localhost:8080/"
        },
        "outputId": "59f71462-c986-4bd3-846b-4506c328f2b8"
      },
      "source": [
        "consulta = 'por razones laborales y personales no pude inscribirme en tiempo en la carrera. necesitaria no perder la solicitud de reinscripción, ya que a su vez perdí la regularidad. muchas gracias, estoy a su disposición.                       jésica cudugnello '\n",
        "\n",
        "correos_etiquetados, id = modificar_clase(correos_etiquetados, consulta, 'Reincorporación')\n",
        "print(f'Se modifica el indice {id}.')"
      ],
      "execution_count": 106,
      "outputs": [
        {
          "output_type": "stream",
          "name": "stdout",
          "text": [
            "Se modifica el indice 748.\n"
          ]
        }
      ]
    },
    {
      "cell_type": "code",
      "metadata": {
        "id": "-1OgADu7DfqK",
        "colab": {
          "base_uri": "https://localhost:8080/"
        },
        "outputId": "36d533ce-c897-40c4-9928-f79541474323"
      },
      "source": [
        "consulta = 'hola que tal?queria consultar porque no puedo regenerar mi clave.ya llene el formulario de regeneramiento de clave pero igualmente no me deja. espero su respuesta gracias. '\n",
        "\n",
        "correos_etiquetados, id = modificar_clase(correos_etiquetados, consulta, 'Problemas con la Clave')\n",
        "print(f'Se modifica el indice {id}.')"
      ],
      "execution_count": 107,
      "outputs": [
        {
          "output_type": "stream",
          "name": "stdout",
          "text": [
            "Se modifica el indice 752.\n"
          ]
        }
      ]
    },
    {
      "cell_type": "code",
      "metadata": {
        "id": "Kmvq7EuKDfvn",
        "colab": {
          "base_uri": "https://localhost:8080/"
        },
        "outputId": "160458e2-38af-4ca3-d7a3-9eed74913511"
      },
      "source": [
        "consulta = 'no me puedo anotar a las cursadas soy aspirante   '\n",
        "\n",
        "correos_etiquetados, id = modificar_clase(correos_etiquetados, consulta, 'Cursadas')\n",
        "print(f'Se modifica el indice {id}.')"
      ],
      "execution_count": 108,
      "outputs": [
        {
          "output_type": "stream",
          "name": "stdout",
          "text": [
            "Se modifica el indice 753.\n"
          ]
        }
      ]
    },
    {
      "cell_type": "code",
      "metadata": {
        "id": "Y4Ldj_hgDf7g",
        "colab": {
          "base_uri": "https://localhost:8080/"
        },
        "outputId": "fe8756fd-5b22-410d-b599-36f1761eb686"
      },
      "source": [
        "consulta = 'hola, quería hacer una consulta. yo tengo titulo de lic. en nutrición en la uba y curso actualmente ing. en alimentos en unlu, quería saber que documentación  tengo que presentar para pedir equivalencia por algunas materias. gracias  '\n",
        "\n",
        "correos_etiquetados, id = modificar_clase(correos_etiquetados, consulta, 'Consulta por Equivalencias')\n",
        "print(f'Se modifica el indice {id}.')"
      ],
      "execution_count": 109,
      "outputs": [
        {
          "output_type": "stream",
          "name": "stdout",
          "text": [
            "Se modifica el indice 754.\n"
          ]
        }
      ]
    },
    {
      "cell_type": "code",
      "metadata": {
        "id": "e9tbjcMBDf_g",
        "colab": {
          "base_uri": "https://localhost:8080/"
        },
        "outputId": "03aeb662-90f3-4cab-8f4c-622925a7e359"
      },
      "source": [
        "consulta = 'por que no me puedo inscribir a las materias. es urgente. es el ultimo dia que puedo hacerlo '\n",
        "\n",
        "correos_etiquetados, id = modificar_clase(correos_etiquetados, consulta, 'Cursadas')\n",
        "print(f'Se modifica el indice {id}.')"
      ],
      "execution_count": 110,
      "outputs": [
        {
          "output_type": "stream",
          "name": "stdout",
          "text": [
            "Se modifica el indice 757.\n"
          ]
        }
      ]
    },
    {
      "cell_type": "code",
      "metadata": {
        "id": "hoxRlxhADgDD",
        "colab": {
          "base_uri": "https://localhost:8080/"
        },
        "outputId": "e6b3894d-0d02-497f-8b87-eb1f3bfd3b94"
      },
      "source": [
        "consulta = 'hola buenas tarde! le hago esta consulta porque quiero ingresar para anotarme en las materias y me dice que el numero de legajo o contraseña son incorrectas. pongo olvide mi clave pero nunca me llego al mail la solicitud para cambiarla. espero que me puedan dar una respuesta, muchas gracias! '\n",
        "\n",
        "correos_etiquetados, id = modificar_clase(correos_etiquetados, consulta, 'Problemas con la Clave')\n",
        "print(f'Se modifica el indice {id}.')"
      ],
      "execution_count": 111,
      "outputs": [
        {
          "output_type": "stream",
          "name": "stdout",
          "text": [
            "Se modifica el indice 764.\n"
          ]
        }
      ]
    },
    {
      "cell_type": "code",
      "metadata": {
        "id": "fv0jCr2ZDchm",
        "colab": {
          "base_uri": "https://localhost:8080/"
        },
        "outputId": "6ca086dc-c8b1-47fe-9510-7a5dafc77dab"
      },
      "source": [
        "consulta = 'buenas tardes queria ssber por que no logro anotarme en las asignaturas del cuatrimestre..?? muchas gracias '\n",
        "\n",
        "correos_etiquetados, id = modificar_clase(correos_etiquetados, consulta, 'Cursadas')\n",
        "print(f'Se modifica el indice {id}.')"
      ],
      "execution_count": 112,
      "outputs": [
        {
          "output_type": "stream",
          "name": "stdout",
          "text": [
            "Se modifica el indice 769.\n"
          ]
        }
      ]
    },
    {
      "cell_type": "code",
      "metadata": {
        "id": "i0-vGJRgDclj",
        "colab": {
          "base_uri": "https://localhost:8080/"
        },
        "outputId": "8a0930ec-75a6-4322-84a0-760f894dc090"
      },
      "source": [
        "consulta = 'hola, mi consulta es la siguiente... me presenté a 3 fechas de final y no logré aprobarlas, puedo cursar la materia que le sigue el cuatrimestre que viene a pesar de que no tengo aprobada a su correlativa? muchas gracias y espero su respuesta '\n",
        "\n",
        "correos_etiquetados, id = modificar_clase(correos_etiquetados, consulta, 'Cursadas')\n",
        "print(f'Se modifica el indice {id}.')"
      ],
      "execution_count": 113,
      "outputs": [
        {
          "output_type": "stream",
          "name": "stdout",
          "text": [
            "Se modifica el indice 778.\n"
          ]
        }
      ]
    },
    {
      "cell_type": "code",
      "metadata": {
        "id": "50-DSg_vDcou",
        "colab": {
          "base_uri": "https://localhost:8080/"
        },
        "outputId": "d8901ddd-768c-4276-f324-063716942110"
      },
      "source": [
        "consulta = 'hola quería consultar un problema que tengo cuando quiero ingresar para inscribirme en las materias del primer cuatrimestre,me dise que no tengo los requisitos para poder inscribirme,y  pero ya presente todos los papeles  que puede ser?  '\n",
        "\n",
        "correos_etiquetados, id = modificar_clase(correos_etiquetados, consulta, 'Requisitos de Ingreso')\n",
        "print(f'Se modifica el indice {id}.')"
      ],
      "execution_count": 114,
      "outputs": [
        {
          "output_type": "stream",
          "name": "stdout",
          "text": [
            "Se modifica el indice 781.\n"
          ]
        }
      ]
    },
    {
      "cell_type": "code",
      "metadata": {
        "id": "XMGZyuAsDcsI",
        "colab": {
          "base_uri": "https://localhost:8080/"
        },
        "outputId": "3e3dbfc7-f70f-431e-f324-4506b646314e"
      },
      "source": [
        "consulta = 'no me está dejando ingresar para anotarme a cursada , no me llega el mail para ingresar con clave nueva  '\n",
        "\n",
        "correos_etiquetados, id = modificar_clase(correos_etiquetados, consulta, 'Problemas con la Clave')\n",
        "print(f'Se modifica el indice {id}.')"
      ],
      "execution_count": 115,
      "outputs": [
        {
          "output_type": "stream",
          "name": "stdout",
          "text": [
            "Se modifica el indice 790.\n"
          ]
        }
      ]
    },
    {
      "cell_type": "code",
      "metadata": {
        "id": "PqnM16JlDcvf",
        "colab": {
          "base_uri": "https://localhost:8080/"
        },
        "outputId": "0e3dc942-9d78-4084-ae7f-22b8b0b18821"
      },
      "source": [
        "consulta = 'hola . olvidé mi clave. ingreso a la opción olvido su clave? completo los campos solicitados y menciona q me va a llegar un correo.sin embargo no he recibido ningún mail . gracias '\n",
        "\n",
        "correos_etiquetados, id = modificar_clase(correos_etiquetados, consulta, 'Problemas con la Clave')\n",
        "print(f'Se modifica el indice {id}.')"
      ],
      "execution_count": 116,
      "outputs": [
        {
          "output_type": "stream",
          "name": "stdout",
          "text": [
            "Se modifica el indice 811.\n"
          ]
        }
      ]
    },
    {
      "cell_type": "code",
      "metadata": {
        "id": "ICPa38jpDczb",
        "colab": {
          "base_uri": "https://localhost:8080/"
        },
        "outputId": "12d43a64-a1aa-4ddb-9d05-ff011ad88c4d"
      },
      "source": [
        "consulta = 'me olvide la contraseña y la necesito para poder saber la fechas de finales '\n",
        "\n",
        "correos_etiquetados, id = modificar_clase(correos_etiquetados, consulta, 'Problemas con la Clave')\n",
        "print(f'Se modifica el indice {id}.')"
      ],
      "execution_count": 117,
      "outputs": [
        {
          "output_type": "stream",
          "name": "stdout",
          "text": [
            "Se modifica el indice 813.\n"
          ]
        }
      ]
    },
    {
      "cell_type": "code",
      "metadata": {
        "id": "BXa6wf-0ImSC",
        "colab": {
          "base_uri": "https://localhost:8080/"
        },
        "outputId": "b4ceeacd-e6fd-43ce-d384-4614d6250a23"
      },
      "source": [
        "consulta = 'quería consultar porque no me deja ingresar a mi cuenta, me quiero anotar en materias y  ya se me pasa el tiempo de inscripción... gracias  '\n",
        "\n",
        "correos_etiquetados, id = modificar_clase(correos_etiquetados, consulta, 'Cursadas')\n",
        "print(f'Se modifica el indice {id}.')"
      ],
      "execution_count": 118,
      "outputs": [
        {
          "output_type": "stream",
          "name": "stdout",
          "text": [
            "Se modifica el indice 823.\n"
          ]
        }
      ]
    },
    {
      "cell_type": "code",
      "metadata": {
        "id": "UiYXmgS4IoU1",
        "colab": {
          "base_uri": "https://localhost:8080/"
        },
        "outputId": "cd1e5ef0-2f80-4ea5-c9e4-6dc115e17563"
      },
      "source": [
        "consulta = 'hola buenos dias , el email para modificar la contraseña . no llega ! saludos '\n",
        "\n",
        "correos_etiquetados, id = modificar_clase(correos_etiquetados, consulta, 'Problemas con la Clave')\n",
        "print(f'Se modifica el indice {id}.')"
      ],
      "execution_count": 119,
      "outputs": [
        {
          "output_type": "stream",
          "name": "stdout",
          "text": [
            "Se modifica el indice 841.\n"
          ]
        }
      ]
    },
    {
      "cell_type": "code",
      "metadata": {
        "id": "A3AvizuQIoX5",
        "colab": {
          "base_uri": "https://localhost:8080/"
        },
        "outputId": "f17c9d29-75a4-4489-c431-24ecd0ea8d35"
      },
      "source": [
        "consulta = 'buen dia, ayer puse mi contraseña mal mas de tres veces, por lo tanto se me bloqueo la cuenta y luego de esperar los 30 minutos volvi ya poner mi contraseña y estaba mal. solocite el cambio de contraseña y estoy a la espera de que me llegue jn mail que nunca me llegó. que debo hacer?  '\n",
        "\n",
        "correos_etiquetados, id = modificar_clase(correos_etiquetados, consulta, 'Problemas con la Clave')\n",
        "print(f'Se modifica el indice {id}.')"
      ],
      "execution_count": 120,
      "outputs": [
        {
          "output_type": "stream",
          "name": "stdout",
          "text": [
            "Se modifica el indice 845.\n"
          ]
        }
      ]
    },
    {
      "cell_type": "code",
      "metadata": {
        "id": "NKIDPtUYIobB",
        "colab": {
          "base_uri": "https://localhost:8080/"
        },
        "outputId": "ddc039f9-b6fd-4166-dd0d-512d419e35ae"
      },
      "source": [
        "consulta = 'no puedo reestablecer mi contraseña no me llega el email '\n",
        "\n",
        "correos_etiquetados, id = modificar_clase(correos_etiquetados, consulta, 'Problemas con la Clave')\n",
        "print(f'Se modifica el indice {id}.')"
      ],
      "execution_count": 121,
      "outputs": [
        {
          "output_type": "stream",
          "name": "stdout",
          "text": [
            "Se modifica el indice 871.\n"
          ]
        }
      ]
    },
    {
      "cell_type": "code",
      "metadata": {
        "id": "a_ix7PXJIoeq",
        "colab": {
          "base_uri": "https://localhost:8080/"
        },
        "outputId": "6b961404-ebfc-4687-a5ad-a689638f88ab"
      },
      "source": [
        "consulta = 'hola yo no puedo entrar para anotarme en los talleres y cambiar la clave nos por que  no puedo entrar  '\n",
        "\n",
        "correos_etiquetados, id = modificar_clase(correos_etiquetados, consulta, 'Problemas con la Clave')\n",
        "print(f'Se modifica el indice {id}.')"
      ],
      "execution_count": 122,
      "outputs": [
        {
          "output_type": "stream",
          "name": "stdout",
          "text": [
            "Se modifica el indice 878.\n"
          ]
        }
      ]
    },
    {
      "cell_type": "code",
      "metadata": {
        "id": "9LCy22Z7IohL",
        "colab": {
          "base_uri": "https://localhost:8080/"
        },
        "outputId": "1a54ec12-74c2-4313-e432-becd6b02dd32"
      },
      "source": [
        "consulta = 'hola buenas noches necesito saber   que hice mal al llenar los formularios de preincripcion ya que quise ingresar a acceso para aspirantes y dice que no estoy registrada '\n",
        "\n",
        "correos_etiquetados, id = modificar_clase(correos_etiquetados, consulta, 'Ingreso a la Universidad')\n",
        "print(f'Se modifica el indice {id}.')"
      ],
      "execution_count": 123,
      "outputs": [
        {
          "output_type": "stream",
          "name": "stdout",
          "text": [
            "Se modifica el indice 880.\n"
          ]
        }
      ]
    },
    {
      "cell_type": "code",
      "metadata": {
        "id": "rdrjIayWIoki",
        "colab": {
          "base_uri": "https://localhost:8080/"
        },
        "outputId": "66018d69-c969-4fdd-8d17-336f85b48206"
      },
      "source": [
        "consulta = 'no me puedo inscribir para rendir las materias  '\n",
        "\n",
        "correos_etiquetados, id = modificar_clase(correos_etiquetados, consulta, 'Exámenes')\n",
        "print(f'Se modifica el indice {id}.')"
      ],
      "execution_count": 124,
      "outputs": [
        {
          "output_type": "stream",
          "name": "stdout",
          "text": [
            "Se modifica el indice 891.\n"
          ]
        }
      ]
    },
    {
      "cell_type": "code",
      "metadata": {
        "id": "MW_tVXf4Ion4",
        "colab": {
          "base_uri": "https://localhost:8080/"
        },
        "outputId": "37621dc0-4f91-4c80-9304-526f2a395682"
      },
      "source": [
        "consulta = 'buenos días! mi pregunta es la siguiente, hoy rendí el recuperatorio de matemáticas 2 y quede regular, yo quiero saber cuando me puedo inscribir por web para dar el final el día 22. hasta cuando tengo tiempo de anotarme? desde ya muchas gracias! '\n",
        "\n",
        "correos_etiquetados, id = modificar_clase(correos_etiquetados, consulta, 'Exámenes')\n",
        "print(f'Se modifica el indice {id}.')"
      ],
      "execution_count": 125,
      "outputs": [
        {
          "output_type": "stream",
          "name": "stdout",
          "text": [
            "Se modifica el indice 902.\n"
          ]
        }
      ]
    },
    {
      "cell_type": "code",
      "metadata": {
        "id": "CpQVYsSnIoqu",
        "colab": {
          "base_uri": "https://localhost:8080/"
        },
        "outputId": "6de9cac0-1582-4d39-fff3-501bd05a495c"
      },
      "source": [
        "consulta = 'como ago para conseguir mi numero d legajo?  '\n",
        "\n",
        "correos_etiquetados, id = modificar_clase(correos_etiquetados, consulta, 'Consulta por Legajo')\n",
        "print(f'Se modifica el indice {id}.')"
      ],
      "execution_count": 126,
      "outputs": [
        {
          "output_type": "stream",
          "name": "stdout",
          "text": [
            "Se modifica el indice 908.\n"
          ]
        }
      ]
    },
    {
      "cell_type": "code",
      "metadata": {
        "id": "o2AxH9fnIotj",
        "colab": {
          "base_uri": "https://localhost:8080/"
        },
        "outputId": "b6266af6-7bbb-458f-ffc1-85c52e83ad33"
      },
      "source": [
        "consulta = 'hice la pre-inscripcion online en fecha, luego fui a llevar los papeles a la universidad y me dijeron que de a partir del 5 de febrero podia elegir las asignaturas online, pero hoy 14 de febrero, cuando voy a hacer la inscripcion me dice &quot;ud. no cumple con los requisitos necesarios para confirmar su inscripción a cursadas.&quot; y yo creo haber cumplido todos los requisitos. '\n",
        "\n",
        "correos_etiquetados, id = modificar_clase(correos_etiquetados, consulta, 'Requisitos de Ingreso')\n",
        "print(f'Se modifica el indice {id}.')"
      ],
      "execution_count": 127,
      "outputs": [
        {
          "output_type": "stream",
          "name": "stdout",
          "text": [
            "Se modifica el indice 910.\n"
          ]
        }
      ]
    },
    {
      "cell_type": "code",
      "metadata": {
        "id": "vwrQHJyQIoxC",
        "colab": {
          "base_uri": "https://localhost:8080/"
        },
        "outputId": "64ecf689-6175-4940-dcc1-6b4078fdf509"
      },
      "source": [
        "consulta = 'no me deja inscribirme a la cursadas '\n",
        "\n",
        "correos_etiquetados, id = modificar_clase(correos_etiquetados, consulta, 'Cursadas')\n",
        "print(f'Se modifica el indice {id}.')"
      ],
      "execution_count": 128,
      "outputs": [
        {
          "output_type": "stream",
          "name": "stdout",
          "text": [
            "Se modifica el indice 914.\n"
          ]
        }
      ]
    },
    {
      "cell_type": "code",
      "metadata": {
        "id": "BZTsPwKpIo1A",
        "colab": {
          "base_uri": "https://localhost:8080/"
        },
        "outputId": "7111bd29-7141-45c3-9482-600d1712cfa8"
      },
      "source": [
        "consulta = 'cuando voy a ingresar a la pagina para  accesos de aspirantes y ingreso mi documento, me aparece &quot;no existen datos para el aspirante ingresado.&quot; y yo si soy un aspirante ingresado '\n",
        "\n",
        "correos_etiquetados, id = modificar_clase(correos_etiquetados, consulta, 'Ingreso a la Universidad')\n",
        "print(f'Se modifica el indice {id}.')"
      ],
      "execution_count": 129,
      "outputs": [
        {
          "output_type": "stream",
          "name": "stdout",
          "text": [
            "Se modifica el indice 926.\n"
          ]
        }
      ]
    },
    {
      "cell_type": "code",
      "metadata": {
        "id": "bm6w3kvaIo4e",
        "colab": {
          "base_uri": "https://localhost:8080/"
        },
        "outputId": "8e65f3e9-2cdd-4099-e8ca-bea0e8cc2584"
      },
      "source": [
        "consulta = 'buenos días! en octubre hice la inscripción para la carrera de contador publico!  la persona que me inscribio me dijo que masomenos en diciembre entrará como aspirante para así poder ver mi nro de comisión y el horario que me tocaría para el taller. intento ingresar como aspirante con mi nro de documento y me dice que no hay registros del aspirante o nro de documento ingresado '\n",
        "\n",
        "correos_etiquetados, id = modificar_clase(correos_etiquetados, consulta, 'Ingreso a la Universidad')\n",
        "print(f'Se modifica el indice {id}.')"
      ],
      "execution_count": 130,
      "outputs": [
        {
          "output_type": "stream",
          "name": "stdout",
          "text": [
            "Se modifica el indice 929.\n"
          ]
        }
      ]
    },
    {
      "cell_type": "code",
      "metadata": {
        "id": "fEJtGOqIIo7D",
        "colab": {
          "base_uri": "https://localhost:8080/"
        },
        "outputId": "379948db-46f6-42a2-e8fd-050e5248cbb5"
      },
      "source": [
        "consulta = 'buenas tardes, se me bloqueó la clave de acceso y cuando solicito reestablecer la misma no recibo el correo con la información. gracias, '\n",
        "\n",
        "correos_etiquetados, id = modificar_clase(correos_etiquetados, consulta, 'Problemas con la Clave')\n",
        "print(f'Se modifica el indice {id}.')"
      ],
      "execution_count": 131,
      "outputs": [
        {
          "output_type": "stream",
          "name": "stdout",
          "text": [
            "Se modifica el indice 950.\n"
          ]
        }
      ]
    },
    {
      "cell_type": "code",
      "metadata": {
        "id": "2SS1xAuVWh8r",
        "colab": {
          "base_uri": "https://localhost:8080/"
        },
        "outputId": "6c5c0140-eb5f-4988-d595-c37cf42fe83b"
      },
      "source": [
        "consulta = 'hola no me deja entrar con mi clave al servicio académico para estudiantes y ya pedí que me manden por correo para reestablecer la contraseña pero no me llega nada  '\n",
        "\n",
        "correos_etiquetados, id = modificar_clase(correos_etiquetados, consulta, 'Problemas con la Clave')\n",
        "print(f'Se modifica el indice {id}.')"
      ],
      "execution_count": 132,
      "outputs": [
        {
          "output_type": "stream",
          "name": "stdout",
          "text": [
            "Se modifica el indice 954.\n"
          ]
        }
      ]
    },
    {
      "cell_type": "code",
      "metadata": {
        "id": "B3dSDDPKWmkk",
        "colab": {
          "base_uri": "https://localhost:8080/"
        },
        "outputId": "ec5055aa-facf-4899-82fe-80f70a2d4e45"
      },
      "source": [
        "consulta = 'hola. me dirijo a quien corresponde ya que no recuerdo mi contraseña y tampoco me llega ningun mail como para reestablecer. agradeceria me puedan ayudar. gracias. '\n",
        "\n",
        "correos_etiquetados, id = modificar_clase(correos_etiquetados, consulta, 'Problemas con la Clave')\n",
        "print(f'Se modifica el indice {id}.')"
      ],
      "execution_count": 133,
      "outputs": [
        {
          "output_type": "stream",
          "name": "stdout",
          "text": [
            "Se modifica el indice 955.\n"
          ]
        }
      ]
    },
    {
      "cell_type": "code",
      "metadata": {
        "id": "0lHVogr2Wmvt",
        "colab": {
          "base_uri": "https://localhost:8080/"
        },
        "outputId": "d1e0f413-b0a2-46c9-848b-e86ee87bac94"
      },
      "source": [
        "consulta = 'buenas noches. solicito información sobre como gestionar la reincorporación a la carrera ya que perdí la regularidad y no recibí el mail para poder gestionarla.  saludos '\n",
        "\n",
        "correos_etiquetados, id = modificar_clase(correos_etiquetados, consulta, 'Reincorporación')\n",
        "print(f'Se modifica el indice {id}.')"
      ],
      "execution_count": 134,
      "outputs": [
        {
          "output_type": "stream",
          "name": "stdout",
          "text": [
            "Se modifica el indice 971.\n"
          ]
        }
      ]
    },
    {
      "cell_type": "code",
      "metadata": {
        "id": "Nrppo-RgWnIx",
        "colab": {
          "base_uri": "https://localhost:8080/"
        },
        "outputId": "df706acc-9a9e-42b7-b4ad-58a42bde590f"
      },
      "source": [
        "consulta = 'olvide mi clave y cuando quiero reestablecerla no llega a mi casilla ningún mail  '\n",
        "\n",
        "correos_etiquetados, id = modificar_clase(correos_etiquetados, consulta, 'Problemas con la Clave')\n",
        "print(f'Se modifica el indice {id}.')"
      ],
      "execution_count": 135,
      "outputs": [
        {
          "output_type": "stream",
          "name": "stdout",
          "text": [
            "Se modifica el indice 974.\n"
          ]
        }
      ]
    },
    {
      "cell_type": "code",
      "metadata": {
        "id": "v9eRJdLEWnMH",
        "colab": {
          "base_uri": "https://localhost:8080/"
        },
        "outputId": "142a435f-a251-4186-8154-76be53ace786"
      },
      "source": [
        "consulta = 'no me esta llegando la información para modificar la clave a mi correo personal y así poder ingresar,podrían verificar mi e-mail siempre me llego a este de contacto. '\n",
        "\n",
        "correos_etiquetados, id = modificar_clase(correos_etiquetados, consulta, 'Problemas con la Clave')\n",
        "print(f'Se modifica el indice {id}.')"
      ],
      "execution_count": 136,
      "outputs": [
        {
          "output_type": "stream",
          "name": "stdout",
          "text": [
            "Se modifica el indice 976.\n"
          ]
        }
      ]
    },
    {
      "cell_type": "code",
      "metadata": {
        "id": "ynxRZA8xWnPV",
        "colab": {
          "base_uri": "https://localhost:8080/"
        },
        "outputId": "4376a351-905f-4727-8500-91def1c09c5d"
      },
      "source": [
        "consulta = 'hola queria saber si las inscripción a las materias ya cerro , por he estado dos semanas sin poder acceder a internet  '\n",
        "\n",
        "correos_etiquetados, id = modificar_clase(correos_etiquetados, consulta, 'Cursadas')\n",
        "print(f'Se modifica el indice {id}.')"
      ],
      "execution_count": 137,
      "outputs": [
        {
          "output_type": "stream",
          "name": "stdout",
          "text": [
            "Se modifica el indice 978.\n"
          ]
        }
      ]
    },
    {
      "cell_type": "code",
      "metadata": {
        "id": "P2fSlA1FWnSL",
        "colab": {
          "base_uri": "https://localhost:8080/"
        },
        "outputId": "ba57bfc9-3e47-491d-eab2-9a658f4333e5"
      },
      "source": [
        "consulta = 'el motivo de mi consulta es la siguiente: cuando quiero ingresar a mi perfil de estudiante el sistema me dice que no cumplo con los requisitos del sistema para ingresar, quisiera saber el motivo y que faltaría necesito ingresar para realizar la encuesta e inscribirme gracias, espero su respuesta '\n",
        "\n",
        "correos_etiquetados, id = modificar_clase(correos_etiquetados, consulta, 'Requisitos de Ingreso')\n",
        "print(f'Se modifica el indice {id}.')"
      ],
      "execution_count": 138,
      "outputs": [
        {
          "output_type": "stream",
          "name": "stdout",
          "text": [
            "Se modifica el indice 988.\n"
          ]
        }
      ]
    },
    {
      "cell_type": "code",
      "metadata": {
        "id": "Yg7ZtyxKqn9B"
      },
      "source": [
        "# consulta = ''\n",
        "\n",
        "# correos_etiquetados, id = modificar_clase(correos_etiquetados, consulta, '')\n",
        "# print(f'Se modifica el indice {id}.')"
      ],
      "execution_count": 139,
      "outputs": []
    },
    {
      "cell_type": "code",
      "metadata": {
        "id": "0A1dhLxmUXuF",
        "colab": {
          "base_uri": "https://localhost:8080/"
        },
        "outputId": "cea6d0c7-9e01-4f2a-a584-d7307b02c7df"
      },
      "source": [
        "print (f'Las clases resultantes son {correos_etiquetados.clase.unique()}, las cuales totalizan {len(correos_etiquetados.clase.unique())} clases.')"
      ],
      "execution_count": 140,
      "outputs": [
        {
          "output_type": "stream",
          "name": "stdout",
          "text": [
            "Las clases resultantes son ['Cursadas' 'Cambio de Carrera' 'Reincorporación'\n",
            " 'Ingreso a la Universidad' 'Boleto Universitario'\n",
            " 'Pedido de Certificados' 'Exámenes' 'Requisitos de Ingreso'\n",
            " 'Problemas con la Clave' 'Situación Académica' 'Consulta por Legajo'\n",
            " 'Consulta sobre Título Universitario' 'Simultaneidad de Carreras'\n",
            " 'Cambio de Comisión' 'Consulta por Equivalencias' 'Datos Personales'], las cuales totalizan 16 clases.\n"
          ]
        }
      ]
    },
    {
      "cell_type": "markdown",
      "metadata": {
        "id": "4U6TUk3qJemb"
      },
      "source": [
        "## 4. Reorganización de los atributos\n",
        "\n",
        "Se definen todos los nombres de atributos en minúsculas:"
      ]
    },
    {
      "cell_type": "code",
      "metadata": {
        "id": "DwMvTGckJmT8"
      },
      "source": [
        "correos_etiquetados = correos_etiquetados.rename(columns=str.lower)"
      ],
      "execution_count": 141,
      "outputs": []
    },
    {
      "cell_type": "markdown",
      "metadata": {
        "id": "KymyY_nLVEYw"
      },
      "source": [
        "## 5. Conteo de frecuencias de las Clases"
      ]
    },
    {
      "cell_type": "markdown",
      "metadata": {
        "id": "587bWqGqVeki"
      },
      "source": [
        "### 5.1 Histograma de Clases\n",
        "\n",
        "A continuación se plantea una función para graficar el histograma de clases (gráfico de barras con frecuencia observada por clase):\n"
      ]
    },
    {
      "cell_type": "code",
      "metadata": {
        "colab": {
          "base_uri": "https://localhost:8080/",
          "height": 456
        },
        "id": "UsOvpuL6VrJ8",
        "outputId": "c1061615-fe72-4dea-e195-abf22fc47953"
      },
      "source": [
        "import matplotlib.pyplot as plt\n",
        "import seaborn as sns\n",
        "import numpy as np\n",
        "%matplotlib inline\n",
        "\n",
        "def hist_clases(serie_clases, desc_plot, filename_plot):\n",
        "  \"\"\"\n",
        "  Se plotean las clases en función de la distribución de la frecuencia\n",
        "  observada en cada dataset\n",
        "  \"\"\"\n",
        "\n",
        "  # Set figure size\n",
        "  plt.figure(figsize=(14,5))\n",
        "\n",
        "  ax = sns.histplot(serie_clases, kde=True, stat='count', \n",
        "                    bins=serie_clases.unique(), binwidth=0.06, \n",
        "                    color='#c8c6a7', alpha=0.7)\n",
        "\n",
        "  ax.set_xticklabels(serie_clases.unique(),\n",
        "                    rotation=-45, \n",
        "                    horizontalalignment='left', fontweight='light')\n",
        "\n",
        "  for p in ax.patches:\n",
        "      ax.annotate(f'{p.get_height():.0f}\\n',\n",
        "                  (p.get_x() + p.get_width() / 2, p.get_height()), \n",
        "                  ha='center', va='center', color='black')\n",
        "\n",
        "  # Quito el nombre de los ejes (de forma rústica)\n",
        "  plt.xlabel('', fontsize=12)\n",
        "  plt.ylabel('', fontsize=12)\n",
        "\n",
        "  # Guardo el plot en un png\n",
        "  plt.savefig(filename_plot, optimize=True, transparent=True, bbox_inches = 'tight')\n",
        "\n",
        "  # Muestro el gráfico con una descripción\n",
        "  print(f'\\t\\t\\tDistribución de clases para el {desc_plot}')\n",
        "  plt.show()  \n",
        "\n",
        "hist_clases(correos_etiquetados['clase'], 'Total dataset', 'histograma_total.png')"
      ],
      "execution_count": 142,
      "outputs": [
        {
          "output_type": "stream",
          "name": "stdout",
          "text": [
            "\t\t\tDistribución de clases para el Total dataset\n"
          ]
        },
        {
          "output_type": "display_data",
          "data": {
            "image/png": "[encoded data removed]",
            "text/plain": [
              "<Figure size 1008x360 with 1 Axes>"
            ]
          },
          "metadata": {
            "needs_background": "light"
          }
        }
      ]
    },
    {
      "cell_type": "code",
      "metadata": {
        "colab": {
          "base_uri": "https://localhost:8080/"
        },
        "id": "kbT7RSfDV90Y",
        "outputId": "a9bb1708-5ed2-4a22-c09a-c9e1f272ceaf"
      },
      "source": [
        "correos_etiquetados.shape"
      ],
      "execution_count": 143,
      "outputs": [
        {
          "output_type": "execute_result",
          "data": {
            "text/plain": [
              "(1000, 24)"
            ]
          },
          "metadata": {},
          "execution_count": 143
        }
      ]
    },
    {
      "cell_type": "code",
      "metadata": {
        "id": "qqhRHaFF6tRt"
      },
      "source": [
        "correos_etiquetados.to_csv('correos.csv')"
      ],
      "execution_count": 144,
      "outputs": []
    },
    {
      "cell_type": "code",
      "metadata": {
        "colab": {
          "base_uri": "https://localhost:8080/"
        },
        "id": "gIw4kzXDDqOg",
        "outputId": "5f50e21d-ae06-4cc2-8e6d-dba9a453454e"
      },
      "source": [
        "!ls"
      ],
      "execution_count": 145,
      "outputs": [
        {
          "output_type": "stream",
          "name": "stdout",
          "text": [
            "01-01-correos-train-80.csv  funciones_dataset.py  sample_data\n",
            "01-02-correos-test-20.csv   histograma_total.png\n",
            "correos.csv\t\t    __pycache__\n"
          ]
        }
      ]
    },
    {
      "cell_type": "markdown",
      "metadata": {
        "id": "9Eyte7nmbxOk"
      },
      "source": [
        "## 6. Train/Test dataset\n",
        "\n",
        "Ahora, se splitean los datasets a en una proporción 80/20. Estos datasets se utilizarán para _feature extraction_ y para la generación de los modelos:"
      ]
    },
    {
      "cell_type": "code",
      "metadata": {
        "id": "CPKRnnROcAQL"
      },
      "source": [
        "# Separo datos de entrenamiento y testing\n",
        "from sklearn.model_selection import train_test_split\n",
        "\n",
        "X = correos_etiquetados.drop(columns=['clase'])\n",
        "y = correos_etiquetados['clase']\n",
        "\n",
        "# Separo en 80-20 entrenamiento/validación y testeo\n",
        "X_train, X_test, y_train, y_test = train_test_split(X, y, random_state=0, test_size=0.2, stratify=y)"
      ],
      "execution_count": 146,
      "outputs": []
    },
    {
      "cell_type": "markdown",
      "metadata": {
        "id": "sN_1ukCcevhI"
      },
      "source": [
        "Ahora unificamos X e y para persistir los datasets:"
      ]
    },
    {
      "cell_type": "code",
      "metadata": {
        "id": "xUm_bOKHbLJx"
      },
      "source": [
        "# Reordeno el índice para poder concatenar con el y_train e y_test\n",
        "\n",
        "# Train\n",
        "df_train = X_train.reset_index(drop=True)\n",
        "df_train['clase'] = y_train.reset_index(drop=True)\n",
        "\n",
        "# Test\n",
        "df_test = X_test.reset_index(drop=True)\n",
        "df_test['clase'] = y_test.reset_index(drop=True)"
      ],
      "execution_count": 147,
      "outputs": []
    },
    {
      "cell_type": "code",
      "metadata": {
        "colab": {
          "base_uri": "https://localhost:8080/",
          "height": 306
        },
        "id": "CelpQq8p7N1h",
        "outputId": "1b5e5cb5-9a64-48c1-af17-4a3a7c8eb6b0"
      },
      "source": [
        "df_test[['consulta', 'clase']].head()"
      ],
      "execution_count": 148,
      "outputs": [
        {
          "output_type": "execute_result",
          "data": {
            "text/html": [
              "<div>\n",
              "<style scoped>\n",
              "    .dataframe tbody tr th:only-of-type {\n",
              "        vertical-align: middle;\n",
              "    }\n",
              "\n",
              "    .dataframe tbody tr th {\n",
              "        vertical-align: top;\n",
              "    }\n",
              "\n",
              "    .dataframe thead th {\n",
              "        text-align: right;\n",
              "    }\n",
              "</style>\n",
              "<table border=\"1\" class=\"dataframe\">\n",
              "  <thead>\n",
              "    <tr style=\"text-align: right;\">\n",
              "      <th></th>\n",
              "      <th>consulta</th>\n",
              "      <th>clase</th>\n",
              "    </tr>\n",
              "  </thead>\n",
              "  <tbody>\n",
              "    <tr>\n",
              "      <th>0</th>\n",
              "      <td>hace aproximadamente 1 mes que completé el formulario para poder obtener el boleto estudiantil y nunca obtuve respuesta</td>\n",
              "      <td>Boleto Universitario</td>\n",
              "    </tr>\n",
              "    <tr>\n",
              "      <th>1</th>\n",
              "      <td>clave</td>\n",
              "      <td>Problemas con la Clave</td>\n",
              "    </tr>\n",
              "    <tr>\n",
              "      <th>2</th>\n",
              "      <td>quiero hacer el cambio de carreta. de comercio a administracion. y empezar en el segundo cuatrimestre. este año no curse directamente</td>\n",
              "      <td>Cambio de Carrera</td>\n",
              "    </tr>\n",
              "    <tr>\n",
              "      <th>3</th>\n",
              "      <td>solicite durante el transcurso de este primer cuatrimestre que se rectifique mi caligicacion de la asignatura medios de pago del comercio internacional. promovi esa asignatura con un 8 , pero en mi perfil esta con calificacion 7 . y aun no se ha solucionado.</td>\n",
              "      <td>Situación Académica</td>\n",
              "    </tr>\n",
              "    <tr>\n",
              "      <th>4</th>\n",
              "      <td>hola no me llega el msn para cambiar la contraseña para poder ingresar a mi situación académica. para anotarme a las materias de 2do cuatrimestre.</td>\n",
              "      <td>Problemas con la Clave</td>\n",
              "    </tr>\n",
              "  </tbody>\n",
              "</table>\n",
              "</div>"
            ],
            "text/plain": [
              "                                                                                                                                                                                                                                                               consulta                   clase\n",
              "0                                                                                                                                              hace aproximadamente 1 mes que completé el formulario para poder obtener el boleto estudiantil y nunca obtuve respuesta     Boleto Universitario\n",
              "1                                                                                                                                                                                                                                                                clave   Problemas con la Clave\n",
              "2                                                                                                                                quiero hacer el cambio de carreta. de comercio a administracion. y empezar en el segundo cuatrimestre. este año no curse directamente        Cambio de Carrera\n",
              "3  solicite durante el transcurso de este primer cuatrimestre que se rectifique mi caligicacion de la asignatura medios de pago del comercio internacional. promovi esa asignatura con un 8 , pero en mi perfil esta con calificacion 7 . y aun no se ha solucionado.       Situación Académica\n",
              "4                                                                                                                   hola no me llega el msn para cambiar la contraseña para poder ingresar a mi situación académica. para anotarme a las materias de 2do cuatrimestre.   Problemas con la Clave"
            ]
          },
          "metadata": {},
          "execution_count": 148
        }
      ]
    },
    {
      "cell_type": "markdown",
      "metadata": {
        "id": "svtU42ole1Vo"
      },
      "source": [
        "Por último se persisten en _Drive_:"
      ]
    },
    {
      "cell_type": "code",
      "metadata": {
        "colab": {
          "base_uri": "https://localhost:8080/"
        },
        "id": "u7IU3bY1ct2c",
        "outputId": "d3adfb97-a954-4040-e8a7-ca731c5c3965"
      },
      "source": [
        "# Me autentico en Drive\n",
        "from google.colab import drive\n",
        "\n",
        "# Guardo en Drive los datos de entrenamiento\n",
        "df_train.to_csv('02-01-correos-train-80.csv', index=False)\n",
        "drive.mount('drive')\n",
        "!cp 02-01-correos-train-80.csv \"drive/My Drive/Tesis_Maestria/datos/03-Correos-revision-clases/\"\n",
        "\n",
        "# Guardo en Drive los datos de testeo\n",
        "df_test.to_csv('02-02-correos-test-20.csv', index=False)\n",
        "drive.mount('drive')\n",
        "!cp 02-02-correos-test-20.csv \"drive/My Drive/Tesis_Maestria/datos/03-Correos-revision-clases/\""
      ],
      "execution_count": 149,
      "outputs": [
        {
          "output_type": "stream",
          "name": "stdout",
          "text": [
            "Mounted at drive\n",
            "Drive already mounted at drive; to attempt to forcibly remount, call drive.mount(\"drive\", force_remount=True).\n"
          ]
        }
      ]
    },
    {
      "cell_type": "markdown",
      "metadata": {
        "id": "nESQ9FJxkKni"
      },
      "source": [
        "# Referencias:\n",
        "1. [Presentación](0) de apoyo al [Proyecto de Investigación](1) \"Clasificación automática de correos electrónicos\".\n",
        "\n",
        "2. Clasificacion de textos por etiquetado de palabras: [short paper](2).\n",
        "\n",
        "3. [API](3) del diccionario Collins.\n",
        "\n",
        "4. [Funciones](4) de la [API](3) del diccionario Collins.\n",
        "\n",
        "5. Librería [clusteval](5) para la evaluación KMeans.\n",
        "\n",
        "[0]:https://docs.google.com/presentation/d/1-gdZ3dUI2pAfXM6Bgau53U7G4g2Bkv6DlxGESnu7A20/edit?usp=sharing \n",
        "[1]:https://github.com/jumafernandez/clasificacion_correos \n",
        "[2]:https://www.aaai.org/Papers/AAAI/2004/AAAI04-068.pdf\n",
        "[3]:https://pypi.org/project/collins-client/\n",
        "[4]:https://api.collinsdictionary.com/api/v1/documentation/html\n",
        "[5]:https://clusteval.sdu.dk/1/mains"
      ]
    }
  ]
}