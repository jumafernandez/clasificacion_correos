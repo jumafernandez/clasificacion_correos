{
  "nbformat": 4,
  "nbformat_minor": 0,
  "metadata": {
    "colab": {
      "name": "00-procesamiento_inicial_correos.ipynb",
      "provenance": [],
      "mount_file_id": "11xgZdQuL3Km6HA0wA02iRXG1RHdFb862",
      "authorship_tag": "ABX9TyOqFv98JCJ2jt6hc9ik1oZ5",
      "include_colab_link": true
    },
    "kernelspec": {
      "name": "python3",
      "display_name": "Python 3"
    },
    "language_info": {
      "name": "python"
    }
  },
  "cells": [
    {
      "cell_type": "markdown",
      "metadata": {
        "id": "view-in-github",
        "colab_type": "text"
      },
      "source": [
        "<a href=\"https://colab.research.google.com/github/jumafernandez/clasificacion_correos/blob/main/tesis/notebooks/00-procesamiento_inicial_correos.ipynb\" target=\"_parent\"><img src=\"https://colab.research.google.com/assets/colab-badge.svg\" alt=\"Open In Colab\"/></a>"
      ]
    },
    {
      "cell_type": "markdown",
      "metadata": {
        "id": "bT3VkIsMhgtx"
      },
      "source": [
        "# Procesamiento inicial de correos electrónicos\n",
        "\n",
        "__Carrera:__ Maestria en Inteligencia de datos orientada a Big Data de la Universidad Nacional de La Plata.\n",
        "\n",
        "___Título de la Tesis:___ Clasificación automática de correos electrónicos\n",
        "\n",
        "___Autor:___ Juan Manuel Fernandez\n",
        "\n",
        "___Director:___ Marcelo Errecalde\n",
        "\n",
        "\n",
        "__Objetivo:__ En esta notebook, se procesa el backup de correos, que se encuentra en un archivo pst. Los archivos en el formato PST son archivos de datos creados por Microsoft Outlook, un gestor de información personal y una parte de la suite Microsoft Office.\n"
      ]
    },
    {
      "cell_type": "markdown",
      "metadata": {
        "id": "SDjLU1H7hv4l"
      },
      "source": [
        "## 1. Primeros pasos"
      ]
    },
    {
      "cell_type": "markdown",
      "metadata": {
        "id": "BmndPgTvhyJt"
      },
      "source": [
        "### 1.1 Instalación de librerías"
      ]
    },
    {
      "cell_type": "code",
      "metadata": {
        "colab": {
          "base_uri": "https://localhost:8080/"
        },
        "id": "Fb-77DWdeypW",
        "outputId": "16d1d8fc-6f6b-47e2-e347-0acf39860aee"
      },
      "source": [
        "!pip install libpff-python\n",
        "!pip install -U -q PyDrive\n",
        "!pip install wget"
      ],
      "execution_count": 3,
      "outputs": [
        {
          "output_type": "stream",
          "name": "stdout",
          "text": [
            "Requirement already satisfied: libpff-python in /usr/local/lib/python3.7/dist-packages (20161119)\n",
            "Requirement already satisfied: wget in /usr/local/lib/python3.7/dist-packages (3.2)\n"
          ]
        }
      ]
    },
    {
      "cell_type": "markdown",
      "metadata": {
        "id": "mV_4MoEjM-tH"
      },
      "source": [
        "### 1.2 Funciones propias\n",
        "\n",
        "Se definen funciones propias para la limpieza de los correos y las cadenas de texto:"
      ]
    },
    {
      "cell_type": "code",
      "metadata": {
        "id": "TqJDOlDLNIzD"
      },
      "source": [
        "#%% Función para limpiar las consultas\n",
        "def limpiar_correo(text):\n",
        "    '''Se limpian las cadenas de texto'''\n",
        "    \n",
        "    # Paso a minusculas\n",
        "    text = str(text).lower()\n",
        "\n",
        "    # Reemplazo los tildes\n",
        "    text = text.replace(\"\\\\xc3\\\\xa1\", \"á\")\n",
        "    text = text.replace(\"\\\\xc3\\\\xa9\", \"é\")\n",
        "    text = text.replace(\"\\\\xc3\\\\xad\", \"í\")\n",
        "    text = text.replace(\"\\\\xc3\\\\xb3\", \"ó\")\n",
        "    text = text.replace(\"&uacute;\", \"ú\")\n",
        "    text = text.replace(\"\\\\xc3\\\\xb1\", \"ñ\")\n",
        "    text = text.replace(\"&aacute;\", \"á\")\n",
        "    text = text.replace(\"&eacute;\", \"é\")\n",
        "    text = text.replace(\"&iacute;\", \"í\")\n",
        "    text = text.replace(\"&oacute;\", \"ó\")\n",
        "    text = text.replace(\"&uacute;\", \"ú\")\n",
        "    text = text.replace(\"&ntilde;\", \"ñ\")\n",
        "    text = text.replace(\"&ordm\", \"°\")\n",
        "\n",
        "    # Quito los fin de linea y caracteres especiales\n",
        "    text = text.replace(\"\\\\n\", \" \")\n",
        "    text = text.replace(\"\\\\r\", \"\")\n",
        "    text = text.replace(\"\\\\\", \"\")\n",
        "    text = text.replace(\"b\\'\", \"\")\n",
        "\n",
        "    return text\n",
        "\n",
        "def limpiar_consulta(text):\n",
        "    '''Se limpian las consultas'''   \n",
        "    # Separo la consulta en encabezado y cuerpo\n",
        "    COMIENZO_CORREO = \"de: u.n.lu. [mailto:consultasweb@mail.unlu.edu.ar]\"\n",
        "    GUIONES_CUERPO  = \"-------------------------\"\n",
        "    \n",
        "    text = str(text).replace(\" >\", \"\")\n",
        "    text = text.split(\"---------------------------------\")\n",
        "    if len(text)>1:\n",
        "        # El encabezado solo posee la fecha como dato importante\n",
        "        encabezado = text[0]\n",
        "        encabezado = encabezado.replace(COMIENZO_CORREO, \"\")\n",
        "        #fecha = encabezado[len(encabezado)-len(\"08.23.2015-00:57:19\")-2:len(encabezado)].strip()\n",
        "        inicio_fecha = encabezado.find(\"enviado :\")\n",
        "        fecha        = encabezado[inicio_fecha+len(\"enviado :\"):len(encabezado)].strip()\n",
        "        fecha        = fecha[0:len(\"08.20.2019-20:48:53\")]\n",
        "        hora         = fecha.split(\"-\")[1]\n",
        "        fecha        = fecha.split(\"-\")[0].replace(\".\", \"-\")\n",
        "        \n",
        "        # Cuerpo        \n",
        "        cuerpo = text[1]\n",
        "        cuerpo = cuerpo.replace(GUIONES_CUERPO, \"\")\n",
        "        \n",
        "        # Busco el inicio de cada dato para estructurarlos\n",
        "        inicio_ap_nom    = cuerpo.find(\"nombre y apellido: \")\n",
        "        inicio_legajo    = cuerpo.find(\"legajo: \")\n",
        "        inicio_documento = cuerpo.find(\"documento: \")\n",
        "        inicio_carrera   = cuerpo.find(\"carrera: \")\n",
        "        inicio_telefono  = cuerpo.find(\"teléfono: \")\n",
        "        inicio_email     = cuerpo.find(\"e-mail: \")\n",
        "        inicio_consulta  = cuerpo.find(\"mensaje / consulta: \")\n",
        "\n",
        "        apellido_nombre = cuerpo[inicio_ap_nom+len(\"nombre y apellido: \"):inicio_legajo-1]\n",
        "        legajo          = cuerpo[inicio_legajo+len(\"legajo: \"):inicio_documento-1]\n",
        "        documento       = cuerpo[inicio_documento+len(\"documento: \"):inicio_carrera-1]\n",
        "        carrera         = cuerpo[inicio_carrera+len(\"carrera: \"):inicio_telefono-1]\n",
        "        telefono        = cuerpo[inicio_telefono+len(\"teléfono: \"):inicio_email-1]\n",
        "        email           = cuerpo[inicio_email+len(\"e-mail: \"):inicio_consulta-1]\n",
        "        consulta        = cuerpo[inicio_consulta+len(\"mensaje / consulta: \"):len(cuerpo)]\n",
        "        \n",
        "    else:\n",
        "        fecha = text[0]\n",
        "        hora  = -1\n",
        "        apellido_nombre = -1\n",
        "        legajo          = -1\n",
        "        documento       = -1\n",
        "        carrera         = -1\n",
        "        telefono        = -1\n",
        "        email           = -1\n",
        "        consulta        = -1\n",
        "        \n",
        "    return fecha, hora, apellido_nombre, legajo, documento, carrera, telefono, email, consulta"
      ],
      "execution_count": 4,
      "outputs": []
    },
    {
      "cell_type": "markdown",
      "metadata": {
        "id": "1GjgWAxkh6QO"
      },
      "source": [
        "### 1.3 Descarga de archivo de correos\n",
        "\n",
        "Se abre el archivo con las consultas que se encuentra en Google Drive (~=800 mb)"
      ]
    },
    {
      "cell_type": "code",
      "metadata": {
        "colab": {
          "base_uri": "https://localhost:8080/"
        },
        "id": "MDKF-8KIh5c9",
        "outputId": "4e7aa506-8371-41d5-a56b-595e6f9d19fa"
      },
      "source": [
        "import pypff\n",
        "from google.colab import drive\n",
        "drive.mount('/content/drive')\n",
        "\n",
        "pst_file = 'drive/MyDrive/Tesis_Maestria/datos/00-Consultas-originales/Consultas.pst'\n",
        "\n",
        "pst = pypff.file()\n",
        "pst.open(pst_file)"
      ],
      "execution_count": 5,
      "outputs": [
        {
          "output_type": "stream",
          "name": "stdout",
          "text": [
            "Mounted at /content/drive\n"
          ]
        }
      ]
    },
    {
      "cell_type": "markdown",
      "metadata": {
        "id": "raEpNN92mArE"
      },
      "source": [
        "Se verifican las carpetas que se encuentran dentro del backup y la cantidad de mensajes de cada una de ellas:"
      ]
    },
    {
      "cell_type": "code",
      "metadata": {
        "colab": {
          "base_uri": "https://localhost:8080/"
        },
        "id": "sVec9t7Oj9n7",
        "outputId": "79d80975-9326-440f-e634-04b3f466038e"
      },
      "source": [
        "root_node = pst.get_root_folder()\n",
        "carpeta_Outlook = root_node.get_sub_folder(1)\n",
        "print('Carpetas del Outlook:')\n",
        "for i in range(0, carpeta_Outlook.get_number_of_sub_folders()):\n",
        "    folder=carpeta_Outlook.get_sub_folder(i)\n",
        "    print(str(i) + \"-\" + folder.get_name() + \": \" + str(folder.get_number_of_sub_messages()))"
      ],
      "execution_count": 6,
      "outputs": [
        {
          "output_type": "stream",
          "name": "stdout",
          "text": [
            "Carpetas del Outlook:\n",
            "0-Elementos eliminados: 1491\n",
            "1-Bandeja de entrada: 22703\n",
            "2-Bandeja de salida: 0\n",
            "3-Elementos enviados: 24166\n",
            "4-Correo electrónico no deseado: 19\n",
            "5-Configuración de acción de conversación: 0\n",
            "6-Configuración de pasos rápidos: 0\n",
            "7-Calendario: 0\n",
            "8-Diario: 0\n",
            "9-Tareas: 0\n",
            "10-Infected Items: 0\n",
            "11-Contactos: 0\n",
            "12-Notas: 0\n",
            "13-Borrador: 0\n",
            "14-Fuentes RSS: 0\n"
          ]
        }
      ]
    },
    {
      "cell_type": "markdown",
      "metadata": {
        "id": "GK7JdcVOmJHE"
      },
      "source": [
        "## 2. Procesamiento de correos\n",
        "\n",
        "Se escoge trabajar con los correos enviados puesto que los mismos cuentan con la consulta y su respuesta (eventual etiqueta):"
      ]
    },
    {
      "cell_type": "code",
      "metadata": {
        "id": "kc4ElkANOPph"
      },
      "source": [
        "enviados = carpeta_Outlook.get_sub_folder(3)"
      ],
      "execution_count": 7,
      "outputs": []
    },
    {
      "cell_type": "markdown",
      "metadata": {
        "id": "3uu1v9EBtbxs"
      },
      "source": [
        "Se ponen en memoria los correos etiquetados para quitarlos de esta muestra:"
      ]
    },
    {
      "cell_type": "code",
      "metadata": {
        "id": "BP0xbQlrtZ49",
        "colab": {
          "base_uri": "https://localhost:8080/"
        },
        "outputId": "4f5072bd-da3b-404e-ac40-dbbcd6abefed"
      },
      "source": [
        "import warnings\n",
        "from os import path\n",
        "warnings.filterwarnings(\"ignore\")\n",
        "import pandas as pd\n",
        "import numpy as np\n",
        "\n",
        "# Constantes con los datos\n",
        "descarga = True\n",
        "DS_DIR = 'https://raw.githubusercontent.com/jumafernandez/clasificacion_correos/main/data/50jaiio/'\n",
        "TRAIN_FILE = 'correos-train-80.csv'\n",
        "TEST_FILE = 'correos-test-20.csv'\n",
        "\n",
        "# Genero el enlace completo\n",
        "URL_file_train = DS_DIR + TRAIN_FILE\n",
        "URL_file_test = DS_DIR + TEST_FILE\n",
        "  \n",
        "if descarga:\n",
        "  print('Se inicia descarga de los datasets {} y {}.'.format(TRAIN_FILE, TEST_FILE))\n",
        "  import wget\n",
        "  wget.download(URL_file_train)\n",
        "  wget.download(URL_file_test)\n",
        "else:\n",
        "  # Si ya están descargados los tomo del working directory\n",
        "  URL_file_train = TRAIN_FILE\n",
        "  URL_file_test = TEST_FILE\n",
        "    \n",
        "# Leemos el archivo en un dataframe\n",
        "df_train = pd.read_csv(URL_file_train)\n",
        "df_test = pd.read_csv(URL_file_test)\n",
        "\n",
        "df_etiquetados = pd.concat([df_train, df_test])\n",
        "df_etiquetados= df_etiquetados.rename(columns=str.lower)\n",
        "\n",
        "print(f\"\\nLos atributos de los correos son: {str(df_etiquetados.columns.values)}\")\n",
        "print(f\"\\nEl conjunto de correos etiquetados tiene la dimensión: {df_etiquetados.shape}\")"
      ],
      "execution_count": 8,
      "outputs": [
        {
          "output_type": "stream",
          "name": "stdout",
          "text": [
            "Se inicia descarga de los datasets correos-train-80.csv y correos-test-20.csv.\n",
            "\n",
            "Los atributos de los correos son: ['consulta' 'dia_semana' 'semana_del_mes' 'mes' 'cuatrimestre' 'anio'\n",
            " 'hora_discretizada' 'dni_discretizado' 'legajo_discretizado'\n",
            " 'posee_legajo' 'posee_telefono' 'carrera_valor' 'proveedor_correo'\n",
            " 'cantidad_caracteres' 'proporcion_mayusculas' 'proporcion_letras'\n",
            " 'cantidad_tildes' 'cantidad_palabras' 'cantidad_palabras_cortas'\n",
            " 'proporcion_palabras_distintas' 'frecuencia_signos_puntuacion'\n",
            " 'cantidad_oraciones' 'utiliza_codigo_asignatura' 'clase']\n",
            "\n",
            "El conjunto de correos etiquetados tiene la dimensión: (1000, 24)\n"
          ]
        }
      ]
    },
    {
      "cell_type": "markdown",
      "metadata": {
        "id": "KobqSIfGObhK"
      },
      "source": [
        "Se definen constantes que tienen que ver con el tamaño de la muestra y el nombre del archivo donde se van a guardar los correos procesados:"
      ]
    },
    {
      "cell_type": "code",
      "metadata": {
        "colab": {
          "base_uri": "https://localhost:8080/"
        },
        "id": "wiX4duGjObx6",
        "outputId": "c340c9cf-daf3-46f6-eefe-bdc267d79db6"
      },
      "source": [
        "CANTIDAD_CORREOS = enviados.get_number_of_sub_messages()\n",
        "print('La muestra posee {} correos.'.format(CANTIDAD_CORREOS))\n",
        "# Constante para la etapa de pruebas\n",
        "# CANTIDAD_CORREOS = 10\n",
        "\n",
        "# Datos del archivo donde se guardan las consultas\n",
        "PATH_ARCHIVO_CORREOS = \"correos-procesados.csv\""
      ],
      "execution_count": 9,
      "outputs": [
        {
          "output_type": "stream",
          "name": "stdout",
          "text": [
            "La muestra posee 24166 correos.\n"
          ]
        }
      ]
    },
    {
      "cell_type": "markdown",
      "metadata": {
        "id": "Hda2OUTpOQgB"
      },
      "source": [
        "Se definen un conjunto ce constantes que tienen que ver con el texto de los correos:"
      ]
    },
    {
      "cell_type": "code",
      "metadata": {
        "id": "dLWfxRFSNYp3"
      },
      "source": [
        "SEPARADOR_CONSULTA_RESPUESTA = \"-----mensaje original-----\"\n",
        "INICIO_DISTINTO = \"de: u.n.lu. [mailto:consultasweb@mail.unlu.edu.ar]\""
      ],
      "execution_count": 10,
      "outputs": []
    },
    {
      "cell_type": "code",
      "metadata": {
        "id": "Lm_MbSEqRTbE"
      },
      "source": [
        "# Se crea el data frame donde se guardan los correos procesados\n",
        "import pandas as pd\n",
        "nombre_campos = [\"fecha\", \"hora\", \"apellido_nombre\", \"legajo\", \"documento\", \"carrera\", \"telefono\", \"email\", \"consulta\", \"respuesta\"]\n",
        "\n",
        "df_correos = pd.DataFrame(columns = nombre_campos)"
      ],
      "execution_count": 11,
      "outputs": []
    },
    {
      "cell_type": "code",
      "metadata": {
        "id": "hJ9rKWb7mJaE",
        "colab": {
          "base_uri": "https://localhost:8080/"
        },
        "outputId": "0765fc78-4f68-4479-f5a6-138570b2b7d0"
      },
      "source": [
        "for i in range(0, CANTIDAD_CORREOS):\n",
        "  # Se toma el correo de índice i\n",
        "  correo = enviados.get_sub_message(i)\n",
        "  cuerpo = correo.get_plain_text_body()\n",
        "  if cuerpo:\n",
        "    \n",
        "    # Se hace una limpieza inicial del texto\n",
        "    cuerpo = limpiar_correo(cuerpo)      \n",
        "    \n",
        "    # Se separa la consulta de la respuesta, solo acepta un ida y vuelta\n",
        "    cuerpo = cuerpo.split(SEPARADOR_CONSULTA_RESPUESTA)\n",
        "    \n",
        "    # Se deciden desechar los correos no separables, con varios idas/vueltas\n",
        "    if len(cuerpo)>1:\n",
        "      respuesta = cuerpo[0]\n",
        "      consulta = cuerpo[1]\n",
        "            \n",
        "      # Si es un ida/vuelta UNICO\n",
        "      if consulta.find(INICIO_DISTINTO)!=-1:\n",
        "        fecha, hora, apellido_nombre, legajo, documento, carrera, telefono, email, consulta = limpiar_consulta(consulta)\n",
        "\n",
        "        if apellido_nombre!=-1:\n",
        "          \n",
        "          # Chequeo sino está entre los correos etiquetados\n",
        "\n",
        "          correo_procesado = {'fecha': fecha, 'hora': hora, 'apellido_nombre': apellido_nombre, 'legajo': legajo, 'documento': documento, 'carrera': carrera, \n",
        "                              'telefono': telefono, 'email': email, 'consulta': consulta, 'respuesta': respuesta}\n",
        "        \n",
        "          df_correos = df_correos.append(correo_procesado, ignore_index=True)\n",
        "\n",
        "print(f\"\\nLa dimensión de los correos procesados es: {df_correos.shape}\")"
      ],
      "execution_count": 12,
      "outputs": [
        {
          "output_type": "stream",
          "name": "stdout",
          "text": [
            "\n",
            "La dimensión de los correos procesados es: (20876, 10)\n"
          ]
        }
      ]
    },
    {
      "cell_type": "markdown",
      "metadata": {
        "id": "LOM2KCpj5B7A"
      },
      "source": [
        "Ahora eliminamos aquellos correos que están entre los correos etiquetados para no \"hacer trampa\" en la clasificación:"
      ]
    },
    {
      "cell_type": "code",
      "metadata": {
        "id": "9Wo6O7H42Czv",
        "colab": {
          "base_uri": "https://localhost:8080/"
        },
        "outputId": "d3495b5d-f094-4693-885c-44c571ea9197"
      },
      "source": [
        "df_final = df_correos[~df_correos['consulta'].isin(df_etiquetados['consulta'].values.tolist())]\n",
        "\n",
        "print(f\"\\nLa dimensión de los correos procesados es: {df_final.shape}\")"
      ],
      "execution_count": 13,
      "outputs": [
        {
          "output_type": "stream",
          "name": "stdout",
          "text": [
            "\n",
            "La dimensión de los correos procesados es: (19776, 10)\n"
          ]
        }
      ]
    },
    {
      "cell_type": "markdown",
      "metadata": {
        "id": "ztTamu0kXOoC"
      },
      "source": [
        "Se vuelvan los correos a JSON y CSV:"
      ]
    },
    {
      "cell_type": "code",
      "metadata": {
        "id": "cYVQnJGz3yCk"
      },
      "source": [
        "df_final.to_json('correos-procesados.json', orient='records', lines=True)"
      ],
      "execution_count": 14,
      "outputs": []
    },
    {
      "cell_type": "code",
      "metadata": {
        "id": "c9WIGBwgSu1T"
      },
      "source": [
        "df_final.to_csv('correos-procesados.csv', index=False)"
      ],
      "execution_count": 15,
      "outputs": []
    },
    {
      "cell_type": "markdown",
      "metadata": {
        "id": "Hx3DWAUyXSel"
      },
      "source": [
        "Si estamos en COLAB lo pasamos a Google Drive:"
      ]
    },
    {
      "cell_type": "code",
      "metadata": {
        "colab": {
          "base_uri": "https://localhost:8080/"
        },
        "id": "xyHqIpLPWLii",
        "outputId": "f1a8ddbf-b3c5-431b-feba-de1a332aad1d"
      },
      "source": [
        "ENTORNO='Colab'\n",
        "\n",
        "if ENTORNO=='Colab':\n",
        "  from google.colab import drive\n",
        "  drive.mount('drive')\n",
        "  !cp correos-procesados.csv \"drive/My Drive/Tesis_Maestria/datos/01-Correos-primer-procesamiento/\"\n",
        "  !cp correos-procesados.json \"drive/My Drive/Tesis_Maestria/datos/01-Correos-primer-procesamiento/\""
      ],
      "execution_count": 17,
      "outputs": [
        {
          "output_type": "stream",
          "name": "stdout",
          "text": [
            "Drive already mounted at drive; to attempt to forcibly remount, call drive.mount(\"drive\", force_remount=True).\n"
          ]
        }
      ]
    }
  ]
}