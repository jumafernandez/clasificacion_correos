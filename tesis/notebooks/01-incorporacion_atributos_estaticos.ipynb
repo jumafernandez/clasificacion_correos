{
  "nbformat": 4,
  "nbformat_minor": 0,
  "metadata": {
    "colab": {
      "name": "01-incorporacion_atributos_estaticos.ipynb",
      "provenance": [],
      "authorship_tag": "ABX9TyOGMKKI5rPDaO+3SATWHf/v",
      "include_colab_link": true
    },
    "kernelspec": {
      "name": "python3",
      "display_name": "Python 3"
    }
  },
  "cells": [
    {
      "cell_type": "markdown",
      "metadata": {
        "id": "view-in-github",
        "colab_type": "text"
      },
      "source": [
        "<a href=\"https://colab.research.google.com/github/jumafernandez/clasificacion_correos/blob/main/tesis/notebooks/01-incorporacion_atributos_estaticos.ipynb\" target=\"_parent\"><img src=\"https://colab.research.google.com/assets/colab-badge.svg\" alt=\"Open In Colab\"/></a>"
      ]
    },
    {
      "cell_type": "markdown",
      "metadata": {
        "id": "aagAoTXcqXoX"
      },
      "source": [
        "# Generación de _features_ estáticas\n",
        "\n",
        "__Carrera:__ Maestria en Inteligencia de datos orientada a Big Data de la Universidad Nacional de La Plata.\n",
        "\n",
        "___Título de la Tesis:___ Clasificación automática de correos electrónicos\n",
        "\n",
        "___Autor:___ Juan Manuel Fernandez\n",
        "\n",
        "___Director:___ Marcelo Errecalde\n",
        "\n",
        "\n",
        "__Objetivo:__ En esta notebook, se incorporan los atrbutos estáticos a las consultas que ya cuentan con el preprocesamiento inicial."
      ]
    },
    {
      "cell_type": "markdown",
      "metadata": {
        "id": "NAkTZSEqwlMv"
      },
      "source": [
        "## Features estáticas a partir de los datos\n",
        "\n",
        "1. Traigo los datos y los cargo en el dataframe:"
      ]
    },
    {
      "cell_type": "code",
      "metadata": {
        "id": "cEa8IbABwU9R",
        "colab": {
          "base_uri": "https://localhost:8080/"
        },
        "outputId": "7679af52-8960-4e20-84ea-3d20886039bf"
      },
      "source": [
        "from os import path\n",
        "import pandas as pd\n",
        "\n",
        "INSTANCIAS = 50\n",
        "TECNICA = 'ss3' # Técnicas: ss3 - tfidf - lr - manual\n",
        "BOOSTING = True\n",
        "\n",
        "if TECNICA!='manual':\n",
        "  # Evalúa si hay boosting\n",
        "  if BOOSTING:\n",
        "    BOOSTING = '-boosting'\n",
        "  else:\n",
        "    BOOSTING = ''\n",
        "\n",
        "  # Traigo el archivo desde GitHub\n",
        "  DATASET = f'dataset-{TECNICA}-{INSTANCIAS}{BOOSTING}.csv'\n",
        "  URL_DESCARGA = f'https://raw.githubusercontent.com/jumafernandez/clasificacion_correos/main/tesis/data/03-elasticsearch/sin_procesar/{DATASET}'\n",
        "  df = pd.read_csv(URL_DESCARGA)\n",
        "else:\n",
        "  URL_DESCARGA = 'https://raw.githubusercontent.com/jumafernandez/clasificacion_correos/main/tesis/data/00-correos_etiquetados.csv'\n",
        "  df = pd.read_csv(URL_DESCARGA, sep=\"|\")\n",
        "  df.columns = ['fecha', 'hora', 'apellido_nombre', 'legajo', 'documento', 'carrera', 'telefono', 'email', 'consulta', 'respuesta', 'clase']\n",
        "  \n",
        "df['clase'].value_counts()"
      ],
      "execution_count": 1,
      "outputs": [
        {
          "output_type": "execute_result",
          "data": {
            "text/plain": [
              "Datos Personales                       50\n",
              "Simultaneidad de Carreras              50\n",
              "Reincorporación                        50\n",
              "Requisitos de Ingreso                  50\n",
              "Problemas con la Clave                 50\n",
              "Pedido de Certificados                 50\n",
              "Ingreso a la Universidad               50\n",
              "Consulta sobre Título Universitario    50\n",
              "Boleto Universitario                   50\n",
              "Consulta por Legajo                    50\n",
              "Cambio de Carrera                      50\n",
              "Cursadas                               50\n",
              "Exámenes                               50\n",
              "Cambio de Comisión                     50\n",
              "Consulta por Equivalencias             50\n",
              "Situación Académica                    50\n",
              "Name: clase, dtype: int64"
            ]
          },
          "metadata": {},
          "execution_count": 1
        }
      ]
    },
    {
      "cell_type": "code",
      "metadata": {
        "colab": {
          "base_uri": "https://localhost:8080/"
        },
        "id": "rKSK4WSAPdwB",
        "outputId": "831b6860-6359-4204-deb6-9efbe3457493"
      },
      "source": [
        "df.columns"
      ],
      "execution_count": 2,
      "outputs": [
        {
          "output_type": "execute_result",
          "data": {
            "text/plain": [
              "Index(['fecha', 'hora', 'apellido_nombre', 'legajo', 'documento', 'carrera',\n",
              "       'telefono', 'email', 'consulta', 'respuesta', 'score', 'clase'],\n",
              "      dtype='object')"
            ]
          },
          "metadata": {},
          "execution_count": 2
        }
      ]
    },
    {
      "cell_type": "markdown",
      "metadata": {
        "id": "m_xyelTHxEFE"
      },
      "source": [
        "2. Verifico los datos y borro columnas no pre-procesables:"
      ]
    },
    {
      "cell_type": "code",
      "metadata": {
        "colab": {
          "base_uri": "https://localhost:8080/",
          "height": 289
        },
        "id": "U-ft72hZ0TLQ",
        "outputId": "aa184870-7894-42e5-bfba-6482b21e40a8"
      },
      "source": [
        "df.drop(columns=['apellido_nombre', 'respuesta'], inplace=True)\n",
        "df.head()"
      ],
      "execution_count": 3,
      "outputs": [
        {
          "output_type": "execute_result",
          "data": {
            "text/html": [
              "<div>\n",
              "<style scoped>\n",
              "    .dataframe tbody tr th:only-of-type {\n",
              "        vertical-align: middle;\n",
              "    }\n",
              "\n",
              "    .dataframe tbody tr th {\n",
              "        vertical-align: top;\n",
              "    }\n",
              "\n",
              "    .dataframe thead th {\n",
              "        text-align: right;\n",
              "    }\n",
              "</style>\n",
              "<table border=\"1\" class=\"dataframe\">\n",
              "  <thead>\n",
              "    <tr style=\"text-align: right;\">\n",
              "      <th></th>\n",
              "      <th>fecha</th>\n",
              "      <th>hora</th>\n",
              "      <th>legajo</th>\n",
              "      <th>documento</th>\n",
              "      <th>carrera</th>\n",
              "      <th>telefono</th>\n",
              "      <th>email</th>\n",
              "      <th>consulta</th>\n",
              "      <th>score</th>\n",
              "      <th>clase</th>\n",
              "    </tr>\n",
              "  </thead>\n",
              "  <tbody>\n",
              "    <tr>\n",
              "      <th>0</th>\n",
              "      <td>04-09-2019</td>\n",
              "      <td>18:28:42</td>\n",
              "      <td>146293</td>\n",
              "      <td>39749232</td>\n",
              "      <td>licenciatura en administracion(3)</td>\n",
              "      <td>1140878148</td>\n",
              "      <td>boscomatias@hotmail.com</td>\n",
              "      <td>hola queria saber porque no se me acredita la ...</td>\n",
              "      <td>45.517704</td>\n",
              "      <td>Boleto Universitario</td>\n",
              "    </tr>\n",
              "    <tr>\n",
              "      <th>1</th>\n",
              "      <td>04-09-2019</td>\n",
              "      <td>18:28:42</td>\n",
              "      <td>146293</td>\n",
              "      <td>39749232</td>\n",
              "      <td>licenciatura en administracion(3)</td>\n",
              "      <td>1140878148</td>\n",
              "      <td>boscomatias@hotmail.com &lt;mailto:boscomatias@ho...</td>\n",
              "      <td>hola queria saber porque no se me acredita la ...</td>\n",
              "      <td>45.517704</td>\n",
              "      <td>Boleto Universitario</td>\n",
              "    </tr>\n",
              "    <tr>\n",
              "      <th>2</th>\n",
              "      <td>07-30-2018</td>\n",
              "      <td>20:20:20</td>\n",
              "      <td>165259</td>\n",
              "      <td>42344375</td>\n",
              "      <td>licenciatura en administracion(3)</td>\n",
              "      <td>3489441201</td>\n",
              "      <td>agustinvandick@gmail.com</td>\n",
              "      <td>yo hace casi un mes hice el tramite para la su...</td>\n",
              "      <td>39.395226</td>\n",
              "      <td>Boleto Universitario</td>\n",
              "    </tr>\n",
              "    <tr>\n",
              "      <th>3</th>\n",
              "      <td>07-04-2018</td>\n",
              "      <td>10:37:12</td>\n",
              "      <td>162072</td>\n",
              "      <td>42041231</td>\n",
              "      <td>licenciatura en administracion(3)</td>\n",
              "      <td>1550416069</td>\n",
              "      <td>meluvasone57@hotmail.com</td>\n",
              "      <td>hola, hace dos meses q me cargan la sube, y en...</td>\n",
              "      <td>37.903893</td>\n",
              "      <td>Boleto Universitario</td>\n",
              "    </tr>\n",
              "    <tr>\n",
              "      <th>4</th>\n",
              "      <td>10-15-2019</td>\n",
              "      <td>04:06:31</td>\n",
              "      <td>160474</td>\n",
              "      <td>40993972</td>\n",
              "      <td>licenciatura en administracion(3)</td>\n",
              "      <td>NaN</td>\n",
              "      <td>mancubruno@gmail.com</td>\n",
              "      <td>hola, en la página dice que tengo asignado el ...</td>\n",
              "      <td>36.964314</td>\n",
              "      <td>Boleto Universitario</td>\n",
              "    </tr>\n",
              "  </tbody>\n",
              "</table>\n",
              "</div>"
            ],
            "text/plain": [
              "        fecha      hora  ...      score                 clase\n",
              "0  04-09-2019  18:28:42  ...  45.517704  Boleto Universitario\n",
              "1  04-09-2019  18:28:42  ...  45.517704  Boleto Universitario\n",
              "2  07-30-2018  20:20:20  ...  39.395226  Boleto Universitario\n",
              "3  07-04-2018  10:37:12  ...  37.903893  Boleto Universitario\n",
              "4  10-15-2019  04:06:31  ...  36.964314  Boleto Universitario\n",
              "\n",
              "[5 rows x 10 columns]"
            ]
          },
          "metadata": {},
          "execution_count": 3
        }
      ]
    },
    {
      "cell_type": "markdown",
      "metadata": {
        "id": "bKwV3G8e7W0O"
      },
      "source": [
        "3. Preproceso la fecha (día de la semana, semana del mes, mes y cuatrimestre) de la consulta:"
      ]
    },
    {
      "cell_type": "code",
      "metadata": {
        "id": "YYeZT4j1Zu0i"
      },
      "source": [
        "def convierte_fecha(fecha_consulta):\n",
        "  from datetime import datetime\n",
        "  # Convierto a fecha\n",
        "  fecha = datetime.strptime(fecha_consulta, '%m-%d-%Y') \n",
        "  return fecha\n",
        "\n",
        "def dia_semana(fecha):\n",
        "  # Tomo el día de la semana\n",
        "  dias_semana = ['Lunes', 'Martes', 'Miércoles', 'Jueves', 'Viernes', 'Sábado', 'Domingo']\n",
        "  # dia_semana = dias_semana[fecha.weekday()]\n",
        "  dia_semana = fecha.weekday()\n",
        "  return dia_semana\n",
        "\n",
        "def semana_del_mes(fecha):\n",
        "  # Tomo la semana del mes\n",
        "  semana_mes = (fecha.day-1)//7+1\n",
        "  return semana_mes\n",
        "\n",
        "def mes(fecha):\n",
        "  # Tomo el mes\n",
        "  meses = ['Enero', 'Febrero', 'Marzo', 'Abril', 'Mayo', 'Junio', 'Julio', 'Agosto', 'Septiembre', 'Octubre', 'Noviembre', 'Diciembre']\n",
        "  # mes = meses[fecha.month-1]\n",
        "  mes = fecha.month\n",
        "  return mes\n",
        "\n",
        "def cuatrimestre(fecha):\n",
        "  # Defino el cuatrimestre\n",
        "  cuatrimestre = 1\n",
        "  if (fecha.month>7):\n",
        "    cuatrimestre = 2\n",
        "  return cuatrimestre\n",
        "\n",
        "def anio(fecha):\n",
        "    anio = fecha.year\n",
        "    return anio\n",
        "\n",
        "# convierte_fecha(df.loc[0, 'Fecha'])\n",
        "fecha = df['fecha'].apply(convierte_fecha)\n",
        "df['dia_semana'] = fecha.apply(dia_semana)\n",
        "df['semana_del_mes'] = fecha.apply(semana_del_mes)\n",
        "df['mes'] = fecha.apply(mes)\n",
        "df['cuatrimestre'] = fecha.apply(cuatrimestre)\n",
        "df['anio'] = fecha.apply(anio)"
      ],
      "execution_count": 4,
      "outputs": []
    },
    {
      "cell_type": "code",
      "metadata": {
        "colab": {
          "base_uri": "https://localhost:8080/",
          "height": 700
        },
        "id": "MoOidpjoaxvK",
        "outputId": "1821d596-226c-4e7b-90e0-8f0d8e3b5e7a"
      },
      "source": [
        "df.drop(columns=['fecha'], inplace=True)\n",
        "df.head()"
      ],
      "execution_count": 5,
      "outputs": [
        {
          "output_type": "execute_result",
          "data": {
            "text/html": [
              "<div>\n",
              "<style scoped>\n",
              "    .dataframe tbody tr th:only-of-type {\n",
              "        vertical-align: middle;\n",
              "    }\n",
              "\n",
              "    .dataframe tbody tr th {\n",
              "        vertical-align: top;\n",
              "    }\n",
              "\n",
              "    .dataframe thead th {\n",
              "        text-align: right;\n",
              "    }\n",
              "</style>\n",
              "<table border=\"1\" class=\"dataframe\">\n",
              "  <thead>\n",
              "    <tr style=\"text-align: right;\">\n",
              "      <th></th>\n",
              "      <th>hora</th>\n",
              "      <th>legajo</th>\n",
              "      <th>documento</th>\n",
              "      <th>carrera</th>\n",
              "      <th>telefono</th>\n",
              "      <th>email</th>\n",
              "      <th>consulta</th>\n",
              "      <th>score</th>\n",
              "      <th>clase</th>\n",
              "      <th>dia_semana</th>\n",
              "      <th>semana_del_mes</th>\n",
              "      <th>mes</th>\n",
              "      <th>cuatrimestre</th>\n",
              "      <th>anio</th>\n",
              "    </tr>\n",
              "  </thead>\n",
              "  <tbody>\n",
              "    <tr>\n",
              "      <th>0</th>\n",
              "      <td>18:28:42</td>\n",
              "      <td>146293</td>\n",
              "      <td>39749232</td>\n",
              "      <td>licenciatura en administracion(3)</td>\n",
              "      <td>1140878148</td>\n",
              "      <td>boscomatias@hotmail.com</td>\n",
              "      <td>hola queria saber porque no se me acredita la ...</td>\n",
              "      <td>45.517704</td>\n",
              "      <td>Boleto Universitario</td>\n",
              "      <td>1</td>\n",
              "      <td>2</td>\n",
              "      <td>4</td>\n",
              "      <td>1</td>\n",
              "      <td>2019</td>\n",
              "    </tr>\n",
              "    <tr>\n",
              "      <th>1</th>\n",
              "      <td>18:28:42</td>\n",
              "      <td>146293</td>\n",
              "      <td>39749232</td>\n",
              "      <td>licenciatura en administracion(3)</td>\n",
              "      <td>1140878148</td>\n",
              "      <td>boscomatias@hotmail.com &lt;mailto:boscomatias@ho...</td>\n",
              "      <td>hola queria saber porque no se me acredita la ...</td>\n",
              "      <td>45.517704</td>\n",
              "      <td>Boleto Universitario</td>\n",
              "      <td>1</td>\n",
              "      <td>2</td>\n",
              "      <td>4</td>\n",
              "      <td>1</td>\n",
              "      <td>2019</td>\n",
              "    </tr>\n",
              "    <tr>\n",
              "      <th>2</th>\n",
              "      <td>20:20:20</td>\n",
              "      <td>165259</td>\n",
              "      <td>42344375</td>\n",
              "      <td>licenciatura en administracion(3)</td>\n",
              "      <td>3489441201</td>\n",
              "      <td>agustinvandick@gmail.com</td>\n",
              "      <td>yo hace casi un mes hice el tramite para la su...</td>\n",
              "      <td>39.395226</td>\n",
              "      <td>Boleto Universitario</td>\n",
              "      <td>0</td>\n",
              "      <td>5</td>\n",
              "      <td>7</td>\n",
              "      <td>1</td>\n",
              "      <td>2018</td>\n",
              "    </tr>\n",
              "    <tr>\n",
              "      <th>3</th>\n",
              "      <td>10:37:12</td>\n",
              "      <td>162072</td>\n",
              "      <td>42041231</td>\n",
              "      <td>licenciatura en administracion(3)</td>\n",
              "      <td>1550416069</td>\n",
              "      <td>meluvasone57@hotmail.com</td>\n",
              "      <td>hola, hace dos meses q me cargan la sube, y en...</td>\n",
              "      <td>37.903893</td>\n",
              "      <td>Boleto Universitario</td>\n",
              "      <td>2</td>\n",
              "      <td>1</td>\n",
              "      <td>7</td>\n",
              "      <td>1</td>\n",
              "      <td>2018</td>\n",
              "    </tr>\n",
              "    <tr>\n",
              "      <th>4</th>\n",
              "      <td>04:06:31</td>\n",
              "      <td>160474</td>\n",
              "      <td>40993972</td>\n",
              "      <td>licenciatura en administracion(3)</td>\n",
              "      <td>NaN</td>\n",
              "      <td>mancubruno@gmail.com</td>\n",
              "      <td>hola, en la página dice que tengo asignado el ...</td>\n",
              "      <td>36.964314</td>\n",
              "      <td>Boleto Universitario</td>\n",
              "      <td>1</td>\n",
              "      <td>3</td>\n",
              "      <td>10</td>\n",
              "      <td>2</td>\n",
              "      <td>2019</td>\n",
              "    </tr>\n",
              "  </tbody>\n",
              "</table>\n",
              "</div>"
            ],
            "text/plain": [
              "       hora  legajo documento  ... mes cuatrimestre  anio\n",
              "0  18:28:42  146293  39749232  ...   4            1  2019\n",
              "1  18:28:42  146293  39749232  ...   4            1  2019\n",
              "2  20:20:20  165259  42344375  ...   7            1  2018\n",
              "3  10:37:12  162072  42041231  ...   7            1  2018\n",
              "4  04:06:31  160474  40993972  ...  10            2  2019\n",
              "\n",
              "[5 rows x 14 columns]"
            ]
          },
          "metadata": {},
          "execution_count": 5
        }
      ]
    },
    {
      "cell_type": "markdown",
      "metadata": {
        "id": "4XjW6N1_qo1T"
      },
      "source": [
        "4. Preproceso la hora de la consulta de la siguiente forma:\n",
        "    - 0-Mañana (6-12 hs),\n",
        "    - 1-Media-Tarde (12-16 hs)\n",
        "    - 2-Tarde (16-20 hs)\n",
        "    - 3-Noche (20-00 hs)\n",
        "    - 4-Madrugada (00-6 hs)"
      ]
    },
    {
      "cell_type": "code",
      "metadata": {
        "id": "ZtIB9k3NrNWo"
      },
      "source": [
        "def convierte_horario(hora_consulta):\n",
        "  from datetime import datetime\n",
        "  # Convierto a hora\n",
        "  hora = datetime.strptime(hora_consulta, '%H:%M:%S').time()\n",
        "  return hora\n",
        "\n",
        "def discretiza_horario(horario):\n",
        "  if (horario.hour>=6 and horario.hour<12):\n",
        "    rango_horario=0\n",
        "  elif (horario.hour>=12 and horario.hour<16):\n",
        "    rango_horario=1\n",
        "  elif (horario.hour>=16 and horario.hour<20):\n",
        "    rango_horario=2\n",
        "  else:\n",
        "    rango_horario=3 \n",
        "  return rango_horario\n",
        "\n",
        "#discretiza_horario(convierte_horario(df.loc[0, 'Hora']))\n",
        "horario = df['hora'].apply(convierte_horario)\n",
        "df['hora_discretizada'] = horario.apply(discretiza_horario)"
      ],
      "execution_count": 6,
      "outputs": []
    },
    {
      "cell_type": "code",
      "metadata": {
        "colab": {
          "base_uri": "https://localhost:8080/",
          "height": 700
        },
        "id": "Kaz03ZmpuFHC",
        "outputId": "574c18f9-976e-4194-e7b4-fcc1c1636470"
      },
      "source": [
        "df.drop(columns=['hora'], inplace=True)\n",
        "df.head()"
      ],
      "execution_count": 7,
      "outputs": [
        {
          "output_type": "execute_result",
          "data": {
            "text/html": [
              "<div>\n",
              "<style scoped>\n",
              "    .dataframe tbody tr th:only-of-type {\n",
              "        vertical-align: middle;\n",
              "    }\n",
              "\n",
              "    .dataframe tbody tr th {\n",
              "        vertical-align: top;\n",
              "    }\n",
              "\n",
              "    .dataframe thead th {\n",
              "        text-align: right;\n",
              "    }\n",
              "</style>\n",
              "<table border=\"1\" class=\"dataframe\">\n",
              "  <thead>\n",
              "    <tr style=\"text-align: right;\">\n",
              "      <th></th>\n",
              "      <th>legajo</th>\n",
              "      <th>documento</th>\n",
              "      <th>carrera</th>\n",
              "      <th>telefono</th>\n",
              "      <th>email</th>\n",
              "      <th>consulta</th>\n",
              "      <th>score</th>\n",
              "      <th>clase</th>\n",
              "      <th>dia_semana</th>\n",
              "      <th>semana_del_mes</th>\n",
              "      <th>mes</th>\n",
              "      <th>cuatrimestre</th>\n",
              "      <th>anio</th>\n",
              "      <th>hora_discretizada</th>\n",
              "    </tr>\n",
              "  </thead>\n",
              "  <tbody>\n",
              "    <tr>\n",
              "      <th>0</th>\n",
              "      <td>146293</td>\n",
              "      <td>39749232</td>\n",
              "      <td>licenciatura en administracion(3)</td>\n",
              "      <td>1140878148</td>\n",
              "      <td>boscomatias@hotmail.com</td>\n",
              "      <td>hola queria saber porque no se me acredita la ...</td>\n",
              "      <td>45.517704</td>\n",
              "      <td>Boleto Universitario</td>\n",
              "      <td>1</td>\n",
              "      <td>2</td>\n",
              "      <td>4</td>\n",
              "      <td>1</td>\n",
              "      <td>2019</td>\n",
              "      <td>2</td>\n",
              "    </tr>\n",
              "    <tr>\n",
              "      <th>1</th>\n",
              "      <td>146293</td>\n",
              "      <td>39749232</td>\n",
              "      <td>licenciatura en administracion(3)</td>\n",
              "      <td>1140878148</td>\n",
              "      <td>boscomatias@hotmail.com &lt;mailto:boscomatias@ho...</td>\n",
              "      <td>hola queria saber porque no se me acredita la ...</td>\n",
              "      <td>45.517704</td>\n",
              "      <td>Boleto Universitario</td>\n",
              "      <td>1</td>\n",
              "      <td>2</td>\n",
              "      <td>4</td>\n",
              "      <td>1</td>\n",
              "      <td>2019</td>\n",
              "      <td>2</td>\n",
              "    </tr>\n",
              "    <tr>\n",
              "      <th>2</th>\n",
              "      <td>165259</td>\n",
              "      <td>42344375</td>\n",
              "      <td>licenciatura en administracion(3)</td>\n",
              "      <td>3489441201</td>\n",
              "      <td>agustinvandick@gmail.com</td>\n",
              "      <td>yo hace casi un mes hice el tramite para la su...</td>\n",
              "      <td>39.395226</td>\n",
              "      <td>Boleto Universitario</td>\n",
              "      <td>0</td>\n",
              "      <td>5</td>\n",
              "      <td>7</td>\n",
              "      <td>1</td>\n",
              "      <td>2018</td>\n",
              "      <td>3</td>\n",
              "    </tr>\n",
              "    <tr>\n",
              "      <th>3</th>\n",
              "      <td>162072</td>\n",
              "      <td>42041231</td>\n",
              "      <td>licenciatura en administracion(3)</td>\n",
              "      <td>1550416069</td>\n",
              "      <td>meluvasone57@hotmail.com</td>\n",
              "      <td>hola, hace dos meses q me cargan la sube, y en...</td>\n",
              "      <td>37.903893</td>\n",
              "      <td>Boleto Universitario</td>\n",
              "      <td>2</td>\n",
              "      <td>1</td>\n",
              "      <td>7</td>\n",
              "      <td>1</td>\n",
              "      <td>2018</td>\n",
              "      <td>0</td>\n",
              "    </tr>\n",
              "    <tr>\n",
              "      <th>4</th>\n",
              "      <td>160474</td>\n",
              "      <td>40993972</td>\n",
              "      <td>licenciatura en administracion(3)</td>\n",
              "      <td>NaN</td>\n",
              "      <td>mancubruno@gmail.com</td>\n",
              "      <td>hola, en la página dice que tengo asignado el ...</td>\n",
              "      <td>36.964314</td>\n",
              "      <td>Boleto Universitario</td>\n",
              "      <td>1</td>\n",
              "      <td>3</td>\n",
              "      <td>10</td>\n",
              "      <td>2</td>\n",
              "      <td>2019</td>\n",
              "      <td>3</td>\n",
              "    </tr>\n",
              "  </tbody>\n",
              "</table>\n",
              "</div>"
            ],
            "text/plain": [
              "   legajo documento  ...  anio hora_discretizada\n",
              "0  146293  39749232  ...  2019                 2\n",
              "1  146293  39749232  ...  2019                 2\n",
              "2  165259  42344375  ...  2018                 3\n",
              "3  162072  42041231  ...  2018                 0\n",
              "4  160474  40993972  ...  2019                 3\n",
              "\n",
              "[5 rows x 14 columns]"
            ]
          },
          "metadata": {},
          "execution_count": 7
        }
      ]
    },
    {
      "cell_type": "markdown",
      "metadata": {
        "id": "hsRw3yrMvA5d"
      },
      "source": [
        "5. Preproceso el legajo y el DNI:<br />\n",
        "  Los separo en cuantiles asumiendo que los DNI mas bajos son personas mas grandes y los legajos mas grandes son estudiantes mas nuevos."
      ]
    },
    {
      "cell_type": "code",
      "metadata": {
        "id": "QJeq9I6C1sXp"
      },
      "source": [
        "import numpy as np\n",
        " \n",
        "def discretiza_atributo(atributo, intervalos=4):\n",
        "  # Se discretiza según la cantidad de q definidos\n",
        "  discretizado = pd.qcut(atributo, q=intervalos)\n",
        "  \n",
        "  # Nos quedamos con los diferentes intervalos, los ordenamos min-max\n",
        "  lista_intervalos = discretizado.unique()\n",
        "\n",
        "  lista_intervalos.sort_values(inplace=True)\n",
        "  #  Lo casteamos a str\n",
        "  lista_intervalos = lista_intervalos.astype(str)\n",
        "  #  Casteamos el atributo a str\n",
        "  discretizado = discretizado.astype(str)\n",
        "  # Borro los nan porque los modifico a mano\n",
        "  tiene_nan = False\n",
        "  if ('nan' in lista_intervalos):\n",
        "    tiene_nan = True\n",
        "    np.delete(lista_intervalos, np.where(lista_intervalos == 'nan'))\n",
        "\n",
        "  for i in range(intervalos):\n",
        "    # Si existiera, quiero dejar el nan en el intervalo con etiqueta 0, por eso sumo 1 a i\n",
        "    discretizado = discretizado.replace(lista_intervalos[i], i+1)\n",
        "    discretizado = discretizado.replace('nan', 0)\n",
        "\n",
        "  return discretizado\n",
        "\n",
        "# Cambio a numericos los Documentos y los discretizo\n",
        "df[\"documento\"] = pd.to_numeric(df[\"documento\"], errors='coerce')\n",
        "df[\"dni_discretizado\"] = discretiza_atributo(df[\"documento\"], 8)\n",
        "\n",
        "# Cambio a numericos los Legajos y los discretizo\n",
        "df[\"legajo\"] = pd.to_numeric(df[\"legajo\"], errors='coerce')\n",
        "df[\"legajo_discretizado\"] = discretiza_atributo(df[\"legajo\"], 4)"
      ],
      "execution_count": 8,
      "outputs": []
    },
    {
      "cell_type": "code",
      "metadata": {
        "colab": {
          "base_uri": "https://localhost:8080/"
        },
        "id": "PGIkhtQ9Fs7X",
        "outputId": "9229e855-b2d9-4290-e24e-86cc50754597"
      },
      "source": [
        "df[\"dni_discretizado\"].value_counts()"
      ],
      "execution_count": 9,
      "outputs": [
        {
          "output_type": "execute_result",
          "data": {
            "text/plain": [
              "4    101\n",
              "1    101\n",
              "8    100\n",
              "7    100\n",
              "2    100\n",
              "6     99\n",
              "5     99\n",
              "3     98\n",
              "0      2\n",
              "Name: dni_discretizado, dtype: int64"
            ]
          },
          "metadata": {},
          "execution_count": 9
        }
      ]
    },
    {
      "cell_type": "code",
      "metadata": {
        "colab": {
          "base_uri": "https://localhost:8080/"
        },
        "id": "GQ6UOF3sJrwu",
        "outputId": "3211c203-95d4-4ca3-9afe-d3fe8d8bcd43"
      },
      "source": [
        "df[\"legajo_discretizado\"].value_counts()"
      ],
      "execution_count": 10,
      "outputs": [
        {
          "output_type": "execute_result",
          "data": {
            "text/plain": [
              "0    219\n",
              "1    146\n",
              "4    145\n",
              "3    145\n",
              "2    145\n",
              "Name: legajo_discretizado, dtype: int64"
            ]
          },
          "metadata": {},
          "execution_count": 10
        }
      ]
    },
    {
      "cell_type": "markdown",
      "metadata": {
        "id": "QubUGs5fnykm"
      },
      "source": [
        "6. Genero una variable dummy con la existencia o no de Legajo y Teléfono:"
      ]
    },
    {
      "cell_type": "code",
      "metadata": {
        "id": "d5vwKz6-nBz4"
      },
      "source": [
        "# Tiene legajo?\n",
        "def posee_valor(atributo):\n",
        "  return 1-atributo.isna()\n",
        "  \n",
        "df['posee_legajo'] = posee_valor(df['legajo'])"
      ],
      "execution_count": 11,
      "outputs": []
    },
    {
      "cell_type": "code",
      "metadata": {
        "colab": {
          "base_uri": "https://localhost:8080/",
          "height": 700
        },
        "id": "WMvevGffJ4OD",
        "outputId": "f8b9b310-67ec-430c-f967-f1d4f3e5771b"
      },
      "source": [
        "df.drop(columns=['legajo', 'documento'], inplace=True)\n",
        "df.head()"
      ],
      "execution_count": 12,
      "outputs": [
        {
          "output_type": "execute_result",
          "data": {
            "text/html": [
              "<div>\n",
              "<style scoped>\n",
              "    .dataframe tbody tr th:only-of-type {\n",
              "        vertical-align: middle;\n",
              "    }\n",
              "\n",
              "    .dataframe tbody tr th {\n",
              "        vertical-align: top;\n",
              "    }\n",
              "\n",
              "    .dataframe thead th {\n",
              "        text-align: right;\n",
              "    }\n",
              "</style>\n",
              "<table border=\"1\" class=\"dataframe\">\n",
              "  <thead>\n",
              "    <tr style=\"text-align: right;\">\n",
              "      <th></th>\n",
              "      <th>carrera</th>\n",
              "      <th>telefono</th>\n",
              "      <th>email</th>\n",
              "      <th>consulta</th>\n",
              "      <th>score</th>\n",
              "      <th>clase</th>\n",
              "      <th>dia_semana</th>\n",
              "      <th>semana_del_mes</th>\n",
              "      <th>mes</th>\n",
              "      <th>cuatrimestre</th>\n",
              "      <th>anio</th>\n",
              "      <th>hora_discretizada</th>\n",
              "      <th>dni_discretizado</th>\n",
              "      <th>legajo_discretizado</th>\n",
              "      <th>posee_legajo</th>\n",
              "    </tr>\n",
              "  </thead>\n",
              "  <tbody>\n",
              "    <tr>\n",
              "      <th>0</th>\n",
              "      <td>licenciatura en administracion(3)</td>\n",
              "      <td>1140878148</td>\n",
              "      <td>boscomatias@hotmail.com</td>\n",
              "      <td>hola queria saber porque no se me acredita la ...</td>\n",
              "      <td>45.517704</td>\n",
              "      <td>Boleto Universitario</td>\n",
              "      <td>1</td>\n",
              "      <td>2</td>\n",
              "      <td>4</td>\n",
              "      <td>1</td>\n",
              "      <td>2019</td>\n",
              "      <td>2</td>\n",
              "      <td>6</td>\n",
              "      <td>3</td>\n",
              "      <td>1</td>\n",
              "    </tr>\n",
              "    <tr>\n",
              "      <th>1</th>\n",
              "      <td>licenciatura en administracion(3)</td>\n",
              "      <td>1140878148</td>\n",
              "      <td>boscomatias@hotmail.com &lt;mailto:boscomatias@ho...</td>\n",
              "      <td>hola queria saber porque no se me acredita la ...</td>\n",
              "      <td>45.517704</td>\n",
              "      <td>Boleto Universitario</td>\n",
              "      <td>1</td>\n",
              "      <td>2</td>\n",
              "      <td>4</td>\n",
              "      <td>1</td>\n",
              "      <td>2019</td>\n",
              "      <td>2</td>\n",
              "      <td>6</td>\n",
              "      <td>3</td>\n",
              "      <td>1</td>\n",
              "    </tr>\n",
              "    <tr>\n",
              "      <th>2</th>\n",
              "      <td>licenciatura en administracion(3)</td>\n",
              "      <td>3489441201</td>\n",
              "      <td>agustinvandick@gmail.com</td>\n",
              "      <td>yo hace casi un mes hice el tramite para la su...</td>\n",
              "      <td>39.395226</td>\n",
              "      <td>Boleto Universitario</td>\n",
              "      <td>0</td>\n",
              "      <td>5</td>\n",
              "      <td>7</td>\n",
              "      <td>1</td>\n",
              "      <td>2018</td>\n",
              "      <td>3</td>\n",
              "      <td>8</td>\n",
              "      <td>4</td>\n",
              "      <td>1</td>\n",
              "    </tr>\n",
              "    <tr>\n",
              "      <th>3</th>\n",
              "      <td>licenciatura en administracion(3)</td>\n",
              "      <td>1550416069</td>\n",
              "      <td>meluvasone57@hotmail.com</td>\n",
              "      <td>hola, hace dos meses q me cargan la sube, y en...</td>\n",
              "      <td>37.903893</td>\n",
              "      <td>Boleto Universitario</td>\n",
              "      <td>2</td>\n",
              "      <td>1</td>\n",
              "      <td>7</td>\n",
              "      <td>1</td>\n",
              "      <td>2018</td>\n",
              "      <td>0</td>\n",
              "      <td>8</td>\n",
              "      <td>4</td>\n",
              "      <td>1</td>\n",
              "    </tr>\n",
              "    <tr>\n",
              "      <th>4</th>\n",
              "      <td>licenciatura en administracion(3)</td>\n",
              "      <td>NaN</td>\n",
              "      <td>mancubruno@gmail.com</td>\n",
              "      <td>hola, en la página dice que tengo asignado el ...</td>\n",
              "      <td>36.964314</td>\n",
              "      <td>Boleto Universitario</td>\n",
              "      <td>1</td>\n",
              "      <td>3</td>\n",
              "      <td>10</td>\n",
              "      <td>2</td>\n",
              "      <td>2019</td>\n",
              "      <td>3</td>\n",
              "      <td>7</td>\n",
              "      <td>4</td>\n",
              "      <td>1</td>\n",
              "    </tr>\n",
              "  </tbody>\n",
              "</table>\n",
              "</div>"
            ],
            "text/plain": [
              "                             carrera  ... posee_legajo\n",
              "0  licenciatura en administracion(3)  ...            1\n",
              "1  licenciatura en administracion(3)  ...            1\n",
              "2  licenciatura en administracion(3)  ...            1\n",
              "3  licenciatura en administracion(3)  ...            1\n",
              "4  licenciatura en administracion(3)  ...            1\n",
              "\n",
              "[5 rows x 15 columns]"
            ]
          },
          "metadata": {},
          "execution_count": 12
        }
      ]
    },
    {
      "cell_type": "code",
      "metadata": {
        "id": "-ux6oNoknIBh"
      },
      "source": [
        "# Tiene teléfono? \n",
        "df['posee_telefono'] = posee_valor(df['telefono'])"
      ],
      "execution_count": 13,
      "outputs": []
    },
    {
      "cell_type": "code",
      "metadata": {
        "colab": {
          "base_uri": "https://localhost:8080/",
          "height": 700
        },
        "id": "YSYkq_jnnNG3",
        "outputId": "c534c301-fc83-476e-e424-1b6fe68f8a18"
      },
      "source": [
        "df.drop(columns=['telefono'], inplace=True)\n",
        "df.head()"
      ],
      "execution_count": 14,
      "outputs": [
        {
          "output_type": "execute_result",
          "data": {
            "text/html": [
              "<div>\n",
              "<style scoped>\n",
              "    .dataframe tbody tr th:only-of-type {\n",
              "        vertical-align: middle;\n",
              "    }\n",
              "\n",
              "    .dataframe tbody tr th {\n",
              "        vertical-align: top;\n",
              "    }\n",
              "\n",
              "    .dataframe thead th {\n",
              "        text-align: right;\n",
              "    }\n",
              "</style>\n",
              "<table border=\"1\" class=\"dataframe\">\n",
              "  <thead>\n",
              "    <tr style=\"text-align: right;\">\n",
              "      <th></th>\n",
              "      <th>carrera</th>\n",
              "      <th>email</th>\n",
              "      <th>consulta</th>\n",
              "      <th>score</th>\n",
              "      <th>clase</th>\n",
              "      <th>dia_semana</th>\n",
              "      <th>semana_del_mes</th>\n",
              "      <th>mes</th>\n",
              "      <th>cuatrimestre</th>\n",
              "      <th>anio</th>\n",
              "      <th>hora_discretizada</th>\n",
              "      <th>dni_discretizado</th>\n",
              "      <th>legajo_discretizado</th>\n",
              "      <th>posee_legajo</th>\n",
              "      <th>posee_telefono</th>\n",
              "    </tr>\n",
              "  </thead>\n",
              "  <tbody>\n",
              "    <tr>\n",
              "      <th>0</th>\n",
              "      <td>licenciatura en administracion(3)</td>\n",
              "      <td>boscomatias@hotmail.com</td>\n",
              "      <td>hola queria saber porque no se me acredita la ...</td>\n",
              "      <td>45.517704</td>\n",
              "      <td>Boleto Universitario</td>\n",
              "      <td>1</td>\n",
              "      <td>2</td>\n",
              "      <td>4</td>\n",
              "      <td>1</td>\n",
              "      <td>2019</td>\n",
              "      <td>2</td>\n",
              "      <td>6</td>\n",
              "      <td>3</td>\n",
              "      <td>1</td>\n",
              "      <td>1</td>\n",
              "    </tr>\n",
              "    <tr>\n",
              "      <th>1</th>\n",
              "      <td>licenciatura en administracion(3)</td>\n",
              "      <td>boscomatias@hotmail.com &lt;mailto:boscomatias@ho...</td>\n",
              "      <td>hola queria saber porque no se me acredita la ...</td>\n",
              "      <td>45.517704</td>\n",
              "      <td>Boleto Universitario</td>\n",
              "      <td>1</td>\n",
              "      <td>2</td>\n",
              "      <td>4</td>\n",
              "      <td>1</td>\n",
              "      <td>2019</td>\n",
              "      <td>2</td>\n",
              "      <td>6</td>\n",
              "      <td>3</td>\n",
              "      <td>1</td>\n",
              "      <td>1</td>\n",
              "    </tr>\n",
              "    <tr>\n",
              "      <th>2</th>\n",
              "      <td>licenciatura en administracion(3)</td>\n",
              "      <td>agustinvandick@gmail.com</td>\n",
              "      <td>yo hace casi un mes hice el tramite para la su...</td>\n",
              "      <td>39.395226</td>\n",
              "      <td>Boleto Universitario</td>\n",
              "      <td>0</td>\n",
              "      <td>5</td>\n",
              "      <td>7</td>\n",
              "      <td>1</td>\n",
              "      <td>2018</td>\n",
              "      <td>3</td>\n",
              "      <td>8</td>\n",
              "      <td>4</td>\n",
              "      <td>1</td>\n",
              "      <td>1</td>\n",
              "    </tr>\n",
              "    <tr>\n",
              "      <th>3</th>\n",
              "      <td>licenciatura en administracion(3)</td>\n",
              "      <td>meluvasone57@hotmail.com</td>\n",
              "      <td>hola, hace dos meses q me cargan la sube, y en...</td>\n",
              "      <td>37.903893</td>\n",
              "      <td>Boleto Universitario</td>\n",
              "      <td>2</td>\n",
              "      <td>1</td>\n",
              "      <td>7</td>\n",
              "      <td>1</td>\n",
              "      <td>2018</td>\n",
              "      <td>0</td>\n",
              "      <td>8</td>\n",
              "      <td>4</td>\n",
              "      <td>1</td>\n",
              "      <td>1</td>\n",
              "    </tr>\n",
              "    <tr>\n",
              "      <th>4</th>\n",
              "      <td>licenciatura en administracion(3)</td>\n",
              "      <td>mancubruno@gmail.com</td>\n",
              "      <td>hola, en la página dice que tengo asignado el ...</td>\n",
              "      <td>36.964314</td>\n",
              "      <td>Boleto Universitario</td>\n",
              "      <td>1</td>\n",
              "      <td>3</td>\n",
              "      <td>10</td>\n",
              "      <td>2</td>\n",
              "      <td>2019</td>\n",
              "      <td>3</td>\n",
              "      <td>7</td>\n",
              "      <td>4</td>\n",
              "      <td>1</td>\n",
              "      <td>0</td>\n",
              "    </tr>\n",
              "  </tbody>\n",
              "</table>\n",
              "</div>"
            ],
            "text/plain": [
              "                             carrera  ... posee_telefono\n",
              "0  licenciatura en administracion(3)  ...              1\n",
              "1  licenciatura en administracion(3)  ...              1\n",
              "2  licenciatura en administracion(3)  ...              1\n",
              "3  licenciatura en administracion(3)  ...              1\n",
              "4  licenciatura en administracion(3)  ...              0\n",
              "\n",
              "[5 rows x 15 columns]"
            ]
          },
          "metadata": {},
          "execution_count": 14
        }
      ]
    },
    {
      "cell_type": "markdown",
      "metadata": {
        "id": "XwliKva_oORy"
      },
      "source": [
        "7. Se extrae el código de Carrera:"
      ]
    },
    {
      "cell_type": "code",
      "metadata": {
        "id": "aNQgRSVNKrUJ"
      },
      "source": [
        "def extrae_codigo_carrera(texto_carrera):\n",
        "  codigo = 0\n",
        "  if \"sin carrera\" not in texto_carrera:\n",
        "    texto_carrera = texto_carrera.split('(')\n",
        "    texto_carrera = texto_carrera[len(texto_carrera)-1].split(')')\n",
        "    codigo = int(texto_carrera[0])\n",
        "  return codigo\n",
        "\n",
        "# extrae_codigo_carrera(df.loc[0, 'Carrera'])\n",
        "df['carrera_valor'] = df['carrera'].apply(extrae_codigo_carrera)"
      ],
      "execution_count": 15,
      "outputs": []
    },
    {
      "cell_type": "code",
      "metadata": {
        "colab": {
          "base_uri": "https://localhost:8080/",
          "height": 700
        },
        "id": "7914syUaOKUL",
        "outputId": "12a452ed-fbe3-456a-d992-fb1eb579fb20"
      },
      "source": [
        "df.drop(columns=['carrera'], inplace=True)\n",
        "df.head()"
      ],
      "execution_count": 16,
      "outputs": [
        {
          "output_type": "execute_result",
          "data": {
            "text/html": [
              "<div>\n",
              "<style scoped>\n",
              "    .dataframe tbody tr th:only-of-type {\n",
              "        vertical-align: middle;\n",
              "    }\n",
              "\n",
              "    .dataframe tbody tr th {\n",
              "        vertical-align: top;\n",
              "    }\n",
              "\n",
              "    .dataframe thead th {\n",
              "        text-align: right;\n",
              "    }\n",
              "</style>\n",
              "<table border=\"1\" class=\"dataframe\">\n",
              "  <thead>\n",
              "    <tr style=\"text-align: right;\">\n",
              "      <th></th>\n",
              "      <th>email</th>\n",
              "      <th>consulta</th>\n",
              "      <th>score</th>\n",
              "      <th>clase</th>\n",
              "      <th>dia_semana</th>\n",
              "      <th>semana_del_mes</th>\n",
              "      <th>mes</th>\n",
              "      <th>cuatrimestre</th>\n",
              "      <th>anio</th>\n",
              "      <th>hora_discretizada</th>\n",
              "      <th>dni_discretizado</th>\n",
              "      <th>legajo_discretizado</th>\n",
              "      <th>posee_legajo</th>\n",
              "      <th>posee_telefono</th>\n",
              "      <th>carrera_valor</th>\n",
              "    </tr>\n",
              "  </thead>\n",
              "  <tbody>\n",
              "    <tr>\n",
              "      <th>0</th>\n",
              "      <td>boscomatias@hotmail.com</td>\n",
              "      <td>hola queria saber porque no se me acredita la ...</td>\n",
              "      <td>45.517704</td>\n",
              "      <td>Boleto Universitario</td>\n",
              "      <td>1</td>\n",
              "      <td>2</td>\n",
              "      <td>4</td>\n",
              "      <td>1</td>\n",
              "      <td>2019</td>\n",
              "      <td>2</td>\n",
              "      <td>6</td>\n",
              "      <td>3</td>\n",
              "      <td>1</td>\n",
              "      <td>1</td>\n",
              "      <td>3</td>\n",
              "    </tr>\n",
              "    <tr>\n",
              "      <th>1</th>\n",
              "      <td>boscomatias@hotmail.com &lt;mailto:boscomatias@ho...</td>\n",
              "      <td>hola queria saber porque no se me acredita la ...</td>\n",
              "      <td>45.517704</td>\n",
              "      <td>Boleto Universitario</td>\n",
              "      <td>1</td>\n",
              "      <td>2</td>\n",
              "      <td>4</td>\n",
              "      <td>1</td>\n",
              "      <td>2019</td>\n",
              "      <td>2</td>\n",
              "      <td>6</td>\n",
              "      <td>3</td>\n",
              "      <td>1</td>\n",
              "      <td>1</td>\n",
              "      <td>3</td>\n",
              "    </tr>\n",
              "    <tr>\n",
              "      <th>2</th>\n",
              "      <td>agustinvandick@gmail.com</td>\n",
              "      <td>yo hace casi un mes hice el tramite para la su...</td>\n",
              "      <td>39.395226</td>\n",
              "      <td>Boleto Universitario</td>\n",
              "      <td>0</td>\n",
              "      <td>5</td>\n",
              "      <td>7</td>\n",
              "      <td>1</td>\n",
              "      <td>2018</td>\n",
              "      <td>3</td>\n",
              "      <td>8</td>\n",
              "      <td>4</td>\n",
              "      <td>1</td>\n",
              "      <td>1</td>\n",
              "      <td>3</td>\n",
              "    </tr>\n",
              "    <tr>\n",
              "      <th>3</th>\n",
              "      <td>meluvasone57@hotmail.com</td>\n",
              "      <td>hola, hace dos meses q me cargan la sube, y en...</td>\n",
              "      <td>37.903893</td>\n",
              "      <td>Boleto Universitario</td>\n",
              "      <td>2</td>\n",
              "      <td>1</td>\n",
              "      <td>7</td>\n",
              "      <td>1</td>\n",
              "      <td>2018</td>\n",
              "      <td>0</td>\n",
              "      <td>8</td>\n",
              "      <td>4</td>\n",
              "      <td>1</td>\n",
              "      <td>1</td>\n",
              "      <td>3</td>\n",
              "    </tr>\n",
              "    <tr>\n",
              "      <th>4</th>\n",
              "      <td>mancubruno@gmail.com</td>\n",
              "      <td>hola, en la página dice que tengo asignado el ...</td>\n",
              "      <td>36.964314</td>\n",
              "      <td>Boleto Universitario</td>\n",
              "      <td>1</td>\n",
              "      <td>3</td>\n",
              "      <td>10</td>\n",
              "      <td>2</td>\n",
              "      <td>2019</td>\n",
              "      <td>3</td>\n",
              "      <td>7</td>\n",
              "      <td>4</td>\n",
              "      <td>1</td>\n",
              "      <td>0</td>\n",
              "      <td>3</td>\n",
              "    </tr>\n",
              "  </tbody>\n",
              "</table>\n",
              "</div>"
            ],
            "text/plain": [
              "                                               email  ... carrera_valor\n",
              "0                            boscomatias@hotmail.com  ...             3\n",
              "1  boscomatias@hotmail.com <mailto:boscomatias@ho...  ...             3\n",
              "2                           agustinvandick@gmail.com  ...             3\n",
              "3                           meluvasone57@hotmail.com  ...             3\n",
              "4                               mancubruno@gmail.com  ...             3\n",
              "\n",
              "[5 rows x 15 columns]"
            ]
          },
          "metadata": {},
          "execution_count": 16
        }
      ]
    },
    {
      "cell_type": "markdown",
      "metadata": {
        "id": "T82OrpbfoRt2"
      },
      "source": [
        "8. Se verifica el proveedor de correo electrónico:"
      ]
    },
    {
      "cell_type": "code",
      "metadata": {
        "id": "un2AjzunnWbm"
      },
      "source": [
        "def servicio_email(consulta, proveedor):  \n",
        "  if consulta.lower().find(proveedor)==-1:\n",
        "    return 0\n",
        "  else:\n",
        "    return 1\n",
        "# Correo Gmail?\n",
        "# df['correo_gmail'] = df['E-mail'].apply(servicio_email, proveedor='gmail')\n",
        "# Correo yahoo?\n",
        "# df['correo_yahoo'] = df['E-mail'].apply(servicio_email, proveedor='yahoo')\n",
        "# Correo hotmail?\n",
        "# df['correo_hotmail'] = df['E-mail'].apply(servicio_email, proveedor='hotmail')\n",
        "\n",
        "def extrae_proveedor_correo(texto_correo):\n",
        "    texto_correo = texto_correo.split('@')\n",
        "    texto_correo = texto_correo[len(texto_correo)-1].split('.')\n",
        "    proveedor_correo = texto_correo[0]\n",
        "    return proveedor_correo\n",
        "\n",
        "#extrae_proveedor_correo(df.loc[0, 'E-mail'])\n",
        "df['proveedor_correo'] = df['email'].apply(extrae_proveedor_correo)"
      ],
      "execution_count": 17,
      "outputs": []
    },
    {
      "cell_type": "code",
      "metadata": {
        "colab": {
          "base_uri": "https://localhost:8080/"
        },
        "id": "dYSTwAzOpSDe",
        "outputId": "42bc6fe9-d26e-4177-dabb-a4fe518e65f7"
      },
      "source": [
        "df['proveedor_correo'].value_counts()"
      ],
      "execution_count": 18,
      "outputs": [
        {
          "output_type": "execute_result",
          "data": {
            "text/plain": [
              "hotmail                 383\n",
              "gmail                   298\n",
              "yahoo                    52\n",
              "outlook                  34\n",
              "live                     19\n",
              "icloud                    2\n",
              "gmial                     2\n",
              "gmx                       2\n",
              "udesa                     1\n",
              "hotmaill                  1\n",
              "htmail                    1\n",
              "dnpdistribuciones         1\n",
              "grupobimbo                1\n",
              "fangioconcesionarios      1\n",
              "osde                      1\n",
              "correoargentino           1\n",
              "Name: proveedor_correo, dtype: int64"
            ]
          },
          "metadata": {},
          "execution_count": 18
        }
      ]
    },
    {
      "cell_type": "code",
      "metadata": {
        "id": "OimXHq_No7un",
        "colab": {
          "base_uri": "https://localhost:8080/"
        },
        "outputId": "82916d22-5724-45ba-c701-d849b83ade47"
      },
      "source": [
        "# Limpio el campo proveedor_correo\n",
        "\n",
        "df['proveedor_correo'].replace({\"autloock\": \"outlook\",\n",
        "                                \"outlool\": \"outlook\",\n",
        "                                \"gamail\": \"gmail\",\n",
        "                                \"gmal\": \"gmail\",\n",
        "                                \"gmil\": \"gmail\",\n",
        "                                \"hotmaill\": \"hotmail\",\n",
        "                                \"luve\": \"live\",\n",
        "                                }, inplace=True)\n",
        "\n",
        "# Se transforma proveedor_correo a numerico\n",
        "from sklearn import preprocessing\n",
        "le_correo = preprocessing.LabelEncoder()\n",
        "df['proveedor_correo'] = le_correo.fit_transform(df['proveedor_correo'])\n",
        "\n",
        "le_correo.classes_"
      ],
      "execution_count": 19,
      "outputs": [
        {
          "output_type": "execute_result",
          "data": {
            "text/plain": [
              "array(['correoargentino', 'dnpdistribuciones', 'fangioconcesionarios',\n",
              "       'gmail', 'gmial', 'gmx', 'grupobimbo', 'hotmail', 'htmail',\n",
              "       'icloud', 'live', 'osde', 'outlook', 'udesa', 'yahoo'],\n",
              "      dtype=object)"
            ]
          },
          "metadata": {},
          "execution_count": 19
        }
      ]
    },
    {
      "cell_type": "code",
      "metadata": {
        "colab": {
          "base_uri": "https://localhost:8080/",
          "height": 700
        },
        "id": "2Q74DHQInT9b",
        "outputId": "29948bdb-2fc2-440e-9247-ce6a9b27ae00"
      },
      "source": [
        "df.drop(columns=['email'], inplace=True)\n",
        "df.head()"
      ],
      "execution_count": 20,
      "outputs": [
        {
          "output_type": "execute_result",
          "data": {
            "text/html": [
              "<div>\n",
              "<style scoped>\n",
              "    .dataframe tbody tr th:only-of-type {\n",
              "        vertical-align: middle;\n",
              "    }\n",
              "\n",
              "    .dataframe tbody tr th {\n",
              "        vertical-align: top;\n",
              "    }\n",
              "\n",
              "    .dataframe thead th {\n",
              "        text-align: right;\n",
              "    }\n",
              "</style>\n",
              "<table border=\"1\" class=\"dataframe\">\n",
              "  <thead>\n",
              "    <tr style=\"text-align: right;\">\n",
              "      <th></th>\n",
              "      <th>consulta</th>\n",
              "      <th>score</th>\n",
              "      <th>clase</th>\n",
              "      <th>dia_semana</th>\n",
              "      <th>semana_del_mes</th>\n",
              "      <th>mes</th>\n",
              "      <th>cuatrimestre</th>\n",
              "      <th>anio</th>\n",
              "      <th>hora_discretizada</th>\n",
              "      <th>dni_discretizado</th>\n",
              "      <th>legajo_discretizado</th>\n",
              "      <th>posee_legajo</th>\n",
              "      <th>posee_telefono</th>\n",
              "      <th>carrera_valor</th>\n",
              "      <th>proveedor_correo</th>\n",
              "    </tr>\n",
              "  </thead>\n",
              "  <tbody>\n",
              "    <tr>\n",
              "      <th>0</th>\n",
              "      <td>hola queria saber porque no se me acredita la ...</td>\n",
              "      <td>45.517704</td>\n",
              "      <td>Boleto Universitario</td>\n",
              "      <td>1</td>\n",
              "      <td>2</td>\n",
              "      <td>4</td>\n",
              "      <td>1</td>\n",
              "      <td>2019</td>\n",
              "      <td>2</td>\n",
              "      <td>6</td>\n",
              "      <td>3</td>\n",
              "      <td>1</td>\n",
              "      <td>1</td>\n",
              "      <td>3</td>\n",
              "      <td>7</td>\n",
              "    </tr>\n",
              "    <tr>\n",
              "      <th>1</th>\n",
              "      <td>hola queria saber porque no se me acredita la ...</td>\n",
              "      <td>45.517704</td>\n",
              "      <td>Boleto Universitario</td>\n",
              "      <td>1</td>\n",
              "      <td>2</td>\n",
              "      <td>4</td>\n",
              "      <td>1</td>\n",
              "      <td>2019</td>\n",
              "      <td>2</td>\n",
              "      <td>6</td>\n",
              "      <td>3</td>\n",
              "      <td>1</td>\n",
              "      <td>1</td>\n",
              "      <td>3</td>\n",
              "      <td>7</td>\n",
              "    </tr>\n",
              "    <tr>\n",
              "      <th>2</th>\n",
              "      <td>yo hace casi un mes hice el tramite para la su...</td>\n",
              "      <td>39.395226</td>\n",
              "      <td>Boleto Universitario</td>\n",
              "      <td>0</td>\n",
              "      <td>5</td>\n",
              "      <td>7</td>\n",
              "      <td>1</td>\n",
              "      <td>2018</td>\n",
              "      <td>3</td>\n",
              "      <td>8</td>\n",
              "      <td>4</td>\n",
              "      <td>1</td>\n",
              "      <td>1</td>\n",
              "      <td>3</td>\n",
              "      <td>3</td>\n",
              "    </tr>\n",
              "    <tr>\n",
              "      <th>3</th>\n",
              "      <td>hola, hace dos meses q me cargan la sube, y en...</td>\n",
              "      <td>37.903893</td>\n",
              "      <td>Boleto Universitario</td>\n",
              "      <td>2</td>\n",
              "      <td>1</td>\n",
              "      <td>7</td>\n",
              "      <td>1</td>\n",
              "      <td>2018</td>\n",
              "      <td>0</td>\n",
              "      <td>8</td>\n",
              "      <td>4</td>\n",
              "      <td>1</td>\n",
              "      <td>1</td>\n",
              "      <td>3</td>\n",
              "      <td>7</td>\n",
              "    </tr>\n",
              "    <tr>\n",
              "      <th>4</th>\n",
              "      <td>hola, en la página dice que tengo asignado el ...</td>\n",
              "      <td>36.964314</td>\n",
              "      <td>Boleto Universitario</td>\n",
              "      <td>1</td>\n",
              "      <td>3</td>\n",
              "      <td>10</td>\n",
              "      <td>2</td>\n",
              "      <td>2019</td>\n",
              "      <td>3</td>\n",
              "      <td>7</td>\n",
              "      <td>4</td>\n",
              "      <td>1</td>\n",
              "      <td>0</td>\n",
              "      <td>3</td>\n",
              "      <td>3</td>\n",
              "    </tr>\n",
              "  </tbody>\n",
              "</table>\n",
              "</div>"
            ],
            "text/plain": [
              "                                            consulta  ...  proveedor_correo\n",
              "0  hola queria saber porque no se me acredita la ...  ...                 7\n",
              "1  hola queria saber porque no se me acredita la ...  ...                 7\n",
              "2  yo hace casi un mes hice el tramite para la su...  ...                 3\n",
              "3  hola, hace dos meses q me cargan la sube, y en...  ...                 7\n",
              "4  hola, en la página dice que tengo asignado el ...  ...                 3\n",
              "\n",
              "[5 rows x 15 columns]"
            ]
          },
          "metadata": {},
          "execution_count": 20
        }
      ]
    },
    {
      "cell_type": "markdown",
      "metadata": {
        "id": "ldSoSAe0RKEp"
      },
      "source": [
        "## Features estáticas léxicas\n",
        "\n",
        "Genero las features estáticas léxicas basadas en caracteres:"
      ]
    },
    {
      "cell_type": "code",
      "metadata": {
        "id": "0bFY_Se3Q_VE"
      },
      "source": [
        "# Total number of characters\n",
        "def cantidad_caracteres(columna_consulta):\n",
        "  return columna_consulta.str.len()\n",
        "\n",
        "df['cantidad_caracteres'] = cantidad_caracteres(df.consulta)\n",
        "\n",
        "# Proporcion de mayúsculas en la consulta\n",
        "def proporcion_mayusculas(consulta):\n",
        "  return sum(1 for letra in consulta if letra.isupper())\n",
        "\n",
        "df['proporcion_mayusculas'] = df['consulta'].apply(proporcion_mayusculas)/df['cantidad_caracteres']\n",
        "\n",
        "# Proporción de letras en la consulta\n",
        "def proporcion_letras(consulta):\n",
        "  return sum(1 for letra in consulta if letra.isalpha())\n",
        "\n",
        "df['proporcion_letras'] = df['consulta'].apply(proporcion_letras)/df['cantidad_caracteres']\n",
        "\n",
        "# Cantidad de letras con tildes\n",
        "def cantidad_tildes(consulta):\n",
        "  return sum(1 for letra in consulta if letra.lower() in ['á', 'é', 'í', 'ó', 'ú'])\n",
        "\n",
        "df['cantidad_tildes'] = df['consulta'].apply(cantidad_tildes)"
      ],
      "execution_count": 21,
      "outputs": []
    },
    {
      "cell_type": "markdown",
      "metadata": {
        "id": "kwnIHzGjRwD9"
      },
      "source": [
        "Genero las features estáticas léxicas basadas en palabras:"
      ]
    },
    {
      "cell_type": "code",
      "metadata": {
        "colab": {
          "base_uri": "https://localhost:8080/"
        },
        "id": "9ek4B8SSRz3m",
        "outputId": "cc3b1844-b8b5-4802-b31c-84613b50cf9b"
      },
      "source": [
        "# total number of words\n",
        "def cantidad_palabras(consulta):\n",
        "  palabras = consulta.split(sep=' ')\n",
        "  return len(palabras)\n",
        "\n",
        "df['cantidad_palabras'] = df['consulta'].apply(cantidad_palabras)\n",
        "\n",
        "# proportion of short words (less than four characters)\n",
        "def cantidad_palabras_cortas(consulta, letras_corta=4):\n",
        "  palabras = consulta.split(sep=' ')\n",
        "  return sum(1 for palabra in palabras if len(palabra) <= letras_corta)\n",
        "\n",
        "df['cantidad_palabras_cortas'] = df['consulta'].apply(cantidad_palabras_cortas)\n",
        "\n",
        "# ratio of number of distinct words to the total number of words: |set(words)|/|words|\n",
        "def cantidad_palabras_distintas(consulta, letras_corta=4):\n",
        "  palabras = consulta.split(sep=' ')\n",
        "  return len(set(palabras))\n",
        "\n",
        "df['proporcion_palabras_distintas'] = df['consulta'].apply(cantidad_palabras_distintas)/df['cantidad_palabras']\n",
        "df['proporcion_palabras_distintas']"
      ],
      "execution_count": 22,
      "outputs": [
        {
          "output_type": "execute_result",
          "data": {
            "text/plain": [
              "0      0.703704\n",
              "1      0.703704\n",
              "2      0.785714\n",
              "3      0.769231\n",
              "4      0.885714\n",
              "         ...   \n",
              "795    0.811321\n",
              "796    0.811321\n",
              "797    0.952381\n",
              "798    0.882353\n",
              "799    0.793103\n",
              "Name: proporcion_palabras_distintas, Length: 800, dtype: float64"
            ]
          },
          "metadata": {},
          "execution_count": 22
        }
      ]
    },
    {
      "cell_type": "markdown",
      "metadata": {
        "id": "NGuXt-ufR9tp"
      },
      "source": [
        "Genero las features estáticas sintácticas:"
      ]
    },
    {
      "cell_type": "code",
      "metadata": {
        "id": "7Og4O_n4R-ZJ"
      },
      "source": [
        "# Frecuencia de signos de puntuación {,.¿?!:;’\"}\n",
        "def cantidad_signos_puntuacion(consulta):\n",
        "  signos_puntuacion = [',', '.', '¿', '?', '!', '¡', ':', ';', '\"']\n",
        "  return sum(1 for letra in consulta if letra.lower() in signos_puntuacion)\n",
        "\n",
        "df['frecuencia_signos_puntuacion'] = df['consulta'].apply(cantidad_signos_puntuacion)/df['cantidad_caracteres']"
      ],
      "execution_count": 23,
      "outputs": []
    },
    {
      "cell_type": "markdown",
      "metadata": {
        "id": "JueaJOGoSFl6"
      },
      "source": [
        "Genero las features estáticas estructurales:"
      ]
    },
    {
      "cell_type": "code",
      "metadata": {
        "id": "psAalNqRSGap"
      },
      "source": [
        "# total number of sentences\n",
        "def cantidad_oraciones(consulta):\n",
        "  if consulta.count('.')==0:\n",
        "    return 1\n",
        "  else: \n",
        "    return consulta.count('.')\n",
        "\n",
        "df['cantidad_oraciones'] = df['consulta'].apply(cantidad_oraciones)\n",
        "\n",
        "# utiliza código de asignatura?\n",
        "def utiliza_codigo_asignatura(consulta):\n",
        "  codigo=0\n",
        "  palabras = consulta.split(sep=' ')\n",
        "  for palabra in palabras:\n",
        "    if palabra.isdigit():\n",
        "      if int(palabra)>=10000 and int(palabra)<=99999:\n",
        "        codigo=1\n",
        "  return codigo\n",
        "\n",
        "df['utiliza_codigo_asignatura'] = df['consulta'].apply(utiliza_codigo_asignatura)"
      ],
      "execution_count": 24,
      "outputs": []
    },
    {
      "cell_type": "code",
      "metadata": {
        "colab": {
          "base_uri": "https://localhost:8080/"
        },
        "id": "SN_06acJSXDV",
        "outputId": "b6544d03-1c01-4239-ded2-968d53f79785"
      },
      "source": [
        "len(df.columns)"
      ],
      "execution_count": 25,
      "outputs": [
        {
          "output_type": "execute_result",
          "data": {
            "text/plain": [
              "25"
            ]
          },
          "metadata": {},
          "execution_count": 25
        }
      ]
    },
    {
      "cell_type": "markdown",
      "metadata": {
        "id": "Z6DESYPxrGnO"
      },
      "source": [
        "Por último, reordeno el score y la clase para que me quede última:"
      ]
    },
    {
      "cell_type": "code",
      "metadata": {
        "id": "tvK6vaU6rcok"
      },
      "source": [
        "if TECNICA != 'manual':\n",
        "  x = df['score']\n",
        "  y = df['clase']\n",
        "  df.drop(columns=['clase', 'score'], inplace=True)\n",
        "  df.insert(len(df.columns), \"score\", x, True)\n",
        "  df.insert(len(df.columns), \"clase\", y, True)"
      ],
      "execution_count": 26,
      "outputs": []
    },
    {
      "cell_type": "code",
      "metadata": {
        "colab": {
          "base_uri": "https://localhost:8080/",
          "height": 700
        },
        "id": "kk49RVpUr7oc",
        "outputId": "7bf88378-2787-4244-b922-3de63c1403e8"
      },
      "source": [
        "# Tomo una consulta determinada\n",
        "df.loc[1, 'consulta']\n",
        "\n",
        "# Verifico las columnas del Dataframe\n",
        "df.head()"
      ],
      "execution_count": 27,
      "outputs": [
        {
          "output_type": "execute_result",
          "data": {
            "text/html": [
              "<div>\n",
              "<style scoped>\n",
              "    .dataframe tbody tr th:only-of-type {\n",
              "        vertical-align: middle;\n",
              "    }\n",
              "\n",
              "    .dataframe tbody tr th {\n",
              "        vertical-align: top;\n",
              "    }\n",
              "\n",
              "    .dataframe thead th {\n",
              "        text-align: right;\n",
              "    }\n",
              "</style>\n",
              "<table border=\"1\" class=\"dataframe\">\n",
              "  <thead>\n",
              "    <tr style=\"text-align: right;\">\n",
              "      <th></th>\n",
              "      <th>consulta</th>\n",
              "      <th>dia_semana</th>\n",
              "      <th>semana_del_mes</th>\n",
              "      <th>mes</th>\n",
              "      <th>cuatrimestre</th>\n",
              "      <th>anio</th>\n",
              "      <th>hora_discretizada</th>\n",
              "      <th>dni_discretizado</th>\n",
              "      <th>legajo_discretizado</th>\n",
              "      <th>posee_legajo</th>\n",
              "      <th>posee_telefono</th>\n",
              "      <th>carrera_valor</th>\n",
              "      <th>proveedor_correo</th>\n",
              "      <th>cantidad_caracteres</th>\n",
              "      <th>proporcion_mayusculas</th>\n",
              "      <th>proporcion_letras</th>\n",
              "      <th>cantidad_tildes</th>\n",
              "      <th>cantidad_palabras</th>\n",
              "      <th>cantidad_palabras_cortas</th>\n",
              "      <th>proporcion_palabras_distintas</th>\n",
              "      <th>frecuencia_signos_puntuacion</th>\n",
              "      <th>cantidad_oraciones</th>\n",
              "      <th>utiliza_codigo_asignatura</th>\n",
              "      <th>score</th>\n",
              "      <th>clase</th>\n",
              "    </tr>\n",
              "  </thead>\n",
              "  <tbody>\n",
              "    <tr>\n",
              "      <th>0</th>\n",
              "      <td>hola queria saber porque no se me acredita la ...</td>\n",
              "      <td>1</td>\n",
              "      <td>2</td>\n",
              "      <td>4</td>\n",
              "      <td>1</td>\n",
              "      <td>2019</td>\n",
              "      <td>2</td>\n",
              "      <td>6</td>\n",
              "      <td>3</td>\n",
              "      <td>1</td>\n",
              "      <td>1</td>\n",
              "      <td>3</td>\n",
              "      <td>7</td>\n",
              "      <td>253</td>\n",
              "      <td>0.0</td>\n",
              "      <td>0.762846</td>\n",
              "      <td>0</td>\n",
              "      <td>54</td>\n",
              "      <td>34</td>\n",
              "      <td>0.703704</td>\n",
              "      <td>0.027668</td>\n",
              "      <td>3</td>\n",
              "      <td>0</td>\n",
              "      <td>45.517704</td>\n",
              "      <td>Boleto Universitario</td>\n",
              "    </tr>\n",
              "    <tr>\n",
              "      <th>1</th>\n",
              "      <td>hola queria saber porque no se me acredita la ...</td>\n",
              "      <td>1</td>\n",
              "      <td>2</td>\n",
              "      <td>4</td>\n",
              "      <td>1</td>\n",
              "      <td>2019</td>\n",
              "      <td>2</td>\n",
              "      <td>6</td>\n",
              "      <td>3</td>\n",
              "      <td>1</td>\n",
              "      <td>1</td>\n",
              "      <td>3</td>\n",
              "      <td>7</td>\n",
              "      <td>253</td>\n",
              "      <td>0.0</td>\n",
              "      <td>0.762846</td>\n",
              "      <td>0</td>\n",
              "      <td>54</td>\n",
              "      <td>34</td>\n",
              "      <td>0.703704</td>\n",
              "      <td>0.027668</td>\n",
              "      <td>3</td>\n",
              "      <td>0</td>\n",
              "      <td>45.517704</td>\n",
              "      <td>Boleto Universitario</td>\n",
              "    </tr>\n",
              "    <tr>\n",
              "      <th>2</th>\n",
              "      <td>yo hace casi un mes hice el tramite para la su...</td>\n",
              "      <td>0</td>\n",
              "      <td>5</td>\n",
              "      <td>7</td>\n",
              "      <td>1</td>\n",
              "      <td>2018</td>\n",
              "      <td>3</td>\n",
              "      <td>8</td>\n",
              "      <td>4</td>\n",
              "      <td>1</td>\n",
              "      <td>1</td>\n",
              "      <td>3</td>\n",
              "      <td>3</td>\n",
              "      <td>299</td>\n",
              "      <td>0.0</td>\n",
              "      <td>0.799331</td>\n",
              "      <td>0</td>\n",
              "      <td>56</td>\n",
              "      <td>33</td>\n",
              "      <td>0.785714</td>\n",
              "      <td>0.016722</td>\n",
              "      <td>3</td>\n",
              "      <td>0</td>\n",
              "      <td>39.395226</td>\n",
              "      <td>Boleto Universitario</td>\n",
              "    </tr>\n",
              "    <tr>\n",
              "      <th>3</th>\n",
              "      <td>hola, hace dos meses q me cargan la sube, y en...</td>\n",
              "      <td>2</td>\n",
              "      <td>1</td>\n",
              "      <td>7</td>\n",
              "      <td>1</td>\n",
              "      <td>2018</td>\n",
              "      <td>0</td>\n",
              "      <td>8</td>\n",
              "      <td>4</td>\n",
              "      <td>1</td>\n",
              "      <td>1</td>\n",
              "      <td>3</td>\n",
              "      <td>7</td>\n",
              "      <td>175</td>\n",
              "      <td>0.0</td>\n",
              "      <td>0.754286</td>\n",
              "      <td>0</td>\n",
              "      <td>39</td>\n",
              "      <td>24</td>\n",
              "      <td>0.769231</td>\n",
              "      <td>0.028571</td>\n",
              "      <td>2</td>\n",
              "      <td>0</td>\n",
              "      <td>37.903893</td>\n",
              "      <td>Boleto Universitario</td>\n",
              "    </tr>\n",
              "    <tr>\n",
              "      <th>4</th>\n",
              "      <td>hola, en la página dice que tengo asignado el ...</td>\n",
              "      <td>1</td>\n",
              "      <td>3</td>\n",
              "      <td>10</td>\n",
              "      <td>2</td>\n",
              "      <td>2019</td>\n",
              "      <td>3</td>\n",
              "      <td>7</td>\n",
              "      <td>4</td>\n",
              "      <td>1</td>\n",
              "      <td>0</td>\n",
              "      <td>3</td>\n",
              "      <td>3</td>\n",
              "      <td>207</td>\n",
              "      <td>0.0</td>\n",
              "      <td>0.816425</td>\n",
              "      <td>2</td>\n",
              "      <td>35</td>\n",
              "      <td>17</td>\n",
              "      <td>0.885714</td>\n",
              "      <td>0.019324</td>\n",
              "      <td>1</td>\n",
              "      <td>0</td>\n",
              "      <td>36.964314</td>\n",
              "      <td>Boleto Universitario</td>\n",
              "    </tr>\n",
              "  </tbody>\n",
              "</table>\n",
              "</div>"
            ],
            "text/plain": [
              "                                            consulta  ...                 clase\n",
              "0  hola queria saber porque no se me acredita la ...  ...  Boleto Universitario\n",
              "1  hola queria saber porque no se me acredita la ...  ...  Boleto Universitario\n",
              "2  yo hace casi un mes hice el tramite para la su...  ...  Boleto Universitario\n",
              "3  hola, hace dos meses q me cargan la sube, y en...  ...  Boleto Universitario\n",
              "4  hola, en la página dice que tengo asignado el ...  ...  Boleto Universitario\n",
              "\n",
              "[5 rows x 25 columns]"
            ]
          },
          "metadata": {},
          "execution_count": 27
        }
      ]
    },
    {
      "cell_type": "code",
      "metadata": {
        "id": "6fOLu0YeB7PA",
        "outputId": "8e079e41-a173-4cbf-fa08-cd469c8d7356",
        "colab": {
          "base_uri": "https://localhost:8080/"
        }
      },
      "source": [
        "df.columns"
      ],
      "execution_count": 28,
      "outputs": [
        {
          "output_type": "execute_result",
          "data": {
            "text/plain": [
              "Index(['consulta', 'dia_semana', 'semana_del_mes', 'mes', 'cuatrimestre',\n",
              "       'anio', 'hora_discretizada', 'dni_discretizado', 'legajo_discretizado',\n",
              "       'posee_legajo', 'posee_telefono', 'carrera_valor', 'proveedor_correo',\n",
              "       'cantidad_caracteres', 'proporcion_mayusculas', 'proporcion_letras',\n",
              "       'cantidad_tildes', 'cantidad_palabras', 'cantidad_palabras_cortas',\n",
              "       'proporcion_palabras_distintas', 'frecuencia_signos_puntuacion',\n",
              "       'cantidad_oraciones', 'utiliza_codigo_asignatura', 'score', 'clase'],\n",
              "      dtype='object')"
            ]
          },
          "metadata": {},
          "execution_count": 28
        }
      ]
    },
    {
      "cell_type": "markdown",
      "metadata": {
        "id": "BO_wCMJfs95e"
      },
      "source": [
        "10. Guardo el csv procesado:"
      ]
    },
    {
      "cell_type": "code",
      "metadata": {
        "colab": {
          "base_uri": "https://localhost:8080/"
        },
        "id": "9YmtjSkxs86i",
        "outputId": "9ffd726b-5709-49b5-d790-b7cb930b7006"
      },
      "source": [
        "from google.colab import drive\n",
        "drive.mount('drive')\n",
        "\n",
        "if TECNICA!='manual':\n",
        "  file_save = f'dataset-{TECNICA}-{INSTANCIAS}{BOOSTING}-prep.csv' \n",
        "else:\n",
        "  file_save = 'dataset-manual-prep.csv'\n",
        "\n",
        "df.to_csv(file_save, index=False)\n",
        "!cp $file_save \"drive/My Drive/Tesis_Maestria/datos/02-Correos-features-estaticas/\""
      ],
      "execution_count": 29,
      "outputs": [
        {
          "output_type": "stream",
          "name": "stdout",
          "text": [
            "Drive already mounted at drive; to attempt to forcibly remount, call drive.mount(\"drive\", force_remount=True).\n"
          ]
        }
      ]
    }
  ]
}