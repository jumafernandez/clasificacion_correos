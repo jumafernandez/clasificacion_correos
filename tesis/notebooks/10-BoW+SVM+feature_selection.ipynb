{
  "nbformat": 4,
  "nbformat_minor": 0,
  "metadata": {
    "colab": {
      "name": "10-BoW+SVM+feature_selection.ipynb",
      "provenance": [],
      "collapsed_sections": [],
      "toc_visible": true,
      "include_colab_link": true
    },
    "kernelspec": {
      "display_name": "Python 3",
      "name": "python3"
    }
  },
  "cells": [
    {
      "cell_type": "markdown",
      "metadata": {
        "id": "view-in-github",
        "colab_type": "text"
      },
      "source": [
        "<a href=\"https://colab.research.google.com/github/jumafernandez/clasificacion_correos/blob/main/tesis/notebooks/10-BoW%2BSVM%2Bfeature_selection.ipynb\" target=\"_parent\"><img src=\"https://colab.research.google.com/assets/colab-badge.svg\" alt=\"Open In Colab\"/></a>"
      ]
    },
    {
      "cell_type": "markdown",
      "metadata": {
        "id": "5DuUrVBgeUso"
      },
      "source": [
        "# Combinaciones de estrategias de etiquetado + SVM\n",
        "\n",
        "__Carrera:__ Maestria en Inteligencia de datos orientada a Big Data de la Universidad Nacional de La Plata.\n",
        "\n",
        "___Título de la Tesis:___ Clasificación automática de correos electrónicos\n",
        "\n",
        "___Autor:___ Juan Manuel Fernandez\n",
        "\n",
        "___Director:___ Marcelo Errecalde\n",
        "\n",
        "__Objetivo:__ En esta notebook se presentan los experimentos a partir de los datos etiquetados manualmente junto con los automáticos a partir de las features extraidas del train dataset con todas las combinaciones de estrategias de selección de características + las combinaciones de estrategias de representación de documentos (pesados binario y tf-idf, 3-4-gramas de caracteres y 1-2-gramas de palabras) + la construcción de un clasificador con SVM (máquinas vector soporte)."
      ]
    },
    {
      "cell_type": "markdown",
      "metadata": {
        "id": "LC29-nnEqmXI"
      },
      "source": [
        "## 0. Configuración de la ejecución\n",
        "\n",
        "A continuación se genera la configuración de las estrategias que integrarán el sistema de votación para la obtención de instancias:"
      ]
    },
    {
      "cell_type": "code",
      "metadata": {
        "id": "gLm7kOaOrIGs"
      },
      "source": [
        "# Posibilidades : lr, ss3, tfidf\n",
        "# Combinaciones:\n",
        "# lr-ss3\n",
        "# lr-tfidf\n",
        "# ss3-tfidf\n",
        "# lr-ss3-tfidf\n",
        "estrategias_feature_extraction = []\n",
        "\n",
        "# Se define si se incorporan las instancias definidas manualmente\n",
        "ETIQUETADO_MANUAL = True\n",
        "\n",
        "# Para el sistema de votación queda fija la cantidad de instancias\n",
        "CANTIDAD_INSTANCIAS = 200\n",
        "BOOSTING = False\n",
        "\n",
        "# Defino una lista con los esquemas de representación y la cantidad de tokens\n",
        "estrategias_representacion = ['BINARIO', 'TFIDF', '3-4-NGRAM-CHARS', '1-2-NGRAM-WORDS']\n",
        "ATRIBUTOS_DINAMICOS = 3000\n",
        "\n",
        "# Defino la técnica de ML\n",
        "tecnica = 'SVM'"
      ],
      "execution_count": 1,
      "outputs": []
    },
    {
      "cell_type": "markdown",
      "metadata": {
        "id": "4D4Zpxhs3OKR"
      },
      "source": [
        "Se definen algunas características fijas:"
      ]
    },
    {
      "cell_type": "code",
      "metadata": {
        "id": "K2FEE93duakY"
      },
      "source": [
        "# El archivo de test y el train con etiquetado manual es siempre el mismo\n",
        "TRAIN_FILE_MANUAL = '02-01-correos-train-80.csv'\n",
        "TEST_FILE = '02-02-correos-test-20.csv'\n",
        "atributos_df = ['consulta', 'dia_semana', 'semana_del_mes', 'mes', 'cuatrimestre',\n",
        "                  'anio', 'hora_discretizada', 'dni_discretizado', 'legajo_discretizado',\n",
        "                  'posee_legajo', 'posee_telefono', 'carrera_valor', 'proveedor_correo',\n",
        "                  'cantidad_caracteres', 'proporcion_mayusculas', 'proporcion_letras',\n",
        "                  'cantidad_tildes', 'cantidad_palabras', 'cantidad_palabras_cortas',\n",
        "                  'proporcion_palabras_distintas', 'frecuencia_signos_puntuacion',\n",
        "                  'cantidad_oraciones', 'utiliza_codigo_asignatura', 'score']"
      ],
      "execution_count": 2,
      "outputs": []
    },
    {
      "cell_type": "markdown",
      "metadata": {
        "id": "gnCRBjnD3SBJ"
      },
      "source": [
        "Y se generan los datos en función de la cantidad de estrategias a utilizar:"
      ]
    },
    {
      "cell_type": "code",
      "metadata": {
        "id": "1kOC3LVy3SPT"
      },
      "source": [
        "# Se genera el nombre del archivo de instancias a ejecutar en función de las estrategias\n",
        "\n",
        "# En caso que se realice el ensamble entre las n estrategias\n",
        "if len(estrategias_feature_extraction)>=1:\n",
        "  if BOOSTING:\n",
        "    TRAIN_FILE_E0 = f'dataset-{estrategias_feature_extraction[0]}-200-boosting-prep.csv'\n",
        "  else:\n",
        "    TRAIN_FILE_E0 = f'dataset-{estrategias_feature_extraction[0]}-200-prep.csv'\n",
        "  texto = f'Los dataset a utilizar son: \\n\\t{TRAIN_FILE_E0}'\n",
        "  # Se define el if para que ante reiteradas ejecuciones de la notebook no se vuelva a insertar\n",
        "  if 'clase_e0' not in atributos_df:\n",
        "    atributos_df.append('clase_e0')\n",
        "\n",
        "if len(estrategias_feature_extraction)>=2:\n",
        "  if BOOSTING:\n",
        "    TRAIN_FILE_E1 = f'dataset-{estrategias_feature_extraction[1]}-200-boosting-prep.csv'\n",
        "  else:\n",
        "    TRAIN_FILE_E1 = f'dataset-{estrategias_feature_extraction[1]}-200-prep.csv'\n",
        "  texto = texto + f'\\n\\t{TRAIN_FILE_E1}'\n",
        "  # Se define el if para que ante reiteradas ejecuciones de la notebook no se vuelva a insertar\n",
        "  if 'clase_e1' not in atributos_df:\n",
        "    atributos_df.append('clase_e1')\n",
        "\n",
        "# En caso que se realice el ensamble entre las 3 estrategias\n",
        "if len(estrategias_feature_extraction)==3:\n",
        "  if BOOSTING:\n",
        "    TRAIN_FILE_E2 = f'dataset-{estrategias_feature_extraction[2]}-200-boosting-prep.csv'\n",
        "  else:\n",
        "    TRAIN_FILE_E2 = f'dataset-{estrategias_feature_extraction[2]}-200-prep.csv'\n",
        "\n",
        "  texto = texto + f'\\n\\t{TRAIN_FILE_E2}' \n",
        "  # Se define el if para que ante reiteradas ejecuciones de la notebook no se vuelva a insertar\n",
        "  if 'clase_e2' not in atributos_df:\n",
        "    atributos_df.append('clase_e2')\n",
        "\n",
        "if len(estrategias_feature_extraction)>=1:\n",
        "  print(texto)"
      ],
      "execution_count": 3,
      "outputs": []
    },
    {
      "cell_type": "markdown",
      "metadata": {
        "id": "FBLanwDJVnFF"
      },
      "source": [
        "## 1. Instalación y Carga de librerías y funciones útiles"
      ]
    },
    {
      "cell_type": "markdown",
      "metadata": {
        "id": "3-dNi6mDUZnb"
      },
      "source": [
        "### 1.1 Instalación de librerías\n",
        "\n",
        "Se instalan las librerías que no están en el entorno de Google Colab:"
      ]
    },
    {
      "cell_type": "code",
      "metadata": {
        "colab": {
          "base_uri": "https://localhost:8080/"
        },
        "id": "644uDER_VnXj",
        "outputId": "9d38eb2d-88f6-480c-8e3b-bbc749408cef"
      },
      "source": [
        "# Se instala gensim que es el que tiene el modelo Word2Vec\n",
        "!pip install requests\n",
        "!pip install wget"
      ],
      "execution_count": 4,
      "outputs": [
        {
          "output_type": "stream",
          "name": "stdout",
          "text": [
            "Requirement already satisfied: requests in /usr/local/lib/python3.7/dist-packages (2.23.0)\n",
            "Requirement already satisfied: chardet<4,>=3.0.2 in /usr/local/lib/python3.7/dist-packages (from requests) (3.0.4)\n",
            "Requirement already satisfied: urllib3!=1.25.0,!=1.25.1,<1.26,>=1.21.1 in /usr/local/lib/python3.7/dist-packages (from requests) (1.24.3)\n",
            "Requirement already satisfied: idna<3,>=2.5 in /usr/local/lib/python3.7/dist-packages (from requests) (2.10)\n",
            "Requirement already satisfied: certifi>=2017.4.17 in /usr/local/lib/python3.7/dist-packages (from requests) (2021.10.8)\n",
            "Collecting wget\n",
            "  Downloading wget-3.2.zip (10 kB)\n",
            "Building wheels for collected packages: wget\n",
            "  Building wheel for wget (setup.py) ... \u001b[?25l\u001b[?25hdone\n",
            "  Created wheel for wget: filename=wget-3.2-py3-none-any.whl size=9672 sha256=ae85c09266e5acb3c696a7a3a4fd8c57fdbdbe45508cf109a5b6a27ae7d6d155\n",
            "  Stored in directory: /root/.cache/pip/wheels/a1/b6/7c/0e63e34eb06634181c63adacca38b79ff8f35c37e3c13e3c02\n",
            "Successfully built wget\n",
            "Installing collected packages: wget\n",
            "Successfully installed wget-3.2\n"
          ]
        }
      ]
    },
    {
      "cell_type": "markdown",
      "metadata": {
        "id": "43fDuhK2V1kx"
      },
      "source": [
        "### 1.2 Funciones útiles\n",
        "\n",
        "Se cargan funciones útiles desde el repo https://github.com/jumafernandez/clasificacion_correos para la carga y balanceo del dataset."
      ]
    },
    {
      "cell_type": "code",
      "metadata": {
        "id": "oQvZz035bSMf"
      },
      "source": [
        "import requests\n",
        "\n",
        "# Se hace el request del raw del script python\n",
        "url = 'https://raw.githubusercontent.com/jumafernandez/clasificacion_correos/main/tesis/scripts/semi-supervisado/funciones_dataset.py'\n",
        "r = requests.get(url)\n",
        "\n",
        "# Se guarda en el working directory\n",
        "with open('funciones_dataset.py', 'w') as f:\n",
        "    f.write(r.text)\n",
        "\n",
        "# Se importan las funciones a utilizar\n",
        "from funciones_dataset import get_clases, cargar_dataset, consolidar_df, generar_train_test_set"
      ],
      "execution_count": 5,
      "outputs": []
    },
    {
      "cell_type": "markdown",
      "metadata": {
        "id": "MDxjaGIfV-rT"
      },
      "source": [
        "También se carga la función para preprocesar el texto que se usó en los otros modelos desde el repo: https://github.com/jumafernandez/clasificacion_correos."
      ]
    },
    {
      "cell_type": "code",
      "metadata": {
        "id": "o0o2NndLWDVC"
      },
      "source": [
        "import requests\n",
        "\n",
        "# Se hace el request del raw del script python\n",
        "url = 'https://raw.githubusercontent.com/jumafernandez/clasificacion_correos/main/tesis/scripts/semi-supervisado/funciones_preprocesamiento.py'\n",
        "r = requests.get(url)\n",
        "\n",
        "# Se guarda en el working directory\n",
        "with open('funciones_preprocesamiento.py', 'w') as f:\n",
        "    f.write(r.text)\n",
        "\n",
        "# Se importan las funciones a utilizar\n",
        "from funciones_preprocesamiento import preprocesar_correos"
      ],
      "execution_count": 6,
      "outputs": []
    },
    {
      "cell_type": "markdown",
      "metadata": {
        "id": "QOOwBxoYUoWC"
      },
      "source": [
        "### 1.2.1. Carga de librerías de procesamiento de texto\n",
        "\n",
        "Se cargan en memoria dos funciones: _grid_search_por_estrategia_representacion_ que va a iterar ajustando los hiperparámetros para las técnica de __SVM__ y _representacion_documentos_ que genera representaciones para las _features textuales_:"
      ]
    },
    {
      "cell_type": "code",
      "metadata": {
        "id": "8XF6H0BGX9F9"
      },
      "source": [
        "import requests\n",
        "\n",
        "# Se hace el request del raw del script python\n",
        "url = 'https://raw.githubusercontent.com/jumafernandez/clasificacion_correos/main/tesis/scripts/semi-supervisado/funciones_clasificacion_texto.py'\n",
        "r = requests.get(url)\n",
        "\n",
        "# Se guarda en el working directory\n",
        "with open('funciones_clasificacion_texto.py', 'w') as f:\n",
        "    f.write(r.text)\n",
        "\n",
        "# Se importan las funciones a utilizar\n",
        "from funciones_clasificacion_texto import gridsearch_por_estrategia_representacion, representacion_documentos, gridsearch_por_tecnica"
      ],
      "execution_count": 7,
      "outputs": []
    },
    {
      "cell_type": "markdown",
      "metadata": {
        "id": "-uv6R5UQWWmE"
      },
      "source": [
        "### 1.3. Carga de datos"
      ]
    },
    {
      "cell_type": "markdown",
      "metadata": {
        "id": "BdGnbPiUk-mS"
      },
      "source": [
        "Cargo la librería warnings para no mostrar las advertencias, pandas para el manejo de df y os para verificar la existencia de los archivos en la carga de datos. Además, cargo en memoria la URL de base de los datasets y una lista de las etiquetas de las distintas clases:"
      ]
    },
    {
      "cell_type": "code",
      "metadata": {
        "id": "3TsEFWTAk_qc"
      },
      "source": [
        "import warnings\n",
        "import pandas as pd\n",
        "from os import path\n",
        "warnings.filterwarnings(\"ignore\")\n",
        "\n",
        "# Constantes con los datos\n",
        "# SS = datos con etiquetados semi-supervisados\n",
        "DS_DIR = 'https://raw.githubusercontent.com/jumafernandez/clasificacion_correos/main/tesis/data/'\n",
        "DS_DIR_SS = 'https://raw.githubusercontent.com/jumafernandez/clasificacion_correos/main/tesis/data/03-elasticsearch/procesados/'\n",
        "\n",
        "# Defino las clases y la cantidad a utilizar\n",
        "etiquetas = get_clases()\n",
        "CANTIDAD_CLASES = len(etiquetas)"
      ],
      "execution_count": 8,
      "outputs": []
    },
    {
      "cell_type": "markdown",
      "metadata": {
        "id": "tuWVxIdck-v5"
      },
      "source": [
        "Se cargan los dataframe en memoria con el preprocesamiento de los datos:\n",
        "- Instancias LR,\n",
        "- Instancias SS3,\n",
        "- Instancias TFIDF.\n",
        "- Instancias etiquetadas manualmente.\n"
      ]
    },
    {
      "cell_type": "code",
      "metadata": {
        "id": "MP4lJ_KVvBSO"
      },
      "source": [
        "if len(estrategias_feature_extraction)>=1:\n",
        "  # Chequeo sobre si los archivos están en el working directory\n",
        "  download_files = not(path.exists(TRAIN_FILE_E0))\n",
        "\n",
        "  df_e0, test_df, etiquetas = cargar_dataset(DS_DIR_SS, TRAIN_FILE_E0, TEST_FILE, download_files, 'clase', etiquetas, CANTIDAD_CLASES, 'Otras Consultas')\n",
        "\n",
        "  # Se ejecuta el preprocesamiento de correos sobre el campo Consulta de train y test\n",
        "  df_e0['consulta'] = pd.Series(preprocesar_correos(df_e0['consulta']))\n",
        "  test_df['consulta'] = pd.Series(preprocesar_correos(test_df['consulta']))\n",
        "\n",
        "  # Muestro salida por consola\n",
        "  print('Existen {} clases: {}.'.format(len(df_e0.clase.unique()), df_e0.clase.unique()))\n",
        "\n",
        "  # Me quedo con las N cantidad de instancias con mayor score por clase\n",
        "  if CANTIDAD_INSTANCIAS<200:\n",
        "    df_e0 = df_e0.sort_values(['clase','score'], ascending=False).groupby('clase').head(CANTIDAD_INSTANCIAS).reset_index(drop=True)\n",
        "    df_e0 = df_e0.sample(frac = 1)\n"
      ],
      "execution_count": 9,
      "outputs": []
    },
    {
      "cell_type": "markdown",
      "metadata": {
        "id": "T5zPZWE3-sHK"
      },
      "source": [
        "Solo en el caso que decida hacer el sistema de votación entre al menos 2 estrategias inicializo la segunda:"
      ]
    },
    {
      "cell_type": "code",
      "metadata": {
        "id": "6BPhRHNBSYUW"
      },
      "source": [
        "if len(estrategias_feature_extraction)>=2:\n",
        "  # Chequeo sobre si los archivos están en el working directory\n",
        "  download_files = not(path.exists(TRAIN_FILE_E1))\n",
        "\n",
        "  df_e1, test_df_e1, etiquetas = cargar_dataset(DS_DIR_SS, TRAIN_FILE_E1, TEST_FILE, download_files, 'clase', etiquetas, CANTIDAD_CLASES, 'Otras Consultas')\n",
        "\n",
        "  # Se ejecuta el preprocesamiento de correos sobre el campo consulta\n",
        "  df_e1['consulta'] = pd.Series(preprocesar_correos(df_e1['consulta']))\n",
        "\n",
        "  # Muestro salida por consola\n",
        "  print('Existen {} clases: {}.'.format(len(df_e1.clase.unique()), df_e1.clase.unique()))\n",
        "\n",
        "  # Me quedo con las N cantidad de instancias con mayor score por clase\n",
        "  if CANTIDAD_INSTANCIAS<200:\n",
        "    df_e1 = df_e1.sort_values(['clase','score'], ascending=False).groupby('clase').head(CANTIDAD_INSTANCIAS).reset_index(drop=True)\n",
        "    df_e1 = df_e1.sample(frac = 1)\n"
      ],
      "execution_count": 10,
      "outputs": []
    },
    {
      "cell_type": "markdown",
      "metadata": {
        "id": "jYT-zoGJ-q52"
      },
      "source": [
        "Solo en el caso que decida hacer el sistema de votación entre las 3 estrategias inicializo la tercera:"
      ]
    },
    {
      "cell_type": "code",
      "metadata": {
        "id": "p4OziqC3WjET"
      },
      "source": [
        "if len(estrategias_feature_extraction)>=3:\n",
        "  # Chequeo sobre si los archivos están en el working directory\n",
        "  download_files = not(path.exists(TRAIN_FILE_E2))\n",
        "\n",
        "  df_e2, test_df_e2, etiquetas = cargar_dataset(DS_DIR_SS, TRAIN_FILE_E2, TEST_FILE, download_files, 'clase', etiquetas, CANTIDAD_CLASES, 'Otras Consultas')\n",
        "\n",
        "  # Se ejecuta el preprocesamiento de correos sobre el campo consulta\n",
        "  df_e2['consulta'] = pd.Series(preprocesar_correos(df_e2['consulta']))\n",
        "\n",
        "  # Muestro salida por consola\n",
        "  print('Existen {} clases: {}.'.format(len(df_e2.clase.unique()), df_e2.clase.unique()))\n",
        "\n",
        "  # Me quedo con las N cantidad de instancias con mayor score por clase\n",
        "  if CANTIDAD_INSTANCIAS<200:\n",
        "    df_e2 = df_e2.sort_values(['clase','score'], ascending=False).groupby('clase').head(CANTIDAD_INSTANCIAS).reset_index(drop=True)\n",
        "    df_e2 = df_e2.sample(frac = 1)\n"
      ],
      "execution_count": 11,
      "outputs": []
    },
    {
      "cell_type": "markdown",
      "metadata": {
        "id": "CD6F7H8Co80F"
      },
      "source": [
        "Verifico si voy a acumular los datos etiquetados manualmente a los de etiquetado no supervisado y en caso afirmativo los cargo en memoria:"
      ]
    },
    {
      "cell_type": "code",
      "metadata": {
        "id": "HjGj575EAKm9",
        "colab": {
          "base_uri": "https://localhost:8080/"
        },
        "outputId": "bc817672-957e-463f-f670-74dffe8c4802"
      },
      "source": [
        "if ETIQUETADO_MANUAL:\n",
        " \n",
        "  # Chequeo sobre si los archivos están en el working directory\n",
        "  download_files = not(path.exists(TRAIN_FILE_MANUAL))\n",
        "\n",
        "  train_df_manual, test_df, etiquetas = cargar_dataset(DS_DIR, TRAIN_FILE_MANUAL, TEST_FILE, download_files, 'clase', etiquetas, CANTIDAD_CLASES, 'Otras Consultas')\n",
        "\n",
        "  # Se ejecuta el preprocesamiento de correos sobre el campo Consulta de train y test\n",
        "  train_df_manual['consulta'] = pd.Series(preprocesar_correos(train_df_manual['consulta']))\n",
        "\n",
        "  # Muestro salida por consola\n",
        "  print('Existen {} clases: {}.'.format(len(train_df_manual.clase.unique()), train_df_manual.clase.unique()))"
      ],
      "execution_count": 12,
      "outputs": [
        {
          "output_type": "stream",
          "name": "stdout",
          "text": [
            "Se inicia descarga de los datasets.\n",
            "\n",
            "El conjunto de entrenamiento tiene la dimensión: (800, 24)\n",
            "El conjunto de testeo tiene la dimensión: (200, 24)\n",
            "Existen 16 clases: ['Boleto Universitario' 'Problemas con la Clave' 'Cursadas'\n",
            " 'Cambio de Carrera' 'Ingreso a la Universidad' 'Requisitos de Ingreso'\n",
            " 'Reincorporación' 'Pedido de Certificados' 'Situación Académica'\n",
            " 'Exámenes' 'Cambio de Comisión' 'Consulta por Legajo'\n",
            " 'Consulta sobre Título Universitario' 'Datos Personales'\n",
            " 'Consulta por Equivalencias' 'Simultaneidad de Carreras'].\n"
          ]
        }
      ]
    },
    {
      "cell_type": "markdown",
      "metadata": {
        "id": "3RXDYdtTsl31"
      },
      "source": [
        "### 1.4 Sistema de votación entre estrategias de _feature extraction_"
      ]
    },
    {
      "cell_type": "markdown",
      "metadata": {
        "id": "nfXzjTUVpIzM"
      },
      "source": [
        "En primer lugar, se joinea mediante el texto de la consulta las estrategias encaradas (según sean dos o tres):"
      ]
    },
    {
      "cell_type": "code",
      "metadata": {
        "id": "UtsZgzmTZPyG"
      },
      "source": [
        "import pandas as pd\n",
        "\n",
        "# Si se utiliza sólo 1 estrategia, se inicializa el df_join con solo esa\n",
        "if len(estrategias_feature_extraction)==1:\n",
        "  df_join = df_e0\n",
        "\n",
        "# Si se utilizan al menos 2 estrategias, se incorpora también la 2da\n",
        "if len(estrategias_feature_extraction)>=2:\n",
        "  df_join = pd.merge(df_e0, df_e1, on='consulta', how='left', suffixes=(None, \"_x\"))\n",
        "\n",
        "# Si están las 3 estrategias, se incorpora también la 3era\n",
        "if len(estrategias_feature_extraction)==3:\n",
        "  df_join = pd.merge(df_join, df_e2, on='consulta', how='left', suffixes=(None, \"_y\"))"
      ],
      "execution_count": 13,
      "outputs": []
    },
    {
      "cell_type": "markdown",
      "metadata": {
        "id": "ScMv6W-y4MbJ"
      },
      "source": [
        "Borro las instancias con faltantes y verifico el resultado la dimensionalidad del df:"
      ]
    },
    {
      "cell_type": "code",
      "metadata": {
        "id": "ZA6GiR72ZaGi"
      },
      "source": [
        "if 'df_join' in globals():\n",
        "  df_join = df_join.dropna()\n",
        "  \n",
        "  print(df_join.shape)\n",
        "\n",
        "  print(df_join.head())"
      ],
      "execution_count": 14,
      "outputs": []
    },
    {
      "cell_type": "markdown",
      "metadata": {
        "id": "eKK_XeCr4m59"
      },
      "source": [
        "Renombro las clases en función de las estrategias y me quedo sólo con las instancias en que la clase coincide:"
      ]
    },
    {
      "cell_type": "code",
      "metadata": {
        "id": "xKfUF6_C4i2E"
      },
      "source": [
        "if len(estrategias_feature_extraction)==3:\n",
        "  df_join.rename(columns={'clase_x': 'clase_e0', 'clase_y': 'clase_e1', 'clase': 'clase_e2'}, inplace=True)\n",
        "  df_join['match_clase'] = ((df_join['clase_e0'] == df_join['clase_e1']) & (df_join['clase_e1'] == df_join['clase_e2']))\n",
        "elif len(estrategias_feature_extraction)==2:\n",
        "  df_join.rename(columns={'clase': 'clase_e0', 'clase_x': 'clase_e1'}, inplace=True)\n",
        "  df_join['match_clase'] = df_join['clase_e0'] == df_join['clase_e1']\n",
        "elif len(estrategias_feature_extraction)==1:\n",
        "  df_join.rename(columns={'clase': 'clase_e0'}, inplace=True)\n",
        "  # Esto se hace por compatibilidad con las otras alternativas (2 y 3 estrategias)\n",
        "  df_join['match_clase'] = df_join['clase_e0'] == df_join['clase_e0']\n",
        "\n",
        "if 'df_join' in globals():\n",
        "  # Me quedo sólo con las instancias en que la clase coincide\n",
        "  train_df_join = df_join.query('match_clase == True').reset_index()\n",
        "\n",
        "  train_df_join.shape"
      ],
      "execution_count": 15,
      "outputs": []
    },
    {
      "cell_type": "markdown",
      "metadata": {
        "id": "phy2ZVCl4KoT"
      },
      "source": [
        "Me quedo solo con los atributos que me interesan (elimino duplicados):"
      ]
    },
    {
      "cell_type": "code",
      "metadata": {
        "id": "ieGYeC6q4K0B"
      },
      "source": [
        "if 'df_join' in globals():\n",
        "  train_df_join = train_df_join[atributos_df]\n",
        "\n",
        "  train_df_join.columns"
      ],
      "execution_count": 16,
      "outputs": []
    },
    {
      "cell_type": "markdown",
      "metadata": {
        "id": "n-e0IcaYnf8f"
      },
      "source": [
        "Me quedo sólo con una columna de clase dado que son las 3 iguales:"
      ]
    },
    {
      "cell_type": "code",
      "metadata": {
        "id": "1oezp0Fvk7QT"
      },
      "source": [
        "if 'df_join' in globals():\n",
        "  # Tomo una clase al azar, dado que coinciden las 3\n",
        "  train_df_join.rename(columns={'clase_e0': 'clase'}, inplace=True)\n",
        "\n",
        "  # Elimino las columnas que no necesito\n",
        "  if len(estrategias_feature_extraction)>=2:\n",
        "    train_df_join.drop(['clase_e1'], inplace=True, axis=1)\n",
        "\n",
        "  if len(estrategias_feature_extraction)==3:\n",
        "    train_df_join.drop(['clase_e2'], inplace=True, axis=1)\n",
        "\n",
        "  train_df_join.shape"
      ],
      "execution_count": 17,
      "outputs": []
    },
    {
      "cell_type": "markdown",
      "metadata": {
        "id": "8IKK2WwlVLye"
      },
      "source": [
        "Me guardo la columna del score de Elasticsearch para no generar incompatibilidades:"
      ]
    },
    {
      "cell_type": "code",
      "metadata": {
        "id": "daumQbloVLNa"
      },
      "source": [
        "if 'df_join' in globals():\n",
        "  score = train_df_join['score']\n",
        "  train_df_join.drop('score', inplace=True, axis=1)"
      ],
      "execution_count": 18,
      "outputs": []
    },
    {
      "cell_type": "code",
      "metadata": {
        "id": "V_WMVnGCAt66"
      },
      "source": [
        "if len(estrategias_feature_extraction)>=1:\n",
        "  if ETIQUETADO_MANUAL:\n",
        "    train_df = pd.concat([train_df_manual, train_df_join], axis=0).reset_index(drop=True)\n",
        "  else:\n",
        "    train_df = train_df_join\n",
        "else:\n",
        "  train_df = train_df_manual"
      ],
      "execution_count": 19,
      "outputs": []
    },
    {
      "cell_type": "markdown",
      "metadata": {
        "id": "-qdJuRmxoaXV"
      },
      "source": [
        "Muestro el dataframe resultante:"
      ]
    },
    {
      "cell_type": "code",
      "metadata": {
        "colab": {
          "base_uri": "https://localhost:8080/",
          "height": 730
        },
        "id": "-z_-PYK9nU_7",
        "outputId": "d342e6fb-63b7-4a96-e5a7-bc18d786ef72"
      },
      "source": [
        "# pd.set_option('display.max_colwidth', None)\n",
        "# pd.set_option('display.max_rows', None)\n",
        "train_df.head()"
      ],
      "execution_count": 20,
      "outputs": [
        {
          "output_type": "execute_result",
          "data": {
            "text/html": [
              "<div>\n",
              "<style scoped>\n",
              "    .dataframe tbody tr th:only-of-type {\n",
              "        vertical-align: middle;\n",
              "    }\n",
              "\n",
              "    .dataframe tbody tr th {\n",
              "        vertical-align: top;\n",
              "    }\n",
              "\n",
              "    .dataframe thead th {\n",
              "        text-align: right;\n",
              "    }\n",
              "</style>\n",
              "<table border=\"1\" class=\"dataframe\">\n",
              "  <thead>\n",
              "    <tr style=\"text-align: right;\">\n",
              "      <th></th>\n",
              "      <th>consulta</th>\n",
              "      <th>dia_semana</th>\n",
              "      <th>semana_del_mes</th>\n",
              "      <th>mes</th>\n",
              "      <th>cuatrimestre</th>\n",
              "      <th>anio</th>\n",
              "      <th>hora_discretizada</th>\n",
              "      <th>dni_discretizado</th>\n",
              "      <th>legajo_discretizado</th>\n",
              "      <th>posee_legajo</th>\n",
              "      <th>posee_telefono</th>\n",
              "      <th>carrera_valor</th>\n",
              "      <th>proveedor_correo</th>\n",
              "      <th>cantidad_caracteres</th>\n",
              "      <th>proporcion_mayusculas</th>\n",
              "      <th>proporcion_letras</th>\n",
              "      <th>cantidad_tildes</th>\n",
              "      <th>cantidad_palabras</th>\n",
              "      <th>cantidad_palabras_cortas</th>\n",
              "      <th>proporcion_palabras_distintas</th>\n",
              "      <th>frecuencia_signos_puntuacion</th>\n",
              "      <th>cantidad_oraciones</th>\n",
              "      <th>utiliza_codigo_asignatura</th>\n",
              "      <th>clase</th>\n",
              "    </tr>\n",
              "  </thead>\n",
              "  <tbody>\n",
              "    <tr>\n",
              "      <th>0</th>\n",
              "      <td>queria saber puedo acceder boleto estudiantil ...</td>\n",
              "      <td>6</td>\n",
              "      <td>2</td>\n",
              "      <td>3</td>\n",
              "      <td>1</td>\n",
              "      <td>2019</td>\n",
              "      <td>2</td>\n",
              "      <td>7</td>\n",
              "      <td>4</td>\n",
              "      <td>1</td>\n",
              "      <td>1</td>\n",
              "      <td>3</td>\n",
              "      <td>4</td>\n",
              "      <td>107</td>\n",
              "      <td>0.0</td>\n",
              "      <td>0.775701</td>\n",
              "      <td>3</td>\n",
              "      <td>21</td>\n",
              "      <td>12</td>\n",
              "      <td>0.952381</td>\n",
              "      <td>0.000000</td>\n",
              "      <td>1</td>\n",
              "      <td>0</td>\n",
              "      <td>Boleto Universitario</td>\n",
              "    </tr>\n",
              "    <tr>\n",
              "      <th>1</th>\n",
              "      <td>puedo reseterar clave acceso sistema web ayer ...</td>\n",
              "      <td>4</td>\n",
              "      <td>2</td>\n",
              "      <td>12</td>\n",
              "      <td>2</td>\n",
              "      <td>2015</td>\n",
              "      <td>0</td>\n",
              "      <td>2</td>\n",
              "      <td>1</td>\n",
              "      <td>1</td>\n",
              "      <td>1</td>\n",
              "      <td>5</td>\n",
              "      <td>6</td>\n",
              "      <td>419</td>\n",
              "      <td>0.0</td>\n",
              "      <td>0.809069</td>\n",
              "      <td>0</td>\n",
              "      <td>78</td>\n",
              "      <td>45</td>\n",
              "      <td>0.717949</td>\n",
              "      <td>0.007160</td>\n",
              "      <td>1</td>\n",
              "      <td>0</td>\n",
              "      <td>Problemas con la Clave</td>\n",
              "    </tr>\n",
              "    <tr>\n",
              "      <th>2</th>\n",
              "      <td>dice beneficio sube quiero saber situacion</td>\n",
              "      <td>1</td>\n",
              "      <td>2</td>\n",
              "      <td>4</td>\n",
              "      <td>1</td>\n",
              "      <td>2019</td>\n",
              "      <td>3</td>\n",
              "      <td>8</td>\n",
              "      <td>4</td>\n",
              "      <td>1</td>\n",
              "      <td>1</td>\n",
              "      <td>3</td>\n",
              "      <td>6</td>\n",
              "      <td>96</td>\n",
              "      <td>0.0</td>\n",
              "      <td>0.781250</td>\n",
              "      <td>1</td>\n",
              "      <td>22</td>\n",
              "      <td>15</td>\n",
              "      <td>0.863636</td>\n",
              "      <td>0.000000</td>\n",
              "      <td>1</td>\n",
              "      <td>0</td>\n",
              "      <td>Boleto Universitario</td>\n",
              "    </tr>\n",
              "    <tr>\n",
              "      <th>3</th>\n",
              "      <td>buenos dias queria consultar puedo anotar tall...</td>\n",
              "      <td>3</td>\n",
              "      <td>4</td>\n",
              "      <td>10</td>\n",
              "      <td>2</td>\n",
              "      <td>2018</td>\n",
              "      <td>1</td>\n",
              "      <td>4</td>\n",
              "      <td>2</td>\n",
              "      <td>1</td>\n",
              "      <td>1</td>\n",
              "      <td>3</td>\n",
              "      <td>6</td>\n",
              "      <td>410</td>\n",
              "      <td>0.0</td>\n",
              "      <td>0.819512</td>\n",
              "      <td>5</td>\n",
              "      <td>70</td>\n",
              "      <td>34</td>\n",
              "      <td>0.728571</td>\n",
              "      <td>0.012195</td>\n",
              "      <td>2</td>\n",
              "      <td>0</td>\n",
              "      <td>Cursadas</td>\n",
              "    </tr>\n",
              "    <tr>\n",
              "      <th>4</th>\n",
              "      <td>buenas tardes quiero volver estudiar facultad ...</td>\n",
              "      <td>2</td>\n",
              "      <td>1</td>\n",
              "      <td>2</td>\n",
              "      <td>1</td>\n",
              "      <td>2019</td>\n",
              "      <td>0</td>\n",
              "      <td>2</td>\n",
              "      <td>0</td>\n",
              "      <td>0</td>\n",
              "      <td>1</td>\n",
              "      <td>54</td>\n",
              "      <td>6</td>\n",
              "      <td>175</td>\n",
              "      <td>0.0</td>\n",
              "      <td>0.811429</td>\n",
              "      <td>1</td>\n",
              "      <td>32</td>\n",
              "      <td>16</td>\n",
              "      <td>0.875000</td>\n",
              "      <td>0.011429</td>\n",
              "      <td>1</td>\n",
              "      <td>0</td>\n",
              "      <td>Cambio de Carrera</td>\n",
              "    </tr>\n",
              "  </tbody>\n",
              "</table>\n",
              "</div>"
            ],
            "text/plain": [
              "                                            consulta  ...                   clase\n",
              "0  queria saber puedo acceder boleto estudiantil ...  ...    Boleto Universitario\n",
              "1  puedo reseterar clave acceso sistema web ayer ...  ...  Problemas con la Clave\n",
              "2         dice beneficio sube quiero saber situacion  ...    Boleto Universitario\n",
              "3  buenos dias queria consultar puedo anotar tall...  ...                Cursadas\n",
              "4  buenas tardes quiero volver estudiar facultad ...  ...       Cambio de Carrera\n",
              "\n",
              "[5 rows x 24 columns]"
            ]
          },
          "metadata": {},
          "execution_count": 20
        }
      ]
    },
    {
      "cell_type": "code",
      "metadata": {
        "colab": {
          "base_uri": "https://localhost:8080/"
        },
        "id": "YJHaVhO8ZpRx",
        "outputId": "e15ea9e1-8b29-49c0-910e-8910449d9c42"
      },
      "source": [
        "X_train, y_train, X_test, y_test = generar_train_test_set(train_df, test_df, '3-4-NGRAM-CHARS', MAX_TKS=ATRIBUTOS_DINAMICOS)"
      ],
      "execution_count": 21,
      "outputs": [
        {
          "output_type": "stream",
          "name": "stdout",
          "text": [
            "Estrategia de representación: 3-4-NGRAM-CHARS\n"
          ]
        }
      ]
    },
    {
      "cell_type": "code",
      "metadata": {
        "colab": {
          "base_uri": "https://localhost:8080/"
        },
        "id": "Ndyqr3kmakbB",
        "outputId": "6459cc38-7109-4474-d24f-a5f490bd9ba1"
      },
      "source": [
        "X_train.shape"
      ],
      "execution_count": 22,
      "outputs": [
        {
          "output_type": "execute_result",
          "data": {
            "text/plain": [
              "(800, 3022)"
            ]
          },
          "metadata": {},
          "execution_count": 22
        }
      ]
    },
    {
      "cell_type": "markdown",
      "metadata": {
        "id": "17obw6uxVN21"
      },
      "source": [
        "## 2. SVM"
      ]
    },
    {
      "cell_type": "markdown",
      "metadata": {
        "id": "BR6VPw5NNYje"
      },
      "source": [
        "### 2.1 Modelo general (clasificación en las 16 clases)\n",
        "\n",
        "En primer lugar se trabaja con un único clasificador que clasifica y testea las instancias en las 16 clases posibles."
      ]
    },
    {
      "cell_type": "markdown",
      "metadata": {
        "id": "7kgPWXtpU_7v"
      },
      "source": [
        "#### 2.1.1 Definición del espacio de búsqueda\n",
        "\n",
        "Se define el espacio de búsqueda para el ajuste de hiperparámetros del modelo:"
      ]
    },
    {
      "cell_type": "code",
      "metadata": {
        "id": "k3TOc1GcX-rg"
      },
      "source": [
        "# Defino los parámetros para GridSearchCV\n",
        "params_svm = {'SVM__C': [0.1, 1, 10], \n",
        "              'SVM__gamma': [0.01, 0.1, 1],\n",
        "              'SVM__class_weight': [None, 'balanced'],\n",
        "              'SVM__kernel': ['rbf', 'linear', 'sigmoid'],\n",
        "              'SVM__probability': [False]\n",
        "              }"
      ],
      "execution_count": 23,
      "outputs": []
    },
    {
      "cell_type": "markdown",
      "metadata": {
        "id": "lmnm8yPmYGAR"
      },
      "source": [
        "Se ejecuta el ajuste de hiperparámetros para cada estrategia de representación en función del espacio de búsqueda:"
      ]
    },
    {
      "cell_type": "code",
      "metadata": {
        "id": "lFSOquuAYGPK",
        "colab": {
          "base_uri": "https://localhost:8080/"
        },
        "outputId": "06673b4e-2689-42ce-b282-ec1bb1e3b13d"
      },
      "source": [
        "modelos_grid = []\n",
        "representacion_grid = []\n",
        "metricas_grid = []\n",
        "NO_CORRIDA = True\n",
        "\n",
        "# Modulo para la hora (a efectos de calcular los tiempos de ejecución)\n",
        "import time\n",
        "\n",
        "if NO_CORRIDA:\n",
        "  # Se hace una búsqueda grid por estrategia de representación\n",
        "  for estrategia in estrategias_representacion:\n",
        "    \n",
        "    # Generamos los datos de train y test por estrategia\n",
        "    X_train, y_train, X_test, y_test = generar_train_test_set(train_df, test_df, estrategia, MAX_TKS=ATRIBUTOS_DINAMICOS)\n",
        "\n",
        "    # Se imprime la hora del servidor\n",
        "    hora_servidor = time.strftime('%H:%M:%S', time.localtime())\n",
        "    print(f'Hora de inicio de la búsqueda grid: {hora_servidor}.')\n",
        "\n",
        "    # Llamo a la función que realiza el gridsearch por estrategia  \n",
        "    clf_grid, metrics_grid = gridsearch_por_tecnica(X_train, y_train, X_test, y_test, tecnica, params_svm)\n",
        "\n",
        "    # Guardamos el mejor modelo para cada estrategia de representación\n",
        "    modelos_grid.append(clf_grid)\n",
        "    representacion_grid.append(estrategia)\n",
        "    metricas_grid.append(metrics_grid)"
      ],
      "execution_count": 24,
      "outputs": [
        {
          "output_type": "stream",
          "name": "stdout",
          "text": [
            "Estrategia de representación: BINARIO\n",
            "Hora de inicio de la búsqueda grid: 18:52:04.\n",
            "Fitting 5 folds for each of 54 candidates, totalling 270 fits\n",
            "Parámetros: {'SVM__C': 10, 'SVM__class_weight': 'balanced', 'SVM__gamma': 0.01, 'SVM__kernel': 'sigmoid', 'SVM__probability': False}\n",
            "Accuracy Test-Set: 0.745\n",
            "Métricas sobre Test-Set: {'accuracy': 0.745, 'precision': 0.7473571428571428, 'recall': 0.745, 'f1_score': 0.7382868301819316, 'mcc': 0.7095105249896024}\n",
            "Estrategia de representación: TFIDF\n",
            "Hora de inicio de la búsqueda grid: 18:55:18.\n",
            "Fitting 5 folds for each of 54 candidates, totalling 270 fits\n",
            "Parámetros: {'SVM__C': 10, 'SVM__class_weight': 'balanced', 'SVM__gamma': 0.1, 'SVM__kernel': 'sigmoid', 'SVM__probability': False}\n",
            "Accuracy Test-Set: 0.7\n",
            "Métricas sobre Test-Set: {'accuracy': 0.7, 'precision': 0.7190727687626775, 'recall': 0.7, 'f1_score': 0.6963380927317745, 'mcc': 0.6578107705206261}\n",
            "Estrategia de representación: 3-4-NGRAM-CHARS\n",
            "Hora de inicio de la búsqueda grid: 18:58:52.\n",
            "Fitting 5 folds for each of 54 candidates, totalling 270 fits\n",
            "Parámetros: {'SVM__C': 0.1, 'SVM__class_weight': 'balanced', 'SVM__gamma': 0.01, 'SVM__kernel': 'linear', 'SVM__probability': False}\n",
            "Accuracy Test-Set: 0.8\n",
            "Métricas sobre Test-Set: {'accuracy': 0.8, 'precision': 0.7936884574519464, 'recall': 0.8, 'f1_score': 0.7911445565762963, 'mcc': 0.7708036472669705}\n",
            "Estrategia de representación: 1-2-NGRAM-WORDS\n",
            "Hora de inicio de la búsqueda grid: 19:03:53.\n",
            "Fitting 5 folds for each of 54 candidates, totalling 270 fits\n",
            "Parámetros: {'SVM__C': 10, 'SVM__class_weight': 'balanced', 'SVM__gamma': 0.1, 'SVM__kernel': 'sigmoid', 'SVM__probability': False}\n",
            "Accuracy Test-Set: 0.72\n",
            "Métricas sobre Test-Set: {'accuracy': 0.72, 'precision': 0.7417318306693307, 'recall': 0.72, 'f1_score': 0.7200297549529311, 'mcc': 0.6800532077731802}\n"
          ]
        }
      ]
    },
    {
      "cell_type": "markdown",
      "metadata": {
        "id": "8BLl1MGrOdXs"
      },
      "source": [
        "A partir de los mejores hiperparámetros encontrados para cada estrategia de representación de correos, se busca cual es la estrategia que generó el mayor _accuracy_ (medida totalmente arbitraria):"
      ]
    },
    {
      "cell_type": "code",
      "metadata": {
        "id": "9EZPszyNuh1d",
        "colab": {
          "base_uri": "https://localhost:8080/"
        },
        "outputId": "a2805017-2096-44ef-a637-6b5e18850b74"
      },
      "source": [
        "max_accuracy = 0\n",
        "for i in range(1, len(metricas_grid)):\n",
        "  if metricas_grid[i]['accuracy'] > metricas_grid[max_accuracy]['accuracy']:\n",
        "    max_accuracy = i\n",
        "\n",
        "representacion_max = representacion_grid[max_accuracy]\n",
        "\n",
        "# Se le quita el prefijo asignado a los parametricos para la búsqueda grid\n",
        "params_max = params = {x.replace(\"SVM__\", \"\"): v for x, v in modelos_grid[max_accuracy].best_params_.items()}\n",
        "\n",
        "# Se guardan las métricas y el modelo \"ganador\"\n",
        "metricas_max = metricas_grid[max_accuracy]\n",
        "clf_max = modelos_grid[max_accuracy]\n",
        "\n",
        "print(f'Sistema de generación de instancias: {estrategias_feature_extraction}', sep=\"\")\n",
        "if ETIQUETADO_MANUAL and (len(estrategias_feature_extraction)>=1):\n",
        "  print(f'Las instancias se ACUMULAN a las etiquetadas manualmente')\n",
        "else:\n",
        "  print(f'Las instancias NO SE ACUMULAN a las etiquetadas manualmente')\n",
        "\n",
        "print(f'El modelo más eficaz es {tecnica} con la estrategia de representación {representacion_max} y los parámetros:\\n {params_max}')\n",
        "print(f'El modelo brinda las siguientes métricas de selección:\\n {metricas_max}')"
      ],
      "execution_count": 25,
      "outputs": [
        {
          "output_type": "stream",
          "name": "stdout",
          "text": [
            "Sistema de generación de instancias: []\n",
            "Las instancias NO SE ACUMULAN a las etiquetadas manualmente\n",
            "El modelo más eficaz es SVM con la estrategia de representación 3-4-NGRAM-CHARS y los parámetros:\n",
            " {'C': 0.1, 'class_weight': 'balanced', 'gamma': 0.01, 'kernel': 'linear', 'probability': False}\n",
            "El modelo brinda las siguientes métricas de selección:\n",
            " {'accuracy': 0.8, 'precision': 0.7936884574519464, 'recall': 0.8, 'f1_score': 0.7911445565762963, 'mcc': 0.7708036472669705}\n"
          ]
        }
      ]
    },
    {
      "cell_type": "markdown",
      "metadata": {
        "id": "GjoUvaOgh00W"
      },
      "source": [
        "#### 2.1.2 Modelo generado\n",
        "\n",
        "En función de los mejores hiperparámetros y estrategia de representación encontrados con la búsqueda Grid, ajusto el modelo para obtener las métricas.\n",
        "\n",
        "En primer lugar genero los datos de train y test con la estrategia de representación ganadora:"
      ]
    },
    {
      "cell_type": "code",
      "metadata": {
        "id": "VfU5JT1vh0J3",
        "colab": {
          "base_uri": "https://localhost:8080/"
        },
        "outputId": "c4f54cbe-aaad-4ecf-b663-9fad383c8f71"
      },
      "source": [
        "X_train, y_train, X_test, y_test = generar_train_test_set(train_df, test_df, representacion_max, MAX_TKS=ATRIBUTOS_DINAMICOS)"
      ],
      "execution_count": 26,
      "outputs": [
        {
          "output_type": "stream",
          "name": "stdout",
          "text": [
            "Estrategia de representación: 3-4-NGRAM-CHARS\n"
          ]
        }
      ]
    },
    {
      "cell_type": "markdown",
      "metadata": {
        "id": "sBgo7dzPLkv5"
      },
      "source": [
        "__[VARIANTE]__ Se entrena el modelo con los mejores hiperparámetros encontrados:"
      ]
    },
    {
      "cell_type": "code",
      "metadata": {
        "id": "GXrnHa4qH8in"
      },
      "source": [
        "# Accuracy: 0.8 Etiquetado Manual\n",
        "# Parámetros: {'SVM__C': 0.1, 'SVM__class_weight': 'balanced', 'SVM__gamma': 0.01, 'SVM__kernel': 'linear', 'SVM__probability': False}\n",
        "\n",
        "# from sklearn.svm import SVC\n",
        "# clf = SVC(**params_max)\n",
        "\n",
        "# Entreno el modelo con los parámetros\n",
        "# clf.fit(X_train, y_train)"
      ],
      "execution_count": 27,
      "outputs": []
    },
    {
      "cell_type": "markdown",
      "metadata": {
        "id": "qzVZFzCTVTSZ"
      },
      "source": [
        "Se predicen las instancias de testeo:"
      ]
    },
    {
      "cell_type": "code",
      "metadata": {
        "id": "zNoj8Gshc09R"
      },
      "source": [
        "y_pred = clf_max.predict(X_test)"
      ],
      "execution_count": 28,
      "outputs": []
    },
    {
      "cell_type": "markdown",
      "metadata": {
        "id": "wIpzEIaOWKNa"
      },
      "source": [
        "#### 2.1.3 Métricas de selección"
      ]
    },
    {
      "cell_type": "code",
      "metadata": {
        "id": "6J-THNpdciSP",
        "colab": {
          "base_uri": "https://localhost:8080/"
        },
        "outputId": "e6da8a46-c5bb-4bd0-bc18-8aa736f45bc4"
      },
      "source": [
        "from sklearn import metrics #Importar el módulo metrics de scikit-learn\n",
        "\n",
        "# Vamos a testear el modelo\n",
        "print(\"Accuracy:\",metrics.accuracy_score(y_test, y_pred))\n",
        "\n",
        "# Vemos un reporte de clasificación de varias métricas\n",
        "print(metrics.classification_report(y_test, y_pred))"
      ],
      "execution_count": 29,
      "outputs": [
        {
          "output_type": "stream",
          "name": "stdout",
          "text": [
            "Accuracy: 0.8\n",
            "                                     precision    recall  f1-score   support\n",
            "\n",
            "               Boleto Universitario       0.98      0.98      0.98        48\n",
            "                  Cambio de Carrera       0.00      0.00      0.00         2\n",
            "                 Cambio de Comisión       0.00      0.00      0.00         2\n",
            "         Consulta por Equivalencias       1.00      0.67      0.80         3\n",
            "                Consulta por Legajo       0.50      0.67      0.57         3\n",
            "Consulta sobre Título Universitario       0.50      0.33      0.40         3\n",
            "                           Cursadas       0.57      0.89      0.69        19\n",
            "                   Datos Personales       0.00      0.00      0.00         2\n",
            "                           Exámenes       0.60      0.60      0.60         5\n",
            "           Ingreso a la Universidad       0.90      0.79      0.84        33\n",
            "             Pedido de Certificados       0.88      1.00      0.94        15\n",
            "             Problemas con la Clave       0.90      0.83      0.86        23\n",
            "                    Reincorporación       0.70      0.64      0.67        11\n",
            "              Requisitos de Ingreso       0.76      0.79      0.78        24\n",
            "          Simultaneidad de Carreras       0.00      0.00      0.00         1\n",
            "                Situación Académica       0.40      0.33      0.36         6\n",
            "\n",
            "                           accuracy                           0.80       200\n",
            "                          macro avg       0.54      0.53      0.53       200\n",
            "                       weighted avg       0.79      0.80      0.79       200\n",
            "\n"
          ]
        }
      ]
    },
    {
      "cell_type": "markdown",
      "metadata": {
        "id": "UQJL_Y-CWzKh"
      },
      "source": [
        "Se genera la matriz de confusión del modelo:"
      ]
    },
    {
      "cell_type": "code",
      "metadata": {
        "id": "IYUVKbHldjKq",
        "colab": {
          "base_uri": "https://localhost:8080/",
          "height": 792
        },
        "outputId": "150248b0-45e9-4957-f23b-75eee3dbcfd8"
      },
      "source": [
        "import numpy as np\n",
        "from sklearn import metrics #Importar el módulo metrics de scikit-learn\n",
        "import seaborn as sns\n",
        "import matplotlib.pyplot as plt\n",
        "\n",
        "matriz_confusion = metrics.confusion_matrix(y_test, y_pred)\n",
        "\n",
        "sns.set()\n",
        "my_mask = np.zeros((matriz_confusion.shape[0], matriz_confusion.shape[0]), dtype=int)\n",
        "for i in range(matriz_confusion.shape[0]):\n",
        "    for j in range(matriz_confusion.shape[0]):\n",
        "        my_mask[i][j] = matriz_confusion[i][j] == 0 \n",
        "  \n",
        "fig_dims = (10, 10)\n",
        "plt.subplots(figsize=fig_dims)\n",
        "\n",
        "ax = sns.heatmap(matriz_confusion,\n",
        "                 xticklabels=etiquetas,\n",
        "                 annot=True, \n",
        "                 fmt=\"d\", \n",
        "                 linewidths=.5, \n",
        "                 cmap=\"Blues\", \n",
        "                 cbar=False, \n",
        "                 mask=my_mask, \n",
        "                 vmax=15)\n",
        "\n",
        "plt.gcf().set_size_inches(10, 10)\n",
        "plt.xticks(rotation=90, ha=\"center\")\n",
        "plt.yticks(np.arange(len(etiquetas))+0.5, etiquetas, rotation='horizontal')\n",
        "\n",
        "plt.xlabel('Clase Real')\n",
        "plt.ylabel('Clase Predicha');"
      ],
      "execution_count": 36,
      "outputs": [
        {
          "output_type": "display_data",
          "data": {
            "image/png": "[encoded data removed]",
            "text/plain": [
              "<Figure size 720x720 with 1 Axes>"
            ]
          },
          "metadata": {}
        }
      ]
    },
    {
      "cell_type": "markdown",
      "metadata": {
        "id": "P14cduVB6pZk"
      },
      "source": [
        "### 3. Análisis del error\n",
        "\n",
        "Se consolida un dataframe para hacer el análisis de la performance:"
      ]
    },
    {
      "cell_type": "code",
      "metadata": {
        "id": "RRdVnXSN6wkJ",
        "colab": {
          "base_uri": "https://localhost:8080/",
          "height": 551
        },
        "outputId": "6758fa51-4e07-4b79-ad74-985f83fcd4c3"
      },
      "source": [
        "df_train_error = {'clase': pd.Series(train_df.clase.unique()), \n",
        "                  'count_train': train_df.clase.value_counts().reset_index(drop=True)}\n",
        "  \n",
        "df_train_error = pd.DataFrame(df_train_error)\n",
        "\n",
        "# Calculo el accuracy por clase\n",
        "avg_class = matriz_confusion.diagonal()/matriz_confusion.sum(axis=1)\n",
        "df_train_error['accuracy'] = pd.Series(avg_class)\n",
        "\n",
        "# Calculo la cantidad de instancias bien clasificadas\n",
        "pred_true_class = matriz_confusion.diagonal()\n",
        "df_train_error['good_pred'] = pd.Series(pred_true_class)\n",
        "\n",
        "# Calculo la cantidad de instancias por clase (suma de las rows)\n",
        "df_train_error['count_test'] = matriz_confusion.sum(axis=1)\n",
        "\n",
        "df_train_error"
      ],
      "execution_count": 43,
      "outputs": [
        {
          "output_type": "execute_result",
          "data": {
            "text/html": [
              "<div>\n",
              "<style scoped>\n",
              "    .dataframe tbody tr th:only-of-type {\n",
              "        vertical-align: middle;\n",
              "    }\n",
              "\n",
              "    .dataframe tbody tr th {\n",
              "        vertical-align: top;\n",
              "    }\n",
              "\n",
              "    .dataframe thead th {\n",
              "        text-align: right;\n",
              "    }\n",
              "</style>\n",
              "<table border=\"1\" class=\"dataframe\">\n",
              "  <thead>\n",
              "    <tr style=\"text-align: right;\">\n",
              "      <th></th>\n",
              "      <th>clase</th>\n",
              "      <th>count_train</th>\n",
              "      <th>accuracy</th>\n",
              "      <th>good_pred</th>\n",
              "      <th>count_test</th>\n",
              "    </tr>\n",
              "  </thead>\n",
              "  <tbody>\n",
              "    <tr>\n",
              "      <th>0</th>\n",
              "      <td>Boleto Universitario</td>\n",
              "      <td>193</td>\n",
              "      <td>0.979167</td>\n",
              "      <td>47</td>\n",
              "      <td>48</td>\n",
              "    </tr>\n",
              "    <tr>\n",
              "      <th>1</th>\n",
              "      <td>Problemas con la Clave</td>\n",
              "      <td>135</td>\n",
              "      <td>0.000000</td>\n",
              "      <td>0</td>\n",
              "      <td>2</td>\n",
              "    </tr>\n",
              "    <tr>\n",
              "      <th>2</th>\n",
              "      <td>Cursadas</td>\n",
              "      <td>98</td>\n",
              "      <td>0.000000</td>\n",
              "      <td>0</td>\n",
              "      <td>2</td>\n",
              "    </tr>\n",
              "    <tr>\n",
              "      <th>3</th>\n",
              "      <td>Cambio de Carrera</td>\n",
              "      <td>91</td>\n",
              "      <td>0.666667</td>\n",
              "      <td>2</td>\n",
              "      <td>3</td>\n",
              "    </tr>\n",
              "    <tr>\n",
              "      <th>4</th>\n",
              "      <td>Ingreso a la Universidad</td>\n",
              "      <td>75</td>\n",
              "      <td>0.666667</td>\n",
              "      <td>2</td>\n",
              "      <td>3</td>\n",
              "    </tr>\n",
              "    <tr>\n",
              "      <th>5</th>\n",
              "      <td>Requisitos de Ingreso</td>\n",
              "      <td>59</td>\n",
              "      <td>0.333333</td>\n",
              "      <td>1</td>\n",
              "      <td>3</td>\n",
              "    </tr>\n",
              "    <tr>\n",
              "      <th>6</th>\n",
              "      <td>Reincorporación</td>\n",
              "      <td>43</td>\n",
              "      <td>0.894737</td>\n",
              "      <td>17</td>\n",
              "      <td>19</td>\n",
              "    </tr>\n",
              "    <tr>\n",
              "      <th>7</th>\n",
              "      <td>Pedido de Certificados</td>\n",
              "      <td>22</td>\n",
              "      <td>0.000000</td>\n",
              "      <td>0</td>\n",
              "      <td>2</td>\n",
              "    </tr>\n",
              "    <tr>\n",
              "      <th>8</th>\n",
              "      <td>Situación Académica</td>\n",
              "      <td>18</td>\n",
              "      <td>0.600000</td>\n",
              "      <td>3</td>\n",
              "      <td>5</td>\n",
              "    </tr>\n",
              "    <tr>\n",
              "      <th>9</th>\n",
              "      <td>Exámenes</td>\n",
              "      <td>15</td>\n",
              "      <td>0.787879</td>\n",
              "      <td>26</td>\n",
              "      <td>33</td>\n",
              "    </tr>\n",
              "    <tr>\n",
              "      <th>10</th>\n",
              "      <td>Cambio de Comisión</td>\n",
              "      <td>11</td>\n",
              "      <td>1.000000</td>\n",
              "      <td>15</td>\n",
              "      <td>15</td>\n",
              "    </tr>\n",
              "    <tr>\n",
              "      <th>11</th>\n",
              "      <td>Consulta por Legajo</td>\n",
              "      <td>10</td>\n",
              "      <td>0.826087</td>\n",
              "      <td>19</td>\n",
              "      <td>23</td>\n",
              "    </tr>\n",
              "    <tr>\n",
              "      <th>12</th>\n",
              "      <td>Consulta sobre Título Universitario</td>\n",
              "      <td>10</td>\n",
              "      <td>0.636364</td>\n",
              "      <td>7</td>\n",
              "      <td>11</td>\n",
              "    </tr>\n",
              "    <tr>\n",
              "      <th>13</th>\n",
              "      <td>Datos Personales</td>\n",
              "      <td>8</td>\n",
              "      <td>0.791667</td>\n",
              "      <td>19</td>\n",
              "      <td>24</td>\n",
              "    </tr>\n",
              "    <tr>\n",
              "      <th>14</th>\n",
              "      <td>Consulta por Equivalencias</td>\n",
              "      <td>6</td>\n",
              "      <td>0.000000</td>\n",
              "      <td>0</td>\n",
              "      <td>1</td>\n",
              "    </tr>\n",
              "    <tr>\n",
              "      <th>15</th>\n",
              "      <td>Simultaneidad de Carreras</td>\n",
              "      <td>6</td>\n",
              "      <td>0.333333</td>\n",
              "      <td>2</td>\n",
              "      <td>6</td>\n",
              "    </tr>\n",
              "  </tbody>\n",
              "</table>\n",
              "</div>"
            ],
            "text/plain": [
              "                                  clase  count_train  ...  good_pred  count_test\n",
              "0                  Boleto Universitario          193  ...         47          48\n",
              "1                Problemas con la Clave          135  ...          0           2\n",
              "2                              Cursadas           98  ...          0           2\n",
              "3                     Cambio de Carrera           91  ...          2           3\n",
              "4              Ingreso a la Universidad           75  ...          2           3\n",
              "5                 Requisitos de Ingreso           59  ...          1           3\n",
              "6                       Reincorporación           43  ...         17          19\n",
              "7                Pedido de Certificados           22  ...          0           2\n",
              "8                   Situación Académica           18  ...          3           5\n",
              "9                              Exámenes           15  ...         26          33\n",
              "10                   Cambio de Comisión           11  ...         15          15\n",
              "11                  Consulta por Legajo           10  ...         19          23\n",
              "12  Consulta sobre Título Universitario           10  ...          7          11\n",
              "13                     Datos Personales            8  ...         19          24\n",
              "14           Consulta por Equivalencias            6  ...          0           1\n",
              "15            Simultaneidad de Carreras            6  ...          2           6\n",
              "\n",
              "[16 rows x 5 columns]"
            ]
          },
          "metadata": {},
          "execution_count": 43
        }
      ]
    },
    {
      "cell_type": "markdown",
      "source": [
        "Se realiza un plot para analizar la performance por clase:"
      ],
      "metadata": {
        "id": "dkCTvj48poQc"
      }
    },
    {
      "cell_type": "code",
      "metadata": {
        "id": "NRKtSNPr63Oo",
        "colab": {
          "base_uri": "https://localhost:8080/",
          "height": 372
        },
        "outputId": "e2cc8b91-886d-42ee-c4ff-0bddcc2d20aa"
      },
      "source": [
        "# Cargo las librerías y defino el paño blanco\n",
        "import matplotlib.pyplot as plt\n",
        "import seaborn as sns\n",
        "sns.set_theme(style=\"ticks\")\n",
        "\n",
        "# Ploteo el gráfico general\n",
        "plt.figure(figsize=(8,5))\n",
        "\n",
        "sns.scatterplot(data=df_train_error, \n",
        "                x=\"count_train\", \n",
        "                y=\"accuracy\", \n",
        "                hue=\"count_test\")\n",
        "\n",
        "# Pongo los nombres de las clases\n",
        "for i in range(df_train_error.shape[0]):\n",
        "#    if df_train_error.count_test[i]> df_train_error.count_test.mean():\n",
        "      plt.text(x=df_train_error.count_train[i]+0.01,\n",
        "              y=df_train_error.accuracy[i]+0.01,\n",
        "              s=df_train_error.clase[i])\n",
        "\n",
        "plt.title(\"Análisis gráfico del error por clase\")           #title\n",
        "# plt.xlim(df_error.score.min()-1,df_error.score.max()+1)   #set x limit\n",
        "plt.ylim(0.0, 1.15)                                         #set y limit\n",
        "plt.xlabel(\"Cantidad de instancias de entrenamiento\")       #y label\n",
        "plt.legend(loc='lower right')"
      ],
      "execution_count": 44,
      "outputs": [
        {
          "output_type": "execute_result",
          "data": {
            "text/plain": [
              "<matplotlib.legend.Legend at 0x7f63a30958d0>"
            ]
          },
          "metadata": {},
          "execution_count": 44
        },
        {
          "output_type": "display_data",
          "data": {
            "image/png": "[encoded data removed]",
            "text/plain": [
              "<Figure size 576x360 with 1 Axes>"
            ]
          },
          "metadata": {}
        }
      ]
    },
    {
      "cell_type": "markdown",
      "metadata": {
        "id": "0a1K2447qjxE"
      },
      "source": [
        "## Referencias\n",
        "- https://scikit-learn.org/stable/modules/generated/sklearn.model_selection.GridSearchCV.html\n",
        "- https://medium.com/analytics-vidhya/ml-pipelines-using-scikit-learn-and-gridsearchcv-fe605a7f9e05"
      ]
    }
  ]
}