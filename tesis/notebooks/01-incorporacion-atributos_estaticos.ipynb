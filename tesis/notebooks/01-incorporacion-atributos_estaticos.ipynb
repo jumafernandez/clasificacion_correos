{
  "nbformat": 4,
  "nbformat_minor": 0,
  "metadata": {
    "colab": {
      "name": "00-04-static-features-preprocessing.ipynb",
      "provenance": [],
      "authorship_tag": "ABX9TyNc25JH7BnVoX0E6tugz6dU",
      "include_colab_link": true
    },
    "kernelspec": {
      "name": "python3",
      "display_name": "Python 3"
    }
  },
  "cells": [
    {
      "cell_type": "markdown",
      "metadata": {
        "id": "view-in-github",
        "colab_type": "text"
      },
      "source": [
        "<a href=\"https://colab.research.google.com/github/jumafernandez/clasificacion_correos/blob/main/notebooks/jaiio/00-04-static_features_preprocessing.ipynb\" target=\"_parent\"><img src=\"https://colab.research.google.com/assets/colab-badge.svg\" alt=\"Open In Colab\"/></a>"
      ]
    },
    {
      "cell_type": "markdown",
      "metadata": {
        "id": "FTD65pStwWuO"
      },
      "source": [
        "# Procesamiento de las features adicionales a la Consulta\n"
      ]
    },
    {
      "cell_type": "markdown",
      "metadata": {
        "id": "NAkTZSEqwlMv"
      },
      "source": [
        "## Features estáticas a partir de los datos\n",
        "\n",
        "1. Traigo los datos y los cargo en el dataframe:"
      ]
    },
    {
      "cell_type": "code",
      "metadata": {
        "id": "cEa8IbABwU9R",
        "colab": {
          "base_uri": "https://localhost:8080/"
        },
        "outputId": "699cc705-edde-45cb-8ba7-6f7f36d5b6a7"
      },
      "source": [
        "from os import path\n",
        "import pandas as pd\n",
        "\n",
        "INSTANCIAS = 50\n",
        "TECNICA = 'tfidf' # Técnicas: ss3 - tfidf - lr\n",
        "BOOSTING = True\n",
        "\n",
        "# Evalúa si hay boosting\n",
        "if BOOSTING:\n",
        "  BOOSTING = '-boosting'\n",
        "else:\n",
        "  BOOSTING = ''\n",
        "\n",
        "# Traigo el archivo desde GitHub\n",
        "DATASET = f'dataset-{TECNICA}-{INSTANCIAS}{BOOSTING}.csv'\n",
        "URL_DESCARGA = f'https://raw.githubusercontent.com/jumafernandez/clasificacion_correos/main/data/50jaiio/consolidados/feature-extraction/{DATASET}'\n",
        "\n",
        "df = pd.read_csv(URL_DESCARGA)\n",
        "df['clase'].value_counts()"
      ],
      "execution_count": 479,
      "outputs": [
        {
          "output_type": "execute_result",
          "data": {
            "text/plain": [
              "Situación Académica                    50\n",
              "Exámenes                               50\n",
              "Ingreso a la Universidad               50\n",
              "Reincorporación                        50\n",
              "Datos Personales                       50\n",
              "Cambio de Comisión                     50\n",
              "Consulta por Legajo                    50\n",
              "Requisitos de Ingreso                  50\n",
              "Consulta por Equivalencias             50\n",
              "Boleto Universitario                   50\n",
              "Cambio de Carrera                      50\n",
              "Pedido de Certificados                 50\n",
              "Cursadas                               50\n",
              "Consulta sobre Título Universitario    50\n",
              "Simultaneidad de Carreras              50\n",
              "Problemas con la Clave                 50\n",
              "Name: clase, dtype: int64"
            ]
          },
          "metadata": {
            "tags": []
          },
          "execution_count": 479
        }
      ]
    },
    {
      "cell_type": "code",
      "metadata": {
        "colab": {
          "base_uri": "https://localhost:8080/"
        },
        "id": "rKSK4WSAPdwB",
        "outputId": "c4919ebc-94dc-4bba-bd08-881909fcb39b"
      },
      "source": [
        "df.columns"
      ],
      "execution_count": 480,
      "outputs": [
        {
          "output_type": "execute_result",
          "data": {
            "text/plain": [
              "Index(['fecha', 'hora', 'apellido_nombre', 'legajo', 'documento', 'carrera',\n",
              "       'telefono', 'email', 'consulta', 'respuesta', 'score', 'clase'],\n",
              "      dtype='object')"
            ]
          },
          "metadata": {
            "tags": []
          },
          "execution_count": 480
        }
      ]
    },
    {
      "cell_type": "markdown",
      "metadata": {
        "id": "m_xyelTHxEFE"
      },
      "source": [
        "2. Verifico los datos y borro columnas no pre-procesables:"
      ]
    },
    {
      "cell_type": "code",
      "metadata": {
        "colab": {
          "base_uri": "https://localhost:8080/",
          "height": 289
        },
        "id": "U-ft72hZ0TLQ",
        "outputId": "70b0908d-6345-41e9-fb67-b9a3af88d3b8"
      },
      "source": [
        "df.drop(columns=['apellido_nombre', 'respuesta'], inplace=True)\n",
        "df.head()"
      ],
      "execution_count": 481,
      "outputs": [
        {
          "output_type": "execute_result",
          "data": {
            "text/html": [
              "<div>\n",
              "<style scoped>\n",
              "    .dataframe tbody tr th:only-of-type {\n",
              "        vertical-align: middle;\n",
              "    }\n",
              "\n",
              "    .dataframe tbody tr th {\n",
              "        vertical-align: top;\n",
              "    }\n",
              "\n",
              "    .dataframe thead th {\n",
              "        text-align: right;\n",
              "    }\n",
              "</style>\n",
              "<table border=\"1\" class=\"dataframe\">\n",
              "  <thead>\n",
              "    <tr style=\"text-align: right;\">\n",
              "      <th></th>\n",
              "      <th>fecha</th>\n",
              "      <th>hora</th>\n",
              "      <th>legajo</th>\n",
              "      <th>documento</th>\n",
              "      <th>carrera</th>\n",
              "      <th>telefono</th>\n",
              "      <th>email</th>\n",
              "      <th>consulta</th>\n",
              "      <th>score</th>\n",
              "      <th>clase</th>\n",
              "    </tr>\n",
              "  </thead>\n",
              "  <tbody>\n",
              "    <tr>\n",
              "      <th>0</th>\n",
              "      <td>12-01-2015</td>\n",
              "      <td>14:14:09</td>\n",
              "      <td>131290</td>\n",
              "      <td>27690571</td>\n",
              "      <td>lic. en educacion fisica (ciclo de licenciatur...</td>\n",
              "      <td>03327452625</td>\n",
              "      <td>acostapatricia_2009@hotmail.com</td>\n",
              "      <td>hola soy del plan 1506 debo un seminario optat...</td>\n",
              "      <td>44.948840</td>\n",
              "      <td>Boleto Universitario</td>\n",
              "    </tr>\n",
              "    <tr>\n",
              "      <th>1</th>\n",
              "      <td>05-03-2019</td>\n",
              "      <td>12:55:26</td>\n",
              "      <td>170301</td>\n",
              "      <td>41783126</td>\n",
              "      <td>licenciatura en administracion(3)</td>\n",
              "      <td>1137722125</td>\n",
              "      <td>anlemargagliotti@gmail.com</td>\n",
              "      <td>hola, hice hace un mes y algo el tramite onlin...</td>\n",
              "      <td>37.032795</td>\n",
              "      <td>Boleto Universitario</td>\n",
              "    </tr>\n",
              "    <tr>\n",
              "      <th>2</th>\n",
              "      <td>10-15-2019</td>\n",
              "      <td>04:06:31</td>\n",
              "      <td>160474</td>\n",
              "      <td>40993972</td>\n",
              "      <td>licenciatura en administracion(3)</td>\n",
              "      <td>NaN</td>\n",
              "      <td>mancubruno@gmail.com</td>\n",
              "      <td>hola, en la página dice que tengo asignado el ...</td>\n",
              "      <td>34.819030</td>\n",
              "      <td>Boleto Universitario</td>\n",
              "    </tr>\n",
              "    <tr>\n",
              "      <th>3</th>\n",
              "      <td>07-13-2018</td>\n",
              "      <td>10:09:06</td>\n",
              "      <td>163392</td>\n",
              "      <td>41925156</td>\n",
              "      <td>profesorado en educacion fisica(43)</td>\n",
              "      <td>1536771314</td>\n",
              "      <td>danilamferreras@gmail.com</td>\n",
              "      <td>hola que tal?, buenos días.  quería consultar ...</td>\n",
              "      <td>33.004196</td>\n",
              "      <td>Boleto Universitario</td>\n",
              "    </tr>\n",
              "    <tr>\n",
              "      <th>4</th>\n",
              "      <td>07-30-2018</td>\n",
              "      <td>20:20:20</td>\n",
              "      <td>165259</td>\n",
              "      <td>42344375</td>\n",
              "      <td>licenciatura en administracion(3)</td>\n",
              "      <td>3489441201</td>\n",
              "      <td>agustinvandick@gmail.com</td>\n",
              "      <td>yo hace casi un mes hice el tramite para la su...</td>\n",
              "      <td>32.668217</td>\n",
              "      <td>Boleto Universitario</td>\n",
              "    </tr>\n",
              "  </tbody>\n",
              "</table>\n",
              "</div>"
            ],
            "text/plain": [
              "        fecha      hora  ...      score                 clase\n",
              "0  12-01-2015  14:14:09  ...  44.948840  Boleto Universitario\n",
              "1  05-03-2019  12:55:26  ...  37.032795  Boleto Universitario\n",
              "2  10-15-2019  04:06:31  ...  34.819030  Boleto Universitario\n",
              "3  07-13-2018  10:09:06  ...  33.004196  Boleto Universitario\n",
              "4  07-30-2018  20:20:20  ...  32.668217  Boleto Universitario\n",
              "\n",
              "[5 rows x 10 columns]"
            ]
          },
          "metadata": {
            "tags": []
          },
          "execution_count": 481
        }
      ]
    },
    {
      "cell_type": "markdown",
      "metadata": {
        "id": "bKwV3G8e7W0O"
      },
      "source": [
        "3. Preproceso la fecha (día de la semana, semana del mes, mes y cuatrimestre) de la consulta:"
      ]
    },
    {
      "cell_type": "code",
      "metadata": {
        "id": "YYeZT4j1Zu0i"
      },
      "source": [
        "def convierte_fecha(fecha_consulta):\n",
        "  from datetime import datetime\n",
        "  # Convierto a fecha\n",
        "  fecha = datetime.strptime(fecha_consulta, '%m-%d-%Y') \n",
        "  return fecha\n",
        "\n",
        "def dia_semana(fecha):\n",
        "  # Tomo el día de la semana\n",
        "  dias_semana = ['Lunes', 'Martes', 'Miércoles', 'Jueves', 'Viernes', 'Sábado', 'Domingo']\n",
        "  # dia_semana = dias_semana[fecha.weekday()]\n",
        "  dia_semana = fecha.weekday()\n",
        "  return dia_semana\n",
        "\n",
        "def semana_del_mes(fecha):\n",
        "  # Tomo la semana del mes\n",
        "  semana_mes = (fecha.day-1)//7+1\n",
        "  return semana_mes\n",
        "\n",
        "def mes(fecha):\n",
        "  # Tomo el mes\n",
        "  meses = ['Enero', 'Febrero', 'Marzo', 'Abril', 'Mayo', 'Junio', 'Julio', 'Agosto', 'Septiembre', 'Octubre', 'Noviembre', 'Diciembre']\n",
        "  # mes = meses[fecha.month-1]\n",
        "  mes = fecha.month\n",
        "  return mes\n",
        "\n",
        "def cuatrimestre(fecha):\n",
        "  # Defino el cuatrimestre\n",
        "  cuatrimestre = 1\n",
        "  if (fecha.month>7):\n",
        "    cuatrimestre = 2\n",
        "  return cuatrimestre\n",
        "\n",
        "def anio(fecha):\n",
        "    anio = fecha.year\n",
        "    return anio\n",
        "\n",
        "# convierte_fecha(df.loc[0, 'Fecha'])\n",
        "fecha = df['fecha'].apply(convierte_fecha)\n",
        "df['dia_semana'] = fecha.apply(dia_semana)\n",
        "df['semana_del_mes'] = fecha.apply(semana_del_mes)\n",
        "df['mes'] = fecha.apply(mes)\n",
        "df['cuatrimestre'] = fecha.apply(cuatrimestre)\n",
        "df['anio'] = fecha.apply(anio)"
      ],
      "execution_count": 482,
      "outputs": []
    },
    {
      "cell_type": "code",
      "metadata": {
        "colab": {
          "base_uri": "https://localhost:8080/",
          "height": 666
        },
        "id": "MoOidpjoaxvK",
        "outputId": "832f68fe-8b60-4967-d153-edaef1bda2bb"
      },
      "source": [
        "df.drop(columns=['fecha'], inplace=True)\n",
        "df.head()"
      ],
      "execution_count": 483,
      "outputs": [
        {
          "output_type": "execute_result",
          "data": {
            "text/html": [
              "<div>\n",
              "<style scoped>\n",
              "    .dataframe tbody tr th:only-of-type {\n",
              "        vertical-align: middle;\n",
              "    }\n",
              "\n",
              "    .dataframe tbody tr th {\n",
              "        vertical-align: top;\n",
              "    }\n",
              "\n",
              "    .dataframe thead th {\n",
              "        text-align: right;\n",
              "    }\n",
              "</style>\n",
              "<table border=\"1\" class=\"dataframe\">\n",
              "  <thead>\n",
              "    <tr style=\"text-align: right;\">\n",
              "      <th></th>\n",
              "      <th>hora</th>\n",
              "      <th>legajo</th>\n",
              "      <th>documento</th>\n",
              "      <th>carrera</th>\n",
              "      <th>telefono</th>\n",
              "      <th>email</th>\n",
              "      <th>consulta</th>\n",
              "      <th>score</th>\n",
              "      <th>clase</th>\n",
              "      <th>dia_semana</th>\n",
              "      <th>semana_del_mes</th>\n",
              "      <th>mes</th>\n",
              "      <th>cuatrimestre</th>\n",
              "      <th>anio</th>\n",
              "    </tr>\n",
              "  </thead>\n",
              "  <tbody>\n",
              "    <tr>\n",
              "      <th>0</th>\n",
              "      <td>14:14:09</td>\n",
              "      <td>131290</td>\n",
              "      <td>27690571</td>\n",
              "      <td>lic. en educacion fisica (ciclo de licenciatur...</td>\n",
              "      <td>03327452625</td>\n",
              "      <td>acostapatricia_2009@hotmail.com</td>\n",
              "      <td>hola soy del plan 1506 debo un seminario optat...</td>\n",
              "      <td>44.948840</td>\n",
              "      <td>Boleto Universitario</td>\n",
              "      <td>1</td>\n",
              "      <td>1</td>\n",
              "      <td>12</td>\n",
              "      <td>2</td>\n",
              "      <td>2015</td>\n",
              "    </tr>\n",
              "    <tr>\n",
              "      <th>1</th>\n",
              "      <td>12:55:26</td>\n",
              "      <td>170301</td>\n",
              "      <td>41783126</td>\n",
              "      <td>licenciatura en administracion(3)</td>\n",
              "      <td>1137722125</td>\n",
              "      <td>anlemargagliotti@gmail.com</td>\n",
              "      <td>hola, hice hace un mes y algo el tramite onlin...</td>\n",
              "      <td>37.032795</td>\n",
              "      <td>Boleto Universitario</td>\n",
              "      <td>4</td>\n",
              "      <td>1</td>\n",
              "      <td>5</td>\n",
              "      <td>1</td>\n",
              "      <td>2019</td>\n",
              "    </tr>\n",
              "    <tr>\n",
              "      <th>2</th>\n",
              "      <td>04:06:31</td>\n",
              "      <td>160474</td>\n",
              "      <td>40993972</td>\n",
              "      <td>licenciatura en administracion(3)</td>\n",
              "      <td>NaN</td>\n",
              "      <td>mancubruno@gmail.com</td>\n",
              "      <td>hola, en la página dice que tengo asignado el ...</td>\n",
              "      <td>34.819030</td>\n",
              "      <td>Boleto Universitario</td>\n",
              "      <td>1</td>\n",
              "      <td>3</td>\n",
              "      <td>10</td>\n",
              "      <td>2</td>\n",
              "      <td>2019</td>\n",
              "    </tr>\n",
              "    <tr>\n",
              "      <th>3</th>\n",
              "      <td>10:09:06</td>\n",
              "      <td>163392</td>\n",
              "      <td>41925156</td>\n",
              "      <td>profesorado en educacion fisica(43)</td>\n",
              "      <td>1536771314</td>\n",
              "      <td>danilamferreras@gmail.com</td>\n",
              "      <td>hola que tal?, buenos días.  quería consultar ...</td>\n",
              "      <td>33.004196</td>\n",
              "      <td>Boleto Universitario</td>\n",
              "      <td>4</td>\n",
              "      <td>2</td>\n",
              "      <td>7</td>\n",
              "      <td>1</td>\n",
              "      <td>2018</td>\n",
              "    </tr>\n",
              "    <tr>\n",
              "      <th>4</th>\n",
              "      <td>20:20:20</td>\n",
              "      <td>165259</td>\n",
              "      <td>42344375</td>\n",
              "      <td>licenciatura en administracion(3)</td>\n",
              "      <td>3489441201</td>\n",
              "      <td>agustinvandick@gmail.com</td>\n",
              "      <td>yo hace casi un mes hice el tramite para la su...</td>\n",
              "      <td>32.668217</td>\n",
              "      <td>Boleto Universitario</td>\n",
              "      <td>0</td>\n",
              "      <td>5</td>\n",
              "      <td>7</td>\n",
              "      <td>1</td>\n",
              "      <td>2018</td>\n",
              "    </tr>\n",
              "  </tbody>\n",
              "</table>\n",
              "</div>"
            ],
            "text/plain": [
              "       hora  legajo  documento  ... mes cuatrimestre  anio\n",
              "0  14:14:09  131290   27690571  ...  12            2  2015\n",
              "1  12:55:26  170301   41783126  ...   5            1  2019\n",
              "2  04:06:31  160474   40993972  ...  10            2  2019\n",
              "3  10:09:06  163392   41925156  ...   7            1  2018\n",
              "4  20:20:20  165259   42344375  ...   7            1  2018\n",
              "\n",
              "[5 rows x 14 columns]"
            ]
          },
          "metadata": {
            "tags": []
          },
          "execution_count": 483
        }
      ]
    },
    {
      "cell_type": "markdown",
      "metadata": {
        "id": "4XjW6N1_qo1T"
      },
      "source": [
        "4. Preproceso la hora de la consulta de la siguiente forma:\n",
        "    - 0-Mañana (6-12 hs),\n",
        "    - 1-Media-Tarde (12-16 hs)\n",
        "    - 2-Tarde (16-20 hs)\n",
        "    - 3-Noche (20-00 hs)\n",
        "    - 4-Madrugada (00-6 hs)"
      ]
    },
    {
      "cell_type": "code",
      "metadata": {
        "id": "ZtIB9k3NrNWo"
      },
      "source": [
        "def convierte_horario(hora_consulta):\n",
        "  from datetime import datetime\n",
        "  # Convierto a hora\n",
        "  hora = datetime.strptime(hora_consulta, '%H:%M:%S').time()\n",
        "  return hora\n",
        "\n",
        "def discretiza_horario(horario):\n",
        "  if (horario.hour>=6 and horario.hour<12):\n",
        "    rango_horario=0\n",
        "  elif (horario.hour>=12 and horario.hour<16):\n",
        "    rango_horario=1\n",
        "  elif (horario.hour>=16 and horario.hour<20):\n",
        "    rango_horario=2\n",
        "  else:\n",
        "    rango_horario=3 \n",
        "  return rango_horario\n",
        "\n",
        "#discretiza_horario(convierte_horario(df.loc[0, 'Hora']))\n",
        "horario = df['hora'].apply(convierte_horario)\n",
        "df['hora_discretizada'] = horario.apply(discretiza_horario)"
      ],
      "execution_count": 484,
      "outputs": []
    },
    {
      "cell_type": "code",
      "metadata": {
        "colab": {
          "base_uri": "https://localhost:8080/",
          "height": 666
        },
        "id": "Kaz03ZmpuFHC",
        "outputId": "02699642-27cd-4bd0-fd11-0bd2588c362a"
      },
      "source": [
        "df.drop(columns=['hora'], inplace=True)\n",
        "df.head()"
      ],
      "execution_count": 485,
      "outputs": [
        {
          "output_type": "execute_result",
          "data": {
            "text/html": [
              "<div>\n",
              "<style scoped>\n",
              "    .dataframe tbody tr th:only-of-type {\n",
              "        vertical-align: middle;\n",
              "    }\n",
              "\n",
              "    .dataframe tbody tr th {\n",
              "        vertical-align: top;\n",
              "    }\n",
              "\n",
              "    .dataframe thead th {\n",
              "        text-align: right;\n",
              "    }\n",
              "</style>\n",
              "<table border=\"1\" class=\"dataframe\">\n",
              "  <thead>\n",
              "    <tr style=\"text-align: right;\">\n",
              "      <th></th>\n",
              "      <th>legajo</th>\n",
              "      <th>documento</th>\n",
              "      <th>carrera</th>\n",
              "      <th>telefono</th>\n",
              "      <th>email</th>\n",
              "      <th>consulta</th>\n",
              "      <th>score</th>\n",
              "      <th>clase</th>\n",
              "      <th>dia_semana</th>\n",
              "      <th>semana_del_mes</th>\n",
              "      <th>mes</th>\n",
              "      <th>cuatrimestre</th>\n",
              "      <th>anio</th>\n",
              "      <th>hora_discretizada</th>\n",
              "    </tr>\n",
              "  </thead>\n",
              "  <tbody>\n",
              "    <tr>\n",
              "      <th>0</th>\n",
              "      <td>131290</td>\n",
              "      <td>27690571</td>\n",
              "      <td>lic. en educacion fisica (ciclo de licenciatur...</td>\n",
              "      <td>03327452625</td>\n",
              "      <td>acostapatricia_2009@hotmail.com</td>\n",
              "      <td>hola soy del plan 1506 debo un seminario optat...</td>\n",
              "      <td>44.948840</td>\n",
              "      <td>Boleto Universitario</td>\n",
              "      <td>1</td>\n",
              "      <td>1</td>\n",
              "      <td>12</td>\n",
              "      <td>2</td>\n",
              "      <td>2015</td>\n",
              "      <td>1</td>\n",
              "    </tr>\n",
              "    <tr>\n",
              "      <th>1</th>\n",
              "      <td>170301</td>\n",
              "      <td>41783126</td>\n",
              "      <td>licenciatura en administracion(3)</td>\n",
              "      <td>1137722125</td>\n",
              "      <td>anlemargagliotti@gmail.com</td>\n",
              "      <td>hola, hice hace un mes y algo el tramite onlin...</td>\n",
              "      <td>37.032795</td>\n",
              "      <td>Boleto Universitario</td>\n",
              "      <td>4</td>\n",
              "      <td>1</td>\n",
              "      <td>5</td>\n",
              "      <td>1</td>\n",
              "      <td>2019</td>\n",
              "      <td>1</td>\n",
              "    </tr>\n",
              "    <tr>\n",
              "      <th>2</th>\n",
              "      <td>160474</td>\n",
              "      <td>40993972</td>\n",
              "      <td>licenciatura en administracion(3)</td>\n",
              "      <td>NaN</td>\n",
              "      <td>mancubruno@gmail.com</td>\n",
              "      <td>hola, en la página dice que tengo asignado el ...</td>\n",
              "      <td>34.819030</td>\n",
              "      <td>Boleto Universitario</td>\n",
              "      <td>1</td>\n",
              "      <td>3</td>\n",
              "      <td>10</td>\n",
              "      <td>2</td>\n",
              "      <td>2019</td>\n",
              "      <td>3</td>\n",
              "    </tr>\n",
              "    <tr>\n",
              "      <th>3</th>\n",
              "      <td>163392</td>\n",
              "      <td>41925156</td>\n",
              "      <td>profesorado en educacion fisica(43)</td>\n",
              "      <td>1536771314</td>\n",
              "      <td>danilamferreras@gmail.com</td>\n",
              "      <td>hola que tal?, buenos días.  quería consultar ...</td>\n",
              "      <td>33.004196</td>\n",
              "      <td>Boleto Universitario</td>\n",
              "      <td>4</td>\n",
              "      <td>2</td>\n",
              "      <td>7</td>\n",
              "      <td>1</td>\n",
              "      <td>2018</td>\n",
              "      <td>0</td>\n",
              "    </tr>\n",
              "    <tr>\n",
              "      <th>4</th>\n",
              "      <td>165259</td>\n",
              "      <td>42344375</td>\n",
              "      <td>licenciatura en administracion(3)</td>\n",
              "      <td>3489441201</td>\n",
              "      <td>agustinvandick@gmail.com</td>\n",
              "      <td>yo hace casi un mes hice el tramite para la su...</td>\n",
              "      <td>32.668217</td>\n",
              "      <td>Boleto Universitario</td>\n",
              "      <td>0</td>\n",
              "      <td>5</td>\n",
              "      <td>7</td>\n",
              "      <td>1</td>\n",
              "      <td>2018</td>\n",
              "      <td>3</td>\n",
              "    </tr>\n",
              "  </tbody>\n",
              "</table>\n",
              "</div>"
            ],
            "text/plain": [
              "   legajo  documento  ...  anio hora_discretizada\n",
              "0  131290   27690571  ...  2015                 1\n",
              "1  170301   41783126  ...  2019                 1\n",
              "2  160474   40993972  ...  2019                 3\n",
              "3  163392   41925156  ...  2018                 0\n",
              "4  165259   42344375  ...  2018                 3\n",
              "\n",
              "[5 rows x 14 columns]"
            ]
          },
          "metadata": {
            "tags": []
          },
          "execution_count": 485
        }
      ]
    },
    {
      "cell_type": "markdown",
      "metadata": {
        "id": "hsRw3yrMvA5d"
      },
      "source": [
        "5. Preproceso el legajo y el DNI:<br />\n",
        "  Los separo en cuantiles asumiendo que los DNI mas bajos son personas mas grandes y los legajos mas grandes son estudiantes mas nuevos."
      ]
    },
    {
      "cell_type": "code",
      "metadata": {
        "id": "QJeq9I6C1sXp"
      },
      "source": [
        "import numpy as np\n",
        " \n",
        "def discretiza_atributo(atributo, intervalos=4):\n",
        "  # Se discretiza según la cantidad de q definidos\n",
        "  discretizado = pd.qcut(atributo, q=intervalos)\n",
        "  \n",
        "  # Nos quedamos con los diferentes intervalos, los ordenamos min-max\n",
        "  lista_intervalos = discretizado.unique()\n",
        "\n",
        "  lista_intervalos.sort_values(inplace=True)\n",
        "  #  Lo casteamos a str\n",
        "  lista_intervalos = lista_intervalos.astype(str)\n",
        "  #  Casteamos el atributo a str\n",
        "  discretizado = discretizado.astype(str)\n",
        "  # Borro los nan porque los modifico a mano\n",
        "  tiene_nan = False\n",
        "  if ('nan' in lista_intervalos):\n",
        "    tiene_nan = True\n",
        "    np.delete(lista_intervalos, np.where(lista_intervalos == 'nan'))\n",
        "\n",
        "  for i in range(intervalos):\n",
        "    # Si existiera, quiero dejar el nan en el intervalo con etiqueta 0, por eso sumo 1 a i\n",
        "    discretizado = discretizado.replace(lista_intervalos[i], i+1)\n",
        "    discretizado = discretizado.replace('nan', 0)\n",
        "\n",
        "  return discretizado\n",
        "\n",
        "# Cambio a numericos los Documentos y los discretizo\n",
        "df[\"documento\"] = pd.to_numeric(df[\"documento\"], errors='coerce')\n",
        "df[\"dni_discretizado\"] = discretiza_atributo(df[\"documento\"], 8)\n",
        "\n",
        "# Cambio a numericos los Legajos y los discretizo\n",
        "df[\"legajo\"] = pd.to_numeric(df[\"legajo\"], errors='coerce')\n",
        "df[\"legajo_discretizado\"] = discretiza_atributo(df[\"legajo\"], 4)"
      ],
      "execution_count": 486,
      "outputs": []
    },
    {
      "cell_type": "code",
      "metadata": {
        "colab": {
          "base_uri": "https://localhost:8080/"
        },
        "id": "PGIkhtQ9Fs7X",
        "outputId": "db734639-d140-41ba-c60a-11e32299a413"
      },
      "source": [
        "df[\"dni_discretizado\"].value_counts()"
      ],
      "execution_count": 487,
      "outputs": [
        {
          "output_type": "execute_result",
          "data": {
            "text/plain": [
              "5    101\n",
              "3    101\n",
              "8    100\n",
              "7    100\n",
              "2    100\n",
              "1    100\n",
              "6     99\n",
              "4     99\n",
              "Name: dni_discretizado, dtype: int64"
            ]
          },
          "metadata": {
            "tags": []
          },
          "execution_count": 487
        }
      ]
    },
    {
      "cell_type": "code",
      "metadata": {
        "colab": {
          "base_uri": "https://localhost:8080/"
        },
        "id": "GQ6UOF3sJrwu",
        "outputId": "b5fe8eb2-e3bf-4bfd-f1e2-cc8c299582f4"
      },
      "source": [
        "df[\"legajo_discretizado\"].value_counts()"
      ],
      "execution_count": 488,
      "outputs": [
        {
          "output_type": "execute_result",
          "data": {
            "text/plain": [
              "0    183\n",
              "1    157\n",
              "4    154\n",
              "3    153\n",
              "2    153\n",
              "Name: legajo_discretizado, dtype: int64"
            ]
          },
          "metadata": {
            "tags": []
          },
          "execution_count": 488
        }
      ]
    },
    {
      "cell_type": "markdown",
      "metadata": {
        "id": "QubUGs5fnykm"
      },
      "source": [
        "6. Genero una variable dummy con la existencia o no de Legajo y Teléfono:"
      ]
    },
    {
      "cell_type": "code",
      "metadata": {
        "id": "d5vwKz6-nBz4"
      },
      "source": [
        "# Tiene legajo?\n",
        "def posee_valor(atributo):\n",
        "  return 1-atributo.isna()\n",
        "  \n",
        "df['posee_legajo'] = posee_valor(df['legajo'])"
      ],
      "execution_count": 489,
      "outputs": []
    },
    {
      "cell_type": "code",
      "metadata": {
        "colab": {
          "base_uri": "https://localhost:8080/",
          "height": 666
        },
        "id": "WMvevGffJ4OD",
        "outputId": "f127d607-8487-4acd-e9da-4d3a0cc6447a"
      },
      "source": [
        "df.drop(columns=['legajo', 'documento'], inplace=True)\n",
        "df.head()"
      ],
      "execution_count": 490,
      "outputs": [
        {
          "output_type": "execute_result",
          "data": {
            "text/html": [
              "<div>\n",
              "<style scoped>\n",
              "    .dataframe tbody tr th:only-of-type {\n",
              "        vertical-align: middle;\n",
              "    }\n",
              "\n",
              "    .dataframe tbody tr th {\n",
              "        vertical-align: top;\n",
              "    }\n",
              "\n",
              "    .dataframe thead th {\n",
              "        text-align: right;\n",
              "    }\n",
              "</style>\n",
              "<table border=\"1\" class=\"dataframe\">\n",
              "  <thead>\n",
              "    <tr style=\"text-align: right;\">\n",
              "      <th></th>\n",
              "      <th>carrera</th>\n",
              "      <th>telefono</th>\n",
              "      <th>email</th>\n",
              "      <th>consulta</th>\n",
              "      <th>score</th>\n",
              "      <th>clase</th>\n",
              "      <th>dia_semana</th>\n",
              "      <th>semana_del_mes</th>\n",
              "      <th>mes</th>\n",
              "      <th>cuatrimestre</th>\n",
              "      <th>anio</th>\n",
              "      <th>hora_discretizada</th>\n",
              "      <th>dni_discretizado</th>\n",
              "      <th>legajo_discretizado</th>\n",
              "      <th>posee_legajo</th>\n",
              "    </tr>\n",
              "  </thead>\n",
              "  <tbody>\n",
              "    <tr>\n",
              "      <th>0</th>\n",
              "      <td>lic. en educacion fisica (ciclo de licenciatur...</td>\n",
              "      <td>03327452625</td>\n",
              "      <td>acostapatricia_2009@hotmail.com</td>\n",
              "      <td>hola soy del plan 1506 debo un seminario optat...</td>\n",
              "      <td>44.948840</td>\n",
              "      <td>Boleto Universitario</td>\n",
              "      <td>1</td>\n",
              "      <td>1</td>\n",
              "      <td>12</td>\n",
              "      <td>2</td>\n",
              "      <td>2015</td>\n",
              "      <td>1</td>\n",
              "      <td>2</td>\n",
              "      <td>2</td>\n",
              "      <td>1</td>\n",
              "    </tr>\n",
              "    <tr>\n",
              "      <th>1</th>\n",
              "      <td>licenciatura en administracion(3)</td>\n",
              "      <td>1137722125</td>\n",
              "      <td>anlemargagliotti@gmail.com</td>\n",
              "      <td>hola, hice hace un mes y algo el tramite onlin...</td>\n",
              "      <td>37.032795</td>\n",
              "      <td>Boleto Universitario</td>\n",
              "      <td>4</td>\n",
              "      <td>1</td>\n",
              "      <td>5</td>\n",
              "      <td>1</td>\n",
              "      <td>2019</td>\n",
              "      <td>1</td>\n",
              "      <td>8</td>\n",
              "      <td>4</td>\n",
              "      <td>1</td>\n",
              "    </tr>\n",
              "    <tr>\n",
              "      <th>2</th>\n",
              "      <td>licenciatura en administracion(3)</td>\n",
              "      <td>NaN</td>\n",
              "      <td>mancubruno@gmail.com</td>\n",
              "      <td>hola, en la página dice que tengo asignado el ...</td>\n",
              "      <td>34.819030</td>\n",
              "      <td>Boleto Universitario</td>\n",
              "      <td>1</td>\n",
              "      <td>3</td>\n",
              "      <td>10</td>\n",
              "      <td>2</td>\n",
              "      <td>2019</td>\n",
              "      <td>3</td>\n",
              "      <td>7</td>\n",
              "      <td>4</td>\n",
              "      <td>1</td>\n",
              "    </tr>\n",
              "    <tr>\n",
              "      <th>3</th>\n",
              "      <td>profesorado en educacion fisica(43)</td>\n",
              "      <td>1536771314</td>\n",
              "      <td>danilamferreras@gmail.com</td>\n",
              "      <td>hola que tal?, buenos días.  quería consultar ...</td>\n",
              "      <td>33.004196</td>\n",
              "      <td>Boleto Universitario</td>\n",
              "      <td>4</td>\n",
              "      <td>2</td>\n",
              "      <td>7</td>\n",
              "      <td>1</td>\n",
              "      <td>2018</td>\n",
              "      <td>0</td>\n",
              "      <td>8</td>\n",
              "      <td>4</td>\n",
              "      <td>1</td>\n",
              "    </tr>\n",
              "    <tr>\n",
              "      <th>4</th>\n",
              "      <td>licenciatura en administracion(3)</td>\n",
              "      <td>3489441201</td>\n",
              "      <td>agustinvandick@gmail.com</td>\n",
              "      <td>yo hace casi un mes hice el tramite para la su...</td>\n",
              "      <td>32.668217</td>\n",
              "      <td>Boleto Universitario</td>\n",
              "      <td>0</td>\n",
              "      <td>5</td>\n",
              "      <td>7</td>\n",
              "      <td>1</td>\n",
              "      <td>2018</td>\n",
              "      <td>3</td>\n",
              "      <td>8</td>\n",
              "      <td>4</td>\n",
              "      <td>1</td>\n",
              "    </tr>\n",
              "  </tbody>\n",
              "</table>\n",
              "</div>"
            ],
            "text/plain": [
              "                                             carrera  ... posee_legajo\n",
              "0  lic. en educacion fisica (ciclo de licenciatur...  ...            1\n",
              "1                  licenciatura en administracion(3)  ...            1\n",
              "2                  licenciatura en administracion(3)  ...            1\n",
              "3                profesorado en educacion fisica(43)  ...            1\n",
              "4                  licenciatura en administracion(3)  ...            1\n",
              "\n",
              "[5 rows x 15 columns]"
            ]
          },
          "metadata": {
            "tags": []
          },
          "execution_count": 490
        }
      ]
    },
    {
      "cell_type": "code",
      "metadata": {
        "id": "-ux6oNoknIBh"
      },
      "source": [
        "# Tiene teléfono? \n",
        "df['posee_telefono'] = posee_valor(df['telefono'])"
      ],
      "execution_count": 491,
      "outputs": []
    },
    {
      "cell_type": "code",
      "metadata": {
        "colab": {
          "base_uri": "https://localhost:8080/",
          "height": 666
        },
        "id": "YSYkq_jnnNG3",
        "outputId": "31adf78e-d1de-4d1f-be4e-2bef11fec42e"
      },
      "source": [
        "df.drop(columns=['telefono'], inplace=True)\n",
        "df.head()"
      ],
      "execution_count": 492,
      "outputs": [
        {
          "output_type": "execute_result",
          "data": {
            "text/html": [
              "<div>\n",
              "<style scoped>\n",
              "    .dataframe tbody tr th:only-of-type {\n",
              "        vertical-align: middle;\n",
              "    }\n",
              "\n",
              "    .dataframe tbody tr th {\n",
              "        vertical-align: top;\n",
              "    }\n",
              "\n",
              "    .dataframe thead th {\n",
              "        text-align: right;\n",
              "    }\n",
              "</style>\n",
              "<table border=\"1\" class=\"dataframe\">\n",
              "  <thead>\n",
              "    <tr style=\"text-align: right;\">\n",
              "      <th></th>\n",
              "      <th>carrera</th>\n",
              "      <th>email</th>\n",
              "      <th>consulta</th>\n",
              "      <th>score</th>\n",
              "      <th>clase</th>\n",
              "      <th>dia_semana</th>\n",
              "      <th>semana_del_mes</th>\n",
              "      <th>mes</th>\n",
              "      <th>cuatrimestre</th>\n",
              "      <th>anio</th>\n",
              "      <th>hora_discretizada</th>\n",
              "      <th>dni_discretizado</th>\n",
              "      <th>legajo_discretizado</th>\n",
              "      <th>posee_legajo</th>\n",
              "      <th>posee_telefono</th>\n",
              "    </tr>\n",
              "  </thead>\n",
              "  <tbody>\n",
              "    <tr>\n",
              "      <th>0</th>\n",
              "      <td>lic. en educacion fisica (ciclo de licenciatur...</td>\n",
              "      <td>acostapatricia_2009@hotmail.com</td>\n",
              "      <td>hola soy del plan 1506 debo un seminario optat...</td>\n",
              "      <td>44.948840</td>\n",
              "      <td>Boleto Universitario</td>\n",
              "      <td>1</td>\n",
              "      <td>1</td>\n",
              "      <td>12</td>\n",
              "      <td>2</td>\n",
              "      <td>2015</td>\n",
              "      <td>1</td>\n",
              "      <td>2</td>\n",
              "      <td>2</td>\n",
              "      <td>1</td>\n",
              "      <td>1</td>\n",
              "    </tr>\n",
              "    <tr>\n",
              "      <th>1</th>\n",
              "      <td>licenciatura en administracion(3)</td>\n",
              "      <td>anlemargagliotti@gmail.com</td>\n",
              "      <td>hola, hice hace un mes y algo el tramite onlin...</td>\n",
              "      <td>37.032795</td>\n",
              "      <td>Boleto Universitario</td>\n",
              "      <td>4</td>\n",
              "      <td>1</td>\n",
              "      <td>5</td>\n",
              "      <td>1</td>\n",
              "      <td>2019</td>\n",
              "      <td>1</td>\n",
              "      <td>8</td>\n",
              "      <td>4</td>\n",
              "      <td>1</td>\n",
              "      <td>1</td>\n",
              "    </tr>\n",
              "    <tr>\n",
              "      <th>2</th>\n",
              "      <td>licenciatura en administracion(3)</td>\n",
              "      <td>mancubruno@gmail.com</td>\n",
              "      <td>hola, en la página dice que tengo asignado el ...</td>\n",
              "      <td>34.819030</td>\n",
              "      <td>Boleto Universitario</td>\n",
              "      <td>1</td>\n",
              "      <td>3</td>\n",
              "      <td>10</td>\n",
              "      <td>2</td>\n",
              "      <td>2019</td>\n",
              "      <td>3</td>\n",
              "      <td>7</td>\n",
              "      <td>4</td>\n",
              "      <td>1</td>\n",
              "      <td>0</td>\n",
              "    </tr>\n",
              "    <tr>\n",
              "      <th>3</th>\n",
              "      <td>profesorado en educacion fisica(43)</td>\n",
              "      <td>danilamferreras@gmail.com</td>\n",
              "      <td>hola que tal?, buenos días.  quería consultar ...</td>\n",
              "      <td>33.004196</td>\n",
              "      <td>Boleto Universitario</td>\n",
              "      <td>4</td>\n",
              "      <td>2</td>\n",
              "      <td>7</td>\n",
              "      <td>1</td>\n",
              "      <td>2018</td>\n",
              "      <td>0</td>\n",
              "      <td>8</td>\n",
              "      <td>4</td>\n",
              "      <td>1</td>\n",
              "      <td>1</td>\n",
              "    </tr>\n",
              "    <tr>\n",
              "      <th>4</th>\n",
              "      <td>licenciatura en administracion(3)</td>\n",
              "      <td>agustinvandick@gmail.com</td>\n",
              "      <td>yo hace casi un mes hice el tramite para la su...</td>\n",
              "      <td>32.668217</td>\n",
              "      <td>Boleto Universitario</td>\n",
              "      <td>0</td>\n",
              "      <td>5</td>\n",
              "      <td>7</td>\n",
              "      <td>1</td>\n",
              "      <td>2018</td>\n",
              "      <td>3</td>\n",
              "      <td>8</td>\n",
              "      <td>4</td>\n",
              "      <td>1</td>\n",
              "      <td>1</td>\n",
              "    </tr>\n",
              "  </tbody>\n",
              "</table>\n",
              "</div>"
            ],
            "text/plain": [
              "                                             carrera  ... posee_telefono\n",
              "0  lic. en educacion fisica (ciclo de licenciatur...  ...              1\n",
              "1                  licenciatura en administracion(3)  ...              1\n",
              "2                  licenciatura en administracion(3)  ...              0\n",
              "3                profesorado en educacion fisica(43)  ...              1\n",
              "4                  licenciatura en administracion(3)  ...              1\n",
              "\n",
              "[5 rows x 15 columns]"
            ]
          },
          "metadata": {
            "tags": []
          },
          "execution_count": 492
        }
      ]
    },
    {
      "cell_type": "markdown",
      "metadata": {
        "id": "XwliKva_oORy"
      },
      "source": [
        "7. Se extrae el código de Carrera:"
      ]
    },
    {
      "cell_type": "code",
      "metadata": {
        "id": "aNQgRSVNKrUJ"
      },
      "source": [
        "def extrae_codigo_carrera(texto_carrera):\n",
        "  codigo = 0\n",
        "  if \"sin carrera\" not in texto_carrera:\n",
        "    texto_carrera = texto_carrera.split('(')\n",
        "    texto_carrera = texto_carrera[len(texto_carrera)-1].split(')')\n",
        "    codigo = int(texto_carrera[0])\n",
        "  return codigo\n",
        "\n",
        "# extrae_codigo_carrera(df.loc[0, 'Carrera'])\n",
        "df['carrera_valor'] = df['carrera'].apply(extrae_codigo_carrera)"
      ],
      "execution_count": 493,
      "outputs": []
    },
    {
      "cell_type": "code",
      "metadata": {
        "colab": {
          "base_uri": "https://localhost:8080/",
          "height": 666
        },
        "id": "7914syUaOKUL",
        "outputId": "193d9c72-06b4-4fc0-9903-3a029692db97"
      },
      "source": [
        "df.drop(columns=['carrera'], inplace=True)\n",
        "df.head()"
      ],
      "execution_count": 494,
      "outputs": [
        {
          "output_type": "execute_result",
          "data": {
            "text/html": [
              "<div>\n",
              "<style scoped>\n",
              "    .dataframe tbody tr th:only-of-type {\n",
              "        vertical-align: middle;\n",
              "    }\n",
              "\n",
              "    .dataframe tbody tr th {\n",
              "        vertical-align: top;\n",
              "    }\n",
              "\n",
              "    .dataframe thead th {\n",
              "        text-align: right;\n",
              "    }\n",
              "</style>\n",
              "<table border=\"1\" class=\"dataframe\">\n",
              "  <thead>\n",
              "    <tr style=\"text-align: right;\">\n",
              "      <th></th>\n",
              "      <th>email</th>\n",
              "      <th>consulta</th>\n",
              "      <th>score</th>\n",
              "      <th>clase</th>\n",
              "      <th>dia_semana</th>\n",
              "      <th>semana_del_mes</th>\n",
              "      <th>mes</th>\n",
              "      <th>cuatrimestre</th>\n",
              "      <th>anio</th>\n",
              "      <th>hora_discretizada</th>\n",
              "      <th>dni_discretizado</th>\n",
              "      <th>legajo_discretizado</th>\n",
              "      <th>posee_legajo</th>\n",
              "      <th>posee_telefono</th>\n",
              "      <th>carrera_valor</th>\n",
              "    </tr>\n",
              "  </thead>\n",
              "  <tbody>\n",
              "    <tr>\n",
              "      <th>0</th>\n",
              "      <td>acostapatricia_2009@hotmail.com</td>\n",
              "      <td>hola soy del plan 1506 debo un seminario optat...</td>\n",
              "      <td>44.948840</td>\n",
              "      <td>Boleto Universitario</td>\n",
              "      <td>1</td>\n",
              "      <td>1</td>\n",
              "      <td>12</td>\n",
              "      <td>2</td>\n",
              "      <td>2015</td>\n",
              "      <td>1</td>\n",
              "      <td>2</td>\n",
              "      <td>2</td>\n",
              "      <td>1</td>\n",
              "      <td>1</td>\n",
              "      <td>15</td>\n",
              "    </tr>\n",
              "    <tr>\n",
              "      <th>1</th>\n",
              "      <td>anlemargagliotti@gmail.com</td>\n",
              "      <td>hola, hice hace un mes y algo el tramite onlin...</td>\n",
              "      <td>37.032795</td>\n",
              "      <td>Boleto Universitario</td>\n",
              "      <td>4</td>\n",
              "      <td>1</td>\n",
              "      <td>5</td>\n",
              "      <td>1</td>\n",
              "      <td>2019</td>\n",
              "      <td>1</td>\n",
              "      <td>8</td>\n",
              "      <td>4</td>\n",
              "      <td>1</td>\n",
              "      <td>1</td>\n",
              "      <td>3</td>\n",
              "    </tr>\n",
              "    <tr>\n",
              "      <th>2</th>\n",
              "      <td>mancubruno@gmail.com</td>\n",
              "      <td>hola, en la página dice que tengo asignado el ...</td>\n",
              "      <td>34.819030</td>\n",
              "      <td>Boleto Universitario</td>\n",
              "      <td>1</td>\n",
              "      <td>3</td>\n",
              "      <td>10</td>\n",
              "      <td>2</td>\n",
              "      <td>2019</td>\n",
              "      <td>3</td>\n",
              "      <td>7</td>\n",
              "      <td>4</td>\n",
              "      <td>1</td>\n",
              "      <td>0</td>\n",
              "      <td>3</td>\n",
              "    </tr>\n",
              "    <tr>\n",
              "      <th>3</th>\n",
              "      <td>danilamferreras@gmail.com</td>\n",
              "      <td>hola que tal?, buenos días.  quería consultar ...</td>\n",
              "      <td>33.004196</td>\n",
              "      <td>Boleto Universitario</td>\n",
              "      <td>4</td>\n",
              "      <td>2</td>\n",
              "      <td>7</td>\n",
              "      <td>1</td>\n",
              "      <td>2018</td>\n",
              "      <td>0</td>\n",
              "      <td>8</td>\n",
              "      <td>4</td>\n",
              "      <td>1</td>\n",
              "      <td>1</td>\n",
              "      <td>43</td>\n",
              "    </tr>\n",
              "    <tr>\n",
              "      <th>4</th>\n",
              "      <td>agustinvandick@gmail.com</td>\n",
              "      <td>yo hace casi un mes hice el tramite para la su...</td>\n",
              "      <td>32.668217</td>\n",
              "      <td>Boleto Universitario</td>\n",
              "      <td>0</td>\n",
              "      <td>5</td>\n",
              "      <td>7</td>\n",
              "      <td>1</td>\n",
              "      <td>2018</td>\n",
              "      <td>3</td>\n",
              "      <td>8</td>\n",
              "      <td>4</td>\n",
              "      <td>1</td>\n",
              "      <td>1</td>\n",
              "      <td>3</td>\n",
              "    </tr>\n",
              "  </tbody>\n",
              "</table>\n",
              "</div>"
            ],
            "text/plain": [
              "                             email  ... carrera_valor\n",
              "0  acostapatricia_2009@hotmail.com  ...            15\n",
              "1       anlemargagliotti@gmail.com  ...             3\n",
              "2             mancubruno@gmail.com  ...             3\n",
              "3        danilamferreras@gmail.com  ...            43\n",
              "4         agustinvandick@gmail.com  ...             3\n",
              "\n",
              "[5 rows x 15 columns]"
            ]
          },
          "metadata": {
            "tags": []
          },
          "execution_count": 494
        }
      ]
    },
    {
      "cell_type": "markdown",
      "metadata": {
        "id": "T82OrpbfoRt2"
      },
      "source": [
        "8. Se verifica el proveedor de correo electrónico:"
      ]
    },
    {
      "cell_type": "code",
      "metadata": {
        "id": "un2AjzunnWbm"
      },
      "source": [
        "def servicio_email(consulta, proveedor):  \n",
        "  if consulta.lower().find(proveedor)==-1:\n",
        "    return 0\n",
        "  else:\n",
        "    return 1\n",
        "# Correo Gmail?\n",
        "# df['correo_gmail'] = df['E-mail'].apply(servicio_email, proveedor='gmail')\n",
        "# Correo yahoo?\n",
        "# df['correo_yahoo'] = df['E-mail'].apply(servicio_email, proveedor='yahoo')\n",
        "# Correo hotmail?\n",
        "# df['correo_hotmail'] = df['E-mail'].apply(servicio_email, proveedor='hotmail')\n",
        "\n",
        "def extrae_proveedor_correo(texto_correo):\n",
        "    texto_correo = texto_correo.split('@')\n",
        "    texto_correo = texto_correo[len(texto_correo)-1].split('.')\n",
        "    proveedor_correo = texto_correo[0]\n",
        "    return proveedor_correo\n",
        "\n",
        "#extrae_proveedor_correo(df.loc[0, 'E-mail'])\n",
        "df['proveedor_correo'] = df['email'].apply(extrae_proveedor_correo)"
      ],
      "execution_count": 495,
      "outputs": []
    },
    {
      "cell_type": "code",
      "metadata": {
        "colab": {
          "base_uri": "https://localhost:8080/"
        },
        "id": "dYSTwAzOpSDe",
        "outputId": "88a79654-73f6-4ea5-ee1e-d3e4b3188d86"
      },
      "source": [
        "df['proveedor_correo'].value_counts()"
      ],
      "execution_count": 496,
      "outputs": [
        {
          "output_type": "execute_result",
          "data": {
            "text/plain": [
              "hotmail            380\n",
              "gmail              320\n",
              "live                32\n",
              "yahoo               32\n",
              "outlook             28\n",
              "udesa                2\n",
              "colegiodelpilar      1\n",
              "uno                  1\n",
              "icloud               1\n",
              "gamail               1\n",
              "hotmaill             1\n",
              "edenor               1\n",
              "Name: proveedor_correo, dtype: int64"
            ]
          },
          "metadata": {
            "tags": []
          },
          "execution_count": 496
        }
      ]
    },
    {
      "cell_type": "code",
      "metadata": {
        "id": "OimXHq_No7un",
        "colab": {
          "base_uri": "https://localhost:8080/"
        },
        "outputId": "3d34dca2-5b2b-4029-fb09-95c2716f0aab"
      },
      "source": [
        "# Limpio el campo proveedor_correo\n",
        "\n",
        "df['proveedor_correo'].replace({\"autloock\": \"outlook\",\n",
        "                                \"outlool\": \"outlook\",\n",
        "                                \"gamail\": \"gmail\",\n",
        "                                \"gmal\": \"gmail\",\n",
        "                                \"gmil\": \"gmail\",\n",
        "                                \"hotmaill\": \"hotmail\",\n",
        "                                \"luve\": \"live\",\n",
        "                                }, inplace=True)\n",
        "\n",
        "# Se transforma proveedor_correo a numerico\n",
        "from sklearn import preprocessing\n",
        "le_correo = preprocessing.LabelEncoder()\n",
        "df['proveedor_correo'] = le_correo.fit_transform(df['proveedor_correo'])\n",
        "\n",
        "le_correo.classes_"
      ],
      "execution_count": 497,
      "outputs": [
        {
          "output_type": "execute_result",
          "data": {
            "text/plain": [
              "array(['colegiodelpilar', 'edenor', 'gmail', 'hotmail', 'icloud', 'live',\n",
              "       'outlook', 'udesa', 'uno', 'yahoo'], dtype=object)"
            ]
          },
          "metadata": {
            "tags": []
          },
          "execution_count": 497
        }
      ]
    },
    {
      "cell_type": "code",
      "metadata": {
        "colab": {
          "base_uri": "https://localhost:8080/",
          "height": 666
        },
        "id": "2Q74DHQInT9b",
        "outputId": "b4698416-196e-415b-940b-a9fac8b2f50c"
      },
      "source": [
        "df.drop(columns=['email'], inplace=True)\n",
        "df.head()"
      ],
      "execution_count": 498,
      "outputs": [
        {
          "output_type": "execute_result",
          "data": {
            "text/html": [
              "<div>\n",
              "<style scoped>\n",
              "    .dataframe tbody tr th:only-of-type {\n",
              "        vertical-align: middle;\n",
              "    }\n",
              "\n",
              "    .dataframe tbody tr th {\n",
              "        vertical-align: top;\n",
              "    }\n",
              "\n",
              "    .dataframe thead th {\n",
              "        text-align: right;\n",
              "    }\n",
              "</style>\n",
              "<table border=\"1\" class=\"dataframe\">\n",
              "  <thead>\n",
              "    <tr style=\"text-align: right;\">\n",
              "      <th></th>\n",
              "      <th>consulta</th>\n",
              "      <th>score</th>\n",
              "      <th>clase</th>\n",
              "      <th>dia_semana</th>\n",
              "      <th>semana_del_mes</th>\n",
              "      <th>mes</th>\n",
              "      <th>cuatrimestre</th>\n",
              "      <th>anio</th>\n",
              "      <th>hora_discretizada</th>\n",
              "      <th>dni_discretizado</th>\n",
              "      <th>legajo_discretizado</th>\n",
              "      <th>posee_legajo</th>\n",
              "      <th>posee_telefono</th>\n",
              "      <th>carrera_valor</th>\n",
              "      <th>proveedor_correo</th>\n",
              "    </tr>\n",
              "  </thead>\n",
              "  <tbody>\n",
              "    <tr>\n",
              "      <th>0</th>\n",
              "      <td>hola soy del plan 1506 debo un seminario optat...</td>\n",
              "      <td>44.948840</td>\n",
              "      <td>Boleto Universitario</td>\n",
              "      <td>1</td>\n",
              "      <td>1</td>\n",
              "      <td>12</td>\n",
              "      <td>2</td>\n",
              "      <td>2015</td>\n",
              "      <td>1</td>\n",
              "      <td>2</td>\n",
              "      <td>2</td>\n",
              "      <td>1</td>\n",
              "      <td>1</td>\n",
              "      <td>15</td>\n",
              "      <td>3</td>\n",
              "    </tr>\n",
              "    <tr>\n",
              "      <th>1</th>\n",
              "      <td>hola, hice hace un mes y algo el tramite onlin...</td>\n",
              "      <td>37.032795</td>\n",
              "      <td>Boleto Universitario</td>\n",
              "      <td>4</td>\n",
              "      <td>1</td>\n",
              "      <td>5</td>\n",
              "      <td>1</td>\n",
              "      <td>2019</td>\n",
              "      <td>1</td>\n",
              "      <td>8</td>\n",
              "      <td>4</td>\n",
              "      <td>1</td>\n",
              "      <td>1</td>\n",
              "      <td>3</td>\n",
              "      <td>2</td>\n",
              "    </tr>\n",
              "    <tr>\n",
              "      <th>2</th>\n",
              "      <td>hola, en la página dice que tengo asignado el ...</td>\n",
              "      <td>34.819030</td>\n",
              "      <td>Boleto Universitario</td>\n",
              "      <td>1</td>\n",
              "      <td>3</td>\n",
              "      <td>10</td>\n",
              "      <td>2</td>\n",
              "      <td>2019</td>\n",
              "      <td>3</td>\n",
              "      <td>7</td>\n",
              "      <td>4</td>\n",
              "      <td>1</td>\n",
              "      <td>0</td>\n",
              "      <td>3</td>\n",
              "      <td>2</td>\n",
              "    </tr>\n",
              "    <tr>\n",
              "      <th>3</th>\n",
              "      <td>hola que tal?, buenos días.  quería consultar ...</td>\n",
              "      <td>33.004196</td>\n",
              "      <td>Boleto Universitario</td>\n",
              "      <td>4</td>\n",
              "      <td>2</td>\n",
              "      <td>7</td>\n",
              "      <td>1</td>\n",
              "      <td>2018</td>\n",
              "      <td>0</td>\n",
              "      <td>8</td>\n",
              "      <td>4</td>\n",
              "      <td>1</td>\n",
              "      <td>1</td>\n",
              "      <td>43</td>\n",
              "      <td>2</td>\n",
              "    </tr>\n",
              "    <tr>\n",
              "      <th>4</th>\n",
              "      <td>yo hace casi un mes hice el tramite para la su...</td>\n",
              "      <td>32.668217</td>\n",
              "      <td>Boleto Universitario</td>\n",
              "      <td>0</td>\n",
              "      <td>5</td>\n",
              "      <td>7</td>\n",
              "      <td>1</td>\n",
              "      <td>2018</td>\n",
              "      <td>3</td>\n",
              "      <td>8</td>\n",
              "      <td>4</td>\n",
              "      <td>1</td>\n",
              "      <td>1</td>\n",
              "      <td>3</td>\n",
              "      <td>2</td>\n",
              "    </tr>\n",
              "  </tbody>\n",
              "</table>\n",
              "</div>"
            ],
            "text/plain": [
              "                                            consulta  ...  proveedor_correo\n",
              "0  hola soy del plan 1506 debo un seminario optat...  ...                 3\n",
              "1  hola, hice hace un mes y algo el tramite onlin...  ...                 2\n",
              "2  hola, en la página dice que tengo asignado el ...  ...                 2\n",
              "3  hola que tal?, buenos días.  quería consultar ...  ...                 2\n",
              "4  yo hace casi un mes hice el tramite para la su...  ...                 2\n",
              "\n",
              "[5 rows x 15 columns]"
            ]
          },
          "metadata": {
            "tags": []
          },
          "execution_count": 498
        }
      ]
    },
    {
      "cell_type": "markdown",
      "metadata": {
        "id": "ldSoSAe0RKEp"
      },
      "source": [
        "## Features estáticas léxicas\n",
        "\n",
        "Genero las features estáticas léxicas basadas en caracteres:"
      ]
    },
    {
      "cell_type": "code",
      "metadata": {
        "id": "0bFY_Se3Q_VE"
      },
      "source": [
        "# Total number of characters\n",
        "def cantidad_caracteres(columna_consulta):\n",
        "  return columna_consulta.str.len()\n",
        "\n",
        "df['cantidad_caracteres'] = cantidad_caracteres(df.consulta)\n",
        "\n",
        "# Proporcion de mayúsculas en la consulta\n",
        "def proporcion_mayusculas(consulta):\n",
        "  return sum(1 for letra in consulta if letra.isupper())\n",
        "\n",
        "df['proporcion_mayusculas'] = df['consulta'].apply(proporcion_mayusculas)/df['cantidad_caracteres']\n",
        "\n",
        "# Proporción de letras en la consulta\n",
        "def proporcion_letras(consulta):\n",
        "  return sum(1 for letra in consulta if letra.isalpha())\n",
        "\n",
        "df['proporcion_letras'] = df['consulta'].apply(proporcion_letras)/df['cantidad_caracteres']\n",
        "\n",
        "# Cantidad de letras con tildes\n",
        "def cantidad_tildes(consulta):\n",
        "  return sum(1 for letra in consulta if letra.lower() in ['á', 'é', 'í', 'ó', 'ú'])\n",
        "\n",
        "df['cantidad_tildes'] = df['consulta'].apply(cantidad_tildes)"
      ],
      "execution_count": 499,
      "outputs": []
    },
    {
      "cell_type": "markdown",
      "metadata": {
        "id": "kwnIHzGjRwD9"
      },
      "source": [
        "Genero las features estáticas léxicas basadas en palabras:"
      ]
    },
    {
      "cell_type": "code",
      "metadata": {
        "colab": {
          "base_uri": "https://localhost:8080/"
        },
        "id": "9ek4B8SSRz3m",
        "outputId": "9f6e26f6-4192-4cd3-eaa8-de3be5e11c2b"
      },
      "source": [
        "# total number of words\n",
        "def cantidad_palabras(consulta):\n",
        "  palabras = consulta.split(sep=' ')\n",
        "  return len(palabras)\n",
        "\n",
        "df['cantidad_palabras'] = df['consulta'].apply(cantidad_palabras)\n",
        "\n",
        "# proportion of short words (less than four characters)\n",
        "def cantidad_palabras_cortas(consulta, letras_corta=4):\n",
        "  palabras = consulta.split(sep=' ')\n",
        "  return sum(1 for palabra in palabras if len(palabra) <= letras_corta)\n",
        "\n",
        "df['cantidad_palabras_cortas'] = df['consulta'].apply(cantidad_palabras_cortas)\n",
        "\n",
        "# ratio of number of distinct words to the total number of words: |set(words)|/|words|\n",
        "def cantidad_palabras_distintas(consulta, letras_corta=4):\n",
        "  palabras = consulta.split(sep=' ')\n",
        "  return len(set(palabras))\n",
        "\n",
        "df['proporcion_palabras_distintas'] = df['consulta'].apply(cantidad_palabras_distintas)/df['cantidad_palabras']\n",
        "df['proporcion_palabras_distintas']"
      ],
      "execution_count": 500,
      "outputs": [
        {
          "output_type": "execute_result",
          "data": {
            "text/plain": [
              "0      0.944444\n",
              "1      0.837209\n",
              "2      0.885714\n",
              "3      0.773333\n",
              "4      0.785714\n",
              "         ...   \n",
              "795    0.888889\n",
              "796    0.782609\n",
              "797    0.840000\n",
              "798    0.840000\n",
              "799    0.754098\n",
              "Name: proporcion_palabras_distintas, Length: 800, dtype: float64"
            ]
          },
          "metadata": {
            "tags": []
          },
          "execution_count": 500
        }
      ]
    },
    {
      "cell_type": "markdown",
      "metadata": {
        "id": "NGuXt-ufR9tp"
      },
      "source": [
        "Genero las features estáticas sintácticas:"
      ]
    },
    {
      "cell_type": "code",
      "metadata": {
        "id": "7Og4O_n4R-ZJ"
      },
      "source": [
        "# Frecuencia de signos de puntuación {,.¿?!:;’\"}\n",
        "def cantidad_signos_puntuacion(consulta):\n",
        "  signos_puntuacion = [',', '.', '¿', '?', '!', '¡', ':', ';', '\"']\n",
        "  return sum(1 for letra in consulta if letra.lower() in signos_puntuacion)\n",
        "\n",
        "df['frecuencia_signos_puntuacion'] = df['consulta'].apply(cantidad_signos_puntuacion)/df['cantidad_caracteres']"
      ],
      "execution_count": 501,
      "outputs": []
    },
    {
      "cell_type": "markdown",
      "metadata": {
        "id": "JueaJOGoSFl6"
      },
      "source": [
        "Genero las features estáticas estructurales:"
      ]
    },
    {
      "cell_type": "code",
      "metadata": {
        "id": "psAalNqRSGap"
      },
      "source": [
        "# total number of sentences\n",
        "def cantidad_oraciones(consulta):\n",
        "  if consulta.count('.')==0:\n",
        "    return 1\n",
        "  else: \n",
        "    return consulta.count('.')\n",
        "\n",
        "df['cantidad_oraciones'] = df['consulta'].apply(cantidad_oraciones)\n",
        "\n",
        "# utiliza código de asignatura?\n",
        "def utiliza_codigo_asignatura(consulta):\n",
        "  codigo=0\n",
        "  palabras = consulta.split(sep=' ')\n",
        "  for palabra in palabras:\n",
        "    if palabra.isdigit():\n",
        "      if int(palabra)>=10000 and int(palabra)<=99999:\n",
        "        codigo=1\n",
        "  return codigo\n",
        "\n",
        "df['utiliza_codigo_asignatura'] = df['consulta'].apply(utiliza_codigo_asignatura)"
      ],
      "execution_count": 502,
      "outputs": []
    },
    {
      "cell_type": "code",
      "metadata": {
        "colab": {
          "base_uri": "https://localhost:8080/"
        },
        "id": "SN_06acJSXDV",
        "outputId": "5a650cd2-9f08-4928-f887-7de133d982a5"
      },
      "source": [
        "len(df.columns)"
      ],
      "execution_count": 503,
      "outputs": [
        {
          "output_type": "execute_result",
          "data": {
            "text/plain": [
              "25"
            ]
          },
          "metadata": {
            "tags": []
          },
          "execution_count": 503
        }
      ]
    },
    {
      "cell_type": "markdown",
      "metadata": {
        "id": "Z6DESYPxrGnO"
      },
      "source": [
        "Por último, reordeno el score y la clase para que me quede última:"
      ]
    },
    {
      "cell_type": "code",
      "metadata": {
        "id": "tvK6vaU6rcok"
      },
      "source": [
        "x = df['score']\n",
        "y = df['clase']\n",
        "df.drop(columns=['clase', 'score'], inplace=True)\n",
        "df.insert(len(df.columns), \"score\", x, True)\n",
        "df.insert(len(df.columns), \"clase\", y, True)"
      ],
      "execution_count": 504,
      "outputs": []
    },
    {
      "cell_type": "code",
      "metadata": {
        "colab": {
          "base_uri": "https://localhost:8080/",
          "height": 666
        },
        "id": "kk49RVpUr7oc",
        "outputId": "2fcd0f08-2d90-4288-e903-716beb536ef0"
      },
      "source": [
        "# Tomo una consulta determinada\n",
        "df.loc[1, 'consulta']\n",
        "\n",
        "# Verifico las columnas del Dataframe\n",
        "df.head()"
      ],
      "execution_count": 505,
      "outputs": [
        {
          "output_type": "execute_result",
          "data": {
            "text/html": [
              "<div>\n",
              "<style scoped>\n",
              "    .dataframe tbody tr th:only-of-type {\n",
              "        vertical-align: middle;\n",
              "    }\n",
              "\n",
              "    .dataframe tbody tr th {\n",
              "        vertical-align: top;\n",
              "    }\n",
              "\n",
              "    .dataframe thead th {\n",
              "        text-align: right;\n",
              "    }\n",
              "</style>\n",
              "<table border=\"1\" class=\"dataframe\">\n",
              "  <thead>\n",
              "    <tr style=\"text-align: right;\">\n",
              "      <th></th>\n",
              "      <th>consulta</th>\n",
              "      <th>dia_semana</th>\n",
              "      <th>semana_del_mes</th>\n",
              "      <th>mes</th>\n",
              "      <th>cuatrimestre</th>\n",
              "      <th>anio</th>\n",
              "      <th>hora_discretizada</th>\n",
              "      <th>dni_discretizado</th>\n",
              "      <th>legajo_discretizado</th>\n",
              "      <th>posee_legajo</th>\n",
              "      <th>posee_telefono</th>\n",
              "      <th>carrera_valor</th>\n",
              "      <th>proveedor_correo</th>\n",
              "      <th>cantidad_caracteres</th>\n",
              "      <th>proporcion_mayusculas</th>\n",
              "      <th>proporcion_letras</th>\n",
              "      <th>cantidad_tildes</th>\n",
              "      <th>cantidad_palabras</th>\n",
              "      <th>cantidad_palabras_cortas</th>\n",
              "      <th>proporcion_palabras_distintas</th>\n",
              "      <th>frecuencia_signos_puntuacion</th>\n",
              "      <th>cantidad_oraciones</th>\n",
              "      <th>utiliza_codigo_asignatura</th>\n",
              "      <th>score</th>\n",
              "      <th>clase</th>\n",
              "    </tr>\n",
              "  </thead>\n",
              "  <tbody>\n",
              "    <tr>\n",
              "      <th>0</th>\n",
              "      <td>hola soy del plan 1506 debo un seminario optat...</td>\n",
              "      <td>1</td>\n",
              "      <td>1</td>\n",
              "      <td>12</td>\n",
              "      <td>2</td>\n",
              "      <td>2015</td>\n",
              "      <td>1</td>\n",
              "      <td>2</td>\n",
              "      <td>2</td>\n",
              "      <td>1</td>\n",
              "      <td>1</td>\n",
              "      <td>15</td>\n",
              "      <td>3</td>\n",
              "      <td>85</td>\n",
              "      <td>0.0</td>\n",
              "      <td>0.752941</td>\n",
              "      <td>0</td>\n",
              "      <td>18</td>\n",
              "      <td>14</td>\n",
              "      <td>0.944444</td>\n",
              "      <td>0.000000</td>\n",
              "      <td>1</td>\n",
              "      <td>0</td>\n",
              "      <td>44.948840</td>\n",
              "      <td>Boleto Universitario</td>\n",
              "    </tr>\n",
              "    <tr>\n",
              "      <th>1</th>\n",
              "      <td>hola, hice hace un mes y algo el tramite onlin...</td>\n",
              "      <td>4</td>\n",
              "      <td>1</td>\n",
              "      <td>5</td>\n",
              "      <td>1</td>\n",
              "      <td>2019</td>\n",
              "      <td>1</td>\n",
              "      <td>8</td>\n",
              "      <td>4</td>\n",
              "      <td>1</td>\n",
              "      <td>1</td>\n",
              "      <td>3</td>\n",
              "      <td>2</td>\n",
              "      <td>237</td>\n",
              "      <td>0.0</td>\n",
              "      <td>0.797468</td>\n",
              "      <td>1</td>\n",
              "      <td>43</td>\n",
              "      <td>25</td>\n",
              "      <td>0.837209</td>\n",
              "      <td>0.021097</td>\n",
              "      <td>2</td>\n",
              "      <td>0</td>\n",
              "      <td>37.032795</td>\n",
              "      <td>Boleto Universitario</td>\n",
              "    </tr>\n",
              "    <tr>\n",
              "      <th>2</th>\n",
              "      <td>hola, en la página dice que tengo asignado el ...</td>\n",
              "      <td>1</td>\n",
              "      <td>3</td>\n",
              "      <td>10</td>\n",
              "      <td>2</td>\n",
              "      <td>2019</td>\n",
              "      <td>3</td>\n",
              "      <td>7</td>\n",
              "      <td>4</td>\n",
              "      <td>1</td>\n",
              "      <td>0</td>\n",
              "      <td>3</td>\n",
              "      <td>2</td>\n",
              "      <td>207</td>\n",
              "      <td>0.0</td>\n",
              "      <td>0.816425</td>\n",
              "      <td>2</td>\n",
              "      <td>35</td>\n",
              "      <td>17</td>\n",
              "      <td>0.885714</td>\n",
              "      <td>0.019324</td>\n",
              "      <td>1</td>\n",
              "      <td>0</td>\n",
              "      <td>34.819030</td>\n",
              "      <td>Boleto Universitario</td>\n",
              "    </tr>\n",
              "    <tr>\n",
              "      <th>3</th>\n",
              "      <td>hola que tal?, buenos días.  quería consultar ...</td>\n",
              "      <td>4</td>\n",
              "      <td>2</td>\n",
              "      <td>7</td>\n",
              "      <td>1</td>\n",
              "      <td>2018</td>\n",
              "      <td>0</td>\n",
              "      <td>8</td>\n",
              "      <td>4</td>\n",
              "      <td>1</td>\n",
              "      <td>1</td>\n",
              "      <td>43</td>\n",
              "      <td>2</td>\n",
              "      <td>425</td>\n",
              "      <td>0.0</td>\n",
              "      <td>0.800000</td>\n",
              "      <td>3</td>\n",
              "      <td>75</td>\n",
              "      <td>38</td>\n",
              "      <td>0.773333</td>\n",
              "      <td>0.025882</td>\n",
              "      <td>7</td>\n",
              "      <td>0</td>\n",
              "      <td>33.004196</td>\n",
              "      <td>Boleto Universitario</td>\n",
              "    </tr>\n",
              "    <tr>\n",
              "      <th>4</th>\n",
              "      <td>yo hace casi un mes hice el tramite para la su...</td>\n",
              "      <td>0</td>\n",
              "      <td>5</td>\n",
              "      <td>7</td>\n",
              "      <td>1</td>\n",
              "      <td>2018</td>\n",
              "      <td>3</td>\n",
              "      <td>8</td>\n",
              "      <td>4</td>\n",
              "      <td>1</td>\n",
              "      <td>1</td>\n",
              "      <td>3</td>\n",
              "      <td>2</td>\n",
              "      <td>299</td>\n",
              "      <td>0.0</td>\n",
              "      <td>0.799331</td>\n",
              "      <td>0</td>\n",
              "      <td>56</td>\n",
              "      <td>33</td>\n",
              "      <td>0.785714</td>\n",
              "      <td>0.016722</td>\n",
              "      <td>3</td>\n",
              "      <td>0</td>\n",
              "      <td>32.668217</td>\n",
              "      <td>Boleto Universitario</td>\n",
              "    </tr>\n",
              "  </tbody>\n",
              "</table>\n",
              "</div>"
            ],
            "text/plain": [
              "                                            consulta  ...                 clase\n",
              "0  hola soy del plan 1506 debo un seminario optat...  ...  Boleto Universitario\n",
              "1  hola, hice hace un mes y algo el tramite onlin...  ...  Boleto Universitario\n",
              "2  hola, en la página dice que tengo asignado el ...  ...  Boleto Universitario\n",
              "3  hola que tal?, buenos días.  quería consultar ...  ...  Boleto Universitario\n",
              "4  yo hace casi un mes hice el tramite para la su...  ...  Boleto Universitario\n",
              "\n",
              "[5 rows x 25 columns]"
            ]
          },
          "metadata": {
            "tags": []
          },
          "execution_count": 505
        }
      ]
    },
    {
      "cell_type": "markdown",
      "metadata": {
        "id": "BO_wCMJfs95e"
      },
      "source": [
        "10. Guardo el csv procesado:"
      ]
    },
    {
      "cell_type": "code",
      "metadata": {
        "colab": {
          "base_uri": "https://localhost:8080/"
        },
        "id": "9YmtjSkxs86i",
        "outputId": "a25851fa-9460-4661-82e7-fb23f5fa3344"
      },
      "source": [
        "from google.colab import drive\n",
        "drive.mount('drive')\n",
        "\n",
        "file_save = f'dataset-{TECNICA}-{INSTANCIAS}{BOOSTING}-prep.csv' \n",
        "df.to_csv(file_save, index=False)\n",
        "\n",
        "!cp $file_save \"drive/My Drive/jaiio-prep/\""
      ],
      "execution_count": 506,
      "outputs": [
        {
          "output_type": "stream",
          "text": [
            "Drive already mounted at drive; to attempt to forcibly remount, call drive.mount(\"drive\", force_remount=True).\n"
          ],
          "name": "stdout"
        }
      ]
    }
  ]
}