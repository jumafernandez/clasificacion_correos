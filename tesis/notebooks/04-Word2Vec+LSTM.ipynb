{
  "nbformat": 4,
  "nbformat_minor": 0,
  "metadata": {
    "kernelspec": {
      "display_name": "Python 3",
      "language": "python",
      "name": "python3"
    },
    "language_info": {
      "codemirror_mode": {
        "name": "ipython",
        "version": 3
      },
      "file_extension": ".py",
      "mimetype": "text/x-python",
      "name": "python",
      "nbconvert_exporter": "python",
      "pygments_lexer": "ipython3",
      "version": "3.7.5"
    },
    "colab": {
      "name": "02-Word2Vec+LSTM.ipynb",
      "provenance": [],
      "collapsed_sections": [],
      "toc_visible": true,
      "include_colab_link": true
    }
  },
  "cells": [
    {
      "cell_type": "markdown",
      "metadata": {
        "id": "view-in-github",
        "colab_type": "text"
      },
      "source": [
        "<a href=\"https://colab.research.google.com/github/jumafernandez/clasificacion_correos/blob/main/notebooks/jcc/02-Word2Vec%2BLSTM.ipynb\" target=\"_parent\"><img src=\"https://colab.research.google.com/assets/colab-badge.svg\" alt=\"Open In Colab\"/></a>"
      ]
    },
    {
      "cell_type": "markdown",
      "metadata": {
        "id": "OPlN-I2S8h5a"
      },
      "source": [
        "# Word2Vec+LSTM\n",
        "\n",
        "En esta notebook, se entrena y prueba la clasificación de oraciones usando LSTM y Word2Vec pre-entrenado.\n",
        "\n",
        "El principal beneficio de la incrustación de palabras es que incluso las palabras que no se ven durante el entrenamiento se pueden predecir bien ya que la incrustación de palabras está pre-entrenada con un conjunto de datos más grande que los del dataset actual.\n"
      ]
    },
    {
      "cell_type": "markdown",
      "metadata": {
        "id": "lEytdZIxFEhM"
      },
      "source": [
        "## Instalación y Carga de librerías, modelo word2vec pre-entrenado y funciones útiles\n",
        "\n",
        "### Instalación de librerías\n",
        "\n",
        "Se instalan las librerías que no están en el entorno de Google Colab"
      ]
    },
    {
      "cell_type": "code",
      "metadata": {
        "colab": {
          "base_uri": "https://localhost:8080/"
        },
        "id": "Y-1Le1sYikgt",
        "outputId": "6a961293-739c-43c6-b27e-871e3f85753f"
      },
      "source": [
        "# Se instala gensim que es el que tiene el modelo Word2Vec\n",
        "!pip install gensim\n",
        "!pip install requests\n",
        "!pip install wget"
      ],
      "execution_count": 1,
      "outputs": [
        {
          "output_type": "stream",
          "name": "stdout",
          "text": [
            "Requirement already satisfied: gensim in /usr/local/lib/python3.7/dist-packages (3.6.0)\n",
            "Requirement already satisfied: smart-open>=1.2.1 in /usr/local/lib/python3.7/dist-packages (from gensim) (5.2.1)\n",
            "Requirement already satisfied: scipy>=0.18.1 in /usr/local/lib/python3.7/dist-packages (from gensim) (1.4.1)\n",
            "Requirement already satisfied: numpy>=1.11.3 in /usr/local/lib/python3.7/dist-packages (from gensim) (1.19.5)\n",
            "Requirement already satisfied: six>=1.5.0 in /usr/local/lib/python3.7/dist-packages (from gensim) (1.15.0)\n",
            "Requirement already satisfied: requests in /usr/local/lib/python3.7/dist-packages (2.23.0)\n",
            "Requirement already satisfied: idna<3,>=2.5 in /usr/local/lib/python3.7/dist-packages (from requests) (2.10)\n",
            "Requirement already satisfied: certifi>=2017.4.17 in /usr/local/lib/python3.7/dist-packages (from requests) (2021.5.30)\n",
            "Requirement already satisfied: urllib3!=1.25.0,!=1.25.1,<1.26,>=1.21.1 in /usr/local/lib/python3.7/dist-packages (from requests) (1.24.3)\n",
            "Requirement already satisfied: chardet<4,>=3.0.2 in /usr/local/lib/python3.7/dist-packages (from requests) (3.0.4)\n",
            "Requirement already satisfied: wget in /usr/local/lib/python3.7/dist-packages (3.2)\n"
          ]
        }
      ]
    },
    {
      "cell_type": "markdown",
      "metadata": {
        "id": "Cs_qgHr0FRBm"
      },
      "source": [
        "### Funciones útiles\n",
        "\n",
        "Se cargan funciones útiles desde el repo https://github.com/jumafernandez/clasificacion_correos para la carga y balanceo del dataset."
      ]
    },
    {
      "cell_type": "code",
      "metadata": {
        "id": "mamfYGa5CGBD"
      },
      "source": [
        "import requests\n",
        "\n",
        "# Se hace el request del raw del script python\n",
        "url = 'https://raw.githubusercontent.com/jumafernandez/clasificacion_correos/main/scripts/jcc/funciones_dataset.py'\n",
        "r = requests.get(url)\n",
        "\n",
        "# Se guarda en el working directory\n",
        "with open('funciones_dataset.py', 'w') as f:\n",
        "    f.write(r.text)\n",
        "\n",
        "# Se importan las funciones a utilizar\n",
        "from funciones_dataset import get_clases, cargar_dataset, separar_x_y_rna"
      ],
      "execution_count": 2,
      "outputs": []
    },
    {
      "cell_type": "markdown",
      "metadata": {
        "id": "TOOEJ6BNtyaG"
      },
      "source": [
        "También se carga la función para preprocesar el texto que se usó en los otros modelos desde el repo: https://github.com/jumafernandez/clasificacion_correos."
      ]
    },
    {
      "cell_type": "code",
      "metadata": {
        "id": "mHpxs0XhtzfH"
      },
      "source": [
        "import requests\n",
        "\n",
        "# Se hace el request del raw del script python\n",
        "url = 'https://raw.githubusercontent.com/jumafernandez/clasificacion_correos/main/scripts/jcc/funciones_preprocesamiento.py'\n",
        "r = requests.get(url)\n",
        "\n",
        "# Se guarda en el working directory\n",
        "with open('funciones_preprocesamiento.py', 'w') as f:\n",
        "    f.write(r.text)\n",
        "\n",
        "# Se importan las funciones a utilizar\n",
        "from funciones_preprocesamiento import preprocesar_correos, get_max_length"
      ],
      "execution_count": 3,
      "outputs": []
    },
    {
      "cell_type": "markdown",
      "metadata": {
        "id": "4TCKkThoFhfQ"
      },
      "source": [
        "### Carga del modelo de embeddings pre-entrenado que se va a utilizar\n",
        "\n",
        "Se trabaja con tres modelos de embeddings: Word2Vec, Glove y FastText.\n",
        "\n",
        "__Referencias:__ https://github.com/dccuchile/spanish-word-embeddings."
      ]
    },
    {
      "cell_type": "code",
      "metadata": {
        "id": "betQcIyBSHzL"
      },
      "source": [
        "from os import path\n",
        "import gensim\n",
        "\n",
        "EMBEDDINGS = 'Word2Vec'\n",
        "\n",
        "if EMBEDDINGS == 'Word2Vec':\n",
        "  PATH_EMBEDDINGS = 'http://cs.famaf.unc.edu.ar/~ccardellino/SBWCE/SBW-vectors-300-min5.bin.gz'\n",
        "  FILENAME_EMBEDDINGS = 'SBW-vectors-300-min5.bin.gz'\n",
        "  DIM_EMBEDDINGS = 300\n",
        "  # Se descarga solo si no están en el working directory. \n",
        "  if not(path.exists(FILENAME_EMBEDDINGS)):\n",
        "    import wget\n",
        "    wget.download(PATH_EMBEDDINGS)\n",
        "  # Cargo el modelo de embeddings\n",
        "  from gensim.models import Word2Vec\n",
        "  embeddings = gensim.models.KeyedVectors.load_word2vec_format(FILENAME_EMBEDDINGS, binary=True)\n",
        "\n",
        "# Se normalizan los pesos de los vectores\n",
        "embeddings.init_sims(replace=True)"
      ],
      "execution_count": 4,
      "outputs": []
    },
    {
      "cell_type": "markdown",
      "metadata": {
        "id": "1LiWpDyvI9L7"
      },
      "source": [
        "### Se cargan funciones que se utilizan para el pre-procesamiento de las secuencias"
      ]
    },
    {
      "cell_type": "code",
      "metadata": {
        "id": "Wa85mDxHFQIw"
      },
      "source": [
        "def embed(texts, dim_embeddings):\n",
        "  \"\"\"\n",
        "  devuelve un tensor de tensores con los embedding de las palabras\n",
        "  para usar en la red LSTM\n",
        "  \"\"\"\n",
        "  import tensorflow as tf\n",
        "  import numpy as np\n",
        "\n",
        "  # Inicializo el tensor principal con un array de (1, dim_embeddings) de ceros\n",
        "  tensor_principal = tf.convert_to_tensor(np.zeros((1, dim_embeddings)), dtype=tf.float32)\n",
        "  iteration = 0\n",
        "  for word in texts:  \n",
        "    try:\n",
        "      e = tf.convert_to_tensor(np.reshape(embeddings.get_vector(word), (1, dim_embeddings)), dtype=tf.float32)\n",
        "    except:\n",
        "      e = tf.convert_to_tensor(np.zeros((1, dim_embeddings)), dtype=tf.float32)\n",
        "    if iteration==0:\n",
        "      tensor_principal = e\n",
        "    else:\n",
        "      tensor_principal = tf.concat([tensor_principal, e], 0)\n",
        "    iteration = iteration+1\n",
        "    \n",
        "  return tensor_principal\n",
        "\n",
        "\n",
        "def get_word2vec_enc(texts, dim_embeddings):\n",
        "    \"\"\"\n",
        "    recibe todos los textos y devuelve una array numpy de tensores de correos\n",
        "    cada tensor tiene tensores con el embedding de cada palabras\n",
        "    \"\"\"\n",
        "    encoded_texts = []\n",
        "    for text in texts:\n",
        "        tokens = text.split(\" \")\n",
        "        word2vec_embedding = embed(tokens, dim_embeddings)\n",
        "        encoded_texts.append(word2vec_embedding)\n",
        "    return encoded_texts\n",
        "        \n",
        "def get_padded_encoded_text(encoded_text, max_length, dim_embeddings):\n",
        "    \"\"\"\n",
        "    para frases cortas se rellena con ceros el array a efectos de contar con la\n",
        "    misma longitud\n",
        "    \"\"\"\n",
        "    import numpy as np\n",
        "\n",
        "    padded_text_encoding = []\n",
        "    for enc_text in encoded_text:\n",
        "\n",
        "        zero_padding_cnt = max_length - enc_text.shape[0]\n",
        "        pad = np.zeros((1, dim_embeddings))\n",
        "        for i in range(zero_padding_cnt):\n",
        "            enc_text = np.concatenate((pad, enc_text), axis=0)\n",
        "        padded_text_encoding.append(enc_text)\n",
        "    return padded_text_encoding\n",
        "\n",
        "def category_encode(category):\n",
        "    \"\"\"\n",
        "    Se encodea la clase en variables dummies\n",
        "    \"\"\"\n",
        "    import pandas as pd\n",
        "    import numpy as np\n",
        "    dummies = pd.get_dummies(category)\n",
        "    decode_labels = np.array(dummies.columns)\n",
        "    matriz = dummies.to_numpy()\n",
        "    return matriz, decode_labels\n",
        "\n",
        "\n",
        "def preprocess(x, y, max_length, dim_embeddings):\n",
        "    \"\"\"\n",
        "    se encodean x e y llamando a las funciones get_word2_vec_enc, \n",
        "    get_padded_encoded_text y category_encode\n",
        "    \"\"\"\n",
        "    import numpy as np\n",
        "    # encode words into word2vec\n",
        "    text = x.tolist()\n",
        "    \n",
        "    encoded_text = get_word2vec_enc(text, dim_embeddings)\n",
        "    padded_encoded_text = get_padded_encoded_text(encoded_text, max_length, dim_embeddings)\n",
        "    \n",
        "    X = np.array(padded_encoded_text)\n",
        "    Y, decode_category = category_encode(y)\n",
        "    return X, Y, decode_category"
      ],
      "execution_count": 5,
      "outputs": []
    },
    {
      "cell_type": "markdown",
      "metadata": {
        "id": "KLuy6KynWQRK"
      },
      "source": [
        "### Carga de datos\n",
        "\n",
        "Se carga el dataframe en memoria con el preprocesamiento de los datos:"
      ]
    },
    {
      "cell_type": "code",
      "metadata": {
        "id": "522WsoM6q73w",
        "colab": {
          "base_uri": "https://localhost:8080/"
        },
        "outputId": "7b4f18f7-e92e-454a-8a3a-4bfde4c65cb5"
      },
      "source": [
        "import warnings\n",
        "warnings.filterwarnings(\"ignore\")\n",
        "\n",
        "# Constantes con los datos\n",
        "DS_DIR = 'https://raw.githubusercontent.com/jumafernandez/clasificacion_correos/main/data/consolidado_jcc/'\n",
        "TRAIN_FILE = 'correos-train-80.csv'\n",
        "TEST_FILE = 'correos-test-20.csv'\n",
        "\n",
        "# Chequeo sobre si los archivos están en el working directory\n",
        "download_files = not(path.exists(TRAIN_FILE))\n",
        "\n",
        "etiquetas = get_clases()\n",
        "\n",
        "# Defino la cantidad de clases a utilizar\n",
        "CANTIDAD_CLASES = len(etiquetas)\n",
        "\n",
        "train_df, test_df, etiquetas = cargar_dataset(DS_DIR, TRAIN_FILE, TEST_FILE, download_files, 'clase', etiquetas, CANTIDAD_CLASES, 'Otras Consultas')\n",
        "\n",
        "# Se ejecuta el preprocesamiento de correos sobre el campo Consulta de train y test\n",
        "import pandas as pd\n",
        "train_df['Consulta'] = pd.Series(preprocesar_correos(train_df['Consulta']))\n",
        "test_df['Consulta'] = pd.Series(preprocesar_correos(test_df['Consulta']))\n",
        "\n",
        "# Cambio los integers por las etiquetas\n",
        "train_df['clase'] = etiquetas[train_df['clase']]\n",
        "test_df['clase'] = etiquetas[test_df['clase']]\n",
        "\n",
        "# Las vuelvo a pasar a números 0-N para evitar conflictos con simpletransformers\n",
        "# Este paso está fijo para estos experimentos\n",
        "dict_clases_id = {'Otras Consultas': 0,\n",
        "                            'Ingreso a la Universidad': 1,\n",
        "                            'Boleto Universitario': 2,\n",
        "                            'Requisitos de Ingreso': 3}\n",
        "\n",
        "#train_df['clase'].replace(dict_clases_id, inplace=True)\n",
        "#test_df['clase'].replace(dict_clases_id, inplace=True)\n",
        "\n",
        "# Muestro salida por consola\n",
        "print('Existen {} clases: {}.'.format(len(train_df.clase.unique()), train_df.clase.unique()))\n",
        "\n",
        "# Separo en train y test\n",
        "x_train, y_train = separar_x_y_rna(train_df, 'Consulta', 'clase')\n",
        "x_test, y_test = separar_x_y_rna(test_df, 'Consulta', 'clase')"
      ],
      "execution_count": 6,
      "outputs": [
        {
          "output_type": "stream",
          "name": "stdout",
          "text": [
            "\n",
            "El conjunto de entrenamiento tiene la dimensión: (800, 24)\n",
            "El conjunto de testeo tiene la dimensión: (200, 24)\n",
            "Existen 20 clases: ['Inscripción a Cursadas' 'Cambio de Carrera' 'Reincorporación'\n",
            " 'Ingreso a la Universidad' 'Boleto Universitario'\n",
            " 'Pedido de Certificados' 'Exámenes' 'Requisitos de Ingreso' 'Cursadas'\n",
            " 'Situación Académica' 'Vacunas Enfermería' 'Consulta por Legajo'\n",
            " 'Problemas con la Clave' 'Consulta sobre Título Universitario'\n",
            " 'Certificados Web' 'Carga de Notas' 'Otras Consultas'\n",
            " 'Cambio de Comisión' 'Consulta por Equivalencias' 'Datos Personales'].\n"
          ]
        }
      ]
    },
    {
      "cell_type": "markdown",
      "metadata": {
        "id": "APRnQBXZ8h5h"
      },
      "source": [
        "## Preprocesamiento (codificación del texto a vectores numéricos)"
      ]
    },
    {
      "cell_type": "code",
      "metadata": {
        "id": "ty8fWijE8h5h",
        "colab": {
          "base_uri": "https://localhost:8080/"
        },
        "outputId": "4cc1d149-e6d0-4adb-823c-c8ed6e7b6e12"
      },
      "source": [
        "# Largo máximo de las consultas\n",
        "max_length = get_max_length(x_train)\n",
        "print('Consulta más larga: {} palabras.'.format(max_length))\n",
        "\n",
        "# Preproceso las secuencias de texto\n",
        "x_train_processed, y_train_processed, decode_y_train = preprocess(x_train, y_train, max_length, DIM_EMBEDDINGS)\n",
        "x_test_processed, y_test_processed, decode_y_test = preprocess(x_test, y_test, max_length, DIM_EMBEDDINGS)"
      ],
      "execution_count": 7,
      "outputs": [
        {
          "output_type": "stream",
          "name": "stdout",
          "text": [
            "Consulta más larga: 43 palabras.\n"
          ]
        }
      ]
    },
    {
      "cell_type": "code",
      "metadata": {
        "colab": {
          "base_uri": "https://localhost:8080/"
        },
        "id": "2v8l_3gqrfk3",
        "outputId": "fd24d343-fc65-4cc5-a96a-12317205fcaa"
      },
      "source": [
        "decode_y_train"
      ],
      "execution_count": 8,
      "outputs": [
        {
          "output_type": "execute_result",
          "data": {
            "text/plain": [
              "array(['Boleto Universitario', 'Cambio de Carrera', 'Cambio de Comisión',\n",
              "       'Carga de Notas', 'Certificados Web', 'Consulta por Equivalencias',\n",
              "       'Consulta por Legajo', 'Consulta sobre Título Universitario',\n",
              "       'Cursadas', 'Datos Personales', 'Exámenes',\n",
              "       'Ingreso a la Universidad', 'Inscripción a Cursadas',\n",
              "       'Otras Consultas', 'Pedido de Certificados',\n",
              "       'Problemas con la Clave', 'Reincorporación',\n",
              "       'Requisitos de Ingreso', 'Situación Académica',\n",
              "       'Vacunas Enfermería'], dtype=object)"
            ]
          },
          "metadata": {},
          "execution_count": 8
        }
      ]
    },
    {
      "cell_type": "code",
      "metadata": {
        "colab": {
          "base_uri": "https://localhost:8080/"
        },
        "id": "D1aerV7FsSJn",
        "outputId": "be3c8185-5828-4909-fc16-62be6b7068a4"
      },
      "source": [
        "print('Dimensiones de x_train: {}x{}x{}.'.format(len(x_train_processed), len(x_train_processed[0]), len(x_train_processed[0][0])))"
      ],
      "execution_count": 9,
      "outputs": [
        {
          "output_type": "stream",
          "name": "stdout",
          "text": [
            "Dimensiones de x_train: 800x43x300.\n"
          ]
        }
      ]
    },
    {
      "cell_type": "markdown",
      "metadata": {
        "id": "x3S6lvYe8h5i"
      },
      "source": [
        "## Construcción del Modelo"
      ]
    },
    {
      "cell_type": "markdown",
      "metadata": {
        "id": "pLK1vSzE9AMz"
      },
      "source": [
        "### Generador de números aleatorios\n",
        "\n",
        "Se setea de manera fija la semilla para el generador de números aleatorios a efectos de que los experimentos sean reproducibles."
      ]
    },
    {
      "cell_type": "code",
      "metadata": {
        "id": "a1Zxtftg8-uJ"
      },
      "source": [
        "import tensorflow as tf\n",
        "tf.random.set_seed(1)"
      ],
      "execution_count": 10,
      "outputs": []
    },
    {
      "cell_type": "markdown",
      "metadata": {
        "id": "HTyhUXWA9oJj"
      },
      "source": [
        "### Arquitectura de LSTM\n",
        "\n",
        "Se define la arquitectura de la red LSTM:"
      ]
    },
    {
      "cell_type": "code",
      "metadata": {
        "id": "ETidgFM48h5i"
      },
      "source": [
        "from tensorflow.keras.layers import Dense, LSTM, Dropout\n",
        "from tensorflow.keras.models import Model\n",
        "from tensorflow.keras.models import Sequential\n",
        "\n",
        "# Arquitectura del modelo LSTM\n",
        "model = Sequential()\n",
        "model.add(LSTM(DIM_EMBEDDINGS, return_sequences=True))\n",
        "model.add(LSTM(DIM_EMBEDDINGS))\n",
        "model.add(Dropout(0.1))\n",
        "model.add(Dense(CANTIDAD_CLASES, activation='softmax'))\n",
        "\n",
        "model.compile(loss='categorical_crossentropy',\n",
        "              optimizer='adam',\n",
        "              metrics=['accuracy'])"
      ],
      "execution_count": 11,
      "outputs": []
    },
    {
      "cell_type": "markdown",
      "metadata": {
        "id": "2IcqosK98h5j"
      },
      "source": [
        "### Entrenamiento del modelo"
      ]
    },
    {
      "cell_type": "code",
      "metadata": {
        "id": "2nRmzS8w8h5j",
        "colab": {
          "base_uri": "https://localhost:8080/"
        },
        "outputId": "60b640fe-d583-4f35-c7d4-919f661eb07b"
      },
      "source": [
        "print('Train...')\n",
        "lstm_model = model.fit(x_train_processed, \n",
        "                       y_train_processed, \n",
        "                       batch_size=64, \n",
        "                       epochs=20, \n",
        "                       verbose=1, \n",
        "                       validation_data=(x_test_processed, y_test_processed))"
      ],
      "execution_count": 12,
      "outputs": [
        {
          "output_type": "stream",
          "name": "stdout",
          "text": [
            "Train...\n",
            "Epoch 1/20\n",
            "13/13 [==============================] - 15s 816ms/step - loss: 2.4762 - accuracy: 0.2362 - val_loss: 2.3330 - val_accuracy: 0.2400\n",
            "Epoch 2/20\n",
            "13/13 [==============================] - 10s 751ms/step - loss: 2.2475 - accuracy: 0.3175 - val_loss: 2.1167 - val_accuracy: 0.3850\n",
            "Epoch 3/20\n",
            "13/13 [==============================] - 10s 764ms/step - loss: 1.9844 - accuracy: 0.4425 - val_loss: 1.8663 - val_accuracy: 0.4500\n",
            "Epoch 4/20\n",
            "13/13 [==============================] - 10s 761ms/step - loss: 1.7350 - accuracy: 0.5125 - val_loss: 1.6896 - val_accuracy: 0.4750\n",
            "Epoch 5/20\n",
            "13/13 [==============================] - 11s 818ms/step - loss: 1.5474 - accuracy: 0.5575 - val_loss: 1.6129 - val_accuracy: 0.5700\n",
            "Epoch 6/20\n",
            "13/13 [==============================] - 10s 754ms/step - loss: 1.5929 - accuracy: 0.5462 - val_loss: 1.5220 - val_accuracy: 0.5450\n",
            "Epoch 7/20\n",
            "13/13 [==============================] - 10s 762ms/step - loss: 1.4347 - accuracy: 0.5938 - val_loss: 1.5812 - val_accuracy: 0.5450\n",
            "Epoch 8/20\n",
            "13/13 [==============================] - 10s 729ms/step - loss: 1.3173 - accuracy: 0.6263 - val_loss: 1.4113 - val_accuracy: 0.5750\n",
            "Epoch 9/20\n",
            "13/13 [==============================] - 10s 745ms/step - loss: 1.2074 - accuracy: 0.6425 - val_loss: 1.3939 - val_accuracy: 0.5800\n",
            "Epoch 10/20\n",
            "13/13 [==============================] - 9s 730ms/step - loss: 1.1506 - accuracy: 0.6687 - val_loss: 1.3192 - val_accuracy: 0.6100\n",
            "Epoch 11/20\n",
            "13/13 [==============================] - 10s 750ms/step - loss: 1.0379 - accuracy: 0.6775 - val_loss: 1.4806 - val_accuracy: 0.5800\n",
            "Epoch 12/20\n",
            "13/13 [==============================] - 10s 735ms/step - loss: 0.9893 - accuracy: 0.7175 - val_loss: 1.3494 - val_accuracy: 0.5900\n",
            "Epoch 13/20\n",
            "13/13 [==============================] - 10s 744ms/step - loss: 0.9884 - accuracy: 0.7100 - val_loss: 1.3398 - val_accuracy: 0.6300\n",
            "Epoch 14/20\n",
            "13/13 [==============================] - 10s 770ms/step - loss: 0.9078 - accuracy: 0.7212 - val_loss: 1.3073 - val_accuracy: 0.6350\n",
            "Epoch 15/20\n",
            "13/13 [==============================] - 10s 777ms/step - loss: 0.7934 - accuracy: 0.7575 - val_loss: 1.3098 - val_accuracy: 0.6250\n",
            "Epoch 16/20\n",
            "13/13 [==============================] - 10s 741ms/step - loss: 0.7308 - accuracy: 0.7638 - val_loss: 1.4716 - val_accuracy: 0.6200\n",
            "Epoch 17/20\n",
            "13/13 [==============================] - 9s 731ms/step - loss: 0.7730 - accuracy: 0.7700 - val_loss: 1.5790 - val_accuracy: 0.5850\n",
            "Epoch 18/20\n",
            "13/13 [==============================] - 9s 713ms/step - loss: 0.7277 - accuracy: 0.7800 - val_loss: 1.4066 - val_accuracy: 0.6250\n",
            "Epoch 19/20\n",
            "13/13 [==============================] - 10s 743ms/step - loss: 0.6810 - accuracy: 0.7862 - val_loss: 1.3197 - val_accuracy: 0.6300\n",
            "Epoch 20/20\n",
            "13/13 [==============================] - 10s 747ms/step - loss: 0.6777 - accuracy: 0.7713 - val_loss: 1.4695 - val_accuracy: 0.6300\n"
          ]
        }
      ]
    },
    {
      "cell_type": "markdown",
      "metadata": {
        "id": "Y0ANhS-X1KKR"
      },
      "source": [
        "Resumen de la arquitectura del modelo:"
      ]
    },
    {
      "cell_type": "code",
      "metadata": {
        "id": "_1z-AzYl8h5j",
        "colab": {
          "base_uri": "https://localhost:8080/"
        },
        "outputId": "d5e3d5a7-d55b-4d67-b27c-219055770564"
      },
      "source": [
        "model.summary()"
      ],
      "execution_count": 13,
      "outputs": [
        {
          "output_type": "stream",
          "name": "stdout",
          "text": [
            "Model: \"sequential\"\n",
            "_________________________________________________________________\n",
            "Layer (type)                 Output Shape              Param #   \n",
            "=================================================================\n",
            "lstm (LSTM)                  (None, 43, 300)           721200    \n",
            "_________________________________________________________________\n",
            "lstm_1 (LSTM)                (None, 300)               721200    \n",
            "_________________________________________________________________\n",
            "dropout (Dropout)            (None, 300)               0         \n",
            "_________________________________________________________________\n",
            "dense (Dense)                (None, 20)                6020      \n",
            "=================================================================\n",
            "Total params: 1,448,420\n",
            "Trainable params: 1,448,420\n",
            "Non-trainable params: 0\n",
            "_________________________________________________________________\n"
          ]
        }
      ]
    },
    {
      "cell_type": "markdown",
      "metadata": {
        "id": "w3NxigbK1gNO"
      },
      "source": [
        "Imagen con la arquitectura del modelo:"
      ]
    },
    {
      "cell_type": "code",
      "metadata": {
        "colab": {
          "base_uri": "https://localhost:8080/",
          "height": 533
        },
        "id": "CH2sgo491i3-",
        "outputId": "0bb48f7a-5fbd-4209-866a-739a68224a17"
      },
      "source": [
        "from keras.utils.vis_utils import plot_model\n",
        "\n",
        "plot_model(model, to_file='model_plot.png', show_shapes=True, show_layer_names=True)"
      ],
      "execution_count": 14,
      "outputs": [
        {
          "output_type": "execute_result",
          "data": {
            "image/png": "[encoded data removed]",
            "text/plain": [
              "<IPython.core.display.Image object>"
            ]
          },
          "metadata": {},
          "execution_count": 14
        }
      ]
    },
    {
      "cell_type": "markdown",
      "metadata": {
        "id": "IpAesm--8h5k"
      },
      "source": [
        "### Testeo del Modelo"
      ]
    },
    {
      "cell_type": "code",
      "metadata": {
        "id": "gmNeuOIp8h5k",
        "colab": {
          "base_uri": "https://localhost:8080/"
        },
        "outputId": "f50300a7-fb0d-4dca-bf27-e45930975247"
      },
      "source": [
        "results = model.evaluate(x_test_processed, y_test_processed, batch_size=128)"
      ],
      "execution_count": 15,
      "outputs": [
        {
          "output_type": "stream",
          "name": "stdout",
          "text": [
            "2/2 [==============================] - 1s 282ms/step - loss: 1.4695 - accuracy: 0.6300\n"
          ]
        }
      ]
    },
    {
      "cell_type": "markdown",
      "metadata": {
        "id": "qxnIX8HM7gwb"
      },
      "source": [
        "### Gráfico de la evolución de epochs vs accuracy/loss"
      ]
    },
    {
      "cell_type": "code",
      "metadata": {
        "colab": {
          "base_uri": "https://localhost:8080/",
          "height": 573
        },
        "id": "LDcTT6yp1VQp",
        "outputId": "e3c82c4c-cb96-497d-c83b-e160c48827f7"
      },
      "source": [
        "import matplotlib.pyplot as plt\n",
        "\n",
        "plt.plot(lstm_model.history['accuracy'])\n",
        "plt.plot(lstm_model.history['val_accuracy'])\n",
        "\n",
        "plt.title('model accuracy')\n",
        "plt.ylabel('accuracy')\n",
        "plt.xlabel('epoch')\n",
        "plt.legend(['train','test'], loc='upper left')\n",
        "plt.show()\n",
        "\n",
        "plt.plot(lstm_model.history['loss'])\n",
        "plt.plot(lstm_model.history['val_loss'])\n",
        "\n",
        "plt.title('model loss')\n",
        "plt.ylabel('loss')\n",
        "plt.xlabel('epoch')\n",
        "plt.legend(['train','test'], loc='upper left')\n",
        "plt.show()"
      ],
      "execution_count": 16,
      "outputs": [
        {
          "output_type": "display_data",
          "data": {
            "image/png": "[encoded data removed]",
            "text/plain": [
              "<Figure size 432x288 with 1 Axes>"
            ]
          },
          "metadata": {
            "needs_background": "light"
          }
        },
        {
          "output_type": "display_data",
          "data": {
            "image/png": "[encoded data removed]",
            "text/plain": [
              "<Figure size 432x288 with 1 Axes>"
            ]
          },
          "metadata": {
            "needs_background": "light"
          }
        }
      ]
    },
    {
      "cell_type": "markdown",
      "metadata": {
        "id": "4aRvDeoP7TzZ"
      },
      "source": [
        "### Métricas para las JCC-UNLP\n",
        "\n",
        "A continuación se generan las métricas para el paper de JCC-UNLP:"
      ]
    },
    {
      "cell_type": "code",
      "metadata": {
        "colab": {
          "base_uri": "https://localhost:8080/"
        },
        "id": "QrSPsBJg7dki",
        "outputId": "dd8c1735-ec6d-429f-8c5e-e7fe6422e778"
      },
      "source": [
        "# Evaluamos el modelo\n",
        "import pandas as pd\n",
        "import numpy as np\n",
        "from sklearn.metrics import accuracy_score, precision_score, recall_score, f1_score, matthews_corrcoef\n",
        "\n",
        "y_pred_proba = model.predict(x_test_processed, batch_size=64, verbose=1)\n",
        "y_pred_label = np.argmax(y_pred_proba, axis=1)"
      ],
      "execution_count": 17,
      "outputs": [
        {
          "output_type": "stream",
          "name": "stdout",
          "text": [
            "4/4 [==============================] - 2s 189ms/step\n"
          ]
        }
      ]
    },
    {
      "cell_type": "code",
      "metadata": {
        "id": "8Lz6QuOqqVW2"
      },
      "source": [
        "# Transformo los índices en etiquetas\n",
        "\n",
        "y_pred_label = decode_y_train[y_pred_label]"
      ],
      "execution_count": 18,
      "outputs": []
    },
    {
      "cell_type": "code",
      "metadata": {
        "colab": {
          "base_uri": "https://localhost:8080/"
        },
        "id": "Fhp0b8xzAdrW",
        "outputId": "f6122c8b-7576-4dbb-f255-d0ab7b946f65"
      },
      "source": [
        "# Calculo las métricas sobre test para el paper\n",
        "acc_test = accuracy_score(y_test, y_pred_label)\n",
        "precision_test = precision_score(y_test, y_pred_label, average='weighted')\n",
        "recall_test = recall_score(y_test, y_pred_label, average='weighted')\n",
        "f1_test = f1_score(y_test, y_pred_label, average='weighted')\n",
        "mcc_test = matthews_corrcoef(y_test, y_pred_label)\n",
        "\n",
        "# Genero un diccionario con los parámetro y el acc en test\n",
        "dict_test = {}\n",
        "dict_test['clasificador'] = 'LSTM'\n",
        "dict_test['accuracy'] = acc_test\n",
        "dict_test['precision'] = precision_test\n",
        "dict_test['recall'] = recall_test\n",
        "dict_test['f1_score'] = f1_test\n",
        "dict_test['mcc'] = mcc_test\n",
        " \n",
        "# Paso el diccionario a dataframe y lo guardo en un archivo con fecha/hora\n",
        "results_test = pd.DataFrame([dict_test])\n",
        "print(results_test)"
      ],
      "execution_count": 19,
      "outputs": [
        {
          "output_type": "stream",
          "name": "stdout",
          "text": [
            "  clasificador  accuracy  precision  recall  f1_score       mcc\n",
            "0         LSTM      0.63   0.627426    0.63  0.608874  0.565714\n"
          ]
        }
      ]
    }
  ]
}